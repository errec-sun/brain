{
  "nbformat": 4,
  "nbformat_minor": 0,
  "metadata": {
    "colab": {
      "name": "Copy of Февральский курс. Pro. Занятие 2. Предсказание цен машин с Юлы",
      "provenance": [],
      "collapsed_sections": [],
      "include_colab_link": true
    },
    "kernelspec": {
      "name": "python3",
      "display_name": "Python 3"
    },
    "accelerator": "GPU"
  },
  "cells": [
    {
      "cell_type": "markdown",
      "metadata": {
        "id": "view-in-github",
        "colab_type": "text"
      },
      "source": [
        "<a href=\"https://colab.research.google.com/github/errec-sun/brain/blob/master/%20%D0%9C%D0%B0%D1%88%D0%B8%D0%BD%D1%8B%20Copy_of_%D0%A4%D0%B5%D0%B2%D1%80%D0%B0%D0%BB%D1%8C%D1%81%D0%BA%D0%B8%D0%B9_%D0%BA%D1%83%D1%80%D1%81_Pro_%D0%97%D0%B0%D0%BD%D1%8F%D1%82%D0%B8%D0%B5_2_%D0%9F%D1%80%D0%B5%D0%B4%D1%81%D0%BA%D0%B0%D0%B7%D0%B0%D0%BD%D0%B8%D0%B5_%D1%86%D0%B5%D0%BD_%D0%BC%D0%B0%D1%88%D0%B8%D0%BD_%D1%81_%D0%AE%D0%BB%D1%8B.ipynb\" target=\"_parent\"><img src=\"https://colab.research.google.com/assets/colab-badge.svg\" alt=\"Open In Colab\"/></a>"
      ]
    },
    {
      "cell_type": "code",
      "metadata": {
        "id": "rvQeueuAX4Jd",
        "colab_type": "code",
        "colab": {
          "base_uri": "https://localhost:8080/",
          "height": 63
        },
        "outputId": "99371992-a329-4414-8678-924a6be80681"
      },
      "source": [
        "import pandas as pd\n",
        "import numpy as np\n",
        "import matplotlib.pyplot as plt\n",
        "%matplotlib inline \n",
        "\n",
        "from google.colab import files\n",
        "from sklearn import preprocessing\n",
        "from sklearn.preprocessing import LabelEncoder, StandardScaler\n",
        "from tensorflow.keras.models import Sequential\n",
        "from tensorflow.keras.layers import Dense, BatchNormalization, Dropout\n",
        "from tensorflow.keras.optimizers import Adadelta, Adam\n"
      ],
      "execution_count": 1,
      "outputs": [
        {
          "output_type": "display_data",
          "data": {
            "text/html": [
              "<p style=\"color: red;\">\n",
              "The default version of TensorFlow in Colab will soon switch to TensorFlow 2.x.<br>\n",
              "We recommend you <a href=\"https://www.tensorflow.org/guide/migrate\" target=\"_blank\">upgrade</a> now \n",
              "or ensure your notebook will continue to use TensorFlow 1.x via the <code>%tensorflow_version 1.x</code> magic:\n",
              "<a href=\"https://colab.research.google.com/notebooks/tensorflow_version.ipynb\" target=\"_blank\">more info</a>.</p>\n"
            ],
            "text/plain": [
              "<IPython.core.display.HTML object>"
            ]
          },
          "metadata": {
            "tags": []
          }
        }
      ]
    },
    {
      "cell_type": "markdown",
      "metadata": {
        "id": "O10ZA-msmjvL",
        "colab_type": "text"
      },
      "source": [
        "#Загрузка данных\n",
        "\n",
        "*Разбор данного раздела:* https://youtu.be/Hm41rb1zqQo?t=7582"
      ]
    },
    {
      "cell_type": "code",
      "metadata": {
        "id": "fVAD74YJKPSc",
        "colab_type": "code",
        "outputId": "f0a65a7c-7c98-4aa9-ed1b-510f959a760e",
        "colab": {
          "resources": {
            "http://localhost:8080/nbextensions/google.colab/files.js": {
              "data": "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",
              "ok": true,
              "headers": [
                [
                  "content-type",
                  "application/javascript"
                ]
              ],
              "status": 200,
              "status_text": ""
            }
          },
          "base_uri": "https://localhost:8080/",
          "height": 92
        }
      },
      "source": [
        "#Загружаем файлы\n",
        "files.upload()\n",
        "!ls #Выводим содержимое корневой папки"
      ],
      "execution_count": 4,
      "outputs": [
        {
          "output_type": "display_data",
          "data": {
            "text/html": [
              "\n",
              "     <input type=\"file\" id=\"files-f8a7b084-cb3c-4eee-9bab-bd8172298a50\" name=\"files[]\" multiple disabled />\n",
              "     <output id=\"result-f8a7b084-cb3c-4eee-9bab-bd8172298a50\">\n",
              "      Upload widget is only available when the cell has been executed in the\n",
              "      current browser session. Please rerun this cell to enable.\n",
              "      </output>\n",
              "      <script src=\"/nbextensions/google.colab/files.js\"></script> "
            ],
            "text/plain": [
              "<IPython.core.display.HTML object>"
            ]
          },
          "metadata": {
            "tags": []
          }
        },
        {
          "output_type": "stream",
          "text": [
            "Saving cars_new for Python.csv to cars_new for Python.csv\n",
            "'cars_new for Python.csv'   sample_data\n"
          ],
          "name": "stdout"
        }
      ]
    },
    {
      "cell_type": "code",
      "metadata": {
        "id": "tX0gMyfrm67-",
        "colab_type": "code",
        "outputId": "870b5ac5-5f6a-4e6e-9c9a-33bca3ac7d57",
        "colab": {
          "base_uri": "https://localhost:8080/",
          "height": 355
        }
      },
      "source": [
        "#Считываем csv с помощью pandas\n",
        "cars = pd.read_csv('cars_new for Python.csv', sep=',')\n",
        "cars[:10] #Выводим первые 5 машин "
      ],
      "execution_count": 7,
      "outputs": [
        {
          "output_type": "execute_result",
          "data": {
            "text/html": [
              "<div>\n",
              "<style scoped>\n",
              "    .dataframe tbody tr th:only-of-type {\n",
              "        vertical-align: middle;\n",
              "    }\n",
              "\n",
              "    .dataframe tbody tr th {\n",
              "        vertical-align: top;\n",
              "    }\n",
              "\n",
              "    .dataframe thead th {\n",
              "        text-align: right;\n",
              "    }\n",
              "</style>\n",
              "<table border=\"1\" class=\"dataframe\">\n",
              "  <thead>\n",
              "    <tr style=\"text-align: right;\">\n",
              "      <th></th>\n",
              "      <th>mark</th>\n",
              "      <th>model</th>\n",
              "      <th>price</th>\n",
              "      <th>year</th>\n",
              "      <th>mileage</th>\n",
              "      <th>body</th>\n",
              "      <th>kpp</th>\n",
              "      <th>fuel</th>\n",
              "      <th>volume</th>\n",
              "      <th>power</th>\n",
              "    </tr>\n",
              "  </thead>\n",
              "  <tbody>\n",
              "    <tr>\n",
              "      <th>0</th>\n",
              "      <td>kia</td>\n",
              "      <td>cerato</td>\n",
              "      <td>996000</td>\n",
              "      <td>2018</td>\n",
              "      <td>28000</td>\n",
              "      <td>седан</td>\n",
              "      <td>автомат</td>\n",
              "      <td>бензин</td>\n",
              "      <td>2.0</td>\n",
              "      <td>150.0</td>\n",
              "    </tr>\n",
              "    <tr>\n",
              "      <th>1</th>\n",
              "      <td>daewoo</td>\n",
              "      <td>nexia 1 поколение [2-й рестайлинг]</td>\n",
              "      <td>140200</td>\n",
              "      <td>2012</td>\n",
              "      <td>60500</td>\n",
              "      <td>седан</td>\n",
              "      <td>механика</td>\n",
              "      <td>бензин</td>\n",
              "      <td>1.5</td>\n",
              "      <td>80.0</td>\n",
              "    </tr>\n",
              "    <tr>\n",
              "      <th>2</th>\n",
              "      <td>suzuki</td>\n",
              "      <td>jimny 3 поколение [рестайлинг]</td>\n",
              "      <td>750000</td>\n",
              "      <td>2011</td>\n",
              "      <td>29000</td>\n",
              "      <td>внедорожник</td>\n",
              "      <td>автомат</td>\n",
              "      <td>бензин</td>\n",
              "      <td>1.3</td>\n",
              "      <td>85.0</td>\n",
              "    </tr>\n",
              "    <tr>\n",
              "      <th>3</th>\n",
              "      <td>bmw</td>\n",
              "      <td>x1 18 e84 [рестайлинг]</td>\n",
              "      <td>970000</td>\n",
              "      <td>2014</td>\n",
              "      <td>49500</td>\n",
              "      <td>кроссовер</td>\n",
              "      <td>автомат</td>\n",
              "      <td>бензин</td>\n",
              "      <td>2.0</td>\n",
              "      <td>150.0</td>\n",
              "    </tr>\n",
              "    <tr>\n",
              "      <th>4</th>\n",
              "      <td>chevrolet</td>\n",
              "      <td>lacetti 1 поколение</td>\n",
              "      <td>205000</td>\n",
              "      <td>2007</td>\n",
              "      <td>151445</td>\n",
              "      <td>седан</td>\n",
              "      <td>механика</td>\n",
              "      <td>бензин</td>\n",
              "      <td>1.4</td>\n",
              "      <td>95.0</td>\n",
              "    </tr>\n",
              "    <tr>\n",
              "      <th>5</th>\n",
              "      <td>hyundai</td>\n",
              "      <td>creta 1 поколение</td>\n",
              "      <td>985000</td>\n",
              "      <td>2016</td>\n",
              "      <td>34067</td>\n",
              "      <td>кроссовер</td>\n",
              "      <td>автомат</td>\n",
              "      <td>бензин</td>\n",
              "      <td>2.0</td>\n",
              "      <td>150.0</td>\n",
              "    </tr>\n",
              "    <tr>\n",
              "      <th>6</th>\n",
              "      <td>kia</td>\n",
              "      <td>ceed 2 поколение</td>\n",
              "      <td>589000</td>\n",
              "      <td>2013</td>\n",
              "      <td>98000</td>\n",
              "      <td>хетчбэк</td>\n",
              "      <td>автомат</td>\n",
              "      <td>бензин</td>\n",
              "      <td>1.6</td>\n",
              "      <td>129.0</td>\n",
              "    </tr>\n",
              "    <tr>\n",
              "      <th>7</th>\n",
              "      <td>toyota</td>\n",
              "      <td>corolla e140</td>\n",
              "      <td>500000</td>\n",
              "      <td>2008</td>\n",
              "      <td>141000</td>\n",
              "      <td>седан</td>\n",
              "      <td>автомат</td>\n",
              "      <td>бензин</td>\n",
              "      <td>1.6</td>\n",
              "      <td>124.0</td>\n",
              "    </tr>\n",
              "    <tr>\n",
              "      <th>8</th>\n",
              "      <td>mercedes-benz</td>\n",
              "      <td>c-класс 180 w204/s204/c204 [рестайлинг]</td>\n",
              "      <td>1320000</td>\n",
              "      <td>2015</td>\n",
              "      <td>81112</td>\n",
              "      <td>седан</td>\n",
              "      <td>автомат</td>\n",
              "      <td>бензин</td>\n",
              "      <td>1.6</td>\n",
              "      <td>156.0</td>\n",
              "    </tr>\n",
              "    <tr>\n",
              "      <th>9</th>\n",
              "      <td>bmw</td>\n",
              "      <td>7 серия 735 e65/e66</td>\n",
              "      <td>270000</td>\n",
              "      <td>2001</td>\n",
              "      <td>300000</td>\n",
              "      <td>седан</td>\n",
              "      <td>автомат</td>\n",
              "      <td>бензин</td>\n",
              "      <td>3.6</td>\n",
              "      <td>272.0</td>\n",
              "    </tr>\n",
              "  </tbody>\n",
              "</table>\n",
              "</div>"
            ],
            "text/plain": [
              "            mark                                    model  ...  volume  power\n",
              "0            kia                                   cerato  ...     2.0  150.0\n",
              "1         daewoo       nexia 1 поколение [2-й рестайлинг]  ...     1.5   80.0\n",
              "2         suzuki           jimny 3 поколение [рестайлинг]  ...     1.3   85.0\n",
              "3            bmw                   x1 18 e84 [рестайлинг]  ...     2.0  150.0\n",
              "4      chevrolet                      lacetti 1 поколение  ...     1.4   95.0\n",
              "5        hyundai                        creta 1 поколение  ...     2.0  150.0\n",
              "6            kia                         ceed 2 поколение  ...     1.6  129.0\n",
              "7         toyota                             corolla e140  ...     1.6  124.0\n",
              "8  mercedes-benz  c-класс 180 w204/s204/c204 [рестайлинг]  ...     1.6  156.0\n",
              "9            bmw                      7 серия 735 e65/e66  ...     3.6  272.0\n",
              "\n",
              "[10 rows x 10 columns]"
            ]
          },
          "metadata": {
            "tags": []
          },
          "execution_count": 7
        }
      ]
    },
    {
      "cell_type": "code",
      "metadata": {
        "id": "hxh46Ndz4xNZ",
        "colab_type": "code",
        "outputId": "5ea02d6d-4962-4e7d-cd5d-ebcc2b974451",
        "colab": {
          "base_uri": "https://localhost:8080/",
          "height": 34
        }
      },
      "source": [
        "print(cars.values.shape)"
      ],
      "execution_count": 8,
      "outputs": [
        {
          "output_type": "stream",
          "text": [
            "(70119, 10)\n"
          ],
          "name": "stdout"
        }
      ]
    },
    {
      "cell_type": "code",
      "metadata": {
        "id": "eXlgXPAem_mi",
        "colab_type": "code",
        "colab": {}
      },
      "source": [
        "#Создаём словарь поле - его индекс\n",
        "def create_dict(s):\n",
        "  ret = {} #Создаём пустой словарь\n",
        "  for _id, name in enumerate(s): #Проходим по всем парам - id и название\n",
        "    ret.update({name: _id}) #Добавляем в словарь\n",
        "  return ret\n",
        "\n",
        "#ФУнкция преобразования в one hot encoding\n",
        "def to_ohe(value, d):\n",
        "  arr = [0] * len(d)\n",
        "  arr[d[value]] = 1\n",
        "  return arr"
      ],
      "execution_count": 0,
      "outputs": []
    },
    {
      "cell_type": "code",
      "metadata": {
        "id": "lhaCKb-3nCIi",
        "colab_type": "code",
        "colab": {}
      },
      "source": [
        "#Создаём словари по всем текстовым колонкам\n",
        "marks_dict = create_dict(set(cars['mark']))\n",
        "models_dict = create_dict(set(cars['model']))\n",
        "bodies_dict = create_dict(set(cars['body']))\n",
        "kpps_dict = create_dict(set(cars['kpp']))\n",
        "fuels_dict = create_dict(set(cars['fuel']))\n",
        "\n",
        "#Запоминаем цены\n",
        "prices = np.array(cars['price'], dtype=np.float)\n",
        "\n",
        "#Запоминаем числовые параметры\n",
        "#И нормируем\n",
        "years = preprocessing.scale(cars['year'])\n",
        "mileages = preprocessing.scale(cars['mileage'])\n",
        "volumes = preprocessing.scale(cars['volume'])\n",
        "powers = preprocessing.scale(cars['power'])"
      ],
      "execution_count": 0,
      "outputs": []
    },
    {
      "cell_type": "code",
      "metadata": {
        "id": "5MdND_2CBXmH",
        "colab_type": "code",
        "outputId": "c5f53e5d-d61c-49da-c251-3c2d673b327d",
        "colab": {
          "base_uri": "https://localhost:8080/",
          "height": 54
        }
      },
      "source": [
        "print(marks_dict)"
      ],
      "execution_count": 12,
      "outputs": [
        {
          "output_type": "stream",
          "text": [
            "{'mercedes-benz': 0, 'skoda': 1, 'hyundai': 2, 'mazda': 3, 'opel': 4, 'bmw': 5, 'volkswagen': 6, 'toyota': 7, 'suzuki': 8, 'peugeot': 9, 'mitsubishi': 10, 'audi': 11, 'chevrolet': 12, 'ford': 13, 'chery': 14, 'kia': 15, 'nissan': 16, 'daewoo': 17, 'subaru': 18, 'honda': 19, 'renault': 20}\n"
          ],
          "name": "stdout"
        }
      ]
    },
    {
      "cell_type": "code",
      "metadata": {
        "id": "-0adTMdmqdOx",
        "colab_type": "code",
        "outputId": "cc2224b6-89f9-444a-e271-06250e3feee7",
        "colab": {
          "base_uri": "https://localhost:8080/",
          "height": 51
        }
      },
      "source": [
        "print(powers)"
      ],
      "execution_count": 15,
      "outputs": [
        {
          "output_type": "stream",
          "text": [
            "[ 0.22905575 -0.95630346 -0.87163494 ...  0.22905575 -0.75309902\n",
            "  2.34576862]\n"
          ],
          "name": "stdout"
        }
      ]
    },
    {
      "cell_type": "code",
      "metadata": {
        "id": "GFQNnvd7nJBO",
        "colab_type": "code",
        "colab": {}
      },
      "source": [
        "#Создаём пустую обучающую выборку\n",
        "x_train = []\n",
        "y_train = []\n",
        "\n",
        "#Проходам по всем машинам\n",
        "for _id, car in enumerate(np.array(cars)):\n",
        "  #В y_train добавляем цену\n",
        "  y_train.append(prices[_id])\n",
        "  \n",
        "  #В x_train объединяем все параметры\n",
        "  #Категорийные параметры добавляем в ваде ohe\n",
        "  #Числовые параметры добавляем напрямую\n",
        "  x_tr = to_ohe(car[0], marks_dict) + \\\n",
        "        to_ohe(car[1], models_dict) + \\\n",
        "        to_ohe(car[5], bodies_dict) + \\\n",
        "        to_ohe(car[6], kpps_dict) + \\\n",
        "        to_ohe(car[7], fuels_dict) + \\\n",
        "        [years[_id]] + \\\n",
        "        [mileages[_id]] + \\\n",
        "        [volumes[_id]] + \\\n",
        "        [powers[_id]]\n",
        "  \n",
        "  #Добавляем текущую строку в общий z_train\n",
        "  x_train.append(x_tr)\n",
        "\n",
        "#Превращаем лист в numpy.array\n",
        "x_train = np.array(x_train, dtype=np.float)\n",
        "y_train = np.array(y_train, dtype=np.float)"
      ],
      "execution_count": 0,
      "outputs": []
    },
    {
      "cell_type": "code",
      "metadata": {
        "id": "0ZLXy52Ooc2_",
        "colab_type": "code",
        "outputId": "2ced1ca8-bb42-458a-bffc-56de24488d02",
        "colab": {
          "base_uri": "https://localhost:8080/",
          "height": 51
        }
      },
      "source": [
        "#Выводим размеры выборок\n",
        "print(x_train.shape)\n",
        "print(y_train.shape)"
      ],
      "execution_count": 17,
      "outputs": [
        {
          "output_type": "stream",
          "text": [
            "(70119, 3208)\n",
            "(70119,)\n"
          ],
          "name": "stdout"
        }
      ]
    },
    {
      "cell_type": "code",
      "metadata": {
        "id": "NNsvGyHXl8sr",
        "colab_type": "code",
        "outputId": "2afd9e17-b982-42c9-c2f1-7c6629ffaa8d",
        "colab": {
          "base_uri": "https://localhost:8080/",
          "height": 101
        }
      },
      "source": [
        "#Выводим один x_train\n",
        "print(x_train[0,:20])\n",
        "print(x_train[0,-20:])"
      ],
      "execution_count": 18,
      "outputs": [
        {
          "output_type": "stream",
          "text": [
            "[0. 0. 0. 0. 0. 0. 0. 0. 0. 0. 0. 0. 0. 0. 0. 1. 0. 0. 0. 0.]\n",
            "[ 0.          0.          0.          0.          0.          0.\n",
            "  0.          1.          0.          0.          0.          0.\n",
            "  0.          1.          0.          0.          1.5200145  -1.40018212\n",
            "  0.12288486  0.22905575]\n"
          ],
          "name": "stdout"
        }
      ]
    },
    {
      "cell_type": "code",
      "metadata": {
        "id": "iwUQF1DfmKqK",
        "colab_type": "code",
        "outputId": "1a3905e9-222d-4133-c079-601edac6b390",
        "colab": {
          "base_uri": "https://localhost:8080/",
          "height": 51
        }
      },
      "source": [
        "#Выводим y_train\n",
        "print(y_train[:10])"
      ],
      "execution_count": 19,
      "outputs": [
        {
          "output_type": "stream",
          "text": [
            "[ 996000.  140200.  750000.  970000.  205000.  985000.  589000.  500000.\n",
            " 1320000.  270000.]\n"
          ],
          "name": "stdout"
        }
      ]
    },
    {
      "cell_type": "code",
      "metadata": {
        "id": "CO_l-4i0mZ1D",
        "colab_type": "code",
        "colab": {}
      },
      "source": [
        "#Нормализуем y_train\n",
        "y_scaler = StandardScaler()\n",
        "y_train_scaled = y_scaler.fit_transform(y_train.reshape(-1,1)).flatten()\n",
        "#y_train.reshape(-1,1) добавляет одну размерность\n",
        "#Это нужно потому, что y_scaler.fit_transform\n",
        "#Требует двумерны вектор, массив примеров, которые надо нормализовать\n",
        "#Он не умеет работать с одним примеров\n",
        "#Поэтому мы делаем массив из одного примера\n",
        "#На выходе он так же выдаёт массив примеров\n",
        "#Но нам нужен только первый пример\n",
        "#Поэтому мы делаем flatten() - уменьшение размерности"
      ],
      "execution_count": 0,
      "outputs": []
    },
    {
      "cell_type": "code",
      "metadata": {
        "id": "2NRXurycm72R",
        "colab_type": "code",
        "outputId": "fc0e2312-fb0f-4510-8714-5181ade59717",
        "colab": {
          "base_uri": "https://localhost:8080/",
          "height": 84
        }
      },
      "source": [
        "#Выводим базовый и нормированный y_train\n",
        "print(y_train[:10])\n",
        "print(y_train_scaled[:10])"
      ],
      "execution_count": 21,
      "outputs": [
        {
          "output_type": "stream",
          "text": [
            "[ 996000.  140200.  750000.  970000.  205000.  985000.  589000.  500000.\n",
            " 1320000.  270000.]\n",
            "[ 0.75082432 -0.62135434  0.3563911   0.70913625 -0.51745486  0.73318706\n",
            "  0.09824578 -0.04445567  1.27032173 -0.4132347 ]\n"
          ],
          "name": "stdout"
        }
      ]
    },
    {
      "cell_type": "markdown",
      "metadata": {
        "id": "GZCBfyifHRhZ",
        "colab_type": "text"
      },
      "source": [
        "#Нейронка\n",
        "\n",
        "*Разбор данного раздела:* https://youtu.be/Hm41rb1zqQo?t=8166"
      ]
    },
    {
      "cell_type": "code",
      "metadata": {
        "id": "VsiHCClRSUI3",
        "colab_type": "code",
        "colab": {}
      },
      "source": [
        "#Создаём сеть\n",
        "model = Sequential()\n",
        "model.add(Dense(2500, activation='relu', input_shape=(x_train.shape[1],)))\n",
        "model.add(Dense(2500, activation='relu'))\n",
        "model.add(Dense(1, activation='linear'))\n",
        "\n",
        "#Указываем прямо шаг обучения - 1е-4\n",
        "model.compile(optimizer=Adam(lr=0.0001), loss='mse')\n",
        "\n",
        "#60000 примеров будет в обучающей выборке\n",
        "n_val = 60000\n",
        "history = model.fit(x_train[:n_val], \n",
        "                    y_train_scaled[:n_val],\n",
        "                    batch_size=20,\n",
        "                    epochs=20, \n",
        "                    validation_data=(x_train[n_val:], y_train_scaled[n_val:]), \n",
        "                    verbose=1)\n",
        "\n",
        "#Отображаем графики ошибки обучения на всех эпохах\n",
        "#Один по обучающей выборке, второй по проверочной\n",
        "plt.plot(history.history['loss'], label='Ошибка на обучающем наборе')\n",
        "plt.plot(history.history['val_loss'], label='Ошибка на проверочном наборе')\n",
        "plt.xlabel('Эпоха обучения')\n",
        "plt.ylabel('MSE')\n",
        "plt.legend()\n",
        "plt.show()\n",
        "\n",
        "#Предсказываем проверочную выборку\n",
        "predict = model.predict(x_train[n_val:])\n",
        "#Меняем масштаб обратно от нормированного к оригинальному\n",
        "predict = y_scaler.inverse_transform(predict).flatten()\n",
        "\n",
        "#Считаем ошибку и модуль ошибки прогнозирования по всем примерам\n",
        "delta = predict - y_train[n_val:]\n",
        "abs_delta = abs(delta)\n",
        "\n",
        "#Считаем среднюю цену, среднюю ошибку и средни процени ошибки\n",
        "#Выводим на экран\n",
        "mean_delta = sum(abs_delta)/len(abs_delta)\n",
        "mean_price = sum(y_train[n_val:])/len(y_train[n_val:])\n",
        "print(\"Средняя ошибка: \", round(mean_delta))\n",
        "print(\"Средняя цена: \", round(mean_price))\n",
        "print(\"Процент ошибки: \", round(100*mean_delta / mean_price), \"%\", sep=\"\")"
      ],
      "execution_count": 0,
      "outputs": []
    },
    {
      "cell_type": "code",
      "metadata": {
        "id": "Ab-Z8oOmCfAa",
        "colab_type": "code",
        "outputId": "2314b8e9-13cb-4a40-a897-f5c0539923c2",
        "colab": {
          "base_uri": "https://localhost:8080/",
          "height": 687
        }
      },
      "source": [
        "#Указываем прямо шаг обучения - 1е-5\n",
        "model.compile(optimizer=Adam(lr=0.00001), loss='mse')\n",
        "\n",
        "history = model.fit(x_train[:n_val], \n",
        "                    y_train_scaled[:n_val],\n",
        "                    batch_size=20,\n",
        "                    epochs=10, \n",
        "                    validation_data=(x_train[n_val:], y_train_scaled[n_val:]), \n",
        "                    verbose=1)\n",
        "\n",
        "#Отображаем графики ошибки обучения на всех эпохах\n",
        "#Один по обучающей выборке, второй по проверочной\n",
        "plt.plot(history.history['loss'], label='Ошибка на обучающем наборе')\n",
        "plt.plot(history.history['val_loss'], label='Ошибка на проверочном наборе')\n",
        "plt.xlabel('Эпоха обучения')\n",
        "plt.ylabel('MSE')\n",
        "plt.legend()\n",
        "plt.show()\n",
        "\n",
        "#Предсказываем проверочную выборку\n",
        "predict = model.predict(x_train[n_val:])\n",
        "#Меняем масштаб обратно от нормированного к оригинальному\n",
        "predict = y_scaler.inverse_transform(predict).flatten()\n",
        "\n",
        "#Считаем ошибку и модуль ошибки прогнозирования по всем примерам\n",
        "delta = predict - y_train[n_val:]\n",
        "abs_delta = abs(delta)\n",
        "\n",
        "#Считаем среднюю цену, среднюю ошибку и средни процени ошибки\n",
        "#Выводим на экран\n",
        "mean_delta = sum(abs_delta)/len(abs_delta)\n",
        "mean_price = sum(y_train[n_val:])/len(y_train[n_val:])\n",
        "print(\"Средняя ошибка: \", round(mean_delta))\n",
        "print(\"Средняя цена: \", round(mean_price))\n",
        "print(\"Процент ошибки: \", round(100*mean_delta / mean_price), \"%\", sep=\"\")"
      ],
      "execution_count": 0,
      "outputs": [
        {
          "output_type": "stream",
          "text": [
            "Train on 60000 samples, validate on 10119 samples\n",
            "Epoch 1/10\n",
            "60000/60000 [==============================] - 12s 200us/sample - loss: 0.0279 - val_loss: 0.0970\n",
            "Epoch 2/10\n",
            "60000/60000 [==============================] - 11s 189us/sample - loss: 0.0264 - val_loss: 0.0959\n",
            "Epoch 3/10\n",
            "60000/60000 [==============================] - 11s 188us/sample - loss: 0.0253 - val_loss: 0.0997\n",
            "Epoch 4/10\n",
            "60000/60000 [==============================] - 11s 188us/sample - loss: 0.0252 - val_loss: 0.0955\n",
            "Epoch 5/10\n",
            "60000/60000 [==============================] - 11s 189us/sample - loss: 0.0240 - val_loss: 0.0959\n",
            "Epoch 6/10\n",
            "60000/60000 [==============================] - 11s 189us/sample - loss: 0.0246 - val_loss: 0.0954\n",
            "Epoch 7/10\n",
            "60000/60000 [==============================] - 11s 188us/sample - loss: 0.0236 - val_loss: 0.0966\n",
            "Epoch 8/10\n",
            "60000/60000 [==============================] - 11s 188us/sample - loss: 0.0238 - val_loss: 0.1014\n",
            "Epoch 9/10\n",
            "60000/60000 [==============================] - 11s 188us/sample - loss: 0.0236 - val_loss: 0.0967\n",
            "Epoch 10/10\n",
            "60000/60000 [==============================] - 11s 188us/sample - loss: 0.0237 - val_loss: 0.0967\n"
          ],
          "name": "stdout"
        },
        {
          "output_type": "display_data",
          "data": {
            "image/png": "[encoded data removed]",
            "text/plain": [
              "<Figure size 432x288 with 1 Axes>"
            ]
          },
          "metadata": {
            "tags": []
          }
        },
        {
          "output_type": "stream",
          "text": [
            "Средняя ошибка:  67032.0\n",
            "Средняя цена:  530277.0\n",
            "Процент ошибки: 13.0%\n"
          ],
          "name": "stdout"
        }
      ]
    },
    {
      "cell_type": "code",
      "metadata": {
        "id": "DKfPPRo-DDg5",
        "colab_type": "code",
        "outputId": "d4faf9cc-6fbf-4fb9-e245-cbaa4624f196",
        "colab": {
          "base_uri": "https://localhost:8080/",
          "height": 689
        }
      },
      "source": [
        "#Указываем прямо шаг обучения - 1е-6\n",
        "model.compile(optimizer=Adam(lr=0.000001), loss='mse')\n",
        "\n",
        "history = model.fit(x_train[:n_val], \n",
        "                    y_train_scaled[:n_val],\n",
        "                    batch_size=20,\n",
        "                    epochs=10, \n",
        "                    validation_data=(x_train[n_val:], y_train_scaled[n_val:]), \n",
        "                    verbose=1)\n",
        "\n",
        "#Отображаем графики ошибки обучения на всех эпохах\n",
        "#Один по обучающей выборке, второй по проверочной\n",
        "plt.plot(history.history['loss'], label='Ошибка на обучающем наборе')\n",
        "plt.plot(history.history['val_loss'], label='Ошибка на проверочном наборе')\n",
        "plt.xlabel('Эпоха обучения')\n",
        "plt.ylabel('MSE')\n",
        "plt.legend()\n",
        "plt.show()\n",
        "\n",
        "#Предсказываем проверочную выборку\n",
        "predict = model.predict(x_train[n_val:])\n",
        "#Меняем масштаб обратно от нормированного к оригинальному\n",
        "predict = y_scaler.inverse_transform(predict).flatten()\n",
        "\n",
        "#Считаем ошибку и модуль ошибки прогнозирования по всем примерам\n",
        "delta = predict - y_train[n_val:]\n",
        "abs_delta = abs(delta)\n",
        "\n",
        "#Считаем среднюю цену, среднюю ошибку и средни процени ошибки\n",
        "#Выводим на экран\n",
        "mean_delta = sum(abs_delta)/len(abs_delta)\n",
        "mean_price = sum(y_train[n_val:])/len(y_train[n_val:])\n",
        "print(\"Средняя ошибка: \", round(mean_delta))\n",
        "print(\"Средняя цена: \", round(mean_price))\n",
        "print(\"Процент ошибки: \", round(100*mean_delta / mean_price), \"%\", sep=\"\")"
      ],
      "execution_count": 0,
      "outputs": [
        {
          "output_type": "stream",
          "text": [
            "Train on 60000 samples, validate on 10119 samples\n",
            "Epoch 1/10\n",
            "60000/60000 [==============================] - 12s 202us/sample - loss: 0.0225 - val_loss: 0.0968\n",
            "Epoch 2/10\n",
            "60000/60000 [==============================] - 12s 195us/sample - loss: 0.0223 - val_loss: 0.0970\n",
            "Epoch 3/10\n",
            "60000/60000 [==============================] - 12s 194us/sample - loss: 0.0222 - val_loss: 0.0969\n",
            "Epoch 4/10\n",
            "60000/60000 [==============================] - 12s 192us/sample - loss: 0.0223 - val_loss: 0.0971\n",
            "Epoch 5/10\n",
            "60000/60000 [==============================] - 11s 191us/sample - loss: 0.0222 - val_loss: 0.0970\n",
            "Epoch 6/10\n",
            "60000/60000 [==============================] - 12s 192us/sample - loss: 0.0222 - val_loss: 0.0971\n",
            "Epoch 7/10\n",
            "60000/60000 [==============================] - 11s 191us/sample - loss: 0.0222 - val_loss: 0.0972\n",
            "Epoch 8/10\n",
            "60000/60000 [==============================] - 11s 191us/sample - loss: 0.0221 - val_loss: 0.0972\n",
            "Epoch 9/10\n",
            "60000/60000 [==============================] - 12s 202us/sample - loss: 0.0221 - val_loss: 0.0971\n",
            "Epoch 10/10\n",
            "60000/60000 [==============================] - 12s 193us/sample - loss: 0.0221 - val_loss: 0.0971\n"
          ],
          "name": "stdout"
        },
        {
          "output_type": "display_data",
          "data": {
            "image/png": "[encoded data removed]",
            "text/plain": [
              "<Figure size 432x288 with 1 Axes>"
            ]
          },
          "metadata": {
            "tags": []
          }
        },
        {
          "output_type": "stream",
          "text": [
            "Средняя ошибка:  66936.0\n",
            "Средняя цена:  530277.0\n",
            "Процент ошибки: 13.0%\n"
          ],
          "name": "stdout"
        }
      ]
    },
    {
      "cell_type": "markdown",
      "metadata": {
        "id": "KvZdMaxqFHYw",
        "colab_type": "text"
      },
      "source": [
        "#Вывод результатов\n",
        "\n",
        "*Разбор данного раздела:* https://youtu.be/Hm41rb1zqQo?t=9144"
      ]
    },
    {
      "cell_type": "markdown",
      "metadata": {
        "id": "aEvMFXMAD_dQ",
        "colab_type": "text"
      },
      "source": [
        "**Выводим результаты таблицей**"
      ]
    },
    {
      "cell_type": "code",
      "metadata": {
        "id": "u80qsUuIEmL1",
        "colab_type": "code",
        "outputId": "9a5d1eec-d271-4411-c066-8a2bf8a07684",
        "colab": {
          "base_uri": "https://localhost:8080/",
          "height": 544
        }
      },
      "source": [
        "#Выводим названия колонок\n",
        "print('{:>10} {:>10} {:>10} {:>10}'.format('predict', 'y', 'error', 'error %'))\n",
        "\n",
        "#Выводим 30 примеров\n",
        "for i in range(30):\n",
        "  price = predict[i] #Запоминаем предсказанную цену\n",
        "  real_price = y_train[n_val+i] #Запоминаем реальзую цену\n",
        "  #Выводим значения колонок\n",
        "  print('{:>10.0f} {:>10.0f} {:>10.0f} {:>10.3f}'.format(price, real_price, abs(price - real_price), ((price / real_price) - 1) * 100))"
      ],
      "execution_count": 0,
      "outputs": [
        {
          "output_type": "stream",
          "text": [
            "   predict          y      error    error %\n",
            "    120513     165000      44487    -26.962\n",
            "    354320     415000      60680    -14.622\n",
            "    546315     380000     166315     43.767\n",
            "    865303     860000       5303      0.617\n",
            "    224880     220000       4880      2.218\n",
            "    475546     500000      24454     -4.891\n",
            "    528614     650000     121386    -18.675\n",
            "   1911545    1150000     761545     66.221\n",
            "    743456     570000     173456     30.431\n",
            "    522603     520000       2603      0.501\n",
            "    315563     319000       3437     -1.078\n",
            "    733219     760000      26781     -3.524\n",
            "    215535     235000      19465     -8.283\n",
            "    440275     415000      25275      6.090\n",
            "    242138     255000      12862     -5.044\n",
            "    280464     273000       7464      2.734\n",
            "   1545036    1550000       4964     -0.320\n",
            "    967659     821000     146659     17.863\n",
            "     80201      55000      25201     45.821\n",
            "    294184     282000      12184      4.320\n",
            "    105990      90000      15990     17.767\n",
            "    280794     265000      15794      5.960\n",
            "    337226     450000     112774    -25.061\n",
            "    645407     599000      46407      7.747\n",
            "    470338     449000      21338      4.752\n",
            "    665304     570000      95304     16.720\n",
            "    758298     669000      89298     13.348\n",
            "    714352     720000       5648     -0.784\n",
            "    112885     275000     162115    -58.951\n",
            "    139470     162000      22530    -13.907\n"
          ],
          "name": "stdout"
        }
      ]
    },
    {
      "cell_type": "markdown",
      "metadata": {
        "id": "Feyvyn-cEh6G",
        "colab_type": "text"
      },
      "source": [
        "**Строим 2d карты распределения ошибки от цены**"
      ]
    },
    {
      "cell_type": "code",
      "metadata": {
        "id": "hBjk8OeImqGR",
        "colab_type": "code",
        "outputId": "23362834-7d38-4a62-fc75-7087bad9eff3",
        "colab": {
          "base_uri": "https://localhost:8080/",
          "height": 541
        }
      },
      "source": [
        "#Делаем маску - машины, с ценой до 3.000.000р\n",
        "mask = y_train[n_val:] < 3e+6\n",
        "x = y_train[n_val:] #Вытаскиваем все реальные цены\n",
        "y = abs_delta #Вытаскиваем модули ошибки\n",
        "yp = 100*abs_delta / y_train[n_val:] #Расчитываем процент ошибки\n",
        "\n",
        "#Фильтруем по маске - только машины с ценой до 3млн\n",
        "x = x[mask]\n",
        "y = y[mask]\n",
        "yp = yp[mask]\n",
        "\n",
        "#Выводим 2d карту - ошибка от цены\n",
        "plt.scatter(x, y)\n",
        "plt.xlabel('Цена')\n",
        "plt.ylabel('Ошибка')\n",
        "plt.axis('equal')\n",
        "plt.show()\n",
        "\n",
        "#Выводим 2d карту - процент ошибки от цены\n",
        "plt.scatter(x, yp)\n",
        "plt.xlabel('Цена')\n",
        "plt.ylabel('Процент ошибки')\n",
        "plt.show()"
      ],
      "execution_count": 0,
      "outputs": [
        {
          "output_type": "display_data",
          "data": {
            "image/png": "[encoded data removed]",
            "text/plain": [
              "<Figure size 432x288 with 1 Axes>"
            ]
          },
          "metadata": {
            "tags": []
          }
        },
        {
          "output_type": "display_data",
          "data": {
            "image/png": "[encoded data removed]",
            "text/plain": [
              "<Figure size 432x288 with 1 Axes>"
            ]
          },
          "metadata": {
            "tags": []
          }
        }
      ]
    }
  ]
}