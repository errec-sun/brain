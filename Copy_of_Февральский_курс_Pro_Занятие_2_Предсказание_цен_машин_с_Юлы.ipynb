{
  "nbformat": 4,
  "nbformat_minor": 0,
  "metadata": {
    "colab": {
      "name": "Copy of Февральский курс. Pro. Занятие 2. Предсказание цен машин с Юлы",
      "provenance": [],
      "collapsed_sections": []
    },
    "kernelspec": {
      "name": "python3",
      "display_name": "Python 3"
    },
    "accelerator": "GPU"
  },
  "cells": [
    {
      "cell_type": "code",
      "metadata": {
        "id": "rvQeueuAX4Jd",
        "colab_type": "code",
        "outputId": "b2b908e9-b0c5-48d3-8ae1-d3e38c1f5698",
        "colab": {
          "base_uri": "https://localhost:8080/",
          "height": 64
        }
      },
      "source": [
        "import pandas as pd\n",
        "import numpy as np\n",
        "import matplotlib.pyplot as plt\n",
        "%matplotlib inline \n",
        "\n",
        "from google.colab import files\n",
        "from sklearn import preprocessing\n",
        "from sklearn.preprocessing import LabelEncoder, StandardScaler\n",
        "from tensorflow.keras.models import Sequential\n",
        "from tensorflow.keras.layers import Dense, BatchNormalization, Dropout\n",
        "from tensorflow.keras.optimizers import Adadelta, Adam\n"
      ],
      "execution_count": 3,
      "outputs": [
        {
          "output_type": "display_data",
          "data": {
            "text/html": [
              "<p style=\"color: red;\">\n",
              "The default version of TensorFlow in Colab will soon switch to TensorFlow 2.x.<br>\n",
              "We recommend you <a href=\"https://www.tensorflow.org/guide/migrate\" target=\"_blank\">upgrade</a> now \n",
              "or ensure your notebook will continue to use TensorFlow 1.x via the <code>%tensorflow_version 1.x</code> magic:\n",
              "<a href=\"https://colab.research.google.com/notebooks/tensorflow_version.ipynb\" target=\"_blank\">more info</a>.</p>\n"
            ],
            "text/plain": [
              "<IPython.core.display.HTML object>"
            ]
          },
          "metadata": {
            "tags": []
          }
        }
      ]
    },
    {
      "cell_type": "markdown",
      "metadata": {
        "id": "O10ZA-msmjvL",
        "colab_type": "text"
      },
      "source": [
        "#Загрузка данных\n",
        "\n",
        "*Разбор данного раздела:* https://youtu.be/Hm41rb1zqQo?t=7582"
      ]
    },
    {
      "cell_type": "code",
      "metadata": {
        "id": "fVAD74YJKPSc",
        "colab_type": "code",
        "outputId": "9a31465e-28e9-4326-c094-547dfb368136",
        "colab": {
          "resources": {
            "http://localhost:8080/nbextensions/google.colab/files.js": {
              "data": "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",
              "ok": true,
              "headers": [
                [
                  "content-type",
                  "application/javascript"
                ]
              ],
              "status": 200,
              "status_text": ""
            }
          },
          "base_uri": "https://localhost:8080/",
          "height": 94
        }
      },
      "source": [
        "#Загружаем файлы\n",
        "files.upload()\n",
        "!ls #Выводим содержимое корневой папки"
      ],
      "execution_count": 4,
      "outputs": [
        {
          "output_type": "display_data",
          "data": {
            "text/html": [
              "\n",
              "     <input type=\"file\" id=\"files-7d573e8e-9b1d-4d17-8eb8-d965f30553db\" name=\"files[]\" multiple disabled />\n",
              "     <output id=\"result-7d573e8e-9b1d-4d17-8eb8-d965f30553db\">\n",
              "      Upload widget is only available when the cell has been executed in the\n",
              "      current browser session. Please rerun this cell to enable.\n",
              "      </output>\n",
              "      <script src=\"/nbextensions/google.colab/files.js\"></script> "
            ],
            "text/plain": [
              "<IPython.core.display.HTML object>"
            ]
          },
          "metadata": {
            "tags": []
          }
        },
        {
          "output_type": "stream",
          "text": [
            "Saving cars_new for Python.csv to cars_new for Python.csv\n",
            "'cars_new for Python.csv'   sample_data\n"
          ],
          "name": "stdout"
        }
      ]
    },
    {
      "cell_type": "code",
      "metadata": {
        "id": "tX0gMyfrm67-",
        "colab_type": "code",
        "outputId": "3f148800-12f4-4897-a95a-1631ed268e3c",
        "colab": {
          "base_uri": "https://localhost:8080/",
          "height": 202
        }
      },
      "source": [
        "#Считываем csv с помощью pandas\n",
        "cars = pd.read_csv('cars_new for Python.csv', sep=',')\n",
        "cars[:5] #Выводим первые 5 машин "
      ],
      "execution_count": 5,
      "outputs": [
        {
          "output_type": "execute_result",
          "data": {
            "text/html": [
              "<div>\n",
              "<style scoped>\n",
              "    .dataframe tbody tr th:only-of-type {\n",
              "        vertical-align: middle;\n",
              "    }\n",
              "\n",
              "    .dataframe tbody tr th {\n",
              "        vertical-align: top;\n",
              "    }\n",
              "\n",
              "    .dataframe thead th {\n",
              "        text-align: right;\n",
              "    }\n",
              "</style>\n",
              "<table border=\"1\" class=\"dataframe\">\n",
              "  <thead>\n",
              "    <tr style=\"text-align: right;\">\n",
              "      <th></th>\n",
              "      <th>mark</th>\n",
              "      <th>model</th>\n",
              "      <th>price</th>\n",
              "      <th>year</th>\n",
              "      <th>mileage</th>\n",
              "      <th>body</th>\n",
              "      <th>kpp</th>\n",
              "      <th>fuel</th>\n",
              "      <th>volume</th>\n",
              "      <th>power</th>\n",
              "    </tr>\n",
              "  </thead>\n",
              "  <tbody>\n",
              "    <tr>\n",
              "      <th>0</th>\n",
              "      <td>kia</td>\n",
              "      <td>cerato</td>\n",
              "      <td>996000</td>\n",
              "      <td>2018</td>\n",
              "      <td>28000</td>\n",
              "      <td>седан</td>\n",
              "      <td>автомат</td>\n",
              "      <td>бензин</td>\n",
              "      <td>2.0</td>\n",
              "      <td>150.0</td>\n",
              "    </tr>\n",
              "    <tr>\n",
              "      <th>1</th>\n",
              "      <td>daewoo</td>\n",
              "      <td>nexia 1 поколение [2-й рестайлинг]</td>\n",
              "      <td>140200</td>\n",
              "      <td>2012</td>\n",
              "      <td>60500</td>\n",
              "      <td>седан</td>\n",
              "      <td>механика</td>\n",
              "      <td>бензин</td>\n",
              "      <td>1.5</td>\n",
              "      <td>80.0</td>\n",
              "    </tr>\n",
              "    <tr>\n",
              "      <th>2</th>\n",
              "      <td>suzuki</td>\n",
              "      <td>jimny 3 поколение [рестайлинг]</td>\n",
              "      <td>750000</td>\n",
              "      <td>2011</td>\n",
              "      <td>29000</td>\n",
              "      <td>внедорожник</td>\n",
              "      <td>автомат</td>\n",
              "      <td>бензин</td>\n",
              "      <td>1.3</td>\n",
              "      <td>85.0</td>\n",
              "    </tr>\n",
              "    <tr>\n",
              "      <th>3</th>\n",
              "      <td>bmw</td>\n",
              "      <td>x1 18 e84 [рестайлинг]</td>\n",
              "      <td>970000</td>\n",
              "      <td>2014</td>\n",
              "      <td>49500</td>\n",
              "      <td>кроссовер</td>\n",
              "      <td>автомат</td>\n",
              "      <td>бензин</td>\n",
              "      <td>2.0</td>\n",
              "      <td>150.0</td>\n",
              "    </tr>\n",
              "    <tr>\n",
              "      <th>4</th>\n",
              "      <td>chevrolet</td>\n",
              "      <td>lacetti 1 поколение</td>\n",
              "      <td>205000</td>\n",
              "      <td>2007</td>\n",
              "      <td>151445</td>\n",
              "      <td>седан</td>\n",
              "      <td>механика</td>\n",
              "      <td>бензин</td>\n",
              "      <td>1.4</td>\n",
              "      <td>95.0</td>\n",
              "    </tr>\n",
              "  </tbody>\n",
              "</table>\n",
              "</div>"
            ],
            "text/plain": [
              "        mark                               model   price  ...    fuel  volume  power\n",
              "0        kia                              cerato  996000  ...  бензин     2.0  150.0\n",
              "1     daewoo  nexia 1 поколение [2-й рестайлинг]  140200  ...  бензин     1.5   80.0\n",
              "2     suzuki      jimny 3 поколение [рестайлинг]  750000  ...  бензин     1.3   85.0\n",
              "3        bmw              x1 18 e84 [рестайлинг]  970000  ...  бензин     2.0  150.0\n",
              "4  chevrolet                 lacetti 1 поколение  205000  ...  бензин     1.4   95.0\n",
              "\n",
              "[5 rows x 10 columns]"
            ]
          },
          "metadata": {
            "tags": []
          },
          "execution_count": 5
        }
      ]
    },
    {
      "cell_type": "code",
      "metadata": {
        "id": "hxh46Ndz4xNZ",
        "colab_type": "code",
        "outputId": "34be6c2a-ee20-4b5b-a8c5-85d3aa1e5d50",
        "colab": {
          "base_uri": "https://localhost:8080/",
          "height": 35
        }
      },
      "source": [
        "print(cars.values.shape)"
      ],
      "execution_count": 6,
      "outputs": [
        {
          "output_type": "stream",
          "text": [
            "(70119, 10)\n"
          ],
          "name": "stdout"
        }
      ]
    },
    {
      "cell_type": "code",
      "metadata": {
        "id": "eXlgXPAem_mi",
        "colab_type": "code",
        "colab": {}
      },
      "source": [
        "#Создаём словарь поле - его индекс\n",
        "def create_dict(s):\n",
        "  ret = {} #Создаём пустой словарь\n",
        "  for _id, name in enumerate(s): #Проходим по всем парам - id и название\n",
        "    ret.update({name: _id}) #Добавляем в словарь\n",
        "  return ret\n",
        "\n",
        "#ФУнкция преобразования в one hot encoding\n",
        "def to_ohe(value, d):\n",
        "  arr = [0] * len(d)\n",
        "  arr[d[value]] = 1\n",
        "  return arr"
      ],
      "execution_count": 0,
      "outputs": []
    },
    {
      "cell_type": "code",
      "metadata": {
        "id": "lhaCKb-3nCIi",
        "colab_type": "code",
        "colab": {}
      },
      "source": [
        "#Создаём словари по всем текстовым колонкам\n",
        "marks_dict = create_dict(set(cars['mark']))\n",
        "models_dict = create_dict(set(cars['model']))\n",
        "bodies_dict = create_dict(set(cars['body']))\n",
        "kpps_dict = create_dict(set(cars['kpp']))\n",
        "fuels_dict = create_dict(set(cars['fuel']))\n",
        "\n",
        "#Запоминаем цены\n",
        "prices = np.array(cars['price'], dtype=np.float)\n",
        "\n",
        "#Запоминаем числовые параметры\n",
        "#И нормируем\n",
        "years = preprocessing.scale(cars['year'])\n",
        "mileages = preprocessing.scale(cars['mileage'])\n",
        "volumes = preprocessing.scale(cars['volume'])\n",
        "powers = preprocessing.scale(cars['power'])"
      ],
      "execution_count": 0,
      "outputs": []
    },
    {
      "cell_type": "code",
      "metadata": {
        "id": "5MdND_2CBXmH",
        "colab_type": "code",
        "outputId": "7ceed53e-7e12-4540-9980-855f6d6e2549",
        "colab": {
          "base_uri": "https://localhost:8080/",
          "height": 55
        }
      },
      "source": [
        "print(marks_dict)"
      ],
      "execution_count": 9,
      "outputs": [
        {
          "output_type": "stream",
          "text": [
            "{'subaru': 0, 'honda': 1, 'toyota': 2, 'opel': 3, 'nissan': 4, 'mazda': 5, 'peugeot': 6, 'suzuki': 7, 'bmw': 8, 'renault': 9, 'skoda': 10, 'mitsubishi': 11, 'hyundai': 12, 'ford': 13, 'kia': 14, 'chevrolet': 15, 'chery': 16, 'audi': 17, 'volkswagen': 18, 'mercedes-benz': 19, 'daewoo': 20}\n"
          ],
          "name": "stdout"
        }
      ]
    },
    {
      "cell_type": "markdown",
      "metadata": {
        "id": "cXEs8aZiMdBM",
        "colab_type": "text"
      },
      "source": [
        "0 Создаем полную базу данных."
      ]
    },
    {
      "cell_type": "code",
      "metadata": {
        "id": "GFQNnvd7nJBO",
        "colab_type": "code",
        "colab": {}
      },
      "source": [
        "x_train = []\n",
        "y_train = []\n",
        "\n",
        "#Проходам по всем машинам\n",
        "for _id, car in enumerate(np.array(cars)):\n",
        "  #В y_train добавляем цену\n",
        "  y_train.append(prices[_id])\n",
        "  \n",
        "  #В x_train объединяем все параметры\n",
        "  #Категорийные параметры добавляем в ваде ohe\n",
        "  #Числовые параметры добавляем напрямую\n",
        "  x_tr = to_ohe(car[0], marks_dict) + \\\n",
        "        to_ohe(car[1], models_dict) + \\\n",
        "        to_ohe(car[5], bodies_dict) + \\\n",
        "        to_ohe(car[6], kpps_dict) + \\\n",
        "        to_ohe(car[7], fuels_dict) + \\\n",
        "        [years[_id]] + \\\n",
        "        [mileages[_id]] + \\\n",
        "        [volumes[_id]] + \\\n",
        "        [powers[_id]]\n",
        "  \n",
        "  #Добавляем текущую строку в общий z_train\n",
        "  x_train.append(x_tr)\n",
        "\n",
        "#Превращаем лист в numpy.array\n",
        "x_train = np.array(x_train, dtype=np.float)\n",
        "y_train = np.array(y_train, dtype=np.float)\n",
        "#Нормализуем y_train\n",
        "y_scaler = StandardScaler()\n",
        "y_train_scaled = y_scaler.fit_transform(y_train.reshape(-1,1)).flatten()"
      ],
      "execution_count": 0,
      "outputs": []
    },
    {
      "cell_type": "code",
      "metadata": {
        "id": "NNsvGyHXl8sr",
        "colab_type": "code",
        "outputId": "12ade04b-7a28-4382-dede-3a057dfb7a1d",
        "colab": {
          "base_uri": "https://localhost:8080/",
          "height": 106
        }
      },
      "source": [
        "#Выводим один x_train\n",
        "print(x_train[0,:20])\n",
        "print(x_train[0,-20:])"
      ],
      "execution_count": 11,
      "outputs": [
        {
          "output_type": "stream",
          "text": [
            "[1. 0. 0. 0. 0. 0. 0. 0. 0. 0. 0. 0. 0. 0. 0. 0. 0. 0. 0. 0.]\n",
            "[ 1.          0.          0.          0.          0.          0.\n",
            "  0.          1.          0.          0.          0.          0.\n",
            "  0.          1.          0.          0.          1.5200145  -1.40018212\n",
            "  0.12288486  0.22905575]\n"
          ],
          "name": "stdout"
        }
      ]
    },
    {
      "cell_type": "markdown",
      "metadata": {
        "id": "GZCBfyifHRhZ",
        "colab_type": "text"
      },
      "source": [
        "#Нейронка\n",
        "\n",
        "*Разбор данного раздела:* https://youtu.be/Hm41rb1zqQo?t=8166"
      ]
    },
    {
      "cell_type": "code",
      "metadata": {
        "id": "VsiHCClRSUI3",
        "colab_type": "code",
        "colab": {
          "base_uri": "https://localhost:8080/",
          "height": 1000
        },
        "outputId": "d2ba7d4a-f2ef-4a15-cdef-980b13af6bb9"
      },
      "source": [
        "#Создаём сеть\n",
        "model = Sequential()\n",
        "model.add(Dense(2500, activation='relu', input_shape=(x_train.shape[1],)))\n",
        "model.add(Dense(2500, activation='relu'))\n",
        "model.add(Dense(1, activation='linear'))\n",
        "\n",
        "#Указываем прямо шаг обучения - 1е-6\n",
        "model.compile(optimizer=Adam(lr=0.000001), loss='mse')\n",
        "\n",
        "#60000 примеров будет в обучающей выборке\n",
        "n_val = 60000\n",
        "history = model.fit(x_train[:n_val], \n",
        "                    y_train_scaled[:n_val],\n",
        "                    batch_size=20,\n",
        "                    epochs=30, \n",
        "                    validation_data=(x_train[n_val:], y_train_scaled[n_val:]), \n",
        "                    verbose=1)\n",
        "\n",
        "#Отображаем графики ошибки обучения на всех эпохах\n",
        "#Один по обучающей выборке, второй по проверочной\n",
        "plt.plot(history.history['loss'], label='Ошибка на обучающем наборе')\n",
        "plt.plot(history.history['val_loss'], label='Ошибка на проверочном наборе')\n",
        "plt.xlabel('Эпоха обучения')\n",
        "plt.ylabel('MSE')\n",
        "plt.legend()\n",
        "plt.show()\n",
        "\n",
        "#Предсказываем проверочную выборку\n",
        "predict = model.predict(x_train[n_val:])\n",
        "#Меняем масштаб обратно от нормированного к оригинальному\n",
        "predict = y_scaler.inverse_transform(predict).flatten()\n",
        "\n",
        "#Считаем ошибку и модуль ошибки прогнозирования по всем примерам\n",
        "delta = predict - y_train[n_val:]\n",
        "abs_delta = abs(delta)\n",
        "\n",
        "#Считаем среднюю цену, среднюю ошибку и средни процени ошибки\n",
        "#Выводим на экран\n",
        "mean_delta = sum(abs_delta)/len(abs_delta)\n",
        "mean_price = sum(y_train[n_val:])/len(y_train[n_val:])\n",
        "print(\"Средняя ошибка: \", round(mean_delta))\n",
        "print(\"Средняя цена: \", round(mean_price))\n",
        "print(\"Процент ошибки: \", round(100*mean_delta / mean_price), \"%\", sep=\"\")"
      ],
      "execution_count": 25,
      "outputs": [
        {
          "output_type": "stream",
          "text": [
            "Train on 60000 samples, validate on 10119 samples\n",
            "Epoch 1/30\n",
            "60000/60000 [==============================] - 21s 346us/sample - loss: 0.5056 - val_loss: 0.4603\n",
            "Epoch 2/30\n",
            "60000/60000 [==============================] - 19s 316us/sample - loss: 0.2936 - val_loss: 0.3739\n",
            "Epoch 3/30\n",
            "60000/60000 [==============================] - 19s 320us/sample - loss: 0.2498 - val_loss: 0.3397\n",
            "Epoch 4/30\n",
            "60000/60000 [==============================] - 19s 317us/sample - loss: 0.2257 - val_loss: 0.3158\n",
            "Epoch 5/30\n",
            "60000/60000 [==============================] - 19s 321us/sample - loss: 0.2102 - val_loss: 0.2990\n",
            "Epoch 6/30\n",
            "60000/60000 [==============================] - 19s 313us/sample - loss: 0.1989 - val_loss: 0.2884\n",
            "Epoch 7/30\n",
            "60000/60000 [==============================] - 19s 317us/sample - loss: 0.1898 - val_loss: 0.2761\n",
            "Epoch 8/30\n",
            "60000/60000 [==============================] - 19s 312us/sample - loss: 0.1829 - val_loss: 0.2691\n",
            "Epoch 9/30\n",
            "60000/60000 [==============================] - 19s 316us/sample - loss: 0.1770 - val_loss: 0.2613\n",
            "Epoch 10/30\n",
            "60000/60000 [==============================] - 19s 311us/sample - loss: 0.1716 - val_loss: 0.2550\n",
            "Epoch 11/30\n",
            "60000/60000 [==============================] - 19s 318us/sample - loss: 0.1674 - val_loss: 0.2496\n",
            "Epoch 12/30\n",
            "60000/60000 [==============================] - 19s 315us/sample - loss: 0.1636 - val_loss: 0.2445\n",
            "Epoch 13/30\n",
            "60000/60000 [==============================] - 19s 318us/sample - loss: 0.1599 - val_loss: 0.2420\n",
            "Epoch 14/30\n",
            "60000/60000 [==============================] - 19s 311us/sample - loss: 0.1570 - val_loss: 0.2374\n",
            "Epoch 15/30\n",
            "60000/60000 [==============================] - 19s 315us/sample - loss: 0.1539 - val_loss: 0.2349\n",
            "Epoch 16/30\n",
            "60000/60000 [==============================] - 19s 312us/sample - loss: 0.1512 - val_loss: 0.2285\n",
            "Epoch 17/30\n",
            "60000/60000 [==============================] - 19s 321us/sample - loss: 0.1487 - val_loss: 0.2254\n",
            "Epoch 18/30\n",
            "60000/60000 [==============================] - 19s 308us/sample - loss: 0.1466 - val_loss: 0.2227\n",
            "Epoch 19/30\n",
            "60000/60000 [==============================] - 19s 314us/sample - loss: 0.1446 - val_loss: 0.2201\n",
            "Epoch 20/30\n",
            "60000/60000 [==============================] - 19s 311us/sample - loss: 0.1425 - val_loss: 0.2185\n",
            "Epoch 21/30\n",
            "60000/60000 [==============================] - 19s 320us/sample - loss: 0.1408 - val_loss: 0.2159\n",
            "Epoch 22/30\n",
            "60000/60000 [==============================] - 19s 312us/sample - loss: 0.1390 - val_loss: 0.2123\n",
            "Epoch 23/30\n",
            "60000/60000 [==============================] - 19s 316us/sample - loss: 0.1372 - val_loss: 0.2109\n",
            "Epoch 24/30\n",
            "60000/60000 [==============================] - 19s 312us/sample - loss: 0.1358 - val_loss: 0.2081\n",
            "Epoch 25/30\n",
            "60000/60000 [==============================] - 19s 317us/sample - loss: 0.1342 - val_loss: 0.2067\n",
            "Epoch 26/30\n",
            "60000/60000 [==============================] - 19s 313us/sample - loss: 0.1328 - val_loss: 0.2059\n",
            "Epoch 27/30\n",
            "60000/60000 [==============================] - 19s 316us/sample - loss: 0.1315 - val_loss: 0.2034\n",
            "Epoch 28/30\n",
            "60000/60000 [==============================] - 19s 313us/sample - loss: 0.1303 - val_loss: 0.2025\n",
            "Epoch 29/30\n",
            "60000/60000 [==============================] - 19s 319us/sample - loss: 0.1290 - val_loss: 0.2003\n",
            "Epoch 30/30\n",
            "60000/60000 [==============================] - 19s 313us/sample - loss: 0.1279 - val_loss: 0.1980\n"
          ],
          "name": "stdout"
        },
        {
          "output_type": "display_data",
          "data": {
            "image/png": "[encoded data removed]",
            "text/plain": [
              "<Figure size 432x288 with 1 Axes>"
            ]
          },
          "metadata": {
            "tags": []
          }
        },
        {
          "output_type": "stream",
          "text": [
            "Средняя ошибка:  80030.0\n",
            "Средняя цена:  530277.0\n",
            "Процент ошибки: 15.0%\n"
          ],
          "name": "stdout"
        }
      ]
    },
    {
      "cell_type": "markdown",
      "metadata": {
        "id": "sWtHB2eBIUMa",
        "colab_type": "text"
      },
      "source": [
        "1.1 создаем базу данных\n",
        ", **марки и модели** машин не включаем."
      ]
    },
    {
      "cell_type": "code",
      "metadata": {
        "id": "6hRN7v2iH6rX",
        "colab_type": "code",
        "colab": {}
      },
      "source": [
        "x_train = []\n",
        "y_train = []\n",
        "\n",
        "#Проходам по всем машинам\n",
        "for _id, car in enumerate(np.array(cars)):\n",
        "  #В y_train добавляем цену\n",
        "  y_train.append(prices[_id])\n",
        "  \n",
        "  #В x_train объединяем все параметры\n",
        "  #Категорийные параметры добавляем в ваде ohe\n",
        "  #Числовые параметры добавляем напрямую\n",
        "  x_tr =  to_ohe(car[5], bodies_dict) + \\\n",
        "        to_ohe(car[6], kpps_dict) + \\\n",
        "        to_ohe(car[7], fuels_dict) + \\\n",
        "        [years[_id]] + \\\n",
        "        [mileages[_id]] + \\\n",
        "        [volumes[_id]] + \\\n",
        "        [powers[_id]]\n",
        "  \n",
        "  #Добавляем текущую строку в общий z_train\n",
        "  x_train.append(x_tr)\n",
        "\n",
        "#Превращаем лист в numpy.array\n",
        "x_train = np.array(x_train, dtype=np.float)\n",
        "y_train = np.array(y_train, dtype=np.float)"
      ],
      "execution_count": 0,
      "outputs": []
    },
    {
      "cell_type": "code",
      "metadata": {
        "id": "fvbw0LNrJLTg",
        "colab_type": "code",
        "colab": {}
      },
      "source": [
        "#Нормализуем y_train\n",
        "y_scaler = StandardScaler()\n",
        "y_train_scaled = y_scaler.fit_transform(y_train.reshape(-1,1)).flatten()"
      ],
      "execution_count": 0,
      "outputs": []
    },
    {
      "cell_type": "code",
      "metadata": {
        "id": "AioooPUoJm87",
        "colab_type": "code",
        "outputId": "44a36659-28db-4d33-f3a8-8affb0c720f0",
        "colab": {
          "base_uri": "https://localhost:8080/",
          "height": 1000
        }
      },
      "source": [
        "#Создаём сеть\n",
        "model = Sequential()\n",
        "model.add(Dense(2500, activation='relu', input_shape=(x_train.shape[1],)))\n",
        "model.add(Dense(2500, activation='relu'))\n",
        "model.add(Dense(1, activation='linear'))\n",
        "\n",
        "#Указываем прямо шаг обучения - 1е-6\n",
        "model.compile(optimizer=Adam(lr=0.000001), loss='mse')\n",
        "\n",
        "#60000 примеров будет в обучающей выборке\n",
        "n_val = 60000\n",
        "history = model.fit(x_train[:n_val], \n",
        "                    y_train_scaled[:n_val],\n",
        "                    batch_size=20,\n",
        "                    epochs=20, \n",
        "                    validation_data=(x_train[n_val:], y_train_scaled[n_val:]), \n",
        "                    verbose=1)\n",
        "\n",
        "#Отображаем графики ошибки обучения на всех эпохах\n",
        "#Один по обучающей выборке, второй по проверочной\n",
        "plt.plot(history.history['loss'], label='Ошибка на обучающем наборе')\n",
        "plt.plot(history.history['val_loss'], label='Ошибка на проверочном наборе')\n",
        "plt.xlabel('Эпоха обучения')\n",
        "plt.ylabel('MSE')\n",
        "plt.legend()\n",
        "plt.show()\n",
        "\n",
        "#Предсказываем проверочную выборку\n",
        "predict = model.predict(x_train[n_val:])\n",
        "#Меняем масштаб обратно от нормированного к оригинальному\n",
        "predict = y_scaler.inverse_transform(predict).flatten()\n",
        "\n",
        "#Считаем ошибку и модуль ошибки прогнозирования по всем примерам\n",
        "delta = predict - y_train[n_val:]\n",
        "abs_delta = abs(delta)\n",
        "\n",
        "#Считаем среднюю цену, среднюю ошибку и средни процени ошибки\n",
        "#Выводим на экран\n",
        "mean_delta = sum(abs_delta)/len(abs_delta)\n",
        "mean_price = sum(y_train[n_val:])/len(y_train[n_val:])\n",
        "print(\"Средняя ошибка: \", round(mean_delta))\n",
        "print(\"Средняя цена: \", round(mean_price))\n",
        "print(\"Процент ошибки: \", round(100*mean_delta / mean_price), \"%\", sep=\"\")"
      ],
      "execution_count": 0,
      "outputs": [
        {
          "output_type": "stream",
          "text": [
            "WARNING:tensorflow:From /usr/local/lib/python3.6/dist-packages/tensorflow_core/python/ops/resource_variable_ops.py:1630: calling BaseResourceVariable.__init__ (from tensorflow.python.ops.resource_variable_ops) with constraint is deprecated and will be removed in a future version.\n",
            "Instructions for updating:\n",
            "If using Keras pass *_constraint arguments to layers.\n",
            "Train on 60000 samples, validate on 10119 samples\n",
            "Epoch 1/20\n",
            "60000/60000 [==============================] - 179s 3ms/sample - loss: 0.4923 - val_loss: 0.4638\n",
            "Epoch 2/20\n",
            "60000/60000 [==============================] - 178s 3ms/sample - loss: 0.3062 - val_loss: 0.3909\n",
            "Epoch 3/20\n",
            "60000/60000 [==============================] - 177s 3ms/sample - loss: 0.2678 - val_loss: 0.3604\n",
            "Epoch 4/20\n",
            "60000/60000 [==============================] - 176s 3ms/sample - loss: 0.2471 - val_loss: 0.3412\n",
            "Epoch 5/20\n",
            "60000/60000 [==============================] - 178s 3ms/sample - loss: 0.2331 - val_loss: 0.3250\n",
            "Epoch 6/20\n",
            "60000/60000 [==============================] - 178s 3ms/sample - loss: 0.2232 - val_loss: 0.3149\n",
            "Epoch 7/20\n",
            "60000/60000 [==============================] - 178s 3ms/sample - loss: 0.2153 - val_loss: 0.3051\n",
            "Epoch 8/20\n",
            "60000/60000 [==============================] - 176s 3ms/sample - loss: 0.2084 - val_loss: 0.2989\n",
            "Epoch 9/20\n",
            "60000/60000 [==============================] - 175s 3ms/sample - loss: 0.2034 - val_loss: 0.2910\n",
            "Epoch 10/20\n",
            "60000/60000 [==============================] - 176s 3ms/sample - loss: 0.1983 - val_loss: 0.2847\n",
            "Epoch 11/20\n",
            "60000/60000 [==============================] - 178s 3ms/sample - loss: 0.1948 - val_loss: 0.2819\n",
            "Epoch 12/20\n",
            "60000/60000 [==============================] - 177s 3ms/sample - loss: 0.1914 - val_loss: 0.2769\n",
            "Epoch 13/20\n",
            "60000/60000 [==============================] - 177s 3ms/sample - loss: 0.1884 - val_loss: 0.2731\n",
            "Epoch 14/20\n",
            "60000/60000 [==============================] - 179s 3ms/sample - loss: 0.1855 - val_loss: 0.2685\n",
            "Epoch 15/20\n",
            "60000/60000 [==============================] - 177s 3ms/sample - loss: 0.1831 - val_loss: 0.2656\n",
            "Epoch 16/20\n",
            "60000/60000 [==============================] - 177s 3ms/sample - loss: 0.1807 - val_loss: 0.2618\n",
            "Epoch 17/20\n",
            "60000/60000 [==============================] - 178s 3ms/sample - loss: 0.1784 - val_loss: 0.2601\n",
            "Epoch 18/20\n",
            "60000/60000 [==============================] - 179s 3ms/sample - loss: 0.1764 - val_loss: 0.2575\n",
            "Epoch 19/20\n",
            "60000/60000 [==============================] - 177s 3ms/sample - loss: 0.1745 - val_loss: 0.2546\n",
            "Epoch 20/20\n",
            "60000/60000 [==============================] - 177s 3ms/sample - loss: 0.1729 - val_loss: 0.2519\n"
          ],
          "name": "stdout"
        },
        {
          "output_type": "display_data",
          "data": {
            "image/png": "[encoded data removed]",
            "text/plain": [
              "<Figure size 432x288 with 1 Axes>"
            ]
          },
          "metadata": {
            "tags": []
          }
        },
        {
          "output_type": "stream",
          "text": [
            "Средняя ошибка:  107160.0\n",
            "Средняя цена:  530277.0\n",
            "Процент ошибки: 20.0%\n"
          ],
          "name": "stdout"
        }
      ]
    },
    {
      "cell_type": "code",
      "metadata": {
        "id": "sJpvN1cs_d9y",
        "colab_type": "code",
        "colab": {
          "base_uri": "https://localhost:8080/",
          "height": 706
        },
        "outputId": "ae9ea24b-fd82-499f-e1a8-d7c4824f3ef0"
      },
      "source": [
        "#УДообчаем эту сетку еще 10 эпох.\n",
        "model.compile(optimizer=Adam(lr=0.000001), loss='mse')\n",
        "history = model.fit(x_train[:n_val], \n",
        "                    y_train_scaled[:n_val],\n",
        "                    batch_size=20,\n",
        "                    epochs=10, \n",
        "                    validation_data=(x_train[n_val:], y_train_scaled[n_val:]), \n",
        "                    verbose=2)\n",
        "\n",
        "plt.plot(history.history['loss'], label='Ошибка на обучающем наборе')\n",
        "plt.plot(history.history['val_loss'], label='Ошибка на проверочном наборе')\n",
        "plt.xlabel('Эпоха обучения')\n",
        "plt.ylabel('MSE')\n",
        "plt.legend()\n",
        "plt.show()\n",
        "\n",
        "predict = model.predict(x_train[n_val:])\n",
        "predict = y_scaler.inverse_transform(predict).flatten()\n",
        "delta = predict - y_train[n_val:]\n",
        "abs_delta = abs(delta)\n",
        "\n",
        "mean_delta = sum(abs_delta)/len(abs_delta)\n",
        "mean_price = sum(y_train[n_val:])/len(y_train[n_val:])\n",
        "print(\"Средняя ошибка: \", round(mean_delta))\n",
        "print(\"Средняя цена: \", round(mean_price))\n",
        "print(\"Процент ошибки: \", round(100*mean_delta / mean_price), \"%\", sep=\"\")"
      ],
      "execution_count": 26,
      "outputs": [
        {
          "output_type": "stream",
          "text": [
            "Train on 60000 samples, validate on 10119 samples\n",
            "Epoch 1/10\n",
            "60000/60000 - 18s - loss: 0.1266 - val_loss: 0.1980\n",
            "Epoch 2/10\n",
            "60000/60000 - 17s - loss: 0.1257 - val_loss: 0.1968\n",
            "Epoch 3/10\n",
            "60000/60000 - 18s - loss: 0.1244 - val_loss: 0.1966\n",
            "Epoch 4/10\n",
            "60000/60000 - 18s - loss: 0.1237 - val_loss: 0.1951\n",
            "Epoch 5/10\n",
            "60000/60000 - 18s - loss: 0.1228 - val_loss: 0.1925\n",
            "Epoch 6/10\n",
            "60000/60000 - 18s - loss: 0.1219 - val_loss: 0.1912\n",
            "Epoch 7/10\n",
            "60000/60000 - 18s - loss: 0.1208 - val_loss: 0.1912\n",
            "Epoch 8/10\n",
            "60000/60000 - 18s - loss: 0.1201 - val_loss: 0.1892\n",
            "Epoch 9/10\n",
            "60000/60000 - 18s - loss: 0.1190 - val_loss: 0.1872\n",
            "Epoch 10/10\n",
            "60000/60000 - 17s - loss: 0.1185 - val_loss: 0.1869\n"
          ],
          "name": "stdout"
        },
        {
          "output_type": "display_data",
          "data": {
            "image/png": "[encoded data removed]",
            "text/plain": [
              "<Figure size 432x288 with 1 Axes>"
            ]
          },
          "metadata": {
            "tags": []
          }
        },
        {
          "output_type": "stream",
          "text": [
            "Средняя ошибка:  77820.0\n",
            "Средняя цена:  530277.0\n",
            "Процент ошибки: 15.0%\n"
          ],
          "name": "stdout"
        }
      ]
    },
    {
      "cell_type": "markdown",
      "metadata": {
        "id": "zCHQ_1ugNctW",
        "colab_type": "text"
      },
      "source": [
        "**1.2** создаем базу данных без учета **модели** автомобиля."
      ]
    },
    {
      "cell_type": "code",
      "metadata": {
        "id": "eZ3t1fH1N7zy",
        "colab_type": "code",
        "colab": {}
      },
      "source": [
        "x_train = []\n",
        "y_train = []\n",
        "\n",
        "#Проходам по всем машинам\n",
        "for _id, car in enumerate(np.array(cars)):\n",
        "  #В y_train добавляем цену\n",
        "  y_train.append(prices[_id])\n",
        "  \n",
        "  #В x_train объединяем все параметры\n",
        "  #Категорийные параметры добавляем в ваде ohe\n",
        "  #Числовые параметры добавляем напрямую\n",
        "  x_tr = to_ohe(car[0], marks_dict) + \\\n",
        "        to_ohe(car[5], bodies_dict) + \\\n",
        "        to_ohe(car[6], kpps_dict) + \\\n",
        "        to_ohe(car[7], fuels_dict) + \\\n",
        "        [years[_id]] + \\\n",
        "        [mileages[_id]] + \\\n",
        "        [volumes[_id]] + \\\n",
        "        [powers[_id]]\n",
        "  \n",
        "  #Добавляем текущую строку в общий z_train\n",
        "  x_train.append(x_tr)\n",
        "\n",
        "#Превращаем лист в numpy.array\n",
        "x_train = np.array(x_train, dtype=np.float)\n",
        "y_train = np.array(y_train, dtype=np.float)\n",
        "#Нормализуем y_train\n",
        "y_scaler = StandardScaler()\n",
        "y_train_scaled = y_scaler.fit_transform(y_train.reshape(-1,1)).flatten()"
      ],
      "execution_count": 0,
      "outputs": []
    },
    {
      "cell_type": "code",
      "metadata": {
        "id": "okVrzhGQOoxI",
        "colab_type": "code",
        "outputId": "a5f634b8-955a-4e5b-a55b-cc136f93dbd4",
        "colab": {
          "base_uri": "https://localhost:8080/",
          "height": 1000
        }
      },
      "source": [
        "#Создаём сеть без \"модели\"\n",
        "model = Sequential()\n",
        "model.add(Dense(2500, activation='relu', input_shape=(x_train.shape[1],)))\n",
        "model.add(Dense(2500, activation='relu'))\n",
        "model.add(Dense(1, activation='linear'))\n",
        "\n",
        "#Указываем прямо шаг обучения - 1е-6\n",
        "model.compile(optimizer=Adam(lr=0.000001), loss='mse')\n",
        "\n",
        "#60000 примеров будет в обучающей выборке\n",
        "n_val = 60000\n",
        "history = model.fit(x_train[:n_val], \n",
        "                    y_train_scaled[:n_val],\n",
        "                    batch_size=20,\n",
        "                    epochs=30, \n",
        "                    validation_data=(x_train[n_val:], y_train_scaled[n_val:]), \n",
        "                    verbose=1)\n",
        "\n",
        "#Отображаем графики ошибки обучения на всех эпохах\n",
        "#Один по обучающей выборке, второй по проверочной\n",
        "plt.plot(history.history['loss'], label='Ошибка на обучающем наборе')\n",
        "plt.plot(history.history['val_loss'], label='Ошибка на проверочном наборе')\n",
        "plt.xlabel('Эпоха обучения')\n",
        "plt.ylabel('MSE')\n",
        "plt.legend()\n",
        "plt.show()\n",
        "\n",
        "#Предсказываем проверочную выборку\n",
        "predict = model.predict(x_train[n_val:])\n",
        "#Меняем масштаб обратно от нормированного к оригинальному\n",
        "predict = y_scaler.inverse_transform(predict).flatten()\n",
        "\n",
        "#Считаем ошибку и модуль ошибки прогнозирования по всем примерам\n",
        "delta = predict - y_train[n_val:]\n",
        "abs_delta = abs(delta)\n",
        "\n",
        "#Считаем среднюю цену, среднюю ошибку и средни процени ошибки\n",
        "#Выводим на экран\n",
        "mean_delta = sum(abs_delta)/len(abs_delta)\n",
        "mean_price = sum(y_train[n_val:])/len(y_train[n_val:])\n",
        "print(\"Средняя ошибка: \", round(mean_delta))\n",
        "print(\"Средняя цена: \", round(mean_price))\n",
        "print(\"Процент ошибки: \", round(100*mean_delta / mean_price), \"%\", sep=\"\")"
      ],
      "execution_count": 28,
      "outputs": [
        {
          "output_type": "stream",
          "text": [
            "Train on 60000 samples, validate on 10119 samples\n",
            "Epoch 1/30\n",
            "60000/60000 [==============================] - 20s 335us/sample - loss: 0.4609 - val_loss: 0.4393\n",
            "Epoch 2/30\n",
            "60000/60000 [==============================] - 19s 314us/sample - loss: 0.2861 - val_loss: 0.3687\n",
            "Epoch 3/30\n",
            "60000/60000 [==============================] - 19s 317us/sample - loss: 0.2451 - val_loss: 0.3381\n",
            "Epoch 4/30\n",
            "60000/60000 [==============================] - 19s 314us/sample - loss: 0.2234 - val_loss: 0.3150\n",
            "Epoch 5/30\n",
            "60000/60000 [==============================] - 19s 317us/sample - loss: 0.2080 - val_loss: 0.2971\n",
            "Epoch 6/30\n",
            "60000/60000 [==============================] - 19s 315us/sample - loss: 0.1964 - val_loss: 0.2842\n",
            "Epoch 7/30\n",
            "60000/60000 [==============================] - 19s 317us/sample - loss: 0.1874 - val_loss: 0.2762\n",
            "Epoch 8/30\n",
            "60000/60000 [==============================] - 19s 313us/sample - loss: 0.1804 - val_loss: 0.2669\n",
            "Epoch 9/30\n",
            "60000/60000 [==============================] - 19s 315us/sample - loss: 0.1747 - val_loss: 0.2595\n",
            "Epoch 10/30\n",
            "60000/60000 [==============================] - 19s 311us/sample - loss: 0.1696 - val_loss: 0.2519\n",
            "Epoch 11/30\n",
            "60000/60000 [==============================] - 19s 315us/sample - loss: 0.1652 - val_loss: 0.2470\n",
            "Epoch 12/30\n",
            "60000/60000 [==============================] - 19s 309us/sample - loss: 0.1611 - val_loss: 0.2423\n",
            "Epoch 13/30\n",
            "60000/60000 [==============================] - 19s 325us/sample - loss: 0.1574 - val_loss: 0.2392\n",
            "Epoch 14/30\n",
            "60000/60000 [==============================] - 19s 314us/sample - loss: 0.1540 - val_loss: 0.2379\n",
            "Epoch 15/30\n",
            "60000/60000 [==============================] - 19s 315us/sample - loss: 0.1518 - val_loss: 0.2300\n",
            "Epoch 16/30\n",
            "60000/60000 [==============================] - 19s 317us/sample - loss: 0.1488 - val_loss: 0.2262\n",
            "Epoch 17/30\n",
            "60000/60000 [==============================] - 19s 317us/sample - loss: 0.1465 - val_loss: 0.2246\n",
            "Epoch 18/30\n",
            "60000/60000 [==============================] - 19s 313us/sample - loss: 0.1442 - val_loss: 0.2206\n",
            "Epoch 19/30\n",
            "60000/60000 [==============================] - 19s 318us/sample - loss: 0.1420 - val_loss: 0.2174\n",
            "Epoch 20/30\n",
            "60000/60000 [==============================] - 19s 312us/sample - loss: 0.1400 - val_loss: 0.2159\n",
            "Epoch 21/30\n",
            "60000/60000 [==============================] - 19s 316us/sample - loss: 0.1386 - val_loss: 0.2122\n",
            "Epoch 22/30\n",
            "60000/60000 [==============================] - 19s 314us/sample - loss: 0.1368 - val_loss: 0.2110\n",
            "Epoch 23/30\n",
            "60000/60000 [==============================] - 19s 316us/sample - loss: 0.1350 - val_loss: 0.2093\n",
            "Epoch 24/30\n",
            "60000/60000 [==============================] - 19s 314us/sample - loss: 0.1336 - val_loss: 0.2063\n",
            "Epoch 25/30\n",
            "60000/60000 [==============================] - 19s 317us/sample - loss: 0.1322 - val_loss: 0.2039\n",
            "Epoch 26/30\n",
            "60000/60000 [==============================] - 19s 314us/sample - loss: 0.1306 - val_loss: 0.2035\n",
            "Epoch 27/30\n",
            "60000/60000 [==============================] - 19s 318us/sample - loss: 0.1296 - val_loss: 0.2010\n",
            "Epoch 28/30\n",
            "60000/60000 [==============================] - 19s 312us/sample - loss: 0.1283 - val_loss: 0.1988\n",
            "Epoch 29/30\n",
            "60000/60000 [==============================] - 20s 325us/sample - loss: 0.1268 - val_loss: 0.1992\n",
            "Epoch 30/30\n",
            "60000/60000 [==============================] - 19s 314us/sample - loss: 0.1261 - val_loss: 0.1959\n"
          ],
          "name": "stdout"
        },
        {
          "output_type": "display_data",
          "data": {
            "image/png": "[encoded data removed]",
            "text/plain": [
              "<Figure size 432x288 with 1 Axes>"
            ]
          },
          "metadata": {
            "tags": []
          }
        },
        {
          "output_type": "stream",
          "text": [
            "Средняя ошибка:  79756.0\n",
            "Средняя цена:  530277.0\n",
            "Процент ошибки: 15.0%\n"
          ],
          "name": "stdout"
        }
      ]
    },
    {
      "cell_type": "markdown",
      "metadata": {
        "id": "TQyq08osRUCZ",
        "colab_type": "text"
      },
      "source": [
        "**1.3** Создаем базу без учета типа **кузова** автомобиля."
      ]
    },
    {
      "cell_type": "code",
      "metadata": {
        "id": "P0g-uqz7RVKW",
        "colab_type": "code",
        "colab": {}
      },
      "source": [
        "x_train = []\n",
        "y_train = []\n",
        "\n",
        "#Проходам по всем машинам\n",
        "for _id, car in enumerate(np.array(cars)):\n",
        "  #В y_train добавляем цену\n",
        "  y_train.append(prices[_id])\n",
        "  \n",
        "  #В x_train объединяем все параметры\n",
        "  #Категорийные параметры добавляем в ваде ohe\n",
        "  #Числовые параметры добавляем напрямую\n",
        "  x_tr = to_ohe(car[0], marks_dict) + \\\n",
        "        to_ohe(car[1], models_dict) + \\\n",
        "        to_ohe(car[6], kpps_dict) + \\\n",
        "        to_ohe(car[7], fuels_dict) + \\\n",
        "        [years[_id]] + \\\n",
        "        [mileages[_id]] + \\\n",
        "        [volumes[_id]] + \\\n",
        "        [powers[_id]]\n",
        "  \n",
        "  #Добавляем текущую строку в общий z_train\n",
        "  x_train.append(x_tr)\n",
        "\n",
        "#Превращаем лист в numpy.array\n",
        "x_train = np.array(x_train, dtype=np.float)\n",
        "y_train = np.array(y_train, dtype=np.float)\n",
        "#Нормализуем y_train\n",
        "y_scaler = StandardScaler()\n",
        "y_train_scaled = y_scaler.fit_transform(y_train.reshape(-1,1)).flatten()"
      ],
      "execution_count": 0,
      "outputs": []
    },
    {
      "cell_type": "code",
      "metadata": {
        "id": "0OOlWf4zRteh",
        "colab_type": "code",
        "colab": {
          "base_uri": "https://localhost:8080/",
          "height": 1000
        },
        "outputId": "0cb2e2bc-f9e8-44b5-f7aa-29adebb53ade"
      },
      "source": [
        "#Создаём сеть без \"кузова\"\n",
        "model = Sequential()\n",
        "model.add(Dense(2500, activation='relu', input_shape=(x_train.shape[1],)))\n",
        "model.add(Dense(2500, activation='relu'))\n",
        "model.add(Dense(1, activation='linear'))\n",
        "\n",
        "#Указываем прямо шаг обучения - 1е-6\n",
        "model.compile(optimizer=Adam(lr=0.000001), loss='mse')\n",
        "\n",
        "#60000 примеров будет в обучающей выборке\n",
        "n_val = 60000\n",
        "history = model.fit(x_train[:n_val], \n",
        "                    y_train_scaled[:n_val],\n",
        "                    batch_size=20,\n",
        "                    epochs=30, \n",
        "                    validation_data=(x_train[n_val:], y_train_scaled[n_val:]), \n",
        "                    verbose=1)\n",
        "\n",
        "#Отображаем графики ошибки обучения на всех эпохах\n",
        "#Один по обучающей выборке, второй по проверочной\n",
        "plt.plot(history.history['loss'], label='Ошибка на обучающем наборе')\n",
        "plt.plot(history.history['val_loss'], label='Ошибка на проверочном наборе')\n",
        "plt.xlabel('Эпоха обучения')\n",
        "plt.ylabel('MSE')\n",
        "plt.legend()\n",
        "plt.show()\n",
        "\n",
        "#Предсказываем проверочную выборку\n",
        "predict = model.predict(x_train[n_val:])\n",
        "#Меняем масштаб обратно от нормированного к оригинальному\n",
        "predict = y_scaler.inverse_transform(predict).flatten()\n",
        "\n",
        "#Считаем ошибку и модуль ошибки прогнозирования по всем примерам\n",
        "delta = predict - y_train[n_val:]\n",
        "abs_delta = abs(delta)\n",
        "\n",
        "#Считаем среднюю цену, среднюю ошибку и средни процени ошибки\n",
        "#Выводим на экран\n",
        "mean_delta = sum(abs_delta)/len(abs_delta)\n",
        "mean_price = sum(y_train[n_val:])/len(y_train[n_val:])\n",
        "print(\"Средняя ошибка: \", round(mean_delta))\n",
        "print(\"Средняя цена: \", round(mean_price))\n",
        "print(\"Процент ошибки: \", round(100*mean_delta / mean_price), \"%\", sep=\"\")"
      ],
      "execution_count": 11,
      "outputs": [
        {
          "output_type": "stream",
          "text": [
            "WARNING:tensorflow:From /usr/local/lib/python3.6/dist-packages/tensorflow_core/python/ops/resource_variable_ops.py:1630: calling BaseResourceVariable.__init__ (from tensorflow.python.ops.resource_variable_ops) with constraint is deprecated and will be removed in a future version.\n",
            "Instructions for updating:\n",
            "If using Keras pass *_constraint arguments to layers.\n",
            "Train on 60000 samples, validate on 10119 samples\n",
            "Epoch 1/30\n",
            "60000/60000 [==============================] - 39s 650us/sample - loss: 0.5335 - val_loss: 0.4897\n",
            "Epoch 2/30\n",
            "60000/60000 [==============================] - 30s 493us/sample - loss: 0.3194 - val_loss: 0.3971\n",
            "Epoch 3/30\n",
            "60000/60000 [==============================] - 30s 494us/sample - loss: 0.2677 - val_loss: 0.3562\n",
            "Epoch 4/30\n",
            "60000/60000 [==============================] - 30s 496us/sample - loss: 0.2403 - val_loss: 0.3311\n",
            "Epoch 5/30\n",
            "60000/60000 [==============================] - 30s 493us/sample - loss: 0.2217 - val_loss: 0.3129\n",
            "Epoch 6/30\n",
            "60000/60000 [==============================] - 29s 489us/sample - loss: 0.2079 - val_loss: 0.2966\n",
            "Epoch 7/30\n",
            "60000/60000 [==============================] - 29s 490us/sample - loss: 0.1967 - val_loss: 0.2842\n",
            "Epoch 8/30\n",
            "60000/60000 [==============================] - 29s 490us/sample - loss: 0.1875 - val_loss: 0.2741\n",
            "Epoch 9/30\n",
            "60000/60000 [==============================] - 29s 492us/sample - loss: 0.1799 - val_loss: 0.2658\n",
            "Epoch 10/30\n",
            "60000/60000 [==============================] - 29s 491us/sample - loss: 0.1734 - val_loss: 0.2584\n",
            "Epoch 11/30\n",
            "60000/60000 [==============================] - 29s 489us/sample - loss: 0.1677 - val_loss: 0.2511\n",
            "Epoch 12/30\n",
            "60000/60000 [==============================] - 29s 490us/sample - loss: 0.1624 - val_loss: 0.2456\n",
            "Epoch 13/30\n",
            "60000/60000 [==============================] - 29s 489us/sample - loss: 0.1580 - val_loss: 0.2400\n",
            "Epoch 14/30\n",
            "60000/60000 [==============================] - 30s 493us/sample - loss: 0.1537 - val_loss: 0.2349\n",
            "Epoch 15/30\n",
            "60000/60000 [==============================] - 29s 490us/sample - loss: 0.1501 - val_loss: 0.2317\n",
            "Epoch 16/30\n",
            "60000/60000 [==============================] - 29s 491us/sample - loss: 0.1467 - val_loss: 0.2267\n",
            "Epoch 17/30\n",
            "60000/60000 [==============================] - 29s 490us/sample - loss: 0.1435 - val_loss: 0.2223\n",
            "Epoch 18/30\n",
            "60000/60000 [==============================] - 29s 489us/sample - loss: 0.1406 - val_loss: 0.2190\n",
            "Epoch 19/30\n",
            "60000/60000 [==============================] - 29s 490us/sample - loss: 0.1377 - val_loss: 0.2154\n",
            "Epoch 20/30\n",
            "60000/60000 [==============================] - 29s 490us/sample - loss: 0.1353 - val_loss: 0.2130\n",
            "Epoch 21/30\n",
            "60000/60000 [==============================] - 29s 489us/sample - loss: 0.1327 - val_loss: 0.2095\n",
            "Epoch 22/30\n",
            "60000/60000 [==============================] - 29s 488us/sample - loss: 0.1301 - val_loss: 0.2063\n",
            "Epoch 23/30\n",
            "60000/60000 [==============================] - 29s 488us/sample - loss: 0.1284 - val_loss: 0.2040\n",
            "Epoch 24/30\n",
            "60000/60000 [==============================] - 29s 490us/sample - loss: 0.1262 - val_loss: 0.2016\n",
            "Epoch 25/30\n",
            "60000/60000 [==============================] - 30s 493us/sample - loss: 0.1242 - val_loss: 0.1996\n",
            "Epoch 26/30\n",
            "60000/60000 [==============================] - 29s 489us/sample - loss: 0.1223 - val_loss: 0.1966\n",
            "Epoch 27/30\n",
            "60000/60000 [==============================] - 29s 489us/sample - loss: 0.1204 - val_loss: 0.1948\n",
            "Epoch 28/30\n",
            "60000/60000 [==============================] - 29s 490us/sample - loss: 0.1188 - val_loss: 0.1931\n",
            "Epoch 29/30\n",
            "60000/60000 [==============================] - 29s 488us/sample - loss: 0.1170 - val_loss: 0.1902\n",
            "Epoch 30/30\n",
            "60000/60000 [==============================] - 29s 489us/sample - loss: 0.1152 - val_loss: 0.1895\n"
          ],
          "name": "stdout"
        },
        {
          "output_type": "display_data",
          "data": {
            "image/png": "[encoded data removed]",
            "text/plain": [
              "<Figure size 432x288 with 1 Axes>"
            ]
          },
          "metadata": {
            "tags": []
          }
        },
        {
          "output_type": "stream",
          "text": [
            "Средняя ошибка:  73308.0\n",
            "Средняя цена:  530277.0\n",
            "Процент ошибки: 14.0%\n"
          ],
          "name": "stdout"
        }
      ]
    },
    {
      "cell_type": "markdown",
      "metadata": {
        "id": "LP9GS5uSSIeV",
        "colab_type": "text"
      },
      "source": [
        "**1.4** Создаем базу без учета типа **КПП** автомобиля."
      ]
    },
    {
      "cell_type": "code",
      "metadata": {
        "id": "k4E_MPKHSJM3",
        "colab_type": "code",
        "colab": {}
      },
      "source": [
        "x_train = []\n",
        "y_train = []\n",
        "\n",
        "#Проходам по всем машинам\n",
        "for _id, car in enumerate(np.array(cars)):\n",
        "  #В y_train добавляем цену\n",
        "  y_train.append(prices[_id])\n",
        "  \n",
        "  #В x_train объединяем все параметры\n",
        "  #Категорийные параметры добавляем в ваде ohe\n",
        "  #Числовые параметры добавляем напрямую\n",
        "  x_tr = to_ohe(car[0], marks_dict) + \\\n",
        "        to_ohe(car[1], models_dict) + \\\n",
        "        to_ohe(car[5], bodies_dict) + \\\n",
        "        to_ohe(car[7], fuels_dict) + \\\n",
        "        [years[_id]] + \\\n",
        "        [mileages[_id]] + \\\n",
        "        [volumes[_id]] + \\\n",
        "        [powers[_id]]\n",
        "  \n",
        "  #Добавляем текущую строку в общий z_train\n",
        "  x_train.append(x_tr)\n",
        "\n",
        "#Превращаем лист в numpy.array\n",
        "x_train = np.array(x_train, dtype=np.float)\n",
        "y_train = np.array(y_train, dtype=np.float)\n",
        "#Нормализуем y_train\n",
        "y_scaler = StandardScaler()\n",
        "y_train_scaled = y_scaler.fit_transform(y_train.reshape(-1,1)).flatten()"
      ],
      "execution_count": 0,
      "outputs": []
    },
    {
      "cell_type": "code",
      "metadata": {
        "id": "WzeNUP-1SJ8V",
        "colab_type": "code",
        "colab": {
          "base_uri": "https://localhost:8080/",
          "height": 1000
        },
        "outputId": "3687f30a-e469-4e6b-ace6-2ee8e23135da"
      },
      "source": [
        "#Создаём сеть \n",
        "model = Sequential()\n",
        "model.add(Dense(2500, activation='relu', input_shape=(x_train.shape[1],)))\n",
        "model.add(Dense(2500, activation='relu'))\n",
        "model.add(Dense(1, activation='linear'))\n",
        "\n",
        "#Указываем прямо шаг обучения - 1е-6\n",
        "model.compile(optimizer=Adam(lr=0.000001), loss='mse')\n",
        "\n",
        "#60000 примеров будет в обучающей выборке\n",
        "n_val = 60000\n",
        "history = model.fit(x_train[:n_val], \n",
        "                    y_train_scaled[:n_val],\n",
        "                    batch_size=20,\n",
        "                    epochs=20, \n",
        "                    validation_data=(x_train[n_val:], y_train_scaled[n_val:]), \n",
        "                    verbose=1)\n",
        "\n",
        "#Отображаем графики ошибки обучения на всех эпохах\n",
        "#Один по обучающей выборке, второй по проверочной\n",
        "plt.plot(history.history['loss'], label='Ошибка на обучающем наборе')\n",
        "plt.plot(history.history['val_loss'], label='Ошибка на проверочном наборе')\n",
        "plt.xlabel('Эпоха обучения')\n",
        "plt.ylabel('MSE')\n",
        "plt.legend()\n",
        "plt.show()\n",
        "\n",
        "#Предсказываем проверочную выборку\n",
        "predict = model.predict(x_train[n_val:])\n",
        "#Меняем масштаб обратно от нормированного к оригинальному\n",
        "predict = y_scaler.inverse_transform(predict).flatten()\n",
        "\n",
        "#Считаем ошибку и модуль ошибки прогнозирования по всем примерам\n",
        "delta = predict - y_train[n_val:]\n",
        "abs_delta = abs(delta)\n",
        "\n",
        "#Считаем среднюю цену, среднюю ошибку и средни процени ошибки\n",
        "#Выводим на экран\n",
        "mean_delta = sum(abs_delta)/len(abs_delta)\n",
        "mean_price = sum(y_train[n_val:])/len(y_train[n_val:])\n",
        "print(\"Средняя ошибка: \", round(mean_delta))\n",
        "print(\"Средняя цена: \", round(mean_price))\n",
        "print(\"Процент ошибки: \", round(100*mean_delta / mean_price), \"%\", sep=\"\")"
      ],
      "execution_count": 13,
      "outputs": [
        {
          "output_type": "stream",
          "text": [
            "Train on 60000 samples, validate on 10119 samples\n",
            "Epoch 1/20\n",
            "60000/60000 [==============================] - 30s 504us/sample - loss: 0.5336 - val_loss: 0.4943\n",
            "Epoch 2/20\n",
            "60000/60000 [==============================] - 29s 491us/sample - loss: 0.3157 - val_loss: 0.3930\n",
            "Epoch 3/20\n",
            "60000/60000 [==============================] - 29s 489us/sample - loss: 0.2596 - val_loss: 0.3494\n",
            "Epoch 4/20\n",
            "60000/60000 [==============================] - 29s 489us/sample - loss: 0.2314 - val_loss: 0.3238\n",
            "Epoch 5/20\n",
            "60000/60000 [==============================] - 29s 490us/sample - loss: 0.2131 - val_loss: 0.3059\n",
            "Epoch 6/20\n",
            "60000/60000 [==============================] - 29s 489us/sample - loss: 0.1992 - val_loss: 0.2905\n",
            "Epoch 7/20\n",
            "60000/60000 [==============================] - 30s 492us/sample - loss: 0.1882 - val_loss: 0.2784\n",
            "Epoch 8/20\n",
            "60000/60000 [==============================] - 29s 490us/sample - loss: 0.1793 - val_loss: 0.2683\n",
            "Epoch 9/20\n",
            "60000/60000 [==============================] - 29s 489us/sample - loss: 0.1720 - val_loss: 0.2611\n",
            "Epoch 10/20\n",
            "60000/60000 [==============================] - 29s 490us/sample - loss: 0.1658 - val_loss: 0.2535\n",
            "Epoch 11/20\n",
            "60000/60000 [==============================] - 29s 489us/sample - loss: 0.1601 - val_loss: 0.2478\n",
            "Epoch 12/20\n",
            "60000/60000 [==============================] - 30s 493us/sample - loss: 0.1554 - val_loss: 0.2431\n",
            "Epoch 13/20\n",
            "60000/60000 [==============================] - 29s 487us/sample - loss: 0.1514 - val_loss: 0.2367\n",
            "Epoch 14/20\n",
            "60000/60000 [==============================] - 29s 490us/sample - loss: 0.1471 - val_loss: 0.2312\n",
            "Epoch 15/20\n",
            "60000/60000 [==============================] - 29s 489us/sample - loss: 0.1436 - val_loss: 0.2273\n",
            "Epoch 16/20\n",
            "60000/60000 [==============================] - 29s 488us/sample - loss: 0.1402 - val_loss: 0.2229\n",
            "Epoch 17/20\n",
            "60000/60000 [==============================] - 29s 490us/sample - loss: 0.1373 - val_loss: 0.2198\n",
            "Epoch 18/20\n",
            "60000/60000 [==============================] - 29s 492us/sample - loss: 0.1341 - val_loss: 0.2157\n",
            "Epoch 19/20\n",
            "60000/60000 [==============================] - 29s 492us/sample - loss: 0.1319 - val_loss: 0.2130\n",
            "Epoch 20/20\n",
            "60000/60000 [==============================] - 29s 491us/sample - loss: 0.1292 - val_loss: 0.2095\n"
          ],
          "name": "stdout"
        },
        {
          "output_type": "display_data",
          "data": {
            "image/png": "[encoded data removed]",
            "text/plain": [
              "<Figure size 432x288 with 1 Axes>"
            ]
          },
          "metadata": {
            "tags": []
          }
        },
        {
          "output_type": "stream",
          "text": [
            "Средняя ошибка:  77411.0\n",
            "Средняя цена:  530277.0\n",
            "Процент ошибки: 15.0%\n"
          ],
          "name": "stdout"
        }
      ]
    },
    {
      "cell_type": "code",
      "metadata": {
        "id": "vImKSKoSDryL",
        "colab_type": "code",
        "colab": {}
      },
      "source": [
        "#УДообчаем эту сетку еще 10 эпох.\n",
        "model.compile(optimizer=Adam(lr=0.000001), loss='mse')\n",
        "history = model.fit(x_train[:n_val], \n",
        "                    y_train_scaled[:n_val],\n",
        "                    batch_size=20,\n",
        "                    epochs=10, \n",
        "                    validation_data=(x_train[n_val:], y_train_scaled[n_val:]), \n",
        "                    verbose=2)\n",
        "\n",
        "plt.plot(history.history['loss'], label='Ошибка на обучающем наборе')\n",
        "plt.plot(history.history['val_loss'], label='Ошибка на проверочном наборе')\n",
        "plt.xlabel('Эпоха обучения')\n",
        "plt.ylabel('MSE')\n",
        "plt.legend()\n",
        "plt.show()\n",
        "\n",
        "predict = model.predict(x_train[n_val:])\n",
        "predict = y_scaler.inverse_transform(predict).flatten()\n",
        "delta = predict - y_train[n_val:]\n",
        "abs_delta = abs(delta)\n",
        "\n",
        "mean_delta = sum(abs_delta)/len(abs_delta)\n",
        "mean_price = sum(y_train[n_val:])/len(y_train[n_val:])\n",
        "print(\"Средняя ошибка: \", round(mean_delta))\n",
        "print(\"Средняя цена: \", round(mean_price))\n",
        "print(\"Процент ошибки: \", round(100*mean_delta / mean_price), \"%\", sep=\"\")"
      ],
      "execution_count": 0,
      "outputs": []
    },
    {
      "cell_type": "markdown",
      "metadata": {
        "id": "LzEEhwSgSenm",
        "colab_type": "text"
      },
      "source": [
        "**1.5** Создаем базу без учета типа **топлива** автомобиля."
      ]
    },
    {
      "cell_type": "code",
      "metadata": {
        "id": "xe7lkujtSyf5",
        "colab_type": "code",
        "colab": {}
      },
      "source": [
        "x_train = []\n",
        "y_train = []\n",
        "\n",
        "#Проходам по всем машинам\n",
        "for _id, car in enumerate(np.array(cars)):\n",
        "  #В y_train добавляем цену\n",
        "  y_train.append(prices[_id])\n",
        "  \n",
        "  #В x_train объединяем все параметры\n",
        "  #Категорийные параметры добавляем в ваде ohe\n",
        "  #Числовые параметры добавляем напрямую\n",
        "  x_tr = to_ohe(car[0], marks_dict) + \\\n",
        "        to_ohe(car[1], models_dict) + \\\n",
        "        to_ohe(car[5], bodies_dict) + \\\n",
        "        to_ohe(car[6], kpps_dict) + \\\n",
        "        [years[_id]] + \\\n",
        "        [mileages[_id]] + \\\n",
        "        [volumes[_id]] + \\\n",
        "        [powers[_id]]\n",
        "  \n",
        "  #Добавляем текущую строку в общий z_train\n",
        "  x_train.append(x_tr)\n",
        "\n",
        "#Превращаем лист в numpy.array\n",
        "x_train = np.array(x_train, dtype=np.float)\n",
        "y_train = np.array(y_train, dtype=np.float)\n",
        "#Нормализуем y_train\n",
        "y_scaler = StandardScaler()\n",
        "y_train_scaled = y_scaler.fit_transform(y_train.reshape(-1,1)).flatten()"
      ],
      "execution_count": 0,
      "outputs": []
    },
    {
      "cell_type": "code",
      "metadata": {
        "id": "78lkq8kESyH4",
        "colab_type": "code",
        "colab": {
          "base_uri": "https://localhost:8080/",
          "height": 1000
        },
        "outputId": "5f90ff0d-a86b-4808-a8ca-b79eb3a91f08"
      },
      "source": [
        "#Создаём сеть \n",
        "model = Sequential()\n",
        "model.add(Dense(2500, activation='relu', input_shape=(x_train.shape[1],)))\n",
        "model.add(Dense(2500, activation='relu'))\n",
        "model.add(Dense(1, activation='linear'))\n",
        "\n",
        "#Указываем прямо шаг обучения - 1е-6\n",
        "model.compile(optimizer=Adam(lr=0.000001), loss='mse')\n",
        "\n",
        "#60000 примеров будет в обучающей выборке\n",
        "n_val = 60000\n",
        "history = model.fit(x_train[:n_val], \n",
        "                    y_train_scaled[:n_val],\n",
        "                    batch_size=20,\n",
        "                    epochs=20, \n",
        "                    validation_data=(x_train[n_val:], y_train_scaled[n_val:]), \n",
        "                    verbose=1)\n",
        "\n",
        "#Отображаем графики ошибки обучения на всех эпохах\n",
        "#Один по обучающей выборке, второй по проверочной\n",
        "plt.plot(history.history['loss'], label='Ошибка на обучающем наборе')\n",
        "plt.plot(history.history['val_loss'], label='Ошибка на проверочном наборе')\n",
        "plt.xlabel('Эпоха обучения')\n",
        "plt.ylabel('MSE')\n",
        "plt.legend()\n",
        "plt.show()\n",
        "\n",
        "#Предсказываем проверочную выборку\n",
        "predict = model.predict(x_train[n_val:])\n",
        "#Меняем масштаб обратно от нормированного к оригинальному\n",
        "predict = y_scaler.inverse_transform(predict).flatten()\n",
        "\n",
        "#Считаем ошибку и модуль ошибки прогнозирования по всем примерам\n",
        "delta = predict - y_train[n_val:]\n",
        "abs_delta = abs(delta)\n",
        "\n",
        "#Считаем среднюю цену, среднюю ошибку и средни процени ошибки\n",
        "#Выводим на экран\n",
        "mean_delta = sum(abs_delta)/len(abs_delta)\n",
        "mean_price = sum(y_train[n_val:])/len(y_train[n_val:])\n",
        "print(\"Средняя ошибка: \", round(mean_delta))\n",
        "print(\"Средняя цена: \", round(mean_price))\n",
        "print(\"Процент ошибки: \", round(100*mean_delta / mean_price), \"%\", sep=\"\")"
      ],
      "execution_count": 15,
      "outputs": [
        {
          "output_type": "stream",
          "text": [
            "Train on 60000 samples, validate on 10119 samples\n",
            "Epoch 1/20\n",
            "60000/60000 [==============================] - 30s 503us/sample - loss: 0.5601 - val_loss: 0.5179\n",
            "Epoch 2/20\n",
            "60000/60000 [==============================] - 29s 489us/sample - loss: 0.3382 - val_loss: 0.4163\n",
            "Epoch 3/20\n",
            "60000/60000 [==============================] - 29s 487us/sample - loss: 0.2798 - val_loss: 0.3707\n",
            "Epoch 4/20\n",
            "60000/60000 [==============================] - 29s 487us/sample - loss: 0.2492 - val_loss: 0.3419\n",
            "Epoch 5/20\n",
            "60000/60000 [==============================] - 29s 489us/sample - loss: 0.2281 - val_loss: 0.3223\n",
            "Epoch 6/20\n",
            "60000/60000 [==============================] - 29s 485us/sample - loss: 0.2128 - val_loss: 0.3042\n",
            "Epoch 7/20\n",
            "60000/60000 [==============================] - 29s 484us/sample - loss: 0.1999 - val_loss: 0.2906\n",
            "Epoch 8/20\n",
            "60000/60000 [==============================] - 29s 487us/sample - loss: 0.1894 - val_loss: 0.2798\n",
            "Epoch 9/20\n",
            "60000/60000 [==============================] - 29s 484us/sample - loss: 0.1809 - val_loss: 0.2718\n",
            "Epoch 10/20\n",
            "60000/60000 [==============================] - 29s 485us/sample - loss: 0.1740 - val_loss: 0.2627\n",
            "Epoch 11/20\n",
            "60000/60000 [==============================] - 29s 490us/sample - loss: 0.1679 - val_loss: 0.2561\n",
            "Epoch 12/20\n",
            "60000/60000 [==============================] - 30s 492us/sample - loss: 0.1619 - val_loss: 0.2490\n",
            "Epoch 13/20\n",
            "60000/60000 [==============================] - 30s 492us/sample - loss: 0.1569 - val_loss: 0.2422\n",
            "Epoch 14/20\n",
            "60000/60000 [==============================] - 29s 492us/sample - loss: 0.1523 - val_loss: 0.2382\n",
            "Epoch 15/20\n",
            "60000/60000 [==============================] - 29s 490us/sample - loss: 0.1482 - val_loss: 0.2328\n",
            "Epoch 16/20\n",
            "60000/60000 [==============================] - 30s 496us/sample - loss: 0.1445 - val_loss: 0.2289\n",
            "Epoch 17/20\n",
            "60000/60000 [==============================] - 29s 489us/sample - loss: 0.1414 - val_loss: 0.2249\n",
            "Epoch 18/20\n",
            "60000/60000 [==============================] - 29s 490us/sample - loss: 0.1381 - val_loss: 0.2210\n",
            "Epoch 19/20\n",
            "60000/60000 [==============================] - 29s 489us/sample - loss: 0.1351 - val_loss: 0.2182\n",
            "Epoch 20/20\n",
            "60000/60000 [==============================] - 29s 490us/sample - loss: 0.1323 - val_loss: 0.2142\n"
          ],
          "name": "stdout"
        },
        {
          "output_type": "display_data",
          "data": {
            "image/png": "[encoded data removed]",
            "text/plain": [
              "<Figure size 432x288 with 1 Axes>"
            ]
          },
          "metadata": {
            "tags": []
          }
        },
        {
          "output_type": "stream",
          "text": [
            "Средняя ошибка:  78309.0\n",
            "Средняя цена:  530277.0\n",
            "Процент ошибки: 15.0%\n"
          ],
          "name": "stdout"
        }
      ]
    },
    {
      "cell_type": "markdown",
      "metadata": {
        "id": "Jcm-wGZUSziV",
        "colab_type": "text"
      },
      "source": [
        "**1.6** Создаем базу без учета типа **обем двигателя** автомобиля."
      ]
    },
    {
      "cell_type": "code",
      "metadata": {
        "id": "YIVjL336TI0L",
        "colab_type": "code",
        "colab": {}
      },
      "source": [
        "x_train = []\n",
        "y_train = []\n",
        "\n",
        "#Проходам по всем машинам\n",
        "for _id, car in enumerate(np.array(cars)):\n",
        "  #В y_train добавляем цену\n",
        "  y_train.append(prices[_id])\n",
        "  \n",
        "  #В x_train объединяем все параметры\n",
        "  #Категорийные параметры добавляем в ваде ohe\n",
        "  #Числовые параметры добавляем напрямую\n",
        "  x_tr = to_ohe(car[0], marks_dict) + \\\n",
        "        to_ohe(car[1], models_dict) + \\\n",
        "        to_ohe(car[5], bodies_dict) + \\\n",
        "        to_ohe(car[6], kpps_dict) + \\\n",
        "        to_ohe(car[7], fuels_dict) + \\\n",
        "        [years[_id]] + \\\n",
        "        [mileages[_id]] + \\\n",
        "        [powers[_id]]\n",
        "  \n",
        "  #Добавляем текущую строку в общий z_train\n",
        "  x_train.append(x_tr)\n",
        "\n",
        "#Превращаем лист в numpy.array\n",
        "x_train = np.array(x_train, dtype=np.float)\n",
        "y_train = np.array(y_train, dtype=np.float)\n",
        "#Нормализуем y_train\n",
        "y_scaler = StandardScaler()\n",
        "y_train_scaled = y_scaler.fit_transform(y_train.reshape(-1,1)).flatten()"
      ],
      "execution_count": 0,
      "outputs": []
    },
    {
      "cell_type": "code",
      "metadata": {
        "id": "p7UUsjIsTIfz",
        "colab_type": "code",
        "colab": {
          "base_uri": "https://localhost:8080/",
          "height": 1000
        },
        "outputId": "3c89ead0-5b06-4a2b-e93a-6914f886a11e"
      },
      "source": [
        "#Создаём сеть \n",
        "model = Sequential()\n",
        "model.add(Dense(2500, activation='relu', input_shape=(x_train.shape[1],)))\n",
        "model.add(Dense(2500, activation='relu'))\n",
        "model.add(Dense(1, activation='linear'))\n",
        "\n",
        "#Указываем прямо шаг обучения - 1е-6\n",
        "model.compile(optimizer=Adam(lr=0.000001), loss='mse')\n",
        "\n",
        "#60000 примеров будет в обучающей выборке\n",
        "n_val = 60000\n",
        "history = model.fit(x_train[:n_val], \n",
        "                    y_train_scaled[:n_val],\n",
        "                    batch_size=20,\n",
        "                    epochs=30, \n",
        "                    validation_data=(x_train[n_val:], y_train_scaled[n_val:]), \n",
        "                    verbose=1)\n",
        "\n",
        "#Отображаем графики ошибки обучения на всех эпохах\n",
        "#Один по обучающей выборке, второй по проверочной\n",
        "plt.plot(history.history['loss'], label='Ошибка на обучающем наборе')\n",
        "plt.plot(history.history['val_loss'], label='Ошибка на проверочном наборе')\n",
        "plt.xlabel('Эпоха обучения')\n",
        "plt.ylabel('MSE')\n",
        "plt.legend()\n",
        "plt.show()\n",
        "\n",
        "#Предсказываем проверочную выборку\n",
        "predict = model.predict(x_train[n_val:])\n",
        "#Меняем масштаб обратно от нормированного к оригинальному\n",
        "predict = y_scaler.inverse_transform(predict).flatten()\n",
        "\n",
        "#Считаем ошибку и модуль ошибки прогнозирования по всем примерам\n",
        "delta = predict - y_train[n_val:]\n",
        "abs_delta = abs(delta)\n",
        "\n",
        "#Считаем среднюю цену, среднюю ошибку и средни процени ошибки\n",
        "#Выводим на экран\n",
        "mean_delta = sum(abs_delta)/len(abs_delta)\n",
        "mean_price = sum(y_train[n_val:])/len(y_train[n_val:])\n",
        "print(\"Средняя ошибка: \", round(mean_delta))\n",
        "print(\"Средняя цена: \", round(mean_price))\n",
        "print(\"Процент ошибки: \", round(100*mean_delta / mean_price), \"%\", sep=\"\")"
      ],
      "execution_count": 17,
      "outputs": [
        {
          "output_type": "stream",
          "text": [
            "Train on 60000 samples, validate on 10119 samples\n",
            "Epoch 1/30\n",
            "60000/60000 [==============================] - 31s 510us/sample - loss: 0.5386 - val_loss: 0.4915\n",
            "Epoch 2/30\n",
            "60000/60000 [==============================] - 30s 494us/sample - loss: 0.3140 - val_loss: 0.3890\n",
            "Epoch 3/30\n",
            "60000/60000 [==============================] - 30s 494us/sample - loss: 0.2587 - val_loss: 0.3468\n",
            "Epoch 4/30\n",
            "60000/60000 [==============================] - 30s 494us/sample - loss: 0.2311 - val_loss: 0.3216\n",
            "Epoch 5/30\n",
            "60000/60000 [==============================] - 30s 500us/sample - loss: 0.2129 - val_loss: 0.3031\n",
            "Epoch 6/30\n",
            "60000/60000 [==============================] - 30s 497us/sample - loss: 0.1989 - val_loss: 0.2875\n",
            "Epoch 7/30\n",
            "60000/60000 [==============================] - 30s 496us/sample - loss: 0.1879 - val_loss: 0.2752\n",
            "Epoch 8/30\n",
            "60000/60000 [==============================] - 30s 496us/sample - loss: 0.1790 - val_loss: 0.2655\n",
            "Epoch 9/30\n",
            "60000/60000 [==============================] - 30s 499us/sample - loss: 0.1712 - val_loss: 0.2569\n",
            "Epoch 10/30\n",
            "60000/60000 [==============================] - 30s 498us/sample - loss: 0.1647 - val_loss: 0.2488\n",
            "Epoch 11/30\n",
            "60000/60000 [==============================] - 30s 496us/sample - loss: 0.1590 - val_loss: 0.2420\n",
            "Epoch 12/30\n",
            "60000/60000 [==============================] - 30s 496us/sample - loss: 0.1534 - val_loss: 0.2392\n",
            "Epoch 13/30\n",
            "60000/60000 [==============================] - 30s 501us/sample - loss: 0.1497 - val_loss: 0.2310\n",
            "Epoch 14/30\n",
            "60000/60000 [==============================] - 30s 497us/sample - loss: 0.1452 - val_loss: 0.2254\n",
            "Epoch 15/30\n",
            "60000/60000 [==============================] - 30s 501us/sample - loss: 0.1416 - val_loss: 0.2216\n",
            "Epoch 16/30\n",
            "60000/60000 [==============================] - 30s 500us/sample - loss: 0.1382 - val_loss: 0.2180\n",
            "Epoch 17/30\n",
            "60000/60000 [==============================] - 30s 497us/sample - loss: 0.1351 - val_loss: 0.2132\n",
            "Epoch 18/30\n",
            "60000/60000 [==============================] - 30s 496us/sample - loss: 0.1324 - val_loss: 0.2105\n",
            "Epoch 19/30\n",
            "60000/60000 [==============================] - 30s 500us/sample - loss: 0.1296 - val_loss: 0.2063\n",
            "Epoch 20/30\n",
            "60000/60000 [==============================] - 30s 500us/sample - loss: 0.1269 - val_loss: 0.2040\n",
            "Epoch 21/30\n",
            "60000/60000 [==============================] - 30s 497us/sample - loss: 0.1247 - val_loss: 0.2007\n",
            "Epoch 22/30\n",
            "60000/60000 [==============================] - 30s 498us/sample - loss: 0.1225 - val_loss: 0.1985\n",
            "Epoch 23/30\n",
            "60000/60000 [==============================] - 30s 501us/sample - loss: 0.1204 - val_loss: 0.1955\n",
            "Epoch 24/30\n",
            "60000/60000 [==============================] - 30s 497us/sample - loss: 0.1182 - val_loss: 0.1927\n",
            "Epoch 25/30\n",
            "60000/60000 [==============================] - 30s 500us/sample - loss: 0.1165 - val_loss: 0.1907\n",
            "Epoch 26/30\n",
            "60000/60000 [==============================] - 30s 500us/sample - loss: 0.1148 - val_loss: 0.1887\n",
            "Epoch 27/30\n",
            "60000/60000 [==============================] - 30s 498us/sample - loss: 0.1129 - val_loss: 0.1861\n",
            "Epoch 28/30\n",
            "60000/60000 [==============================] - 30s 497us/sample - loss: 0.1110 - val_loss: 0.1847\n",
            "Epoch 29/30\n",
            "60000/60000 [==============================] - 30s 497us/sample - loss: 0.1098 - val_loss: 0.1825\n",
            "Epoch 30/30\n",
            "60000/60000 [==============================] - 30s 500us/sample - loss: 0.1082 - val_loss: 0.1811\n"
          ],
          "name": "stdout"
        },
        {
          "output_type": "display_data",
          "data": {
            "image/png": "[encoded data removed]",
            "text/plain": [
              "<Figure size 432x288 with 1 Axes>"
            ]
          },
          "metadata": {
            "tags": []
          }
        },
        {
          "output_type": "stream",
          "text": [
            "Средняя ошибка:  71429.0\n",
            "Средняя цена:  530277.0\n",
            "Процент ошибки: 13.0%\n"
          ],
          "name": "stdout"
        }
      ]
    },
    {
      "cell_type": "markdown",
      "metadata": {
        "id": "fo72bKhCTJqB",
        "colab_type": "text"
      },
      "source": [
        "**1.7** Создаем базу без учета типа **мощности двигателя** автомобиля."
      ]
    },
    {
      "cell_type": "code",
      "metadata": {
        "id": "WOPZGR5MUfta",
        "colab_type": "code",
        "colab": {}
      },
      "source": [
        "x_train = []\n",
        "y_train = []\n",
        "\n",
        "#Проходам по всем машинам\n",
        "for _id, car in enumerate(np.array(cars)):\n",
        "  #В y_train добавляем цену\n",
        "  y_train.append(prices[_id])\n",
        "  \n",
        "  #В x_train объединяем все параметры\n",
        "  #Категорийные параметры добавляем в ваде ohe\n",
        "  #Числовые параметры добавляем напрямую\n",
        "  x_tr = to_ohe(car[0], marks_dict) + \\\n",
        "        to_ohe(car[1], models_dict) + \\\n",
        "        to_ohe(car[5], bodies_dict) + \\\n",
        "        to_ohe(car[6], kpps_dict) + \\\n",
        "        to_ohe(car[7], fuels_dict) + \\\n",
        "        [years[_id]] + \\\n",
        "        [mileages[_id]] + \\\n",
        "        [volumes[_id]] \n",
        "  \n",
        "  #Добавляем текущую строку в общий z_train\n",
        "  x_train.append(x_tr)\n",
        "\n",
        "#Превращаем лист в numpy.array\n",
        "x_train = np.array(x_train, dtype=np.float)\n",
        "y_train = np.array(y_train, dtype=np.float)\n",
        "#Нормализуем y_train\n",
        "y_scaler = StandardScaler()\n",
        "y_train_scaled = y_scaler.fit_transform(y_train.reshape(-1,1)).flatten()"
      ],
      "execution_count": 0,
      "outputs": []
    },
    {
      "cell_type": "code",
      "metadata": {
        "id": "1Md1Ydm1UfGN",
        "colab_type": "code",
        "colab": {
          "base_uri": "https://localhost:8080/",
          "height": 1000
        },
        "outputId": "793f4093-b491-4fc8-85be-4dc1c32da900"
      },
      "source": [
        "#Создаём сеть \n",
        "model = Sequential()\n",
        "model.add(Dense(2500, activation='relu', input_shape=(x_train.shape[1],)))\n",
        "model.add(Dense(2500, activation='relu'))\n",
        "model.add(Dense(1, activation='linear'))\n",
        "\n",
        "#Указываем прямо шаг обучения - 1е-6\n",
        "model.compile(optimizer=Adam(lr=0.000001), loss='mse')\n",
        "\n",
        "#60000 примеров будет в обучающей выборке\n",
        "n_val = 60000\n",
        "history = model.fit(x_train[:n_val], \n",
        "                    y_train_scaled[:n_val],\n",
        "                    batch_size=20,\n",
        "                    epochs=30, \n",
        "                    validation_data=(x_train[n_val:], y_train_scaled[n_val:]), \n",
        "                    verbose=1)\n",
        "\n",
        "#Отображаем графики ошибки обучения на всех эпохах\n",
        "#Один по обучающей выборке, второй по проверочной\n",
        "plt.plot(history.history['loss'], label='Ошибка на обучающем наборе')\n",
        "plt.plot(history.history['val_loss'], label='Ошибка на проверочном наборе')\n",
        "plt.xlabel('Эпоха обучения')\n",
        "plt.ylabel('MSE')\n",
        "plt.legend()\n",
        "plt.show()\n",
        "\n",
        "#Предсказываем проверочную выборку\n",
        "predict = model.predict(x_train[n_val:])\n",
        "#Меняем масштаб обратно от нормированного к оригинальному\n",
        "predict = y_scaler.inverse_transform(predict).flatten()\n",
        "\n",
        "#Считаем ошибку и модуль ошибки прогнозирования по всем примерам\n",
        "delta = predict - y_train[n_val:]\n",
        "abs_delta = abs(delta)\n",
        "\n",
        "#Считаем среднюю цену, среднюю ошибку и средни проценt ошибки\n",
        "#Выводим на экран\n",
        "mean_delta = sum(abs_delta)/len(abs_delta)\n",
        "mean_price = sum(y_train[n_val:])/len(y_train[n_val:])\n",
        "print(\"Средняя ошибка: \", round(mean_delta))\n",
        "print(\"Средняя цена: \", round(mean_price))\n",
        "print(\"Процент ошибки: \", round(100*mean_delta / mean_price), \"%\", sep=\"\")"
      ],
      "execution_count": 19,
      "outputs": [
        {
          "output_type": "stream",
          "text": [
            "Train on 60000 samples, validate on 10119 samples\n",
            "Epoch 1/30\n",
            "60000/60000 [==============================] - 30s 508us/sample - loss: 0.5900 - val_loss: 0.5451\n",
            "Epoch 2/30\n",
            "60000/60000 [==============================] - 30s 495us/sample - loss: 0.3538 - val_loss: 0.4333\n",
            "Epoch 3/30\n",
            "60000/60000 [==============================] - 30s 492us/sample - loss: 0.2916 - val_loss: 0.3864\n",
            "Epoch 4/30\n",
            "60000/60000 [==============================] - 29s 491us/sample - loss: 0.2598 - val_loss: 0.3569\n",
            "Epoch 5/30\n",
            "60000/60000 [==============================] - 29s 492us/sample - loss: 0.2377 - val_loss: 0.3332\n",
            "Epoch 6/30\n",
            "60000/60000 [==============================] - 30s 492us/sample - loss: 0.2216 - val_loss: 0.3175\n",
            "Epoch 7/30\n",
            "60000/60000 [==============================] - 30s 492us/sample - loss: 0.2088 - val_loss: 0.3035\n",
            "Epoch 8/30\n",
            "60000/60000 [==============================] - 30s 492us/sample - loss: 0.1979 - val_loss: 0.2907\n",
            "Epoch 9/30\n",
            "60000/60000 [==============================] - 30s 493us/sample - loss: 0.1887 - val_loss: 0.2804\n",
            "Epoch 10/30\n",
            "60000/60000 [==============================] - 30s 493us/sample - loss: 0.1812 - val_loss: 0.2716\n",
            "Epoch 11/30\n",
            "60000/60000 [==============================] - 30s 492us/sample - loss: 0.1746 - val_loss: 0.2644\n",
            "Epoch 12/30\n",
            "60000/60000 [==============================] - 30s 497us/sample - loss: 0.1687 - val_loss: 0.2568\n",
            "Epoch 13/30\n",
            "60000/60000 [==============================] - 30s 492us/sample - loss: 0.1631 - val_loss: 0.2530\n",
            "Epoch 14/30\n",
            "60000/60000 [==============================] - 30s 493us/sample - loss: 0.1585 - val_loss: 0.2441\n",
            "Epoch 15/30\n",
            "60000/60000 [==============================] - 30s 492us/sample - loss: 0.1540 - val_loss: 0.2400\n",
            "Epoch 16/30\n",
            "60000/60000 [==============================] - 30s 493us/sample - loss: 0.1498 - val_loss: 0.2364\n",
            "Epoch 17/30\n",
            "60000/60000 [==============================] - 30s 497us/sample - loss: 0.1462 - val_loss: 0.2298\n",
            "Epoch 18/30\n",
            "60000/60000 [==============================] - 30s 501us/sample - loss: 0.1429 - val_loss: 0.2260\n",
            "Epoch 19/30\n",
            "60000/60000 [==============================] - 30s 499us/sample - loss: 0.1394 - val_loss: 0.2219\n",
            "Epoch 20/30\n",
            "60000/60000 [==============================] - 30s 499us/sample - loss: 0.1365 - val_loss: 0.2188\n",
            "Epoch 21/30\n",
            "60000/60000 [==============================] - 30s 500us/sample - loss: 0.1336 - val_loss: 0.2146\n",
            "Epoch 22/30\n",
            "60000/60000 [==============================] - 30s 503us/sample - loss: 0.1308 - val_loss: 0.2111\n",
            "Epoch 23/30\n",
            "60000/60000 [==============================] - 30s 500us/sample - loss: 0.1284 - val_loss: 0.2075\n",
            "Epoch 24/30\n",
            "60000/60000 [==============================] - 30s 498us/sample - loss: 0.1259 - val_loss: 0.2054\n",
            "Epoch 25/30\n",
            "60000/60000 [==============================] - 30s 498us/sample - loss: 0.1236 - val_loss: 0.2021\n",
            "Epoch 26/30\n",
            "60000/60000 [==============================] - 30s 499us/sample - loss: 0.1213 - val_loss: 0.1993\n",
            "Epoch 27/30\n",
            "60000/60000 [==============================] - 30s 497us/sample - loss: 0.1192 - val_loss: 0.1958\n",
            "Epoch 28/30\n",
            "60000/60000 [==============================] - 30s 496us/sample - loss: 0.1172 - val_loss: 0.1932\n",
            "Epoch 29/30\n",
            "60000/60000 [==============================] - 30s 493us/sample - loss: 0.1152 - val_loss: 0.1909\n",
            "Epoch 30/30\n",
            "60000/60000 [==============================] - 30s 495us/sample - loss: 0.1135 - val_loss: 0.1889\n"
          ],
          "name": "stdout"
        },
        {
          "output_type": "display_data",
          "data": {
            "image/png": "[encoded data removed]",
            "text/plain": [
              "<Figure size 432x288 with 1 Axes>"
            ]
          },
          "metadata": {
            "tags": []
          }
        },
        {
          "output_type": "stream",
          "text": [
            "Средняя ошибка:  74789.0\n",
            "Средняя цена:  530277.0\n",
            "Процент ошибки: 14.0%\n"
          ],
          "name": "stdout"
        }
      ]
    },
    {
      "cell_type": "markdown",
      "metadata": {
        "id": "3A7tMcrVVbxR",
        "colab_type": "text"
      },
      "source": [
        "**1.8** Создаем базу без учета **года выпуска** автомобиля."
      ]
    },
    {
      "cell_type": "code",
      "metadata": {
        "id": "1nA44oBBVnaH",
        "colab_type": "code",
        "colab": {}
      },
      "source": [
        "x_train = []\n",
        "y_train = []\n",
        "\n",
        "#Проходам по всем машинам\n",
        "for _id, car in enumerate(np.array(cars)):\n",
        "  #В y_train добавляем цену\n",
        "  y_train.append(prices[_id])\n",
        "  \n",
        "  #В x_train объединяем все параметры\n",
        "  #Категорийные параметры добавляем в ваде ohe\n",
        "  #Числовые параметры добавляем напрямую\n",
        "  x_tr = to_ohe(car[0], marks_dict) + \\\n",
        "        to_ohe(car[1], models_dict) + \\\n",
        "        to_ohe(car[5], bodies_dict) + \\\n",
        "        to_ohe(car[6], kpps_dict) + \\\n",
        "        to_ohe(car[7], fuels_dict) + \\\n",
        "        [mileages[_id]] + \\\n",
        "        [volumes[_id]] + \\\n",
        "        [powers[_id]]\n",
        "  \n",
        "  #Добавляем текущую строку в общий z_train\n",
        "  x_train.append(x_tr)\n",
        "\n",
        "#Превращаем лист в numpy.array\n",
        "x_train = np.array(x_train, dtype=np.float)\n",
        "y_train = np.array(y_train, dtype=np.float)\n",
        "#Нормализуем y_train\n",
        "y_scaler = StandardScaler()\n",
        "y_train_scaled = y_scaler.fit_transform(y_train.reshape(-1,1)).flatten()"
      ],
      "execution_count": 0,
      "outputs": []
    },
    {
      "cell_type": "code",
      "metadata": {
        "id": "ESHcBodEVn79",
        "colab_type": "code",
        "colab": {
          "base_uri": "https://localhost:8080/",
          "height": 1000
        },
        "outputId": "b2e066ef-4529-424a-f450-3341a57aa2c0"
      },
      "source": [
        "#Создаём сеть \n",
        "model = Sequential()\n",
        "model.add(Dense(2500, activation='relu', input_shape=(x_train.shape[1],)))\n",
        "model.add(Dense(2500, activation='relu'))\n",
        "model.add(Dense(1, activation='linear'))\n",
        "\n",
        "#Указываем прямо шаг обучения - 1е-6\n",
        "model.compile(optimizer=Adam(lr=0.000001), loss='mse')\n",
        "\n",
        "#60000 примеров будет в обучающей выборке\n",
        "n_val = 60000\n",
        "history = model.fit(x_train[:n_val], \n",
        "                    y_train_scaled[:n_val],\n",
        "                    batch_size=20,\n",
        "                    epochs=30, \n",
        "                    validation_data=(x_train[n_val:], y_train_scaled[n_val:]), \n",
        "                    verbose=1)\n",
        "\n",
        "#Отображаем графики ошибки обучения на всех эпохах\n",
        "#Один по обучающей выборке, второй по проверочной\n",
        "plt.plot(history.history['loss'], label='Ошибка на обучающем наборе')\n",
        "plt.plot(history.history['val_loss'], label='Ошибка на проверочном наборе')\n",
        "plt.xlabel('Эпоха обучения')\n",
        "plt.ylabel('MSE')\n",
        "plt.legend()\n",
        "plt.show()\n",
        "\n",
        "#Предсказываем проверочную выборку\n",
        "predict = model.predict(x_train[n_val:])\n",
        "#Меняем масштаб обратно от нормированного к оригинальному\n",
        "predict = y_scaler.inverse_transform(predict).flatten()\n",
        "\n",
        "#Считаем ошибку и модуль ошибки прогнозирования по всем примерам\n",
        "delta = predict - y_train[n_val:]\n",
        "abs_delta = abs(delta)\n",
        "\n",
        "#Считаем среднюю цену, среднюю ошибку и средни процени ошибки\n",
        "#Выводим на экран\n",
        "mean_delta = sum(abs_delta)/len(abs_delta)\n",
        "mean_price = sum(y_train[n_val:])/len(y_train[n_val:])\n",
        "print(\"Средняя ошибка: \", round(mean_delta))\n",
        "print(\"Средняя цена: \", round(mean_price))\n",
        "print(\"Процент ошибки: \", round(100*mean_delta / mean_price), \"%\", sep=\"\")"
      ],
      "execution_count": 21,
      "outputs": [
        {
          "output_type": "stream",
          "text": [
            "Train on 60000 samples, validate on 10119 samples\n",
            "Epoch 1/30\n",
            "60000/60000 [==============================] - 31s 516us/sample - loss: 0.6196 - val_loss: 0.5941\n",
            "Epoch 2/30\n",
            "60000/60000 [==============================] - 30s 496us/sample - loss: 0.4088 - val_loss: 0.4911\n",
            "Epoch 3/30\n",
            "60000/60000 [==============================] - 30s 493us/sample - loss: 0.3484 - val_loss: 0.4441\n",
            "Epoch 4/30\n",
            "60000/60000 [==============================] - 30s 495us/sample - loss: 0.3159 - val_loss: 0.4146\n",
            "Epoch 5/30\n",
            "60000/60000 [==============================] - 30s 493us/sample - loss: 0.2938 - val_loss: 0.3929\n",
            "Epoch 6/30\n",
            "60000/60000 [==============================] - 30s 495us/sample - loss: 0.2768 - val_loss: 0.3757\n",
            "Epoch 7/30\n",
            "60000/60000 [==============================] - 30s 493us/sample - loss: 0.2624 - val_loss: 0.3602\n",
            "Epoch 8/30\n",
            "60000/60000 [==============================] - 30s 493us/sample - loss: 0.2502 - val_loss: 0.3470\n",
            "Epoch 9/30\n",
            "60000/60000 [==============================] - 30s 495us/sample - loss: 0.2390 - val_loss: 0.3358\n",
            "Epoch 10/30\n",
            "60000/60000 [==============================] - 30s 493us/sample - loss: 0.2301 - val_loss: 0.3256\n",
            "Epoch 11/30\n",
            "60000/60000 [==============================] - 30s 494us/sample - loss: 0.2222 - val_loss: 0.3165\n",
            "Epoch 12/30\n",
            "60000/60000 [==============================] - 30s 493us/sample - loss: 0.2148 - val_loss: 0.3088\n",
            "Epoch 13/30\n",
            "60000/60000 [==============================] - 29s 490us/sample - loss: 0.2081 - val_loss: 0.3013\n",
            "Epoch 14/30\n",
            "60000/60000 [==============================] - 29s 492us/sample - loss: 0.2021 - val_loss: 0.2942\n",
            "Epoch 15/30\n",
            "60000/60000 [==============================] - 31s 511us/sample - loss: 0.1965 - val_loss: 0.2879\n",
            "Epoch 16/30\n",
            "60000/60000 [==============================] - 30s 500us/sample - loss: 0.1915 - val_loss: 0.2824\n",
            "Epoch 17/30\n",
            "60000/60000 [==============================] - 30s 503us/sample - loss: 0.1867 - val_loss: 0.2776\n",
            "Epoch 18/30\n",
            "60000/60000 [==============================] - 30s 501us/sample - loss: 0.1825 - val_loss: 0.2720\n",
            "Epoch 19/30\n",
            "60000/60000 [==============================] - 30s 501us/sample - loss: 0.1783 - val_loss: 0.2671\n",
            "Epoch 20/30\n",
            "60000/60000 [==============================] - 30s 501us/sample - loss: 0.1744 - val_loss: 0.2642\n",
            "Epoch 21/30\n",
            "60000/60000 [==============================] - 30s 503us/sample - loss: 0.1708 - val_loss: 0.2596\n",
            "Epoch 22/30\n",
            "60000/60000 [==============================] - 30s 506us/sample - loss: 0.1677 - val_loss: 0.2548\n",
            "Epoch 23/30\n",
            "60000/60000 [==============================] - 30s 500us/sample - loss: 0.1645 - val_loss: 0.2511\n",
            "Epoch 24/30\n",
            "60000/60000 [==============================] - 30s 502us/sample - loss: 0.1614 - val_loss: 0.2481\n",
            "Epoch 25/30\n",
            "60000/60000 [==============================] - 30s 502us/sample - loss: 0.1584 - val_loss: 0.2455\n",
            "Epoch 26/30\n",
            "60000/60000 [==============================] - 30s 501us/sample - loss: 0.1555 - val_loss: 0.2411\n",
            "Epoch 27/30\n",
            "60000/60000 [==============================] - 30s 500us/sample - loss: 0.1528 - val_loss: 0.2389\n",
            "Epoch 28/30\n",
            "60000/60000 [==============================] - 30s 501us/sample - loss: 0.1504 - val_loss: 0.2358\n",
            "Epoch 29/30\n",
            "60000/60000 [==============================] - 30s 501us/sample - loss: 0.1480 - val_loss: 0.2325\n",
            "Epoch 30/30\n",
            "60000/60000 [==============================] - 30s 502us/sample - loss: 0.1456 - val_loss: 0.2304\n"
          ],
          "name": "stdout"
        },
        {
          "output_type": "display_data",
          "data": {
            "image/png": "[encoded data removed]",
            "text/plain": [
              "<Figure size 432x288 with 1 Axes>"
            ]
          },
          "metadata": {
            "tags": []
          }
        },
        {
          "output_type": "stream",
          "text": [
            "Средняя ошибка:  92010.0\n",
            "Средняя цена:  530277.0\n",
            "Процент ошибки: 17.0%\n"
          ],
          "name": "stdout"
        }
      ]
    },
    {
      "cell_type": "markdown",
      "metadata": {
        "id": "Hd0gGLSJUhCq",
        "colab_type": "text"
      },
      "source": [
        "**1.9** Создаем базу без учета **пробега**  автомобиля."
      ]
    },
    {
      "cell_type": "code",
      "metadata": {
        "id": "rbCwhaI3UwFO",
        "colab_type": "code",
        "colab": {}
      },
      "source": [
        "x_train = []\n",
        "y_train = []\n",
        "\n",
        "#Проходам по всем машинам\n",
        "for _id, car in enumerate(np.array(cars)):\n",
        "  #В y_train добавляем цену\n",
        "  y_train.append(prices[_id])\n",
        "  \n",
        "  #В x_train объединяем все параметры\n",
        "  #Категорийные параметры добавляем в ваде ohe\n",
        "  #Числовые параметры добавляем напрямую\n",
        "  x_tr = to_ohe(car[0], marks_dict) + \\\n",
        "        to_ohe(car[1], models_dict) + \\\n",
        "        to_ohe(car[5], bodies_dict) + \\\n",
        "        to_ohe(car[6], kpps_dict) + \\\n",
        "        to_ohe(car[7], fuels_dict) + \\\n",
        "        [years[_id]] + \\\n",
        "        [volumes[_id]] + \\\n",
        "        [powers[_id]]\n",
        "  \n",
        "  #Добавляем текущую строку в общий z_train\n",
        "  x_train.append(x_tr)\n",
        "\n",
        "#Превращаем лист в numpy.array\n",
        "x_train = np.array(x_train, dtype=np.float)\n",
        "y_train = np.array(y_train, dtype=np.float)\n",
        "#Нормализуем y_train\n",
        "y_scaler = StandardScaler()\n",
        "y_train_scaled = y_scaler.fit_transform(y_train.reshape(-1,1)).flatten()"
      ],
      "execution_count": 0,
      "outputs": []
    },
    {
      "cell_type": "code",
      "metadata": {
        "id": "OshvRh2YUwlb",
        "colab_type": "code",
        "colab": {
          "base_uri": "https://localhost:8080/",
          "height": 1000
        },
        "outputId": "cbd952cd-fdc0-42c0-f4f1-63a001b6bbc5"
      },
      "source": [
        "#Создаём сеть \n",
        "model = Sequential()\n",
        "model.add(Dense(2500, activation='relu', input_shape=(x_train.shape[1],)))\n",
        "model.add(Dense(2500, activation='relu'))\n",
        "model.add(Dense(1, activation='linear'))\n",
        "\n",
        "#Указываем прямо шаг обучения - 1е-6\n",
        "model.compile(optimizer=Adam(lr=0.000001), loss='mse')\n",
        "\n",
        "#60000 примеров будет в обучающей выборке\n",
        "n_val = 60000\n",
        "history = model.fit(x_train[:n_val], \n",
        "                    y_train_scaled[:n_val],\n",
        "                    batch_size=20,\n",
        "                    epochs=30, \n",
        "                    validation_data=(x_train[n_val:], y_train_scaled[n_val:]), \n",
        "                    verbose=1)\n",
        "\n",
        "#Отображаем графики ошибки обучения на всех эпохах\n",
        "#Один по обучающей выборке, второй по проверочной\n",
        "plt.plot(history.history['loss'], label='Ошибка на обучающем наборе')\n",
        "plt.plot(history.history['val_loss'], label='Ошибка на проверочном наборе')\n",
        "plt.xlabel('Эпоха обучения')\n",
        "plt.ylabel('MSE')\n",
        "plt.legend()\n",
        "plt.show()\n",
        "\n",
        "#Предсказываем проверочную выборку\n",
        "predict = model.predict(x_train[n_val:])\n",
        "#Меняем масштаб обратно от нормированного к оригинальному\n",
        "predict = y_scaler.inverse_transform(predict).flatten()\n",
        "\n",
        "#Считаем ошибку и модуль ошибки прогнозирования по всем примерам\n",
        "delta = predict - y_train[n_val:]\n",
        "abs_delta = abs(delta)\n",
        "\n",
        "#Считаем среднюю цену, среднюю ошибку и средни процени ошибки\n",
        "#Выводим на экран\n",
        "mean_delta = sum(abs_delta)/len(abs_delta)\n",
        "mean_price = sum(y_train[n_val:])/len(y_train[n_val:])\n",
        "print(\"Средняя ошибка: \", round(mean_delta))\n",
        "print(\"Средняя цена: \", round(mean_price))\n",
        "print(\"Процент ошибки: \", round(100*mean_delta / mean_price), \"%\", sep=\"\")"
      ],
      "execution_count": 31,
      "outputs": [
        {
          "output_type": "stream",
          "text": [
            "Train on 60000 samples, validate on 10119 samples\n",
            "Epoch 1/30\n",
            "60000/60000 [==============================] - 31s 523us/sample - loss: 0.5537 - val_loss: 0.5355\n",
            "Epoch 2/30\n",
            "60000/60000 [==============================] - 30s 508us/sample - loss: 0.3520 - val_loss: 0.4357\n",
            "Epoch 3/30\n",
            "60000/60000 [==============================] - 30s 505us/sample - loss: 0.2912 - val_loss: 0.3893\n",
            "Epoch 4/30\n",
            "60000/60000 [==============================] - 30s 503us/sample - loss: 0.2597 - val_loss: 0.3607\n",
            "Epoch 5/30\n",
            "60000/60000 [==============================] - 30s 504us/sample - loss: 0.2385 - val_loss: 0.3407\n",
            "Epoch 6/30\n",
            "60000/60000 [==============================] - 30s 502us/sample - loss: 0.2231 - val_loss: 0.3246\n",
            "Epoch 7/30\n",
            "60000/60000 [==============================] - 30s 502us/sample - loss: 0.2105 - val_loss: 0.3113\n",
            "Epoch 8/30\n",
            "60000/60000 [==============================] - 30s 501us/sample - loss: 0.1998 - val_loss: 0.3029\n",
            "Epoch 9/30\n",
            "60000/60000 [==============================] - 30s 502us/sample - loss: 0.1914 - val_loss: 0.2906\n",
            "Epoch 10/30\n",
            "60000/60000 [==============================] - 30s 502us/sample - loss: 0.1839 - val_loss: 0.2819\n",
            "Epoch 11/30\n",
            "60000/60000 [==============================] - 30s 501us/sample - loss: 0.1773 - val_loss: 0.2744\n",
            "Epoch 12/30\n",
            "60000/60000 [==============================] - 30s 507us/sample - loss: 0.1717 - val_loss: 0.2678\n",
            "Epoch 13/30\n",
            "60000/60000 [==============================] - 30s 502us/sample - loss: 0.1665 - val_loss: 0.2623\n",
            "Epoch 14/30\n",
            "60000/60000 [==============================] - 30s 504us/sample - loss: 0.1619 - val_loss: 0.2560\n",
            "Epoch 15/30\n",
            "60000/60000 [==============================] - 30s 502us/sample - loss: 0.1580 - val_loss: 0.2520\n",
            "Epoch 16/30\n",
            "60000/60000 [==============================] - 30s 502us/sample - loss: 0.1540 - val_loss: 0.2484\n",
            "Epoch 17/30\n",
            "60000/60000 [==============================] - 30s 503us/sample - loss: 0.1510 - val_loss: 0.2429\n",
            "Epoch 18/30\n",
            "60000/60000 [==============================] - 30s 502us/sample - loss: 0.1478 - val_loss: 0.2386\n",
            "Epoch 19/30\n",
            "60000/60000 [==============================] - 30s 502us/sample - loss: 0.1448 - val_loss: 0.2366\n",
            "Epoch 20/30\n",
            "60000/60000 [==============================] - 30s 501us/sample - loss: 0.1423 - val_loss: 0.2315\n",
            "Epoch 21/30\n",
            "60000/60000 [==============================] - 30s 503us/sample - loss: 0.1393 - val_loss: 0.2282\n",
            "Epoch 22/30\n",
            "60000/60000 [==============================] - 30s 501us/sample - loss: 0.1366 - val_loss: 0.2282\n",
            "Epoch 23/30\n",
            "60000/60000 [==============================] - 30s 500us/sample - loss: 0.1347 - val_loss: 0.2225\n",
            "Epoch 24/30\n",
            "60000/60000 [==============================] - 30s 504us/sample - loss: 0.1326 - val_loss: 0.2195\n",
            "Epoch 25/30\n",
            "60000/60000 [==============================] - 30s 501us/sample - loss: 0.1305 - val_loss: 0.2166\n",
            "Epoch 26/30\n",
            "60000/60000 [==============================] - 30s 501us/sample - loss: 0.1283 - val_loss: 0.2155\n",
            "Epoch 27/30\n",
            "60000/60000 [==============================] - 30s 502us/sample - loss: 0.1264 - val_loss: 0.2134\n",
            "Epoch 28/30\n",
            "60000/60000 [==============================] - 30s 502us/sample - loss: 0.1246 - val_loss: 0.2104\n",
            "Epoch 29/30\n",
            "60000/60000 [==============================] - 30s 502us/sample - loss: 0.1229 - val_loss: 0.2081\n",
            "Epoch 30/30\n",
            "60000/60000 [==============================] - 30s 502us/sample - loss: 0.1209 - val_loss: 0.2052\n"
          ],
          "name": "stdout"
        },
        {
          "output_type": "display_data",
          "data": {
            "image/png": "[encoded data removed]",
            "text/plain": [
              "<Figure size 432x288 with 1 Axes>"
            ]
          },
          "metadata": {
            "tags": []
          }
        },
        {
          "output_type": "stream",
          "text": [
            "Средняя ошибка:  75799.0\n",
            "Средняя цена:  530277.0\n",
            "Процент ошибки: 14.0%\n"
          ],
          "name": "stdout"
        }
      ]
    },
    {
      "cell_type": "markdown",
      "metadata": {
        "id": "le_l86n_7o-R",
        "colab_type": "text"
      },
      "source": [
        "**ВЫВОД**"
      ]
    },
    {
      "cell_type": "markdown",
      "metadata": {
        "id": "jJih6MBYcch6",
        "colab_type": "text"
      },
      "source": [
        "**2** Отключаем нормализацию входных данных."
      ]
    },
    {
      "cell_type": "code",
      "metadata": {
        "id": "0C5VMDR34bnQ",
        "colab_type": "code",
        "colab": {}
      },
      "source": [
        "#Задаем числовые параметры без нормализации\n",
        "\n",
        "years = cars['year']\n",
        "mileages = cars['mileage']\n",
        "volumes = cars['volume']\n",
        "powers = cars['power']\n"
      ],
      "execution_count": 0,
      "outputs": []
    },
    {
      "cell_type": "code",
      "metadata": {
        "id": "aAJHKmkn5kv5",
        "colab_type": "code",
        "colab": {}
      },
      "source": [
        "# создаем базу данных\n",
        "x_train = []\n",
        "y_train = []\n",
        "\n",
        "#Проходам по всем машинам\n",
        "for _id, car in enumerate(np.array(cars)):\n",
        "  #В y_train добавляем цену\n",
        "  y_train.append(prices[_id])\n",
        "  \n",
        "  #В x_train объединяем все параметры\n",
        "  #Категорийные параметры добавляем в ваде ohe\n",
        "  #Числовые параметры добавляем напрямую\n",
        "  x_tr = to_ohe(car[0], marks_dict) + \\\n",
        "        to_ohe(car[1], models_dict) + \\\n",
        "        to_ohe(car[5], bodies_dict) + \\\n",
        "        to_ohe(car[6], kpps_dict) + \\\n",
        "        to_ohe(car[7], fuels_dict) + \\\n",
        "        [years[_id]] + \\\n",
        "        [mileages[_id]] + \\\n",
        "        [volumes[_id]] + \\\n",
        "        [powers[_id]]\n",
        "  \n",
        "  #Добавляем текущую строку в общий z_train\n",
        "  x_train.append(x_tr)\n",
        "\n",
        "#Превращаем лист в numpy.array\n",
        "x_train = np.array(x_train, dtype=np.float)\n",
        "y_train = np.array(y_train, dtype=np.float)\n",
        "#Нормализуем y_train\n",
        "y_scaler = StandardScaler()\n",
        "y_train_scaled = y_scaler.fit_transform(y_train.reshape(-1,1)).flatten()"
      ],
      "execution_count": 0,
      "outputs": []
    },
    {
      "cell_type": "code",
      "metadata": {
        "id": "xVJmYTz-5izu",
        "colab_type": "code",
        "colab": {
          "base_uri": "https://localhost:8080/",
          "height": 1000
        },
        "outputId": "0e6b42cf-b495-4847-8828-3f73fb9d904c"
      },
      "source": [
        "#Создаём сеть \n",
        "model = Sequential()\n",
        "model.add(Dense(2500, activation='relu', input_shape=(x_train.shape[1],)))\n",
        "model.add(Dense(2500, activation='relu'))\n",
        "model.add(Dense(1, activation='linear'))\n",
        "\n",
        "#Указываем прямо шаг обучения - 1е-6\n",
        "model.compile(optimizer=Adam(lr=0.000001), loss='mse')\n",
        "\n",
        "#60000 примеров будет в обучающей выборке\n",
        "n_val = 60000\n",
        "history = model.fit(x_train[:n_val], \n",
        "                    y_train_scaled[:n_val],\n",
        "                    batch_size=20,\n",
        "                    epochs=20, \n",
        "                    validation_data=(x_train[n_val:], y_train_scaled[n_val:]), \n",
        "                    verbose=1)\n",
        "\n",
        "#Отображаем графики ошибки обучения на всех эпохах\n",
        "#Один по обучающей выборке, второй по проверочной\n",
        "plt.plot(history.history['loss'], label='Ошибка на обучающем наборе')\n",
        "plt.plot(history.history['val_loss'], label='Ошибка на проверочном наборе')\n",
        "plt.xlabel('Эпоха обучения')\n",
        "plt.ylabel('MSE')\n",
        "plt.legend()\n",
        "plt.show()\n",
        "\n",
        "#Предсказываем проверочную выборку\n",
        "predict = model.predict(x_train[n_val:])\n",
        "#Меняем масштаб обратно от нормированного к оригинальному\n",
        "predict = y_scaler.inverse_transform(predict).flatten()\n",
        "\n",
        "#Считаем ошибку и модуль ошибки прогнозирования по всем примерам\n",
        "delta = predict - y_train[n_val:]\n",
        "abs_delta = abs(delta)\n",
        "\n",
        "#Считаем среднюю цену, среднюю ошибку и средни процени ошибки\n",
        "#Выводим на экран\n",
        "mean_delta = sum(abs_delta)/len(abs_delta)\n",
        "mean_price = sum(y_train[n_val:])/len(y_train[n_val:])\n",
        "print(\"Средняя ошибка: \", round(mean_delta))\n",
        "print(\"Средняя цена: \", round(mean_price))\n",
        "print(\"Процент ошибки: \", round(100*mean_delta / mean_price), \"%\", sep=\"\")"
      ],
      "execution_count": 36,
      "outputs": [
        {
          "output_type": "stream",
          "text": [
            "Train on 60000 samples, validate on 10119 samples\n",
            "Epoch 1/20\n",
            "60000/60000 [==============================] - 32s 528us/sample - loss: 70.6158 - val_loss: 0.5214\n",
            "Epoch 2/20\n",
            "60000/60000 [==============================] - 31s 514us/sample - loss: 54.7611 - val_loss: 0.8674\n",
            "Epoch 3/20\n",
            "60000/60000 [==============================] - 31s 511us/sample - loss: 53.7500 - val_loss: 8.6676\n",
            "Epoch 4/20\n",
            "60000/60000 [==============================] - 31s 512us/sample - loss: 115.2824 - val_loss: 1.1292\n",
            "Epoch 5/20\n",
            "60000/60000 [==============================] - 31s 509us/sample - loss: 57.8233 - val_loss: 1.4854\n",
            "Epoch 6/20\n",
            "60000/60000 [==============================] - 31s 509us/sample - loss: 82.6127 - val_loss: 0.6920\n",
            "Epoch 7/20\n",
            "60000/60000 [==============================] - 31s 511us/sample - loss: 76.6918 - val_loss: 1.7281\n",
            "Epoch 8/20\n",
            "60000/60000 [==============================] - 31s 510us/sample - loss: 48.8012 - val_loss: 3.2763\n",
            "Epoch 9/20\n",
            "60000/60000 [==============================] - 31s 511us/sample - loss: 62.4880 - val_loss: 0.5726\n",
            "Epoch 10/20\n",
            "60000/60000 [==============================] - 31s 509us/sample - loss: 37.8825 - val_loss: 0.5710\n",
            "Epoch 11/20\n",
            "60000/60000 [==============================] - 31s 512us/sample - loss: 71.8819 - val_loss: 0.3862\n",
            "Epoch 12/20\n",
            "60000/60000 [==============================] - 31s 516us/sample - loss: 89.9383 - val_loss: 0.7431\n",
            "Epoch 13/20\n",
            "60000/60000 [==============================] - 31s 515us/sample - loss: 51.9385 - val_loss: 90.8156\n",
            "Epoch 14/20\n",
            "60000/60000 [==============================] - 31s 511us/sample - loss: 45.3091 - val_loss: 0.4252\n",
            "Epoch 15/20\n",
            "60000/60000 [==============================] - 31s 512us/sample - loss: 44.5972 - val_loss: 2.8953\n",
            "Epoch 16/20\n",
            "60000/60000 [==============================] - 31s 515us/sample - loss: 91.4815 - val_loss: 0.4439\n",
            "Epoch 17/20\n",
            "60000/60000 [==============================] - 31s 512us/sample - loss: 22.8882 - val_loss: 0.3898\n",
            "Epoch 18/20\n",
            "60000/60000 [==============================] - 31s 514us/sample - loss: 48.3536 - val_loss: 4.1621\n",
            "Epoch 19/20\n",
            "60000/60000 [==============================] - 31s 512us/sample - loss: 201.2601 - val_loss: 0.6937\n",
            "Epoch 20/20\n",
            "60000/60000 [==============================] - 31s 510us/sample - loss: 138.5547 - val_loss: 0.4286\n"
          ],
          "name": "stdout"
        },
        {
          "output_type": "display_data",
          "data": {
            "image/png": "[encoded data removed]",
            "text/plain": [
              "<Figure size 432x288 with 1 Axes>"
            ]
          },
          "metadata": {
            "tags": []
          }
        },
        {
          "output_type": "stream",
          "text": [
            "Средняя ошибка:  232646.0\n",
            "Средняя цена:  530277.0\n",
            "Процент ошибки: 44.0%\n"
          ],
          "name": "stdout"
        }
      ]
    },
    {
      "cell_type": "markdown",
      "metadata": {
        "id": "JacvA2Ps7cLu",
        "colab_type": "text"
      },
      "source": [
        "\n",
        "**ВЫВОД** Нормализация входных данных необходима , сетка работает не стабильно."
      ]
    },
    {
      "cell_type": "markdown",
      "metadata": {
        "id": "_YIiui66-JDY",
        "colab_type": "text"
      },
      "source": [
        "**3** Проверяем влияние на ошибку, операции преобразования входных данных \"года выпуска автомобиля\" в формат +ohe."
      ]
    },
    {
      "cell_type": "code",
      "metadata": {
        "id": "wlS2yP9n7dZW",
        "colab_type": "code",
        "colab": {}
      },
      "source": [
        "#Запоминаем числовые параметры\n",
        "#И нормируем\n",
        "fuels_dict = create_dict(set(cars['year']))\n",
        "kpps_dict = create_dict(set(cars['kpp']))\n",
        "\n",
        "mileages = preprocessing.scale(cars['mileage'])\n",
        "volumes = preprocessing.scale(cars['volume'])\n",
        "powers = preprocessing.scale(cars['power'])"
      ],
      "execution_count": 0,
      "outputs": []
    },
    {
      "cell_type": "code",
      "metadata": {
        "id": "lNKJCyZP5iBr",
        "colab_type": "code",
        "colab": {
          "base_uri": "https://localhost:8080/",
          "height": 133
        },
        "outputId": "72ef896f-9aa9-4b3f-adf4-e6f2ff6da322"
      },
      "source": [
        "x_train = []\n",
        "y_train = []\n",
        "\n",
        "#Проходам по всем машинам\n",
        "for _id, car in enumerate(np.array(cars)):\n",
        "  #В y_train добавляем цену\n",
        "  y_train.append(prices[_id])\n",
        "  \n",
        "  #В x_train объединяем все параметры\n",
        "  #Категорийные параметры добавляем в ваде ohe\n",
        "  #Числовые параметры добавляем напрямую\n",
        "  x_tr = to_ohe(car[0], marks_dict) + \\\n",
        "        to_ohe(car[1], models_dict) + \\\n",
        "        to_ohe(car[5], bodies_dict) + \\\n",
        "        to_ohe(car[6], kpps_dict) + \\\n",
        "        to_ohe(car[7], fuels_dict) + \\\n",
        "        to_ohe(car[3], years_dict) + \\\n",
        "        [mileages[_id]] + \\\n",
        "        [volumes[_id]] + \\\n",
        "        [powers[_id]]\n",
        "  \n",
        "  #Добавляем текущую строку в общий z_train\n",
        "   x_train.append(x_tr)\n",
        "\n",
        "#Превращаем лист в numpy.array\n",
        "x_train = np.array(x_train, dtype=np.float)\n",
        "y_train = np.array(y_train, dtype=np.float)\n",
        "#Нормализуем y_train\n",
        "y_scaler = StandardScaler()\n",
        "y_train_scaled = y_scaler.fit_transform(y_train.reshape(-1,1)).flatten()"
      ],
      "execution_count": 45,
      "outputs": [
        {
          "output_type": "error",
          "ename": "IndentationError",
          "evalue": "ignored",
          "traceback": [
            "\u001b[0;36m  File \u001b[0;32m\"<ipython-input-45-7b0b3bfcaae7>\"\u001b[0;36m, line \u001b[0;32m15\u001b[0m\n\u001b[0;31m    x_train.append(x_tr)\u001b[0m\n\u001b[0m    ^\u001b[0m\n\u001b[0;31mIndentationError\u001b[0m\u001b[0;31m:\u001b[0m unexpected indent\n"
          ]
        }
      ]
    },
    {
      "cell_type": "code",
      "metadata": {
        "id": "D5zoT1m6ERBQ",
        "colab_type": "code",
        "colab": {
          "base_uri": "https://localhost:8080/",
          "height": 549
        },
        "outputId": "f4c1bc9c-bfc3-4dce-b684-e65dd9febbbf"
      },
      "source": [
        "#Создаём сеть \n",
        "model = Sequential()\n",
        "model.add(Dense(2500, activation='relu', input_shape=(x_train.shape[1],)))\n",
        "model.add(Dense(2500, activation='relu'))\n",
        "model.add(Dense(1, activation='linear'))\n",
        "\n",
        "#Указываем прямо шаг обучения - 1е-6\n",
        "model.compile(optimizer=Adam(lr=0.000001), loss='mse')\n",
        "\n",
        "#60000 примеров будет в обучающей выборке\n",
        "n_val = 60000\n",
        "history = model.fit(x_train[:n_val], \n",
        "                    y_train_scaled[:n_val],\n",
        "                    batch_size=20,\n",
        "                    epochs=30, \n",
        "                    validation_data=(x_train[n_val:], y_train_scaled[n_val:]), \n",
        "                    verbose=1)\n",
        "\n",
        "#Отображаем графики ошибки обучения на всех эпохах\n",
        "#Один по обучающей выборке, второй по проверочной\n",
        "plt.plot(history.history['loss'], label='Ошибка на обучающем наборе')\n",
        "plt.plot(history.history['val_loss'], label='Ошибка на проверочном наборе')\n",
        "plt.xlabel('Эпоха обучения')\n",
        "plt.ylabel('MSE')\n",
        "plt.legend()\n",
        "plt.show()\n",
        "\n",
        "#Предсказываем проверочную выборку\n",
        "predict = model.predict(x_train[n_val:])\n",
        "#Меняем масштаб обратно от нормированного к оригинальному\n",
        "predict = y_scaler.inverse_transform(predict).flatten()\n",
        "\n",
        "#Считаем ошибку и модуль ошибки прогнозирования по всем примерам\n",
        "delta = predict - y_train[n_val:]\n",
        "abs_delta = abs(delta)\n",
        "\n",
        "#Считаем среднюю цену, среднюю ошибку и средни процени ошибки\n",
        "#Выводим на экран\n",
        "mean_delta = sum(abs_delta)/len(abs_delta)\n",
        "mean_price = sum(y_train[n_val:])/len(y_train[n_val:])\n",
        "print(\"Средняя ошибка: \", round(mean_delta))\n",
        "print(\"Средняя цена: \", round(mean_price))\n",
        "print(\"Процент ошибки: \", round(100*mean_delta / mean_price), \"%\", sep=\"\")"
      ],
      "execution_count": 32,
      "outputs": [
        {
          "output_type": "stream",
          "text": [
            "Train on 60000 samples, validate on 10119 samples\n",
            "Epoch 1/30\n",
            "60000/60000 [==============================] - 312s 5ms/sample - loss: 0.5507 - val_loss: 0.5121\n",
            "Epoch 2/30\n",
            "60000/60000 [==============================] - 312s 5ms/sample - loss: 0.3287 - val_loss: 0.4059\n",
            "Epoch 3/30\n",
            "60000/60000 [==============================] - 311s 5ms/sample - loss: 0.2691 - val_loss: 0.3593\n",
            "Epoch 4/30\n",
            "35800/60000 [================>.............] - ETA: 2:00 - loss: 0.2505"
          ],
          "name": "stdout"
        },
        {
          "output_type": "error",
          "ename": "KeyboardInterrupt",
          "evalue": "ignored",
          "traceback": [
            "\u001b[0;31m---------------------------------------------------------------------------\u001b[0m",
            "\u001b[0;31mKeyboardInterrupt\u001b[0m                         Traceback (most recent call last)",
            "\u001b[0;32m<ipython-input-32-e9d66733b9fd>\u001b[0m in \u001b[0;36m<module>\u001b[0;34m()\u001b[0m\n\u001b[1;32m     14\u001b[0m                     \u001b[0mepochs\u001b[0m\u001b[0;34m=\u001b[0m\u001b[0;36m30\u001b[0m\u001b[0;34m,\u001b[0m\u001b[0;34m\u001b[0m\u001b[0;34m\u001b[0m\u001b[0m\n\u001b[1;32m     15\u001b[0m                     \u001b[0mvalidation_data\u001b[0m\u001b[0;34m=\u001b[0m\u001b[0;34m(\u001b[0m\u001b[0mx_train\u001b[0m\u001b[0;34m[\u001b[0m\u001b[0mn_val\u001b[0m\u001b[0;34m:\u001b[0m\u001b[0;34m]\u001b[0m\u001b[0;34m,\u001b[0m \u001b[0my_train_scaled\u001b[0m\u001b[0;34m[\u001b[0m\u001b[0mn_val\u001b[0m\u001b[0;34m:\u001b[0m\u001b[0;34m]\u001b[0m\u001b[0;34m)\u001b[0m\u001b[0;34m,\u001b[0m\u001b[0;34m\u001b[0m\u001b[0;34m\u001b[0m\u001b[0m\n\u001b[0;32m---> 16\u001b[0;31m                     verbose=1)\n\u001b[0m\u001b[1;32m     17\u001b[0m \u001b[0;34m\u001b[0m\u001b[0m\n\u001b[1;32m     18\u001b[0m \u001b[0;31m#Отображаем графики ошибки обучения на всех эпохах\u001b[0m\u001b[0;34m\u001b[0m\u001b[0;34m\u001b[0m\u001b[0;34m\u001b[0m\u001b[0m\n",
            "\u001b[0;32m/usr/local/lib/python3.6/dist-packages/tensorflow_core/python/keras/engine/training.py\u001b[0m in \u001b[0;36mfit\u001b[0;34m(self, x, y, batch_size, epochs, verbose, callbacks, validation_split, validation_data, shuffle, class_weight, sample_weight, initial_epoch, steps_per_epoch, validation_steps, validation_freq, max_queue_size, workers, use_multiprocessing, **kwargs)\u001b[0m\n\u001b[1;32m    725\u001b[0m         \u001b[0mmax_queue_size\u001b[0m\u001b[0;34m=\u001b[0m\u001b[0mmax_queue_size\u001b[0m\u001b[0;34m,\u001b[0m\u001b[0;34m\u001b[0m\u001b[0;34m\u001b[0m\u001b[0m\n\u001b[1;32m    726\u001b[0m         \u001b[0mworkers\u001b[0m\u001b[0;34m=\u001b[0m\u001b[0mworkers\u001b[0m\u001b[0;34m,\u001b[0m\u001b[0;34m\u001b[0m\u001b[0;34m\u001b[0m\u001b[0m\n\u001b[0;32m--> 727\u001b[0;31m         use_multiprocessing=use_multiprocessing)\n\u001b[0m\u001b[1;32m    728\u001b[0m \u001b[0;34m\u001b[0m\u001b[0m\n\u001b[1;32m    729\u001b[0m   def evaluate(self,\n",
            "\u001b[0;32m/usr/local/lib/python3.6/dist-packages/tensorflow_core/python/keras/engine/training_arrays.py\u001b[0m in \u001b[0;36mfit\u001b[0;34m(self, model, x, y, batch_size, epochs, verbose, callbacks, validation_split, validation_data, shuffle, class_weight, sample_weight, initial_epoch, steps_per_epoch, validation_steps, validation_freq, **kwargs)\u001b[0m\n\u001b[1;32m    673\u001b[0m         \u001b[0mvalidation_steps\u001b[0m\u001b[0;34m=\u001b[0m\u001b[0mvalidation_steps\u001b[0m\u001b[0;34m,\u001b[0m\u001b[0;34m\u001b[0m\u001b[0;34m\u001b[0m\u001b[0m\n\u001b[1;32m    674\u001b[0m         \u001b[0mvalidation_freq\u001b[0m\u001b[0;34m=\u001b[0m\u001b[0mvalidation_freq\u001b[0m\u001b[0;34m,\u001b[0m\u001b[0;34m\u001b[0m\u001b[0;34m\u001b[0m\u001b[0m\n\u001b[0;32m--> 675\u001b[0;31m         steps_name='steps_per_epoch')\n\u001b[0m\u001b[1;32m    676\u001b[0m \u001b[0;34m\u001b[0m\u001b[0m\n\u001b[1;32m    677\u001b[0m   def evaluate(self,\n",
            "\u001b[0;32m/usr/local/lib/python3.6/dist-packages/tensorflow_core/python/keras/engine/training_arrays.py\u001b[0m in \u001b[0;36mmodel_iteration\u001b[0;34m(model, inputs, targets, sample_weights, batch_size, epochs, verbose, callbacks, val_inputs, val_targets, val_sample_weights, shuffle, initial_epoch, steps_per_epoch, validation_steps, validation_freq, mode, validation_in_fit, prepared_feed_values_from_dataset, steps_name, **kwargs)\u001b[0m\n\u001b[1;32m    392\u001b[0m \u001b[0;34m\u001b[0m\u001b[0m\n\u001b[1;32m    393\u001b[0m         \u001b[0;31m# Get outputs.\u001b[0m\u001b[0;34m\u001b[0m\u001b[0;34m\u001b[0m\u001b[0;34m\u001b[0m\u001b[0m\n\u001b[0;32m--> 394\u001b[0;31m         \u001b[0mbatch_outs\u001b[0m \u001b[0;34m=\u001b[0m \u001b[0mf\u001b[0m\u001b[0;34m(\u001b[0m\u001b[0mins_batch\u001b[0m\u001b[0;34m)\u001b[0m\u001b[0;34m\u001b[0m\u001b[0;34m\u001b[0m\u001b[0m\n\u001b[0m\u001b[1;32m    395\u001b[0m         \u001b[0;32mif\u001b[0m \u001b[0;32mnot\u001b[0m \u001b[0misinstance\u001b[0m\u001b[0;34m(\u001b[0m\u001b[0mbatch_outs\u001b[0m\u001b[0;34m,\u001b[0m \u001b[0mlist\u001b[0m\u001b[0;34m)\u001b[0m\u001b[0;34m:\u001b[0m\u001b[0;34m\u001b[0m\u001b[0;34m\u001b[0m\u001b[0m\n\u001b[1;32m    396\u001b[0m           \u001b[0mbatch_outs\u001b[0m \u001b[0;34m=\u001b[0m \u001b[0;34m[\u001b[0m\u001b[0mbatch_outs\u001b[0m\u001b[0;34m]\u001b[0m\u001b[0;34m\u001b[0m\u001b[0;34m\u001b[0m\u001b[0m\n",
            "\u001b[0;32m/usr/local/lib/python3.6/dist-packages/tensorflow_core/python/keras/backend.py\u001b[0m in \u001b[0;36m__call__\u001b[0;34m(self, inputs)\u001b[0m\n\u001b[1;32m   3474\u001b[0m \u001b[0;34m\u001b[0m\u001b[0m\n\u001b[1;32m   3475\u001b[0m     fetched = self._callable_fn(*array_vals,\n\u001b[0;32m-> 3476\u001b[0;31m                                 run_metadata=self.run_metadata)\n\u001b[0m\u001b[1;32m   3477\u001b[0m     \u001b[0mself\u001b[0m\u001b[0;34m.\u001b[0m\u001b[0m_call_fetch_callbacks\u001b[0m\u001b[0;34m(\u001b[0m\u001b[0mfetched\u001b[0m\u001b[0;34m[\u001b[0m\u001b[0;34m-\u001b[0m\u001b[0mlen\u001b[0m\u001b[0;34m(\u001b[0m\u001b[0mself\u001b[0m\u001b[0;34m.\u001b[0m\u001b[0m_fetches\u001b[0m\u001b[0;34m)\u001b[0m\u001b[0;34m:\u001b[0m\u001b[0;34m]\u001b[0m\u001b[0;34m)\u001b[0m\u001b[0;34m\u001b[0m\u001b[0;34m\u001b[0m\u001b[0m\n\u001b[1;32m   3478\u001b[0m     output_structure = nest.pack_sequence_as(\n",
            "\u001b[0;32m/usr/local/lib/python3.6/dist-packages/tensorflow_core/python/client/session.py\u001b[0m in \u001b[0;36m__call__\u001b[0;34m(self, *args, **kwargs)\u001b[0m\n\u001b[1;32m   1470\u001b[0m         ret = tf_session.TF_SessionRunCallable(self._session._session,\n\u001b[1;32m   1471\u001b[0m                                                \u001b[0mself\u001b[0m\u001b[0;34m.\u001b[0m\u001b[0m_handle\u001b[0m\u001b[0;34m,\u001b[0m \u001b[0margs\u001b[0m\u001b[0;34m,\u001b[0m\u001b[0;34m\u001b[0m\u001b[0;34m\u001b[0m\u001b[0m\n\u001b[0;32m-> 1472\u001b[0;31m                                                run_metadata_ptr)\n\u001b[0m\u001b[1;32m   1473\u001b[0m         \u001b[0;32mif\u001b[0m \u001b[0mrun_metadata\u001b[0m\u001b[0;34m:\u001b[0m\u001b[0;34m\u001b[0m\u001b[0;34m\u001b[0m\u001b[0m\n\u001b[1;32m   1474\u001b[0m           \u001b[0mproto_data\u001b[0m \u001b[0;34m=\u001b[0m \u001b[0mtf_session\u001b[0m\u001b[0;34m.\u001b[0m\u001b[0mTF_GetBuffer\u001b[0m\u001b[0;34m(\u001b[0m\u001b[0mrun_metadata_ptr\u001b[0m\u001b[0;34m)\u001b[0m\u001b[0;34m\u001b[0m\u001b[0;34m\u001b[0m\u001b[0m\n",
            "\u001b[0;31mKeyboardInterrupt\u001b[0m: "
          ]
        }
      ]
    },
    {
      "cell_type": "markdown",
      "metadata": {
        "id": "airKXGWsBoKL",
        "colab_type": "text"
      },
      "source": [
        "**ВЫВОД**"
      ]
    },
    {
      "cell_type": "markdown",
      "metadata": {
        "id": "EAOvZP2QByq8",
        "colab_type": "text"
      },
      "source": [
        "**4**`**Архитектура сети НС**`."
      ]
    },
    {
      "cell_type": "code",
      "metadata": {
        "id": "Xzz72TLrPT0x",
        "colab_type": "code",
        "colab": {}
      },
      "source": [
        "# нормируем\n",
        "years = preprocessing.scale(cars['year'])"
      ],
      "execution_count": 0,
      "outputs": []
    },
    {
      "cell_type": "code",
      "metadata": {
        "id": "jSQft7QdRVeI",
        "colab_type": "code",
        "colab": {
          "base_uri": "https://localhost:8080/",
          "height": 367
        },
        "outputId": "7c0bb3b7-89ba-4556-8b4a-5af80e2de441"
      },
      "source": [
        "x_train = []\n",
        "y_train = []\n",
        "\n",
        "#Проходам по всем машинам\n",
        "for _id, car in enumerate(np.array(cars)):\n",
        "  #В y_train добавляем цену\n",
        "  y_train.append(prices[_id])\n",
        "  \n",
        "  #В x_train объединяем все параметры\n",
        "  #Категорийные параметры добавляем в ваде ohe\n",
        "  #Числовые параметры добавляем напрямую\n",
        "  x_tr = to_ohe(car[0], marks_dict) + \\\n",
        "        to_ohe(car[1], models_dict) + \\\n",
        "        to_ohe(car[5], bodies_dict) + \\\n",
        "        to_ohe(car[6], kpps_dict) + \\\n",
        "        to_ohe(car[7], fuels_dict) + \\\n",
        "        [years[_id]] + \\\n",
        "        [mileages[_id]] + \\\n",
        "        [volumes[_id]] + \\\n",
        "        [powers[_id]]\n",
        "  \n",
        "  #Добавляем текущую строку в общий z_train\n",
        "  x_train.append(x_tr)\n",
        "\n",
        "#Превращаем лист в numpy.array\n",
        "x_train = np.array(x_train, dtype=np.float)\n",
        "y_train = np.array(y_train, dtype=np.float)\n",
        "#Нормализуем y_train\n",
        "y_scaler = StandardScaler()\n",
        "y_train_scaled = y_scaler.fit_transform(y_train.reshape(-1,1)).flatten()"
      ],
      "execution_count": 47,
      "outputs": [
        {
          "output_type": "error",
          "ename": "KeyError",
          "evalue": "ignored",
          "traceback": [
            "\u001b[0;31m---------------------------------------------------------------------------\u001b[0m",
            "\u001b[0;31mKeyError\u001b[0m                                  Traceback (most recent call last)",
            "\u001b[0;32m<ipython-input-47-9954445d4f9b>\u001b[0m in \u001b[0;36m<module>\u001b[0;34m()\u001b[0m\n\u001b[1;32m     10\u001b[0m   \u001b[0;31m#Категорийные параметры добавляем в ваде ohe\u001b[0m\u001b[0;34m\u001b[0m\u001b[0;34m\u001b[0m\u001b[0;34m\u001b[0m\u001b[0m\n\u001b[1;32m     11\u001b[0m   \u001b[0;31m#Числовые параметры добавляем напрямую\u001b[0m\u001b[0;34m\u001b[0m\u001b[0;34m\u001b[0m\u001b[0;34m\u001b[0m\u001b[0m\n\u001b[0;32m---> 12\u001b[0;31m   \u001b[0mx_tr\u001b[0m \u001b[0;34m=\u001b[0m \u001b[0mto_ohe\u001b[0m\u001b[0;34m(\u001b[0m\u001b[0mcar\u001b[0m\u001b[0;34m[\u001b[0m\u001b[0;36m0\u001b[0m\u001b[0;34m]\u001b[0m\u001b[0;34m,\u001b[0m \u001b[0mmarks_dict\u001b[0m\u001b[0;34m)\u001b[0m \u001b[0;34m+\u001b[0m         \u001b[0mto_ohe\u001b[0m\u001b[0;34m(\u001b[0m\u001b[0mcar\u001b[0m\u001b[0;34m[\u001b[0m\u001b[0;36m1\u001b[0m\u001b[0;34m]\u001b[0m\u001b[0;34m,\u001b[0m \u001b[0mmodels_dict\u001b[0m\u001b[0;34m)\u001b[0m \u001b[0;34m+\u001b[0m         \u001b[0mto_ohe\u001b[0m\u001b[0;34m(\u001b[0m\u001b[0mcar\u001b[0m\u001b[0;34m[\u001b[0m\u001b[0;36m5\u001b[0m\u001b[0;34m]\u001b[0m\u001b[0;34m,\u001b[0m \u001b[0mbodies_dict\u001b[0m\u001b[0;34m)\u001b[0m \u001b[0;34m+\u001b[0m         \u001b[0mto_ohe\u001b[0m\u001b[0;34m(\u001b[0m\u001b[0mcar\u001b[0m\u001b[0;34m[\u001b[0m\u001b[0;36m6\u001b[0m\u001b[0;34m]\u001b[0m\u001b[0;34m,\u001b[0m \u001b[0mkpps_dict\u001b[0m\u001b[0;34m)\u001b[0m \u001b[0;34m+\u001b[0m         \u001b[0mto_ohe\u001b[0m\u001b[0;34m(\u001b[0m\u001b[0mcar\u001b[0m\u001b[0;34m[\u001b[0m\u001b[0;36m7\u001b[0m\u001b[0;34m]\u001b[0m\u001b[0;34m,\u001b[0m \u001b[0mfuels_dict\u001b[0m\u001b[0;34m)\u001b[0m \u001b[0;34m+\u001b[0m         \u001b[0;34m[\u001b[0m\u001b[0myears\u001b[0m\u001b[0;34m[\u001b[0m\u001b[0m_id\u001b[0m\u001b[0;34m]\u001b[0m\u001b[0;34m]\u001b[0m \u001b[0;34m+\u001b[0m         \u001b[0;34m[\u001b[0m\u001b[0mmileages\u001b[0m\u001b[0;34m[\u001b[0m\u001b[0m_id\u001b[0m\u001b[0;34m]\u001b[0m\u001b[0;34m]\u001b[0m \u001b[0;34m+\u001b[0m         \u001b[0;34m[\u001b[0m\u001b[0mvolumes\u001b[0m\u001b[0;34m[\u001b[0m\u001b[0m_id\u001b[0m\u001b[0;34m]\u001b[0m\u001b[0;34m]\u001b[0m \u001b[0;34m+\u001b[0m         \u001b[0;34m[\u001b[0m\u001b[0mpowers\u001b[0m\u001b[0;34m[\u001b[0m\u001b[0m_id\u001b[0m\u001b[0;34m]\u001b[0m\u001b[0;34m]\u001b[0m\u001b[0;34m\u001b[0m\u001b[0;34m\u001b[0m\u001b[0m\n\u001b[0m\u001b[1;32m     13\u001b[0m \u001b[0;34m\u001b[0m\u001b[0m\n\u001b[1;32m     14\u001b[0m   \u001b[0;31m#Добавляем текущую строку в общий z_train\u001b[0m\u001b[0;34m\u001b[0m\u001b[0;34m\u001b[0m\u001b[0;34m\u001b[0m\u001b[0m\n",
            "\u001b[0;32m<ipython-input-7-326831fe1bfc>\u001b[0m in \u001b[0;36mto_ohe\u001b[0;34m(value, d)\u001b[0m\n\u001b[1;32m      8\u001b[0m \u001b[0;32mdef\u001b[0m \u001b[0mto_ohe\u001b[0m\u001b[0;34m(\u001b[0m\u001b[0mvalue\u001b[0m\u001b[0;34m,\u001b[0m \u001b[0md\u001b[0m\u001b[0;34m)\u001b[0m\u001b[0;34m:\u001b[0m\u001b[0;34m\u001b[0m\u001b[0;34m\u001b[0m\u001b[0m\n\u001b[1;32m      9\u001b[0m   \u001b[0marr\u001b[0m \u001b[0;34m=\u001b[0m \u001b[0;34m[\u001b[0m\u001b[0;36m0\u001b[0m\u001b[0;34m]\u001b[0m \u001b[0;34m*\u001b[0m \u001b[0mlen\u001b[0m\u001b[0;34m(\u001b[0m\u001b[0md\u001b[0m\u001b[0;34m)\u001b[0m\u001b[0;34m\u001b[0m\u001b[0;34m\u001b[0m\u001b[0m\n\u001b[0;32m---> 10\u001b[0;31m   \u001b[0marr\u001b[0m\u001b[0;34m[\u001b[0m\u001b[0md\u001b[0m\u001b[0;34m[\u001b[0m\u001b[0mvalue\u001b[0m\u001b[0;34m]\u001b[0m\u001b[0;34m]\u001b[0m \u001b[0;34m=\u001b[0m \u001b[0;36m1\u001b[0m\u001b[0;34m\u001b[0m\u001b[0;34m\u001b[0m\u001b[0m\n\u001b[0m\u001b[1;32m     11\u001b[0m   \u001b[0;32mreturn\u001b[0m \u001b[0marr\u001b[0m\u001b[0;34m\u001b[0m\u001b[0;34m\u001b[0m\u001b[0m\n",
            "\u001b[0;31mKeyError\u001b[0m: 'бензин'"
          ]
        }
      ]
    },
    {
      "cell_type": "markdown",
      "metadata": {
        "id": "sLlRChqDCIy4",
        "colab_type": "text"
      },
      "source": [
        "**4.1** добавляем  слой Dropout в НС."
      ]
    },
    {
      "cell_type": "code",
      "metadata": {
        "id": "H7pQU_wRDei4",
        "colab_type": "code",
        "colab": {}
      },
      "source": [
        "#Создаём сеть \n",
        "model = Sequential()\n",
        "model.add(Dense(2500, activation='relu', input_shape=(x_train.shape[1],)))\n",
        "model.add(Dropout(0.25))\n",
        "model.add(Dense(2500, activation='relu'))\n",
        "model.add(Dropout(0.25))\n",
        "model.add(Dense(1, activation='linear'))\n",
        "\n",
        "#Указываем прямо шаг обучения - 1е-6\n",
        "model.compile(optimizer=Adam(lr=0.000001), loss='mse')\n",
        "\n",
        "#60000 примеров будет в обучающей выборке\n",
        "n_val = 60000\n",
        "history = model.fit(x_train[:n_val], \n",
        "                    y_train_scaled[:n_val],\n",
        "                    batch_size=20,\n",
        "                    epochs=30, \n",
        "                    validation_data=(x_train[n_val:], y_train_scaled[n_val:]), \n",
        "                    verbose=1)\n",
        "\n",
        "#Отображаем графики ошибки обучения на всех эпохах\n",
        "#Один по обучающей выборке, второй по проверочной\n",
        "plt.plot(history.history['loss'], label='Ошибка на обучающем наборе')\n",
        "plt.plot(history.history['val_loss'], label='Ошибка на проверочном наборе')\n",
        "plt.xlabel('Эпоха обучения')\n",
        "plt.ylabel('MSE')\n",
        "plt.legend()\n",
        "plt.show()\n",
        "\n",
        "#Предсказываем проверочную выборку\n",
        "predict = model.predict(x_train[n_val:])\n",
        "#Меняем масштаб обратно от нормированного к оригинальному\n",
        "predict = y_scaler.inverse_transform(predict).flatten()\n",
        "\n",
        "#Считаем ошибку и модуль ошибки прогнозирования по всем примерам\n",
        "delta = predict - y_train[n_val:]\n",
        "abs_delta = abs(delta)\n",
        "\n",
        "#Считаем среднюю цену, среднюю ошибку и средни процени ошибки\n",
        "#Выводим на экран\n",
        "mean_delta = sum(abs_delta)/len(abs_delta)\n",
        "mean_price = sum(y_train[n_val:])/len(y_train[n_val:])\n",
        "print(\"Средняя ошибка: \", round(mean_delta))\n",
        "print(\"Средняя цена: \", round(mean_price))\n",
        "print(\"Процент ошибки: \", round(100*mean_delta / mean_price), \"%\", sep=\"\")"
      ],
      "execution_count": 0,
      "outputs": []
    },
    {
      "cell_type": "markdown",
      "metadata": {
        "id": "539ZUZvVPanX",
        "colab_type": "text"
      },
      "source": [
        "**ВЫВОД**"
      ]
    },
    {
      "cell_type": "markdown",
      "metadata": {
        "id": "Uo3t3RgjEiGX",
        "colab_type": "text"
      },
      "source": [
        "**4.2** добавляем слой Batch Normalization."
      ]
    },
    {
      "cell_type": "code",
      "metadata": {
        "id": "7sGuAEBZEiaw",
        "colab_type": "code",
        "colab": {}
      },
      "source": [
        "#Создаём сеть \n",
        "model = Sequential()\n",
        "model.add(Dense(2500, activation='relu', input_shape=(x_train.shape[1],)))\n",
        "model.add(BatchNormalization())\n",
        "model.add(Dense(2500, activation='relu'))\n",
        "model.add(Dropout(0.25))\n",
        "model.add(Dense(1, activation='linear'))\n",
        "\n",
        "#Указываем прямо шаг обучения - 1е-6\n",
        "model.compile(optimizer=Adam(lr=0.000001), loss='mse')\n",
        "\n",
        "#60000 примеров будет в обучающей выборке\n",
        "n_val = 60000\n",
        "history = model.fit(x_train[:n_val], \n",
        "                    y_train_scaled[:n_val],\n",
        "                    batch_size=20,\n",
        "                    epochs=30, \n",
        "                    validation_data=(x_train[n_val:], y_train_scaled[n_val:]), \n",
        "                    verbose=1)\n",
        "\n",
        "#Отображаем графики ошибки обучения на всех эпохах\n",
        "#Один по обучающей выборке, второй по проверочной\n",
        "plt.plot(history.history['loss'], label='Ошибка на обучающем наборе')\n",
        "plt.plot(history.history['val_loss'], label='Ошибка на проверочном наборе')\n",
        "plt.xlabel('Эпоха обучения')\n",
        "plt.ylabel('MSE')\n",
        "plt.legend()\n",
        "plt.show()\n",
        "\n",
        "#Предсказываем проверочную выборку\n",
        "predict = model.predict(x_train[n_val:])\n",
        "#Меняем масштаб обратно от нормированного к оригинальному\n",
        "predict = y_scaler.inverse_transform(predict).flatten()\n",
        "\n",
        "#Считаем ошибку и модуль ошибки прогнозирования по всем примерам\n",
        "delta = predict - y_train[n_val:]\n",
        "abs_delta = abs(delta)\n",
        "\n",
        "#Считаем среднюю цену, среднюю ошибку и средни процени ошибки\n",
        "#Выводим на экран\n",
        "mean_delta = sum(abs_delta)/len(abs_delta)\n",
        "mean_price = sum(y_train[n_val:])/len(y_train[n_val:])\n",
        "print(\"Средняя ошибка: \", round(mean_delta))\n",
        "print(\"Средняя цена: \", round(mean_price))\n",
        "print(\"Процент ошибки: \", round(100*mean_delta / mean_price), \"%\", sep=\"\")"
      ],
      "execution_count": 0,
      "outputs": []
    },
    {
      "cell_type": "markdown",
      "metadata": {
        "id": "fLRxXecIPfMU",
        "colab_type": "text"
      },
      "source": [
        "**ВЫВОД**"
      ]
    },
    {
      "cell_type": "markdown",
      "metadata": {
        "id": "PHqiPqVtExUL",
        "colab_type": "text"
      },
      "source": [
        "**4.3** меняем активационную функцию elu"
      ]
    },
    {
      "cell_type": "code",
      "metadata": {
        "id": "gd17e_RvFEfF",
        "colab_type": "code",
        "colab": {}
      },
      "source": [
        "#Создаём сеть \n",
        "model = Sequential()\n",
        "model.add(Dense(2500, activation='elu', input_shape=(x_train.shape[1],)))\n",
        "model.add(BatchNormalization())\n",
        "model.add(Dense(2500, activation='elu'))\n",
        "model.add(Dropout(0.25))\n",
        "model.add(Dense(1, activation='linear'))\n",
        "\n",
        "#Указываем прямо шаг обучения - 1е-6\n",
        "model.compile(optimizer=Adam(lr=0.000001), loss='mse')\n",
        "\n",
        "#60000 примеров будет в обучающей выборке\n",
        "n_val = 60000\n",
        "history = model.fit(x_train[:n_val], \n",
        "                    y_train_scaled[:n_val],\n",
        "                    batch_size=20,\n",
        "                    epochs=30, \n",
        "                    validation_data=(x_train[n_val:], y_train_scaled[n_val:]), \n",
        "                    verbose=1)\n",
        "\n",
        "#Отображаем графики ошибки обучения на всех эпохах\n",
        "#Один по обучающей выборке, второй по проверочной\n",
        "plt.plot(history.history['loss'], label='Ошибка на обучающем наборе')\n",
        "plt.plot(history.history['val_loss'], label='Ошибка на проверочном наборе')\n",
        "plt.xlabel('Эпоха обучения')\n",
        "plt.ylabel('MSE')\n",
        "plt.legend()\n",
        "plt.show()\n",
        "\n",
        "#Предсказываем проверочную выборку\n",
        "predict = model.predict(x_train[n_val:])\n",
        "#Меняем масштаб обратно от нормированного к оригинальному\n",
        "predict = y_scaler.inverse_transform(predict).flatten()\n",
        "\n",
        "#Считаем ошибку и модуль ошибки прогнозирования по всем примерам\n",
        "delta = predict - y_train[n_val:]\n",
        "abs_delta = abs(delta)\n",
        "\n",
        "#Считаем среднюю цену, среднюю ошибку и средни процени ошибки\n",
        "#Выводим на экран\n",
        "mean_delta = sum(abs_delta)/len(abs_delta)\n",
        "mean_price = sum(y_train[n_val:])/len(y_train[n_val:])\n",
        "print(\"Средняя ошибка: \", round(mean_delta))\n",
        "print(\"Средняя цена: \", round(mean_price))\n",
        "print(\"Процент ошибки: \", round(100*mean_delta / mean_price), \"%\", sep=\"\")"
      ],
      "execution_count": 0,
      "outputs": []
    },
    {
      "cell_type": "markdown",
      "metadata": {
        "id": "XzG2SdanPh06",
        "colab_type": "text"
      },
      "source": [
        "**ВЫВОД**"
      ]
    },
    {
      "cell_type": "markdown",
      "metadata": {
        "id": "DuDh8OdDFGEI",
        "colab_type": "text"
      },
      "source": [
        "**4.4** меняем активационную функцию linear"
      ]
    },
    {
      "cell_type": "code",
      "metadata": {
        "id": "Aucr8vjoFRi1",
        "colab_type": "code",
        "colab": {}
      },
      "source": [
        "#Создаём сеть \n",
        "model = Sequential()\n",
        "model.add(Dense(2500, activation='linear', input_shape=(x_train.shape[1],)))\n",
        "model.add(BatchNormalization())\n",
        "model.add(Dense(2500, activation='linear'))\n",
        "model.add(Dropout(0.25))\n",
        "model.add(Dense(1, activation='linear'))\n",
        "\n",
        "#Указываем прямо шаг обучения - 1е-6\n",
        "model.compile(optimizer=Adam(lr=0.000001), loss='mse')\n",
        "\n",
        "#60000 примеров будет в обучающей выборке\n",
        "n_val = 60000\n",
        "history = model.fit(x_train[:n_val], \n",
        "                    y_train_scaled[:n_val],\n",
        "                    batch_size=20,\n",
        "                    epochs=30, \n",
        "                    validation_data=(x_train[n_val:], y_train_scaled[n_val:]), \n",
        "                    verbose=1)\n",
        "\n",
        "#Отображаем графики ошибки обучения на всех эпохах\n",
        "#Один по обучающей выборке, второй по проверочной\n",
        "plt.plot(history.history['loss'], label='Ошибка на обучающем наборе')\n",
        "plt.plot(history.history['val_loss'], label='Ошибка на проверочном наборе')\n",
        "plt.xlabel('Эпоха обучения')\n",
        "plt.ylabel('MSE')\n",
        "plt.legend()\n",
        "plt.show()\n",
        "\n",
        "#Предсказываем проверочную выборку\n",
        "predict = model.predict(x_train[n_val:])\n",
        "#Меняем масштаб обратно от нормированного к оригинальному\n",
        "predict = y_scaler.inverse_transform(predict).flatten()\n",
        "\n",
        "#Считаем ошибку и модуль ошибки прогнозирования по всем примерам\n",
        "delta = predict - y_train[n_val:]\n",
        "abs_delta = abs(delta)\n",
        "\n",
        "#Считаем среднюю цену, среднюю ошибку и средни процени ошибки\n",
        "#Выводим на экран\n",
        "mean_delta = sum(abs_delta)/len(abs_delta)\n",
        "mean_price = sum(y_train[n_val:])/len(y_train[n_val:])\n",
        "print(\"Средняя ошибка: \", round(mean_delta))\n",
        "print(\"Средняя цена: \", round(mean_price))\n",
        "print(\"Процент ошибки: \", round(100*mean_delta / mean_price), \"%\", sep=\"\")"
      ],
      "execution_count": 0,
      "outputs": []
    },
    {
      "cell_type": "markdown",
      "metadata": {
        "id": "z0DPSXLGPkpy",
        "colab_type": "text"
      },
      "source": [
        "**ВЫВОД**"
      ]
    },
    {
      "cell_type": "markdown",
      "metadata": {
        "id": "33k-dpgBFeU7",
        "colab_type": "text"
      },
      "source": [
        "**4.5** меняем активационную функцию sigmoid"
      ]
    },
    {
      "cell_type": "code",
      "metadata": {
        "id": "W8sgAl2ZFoXx",
        "colab_type": "code",
        "colab": {}
      },
      "source": [
        "#Создаём сеть \n",
        "model = Sequential()\n",
        "model.add(Dense(2500, activation='sigmoid', input_shape=(x_train.shape[1],)))\n",
        "model.add(BatchNormalization())\n",
        "model.add(Dense(2500, activation='sigmoid'))\n",
        "model.add(Dropout(0.25))\n",
        "model.add(Dense(1, activation='linear'))\n",
        "\n",
        "#Указываем прямо шаг обучения - 1е-6\n",
        "model.compile(optimizer=Adam(lr=0.000001), loss='mse')\n",
        "\n",
        "#60000 примеров будет в обучающей выборке\n",
        "n_val = 60000\n",
        "history = model.fit(x_train[:n_val], \n",
        "                    y_train_scaled[:n_val],\n",
        "                    batch_size=20,\n",
        "                    epochs=30, \n",
        "                    validation_data=(x_train[n_val:], y_train_scaled[n_val:]), \n",
        "                    verbose=1)\n",
        "\n",
        "#Отображаем графики ошибки обучения на всех эпохах\n",
        "#Один по обучающей выборке, второй по проверочной\n",
        "plt.plot(history.history['loss'], label='Ошибка на обучающем наборе')\n",
        "plt.plot(history.history['val_loss'], label='Ошибка на проверочном наборе')\n",
        "plt.xlabel('Эпоха обучения')\n",
        "plt.ylabel('MSE')\n",
        "plt.legend()\n",
        "plt.show()\n",
        "\n",
        "#Предсказываем проверочную выборку\n",
        "predict = model.predict(x_train[n_val:])\n",
        "#Меняем масштаб обратно от нормированного к оригинальному\n",
        "predict = y_scaler.inverse_transform(predict).flatten()\n",
        "\n",
        "#Считаем ошибку и модуль ошибки прогнозирования по всем примерам\n",
        "delta = predict - y_train[n_val:]\n",
        "abs_delta = abs(delta)\n",
        "\n",
        "#Считаем среднюю цену, среднюю ошибку и средни процени ошибки\n",
        "#Выводим на экран\n",
        "mean_delta = sum(abs_delta)/len(abs_delta)\n",
        "mean_price = sum(y_train[n_val:])/len(y_train[n_val:])\n",
        "print(\"Средняя ошибка: \", round(mean_delta))\n",
        "print(\"Средняя цена: \", round(mean_price))\n",
        "print(\"Процент ошибки: \", round(100*mean_delta / mean_price), \"%\", sep=\"\")"
      ],
      "execution_count": 0,
      "outputs": []
    },
    {
      "cell_type": "markdown",
      "metadata": {
        "id": "EbHIJF2qPoWa",
        "colab_type": "text"
      },
      "source": [
        "**ВЫВОД**"
      ]
    },
    {
      "cell_type": "markdown",
      "metadata": {
        "id": "6kMwn4LtFo99",
        "colab_type": "text"
      },
      "source": [
        "**4.6** меняем шаг обучения"
      ]
    },
    {
      "cell_type": "code",
      "metadata": {
        "id": "B5CHavhGF5-T",
        "colab_type": "code",
        "colab": {}
      },
      "source": [
        "#Создаём сеть \n",
        "model = Sequential()\n",
        "model.add(Dense(2500, activation='relu', input_shape=(x_train.shape[1],)))\n",
        "model.add(BatchNormalization())\n",
        "model.add(Dense(2500, activation='relu'))\n",
        "model.add(Dropout(0.25))\n",
        "model.add(Dense(1, activation='linear'))\n",
        "\n",
        "#Указываем прямо шаг обучения - 1е-3\n",
        "model.compile(optimizer=Adam(lr=0.001), loss='mse')\n",
        "\n",
        "#60000 примеров будет в обучающей выборке\n",
        "n_val = 60000\n",
        "history = model.fit(x_train[:n_val], \n",
        "                    y_train_scaled[:n_val],\n",
        "                    batch_size=20,\n",
        "                    epochs=30, \n",
        "                    validation_data=(x_train[n_val:], y_train_scaled[n_val:]), \n",
        "                    verbose=1)\n",
        "\n",
        "#Отображаем графики ошибки обучения на всех эпохах\n",
        "#Один по обучающей выборке, второй по проверочной\n",
        "plt.plot(history.history['loss'], label='Ошибка на обучающем наборе')\n",
        "plt.plot(history.history['val_loss'], label='Ошибка на проверочном наборе')\n",
        "plt.xlabel('Эпоха обучения')\n",
        "plt.ylabel('MSE')\n",
        "plt.legend()\n",
        "plt.show()\n",
        "\n",
        "#Предсказываем проверочную выборку\n",
        "predict = model.predict(x_train[n_val:])\n",
        "#Меняем масштаб обратно от нормированного к оригинальному\n",
        "predict = y_scaler.inverse_transform(predict).flatten()\n",
        "\n",
        "#Считаем ошибку и модуль ошибки прогнозирования по всем примерам\n",
        "delta = predict - y_train[n_val:]\n",
        "abs_delta = abs(delta)\n",
        "\n",
        "#Считаем среднюю цену, среднюю ошибку и средни процени ошибки\n",
        "#Выводим на экран\n",
        "mean_delta = sum(abs_delta)/len(abs_delta)\n",
        "mean_price = sum(y_train[n_val:])/len(y_train[n_val:])\n",
        "print(\"Средняя ошибка: \", round(mean_delta))\n",
        "print(\"Средняя цена: \", round(mean_price))\n",
        "print(\"Процент ошибки: \", round(100*mean_delta / mean_price), \"%\", sep=\"\")"
      ],
      "execution_count": 0,
      "outputs": []
    },
    {
      "cell_type": "markdown",
      "metadata": {
        "id": "PRTMCIttPqs4",
        "colab_type": "text"
      },
      "source": [
        "**ВЫВОД**"
      ]
    },
    {
      "cell_type": "markdown",
      "metadata": {
        "id": "Gi8sQIUeF6r6",
        "colab_type": "text"
      },
      "source": [
        "**4.7** меняем размер батча."
      ]
    },
    {
      "cell_type": "code",
      "metadata": {
        "id": "Kkv92AbBGF5c",
        "colab_type": "code",
        "colab": {}
      },
      "source": [
        "#Создаём сеть \n",
        "model = Sequential()\n",
        "model.add(Dense(2500, activation='relu', input_shape=(x_train.shape[1],)))\n",
        "model.add(BatchNormalization())\n",
        "model.add(Dense(2500, activation='relu'))\n",
        "model.add(Dropout(0.25))\n",
        "model.add(Dense(1, activation='linear'))\n",
        "\n",
        "#Указываем прямо шаг обучения - 1е-6\n",
        "model.compile(optimizer=Adam(lr=0.000001), loss='mse')\n",
        "\n",
        "#60000 примеров будет в обучающей выборке\n",
        "n_val = 60000\n",
        "history = model.fit(x_train[:n_val], \n",
        "                    y_train_scaled[:n_val],\n",
        "                    batch_size=40,\n",
        "                    epochs=20, \n",
        "                    validation_data=(x_train[n_val:], y_train_scaled[n_val:]), \n",
        "                    verbose=1)\n",
        "\n",
        "#Отображаем графики ошибки обучения на всех эпохах\n",
        "#Один по обучающей выборке, второй по проверочной\n",
        "plt.plot(history.history['loss'], label='Ошибка на обучающем наборе')\n",
        "plt.plot(history.history['val_loss'], label='Ошибка на проверочном наборе')\n",
        "plt.xlabel('Эпоха обучения')\n",
        "plt.ylabel('MSE')\n",
        "plt.legend()\n",
        "plt.show()\n",
        "\n",
        "#Предсказываем проверочную выборку\n",
        "predict = model.predict(x_train[n_val:])\n",
        "#Меняем масштаб обратно от нормированного к оригинальному\n",
        "predict = y_scaler.inverse_transform(predict).flatten()\n",
        "\n",
        "#Считаем ошибку и модуль ошибки прогнозирования по всем примерам\n",
        "delta = predict - y_train[n_val:]\n",
        "abs_delta = abs(delta)\n",
        "\n",
        "#Считаем среднюю цену, среднюю ошибку и средни процени ошибки\n",
        "#Выводим на экран\n",
        "mean_delta = sum(abs_delta)/len(abs_delta)\n",
        "mean_price = sum(y_train[n_val:])/len(y_train[n_val:])\n",
        "print(\"Средняя ошибка: \", round(mean_delta))\n",
        "print(\"Средняя цена: \", round(mean_price))\n",
        "print(\"Процент ошибки: \", round(100*mean_delta / mean_price), \"%\", sep=\"\")"
      ],
      "execution_count": 0,
      "outputs": []
    },
    {
      "cell_type": "markdown",
      "metadata": {
        "id": "MKOeYD6WPsyE",
        "colab_type": "text"
      },
      "source": [
        "**ВЫВОД**"
      ]
    },
    {
      "cell_type": "markdown",
      "metadata": {
        "id": "EMWOk785GGnB",
        "colab_type": "text"
      },
      "source": [
        "**4.8**  меняем число нейронов НС, увеличиваем."
      ]
    },
    {
      "cell_type": "code",
      "metadata": {
        "id": "UsCw2nkzIURU",
        "colab_type": "code",
        "colab": {}
      },
      "source": [
        "#Создаём сеть \n",
        "model = Sequential()\n",
        "model.add(Dense(4500, activation='relu', input_shape=(x_train.shape[1],)))\n",
        "model.add(BatchNormalization())\n",
        "model.add(Dense(3500, activation='relu'))\n",
        "model.add(Dropout(0.25))\n",
        "model.add(Dense(1, activation='linear'))\n",
        "\n",
        "#Указываем прямо шаг обучения - 1е-6\n",
        "model.compile(optimizer=Adam(lr=0.000001), loss='mse')\n",
        "\n",
        "#60000 примеров будет в обучающей выборке\n",
        "n_val = 60000\n",
        "history = model.fit(x_train[:n_val], \n",
        "                    y_train_scaled[:n_val],\n",
        "                    batch_size=20,\n",
        "                    epochs=30, \n",
        "                    validation_data=(x_train[n_val:], y_train_scaled[n_val:]), \n",
        "                    verbose=1)\n",
        "\n",
        "#Отображаем графики ошибки обучения на всех эпохах\n",
        "#Один по обучающей выборке, второй по проверочной\n",
        "plt.plot(history.history['loss'], label='Ошибка на обучающем наборе')\n",
        "plt.plot(history.history['val_loss'], label='Ошибка на проверочном наборе')\n",
        "plt.xlabel('Эпоха обучения')\n",
        "plt.ylabel('MSE')\n",
        "plt.legend()\n",
        "plt.show()\n",
        "\n",
        "#Предсказываем проверочную выборку\n",
        "predict = model.predict(x_train[n_val:])\n",
        "#Меняем масштаб обратно от нормированного к оригинальному\n",
        "predict = y_scaler.inverse_transform(predict).flatten()\n",
        "\n",
        "#Считаем ошибку и модуль ошибки прогнозирования по всем примерам\n",
        "delta = predict - y_train[n_val:]\n",
        "abs_delta = abs(delta)\n",
        "\n",
        "#Считаем среднюю цену, среднюю ошибку и средни процени ошибки\n",
        "#Выводим на экран\n",
        "mean_delta = sum(abs_delta)/len(abs_delta)\n",
        "mean_price = sum(y_train[n_val:])/len(y_train[n_val:])\n",
        "print(\"Средняя ошибка: \", round(mean_delta))\n",
        "print(\"Средняя цена: \", round(mean_price))\n",
        "print(\"Процент ошибки: \", round(100*mean_delta / mean_price), \"%\", sep=\"\")"
      ],
      "execution_count": 0,
      "outputs": []
    },
    {
      "cell_type": "markdown",
      "metadata": {
        "id": "OUeiEthJPu01",
        "colab_type": "text"
      },
      "source": [
        "**ВЫВОД**"
      ]
    },
    {
      "cell_type": "markdown",
      "metadata": {
        "id": "293pqxTcIVdK",
        "colab_type": "text"
      },
      "source": [
        "**4.9** меняем число нейронов НС, уменьшаем."
      ]
    },
    {
      "cell_type": "code",
      "metadata": {
        "id": "aNnRzVvuIe1q",
        "colab_type": "code",
        "colab": {}
      },
      "source": [
        "#Создаём сеть \n",
        "model = Sequential()\n",
        "model.add(Dense(500, activation='relu', input_shape=(x_train.shape[1],)))\n",
        "model.add(BatchNormalization())\n",
        "model.add(Dense(500, activation='relu'))\n",
        "model.add(Dropout(0.25))\n",
        "model.add(Dense(1, activation='linear'))\n",
        "\n",
        "#Указываем прямо шаг обучения - 1е-6\n",
        "model.compile(optimizer=Adam(lr=0.000001), loss='mse')\n",
        "\n",
        "#60000 примеров будет в обучающей выборке\n",
        "n_val = 60000\n",
        "history = model.fit(x_train[:n_val], \n",
        "                    y_train_scaled[:n_val],\n",
        "                    batch_size=20,\n",
        "                    epochs=30, \n",
        "                    validation_data=(x_train[n_val:], y_train_scaled[n_val:]), \n",
        "                    verbose=1)\n",
        "\n",
        "#Отображаем графики ошибки обучения на всех эпохах\n",
        "#Один по обучающей выборке, второй по проверочной\n",
        "plt.plot(history.history['loss'], label='Ошибка на обучающем наборе')\n",
        "plt.plot(history.history['val_loss'], label='Ошибка на проверочном наборе')\n",
        "plt.xlabel('Эпоха обучения')\n",
        "plt.ylabel('MSE')\n",
        "plt.legend()\n",
        "plt.show()\n",
        "\n",
        "#Предсказываем проверочную выборку\n",
        "predict = model.predict(x_train[n_val:])\n",
        "#Меняем масштаб обратно от нормированного к оригинальному\n",
        "predict = y_scaler.inverse_transform(predict).flatten()\n",
        "\n",
        "#Считаем ошибку и модуль ошибки прогнозирования по всем примерам\n",
        "delta = predict - y_train[n_val:]\n",
        "abs_delta = abs(delta)\n",
        "\n",
        "#Считаем среднюю цену, среднюю ошибку и средни процени ошибки\n",
        "#Выводим на экран\n",
        "mean_delta = sum(abs_delta)/len(abs_delta)\n",
        "mean_price = sum(y_train[n_val:])/len(y_train[n_val:])\n",
        "print(\"Средняя ошибка: \", round(mean_delta))\n",
        "print(\"Средняя цена: \", round(mean_price))\n",
        "print(\"Процент ошибки: \", round(100*mean_delta / mean_price), \"%\", sep=\"\")"
      ],
      "execution_count": 0,
      "outputs": []
    },
    {
      "cell_type": "markdown",
      "metadata": {
        "id": "jtnpf8x0Pybj",
        "colab_type": "text"
      },
      "source": [
        "**ВЫВОД**"
      ]
    },
    {
      "cell_type": "markdown",
      "metadata": {
        "id": "5duc8hg6Ivpv",
        "colab_type": "text"
      },
      "source": [
        "**4.11** меняем число слоев НС, уменьшаем."
      ]
    },
    {
      "cell_type": "code",
      "metadata": {
        "id": "0INWnvjEN0_O",
        "colab_type": "code",
        "colab": {}
      },
      "source": [
        "#Создаём сеть \n",
        "model = Sequential()\n",
        "model.add(Dense(2500, activation='relu', input_shape=(x_train.shape[1],)))\n",
        "model.add(Dropout(0.25))\n",
        "model.add(Dense(1, activation='linear'))\n",
        "\n",
        "#Указываем прямо шаг обучения - 1е-6\n",
        "model.compile(optimizer=Adam(lr=0.000001), loss='mse')\n",
        "\n",
        "#60000 примеров будет в обучающей выборке\n",
        "n_val = 60000\n",
        "history = model.fit(x_train[:n_val], \n",
        "                    y_train_scaled[:n_val],\n",
        "                    batch_size=20,\n",
        "                    epochs=30, \n",
        "                    validation_data=(x_train[n_val:], y_train_scaled[n_val:]), \n",
        "                    verbose=1)\n",
        "\n",
        "#Отображаем графики ошибки обучения на всех эпохах\n",
        "#Один по обучающей выборке, второй по проверочной\n",
        "plt.plot(history.history['loss'], label='Ошибка на обучающем наборе')\n",
        "plt.plot(history.history['val_loss'], label='Ошибка на проверочном наборе')\n",
        "plt.xlabel('Эпоха обучения')\n",
        "plt.ylabel('MSE')\n",
        "plt.legend()\n",
        "plt.show()\n",
        "\n",
        "#Предсказываем проверочную выборку\n",
        "predict = model.predict(x_train[n_val:])\n",
        "#Меняем масштаб обратно от нормированного к оригинальному\n",
        "predict = y_scaler.inverse_transform(predict).flatten()\n",
        "\n",
        "#Считаем ошибку и модуль ошибки прогнозирования по всем примерам\n",
        "delta = predict - y_train[n_val:]\n",
        "abs_delta = abs(delta)\n",
        "\n",
        "#Считаем среднюю цену, среднюю ошибку и средни процени ошибки\n",
        "#Выводим на экран\n",
        "mean_delta = sum(abs_delta)/len(abs_delta)\n",
        "mean_price = sum(y_train[n_val:])/len(y_train[n_val:])\n",
        "print(\"Средняя ошибка: \", round(mean_delta))\n",
        "print(\"Средняя цена: \", round(mean_price))\n",
        "print(\"Процент ошибки: \", round(100*mean_delta / mean_price), \"%\", sep=\"\")"
      ],
      "execution_count": 0,
      "outputs": []
    },
    {
      "cell_type": "markdown",
      "metadata": {
        "id": "QmaCX5R6P0ap",
        "colab_type": "text"
      },
      "source": [
        "**ВЫВОД**"
      ]
    },
    {
      "cell_type": "markdown",
      "metadata": {
        "id": "4gu3Wa44Ifc7",
        "colab_type": "text"
      },
      "source": [
        "**4.10** меняем число слоев НС, увеличиваем."
      ]
    },
    {
      "cell_type": "code",
      "metadata": {
        "id": "hGHyD8nmIvGm",
        "colab_type": "code",
        "colab": {}
      },
      "source": [
        "#Создаём сеть \n",
        "model = Sequential()\n",
        "model.add(Dense(4500, activation='relu', input_shape=(x_train.shape[1],)))\n",
        "model.add(BatchNormalization())\n",
        "model.add(Dense(3500, activation='relu'))\n",
        "model.add(BatchNormalization())\n",
        "model.add(Dense(2500, activation='relu'))\n",
        "model.add(BatchNormalization())\n",
        "model.add(Dense(1500, activation='relu'))\n",
        "model.add(Dropout(0.25))\n",
        "model.add(Dense(1, activation='linear'))\n",
        "\n",
        "#Указываем прямо шаг обучения - 1е-6\n",
        "model.compile(optimizer=Adam(lr=0.000001), loss='mse')\n",
        "\n",
        "#60000 примеров будет в обучающей выборке\n",
        "n_val = 60000\n",
        "history = model.fit(x_train[:n_val], \n",
        "                    y_train_scaled[:n_val],\n",
        "                    batch_size=20,\n",
        "                    epochs=30, \n",
        "                    validation_data=(x_train[n_val:], y_train_scaled[n_val:]), \n",
        "                    verbose=1)\n",
        "\n",
        "#Отображаем графики ошибки обучения на всех эпохах\n",
        "#Один по обучающей выборке, второй по проверочной\n",
        "plt.plot(history.history['loss'], label='Ошибка на обучающем наборе')\n",
        "plt.plot(history.history['val_loss'], label='Ошибка на проверочном наборе')\n",
        "plt.xlabel('Эпоха обучения')\n",
        "plt.ylabel('MSE')\n",
        "plt.legend()\n",
        "plt.show()\n",
        "\n",
        "#Предсказываем проверочную выборку\n",
        "predict = model.predict(x_train[n_val:])\n",
        "#Меняем масштаб обратно от нормированного к оригинальному\n",
        "predict = y_scaler.inverse_transform(predict).flatten()\n",
        "\n",
        "#Считаем ошибку и модуль ошибки прогнозирования по всем примерам\n",
        "delta = predict - y_train[n_val:]\n",
        "abs_delta = abs(delta)\n",
        "\n",
        "#Считаем среднюю цену, среднюю ошибку и средни процени ошибки\n",
        "#Выводим на экран\n",
        "mean_delta = sum(abs_delta)/len(abs_delta)\n",
        "mean_price = sum(y_train[n_val:])/len(y_train[n_val:])\n",
        "print(\"Средняя ошибка: \", round(mean_delta))\n",
        "print(\"Средняя цена: \", round(mean_price))\n",
        "print(\"Процент ошибки: \", round(100*mean_delta / mean_price), \"%\", sep=\"\")"
      ],
      "execution_count": 0,
      "outputs": []
    },
    {
      "cell_type": "markdown",
      "metadata": {
        "id": "YJqX0p4LPPi3",
        "colab_type": "text"
      },
      "source": [
        "**ВЫВОД**"
      ]
    },
    {
      "cell_type": "markdown",
      "metadata": {
        "id": "KvZdMaxqFHYw",
        "colab_type": "text"
      },
      "source": [
        "#Вывод результатов\n",
        "\n",
        "*Разбор данного раздела:* https://youtu.be/Hm41rb1zqQo?t=9144"
      ]
    },
    {
      "cell_type": "markdown",
      "metadata": {
        "id": "aEvMFXMAD_dQ",
        "colab_type": "text"
      },
      "source": [
        "**Выводим результаты таблицей**"
      ]
    },
    {
      "cell_type": "code",
      "metadata": {
        "id": "u80qsUuIEmL1",
        "colab_type": "code",
        "outputId": "9a5d1eec-d271-4411-c066-8a2bf8a07684",
        "colab": {
          "base_uri": "https://localhost:8080/",
          "height": 544
        }
      },
      "source": [
        "#Выводим названия колонок\n",
        "print('{:>10} {:>10} {:>10} {:>10}'.format('predict', 'y', 'error', 'error %'))\n",
        "\n",
        "#Выводим 30 примеров\n",
        "for i in range(30):\n",
        "  price = predict[i] #Запоминаем предсказанную цену\n",
        "  real_price = y_train[n_val+i] #Запоминаем реальзую цену\n",
        "  #Выводим значения колонок\n",
        "  print('{:>10.0f} {:>10.0f} {:>10.0f} {:>10.3f}'.format(price, real_price, abs(price - real_price), ((price / real_price) - 1) * 100))"
      ],
      "execution_count": 0,
      "outputs": [
        {
          "output_type": "stream",
          "text": [
            "   predict          y      error    error %\n",
            "    120513     165000      44487    -26.962\n",
            "    354320     415000      60680    -14.622\n",
            "    546315     380000     166315     43.767\n",
            "    865303     860000       5303      0.617\n",
            "    224880     220000       4880      2.218\n",
            "    475546     500000      24454     -4.891\n",
            "    528614     650000     121386    -18.675\n",
            "   1911545    1150000     761545     66.221\n",
            "    743456     570000     173456     30.431\n",
            "    522603     520000       2603      0.501\n",
            "    315563     319000       3437     -1.078\n",
            "    733219     760000      26781     -3.524\n",
            "    215535     235000      19465     -8.283\n",
            "    440275     415000      25275      6.090\n",
            "    242138     255000      12862     -5.044\n",
            "    280464     273000       7464      2.734\n",
            "   1545036    1550000       4964     -0.320\n",
            "    967659     821000     146659     17.863\n",
            "     80201      55000      25201     45.821\n",
            "    294184     282000      12184      4.320\n",
            "    105990      90000      15990     17.767\n",
            "    280794     265000      15794      5.960\n",
            "    337226     450000     112774    -25.061\n",
            "    645407     599000      46407      7.747\n",
            "    470338     449000      21338      4.752\n",
            "    665304     570000      95304     16.720\n",
            "    758298     669000      89298     13.348\n",
            "    714352     720000       5648     -0.784\n",
            "    112885     275000     162115    -58.951\n",
            "    139470     162000      22530    -13.907\n"
          ],
          "name": "stdout"
        }
      ]
    },
    {
      "cell_type": "markdown",
      "metadata": {
        "id": "Feyvyn-cEh6G",
        "colab_type": "text"
      },
      "source": [
        "**Строим 2d карты распределения ошибки от цены**"
      ]
    },
    {
      "cell_type": "code",
      "metadata": {
        "id": "hBjk8OeImqGR",
        "colab_type": "code",
        "outputId": "23362834-7d38-4a62-fc75-7087bad9eff3",
        "colab": {
          "base_uri": "https://localhost:8080/",
          "height": 541
        }
      },
      "source": [
        "#Делаем маску - машины, с ценой до 3.000.000р\n",
        "mask = y_train[n_val:] < 3e+6\n",
        "x = y_train[n_val:] #Вытаскиваем все реальные цены\n",
        "y = abs_delta #Вытаскиваем модули ошибки\n",
        "yp = 100*abs_delta / y_train[n_val:] #Расчитываем процент ошибки\n",
        "\n",
        "#Фильтруем по маске - только машины с ценой до 3млн\n",
        "x = x[mask]\n",
        "y = y[mask]\n",
        "yp = yp[mask]\n",
        "\n",
        "#Выводим 2d карту - ошибка от цены\n",
        "plt.scatter(x, y)\n",
        "plt.xlabel('Цена')\n",
        "plt.ylabel('Ошибка')\n",
        "plt.axis('equal')\n",
        "plt.show()\n",
        "\n",
        "#Выводим 2d карту - процент ошибки от цены\n",
        "plt.scatter(x, yp)\n",
        "plt.xlabel('Цена')\n",
        "plt.ylabel('Процент ошибки')\n",
        "plt.show()"
      ],
      "execution_count": 0,
      "outputs": [
        {
          "output_type": "display_data",
          "data": {
            "image/png": "[encoded data removed]",
            "text/plain": [
              "<Figure size 432x288 with 1 Axes>"
            ]
          },
          "metadata": {
            "tags": []
          }
        },
        {
          "output_type": "display_data",
          "data": {
            "image/png": "[encoded data removed]",
            "text/plain": [
              "<Figure size 432x288 with 1 Axes>"
            ]
          },
          "metadata": {
            "tags": []
          }
        }
      ]
    }
  ]
}