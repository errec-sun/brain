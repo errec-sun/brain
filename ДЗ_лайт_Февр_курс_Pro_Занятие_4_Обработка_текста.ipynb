{
  "nbformat": 4,
  "nbformat_minor": 0,
  "metadata": {
    "colab": {
      "name": "ДЗ лайт Февр. курс. Pro. Занятие 4. Обработка текста",
      "provenance": [],
      "collapsed_sections": [],
      "machine_shape": "hm",
      "include_colab_link": true
    },
    "kernelspec": {
      "name": "python3",
      "display_name": "Python 3"
    },
    "accelerator": "GPU"
  },
  "cells": [
    {
      "cell_type": "markdown",
      "metadata": {
        "id": "view-in-github",
        "colab_type": "text"
      },
      "source": [
        "<a href=\"https://colab.research.google.com/github/errec-sun/brain/blob/master/%D0%94%D0%97_%D0%BB%D0%B0%D0%B9%D1%82_%D0%A4%D0%B5%D0%B2%D1%80_%D0%BA%D1%83%D1%80%D1%81_Pro_%D0%97%D0%B0%D0%BD%D1%8F%D1%82%D0%B8%D0%B5_4_%D0%9E%D0%B1%D1%80%D0%B0%D0%B1%D0%BE%D1%82%D0%BA%D0%B0_%D1%82%D0%B5%D0%BA%D1%81%D1%82%D0%B0.ipynb\" target=\"_parent\"><img src=\"https://colab.research.google.com/assets/colab-badge.svg\" alt=\"Open In Colab\"/></a>"
      ]
    },
    {
      "cell_type": "markdown",
      "metadata": {
        "id": "HN6pm2WNSppR",
        "colab_type": "text"
      },
      "source": [
        "# Import библиотек\n",
        "\n",
        "ДЗ лайт.\n"
      ]
    },
    {
      "cell_type": "code",
      "metadata": {
        "id": "9c-p9wyqmSKJ",
        "colab_type": "code",
        "outputId": "fb8e6a65-b7da-4eca-ef62-34eedbadd696",
        "colab": {
          "base_uri": "https://localhost:8080/",
          "height": 82
        }
      },
      "source": [
        "from google.colab import files\n",
        "import numpy as np\n",
        "import pandas as pd\n",
        "import matplotlib.pyplot as plt\n",
        "%matplotlib inline\n",
        "from tensorflow.keras import utils\n",
        "\n",
        "from tensorflow.keras.models import Sequential\n",
        "from tensorflow.keras.layers import Dense, Dropout, SpatialDropout1D, BatchNormalization, Embedding, Flatten, Activation\n",
        "from tensorflow.python.keras.optimizers import Adam, RMSprop\n",
        "\n",
        "from keras.preprocessing.text import Tokenizer, text_to_word_sequence\n",
        "from sklearn.model_selection import train_test_split"
      ],
      "execution_count": 0,
      "outputs": [
        {
          "output_type": "display_data",
          "data": {
            "text/html": [
              "<p style=\"color: red;\">\n",
              "The default version of TensorFlow in Colab will soon switch to TensorFlow 2.x.<br>\n",
              "We recommend you <a href=\"https://www.tensorflow.org/guide/migrate\" target=\"_blank\">upgrade</a> now \n",
              "or ensure your notebook will continue to use TensorFlow 1.x via the <code>%tensorflow_version 1.x</code> magic:\n",
              "<a href=\"https://colab.research.google.com/notebooks/tensorflow_version.ipynb\" target=\"_blank\">more info</a>.</p>\n"
            ],
            "text/plain": [
              "<IPython.core.display.HTML object>"
            ]
          },
          "metadata": {
            "tags": []
          }
        },
        {
          "output_type": "stream",
          "text": [
            "Using TensorFlow backend.\n"
          ],
          "name": "stderr"
        }
      ]
    },
    {
      "cell_type": "markdown",
      "metadata": {
        "id": "dznpBNPbAx4r",
        "colab_type": "text"
      },
      "source": [
        "# Загрузка файлов"
      ]
    },
    {
      "cell_type": "markdown",
      "metadata": {
        "id": "VL25IskRnMJF",
        "colab_type": "text"
      },
      "source": [
        "#Загрузка данных\n",
        "\n",
        "*Разбор данного раздела:* https://youtu.be/1goYctVeppE?t=3504\n"
      ]
    },
    {
      "cell_type": "code",
      "metadata": {
        "id": "RjsTKEb0XNp0",
        "colab_type": "code",
        "outputId": "db289055-1e01-4391-ab14-76ded75f63d1",
        "colab": {
          "resources": {
            "http://localhost:8080/nbextensions/google.colab/files.js": {
              "data": "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",
              "ok": true,
              "headers": [
                [
                  "content-type",
                  "application/javascript"
                ]
              ],
              "status": 200,
              "status_text": ""
            }
          },
          "base_uri": "https://localhost:8080/",
          "height": 693
        }
      },
      "source": [
        "#Загружаем файлы\n",
        "files.upload()\n",
        "!ls #Выводим содержимое корневой папки"
      ],
      "execution_count": 0,
      "outputs": [
        {
          "output_type": "display_data",
          "data": {
            "text/html": [
              "\n",
              "     <input type=\"file\" id=\"files-ea38f4d1-4cd0-4af0-85fd-b710c81e95cc\" name=\"files[]\" multiple disabled />\n",
              "     <output id=\"result-ea38f4d1-4cd0-4af0-85fd-b710c81e95cc\">\n",
              "      Upload widget is only available when the cell has been executed in the\n",
              "      current browser session. Please rerun this cell to enable.\n",
              "      </output>\n",
              "      <script src=\"/nbextensions/google.colab/files.js\"></script> "
            ],
            "text/plain": [
              "<IPython.core.display.HTML object>"
            ]
          },
          "metadata": {
            "tags": []
          }
        },
        {
          "output_type": "stream",
          "text": [
            "Saving (Булгаков) Обучающая_5 вместе.txt to (Булгаков) Обучающая_5 вместе.txt\n",
            "Saving (Булгаков) Тестовая_2 вместе.txt to (Булгаков) Тестовая_2 вместе.txt\n",
            "Saving (Клиффорд_Саймак) Обучающая_5 вместе.txt to (Клиффорд_Саймак) Обучающая_5 вместе.txt\n",
            "Saving (Клиффорд_Саймак) Тестовая_2 вместе.txt to (Клиффорд_Саймак) Тестовая_2 вместе.txt\n",
            "Saving (Макс Фрай) Обучающая_5 вместе.txt to (Макс Фрай) Обучающая_5 вместе.txt\n",
            "Saving (Макс Фрай) Тестовая_2 вместе.txt to (Макс Фрай) Тестовая_2 вместе.txt\n",
            "Saving (О. Генри) Обучающая_50 вместе.txt to (О. Генри) Обучающая_50 вместе.txt\n",
            "Saving (О. Генри) Тестовая_20 вместе.txt to (О. Генри) Тестовая_20 вместе.txt\n",
            "Saving (Рэй Брэдберри) Обучающая_22 вместе.txt to (Рэй Брэдберри) Обучающая_22 вместе.txt\n",
            "Saving (Рэй Брэдберри) Тестовая_8 вместе.txt to (Рэй Брэдберри) Тестовая_8 вместе.txt\n",
            "Saving (Стругацкие) Обучающая_5 вместе.txt to (Стругацкие) Обучающая_5 вместе.txt\n",
            "Saving (Стругацкие) Тестовая_2 вместе.txt to (Стругацкие) Тестовая_2 вместе.txt\n",
            " sample_data\n",
            "'(Булгаков) Обучающая_5 вместе.txt'\n",
            "'(Булгаков) Тестовая_2 вместе.txt'\n",
            "'(Клиффорд_Саймак) Обучающая_5 вместе.txt'\n",
            "'(Клиффорд_Саймак) Тестовая_2 вместе.txt'\n",
            "'(Макс Фрай) Обучающая_5 вместе.txt'\n",
            "'(Макс Фрай) Тестовая_2 вместе.txt'\n",
            "'(О. Генри) Обучающая_50 вместе.txt'\n",
            "'(О. Генри) Тестовая_20 вместе.txt'\n",
            "'(Рэй Брэдберри) Обучающая_22 вместе.txt'\n",
            "'(Рэй Брэдберри) Тестовая_8 вместе.txt'\n",
            "'(Стругацкие) Обучающая_5 вместе.txt'\n",
            "'(Стругацкие) Тестовая_2 вместе.txt'\n"
          ],
          "name": "stdout"
        }
      ]
    },
    {
      "cell_type": "code",
      "metadata": {
        "id": "ypfkl08QdeFX",
        "colab_type": "code",
        "colab": {}
      },
      "source": [
        "#Чтение файла в текст\n",
        "##########################\n",
        "def readText(fileName): #функция принимает имя файла\n",
        "  f = open(fileName, 'r')        #задаем открытие нужного файла в режиме чтения\n",
        "  text = f.read()                #читаем текст\n",
        "  text = text.replace(\"\\n\", \" \") #переносы строки переводим в пробелы\n",
        "  \n",
        "  return text                    #функция возвращает текст файла\n",
        "\n",
        "#Загружаем обучающие тексты\n",
        "trainText = []\n",
        "trainText.append(readText('(О. Генри) Обучающая_50 вместе.txt'))\n",
        "trainText.append(readText('(Стругацкие) Обучающая_5 вместе.txt'))\n",
        "trainText.append(readText('(Булгаков) Обучающая_5 вместе.txt'))\n",
        "trainText.append(readText('(Клиффорд_Саймак) Обучающая_5 вместе.txt'))\n",
        "trainText.append(readText('(Макс Фрай) Обучающая_5 вместе.txt'))\n",
        "trainText.append(readText('(Рэй Брэдберри) Обучающая_22 вместе.txt')) \n",
        "\n",
        "className = [\"О. Генри\", \"Стругацкие\", \"Булгаков\", \"Саймак\", \"Фрай\", \"Брэдбери\"]\n",
        "nClasses = len(className)\n",
        "\n",
        "#Загружаем тестовые тексты\n",
        "testText = []\n",
        "testText.append(readText('(О. Генри) Тестовая_20 вместе.txt'))\n",
        "testText.append(readText('(Стругацкие) Тестовая_2 вместе.txt'))\n",
        "testText.append(readText('(Булгаков) Тестовая_2 вместе.txt'))\n",
        "testText.append(readText('(Клиффорд_Саймак) Тестовая_2 вместе.txt'))\n",
        "testText.append(readText('(Макс Фрай) Тестовая_2 вместе.txt'))\n",
        "testText.append(readText('(Рэй Брэдберри) Тестовая_8 вместе.txt'))"
      ],
      "execution_count": 0,
      "outputs": []
    },
    {
      "cell_type": "markdown",
      "metadata": {
        "id": "_BYd_uRgTQ_0",
        "colab_type": "text"
      },
      "source": [
        "#Обработка данных\n",
        "\n"
      ]
    },
    {
      "cell_type": "code",
      "metadata": {
        "id": "63vllsfyo2Og",
        "colab_type": "code",
        "colab": {}
      },
      "source": [
        "#################\n",
        "#Преобразовываем текстовые данные в числовые/векторные для обучения нейросетью\n",
        "#################\n",
        "\n",
        "maxWordsCount = 20000 #определяем макс.кол-во слов/индексов, учитываемое при обучении текстов\n",
        "\n",
        "#для этого воспользуемся встроенной в Keras функцией Tokenizer для разбиения текста и превращения в матрицу числовых значений\n",
        "tokenizer = Tokenizer(num_words=maxWordsCount, filters='!\"#$%&()*+,-–—./:;<=>?@[\\\\]^_`{|}~\\t\\n\\xa0', lower=True, split=' ', oov_token='unknown', char_level=False)\n",
        "#выше задаем параметры:\n",
        "#(num_words=maxWordsCount) - определяем макс.кол-во слов/индексов, учитываемое при обучении текстов\n",
        "#(filters='!\"#$%&()*+,-./:;<=>?@[\\\\]^_`{|}~\\t\\n') - избавляемся от ненужных символов\n",
        "#(lower=True) - приводим слова к нижнему регистру\n",
        "#(split=' ') - разделяем слова по пробелу\n",
        "#(char_level=False) - просим токенайзер не удалять однобуквенные слова\n",
        "\n",
        "tokenizer.fit_on_texts(trainText) #\"скармливаем\" наши тексты, т.е даём в обработку методу, который соберет словарь частотности\n",
        "items = list(tokenizer.word_index.items()) #Вытаскиваем индексы слов для просмотра"
      ],
      "execution_count": 0,
      "outputs": []
    },
    {
      "cell_type": "code",
      "metadata": {
        "id": "Ex9rbnPBo5yC",
        "colab_type": "code",
        "outputId": "6d0162e1-0e78-4fe8-ded6-21fb926fb547",
        "colab": {
          "base_uri": "https://localhost:8080/",
          "height": 35
        }
      },
      "source": [
        "print(items[:10])"
      ],
      "execution_count": 0,
      "outputs": [
        {
          "output_type": "stream",
          "text": [
            "[('unknown', 1), ('и', 2), ('в', 3), ('не', 4), ('я', 5), ('что', 6), ('на', 7), ('с', 8), ('он', 9), ('а', 10)]\n"
          ],
          "name": "stdout"
        }
      ]
    },
    {
      "cell_type": "code",
      "metadata": {
        "id": "yUuONjJtG3br",
        "colab_type": "code",
        "outputId": "6074652e-91f8-4dcb-c8fb-06570f418ddc",
        "colab": {
          "base_uri": "https://localhost:8080/",
          "height": 55
        }
      },
      "source": [
        "print(items[110000:110100])"
      ],
      "execution_count": 0,
      "outputs": [
        {
          "output_type": "stream",
          "text": [
            "[('гусли', 110001), ('очарованные', 110002), ('молчу…', 110003), ('иголочку', 110004), ('подкрутить', 110005), ('играйте', 110006), ('противоречьте', 110007), ('облачается', 110008), ('патефону', 110009), ('водопроводчики', 110010), ('угорел', 110011), ('отворачиваешь', 110012), ('синячищи', 110013), ('печали…', 110014), ('шведов', 110015), ('голубчика', 110016), ('ниточки', 110017), ('обобрали', 110018), ('дубняк', 110019), ('артистка', 110020), ('обворовала', 110021), ('селедки', 110022), ('вооружается', 110023), ('поучу', 110024), ('интеллигентную', 110025), ('успокойтесь…', 110026), ('тихий…', 110027), ('башмаком…', 110028), ('построже…', 110029), ('дельцу', 110030), ('засвидетельствовать…', 110031), ('записано…', 110032), ('подаешь', 110033), ('хулиганьте…', 110034), ('пате…', 110035), ('чужой…', 110036), ('подписать…', 110037), ('коллективную', 110038), ('уймешься', 110039), ('вселились', 110040), ('переодел', 110041), ('батогами', 110042), ('нормален…', 110043), ('срывайте', 110044), ('примерю', 110045), ('объяснится', 110046), ('человеку…', 110047), ('пошто', 110048), ('примерим', 110049), ('дрожат…', 110050), ('велик…', 110051), ('подпилим…', 110052), ('обокраденный', 110053), ('шпак…', 110054), ('почище…', 110055), ('царя…', 110056), ('непьющий…', 110057), ('посохом…', 110058), ('влетают', 110059), ('опытами', 110060), ('запирает', 110061), ('антисоветский', 110062), ('спиритизма', 110063), ('пофартило', 110064), ('шапку…', 110065), ('царем…', 110066), ('скипетр…', 110067), ('подвяжу', 110068), ('халтура', 110069), ('умней…', 110070), ('князь…', 110071), ('повторяй…', 110072), ('остолбеневают', 110073), ('запятая…', 110074), ('челом', 110075), ('бьет…', 110076), ('запятой…', 110077), ('опричникам', 110078), ('бердыши', 110079), ('надежа…', 110080), ('кинулись…', 110081), ('ликвидировались', 110082), ('федька…', 110083), ('пишем…', 110084), ('рявкни', 110085), ('выбегают', 110086), ('ягня…', 110087), ('прогневили', 110088), ('надежа', 110089), ('подвязаны', 110090), ('приключилась', 110091), ('флюс', 110092), ('периостит', 110093), ('попадаются…', 110094), ('намедни…', 110095), ('фамилией…', 110096), ('засыплемся', 110097), ('бандиту', 110098), ('приближенный', 110099), ('уголовном', 110100)]\n"
          ],
          "name": "stdout"
        }
      ]
    },
    {
      "cell_type": "code",
      "metadata": {
        "id": "qH6L2CY64576",
        "colab_type": "code",
        "outputId": "627fc533-6855-45c4-84c2-fef61a572b28",
        "colab": {
          "base_uri": "https://localhost:8080/",
          "height": 35
        }
      },
      "source": [
        "print(\"Размер словаря\", len(items))"
      ],
      "execution_count": 0,
      "outputs": [
        {
          "output_type": "stream",
          "text": [
            "Размер словаря 144057\n"
          ],
          "name": "stdout"
        }
      ]
    },
    {
      "cell_type": "code",
      "metadata": {
        "id": "V_N8QMdypQTG",
        "colab_type": "code",
        "outputId": "d5b4f4e0-0626-42b4-8477-62b409b71900",
        "colab": {
          "base_uri": "https://localhost:8080/",
          "height": 70
        }
      },
      "source": [
        "print(\"Протестируем словарь частотности\")\n",
        "print(\"Интересующее слово имеет индекс: \", tokenizer.word_index[input(\"Уточните слово: \")]) #протестируем словарь частотности"
      ],
      "execution_count": 0,
      "outputs": [
        {
          "output_type": "stream",
          "text": [
            "Протестируем словарь частотности\n",
            "Уточните слово: казнь\n",
            "Интересующее слово имеет индекс:  20435\n"
          ],
          "name": "stdout"
        }
      ]
    },
    {
      "cell_type": "code",
      "metadata": {
        "id": "qmHQK2HpWx3K",
        "colab_type": "code",
        "outputId": "77d717dd-06d6-42f7-ebc2-cb6eb347ca8c",
        "colab": {
          "base_uri": "https://localhost:8080/",
          "height": 409
        }
      },
      "source": [
        "#преобразовываем текст в последовательность индексов согласно частотному словарю\n",
        "trainWordIndexes = tokenizer.texts_to_sequences(trainText) #обучающие тесты в индексы\n",
        "testWordIndexes = tokenizer.texts_to_sequences(testText)  #проверочные тесты в индексы\n",
        "\n",
        "print(\"Взглянем на фрагмент обучающего текста:\")\n",
        "print(\"В виде оригинального текста:              \", trainText[1] [:45])\n",
        "print(\"Он же в виде последовательности индексов: \", trainWordIndexes[1][:20])\n",
        "\n",
        "print()\n",
        "print()\n",
        "\n",
        "print(\"Статистика по обучающим текстам:\")\n",
        "for i in range(6):\n",
        "  print(className[i], \" \", len(trainText[i]), \" символов, \", len(trainWordIndexes[i]), \" слов\")\n",
        "print(\"В сумме \", len(trainText[0])+len(trainText[1])+len(trainText[2])+len(trainText[3])+len(trainText[4])+len(trainText[5]), \" символов, \", len(trainWordIndexes[0])+len(trainWordIndexes[1])+len(trainWordIndexes[2])+len(trainWordIndexes[3])+len(trainWordIndexes[4])+len(trainWordIndexes[5]), \" слов\")\n",
        "print()\n",
        "print(\"Статистика по обучающим текстам:\")\n",
        "for i in range(6):\n",
        "  print(className[i], \" \", len(testText[i]), \" символов, \", len(testWordIndexes[i]), \" слов\")\n",
        "print(\"В сумме \", len(testText[0])+len(testText[1])+len(testText[2])+len(testText[3])+len(testText[4])+len(testText[5]), \" символов, \", len(testWordIndexes[0])+len(testWordIndexes[1])+len(testWordIndexes[2])+len(testWordIndexes[3])+len(testWordIndexes[4])+len(testWordIndexes[5]), \" слов\")"
      ],
      "execution_count": 0,
      "outputs": [
        {
          "output_type": "stream",
          "text": [
            "Взглянем на фрагмент обучающего текста:\n",
            "В виде оригинального текста:               Парень из преисподней     1     Ну и деревня!\n",
            "Он же в виде последовательности индексов:  [470, 22, 1, 1482, 49, 2, 12725, 7723, 5, 415, 1, 4, 252, 2, 4, 247, 55, 6, 240, 10517]\n",
            "\n",
            "\n",
            "Статистика по обучающим текстам:\n",
            "О. Генри   1049517  символов,  160682  слов\n",
            "Стругацкие   2042469  символов,  313405  слов\n",
            "Булгаков   1765648  символов,  262109  слов\n",
            "Саймак   1609507  символов,  251551  слов\n",
            "Фрай   3700010  символов,  569052  слов\n",
            "Брэдбери   1386454  символов,  214694  слов\n",
            "В сумме  11553605  символов,  1771493  слов\n",
            "\n",
            "Статистика по обучающим текстам:\n",
            "О. Генри   349662  символов,  53255  слов\n",
            "Стругацкие   704846  символов,  108730  слов\n",
            "Булгаков   875042  символов,  132910  слов\n",
            "Саймак   318811  символов,  50362  слов\n",
            "Фрай   1278191  символов,  196911  слов\n",
            "Брэдбери   868673  символов,  132746  слов\n",
            "В сумме  4395225  символов,  674914  слов\n"
          ],
          "name": "stdout"
        }
      ]
    },
    {
      "cell_type": "markdown",
      "metadata": {
        "id": "slCp7AkSw0Oo",
        "colab_type": "text"
      },
      "source": [
        "#Создание обучающей и проверочной выборки"
      ]
    },
    {
      "cell_type": "markdown",
      "metadata": {
        "id": "kzgY9gNMRRk6",
        "colab_type": "text"
      },
      "source": [
        "**Функции для формирования выборки по отрезкам текста с заданным шагом**\n",
        "\n",
        "*Разбор данного раздела:* https://youtu.be/1goYctVeppE?t=4221\n",
        "\n"
      ]
    },
    {
      "cell_type": "code",
      "metadata": {
        "id": "CP69cPxWdHq3",
        "colab_type": "code",
        "colab": {}
      },
      "source": [
        "###########################\n",
        "# Формирование обучающей выборки по листу индексов слов\n",
        "# (разделение на короткие векторы)\n",
        "##########################\n",
        "def getSetFromIndexes(wordIndexes, xLen, step):\n",
        "  xSample = []\n",
        "  wordsLen = len(wordIndexes)\n",
        "  index = 0\n",
        "  \n",
        "  #Идём по всей длине вектора индексов\n",
        "  #\"Откусываем\" векторы длины xLen и смещаеммся вперёд на step\n",
        "  \n",
        "  while (index + xLen <= wordsLen):\n",
        "    xSample.append(wordIndexes[index:index+xLen])\n",
        "    index += step\n",
        "    \n",
        "  return xSample"
      ],
      "execution_count": 0,
      "outputs": []
    },
    {
      "cell_type": "code",
      "metadata": {
        "id": "wnVyegrxcnZM",
        "colab_type": "code",
        "colab": {}
      },
      "source": [
        "###########################\n",
        "# Формирование обучающей и проверочной выборки\n",
        "# Из двух листов индексов от двух классов\n",
        "##########################\n",
        "def createSetsMultiClasses(wordIndexes, xLen, step): #функция принимает последовательность индексов, размер окна, шаг окна\n",
        "\n",
        "  #Для каждого из 6 классов\n",
        "  #Создаём обучающую/проверочную выборку из индексов\n",
        "  nClasses = len(wordIndexes) #задаем количество классов выборки\n",
        "  classesXSamples = []        #здесь будет список размером \"кол-во классов*кол-во окон в тексте*длину окна(например 6 по 1341*1000)\"\n",
        "  for wI in wordIndexes:      #для каждого текста выборки из последовательности индексов\n",
        "    classesXSamples.append(getSetFromIndexes(wI, xLen, step)) #добавляем в список очередной текст индексов, разбитый на \"кол-во окон*длину окна\" \n",
        "\n",
        "  #Формируем один общий xSamples\n",
        "  xSamples = [] #здесь будет список размером \"суммарное кол-во окон во всех текстах*длину окна(например 15779*1000)\"\n",
        "  ySamples = [] #здесь будет список размером \"суммарное кол-во окон во всех текстах*вектор длиной 6\"\n",
        "  \n",
        "  for t in range(nClasses): #в диапазоне кол-ва классов(6)\n",
        "    xT = classesXSamples[t] #берем очередной текст вида \"кол-во окон в тексте*длину окна\"(например 1341*1000)\n",
        "    for i in range(len(xT)): #и каждое его окно\n",
        "      xSamples.append(xT[i]) #добавляем в общий список выборки\n",
        "    \n",
        "    #Формируем ySamples по номеру класса\n",
        "    currY = utils.to_categorical(t, nClasses) #текущий класс переводится в вектор длиной 6 вида [0.0.0.1.0.0.]\n",
        "    for i in range(len(xT)): #на каждое окно выборки \n",
        "      ySamples.append(currY) #добавляем соответствующий вектор класса\n",
        "\n",
        "  xSamples = np.array(xSamples) #переводим в массив numpy для подачи в нейронку\n",
        "  ySamples = np.array(ySamples) #переводим в массив numpy для подачи в нейронку\n",
        "\n",
        "  \n",
        "  return (xSamples, ySamples) #функция возвращает выборку и соответствующие векторы классов"
      ],
      "execution_count": 0,
      "outputs": []
    },
    {
      "cell_type": "markdown",
      "metadata": {
        "id": "0Pi3Up8OvTtr",
        "colab_type": "text"
      },
      "source": [
        "**Подготовка данных**\n",
        "\n",
        "*Разбор данного раздела:* https://youtu.be/1goYctVeppE?t=4628\n"
      ]
    },
    {
      "cell_type": "code",
      "metadata": {
        "id": "SgzoAiyawSwJ",
        "colab_type": "code",
        "colab": {}
      },
      "source": [
        "#Задаём базовые параметры\n",
        "xLen = 1000 #Длина отрезка текста, по которой анализируем, в словах\n",
        "step = 100 #Шаг разбиения исходного текста на обучающие вектора"
      ],
      "execution_count": 0,
      "outputs": []
    },
    {
      "cell_type": "code",
      "metadata": {
        "id": "CqAgZWT8RH0b",
        "colab_type": "code",
        "outputId": "7c20ee28-6cf7-492d-dd4e-619eeda7b6b5",
        "colab": {
          "base_uri": "https://localhost:8080/",
          "height": 88
        }
      },
      "source": [
        "#Формируем обучающую и тестовую выборку\n",
        "xTrain, yTrain = createSetsMultiClasses(trainWordIndexes, xLen, step) #извлекаем обучающую выборку\n",
        "xTest, yTest = createSetsMultiClasses(testWordIndexes, xLen, step)    #извлекаем тестовую выборку\n",
        "print(xTrain.shape)\n",
        "print(yTrain.shape)\n",
        "print(xTest.shape)\n",
        "print(yTest.shape)\n",
        "#получили обучающий/тестовый набор, достаточный для запуска Embedding, но для Bag of Words нужно xTrain и xTest представить в виде векторов из 0 и 1"
      ],
      "execution_count": 0,
      "outputs": [
        {
          "output_type": "stream",
          "text": [
            "(17658, 1000)\n",
            "(17658, 6)\n",
            "(6693, 1000)\n",
            "(6693, 6)\n"
          ],
          "name": "stdout"
        }
      ]
    },
    {
      "cell_type": "code",
      "metadata": {
        "id": "yNVSMbMv3vM7",
        "colab_type": "code",
        "colab": {}
      },
      "source": [
        "print(xTrain[1])"
      ],
      "execution_count": 0,
      "outputs": []
    },
    {
      "cell_type": "code",
      "metadata": {
        "id": "VZpWSQWf4pgY",
        "colab_type": "code",
        "outputId": "369aa312-bb5c-4e16-b3bb-e811c3fb52c1",
        "colab": {
          "base_uri": "https://localhost:8080/",
          "height": 124
        }
      },
      "source": [
        "#Преобразовываем полученные выборки из последовательности индексов в матрицы нулей и единиц по принципу Bag of Words\n",
        "xTrain01 = tokenizer.sequences_to_matrix(xTrain.tolist())#подаем xTrain в виде списка чтобы метод успешно сработал\n",
        "xTest01 = tokenizer.sequences_to_matrix(xTest.tolist())#подаем xTest в виде списка чтобы метод успешно сработал\n",
        "print(xTrain01.shape)       #Размер обучающей выборки, сформированной по Bag of Words\n",
        "print(xTrain01[0][0:100]) #фрагмент набора слов в виде Bag of Words"
      ],
      "execution_count": 0,
      "outputs": [
        {
          "output_type": "stream",
          "text": [
            "(17658, 20000)\n",
            "[0. 1. 1. 1. 1. 0. 1. 1. 1. 1. 1. 1. 1. 1. 1. 1. 1. 1. 1. 1. 1. 0. 1. 1.\n",
            " 0. 0. 1. 0. 1. 1. 1. 1. 1. 0. 0. 0. 1. 1. 1. 1. 1. 1. 1. 1. 1. 1. 0. 0.\n",
            " 1. 0. 1. 1. 0. 1. 0. 1. 0. 0. 0. 1. 0. 0. 0. 1. 1. 0. 1. 1. 0. 0. 0. 0.\n",
            " 1. 1. 0. 1. 1. 0. 0. 0. 1. 0. 0. 0. 0. 1. 1. 1. 1. 0. 0. 1. 0. 0. 1. 1.\n",
            " 0. 0. 1. 1.]\n"
          ],
          "name": "stdout"
        }
      ]
    },
    {
      "cell_type": "code",
      "metadata": {
        "id": "oW1r7VbcK_RR",
        "colab_type": "code",
        "colab": {}
      },
      "source": [
        "print(xTrain01[0][10000:11000])"
      ],
      "execution_count": 0,
      "outputs": []
    },
    {
      "cell_type": "markdown",
      "metadata": {
        "id": "-3wem2kF0IlC",
        "colab_type": "text"
      },
      "source": [
        "#Нейросеть"
      ]
    },
    {
      "cell_type": "code",
      "metadata": {
        "id": "RYmCRjWUrtcW",
        "colab_type": "code",
        "outputId": "59601348-f9a1-4ac1-d269-6b06ebda8e3f",
        "colab": {
          "base_uri": "https://localhost:8080/",
          "height": 1000
        }
      },
      "source": [
        "#Создаём полносвязную сеть\n",
        "model01 = Sequential()\n",
        "model01.add(BatchNormalization())\n",
        "model01.add(Dense(200, input_dim=maxWordsCount, activation=\"relu\"))\n",
        "model01.add(Dropout(0.25))\n",
        "model01.add(BatchNormalization())\n",
        "model01.add(Dense(6, activation='sigmoid'))\n",
        "\n",
        "model01.compile(optimizer='adam', \n",
        "              loss='categorical_crossentropy', \n",
        "              metrics=['accuracy'])\n",
        "\n",
        "#Обучаем сеть на выборке, сформированной по bag of words - xTrain01\n",
        "history = model01.fit(xTrain01, \n",
        "                      yTrain, \n",
        "                      epochs=20,\n",
        "                      batch_size=128,\n",
        "                      validation_data=(xTest01, yTest))\n",
        "\n",
        "plt.plot(history.history['acc'], \n",
        "         label='Доля верных ответов на обучающем наборе')\n",
        "plt.plot(history.history['val_acc'], \n",
        "         label='Доля верных ответов на проверочном наборе')\n",
        "plt.xlabel('Эпоха обучения')\n",
        "plt.ylabel('Доля верных ответов')\n",
        "plt.legend()\n",
        "plt.show()"
      ],
      "execution_count": 0,
      "outputs": [
        {
          "output_type": "stream",
          "text": [
            "WARNING:tensorflow:From /tensorflow-1.15.0/python3.6/tensorflow_core/python/ops/resource_variable_ops.py:1630: calling BaseResourceVariable.__init__ (from tensorflow.python.ops.resource_variable_ops) with constraint is deprecated and will be removed in a future version.\n",
            "Instructions for updating:\n",
            "If using Keras pass *_constraint arguments to layers.\n",
            "WARNING:tensorflow:From /tensorflow-1.15.0/python3.6/tensorflow_core/python/ops/math_grad.py:1424: where (from tensorflow.python.ops.array_ops) is deprecated and will be removed in a future version.\n",
            "Instructions for updating:\n",
            "Use tf.where in 2.0, which has the same broadcast rule as np.where\n",
            "Train on 17658 samples, validate on 6693 samples\n",
            "Epoch 1/20\n",
            "17658/17658 [==============================] - 5s 295us/sample - loss: 0.4102 - acc: 0.9837 - val_loss: 0.9189 - val_acc: 0.6507\n",
            "Epoch 2/20\n",
            "17658/17658 [==============================] - 3s 192us/sample - loss: 0.1030 - acc: 0.9979 - val_loss: 0.5798 - val_acc: 0.8076\n",
            "Epoch 3/20\n",
            "17658/17658 [==============================] - 3s 193us/sample - loss: 0.0587 - acc: 0.9992 - val_loss: 0.4027 - val_acc: 0.8697\n",
            "Epoch 4/20\n",
            "17658/17658 [==============================] - 3s 193us/sample - loss: 0.0448 - acc: 0.9998 - val_loss: 0.3716 - val_acc: 0.8755\n",
            "Epoch 5/20\n",
            "17658/17658 [==============================] - 3s 193us/sample - loss: 0.0370 - acc: 0.9999 - val_loss: 0.3628 - val_acc: 0.8824\n",
            "Epoch 6/20\n",
            "17658/17658 [==============================] - 3s 195us/sample - loss: 0.0211 - acc: 1.0000 - val_loss: 0.4288 - val_acc: 0.8645\n",
            "Epoch 7/20\n",
            "17658/17658 [==============================] - 3s 193us/sample - loss: 0.0087 - acc: 1.0000 - val_loss: 0.3912 - val_acc: 0.8776\n",
            "Epoch 8/20\n",
            "17658/17658 [==============================] - 3s 195us/sample - loss: 0.0025 - acc: 1.0000 - val_loss: 0.4389 - val_acc: 0.8625\n",
            "Epoch 9/20\n",
            "17658/17658 [==============================] - 3s 193us/sample - loss: 7.4588e-04 - acc: 1.0000 - val_loss: 0.4189 - val_acc: 0.8709\n",
            "Epoch 10/20\n",
            "17658/17658 [==============================] - 3s 195us/sample - loss: 5.3699e-04 - acc: 1.0000 - val_loss: 0.4053 - val_acc: 0.8761\n",
            "Epoch 11/20\n",
            "17658/17658 [==============================] - 3s 195us/sample - loss: 4.1613e-04 - acc: 1.0000 - val_loss: 0.3824 - val_acc: 0.8875\n",
            "Epoch 12/20\n",
            "17658/17658 [==============================] - 3s 195us/sample - loss: 3.0642e-04 - acc: 1.0000 - val_loss: 0.3839 - val_acc: 0.8857\n",
            "Epoch 13/20\n",
            "17658/17658 [==============================] - 3s 194us/sample - loss: 2.4955e-04 - acc: 1.0000 - val_loss: 0.3853 - val_acc: 0.8851\n",
            "Epoch 14/20\n",
            "17658/17658 [==============================] - 3s 194us/sample - loss: 2.0705e-04 - acc: 1.0000 - val_loss: 0.3850 - val_acc: 0.8856\n",
            "Epoch 15/20\n",
            "17658/17658 [==============================] - 3s 194us/sample - loss: 1.7428e-04 - acc: 1.0000 - val_loss: 0.3863 - val_acc: 0.8875\n",
            "Epoch 16/20\n",
            "17658/17658 [==============================] - 3s 194us/sample - loss: 1.4660e-04 - acc: 1.0000 - val_loss: 0.3850 - val_acc: 0.8882\n",
            "Epoch 17/20\n",
            "17658/17658 [==============================] - 3s 194us/sample - loss: 1.2993e-04 - acc: 1.0000 - val_loss: 0.3840 - val_acc: 0.8872\n",
            "Epoch 18/20\n",
            "17658/17658 [==============================] - 3s 193us/sample - loss: 1.0861e-04 - acc: 1.0000 - val_loss: 0.3845 - val_acc: 0.8876\n",
            "Epoch 19/20\n",
            "17658/17658 [==============================] - 3s 194us/sample - loss: 9.5209e-05 - acc: 1.0000 - val_loss: 0.3889 - val_acc: 0.8866\n",
            "Epoch 20/20\n",
            "17658/17658 [==============================] - 3s 193us/sample - loss: 9.0915e-05 - acc: 1.0000 - val_loss: 0.3783 - val_acc: 0.8927\n"
          ],
          "name": "stdout"
        },
        {
          "output_type": "display_data",
          "data": {
            "image/png": "[encoded data removed]",
            "text/plain": [
              "<Figure size 432x288 with 1 Axes>"
            ]
          },
          "metadata": {
            "tags": []
          }
        }
      ]
    },
    {
      "cell_type": "markdown",
      "metadata": {
        "id": "9gI1hXsRmhUo",
        "colab_type": "text"
      },
      "source": [
        "#Распознавание проверочной выборки\n",
        "\n",
        "*"
      ]
    },
    {
      "cell_type": "code",
      "metadata": {
        "id": "stHRW8-4mf7G",
        "colab_type": "code",
        "colab": {}
      },
      "source": [
        "###########################\n",
        "# Представляем тестовую выборку в удобных для распознавания размерах\n",
        "##########################\n",
        "def createTestMultiClasses(wordIndexes, xLen, step): #функция принимает последовательность индексов, размер окна, шаг окна\n",
        "\n",
        "  #Для каждого из 6 классов\n",
        "  #Создаём тестовую выборку из индексов\n",
        "  nClasses = len(wordIndexes) #задаем количество классов\n",
        "  xTest6Classes01 = []                #здесь будет список из всех классов,каждый размером \"кол-во окон в тексте * 20000(при maxWordsCount=20000)\"\n",
        "  xTest6Classes = []                 #здесь будет список массивов, каждый размером \"кол-во окон в тексте * длину окна\"(6 по 420*1000)\n",
        "  for wI in wordIndexes:                       #для каждого тестового текста из последовательности индексов\n",
        "    sample = (getSetFromIndexes(wI, xLen, step)) #тестовая выборка размером \"кол-во окон*длину окна\"(например 420*1000)\n",
        "    xTest6Classes.append(np.array(sample))              #переводим в массив numpy и добавляем в список\n",
        "    xTest6Classes01.append(tokenizer.sequences_to_matrix(sample)) #трансформируется в Bag of Words в виде \"кол-во окон в тексте * 20000\"\n",
        "  xTest6Classes01 = np.array(xTest6Classes01)                     #и добавляется к нашему списку, \n",
        "  \n",
        "  return xTest6Classes01, xTest6Classes  #функция вернёт тестовые данные: TestBag 6 классов на n*20000 и xTestEm 6 по n*1000\n",
        "\n",
        "###########################\n",
        "# Расспознаём тестовую выборку и выводим результаты\n",
        "##########################\n",
        "def recognizeMultiClass(model, xTest, modelName):\n",
        "  print(\"НЕЙРОНКА: \", modelName)\n",
        "  print()\n",
        "  \n",
        "  val = []\n",
        "  pred = []\n",
        "  \n",
        "  totalSumRec = []\n",
        "  \n",
        "  #Проходим по всем классам\n",
        "  for i in range(nClasses):\n",
        "    #Получаем результаты распознавания класса по блокам слов длины xLen\n",
        "    currPred = model.predict(xTest[i])\n",
        "    pred.append(currPred)\n",
        "    #Определяем номер распознанного класса для каждохо блока слов длины xLen\n",
        "    currOut = np.argmax(currPred, axis=1)\n",
        "    \n",
        "    #Считаем процент распознавания каждого класса за каждый\n",
        "    #Получам матрицу 6 на 6\n",
        "    evVal = []\n",
        "    sumRec = []\n",
        "    for j in range(nClasses):\n",
        "      sumRec.append(0)\n",
        "      for t in range(len(currOut)):\n",
        "        if (currOut[t] == j):\n",
        "          sumRec[j] += 1\n",
        "      evVal.append(sumRec[j] / len(currOut))\n",
        "    \n",
        "    totalSumRec.append(sumRec[i])\n",
        "    \n",
        "    #Определяем, какой в класс в итоге за какой был распознан\n",
        "    val.append(evVal[i])\n",
        "    recognizedClass = np.argmax(evVal)\n",
        "    \n",
        "    #Выводим результаты распознавания по текущему классу\n",
        "    isRecognized = \"распознано НЕ ВЕРНО!\"\n",
        "    if (recognizedClass == i):\n",
        "      isRecognized = \"распознано ВЕРНО!\"\n",
        "    print(className[i], \" распознано \", int(100*evVal[i]), \"% сеть считает, что это \", className[recognizedClass], \", \", isRecognized, sep='')\n",
        "  \n",
        "  #Выводим вредний процент распознавания по всем классам вместе\n",
        "  print()\n",
        "  sumVal = 0\n",
        "  sumCount = 0\n",
        "  lenXtest = []\n",
        "  for i in range(nClasses):\n",
        "    sumCount += len(xTest[i])\n",
        "    sumVal += totalSumRec[i]\n",
        "  print(\"Средний процент распознавания \", int(100*sumVal/sumCount), \"%\", sep='')\n",
        "    \n",
        "  print()\n",
        "  \n",
        "  return sumVal/sumCount"
      ],
      "execution_count": 0,
      "outputs": []
    },
    {
      "cell_type": "code",
      "metadata": {
        "id": "ndLp3wDn7Kr2",
        "colab_type": "code",
        "colab": {}
      },
      "source": [
        "xTest6Classes01, xTest6Classes = createTestMultiClasses(testWordIndexes, xLen, step)"
      ],
      "execution_count": 0,
      "outputs": []
    },
    {
      "cell_type": "code",
      "metadata": {
        "id": "wMxCLf_Vi5yY",
        "colab_type": "code",
        "outputId": "27513312-b118-4a37-cf84-110f44093cc4",
        "colab": {
          "base_uri": "https://localhost:8080/",
          "height": 213
        }
      },
      "source": [
        "#Проверяем точность нейронки обученной на bag of words\n",
        "pred = recognizeMultiClass(model01, xTest6Classes01, \"Тексты 01 + Dense\")"
      ],
      "execution_count": 0,
      "outputs": [
        {
          "output_type": "stream",
          "text": [
            "НЕЙРОНКА:  Тексты 01 + Dense\n",
            "\n",
            "О. Генри распознано 88% сеть считает, что это О. Генри, распознано ВЕРНО!\n",
            "Стругацкие распознано 88% сеть считает, что это Стругацкие, распознано ВЕРНО!\n",
            "Булгаков распознано 89% сеть считает, что это Булгаков, распознано ВЕРНО!\n",
            "Саймак распознано 82% сеть считает, что это Саймак, распознано ВЕРНО!\n",
            "Фрай распознано 92% сеть считает, что это Фрай, распознано ВЕРНО!\n",
            "Брэдбери распознано 87% сеть считает, что это Брэдбери, распознано ВЕРНО!\n",
            "\n",
            "Средний процент распознавания 89%\n",
            "\n"
          ],
          "name": "stdout"
        }
      ]
    },
    {
      "cell_type": "markdown",
      "metadata": {
        "id": "u3_90u5wJqrZ",
        "colab_type": "text"
      },
      "source": [
        "# 1 Задание различные значения max words count."
      ]
    },
    {
      "cell_type": "markdown",
      "metadata": {
        "id": "LDpsWDY_vpjo",
        "colab_type": "text"
      },
      "source": [
        "**f** maxWordsCount = 50000 #определяем макс.кол-во слов/индексов"
      ]
    },
    {
      "cell_type": "code",
      "metadata": {
        "id": "jrF9iD4C3idL",
        "colab_type": "code",
        "colab": {}
      },
      "source": [
        "\n",
        "maxWordsCount = 50000 #определяем макс.кол-во слов/индексов, учитываемое при обучении текстов"
      ],
      "execution_count": 0,
      "outputs": []
    },
    {
      "cell_type": "code",
      "metadata": {
        "id": "W_P2-c3zvWR1",
        "colab_type": "code",
        "outputId": "6545a353-c1ab-4cef-8795-bdd601d6707a",
        "colab": {
          "base_uri": "https://localhost:8080/",
          "height": 582
        }
      },
      "source": [
        "#Создаём полносвязную сеть\n",
        "model01 = Sequential()\n",
        "model01.add(BatchNormalization())\n",
        "model01.add(Dense(200, input_dim=maxWordsCount, activation=\"relu\"))\n",
        "model01.add(Dropout(0.35))\n",
        "model01.add(BatchNormalization())\n",
        "model01.add(Dense(6, activation='sigmoid'))\n",
        "\n",
        "model01.compile(optimizer='adam', \n",
        "              loss='categorical_crossentropy', \n",
        "              metrics=['accuracy'])\n",
        "\n",
        "#Обучаем сеть на выборке, сформированной по bag of words - xTrain01\n",
        "history = model01.fit(xTrain01, \n",
        "                      yTrain, \n",
        "                      epochs=8,\n",
        "                      batch_size=128,\n",
        "                      validation_data=(xTest01, yTest))\n",
        "\n",
        "plt.plot(history.history['acc'], \n",
        "         label='Доля верных ответов на обучающем наборе')\n",
        "plt.plot(history.history['val_acc'], \n",
        "         label='Доля верных ответов на проверочном наборе')\n",
        "plt.xlabel('Эпоха обучения')\n",
        "plt.ylabel('Доля верных ответов')\n",
        "plt.legend()\n",
        "plt.show()"
      ],
      "execution_count": 0,
      "outputs": [
        {
          "output_type": "stream",
          "text": [
            "Train on 17658 samples, validate on 6693 samples\n",
            "Epoch 1/8\n",
            "17658/17658 [==============================] - 19s 1ms/sample - loss: 0.4634 - acc: 0.9747 - val_loss: 1.2001 - val_acc: 0.4951\n",
            "Epoch 2/8\n",
            "17658/17658 [==============================] - 19s 1ms/sample - loss: 0.1385 - acc: 0.9622 - val_loss: 0.8410 - val_acc: 0.6486\n",
            "Epoch 3/8\n",
            "17658/17658 [==============================] - 19s 1ms/sample - loss: 0.0740 - acc: 0.9605 - val_loss: 0.5598 - val_acc: 0.7890\n",
            "Epoch 4/8\n",
            "17658/17658 [==============================] - 19s 1ms/sample - loss: 0.0560 - acc: 0.9610 - val_loss: 0.4383 - val_acc: 0.8430\n",
            "Epoch 5/8\n",
            "17658/17658 [==============================] - 19s 1ms/sample - loss: 0.0492 - acc: 0.9642 - val_loss: 0.4264 - val_acc: 0.8522\n",
            "Epoch 6/8\n",
            "17658/17658 [==============================] - 19s 1ms/sample - loss: 0.0444 - acc: 0.9690 - val_loss: 0.4615 - val_acc: 0.8479\n",
            "Epoch 7/8\n",
            "17658/17658 [==============================] - 19s 1ms/sample - loss: 0.0243 - acc: 0.9876 - val_loss: 0.4688 - val_acc: 0.8440\n",
            "Epoch 8/8\n",
            "17658/17658 [==============================] - 19s 1ms/sample - loss: 0.0021 - acc: 1.0000 - val_loss: 0.4309 - val_acc: 0.8536\n"
          ],
          "name": "stdout"
        },
        {
          "output_type": "display_data",
          "data": {
            "image/png": "[encoded data removed]",
            "text/plain": [
              "<Figure size 432x288 with 1 Axes>"
            ]
          },
          "metadata": {
            "tags": []
          }
        }
      ]
    },
    {
      "cell_type": "code",
      "metadata": {
        "id": "8LhJE2ee0e-0",
        "colab_type": "code",
        "outputId": "ac81b7b6-77af-4ea1-da68-427970f2813e",
        "colab": {
          "base_uri": "https://localhost:8080/",
          "height": 475
        }
      },
      "source": [
        "model01.compile(optimizer=Adam(lr=0.00001), \n",
        "              loss='categorical_crossentropy', \n",
        "              metrics=['accuracy'])\n",
        "\n",
        "#Обучаем сеть на выборке, сформированной по bag of words - xTrain01\n",
        "history = model01.fit(xTrain01, \n",
        "                      yTrain, \n",
        "                      epochs=5,\n",
        "                      batch_size=64,\n",
        "                      validation_data=(xTest01, yTest))\n",
        "\n",
        "plt.plot(history.history['acc'], \n",
        "         label='Доля верных ответов на обучающем наборе')\n",
        "plt.plot(history.history['val_acc'], \n",
        "         label='Доля верных ответов на проверочном наборе')\n",
        "plt.xlabel('Эпоха обучения')\n",
        "plt.ylabel('Доля верных ответов')\n",
        "plt.legend()\n",
        "plt.show()"
      ],
      "execution_count": 0,
      "outputs": [
        {
          "output_type": "stream",
          "text": [
            "Train on 17658 samples, validate on 6693 samples\n",
            "Epoch 1/5\n",
            "17658/17658 [==============================] - 28s 2ms/sample - loss: 9.0379e-04 - acc: 1.0000 - val_loss: 0.3199 - val_acc: 0.9095\n",
            "Epoch 2/5\n",
            "17658/17658 [==============================] - 28s 2ms/sample - loss: 8.7742e-04 - acc: 1.0000 - val_loss: 0.3087 - val_acc: 0.9110\n",
            "Epoch 3/5\n",
            "17658/17658 [==============================] - 28s 2ms/sample - loss: 8.6576e-04 - acc: 1.0000 - val_loss: 0.3173 - val_acc: 0.9090\n",
            "Epoch 4/5\n",
            "17658/17658 [==============================] - 28s 2ms/sample - loss: 8.6790e-04 - acc: 1.0000 - val_loss: 0.3101 - val_acc: 0.9104\n",
            "Epoch 5/5\n",
            "17658/17658 [==============================] - 28s 2ms/sample - loss: 8.7455e-04 - acc: 1.0000 - val_loss: 0.3151 - val_acc: 0.9096\n"
          ],
          "name": "stdout"
        },
        {
          "output_type": "display_data",
          "data": {
            "image/png": "[encoded data removed]",
            "text/plain": [
              "<Figure size 432x288 with 1 Axes>"
            ]
          },
          "metadata": {
            "tags": []
          }
        }
      ]
    },
    {
      "cell_type": "markdown",
      "metadata": {
        "id": "4b6HAwmVvXR8",
        "colab_type": "text"
      },
      "source": [
        "**ВЫВОД** результат 0.9110"
      ]
    },
    {
      "cell_type": "markdown",
      "metadata": {
        "id": "pcjW6LNt_qDl",
        "colab_type": "text"
      },
      "source": [
        "**e**  maxWordsCount 10000 "
      ]
    },
    {
      "cell_type": "code",
      "metadata": {
        "id": "Up49OHfp_1cq",
        "colab_type": "code",
        "colab": {}
      },
      "source": [
        "maxWordsCount = 10000"
      ],
      "execution_count": 0,
      "outputs": []
    },
    {
      "cell_type": "code",
      "metadata": {
        "id": "NrQiOnaU_mii",
        "colab_type": "code",
        "outputId": "8213184f-503b-4325-d0a3-a46579789814",
        "colab": {
          "base_uri": "https://localhost:8080/",
          "height": 760
        }
      },
      "source": [
        "#Создаём полносвязную сеть\n",
        "model01 = Sequential()\n",
        "model01.add(BatchNormalization())\n",
        "model01.add(Dense(200, input_dim=maxWordsCount, activation=\"relu\"))\n",
        "model01.add(Dropout(0.25))\n",
        "model01.add(BatchNormalization())\n",
        "model01.add(Dense(6, activation='sigmoid'))\n",
        "\n",
        "model01.compile(optimizer='adam', \n",
        "              loss='categorical_crossentropy', \n",
        "              metrics=['accuracy'])\n",
        "\n",
        "#Обучаем сеть на выборке, сформированной по bag of words - xTrain01\n",
        "history = model01.fit(xTrain01, \n",
        "                      yTrain, \n",
        "                      epochs=13,\n",
        "                      batch_size=128,\n",
        "                      validation_data=(xTest01, yTest))\n",
        "\n",
        "plt.plot(history.history['acc'], \n",
        "         label='Доля верных ответов на обучающем наборе')\n",
        "plt.plot(history.history['val_acc'], \n",
        "         label='Доля верных ответов на проверочном наборе')\n",
        "plt.xlabel('Эпоха обучения')\n",
        "plt.ylabel('Доля верных ответов')\n",
        "plt.legend()\n",
        "plt.show()"
      ],
      "execution_count": 0,
      "outputs": [
        {
          "output_type": "stream",
          "text": [
            "Train on 17658 samples, validate on 6693 samples\n",
            "Epoch 1/13\n",
            "17658/17658 [==============================] - 20s 1ms/sample - loss: 0.4063 - acc: 0.9752 - val_loss: 0.7466 - val_acc: 0.7263\n",
            "Epoch 2/13\n",
            "17658/17658 [==============================] - 19s 1ms/sample - loss: 0.0906 - acc: 0.9763 - val_loss: 0.4222 - val_acc: 0.8609\n",
            "Epoch 3/13\n",
            "17658/17658 [==============================] - 20s 1ms/sample - loss: 0.0425 - acc: 0.9795 - val_loss: 0.2959 - val_acc: 0.9054\n",
            "Epoch 4/13\n",
            "17658/17658 [==============================] - 20s 1ms/sample - loss: 0.0285 - acc: 0.9850 - val_loss: 0.3037 - val_acc: 0.8999\n",
            "Epoch 5/13\n",
            "17658/17658 [==============================] - 20s 1ms/sample - loss: 0.0190 - acc: 0.9938 - val_loss: 0.3728 - val_acc: 0.8835\n",
            "Epoch 6/13\n",
            "17658/17658 [==============================] - 20s 1ms/sample - loss: 0.0030 - acc: 0.9999 - val_loss: 0.3246 - val_acc: 0.8962\n",
            "Epoch 7/13\n",
            "17658/17658 [==============================] - 20s 1ms/sample - loss: 0.0013 - acc: 1.0000 - val_loss: 0.3152 - val_acc: 0.9012\n",
            "Epoch 8/13\n",
            "17658/17658 [==============================] - 20s 1ms/sample - loss: 9.7732e-04 - acc: 1.0000 - val_loss: 0.3233 - val_acc: 0.8987\n",
            "Epoch 9/13\n",
            "17658/17658 [==============================] - 20s 1ms/sample - loss: 7.0018e-04 - acc: 1.0000 - val_loss: 0.3233 - val_acc: 0.8999\n",
            "Epoch 10/13\n",
            "17658/17658 [==============================] - 20s 1ms/sample - loss: 5.3483e-04 - acc: 1.0000 - val_loss: 0.3161 - val_acc: 0.9029\n",
            "Epoch 11/13\n",
            "17658/17658 [==============================] - 19s 1ms/sample - loss: 4.3925e-04 - acc: 1.0000 - val_loss: 0.3128 - val_acc: 0.9048\n",
            "Epoch 12/13\n",
            "17658/17658 [==============================] - 20s 1ms/sample - loss: 3.4835e-04 - acc: 1.0000 - val_loss: 0.3161 - val_acc: 0.9035\n",
            "Epoch 13/13\n",
            "17658/17658 [==============================] - 19s 1ms/sample - loss: 2.7891e-04 - acc: 1.0000 - val_loss: 0.3230 - val_acc: 0.9020\n"
          ],
          "name": "stdout"
        },
        {
          "output_type": "display_data",
          "data": {
            "image/png": "[encoded data removed]",
            "text/plain": [
              "<Figure size 432x288 with 1 Axes>"
            ]
          },
          "metadata": {
            "tags": []
          }
        }
      ]
    },
    {
      "cell_type": "markdown",
      "metadata": {
        "id": "n7oKCYKpAKVU",
        "colab_type": "text"
      },
      "source": [
        "**вывод** хуже на 0,01"
      ]
    },
    {
      "cell_type": "markdown",
      "metadata": {
        "id": "0J3T-9iIGC06",
        "colab_type": "text"
      },
      "source": [
        "**d** maxWordsCount = 5000"
      ]
    },
    {
      "cell_type": "code",
      "metadata": {
        "id": "2Bxmrmq6AO4c",
        "colab_type": "code",
        "colab": {}
      },
      "source": [
        "maxWordsCount = 5000"
      ],
      "execution_count": 0,
      "outputs": []
    },
    {
      "cell_type": "code",
      "metadata": {
        "id": "ouSSS-XlArDs",
        "colab_type": "code",
        "outputId": "c2921647-25e1-4f17-cb68-53310d0f8c12",
        "colab": {
          "base_uri": "https://localhost:8080/",
          "height": 760
        }
      },
      "source": [
        "#Создаём полносвязную сеть\n",
        "model01 = Sequential()\n",
        "model01.add(BatchNormalization())\n",
        "model01.add(Dense(200, input_dim=maxWordsCount, activation=\"relu\"))\n",
        "model01.add(Dropout(0.25))\n",
        "model01.add(BatchNormalization())\n",
        "model01.add(Dense(6, activation='sigmoid'))\n",
        "\n",
        "model01.compile(optimizer='adam', \n",
        "              loss='categorical_crossentropy', \n",
        "              metrics=['accuracy'])\n",
        "\n",
        "#Обучаем сеть на выборке, сформированной по bag of words - xTrain01\n",
        "history = model01.fit(xTrain01, \n",
        "                      yTrain, \n",
        "                      epochs=13,\n",
        "                      batch_size=128,\n",
        "                      validation_data=(xTest01, yTest))\n",
        "\n",
        "plt.plot(history.history['acc'], \n",
        "         label='Доля верных ответов на обучающем наборе')\n",
        "plt.plot(history.history['val_acc'], \n",
        "         label='Доля верных ответов на проверочном наборе')\n",
        "plt.xlabel('Эпоха обучения')\n",
        "plt.ylabel('Доля верных ответов')\n",
        "plt.legend()\n",
        "plt.show()"
      ],
      "execution_count": 0,
      "outputs": [
        {
          "output_type": "stream",
          "text": [
            "Train on 17658 samples, validate on 6693 samples\n",
            "Epoch 1/13\n",
            "17658/17658 [==============================] - 21s 1ms/sample - loss: 0.3867 - acc: 0.9750 - val_loss: 0.9682 - val_acc: 0.6239\n",
            "Epoch 2/13\n",
            "17658/17658 [==============================] - 20s 1ms/sample - loss: 0.0893 - acc: 0.9679 - val_loss: 0.5969 - val_acc: 0.7702\n",
            "Epoch 3/13\n",
            "17658/17658 [==============================] - 19s 1ms/sample - loss: 0.0540 - acc: 0.9755 - val_loss: 0.3497 - val_acc: 0.8773\n",
            "Epoch 4/13\n",
            "17658/17658 [==============================] - 20s 1ms/sample - loss: 0.0191 - acc: 0.9975 - val_loss: 0.2357 - val_acc: 0.9238\n",
            "Epoch 5/13\n",
            "17658/17658 [==============================] - 20s 1ms/sample - loss: 0.0036 - acc: 1.0000 - val_loss: 0.2414 - val_acc: 0.9210\n",
            "Epoch 6/13\n",
            "17658/17658 [==============================] - 19s 1ms/sample - loss: 0.0020 - acc: 1.0000 - val_loss: 0.2613 - val_acc: 0.9154\n",
            "Epoch 7/13\n",
            "17658/17658 [==============================] - 20s 1ms/sample - loss: 0.0013 - acc: 1.0000 - val_loss: 0.2591 - val_acc: 0.9174\n",
            "Epoch 8/13\n",
            "17658/17658 [==============================] - 20s 1ms/sample - loss: 9.1103e-04 - acc: 1.0000 - val_loss: 0.2672 - val_acc: 0.9168\n",
            "Epoch 9/13\n",
            "17658/17658 [==============================] - 20s 1ms/sample - loss: 6.5725e-04 - acc: 1.0000 - val_loss: 0.2690 - val_acc: 0.9163\n",
            "Epoch 10/13\n",
            "17658/17658 [==============================] - 20s 1ms/sample - loss: 5.1816e-04 - acc: 1.0000 - val_loss: 0.2784 - val_acc: 0.9151\n",
            "Epoch 11/13\n",
            "17658/17658 [==============================] - 20s 1ms/sample - loss: 4.0725e-04 - acc: 1.0000 - val_loss: 0.2743 - val_acc: 0.9163\n",
            "Epoch 12/13\n",
            "17658/17658 [==============================] - 20s 1ms/sample - loss: 3.3753e-04 - acc: 1.0000 - val_loss: 0.2692 - val_acc: 0.9166\n",
            "Epoch 13/13\n",
            "17658/17658 [==============================] - 20s 1ms/sample - loss: 3.0460e-04 - acc: 1.0000 - val_loss: 0.2753 - val_acc: 0.9163\n"
          ],
          "name": "stdout"
        },
        {
          "output_type": "display_data",
          "data": {
            "image/png": "[encoded data removed]",
            "text/plain": [
              "<Figure size 432x288 with 1 Axes>"
            ]
          },
          "metadata": {
            "tags": []
          }
        }
      ]
    },
    {
      "cell_type": "markdown",
      "metadata": {
        "id": "X91agXUvBE1F",
        "colab_type": "text"
      },
      "source": [
        "**вывод** результат лучше 0.9238"
      ]
    },
    {
      "cell_type": "markdown",
      "metadata": {
        "id": "AKS4ygbgGKdO",
        "colab_type": "text"
      },
      "source": [
        "**c** maxWordsCount = 1000"
      ]
    },
    {
      "cell_type": "code",
      "metadata": {
        "id": "1z8cO7RRBJy2",
        "colab_type": "code",
        "colab": {}
      },
      "source": [
        "maxWordsCount = 1000"
      ],
      "execution_count": 0,
      "outputs": []
    },
    {
      "cell_type": "code",
      "metadata": {
        "id": "176gm4rcBHJO",
        "colab_type": "code",
        "outputId": "f4b24cff-5196-4603-a2bf-bf91cca558cb",
        "colab": {
          "base_uri": "https://localhost:8080/",
          "height": 760
        }
      },
      "source": [
        "#Создаём полносвязную сеть\n",
        "model01 = Sequential()\n",
        "model01.add(BatchNormalization())\n",
        "model01.add(Dense(200, input_dim=maxWordsCount, activation=\"relu\"))\n",
        "model01.add(Dropout(0.25))\n",
        "model01.add(BatchNormalization())\n",
        "model01.add(Dense(6, activation='sigmoid'))\n",
        "\n",
        "model01.compile(optimizer='adam', \n",
        "              loss='categorical_crossentropy', \n",
        "              metrics=['accuracy'])\n",
        "\n",
        "#Обучаем сеть на выборке, сформированной по bag of words - xTrain01\n",
        "history = model01.fit(xTrain01, \n",
        "                      yTrain, \n",
        "                      epochs=13,\n",
        "                      batch_size=128,\n",
        "                      validation_data=(xTest01, yTest))\n",
        "\n",
        "plt.plot(history.history['acc'], \n",
        "         label='Доля верных ответов на обучающем наборе')\n",
        "plt.plot(history.history['val_acc'], \n",
        "         label='Доля верных ответов на проверочном наборе')\n",
        "plt.xlabel('Эпоха обучения')\n",
        "plt.ylabel('Доля верных ответов')\n",
        "plt.legend()\n",
        "plt.show()"
      ],
      "execution_count": 0,
      "outputs": [
        {
          "output_type": "stream",
          "text": [
            "Train on 17658 samples, validate on 6693 samples\n",
            "Epoch 1/13\n",
            "17658/17658 [==============================] - 20s 1ms/sample - loss: 0.3978 - acc: 0.9623 - val_loss: 0.9921 - val_acc: 0.6015\n",
            "Epoch 2/13\n",
            "17658/17658 [==============================] - 19s 1ms/sample - loss: 0.1122 - acc: 0.9225 - val_loss: 0.6890 - val_acc: 0.7197\n",
            "Epoch 3/13\n",
            "17658/17658 [==============================] - 19s 1ms/sample - loss: 0.0817 - acc: 0.9171 - val_loss: 0.5230 - val_acc: 0.8156\n",
            "Epoch 4/13\n",
            "17658/17658 [==============================] - 19s 1ms/sample - loss: 0.0700 - acc: 0.9309 - val_loss: 0.4894 - val_acc: 0.8349\n",
            "Epoch 5/13\n",
            "17658/17658 [==============================] - 19s 1ms/sample - loss: 0.0440 - acc: 0.9695 - val_loss: 0.5543 - val_acc: 0.8324\n",
            "Epoch 6/13\n",
            "17658/17658 [==============================] - 19s 1ms/sample - loss: 0.0111 - acc: 0.9953 - val_loss: 0.4599 - val_acc: 0.8593\n",
            "Epoch 7/13\n",
            "17658/17658 [==============================] - 19s 1ms/sample - loss: 0.0028 - acc: 0.9991 - val_loss: 0.4302 - val_acc: 0.8646\n",
            "Epoch 8/13\n",
            "17658/17658 [==============================] - 20s 1ms/sample - loss: 0.0017 - acc: 0.9995 - val_loss: 0.4060 - val_acc: 0.8737\n",
            "Epoch 9/13\n",
            "17658/17658 [==============================] - 20s 1ms/sample - loss: 7.8878e-04 - acc: 1.0000 - val_loss: 0.4090 - val_acc: 0.8718\n",
            "Epoch 10/13\n",
            "17658/17658 [==============================] - 19s 1ms/sample - loss: 5.2568e-04 - acc: 1.0000 - val_loss: 0.4129 - val_acc: 0.8723\n",
            "Epoch 11/13\n",
            "17658/17658 [==============================] - 20s 1ms/sample - loss: 4.3522e-04 - acc: 1.0000 - val_loss: 0.4142 - val_acc: 0.8721\n",
            "Epoch 12/13\n",
            "17658/17658 [==============================] - 19s 1ms/sample - loss: 3.3468e-04 - acc: 1.0000 - val_loss: 0.4099 - val_acc: 0.8746\n",
            "Epoch 13/13\n",
            "17658/17658 [==============================] - 19s 1ms/sample - loss: 2.7409e-04 - acc: 1.0000 - val_loss: 0.3985 - val_acc: 0.8785\n"
          ],
          "name": "stdout"
        },
        {
          "output_type": "display_data",
          "data": {
            "image/png": "[encoded data removed]",
            "text/plain": [
              "<Figure size 432x288 with 1 Axes>"
            ]
          },
          "metadata": {
            "tags": []
          }
        }
      ]
    },
    {
      "cell_type": "code",
      "metadata": {
        "id": "4S-_WQsIERrd",
        "colab_type": "code",
        "colab": {}
      },
      "source": [
        "# Представляем тестовую выборку в удобных для распознавания размерах\n",
        "##########################\n",
        "def createTestMultiClasses(wordIndexes, xLen, step): #функция принимает последовательность индексов, размер окна, шаг окна\n",
        "\n",
        "  #Для каждого из 6 классов\n",
        "  #Создаём тестовую выборку из индексов\n",
        "  nClasses = len(wordIndexes) #задаем количество классов\n",
        "  xTest6Classes01 = []                #здесь будет список из всех классов,каждый размером \"кол-во окон в тексте * 20000(при maxWordsCount=20000)\"\n",
        "  xTest6Classes = []                 #здесь будет список массивов, каждый размером \"кол-во окон в тексте * длину окна\"(6 по 420*1000)\n",
        "  for wI in wordIndexes:                       #для каждого тестового текста из последовательности индексов\n",
        "    sample = (getSetFromIndexes(wI, xLen, step)) #тестовая выборка размером \"кол-во окон*длину окна\"(например 420*1000)\n",
        "    xTest6Classes.append(np.array(sample))              #переводим в массив numpy и добавляем в список\n",
        "    xTest6Classes01.append(tokenizer.sequences_to_matrix(sample)) #трансформируется в Bag of Words в виде \"кол-во окон в тексте * 20000\"\n",
        "  xTest6Classes01 = np.array(xTest6Classes01)                     #и добавляется к нашему списку, \n",
        "  \n",
        "  return xTest6Classes01, xTest6Classes  #функция вернёт тестовые данные: TestBag 6 классов на n*20000 и xTestEm 6 по n*1000\n",
        "\n",
        "###########################\n",
        "# Расспознаём тестовую выборку и выводим результаты\n",
        "##########################\n",
        "def recognizeMultiClass(model, xTest, modelName):\n",
        "  print(\"НЕЙРОНКА: \", modelName)\n",
        "  print()\n",
        "  \n",
        "  val = []\n",
        "  pred = []\n",
        "  \n",
        "  totalSumRec = []\n",
        "  \n",
        "  #Проходим по всем классам\n",
        "  for i in range(nClasses):\n",
        "    #Получаем результаты распознавания класса по блокам слов длины xLen\n",
        "    currPred = model.predict(xTest[i])\n",
        "    pred.append(currPred)\n",
        "    #Определяем номер распознанного класса для каждохо блока слов длины xLen\n",
        "    currOut = np.argmax(currPred, axis=1)\n",
        "    \n",
        "    #Считаем процент распознавания каждого класса за каждый\n",
        "    #Получам матрицу 6 на 6\n",
        "    evVal = []\n",
        "    sumRec = []\n",
        "    for j in range(nClasses):\n",
        "      sumRec.append(0)\n",
        "      for t in range(len(currOut)):\n",
        "        if (currOut[t] == j):\n",
        "          sumRec[j] += 1\n",
        "      evVal.append(sumRec[j] / len(currOut))\n",
        "    \n",
        "    totalSumRec.append(sumRec[i])\n",
        "    \n",
        "    #Определяем, какой в класс в итоге за какой был распознан\n",
        "    val.append(evVal[i])\n",
        "    recognizedClass = np.argmax(evVal)\n",
        "    \n",
        "    #Выводим результаты распознавания по текущему классу\n",
        "    isRecognized = \"распознано НЕ ВЕРНО!\"\n",
        "    if (recognizedClass == i):\n",
        "      isRecognized = \"распознано ВЕРНО!\"\n",
        "    print(className[i], \" распознано \", int(100*evVal[i]), \"% сеть считает, что это \", className[recognizedClass], \", \", isRecognized, sep='')\n",
        "  \n",
        "  #Выводим вредний процент распознавания по всем классам вместе\n",
        "  print()\n",
        "  sumVal = 0\n",
        "  sumCount = 0\n",
        "  lenXtest = []\n",
        "  for i in range(nClasses):\n",
        "    sumCount += len(xTest[i])\n",
        "    sumVal += totalSumRec[i]\n",
        "  print(\"Средний процент распознавания \", int(100*sumVal/sumCount), \"%\", sep='')\n",
        "    \n",
        "  print()\n",
        "  \n",
        "  return sumVal/sumCount"
      ],
      "execution_count": 0,
      "outputs": []
    },
    {
      "cell_type": "code",
      "metadata": {
        "id": "AuoNtg84Emvw",
        "colab_type": "code",
        "colab": {}
      },
      "source": [
        "xTest6Classes01, xTest6Classes = createTestMultiClasses(testWordIndexes, xLen, step)"
      ],
      "execution_count": 0,
      "outputs": []
    },
    {
      "cell_type": "code",
      "metadata": {
        "id": "aZpV0032EmUI",
        "colab_type": "code",
        "outputId": "9358475e-bbc7-4823-93f6-fba27bc869e4",
        "colab": {
          "base_uri": "https://localhost:8080/",
          "height": 213
        }
      },
      "source": [
        "#Проверяем точность нейронки обученной на bag of words\n",
        "pred = recognizeMultiClass(model01, xTest6Classes01, \"Тексты 01 + Dense\")"
      ],
      "execution_count": 0,
      "outputs": [
        {
          "output_type": "stream",
          "text": [
            "НЕЙРОНКА:  Тексты 01 + Dense\n",
            "\n",
            "О. Генри распознано 55% сеть считает, что это О. Генри, распознано ВЕРНО!\n",
            "Стругацкие распознано 88% сеть считает, что это Стругацкие, распознано ВЕРНО!\n",
            "Булгаков распознано 84% сеть считает, что это Булгаков, распознано ВЕРНО!\n",
            "Саймак распознано 90% сеть считает, что это Саймак, распознано ВЕРНО!\n",
            "Фрай распознано 93% сеть считает, что это Фрай, распознано ВЕРНО!\n",
            "Брэдбери распознано 93% сеть считает, что это Брэдбери, распознано ВЕРНО!\n",
            "\n",
            "Средний процент распознавания 87%\n",
            "\n"
          ],
          "name": "stdout"
        }
      ]
    },
    {
      "cell_type": "markdown",
      "metadata": {
        "id": "9mAT5FAcCyyi",
        "colab_type": "text"
      },
      "source": [
        "**вывод**"
      ]
    },
    {
      "cell_type": "markdown",
      "metadata": {
        "id": "AlaNA-oSGYQw",
        "colab_type": "text"
      },
      "source": [
        "**b** maxWordsCount = 500"
      ]
    },
    {
      "cell_type": "code",
      "metadata": {
        "id": "rkpClz_7Cx79",
        "colab_type": "code",
        "colab": {}
      },
      "source": [
        "maxWordsCount = 500"
      ],
      "execution_count": 0,
      "outputs": []
    },
    {
      "cell_type": "code",
      "metadata": {
        "id": "g92j_r8YCxxU",
        "colab_type": "code",
        "outputId": "8f10c34a-5377-4f16-a349-ad832a28d0f4",
        "colab": {
          "base_uri": "https://localhost:8080/",
          "height": 760
        }
      },
      "source": [
        "#Создаём полносвязную сеть\n",
        "model01 = Sequential()\n",
        "model01.add(BatchNormalization())\n",
        "model01.add(Dense(200, input_dim=maxWordsCount, activation=\"relu\"))\n",
        "model01.add(Dropout(0.25))\n",
        "model01.add(BatchNormalization())\n",
        "model01.add(Dense(6, activation='sigmoid'))\n",
        "\n",
        "model01.compile(optimizer='adam', \n",
        "              loss='categorical_crossentropy', \n",
        "              metrics=['accuracy'])\n",
        "\n",
        "#Обучаем сеть на выборке, сформированной по bag of words - xTrain01\n",
        "history = model01.fit(xTrain01, \n",
        "                      yTrain, \n",
        "                      epochs=13,\n",
        "                      batch_size=128,\n",
        "                      validation_data=(xTest01, yTest))\n",
        "\n",
        "plt.plot(history.history['acc'], \n",
        "         label='Доля верных ответов на обучающем наборе')\n",
        "plt.plot(history.history['val_acc'], \n",
        "         label='Доля верных ответов на проверочном наборе')\n",
        "plt.xlabel('Эпоха обучения')\n",
        "plt.ylabel('Доля верных ответов')\n",
        "plt.legend()\n",
        "plt.show()"
      ],
      "execution_count": 0,
      "outputs": [
        {
          "output_type": "stream",
          "text": [
            "Train on 17658 samples, validate on 6693 samples\n",
            "Epoch 1/13\n",
            "17658/17658 [==============================] - 21s 1ms/sample - loss: 0.3892 - acc: 0.9801 - val_loss: 0.8145 - val_acc: 0.6962\n",
            "Epoch 2/13\n",
            "17658/17658 [==============================] - 19s 1ms/sample - loss: 0.0713 - acc: 0.9943 - val_loss: 0.5159 - val_acc: 0.8116\n",
            "Epoch 3/13\n",
            "17658/17658 [==============================] - 19s 1ms/sample - loss: 0.0245 - acc: 0.9981 - val_loss: 0.3422 - val_acc: 0.8779\n",
            "Epoch 4/13\n",
            "17658/17658 [==============================] - 19s 1ms/sample - loss: 0.0098 - acc: 0.9999 - val_loss: 0.2803 - val_acc: 0.9057\n",
            "Epoch 5/13\n",
            "17658/17658 [==============================] - 19s 1ms/sample - loss: 0.0035 - acc: 1.0000 - val_loss: 0.2698 - val_acc: 0.9095\n",
            "Epoch 6/13\n",
            "17658/17658 [==============================] - 19s 1ms/sample - loss: 0.0019 - acc: 1.0000 - val_loss: 0.2858 - val_acc: 0.9050\n",
            "Epoch 7/13\n",
            "17658/17658 [==============================] - 20s 1ms/sample - loss: 0.0013 - acc: 1.0000 - val_loss: 0.2801 - val_acc: 0.9104\n",
            "Epoch 8/13\n",
            "17658/17658 [==============================] - 19s 1ms/sample - loss: 8.8053e-04 - acc: 1.0000 - val_loss: 0.2838 - val_acc: 0.9102\n",
            "Epoch 9/13\n",
            "17658/17658 [==============================] - 19s 1ms/sample - loss: 6.7368e-04 - acc: 1.0000 - val_loss: 0.2894 - val_acc: 0.9086\n",
            "Epoch 10/13\n",
            "17658/17658 [==============================] - 19s 1ms/sample - loss: 5.7347e-04 - acc: 1.0000 - val_loss: 0.2882 - val_acc: 0.9111\n",
            "Epoch 11/13\n",
            "17658/17658 [==============================] - 19s 1ms/sample - loss: 4.1461e-04 - acc: 1.0000 - val_loss: 0.2920 - val_acc: 0.9101\n",
            "Epoch 12/13\n",
            "17658/17658 [==============================] - 19s 1ms/sample - loss: 3.4716e-04 - acc: 1.0000 - val_loss: 0.2924 - val_acc: 0.9093\n",
            "Epoch 13/13\n",
            "17658/17658 [==============================] - 19s 1ms/sample - loss: 3.1501e-04 - acc: 1.0000 - val_loss: 0.2974 - val_acc: 0.9086\n"
          ],
          "name": "stdout"
        },
        {
          "output_type": "display_data",
          "data": {
            "image/png": "[encoded data removed]",
            "text/plain": [
              "<Figure size 432x288 with 1 Axes>"
            ]
          },
          "metadata": {
            "tags": []
          }
        }
      ]
    },
    {
      "cell_type": "markdown",
      "metadata": {
        "id": "EMOYCkc3GfAH",
        "colab_type": "text"
      },
      "source": [
        "**a** maxWordsCount = 100"
      ]
    },
    {
      "cell_type": "code",
      "metadata": {
        "id": "tkJ360w0CxnX",
        "colab_type": "code",
        "colab": {}
      },
      "source": [
        "maxWordsCount = 100"
      ],
      "execution_count": 0,
      "outputs": []
    },
    {
      "cell_type": "code",
      "metadata": {
        "id": "Af_0sPmQDHW4",
        "colab_type": "code",
        "outputId": "fd1eb14b-6448-47c0-ae4a-c18199f9720b",
        "colab": {
          "base_uri": "https://localhost:8080/",
          "height": 760
        }
      },
      "source": [
        "#Создаём полносвязную сеть\n",
        "model01 = Sequential()\n",
        "model01.add(BatchNormalization())\n",
        "model01.add(Dense(200, input_dim=maxWordsCount, activation=\"relu\"))\n",
        "model01.add(Dropout(0.25))\n",
        "model01.add(BatchNormalization())\n",
        "model01.add(Dense(6, activation='sigmoid'))\n",
        "\n",
        "model01.compile(optimizer='adam', \n",
        "              loss='categorical_crossentropy', \n",
        "              metrics=['accuracy'])\n",
        "\n",
        "#Обучаем сеть на выборке, сформированной по bag of words - xTrain01\n",
        "history = model01.fit(xTrain01, \n",
        "                      yTrain, \n",
        "                      epochs=13,\n",
        "                      batch_size=128,\n",
        "                      validation_data=(xTest01, yTest))\n",
        "\n",
        "plt.plot(history.history['acc'], \n",
        "         label='Доля верных ответов на обучающем наборе')\n",
        "plt.plot(history.history['val_acc'], \n",
        "         label='Доля верных ответов на проверочном наборе')\n",
        "plt.xlabel('Эпоха обучения')\n",
        "plt.ylabel('Доля верных ответов')\n",
        "plt.legend()\n",
        "plt.show()"
      ],
      "execution_count": 0,
      "outputs": [
        {
          "output_type": "stream",
          "text": [
            "Train on 17658 samples, validate on 6693 samples\n",
            "Epoch 1/13\n",
            "17658/17658 [==============================] - 20s 1ms/sample - loss: 0.4115 - acc: 0.9730 - val_loss: 0.8316 - val_acc: 0.6925\n",
            "Epoch 2/13\n",
            "17658/17658 [==============================] - 19s 1ms/sample - loss: 0.1011 - acc: 0.9596 - val_loss: 0.5038 - val_acc: 0.8312\n",
            "Epoch 3/13\n",
            "17658/17658 [==============================] - 19s 1ms/sample - loss: 0.0570 - acc: 0.9595 - val_loss: 0.3839 - val_acc: 0.8582\n",
            "Epoch 4/13\n",
            "17658/17658 [==============================] - 19s 1ms/sample - loss: 0.0383 - acc: 0.9699 - val_loss: 0.3254 - val_acc: 0.8902\n",
            "Epoch 5/13\n",
            "17658/17658 [==============================] - 19s 1ms/sample - loss: 0.0261 - acc: 0.9825 - val_loss: 0.3288 - val_acc: 0.8956\n",
            "Epoch 6/13\n",
            "17658/17658 [==============================] - 19s 1ms/sample - loss: 0.0070 - acc: 0.9993 - val_loss: 0.3703 - val_acc: 0.8884\n",
            "Epoch 7/13\n",
            "17658/17658 [==============================] - 19s 1ms/sample - loss: 0.0015 - acc: 1.0000 - val_loss: 0.3570 - val_acc: 0.8911\n",
            "Epoch 8/13\n",
            "17658/17658 [==============================] - 19s 1ms/sample - loss: 9.2106e-04 - acc: 1.0000 - val_loss: 0.3424 - val_acc: 0.8944\n",
            "Epoch 9/13\n",
            "17658/17658 [==============================] - 19s 1ms/sample - loss: 6.9951e-04 - acc: 1.0000 - val_loss: 0.3379 - val_acc: 0.8956\n",
            "Epoch 10/13\n",
            "17658/17658 [==============================] - 19s 1ms/sample - loss: 5.1143e-04 - acc: 1.0000 - val_loss: 0.3353 - val_acc: 0.8972\n",
            "Epoch 11/13\n",
            "17658/17658 [==============================] - 19s 1ms/sample - loss: 3.8807e-04 - acc: 1.0000 - val_loss: 0.3434 - val_acc: 0.8962\n",
            "Epoch 12/13\n",
            "17658/17658 [==============================] - 19s 1ms/sample - loss: 3.1870e-04 - acc: 1.0000 - val_loss: 0.3517 - val_acc: 0.8927\n",
            "Epoch 13/13\n",
            "17658/17658 [==============================] - 19s 1ms/sample - loss: 2.5232e-04 - acc: 1.0000 - val_loss: 0.3529 - val_acc: 0.8933\n"
          ],
          "name": "stdout"
        },
        {
          "output_type": "display_data",
          "data": {
            "image/png": "[encoded data removed]",
            "text/plain": [
              "<Figure size 432x288 with 1 Axes>"
            ]
          },
          "metadata": {
            "tags": []
          }
        }
      ]
    },
    {
      "cell_type": "code",
      "metadata": {
        "id": "An6E4rVYIIhU",
        "colab_type": "code",
        "colab": {}
      },
      "source": [
        "# Представляем тестовую выборку в удобных для распознавания размерах\n",
        "##########################\n",
        "def createTestMultiClasses(wordIndexes, xLen, step): #функция принимает последовательность индексов, размер окна, шаг окна\n",
        "\n",
        "  #Для каждого из 6 классов\n",
        "  #Создаём тестовую выборку из индексов\n",
        "  nClasses = len(wordIndexes) #задаем количество классов\n",
        "  xTest6Classes01 = []                #здесь будет список из всех классов,каждый размером \"кол-во окон в тексте * 20000(при maxWordsCount=20000)\"\n",
        "  xTest6Classes = []                 #здесь будет список массивов, каждый размером \"кол-во окон в тексте * длину окна\"(6 по 420*1000)\n",
        "  for wI in wordIndexes:                       #для каждого тестового текста из последовательности индексов\n",
        "    sample = (getSetFromIndexes(wI, xLen, step)) #тестовая выборка размером \"кол-во окон*длину окна\"(например 420*1000)\n",
        "    xTest6Classes.append(np.array(sample))              #переводим в массив numpy и добавляем в список\n",
        "    xTest6Classes01.append(tokenizer.sequences_to_matrix(sample)) #трансформируется в Bag of Words в виде \"кол-во окон в тексте * 20000\"\n",
        "  xTest6Classes01 = np.array(xTest6Classes01)                     #и добавляется к нашему списку, \n",
        "  \n",
        "  return xTest6Classes01, xTest6Classes  #функция вернёт тестовые данные: TestBag 6 классов на n*20000 и xTestEm 6 по n*1000\n",
        "\n",
        "###########################\n",
        "# Расспознаём тестовую выборку и выводим результаты\n",
        "##########################\n",
        "def recognizeMultiClass(model, xTest, modelName):\n",
        "  print(\"НЕЙРОНКА: \", modelName)\n",
        "  print()\n",
        "  \n",
        "  val = []\n",
        "  pred = []\n",
        "  \n",
        "  totalSumRec = []\n",
        "  \n",
        "  #Проходим по всем классам\n",
        "  for i in range(nClasses):\n",
        "    #Получаем результаты распознавания класса по блокам слов длины xLen\n",
        "    currPred = model.predict(xTest[i])\n",
        "    pred.append(currPred)\n",
        "    #Определяем номер распознанного класса для каждохо блока слов длины xLen\n",
        "    currOut = np.argmax(currPred, axis=1)\n",
        "    \n",
        "    #Считаем процент распознавания каждого класса за каждый\n",
        "    #Получам матрицу 6 на 6\n",
        "    evVal = []\n",
        "    sumRec = []\n",
        "    for j in range(nClasses):\n",
        "      sumRec.append(0)\n",
        "      for t in range(len(currOut)):\n",
        "        if (currOut[t] == j):\n",
        "          sumRec[j] += 1\n",
        "      evVal.append(sumRec[j] / len(currOut))\n",
        "    \n",
        "    totalSumRec.append(sumRec[i])\n",
        "    \n",
        "    #Определяем, какой в класс в итоге за какой был распознан\n",
        "    val.append(evVal[i])\n",
        "    recognizedClass = np.argmax(evVal)\n",
        "    \n",
        "    #Выводим результаты распознавания по текущему классу\n",
        "    isRecognized = \"распознано НЕ ВЕРНО!\"\n",
        "    if (recognizedClass == i):\n",
        "      isRecognized = \"распознано ВЕРНО!\"\n",
        "    print(className[i], \" распознано \", int(100*evVal[i]), \"% сеть считает, что это \", className[recognizedClass], \", \", isRecognized, sep='')\n",
        "  \n",
        "  #Выводим вредний процент распознавания по всем классам вместе\n",
        "  print()\n",
        "  sumVal = 0\n",
        "  sumCount = 0\n",
        "  lenXtest = []\n",
        "  for i in range(nClasses):\n",
        "    sumCount += len(xTest[i])\n",
        "    sumVal += totalSumRec[i]\n",
        "  print(\"Средний процент распознавания \", int(100*sumVal/sumCount), \"%\", sep='')\n",
        "    \n",
        "  print()\n",
        "  \n",
        "  return sumVal/sumCount"
      ],
      "execution_count": 0,
      "outputs": []
    },
    {
      "cell_type": "code",
      "metadata": {
        "id": "W4GLqr-AIITB",
        "colab_type": "code",
        "colab": {}
      },
      "source": [
        "xTest6Classes01, xTest6Classes = createTestMultiClasses(testWordIndexes, xLen, step)"
      ],
      "execution_count": 0,
      "outputs": []
    },
    {
      "cell_type": "code",
      "metadata": {
        "id": "DN9RyVEfIHiQ",
        "colab_type": "code",
        "outputId": "87df7a70-5ff6-453d-d1ec-9a1444d31ae0",
        "colab": {
          "base_uri": "https://localhost:8080/",
          "height": 213
        }
      },
      "source": [
        "#Проверяем точность нейронки обученной на bag of words\n",
        "pred = recognizeMultiClass(model01, xTest6Classes01, \"Тексты 01 + Dense\")"
      ],
      "execution_count": 0,
      "outputs": [
        {
          "output_type": "stream",
          "text": [
            "НЕЙРОНКА:  Тексты 01 + Dense\n",
            "\n",
            "О. Генри распознано 78% сеть считает, что это О. Генри, распознано ВЕРНО!\n",
            "Стругацкие распознано 90% сеть считает, что это Стругацкие, распознано ВЕРНО!\n",
            "Булгаков распознано 83% сеть считает, что это Булгаков, распознано ВЕРНО!\n",
            "Саймак распознано 78% сеть считает, что это Саймак, распознано ВЕРНО!\n",
            "Фрай распознано 92% сеть считает, что это Фрай, распознано ВЕРНО!\n",
            "Брэдбери распознано 98% сеть считает, что это Брэдбери, распознано ВЕРНО!\n",
            "\n",
            "Средний процент распознавания 89%\n",
            "\n"
          ],
          "name": "stdout"
        }
      ]
    },
    {
      "cell_type": "markdown",
      "metadata": {
        "id": "j5G-AQmXILVC",
        "colab_type": "text"
      },
      "source": [
        "**вывод** Какая умная сетка даже на 100 словах отличает авторов хорошо."
      ]
    },
    {
      "cell_type": "markdown",
      "metadata": {
        "id": "socVIyu3YjMV",
        "colab_type": "text"
      },
      "source": [
        "Наилучший результат **maxWordsCount** = **10000** val_acc: 0.9238"
      ]
    },
    {
      "cell_type": "markdown",
      "metadata": {
        "id": "wlv1oi96JOQl",
        "colab_type": "text"
      },
      "source": [
        "#2 РАзные архитектуры"
      ]
    },
    {
      "cell_type": "code",
      "metadata": {
        "id": "mliEr6aPLd8x",
        "colab_type": "code",
        "colab": {}
      },
      "source": [
        "maxWordsCount = 20000 # возвращаем"
      ],
      "execution_count": 0,
      "outputs": []
    },
    {
      "cell_type": "markdown",
      "metadata": {
        "id": "nB8bwZcyKcKQ",
        "colab_type": "text"
      },
      "source": [
        "**i** разные активационные функции ely и на выходе softmax."
      ]
    },
    {
      "cell_type": "code",
      "metadata": {
        "id": "yAj9daXOSjQO",
        "colab_type": "code",
        "outputId": "430caab2-08da-412a-a4dc-334b4eb4ad4a",
        "colab": {
          "base_uri": "https://localhost:8080/",
          "height": 956
        }
      },
      "source": [
        "#Создаём полносвязную сеть\n",
        "model01 = Sequential()\n",
        "model01.add(BatchNormalization())\n",
        "model01.add(Dense(200, input_dim=maxWordsCount, activation=\"elu\"))\n",
        "model01.add(Dropout(0.35))\n",
        "model01.add(BatchNormalization())\n",
        "model01.add(Dense(6, activation='softmax'))\n",
        "\n",
        "model01.compile(optimizer='adam', \n",
        "              loss='categorical_crossentropy', \n",
        "              metrics=['accuracy'])\n",
        "\n",
        "#Обучаем сеть на выборке, сформированной по bag of words - xTrain01\n",
        "history = model01.fit(xTrain01, \n",
        "                      yTrain, \n",
        "                      epochs=13,\n",
        "                      batch_size=128,\n",
        "                      validation_data=(xTest01, yTest))\n",
        "\n",
        "plt.plot(history.history['acc'], \n",
        "         label='Доля верных ответов на обучающем наборе')\n",
        "plt.plot(history.history['val_acc'], \n",
        "         label='Доля верных ответов на проверочном наборе')\n",
        "plt.xlabel('Эпоха обучения')\n",
        "plt.ylabel('Доля верных ответов')\n",
        "plt.legend()\n",
        "plt.show()\n",
        "\n",
        "pred = recognizeMultiClass(model01, xTest6Classes01, \"Тексты 01 + Dense\")"
      ],
      "execution_count": 0,
      "outputs": [
        {
          "output_type": "stream",
          "text": [
            "Train on 17658 samples, validate on 6693 samples\n",
            "Epoch 1/13\n",
            "17658/17658 [==============================] - 21s 1ms/sample - loss: 0.0415 - acc: 0.9873 - val_loss: 0.5762 - val_acc: 0.8645\n",
            "Epoch 2/13\n",
            "17658/17658 [==============================] - 19s 1ms/sample - loss: 4.5859e-04 - acc: 1.0000 - val_loss: 0.4417 - val_acc: 0.8878\n",
            "Epoch 3/13\n",
            "17658/17658 [==============================] - 19s 1ms/sample - loss: 2.3029e-04 - acc: 1.0000 - val_loss: 0.3829 - val_acc: 0.8875\n",
            "Epoch 4/13\n",
            "17658/17658 [==============================] - 19s 1ms/sample - loss: 1.6052e-04 - acc: 1.0000 - val_loss: 0.3744 - val_acc: 0.8814\n",
            "Epoch 5/13\n",
            "17658/17658 [==============================] - 20s 1ms/sample - loss: 1.1129e-04 - acc: 1.0000 - val_loss: 0.3812 - val_acc: 0.8793\n",
            "Epoch 6/13\n",
            "17658/17658 [==============================] - 20s 1ms/sample - loss: 8.6954e-05 - acc: 1.0000 - val_loss: 0.3827 - val_acc: 0.8793\n",
            "Epoch 7/13\n",
            "17658/17658 [==============================] - 19s 1ms/sample - loss: 7.4203e-05 - acc: 1.0000 - val_loss: 0.3835 - val_acc: 0.8790\n",
            "Epoch 8/13\n",
            "17658/17658 [==============================] - 19s 1ms/sample - loss: 5.7894e-05 - acc: 1.0000 - val_loss: 0.3827 - val_acc: 0.8790\n",
            "Epoch 9/13\n",
            "17658/17658 [==============================] - 19s 1ms/sample - loss: 5.0621e-05 - acc: 1.0000 - val_loss: 0.3829 - val_acc: 0.8794\n",
            "Epoch 10/13\n",
            "17658/17658 [==============================] - 19s 1ms/sample - loss: 4.4088e-05 - acc: 1.0000 - val_loss: 0.3825 - val_acc: 0.8794\n",
            "Epoch 11/13\n",
            "17658/17658 [==============================] - 19s 1ms/sample - loss: 3.5168e-05 - acc: 1.0000 - val_loss: 0.3826 - val_acc: 0.8797\n",
            "Epoch 12/13\n",
            "17658/17658 [==============================] - 19s 1ms/sample - loss: 3.2266e-05 - acc: 1.0000 - val_loss: 0.3823 - val_acc: 0.8808\n",
            "Epoch 13/13\n",
            "17658/17658 [==============================] - 19s 1ms/sample - loss: 2.5902e-05 - acc: 1.0000 - val_loss: 0.3826 - val_acc: 0.8799\n"
          ],
          "name": "stdout"
        },
        {
          "output_type": "display_data",
          "data": {
            "image/png": "[encoded data removed]",
            "text/plain": [
              "<Figure size 432x288 with 1 Axes>"
            ]
          },
          "metadata": {
            "tags": []
          }
        },
        {
          "output_type": "stream",
          "text": [
            "НЕЙРОНКА:  Тексты 01 + Dense\n",
            "\n",
            "О. Генри распознано 89% сеть считает, что это О. Генри, распознано ВЕРНО!\n",
            "Стругацкие распознано 88% сеть считает, что это Стругацкие, распознано ВЕРНО!\n",
            "Булгаков распознано 78% сеть считает, что это Булгаков, распознано ВЕРНО!\n",
            "Саймак распознано 76% сеть считает, что это Саймак, распознано ВЕРНО!\n",
            "Фрай распознано 90% сеть считает, что это Фрай, распознано ВЕРНО!\n",
            "Брэдбери распознано 97% сеть считает, что это Брэдбери, распознано ВЕРНО!\n",
            "\n",
            "Средний процент распознавания 87%\n",
            "\n"
          ],
          "name": "stdout"
        }
      ]
    },
    {
      "cell_type": "markdown",
      "metadata": {
        "id": "24vEeD9-Mv9V",
        "colab_type": "text"
      },
      "source": [
        "**вывод** результат хуже 0.8808"
      ]
    },
    {
      "cell_type": "markdown",
      "metadata": {
        "id": "oJGbHrQ6NNa3",
        "colab_type": "text"
      },
      "source": [
        "везде sigmoid"
      ]
    },
    {
      "cell_type": "code",
      "metadata": {
        "id": "jlUByYuENLOp",
        "colab_type": "code",
        "outputId": "0c5d8ab4-7577-4b01-a3ca-a492745758c1",
        "colab": {
          "base_uri": "https://localhost:8080/",
          "height": 956
        }
      },
      "source": [
        "#Создаём полносвязную сеть\n",
        "model01 = Sequential()\n",
        "model01.add(BatchNormalization())\n",
        "model01.add(Dense(200, input_dim=maxWordsCount, activation=\"sigmoid\"))\n",
        "model01.add(Dropout(0.35))\n",
        "model01.add(BatchNormalization())\n",
        "model01.add(Dense(6, activation='sigmoid'))\n",
        "\n",
        "model01.compile(optimizer='adam', \n",
        "              loss='categorical_crossentropy', \n",
        "              metrics=['accuracy'])\n",
        "\n",
        "#Обучаем сеть на выборке, сформированной по bag of words - xTrain01\n",
        "history = model01.fit(xTrain01, \n",
        "                      yTrain, \n",
        "                      epochs=13,\n",
        "                      batch_size=128,\n",
        "                      validation_data=(xTest01, yTest))\n",
        "\n",
        "plt.plot(history.history['acc'], \n",
        "         label='Доля верных ответов на обучающем наборе')\n",
        "plt.plot(history.history['val_acc'], \n",
        "         label='Доля верных ответов на проверочном наборе')\n",
        "plt.xlabel('Эпоха обучения')\n",
        "plt.ylabel('Доля верных ответов')\n",
        "plt.legend()\n",
        "plt.show()\n",
        "\n",
        "pred = recognizeMultiClass(model01, xTest6Classes01, \"Тексты 01 + Dense\")"
      ],
      "execution_count": 0,
      "outputs": [
        {
          "output_type": "stream",
          "text": [
            "Train on 17658 samples, validate on 6693 samples\n",
            "Epoch 1/13\n",
            "17658/17658 [==============================] - 20s 1ms/sample - loss: 0.4508 - acc: 0.9755 - val_loss: 0.9815 - val_acc: 0.5246\n",
            "Epoch 2/13\n",
            "17658/17658 [==============================] - 19s 1ms/sample - loss: 0.0820 - acc: 0.9913 - val_loss: 0.8954 - val_acc: 0.6741\n",
            "Epoch 3/13\n",
            "17658/17658 [==============================] - 19s 1ms/sample - loss: 0.0171 - acc: 0.9996 - val_loss: 0.4878 - val_acc: 0.8427\n",
            "Epoch 4/13\n",
            "17658/17658 [==============================] - 19s 1ms/sample - loss: 0.0059 - acc: 1.0000 - val_loss: 0.3998 - val_acc: 0.8814\n",
            "Epoch 5/13\n",
            "17658/17658 [==============================] - 19s 1ms/sample - loss: 0.0031 - acc: 1.0000 - val_loss: 0.4082 - val_acc: 0.8867\n",
            "Epoch 6/13\n",
            "17658/17658 [==============================] - 19s 1ms/sample - loss: 0.0019 - acc: 1.0000 - val_loss: 0.4152 - val_acc: 0.8870\n",
            "Epoch 7/13\n",
            "17658/17658 [==============================] - 19s 1ms/sample - loss: 0.0014 - acc: 1.0000 - val_loss: 0.4349 - val_acc: 0.8854\n",
            "Epoch 8/13\n",
            "17658/17658 [==============================] - 19s 1ms/sample - loss: 9.6997e-04 - acc: 1.0000 - val_loss: 0.4245 - val_acc: 0.8903\n",
            "Epoch 9/13\n",
            "17658/17658 [==============================] - 19s 1ms/sample - loss: 7.3838e-04 - acc: 1.0000 - val_loss: 0.4337 - val_acc: 0.8887\n",
            "Epoch 10/13\n",
            "17658/17658 [==============================] - 19s 1ms/sample - loss: 5.8345e-04 - acc: 1.0000 - val_loss: 0.4373 - val_acc: 0.8881\n",
            "Epoch 11/13\n",
            "17658/17658 [==============================] - 20s 1ms/sample - loss: 4.7166e-04 - acc: 1.0000 - val_loss: 0.4454 - val_acc: 0.8879\n",
            "Epoch 12/13\n",
            "17658/17658 [==============================] - 19s 1ms/sample - loss: 3.8599e-04 - acc: 1.0000 - val_loss: 0.4558 - val_acc: 0.8872\n",
            "Epoch 13/13\n",
            "17658/17658 [==============================] - 19s 1ms/sample - loss: 3.1413e-04 - acc: 1.0000 - val_loss: 0.4575 - val_acc: 0.8867\n"
          ],
          "name": "stdout"
        },
        {
          "output_type": "display_data",
          "data": {
            "image/png": "[encoded data removed]",
            "text/plain": [
              "<Figure size 432x288 with 1 Axes>"
            ]
          },
          "metadata": {
            "tags": []
          }
        },
        {
          "output_type": "stream",
          "text": [
            "НЕЙРОНКА:  Тексты 01 + Dense\n",
            "\n",
            "О. Генри распознано 80% сеть считает, что это О. Генри, распознано ВЕРНО!\n",
            "Стругацкие распознано 88% сеть считает, что это Стругацкие, распознано ВЕРНО!\n",
            "Булгаков распознано 76% сеть считает, что это Булгаков, распознано ВЕРНО!\n",
            "Саймак распознано 84% сеть считает, что это Саймак, распознано ВЕРНО!\n",
            "Фрай распознано 93% сеть считает, что это Фрай, распознано ВЕРНО!\n",
            "Брэдбери распознано 98% сеть считает, что это Брэдбери, распознано ВЕРНО!\n",
            "\n",
            "Средний процент распознавания 88%\n",
            "\n"
          ],
          "name": "stdout"
        }
      ]
    },
    {
      "cell_type": "markdown",
      "metadata": {
        "id": "VYEANAlhO3rg",
        "colab_type": "text"
      },
      "source": [
        "sigmoid и linear"
      ]
    },
    {
      "cell_type": "code",
      "metadata": {
        "id": "qMogvhr3O4n-",
        "colab_type": "code",
        "outputId": "296d5601-209c-4b8c-da3a-b7f412b8d696",
        "colab": {
          "base_uri": "https://localhost:8080/",
          "height": 956
        }
      },
      "source": [
        "#Создаём полносвязную сеть\n",
        "model01 = Sequential()\n",
        "model01.add(BatchNormalization())\n",
        "model01.add(Dense(200, input_dim=maxWordsCount, activation=\"sigmoid\"))\n",
        "model01.add(Dropout(0.35))\n",
        "model01.add(BatchNormalization())\n",
        "model01.add(Dense(6, activation='linear'))\n",
        "\n",
        "model01.compile(optimizer='adam', \n",
        "              loss='categorical_crossentropy', \n",
        "              metrics=['accuracy'])\n",
        "\n",
        "#Обучаем сеть на выборке, сформированной по bag of words - xTrain01\n",
        "history = model01.fit(xTrain01, \n",
        "                      yTrain, \n",
        "                      epochs=13,\n",
        "                      batch_size=128,\n",
        "                      validation_data=(xTest01, yTest))\n",
        "\n",
        "plt.plot(history.history['acc'], \n",
        "         label='Доля верных ответов на обучающем наборе')\n",
        "plt.plot(history.history['val_acc'], \n",
        "         label='Доля верных ответов на проверочном наборе')\n",
        "plt.xlabel('Эпоха обучения')\n",
        "plt.ylabel('Доля верных ответов')\n",
        "plt.legend()\n",
        "plt.show()\n",
        "\n",
        "pred = recognizeMultiClass(model01, xTest6Classes01, \"Тексты 01 + Dense\")"
      ],
      "execution_count": 0,
      "outputs": [
        {
          "output_type": "stream",
          "text": [
            "Train on 17658 samples, validate on 6693 samples\n",
            "Epoch 1/13\n",
            "17658/17658 [==============================] - 21s 1ms/sample - loss: 5.7865 - acc: 0.3043 - val_loss: 7.5018 - val_acc: 0.1212\n",
            "Epoch 2/13\n",
            "17658/17658 [==============================] - 19s 1ms/sample - loss: 5.2381 - acc: 0.4101 - val_loss: 5.5553 - val_acc: 0.2908\n",
            "Epoch 3/13\n",
            "17658/17658 [==============================] - 19s 1ms/sample - loss: 4.9141 - acc: 0.4089 - val_loss: 5.3014 - val_acc: 0.2337\n",
            "Epoch 4/13\n",
            "17658/17658 [==============================] - 19s 1ms/sample - loss: 5.2721 - acc: 0.3838 - val_loss: 5.5990 - val_acc: 0.2331\n",
            "Epoch 5/13\n",
            "17658/17658 [==============================] - 19s 1ms/sample - loss: 5.4672 - acc: 0.3630 - val_loss: 5.8749 - val_acc: 0.2198\n",
            "Epoch 6/13\n",
            "17658/17658 [==============================] - 19s 1ms/sample - loss: 5.3012 - acc: 0.3458 - val_loss: 5.2669 - val_acc: 0.1282\n",
            "Epoch 7/13\n",
            "17658/17658 [==============================] - 19s 1ms/sample - loss: 5.0280 - acc: 0.3304 - val_loss: 5.2172 - val_acc: 0.1179\n",
            "Epoch 8/13\n",
            "17658/17658 [==============================] - 20s 1ms/sample - loss: 5.2648 - acc: 0.3247 - val_loss: 5.0121 - val_acc: 0.1041\n",
            "Epoch 9/13\n",
            "17658/17658 [==============================] - 19s 1ms/sample - loss: 5.2979 - acc: 0.2759 - val_loss: 5.3785 - val_acc: 0.1245\n",
            "Epoch 10/13\n",
            "17658/17658 [==============================] - 19s 1ms/sample - loss: 5.6136 - acc: 0.2748 - val_loss: 6.7343 - val_acc: 0.1315\n",
            "Epoch 11/13\n",
            "17658/17658 [==============================] - 19s 1ms/sample - loss: 5.3298 - acc: 0.2923 - val_loss: 5.8024 - val_acc: 0.1652\n",
            "Epoch 12/13\n",
            "17658/17658 [==============================] - 19s 1ms/sample - loss: 5.2699 - acc: 0.3079 - val_loss: 5.7079 - val_acc: 0.1427\n",
            "Epoch 13/13\n",
            "17658/17658 [==============================] - 19s 1ms/sample - loss: 5.2388 - acc: 0.3241 - val_loss: 5.3672 - val_acc: 0.2090\n"
          ],
          "name": "stdout"
        },
        {
          "output_type": "display_data",
          "data": {
            "image/png": "[encoded data removed]",
            "text/plain": [
              "<Figure size 432x288 with 1 Axes>"
            ]
          },
          "metadata": {
            "tags": []
          }
        },
        {
          "output_type": "stream",
          "text": [
            "НЕЙРОНКА:  Тексты 01 + Dense\n",
            "\n",
            "О. Генри распознано 14% сеть считает, что это Саймак, распознано НЕ ВЕРНО!\n",
            "Стругацкие распознано 26% сеть считает, что это Стругацкие, распознано ВЕРНО!\n",
            "Булгаков распознано 23% сеть считает, что это О. Генри, распознано НЕ ВЕРНО!\n",
            "Саймак распознано 13% сеть считает, что это Стругацкие, распознано НЕ ВЕРНО!\n",
            "Фрай распознано 32% сеть считает, что это Фрай, распознано ВЕРНО!\n",
            "Брэдбери распознано 2% сеть считает, что это О. Генри, распознано НЕ ВЕРНО!\n",
            "\n",
            "Средний процент распознавания 20%\n",
            "\n"
          ],
          "name": "stdout"
        }
      ]
    },
    {
      "cell_type": "markdown",
      "metadata": {
        "id": "f5dWLhZ1NwGc",
        "colab_type": "text"
      },
      "source": [
        "**вывод** лучше всего работают, rely + sigmoid на выходе."
      ]
    },
    {
      "cell_type": "markdown",
      "metadata": {
        "id": "_WyxlcaqL56U",
        "colab_type": "text"
      },
      "source": [
        "**h** меняем количество слоев."
      ]
    },
    {
      "cell_type": "markdown",
      "metadata": {
        "id": "9399anhPMQ2I",
        "colab_type": "text"
      },
      "source": [
        "3 слоя"
      ]
    },
    {
      "cell_type": "code",
      "metadata": {
        "id": "5qwNiiVxS1tT",
        "colab_type": "code",
        "outputId": "bbd166b3-bfda-4e55-8e91-8c4653c1b287",
        "colab": {
          "base_uri": "https://localhost:8080/",
          "height": 1000
        }
      },
      "source": [
        "#Создаём полносвязную сеть\n",
        "model01 = Sequential()\n",
        "model01.add(BatchNormalization())\n",
        "model01.add(Dense(200, input_dim=maxWordsCount, activation=\"relu\"))\n",
        "model01.add(Dropout(0.25))\n",
        "model01.add(BatchNormalization())\n",
        "model01.add(Dense(200, activation=\"relu\"))\n",
        "model01.add(Dropout(0.25))\n",
        "model01.add(BatchNormalization())\n",
        "model01.add(Dense(200, activation=\"relu\"))\n",
        "model01.add(Dropout(0.25))\n",
        "model01.add(BatchNormalization())\n",
        "model01.add(Dense(6, activation='sigmoid'))\n",
        "\n",
        "model01.compile(optimizer='adam', \n",
        "              loss='categorical_crossentropy', \n",
        "              metrics=['accuracy'])\n",
        "\n",
        "#Обучаем сеть на выборке, сформированной по bag of words - xTrain01\n",
        "history = model01.fit(xTrain01, \n",
        "                      yTrain, \n",
        "                      epochs=20,\n",
        "                      batch_size=128,\n",
        "                      validation_data=(xTest01, yTest))\n",
        "\n",
        "plt.plot(history.history['acc'], \n",
        "         label='Доля верных ответов на обучающем наборе')\n",
        "plt.plot(history.history['val_acc'], \n",
        "         label='Доля верных ответов на проверочном наборе')\n",
        "plt.xlabel('Эпоха обучения')\n",
        "plt.ylabel('Доля верных ответов')\n",
        "plt.legend()\n",
        "plt.show()\n",
        "\n",
        "pred = recognizeMultiClass(model01, xTest6Classes01, \"Тексты 01 + Dense\")"
      ],
      "execution_count": 0,
      "outputs": [
        {
          "output_type": "stream",
          "text": [
            "Train on 17658 samples, validate on 6693 samples\n",
            "Epoch 1/20\n",
            "17658/17658 [==============================] - 21s 1ms/sample - loss: 0.5821 - acc: 0.9407 - val_loss: 1.0311 - val_acc: 0.6425\n",
            "Epoch 2/20\n",
            "17658/17658 [==============================] - 20s 1ms/sample - loss: 0.1027 - acc: 0.9906 - val_loss: 0.6616 - val_acc: 0.7571\n",
            "Epoch 3/20\n",
            "17658/17658 [==============================] - 20s 1ms/sample - loss: 0.0723 - acc: 0.9899 - val_loss: 0.6122 - val_acc: 0.7789\n",
            "Epoch 4/20\n",
            "17658/17658 [==============================] - 20s 1ms/sample - loss: 0.0672 - acc: 0.9894 - val_loss: 0.5852 - val_acc: 0.7983\n",
            "Epoch 5/20\n",
            "17658/17658 [==============================] - 20s 1ms/sample - loss: 0.0654 - acc: 0.9888 - val_loss: 0.6247 - val_acc: 0.7981\n",
            "Epoch 6/20\n",
            "17658/17658 [==============================] - 20s 1ms/sample - loss: 0.0644 - acc: 0.9894 - val_loss: 0.6247 - val_acc: 0.8035\n",
            "Epoch 7/20\n",
            "17658/17658 [==============================] - 20s 1ms/sample - loss: 0.0639 - acc: 0.9887 - val_loss: 0.6404 - val_acc: 0.8047\n",
            "Epoch 8/20\n",
            "17658/17658 [==============================] - 20s 1ms/sample - loss: 0.0636 - acc: 0.9878 - val_loss: 0.6552 - val_acc: 0.8041\n",
            "Epoch 9/20\n",
            "17658/17658 [==============================] - 20s 1ms/sample - loss: 0.0634 - acc: 0.9880 - val_loss: 0.6776 - val_acc: 0.8011\n",
            "Epoch 10/20\n",
            "17658/17658 [==============================] - 20s 1ms/sample - loss: 0.0632 - acc: 0.9891 - val_loss: 0.7125 - val_acc: 0.7944\n",
            "Epoch 11/20\n",
            "17658/17658 [==============================] - 20s 1ms/sample - loss: 0.0632 - acc: 0.9870 - val_loss: 0.7726 - val_acc: 0.7840\n",
            "Epoch 12/20\n",
            "17658/17658 [==============================] - 21s 1ms/sample - loss: 0.0632 - acc: 0.9894 - val_loss: 0.8036 - val_acc: 0.7774\n",
            "Epoch 13/20\n",
            "17658/17658 [==============================] - 20s 1ms/sample - loss: 0.0630 - acc: 0.9885 - val_loss: 0.7696 - val_acc: 0.7825\n",
            "Epoch 14/20\n",
            "17658/17658 [==============================] - 20s 1ms/sample - loss: 0.0630 - acc: 0.9892 - val_loss: 0.7795 - val_acc: 0.7848\n",
            "Epoch 15/20\n",
            "17658/17658 [==============================] - 20s 1ms/sample - loss: 0.0630 - acc: 0.9883 - val_loss: 0.7893 - val_acc: 0.7868\n",
            "Epoch 16/20\n",
            "17658/17658 [==============================] - 20s 1ms/sample - loss: 0.0629 - acc: 0.9890 - val_loss: 0.7805 - val_acc: 0.7875\n",
            "Epoch 17/20\n",
            "17658/17658 [==============================] - 20s 1ms/sample - loss: 0.0629 - acc: 0.9907 - val_loss: 0.7773 - val_acc: 0.7880\n",
            "Epoch 18/20\n",
            "17658/17658 [==============================] - 20s 1ms/sample - loss: 0.0629 - acc: 0.9900 - val_loss: 0.7992 - val_acc: 0.7843\n",
            "Epoch 19/20\n",
            "17658/17658 [==============================] - 20s 1ms/sample - loss: 0.0628 - acc: 0.9903 - val_loss: 0.7883 - val_acc: 0.7865\n",
            "Epoch 20/20\n",
            "17658/17658 [==============================] - 20s 1ms/sample - loss: 0.0628 - acc: 0.9901 - val_loss: 0.7847 - val_acc: 0.7875\n"
          ],
          "name": "stdout"
        },
        {
          "output_type": "display_data",
          "data": {
            "image/png": "[encoded data removed]",
            "text/plain": [
              "<Figure size 432x288 with 1 Axes>"
            ]
          },
          "metadata": {
            "tags": []
          }
        },
        {
          "output_type": "stream",
          "text": [
            "НЕЙРОНКА:  Тексты 01 + Dense\n",
            "\n",
            "О. Генри распознано 11% сеть считает, что это Брэдбери, распознано НЕ ВЕРНО!\n",
            "Стругацкие распознано 89% сеть считает, что это Стругацкие, распознано ВЕРНО!\n",
            "Булгаков распознано 67% сеть считает, что это Булгаков, распознано ВЕРНО!\n",
            "Саймак распознано 57% сеть считает, что это Саймак, распознано ВЕРНО!\n",
            "Фрай распознано 90% сеть считает, что это Фрай, распознано ВЕРНО!\n",
            "Брэдбери распознано 99% сеть считает, что это Брэдбери, распознано ВЕРНО!\n",
            "\n",
            "Средний процент распознавания 78%\n",
            "\n"
          ],
          "name": "stdout"
        }
      ]
    },
    {
      "cell_type": "markdown",
      "metadata": {
        "id": "XNVPJOsdZLLJ",
        "colab_type": "text"
      },
      "source": [
        "2 слоя"
      ]
    },
    {
      "cell_type": "code",
      "metadata": {
        "id": "1XCSZStPTHPK",
        "colab_type": "code",
        "outputId": "b8898b7a-4712-4869-f56e-a08344ba2b8c",
        "colab": {
          "base_uri": "https://localhost:8080/",
          "height": 1000
        }
      },
      "source": [
        "#Создаём полносвязную сеть\n",
        "model01 = Sequential()\n",
        "model01.add(BatchNormalization())\n",
        "model01.add(Dense(200, input_dim=maxWordsCount, activation=\"relu\"))\n",
        "model01.add(Dense(200, activation=\"relu\"))\n",
        "model01.add(Dense(6, activation='sigmoid'))\n",
        "\n",
        "model01.compile(optimizer='adam', \n",
        "              loss='categorical_crossentropy', \n",
        "              metrics=['accuracy'])\n",
        "\n",
        "#Обучаем сеть на выборке, сформированной по bag of words - xTrain01\n",
        "history = model01.fit(xTrain01, \n",
        "                      yTrain, \n",
        "                      epochs=20,\n",
        "                      batch_size=128,\n",
        "                      validation_data=(xTest01, yTest))\n",
        "\n",
        "plt.plot(history.history['acc'], \n",
        "         label='Доля верных ответов на обучающем наборе')\n",
        "plt.plot(history.history['val_acc'], \n",
        "         label='Доля верных ответов на проверочном наборе')\n",
        "plt.xlabel('Эпоха обучения')\n",
        "plt.ylabel('Доля верных ответов')\n",
        "plt.legend()\n",
        "plt.show()\n",
        "\n",
        "pred = recognizeMultiClass(model01, xTest6Classes01, \"Тексты 01 + Dense\")"
      ],
      "execution_count": 0,
      "outputs": [
        {
          "output_type": "stream",
          "text": [
            "Train on 17658 samples, validate on 6693 samples\n",
            "Epoch 1/20\n",
            "17658/17658 [==============================] - 21s 1ms/sample - loss: 0.0634 - acc: 0.9841 - val_loss: 0.5529 - val_acc: 0.8080\n",
            "Epoch 2/20\n",
            "17658/17658 [==============================] - 20s 1ms/sample - loss: 1.7492e-05 - acc: 1.0000 - val_loss: 0.4240 - val_acc: 0.8501\n",
            "Epoch 3/20\n",
            "17658/17658 [==============================] - 20s 1ms/sample - loss: 2.8275e-06 - acc: 1.0000 - val_loss: 0.4590 - val_acc: 0.8473\n",
            "Epoch 4/20\n",
            "17658/17658 [==============================] - 20s 1ms/sample - loss: 2.0032e-06 - acc: 1.0000 - val_loss: 0.5253 - val_acc: 0.8419\n",
            "Epoch 5/20\n",
            "17658/17658 [==============================] - 20s 1ms/sample - loss: 1.6052e-06 - acc: 1.0000 - val_loss: 0.5663 - val_acc: 0.8389\n",
            "Epoch 6/20\n",
            "17658/17658 [==============================] - 19s 1ms/sample - loss: 1.2537e-06 - acc: 1.0000 - val_loss: 0.5828 - val_acc: 0.8394\n",
            "Epoch 7/20\n",
            "17658/17658 [==============================] - 19s 1ms/sample - loss: 1.7137e-06 - acc: 1.0000 - val_loss: 0.5999 - val_acc: 0.8364\n",
            "Epoch 8/20\n",
            "17658/17658 [==============================] - 19s 1ms/sample - loss: 9.4905e-07 - acc: 1.0000 - val_loss: 0.5973 - val_acc: 0.8371\n",
            "Epoch 9/20\n",
            "17658/17658 [==============================] - 19s 1ms/sample - loss: 8.3576e-07 - acc: 1.0000 - val_loss: 0.5934 - val_acc: 0.8385\n",
            "Epoch 10/20\n",
            "17658/17658 [==============================] - 20s 1ms/sample - loss: 7.9300e-07 - acc: 1.0000 - val_loss: 0.5893 - val_acc: 0.8391\n",
            "Epoch 11/20\n",
            "17658/17658 [==============================] - 19s 1ms/sample - loss: 6.9327e-07 - acc: 1.0000 - val_loss: 0.5974 - val_acc: 0.8391\n",
            "Epoch 12/20\n",
            "17658/17658 [==============================] - 19s 1ms/sample - loss: 5.6187e-07 - acc: 1.0000 - val_loss: 0.5950 - val_acc: 0.8383\n",
            "Epoch 13/20\n",
            "17658/17658 [==============================] - 19s 1ms/sample - loss: 5.3452e-07 - acc: 1.0000 - val_loss: 0.5889 - val_acc: 0.8431\n",
            "Epoch 14/20\n",
            "17658/17658 [==============================] - 19s 1ms/sample - loss: 5.9793e-07 - acc: 1.0000 - val_loss: 0.5925 - val_acc: 0.8413\n",
            "Epoch 15/20\n",
            "17658/17658 [==============================] - 19s 1ms/sample - loss: 4.5339e-07 - acc: 1.0000 - val_loss: 0.5905 - val_acc: 0.8412\n",
            "Epoch 16/20\n",
            "17658/17658 [==============================] - 20s 1ms/sample - loss: 4.4005e-07 - acc: 1.0000 - val_loss: 0.6046 - val_acc: 0.8409\n",
            "Epoch 17/20\n",
            "17658/17658 [==============================] - 20s 1ms/sample - loss: 4.5207e-07 - acc: 1.0000 - val_loss: 0.5882 - val_acc: 0.8431\n",
            "Epoch 18/20\n",
            "17658/17658 [==============================] - 20s 1ms/sample - loss: 4.4799e-07 - acc: 1.0000 - val_loss: 0.5826 - val_acc: 0.8446\n",
            "Epoch 19/20\n",
            "17658/17658 [==============================] - 20s 1ms/sample - loss: 3.7764e-07 - acc: 1.0000 - val_loss: 0.5895 - val_acc: 0.8446\n",
            "Epoch 20/20\n",
            "17658/17658 [==============================] - 20s 1ms/sample - loss: 4.1669e-07 - acc: 1.0000 - val_loss: 0.5750 - val_acc: 0.8466\n"
          ],
          "name": "stdout"
        },
        {
          "output_type": "display_data",
          "data": {
            "image/png": "[encoded data removed]",
            "text/plain": [
              "<Figure size 432x288 with 1 Axes>"
            ]
          },
          "metadata": {
            "tags": []
          }
        },
        {
          "output_type": "stream",
          "text": [
            "НЕЙРОНКА:  Тексты 01 + Dense\n",
            "\n",
            "О. Генри распознано 95% сеть считает, что это О. Генри, распознано ВЕРНО!\n",
            "Стругацкие распознано 90% сеть считает, что это Стругацкие, распознано ВЕРНО!\n",
            "Булгаков распознано 65% сеть считает, что это Булгаков, распознано ВЕРНО!\n",
            "Саймак распознано 67% сеть считает, что это Саймак, распознано ВЕРНО!\n",
            "Фрай распознано 87% сеть считает, что это Фрай, распознано ВЕРНО!\n",
            "Брэдбери распознано 97% сеть считает, что это Брэдбери, распознано ВЕРНО!\n",
            "\n",
            "Средний процент распознавания 84%\n",
            "\n"
          ],
          "name": "stdout"
        }
      ]
    },
    {
      "cell_type": "markdown",
      "metadata": {
        "id": "npHcb2PNZVtH",
        "colab_type": "text"
      },
      "source": [
        "**вывод** увеличение слоев ухудшает результат."
      ]
    },
    {
      "cell_type": "markdown",
      "metadata": {
        "id": "sQc4lYLrXTM6",
        "colab_type": "text"
      },
      "source": [
        "**g** меняем колличество нейронов в слоях."
      ]
    },
    {
      "cell_type": "code",
      "metadata": {
        "id": "ybJBPHXcXopA",
        "colab_type": "code",
        "outputId": "e2fe4f3d-344e-4921-88cd-76e528ae9a8b",
        "colab": {
          "base_uri": "https://localhost:8080/",
          "height": 760
        }
      },
      "source": [
        "model01 = Sequential()\n",
        "model01.add(BatchNormalization())\n",
        "model01.add(Dense(62, input_dim=maxWordsCount, activation=\"relu\"))\n",
        "model01.add(Dropout(0.25))\n",
        "model01.add(BatchNormalization())\n",
        "model01.add(Dense(6, activation='sigmoid'))\n",
        "\n",
        "model01.compile(optimizer='adam', \n",
        "              loss='categorical_crossentropy', \n",
        "              metrics=['accuracy'])\n",
        "\n",
        "#Обучаем сеть на выборке, сформированной по bag of words - xTrain01\n",
        "history = model01.fit(xTrain01, \n",
        "                      yTrain, \n",
        "                      epochs=13,\n",
        "                      batch_size=128,\n",
        "                      validation_data=(xTest01, yTest))\n",
        "\n",
        "plt.plot(history.history['acc'], \n",
        "         label='Доля верных ответов на обучающем наборе')\n",
        "plt.plot(history.history['val_acc'], \n",
        "         label='Доля верных ответов на проверочном наборе')\n",
        "plt.xlabel('Эпоха обучения')\n",
        "plt.ylabel('Доля верных ответов')\n",
        "plt.legend()\n",
        "plt.show()"
      ],
      "execution_count": 0,
      "outputs": [
        {
          "output_type": "stream",
          "text": [
            "Train on 17658 samples, validate on 6693 samples\n",
            "Epoch 1/13\n",
            "17658/17658 [==============================] - 12s 681us/sample - loss: 0.6709 - acc: 0.9730 - val_loss: 1.1965 - val_acc: 0.5069\n",
            "Epoch 2/13\n",
            "17658/17658 [==============================] - 11s 617us/sample - loss: 0.2644 - acc: 0.9669 - val_loss: 1.0747 - val_acc: 0.5894\n",
            "Epoch 3/13\n",
            "17658/17658 [==============================] - 11s 612us/sample - loss: 0.1415 - acc: 0.9452 - val_loss: 0.7332 - val_acc: 0.7016\n",
            "Epoch 4/13\n",
            "17658/17658 [==============================] - 11s 609us/sample - loss: 0.1123 - acc: 0.9444 - val_loss: 0.6283 - val_acc: 0.7560\n",
            "Epoch 5/13\n",
            "17658/17658 [==============================] - 11s 623us/sample - loss: 0.1020 - acc: 0.9439 - val_loss: 0.5706 - val_acc: 0.7851\n",
            "Epoch 6/13\n",
            "17658/17658 [==============================] - 11s 621us/sample - loss: 0.0988 - acc: 0.9453 - val_loss: 0.5058 - val_acc: 0.8156\n",
            "Epoch 7/13\n",
            "17658/17658 [==============================] - 11s 607us/sample - loss: 0.0951 - acc: 0.9467 - val_loss: 0.4556 - val_acc: 0.8388\n",
            "Epoch 8/13\n",
            "17658/17658 [==============================] - 11s 613us/sample - loss: 0.0915 - acc: 0.9479 - val_loss: 0.4327 - val_acc: 0.8466\n",
            "Epoch 9/13\n",
            "17658/17658 [==============================] - 11s 609us/sample - loss: 0.0871 - acc: 0.9511 - val_loss: 0.4162 - val_acc: 0.8510\n",
            "Epoch 10/13\n",
            "17658/17658 [==============================] - 11s 601us/sample - loss: 0.0770 - acc: 0.9626 - val_loss: 0.3097 - val_acc: 0.9053\n",
            "Epoch 11/13\n",
            "17658/17658 [==============================] - 11s 611us/sample - loss: 0.0311 - acc: 0.9873 - val_loss: 0.3143 - val_acc: 0.8975\n",
            "Epoch 12/13\n",
            "17658/17658 [==============================] - 11s 602us/sample - loss: 0.0123 - acc: 0.9964 - val_loss: 0.3475 - val_acc: 0.8857\n",
            "Epoch 13/13\n",
            "17658/17658 [==============================] - 11s 610us/sample - loss: nan - acc: 0.8287 - val_loss: nan - val_acc: 0.0781\n"
          ],
          "name": "stdout"
        },
        {
          "output_type": "display_data",
          "data": {
            "image/png": "[encoded data removed]",
            "text/plain": [
              "<Figure size 432x288 with 1 Axes>"
            ]
          },
          "metadata": {
            "tags": []
          }
        }
      ]
    },
    {
      "cell_type": "code",
      "metadata": {
        "id": "S5FMATNYa9Al",
        "colab_type": "code",
        "colab": {}
      },
      "source": [
        "def createTestMultiClasses(wordIndexes, xLen, step): #функция принимает последовательность индексов, размер окна, шаг окна\n",
        "\n",
        "  #Для каждого из 6 классов\n",
        "  #Создаём тестовую выборку из индексов\n",
        "  nClasses = len(wordIndexes) #задаем количество классов\n",
        "  xTest6Classes01 = []                #здесь будет список из всех классов,каждый размером \"кол-во окон в тексте * 20000(при maxWordsCount=20000)\"\n",
        "  xTest6Classes = []                 #здесь будет список массивов, каждый размером \"кол-во окон в тексте * длину окна\"(6 по 420*1000)\n",
        "  for wI in wordIndexes:                       #для каждого тестового текста из последовательности индексов\n",
        "    sample = (getSetFromIndexes(wI, xLen, step)) #тестовая выборка размером \"кол-во окон*длину окна\"(например 420*1000)\n",
        "    xTest6Classes.append(np.array(sample))              #переводим в массив numpy и добавляем в список\n",
        "    xTest6Classes01.append(tokenizer.sequences_to_matrix(sample)) #трансформируется в Bag of Words в виде \"кол-во окон в тексте * 20000\"\n",
        "  xTest6Classes01 = np.array(xTest6Classes01)                     #и добавляется к нашему списку, \n",
        "  \n",
        "  return xTest6Classes01, xTest6Classes  #функция вернёт тестовые данные: TestBag 6 классов на n*20000 и xTestEm 6 по n*1000\n",
        "\n",
        "###########################\n",
        "# Расспознаём тестовую выборку и выводим результаты\n",
        "##########################\n",
        "def recognizeMultiClass(model, xTest, modelName):\n",
        "  print(\"НЕЙРОНКА: \", modelName)\n",
        "  print()\n",
        "  \n",
        "  val = []\n",
        "  pred = []\n",
        "  \n",
        "  totalSumRec = []\n",
        "  \n",
        "  #Проходим по всем классам\n",
        "  for i in range(nClasses):\n",
        "    #Получаем результаты распознавания класса по блокам слов длины xLen\n",
        "    currPred = model.predict(xTest[i])\n",
        "    pred.append(currPred)\n",
        "    #Определяем номер распознанного класса для каждохо блока слов длины xLen\n",
        "    currOut = np.argmax(currPred, axis=1)\n",
        "    \n",
        "    #Считаем процент распознавания каждого класса за каждый\n",
        "    #Получам матрицу 6 на 6\n",
        "    evVal = []\n",
        "    sumRec = []\n",
        "    for j in range(nClasses):\n",
        "      sumRec.append(0)\n",
        "      for t in range(len(currOut)):\n",
        "        if (currOut[t] == j):\n",
        "          sumRec[j] += 1\n",
        "      evVal.append(sumRec[j] / len(currOut))\n",
        "    \n",
        "    totalSumRec.append(sumRec[i])\n",
        "    \n",
        "    #Определяем, какой в класс в итоге за какой был распознан\n",
        "    val.append(evVal[i])\n",
        "    recognizedClass = np.argmax(evVal)\n",
        "    \n",
        "    #Выводим результаты распознавания по текущему классу\n",
        "    isRecognized = \"распознано НЕ ВЕРНО!\"\n",
        "    if (recognizedClass == i):\n",
        "      isRecognized = \"распознано ВЕРНО!\"\n",
        "    print(className[i], \" распознано \", int(100*evVal[i]), \"% сеть считает, что это \", className[recognizedClass], \", \", isRecognized, sep='')\n",
        "  \n",
        "  #Выводим вредний процент распознавания по всем классам вместе\n",
        "  print()\n",
        "  sumVal = 0\n",
        "  sumCount = 0\n",
        "  lenXtest = []\n",
        "  for i in range(nClasses):\n",
        "    sumCount += len(xTest[i])\n",
        "    sumVal += totalSumRec[i]\n",
        "  print(\"Средний процент распознавания \", int(100*sumVal/sumCount), \"%\", sep='')\n",
        "    \n",
        "  print()\n",
        "  \n",
        "  return sumVal/sumCount"
      ],
      "execution_count": 0,
      "outputs": []
    },
    {
      "cell_type": "code",
      "metadata": {
        "id": "Qn3Be79ga-4P",
        "colab_type": "code",
        "colab": {}
      },
      "source": [
        "xTest6Classes01, xTest6Classes = createTestMultiClasses(testWordIndexes, xLen, step)"
      ],
      "execution_count": 0,
      "outputs": []
    },
    {
      "cell_type": "code",
      "metadata": {
        "id": "jIddz3iza-lW",
        "colab_type": "code",
        "outputId": "dea91d72-cb71-40fa-bcac-3b50354febbf",
        "colab": {
          "base_uri": "https://localhost:8080/",
          "height": 213
        }
      },
      "source": [
        "#Проверяем точность нейронки обученной на bag of words\n",
        "pred = recognizeMultiClass(model01, xTest6Classes01, \"Тексты 01 + Dense\")"
      ],
      "execution_count": 0,
      "outputs": [
        {
          "output_type": "stream",
          "text": [
            "НЕЙРОНКА:  Тексты 01 + Dense\n",
            "\n",
            "О. Генри распознано 100% сеть считает, что это О. Генри, распознано ВЕРНО!\n",
            "Стругацкие распознано 0% сеть считает, что это О. Генри, распознано НЕ ВЕРНО!\n",
            "Булгаков распознано 0% сеть считает, что это О. Генри, распознано НЕ ВЕРНО!\n",
            "Саймак распознано 0% сеть считает, что это О. Генри, распознано НЕ ВЕРНО!\n",
            "Фрай распознано 0% сеть считает, что это О. Генри, распознано НЕ ВЕРНО!\n",
            "Брэдбери распознано 0% сеть считает, что это О. Генри, распознано НЕ ВЕРНО!\n",
            "\n",
            "Средний процент распознавания 7%\n",
            "\n"
          ],
          "name": "stdout"
        }
      ]
    },
    {
      "cell_type": "markdown",
      "metadata": {
        "id": "iFjxNJCLbvsp",
        "colab_type": "text"
      },
      "source": [
        "**Вывод** сеть разучилась распозновать авторов. Наверное не выдержала издевательств."
      ]
    },
    {
      "cell_type": "markdown",
      "metadata": {
        "id": "AjervdjKYLy1",
        "colab_type": "text"
      },
      "source": [
        "100 нейронов"
      ]
    },
    {
      "cell_type": "code",
      "metadata": {
        "id": "Qv8AuZRSYMXl",
        "colab_type": "code",
        "outputId": "37d0db88-1d70-434e-b433-f776e36fd319",
        "colab": {
          "base_uri": "https://localhost:8080/",
          "height": 760
        }
      },
      "source": [
        "model01 = Sequential()\n",
        "model01.add(BatchNormalization())\n",
        "model01.add(Dense(100, input_dim=maxWordsCount, activation=\"relu\"))\n",
        "model01.add(Dropout(0.25))\n",
        "model01.add(BatchNormalization())\n",
        "model01.add(Dense(6, activation='sigmoid'))\n",
        "\n",
        "model01.compile(optimizer='adam', \n",
        "              loss='categorical_crossentropy', \n",
        "              metrics=['accuracy'])\n",
        "\n",
        "#Обучаем сеть на выборке, сформированной по bag of words - xTrain01\n",
        "history = model01.fit(xTrain01, \n",
        "                      yTrain, \n",
        "                      epochs=13,\n",
        "                      batch_size=128,\n",
        "                      validation_data=(xTest01, yTest))\n",
        "\n",
        "plt.plot(history.history['acc'], \n",
        "         label='Доля верных ответов на обучающем наборе')\n",
        "plt.plot(history.history['val_acc'], \n",
        "         label='Доля верных ответов на проверочном наборе')\n",
        "plt.xlabel('Эпоха обучения')\n",
        "plt.ylabel('Доля верных ответов')\n",
        "plt.legend()\n",
        "plt.show()"
      ],
      "execution_count": 0,
      "outputs": [
        {
          "output_type": "stream",
          "text": [
            "Train on 17658 samples, validate on 6693 samples\n",
            "Epoch 1/13\n",
            "17658/17658 [==============================] - 15s 869us/sample - loss: 0.5628 - acc: 0.9657 - val_loss: 0.9870 - val_acc: 0.6667\n",
            "Epoch 2/13\n",
            "17658/17658 [==============================] - 14s 779us/sample - loss: 0.1426 - acc: 0.9724 - val_loss: 0.6442 - val_acc: 0.7596\n",
            "Epoch 3/13\n",
            "17658/17658 [==============================] - 14s 776us/sample - loss: 0.0642 - acc: 0.9799 - val_loss: 0.3962 - val_acc: 0.8705\n",
            "Epoch 4/13\n",
            "17658/17658 [==============================] - 14s 783us/sample - loss: 0.0411 - acc: 0.9902 - val_loss: 0.3757 - val_acc: 0.8693\n",
            "Epoch 5/13\n",
            "17658/17658 [==============================] - 14s 785us/sample - loss: 0.0108 - acc: 0.9997 - val_loss: 0.3407 - val_acc: 0.8830\n",
            "Epoch 6/13\n",
            "17658/17658 [==============================] - 14s 790us/sample - loss: 0.0035 - acc: 1.0000 - val_loss: 0.3267 - val_acc: 0.8896\n",
            "Epoch 7/13\n",
            "17658/17658 [==============================] - 14s 769us/sample - loss: 0.0022 - acc: 1.0000 - val_loss: 0.3189 - val_acc: 0.8926\n",
            "Epoch 8/13\n",
            "17658/17658 [==============================] - 14s 778us/sample - loss: 0.0015 - acc: 1.0000 - val_loss: 0.3239 - val_acc: 0.8929\n",
            "Epoch 9/13\n",
            "17658/17658 [==============================] - 14s 770us/sample - loss: 0.0012 - acc: 1.0000 - val_loss: 0.3199 - val_acc: 0.8948\n",
            "Epoch 10/13\n",
            "17658/17658 [==============================] - 14s 778us/sample - loss: 9.5505e-04 - acc: 1.0000 - val_loss: 0.3164 - val_acc: 0.8962\n",
            "Epoch 11/13\n",
            "17658/17658 [==============================] - 14s 771us/sample - loss: 7.1849e-04 - acc: 1.0000 - val_loss: 0.3167 - val_acc: 0.8962\n",
            "Epoch 12/13\n",
            "17658/17658 [==============================] - 14s 775us/sample - loss: 5.7193e-04 - acc: 1.0000 - val_loss: 0.3192 - val_acc: 0.8965\n",
            "Epoch 13/13\n",
            "17658/17658 [==============================] - 14s 772us/sample - loss: 5.0248e-04 - acc: 1.0000 - val_loss: 0.3197 - val_acc: 0.8969\n"
          ],
          "name": "stdout"
        },
        {
          "output_type": "display_data",
          "data": {
            "image/png": "[encoded data removed]",
            "text/plain": [
              "<Figure size 432x288 with 1 Axes>"
            ]
          },
          "metadata": {
            "tags": []
          }
        }
      ]
    },
    {
      "cell_type": "code",
      "metadata": {
        "id": "sKr_MTUcdFpI",
        "colab_type": "code",
        "colab": {}
      },
      "source": [
        "def createTestMultiClasses(wordIndexes, xLen, step): #функция принимает последовательность индексов, размер окна, шаг окна\n",
        "\n",
        "  #Для каждого из 6 классов\n",
        "  #Создаём тестовую выборку из индексов\n",
        "  nClasses = len(wordIndexes) #задаем количество классов\n",
        "  xTest6Classes01 = []                #здесь будет список из всех классов,каждый размером \"кол-во окон в тексте * 20000(при maxWordsCount=20000)\"\n",
        "  xTest6Classes = []                 #здесь будет список массивов, каждый размером \"кол-во окон в тексте * длину окна\"(6 по 420*1000)\n",
        "  for wI in wordIndexes:                       #для каждого тестового текста из последовательности индексов\n",
        "    sample = (getSetFromIndexes(wI, xLen, step)) #тестовая выборка размером \"кол-во окон*длину окна\"(например 420*1000)\n",
        "    xTest6Classes.append(np.array(sample))              #переводим в массив numpy и добавляем в список\n",
        "    xTest6Classes01.append(tokenizer.sequences_to_matrix(sample)) #трансформируется в Bag of Words в виде \"кол-во окон в тексте * 20000\"\n",
        "  xTest6Classes01 = np.array(xTest6Classes01)                     #и добавляется к нашему списку, \n",
        "  \n",
        "  return xTest6Classes01, xTest6Classes  #функция вернёт тестовые данные: TestBag 6 классов на n*20000 и xTestEm 6 по n*1000\n",
        "\n",
        "###########################\n",
        "# Расспознаём тестовую выборку и выводим результаты\n",
        "##########################\n",
        "def recognizeMultiClass(model, xTest, modelName):\n",
        "  print(\"НЕЙРОНКА: \", modelName)\n",
        "  print()\n",
        "  \n",
        "  val = []\n",
        "  pred = []\n",
        "  \n",
        "  totalSumRec = []\n",
        "  \n",
        "  #Проходим по всем классам\n",
        "  for i in range(nClasses):\n",
        "    #Получаем результаты распознавания класса по блокам слов длины xLen\n",
        "    currPred = model.predict(xTest[i])\n",
        "    pred.append(currPred)\n",
        "    #Определяем номер распознанного класса для каждохо блока слов длины xLen\n",
        "    currOut = np.argmax(currPred, axis=1)\n",
        "    \n",
        "    #Считаем процент распознавания каждого класса за каждый\n",
        "    #Получам матрицу 6 на 6\n",
        "    evVal = []\n",
        "    sumRec = []\n",
        "    for j in range(nClasses):\n",
        "      sumRec.append(0)\n",
        "      for t in range(len(currOut)):\n",
        "        if (currOut[t] == j):\n",
        "          sumRec[j] += 1\n",
        "      evVal.append(sumRec[j] / len(currOut))\n",
        "    \n",
        "    totalSumRec.append(sumRec[i])\n",
        "    \n",
        "    #Определяем, какой в класс в итоге за какой был распознан\n",
        "    val.append(evVal[i])\n",
        "    recognizedClass = np.argmax(evVal)\n",
        "    \n",
        "    #Выводим результаты распознавания по текущему классу\n",
        "    isRecognized = \"распознано НЕ ВЕРНО!\"\n",
        "    if (recognizedClass == i):\n",
        "      isRecognized = \"распознано ВЕРНО!\"\n",
        "    print(className[i], \" распознано \", int(100*evVal[i]), \"% сеть считает, что это \", className[recognizedClass], \", \", isRecognized, sep='')\n",
        "  \n",
        "  #Выводим вредний процент распознавания по всем классам вместе\n",
        "  print()\n",
        "  sumVal = 0\n",
        "  sumCount = 0\n",
        "  lenXtest = []\n",
        "  for i in range(nClasses):\n",
        "    sumCount += len(xTest[i])\n",
        "    sumVal += totalSumRec[i]\n",
        "  print(\"Средний процент распознавания \", int(100*sumVal/sumCount), \"%\", sep='')\n",
        "    \n",
        "  print()\n",
        "  \n",
        "  return sumVal/sumCount"
      ],
      "execution_count": 0,
      "outputs": []
    },
    {
      "cell_type": "code",
      "metadata": {
        "id": "KdpGW83EdIOY",
        "colab_type": "code",
        "colab": {}
      },
      "source": [
        "xTest6Classes01, xTest6Classes = createTestMultiClasses(testWordIndexes, xLen, step)"
      ],
      "execution_count": 0,
      "outputs": []
    },
    {
      "cell_type": "code",
      "metadata": {
        "id": "16mCYRLTdH21",
        "colab_type": "code",
        "outputId": "65e7dcca-1410-4c0e-b27f-62c7c005c2bb",
        "colab": {
          "base_uri": "https://localhost:8080/",
          "height": 213
        }
      },
      "source": [
        "#Проверяем точность нейронки обученной на bag of words\n",
        "pred = recognizeMultiClass(model01, xTest6Classes01, \"Тексты 01 + Dense\")"
      ],
      "execution_count": 0,
      "outputs": [
        {
          "output_type": "stream",
          "text": [
            "НЕЙРОНКА:  Тексты 01 + Dense\n",
            "\n",
            "О. Генри распознано 77% сеть считает, что это О. Генри, распознано ВЕРНО!\n",
            "Стругацкие распознано 83% сеть считает, что это Стругацкие, распознано ВЕРНО!\n",
            "Булгаков распознано 86% сеть считает, что это Булгаков, распознано ВЕРНО!\n",
            "Саймак распознано 87% сеть считает, что это Саймак, распознано ВЕРНО!\n",
            "Фрай распознано 93% сеть считает, что это Фрай, распознано ВЕРНО!\n",
            "Брэдбери распознано 98% сеть считает, что это Брэдбери, распознано ВЕРНО!\n",
            "\n",
            "Средний процент распознавания 89%\n",
            "\n"
          ],
          "name": "stdout"
        }
      ]
    },
    {
      "cell_type": "markdown",
      "metadata": {
        "id": "MJLPIKulaCbg",
        "colab_type": "text"
      },
      "source": [
        "400 нейронов"
      ]
    },
    {
      "cell_type": "code",
      "metadata": {
        "id": "jNPxE72UaEPa",
        "colab_type": "code",
        "outputId": "2b3f60fe-ee34-4488-ae59-9d9144191877",
        "colab": {
          "base_uri": "https://localhost:8080/",
          "height": 760
        }
      },
      "source": [
        "model01 = Sequential()\n",
        "model01.add(BatchNormalization())\n",
        "model01.add(Dense(400, input_dim=maxWordsCount, activation=\"relu\"))\n",
        "model01.add(Dropout(0.25))\n",
        "model01.add(BatchNormalization())\n",
        "model01.add(Dense(6, activation='sigmoid'))\n",
        "\n",
        "model01.compile(optimizer='adam', \n",
        "              loss='categorical_crossentropy', \n",
        "              metrics=['accuracy'])\n",
        "\n",
        "#Обучаем сеть на выборке, сформированной по bag of words - xTrain01\n",
        "history = model01.fit(xTrain01, \n",
        "                      yTrain, \n",
        "                      epochs=13,\n",
        "                      batch_size=128,\n",
        "                      validation_data=(xTest01, yTest))\n",
        "\n",
        "plt.plot(history.history['acc'], \n",
        "         label='Доля верных ответов на обучающем наборе')\n",
        "plt.plot(history.history['val_acc'], \n",
        "         label='Доля верных ответов на проверочном наборе')\n",
        "plt.xlabel('Эпоха обучения')\n",
        "plt.ylabel('Доля верных ответов')\n",
        "plt.legend()\n",
        "plt.show()\n",
        "pred = recognizeMultiClass(model01, xTest6Classes01, \"Тексты 01 + Dense\")"
      ],
      "execution_count": 0,
      "outputs": [
        {
          "output_type": "stream",
          "text": [
            "Train on 17658 samples, validate on 6693 samples\n",
            "Epoch 1/13\n",
            "17658/17658 [==============================] - 34s 2ms/sample - loss: 0.2927 - acc: 0.9807 - val_loss: 0.7813 - val_acc: 0.7473\n",
            "Epoch 2/13\n",
            "17658/17658 [==============================] - 33s 2ms/sample - loss: 0.0374 - acc: 0.9939 - val_loss: 0.5672 - val_acc: 0.8206\n",
            "Epoch 3/13\n",
            "17658/17658 [==============================] - 33s 2ms/sample - loss: 0.0110 - acc: 0.9982 - val_loss: 0.3589 - val_acc: 0.8866\n",
            "Epoch 4/13\n",
            "17658/17658 [==============================] - 33s 2ms/sample - loss: 0.0037 - acc: 0.9999 - val_loss: 0.3311 - val_acc: 0.8954\n",
            "Epoch 5/13\n",
            "17658/17658 [==============================] - 33s 2ms/sample - loss: 0.0017 - acc: 1.0000 - val_loss: 0.3583 - val_acc: 0.8920\n",
            "Epoch 6/13\n",
            "17658/17658 [==============================] - 33s 2ms/sample - loss: 0.0011 - acc: 1.0000 - val_loss: 0.3683 - val_acc: 0.8884\n",
            "Epoch 7/13\n",
            "17658/17658 [==============================] - 33s 2ms/sample - loss: 8.0179e-04 - acc: 1.0000 - val_loss: 0.3634 - val_acc: 0.8926\n",
            "Epoch 8/13\n",
            "17658/17658 [==============================] - 33s 2ms/sample - loss: 5.8698e-04 - acc: 1.0000 - val_loss: 0.3725 - val_acc: 0.8891\n",
            "Epoch 9/13\n",
            "17658/17658 [==============================] - 33s 2ms/sample - loss: 4.8428e-04 - acc: 1.0000 - val_loss: 0.3688 - val_acc: 0.8927\n",
            "Epoch 10/13\n",
            "17658/17658 [==============================] - 33s 2ms/sample - loss: 3.6072e-04 - acc: 1.0000 - val_loss: 0.3621 - val_acc: 0.8966\n",
            "Epoch 11/13\n",
            "17658/17658 [==============================] - 33s 2ms/sample - loss: 2.8636e-04 - acc: 1.0000 - val_loss: 0.3797 - val_acc: 0.8912\n",
            "Epoch 12/13\n",
            "17658/17658 [==============================] - 33s 2ms/sample - loss: 2.3745e-04 - acc: 1.0000 - val_loss: 0.3827 - val_acc: 0.8903\n",
            "Epoch 13/13\n",
            "17658/17658 [==============================] - 33s 2ms/sample - loss: 1.9352e-04 - acc: 1.0000 - val_loss: 0.3870 - val_acc: 0.8903\n"
          ],
          "name": "stdout"
        },
        {
          "output_type": "display_data",
          "data": {
            "image/png": "[encoded data removed]",
            "text/plain": [
              "<Figure size 432x288 with 1 Axes>"
            ]
          },
          "metadata": {
            "tags": []
          }
        }
      ]
    },
    {
      "cell_type": "code",
      "metadata": {
        "id": "Gy2huszrfT_L",
        "colab_type": "code",
        "outputId": "96d8fc99-9df4-4a97-b1bb-f5b129364be6",
        "colab": {
          "base_uri": "https://localhost:8080/",
          "height": 599
        }
      },
      "source": [
        "history = model01.fit(xTrain01, \n",
        "                      yTrain, \n",
        "                      epochs=3,\n",
        "                      batch_size=128,\n",
        "                      validation_data=(xTest01, yTest))\n",
        "\n",
        "plt.plot(history.history['acc'], \n",
        "         label='Доля верных ответов на обучающем наборе')\n",
        "plt.plot(history.history['val_acc'], \n",
        "         label='Доля верных ответов на проверочном наборе')\n",
        "plt.xlabel('Эпоха обучения')\n",
        "plt.ylabel('Доля верных ответов')\n",
        "plt.legend()\n",
        "plt.show()\n",
        "pred = recognizeMultiClass(model01, xTest6Classes01, \"Тексты 01 + Dense\")"
      ],
      "execution_count": 0,
      "outputs": [
        {
          "output_type": "stream",
          "text": [
            "Train on 17658 samples, validate on 6693 samples\n",
            "Epoch 1/3\n",
            "17658/17658 [==============================] - 33s 2ms/sample - loss: 1.4969e-04 - acc: 1.0000 - val_loss: 0.3863 - val_acc: 0.8930\n",
            "Epoch 2/3\n",
            "17658/17658 [==============================] - 33s 2ms/sample - loss: 1.4929e-04 - acc: 1.0000 - val_loss: 0.4047 - val_acc: 0.8899\n",
            "Epoch 3/3\n",
            "17658/17658 [==============================] - 33s 2ms/sample - loss: 1.1304e-04 - acc: 1.0000 - val_loss: 0.4056 - val_acc: 0.8896\n"
          ],
          "name": "stdout"
        },
        {
          "output_type": "display_data",
          "data": {
            "image/png": "[encoded data removed]",
            "text/plain": [
              "<Figure size 432x288 with 1 Axes>"
            ]
          },
          "metadata": {
            "tags": []
          }
        },
        {
          "output_type": "stream",
          "text": [
            "НЕЙРОНКА:  Тексты 01 + Dense\n",
            "\n",
            "О. Генри распознано 91% сеть считает, что это О. Генри, распознано ВЕРНО!\n",
            "Стругацкие распознано 88% сеть считает, что это Стругацкие, распознано ВЕРНО!\n",
            "Булгаков распознано 78% сеть считает, что это Булгаков, распознано ВЕРНО!\n",
            "Саймак распознано 82% сеть считает, что это Саймак, распознано ВЕРНО!\n",
            "Фрай распознано 90% сеть считает, что это Фрай, распознано ВЕРНО!\n",
            "Брэдбери распознано 99% сеть считает, что это Брэдбери, распознано ВЕРНО!\n",
            "\n",
            "Средний процент распознавания 88%\n",
            "\n"
          ],
          "name": "stdout"
        }
      ]
    },
    {
      "cell_type": "markdown",
      "metadata": {
        "id": "enLVD0kbDY1R",
        "colab_type": "text"
      },
      "source": [
        "**ВЫвод** слой 100 или 200 нейронов подходит для дальнейших экспериментов."
      ]
    },
    {
      "cell_type": "markdown",
      "metadata": {
        "id": "674DqQGgm9qn",
        "colab_type": "text"
      },
      "source": [
        "#3 Embedding\n"
      ]
    },
    {
      "cell_type": "markdown",
      "metadata": {
        "id": "nKVdzykWzBO-",
        "colab_type": "text"
      },
      "source": [
        "**Embedding + Dense**\n",
        "\n",
        "*Разбор данного раздела:* https://youtu.be/1goYctVeppE?t=7655\n"
      ]
    },
    {
      "cell_type": "code",
      "metadata": {
        "id": "XKhpM-8kzMZT",
        "colab_type": "code",
        "outputId": "a3f533d5-543a-4f71-a5ac-f427b982f970",
        "colab": {
          "base_uri": "https://localhost:8080/",
          "height": 1000
        }
      },
      "source": [
        "#Создаём сеть с Embedding слоем\n",
        "modelE = Sequential()\n",
        "modelE.add(Embedding(maxWordsCount, 30, input_length=xLen))\n",
        "modelE.add(SpatialDropout1D(0.2))\n",
        "modelE.add(Flatten())\n",
        "modelE.add(BatchNormalization())\n",
        "modelE.add(Dense(200, activation=\"relu\"))\n",
        "modelE.add(Dropout(0.2))\n",
        "modelE.add(BatchNormalization())\n",
        "modelE.add(Dense(6, activation='sigmoid'))\n",
        "\n",
        "modelE.compile(optimizer='adam', \n",
        "              loss='categorical_crossentropy', \n",
        "              metrics=['accuracy'])\n",
        "\n",
        "#Обучаем сеть на xTrain\n",
        "history = modelE.fit(xTrain, \n",
        "                    yTrain, \n",
        "                    epochs=30,\n",
        "                    batch_size=200,\n",
        "                    validation_data=(xTest, yTest))\n",
        "\n",
        "\n",
        "plt.plot(history.history['acc'], \n",
        "         label='Доля верных ответов на обучающем наборе')\n",
        "plt.plot(history.history['val_acc'], \n",
        "         label='Доля верных ответов на проверочном наборе')\n",
        "plt.xlabel('Эпоха обучения')\n",
        "plt.ylabel('Доля верных ответов')\n",
        "plt.legend()\n",
        "plt.show()\n",
        "\n",
        "#Проверяем результаты работы Ebedding сети\n",
        "xTest6Classes01, xTest6Classes = createTestMultiClasses(testWordIndexes, xLen, step)\n",
        "pred = recognizeMultiClass(modelE, xTest6Classes, \"Embedding + Dense\")"
      ],
      "execution_count": 0,
      "outputs": [
        {
          "output_type": "stream",
          "text": [
            "WARNING:tensorflow:From /tensorflow-1.15.0/python3.6/tensorflow_core/python/keras/initializers.py:119: calling RandomUniform.__init__ (from tensorflow.python.ops.init_ops) with dtype is deprecated and will be removed in a future version.\n",
            "Instructions for updating:\n",
            "Call initializer instance with the dtype argument instead of passing it to the constructor\n",
            "Train on 17658 samples, validate on 6693 samples\n",
            "Epoch 1/30\n",
            "17658/17658 [==============================] - 3s 158us/sample - loss: 1.1660 - acc: 0.6403 - val_loss: 2.3710 - val_acc: 0.3820\n",
            "Epoch 2/30\n",
            "17658/17658 [==============================] - 2s 134us/sample - loss: 0.4742 - acc: 0.8809 - val_loss: 2.7833 - val_acc: 0.2928\n",
            "Epoch 3/30\n",
            "17658/17658 [==============================] - 2s 132us/sample - loss: 0.2501 - acc: 0.8588 - val_loss: 3.1774 - val_acc: 0.2933\n",
            "Epoch 4/30\n",
            "17658/17658 [==============================] - 2s 133us/sample - loss: 0.1261 - acc: 0.8594 - val_loss: 2.7703 - val_acc: 0.3005\n",
            "Epoch 5/30\n",
            "17658/17658 [==============================] - 2s 132us/sample - loss: 0.1099 - acc: 0.8581 - val_loss: 2.4853 - val_acc: 0.3420\n",
            "Epoch 6/30\n",
            "17658/17658 [==============================] - 2s 134us/sample - loss: 0.1069 - acc: 0.8575 - val_loss: 2.0994 - val_acc: 0.4391\n",
            "Epoch 7/30\n",
            "17658/17658 [==============================] - 2s 132us/sample - loss: 0.1054 - acc: 0.8562 - val_loss: 1.8169 - val_acc: 0.5285\n",
            "Epoch 8/30\n",
            "17658/17658 [==============================] - 2s 132us/sample - loss: 0.1047 - acc: 0.8557 - val_loss: 1.7607 - val_acc: 0.5606\n",
            "Epoch 9/30\n",
            "17658/17658 [==============================] - 2s 132us/sample - loss: 0.1042 - acc: 0.8566 - val_loss: 1.7913 - val_acc: 0.5545\n",
            "Epoch 10/30\n",
            "17658/17658 [==============================] - 2s 133us/sample - loss: 0.1038 - acc: 0.8571 - val_loss: 1.6206 - val_acc: 0.5852\n",
            "Epoch 11/30\n",
            "17658/17658 [==============================] - 2s 133us/sample - loss: 0.1036 - acc: 0.8555 - val_loss: 1.4789 - val_acc: 0.6169\n",
            "Epoch 12/30\n",
            "17658/17658 [==============================] - 2s 132us/sample - loss: 0.1033 - acc: 0.8567 - val_loss: 1.4999 - val_acc: 0.6209\n",
            "Epoch 13/30\n",
            "17658/17658 [==============================] - 2s 132us/sample - loss: 0.1032 - acc: 0.8564 - val_loss: 1.5504 - val_acc: 0.5893\n",
            "Epoch 14/30\n",
            "17658/17658 [==============================] - 2s 132us/sample - loss: 0.1031 - acc: 0.8558 - val_loss: 1.5282 - val_acc: 0.6030\n",
            "Epoch 15/30\n",
            "17658/17658 [==============================] - 2s 132us/sample - loss: 0.1030 - acc: 0.8573 - val_loss: 1.4886 - val_acc: 0.6181\n",
            "Epoch 16/30\n",
            "17658/17658 [==============================] - 2s 132us/sample - loss: 0.1030 - acc: 0.8576 - val_loss: 1.3777 - val_acc: 0.6145\n",
            "Epoch 17/30\n",
            "17658/17658 [==============================] - 2s 132us/sample - loss: 0.1029 - acc: 0.8570 - val_loss: 1.4869 - val_acc: 0.6350\n",
            "Epoch 18/30\n",
            "17658/17658 [==============================] - 2s 132us/sample - loss: 0.1029 - acc: 0.8580 - val_loss: 1.6393 - val_acc: 0.5625\n",
            "Epoch 19/30\n",
            "17658/17658 [==============================] - 2s 132us/sample - loss: 0.1029 - acc: 0.8581 - val_loss: 1.5196 - val_acc: 0.6345\n",
            "Epoch 20/30\n",
            "17658/17658 [==============================] - 2s 132us/sample - loss: 0.1028 - acc: 0.8602 - val_loss: 1.3959 - val_acc: 0.6103\n",
            "Epoch 21/30\n",
            "17658/17658 [==============================] - 2s 133us/sample - loss: 0.1028 - acc: 0.8605 - val_loss: 1.2383 - val_acc: 0.6305\n",
            "Epoch 22/30\n",
            "17658/17658 [==============================] - 2s 133us/sample - loss: 0.1027 - acc: 0.8597 - val_loss: 1.3145 - val_acc: 0.6242\n",
            "Epoch 23/30\n",
            "17658/17658 [==============================] - 2s 132us/sample - loss: 0.1027 - acc: 0.8592 - val_loss: 1.3575 - val_acc: 0.6290\n",
            "Epoch 24/30\n",
            "17658/17658 [==============================] - 2s 133us/sample - loss: 0.1027 - acc: 0.8603 - val_loss: 1.4488 - val_acc: 0.6144\n",
            "Epoch 25/30\n",
            "17658/17658 [==============================] - 2s 131us/sample - loss: 0.1026 - acc: 0.8612 - val_loss: 1.3991 - val_acc: 0.6224\n",
            "Epoch 26/30\n",
            "17658/17658 [==============================] - 2s 132us/sample - loss: 0.1026 - acc: 0.8616 - val_loss: 1.3917 - val_acc: 0.6387\n",
            "Epoch 27/30\n",
            "17658/17658 [==============================] - 2s 132us/sample - loss: 0.1026 - acc: 0.8626 - val_loss: 1.3294 - val_acc: 0.6271\n",
            "Epoch 28/30\n",
            "17658/17658 [==============================] - 2s 132us/sample - loss: 0.1025 - acc: 0.8623 - val_loss: 1.3217 - val_acc: 0.6247\n",
            "Epoch 29/30\n",
            "17658/17658 [==============================] - 2s 133us/sample - loss: 0.1025 - acc: 0.8643 - val_loss: 1.2121 - val_acc: 0.6407\n",
            "Epoch 30/30\n",
            "17658/17658 [==============================] - 2s 132us/sample - loss: 0.1033 - acc: 0.8656 - val_loss: 1.5047 - val_acc: 0.6042\n"
          ],
          "name": "stdout"
        },
        {
          "output_type": "display_data",
          "data": {
            "image/png": "[encoded data removed]",
            "text/plain": [
              "<Figure size 432x288 with 1 Axes>"
            ]
          },
          "metadata": {
            "tags": []
          }
        },
        {
          "output_type": "stream",
          "text": [
            "НЕЙРОНКА:  Embedding + Dense\n",
            "\n",
            "О. Генри распознано 90% сеть считает, что это О. Генри, распознано ВЕРНО!\n",
            "Стругацкие распознано 75% сеть считает, что это Стругацкие, распознано ВЕРНО!\n",
            "Булгаков распознано 0% сеть считает, что это О. Генри, распознано НЕ ВЕРНО!\n",
            "Саймак распознано 39% сеть считает, что это Стругацкие, распознано НЕ ВЕРНО!\n",
            "Фрай распознано 81% сеть считает, что это Фрай, распознано ВЕРНО!\n",
            "Брэдбери распознано 72% сеть считает, что это Брэдбери, распознано ВЕРНО!\n",
            "\n",
            "Средний процент распознавания 60%\n",
            "\n"
          ],
          "name": "stdout"
        }
      ]
    },
    {
      "cell_type": "markdown",
      "metadata": {
        "id": "KqaskNU5tOOL",
        "colab_type": "text"
      },
      "source": [
        "**j** размер вектора 2"
      ]
    },
    {
      "cell_type": "code",
      "metadata": {
        "id": "H7uYnfBntk1R",
        "colab_type": "code",
        "outputId": "d383faa4-7fe5-411c-8819-b24cb028cd2d",
        "colab": {
          "base_uri": "https://localhost:8080/",
          "height": 1000
        }
      },
      "source": [
        "#Создаём сеть с Embedding слоем\n",
        "modelE = Sequential()\n",
        "modelE.add(Embedding(maxWordsCount, 2, input_length=xLen))\n",
        "modelE.add(SpatialDropout1D(0.2))\n",
        "modelE.add(Flatten())\n",
        "modelE.add(BatchNormalization())\n",
        "modelE.add(Dense(200, activation=\"relu\"))\n",
        "modelE.add(Dropout(0.2))\n",
        "modelE.add(BatchNormalization())\n",
        "modelE.add(Dense(6, activation='sigmoid'))\n",
        "\n",
        "modelE.compile(optimizer='adam', \n",
        "              loss='categorical_crossentropy', \n",
        "              metrics=['accuracy'])\n",
        "\n",
        "#Обучаем сеть на xTrain\n",
        "history = modelE.fit(xTrain, \n",
        "                    yTrain, \n",
        "                    epochs=30,\n",
        "                    batch_size=200,\n",
        "                    validation_data=(xTest, yTest))\n",
        "\n",
        "\n",
        "plt.plot(history.history['acc'], \n",
        "         label='Доля верных ответов на обучающем наборе')\n",
        "plt.plot(history.history['val_acc'], \n",
        "         label='Доля верных ответов на проверочном наборе')\n",
        "plt.xlabel('Эпоха обучения')\n",
        "plt.ylabel('Доля верных ответов')\n",
        "plt.legend()\n",
        "plt.show()\n",
        "\n",
        "#Проверяем результаты работы Ebedding сети\n",
        "xTest6Classes01, xTest6Classes = createTestMultiClasses(testWordIndexes, xLen, step)\n",
        "pred = recognizeMultiClass(modelE, xTest6Classes, \"Embedding + Dense\")"
      ],
      "execution_count": 0,
      "outputs": [
        {
          "output_type": "stream",
          "text": [
            "Train on 17658 samples, validate on 6693 samples\n",
            "Epoch 1/30\n",
            "17658/17658 [==============================] - 2s 93us/sample - loss: 1.6090 - acc: 0.3496 - val_loss: 1.6870 - val_acc: 0.3043\n",
            "Epoch 2/30\n",
            "17658/17658 [==============================] - 1s 76us/sample - loss: 1.0262 - acc: 0.6341 - val_loss: 1.6196 - val_acc: 0.3011\n",
            "Epoch 3/30\n",
            "17658/17658 [==============================] - 1s 77us/sample - loss: 0.7955 - acc: 0.7021 - val_loss: 1.6807 - val_acc: 0.3502\n",
            "Epoch 4/30\n",
            "17658/17658 [==============================] - 1s 78us/sample - loss: 0.5330 - acc: 0.7536 - val_loss: 1.6993 - val_acc: 0.3389\n",
            "Epoch 5/30\n",
            "17658/17658 [==============================] - 1s 77us/sample - loss: 0.4231 - acc: 0.7678 - val_loss: 1.6989 - val_acc: 0.3519\n",
            "Epoch 6/30\n",
            "17658/17658 [==============================] - 1s 83us/sample - loss: 0.3538 - acc: 0.7920 - val_loss: 1.8105 - val_acc: 0.3560\n",
            "Epoch 7/30\n",
            "17658/17658 [==============================] - 1s 76us/sample - loss: 0.2895 - acc: 0.8287 - val_loss: 2.0542 - val_acc: 0.3324\n",
            "Epoch 8/30\n",
            "17658/17658 [==============================] - 1s 75us/sample - loss: 0.2429 - acc: 0.8507 - val_loss: 2.2337 - val_acc: 0.3390\n",
            "Epoch 9/30\n",
            "17658/17658 [==============================] - 1s 83us/sample - loss: 0.2292 - acc: 0.8735 - val_loss: 2.4734 - val_acc: 0.3332\n",
            "Epoch 10/30\n",
            "17658/17658 [==============================] - 1s 76us/sample - loss: 0.2115 - acc: 0.9049 - val_loss: 2.4530 - val_acc: 0.3435\n",
            "Epoch 11/30\n",
            "17658/17658 [==============================] - 1s 75us/sample - loss: 0.1061 - acc: 0.9662 - val_loss: 2.4309 - val_acc: 0.3637\n",
            "Epoch 12/30\n",
            "17658/17658 [==============================] - 1s 79us/sample - loss: 0.0878 - acc: 0.9691 - val_loss: 2.4109 - val_acc: 0.3707\n",
            "Epoch 13/30\n",
            "17658/17658 [==============================] - 1s 76us/sample - loss: 0.0866 - acc: 0.9676 - val_loss: 2.5509 - val_acc: 0.3625\n",
            "Epoch 14/30\n",
            "17658/17658 [==============================] - 1s 75us/sample - loss: 0.0786 - acc: 0.9699 - val_loss: 2.5242 - val_acc: 0.3638\n",
            "Epoch 15/30\n",
            "17658/17658 [==============================] - 1s 75us/sample - loss: 0.0733 - acc: 0.9732 - val_loss: 2.5435 - val_acc: 0.3749\n",
            "Epoch 16/30\n",
            "17658/17658 [==============================] - 1s 77us/sample - loss: 0.0732 - acc: 0.9725 - val_loss: 2.6155 - val_acc: 0.3652\n",
            "Epoch 17/30\n",
            "17658/17658 [==============================] - 1s 77us/sample - loss: 0.0782 - acc: 0.9706 - val_loss: 2.6904 - val_acc: 0.3528\n",
            "Epoch 18/30\n",
            "17658/17658 [==============================] - 1s 77us/sample - loss: 0.0794 - acc: 0.9692 - val_loss: 2.6250 - val_acc: 0.3686\n",
            "Epoch 19/30\n",
            "17658/17658 [==============================] - 1s 75us/sample - loss: 0.0755 - acc: 0.9710 - val_loss: 2.7201 - val_acc: 0.3623\n",
            "Epoch 20/30\n",
            "17658/17658 [==============================] - 1s 75us/sample - loss: 0.0713 - acc: 0.9715 - val_loss: 2.7638 - val_acc: 0.3580\n",
            "Epoch 21/30\n",
            "17658/17658 [==============================] - 1s 75us/sample - loss: 0.0733 - acc: 0.9714 - val_loss: 2.6829 - val_acc: 0.3596\n",
            "Epoch 22/30\n",
            "17658/17658 [==============================] - 1s 76us/sample - loss: 0.0712 - acc: 0.9723 - val_loss: 2.7892 - val_acc: 0.3638\n",
            "Epoch 23/30\n",
            "17658/17658 [==============================] - 1s 75us/sample - loss: 0.0706 - acc: 0.9729 - val_loss: 2.7928 - val_acc: 0.3580\n",
            "Epoch 24/30\n",
            "17658/17658 [==============================] - 1s 77us/sample - loss: 0.0734 - acc: 0.9716 - val_loss: 2.8564 - val_acc: 0.3460\n",
            "Epoch 25/30\n",
            "17658/17658 [==============================] - 1s 75us/sample - loss: 0.0715 - acc: 0.9720 - val_loss: 2.7779 - val_acc: 0.3658\n",
            "Epoch 26/30\n",
            "17658/17658 [==============================] - 1s 73us/sample - loss: 0.0694 - acc: 0.9736 - val_loss: 2.8459 - val_acc: 0.3486\n",
            "Epoch 27/30\n",
            "17658/17658 [==============================] - 1s 72us/sample - loss: 0.0700 - acc: 0.9724 - val_loss: 2.8250 - val_acc: 0.3610\n",
            "Epoch 28/30\n",
            "17658/17658 [==============================] - 1s 71us/sample - loss: 0.0704 - acc: 0.9737 - val_loss: 2.7736 - val_acc: 0.3717\n",
            "Epoch 29/30\n",
            "17658/17658 [==============================] - 1s 73us/sample - loss: 0.0712 - acc: 0.9715 - val_loss: 2.8543 - val_acc: 0.3522\n",
            "Epoch 30/30\n",
            "17658/17658 [==============================] - 1s 74us/sample - loss: 0.0675 - acc: 0.9730 - val_loss: 2.9334 - val_acc: 0.3407\n"
          ],
          "name": "stdout"
        },
        {
          "output_type": "display_data",
          "data": {
            "image/png": "[encoded data removed]",
            "text/plain": [
              "<Figure size 432x288 with 1 Axes>"
            ]
          },
          "metadata": {
            "tags": []
          }
        },
        {
          "output_type": "stream",
          "text": [
            "НЕЙРОНКА:  Embedding + Dense\n",
            "\n",
            "О. Генри распознано 10% сеть считает, что это Стругацкие, распознано НЕ ВЕРНО!\n",
            "Стругацкие распознано 26% сеть считает, что это Фрай, распознано НЕ ВЕРНО!\n",
            "Булгаков распознано 20% сеть считает, что это Стругацкие, распознано НЕ ВЕРНО!\n",
            "Саймак распознано 30% сеть считает, что это Фрай, распознано НЕ ВЕРНО!\n",
            "Фрай распознано 66% сеть считает, что это Фрай, распознано ВЕРНО!\n",
            "Брэдбери распознано 15% сеть считает, что это Стругацкие, распознано НЕ ВЕРНО!\n",
            "\n",
            "Средний процент распознавания 34%\n",
            "\n"
          ],
          "name": "stdout"
        }
      ]
    },
    {
      "cell_type": "markdown",
      "metadata": {
        "id": "00q9NWJhttum",
        "colab_type": "text"
      },
      "source": [
        "k. размер вектора 10"
      ]
    },
    {
      "cell_type": "code",
      "metadata": {
        "id": "zZm4OwEIt3kR",
        "colab_type": "code",
        "outputId": "c70070a7-ad1d-46c1-9bd3-e608ff2310a9",
        "colab": {
          "base_uri": "https://localhost:8080/",
          "height": 1000
        }
      },
      "source": [
        "#Создаём сеть с Embedding слоем\n",
        "modelE = Sequential()\n",
        "modelE.add(Embedding(maxWordsCount, 10, input_length=xLen))\n",
        "modelE.add(SpatialDropout1D(0.2))\n",
        "modelE.add(Flatten())\n",
        "modelE.add(BatchNormalization())\n",
        "modelE.add(Dense(200, activation=\"relu\"))\n",
        "modelE.add(Dropout(0.2))\n",
        "modelE.add(BatchNormalization())\n",
        "modelE.add(Dense(6, activation='sigmoid'))\n",
        "\n",
        "modelE.compile(optimizer='adam', \n",
        "              loss='categorical_crossentropy', \n",
        "              metrics=['accuracy'])\n",
        "\n",
        "#Обучаем сеть на xTrain\n",
        "history = modelE.fit(xTrain, \n",
        "                    yTrain, \n",
        "                    epochs=30,\n",
        "                    batch_size=200,\n",
        "                    validation_data=(xTest, yTest))\n",
        "\n",
        "\n",
        "plt.plot(history.history['acc'], \n",
        "         label='Доля верных ответов на обучающем наборе')\n",
        "plt.plot(history.history['val_acc'], \n",
        "         label='Доля верных ответов на проверочном наборе')\n",
        "plt.xlabel('Эпоха обучения')\n",
        "plt.ylabel('Доля верных ответов')\n",
        "plt.legend()\n",
        "plt.show()\n",
        "\n",
        "#Проверяем результаты работы Ebedding сети\n",
        "xTest6Classes01, xTest6Classes = createTestMultiClasses(testWordIndexes, xLen, step)\n",
        "pred = recognizeMultiClass(modelE, xTest6Classes, \"Embedding + Dense\")"
      ],
      "execution_count": 0,
      "outputs": [
        {
          "output_type": "stream",
          "text": [
            "Train on 17658 samples, validate on 6693 samples\n",
            "Epoch 1/30\n",
            "17658/17658 [==============================] - 2s 109us/sample - loss: 1.3451 - acc: 0.5019 - val_loss: 1.9039 - val_acc: 0.2928\n",
            "Epoch 2/30\n",
            "17658/17658 [==============================] - 1s 84us/sample - loss: 0.6215 - acc: 0.8590 - val_loss: 2.5808 - val_acc: 0.2928\n",
            "Epoch 3/30\n",
            "17658/17658 [==============================] - 1s 83us/sample - loss: 0.3382 - acc: 0.8177 - val_loss: 2.5855 - val_acc: 0.2930\n",
            "Epoch 4/30\n",
            "17658/17658 [==============================] - 2s 89us/sample - loss: 0.2364 - acc: 0.8483 - val_loss: 2.3298 - val_acc: 0.2931\n",
            "Epoch 5/30\n",
            "17658/17658 [==============================] - 1s 84us/sample - loss: 0.1780 - acc: 0.8671 - val_loss: 1.7683 - val_acc: 0.3720\n",
            "Epoch 6/30\n",
            "17658/17658 [==============================] - 2s 87us/sample - loss: 0.1679 - acc: 0.8783 - val_loss: 1.5857 - val_acc: 0.4086\n",
            "Epoch 7/30\n",
            "17658/17658 [==============================] - 2s 86us/sample - loss: 0.1245 - acc: 0.9049 - val_loss: 1.1670 - val_acc: 0.5709\n",
            "Epoch 8/30\n",
            "17658/17658 [==============================] - 1s 82us/sample - loss: 0.0754 - acc: 0.9682 - val_loss: 1.2398 - val_acc: 0.5817\n",
            "Epoch 9/30\n",
            "17658/17658 [==============================] - 1s 82us/sample - loss: 0.0098 - acc: 0.9992 - val_loss: 1.0055 - val_acc: 0.6362\n",
            "Epoch 10/30\n",
            "17658/17658 [==============================] - 1s 83us/sample - loss: 0.0052 - acc: 0.9994 - val_loss: 0.9431 - val_acc: 0.6676\n",
            "Epoch 11/30\n",
            "17658/17658 [==============================] - 1s 83us/sample - loss: 0.0039 - acc: 0.9992 - val_loss: 0.9678 - val_acc: 0.6685\n",
            "Epoch 12/30\n",
            "17658/17658 [==============================] - 1s 82us/sample - loss: 0.0037 - acc: 0.9994 - val_loss: 1.0488 - val_acc: 0.6719\n",
            "Epoch 13/30\n",
            "17658/17658 [==============================] - 1s 84us/sample - loss: 0.0043 - acc: 0.9993 - val_loss: 0.8931 - val_acc: 0.6913\n",
            "Epoch 14/30\n",
            "17658/17658 [==============================] - 1s 83us/sample - loss: 0.0029 - acc: 0.9994 - val_loss: 1.0189 - val_acc: 0.6650\n",
            "Epoch 15/30\n",
            "17658/17658 [==============================] - 2s 85us/sample - loss: 0.0022 - acc: 0.9995 - val_loss: 0.9312 - val_acc: 0.6970\n",
            "Epoch 16/30\n",
            "17658/17658 [==============================] - 2s 87us/sample - loss: 0.0020 - acc: 0.9997 - val_loss: 1.0706 - val_acc: 0.6758\n",
            "Epoch 17/30\n",
            "17658/17658 [==============================] - 1s 85us/sample - loss: 0.0028 - acc: 0.9990 - val_loss: 1.0911 - val_acc: 0.6520\n",
            "Epoch 18/30\n",
            "17658/17658 [==============================] - 1s 83us/sample - loss: 0.0023 - acc: 0.9994 - val_loss: 1.0906 - val_acc: 0.6552\n",
            "Epoch 19/30\n",
            "17658/17658 [==============================] - 1s 85us/sample - loss: 0.0027 - acc: 0.9993 - val_loss: 1.0074 - val_acc: 0.6864\n",
            "Epoch 20/30\n",
            "17658/17658 [==============================] - 1s 81us/sample - loss: 0.0025 - acc: 0.9993 - val_loss: 1.2751 - val_acc: 0.6359\n",
            "Epoch 21/30\n",
            "17658/17658 [==============================] - 1s 83us/sample - loss: 0.0029 - acc: 0.9992 - val_loss: 1.1977 - val_acc: 0.6552\n",
            "Epoch 22/30\n",
            "17658/17658 [==============================] - 1s 83us/sample - loss: 0.0019 - acc: 0.9996 - val_loss: 1.1419 - val_acc: 0.6592\n",
            "Epoch 23/30\n",
            "17658/17658 [==============================] - 1s 81us/sample - loss: 0.0034 - acc: 0.9991 - val_loss: 1.3817 - val_acc: 0.6112\n",
            "Epoch 24/30\n",
            "17658/17658 [==============================] - 1s 82us/sample - loss: 0.0053 - acc: 0.9985 - val_loss: 1.2100 - val_acc: 0.6596\n",
            "Epoch 25/30\n",
            "17658/17658 [==============================] - 1s 83us/sample - loss: 0.0033 - acc: 0.9990 - val_loss: 1.2918 - val_acc: 0.6299\n",
            "Epoch 26/30\n",
            "17658/17658 [==============================] - 1s 82us/sample - loss: 0.0031 - acc: 0.9992 - val_loss: 1.2176 - val_acc: 0.6590\n",
            "Epoch 27/30\n",
            "17658/17658 [==============================] - 1s 83us/sample - loss: 0.0031 - acc: 0.9990 - val_loss: 1.4913 - val_acc: 0.6133\n",
            "Epoch 28/30\n",
            "17658/17658 [==============================] - 1s 84us/sample - loss: 0.0034 - acc: 0.9989 - val_loss: 1.2021 - val_acc: 0.6703\n",
            "Epoch 29/30\n",
            "17658/17658 [==============================] - 1s 83us/sample - loss: 0.0026 - acc: 0.9993 - val_loss: 1.3721 - val_acc: 0.6339\n",
            "Epoch 30/30\n",
            "17658/17658 [==============================] - 1s 81us/sample - loss: 0.0028 - acc: 0.9992 - val_loss: 1.2550 - val_acc: 0.6584\n"
          ],
          "name": "stdout"
        },
        {
          "output_type": "display_data",
          "data": {
            "image/png": "[encoded data removed]",
            "text/plain": [
              "<Figure size 432x288 with 1 Axes>"
            ]
          },
          "metadata": {
            "tags": []
          }
        },
        {
          "output_type": "stream",
          "text": [
            "НЕЙРОНКА:  Embedding + Dense\n",
            "\n",
            "О. Генри распознано 44% сеть считает, что это О. Генри, распознано ВЕРНО!\n",
            "Стругацкие распознано 47% сеть считает, что это Стругацкие, распознано ВЕРНО!\n",
            "Булгаков распознано 54% сеть считает, что это Булгаков, распознано ВЕРНО!\n",
            "Саймак распознано 47% сеть считает, что это Саймак, распознано ВЕРНО!\n",
            "Фрай распознано 91% сеть считает, что это Фрай, распознано ВЕРНО!\n",
            "Брэдбери распознано 68% сеть считает, что это Брэдбери, распознано ВЕРНО!\n",
            "\n",
            "Средний процент распознавания 65%\n",
            "\n"
          ],
          "name": "stdout"
        }
      ]
    },
    {
      "cell_type": "markdown",
      "metadata": {
        "id": "1bIquDP6t9Xt",
        "colab_type": "text"
      },
      "source": [
        "l. размер вектора 50"
      ]
    },
    {
      "cell_type": "code",
      "metadata": {
        "id": "9y-OWT4-uHxl",
        "colab_type": "code",
        "outputId": "e1aeda59-5062-4139-acc8-58da4af41bc0",
        "colab": {
          "base_uri": "https://localhost:8080/",
          "height": 1000
        }
      },
      "source": [
        "#Создаём сеть с Embedding слоем\n",
        "modelE = Sequential()\n",
        "modelE.add(Embedding(maxWordsCount, 50, input_length=xLen))\n",
        "modelE.add(SpatialDropout1D(0.2))\n",
        "modelE.add(Flatten())\n",
        "modelE.add(BatchNormalization())\n",
        "modelE.add(Dense(200, activation=\"relu\"))\n",
        "modelE.add(Dropout(0.2))\n",
        "modelE.add(BatchNormalization())\n",
        "modelE.add(Dense(6, activation='sigmoid'))\n",
        "\n",
        "modelE.compile(optimizer='adam', \n",
        "              loss='categorical_crossentropy', \n",
        "              metrics=['accuracy'])\n",
        "\n",
        "#Обучаем сеть на xTrain\n",
        "history = modelE.fit(xTrain, \n",
        "                    yTrain, \n",
        "                    epochs=30,\n",
        "                    batch_size=200,\n",
        "                    validation_data=(xTest, yTest))\n",
        "\n",
        "\n",
        "plt.plot(history.history['acc'], \n",
        "         label='Доля верных ответов на обучающем наборе')\n",
        "plt.plot(history.history['val_acc'], \n",
        "         label='Доля верных ответов на проверочном наборе')\n",
        "plt.xlabel('Эпоха обучения')\n",
        "plt.ylabel('Доля верных ответов')\n",
        "plt.legend()\n",
        "plt.show()\n",
        "\n",
        "#Проверяем результаты работы Ebedding сети\n",
        "xTest6Classes01, xTest6Classes = createTestMultiClasses(testWordIndexes, xLen, step)\n",
        "pred = recognizeMultiClass(modelE, xTest6Classes, \"Embedding + Dense\")"
      ],
      "execution_count": 0,
      "outputs": [
        {
          "output_type": "stream",
          "text": [
            "Train on 17658 samples, validate on 6693 samples\n",
            "Epoch 1/30\n",
            "17658/17658 [==============================] - 4s 234us/sample - loss: 1.1176 - acc: 0.6613 - val_loss: 2.5724 - val_acc: 0.2928\n",
            "Epoch 2/30\n",
            "17658/17658 [==============================] - 4s 202us/sample - loss: 0.4250 - acc: 0.9122 - val_loss: 2.8234 - val_acc: 0.2928\n",
            "Epoch 3/30\n",
            "17658/17658 [==============================] - 4s 202us/sample - loss: 0.1968 - acc: 0.8882 - val_loss: 2.5822 - val_acc: 0.2928\n",
            "Epoch 4/30\n",
            "17658/17658 [==============================] - 4s 202us/sample - loss: 0.1581 - acc: 0.8918 - val_loss: 2.4477 - val_acc: 0.2978\n",
            "Epoch 5/30\n",
            "17658/17658 [==============================] - 4s 202us/sample - loss: 0.1062 - acc: 0.9382 - val_loss: 1.6598 - val_acc: 0.3722\n",
            "Epoch 6/30\n",
            "17658/17658 [==============================] - 4s 201us/sample - loss: 0.0603 - acc: 0.9689 - val_loss: 2.1576 - val_acc: 0.3647\n",
            "Epoch 7/30\n",
            "17658/17658 [==============================] - 4s 202us/sample - loss: 0.0098 - acc: 0.9995 - val_loss: 1.0752 - val_acc: 0.6287\n",
            "Epoch 8/30\n",
            "17658/17658 [==============================] - 4s 202us/sample - loss: 0.0034 - acc: 0.9999 - val_loss: 0.8676 - val_acc: 0.7164\n",
            "Epoch 9/30\n",
            "17658/17658 [==============================] - 4s 202us/sample - loss: 0.0020 - acc: 1.0000 - val_loss: 0.8024 - val_acc: 0.7497\n",
            "Epoch 10/30\n",
            "17658/17658 [==============================] - 4s 201us/sample - loss: 0.0014 - acc: 1.0000 - val_loss: 0.8204 - val_acc: 0.7429\n",
            "Epoch 11/30\n",
            "17658/17658 [==============================] - 4s 202us/sample - loss: 0.0011 - acc: 1.0000 - val_loss: 0.8021 - val_acc: 0.7542\n",
            "Epoch 12/30\n",
            "17658/17658 [==============================] - 4s 202us/sample - loss: 8.7124e-04 - acc: 1.0000 - val_loss: 0.7811 - val_acc: 0.7611\n",
            "Epoch 13/30\n",
            "17658/17658 [==============================] - 4s 201us/sample - loss: 7.0967e-04 - acc: 1.0000 - val_loss: 0.8016 - val_acc: 0.7568\n",
            "Epoch 14/30\n",
            "17658/17658 [==============================] - 4s 202us/sample - loss: 5.6038e-04 - acc: 1.0000 - val_loss: 0.7904 - val_acc: 0.7623\n",
            "Epoch 15/30\n",
            "17658/17658 [==============================] - 4s 201us/sample - loss: 4.7774e-04 - acc: 1.0000 - val_loss: 0.7835 - val_acc: 0.7666\n",
            "Epoch 16/30\n",
            "17658/17658 [==============================] - 4s 202us/sample - loss: 4.0107e-04 - acc: 1.0000 - val_loss: 0.7736 - val_acc: 0.7713\n",
            "Epoch 17/30\n",
            "17658/17658 [==============================] - 4s 202us/sample - loss: 3.4125e-04 - acc: 1.0000 - val_loss: 0.7683 - val_acc: 0.7733\n",
            "Epoch 18/30\n",
            "17658/17658 [==============================] - 4s 201us/sample - loss: 3.1083e-04 - acc: 1.0000 - val_loss: 0.7761 - val_acc: 0.7719\n",
            "Epoch 19/30\n",
            "17658/17658 [==============================] - 4s 203us/sample - loss: 2.6830e-04 - acc: 1.0000 - val_loss: 0.7855 - val_acc: 0.7699\n",
            "Epoch 20/30\n",
            "17658/17658 [==============================] - 4s 202us/sample - loss: 2.3536e-04 - acc: 1.0000 - val_loss: 0.7871 - val_acc: 0.7690\n",
            "Epoch 21/30\n",
            "17658/17658 [==============================] - 4s 202us/sample - loss: 2.1210e-04 - acc: 1.0000 - val_loss: 0.7797 - val_acc: 0.7724\n",
            "Epoch 22/30\n",
            "17658/17658 [==============================] - 4s 201us/sample - loss: 1.9295e-04 - acc: 1.0000 - val_loss: 0.8148 - val_acc: 0.7651\n",
            "Epoch 23/30\n",
            "17658/17658 [==============================] - 4s 202us/sample - loss: 1.7745e-04 - acc: 1.0000 - val_loss: 0.7906 - val_acc: 0.7724\n",
            "Epoch 24/30\n",
            "17658/17658 [==============================] - 4s 201us/sample - loss: 1.5239e-04 - acc: 1.0000 - val_loss: 0.7799 - val_acc: 0.7736\n",
            "Epoch 25/30\n",
            "17658/17658 [==============================] - 4s 202us/sample - loss: 1.4440e-04 - acc: 1.0000 - val_loss: 0.7747 - val_acc: 0.7738\n",
            "Epoch 26/30\n",
            "17658/17658 [==============================] - 4s 201us/sample - loss: 1.2861e-04 - acc: 1.0000 - val_loss: 0.7751 - val_acc: 0.7738\n",
            "Epoch 27/30\n",
            "17658/17658 [==============================] - 4s 202us/sample - loss: 1.1440e-04 - acc: 1.0000 - val_loss: 0.7737 - val_acc: 0.7748\n",
            "Epoch 28/30\n",
            "17658/17658 [==============================] - 4s 201us/sample - loss: 1.0862e-04 - acc: 1.0000 - val_loss: 0.7689 - val_acc: 0.7762\n",
            "Epoch 29/30\n",
            "17658/17658 [==============================] - 4s 201us/sample - loss: 9.9420e-05 - acc: 1.0000 - val_loss: 0.7701 - val_acc: 0.7771\n",
            "Epoch 30/30\n",
            "17658/17658 [==============================] - 4s 202us/sample - loss: 8.9778e-05 - acc: 1.0000 - val_loss: 0.7679 - val_acc: 0.7771\n"
          ],
          "name": "stdout"
        },
        {
          "output_type": "display_data",
          "data": {
            "image/png": "[encoded data removed]",
            "text/plain": [
              "<Figure size 432x288 with 1 Axes>"
            ]
          },
          "metadata": {
            "tags": []
          }
        },
        {
          "output_type": "stream",
          "text": [
            "НЕЙРОНКА:  Embedding + Dense\n",
            "\n",
            "О. Генри распознано 77% сеть считает, что это О. Генри, распознано ВЕРНО!\n",
            "Стругацкие распознано 63% сеть считает, что это Стругацкие, распознано ВЕРНО!\n",
            "Булгаков распознано 63% сеть считает, что это Булгаков, распознано ВЕРНО!\n",
            "Саймак распознано 76% сеть считает, что это Саймак, распознано ВЕРНО!\n",
            "Фрай распознано 94% сеть считает, что это Фрай, распознано ВЕРНО!\n",
            "Брэдбери распознано 78% сеть считает, что это Брэдбери, распознано ВЕРНО!\n",
            "\n",
            "Средний процент распознавания 77%\n",
            "\n"
          ],
          "name": "stdout"
        }
      ]
    },
    {
      "cell_type": "markdown",
      "metadata": {
        "id": "LSyQmefCuVbA",
        "colab_type": "text"
      },
      "source": [
        "m. размер вектора 200"
      ]
    },
    {
      "cell_type": "code",
      "metadata": {
        "id": "Jl65bol8ucZB",
        "colab_type": "code",
        "outputId": "0113f779-841e-46db-8045-b822f3865879",
        "colab": {
          "base_uri": "https://localhost:8080/",
          "height": 1000
        }
      },
      "source": [
        "#Создаём сеть с Embedding слоем\n",
        "modelE = Sequential()\n",
        "modelE.add(Embedding(maxWordsCount, 200, input_length=xLen))\n",
        "modelE.add(SpatialDropout1D(0.2))\n",
        "modelE.add(Flatten())\n",
        "modelE.add(BatchNormalization())\n",
        "modelE.add(Dense(200, activation=\"relu\"))\n",
        "modelE.add(Dropout(0.2))\n",
        "modelE.add(BatchNormalization())\n",
        "modelE.add(Dense(6, activation='sigmoid'))\n",
        "\n",
        "modelE.compile(optimizer='adam', \n",
        "              loss='categorical_crossentropy', \n",
        "              metrics=['accuracy'])\n",
        "\n",
        "#Обучаем сеть на xTrain\n",
        "history = modelE.fit(xTrain, \n",
        "                    yTrain, \n",
        "                    epochs=30,\n",
        "                    batch_size=200,\n",
        "                    validation_data=(xTest, yTest))\n",
        "\n",
        "\n",
        "plt.plot(history.history['acc'], \n",
        "         label='Доля верных ответов на обучающем наборе')\n",
        "plt.plot(history.history['val_acc'], \n",
        "         label='Доля верных ответов на проверочном наборе')\n",
        "plt.xlabel('Эпоха обучения')\n",
        "plt.ylabel('Доля верных ответов')\n",
        "plt.legend()\n",
        "plt.show()\n",
        "\n",
        "#Проверяем результаты работы Ebedding сети\n",
        "xTest6Classes01, xTest6Classes = createTestMultiClasses(testWordIndexes, xLen, step)\n",
        "pred = recognizeMultiClass(modelE, xTest6Classes, \"Embedding + Dense\")"
      ],
      "execution_count": 0,
      "outputs": [
        {
          "output_type": "stream",
          "text": [
            "Train on 17658 samples, validate on 6693 samples\n",
            "Epoch 1/30\n",
            "17658/17658 [==============================] - 14s 780us/sample - loss: 1.0007 - acc: 0.7047 - val_loss: 2.8133 - val_acc: 0.2928\n",
            "Epoch 2/30\n",
            "17658/17658 [==============================] - 13s 748us/sample - loss: 0.3600 - acc: 0.8902 - val_loss: 2.3533 - val_acc: 0.2928\n",
            "Epoch 3/30\n",
            "17658/17658 [==============================] - 13s 749us/sample - loss: 0.1634 - acc: 0.8560 - val_loss: 2.6999 - val_acc: 0.2952\n",
            "Epoch 4/30\n",
            "17658/17658 [==============================] - 13s 747us/sample - loss: 0.1154 - acc: 0.8528 - val_loss: 2.1050 - val_acc: 0.3938\n",
            "Epoch 5/30\n",
            "17658/17658 [==============================] - 13s 748us/sample - loss: 0.1090 - acc: 0.8526 - val_loss: 1.8465 - val_acc: 0.4880\n",
            "Epoch 6/30\n",
            "17658/17658 [==============================] - 13s 750us/sample - loss: 0.1066 - acc: 0.8522 - val_loss: 1.6755 - val_acc: 0.6060\n",
            "Epoch 7/30\n",
            "17658/17658 [==============================] - 13s 752us/sample - loss: 0.1051 - acc: 0.8522 - val_loss: 1.5614 - val_acc: 0.6411\n",
            "Epoch 8/30\n",
            "17658/17658 [==============================] - 13s 748us/sample - loss: 0.1045 - acc: 0.8523 - val_loss: 1.4413 - val_acc: 0.6511\n",
            "Epoch 9/30\n",
            "17658/17658 [==============================] - 13s 747us/sample - loss: 0.1041 - acc: 0.8522 - val_loss: 1.4629 - val_acc: 0.6655\n",
            "Epoch 10/30\n",
            "17658/17658 [==============================] - 13s 747us/sample - loss: 0.1037 - acc: 0.8522 - val_loss: 1.4367 - val_acc: 0.6641\n",
            "Epoch 11/30\n",
            "17658/17658 [==============================] - 13s 747us/sample - loss: 0.1035 - acc: 0.8522 - val_loss: 1.4246 - val_acc: 0.6662\n",
            "Epoch 12/30\n",
            "17658/17658 [==============================] - 13s 747us/sample - loss: 0.1034 - acc: 0.8521 - val_loss: 1.3938 - val_acc: 0.6650\n",
            "Epoch 13/30\n",
            "17658/17658 [==============================] - 13s 747us/sample - loss: 0.1032 - acc: 0.8521 - val_loss: 1.4385 - val_acc: 0.6683\n",
            "Epoch 14/30\n",
            "17658/17658 [==============================] - 13s 744us/sample - loss: 0.1031 - acc: 0.8521 - val_loss: 1.4412 - val_acc: 0.6674\n",
            "Epoch 15/30\n",
            "17658/17658 [==============================] - 13s 749us/sample - loss: 0.1030 - acc: 0.8521 - val_loss: 1.4598 - val_acc: 0.6677\n",
            "Epoch 16/30\n",
            "17658/17658 [==============================] - 13s 746us/sample - loss: 0.1029 - acc: 0.8521 - val_loss: 1.4502 - val_acc: 0.6692\n",
            "Epoch 17/30\n",
            "17658/17658 [==============================] - 13s 749us/sample - loss: 0.1029 - acc: 0.8522 - val_loss: 1.4677 - val_acc: 0.6686\n",
            "Epoch 18/30\n",
            "17658/17658 [==============================] - 13s 745us/sample - loss: 0.1029 - acc: 0.8521 - val_loss: 1.5065 - val_acc: 0.6692\n",
            "Epoch 19/30\n",
            "17658/17658 [==============================] - 13s 746us/sample - loss: 0.1028 - acc: 0.8521 - val_loss: 1.5091 - val_acc: 0.6694\n",
            "Epoch 20/30\n",
            "17658/17658 [==============================] - 13s 744us/sample - loss: 0.1028 - acc: 0.8521 - val_loss: 1.5038 - val_acc: 0.6674\n",
            "Epoch 21/30\n",
            "17658/17658 [==============================] - 13s 748us/sample - loss: 0.1028 - acc: 0.8521 - val_loss: 1.5073 - val_acc: 0.6670\n",
            "Epoch 22/30\n",
            "17658/17658 [==============================] - 13s 745us/sample - loss: 0.1027 - acc: 0.8521 - val_loss: 1.5067 - val_acc: 0.6679\n",
            "Epoch 23/30\n",
            "17658/17658 [==============================] - 13s 749us/sample - loss: 0.1027 - acc: 0.8521 - val_loss: 1.5524 - val_acc: 0.6711\n",
            "Epoch 24/30\n",
            "17658/17658 [==============================] - 13s 746us/sample - loss: 0.1027 - acc: 0.8521 - val_loss: 1.5571 - val_acc: 0.6682\n",
            "Epoch 25/30\n",
            "17658/17658 [==============================] - 13s 747us/sample - loss: 0.1027 - acc: 0.8521 - val_loss: 1.5654 - val_acc: 0.6704\n",
            "Epoch 26/30\n",
            "17658/17658 [==============================] - 13s 745us/sample - loss: 0.1027 - acc: 0.8521 - val_loss: 1.5660 - val_acc: 0.6697\n",
            "Epoch 27/30\n",
            "17658/17658 [==============================] - 13s 748us/sample - loss: 0.1027 - acc: 0.8521 - val_loss: 1.5797 - val_acc: 0.6691\n",
            "Epoch 28/30\n",
            "17658/17658 [==============================] - 13s 746us/sample - loss: 0.1026 - acc: 0.8521 - val_loss: 1.5770 - val_acc: 0.6683\n",
            "Epoch 29/30\n",
            "17658/17658 [==============================] - 13s 750us/sample - loss: 0.1026 - acc: 0.8521 - val_loss: 1.5854 - val_acc: 0.6667\n",
            "Epoch 30/30\n",
            "17658/17658 [==============================] - 13s 747us/sample - loss: 0.1027 - acc: 0.8521 - val_loss: 1.6334 - val_acc: 0.6729\n"
          ],
          "name": "stdout"
        },
        {
          "output_type": "display_data",
          "data": {
            "image/png": "[encoded data removed]",
            "text/plain": [
              "<Figure size 432x288 with 1 Axes>"
            ]
          },
          "metadata": {
            "tags": []
          }
        },
        {
          "output_type": "stream",
          "text": [
            "НЕЙРОНКА:  Embedding + Dense\n",
            "\n",
            "О. Генри распознано 86% сеть считает, что это О. Генри, распознано ВЕРНО!\n",
            "Стругацкие распознано 77% сеть считает, что это Стругацкие, распознано ВЕРНО!\n",
            "Булгаков распознано 0% сеть считает, что это О. Генри, распознано НЕ ВЕРНО!\n",
            "Саймак распознано 85% сеть считает, что это Саймак, распознано ВЕРНО!\n",
            "Фрай распознано 86% сеть считает, что это Фрай, распознано ВЕРНО!\n",
            "Брэдбери распознано 83% сеть считает, что это Брэдбери, распознано ВЕРНО!\n",
            "\n",
            "Средний процент распознавания 67%\n",
            "\n"
          ],
          "name": "stdout"
        }
      ]
    },
    {
      "cell_type": "markdown",
      "metadata": {
        "id": "-i5x7juhwh0x",
        "colab_type": "text"
      },
      "source": [
        "**вывод** размер вектора в 50 символов дал лучший результат.77% и верное распознование"
      ]
    }
  ]
}