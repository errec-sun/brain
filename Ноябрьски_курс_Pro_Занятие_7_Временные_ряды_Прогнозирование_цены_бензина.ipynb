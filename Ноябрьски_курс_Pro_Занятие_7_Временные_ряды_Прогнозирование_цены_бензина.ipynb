{
  "nbformat": 4,
  "nbformat_minor": 0,
  "metadata": {
    "colab": {
      "name": "Ноябрьски курс. Pro. Занятие 7. Временные ряды. Прогнозирование цены бензина",
      "provenance": [],
      "collapsed_sections": [],
      "include_colab_link": true
    },
    "kernelspec": {
      "name": "python3",
      "display_name": "Python 3"
    },
    "accelerator": "GPU"
  },
  "cells": [
    {
      "cell_type": "markdown",
      "metadata": {
        "id": "view-in-github",
        "colab_type": "text"
      },
      "source": [
        "<a href=\"https://colab.research.google.com/github/errec-sun/brain/blob/master/%D0%9D%D0%BE%D1%8F%D0%B1%D1%80%D1%8C%D1%81%D0%BA%D0%B8_%D0%BA%D1%83%D1%80%D1%81_Pro_%D0%97%D0%B0%D0%BD%D1%8F%D1%82%D0%B8%D0%B5_7_%D0%92%D1%80%D0%B5%D0%BC%D0%B5%D0%BD%D0%BD%D1%8B%D0%B5_%D1%80%D1%8F%D0%B4%D1%8B_%D0%9F%D1%80%D0%BE%D0%B3%D0%BD%D0%BE%D0%B7%D0%B8%D1%80%D0%BE%D0%B2%D0%B0%D0%BD%D0%B8%D0%B5_%D1%86%D0%B5%D0%BD%D1%8B_%D0%B1%D0%B5%D0%BD%D0%B7%D0%B8%D0%BD%D0%B0.ipynb\" target=\"_parent\"><img src=\"https://colab.research.google.com/assets/colab-badge.svg\" alt=\"Open In Colab\"/></a>"
      ]
    },
    {
      "cell_type": "markdown",
      "metadata": {
        "id": "oavU7hFFyvm0",
        "colab_type": "text"
      },
      "source": [
        "*Теоретический материал с лекции:* https://youtu.be/1BV1I59HwB4?t=1614"
      ]
    },
    {
      "cell_type": "code",
      "metadata": {
        "id": "OOweilL20R7n",
        "colab_type": "code",
        "outputId": "f93779a6-a1b6-481a-a790-0f062358b31c",
        "colab": {
          "base_uri": "https://localhost:8080/",
          "height": 80
        }
      },
      "source": [
        "# Рисовать графики сразу же\n",
        "%matplotlib inline\n",
        "\n",
        "import pandas as pd\n",
        "import matplotlib.pyplot as plt\n",
        "from tensorflow.keras import utils\n",
        "import numpy as np\n",
        "from keras.optimizers import Adam\n",
        "from keras.models import Sequential, Model\n",
        "from keras.layers import concatenate, Input, Dense, Dropout, BatchNormalization, Flatten, Conv1D, Conv2D, CuDNNLSTM\n",
        "\n",
        "from google.colab import files\n",
        "from sklearn.preprocessing import StandardScaler, MinMaxScaler\n",
        "\n",
        "from keras.models import load_model"
      ],
      "execution_count": 0,
      "outputs": [
        {
          "output_type": "display_data",
          "data": {
            "text/html": [
              "<p style=\"color: red;\">\n",
              "The default version of TensorFlow in Colab will soon switch to TensorFlow 2.x.<br>\n",
              "We recommend you <a href=\"https://www.tensorflow.org/guide/migrate\" target=\"_blank\">upgrade</a> now \n",
              "or ensure your notebook will continue to use TensorFlow 1.x via the <code>%tensorflow_version 1.x</code> magic:\n",
              "<a href=\"https://colab.research.google.com/notebooks/tensorflow_version.ipynb\" target=\"_blank\">more info</a>.</p>\n"
            ],
            "text/plain": [
              "<IPython.core.display.HTML object>"
            ]
          },
          "metadata": {
            "tags": []
          }
        },
        {
          "output_type": "stream",
          "text": [
            "Using TensorFlow backend.\n"
          ],
          "name": "stderr"
        }
      ]
    },
    {
      "cell_type": "code",
      "metadata": {
        "id": "Qz4f-yMM1F9T",
        "colab_type": "code",
        "outputId": "88207ba7-5746-49a5-ffb9-39fd5f0c0032",
        "colab": {
          "resources": {
            "http://localhost:8080/nbextensions/google.colab/files.js": {
              "data": "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",
              "ok": true,
              "headers": [
                [
                  "content-type",
                  "application/javascript"
                ]
              ],
              "status": 200,
              "status_text": ""
            }
          },
          "base_uri": "https://localhost:8080/",
          "height": 91
        }
      },
      "source": [
        "#Загружаем файл базы\n",
        "files.upload()\n",
        "!ls"
      ],
      "execution_count": 0,
      "outputs": [
        {
          "output_type": "display_data",
          "data": {
            "text/html": [
              "\n",
              "     <input type=\"file\" id=\"files-fc16341b-4182-4078-8993-b927ecb4fa1c\" name=\"files[]\" multiple disabled />\n",
              "     <output id=\"result-fc16341b-4182-4078-8993-b927ecb4fa1c\">\n",
              "      Upload widget is only available when the cell has been executed in the\n",
              "      current browser session. Please rerun this cell to enable.\n",
              "      </output>\n",
              "      <script src=\"/nbextensions/google.colab/files.js\"></script> "
            ],
            "text/plain": [
              "<IPython.core.display.HTML object>"
            ]
          },
          "metadata": {
            "tags": []
          }
        },
        {
          "output_type": "stream",
          "text": [
            "Saving 2004-2019.tsv to 2004-2019.tsv\n",
            "2004-2019.tsv  sample_data\n"
          ],
          "name": "stdout"
        }
      ]
    },
    {
      "cell_type": "code",
      "metadata": {
        "id": "GRBmV8K31JrC",
        "colab_type": "code",
        "colab": {}
      },
      "source": [
        "#Считываем данные с помощью pandas\n",
        "#Для чтения tsv файла ставим sep='\\t'\n",
        "base_data = pd.read_csv('2004-2019.tsv', sep='\\t')"
      ],
      "execution_count": 0,
      "outputs": []
    },
    {
      "cell_type": "code",
      "metadata": {
        "id": "_YTBtU-pkdvl",
        "colab_type": "code",
        "outputId": "415c0aed-d742-4627-aeac-7996b24b79ca",
        "colab": {
          "base_uri": "https://localhost:8080/",
          "height": 374
        }
      },
      "source": [
        "print(base_data.iloc[:,9:12].head(20))"
      ],
      "execution_count": 0,
      "outputs": [
        {
          "output_type": "stream",
          "text": [
            "    DESVIO PADRÃO REVENDA  PREÇO MÍNIMO REVENDA  PREÇO MÁXIMO REVENDA\n",
            "0                   0.016                 1.190                 1.350\n",
            "1                   0.114                 0.890                 1.449\n",
            "2                   0.097                 1.180                 1.760\n",
            "3                   0.070                 1.090                 1.509\n",
            "4                   0.078                 1.050                 1.400\n",
            "5                   0.132                 0.999                 2.050\n",
            "6                   0.218                 1.030                 1.950\n",
            "7                   0.158                 1.350                 2.000\n",
            "8                   0.130                 1.100                 1.699\n",
            "9                   0.141                 0.989                 1.700\n",
            "10                  0.134                 1.400                 1.780\n",
            "11                  0.116                 1.090                 1.590\n",
            "12                  0.109                 1.150                 1.750\n",
            "13                  0.134                 1.500                 1.980\n",
            "14                  0.035                 1.740                 1.850\n",
            "15                  0.123                 1.280                 1.850\n",
            "16                  0.246                 1.270                 2.400\n",
            "17                  0.141                 1.250                 1.990\n",
            "18                  0.000                 1.300                 1.300\n",
            "19                  0.081                 1.050                 1.430\n"
          ],
          "name": "stdout"
        }
      ]
    },
    {
      "cell_type": "code",
      "metadata": {
        "id": "RDh9eJNc7dJV",
        "colab_type": "code",
        "outputId": "2c88167f-38a3-465c-d661-99ab53d61b34",
        "colab": {
          "base_uri": "https://localhost:8080/",
          "height": 34
        }
      },
      "source": [
        "#Группируем данные по неделе старта\n",
        "#В исходных данных по каждой неделе данные по нескольким регионам страны\n",
        "data2 = base_data.groupby('DATA INICIAL').mean()\n",
        "\n",
        "#Оставляем колонки с 3 по 7\n",
        "#В них нужные для нас числовые данные\n",
        "data = data2.values[:,2:-1]\n",
        "print(data.shape)"
      ],
      "execution_count": 0,
      "outputs": [
        {
          "output_type": "stream",
          "text": [
            "(785, 6)\n"
          ],
          "name": "stdout"
        }
      ]
    },
    {
      "cell_type": "code",
      "metadata": {
        "id": "ZHWZubQ1__7e",
        "colab_type": "code",
        "outputId": "3d02b610-ac68-4712-d5bc-28ac0c56208f",
        "colab": {
          "base_uri": "https://localhost:8080/",
          "height": 267
        }
      },
      "source": [
        "#Отображаем исходные от точки start и длинной step\n",
        "start = 0\n",
        "step = 785\n",
        "\n",
        "#Подбираем смещения, чтобы удобно расположить графики на экране\n",
        "koef = [1, 1, 1, 1, 100, 0.2]\n",
        "bias = [0, 0, 0, 0, -2, 4]\n",
        "\n",
        "#Заполняем текстовые названия каналов данных\n",
        "chanelNames = ['Средняя цена', 'Std цены', 'Мин. цена', 'Макс. цена', 'Коэф. вариации', 'Месяц']\n",
        "\n",
        "#Рисуем все графики данных\n",
        "for i in range(data.shape[1]):\n",
        "  plt.plot(koef[i]*data[start:start+step,i] + bias[i], \n",
        "          label=chanelNames[i])\n",
        "plt.ylabel('Значение')\n",
        "plt.legend()\n",
        "plt.show()"
      ],
      "execution_count": 0,
      "outputs": [
        {
          "output_type": "display_data",
          "data": {
            "image/png": "[encoded data removed]",
            "text/plain": [
              "<Figure size 432x288 with 1 Axes>"
            ]
          },
          "metadata": {
            "tags": []
          }
        }
      ]
    },
    {
      "cell_type": "markdown",
      "metadata": {
        "id": "CKpTtma9Vw8W",
        "colab_type": "text"
      },
      "source": [
        "**Функция загрузки данных**"
      ]
    },
    {
      "cell_type": "markdown",
      "metadata": {
        "id": "DFv5hwScy9Yv",
        "colab_type": "text"
      },
      "source": [
        "*Разбор данного раздела:* https://youtu.be/1BV1I59HwB4?t=5359"
      ]
    },
    {
      "cell_type": "code",
      "metadata": {
        "id": "TwfC0KZVLPhB",
        "colab_type": "code",
        "colab": {}
      },
      "source": [
        "def getXTrainFromTimeSeries(data, xLen, xChannels, yChannels, stepsForward, xNormalization, yNormalization, returnFlatten, valLen, convertToDerivative):\n",
        "  \n",
        "  #Если указано превращение данных в производную\n",
        "  #То вычитаем поточечно из текущей точки предыдущую\n",
        "  if (convertToDerivative):\n",
        "    data = np.array([(d[1:]-d[:-1]) for d in data.T]).copy().T\n",
        "  \n",
        "  #Выбираем тип нормализации x\n",
        "  #0 - нормальное распределение\n",
        "  #1 - нормирование до отрезка 0-1\n",
        "  if (xNormalization == 0):\n",
        "    xScaler = StandardScaler()\n",
        "  else:\n",
        "    xScaler = MinMaxScaler()\n",
        "  \n",
        "  #Берём только те каналы, которые указаны в аргументе функции\n",
        "  xData = data[:,xChannels]\n",
        "  #Обучаем нормировщик\n",
        "  xScaler.fit(xData)\n",
        "  #Нормируем данные\n",
        "  xData = xScaler.transform(xData)\n",
        "\n",
        "  #Выбираем тип нормализации y\n",
        "  #0 - нормальное распределение\n",
        "  #1 - нормирование до отрезка 0-1\n",
        "  if (yNormalization == 0):\n",
        "    yScaler = StandardScaler()\n",
        "  else:\n",
        "    yScaler = MinMaxScaler()\n",
        "  \n",
        "  #Берём только те каналы, которые указаны в аргументе функции\n",
        "  yData = data[:,yChannels]\n",
        "  #Обучаем нормировщик\n",
        "  yScaler.fit(yData)\n",
        "  #Нормируем данные\n",
        "  yData = yScaler.transform(yData)\n",
        "\n",
        "  #Формируем xTrain\n",
        "  #Раскусываем исходный ряд на куски xLen с шагом в 1\n",
        "  xTrain = np.array([xData[i:i+xLen, :] for i in range(xData.shape[0]-xLen-1-stepsForward)])\n",
        "  \n",
        "  #Формируем yTrain\n",
        "  #Берём stepsForward шагов после завершения текущего x\n",
        "  if (stepsForward > 0):\n",
        "    yTrain = np.array([yData[i+xLen:i+xLen+stepsForward, :] for i in range(yData.shape[0]-xLen-1-stepsForward)])\n",
        "  else:\n",
        "    yTrain = np.array([yData[i+xLen+stepsForward, :] for i in range(yData.shape[0]-xLen-1-stepsForward)])\n",
        "\n",
        "  #Делаем reshape y в зависимости от того\n",
        "  #Прогнозируем на 1 шаг вперёдили на несколько\n",
        "  if (stepsForward == 0):\n",
        "    if ((len(yChannels) == 1)):\n",
        "      yTrain = yTrain.reshape(yTrain.shape[0], 1)\n",
        "  else:\n",
        "      yTrain = yTrain.reshape(yTrain.shape[0], stepsForward)\n",
        "  \n",
        "  #Расчитыываем отступ между обучающими о проверочными данными\n",
        "  #Чтобы они не смешивались\n",
        "  xTrainLen = xTrain.shape[0]\n",
        "  bias = xLen + stepsForward + 2\n",
        "\n",
        "  #Берём из конечной части xTrain проверочную выборку\n",
        "  xVal = xTrain[xTrainLen-valLen:]\n",
        "  yVal = yTrain[xTrainLen-valLen:]\n",
        "  #Оставшуюся часть используем под обучающую выборку\n",
        "  xTrain = xTrain[:xTrainLen-valLen-bias]\n",
        "  yTrain = yTrain[:xTrainLen-valLen-bias]\n",
        "\n",
        "  #Если в функцию передали вернуть flatten сигнал (для Dense сети)\n",
        "  #xTrain и xVal превращаем в flatten\n",
        "  if (returnFlatten > 0):\n",
        "    xTrain = np.array([x.flatten() for x in xTrain])\n",
        "    xVal = np.array([x.flatten() for x in xVal])\n",
        "\n",
        "  return (xTrain, yTrain), (xVal, yVal), (xScaler, yScaler)"
      ],
      "execution_count": 0,
      "outputs": []
    },
    {
      "cell_type": "code",
      "metadata": {
        "id": "kwzg3s4GSyMR",
        "colab_type": "code",
        "outputId": "96acc128-6043-4df9-9b57-32b79b25694c",
        "colab": {
          "base_uri": "https://localhost:8080/",
          "height": 91
        }
      },
      "source": [
        "#Формируем параметры загрузки данных\n",
        "xLen = 20\n",
        "stepsForward = 0\n",
        "xChannels = range(data.shape[1])\n",
        "yChannels = [0]\n",
        "xNormalization = 0\n",
        "yNormalization = 0\n",
        "valLen = 100\n",
        "returnFlatten = 1\n",
        "convertToDerivative = 0\n",
        "\n",
        "#Загружаем данные\n",
        "(xTrain, yTrain), (xVal, yVal), (xScaler, yScaler) = getXTrainFromTimeSeries(data, xLen, xChannels, yChannels, stepsForward, xNormalization, yNormalization, returnFlatten, valLen, convertToDerivative)\n",
        "\n",
        "#Выводим размеры данных для проверки\n",
        "print(xTrain.shape)\n",
        "print(yTrain.shape)\n",
        "print(xVal.shape)\n",
        "print(yVal.shape)"
      ],
      "execution_count": 0,
      "outputs": [
        {
          "output_type": "stream",
          "text": [
            "(642, 120)\n",
            "(642, 1)\n",
            "(100, 120)\n",
            "(100, 1)\n"
          ],
          "name": "stdout"
        }
      ]
    },
    {
      "cell_type": "markdown",
      "metadata": {
        "id": "rDUh-Cb5c5qY",
        "colab_type": "text"
      },
      "source": [
        "#Полносвязная сеть"
      ]
    },
    {
      "cell_type": "markdown",
      "metadata": {
        "id": "WJ04ZHZYzhdm",
        "colab_type": "text"
      },
      "source": [
        "*Разбор данного раздела:* https://youtu.be/1BV1I59HwB4?t=5406"
      ]
    },
    {
      "cell_type": "code",
      "metadata": {
        "id": "xIbx-mmEfKwv",
        "colab_type": "code",
        "outputId": "93226bc9-1805-4f0f-e0f7-7695975e2fea",
        "colab": {
          "base_uri": "https://localhost:8080/",
          "height": 1000
        }
      },
      "source": [
        "modelD = Sequential()\n",
        "\n",
        "modelD.add(Dense(100, input_dim = xTrain.shape[1], activation=\"linear\"))\n",
        "modelD.add(Dense(100, activation=\"linear\"))\n",
        "modelD.add(Dense(100, activation=\"linear\"))\n",
        "modelD.add(Dense(yTrain.shape[1], activation=\"linear\"))\n",
        "\n",
        "modelD.compile(loss=\"mse\", optimizer=Adam(lr=1e-5))\n",
        "\n",
        "history = modelD.fit(xTrain, \n",
        "                    yTrain, \n",
        "                    epochs=200,\n",
        "                    batch_size=20, \n",
        "                    verbose=1, \n",
        "                    validation_data=(xVal, yVal))\n",
        "\n",
        "plt.plot(history.history['loss'], \n",
        "         label='Средняя абсолютная ошибка на обучающем наборе')\n",
        "plt.plot(history.history['val_loss'], \n",
        "         label='Средняя абсолютная ошибка на проверочном наборе')\n",
        "plt.ylabel('Средняя ошибка')\n",
        "plt.legend()\n",
        "plt.show()"
      ],
      "execution_count": 0,
      "outputs": [
        {
          "output_type": "stream",
          "text": [
            "WARNING:tensorflow:From /usr/local/lib/python3.6/dist-packages/keras/backend/tensorflow_backend.py:66: The name tf.get_default_graph is deprecated. Please use tf.compat.v1.get_default_graph instead.\n",
            "\n",
            "WARNING:tensorflow:From /usr/local/lib/python3.6/dist-packages/keras/backend/tensorflow_backend.py:541: The name tf.placeholder is deprecated. Please use tf.compat.v1.placeholder instead.\n",
            "\n",
            "WARNING:tensorflow:From /usr/local/lib/python3.6/dist-packages/keras/backend/tensorflow_backend.py:4432: The name tf.random_uniform is deprecated. Please use tf.random.uniform instead.\n",
            "\n",
            "WARNING:tensorflow:From /usr/local/lib/python3.6/dist-packages/keras/optimizers.py:793: The name tf.train.Optimizer is deprecated. Please use tf.compat.v1.train.Optimizer instead.\n",
            "\n",
            "WARNING:tensorflow:From /usr/local/lib/python3.6/dist-packages/keras/backend/tensorflow_backend.py:1033: The name tf.assign_add is deprecated. Please use tf.compat.v1.assign_add instead.\n",
            "\n",
            "WARNING:tensorflow:From /usr/local/lib/python3.6/dist-packages/keras/backend/tensorflow_backend.py:1020: The name tf.assign is deprecated. Please use tf.compat.v1.assign instead.\n",
            "\n",
            "WARNING:tensorflow:From /usr/local/lib/python3.6/dist-packages/keras/backend/tensorflow_backend.py:3005: The name tf.Session is deprecated. Please use tf.compat.v1.Session instead.\n",
            "\n",
            "Train on 642 samples, validate on 100 samples\n",
            "Epoch 1/200\n",
            "WARNING:tensorflow:From /usr/local/lib/python3.6/dist-packages/keras/backend/tensorflow_backend.py:190: The name tf.get_default_session is deprecated. Please use tf.compat.v1.get_default_session instead.\n",
            "\n",
            "WARNING:tensorflow:From /usr/local/lib/python3.6/dist-packages/keras/backend/tensorflow_backend.py:197: The name tf.ConfigProto is deprecated. Please use tf.compat.v1.ConfigProto instead.\n",
            "\n",
            "WARNING:tensorflow:From /usr/local/lib/python3.6/dist-packages/keras/backend/tensorflow_backend.py:207: The name tf.global_variables is deprecated. Please use tf.compat.v1.global_variables instead.\n",
            "\n",
            "WARNING:tensorflow:From /usr/local/lib/python3.6/dist-packages/keras/backend/tensorflow_backend.py:216: The name tf.is_variable_initialized is deprecated. Please use tf.compat.v1.is_variable_initialized instead.\n",
            "\n",
            "WARNING:tensorflow:From /usr/local/lib/python3.6/dist-packages/keras/backend/tensorflow_backend.py:223: The name tf.variables_initializer is deprecated. Please use tf.compat.v1.variables_initializer instead.\n",
            "\n",
            "642/642 [==============================] - 5s 7ms/step - loss: 2.0818 - val_loss: 3.1468\n",
            "Epoch 2/200\n",
            "642/642 [==============================] - 0s 256us/step - loss: 1.3890 - val_loss: 2.3344\n",
            "Epoch 3/200\n",
            "642/642 [==============================] - 0s 231us/step - loss: 0.9655 - val_loss: 1.8945\n",
            "Epoch 4/200\n",
            "642/642 [==============================] - 0s 226us/step - loss: 0.6948 - val_loss: 1.5161\n",
            "Epoch 5/200\n",
            "642/642 [==============================] - 0s 241us/step - loss: 0.5109 - val_loss: 1.1478\n",
            "Epoch 6/200\n",
            "642/642 [==============================] - 0s 223us/step - loss: 0.3890 - val_loss: 0.9011\n",
            "Epoch 7/200\n",
            "642/642 [==============================] - 0s 237us/step - loss: 0.3089 - val_loss: 0.6838\n",
            "Epoch 8/200\n",
            "642/642 [==============================] - 0s 263us/step - loss: 0.2531 - val_loss: 0.5607\n",
            "Epoch 9/200\n",
            "642/642 [==============================] - 0s 232us/step - loss: 0.2134 - val_loss: 0.4594\n",
            "Epoch 10/200\n",
            "642/642 [==============================] - 0s 228us/step - loss: 0.1819 - val_loss: 0.3923\n",
            "Epoch 11/200\n",
            "642/642 [==============================] - 0s 239us/step - loss: 0.1580 - val_loss: 0.3556\n",
            "Epoch 12/200\n",
            "642/642 [==============================] - 0s 240us/step - loss: 0.1395 - val_loss: 0.2900\n",
            "Epoch 13/200\n",
            "642/642 [==============================] - 0s 258us/step - loss: 0.1240 - val_loss: 0.2581\n",
            "Epoch 14/200\n",
            "642/642 [==============================] - 0s 248us/step - loss: 0.1114 - val_loss: 0.2314\n",
            "Epoch 15/200\n",
            "642/642 [==============================] - 0s 237us/step - loss: 0.1007 - val_loss: 0.2068\n",
            "Epoch 16/200\n",
            "642/642 [==============================] - 0s 223us/step - loss: 0.0910 - val_loss: 0.1899\n",
            "Epoch 17/200\n",
            "642/642 [==============================] - 0s 234us/step - loss: 0.0827 - val_loss: 0.1701\n",
            "Epoch 18/200\n",
            "642/642 [==============================] - 0s 236us/step - loss: 0.0756 - val_loss: 0.1553\n",
            "Epoch 19/200\n",
            "642/642 [==============================] - 0s 234us/step - loss: 0.0691 - val_loss: 0.1434\n",
            "Epoch 20/200\n",
            "642/642 [==============================] - 0s 245us/step - loss: 0.0635 - val_loss: 0.1315\n",
            "Epoch 21/200\n",
            "642/642 [==============================] - 0s 235us/step - loss: 0.0585 - val_loss: 0.1211\n",
            "Epoch 22/200\n",
            "642/642 [==============================] - 0s 268us/step - loss: 0.0544 - val_loss: 0.1161\n",
            "Epoch 23/200\n",
            "642/642 [==============================] - 0s 222us/step - loss: 0.0510 - val_loss: 0.1070\n",
            "Epoch 24/200\n",
            "642/642 [==============================] - 0s 232us/step - loss: 0.0480 - val_loss: 0.1005\n",
            "Epoch 25/200\n",
            "642/642 [==============================] - 0s 231us/step - loss: 0.0455 - val_loss: 0.0936\n",
            "Epoch 26/200\n",
            "642/642 [==============================] - 0s 232us/step - loss: 0.0432 - val_loss: 0.0901\n",
            "Epoch 27/200\n",
            "642/642 [==============================] - 0s 223us/step - loss: 0.0412 - val_loss: 0.0875\n",
            "Epoch 28/200\n",
            "642/642 [==============================] - 0s 241us/step - loss: 0.0394 - val_loss: 0.0821\n",
            "Epoch 29/200\n",
            "642/642 [==============================] - 0s 223us/step - loss: 0.0379 - val_loss: 0.0801\n",
            "Epoch 30/200\n",
            "642/642 [==============================] - 0s 238us/step - loss: 0.0365 - val_loss: 0.0784\n",
            "Epoch 31/200\n",
            "642/642 [==============================] - 0s 215us/step - loss: 0.0355 - val_loss: 0.0763\n",
            "Epoch 32/200\n",
            "642/642 [==============================] - 0s 231us/step - loss: 0.0344 - val_loss: 0.0740\n",
            "Epoch 33/200\n",
            "642/642 [==============================] - 0s 239us/step - loss: 0.0335 - val_loss: 0.0722\n",
            "Epoch 34/200\n",
            "642/642 [==============================] - 0s 243us/step - loss: 0.0326 - val_loss: 0.0714\n",
            "Epoch 35/200\n",
            "642/642 [==============================] - 0s 275us/step - loss: 0.0318 - val_loss: 0.0695\n",
            "Epoch 36/200\n",
            "642/642 [==============================] - 0s 258us/step - loss: 0.0312 - val_loss: 0.0689\n",
            "Epoch 37/200\n",
            "642/642 [==============================] - 0s 243us/step - loss: 0.0304 - val_loss: 0.0701\n",
            "Epoch 38/200\n",
            "642/642 [==============================] - 0s 241us/step - loss: 0.0299 - val_loss: 0.0687\n",
            "Epoch 39/200\n",
            "642/642 [==============================] - 0s 243us/step - loss: 0.0293 - val_loss: 0.0645\n",
            "Epoch 40/200\n",
            "642/642 [==============================] - 0s 221us/step - loss: 0.0287 - val_loss: 0.0655\n",
            "Epoch 41/200\n",
            "642/642 [==============================] - 0s 261us/step - loss: 0.0282 - val_loss: 0.0675\n",
            "Epoch 42/200\n",
            "642/642 [==============================] - 0s 280us/step - loss: 0.0277 - val_loss: 0.0639\n",
            "Epoch 43/200\n",
            "642/642 [==============================] - 0s 282us/step - loss: 0.0272 - val_loss: 0.0647\n",
            "Epoch 44/200\n",
            "642/642 [==============================] - 0s 263us/step - loss: 0.0267 - val_loss: 0.0661\n",
            "Epoch 45/200\n",
            "642/642 [==============================] - 0s 280us/step - loss: 0.0263 - val_loss: 0.0621\n",
            "Epoch 46/200\n",
            "642/642 [==============================] - 0s 268us/step - loss: 0.0259 - val_loss: 0.0662\n",
            "Epoch 47/200\n",
            "642/642 [==============================] - 0s 268us/step - loss: 0.0255 - val_loss: 0.0617\n",
            "Epoch 48/200\n",
            "642/642 [==============================] - 0s 223us/step - loss: 0.0252 - val_loss: 0.0659\n",
            "Epoch 49/200\n",
            "642/642 [==============================] - 0s 226us/step - loss: 0.0247 - val_loss: 0.0610\n",
            "Epoch 50/200\n",
            "642/642 [==============================] - 0s 237us/step - loss: 0.0243 - val_loss: 0.0638\n",
            "Epoch 51/200\n",
            "642/642 [==============================] - 0s 232us/step - loss: 0.0240 - val_loss: 0.0621\n",
            "Epoch 52/200\n",
            "642/642 [==============================] - 0s 240us/step - loss: 0.0237 - val_loss: 0.0645\n",
            "Epoch 53/200\n",
            "642/642 [==============================] - 0s 257us/step - loss: 0.0233 - val_loss: 0.0577\n",
            "Epoch 54/200\n",
            "642/642 [==============================] - 0s 255us/step - loss: 0.0230 - val_loss: 0.0618\n",
            "Epoch 55/200\n",
            "642/642 [==============================] - 0s 228us/step - loss: 0.0226 - val_loss: 0.0608\n",
            "Epoch 56/200\n",
            "642/642 [==============================] - 0s 231us/step - loss: 0.0223 - val_loss: 0.0646\n",
            "Epoch 57/200\n",
            "642/642 [==============================] - 0s 237us/step - loss: 0.0220 - val_loss: 0.0586\n",
            "Epoch 58/200\n",
            "642/642 [==============================] - 0s 239us/step - loss: 0.0216 - val_loss: 0.0593\n",
            "Epoch 59/200\n",
            "642/642 [==============================] - 0s 239us/step - loss: 0.0214 - val_loss: 0.0613\n",
            "Epoch 60/200\n",
            "642/642 [==============================] - 0s 260us/step - loss: 0.0212 - val_loss: 0.0574\n",
            "Epoch 61/200\n",
            "642/642 [==============================] - 0s 224us/step - loss: 0.0207 - val_loss: 0.0616\n",
            "Epoch 62/200\n",
            "642/642 [==============================] - 0s 213us/step - loss: 0.0205 - val_loss: 0.0586\n",
            "Epoch 63/200\n",
            "642/642 [==============================] - 0s 215us/step - loss: 0.0202 - val_loss: 0.0568\n",
            "Epoch 64/200\n",
            "642/642 [==============================] - 0s 213us/step - loss: 0.0199 - val_loss: 0.0506\n",
            "Epoch 65/200\n",
            "642/642 [==============================] - 0s 214us/step - loss: 0.0197 - val_loss: 0.0587\n",
            "Epoch 66/200\n",
            "642/642 [==============================] - 0s 224us/step - loss: 0.0193 - val_loss: 0.0578\n",
            "Epoch 67/200\n",
            "642/642 [==============================] - 0s 240us/step - loss: 0.0191 - val_loss: 0.0551\n",
            "Epoch 68/200\n",
            "642/642 [==============================] - 0s 282us/step - loss: 0.0188 - val_loss: 0.0549\n",
            "Epoch 69/200\n",
            "642/642 [==============================] - 0s 282us/step - loss: 0.0185 - val_loss: 0.0524\n",
            "Epoch 70/200\n",
            "642/642 [==============================] - 0s 233us/step - loss: 0.0183 - val_loss: 0.0539\n",
            "Epoch 71/200\n",
            "642/642 [==============================] - 0s 229us/step - loss: 0.0181 - val_loss: 0.0529\n",
            "Epoch 72/200\n",
            "642/642 [==============================] - 0s 220us/step - loss: 0.0177 - val_loss: 0.0530\n",
            "Epoch 73/200\n",
            "642/642 [==============================] - 0s 242us/step - loss: 0.0176 - val_loss: 0.0607\n",
            "Epoch 74/200\n",
            "642/642 [==============================] - 0s 248us/step - loss: 0.0174 - val_loss: 0.0594\n",
            "Epoch 75/200\n",
            "642/642 [==============================] - 0s 228us/step - loss: 0.0171 - val_loss: 0.0552\n",
            "Epoch 76/200\n",
            "642/642 [==============================] - 0s 231us/step - loss: 0.0168 - val_loss: 0.0479\n",
            "Epoch 77/200\n",
            "642/642 [==============================] - 0s 231us/step - loss: 0.0165 - val_loss: 0.0479\n",
            "Epoch 78/200\n",
            "642/642 [==============================] - 0s 220us/step - loss: 0.0165 - val_loss: 0.0506\n",
            "Epoch 79/200\n",
            "642/642 [==============================] - 0s 238us/step - loss: 0.0162 - val_loss: 0.0552\n",
            "Epoch 80/200\n",
            "642/642 [==============================] - 0s 266us/step - loss: 0.0159 - val_loss: 0.0529\n",
            "Epoch 81/200\n",
            "642/642 [==============================] - 0s 251us/step - loss: 0.0156 - val_loss: 0.0469\n",
            "Epoch 82/200\n",
            "642/642 [==============================] - 0s 244us/step - loss: 0.0154 - val_loss: 0.0532\n",
            "Epoch 83/200\n",
            "642/642 [==============================] - 0s 230us/step - loss: 0.0152 - val_loss: 0.0495\n",
            "Epoch 84/200\n",
            "642/642 [==============================] - 0s 218us/step - loss: 0.0150 - val_loss: 0.0403\n",
            "Epoch 85/200\n",
            "642/642 [==============================] - 0s 215us/step - loss: 0.0148 - val_loss: 0.0420\n",
            "Epoch 86/200\n",
            "642/642 [==============================] - 0s 223us/step - loss: 0.0145 - val_loss: 0.0550\n",
            "Epoch 87/200\n",
            "642/642 [==============================] - 0s 256us/step - loss: 0.0144 - val_loss: 0.0436\n",
            "Epoch 88/200\n",
            "642/642 [==============================] - 0s 240us/step - loss: 0.0141 - val_loss: 0.0466\n",
            "Epoch 89/200\n",
            "642/642 [==============================] - 0s 223us/step - loss: 0.0139 - val_loss: 0.0389\n",
            "Epoch 90/200\n",
            "642/642 [==============================] - 0s 214us/step - loss: 0.0137 - val_loss: 0.0444\n",
            "Epoch 91/200\n",
            "642/642 [==============================] - 0s 246us/step - loss: 0.0135 - val_loss: 0.0430\n",
            "Epoch 92/200\n",
            "642/642 [==============================] - 0s 221us/step - loss: 0.0133 - val_loss: 0.0446\n",
            "Epoch 93/200\n",
            "642/642 [==============================] - 0s 231us/step - loss: 0.0131 - val_loss: 0.0438\n",
            "Epoch 94/200\n",
            "642/642 [==============================] - 0s 245us/step - loss: 0.0132 - val_loss: 0.0393\n",
            "Epoch 95/200\n",
            "642/642 [==============================] - 0s 216us/step - loss: 0.0127 - val_loss: 0.0457\n",
            "Epoch 96/200\n",
            "642/642 [==============================] - 0s 222us/step - loss: 0.0126 - val_loss: 0.0348\n",
            "Epoch 97/200\n",
            "642/642 [==============================] - 0s 257us/step - loss: 0.0123 - val_loss: 0.0386\n",
            "Epoch 98/200\n",
            "642/642 [==============================] - 0s 244us/step - loss: 0.0122 - val_loss: 0.0369\n",
            "Epoch 99/200\n",
            "642/642 [==============================] - 0s 249us/step - loss: 0.0120 - val_loss: 0.0320\n",
            "Epoch 100/200\n",
            "642/642 [==============================] - 0s 229us/step - loss: 0.0119 - val_loss: 0.0318\n",
            "Epoch 101/200\n",
            "642/642 [==============================] - 0s 251us/step - loss: 0.0118 - val_loss: 0.0398\n",
            "Epoch 102/200\n",
            "642/642 [==============================] - 0s 230us/step - loss: 0.0115 - val_loss: 0.0345\n",
            "Epoch 103/200\n",
            "642/642 [==============================] - 0s 226us/step - loss: 0.0113 - val_loss: 0.0383\n",
            "Epoch 104/200\n",
            "642/642 [==============================] - 0s 272us/step - loss: 0.0111 - val_loss: 0.0489\n",
            "Epoch 105/200\n",
            "642/642 [==============================] - 0s 232us/step - loss: 0.0111 - val_loss: 0.0308\n",
            "Epoch 106/200\n",
            "642/642 [==============================] - 0s 245us/step - loss: 0.0109 - val_loss: 0.0267\n",
            "Epoch 107/200\n",
            "642/642 [==============================] - 0s 290us/step - loss: 0.0106 - val_loss: 0.0357\n",
            "Epoch 108/200\n",
            "642/642 [==============================] - 0s 237us/step - loss: 0.0105 - val_loss: 0.0336\n",
            "Epoch 109/200\n",
            "642/642 [==============================] - 0s 219us/step - loss: 0.0103 - val_loss: 0.0291\n",
            "Epoch 110/200\n",
            "642/642 [==============================] - 0s 233us/step - loss: 0.0102 - val_loss: 0.0347\n",
            "Epoch 111/200\n",
            "642/642 [==============================] - 0s 235us/step - loss: 0.0100 - val_loss: 0.0287\n",
            "Epoch 112/200\n",
            "642/642 [==============================] - 0s 282us/step - loss: 0.0099 - val_loss: 0.0288\n",
            "Epoch 113/200\n",
            "642/642 [==============================] - 0s 237us/step - loss: 0.0098 - val_loss: 0.0319\n",
            "Epoch 114/200\n",
            "642/642 [==============================] - 0s 230us/step - loss: 0.0098 - val_loss: 0.0327\n",
            "Epoch 115/200\n",
            "642/642 [==============================] - 0s 227us/step - loss: 0.0095 - val_loss: 0.0360\n",
            "Epoch 116/200\n",
            "642/642 [==============================] - 0s 264us/step - loss: 0.0092 - val_loss: 0.0292\n",
            "Epoch 117/200\n",
            "642/642 [==============================] - 0s 286us/step - loss: 0.0092 - val_loss: 0.0392\n",
            "Epoch 118/200\n",
            "642/642 [==============================] - 0s 243us/step - loss: 0.0090 - val_loss: 0.0314\n",
            "Epoch 119/200\n",
            "642/642 [==============================] - 0s 221us/step - loss: 0.0088 - val_loss: 0.0291\n",
            "Epoch 120/200\n",
            "642/642 [==============================] - 0s 245us/step - loss: 0.0087 - val_loss: 0.0321\n",
            "Epoch 121/200\n",
            "642/642 [==============================] - 0s 234us/step - loss: 0.0086 - val_loss: 0.0321\n",
            "Epoch 122/200\n",
            "642/642 [==============================] - 0s 253us/step - loss: 0.0084 - val_loss: 0.0262\n",
            "Epoch 123/200\n",
            "642/642 [==============================] - 0s 245us/step - loss: 0.0084 - val_loss: 0.0257\n",
            "Epoch 124/200\n",
            "642/642 [==============================] - 0s 233us/step - loss: 0.0083 - val_loss: 0.0250\n",
            "Epoch 125/200\n",
            "642/642 [==============================] - 0s 229us/step - loss: 0.0081 - val_loss: 0.0234\n",
            "Epoch 126/200\n",
            "642/642 [==============================] - 0s 230us/step - loss: 0.0081 - val_loss: 0.0282\n",
            "Epoch 127/200\n",
            "642/642 [==============================] - 0s 242us/step - loss: 0.0078 - val_loss: 0.0278\n",
            "Epoch 128/200\n",
            "642/642 [==============================] - 0s 223us/step - loss: 0.0078 - val_loss: 0.0261\n",
            "Epoch 129/200\n",
            "642/642 [==============================] - 0s 264us/step - loss: 0.0076 - val_loss: 0.0237\n",
            "Epoch 130/200\n",
            "642/642 [==============================] - 0s 221us/step - loss: 0.0075 - val_loss: 0.0196\n",
            "Epoch 131/200\n",
            "642/642 [==============================] - 0s 252us/step - loss: 0.0076 - val_loss: 0.0249\n",
            "Epoch 132/200\n",
            "642/642 [==============================] - 0s 236us/step - loss: 0.0073 - val_loss: 0.0269\n",
            "Epoch 133/200\n",
            "642/642 [==============================] - 0s 249us/step - loss: 0.0072 - val_loss: 0.0360\n",
            "Epoch 134/200\n",
            "642/642 [==============================] - 0s 220us/step - loss: 0.0073 - val_loss: 0.0239\n",
            "Epoch 135/200\n",
            "642/642 [==============================] - 0s 236us/step - loss: 0.0071 - val_loss: 0.0270\n",
            "Epoch 136/200\n",
            "642/642 [==============================] - 0s 232us/step - loss: 0.0069 - val_loss: 0.0323\n",
            "Epoch 137/200\n",
            "642/642 [==============================] - 0s 239us/step - loss: 0.0069 - val_loss: 0.0249\n",
            "Epoch 138/200\n",
            "642/642 [==============================] - 0s 239us/step - loss: 0.0067 - val_loss: 0.0181\n",
            "Epoch 139/200\n",
            "642/642 [==============================] - 0s 226us/step - loss: 0.0068 - val_loss: 0.0169\n",
            "Epoch 140/200\n",
            "642/642 [==============================] - 0s 246us/step - loss: 0.0064 - val_loss: 0.0262\n",
            "Epoch 141/200\n",
            "642/642 [==============================] - 0s 230us/step - loss: 0.0065 - val_loss: 0.0251\n",
            "Epoch 142/200\n",
            "642/642 [==============================] - 0s 226us/step - loss: 0.0063 - val_loss: 0.0239\n",
            "Epoch 143/200\n",
            "642/642 [==============================] - 0s 258us/step - loss: 0.0062 - val_loss: 0.0201\n",
            "Epoch 144/200\n",
            "642/642 [==============================] - 0s 227us/step - loss: 0.0061 - val_loss: 0.0223\n",
            "Epoch 145/200\n",
            "642/642 [==============================] - 0s 236us/step - loss: 0.0060 - val_loss: 0.0288\n",
            "Epoch 146/200\n",
            "642/642 [==============================] - 0s 295us/step - loss: 0.0060 - val_loss: 0.0237\n",
            "Epoch 147/200\n",
            "642/642 [==============================] - 0s 223us/step - loss: 0.0059 - val_loss: 0.0233\n",
            "Epoch 148/200\n",
            "642/642 [==============================] - 0s 228us/step - loss: 0.0058 - val_loss: 0.0192\n",
            "Epoch 149/200\n",
            "642/642 [==============================] - 0s 225us/step - loss: 0.0057 - val_loss: 0.0161\n",
            "Epoch 150/200\n",
            "642/642 [==============================] - 0s 258us/step - loss: 0.0056 - val_loss: 0.0255\n",
            "Epoch 151/200\n",
            "642/642 [==============================] - 0s 250us/step - loss: 0.0056 - val_loss: 0.0269\n",
            "Epoch 152/200\n",
            "642/642 [==============================] - 0s 247us/step - loss: 0.0055 - val_loss: 0.0276\n",
            "Epoch 153/200\n",
            "642/642 [==============================] - 0s 258us/step - loss: 0.0055 - val_loss: 0.0209\n",
            "Epoch 154/200\n",
            "642/642 [==============================] - 0s 218us/step - loss: 0.0054 - val_loss: 0.0204\n",
            "Epoch 155/200\n",
            "642/642 [==============================] - 0s 229us/step - loss: 0.0053 - val_loss: 0.0181\n",
            "Epoch 156/200\n",
            "642/642 [==============================] - 0s 224us/step - loss: 0.0052 - val_loss: 0.0173\n",
            "Epoch 157/200\n",
            "642/642 [==============================] - 0s 228us/step - loss: 0.0051 - val_loss: 0.0213\n",
            "Epoch 158/200\n",
            "642/642 [==============================] - 0s 240us/step - loss: 0.0051 - val_loss: 0.0174\n",
            "Epoch 159/200\n",
            "642/642 [==============================] - 0s 230us/step - loss: 0.0050 - val_loss: 0.0148\n",
            "Epoch 160/200\n",
            "642/642 [==============================] - 0s 246us/step - loss: 0.0049 - val_loss: 0.0151\n",
            "Epoch 161/200\n",
            "642/642 [==============================] - 0s 240us/step - loss: 0.0048 - val_loss: 0.0177\n",
            "Epoch 162/200\n",
            "642/642 [==============================] - 0s 256us/step - loss: 0.0048 - val_loss: 0.0161\n",
            "Epoch 163/200\n",
            "642/642 [==============================] - 0s 237us/step - loss: 0.0047 - val_loss: 0.0162\n",
            "Epoch 164/200\n",
            "642/642 [==============================] - 0s 236us/step - loss: 0.0047 - val_loss: 0.0197\n",
            "Epoch 165/200\n",
            "642/642 [==============================] - 0s 229us/step - loss: 0.0046 - val_loss: 0.0182\n",
            "Epoch 166/200\n",
            "642/642 [==============================] - 0s 291us/step - loss: 0.0045 - val_loss: 0.0153\n",
            "Epoch 167/200\n",
            "642/642 [==============================] - 0s 260us/step - loss: 0.0045 - val_loss: 0.0140\n",
            "Epoch 168/200\n",
            "642/642 [==============================] - 0s 293us/step - loss: 0.0044 - val_loss: 0.0168\n",
            "Epoch 169/200\n",
            "642/642 [==============================] - 0s 243us/step - loss: 0.0044 - val_loss: 0.0123\n",
            "Epoch 170/200\n",
            "642/642 [==============================] - 0s 280us/step - loss: 0.0043 - val_loss: 0.0164\n",
            "Epoch 171/200\n",
            "642/642 [==============================] - 0s 247us/step - loss: 0.0043 - val_loss: 0.0146\n",
            "Epoch 172/200\n",
            "642/642 [==============================] - 0s 229us/step - loss: 0.0042 - val_loss: 0.0168\n",
            "Epoch 173/200\n",
            "642/642 [==============================] - 0s 235us/step - loss: 0.0042 - val_loss: 0.0169\n",
            "Epoch 174/200\n",
            "642/642 [==============================] - 0s 236us/step - loss: 0.0041 - val_loss: 0.0178\n",
            "Epoch 175/200\n",
            "642/642 [==============================] - 0s 238us/step - loss: 0.0041 - val_loss: 0.0204\n",
            "Epoch 176/200\n",
            "642/642 [==============================] - 0s 243us/step - loss: 0.0040 - val_loss: 0.0182\n",
            "Epoch 177/200\n",
            "642/642 [==============================] - 0s 232us/step - loss: 0.0039 - val_loss: 0.0140\n",
            "Epoch 178/200\n",
            "642/642 [==============================] - 0s 237us/step - loss: 0.0039 - val_loss: 0.0160\n",
            "Epoch 179/200\n",
            "642/642 [==============================] - 0s 254us/step - loss: 0.0039 - val_loss: 0.0167\n",
            "Epoch 180/200\n",
            "642/642 [==============================] - 0s 227us/step - loss: 0.0039 - val_loss: 0.0229\n",
            "Epoch 181/200\n",
            "642/642 [==============================] - 0s 240us/step - loss: 0.0040 - val_loss: 0.0165\n",
            "Epoch 182/200\n",
            "642/642 [==============================] - 0s 233us/step - loss: 0.0038 - val_loss: 0.0158\n",
            "Epoch 183/200\n",
            "642/642 [==============================] - 0s 224us/step - loss: 0.0037 - val_loss: 0.0139\n",
            "Epoch 184/200\n",
            "642/642 [==============================] - 0s 223us/step - loss: 0.0038 - val_loss: 0.0145\n",
            "Epoch 185/200\n",
            "642/642 [==============================] - 0s 220us/step - loss: 0.0036 - val_loss: 0.0112\n",
            "Epoch 186/200\n",
            "642/642 [==============================] - 0s 245us/step - loss: 0.0036 - val_loss: 0.0120\n",
            "Epoch 187/200\n",
            "642/642 [==============================] - 0s 235us/step - loss: 0.0036 - val_loss: 0.0134\n",
            "Epoch 188/200\n",
            "642/642 [==============================] - 0s 257us/step - loss: 0.0036 - val_loss: 0.0142\n",
            "Epoch 189/200\n",
            "642/642 [==============================] - 0s 265us/step - loss: 0.0036 - val_loss: 0.0128\n",
            "Epoch 190/200\n",
            "642/642 [==============================] - 0s 286us/step - loss: 0.0035 - val_loss: 0.0127\n",
            "Epoch 191/200\n",
            "642/642 [==============================] - 0s 284us/step - loss: 0.0034 - val_loss: 0.0183\n",
            "Epoch 192/200\n",
            "642/642 [==============================] - 0s 309us/step - loss: 0.0034 - val_loss: 0.0124\n",
            "Epoch 193/200\n",
            "642/642 [==============================] - 0s 285us/step - loss: 0.0034 - val_loss: 0.0150\n",
            "Epoch 194/200\n",
            "642/642 [==============================] - 0s 234us/step - loss: 0.0034 - val_loss: 0.0128\n",
            "Epoch 195/200\n",
            "642/642 [==============================] - 0s 239us/step - loss: 0.0033 - val_loss: 0.0159\n",
            "Epoch 196/200\n",
            "642/642 [==============================] - 0s 232us/step - loss: 0.0033 - val_loss: 0.0124\n",
            "Epoch 197/200\n",
            "642/642 [==============================] - 0s 228us/step - loss: 0.0033 - val_loss: 0.0175\n",
            "Epoch 198/200\n",
            "642/642 [==============================] - 0s 238us/step - loss: 0.0033 - val_loss: 0.0124\n",
            "Epoch 199/200\n",
            "642/642 [==============================] - 0s 225us/step - loss: 0.0032 - val_loss: 0.0105\n",
            "Epoch 200/200\n",
            "642/642 [==============================] - 0s 235us/step - loss: 0.0032 - val_loss: 0.0110\n"
          ],
          "name": "stdout"
        },
        {
          "output_type": "display_data",
          "data": {
            "image/png": "[encoded data removed]",
            "text/plain": [
              "<Figure size 432x288 with 1 Axes>"
            ]
          },
          "metadata": {
            "tags": []
          }
        }
      ]
    },
    {
      "cell_type": "markdown",
      "metadata": {
        "id": "05eM30wirdBN",
        "colab_type": "text"
      },
      "source": [
        "#Визуализация результатов"
      ]
    },
    {
      "cell_type": "markdown",
      "metadata": {
        "id": "9OahU9mn1QOB",
        "colab_type": "text"
      },
      "source": [
        "*Разбор данного раздела:* https://youtu.be/1BV1I59HwB4?t=5451"
      ]
    },
    {
      "cell_type": "code",
      "metadata": {
        "id": "36_9seQFaWkP",
        "colab_type": "code",
        "colab": {}
      },
      "source": [
        "#Функция рассчитываем результаты прогнозирования сети\n",
        "#В аргументы принимает сеть (currModel) и проверочную выборку\n",
        "#Выдаёт результаты предсказания predVal\n",
        "#И правильные ответы в исходной размерности yValUnscaled (какими они были до нормирования)\n",
        "def getPred(currModel, xVal, yVal, yScaler):\n",
        "  predVal = yScaler.inverse_transform(currModel.predict(xVal))\n",
        "  yValUnscaled = yScaler.inverse_transform(yVal)\n",
        "  \n",
        "  return (predVal, yValUnscaled)\n",
        "\n",
        "#Функция визуализирует графики, что предсказала сеть и какие были правильные ответы\n",
        "#start - точка с которой начинаем отрисовку графика\n",
        "#step - длина графика, которую отрисовываем\n",
        "#channel - какой канал отрисовываем\n",
        "def showPredict(start, step, channel, predVal, yValUnscaled):\n",
        "  plt.plot(predVal[start:start+step, channel], \n",
        "           label='Прогноз')\n",
        "  plt.plot(yValUnscaled[start:start+step, channel], \n",
        "           label='Базовый ряд')\n",
        "  plt.xlabel('Время')\n",
        "  plt.ylabel('Значение Close')\n",
        "  plt.legend()\n",
        "  plt.show()\n",
        "  \n",
        "#Функция расчёта корреляции дух одномерных векторов\n",
        "def correlate(a, b):\n",
        "  ma = a.mean()\n",
        "  mb = b.mean()\n",
        "  mab = (a*b).mean()\n",
        "  sa = a.std()\n",
        "  sb = b.std()\n",
        "  \n",
        "  val = 0\n",
        "  if ((sa>0) & (sb>0)):\n",
        "    val = (mab-ma*mb)/(sa*sb)\n",
        "  return val\n",
        "\n",
        "#Функция рисуем корреляцию прогнозированного сигнала с правильным\n",
        "#Смещая на различное количество шагов назад\n",
        "#Для проверки появления эффекта автокорреляции\n",
        "#channels - по каким каналам отображать корреляцию\n",
        "#corrSteps - на какое количество шагов смещать сигнал назад для рассчёта корреляции\n",
        "def showCorr(channels, corrSteps, predVal, yValUnscaled):\n",
        "  for ch in channels:\n",
        "    corr = []\n",
        "    yLen = yValUnscaled.shape[0]\n",
        "\n",
        "    for i in range(corrSteps):\n",
        "      corr.append(correlate(yValUnscaled[:yLen-i,ch], predVal[i:, ch]))\n",
        "\n",
        "    plt.plot(corr, \n",
        "               label='предсказание на ' + str(ch+1) + ' шаг')\n",
        "\n",
        "  plt.xlabel('Время')\n",
        "  plt.ylabel('Значение')\n",
        "  plt.legend()\n",
        "  plt.show()"
      ],
      "execution_count": 0,
      "outputs": []
    },
    {
      "cell_type": "code",
      "metadata": {
        "id": "PHmpY5Qxfnrv",
        "colab_type": "code",
        "colab": {}
      },
      "source": [
        "#Прогнозируем данные текущей сетью\n",
        "currModel = modelD\n",
        "(predVal, yValUnscaled) = getPred(currModel, xVal, yVal, yScaler)"
      ],
      "execution_count": 0,
      "outputs": []
    },
    {
      "cell_type": "code",
      "metadata": {
        "id": "HXKTSNYIa-2A",
        "colab_type": "code",
        "outputId": "7fa5a619-bd3d-4308-d98c-d02adc750f7f",
        "colab": {
          "base_uri": "https://localhost:8080/",
          "height": 279
        }
      },
      "source": [
        "#Отображаем графики\n",
        "showPredict(0, 4000, 0, predVal, yValUnscaled)"
      ],
      "execution_count": 0,
      "outputs": [
        {
          "output_type": "display_data",
          "data": {
            "image/png": "[encoded data removed]",
            "text/plain": [
              "<Figure size 432x288 with 1 Axes>"
            ]
          },
          "metadata": {
            "tags": []
          }
        }
      ]
    },
    {
      "cell_type": "code",
      "metadata": {
        "id": "biFN45Imgp8m",
        "colab_type": "code",
        "outputId": "cf9887ac-bf68-4a60-a42a-1337dc534550",
        "colab": {
          "base_uri": "https://localhost:8080/",
          "height": 279
        }
      },
      "source": [
        "#Отображаем корреляцию\n",
        "showCorr([0], 10, predVal, yValUnscaled)"
      ],
      "execution_count": 0,
      "outputs": [
        {
          "output_type": "display_data",
          "data": {
            "image/png": "[encoded data removed]",
            "text/plain": [
              "<Figure size 432x288 with 1 Axes>"
            ]
          },
          "metadata": {
            "tags": []
          }
        }
      ]
    },
    {
      "cell_type": "markdown",
      "metadata": {
        "id": "8yi0jvoDkfqG",
        "colab_type": "text"
      },
      "source": [
        "#Одномерная свёртка"
      ]
    },
    {
      "cell_type": "markdown",
      "metadata": {
        "id": "axZorMQp2E_p",
        "colab_type": "text"
      },
      "source": [
        "*Разбор данного раздела:* https://youtu.be/1BV1I59HwB4?t=5556"
      ]
    },
    {
      "cell_type": "code",
      "metadata": {
        "id": "b3MmYBWYb_0P",
        "colab_type": "code",
        "outputId": "2586e472-2acf-469f-8122-900d05bacf32",
        "colab": {
          "base_uri": "https://localhost:8080/",
          "height": 91
        }
      },
      "source": [
        "#Формируем параметры загрузки данных\n",
        "xLen = 20\n",
        "stepsForward = 0\n",
        "xChannels = range(data.shape[1])\n",
        "yChannels = [0]\n",
        "xNormalization = 0\n",
        "yNormalization = 0\n",
        "valLen = 100\n",
        "returnFlatten = 0\n",
        "convertToDerivative = 0\n",
        "\n",
        "#Загружаем данные\n",
        "(xTrain, yTrain), (xVal, yVal), (xScaler, yScaler) = getXTrainFromTimeSeries(data, xLen, xChannels, yChannels, stepsForward, xNormalization, yNormalization, returnFlatten, valLen, convertToDerivative)\n",
        "\n",
        "#Выводим размеры данных для проверки\n",
        "print(xTrain.shape)\n",
        "print(yTrain.shape)\n",
        "print(xVal.shape)\n",
        "print(yVal.shape)"
      ],
      "execution_count": 0,
      "outputs": [
        {
          "output_type": "stream",
          "text": [
            "(642, 20, 6)\n",
            "(642, 1)\n",
            "(100, 20, 6)\n",
            "(100, 1)\n"
          ],
          "name": "stdout"
        }
      ]
    },
    {
      "cell_type": "code",
      "metadata": {
        "id": "rhgtw2aekfE9",
        "colab_type": "code",
        "outputId": "c9dcdf11-e167-4cd2-c132-73dc70bd3157",
        "colab": {
          "base_uri": "https://localhost:8080/",
          "height": 1000
        }
      },
      "source": [
        "modelC = Sequential()\n",
        "\n",
        "modelC.add(Conv1D(50, 10, padding=\"same\", input_shape = (xTrain.shape[1], xTrain.shape[2]), activation=\"linear\"))\n",
        "modelC.add(Conv1D(100, 10, padding=\"same\", activation=\"linear\"))\n",
        "modelC.add(Conv1D(100, 10, padding=\"same\", activation=\"linear\"))\n",
        "modelC.add(Flatten())\n",
        "modelC.add(Dense(10, activation=\"linear\"))\n",
        "modelC.add(Dense(yTrain.shape[1], activation=\"linear\"))\n",
        "\n",
        "modelC.compile(loss=\"mse\", optimizer=Adam(lr=1e-5))\n",
        "\n",
        "history = modelC.fit(xTrain, \n",
        "                    yTrain, \n",
        "                    epochs=80, \n",
        "                    batch_size=20, \n",
        "                    verbose=1,\n",
        "                    validation_data=(xVal, yVal))\n",
        "\n",
        "plt.plot(history.history['loss'], \n",
        "         label='Средняя абсолютная ошибка на обучающем наборе')\n",
        "plt.plot(history.history['val_loss'], \n",
        "         label='Средняя абсолютная ошибка на проверочном наборе')\n",
        "plt.ylabel('Средняя ошибка')\n",
        "plt.legend()\n",
        "plt.show()"
      ],
      "execution_count": 0,
      "outputs": [
        {
          "output_type": "stream",
          "text": [
            "Train on 642 samples, validate on 100 samples\n",
            "Epoch 1/80\n",
            "642/642 [==============================] - 1s 2ms/step - loss: 0.0329 - val_loss: 0.0640\n",
            "Epoch 2/80\n",
            "642/642 [==============================] - 0s 231us/step - loss: 0.0193 - val_loss: 0.0227\n",
            "Epoch 3/80\n",
            "642/642 [==============================] - 0s 230us/step - loss: 0.0143 - val_loss: 0.0209\n",
            "Epoch 4/80\n",
            "642/642 [==============================] - 0s 236us/step - loss: 0.0112 - val_loss: 0.0178\n",
            "Epoch 5/80\n",
            "642/642 [==============================] - 0s 227us/step - loss: 0.0090 - val_loss: 0.0158\n",
            "Epoch 6/80\n",
            "642/642 [==============================] - 0s 225us/step - loss: 0.0087 - val_loss: 0.0200\n",
            "Epoch 7/80\n",
            "642/642 [==============================] - 0s 237us/step - loss: 0.0064 - val_loss: 0.0161\n",
            "Epoch 8/80\n",
            "642/642 [==============================] - 0s 239us/step - loss: 0.0054 - val_loss: 0.0112\n",
            "Epoch 9/80\n",
            "642/642 [==============================] - 0s 225us/step - loss: 0.0047 - val_loss: 0.0131\n",
            "Epoch 10/80\n",
            "642/642 [==============================] - 0s 225us/step - loss: 0.0044 - val_loss: 0.0107\n",
            "Epoch 11/80\n",
            "642/642 [==============================] - 0s 235us/step - loss: 0.0040 - val_loss: 0.0101\n",
            "Epoch 12/80\n",
            "642/642 [==============================] - 0s 226us/step - loss: 0.0037 - val_loss: 0.0128\n",
            "Epoch 13/80\n",
            "642/642 [==============================] - 0s 222us/step - loss: 0.0036 - val_loss: 0.0124\n",
            "Epoch 14/80\n",
            "642/642 [==============================] - 0s 244us/step - loss: 0.0035 - val_loss: 0.0059\n",
            "Epoch 15/80\n",
            "642/642 [==============================] - 0s 226us/step - loss: 0.0033 - val_loss: 0.0083\n",
            "Epoch 16/80\n",
            "642/642 [==============================] - 0s 236us/step - loss: 0.0031 - val_loss: 0.0134\n",
            "Epoch 17/80\n",
            "642/642 [==============================] - 0s 222us/step - loss: 0.0030 - val_loss: 0.0074\n",
            "Epoch 18/80\n",
            "642/642 [==============================] - 0s 219us/step - loss: 0.0028 - val_loss: 0.0085\n",
            "Epoch 19/80\n",
            "642/642 [==============================] - 0s 228us/step - loss: 0.0028 - val_loss: 0.0113\n",
            "Epoch 20/80\n",
            "642/642 [==============================] - 0s 235us/step - loss: 0.0028 - val_loss: 0.0069\n",
            "Epoch 21/80\n",
            "642/642 [==============================] - 0s 247us/step - loss: 0.0026 - val_loss: 0.0052\n",
            "Epoch 22/80\n",
            "642/642 [==============================] - 0s 232us/step - loss: 0.0026 - val_loss: 0.0095\n",
            "Epoch 23/80\n",
            "642/642 [==============================] - 0s 246us/step - loss: 0.0028 - val_loss: 0.0100\n",
            "Epoch 24/80\n",
            "642/642 [==============================] - 0s 235us/step - loss: 0.0028 - val_loss: 0.0098\n",
            "Epoch 25/80\n",
            "642/642 [==============================] - 0s 233us/step - loss: 0.0025 - val_loss: 0.0104\n",
            "Epoch 26/80\n",
            "642/642 [==============================] - 0s 226us/step - loss: 0.0026 - val_loss: 0.0104\n",
            "Epoch 27/80\n",
            "642/642 [==============================] - 0s 248us/step - loss: 0.0024 - val_loss: 0.0061\n",
            "Epoch 28/80\n",
            "642/642 [==============================] - 0s 239us/step - loss: 0.0024 - val_loss: 0.0108\n",
            "Epoch 29/80\n",
            "642/642 [==============================] - 0s 230us/step - loss: 0.0023 - val_loss: 0.0109\n",
            "Epoch 30/80\n",
            "642/642 [==============================] - 0s 232us/step - loss: 0.0025 - val_loss: 0.0087\n",
            "Epoch 31/80\n",
            "642/642 [==============================] - 0s 218us/step - loss: 0.0026 - val_loss: 0.0052\n",
            "Epoch 32/80\n",
            "642/642 [==============================] - 0s 233us/step - loss: 0.0026 - val_loss: 0.0104\n",
            "Epoch 33/80\n",
            "642/642 [==============================] - 0s 231us/step - loss: 0.0024 - val_loss: 0.0081\n",
            "Epoch 34/80\n",
            "642/642 [==============================] - 0s 243us/step - loss: 0.0022 - val_loss: 0.0110\n",
            "Epoch 35/80\n",
            "642/642 [==============================] - 0s 222us/step - loss: 0.0024 - val_loss: 0.0126\n",
            "Epoch 36/80\n",
            "642/642 [==============================] - 0s 229us/step - loss: 0.0022 - val_loss: 0.0069\n",
            "Epoch 37/80\n",
            "642/642 [==============================] - 0s 235us/step - loss: 0.0021 - val_loss: 0.0077\n",
            "Epoch 38/80\n",
            "642/642 [==============================] - 0s 231us/step - loss: 0.0021 - val_loss: 0.0051\n",
            "Epoch 39/80\n",
            "642/642 [==============================] - 0s 228us/step - loss: 0.0022 - val_loss: 0.0058\n",
            "Epoch 40/80\n",
            "642/642 [==============================] - 0s 232us/step - loss: 0.0022 - val_loss: 0.0064\n",
            "Epoch 41/80\n",
            "642/642 [==============================] - 0s 245us/step - loss: 0.0022 - val_loss: 0.0079\n",
            "Epoch 42/80\n",
            "642/642 [==============================] - 0s 224us/step - loss: 0.0021 - val_loss: 0.0145\n",
            "Epoch 43/80\n",
            "642/642 [==============================] - 0s 231us/step - loss: 0.0031 - val_loss: 0.0064\n",
            "Epoch 44/80\n",
            "642/642 [==============================] - 0s 227us/step - loss: 0.0021 - val_loss: 0.0060\n",
            "Epoch 45/80\n",
            "642/642 [==============================] - 0s 221us/step - loss: 0.0020 - val_loss: 0.0091\n",
            "Epoch 46/80\n",
            "642/642 [==============================] - 0s 232us/step - loss: 0.0020 - val_loss: 0.0105\n",
            "Epoch 47/80\n",
            "642/642 [==============================] - 0s 233us/step - loss: 0.0021 - val_loss: 0.0050\n",
            "Epoch 48/80\n",
            "642/642 [==============================] - 0s 248us/step - loss: 0.0020 - val_loss: 0.0081\n",
            "Epoch 49/80\n",
            "642/642 [==============================] - 0s 263us/step - loss: 0.0021 - val_loss: 0.0048\n",
            "Epoch 50/80\n",
            "642/642 [==============================] - 0s 242us/step - loss: 0.0019 - val_loss: 0.0048\n",
            "Epoch 51/80\n",
            "642/642 [==============================] - 0s 220us/step - loss: 0.0019 - val_loss: 0.0051\n",
            "Epoch 52/80\n",
            "642/642 [==============================] - 0s 222us/step - loss: 0.0021 - val_loss: 0.0241\n",
            "Epoch 53/80\n",
            "642/642 [==============================] - 0s 232us/step - loss: 0.0021 - val_loss: 0.0054\n",
            "Epoch 54/80\n",
            "642/642 [==============================] - 0s 230us/step - loss: 0.0020 - val_loss: 0.0065\n",
            "Epoch 55/80\n",
            "642/642 [==============================] - 0s 232us/step - loss: 0.0019 - val_loss: 0.0046\n",
            "Epoch 56/80\n",
            "642/642 [==============================] - 0s 238us/step - loss: 0.0019 - val_loss: 0.0061\n",
            "Epoch 57/80\n",
            "642/642 [==============================] - 0s 225us/step - loss: 0.0021 - val_loss: 0.0075\n",
            "Epoch 58/80\n",
            "642/642 [==============================] - 0s 232us/step - loss: 0.0018 - val_loss: 0.0057\n",
            "Epoch 59/80\n",
            "642/642 [==============================] - 0s 224us/step - loss: 0.0019 - val_loss: 0.0053\n",
            "Epoch 60/80\n",
            "642/642 [==============================] - 0s 238us/step - loss: 0.0019 - val_loss: 0.0066\n",
            "Epoch 61/80\n",
            "642/642 [==============================] - 0s 229us/step - loss: 0.0019 - val_loss: 0.0049\n",
            "Epoch 62/80\n",
            "642/642 [==============================] - 0s 228us/step - loss: 0.0020 - val_loss: 0.0060\n",
            "Epoch 63/80\n",
            "642/642 [==============================] - 0s 221us/step - loss: 0.0021 - val_loss: 0.0053\n",
            "Epoch 64/80\n",
            "642/642 [==============================] - 0s 231us/step - loss: 0.0021 - val_loss: 0.0057\n",
            "Epoch 65/80\n",
            "642/642 [==============================] - 0s 228us/step - loss: 0.0018 - val_loss: 0.0049\n",
            "Epoch 66/80\n",
            "642/642 [==============================] - 0s 229us/step - loss: 0.0020 - val_loss: 0.0058\n",
            "Epoch 67/80\n",
            "642/642 [==============================] - 0s 239us/step - loss: 0.0018 - val_loss: 0.0113\n",
            "Epoch 68/80\n",
            "642/642 [==============================] - 0s 236us/step - loss: 0.0020 - val_loss: 0.0057\n",
            "Epoch 69/80\n",
            "642/642 [==============================] - 0s 226us/step - loss: 0.0019 - val_loss: 0.0052\n",
            "Epoch 70/80\n",
            "642/642 [==============================] - 0s 235us/step - loss: 0.0018 - val_loss: 0.0051\n",
            "Epoch 71/80\n",
            "642/642 [==============================] - 0s 231us/step - loss: 0.0018 - val_loss: 0.0061\n",
            "Epoch 72/80\n",
            "642/642 [==============================] - 0s 227us/step - loss: 0.0018 - val_loss: 0.0048\n",
            "Epoch 73/80\n",
            "642/642 [==============================] - 0s 234us/step - loss: 0.0019 - val_loss: 0.0064\n",
            "Epoch 74/80\n",
            "642/642 [==============================] - 0s 236us/step - loss: 0.0018 - val_loss: 0.0047\n",
            "Epoch 75/80\n",
            "642/642 [==============================] - 0s 244us/step - loss: 0.0017 - val_loss: 0.0050\n",
            "Epoch 76/80\n",
            "642/642 [==============================] - 0s 242us/step - loss: 0.0018 - val_loss: 0.0056\n",
            "Epoch 77/80\n",
            "642/642 [==============================] - 0s 230us/step - loss: 0.0017 - val_loss: 0.0054\n",
            "Epoch 78/80\n",
            "642/642 [==============================] - 0s 236us/step - loss: 0.0018 - val_loss: 0.0081\n",
            "Epoch 79/80\n",
            "642/642 [==============================] - 0s 232us/step - loss: 0.0019 - val_loss: 0.0049\n",
            "Epoch 80/80\n",
            "642/642 [==============================] - 0s 241us/step - loss: 0.0019 - val_loss: 0.0081\n"
          ],
          "name": "stdout"
        },
        {
          "output_type": "display_data",
          "data": {
            "image/png": "[encoded data removed]",
            "text/plain": [
              "<Figure size 432x288 with 1 Axes>"
            ]
          },
          "metadata": {
            "tags": []
          }
        }
      ]
    },
    {
      "cell_type": "code",
      "metadata": {
        "id": "huQC6Erwfyzy",
        "colab_type": "code",
        "colab": {}
      },
      "source": [
        "#Прогнозируем данные текущей сетью\n",
        "currModel = modelC\n",
        "(predVal, yValUnscaled) = getPred(currModel, xVal, yVal, yScaler)"
      ],
      "execution_count": 0,
      "outputs": []
    },
    {
      "cell_type": "code",
      "metadata": {
        "id": "fQzjGdKgf_0M",
        "colab_type": "code",
        "outputId": "86b55ebb-1ade-41f1-ad22-8f75bc08660c",
        "colab": {
          "base_uri": "https://localhost:8080/",
          "height": 283
        }
      },
      "source": [
        "#Отображаем графики\n",
        "showPredict(0, 4000, 0, predVal, yValUnscaled)"
      ],
      "execution_count": 0,
      "outputs": [
        {
          "output_type": "display_data",
          "data": {
            "image/png": "[encoded data removed]",
            "text/plain": [
              "<Figure size 432x288 with 1 Axes>"
            ]
          },
          "metadata": {
            "tags": []
          }
        }
      ]
    },
    {
      "cell_type": "code",
      "metadata": {
        "id": "5eNOLRICgBEL",
        "colab_type": "code",
        "outputId": "dc4ba584-1785-48af-db99-5eb97c774225",
        "colab": {
          "base_uri": "https://localhost:8080/",
          "height": 283
        }
      },
      "source": [
        "#Отображаем корреляцию\n",
        "showCorr([0], 10, predVal, yValUnscaled)"
      ],
      "execution_count": 0,
      "outputs": [
        {
          "output_type": "display_data",
          "data": {
            "image/png": "[encoded data removed]",
            "text/plain": [
              "<Figure size 432x288 with 1 Axes>"
            ]
          },
          "metadata": {
            "tags": []
          }
        }
      ]
    },
    {
      "cell_type": "markdown",
      "metadata": {
        "id": "rO4VX3LWlhtb",
        "colab_type": "text"
      },
      "source": [
        "#LSTM"
      ]
    },
    {
      "cell_type": "markdown",
      "metadata": {
        "id": "WWfLhUII2u2p",
        "colab_type": "text"
      },
      "source": [
        "*Разбор данного раздела:* https://youtu.be/1BV1I59HwB4?t=5629"
      ]
    },
    {
      "cell_type": "code",
      "metadata": {
        "colab_type": "code",
        "id": "rd5ptsKvnl6U",
        "outputId": "b0ccfa24-9911-4580-8262-5f322d5b36d8",
        "colab": {
          "base_uri": "https://localhost:8080/",
          "height": 1000
        }
      },
      "source": [
        "modelL = Sequential()\n",
        "#modelL.add(CuDNNLSTM(100, input_shape = (xTrain.shape[1], xTrain.shape[2])))\n",
        "modelL.add(CuDNNLSTM(100, input_shape = (xTrain.shape[1], xTrain.shape[2]), return_sequences=\"True\"))\n",
        "modelL.add(CuDNNLSTM(100, return_sequences=\"True\"))\n",
        "modelL.add(CuDNNLSTM(100, return_sequences=\"True\"))\n",
        "modelL.add(Flatten())\n",
        "modelL.add(Dense(100, activation=\"linear\"))\n",
        "modelL.add(Dense(yTrain.shape[1], activation=\"linear\"))\n",
        "\n",
        "modelL.compile(loss=\"mse\", optimizer=Adam(lr=1e-5))\n",
        "\n",
        "history = modelL.fit(xTrain, \n",
        "                    yTrain, \n",
        "                    epochs=100, \n",
        "                    batch_size=20, \n",
        "                    verbose=1,\n",
        "                    validation_data=(xVal, yVal))\n",
        "\n",
        "plt.plot(history.history['loss'], \n",
        "         label='Средняя абсолютная ошибка на обучающем наборе')\n",
        "plt.plot(history.history['val_loss'], \n",
        "         label='Средняя абсолютная ошибка на проверочном наборе')\n",
        "plt.ylabel('Средняя ошибка')\n",
        "plt.legend()\n",
        "plt.show()"
      ],
      "execution_count": 0,
      "outputs": [
        {
          "output_type": "stream",
          "text": [
            "Train on 642 samples, validate on 100 samples\n",
            "Epoch 1/100\n",
            "642/642 [==============================] - 2s 3ms/step - loss: 0.3430 - val_loss: 3.2911\n",
            "Epoch 2/100\n",
            "642/642 [==============================] - 0s 520us/step - loss: 0.1780 - val_loss: 2.0630\n",
            "Epoch 3/100\n",
            "642/642 [==============================] - 0s 472us/step - loss: 0.0762 - val_loss: 1.2208\n",
            "Epoch 4/100\n",
            "642/642 [==============================] - 0s 469us/step - loss: 0.0410 - val_loss: 0.8391\n",
            "Epoch 5/100\n",
            "642/642 [==============================] - 0s 493us/step - loss: 0.0306 - val_loss: 0.6507\n",
            "Epoch 6/100\n",
            "642/642 [==============================] - 0s 460us/step - loss: 0.0243 - val_loss: 0.4960\n",
            "Epoch 7/100\n",
            "642/642 [==============================] - 0s 461us/step - loss: 0.0202 - val_loss: 0.3791\n",
            "Epoch 8/100\n",
            "642/642 [==============================] - 0s 469us/step - loss: 0.0180 - val_loss: 0.3030\n",
            "Epoch 9/100\n",
            "642/642 [==============================] - 0s 460us/step - loss: 0.0167 - val_loss: 0.2676\n",
            "Epoch 10/100\n",
            "642/642 [==============================] - 0s 469us/step - loss: 0.0161 - val_loss: 0.2432\n",
            "Epoch 11/100\n",
            "642/642 [==============================] - 0s 473us/step - loss: 0.0156 - val_loss: 0.2316\n",
            "Epoch 12/100\n",
            "642/642 [==============================] - 0s 459us/step - loss: 0.0153 - val_loss: 0.2308\n",
            "Epoch 13/100\n",
            "642/642 [==============================] - 0s 464us/step - loss: 0.0151 - val_loss: 0.2384\n",
            "Epoch 14/100\n",
            "642/642 [==============================] - 0s 467us/step - loss: 0.0148 - val_loss: 0.2391\n",
            "Epoch 15/100\n",
            "642/642 [==============================] - 0s 449us/step - loss: 0.0146 - val_loss: 0.2375\n",
            "Epoch 16/100\n",
            "642/642 [==============================] - 0s 448us/step - loss: 0.0144 - val_loss: 0.2494\n",
            "Epoch 17/100\n",
            "642/642 [==============================] - 0s 476us/step - loss: 0.0142 - val_loss: 0.2601\n",
            "Epoch 18/100\n",
            "642/642 [==============================] - 0s 463us/step - loss: 0.0140 - val_loss: 0.2618\n",
            "Epoch 19/100\n",
            "642/642 [==============================] - 0s 446us/step - loss: 0.0139 - val_loss: 0.2706\n",
            "Epoch 20/100\n",
            "642/642 [==============================] - 0s 448us/step - loss: 0.0137 - val_loss: 0.2825\n",
            "Epoch 21/100\n",
            "642/642 [==============================] - 0s 468us/step - loss: 0.0136 - val_loss: 0.2844\n",
            "Epoch 22/100\n",
            "642/642 [==============================] - 0s 456us/step - loss: 0.0135 - val_loss: 0.2913\n",
            "Epoch 23/100\n",
            "642/642 [==============================] - 0s 451us/step - loss: 0.0133 - val_loss: 0.2828\n",
            "Epoch 24/100\n",
            "642/642 [==============================] - 0s 476us/step - loss: 0.0132 - val_loss: 0.2940\n",
            "Epoch 25/100\n",
            "642/642 [==============================] - 0s 459us/step - loss: 0.0131 - val_loss: 0.2940\n",
            "Epoch 26/100\n",
            "642/642 [==============================] - 0s 440us/step - loss: 0.0131 - val_loss: 0.3014\n",
            "Epoch 27/100\n",
            "642/642 [==============================] - 0s 445us/step - loss: 0.0129 - val_loss: 0.3065\n",
            "Epoch 28/100\n",
            "642/642 [==============================] - 0s 464us/step - loss: 0.0128 - val_loss: 0.2912\n",
            "Epoch 29/100\n",
            "642/642 [==============================] - 0s 469us/step - loss: 0.0128 - val_loss: 0.2920\n",
            "Epoch 30/100\n",
            "642/642 [==============================] - 0s 447us/step - loss: 0.0127 - val_loss: 0.3184\n",
            "Epoch 31/100\n",
            "642/642 [==============================] - 0s 461us/step - loss: 0.0125 - val_loss: 0.2956\n",
            "Epoch 32/100\n",
            "642/642 [==============================] - 0s 450us/step - loss: 0.0123 - val_loss: 0.3193\n",
            "Epoch 33/100\n",
            "642/642 [==============================] - 0s 450us/step - loss: 0.0122 - val_loss: 0.3147\n",
            "Epoch 34/100\n",
            "642/642 [==============================] - 0s 456us/step - loss: 0.0121 - val_loss: 0.3232\n",
            "Epoch 35/100\n",
            "642/642 [==============================] - 0s 459us/step - loss: 0.0120 - val_loss: 0.3134\n",
            "Epoch 36/100\n",
            "642/642 [==============================] - 0s 439us/step - loss: 0.0120 - val_loss: 0.3242\n",
            "Epoch 37/100\n",
            "642/642 [==============================] - 0s 433us/step - loss: 0.0118 - val_loss: 0.3258\n",
            "Epoch 38/100\n",
            "642/642 [==============================] - 0s 478us/step - loss: 0.0118 - val_loss: 0.3359\n",
            "Epoch 39/100\n",
            "642/642 [==============================] - 0s 485us/step - loss: 0.0117 - val_loss: 0.3270\n",
            "Epoch 40/100\n",
            "642/642 [==============================] - 0s 484us/step - loss: 0.0116 - val_loss: 0.3623\n",
            "Epoch 41/100\n",
            "642/642 [==============================] - 0s 474us/step - loss: 0.0114 - val_loss: 0.3307\n",
            "Epoch 42/100\n",
            "642/642 [==============================] - 0s 476us/step - loss: 0.0113 - val_loss: 0.3404\n",
            "Epoch 43/100\n",
            "642/642 [==============================] - 0s 470us/step - loss: 0.0112 - val_loss: 0.3337\n",
            "Epoch 44/100\n",
            "642/642 [==============================] - 0s 458us/step - loss: 0.0111 - val_loss: 0.3531\n",
            "Epoch 45/100\n",
            "642/642 [==============================] - 0s 476us/step - loss: 0.0110 - val_loss: 0.3524\n",
            "Epoch 46/100\n",
            "642/642 [==============================] - 0s 470us/step - loss: 0.0109 - val_loss: 0.3467\n",
            "Epoch 47/100\n",
            "642/642 [==============================] - 0s 452us/step - loss: 0.0109 - val_loss: 0.3477\n",
            "Epoch 48/100\n",
            "642/642 [==============================] - 0s 463us/step - loss: 0.0108 - val_loss: 0.3427\n",
            "Epoch 49/100\n",
            "642/642 [==============================] - 0s 465us/step - loss: 0.0106 - val_loss: 0.3635\n",
            "Epoch 50/100\n",
            "642/642 [==============================] - 0s 467us/step - loss: 0.0107 - val_loss: 0.3458\n",
            "Epoch 51/100\n",
            "642/642 [==============================] - 0s 458us/step - loss: 0.0104 - val_loss: 0.3852\n",
            "Epoch 52/100\n",
            "642/642 [==============================] - 0s 457us/step - loss: 0.0104 - val_loss: 0.3615\n",
            "Epoch 53/100\n",
            "642/642 [==============================] - 0s 447us/step - loss: 0.0102 - val_loss: 0.3713\n",
            "Epoch 54/100\n",
            "642/642 [==============================] - 0s 442us/step - loss: 0.0101 - val_loss: 0.3894\n",
            "Epoch 55/100\n",
            "642/642 [==============================] - 0s 462us/step - loss: 0.0101 - val_loss: 0.3687\n",
            "Epoch 56/100\n",
            "642/642 [==============================] - 0s 446us/step - loss: 0.0100 - val_loss: 0.3881\n",
            "Epoch 57/100\n",
            "642/642 [==============================] - 0s 457us/step - loss: 0.0098 - val_loss: 0.3509\n",
            "Epoch 58/100\n",
            "642/642 [==============================] - 0s 446us/step - loss: 0.0098 - val_loss: 0.3718\n",
            "Epoch 59/100\n",
            "642/642 [==============================] - 0s 461us/step - loss: 0.0097 - val_loss: 0.3604\n",
            "Epoch 60/100\n",
            "642/642 [==============================] - 0s 454us/step - loss: 0.0098 - val_loss: 0.3822\n",
            "Epoch 61/100\n",
            "642/642 [==============================] - 0s 461us/step - loss: 0.0095 - val_loss: 0.3649\n",
            "Epoch 62/100\n",
            "642/642 [==============================] - 0s 484us/step - loss: 0.0094 - val_loss: 0.3717\n",
            "Epoch 63/100\n",
            "642/642 [==============================] - 0s 469us/step - loss: 0.0093 - val_loss: 0.3727\n",
            "Epoch 64/100\n",
            "642/642 [==============================] - 0s 456us/step - loss: 0.0092 - val_loss: 0.3935\n",
            "Epoch 65/100\n",
            "642/642 [==============================] - 0s 466us/step - loss: 0.0092 - val_loss: 0.4098\n",
            "Epoch 66/100\n",
            "642/642 [==============================] - 0s 487us/step - loss: 0.0090 - val_loss: 0.4037\n",
            "Epoch 67/100\n",
            "642/642 [==============================] - 0s 491us/step - loss: 0.0090 - val_loss: 0.3944\n",
            "Epoch 68/100\n",
            "642/642 [==============================] - 0s 505us/step - loss: 0.0089 - val_loss: 0.3869\n",
            "Epoch 69/100\n",
            "642/642 [==============================] - 0s 479us/step - loss: 0.0088 - val_loss: 0.3905\n",
            "Epoch 70/100\n",
            "642/642 [==============================] - 0s 449us/step - loss: 0.0087 - val_loss: 0.4145\n",
            "Epoch 71/100\n",
            "642/642 [==============================] - 0s 448us/step - loss: 0.0087 - val_loss: 0.3977\n",
            "Epoch 72/100\n",
            "642/642 [==============================] - 0s 495us/step - loss: 0.0086 - val_loss: 0.3988\n",
            "Epoch 73/100\n",
            "642/642 [==============================] - 0s 452us/step - loss: 0.0085 - val_loss: 0.4009\n",
            "Epoch 74/100\n",
            "642/642 [==============================] - 0s 459us/step - loss: 0.0085 - val_loss: 0.4123\n",
            "Epoch 75/100\n",
            "642/642 [==============================] - 0s 456us/step - loss: 0.0083 - val_loss: 0.3996\n",
            "Epoch 76/100\n",
            "642/642 [==============================] - 0s 517us/step - loss: 0.0083 - val_loss: 0.4012\n",
            "Epoch 77/100\n",
            "642/642 [==============================] - 0s 452us/step - loss: 0.0083 - val_loss: 0.4314\n",
            "Epoch 78/100\n",
            "642/642 [==============================] - 0s 466us/step - loss: 0.0081 - val_loss: 0.4090\n",
            "Epoch 79/100\n",
            "642/642 [==============================] - 0s 461us/step - loss: 0.0080 - val_loss: 0.4084\n",
            "Epoch 80/100\n",
            "642/642 [==============================] - 0s 472us/step - loss: 0.0080 - val_loss: 0.4151\n",
            "Epoch 81/100\n",
            "642/642 [==============================] - 0s 464us/step - loss: 0.0079 - val_loss: 0.4218\n",
            "Epoch 82/100\n",
            "642/642 [==============================] - 0s 468us/step - loss: 0.0078 - val_loss: 0.4228\n",
            "Epoch 83/100\n",
            "642/642 [==============================] - 0s 482us/step - loss: 0.0079 - val_loss: 0.4447\n",
            "Epoch 84/100\n",
            "642/642 [==============================] - 0s 453us/step - loss: 0.0077 - val_loss: 0.4195\n",
            "Epoch 85/100\n",
            "642/642 [==============================] - 0s 440us/step - loss: 0.0076 - val_loss: 0.4123\n",
            "Epoch 86/100\n",
            "642/642 [==============================] - 0s 472us/step - loss: 0.0076 - val_loss: 0.4144\n",
            "Epoch 87/100\n",
            "642/642 [==============================] - 0s 457us/step - loss: 0.0075 - val_loss: 0.4152\n",
            "Epoch 88/100\n",
            "642/642 [==============================] - 0s 447us/step - loss: 0.0075 - val_loss: 0.4427\n",
            "Epoch 89/100\n",
            "642/642 [==============================] - 0s 477us/step - loss: 0.0075 - val_loss: 0.4537\n",
            "Epoch 90/100\n",
            "642/642 [==============================] - 0s 459us/step - loss: 0.0074 - val_loss: 0.4371\n",
            "Epoch 91/100\n",
            "642/642 [==============================] - 0s 444us/step - loss: 0.0073 - val_loss: 0.4415\n",
            "Epoch 92/100\n",
            "642/642 [==============================] - 0s 456us/step - loss: 0.0073 - val_loss: 0.4115\n",
            "Epoch 93/100\n",
            "642/642 [==============================] - 0s 461us/step - loss: 0.0072 - val_loss: 0.4179\n",
            "Epoch 94/100\n",
            "642/642 [==============================] - 0s 458us/step - loss: 0.0072 - val_loss: 0.4307\n",
            "Epoch 95/100\n",
            "642/642 [==============================] - 0s 443us/step - loss: 0.0071 - val_loss: 0.4211\n",
            "Epoch 96/100\n",
            "642/642 [==============================] - 0s 465us/step - loss: 0.0070 - val_loss: 0.3949\n",
            "Epoch 97/100\n",
            "642/642 [==============================] - 0s 435us/step - loss: 0.0071 - val_loss: 0.4458\n",
            "Epoch 98/100\n",
            "642/642 [==============================] - 0s 463us/step - loss: 0.0069 - val_loss: 0.4175\n",
            "Epoch 99/100\n",
            "642/642 [==============================] - 0s 472us/step - loss: 0.0070 - val_loss: 0.4257\n",
            "Epoch 100/100\n",
            "642/642 [==============================] - 0s 485us/step - loss: 0.0068 - val_loss: 0.4447\n"
          ],
          "name": "stdout"
        },
        {
          "output_type": "display_data",
          "data": {
            "image/png": "[encoded data removed]",
            "text/plain": [
              "<Figure size 432x288 with 1 Axes>"
            ]
          },
          "metadata": {
            "tags": []
          }
        }
      ]
    },
    {
      "cell_type": "code",
      "metadata": {
        "id": "Rayd0IeDgCph",
        "colab_type": "code",
        "colab": {}
      },
      "source": [
        "#Прогнозируем данные текущей сетью\n",
        "currModel = modelL\n",
        "(predVal, yValUnscaled) = getPred(currModel, xVal, yVal, yScaler)"
      ],
      "execution_count": 0,
      "outputs": []
    },
    {
      "cell_type": "code",
      "metadata": {
        "id": "37AaCTVtgEPm",
        "colab_type": "code",
        "outputId": "d9e458e2-675d-4dc0-90e3-7d4efb900a3e",
        "colab": {
          "base_uri": "https://localhost:8080/",
          "height": 283
        }
      },
      "source": [
        "#Отображаем графики\n",
        "showPredict(0, 4000, 0, predVal, yValUnscaled)"
      ],
      "execution_count": 0,
      "outputs": [
        {
          "output_type": "display_data",
          "data": {
            "image/png": "[encoded data removed]",
            "text/plain": [
              "<Figure size 432x288 with 1 Axes>"
            ]
          },
          "metadata": {
            "tags": []
          }
        }
      ]
    },
    {
      "cell_type": "code",
      "metadata": {
        "id": "GZzZXt4JgGC7",
        "colab_type": "code",
        "outputId": "316acd70-ac69-4bb9-eab1-973ce8255e8a",
        "colab": {
          "base_uri": "https://localhost:8080/",
          "height": 283
        }
      },
      "source": [
        "#Отображаем корреляцию\n",
        "showCorr([0], 10, predVal, yValUnscaled)"
      ],
      "execution_count": 0,
      "outputs": [
        {
          "output_type": "display_data",
          "data": {
            "image/png": "[encoded data removed]",
            "text/plain": [
              "<Figure size 432x288 with 1 Axes>"
            ]
          },
          "metadata": {
            "tags": []
          }
        }
      ]
    },
    {
      "cell_type": "markdown",
      "metadata": {
        "id": "8a306ZzbqPsC",
        "colab_type": "text"
      },
      "source": [
        "#ModelX\n",
        "**Сложная сеть из LSTM и Conv1D слоёв на старте и Dense слоёв в конце**"
      ]
    },
    {
      "cell_type": "markdown",
      "metadata": {
        "id": "8fZuIIJY3B3e",
        "colab_type": "text"
      },
      "source": [
        "*Разбор данного раздела:* https://youtu.be/1BV1I59HwB4?t=5704"
      ]
    },
    {
      "cell_type": "code",
      "metadata": {
        "id": "tQoW322YqRVL",
        "colab_type": "code",
        "outputId": "f96e5c1d-8e97-4172-ea0e-ab9b786270d0",
        "colab": {
          "base_uri": "https://localhost:8080/",
          "height": 1000
        }
      },
      "source": [
        "dataInput = Input(shape=(xTrain.shape[1], xTrain.shape[2]))\n",
        "\n",
        "lstmWay = CuDNNLSTM(100, return_sequences=\"True\")(dataInput)\n",
        "convWay = Conv1D(100, 5, activation=\"relu\")(dataInput)\n",
        "\n",
        "lstmConvWay = Conv1D(100, 5, activation=\"relu\")(lstmWay)\n",
        "convLstmWay = CuDNNLSTM(100, return_sequences=\"True\")(convWay)\n",
        "\n",
        "lstmWay = CuDNNLSTM(100, return_sequences=\"True\")(lstmWay)\n",
        "convWay = Conv1D(100, 5, activation=\"relu\")(convWay)\n",
        "\n",
        "lstmWay = Flatten()(lstmWay)\n",
        "convWay = Flatten()(convWay)\n",
        "lstmConvWay = Flatten()(lstmConvWay)\n",
        "convLstmWay = Flatten()(convLstmWay)\n",
        "\n",
        "finWay = concatenate([lstmWay, convWay, lstmConvWay, convLstmWay])\n",
        "finWay = Dense(100, activation=\"linear\")(finWay)\n",
        "finWay = Dense(yTrain.shape[1], activation=\"linear\")(finWay)\n",
        "\n",
        "modelX = Model(dataInput, finWay)\n",
        "\n",
        "modelX.compile(loss=\"mse\", optimizer=Adam(lr=1e-5))\n",
        "\n",
        "history = modelX.fit(xTrain, \n",
        "                    yTrain, \n",
        "                    epochs=60, \n",
        "                    batch_size=20, \n",
        "                    verbose=1,\n",
        "                    validation_data=(xVal, yVal))\n",
        "\n",
        "plt.plot(history.history['loss'], \n",
        "         label='Точность на обучающем наборе')\n",
        "plt.plot(history.history['val_loss'], \n",
        "         label='Точность на проверочном наборе')\n",
        "plt.ylabel('Средняя ошибка')\n",
        "plt.legend()\n",
        "plt.show()"
      ],
      "execution_count": 0,
      "outputs": [
        {
          "output_type": "stream",
          "text": [
            "Train on 642 samples, validate on 100 samples\n",
            "Epoch 1/60\n",
            "642/642 [==============================] - 2s 3ms/step - loss: 0.1414 - val_loss: 0.8574\n",
            "Epoch 2/60\n",
            "642/642 [==============================] - 0s 575us/step - loss: 0.0201 - val_loss: 0.1808\n",
            "Epoch 3/60\n",
            "642/642 [==============================] - 0s 562us/step - loss: 0.0156 - val_loss: 0.2576\n",
            "Epoch 4/60\n",
            "642/642 [==============================] - 0s 596us/step - loss: 0.0134 - val_loss: 0.2377\n",
            "Epoch 5/60\n",
            "642/642 [==============================] - 0s 582us/step - loss: 0.0118 - val_loss: 0.2297\n",
            "Epoch 6/60\n",
            "642/642 [==============================] - 0s 574us/step - loss: 0.0106 - val_loss: 0.2278\n",
            "Epoch 7/60\n",
            "642/642 [==============================] - 0s 566us/step - loss: 0.0097 - val_loss: 0.1762\n",
            "Epoch 8/60\n",
            "642/642 [==============================] - 0s 590us/step - loss: 0.0090 - val_loss: 0.1989\n",
            "Epoch 9/60\n",
            "642/642 [==============================] - 0s 587us/step - loss: 0.0084 - val_loss: 0.1735\n",
            "Epoch 10/60\n",
            "642/642 [==============================] - 0s 567us/step - loss: 0.0079 - val_loss: 0.2372\n",
            "Epoch 11/60\n",
            "642/642 [==============================] - 0s 590us/step - loss: 0.0074 - val_loss: 0.1661\n",
            "Epoch 12/60\n",
            "642/642 [==============================] - 0s 551us/step - loss: 0.0070 - val_loss: 0.1987\n",
            "Epoch 13/60\n",
            "642/642 [==============================] - 0s 600us/step - loss: 0.0066 - val_loss: 0.1855\n",
            "Epoch 14/60\n",
            "642/642 [==============================] - 0s 555us/step - loss: 0.0063 - val_loss: 0.1773\n",
            "Epoch 15/60\n",
            "642/642 [==============================] - 0s 574us/step - loss: 0.0061 - val_loss: 0.1822\n",
            "Epoch 16/60\n",
            "642/642 [==============================] - 0s 587us/step - loss: 0.0057 - val_loss: 0.2057\n",
            "Epoch 17/60\n",
            "642/642 [==============================] - 0s 566us/step - loss: 0.0055 - val_loss: 0.1778\n",
            "Epoch 18/60\n",
            "642/642 [==============================] - 0s 583us/step - loss: 0.0053 - val_loss: 0.1948\n",
            "Epoch 19/60\n",
            "642/642 [==============================] - 0s 582us/step - loss: 0.0051 - val_loss: 0.1472\n",
            "Epoch 20/60\n",
            "642/642 [==============================] - 0s 575us/step - loss: 0.0050 - val_loss: 0.2190\n",
            "Epoch 21/60\n",
            "642/642 [==============================] - 0s 551us/step - loss: 0.0047 - val_loss: 0.1927\n",
            "Epoch 22/60\n",
            "642/642 [==============================] - 0s 595us/step - loss: 0.0046 - val_loss: 0.2051\n",
            "Epoch 23/60\n",
            "642/642 [==============================] - 0s 575us/step - loss: 0.0045 - val_loss: 0.2135\n",
            "Epoch 24/60\n",
            "642/642 [==============================] - 0s 585us/step - loss: 0.0043 - val_loss: 0.1736\n",
            "Epoch 25/60\n",
            "642/642 [==============================] - 0s 553us/step - loss: 0.0041 - val_loss: 0.1720\n",
            "Epoch 26/60\n",
            "642/642 [==============================] - 0s 584us/step - loss: 0.0040 - val_loss: 0.1504\n",
            "Epoch 27/60\n",
            "642/642 [==============================] - 0s 570us/step - loss: 0.0038 - val_loss: 0.2108\n",
            "Epoch 28/60\n",
            "642/642 [==============================] - 0s 576us/step - loss: 0.0037 - val_loss: 0.1786\n",
            "Epoch 29/60\n",
            "642/642 [==============================] - 0s 563us/step - loss: 0.0035 - val_loss: 0.1932\n",
            "Epoch 30/60\n",
            "642/642 [==============================] - 0s 574us/step - loss: 0.0035 - val_loss: 0.1866\n",
            "Epoch 31/60\n",
            "642/642 [==============================] - 0s 545us/step - loss: 0.0033 - val_loss: 0.2127\n",
            "Epoch 32/60\n",
            "642/642 [==============================] - 0s 545us/step - loss: 0.0033 - val_loss: 0.1899\n",
            "Epoch 33/60\n",
            "642/642 [==============================] - 0s 566us/step - loss: 0.0032 - val_loss: 0.1854\n",
            "Epoch 34/60\n",
            "642/642 [==============================] - 0s 541us/step - loss: 0.0032 - val_loss: 0.2218\n",
            "Epoch 35/60\n",
            "642/642 [==============================] - 0s 542us/step - loss: 0.0031 - val_loss: 0.2018\n",
            "Epoch 36/60\n",
            "642/642 [==============================] - 0s 551us/step - loss: 0.0029 - val_loss: 0.1734\n",
            "Epoch 37/60\n",
            "642/642 [==============================] - 0s 571us/step - loss: 0.0029 - val_loss: 0.1814\n",
            "Epoch 38/60\n",
            "642/642 [==============================] - 0s 587us/step - loss: 0.0028 - val_loss: 0.1761\n",
            "Epoch 39/60\n",
            "642/642 [==============================] - 0s 548us/step - loss: 0.0027 - val_loss: 0.1926\n",
            "Epoch 40/60\n",
            "642/642 [==============================] - 0s 552us/step - loss: 0.0028 - val_loss: 0.2454\n",
            "Epoch 41/60\n",
            "642/642 [==============================] - 0s 584us/step - loss: 0.0027 - val_loss: 0.2033\n",
            "Epoch 42/60\n",
            "642/642 [==============================] - 0s 563us/step - loss: 0.0026 - val_loss: 0.1860\n",
            "Epoch 43/60\n",
            "642/642 [==============================] - 0s 560us/step - loss: 0.0025 - val_loss: 0.1744\n",
            "Epoch 44/60\n",
            "642/642 [==============================] - 0s 585us/step - loss: 0.0025 - val_loss: 0.1944\n",
            "Epoch 45/60\n",
            "642/642 [==============================] - 0s 567us/step - loss: 0.0024 - val_loss: 0.2211\n",
            "Epoch 46/60\n",
            "642/642 [==============================] - 0s 574us/step - loss: 0.0024 - val_loss: 0.2197\n",
            "Epoch 47/60\n",
            "642/642 [==============================] - 0s 579us/step - loss: 0.0024 - val_loss: 0.2064\n",
            "Epoch 48/60\n",
            "642/642 [==============================] - 0s 546us/step - loss: 0.0023 - val_loss: 0.2050\n",
            "Epoch 49/60\n",
            "642/642 [==============================] - 0s 559us/step - loss: 0.0023 - val_loss: 0.1528\n",
            "Epoch 50/60\n",
            "642/642 [==============================] - 0s 579us/step - loss: 0.0022 - val_loss: 0.1504\n",
            "Epoch 51/60\n",
            "642/642 [==============================] - 0s 583us/step - loss: 0.0021 - val_loss: 0.1618\n",
            "Epoch 52/60\n",
            "642/642 [==============================] - 0s 578us/step - loss: 0.0021 - val_loss: 0.1576\n",
            "Epoch 53/60\n",
            "642/642 [==============================] - 0s 583us/step - loss: 0.0021 - val_loss: 0.1426\n",
            "Epoch 54/60\n",
            "642/642 [==============================] - 0s 562us/step - loss: 0.0024 - val_loss: 0.1771\n",
            "Epoch 55/60\n",
            "642/642 [==============================] - 0s 564us/step - loss: 0.0022 - val_loss: 0.2049\n",
            "Epoch 56/60\n",
            "642/642 [==============================] - 0s 556us/step - loss: 0.0021 - val_loss: 0.2159\n",
            "Epoch 57/60\n",
            "642/642 [==============================] - 0s 573us/step - loss: 0.0020 - val_loss: 0.1694\n",
            "Epoch 58/60\n",
            "642/642 [==============================] - 0s 568us/step - loss: 0.0019 - val_loss: 0.1920\n",
            "Epoch 59/60\n",
            "642/642 [==============================] - 0s 568us/step - loss: 0.0018 - val_loss: 0.1567\n",
            "Epoch 60/60\n",
            "642/642 [==============================] - 0s 555us/step - loss: 0.0018 - val_loss: 0.1419\n"
          ],
          "name": "stdout"
        },
        {
          "output_type": "display_data",
          "data": {
            "image/png": "[encoded data removed]",
            "text/plain": [
              "<Figure size 432x288 with 1 Axes>"
            ]
          },
          "metadata": {
            "tags": []
          }
        }
      ]
    },
    {
      "cell_type": "code",
      "metadata": {
        "id": "y821GtU2grhS",
        "colab_type": "code",
        "colab": {}
      },
      "source": [
        "#Прогнозируем данные текущей сетью\n",
        "currModel = modelX\n",
        "(predVal, yValUnscaled) = getPred(currModel, xVal, yVal, yScaler)"
      ],
      "execution_count": 0,
      "outputs": []
    },
    {
      "cell_type": "code",
      "metadata": {
        "id": "Y4B5_zpVgtnf",
        "colab_type": "code",
        "outputId": "98585974-71c6-407c-96d6-ae6eac7ccca4",
        "colab": {
          "base_uri": "https://localhost:8080/",
          "height": 283
        }
      },
      "source": [
        "#Отображаем графики\n",
        "showPredict(0, 4000, 0, predVal, yValUnscaled)"
      ],
      "execution_count": 0,
      "outputs": [
        {
          "output_type": "display_data",
          "data": {
            "image/png": "[encoded data removed]",
            "text/plain": [
              "<Figure size 432x288 with 1 Axes>"
            ]
          },
          "metadata": {
            "tags": []
          }
        }
      ]
    },
    {
      "cell_type": "code",
      "metadata": {
        "id": "vD2sz7SVgu0n",
        "colab_type": "code",
        "outputId": "b3cf8dfa-00d1-4aac-8016-cb43d963a9a4",
        "colab": {
          "base_uri": "https://localhost:8080/",
          "height": 283
        }
      },
      "source": [
        "#Отображаем корреляцию\n",
        "showCorr([0], 10, predVal, yValUnscaled)"
      ],
      "execution_count": 0,
      "outputs": [
        {
          "output_type": "display_data",
          "data": {
            "image/png": "[encoded data removed]",
            "text/plain": [
              "<Figure size 432x288 with 1 Axes>"
            ]
          },
          "metadata": {
            "tags": []
          }
        }
      ]
    },
    {
      "cell_type": "markdown",
      "metadata": {
        "id": "29niqZoJV_1s",
        "colab_type": "text"
      },
      "source": [
        "#ModelX2\n",
        "**Сложная сеть из LSTM, Conv1D и Dense слоёв на старте и Dense слоёв в конце**"
      ]
    },
    {
      "cell_type": "markdown",
      "metadata": {
        "id": "bVJrWV-33QiD",
        "colab_type": "text"
      },
      "source": [
        "*Разбор данного раздела:* https://youtu.be/1BV1I59HwB4?t=5732"
      ]
    },
    {
      "cell_type": "code",
      "metadata": {
        "id": "5mAUslbTwuQx",
        "colab_type": "code",
        "colab": {}
      },
      "source": [
        "dataInput = Input(shape=(xTrain.shape[1], xTrain.shape[2]))\n",
        "\n",
        "lstmWay = CuDNNLSTM(40, return_sequences=\"True\")(dataInput)\n",
        "lstmWay = CuDNNLSTM(40, return_sequences=\"True\")(lstmWay)\n",
        "\n",
        "convWay = Conv1D(100, 5, activation=\"relu\")(dataInput)\n",
        "convWay = Conv1D(100, 5, activation=\"relu\")(convWay)\n",
        "\n",
        "denseWay = Dense(4, activation=\"linear\")(dataInput)\n",
        "denseWay = Dense(4, activation=\"linear\")(denseWay)\n",
        "\n",
        "lstmWay = Flatten()(lstmWay)\n",
        "convWay = Flatten()(convWay)\n",
        "denseWay = Flatten()(denseWay)\n",
        "\n",
        "finWay = concatenate([lstmWay, convWay, denseWay])\n",
        "finWay = Dense(100, activation=\"linear\")(finWay)\n",
        "finWay = Dense(10, activation=\"linear\")(finWay)\n",
        "finWay = Dense(yTrain.shape[1], activation=\"linear\")(finWay)\n",
        "\n",
        "modelX2 = Model(dataInput, finWay)\n",
        "\n",
        "modelX2.compile(loss=\"mse\", optimizer=Adam(lr=1e-5))\n",
        "\n",
        "history = modelX2.fit(xTrain, \n",
        "                    yTrain, \n",
        "                    epochs=80, \n",
        "                    batch_size=20, \n",
        "                    verbose=1,\n",
        "                    validation_data=(xVal, yVal))\n",
        "\n",
        "plt.plot(history.history['loss'][10:], \n",
        "         label='Точность на обучающем наборе')\n",
        "plt.plot(history.history['val_loss'][10:], \n",
        "         label='Точность на проверочном наборе')\n",
        "plt.ylabel('Средняя ошибка')\n",
        "plt.legend()\n",
        "plt.show()"
      ],
      "execution_count": 0,
      "outputs": []
    },
    {
      "cell_type": "markdown",
      "metadata": {
        "id": "0PLqC-B4XPDx",
        "colab_type": "text"
      },
      "source": [
        "#Сохранение и загрузка сети"
      ]
    },
    {
      "cell_type": "code",
      "metadata": {
        "id": "p3PDx942WgTR",
        "colab_type": "code",
        "colab": {}
      },
      "source": [
        "modelX2.save(\"modelX2.h5\")"
      ],
      "execution_count": 0,
      "outputs": []
    },
    {
      "cell_type": "code",
      "metadata": {
        "id": "oDyJ51PPXGdS",
        "colab_type": "code",
        "colab": {}
      },
      "source": [
        "!ls"
      ],
      "execution_count": 0,
      "outputs": []
    },
    {
      "cell_type": "code",
      "metadata": {
        "id": "EncWmPDnYcAA",
        "colab_type": "code",
        "colab": {}
      },
      "source": [
        "files.download(\"modelX2.h5\")"
      ],
      "execution_count": 0,
      "outputs": []
    },
    {
      "cell_type": "code",
      "metadata": {
        "id": "8J8wYVQbZIUs",
        "colab_type": "code",
        "outputId": "edd12a13-d6e2-4e94-fe30-eacc392ea34b",
        "colab": {
          "resources": {
            "http://localhost:8080/nbextensions/google.colab/files.js": {
              "data": "Ly8gQ29weXJpZ2h0IDIwMTcgR29vZ2xlIExMQwovLwovLyBMaWNlbnNlZCB1bmRlciB0aGUgQXBhY2hlIExpY2Vuc2UsIFZlcnNpb24gMi4wICh0aGUgIkxpY2Vuc2UiKTsKLy8geW91IG1heSBub3QgdXNlIHRoaXMgZmlsZSBleGNlcHQgaW4gY29tcGxpYW5jZSB3aXRoIHRoZSBMaWNlbnNlLgovLyBZb3UgbWF5IG9idGFpbiBhIGNvcHkgb2YgdGhlIExpY2Vuc2UgYXQKLy8KLy8gICAgICBodHRwOi8vd3d3LmFwYWNoZS5vcmcvbGljZW5zZXMvTElDRU5TRS0yLjAKLy8KLy8gVW5sZXNzIHJlcXVpcmVkIGJ5IGFwcGxpY2FibGUgbGF3IG9yIGFncmVlZCB0byBpbiB3cml0aW5nLCBzb2Z0d2FyZQovLyBkaXN0cmlidXRlZCB1bmRlciB0aGUgTGljZW5zZSBpcyBkaXN0cmlidXRlZCBvbiBhbiAiQVMgSVMiIEJBU0lTLAovLyBXSVRIT1VUIFdBUlJBTlRJRVMgT1IgQ09ORElUSU9OUyBPRiBBTlkgS0lORCwgZWl0aGVyIGV4cHJlc3Mgb3IgaW1wbGllZC4KLy8gU2VlIHRoZSBMaWNlbnNlIGZvciB0aGUgc3BlY2lmaWMgbGFuZ3VhZ2UgZ292ZXJuaW5nIHBlcm1pc3Npb25zIGFuZAovLyBsaW1pdGF0aW9ucyB1bmRlciB0aGUgTGljZW5zZS4KCi8qKgogKiBAZmlsZW92ZXJ2aWV3IEhlbHBlcnMgZm9yIGdvb2dsZS5jb2xhYiBQeXRob24gbW9kdWxlLgogKi8KKGZ1bmN0aW9uKHNjb3BlKSB7CmZ1bmN0aW9uIHNwYW4odGV4dCwgc3R5bGVBdHRyaWJ1dGVzID0ge30pIHsKICBjb25zdCBlbGVtZW50ID0gZG9jdW1lbnQuY3JlYXRlRWxlbWVudCgnc3BhbicpOwogIGVsZW1lbnQudGV4dENvbnRlbnQgPSB0ZXh0OwogIGZvciAoY29uc3Qga2V5IG9mIE9iamVjdC5rZXlzKHN0eWxlQXR0cmlidXRlcykpIHsKICAgIGVsZW1lbnQuc3R5bGVba2V5XSA9IHN0eWxlQXR0cmlidXRlc1trZXldOwogIH0KICByZXR1cm4gZWxlbWVudDsKfQoKLy8gTWF4IG51bWJlciBvZiBieXRlcyB3aGljaCB3aWxsIGJlIHVwbG9hZGVkIGF0IGEgdGltZS4KY29uc3QgTUFYX1BBWUxPQURfU0laRSA9IDEwMCAqIDEwMjQ7Ci8vIE1heCBhbW91bnQgb2YgdGltZSB0byBibG9jayB3YWl0aW5nIGZvciB0aGUgdXNlci4KY29uc3QgRklMRV9DSEFOR0VfVElNRU9VVF9NUyA9IDMwICogMTAwMDsKCmZ1bmN0aW9uIF91cGxvYWRGaWxlcyhpbnB1dElkLCBvdXRwdXRJZCkgewogIGNvbnN0IHN0ZXBzID0gdXBsb2FkRmlsZXNTdGVwKGlucHV0SWQsIG91dHB1dElkKTsKICBjb25zdCBvdXRwdXRFbGVtZW50ID0gZG9jdW1lbnQuZ2V0RWxlbWVudEJ5SWQob3V0cHV0SWQpOwogIC8vIENhY2hlIHN0ZXBzIG9uIHRoZSBvdXRwdXRFbGVtZW50IHRvIG1ha2UgaXQgYXZhaWxhYmxlIGZvciB0aGUgbmV4dCBjYWxsCiAgLy8gdG8gdXBsb2FkRmlsZXNDb250aW51ZSBmcm9tIFB5dGhvbi4KICBvdXRwdXRFbGVtZW50LnN0ZXBzID0gc3RlcHM7CgogIHJldHVybiBfdXBsb2FkRmlsZXNDb250aW51ZShvdXRwdXRJZCk7Cn0KCi8vIFRoaXMgaXMgcm91Z2hseSBhbiBhc3luYyBnZW5lcmF0b3IgKG5vdCBzdXBwb3J0ZWQgaW4gdGhlIGJyb3dzZXIgeWV0KSwKLy8gd2hlcmUgdGhlcmUgYXJlIG11bHRpcGxlIGFzeW5jaHJvbm91cyBzdGVwcyBhbmQgdGhlIFB5dGhvbiBzaWRlIGlzIGdvaW5nCi8vIHRvIHBvbGwgZm9yIGNvbXBsZXRpb24gb2YgZWFjaCBzdGVwLgovLyBUaGlzIHVzZXMgYSBQcm9taXNlIHRvIGJsb2NrIHRoZSBweXRob24gc2lkZSBvbiBjb21wbGV0aW9uIG9mIGVhY2ggc3RlcCwKLy8gdGhlbiBwYXNzZXMgdGhlIHJlc3VsdCBvZiB0aGUgcHJldmlvdXMgc3RlcCBhcyB0aGUgaW5wdXQgdG8gdGhlIG5leHQgc3RlcC4KZnVuY3Rpb24gX3VwbG9hZEZpbGVzQ29udGludWUob3V0cHV0SWQpIHsKICBjb25zdCBvdXRwdXRFbGVtZW50ID0gZG9jdW1lbnQuZ2V0RWxlbWVudEJ5SWQob3V0cHV0SWQpOwogIGNvbnN0IHN0ZXBzID0gb3V0cHV0RWxlbWVudC5zdGVwczsKCiAgY29uc3QgbmV4dCA9IHN0ZXBzLm5leHQob3V0cHV0RWxlbWVudC5sYXN0UHJvbWlzZVZhbHVlKTsKICByZXR1cm4gUHJvbWlzZS5yZXNvbHZlKG5leHQudmFsdWUucHJvbWlzZSkudGhlbigodmFsdWUpID0+IHsKICAgIC8vIENhY2hlIHRoZSBsYXN0IHByb21pc2UgdmFsdWUgdG8gbWFrZSBpdCBhdmFpbGFibGUgdG8gdGhlIG5leHQKICAgIC8vIHN0ZXAgb2YgdGhlIGdlbmVyYXRvci4KICAgIG91dHB1dEVsZW1lbnQubGFzdFByb21pc2VWYWx1ZSA9IHZhbHVlOwogICAgcmV0dXJuIG5leHQudmFsdWUucmVzcG9uc2U7CiAgfSk7Cn0KCi8qKgogKiBHZW5lcmF0b3IgZnVuY3Rpb24gd2hpY2ggaXMgY2FsbGVkIGJldHdlZW4gZWFjaCBhc3luYyBzdGVwIG9mIHRoZSB1cGxvYWQKICogcHJvY2Vzcy4KICogQHBhcmFtIHtzdHJpbmd9IGlucHV0SWQgRWxlbWVudCBJRCBvZiB0aGUgaW5wdXQgZmlsZSBwaWNrZXIgZWxlbWVudC4KICogQHBhcmFtIHtzdHJpbmd9IG91dHB1dElkIEVsZW1lbnQgSUQgb2YgdGhlIG91dHB1dCBkaXNwbGF5LgogKiBAcmV0dXJuIHshSXRlcmFibGU8IU9iamVjdD59IEl0ZXJhYmxlIG9mIG5leHQgc3RlcHMuCiAqLwpmdW5jdGlvbiogdXBsb2FkRmlsZXNTdGVwKGlucHV0SWQsIG91dHB1dElkKSB7CiAgY29uc3QgaW5wdXRFbGVtZW50ID0gZG9jdW1lbnQuZ2V0RWxlbWVudEJ5SWQoaW5wdXRJZCk7CiAgaW5wdXRFbGVtZW50LmRpc2FibGVkID0gZmFsc2U7CgogIGNvbnN0IG91dHB1dEVsZW1lbnQgPSBkb2N1bWVudC5nZXRFbGVtZW50QnlJZChvdXRwdXRJZCk7CiAgb3V0cHV0RWxlbWVudC5pbm5lckhUTUwgPSAnJzsKCiAgY29uc3QgcGlja2VkUHJvbWlzZSA9IG5ldyBQcm9taXNlKChyZXNvbHZlKSA9PiB7CiAgICBpbnB1dEVsZW1lbnQuYWRkRXZlbnRMaXN0ZW5lcignY2hhbmdlJywgKGUpID0+IHsKICAgICAgcmVzb2x2ZShlLnRhcmdldC5maWxlcyk7CiAgICB9KTsKICB9KTsKCiAgY29uc3QgY2FuY2VsID0gZG9jdW1lbnQuY3JlYXRlRWxlbWVudCgnYnV0dG9uJyk7CiAgaW5wdXRFbGVtZW50LnBhcmVudEVsZW1lbnQuYXBwZW5kQ2hpbGQoY2FuY2VsKTsKICBjYW5jZWwudGV4dENvbnRlbnQgPSAnQ2FuY2VsIHVwbG9hZCc7CiAgY29uc3QgY2FuY2VsUHJvbWlzZSA9IG5ldyBQcm9taXNlKChyZXNvbHZlKSA9PiB7CiAgICBjYW5jZWwub25jbGljayA9ICgpID0+IHsKICAgICAgcmVzb2x2ZShudWxsKTsKICAgIH07CiAgfSk7CgogIC8vIENhbmNlbCB1cGxvYWQgaWYgdXNlciBoYXNuJ3QgcGlja2VkIGFueXRoaW5nIGluIHRpbWVvdXQuCiAgY29uc3QgdGltZW91dFByb21pc2UgPSBuZXcgUHJvbWlzZSgocmVzb2x2ZSkgPT4gewogICAgc2V0VGltZW91dCgoKSA9PiB7CiAgICAgIHJlc29sdmUobnVsbCk7CiAgICB9LCBGSUxFX0NIQU5HRV9USU1FT1VUX01TKTsKICB9KTsKCiAgLy8gV2FpdCBmb3IgdGhlIHVzZXIgdG8gcGljayB0aGUgZmlsZXMuCiAgY29uc3QgZmlsZXMgPSB5aWVsZCB7CiAgICBwcm9taXNlOiBQcm9taXNlLnJhY2UoW3BpY2tlZFByb21pc2UsIHRpbWVvdXRQcm9taXNlLCBjYW5jZWxQcm9taXNlXSksCiAgICByZXNwb25zZTogewogICAgICBhY3Rpb246ICdzdGFydGluZycsCiAgICB9CiAgfTsKCiAgaWYgKCFmaWxlcykgewogICAgcmV0dXJuIHsKICAgICAgcmVzcG9uc2U6IHsKICAgICAgICBhY3Rpb246ICdjb21wbGV0ZScsCiAgICAgIH0KICAgIH07CiAgfQoKICBjYW5jZWwucmVtb3ZlKCk7CgogIC8vIERpc2FibGUgdGhlIGlucHV0IGVsZW1lbnQgc2luY2UgZnVydGhlciBwaWNrcyBhcmUgbm90IGFsbG93ZWQuCiAgaW5wdXRFbGVtZW50LmRpc2FibGVkID0gdHJ1ZTsKCiAgZm9yIChjb25zdCBmaWxlIG9mIGZpbGVzKSB7CiAgICBjb25zdCBsaSA9IGRvY3VtZW50LmNyZWF0ZUVsZW1lbnQoJ2xpJyk7CiAgICBsaS5hcHBlbmQoc3BhbihmaWxlLm5hbWUsIHtmb250V2VpZ2h0OiAnYm9sZCd9KSk7CiAgICBsaS5hcHBlbmQoc3BhbigKICAgICAgICBgKCR7ZmlsZS50eXBlIHx8ICduL2EnfSkgLSAke2ZpbGUuc2l6ZX0gYnl0ZXMsIGAgKwogICAgICAgIGBsYXN0IG1vZGlmaWVkOiAkewogICAgICAgICAgICBmaWxlLmxhc3RNb2RpZmllZERhdGUgPyBmaWxlLmxhc3RNb2RpZmllZERhdGUudG9Mb2NhbGVEYXRlU3RyaW5nKCkgOgogICAgICAgICAgICAgICAgICAgICAgICAgICAgICAgICAgICAnbi9hJ30gLSBgKSk7CiAgICBjb25zdCBwZXJjZW50ID0gc3BhbignMCUgZG9uZScpOwogICAgbGkuYXBwZW5kQ2hpbGQocGVyY2VudCk7CgogICAgb3V0cHV0RWxlbWVudC5hcHBlbmRDaGlsZChsaSk7CgogICAgY29uc3QgZmlsZURhdGFQcm9taXNlID0gbmV3IFByb21pc2UoKHJlc29sdmUpID0+IHsKICAgICAgY29uc3QgcmVhZGVyID0gbmV3IEZpbGVSZWFkZXIoKTsKICAgICAgcmVhZGVyLm9ubG9hZCA9IChlKSA9PiB7CiAgICAgICAgcmVzb2x2ZShlLnRhcmdldC5yZXN1bHQpOwogICAgICB9OwogICAgICByZWFkZXIucmVhZEFzQXJyYXlCdWZmZXIoZmlsZSk7CiAgICB9KTsKICAgIC8vIFdhaXQgZm9yIHRoZSBkYXRhIHRvIGJlIHJlYWR5LgogICAgbGV0IGZpbGVEYXRhID0geWllbGQgewogICAgICBwcm9taXNlOiBmaWxlRGF0YVByb21pc2UsCiAgICAgIHJlc3BvbnNlOiB7CiAgICAgICAgYWN0aW9uOiAnY29udGludWUnLAogICAgICB9CiAgICB9OwoKICAgIC8vIFVzZSBhIGNodW5rZWQgc2VuZGluZyB0byBhdm9pZCBtZXNzYWdlIHNpemUgbGltaXRzLiBTZWUgYi82MjExNTY2MC4KICAgIGxldCBwb3NpdGlvbiA9IDA7CiAgICB3aGlsZSAocG9zaXRpb24gPCBmaWxlRGF0YS5ieXRlTGVuZ3RoKSB7CiAgICAgIGNvbnN0IGxlbmd0aCA9IE1hdGgubWluKGZpbGVEYXRhLmJ5dGVMZW5ndGggLSBwb3NpdGlvbiwgTUFYX1BBWUxPQURfU0laRSk7CiAgICAgIGNvbnN0IGNodW5rID0gbmV3IFVpbnQ4QXJyYXkoZmlsZURhdGEsIHBvc2l0aW9uLCBsZW5ndGgpOwogICAgICBwb3NpdGlvbiArPSBsZW5ndGg7CgogICAgICBjb25zdCBiYXNlNjQgPSBidG9hKFN0cmluZy5mcm9tQ2hhckNvZGUuYXBwbHkobnVsbCwgY2h1bmspKTsKICAgICAgeWllbGQgewogICAgICAgIHJlc3BvbnNlOiB7CiAgICAgICAgICBhY3Rpb246ICdhcHBlbmQnLAogICAgICAgICAgZmlsZTogZmlsZS5uYW1lLAogICAgICAgICAgZGF0YTogYmFzZTY0LAogICAgICAgIH0sCiAgICAgIH07CiAgICAgIHBlcmNlbnQudGV4dENvbnRlbnQgPQogICAgICAgICAgYCR7TWF0aC5yb3VuZCgocG9zaXRpb24gLyBmaWxlRGF0YS5ieXRlTGVuZ3RoKSAqIDEwMCl9JSBkb25lYDsKICAgIH0KICB9CgogIC8vIEFsbCBkb25lLgogIHlpZWxkIHsKICAgIHJlc3BvbnNlOiB7CiAgICAgIGFjdGlvbjogJ2NvbXBsZXRlJywKICAgIH0KICB9Owp9CgpzY29wZS5nb29nbGUgPSBzY29wZS5nb29nbGUgfHwge307CnNjb3BlLmdvb2dsZS5jb2xhYiA9IHNjb3BlLmdvb2dsZS5jb2xhYiB8fCB7fTsKc2NvcGUuZ29vZ2xlLmNvbGFiLl9maWxlcyA9IHsKICBfdXBsb2FkRmlsZXMsCiAgX3VwbG9hZEZpbGVzQ29udGludWUsCn07Cn0pKHNlbGYpOwo=",
              "ok": true,
              "headers": [
                [
                  "content-type",
                  "application/javascript"
                ]
              ],
              "status": 200,
              "status_text": "OK"
            }
          },
          "base_uri": "https://localhost:8080/",
          "height": 94
        }
      },
      "source": [
        "files.upload()\n",
        "!ls"
      ],
      "execution_count": 0,
      "outputs": [
        {
          "output_type": "display_data",
          "data": {
            "text/html": [
              "\n",
              "     <input type=\"file\" id=\"files-386a627b-f2ee-401d-a67c-fc5d436b6dce\" name=\"files[]\" multiple disabled />\n",
              "     <output id=\"result-386a627b-f2ee-401d-a67c-fc5d436b6dce\">\n",
              "      Upload widget is only available when the cell has been executed in the\n",
              "      current browser session. Please rerun this cell to enable.\n",
              "      </output>\n",
              "      <script src=\"/nbextensions/google.colab/files.js\"></script> "
            ],
            "text/plain": [
              "<IPython.core.display.HTML object>"
            ]
          },
          "metadata": {
            "tags": []
          }
        },
        {
          "output_type": "stream",
          "text": [
            "Saving modelX2.h5 to modelX2.h5\n",
            "2004-2019.tsv  modelX2.h5  sample_data\n"
          ],
          "name": "stdout"
        }
      ]
    },
    {
      "cell_type": "code",
      "metadata": {
        "id": "wxCFJHJQZppT",
        "colab_type": "code",
        "colab": {}
      },
      "source": [
        "modelX2Loaded = load_model('modelX2.h5')"
      ],
      "execution_count": 0,
      "outputs": []
    },
    {
      "cell_type": "code",
      "metadata": {
        "id": "ODgYmJXDNbX1",
        "colab_type": "code",
        "outputId": "4339cf78-f881-4752-e1a4-a426c75c96b5",
        "colab": {
          "base_uri": "https://localhost:8080/",
          "height": 664
        }
      },
      "source": [
        "print(modelX2Loaded.summary())"
      ],
      "execution_count": 0,
      "outputs": [
        {
          "output_type": "stream",
          "text": [
            "Model: \"model_26\"\n",
            "__________________________________________________________________________________________________\n",
            "Layer (type)                    Output Shape         Param #     Connected to                     \n",
            "==================================================================================================\n",
            "input_26 (InputLayer)           (None, 20, 6)        0                                            \n",
            "__________________________________________________________________________________________________\n",
            "cu_dnnlstm_63 (CuDNNLSTM)       (None, 20, 40)       7680        input_26[0][0]                   \n",
            "__________________________________________________________________________________________________\n",
            "conv1d_56 (Conv1D)              (None, 16, 100)      3100        input_26[0][0]                   \n",
            "__________________________________________________________________________________________________\n",
            "dense_173 (Dense)               (None, 20, 100)      700         input_26[0][0]                   \n",
            "__________________________________________________________________________________________________\n",
            "cu_dnnlstm_64 (CuDNNLSTM)       (None, 20, 40)       13120       cu_dnnlstm_63[0][0]              \n",
            "__________________________________________________________________________________________________\n",
            "conv1d_57 (Conv1D)              (None, 12, 100)      50100       conv1d_56[0][0]                  \n",
            "__________________________________________________________________________________________________\n",
            "dense_174 (Dense)               (None, 20, 100)      10100       dense_173[0][0]                  \n",
            "__________________________________________________________________________________________________\n",
            "flatten_84 (Flatten)            (None, 800)          0           cu_dnnlstm_64[0][0]              \n",
            "__________________________________________________________________________________________________\n",
            "flatten_85 (Flatten)            (None, 1200)         0           conv1d_57[0][0]                  \n",
            "__________________________________________________________________________________________________\n",
            "flatten_86 (Flatten)            (None, 2000)         0           dense_174[0][0]                  \n",
            "__________________________________________________________________________________________________\n",
            "concatenate_26 (Concatenate)    (None, 4000)         0           flatten_84[0][0]                 \n",
            "                                                                 flatten_85[0][0]                 \n",
            "                                                                 flatten_86[0][0]                 \n",
            "__________________________________________________________________________________________________\n",
            "dense_175 (Dense)               (None, 1)            4001        concatenate_26[0][0]             \n",
            "==================================================================================================\n",
            "Total params: 88,801\n",
            "Trainable params: 88,801\n",
            "Non-trainable params: 0\n",
            "__________________________________________________________________________________________________\n",
            "None\n"
          ],
          "name": "stdout"
        }
      ]
    },
    {
      "cell_type": "code",
      "metadata": {
        "id": "p7VXplLKgw3F",
        "colab_type": "code",
        "colab": {}
      },
      "source": [
        "#Прогнозируем данные текущей сетью\n",
        "currModel = modelX2\n",
        "(predVal, yValUnscaled) = getPred(currModel, xVal, yVal, yScaler)"
      ],
      "execution_count": 0,
      "outputs": []
    },
    {
      "cell_type": "code",
      "metadata": {
        "id": "zqiYGcOugznE",
        "colab_type": "code",
        "outputId": "adc2d98c-f8f7-41f4-b9e2-85bbf1e0a2b6",
        "colab": {
          "base_uri": "https://localhost:8080/",
          "height": 283
        }
      },
      "source": [
        "#Отображаем графики\n",
        "showPredict(0, 4000, 0, predVal, yValUnscaled)"
      ],
      "execution_count": 0,
      "outputs": [
        {
          "output_type": "display_data",
          "data": {
            "image/png": "[encoded data removed]",
            "text/plain": [
              "<Figure size 432x288 with 1 Axes>"
            ]
          },
          "metadata": {
            "tags": []
          }
        }
      ]
    },
    {
      "cell_type": "code",
      "metadata": {
        "id": "2jUFWHang1Mp",
        "colab_type": "code",
        "outputId": "c472fba6-3e63-40a5-87ee-0711ed1a3d4b",
        "colab": {
          "base_uri": "https://localhost:8080/",
          "height": 283
        }
      },
      "source": [
        "#Отображаем корреляцию\n",
        "showCorr([0], 10, predVal, yValUnscaled)"
      ],
      "execution_count": 0,
      "outputs": [
        {
          "output_type": "display_data",
          "data": {
            "image/png": "[encoded data removed]",
            "text/plain": [
              "<Figure size 432x288 with 1 Axes>"
            ]
          },
          "metadata": {
            "tags": []
          }
        }
      ]
    },
    {
      "cell_type": "markdown",
      "metadata": {
        "id": "_2qGcp1oT382",
        "colab_type": "text"
      },
      "source": [
        "#Прогнозирование на несколько шагов вперёд"
      ]
    },
    {
      "cell_type": "markdown",
      "metadata": {
        "id": "_5QPXgZi6CoJ",
        "colab_type": "text"
      },
      "source": [
        "*Разбор данного раздела:* https://youtu.be/1BV1I59HwB4?t=5806"
      ]
    },
    {
      "cell_type": "code",
      "metadata": {
        "id": "Y6IwJgMudsX7",
        "colab_type": "code",
        "outputId": "04981f00-4a33-4d30-d5cc-204f310353df",
        "colab": {
          "base_uri": "https://localhost:8080/",
          "height": 85
        }
      },
      "source": [
        "#Задаём параметры загрузки данных\n",
        "xLen = 20\n",
        "stepsForward = 10\n",
        "xChannels = range(data.shape[1])\n",
        "yChannels = [0]\n",
        "xNormalization = 0\n",
        "yNormalization = 0\n",
        "valLen = 100\n",
        "returnFlatten = 1\n",
        "convertToDerivative = 0\n",
        "\n",
        "#Загружаем данные\n",
        "(xTrain2, yTrain2), (xVal2, yVal2), (xScaler2, yScaler2) = getXTrainFromTimeSeries(data, xLen, xChannels, yChannels, stepsForward, xNormalization, yNormalization, returnFlatten, valLen, convertToDerivative)\n",
        "\n",
        "#Отображаем размерности данных для проверки\n",
        "print(xTrain2.shape)\n",
        "print(yTrain2.shape)\n",
        "print(xVal2.shape)\n",
        "print(yVal2.shape)"
      ],
      "execution_count": 0,
      "outputs": [
        {
          "output_type": "stream",
          "text": [
            "(622, 120)\n",
            "(622, 10)\n",
            "(100, 120)\n",
            "(100, 10)\n"
          ],
          "name": "stdout"
        }
      ]
    },
    {
      "cell_type": "markdown",
      "metadata": {
        "id": "5lXAmw11HEf0",
        "colab_type": "text"
      },
      "source": [
        "**Обучаем полносвязную сеть**"
      ]
    },
    {
      "cell_type": "markdown",
      "metadata": {
        "id": "LCGrunUm6fN3",
        "colab_type": "text"
      },
      "source": [
        "*Разбор данного раздела:* https://youtu.be/1BV1I59HwB4?t=5842"
      ]
    },
    {
      "cell_type": "code",
      "metadata": {
        "id": "hhBhckDkhC7_",
        "colab_type": "code",
        "outputId": "2b5ca3e6-cc91-41be-b665-c6354cb5613b",
        "colab": {
          "base_uri": "https://localhost:8080/",
          "height": 1000
        }
      },
      "source": [
        "modelD2 = Sequential()\n",
        "\n",
        "modelD2.add(Dense(100, input_dim = xTrain2.shape[1], activation=\"linear\"))\n",
        "modelD2.add(Dense(100, activation=\"linear\"))\n",
        "modelD2.add(Dense(100, activation=\"linear\"))\n",
        "modelD2.add(Dense(yTrain2.shape[1], activation=\"linear\"))\n",
        "\n",
        "modelD2.compile(loss=\"mse\", optimizer=Adam(lr=1e-5))\n",
        "\n",
        "history = modelD2.fit(xTrain2, \n",
        "                    yTrain2, \n",
        "                    epochs=200,\n",
        "                    batch_size=20, \n",
        "                    verbose=1, \n",
        "                    validation_data=(xVal2, yVal2))\n",
        "\n",
        "plt.plot(history.history['loss'], \n",
        "         label='Средняя абсолютная ошибка на обучающем наборе')\n",
        "plt.plot(history.history['val_loss'], \n",
        "         label='Средняя абсолютная ошибка на проверочном наборе')\n",
        "plt.ylabel('Средняя ошибка')\n",
        "plt.legend()\n",
        "plt.show()"
      ],
      "execution_count": 0,
      "outputs": [
        {
          "output_type": "stream",
          "text": [
            "WARNING:tensorflow:From /usr/local/lib/python3.6/dist-packages/keras/backend/tensorflow_backend.py:66: The name tf.get_default_graph is deprecated. Please use tf.compat.v1.get_default_graph instead.\n",
            "\n",
            "WARNING:tensorflow:From /usr/local/lib/python3.6/dist-packages/keras/backend/tensorflow_backend.py:541: The name tf.placeholder is deprecated. Please use tf.compat.v1.placeholder instead.\n",
            "\n",
            "WARNING:tensorflow:From /usr/local/lib/python3.6/dist-packages/keras/backend/tensorflow_backend.py:4432: The name tf.random_uniform is deprecated. Please use tf.random.uniform instead.\n",
            "\n",
            "WARNING:tensorflow:From /usr/local/lib/python3.6/dist-packages/keras/optimizers.py:793: The name tf.train.Optimizer is deprecated. Please use tf.compat.v1.train.Optimizer instead.\n",
            "\n",
            "WARNING:tensorflow:From /usr/local/lib/python3.6/dist-packages/keras/backend/tensorflow_backend.py:1033: The name tf.assign_add is deprecated. Please use tf.compat.v1.assign_add instead.\n",
            "\n",
            "WARNING:tensorflow:From /usr/local/lib/python3.6/dist-packages/keras/backend/tensorflow_backend.py:1020: The name tf.assign is deprecated. Please use tf.compat.v1.assign instead.\n",
            "\n",
            "WARNING:tensorflow:From /usr/local/lib/python3.6/dist-packages/keras/backend/tensorflow_backend.py:3005: The name tf.Session is deprecated. Please use tf.compat.v1.Session instead.\n",
            "\n",
            "Train on 622 samples, validate on 100 samples\n",
            "Epoch 1/200\n",
            "WARNING:tensorflow:From /usr/local/lib/python3.6/dist-packages/keras/backend/tensorflow_backend.py:190: The name tf.get_default_session is deprecated. Please use tf.compat.v1.get_default_session instead.\n",
            "\n",
            "WARNING:tensorflow:From /usr/local/lib/python3.6/dist-packages/keras/backend/tensorflow_backend.py:197: The name tf.ConfigProto is deprecated. Please use tf.compat.v1.ConfigProto instead.\n",
            "\n",
            "WARNING:tensorflow:From /usr/local/lib/python3.6/dist-packages/keras/backend/tensorflow_backend.py:207: The name tf.global_variables is deprecated. Please use tf.compat.v1.global_variables instead.\n",
            "\n",
            "WARNING:tensorflow:From /usr/local/lib/python3.6/dist-packages/keras/backend/tensorflow_backend.py:216: The name tf.is_variable_initialized is deprecated. Please use tf.compat.v1.is_variable_initialized instead.\n",
            "\n",
            "WARNING:tensorflow:From /usr/local/lib/python3.6/dist-packages/keras/backend/tensorflow_backend.py:223: The name tf.variables_initializer is deprecated. Please use tf.compat.v1.variables_initializer instead.\n",
            "\n",
            "622/622 [==============================] - 10s 16ms/step - loss: 1.8999 - val_loss: 12.4273\n",
            "Epoch 2/200\n",
            "622/622 [==============================] - 0s 200us/step - loss: 1.5556 - val_loss: 9.9229\n",
            "Epoch 3/200\n",
            "622/622 [==============================] - 0s 158us/step - loss: 1.2772 - val_loss: 7.9687\n",
            "Epoch 4/200\n",
            "622/622 [==============================] - 0s 170us/step - loss: 1.0508 - val_loss: 6.3408\n",
            "Epoch 5/200\n",
            "622/622 [==============================] - 0s 200us/step - loss: 0.8673 - val_loss: 5.0828\n",
            "Epoch 6/200\n",
            "622/622 [==============================] - 0s 194us/step - loss: 0.7206 - val_loss: 4.0516\n",
            "Epoch 7/200\n",
            "622/622 [==============================] - 0s 206us/step - loss: 0.6021 - val_loss: 3.2085\n",
            "Epoch 8/200\n",
            "622/622 [==============================] - 0s 204us/step - loss: 0.5041 - val_loss: 2.5552\n",
            "Epoch 9/200\n",
            "622/622 [==============================] - 0s 178us/step - loss: 0.4259 - val_loss: 1.9926\n",
            "Epoch 10/200\n",
            "622/622 [==============================] - 0s 152us/step - loss: 0.3622 - val_loss: 1.5681\n",
            "Epoch 11/200\n",
            "622/622 [==============================] - 0s 192us/step - loss: 0.3130 - val_loss: 1.2575\n",
            "Epoch 12/200\n",
            "622/622 [==============================] - 0s 192us/step - loss: 0.2742 - val_loss: 1.0116\n",
            "Epoch 13/200\n",
            "622/622 [==============================] - 0s 164us/step - loss: 0.2439 - val_loss: 0.8345\n",
            "Epoch 14/200\n",
            "622/622 [==============================] - 0s 165us/step - loss: 0.2198 - val_loss: 0.7013\n",
            "Epoch 15/200\n",
            "622/622 [==============================] - 0s 163us/step - loss: 0.2003 - val_loss: 0.6052\n",
            "Epoch 16/200\n",
            "622/622 [==============================] - 0s 155us/step - loss: 0.1844 - val_loss: 0.5168\n",
            "Epoch 17/200\n",
            "622/622 [==============================] - 0s 175us/step - loss: 0.1716 - val_loss: 0.4631\n",
            "Epoch 18/200\n",
            "622/622 [==============================] - 0s 170us/step - loss: 0.1611 - val_loss: 0.4165\n",
            "Epoch 19/200\n",
            "622/622 [==============================] - 0s 160us/step - loss: 0.1520 - val_loss: 0.3806\n",
            "Epoch 20/200\n",
            "622/622 [==============================] - 0s 181us/step - loss: 0.1443 - val_loss: 0.3585\n",
            "Epoch 21/200\n",
            "622/622 [==============================] - 0s 155us/step - loss: 0.1378 - val_loss: 0.3399\n",
            "Epoch 22/200\n",
            "622/622 [==============================] - 0s 191us/step - loss: 0.1318 - val_loss: 0.3171\n",
            "Epoch 23/200\n",
            "622/622 [==============================] - 0s 203us/step - loss: 0.1265 - val_loss: 0.3051\n",
            "Epoch 24/200\n",
            "622/622 [==============================] - 0s 206us/step - loss: 0.1218 - val_loss: 0.2953\n",
            "Epoch 25/200\n",
            "622/622 [==============================] - 0s 204us/step - loss: 0.1176 - val_loss: 0.2855\n",
            "Epoch 26/200\n",
            "622/622 [==============================] - 0s 217us/step - loss: 0.1136 - val_loss: 0.2720\n",
            "Epoch 27/200\n",
            "622/622 [==============================] - 0s 212us/step - loss: 0.1100 - val_loss: 0.2620\n",
            "Epoch 28/200\n",
            "622/622 [==============================] - 0s 216us/step - loss: 0.1067 - val_loss: 0.2557\n",
            "Epoch 29/200\n",
            "622/622 [==============================] - 0s 204us/step - loss: 0.1036 - val_loss: 0.2527\n",
            "Epoch 30/200\n",
            "622/622 [==============================] - 0s 164us/step - loss: 0.1007 - val_loss: 0.2443\n",
            "Epoch 31/200\n",
            "622/622 [==============================] - 0s 170us/step - loss: 0.0980 - val_loss: 0.2356\n",
            "Epoch 32/200\n",
            "622/622 [==============================] - 0s 165us/step - loss: 0.0954 - val_loss: 0.2287\n",
            "Epoch 33/200\n",
            "622/622 [==============================] - 0s 198us/step - loss: 0.0929 - val_loss: 0.2287\n",
            "Epoch 34/200\n",
            "622/622 [==============================] - 0s 199us/step - loss: 0.0907 - val_loss: 0.2259\n",
            "Epoch 35/200\n",
            "622/622 [==============================] - 0s 227us/step - loss: 0.0886 - val_loss: 0.2195\n",
            "Epoch 36/200\n",
            "622/622 [==============================] - 0s 216us/step - loss: 0.0867 - val_loss: 0.2103\n",
            "Epoch 37/200\n",
            "622/622 [==============================] - 0s 158us/step - loss: 0.0848 - val_loss: 0.2084\n",
            "Epoch 38/200\n",
            "622/622 [==============================] - 0s 159us/step - loss: 0.0830 - val_loss: 0.2024\n",
            "Epoch 39/200\n",
            "622/622 [==============================] - 0s 159us/step - loss: 0.0813 - val_loss: 0.1981\n",
            "Epoch 40/200\n",
            "622/622 [==============================] - 0s 158us/step - loss: 0.0796 - val_loss: 0.2011\n",
            "Epoch 41/200\n",
            "622/622 [==============================] - 0s 158us/step - loss: 0.0780 - val_loss: 0.1964\n",
            "Epoch 42/200\n",
            "622/622 [==============================] - 0s 210us/step - loss: 0.0765 - val_loss: 0.1899\n",
            "Epoch 43/200\n",
            "622/622 [==============================] - 0s 198us/step - loss: 0.0750 - val_loss: 0.1861\n",
            "Epoch 44/200\n",
            "622/622 [==============================] - 0s 176us/step - loss: 0.0736 - val_loss: 0.1822\n",
            "Epoch 45/200\n",
            "622/622 [==============================] - 0s 162us/step - loss: 0.0723 - val_loss: 0.1767\n",
            "Epoch 46/200\n",
            "622/622 [==============================] - 0s 191us/step - loss: 0.0711 - val_loss: 0.1716\n",
            "Epoch 47/200\n",
            "622/622 [==============================] - 0s 188us/step - loss: 0.0698 - val_loss: 0.1690\n",
            "Epoch 48/200\n",
            "622/622 [==============================] - 0s 153us/step - loss: 0.0686 - val_loss: 0.1647\n",
            "Epoch 49/200\n",
            "622/622 [==============================] - 0s 155us/step - loss: 0.0674 - val_loss: 0.1612\n",
            "Epoch 50/200\n",
            "622/622 [==============================] - 0s 164us/step - loss: 0.0662 - val_loss: 0.1591\n",
            "Epoch 51/200\n",
            "622/622 [==============================] - 0s 174us/step - loss: 0.0652 - val_loss: 0.1549\n",
            "Epoch 52/200\n",
            "622/622 [==============================] - 0s 213us/step - loss: 0.0641 - val_loss: 0.1531\n",
            "Epoch 53/200\n",
            "622/622 [==============================] - 0s 159us/step - loss: 0.0630 - val_loss: 0.1506\n",
            "Epoch 54/200\n",
            "622/622 [==============================] - 0s 166us/step - loss: 0.0621 - val_loss: 0.1481\n",
            "Epoch 55/200\n",
            "622/622 [==============================] - 0s 155us/step - loss: 0.0611 - val_loss: 0.1470\n",
            "Epoch 56/200\n",
            "622/622 [==============================] - 0s 165us/step - loss: 0.0602 - val_loss: 0.1443\n",
            "Epoch 57/200\n",
            "622/622 [==============================] - 0s 174us/step - loss: 0.0593 - val_loss: 0.1413\n",
            "Epoch 58/200\n",
            "622/622 [==============================] - 0s 192us/step - loss: 0.0584 - val_loss: 0.1381\n",
            "Epoch 59/200\n",
            "622/622 [==============================] - 0s 202us/step - loss: 0.0575 - val_loss: 0.1339\n",
            "Epoch 60/200\n",
            "622/622 [==============================] - 0s 204us/step - loss: 0.0567 - val_loss: 0.1337\n",
            "Epoch 61/200\n",
            "622/622 [==============================] - 0s 192us/step - loss: 0.0559 - val_loss: 0.1296\n",
            "Epoch 62/200\n",
            "622/622 [==============================] - 0s 214us/step - loss: 0.0551 - val_loss: 0.1262\n",
            "Epoch 63/200\n",
            "622/622 [==============================] - 0s 200us/step - loss: 0.0543 - val_loss: 0.1256\n",
            "Epoch 64/200\n",
            "622/622 [==============================] - 0s 208us/step - loss: 0.0536 - val_loss: 0.1205\n",
            "Epoch 65/200\n",
            "622/622 [==============================] - 0s 170us/step - loss: 0.0528 - val_loss: 0.1200\n",
            "Epoch 66/200\n",
            "622/622 [==============================] - 0s 158us/step - loss: 0.0521 - val_loss: 0.1180\n",
            "Epoch 67/200\n",
            "622/622 [==============================] - 0s 162us/step - loss: 0.0514 - val_loss: 0.1162\n",
            "Epoch 68/200\n",
            "622/622 [==============================] - 0s 151us/step - loss: 0.0507 - val_loss: 0.1134\n",
            "Epoch 69/200\n",
            "622/622 [==============================] - 0s 165us/step - loss: 0.0500 - val_loss: 0.1110\n",
            "Epoch 70/200\n",
            "622/622 [==============================] - 0s 196us/step - loss: 0.0493 - val_loss: 0.1115\n",
            "Epoch 71/200\n",
            "622/622 [==============================] - 0s 215us/step - loss: 0.0487 - val_loss: 0.1087\n",
            "Epoch 72/200\n",
            "622/622 [==============================] - 0s 196us/step - loss: 0.0480 - val_loss: 0.1060\n",
            "Epoch 73/200\n",
            "622/622 [==============================] - 0s 169us/step - loss: 0.0474 - val_loss: 0.1034\n",
            "Epoch 74/200\n",
            "622/622 [==============================] - 0s 180us/step - loss: 0.0468 - val_loss: 0.1026\n",
            "Epoch 75/200\n",
            "622/622 [==============================] - 0s 195us/step - loss: 0.0462 - val_loss: 0.1027\n",
            "Epoch 76/200\n",
            "622/622 [==============================] - 0s 201us/step - loss: 0.0456 - val_loss: 0.0998\n",
            "Epoch 77/200\n",
            "622/622 [==============================] - 0s 219us/step - loss: 0.0450 - val_loss: 0.0988\n",
            "Epoch 78/200\n",
            "622/622 [==============================] - 0s 205us/step - loss: 0.0445 - val_loss: 0.0970\n",
            "Epoch 79/200\n",
            "622/622 [==============================] - 0s 156us/step - loss: 0.0439 - val_loss: 0.0956\n",
            "Epoch 80/200\n",
            "622/622 [==============================] - 0s 175us/step - loss: 0.0434 - val_loss: 0.0936\n",
            "Epoch 81/200\n",
            "622/622 [==============================] - 0s 201us/step - loss: 0.0428 - val_loss: 0.0926\n",
            "Epoch 82/200\n",
            "622/622 [==============================] - 0s 191us/step - loss: 0.0423 - val_loss: 0.0920\n",
            "Epoch 83/200\n",
            "622/622 [==============================] - 0s 154us/step - loss: 0.0418 - val_loss: 0.0907\n",
            "Epoch 84/200\n",
            "622/622 [==============================] - 0s 205us/step - loss: 0.0413 - val_loss: 0.0895\n",
            "Epoch 85/200\n",
            "622/622 [==============================] - 0s 232us/step - loss: 0.0408 - val_loss: 0.0887\n",
            "Epoch 86/200\n",
            "622/622 [==============================] - 0s 240us/step - loss: 0.0403 - val_loss: 0.0855\n",
            "Epoch 87/200\n",
            "622/622 [==============================] - 0s 257us/step - loss: 0.0398 - val_loss: 0.0852\n",
            "Epoch 88/200\n",
            "622/622 [==============================] - 0s 221us/step - loss: 0.0393 - val_loss: 0.0847\n",
            "Epoch 89/200\n",
            "622/622 [==============================] - 0s 182us/step - loss: 0.0388 - val_loss: 0.0825\n",
            "Epoch 90/200\n",
            "622/622 [==============================] - 0s 196us/step - loss: 0.0384 - val_loss: 0.0821\n",
            "Epoch 91/200\n",
            "622/622 [==============================] - 0s 207us/step - loss: 0.0379 - val_loss: 0.0818\n",
            "Epoch 92/200\n",
            "622/622 [==============================] - 0s 194us/step - loss: 0.0375 - val_loss: 0.0800\n",
            "Epoch 93/200\n",
            "622/622 [==============================] - 0s 206us/step - loss: 0.0371 - val_loss: 0.0796\n",
            "Epoch 94/200\n",
            "622/622 [==============================] - 0s 175us/step - loss: 0.0366 - val_loss: 0.0781\n",
            "Epoch 95/200\n",
            "622/622 [==============================] - 0s 167us/step - loss: 0.0363 - val_loss: 0.0776\n",
            "Epoch 96/200\n",
            "622/622 [==============================] - 0s 214us/step - loss: 0.0358 - val_loss: 0.0766\n",
            "Epoch 97/200\n",
            "622/622 [==============================] - 0s 205us/step - loss: 0.0354 - val_loss: 0.0755\n",
            "Epoch 98/200\n",
            "622/622 [==============================] - 0s 164us/step - loss: 0.0350 - val_loss: 0.0748\n",
            "Epoch 99/200\n",
            "622/622 [==============================] - 0s 165us/step - loss: 0.0346 - val_loss: 0.0737\n",
            "Epoch 100/200\n",
            "622/622 [==============================] - 0s 164us/step - loss: 0.0342 - val_loss: 0.0724\n",
            "Epoch 101/200\n",
            "622/622 [==============================] - 0s 167us/step - loss: 0.0339 - val_loss: 0.0722\n",
            "Epoch 102/200\n",
            "622/622 [==============================] - 0s 153us/step - loss: 0.0335 - val_loss: 0.0709\n",
            "Epoch 103/200\n",
            "622/622 [==============================] - 0s 162us/step - loss: 0.0331 - val_loss: 0.0708\n",
            "Epoch 104/200\n",
            "622/622 [==============================] - 0s 173us/step - loss: 0.0327 - val_loss: 0.0704\n",
            "Epoch 105/200\n",
            "622/622 [==============================] - 0s 216us/step - loss: 0.0324 - val_loss: 0.0679\n",
            "Epoch 106/200\n",
            "622/622 [==============================] - 0s 159us/step - loss: 0.0321 - val_loss: 0.0678\n",
            "Epoch 107/200\n",
            "622/622 [==============================] - 0s 153us/step - loss: 0.0317 - val_loss: 0.0670\n",
            "Epoch 108/200\n",
            "622/622 [==============================] - 0s 220us/step - loss: 0.0313 - val_loss: 0.0666\n",
            "Epoch 109/200\n",
            "622/622 [==============================] - 0s 203us/step - loss: 0.0310 - val_loss: 0.0653\n",
            "Epoch 110/200\n",
            "622/622 [==============================] - 0s 197us/step - loss: 0.0307 - val_loss: 0.0661\n",
            "Epoch 111/200\n",
            "622/622 [==============================] - 0s 208us/step - loss: 0.0303 - val_loss: 0.0656\n",
            "Epoch 112/200\n",
            "622/622 [==============================] - 0s 172us/step - loss: 0.0301 - val_loss: 0.0660\n",
            "Epoch 113/200\n",
            "622/622 [==============================] - 0s 161us/step - loss: 0.0297 - val_loss: 0.0641\n",
            "Epoch 114/200\n",
            "622/622 [==============================] - 0s 212us/step - loss: 0.0294 - val_loss: 0.0634\n",
            "Epoch 115/200\n",
            "622/622 [==============================] - 0s 193us/step - loss: 0.0291 - val_loss: 0.0628\n",
            "Epoch 116/200\n",
            "622/622 [==============================] - 0s 163us/step - loss: 0.0288 - val_loss: 0.0627\n",
            "Epoch 117/200\n",
            "622/622 [==============================] - 0s 149us/step - loss: 0.0286 - val_loss: 0.0614\n",
            "Epoch 118/200\n",
            "622/622 [==============================] - 0s 168us/step - loss: 0.0283 - val_loss: 0.0606\n",
            "Epoch 119/200\n",
            "622/622 [==============================] - 0s 167us/step - loss: 0.0280 - val_loss: 0.0603\n",
            "Epoch 120/200\n",
            "622/622 [==============================] - 0s 167us/step - loss: 0.0277 - val_loss: 0.0598\n",
            "Epoch 121/200\n",
            "622/622 [==============================] - 0s 177us/step - loss: 0.0274 - val_loss: 0.0603\n",
            "Epoch 122/200\n",
            "622/622 [==============================] - 0s 151us/step - loss: 0.0272 - val_loss: 0.0593\n",
            "Epoch 123/200\n",
            "622/622 [==============================] - 0s 162us/step - loss: 0.0269 - val_loss: 0.0586\n",
            "Epoch 124/200\n",
            "622/622 [==============================] - 0s 181us/step - loss: 0.0266 - val_loss: 0.0587\n",
            "Epoch 125/200\n",
            "622/622 [==============================] - 0s 161us/step - loss: 0.0264 - val_loss: 0.0589\n",
            "Epoch 126/200\n",
            "622/622 [==============================] - 0s 159us/step - loss: 0.0261 - val_loss: 0.0576\n",
            "Epoch 127/200\n",
            "622/622 [==============================] - 0s 170us/step - loss: 0.0259 - val_loss: 0.0576\n",
            "Epoch 128/200\n",
            "622/622 [==============================] - 0s 244us/step - loss: 0.0256 - val_loss: 0.0570\n",
            "Epoch 129/200\n",
            "622/622 [==============================] - 0s 256us/step - loss: 0.0254 - val_loss: 0.0570\n",
            "Epoch 130/200\n",
            "622/622 [==============================] - 0s 252us/step - loss: 0.0251 - val_loss: 0.0569\n",
            "Epoch 131/200\n",
            "622/622 [==============================] - 0s 224us/step - loss: 0.0249 - val_loss: 0.0555\n",
            "Epoch 132/200\n",
            "622/622 [==============================] - 0s 223us/step - loss: 0.0246 - val_loss: 0.0558\n",
            "Epoch 133/200\n",
            "622/622 [==============================] - 0s 176us/step - loss: 0.0244 - val_loss: 0.0558\n",
            "Epoch 134/200\n",
            "622/622 [==============================] - 0s 199us/step - loss: 0.0242 - val_loss: 0.0548\n",
            "Epoch 135/200\n",
            "622/622 [==============================] - 0s 202us/step - loss: 0.0240 - val_loss: 0.0548\n",
            "Epoch 136/200\n",
            "622/622 [==============================] - 0s 198us/step - loss: 0.0238 - val_loss: 0.0546\n",
            "Epoch 137/200\n",
            "622/622 [==============================] - 0s 177us/step - loss: 0.0235 - val_loss: 0.0537\n",
            "Epoch 138/200\n",
            "622/622 [==============================] - 0s 158us/step - loss: 0.0233 - val_loss: 0.0537\n",
            "Epoch 139/200\n",
            "622/622 [==============================] - 0s 150us/step - loss: 0.0231 - val_loss: 0.0530\n",
            "Epoch 140/200\n",
            "622/622 [==============================] - 0s 158us/step - loss: 0.0229 - val_loss: 0.0529\n",
            "Epoch 141/200\n",
            "622/622 [==============================] - 0s 191us/step - loss: 0.0227 - val_loss: 0.0521\n",
            "Epoch 142/200\n",
            "622/622 [==============================] - 0s 187us/step - loss: 0.0225 - val_loss: 0.0524\n",
            "Epoch 143/200\n",
            "622/622 [==============================] - 0s 194us/step - loss: 0.0223 - val_loss: 0.0511\n",
            "Epoch 144/200\n",
            "622/622 [==============================] - 0s 198us/step - loss: 0.0221 - val_loss: 0.0517\n",
            "Epoch 145/200\n",
            "622/622 [==============================] - 0s 202us/step - loss: 0.0219 - val_loss: 0.0510\n",
            "Epoch 146/200\n",
            "622/622 [==============================] - 0s 192us/step - loss: 0.0217 - val_loss: 0.0506\n",
            "Epoch 147/200\n",
            "622/622 [==============================] - 0s 163us/step - loss: 0.0216 - val_loss: 0.0503\n",
            "Epoch 148/200\n",
            "622/622 [==============================] - 0s 157us/step - loss: 0.0214 - val_loss: 0.0503\n",
            "Epoch 149/200\n",
            "622/622 [==============================] - 0s 223us/step - loss: 0.0212 - val_loss: 0.0499\n",
            "Epoch 150/200\n",
            "622/622 [==============================] - 0s 177us/step - loss: 0.0210 - val_loss: 0.0490\n",
            "Epoch 151/200\n",
            "622/622 [==============================] - 0s 156us/step - loss: 0.0208 - val_loss: 0.0493\n",
            "Epoch 152/200\n",
            "622/622 [==============================] - 0s 199us/step - loss: 0.0207 - val_loss: 0.0486\n",
            "Epoch 153/200\n",
            "622/622 [==============================] - 0s 200us/step - loss: 0.0205 - val_loss: 0.0479\n",
            "Epoch 154/200\n",
            "622/622 [==============================] - 0s 192us/step - loss: 0.0203 - val_loss: 0.0487\n",
            "Epoch 155/200\n",
            "622/622 [==============================] - 0s 157us/step - loss: 0.0201 - val_loss: 0.0490\n",
            "Epoch 156/200\n",
            "622/622 [==============================] - 0s 157us/step - loss: 0.0200 - val_loss: 0.0476\n",
            "Epoch 157/200\n",
            "622/622 [==============================] - 0s 158us/step - loss: 0.0198 - val_loss: 0.0484\n",
            "Epoch 158/200\n",
            "622/622 [==============================] - 0s 177us/step - loss: 0.0196 - val_loss: 0.0474\n",
            "Epoch 159/200\n",
            "622/622 [==============================] - 0s 203us/step - loss: 0.0195 - val_loss: 0.0471\n",
            "Epoch 160/200\n",
            "622/622 [==============================] - 0s 206us/step - loss: 0.0194 - val_loss: 0.0471\n",
            "Epoch 161/200\n",
            "622/622 [==============================] - 0s 209us/step - loss: 0.0192 - val_loss: 0.0464\n",
            "Epoch 162/200\n",
            "622/622 [==============================] - 0s 205us/step - loss: 0.0190 - val_loss: 0.0479\n",
            "Epoch 163/200\n",
            "622/622 [==============================] - 0s 185us/step - loss: 0.0189 - val_loss: 0.0457\n",
            "Epoch 164/200\n",
            "622/622 [==============================] - 0s 160us/step - loss: 0.0187 - val_loss: 0.0464\n",
            "Epoch 165/200\n",
            "622/622 [==============================] - 0s 152us/step - loss: 0.0186 - val_loss: 0.0463\n",
            "Epoch 166/200\n",
            "622/622 [==============================] - 0s 201us/step - loss: 0.0184 - val_loss: 0.0460\n",
            "Epoch 167/200\n",
            "622/622 [==============================] - 0s 216us/step - loss: 0.0183 - val_loss: 0.0447\n",
            "Epoch 168/200\n",
            "622/622 [==============================] - 0s 219us/step - loss: 0.0181 - val_loss: 0.0459\n",
            "Epoch 169/200\n",
            "622/622 [==============================] - 0s 230us/step - loss: 0.0180 - val_loss: 0.0443\n",
            "Epoch 170/200\n",
            "622/622 [==============================] - 0s 206us/step - loss: 0.0179 - val_loss: 0.0459\n",
            "Epoch 171/200\n",
            "622/622 [==============================] - 0s 193us/step - loss: 0.0178 - val_loss: 0.0439\n",
            "Epoch 172/200\n",
            "622/622 [==============================] - 0s 158us/step - loss: 0.0177 - val_loss: 0.0433\n",
            "Epoch 173/200\n",
            "622/622 [==============================] - 0s 154us/step - loss: 0.0175 - val_loss: 0.0445\n",
            "Epoch 174/200\n",
            "622/622 [==============================] - 0s 218us/step - loss: 0.0174 - val_loss: 0.0436\n",
            "Epoch 175/200\n",
            "622/622 [==============================] - 0s 208us/step - loss: 0.0173 - val_loss: 0.0430\n",
            "Epoch 176/200\n",
            "622/622 [==============================] - 0s 150us/step - loss: 0.0171 - val_loss: 0.0438\n",
            "Epoch 177/200\n",
            "622/622 [==============================] - 0s 202us/step - loss: 0.0170 - val_loss: 0.0441\n",
            "Epoch 178/200\n",
            "622/622 [==============================] - 0s 206us/step - loss: 0.0169 - val_loss: 0.0432\n",
            "Epoch 179/200\n",
            "622/622 [==============================] - 0s 212us/step - loss: 0.0168 - val_loss: 0.0416\n",
            "Epoch 180/200\n",
            "622/622 [==============================] - 0s 175us/step - loss: 0.0166 - val_loss: 0.0427\n",
            "Epoch 181/200\n",
            "622/622 [==============================] - 0s 158us/step - loss: 0.0165 - val_loss: 0.0428\n",
            "Epoch 182/200\n",
            "622/622 [==============================] - 0s 155us/step - loss: 0.0164 - val_loss: 0.0417\n",
            "Epoch 183/200\n",
            "622/622 [==============================] - 0s 156us/step - loss: 0.0162 - val_loss: 0.0417\n",
            "Epoch 184/200\n",
            "622/622 [==============================] - 0s 176us/step - loss: 0.0161 - val_loss: 0.0412\n",
            "Epoch 185/200\n",
            "622/622 [==============================] - 0s 153us/step - loss: 0.0160 - val_loss: 0.0405\n",
            "Epoch 186/200\n",
            "622/622 [==============================] - 0s 172us/step - loss: 0.0159 - val_loss: 0.0404\n",
            "Epoch 187/200\n",
            "622/622 [==============================] - 0s 194us/step - loss: 0.0158 - val_loss: 0.0410\n",
            "Epoch 188/200\n",
            "622/622 [==============================] - 0s 201us/step - loss: 0.0157 - val_loss: 0.0408\n",
            "Epoch 189/200\n",
            "622/622 [==============================] - 0s 191us/step - loss: 0.0156 - val_loss: 0.0394\n",
            "Epoch 190/200\n",
            "622/622 [==============================] - 0s 164us/step - loss: 0.0155 - val_loss: 0.0410\n",
            "Epoch 191/200\n",
            "622/622 [==============================] - 0s 211us/step - loss: 0.0154 - val_loss: 0.0402\n",
            "Epoch 192/200\n",
            "622/622 [==============================] - 0s 203us/step - loss: 0.0153 - val_loss: 0.0405\n",
            "Epoch 193/200\n",
            "622/622 [==============================] - 0s 179us/step - loss: 0.0152 - val_loss: 0.0387\n",
            "Epoch 194/200\n",
            "622/622 [==============================] - 0s 152us/step - loss: 0.0151 - val_loss: 0.0401\n",
            "Epoch 195/200\n",
            "622/622 [==============================] - 0s 163us/step - loss: 0.0150 - val_loss: 0.0399\n",
            "Epoch 196/200\n",
            "622/622 [==============================] - 0s 203us/step - loss: 0.0149 - val_loss: 0.0395\n",
            "Epoch 197/200\n",
            "622/622 [==============================] - 0s 194us/step - loss: 0.0148 - val_loss: 0.0403\n",
            "Epoch 198/200\n",
            "622/622 [==============================] - 0s 171us/step - loss: 0.0147 - val_loss: 0.0391\n",
            "Epoch 199/200\n",
            "622/622 [==============================] - 0s 156us/step - loss: 0.0146 - val_loss: 0.0395\n",
            "Epoch 200/200\n",
            "622/622 [==============================] - 0s 154us/step - loss: 0.0145 - val_loss: 0.0398\n"
          ],
          "name": "stdout"
        },
        {
          "output_type": "display_data",
          "data": {
            "image/png": "[encoded data removed]",
            "text/plain": [
              "<Figure size 432x288 with 1 Axes>"
            ]
          },
          "metadata": {
            "tags": []
          }
        }
      ]
    },
    {
      "cell_type": "markdown",
      "metadata": {
        "id": "EhMIeyGGMefe",
        "colab_type": "text"
      },
      "source": [
        "**Отображаем результаты**"
      ]
    },
    {
      "cell_type": "markdown",
      "metadata": {
        "id": "D4WfvFtT73Yw",
        "colab_type": "text"
      },
      "source": [
        "*Разбор данного раздела:* https://youtu.be/1BV1I59HwB4?t=5883"
      ]
    },
    {
      "cell_type": "code",
      "metadata": {
        "id": "8p7pgzBtMhM0",
        "colab_type": "code",
        "colab": {}
      },
      "source": [
        "#Прогнозируем данные текущей сетью\n",
        "currModel = modelD2\n",
        "(predVal2, yValUnscaled2) = getPred(currModel, xVal2, yVal2, yScaler2)"
      ],
      "execution_count": 0,
      "outputs": []
    },
    {
      "cell_type": "code",
      "metadata": {
        "id": "PeaHUM-3MroE",
        "colab_type": "code",
        "outputId": "20adf902-3a88-4e79-f859-bd8a8610e232",
        "colab": {
          "base_uri": "https://localhost:8080/",
          "height": 282
        }
      },
      "source": [
        "#Отображаем графики\n",
        "showPredict(0, 100, 9, predVal2, yValUnscaled2)"
      ],
      "execution_count": 0,
      "outputs": [
        {
          "output_type": "display_data",
          "data": {
            "image/png": "[encoded data removed]",
            "text/plain": [
              "<Figure size 432x288 with 1 Axes>"
            ]
          },
          "metadata": {
            "tags": []
          }
        }
      ]
    },
    {
      "cell_type": "code",
      "metadata": {
        "id": "x0RiRVC_NCap",
        "colab_type": "code",
        "outputId": "2d39896d-11e4-4cac-b272-62aefd1ae6ab",
        "colab": {
          "base_uri": "https://localhost:8080/",
          "height": 279
        }
      },
      "source": [
        "#Отображаем корреляцию\n",
        "showCorr([0, 1, 2, 3, 4], 10, predVal2, yValUnscaled2)"
      ],
      "execution_count": 0,
      "outputs": [
        {
          "output_type": "display_data",
          "data": {
            "image/png": "[encoded data removed]",
            "text/plain": [
              "<Figure size 432x288 with 1 Axes>"
            ]
          },
          "metadata": {
            "tags": []
          }
        }
      ]
    },
    {
      "cell_type": "markdown",
      "metadata": {
        "id": "bCVTOuzHzM0b",
        "colab_type": "text"
      },
      "source": [
        "#Сложная модель. Предсказание на несколько шагов"
      ]
    },
    {
      "cell_type": "markdown",
      "metadata": {
        "id": "4XPEvir88LTg",
        "colab_type": "text"
      },
      "source": [
        "*Разбор данного раздела:* https://youtu.be/1BV1I59HwB4?t=6043"
      ]
    },
    {
      "cell_type": "markdown",
      "metadata": {
        "id": "7gp-1wxnRAHR",
        "colab_type": "text"
      },
      "source": [
        "**Загружаем данные**"
      ]
    },
    {
      "cell_type": "code",
      "metadata": {
        "id": "mULbCcQFzPv2",
        "colab_type": "code",
        "outputId": "0ac42281-1c40-4365-9a56-5db48bf74a48",
        "colab": {
          "base_uri": "https://localhost:8080/",
          "height": 85
        }
      },
      "source": [
        "xLen = 20\n",
        "stepsForward = 10\n",
        "xChannels = range(data.shape[1])\n",
        "yChannels = [0]\n",
        "xNormalization = 0\n",
        "yNormalization = 0\n",
        "valLen = 100\n",
        "returnFlatten = 0\n",
        "\n",
        "(xTrain3, yTrain3), (xVal3, yVal3), (xScaler3, yScaler3) = getXTrainFromTimeSeries(data, xLen, xChannels, yChannels, stepsForward, xNormalization, yNormalization, returnFlatten, valLen, 0)\n",
        "\n",
        "print(xTrain3.shape)\n",
        "print(yTrain3.shape)\n",
        "print(xVal3.shape)\n",
        "print(yVal3.shape)"
      ],
      "execution_count": 0,
      "outputs": [
        {
          "output_type": "stream",
          "text": [
            "(622, 20, 6)\n",
            "(622, 10)\n",
            "(100, 20, 6)\n",
            "(100, 10)\n"
          ],
          "name": "stdout"
        }
      ]
    },
    {
      "cell_type": "markdown",
      "metadata": {
        "id": "LbuxbCYpRCXX",
        "colab_type": "text"
      },
      "source": [
        "**Обучаем нейронку**"
      ]
    },
    {
      "cell_type": "code",
      "metadata": {
        "id": "b3Zzf_AIj-mW",
        "colab_type": "code",
        "outputId": "fdaa7915-bf40-4395-e1ba-b2b36f01e7f4",
        "colab": {
          "base_uri": "https://localhost:8080/",
          "height": 1000
        }
      },
      "source": [
        "dataInput = Input(shape=(xTrain3.shape[1], xTrain3.shape[2]))\n",
        "\n",
        "lstmWay = CuDNNLSTM(40, return_sequences=\"True\")(dataInput)\n",
        "convWay = Conv1D(100, 5, activation=\"relu\")(dataInput)\n",
        "\n",
        "lstmWay = CuDNNLSTM(40, return_sequences=\"True\")(lstmWay)\n",
        "convWay = Conv1D(100, 5, activation=\"relu\")(convWay)\n",
        "\n",
        "denseWay = Dense(10, activation=\"linear\")(dataInput)\n",
        "denseWay = Dense(10, activation=\"linear\")(denseWay)\n",
        "\n",
        "lstmWay = Flatten()(lstmWay)\n",
        "convWay = Flatten()(convWay)\n",
        "denseWay = Flatten()(denseWay)\n",
        "\n",
        "finWay = concatenate([lstmWay, convWay, denseWay])\n",
        "finWay = Dense(10, activation=\"linear\")(finWay)\n",
        "finWay = Dense(yTrain3.shape[1], activation=\"linear\")(finWay)\n",
        "\n",
        "modelX3 = Model(dataInput, finWay)\n",
        "\n",
        "modelX3.compile(loss=\"mse\", optimizer=Adam(lr=1e-5))\n",
        "\n",
        "history = modelX3.fit(xTrain3, \n",
        "                    yTrain3, \n",
        "                    epochs=100, \n",
        "                    batch_size=20, \n",
        "                    verbose=1,\n",
        "                    validation_data=(xVal3, yVal3))\n",
        "\n",
        "plt.plot(history.history['loss'][10:], \n",
        "         label='Точность на обучающем наборе')\n",
        "plt.plot(history.history['val_loss'][10:], \n",
        "         label='Точность на проверочном наборе')\n",
        "plt.ylabel('Средняя ошибка')\n",
        "plt.legend()\n",
        "plt.show()"
      ],
      "execution_count": 0,
      "outputs": [
        {
          "output_type": "stream",
          "text": [
            "Train on 622 samples, validate on 100 samples\n",
            "Epoch 1/100\n",
            "622/622 [==============================] - 6s 10ms/step - loss: 0.6190 - val_loss: 5.4115\n",
            "Epoch 2/100\n",
            "622/622 [==============================] - 0s 436us/step - loss: 0.5150 - val_loss: 4.9660\n",
            "Epoch 3/100\n",
            "622/622 [==============================] - 0s 458us/step - loss: 0.4364 - val_loss: 4.5491\n",
            "Epoch 4/100\n",
            "622/622 [==============================] - 0s 507us/step - loss: 0.3740 - val_loss: 4.2007\n",
            "Epoch 5/100\n",
            "622/622 [==============================] - 0s 457us/step - loss: 0.3208 - val_loss: 3.8602\n",
            "Epoch 6/100\n",
            "622/622 [==============================] - 0s 540us/step - loss: 0.2758 - val_loss: 3.5538\n",
            "Epoch 7/100\n",
            "622/622 [==============================] - 0s 518us/step - loss: 0.2365 - val_loss: 3.2763\n",
            "Epoch 8/100\n",
            "622/622 [==============================] - 0s 511us/step - loss: 0.2023 - val_loss: 3.0071\n",
            "Epoch 9/100\n",
            "622/622 [==============================] - 0s 486us/step - loss: 0.1726 - val_loss: 2.7685\n",
            "Epoch 10/100\n",
            "622/622 [==============================] - 0s 539us/step - loss: 0.1473 - val_loss: 2.5262\n",
            "Epoch 11/100\n",
            "622/622 [==============================] - 0s 427us/step - loss: 0.1265 - val_loss: 2.2716\n",
            "Epoch 12/100\n",
            "622/622 [==============================] - 0s 447us/step - loss: 0.1097 - val_loss: 2.0780\n",
            "Epoch 13/100\n",
            "622/622 [==============================] - 0s 430us/step - loss: 0.0969 - val_loss: 1.8970\n",
            "Epoch 14/100\n",
            "622/622 [==============================] - 0s 459us/step - loss: 0.0869 - val_loss: 1.7221\n",
            "Epoch 15/100\n",
            "622/622 [==============================] - 0s 562us/step - loss: 0.0790 - val_loss: 1.5685\n",
            "Epoch 16/100\n",
            "622/622 [==============================] - 0s 426us/step - loss: 0.0728 - val_loss: 1.3993\n",
            "Epoch 17/100\n",
            "622/622 [==============================] - 0s 441us/step - loss: 0.0678 - val_loss: 1.2740\n",
            "Epoch 18/100\n",
            "622/622 [==============================] - 0s 433us/step - loss: 0.0638 - val_loss: 1.1465\n",
            "Epoch 19/100\n",
            "622/622 [==============================] - 0s 481us/step - loss: 0.0601 - val_loss: 1.0327\n",
            "Epoch 20/100\n",
            "622/622 [==============================] - 0s 428us/step - loss: 0.0567 - val_loss: 0.9293\n",
            "Epoch 21/100\n",
            "622/622 [==============================] - 0s 466us/step - loss: 0.0537 - val_loss: 0.8353\n",
            "Epoch 22/100\n",
            "622/622 [==============================] - 0s 498us/step - loss: 0.0508 - val_loss: 0.7482\n",
            "Epoch 23/100\n",
            "622/622 [==============================] - 0s 439us/step - loss: 0.0482 - val_loss: 0.6681\n",
            "Epoch 24/100\n",
            "622/622 [==============================] - 0s 430us/step - loss: 0.0458 - val_loss: 0.5951\n",
            "Epoch 25/100\n",
            "622/622 [==============================] - 0s 490us/step - loss: 0.0436 - val_loss: 0.5291\n",
            "Epoch 26/100\n",
            "622/622 [==============================] - 0s 466us/step - loss: 0.0415 - val_loss: 0.4764\n",
            "Epoch 27/100\n",
            "622/622 [==============================] - 0s 426us/step - loss: 0.0397 - val_loss: 0.4264\n",
            "Epoch 28/100\n",
            "622/622 [==============================] - 0s 438us/step - loss: 0.0380 - val_loss: 0.3783\n",
            "Epoch 29/100\n",
            "622/622 [==============================] - 0s 546us/step - loss: 0.0364 - val_loss: 0.3420\n",
            "Epoch 30/100\n",
            "622/622 [==============================] - 0s 428us/step - loss: 0.0351 - val_loss: 0.3088\n",
            "Epoch 31/100\n",
            "622/622 [==============================] - 0s 431us/step - loss: 0.0338 - val_loss: 0.2840\n",
            "Epoch 32/100\n",
            "622/622 [==============================] - 0s 523us/step - loss: 0.0326 - val_loss: 0.2603\n",
            "Epoch 33/100\n",
            "622/622 [==============================] - 0s 557us/step - loss: 0.0315 - val_loss: 0.2380\n",
            "Epoch 34/100\n",
            "622/622 [==============================] - 0s 550us/step - loss: 0.0305 - val_loss: 0.2164\n",
            "Epoch 35/100\n",
            "622/622 [==============================] - 0s 516us/step - loss: 0.0296 - val_loss: 0.2039\n",
            "Epoch 36/100\n",
            "622/622 [==============================] - 0s 483us/step - loss: 0.0288 - val_loss: 0.1916\n",
            "Epoch 37/100\n",
            "622/622 [==============================] - 0s 486us/step - loss: 0.0280 - val_loss: 0.1835\n",
            "Epoch 38/100\n",
            "622/622 [==============================] - 0s 578us/step - loss: 0.0273 - val_loss: 0.1789\n",
            "Epoch 39/100\n",
            "622/622 [==============================] - 0s 493us/step - loss: 0.0267 - val_loss: 0.1721\n",
            "Epoch 40/100\n",
            "622/622 [==============================] - 0s 449us/step - loss: 0.0260 - val_loss: 0.1663\n",
            "Epoch 41/100\n",
            "622/622 [==============================] - 0s 440us/step - loss: 0.0255 - val_loss: 0.1626\n",
            "Epoch 42/100\n",
            "622/622 [==============================] - 0s 486us/step - loss: 0.0249 - val_loss: 0.1583\n",
            "Epoch 43/100\n",
            "622/622 [==============================] - 0s 566us/step - loss: 0.0244 - val_loss: 0.1536\n",
            "Epoch 44/100\n",
            "622/622 [==============================] - 0s 481us/step - loss: 0.0239 - val_loss: 0.1520\n",
            "Epoch 45/100\n",
            "622/622 [==============================] - 0s 450us/step - loss: 0.0234 - val_loss: 0.1450\n",
            "Epoch 46/100\n",
            "622/622 [==============================] - 0s 455us/step - loss: 0.0230 - val_loss: 0.1454\n",
            "Epoch 47/100\n",
            "622/622 [==============================] - 0s 431us/step - loss: 0.0226 - val_loss: 0.1430\n",
            "Epoch 48/100\n",
            "622/622 [==============================] - 0s 419us/step - loss: 0.0222 - val_loss: 0.1417\n",
            "Epoch 49/100\n",
            "622/622 [==============================] - 0s 495us/step - loss: 0.0218 - val_loss: 0.1393\n",
            "Epoch 50/100\n",
            "622/622 [==============================] - 0s 575us/step - loss: 0.0215 - val_loss: 0.1362\n",
            "Epoch 51/100\n",
            "622/622 [==============================] - 0s 547us/step - loss: 0.0211 - val_loss: 0.1366\n",
            "Epoch 52/100\n",
            "622/622 [==============================] - 0s 536us/step - loss: 0.0208 - val_loss: 0.1375\n",
            "Epoch 53/100\n",
            "622/622 [==============================] - 0s 604us/step - loss: 0.0205 - val_loss: 0.1371\n",
            "Epoch 54/100\n",
            "622/622 [==============================] - 0s 545us/step - loss: 0.0202 - val_loss: 0.1294\n",
            "Epoch 55/100\n",
            "622/622 [==============================] - 0s 440us/step - loss: 0.0200 - val_loss: 0.1381\n",
            "Epoch 56/100\n",
            "622/622 [==============================] - 0s 455us/step - loss: 0.0197 - val_loss: 0.1451\n",
            "Epoch 57/100\n",
            "622/622 [==============================] - 0s 438us/step - loss: 0.0195 - val_loss: 0.1413\n",
            "Epoch 58/100\n",
            "622/622 [==============================] - 0s 444us/step - loss: 0.0192 - val_loss: 0.1391\n",
            "Epoch 59/100\n",
            "622/622 [==============================] - 0s 469us/step - loss: 0.0190 - val_loss: 0.1389\n",
            "Epoch 60/100\n",
            "622/622 [==============================] - 0s 528us/step - loss: 0.0188 - val_loss: 0.1355\n",
            "Epoch 61/100\n",
            "622/622 [==============================] - 0s 442us/step - loss: 0.0186 - val_loss: 0.1381\n",
            "Epoch 62/100\n",
            "622/622 [==============================] - 0s 443us/step - loss: 0.0184 - val_loss: 0.1368\n",
            "Epoch 63/100\n",
            "622/622 [==============================] - 0s 506us/step - loss: 0.0181 - val_loss: 0.1349\n",
            "Epoch 64/100\n",
            "622/622 [==============================] - 0s 548us/step - loss: 0.0180 - val_loss: 0.1363\n",
            "Epoch 65/100\n",
            "622/622 [==============================] - 0s 490us/step - loss: 0.0178 - val_loss: 0.1371\n",
            "Epoch 66/100\n",
            "622/622 [==============================] - 0s 474us/step - loss: 0.0176 - val_loss: 0.1340\n",
            "Epoch 67/100\n",
            "622/622 [==============================] - 0s 477us/step - loss: 0.0174 - val_loss: 0.1384\n",
            "Epoch 68/100\n",
            "622/622 [==============================] - 0s 433us/step - loss: 0.0173 - val_loss: 0.1372\n",
            "Epoch 69/100\n",
            "622/622 [==============================] - 0s 422us/step - loss: 0.0171 - val_loss: 0.1373\n",
            "Epoch 70/100\n",
            "622/622 [==============================] - 0s 507us/step - loss: 0.0169 - val_loss: 0.1444\n",
            "Epoch 71/100\n",
            "622/622 [==============================] - 0s 518us/step - loss: 0.0168 - val_loss: 0.1437\n",
            "Epoch 72/100\n",
            "622/622 [==============================] - 0s 498us/step - loss: 0.0166 - val_loss: 0.1439\n",
            "Epoch 73/100\n",
            "622/622 [==============================] - 0s 593us/step - loss: 0.0165 - val_loss: 0.1411\n",
            "Epoch 74/100\n",
            "622/622 [==============================] - 0s 535us/step - loss: 0.0163 - val_loss: 0.1456\n",
            "Epoch 75/100\n",
            "622/622 [==============================] - 0s 477us/step - loss: 0.0161 - val_loss: 0.1415\n",
            "Epoch 76/100\n",
            "622/622 [==============================] - 0s 438us/step - loss: 0.0160 - val_loss: 0.1403\n",
            "Epoch 77/100\n",
            "622/622 [==============================] - 0s 466us/step - loss: 0.0158 - val_loss: 0.1395\n",
            "Epoch 78/100\n",
            "622/622 [==============================] - 0s 454us/step - loss: 0.0157 - val_loss: 0.1425\n",
            "Epoch 79/100\n",
            "622/622 [==============================] - 0s 439us/step - loss: 0.0156 - val_loss: 0.1408\n",
            "Epoch 80/100\n",
            "622/622 [==============================] - 0s 459us/step - loss: 0.0155 - val_loss: 0.1380\n",
            "Epoch 81/100\n",
            "622/622 [==============================] - 0s 521us/step - loss: 0.0153 - val_loss: 0.1415\n",
            "Epoch 82/100\n",
            "622/622 [==============================] - 0s 564us/step - loss: 0.0152 - val_loss: 0.1431\n",
            "Epoch 83/100\n",
            "622/622 [==============================] - 0s 542us/step - loss: 0.0151 - val_loss: 0.1468\n",
            "Epoch 84/100\n",
            "622/622 [==============================] - 0s 543us/step - loss: 0.0149 - val_loss: 0.1393\n",
            "Epoch 85/100\n",
            "622/622 [==============================] - 0s 446us/step - loss: 0.0148 - val_loss: 0.1435\n",
            "Epoch 86/100\n",
            "622/622 [==============================] - 0s 437us/step - loss: 0.0147 - val_loss: 0.1426\n",
            "Epoch 87/100\n",
            "622/622 [==============================] - 0s 508us/step - loss: 0.0146 - val_loss: 0.1440\n",
            "Epoch 88/100\n",
            "622/622 [==============================] - 0s 440us/step - loss: 0.0144 - val_loss: 0.1459\n",
            "Epoch 89/100\n",
            "622/622 [==============================] - 0s 441us/step - loss: 0.0143 - val_loss: 0.1444\n",
            "Epoch 90/100\n",
            "622/622 [==============================] - 0s 487us/step - loss: 0.0142 - val_loss: 0.1427\n",
            "Epoch 91/100\n",
            "622/622 [==============================] - 0s 540us/step - loss: 0.0141 - val_loss: 0.1428\n",
            "Epoch 92/100\n",
            "622/622 [==============================] - 0s 424us/step - loss: 0.0140 - val_loss: 0.1430\n",
            "Epoch 93/100\n",
            "622/622 [==============================] - 0s 442us/step - loss: 0.0139 - val_loss: 0.1412\n",
            "Epoch 94/100\n",
            "622/622 [==============================] - 0s 465us/step - loss: 0.0138 - val_loss: 0.1433\n",
            "Epoch 95/100\n",
            "622/622 [==============================] - 0s 446us/step - loss: 0.0136 - val_loss: 0.1451\n",
            "Epoch 96/100\n",
            "622/622 [==============================] - 0s 431us/step - loss: 0.0136 - val_loss: 0.1441\n",
            "Epoch 97/100\n",
            "622/622 [==============================] - 0s 432us/step - loss: 0.0135 - val_loss: 0.1453\n",
            "Epoch 98/100\n",
            "622/622 [==============================] - 0s 477us/step - loss: 0.0133 - val_loss: 0.1477\n",
            "Epoch 99/100\n",
            "622/622 [==============================] - 0s 486us/step - loss: 0.0132 - val_loss: 0.1473\n",
            "Epoch 100/100\n",
            "622/622 [==============================] - 0s 553us/step - loss: 0.0131 - val_loss: 0.1469\n"
          ],
          "name": "stdout"
        },
        {
          "output_type": "display_data",
          "data": {
            "image/png": "[encoded data removed]",
            "text/plain": [
              "<Figure size 432x288 with 1 Axes>"
            ]
          },
          "metadata": {
            "tags": []
          }
        }
      ]
    },
    {
      "cell_type": "markdown",
      "metadata": {
        "id": "sBU1eUECRMFO",
        "colab_type": "text"
      },
      "source": [
        "**Отображаем реультаты**"
      ]
    },
    {
      "cell_type": "code",
      "metadata": {
        "id": "bu3N1DuQROKS",
        "colab_type": "code",
        "colab": {}
      },
      "source": [
        "#Прогнозируем данные текущей сетью\n",
        "currModel = modelX3\n",
        "(predVal3, yValUnscaled3) = getPred(currModel, xVal3, yVal3, yScaler3)"
      ],
      "execution_count": 0,
      "outputs": []
    },
    {
      "cell_type": "code",
      "metadata": {
        "id": "x-TPrUMrRjTF",
        "colab_type": "code",
        "outputId": "7083c115-4898-4a22-8458-ca6a81dd6a36",
        "colab": {
          "base_uri": "https://localhost:8080/",
          "height": 279
        }
      },
      "source": [
        "#Отображаем графики\n",
        "showPredict(9, 100, 0, predVal3, yValUnscaled3)"
      ],
      "execution_count": 0,
      "outputs": [
        {
          "output_type": "display_data",
          "data": {
            "image/png": "[encoded data removed]",
            "text/plain": [
              "<Figure size 432x288 with 1 Axes>"
            ]
          },
          "metadata": {
            "tags": []
          }
        }
      ]
    },
    {
      "cell_type": "code",
      "metadata": {
        "id": "WyYbdwuCRmSU",
        "colab_type": "code",
        "outputId": "a4c88c8f-3813-4623-db29-9a0b76540221",
        "colab": {
          "base_uri": "https://localhost:8080/",
          "height": 279
        }
      },
      "source": [
        "#Отображаем корреляцию\n",
        "showCorr([0, 1, 2, 8, 9], 20, predVal3, yValUnscaled3)"
      ],
      "execution_count": 0,
      "outputs": [
        {
          "output_type": "display_data",
          "data": {
            "image/png": "[encoded data removed]",
            "text/plain": [
              "<Figure size 432x288 with 1 Axes>"
            ]
          },
          "metadata": {
            "tags": []
          }
        }
      ]
    },
    {
      "cell_type": "markdown",
      "metadata": {
        "id": "uO2Vv13AWNmQ",
        "colab_type": "text"
      },
      "source": [
        "#Своя функция ошибки"
      ]
    },
    {
      "cell_type": "markdown",
      "metadata": {
        "id": "DSD467Im8hbt",
        "colab_type": "text"
      },
      "source": [
        "*Разбор данного раздела:* https://youtu.be/1BV1I59HwB4?t=6146"
      ]
    },
    {
      "cell_type": "code",
      "metadata": {
        "id": "_r2YE2HmWP4K",
        "colab_type": "code",
        "colab": {}
      },
      "source": [
        "### Функция ошибки\n",
        "def getError(x1, x2):\n",
        "  dx = (x1-x2) ** 2 #Вычислем среднеквадратичную ошибку по точкам\n",
        "  dxs = np.sort(dx)[::-1] #Сортируем ошибку в порядке убывания\n",
        "  return np.mean(dxs[:10]) #Итоговая ошибка равны среднему 10 самых больших ошибок на всём отрезке"
      ],
      "execution_count": 0,
      "outputs": []
    },
    {
      "cell_type": "code",
      "metadata": {
        "id": "G-6dSfN6YpBb",
        "colab_type": "code",
        "outputId": "a47554f2-555d-47d8-ac62-45b31551fb7e",
        "colab": {
          "base_uri": "https://localhost:8080/",
          "height": 34
        }
      },
      "source": [
        "#Вычисляем ошибку при прогнозе на 1 шаг\n",
        "predictionStep = 0\n",
        "x1 = predVal2[:,predictionStep]\n",
        "x2 = yValUnscaled2[:,predictionStep]\n",
        "\n",
        "print(getError(x1, x2))"
      ],
      "execution_count": 0,
      "outputs": [
        {
          "output_type": "stream",
          "text": [
            "0.32653351332014435\n"
          ],
          "name": "stdout"
        }
      ]
    },
    {
      "cell_type": "code",
      "metadata": {
        "id": "X0GjQN6AWQqh",
        "colab_type": "code",
        "outputId": "4727d0d4-82d9-4fa1-db5b-5f99937e1082",
        "colab": {
          "base_uri": "https://localhost:8080/",
          "height": 187
        }
      },
      "source": [
        "#Отображаем ошибку при прогнозе на несколько шагов вперёд\n",
        "for i in range(stepsForward):\n",
        "  x1 = predVal2[:,i]\n",
        "  x2 = yValUnscaled2[:,i]\n",
        "\n",
        "  print(\"Шаг\", i+1, \"ошибка\", round(getError(x1, x2),3))"
      ],
      "execution_count": 0,
      "outputs": [
        {
          "output_type": "stream",
          "text": [
            "Шаг 1 ошибка 0.327\n",
            "Шаг 2 ошибка 0.742\n",
            "Шаг 3 ошибка 0.562\n",
            "Шаг 4 ошибка 0.89\n",
            "Шаг 5 ошибка 0.845\n",
            "Шаг 6 ошибка 0.984\n",
            "Шаг 7 ошибка 0.892\n",
            "Шаг 8 ошибка 0.97\n",
            "Шаг 9 ошибка 0.662\n",
            "Шаг 10 ошибка 0.684\n"
          ],
          "name": "stdout"
        }
      ]
    },
    {
      "cell_type": "code",
      "metadata": {
        "id": "i27SbcbOXsEZ",
        "colab_type": "code",
        "colab": {}
      },
      "source": [
        "### Функция ошибки\n",
        "\n",
        "def getError2(x1, x2):\n",
        "  corr = []\n",
        "  yLen = x1.shape[0]\n",
        "\n",
        "  #Вычисляем корреляцию выхода сети в верным ответом\n",
        "  #Смещая выход сети назад от 0 до 9 шагов\n",
        "  for i in range(10):\n",
        "    corr.append(correlate(x1[:yLen-i], x2[i:]))\n",
        "  \n",
        "  corr = np.array(corr)\n",
        "  \n",
        "  #Возвращаем функцию ошибки, как произведение\n",
        "  #1 - корреляции без смещения (со смещением на 0)\n",
        "  #2 - того, во сколько раз корреляция без смещения больше, чем средняя корреляция при смещении на 1-5 шагов\n",
        "  return corr[0] * (corr[0] / np.max(corr[1:10]))"
      ],
      "execution_count": 0,
      "outputs": []
    },
    {
      "cell_type": "code",
      "metadata": {
        "id": "tkcsSjRMWSBK",
        "colab_type": "code",
        "outputId": "6a3f589b-1b10-4c9b-b97a-9e36fc27b94f",
        "colab": {
          "base_uri": "https://localhost:8080/",
          "height": 34
        }
      },
      "source": [
        "#Вычисляем ошибку при прогнозе на 1 шаг\n",
        "predictionStep = 0\n",
        "x1 = predVal2[:,predictionStep]\n",
        "x2 = yValUnscaled2[:,predictionStep]\n",
        "\n",
        "print(getError2(x1, x2))"
      ],
      "execution_count": 0,
      "outputs": [
        {
          "output_type": "stream",
          "text": [
            "0.9674742907948463\n"
          ],
          "name": "stdout"
        }
      ]
    },
    {
      "cell_type": "code",
      "metadata": {
        "id": "Mn6S6FceXuM2",
        "colab_type": "code",
        "outputId": "f89f1693-8dcb-443b-adad-73cb5267eb74",
        "colab": {
          "base_uri": "https://localhost:8080/",
          "height": 187
        }
      },
      "source": [
        "#Отображаем ошибку при прогнозе на несколько шагов вперёд\n",
        "for i in range(stepsForward):\n",
        "  x1 = predVal2[:,i]\n",
        "  x2 = yValUnscaled2[:,i]\n",
        "\n",
        "  print(round(getError2(x1, x2),4))"
      ],
      "execution_count": 0,
      "outputs": [
        {
          "output_type": "stream",
          "text": [
            "0.9675\n",
            "0.9544\n",
            "0.9601\n",
            "0.9512\n",
            "0.9322\n",
            "0.9158\n",
            "0.9012\n",
            "0.8866\n",
            "0.9137\n",
            "0.9138\n"
          ],
          "name": "stdout"
        }
      ]
    },
    {
      "cell_type": "code",
      "metadata": {
        "id": "W0hpe3WGyb95",
        "colab_type": "code",
        "outputId": "96f5a227-1c82-4648-8dac-b0925a55118a",
        "colab": {
          "base_uri": "https://localhost:8080/",
          "height": 202
        }
      },
      "source": [
        "#Сравнимаем две модели по новой функции ошибки\n",
        "#При предсказании на несколько шагов вперёд\n",
        "model1 = modelX3\n",
        "model2 = modelD2\n",
        "\n",
        "#Получаем предсказания от обеих сетей\n",
        "predValM1 = yScaler3.inverse_transform(model1.predict(xVal3))\n",
        "predValM2 = yScaler2.inverse_transform(model2.predict(xVal2))\n",
        "yValUnscaled3 = yScaler3.inverse_transform(yVal2)\n",
        "\n",
        "#Здаём собственную функцию ошибки\n",
        "errorFunc = getError2\n",
        "\n",
        "for i in range(stepsForward):\n",
        "  x1 = predValM1[:,i]\n",
        "  x2 = predValM2[:,i]\n",
        "  x = yValUnscaled2[:,i]\n",
        "\n",
        "  print(\"Предсказание на\", i+1, \"шагов: M1 =\", round(errorFunc(x1, x),3), \"M2 =\", round(errorFunc(x2, x),3))"
      ],
      "execution_count": 0,
      "outputs": [
        {
          "output_type": "stream",
          "text": [
            "Предсказание на 1 шагов: M1 = 0.94 M2 = 0.977\n",
            "Предсказание на 2 шагов: M1 = 0.96 M2 = 0.951\n",
            "Предсказание на 3 шагов: M1 = 0.943 M2 = 0.938\n",
            "Предсказание на 4 шагов: M1 = 0.95 M2 = 0.924\n",
            "Предсказание на 5 шагов: M1 = 0.949 M2 = 0.951\n",
            "Предсказание на 6 шагов: M1 = 0.869 M2 = 0.936\n",
            "Предсказание на 7 шагов: M1 = 0.9 M2 = 0.897\n",
            "Предсказание на 8 шагов: M1 = 0.876 M2 = 0.929\n",
            "Предсказание на 9 шагов: M1 = 0.89 M2 = 0.917\n",
            "Предсказание на 10 шагов: M1 = 0.879 M2 = 0.892\n"
          ],
          "name": "stdout"
        }
      ]
    }
  ]
}