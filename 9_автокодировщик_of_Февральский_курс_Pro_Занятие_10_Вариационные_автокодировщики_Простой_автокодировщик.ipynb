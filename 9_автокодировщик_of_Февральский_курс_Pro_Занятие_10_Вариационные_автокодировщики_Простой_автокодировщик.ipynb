{
  "nbformat": 4,
  "nbformat_minor": 0,
  "metadata": {
    "colab": {
      "name": "9 автокодировщик of Февральский курс. Pro. Занятие 10. Вариационные автокодировщики. Простой автокодировщик",
      "provenance": [],
      "collapsed_sections": [],
      "include_colab_link": true
    },
    "kernelspec": {
      "name": "python3",
      "display_name": "Python 3"
    },
    "accelerator": "GPU"
  },
  "cells": [
    {
      "cell_type": "markdown",
      "metadata": {
        "id": "view-in-github",
        "colab_type": "text"
      },
      "source": [
        "<a href=\"https://colab.research.google.com/github/errec-sun/brain/blob/master/9_%D0%B0%D0%B2%D1%82%D0%BE%D0%BA%D0%BE%D0%B4%D0%B8%D1%80%D0%BE%D0%B2%D1%89%D0%B8%D0%BA_of_%D0%A4%D0%B5%D0%B2%D1%80%D0%B0%D0%BB%D1%8C%D1%81%D0%BA%D0%B8%D0%B9_%D0%BA%D1%83%D1%80%D1%81_Pro_%D0%97%D0%B0%D0%BD%D1%8F%D1%82%D0%B8%D0%B5_10_%D0%92%D0%B0%D1%80%D0%B8%D0%B0%D1%86%D0%B8%D0%BE%D0%BD%D0%BD%D1%8B%D0%B5_%D0%B0%D0%B2%D1%82%D0%BE%D0%BA%D0%BE%D0%B4%D0%B8%D1%80%D0%BE%D0%B2%D1%89%D0%B8%D0%BA%D0%B8_%D0%9F%D1%80%D0%BE%D1%81%D1%82%D0%BE%D0%B9_%D0%B0%D0%B2%D1%82%D0%BE%D0%BA%D0%BE%D0%B4%D0%B8%D1%80%D0%BE%D0%B2%D1%89%D0%B8%D0%BA.ipynb\" target=\"_parent\"><img src=\"https://colab.research.google.com/assets/colab-badge.svg\" alt=\"Open In Colab\"/></a>"
      ]
    },
    {
      "cell_type": "markdown",
      "metadata": {
        "id": "0znZQORv9E1D",
        "colab_type": "text"
      },
      "source": [
        "#Простой автоэнкодер\n"
      ]
    },
    {
      "cell_type": "code",
      "metadata": {
        "id": "ptQcP4I6CXAP",
        "colab_type": "code",
        "outputId": "36c99ceb-9303-47a3-98c6-c691d75830f0",
        "colab": {
          "base_uri": "https://localhost:8080/",
          "height": 153
        }
      },
      "source": [
        "from tensorflow.keras.datasets import fashion_mnist # загружаем готовую базу mnist(fashion- с одеждой, обувью и т.п)\n",
        "import numpy as np # загружаем библиотеку для работы с массивами данных\n",
        "\n",
        "#(x_train, y_train), (x_test, y_test) = mnist.load_data() # загружаем данные из базы с разбивкой на train/test\n",
        "(x_train, y_train), (x_test, y_test) = fashion_mnist.load_data() # загружаем данные из базы с разбивкой на train/test\n",
        "x_train = x_train.astype('float32') / 255. # представляем x_train в виде значений от 0 до 1\n",
        "x_test  = x_test .astype('float32') / 255. # представляем x_test в виде значений от 0 до 1\n",
        "x_train = np.reshape(x_train, (len(x_train), 28, 28, 1)) # меняем форму, приводим к нужным нам размерам\n",
        "x_test  = np.reshape(x_test,  (len(x_test),  28, 28, 1)) # меняем форму, приводим к нужным нам размерам"
      ],
      "execution_count": 0,
      "outputs": [
        {
          "output_type": "stream",
          "text": [
            "Downloading data from https://storage.googleapis.com/tensorflow/tf-keras-datasets/train-labels-idx1-ubyte.gz\n",
            "32768/29515 [=================================] - 0s 0us/step\n",
            "Downloading data from https://storage.googleapis.com/tensorflow/tf-keras-datasets/train-images-idx3-ubyte.gz\n",
            "26427392/26421880 [==============================] - 0s 0us/step\n",
            "Downloading data from https://storage.googleapis.com/tensorflow/tf-keras-datasets/t10k-labels-idx1-ubyte.gz\n",
            "8192/5148 [===============================================] - 0s 0us/step\n",
            "Downloading data from https://storage.googleapis.com/tensorflow/tf-keras-datasets/t10k-images-idx3-ubyte.gz\n",
            "4423680/4422102 [==============================] - 0s 0us/step\n"
          ],
          "name": "stdout"
        }
      ]
    },
    {
      "cell_type": "code",
      "metadata": {
        "id": "uPEW6oOe9B-0",
        "colab_type": "code",
        "outputId": "f26f39c8-1223-412c-8f13-2a31ec386587",
        "colab": {
          "base_uri": "https://localhost:8080/",
          "height": 51
        }
      },
      "source": [
        "from tensorflow.keras.datasets import mnist # загружаем готовую стандартную базу рукописных цифр mnist\n",
        "import numpy as np # загружаем библиотеку для работы с массивами данных\n",
        "\n",
        "(x_train, y_train), (x_test, y_test) = mnist.load_data() # загружаем данные из базы с разбивкой на train/test\n",
        "\n",
        "x_train = x_train.astype('float32') / 255. # представляем x_train в виде значений от 0 до 1\n",
        "x_test  = x_test .astype('float32') / 255. # представляем x_test в виде значений от 0 до 1\n",
        "x_train = np.reshape(x_train, (len(x_train), 28, 28, 1)) # меняем форму, приводим к нужным нам размерам\n",
        "x_test  = np.reshape(x_test,  (len(x_test),  28, 28, 1)) # меняем форму, приводим к нужным нам размерам"
      ],
      "execution_count": 0,
      "outputs": [
        {
          "output_type": "stream",
          "text": [
            "Downloading data from https://storage.googleapis.com/tensorflow/tf-keras-datasets/mnist.npz\n",
            "11493376/11490434 [==============================] - 0s 0us/step\n"
          ],
          "name": "stdout"
        }
      ]
    },
    {
      "cell_type": "code",
      "metadata": {
        "id": "2Ni2cep57jSP",
        "colab_type": "code",
        "outputId": "bbefa322-3249-4f29-e986-4026e4c8f019",
        "colab": {
          "base_uri": "https://localhost:8080/",
          "height": 51
        }
      },
      "source": [
        "import seaborn as sns # более высокоуровневое API на базе библиотеки matplotlib\n",
        "import matplotlib.pyplot as plt # из библиотеки для визуализации данных возьмём интерфейс для построения графиков простых функций\n",
        "\n",
        "def plot_digits(*args): # функция отрисует две линии картинок - оригинальные и выходные из автокодировщика\n",
        "    args = [x.squeeze() for x in args] # удаляем оси с одним элементом из аргументов\n",
        "    n = min([x.shape[0] for x in args]) # берем минимальное от нулевой оси x'ов в аргументах\n",
        "    \n",
        "    plt.figure(figsize=(2*n, 2*len(args))) # плотим фигуру с заданными значениями\n",
        "    for j in range(n):\n",
        "        for i in range(len(args)):\n",
        "            ax = plt.subplot(len(args), n, i*n + j + 1) # задаем параметры и создаем сабплоты\n",
        "            plt.imshow(args[i][j]) # выведем картинку\n",
        "            plt.gray() # в черно-белых цветах \n",
        "            ax.get_xaxis().set_visible(False) # ось координат xaxis делаем невидимой\n",
        "            ax.get_yaxis().set_visible(False) # ось координат yaxis делаем невидимой\n",
        "\n",
        "    plt.show() # выводим отрисованное на экран"
      ],
      "execution_count": 0,
      "outputs": [
        {
          "output_type": "stream",
          "text": [
            "/usr/local/lib/python3.6/dist-packages/statsmodels/tools/_testing.py:19: FutureWarning: pandas.util.testing is deprecated. Use the functions in the public API at pandas.testing instead.\n",
            "  import pandas.util.testing as tm\n"
          ],
          "name": "stderr"
        }
      ]
    },
    {
      "cell_type": "code",
      "metadata": {
        "id": "JotzhvDB_Qp0",
        "colab_type": "code",
        "colab": {}
      },
      "source": [
        "from tensorflow.keras.layers import Input, Dense, Flatten, Reshape # загружаем необходимые слои\n",
        "from tensorflow.keras.models import Model # загружаем абстрактный класс базовой модели сети от кераса\n",
        "\n",
        "def create_dense_ae(): # объявляем функцию создания автокодировщика\n",
        "    # Размерность кодированного представления\n",
        "    encoding_dim = 49\n",
        "\n",
        "    # Энкодер\n",
        "    # Входной плейсхолдер\n",
        "    input_img = Input(shape=(28, 28, 1)) # 28, 28, 1 - размерности строк, столбцов, фильтров одной картинки, без батч-размерности\n",
        "    # Вспомогательный слой решейпинга\n",
        "    flat_img = Flatten()(input_img)\n",
        "    # Кодированное полносвязным слоем представление\n",
        "    encoded = Dense(encoding_dim, activation='relu')(flat_img)\n",
        "    \n",
        "    # Декодер\n",
        "    # Раскодированное другим полносвязным слоем изображение\n",
        "    input_encoded = Input(shape=(encoding_dim,)) # задаем входную размерность (49,)\n",
        "    flat_decoded = Dense(28*28, activation='sigmoid')(input_encoded) # далее полносвязный слой на 784 нейрона\n",
        "    decoded = Reshape((28, 28, 1))(flat_decoded) # меняем форму, приводим к нужным нам размерам\n",
        "\n",
        "    # Модели, в конструктор первым аргументом передаются входные слои, а вторым выходные слои\n",
        "    # Другие модели можно так же использовать как и слои\n",
        "    encoder = Model(input_img, encoded, name=\"encoder\")\n",
        "    \n",
        "    decoder = Model(input_encoded, decoded, name=\"decoder\")\n",
        "    \n",
        "    # Построим модель автокодировщика (внутри двойное преобразование - сжатие/разжатие)\n",
        "    autoencoder = Model(input_img, decoder(encoder(input_img)), name=\"autoencoder\")\n",
        "    return encoder, decoder, autoencoder # функция вернет 3 собранные сетки"
      ],
      "execution_count": 0,
      "outputs": []
    },
    {
      "cell_type": "code",
      "metadata": {
        "id": "FfhaG7R07IiM",
        "colab_type": "code",
        "colab": {}
      },
      "source": [
        "encoder, decoder, autoencoder = create_dense_ae() # создаем три сетки с помощью заданной ранее функции\n",
        "autoencoder.compile(optimizer='adam', loss='binary_crossentropy') # компилируем модель с выбранным оптимайзером и функцией потерь "
      ],
      "execution_count": 0,
      "outputs": []
    },
    {
      "cell_type": "code",
      "metadata": {
        "id": "bF9R28Fc7LLs",
        "colab_type": "code",
        "outputId": "c397cab4-f3a9-45dd-de8d-5154a2679dbc",
        "colab": {
          "base_uri": "https://localhost:8080/",
          "height": 255
        }
      },
      "source": [
        "autoencoder.summary() # взглянем на информацию о полученной модели автокодировщика"
      ],
      "execution_count": 0,
      "outputs": [
        {
          "output_type": "stream",
          "text": [
            "Model: \"autoencoder\"\n",
            "_________________________________________________________________\n",
            "Layer (type)                 Output Shape              Param #   \n",
            "=================================================================\n",
            "input_1 (InputLayer)         [(None, 28, 28, 1)]       0         \n",
            "_________________________________________________________________\n",
            "encoder (Model)              (None, 49)                38465     \n",
            "_________________________________________________________________\n",
            "decoder (Model)              (None, 28, 28, 1)         39200     \n",
            "=================================================================\n",
            "Total params: 77,665\n",
            "Trainable params: 77,665\n",
            "Non-trainable params: 0\n",
            "_________________________________________________________________\n"
          ],
          "name": "stdout"
        }
      ]
    },
    {
      "cell_type": "code",
      "metadata": {
        "id": "mraUrO_qWAM-",
        "colab_type": "code",
        "outputId": "aec278ef-543e-4250-a94e-052e4dd50a0c",
        "colab": {
          "base_uri": "https://localhost:8080/",
          "height": 255
        }
      },
      "source": [
        "decoder.summary() # отдельно взглянем на информацию о декодере"
      ],
      "execution_count": 0,
      "outputs": [
        {
          "output_type": "stream",
          "text": [
            "Model: \"decoder\"\n",
            "_________________________________________________________________\n",
            "Layer (type)                 Output Shape              Param #   \n",
            "=================================================================\n",
            "input_2 (InputLayer)         [(None, 49)]              0         \n",
            "_________________________________________________________________\n",
            "dense_1 (Dense)              (None, 784)               39200     \n",
            "_________________________________________________________________\n",
            "reshape (Reshape)            (None, 28, 28, 1)         0         \n",
            "=================================================================\n",
            "Total params: 39,200\n",
            "Trainable params: 39,200\n",
            "Non-trainable params: 0\n",
            "_________________________________________________________________\n"
          ],
          "name": "stdout"
        }
      ]
    },
    {
      "cell_type": "code",
      "metadata": {
        "id": "lInVlH6B7XFb",
        "colab_type": "code",
        "outputId": "797460fc-7372-45c7-cfd2-b41666ececd5",
        "colab": {
          "base_uri": "https://localhost:8080/",
          "height": 884
        }
      },
      "source": [
        "autoencoder.fit(x_train, x_train,\n",
        "                epochs=25,\n",
        "                batch_size=256,\n",
        "                shuffle=True,\n",
        "                validation_data=(x_test, x_test)) # грузим наши данные в модель, задаем параметры и обучаем"
      ],
      "execution_count": 0,
      "outputs": [
        {
          "output_type": "stream",
          "text": [
            "Epoch 1/25\n",
            "235/235 [==============================] - 1s 4ms/step - loss: 0.2576 - val_loss: 0.1739\n",
            "Epoch 2/25\n",
            "235/235 [==============================] - 1s 3ms/step - loss: 0.1544 - val_loss: 0.1371\n",
            "Epoch 3/25\n",
            "235/235 [==============================] - 1s 3ms/step - loss: 0.1289 - val_loss: 0.1186\n",
            "Epoch 4/25\n",
            "235/235 [==============================] - 1s 3ms/step - loss: 0.1136 - val_loss: 0.1061\n",
            "Epoch 5/25\n",
            "235/235 [==============================] - 1s 3ms/step - loss: 0.1034 - val_loss: 0.0982\n",
            "Epoch 6/25\n",
            "235/235 [==============================] - 1s 3ms/step - loss: 0.0964 - val_loss: 0.0919\n",
            "Epoch 7/25\n",
            "235/235 [==============================] - 1s 3ms/step - loss: 0.0912 - val_loss: 0.0877\n",
            "Epoch 8/25\n",
            "235/235 [==============================] - 1s 3ms/step - loss: 0.0874 - val_loss: 0.0846\n",
            "Epoch 9/25\n",
            "235/235 [==============================] - 1s 3ms/step - loss: 0.0849 - val_loss: 0.0826\n",
            "Epoch 10/25\n",
            "235/235 [==============================] - 1s 3ms/step - loss: 0.0832 - val_loss: 0.0813\n",
            "Epoch 11/25\n",
            "235/235 [==============================] - 1s 3ms/step - loss: 0.0821 - val_loss: 0.0805\n",
            "Epoch 12/25\n",
            "235/235 [==============================] - 1s 3ms/step - loss: 0.0813 - val_loss: 0.0798\n",
            "Epoch 13/25\n",
            "235/235 [==============================] - 1s 3ms/step - loss: 0.0808 - val_loss: 0.0795\n",
            "Epoch 14/25\n",
            "235/235 [==============================] - 1s 3ms/step - loss: 0.0804 - val_loss: 0.0791\n",
            "Epoch 15/25\n",
            "235/235 [==============================] - 1s 3ms/step - loss: 0.0801 - val_loss: 0.0789\n",
            "Epoch 16/25\n",
            "235/235 [==============================] - 1s 3ms/step - loss: 0.0799 - val_loss: 0.0787\n",
            "Epoch 17/25\n",
            "235/235 [==============================] - 1s 3ms/step - loss: 0.0797 - val_loss: 0.0786\n",
            "Epoch 18/25\n",
            "235/235 [==============================] - 1s 3ms/step - loss: 0.0796 - val_loss: 0.0784\n",
            "Epoch 19/25\n",
            "235/235 [==============================] - 1s 3ms/step - loss: 0.0794 - val_loss: 0.0784\n",
            "Epoch 20/25\n",
            "235/235 [==============================] - 1s 3ms/step - loss: 0.0793 - val_loss: 0.0783\n",
            "Epoch 21/25\n",
            "235/235 [==============================] - 1s 4ms/step - loss: 0.0793 - val_loss: 0.0783\n",
            "Epoch 22/25\n",
            "235/235 [==============================] - 1s 3ms/step - loss: 0.0792 - val_loss: 0.0782\n",
            "Epoch 23/25\n",
            "235/235 [==============================] - 1s 3ms/step - loss: 0.0791 - val_loss: 0.0781\n",
            "Epoch 24/25\n",
            "235/235 [==============================] - 1s 3ms/step - loss: 0.0790 - val_loss: 0.0780\n",
            "Epoch 25/25\n",
            "235/235 [==============================] - 1s 3ms/step - loss: 0.0790 - val_loss: 0.0780\n"
          ],
          "name": "stdout"
        },
        {
          "output_type": "execute_result",
          "data": {
            "text/plain": [
              "<tensorflow.python.keras.callbacks.History at 0x7f0570166a90>"
            ]
          },
          "metadata": {
            "tags": []
          },
          "execution_count": 8
        }
      ]
    },
    {
      "cell_type": "code",
      "metadata": {
        "id": "lLtVtb8j7y1L",
        "colab_type": "code",
        "outputId": "02c04c5f-51ce-4d36-f221-2817798718a9",
        "colab": {
          "base_uri": "https://localhost:8080/",
          "height": 187
        }
      },
      "source": [
        "n = 10 # выбираем количество картинок\n",
        "imgs = x_test[:n] # взяли первые 10 от x_test\n",
        "encoded_imgs = encoder.predict(imgs, batch_size=n) # перевели их энкодером в скрытое пространство\n",
        "encoded_imgs[1] # взглянем на форму выбранной картинки в скрытом пространстве"
      ],
      "execution_count": 0,
      "outputs": [
        {
          "output_type": "execute_result",
          "data": {
            "text/plain": [
              "array([ 5.9016547,  5.4880924, 10.671319 , 11.466835 ,  1.1883907,\n",
              "       10.638081 ,  9.2998495, 10.687809 ,  6.454737 ,  3.1432922,\n",
              "        5.258876 ,  8.802423 , 14.189078 ,  9.307783 ,  2.9550567,\n",
              "        5.6611214,  7.050239 ,  5.0470953,  2.922504 ,  7.6155944,\n",
              "       12.879378 ,  6.1974554,  7.6634197,  5.666657 ,  8.05792  ,\n",
              "       11.42976  ,  0.       , 10.255039 ,  5.9357386,  3.6665654,\n",
              "       18.359945 , 11.856958 ,  2.0792599,  7.3447623,  6.6361237,\n",
              "        4.595411 , 16.557236 , 10.079827 ,  5.4564285,  4.9822836,\n",
              "        1.8740723, 10.836696 ,  7.3953958,  9.028002 ,  6.0852895,\n",
              "        7.40683  , 13.26696  ,  7.249554 ,  3.418913 ], dtype=float32)"
            ]
          },
          "metadata": {
            "tags": []
          },
          "execution_count": 9
        }
      ]
    },
    {
      "cell_type": "code",
      "metadata": {
        "id": "HDdGHHnO88zc",
        "colab_type": "code",
        "outputId": "2fb8b517-8c7b-4735-8c0b-e1eb2c756c15",
        "colab": {
          "base_uri": "https://localhost:8080/",
          "height": 248
        }
      },
      "source": [
        "decoded_imgs = decoder.predict(encoded_imgs, batch_size=n) # делаем преобразование этих картинок декодером\n",
        "\n",
        "plot_digits(imgs, decoded_imgs) # взглянем как преобразовал картинки обычный автокодировщик"
      ],
      "execution_count": 0,
      "outputs": [
        {
          "output_type": "display_data",
          "data": {
            "image/png": "[encoded data removed]",
            "text/plain": [
              "<Figure size 1440x288 with 20 Axes>"
            ]
          },
          "metadata": {
            "tags": [],
            "needs_background": "light"
          }
        }
      ]
    },
    {
      "cell_type": "markdown",
      "metadata": {
        "id": "X0mE18na9LzH",
        "colab_type": "text"
      },
      "source": [
        "#Сверточный автоэнкодер\n"
      ]
    },
    {
      "cell_type": "code",
      "metadata": {
        "id": "VTlNGgRr9AWp",
        "colab_type": "code",
        "outputId": "be266767-0de0-462f-ecdc-97c7608d3a5e",
        "colab": {
          "base_uri": "https://localhost:8080/",
          "height": 255
        }
      },
      "source": [
        "from tensorflow.keras.layers import Conv2D, MaxPooling2D, UpSampling2D, Conv2DTranspose # загружаем слои для свертки\n",
        "\n",
        "def create_deep_conv_ae(): # объявляем функцию создания глубокого сверточного автокодировщика\n",
        "    input_img = Input(shape=(28, 28, 1)) # размерности строк, столбцов, фильтров одной картинки, без батч-размерности\n",
        "\n",
        "    x = Conv2D(128, (7, 7), activation='relu', padding='same')(input_img) # входные данные передаем на слой двумерной свёртки\n",
        "    x = MaxPooling2D((2, 2), padding='same')(x) # передаём на слой подвыборки, снижающий размерность поступивших на него данных\n",
        "    x = Conv2D(32, (2, 2), activation='relu', padding='same')(x) # второй слой двумерной свёртки\n",
        "    x = MaxPooling2D((2, 2), padding='same')(x) # второй слой подвыборки\n",
        "    \n",
        "    encoded = Conv2D(1, (7, 7), activation='relu', padding='same')(x) # финальный слой свертки энкодера. Сжали в пространство 7на7\n",
        "\n",
        "    # На этом моменте представление  (7, 7, 1) т.е. 49-размерное\n",
        "\n",
        "    input_encoded = Input(shape=(7, 7, 1)) # задаем эти размеры как входные в декодер\n",
        "    x = Conv2D(32, (7, 7), activation='relu', padding='same')(input_encoded) # входные данные передаем на слой двумерной свёртки\n",
        "    x = UpSampling2D((2, 2))(x)  # Conv2DTranspose. Cлой разжимает данные, стало 14на14\n",
        "    x = Conv2D(128, (2, 2), activation='relu', padding='same')(x) # второй слой двумерной свёртки\n",
        "    x = UpSampling2D((2, 2))(x) # второй слой разжатия данных, стало 28на28\n",
        "    decoded = Conv2D(1, (7, 7), activation='sigmoid', padding='same')(x) # финальный слой свертки энкодера\n",
        "\n",
        "    # Модели\n",
        "    encoder = Model(input_img, encoded, name=\"encoder\") # задаем модель энкодера(сжатие картинки)\n",
        "    decoder = Model(input_encoded, decoded, name=\"decoder\") # задаем модель декодера(разжатие картинки)\n",
        "    autoencoder = Model(input_img, decoder(encoder(input_img)), name=\"autoencoder\") # задаем модель автокодировщика(сжатие-разжатие)\n",
        "    return encoder, decoder, autoencoder # функция возвращает 3 сетки\n",
        "\n",
        "c_encoder, c_decoder, c_autoencoder = create_deep_conv_ae() # создаем три сетки с помощью заданной ранее функции\n",
        "c_autoencoder.compile(optimizer='adam', loss='binary_crossentropy') # компилируем модель с выбранным оптимайзером и функцией потерь\n",
        "\n",
        "c_autoencoder.summary() # взглянем на информацию о полученной модели сверточного автокодировщика"
      ],
      "execution_count": 0,
      "outputs": [
        {
          "output_type": "stream",
          "text": [
            "Model: \"autoencoder\"\n",
            "_________________________________________________________________\n",
            "Layer (type)                 Output Shape              Param #   \n",
            "=================================================================\n",
            "input_5 (InputLayer)         [(None, 28, 28, 1)]       0         \n",
            "_________________________________________________________________\n",
            "encoder (Model)              (None, 7, 7, 1)           24385     \n",
            "_________________________________________________________________\n",
            "decoder (Model)              (None, 28, 28, 1)         24385     \n",
            "=================================================================\n",
            "Total params: 48,770\n",
            "Trainable params: 48,770\n",
            "Non-trainable params: 0\n",
            "_________________________________________________________________\n"
          ],
          "name": "stdout"
        }
      ]
    },
    {
      "cell_type": "code",
      "metadata": {
        "id": "v17lAI2FYEXD",
        "colab_type": "code",
        "outputId": "8917888e-e8cf-439c-9304-8a3d2b7c92bd",
        "colab": {
          "base_uri": "https://localhost:8080/",
          "height": 357
        }
      },
      "source": [
        "c_decoder.summary() # отдельно взглянем на информацию о декодере"
      ],
      "execution_count": 0,
      "outputs": [
        {
          "output_type": "stream",
          "text": [
            "Model: \"decoder\"\n",
            "_________________________________________________________________\n",
            "Layer (type)                 Output Shape              Param #   \n",
            "=================================================================\n",
            "input_6 (InputLayer)         [(None, 7, 7, 1)]         0         \n",
            "_________________________________________________________________\n",
            "conv2d_9 (Conv2D)            (None, 7, 7, 32)          1600      \n",
            "_________________________________________________________________\n",
            "up_sampling2d_2 (UpSampling2 (None, 14, 14, 32)        0         \n",
            "_________________________________________________________________\n",
            "conv2d_10 (Conv2D)           (None, 14, 14, 128)       16512     \n",
            "_________________________________________________________________\n",
            "up_sampling2d_3 (UpSampling2 (None, 28, 28, 128)       0         \n",
            "_________________________________________________________________\n",
            "conv2d_11 (Conv2D)           (None, 28, 28, 1)         6273      \n",
            "=================================================================\n",
            "Total params: 24,385\n",
            "Trainable params: 24,385\n",
            "Non-trainable params: 0\n",
            "_________________________________________________________________\n"
          ],
          "name": "stdout"
        }
      ]
    },
    {
      "cell_type": "code",
      "metadata": {
        "id": "GZUJKfAG9lJ-",
        "colab_type": "code",
        "outputId": "ee6e167b-5aea-4142-e027-bd9f80a41870",
        "colab": {
          "base_uri": "https://localhost:8080/",
          "height": 544
        }
      },
      "source": [
        "c_autoencoder.fit(x_train, x_train,\n",
        "                epochs=15,\n",
        "                batch_size=256,\n",
        "                shuffle=True,\n",
        "                validation_data=(x_test, x_test)) # грузим наши данные в модель, задаем параметры и обучаем"
      ],
      "execution_count": 0,
      "outputs": [
        {
          "output_type": "stream",
          "text": [
            "Epoch 1/15\n",
            "235/235 [==============================] - 16s 66ms/step - loss: 0.1792 - val_loss: 0.1028\n",
            "Epoch 2/15\n",
            "235/235 [==============================] - 15s 64ms/step - loss: 0.0961 - val_loss: 0.0891\n",
            "Epoch 3/15\n",
            "235/235 [==============================] - 15s 64ms/step - loss: 0.0875 - val_loss: 0.0832\n",
            "Epoch 4/15\n",
            "235/235 [==============================] - 15s 64ms/step - loss: 0.0835 - val_loss: 0.0808\n",
            "Epoch 5/15\n",
            "235/235 [==============================] - 15s 65ms/step - loss: 0.0813 - val_loss: 0.0791\n",
            "Epoch 6/15\n",
            "235/235 [==============================] - 15s 65ms/step - loss: 0.0796 - val_loss: 0.0775\n",
            "Epoch 7/15\n",
            "235/235 [==============================] - 15s 65ms/step - loss: 0.0785 - val_loss: 0.0793\n",
            "Epoch 8/15\n",
            "235/235 [==============================] - 15s 65ms/step - loss: 0.0776 - val_loss: 0.0758\n",
            "Epoch 9/15\n",
            "235/235 [==============================] - 15s 65ms/step - loss: 0.0769 - val_loss: 0.0751\n",
            "Epoch 10/15\n",
            "235/235 [==============================] - 15s 64ms/step - loss: 0.0762 - val_loss: 0.0756\n",
            "Epoch 11/15\n",
            "235/235 [==============================] - 15s 64ms/step - loss: 0.0759 - val_loss: 0.0744\n",
            "Epoch 12/15\n",
            "235/235 [==============================] - 15s 65ms/step - loss: 0.0756 - val_loss: 0.0739\n",
            "Epoch 13/15\n",
            "235/235 [==============================] - 15s 65ms/step - loss: 0.0748 - val_loss: 0.0739\n",
            "Epoch 14/15\n",
            "235/235 [==============================] - 15s 65ms/step - loss: 0.0747 - val_loss: 0.0732\n",
            "Epoch 15/15\n",
            "235/235 [==============================] - 15s 64ms/step - loss: 0.0743 - val_loss: 0.0731\n"
          ],
          "name": "stdout"
        },
        {
          "output_type": "execute_result",
          "data": {
            "text/plain": [
              "<tensorflow.python.keras.callbacks.History at 0x7f055a190e80>"
            ]
          },
          "metadata": {
            "tags": []
          },
          "execution_count": 14
        }
      ]
    },
    {
      "cell_type": "code",
      "metadata": {
        "id": "k1vQx7C4-VCu",
        "colab_type": "code",
        "outputId": "f453db3e-cc65-4a2c-99dc-f692c30c0a25",
        "colab": {
          "base_uri": "https://localhost:8080/",
          "height": 248
        }
      },
      "source": [
        "n = 10 # выбираем количество картинок\n",
        "\n",
        "imgs = x_test[:n] # взяли первые 10 от x_test\n",
        "encoded_imgs = c_encoder.predict(imgs, batch_size=n) # делаем преобразование энкодером\n",
        "decoded_imgs = c_decoder.predict(encoded_imgs, batch_size=n) # делаем преобразование декодером\n",
        "\n",
        "plot_digits(imgs, decoded_imgs) # взглянем как преобразовал картинки сверточный автокодировщик"
      ],
      "execution_count": 0,
      "outputs": [
        {
          "output_type": "display_data",
          "data": {
            "image/png": "[encoded data removed]",
            "text/plain": [
              "<Figure size 1440x288 with 20 Axes>"
            ]
          },
          "metadata": {
            "tags": [],
            "needs_background": "light"
          }
        }
      ]
    },
    {
      "cell_type": "markdown",
      "metadata": {
        "id": "7qM12qYQRF2U",
        "colab_type": "text"
      },
      "source": [
        "#Почему автоэнкодеры не используют для генерации изображений\n"
      ]
    },
    {
      "cell_type": "code",
      "metadata": {
        "id": "3YPrqqtxAfLP",
        "colab_type": "code",
        "colab": {}
      },
      "source": [
        "def add_noise(x,k): # создаем функцию добавления шума\n",
        "  x = x + k*np.random.normal(0, 1, x.shape) # получили x и прибавили к нему какое-то numpy нормальное распределение от 0 до 1\n",
        "  return x # функция вернет x с добавлением шума\n",
        "\n",
        "def add_img_func(x1,x2,k): # создаем функцию смешения картинок\n",
        "  x = x1*k + x2*(1-k) # смешиваем x1 с коэф-том k, и x2 с коэф-том (1-k)\n",
        "  return x # функция вернёт результат смешения"
      ],
      "execution_count": 0,
      "outputs": []
    },
    {
      "cell_type": "code",
      "metadata": {
        "id": "BqpupaITPJL-",
        "colab_type": "code",
        "outputId": "76c7a33b-f1d2-4645-86f8-f403af995301",
        "colab": {
          "base_uri": "https://localhost:8080/",
          "height": 323
        }
      },
      "source": [
        "n = 10 # выбираем количество картинок\n",
        "\n",
        "imgs = x_test[:n] # взяли первые 10 от x_test\n",
        "encoded_imgs = encoder.predict(imgs, batch_size=n) # делаем преобразование энкодером\n",
        "print(encoded_imgs[0]) # взглянем на форму выбранной картинки в скрытом пространстве\n",
        "\n",
        "add_img = x_test[n] # добавили 11ю картинку\n",
        "encoded_add_img = encoder.predict(np.array([add_img])) # преобразовываем энкодером\n",
        "print(encoded_add_img[0]) # выводим на экран"
      ],
      "execution_count": 0,
      "outputs": [
        {
          "output_type": "stream",
          "text": [
            "[ 4.6346498   5.3288994   6.635864    9.121981    4.7369223   3.632023\n",
            "  3.2975872   4.0906215   7.461721    4.7878385  12.671742    2.9535341\n",
            "  7.6275153   9.140751    4.8649273   8.01568     7.8189826   1.197238\n",
            " 11.143339    2.633591    9.030576    5.327747    2.122345    9.325985\n",
            "  6.867821    3.6741152  14.378166    6.761288    7.1346517   8.033683\n",
            "  2.6729033   4.409129    5.4602075   9.171975    5.533554    6.983801\n",
            "  6.118022    5.9375916   9.768176    3.4440403   7.8209486   3.7554157\n",
            "  5.0951943   9.400953    0.50274825  4.0350256   5.2030272   2.8988352\n",
            "  7.8797517 ]\n",
            "[ 7.7061963  2.633781  11.409122  12.639337   7.92493    6.6901574\n",
            " 13.721465   3.5597594  9.636771  19.254011   3.3091574 11.333051\n",
            " 11.122878   8.280304   3.0766559  3.0024767  5.7760153  1.6893357\n",
            " 23.620863   9.873587   8.218367   8.19767    8.57516   14.107063\n",
            "  6.770349   9.353065  10.9031925  3.6651092  9.116611   5.548211\n",
            " 22.817526   4.639823   4.5195155  4.887359  11.605742   4.7121253\n",
            " 11.738059  11.53335    6.808254   7.470242   7.3104205 10.550071\n",
            " 10.848912  16.947428  10.001911   2.6149588  8.317512   6.4712753\n",
            "  9.051115 ]\n"
          ],
          "name": "stdout"
        }
      ]
    },
    {
      "cell_type": "code",
      "metadata": {
        "id": "_8oE2Mh8PNL3",
        "colab_type": "code",
        "outputId": "4baed5ea-2ef6-4df3-9acf-38cb5f373ac0",
        "colab": {
          "base_uri": "https://localhost:8080/",
          "height": 187
        }
      },
      "source": [
        "encoded_imgs_with_noise = add_noise(encoded_imgs, 4) # добавили шума к обычным картинкам в скрытом пространстве \n",
        "encoded_imgs_with_noise[0] # взглянем на форму выбранной картинки с добавлением шума"
      ],
      "execution_count": 0,
      "outputs": [
        {
          "output_type": "execute_result",
          "data": {
            "text/plain": [
              "array([ 7.12184775, 12.42588708,  8.39592833, 13.97559485,  6.07277866,\n",
              "        0.94930585,  3.69113888,  3.78345869,  8.32423985, 10.34010236,\n",
              "       17.46688768,  3.6106432 ,  4.9441409 ,  5.51989502, -0.84863159,\n",
              "        8.42070553,  9.94727067,  7.33456588,  4.00173187, -0.95038252,\n",
              "       11.00911506,  4.41257738,  2.57300641, 10.5234764 , 10.88427056,\n",
              "        2.14497819, 17.56584808,  9.90428636, 16.23330532,  9.06397819,\n",
              "       -1.51840723,  6.55862734,  5.73428601,  4.42301591, -4.12065809,\n",
              "        8.61213513,  9.30593242,  5.55236266, 14.23612902, -5.87527776,\n",
              "       13.71371634,  6.5847482 ,  6.38135805, -0.56347124,  1.00835316,\n",
              "        3.16238932,  8.1786611 ,  3.30891197,  8.95879222])"
            ]
          },
          "metadata": {
            "tags": []
          },
          "execution_count": 18
        }
      ]
    },
    {
      "cell_type": "code",
      "metadata": {
        "id": "AIc72wJY3OL3",
        "colab_type": "code",
        "colab": {}
      },
      "source": [
        "encoded_imgs_with_noise2 = add_img_func(encoded_imgs, encoded_add_img, 0.25) # добавляем смещение\n",
        "#encoded_imgs_with_noise2[0]"
      ],
      "execution_count": 0,
      "outputs": []
    },
    {
      "cell_type": "code",
      "metadata": {
        "id": "CHEG026M3sPW",
        "colab_type": "code",
        "colab": {}
      },
      "source": [
        "decoded_imgs = decoder.predict(encoded_imgs, batch_size=n) # преобразовываем декодером обычные картинки\n",
        "decoded_imgs_with_add = decoder.predict(encoded_imgs_with_noise2, batch_size=n) # преобразовываем декодером картинки со смещением"
      ],
      "execution_count": 0,
      "outputs": []
    },
    {
      "cell_type": "code",
      "metadata": {
        "id": "CoUaNmrY3xBd",
        "colab_type": "code",
        "outputId": "0589f429-0c24-4de3-9e55-da9ad3439029",
        "colab": {
          "base_uri": "https://localhost:8080/",
          "height": 359
        }
      },
      "source": [
        "plot_digits(imgs, decoded_imgs, decoded_imgs_with_add)  # взглянем на результаты преобразования"
      ],
      "execution_count": 0,
      "outputs": [
        {
          "output_type": "display_data",
          "data": {
            "image/png": "[encoded data removed]",
            "text/plain": [
              "<Figure size 1440x432 with 30 Axes>"
            ]
          },
          "metadata": {
            "tags": [],
            "needs_background": "light"
          }
        }
      ]
    },
    {
      "cell_type": "code",
      "metadata": {
        "id": "MZeUexLTQZ4b",
        "colab_type": "code",
        "colab": {}
      },
      "source": [
        "decoded_imgs = decoder.predict(encoded_imgs, batch_size=n) # преобразовываем декодером обычные картинки\n",
        "decoded_imgs_with_noise = decoder.predict(encoded_imgs_with_noise, batch_size=n) # преобразовываем декодером зашумленные картинки"
      ],
      "execution_count": 0,
      "outputs": []
    },
    {
      "cell_type": "code",
      "metadata": {
        "id": "Jbz5iOQlQoE6",
        "colab_type": "code",
        "outputId": "bdd7d7aa-2ace-4786-8a50-a591fbca9d43",
        "colab": {
          "base_uri": "https://localhost:8080/",
          "height": 359
        }
      },
      "source": [
        "plot_digits(imgs,decoded_imgs, decoded_imgs_with_noise) # взглянем на результаты преобразования"
      ],
      "execution_count": 0,
      "outputs": [
        {
          "output_type": "display_data",
          "data": {
            "image/png": "[encoded data removed]",
            "text/plain": [
              "<Figure size 1440x432 with 30 Axes>"
            ]
          },
          "metadata": {
            "tags": [],
            "needs_background": "light"
          }
        }
      ]
    }
  ]
}