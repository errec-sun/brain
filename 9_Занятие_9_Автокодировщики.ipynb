{
  "nbformat": 4,
  "nbformat_minor": 0,
  "metadata": {
    "colab": {
      "name": "9 Занятие 9. Автокодировщики",
      "provenance": [],
      "collapsed_sections": [],
      "include_colab_link": true
    },
    "kernelspec": {
      "name": "python3",
      "display_name": "Python 3"
    },
    "accelerator": "TPU"
  },
  "cells": [
    {
      "cell_type": "markdown",
      "metadata": {
        "id": "view-in-github",
        "colab_type": "text"
      },
      "source": [
        "<a href=\"https://colab.research.google.com/github/errec-sun/brain/blob/master/9_%D0%97%D0%B0%D0%BD%D1%8F%D1%82%D0%B8%D0%B5_9_%D0%90%D0%B2%D1%82%D0%BE%D0%BA%D0%BE%D0%B4%D0%B8%D1%80%D0%BE%D0%B2%D1%89%D0%B8%D0%BA%D0%B8.ipynb\" target=\"_parent\"><img src=\"https://colab.research.google.com/assets/colab-badge.svg\" alt=\"Open In Colab\"/></a>"
      ]
    },
    {
      "cell_type": "markdown",
      "metadata": {
        "id": "aFLYlGX33Ii3",
        "colab_type": "text"
      },
      "source": [
        "*Теоретический материал:* https://youtu.be/6svKha_FyE4?t=1920"
      ]
    },
    {
      "cell_type": "markdown",
      "metadata": {
        "id": "JLhjPtaA3L8G",
        "colab_type": "text"
      },
      "source": [
        "*Разбор данного раздела:* https://youtu.be/6svKha_FyE4?t=3193"
      ]
    },
    {
      "cell_type": "code",
      "metadata": {
        "id": "0hyWYiPqLdez",
        "colab_type": "code",
        "colab": {}
      },
      "source": [
        "from tensorflow.keras.models import Model, Sequential # загружаем абстрактный класс базовой модели сети от кераса и последовательную модель\n",
        "from tensorflow.keras.datasets import mnist, fashion_mnist # загружаем готовые базы mnist\n",
        "# Из кераса загружаем необходимые слои для нейросети\n",
        "from tensorflow.keras.layers import Dense, Flatten, Reshape, Input, Conv2DTranspose, concatenate, Activation, MaxPooling2D, Conv2D, BatchNormalization\n",
        "from tensorflow.keras import backend as K # подтягиваем базовые керасовские функции\n",
        "from tensorflow.keras.optimizers import Adam # загружаем выбранный оптимизатор\n",
        "from tensorflow.keras import utils # загружаем утилиты кераса\n",
        "from google.colab import files # модуль для загрузки файлов в colab\n",
        "import matplotlib.pyplot as plt # из библиотеки для визуализации данных возьмём интерфейс для построения графиков простых функций\n",
        "from tensorflow.keras.preprocessing import image # модуль для отрисовки изображения\n",
        "import numpy as np # библиотека для работы с массивами данных\n",
        "import pandas as pd # библиотека для анализа и обработки данных\n",
        "from PIL import Image # модуль для отрисовки изображения\n",
        "from sklearn.model_selection import train_test_split # модуль для разбивки выборки на тренировочную/тестовую\n",
        "from sklearn.preprocessing import StandardScaler # модуль для стандартизации данных"
      ],
      "execution_count": 0,
      "outputs": []
    },
    {
      "cell_type": "markdown",
      "metadata": {
        "id": "qc7BJnQF8zam",
        "colab_type": "text"
      },
      "source": [
        "#Автокодировщик"
      ]
    },
    {
      "cell_type": "code",
      "metadata": {
        "colab_type": "code",
        "id": "32dg8H6yxOsE",
        "colab": {}
      },
      "source": [
        "def baseAutoencoder(): # зададим функцию создания базового автокодировщика\n",
        "    img_input = Input((28,28,1)) # задаём входные размеры\n",
        "\n",
        "    x = Conv2D(32, (3, 3), padding='same', activation='relu')(img_input) # входные данные передаем на слой двумерной свёртки\n",
        "    x = BatchNormalization()(x) # затем пропускаем через слой нормализации данных \n",
        "    x = Conv2D(32, (3, 3), padding='same', activation='relu')(x) # далее снова слой двумерной свёртки\n",
        "    x = BatchNormalization()(x) # и еще слой нормализации данных\n",
        "    x = MaxPooling2D()(x) # передаём на слой подвыборки, снижающий размерность поступивших на него данных\n",
        "\n",
        "    x = Conv2D(64, (3, 3), padding='same', activation='relu')(x) # передаем на слой двумерной свёртки\n",
        "    x = BatchNormalization()(x) # пропускаем через слой нормализации данных \n",
        "    x = Conv2D(64, (3, 3), padding='same', activation='relu')(x)  # далее снова слой двумерной свёртки\n",
        "    x = BatchNormalization()(x) # и еще слой нормализации данных\n",
        "    z = MaxPooling2D()(x) # передаём на слой подвыборки\n",
        "    # Изображение ужали до 7*7\n",
        "\n",
        "    x = Conv2DTranspose(64, (2, 2), strides=(2, 2), padding='same', activation='relu')(z) # слой разжимает данные(с 7*7 на 14*14)\n",
        "    x = BatchNormalization()(x) # слой нормализации данных\n",
        "    \n",
        "    x = Conv2D(64, (3, 3), padding='same', activation='relu')(x) # передаем на слой двумерной свёртки\n",
        "    x = BatchNormalization()(x) # слой нормализации данных\n",
        "    x = Conv2D(64, (3, 3), padding='same', activation='relu')(x) # ещё слой двумерной свёртки\n",
        "    x = BatchNormalization()(x) # слой нормализации данных\n",
        "    # Сжатие MaxPooling2D не применяем\n",
        "\n",
        "    x = Conv2DTranspose(32, (2, 2), strides=(2, 2), padding='same', activation='relu')(x) # слой разжимает данные(с 14*14 на 28*28)\n",
        "    x = BatchNormalization()(x) # слой нормализации данных\n",
        "    x = Conv2D(32, (3, 3), padding='same', activation='relu')(x) # передаем на слой двумерной свёртки\n",
        "    x = BatchNormalization()(x) # слой нормализации данных\n",
        "    x = Conv2D(32, (3, 3), padding='same', activation='relu')(x) # ещё слой двумерной свёртки\n",
        "    x = BatchNormalization()(x) # слой нормализации данных\n",
        "\n",
        "    # Финальный слой двумерной свертки, выдающий итоговое изображение\n",
        "    x = Conv2D(1, (3, 3), activation='sigmoid', padding='same')(x)\n",
        "\n",
        "    model = Model(img_input, x) # указываем модель, с оригинальным изображением на входе в сеть и сжатым-разжатым на выходе из сети\n",
        "    model.compile(optimizer=Adam(),\n",
        "                  loss='mean_squared_error') # компилируем модель с оптимайзером Адам и среднеквадратичной ошибкой\n",
        "\n",
        "    return model # функция вернёт заданную модель"
      ],
      "execution_count": 0,
      "outputs": []
    },
    {
      "cell_type": "code",
      "metadata": {
        "id": "2yK3P1eaCg4o",
        "colab_type": "code",
        "outputId": "bec7da22-309c-4d86-a65e-06f6d03de409",
        "colab": {
          "base_uri": "https://localhost:8080/",
          "height": 51
        }
      },
      "source": [
        "(xTrainMnist, yTrainMnist), (xTestMnist, yTestMnist) = mnist.load_data() # загружаем данные из базы с разбивкой на train/test\n",
        "\n",
        "xTrainMnist = xTrainMnist.astype('float32')/255 # представляем в виде значений от 0 до 1\n",
        "\n",
        "xTrainMnist = xTrainMnist.reshape(xTrainMnist.shape[0], 28, 28, 1) # меняем форму, приводим к нужным нам размерам"
      ],
      "execution_count": 3,
      "outputs": [
        {
          "output_type": "stream",
          "text": [
            "Downloading data from https://storage.googleapis.com/tensorflow/tf-keras-datasets/mnist.npz\n",
            "11493376/11490434 [==============================] - 0s 0us/step\n"
          ],
          "name": "stdout"
        }
      ]
    },
    {
      "cell_type": "code",
      "metadata": {
        "id": "ixY4nVDUCyOU",
        "colab_type": "code",
        "outputId": "04429962-c1b5-40f0-b751-d77c52a5b03f",
        "colab": {
          "base_uri": "https://localhost:8080/",
          "height": 1000
        }
      },
      "source": [
        "modelAutoMnist = baseAutoencoder() # создаем автокодировщик\n",
        "#modelAutoMnist = denoiseAutoencoder() # создаем автокодировщик для шумоподавления\n",
        "# грузим данные в нашу модель, берём первые 10тыс из xTrainMnist и на вход, и на выход\n",
        "modelAutoMnist.fit(xTrainMnist[:10000], xTrainMnist[:10000], epochs=100, batch_size=100, validation_data = (xTrainMnist[10000:12000], xTrainMnist[10000:12000]))"
      ],
      "execution_count": 4,
      "outputs": [
        {
          "output_type": "stream",
          "text": [
            "Epoch 1/100\n",
            "100/100 [==============================] - 3s 29ms/step - loss: 0.0319 - val_loss: 0.1089\n",
            "Epoch 2/100\n",
            "100/100 [==============================] - 3s 26ms/step - loss: 0.0054 - val_loss: 0.1050\n",
            "Epoch 3/100\n",
            "100/100 [==============================] - 3s 26ms/step - loss: 0.0036 - val_loss: 0.0637\n",
            "Epoch 4/100\n",
            "100/100 [==============================] - 3s 26ms/step - loss: 0.0027 - val_loss: 0.0223\n",
            "Epoch 5/100\n",
            "100/100 [==============================] - 3s 26ms/step - loss: 0.0022 - val_loss: 0.0059\n",
            "Epoch 6/100\n",
            "100/100 [==============================] - 3s 26ms/step - loss: 0.0021 - val_loss: 0.0020\n",
            "Epoch 7/100\n",
            "100/100 [==============================] - 3s 26ms/step - loss: 0.0017 - val_loss: 0.0017\n",
            "Epoch 8/100\n",
            "100/100 [==============================] - 3s 26ms/step - loss: 0.0016 - val_loss: 0.0019\n",
            "Epoch 9/100\n",
            "100/100 [==============================] - 3s 26ms/step - loss: 0.0015 - val_loss: 0.0014\n",
            "Epoch 10/100\n",
            "100/100 [==============================] - 3s 26ms/step - loss: 0.0014 - val_loss: 0.0045\n",
            "Epoch 11/100\n",
            "100/100 [==============================] - 3s 26ms/step - loss: 0.0014 - val_loss: 0.0017\n",
            "Epoch 12/100\n",
            "100/100 [==============================] - 3s 26ms/step - loss: 0.0013 - val_loss: 0.0024\n",
            "Epoch 13/100\n",
            "100/100 [==============================] - 3s 27ms/step - loss: 0.0011 - val_loss: 0.0011\n",
            "Epoch 14/100\n",
            "100/100 [==============================] - 3s 27ms/step - loss: 0.0011 - val_loss: 0.0011\n",
            "Epoch 15/100\n",
            "100/100 [==============================] - 3s 27ms/step - loss: 0.0011 - val_loss: 0.0010\n",
            "Epoch 16/100\n",
            "100/100 [==============================] - 3s 27ms/step - loss: 0.0010 - val_loss: 0.0014\n",
            "Epoch 17/100\n",
            "100/100 [==============================] - 3s 26ms/step - loss: 9.8696e-04 - val_loss: 0.0011\n",
            "Epoch 18/100\n",
            "100/100 [==============================] - 3s 26ms/step - loss: 0.0011 - val_loss: 0.0031\n",
            "Epoch 19/100\n",
            "100/100 [==============================] - 3s 27ms/step - loss: 9.8538e-04 - val_loss: 0.0037\n",
            "Epoch 20/100\n",
            "100/100 [==============================] - 3s 26ms/step - loss: 9.3791e-04 - val_loss: 0.0032\n",
            "Epoch 21/100\n",
            "100/100 [==============================] - 3s 26ms/step - loss: 9.2926e-04 - val_loss: 9.8287e-04\n",
            "Epoch 22/100\n",
            "100/100 [==============================] - 3s 26ms/step - loss: 8.2303e-04 - val_loss: 8.4501e-04\n",
            "Epoch 23/100\n",
            "100/100 [==============================] - 3s 26ms/step - loss: 8.2798e-04 - val_loss: 9.8614e-04\n",
            "Epoch 24/100\n",
            "100/100 [==============================] - 3s 26ms/step - loss: 8.3330e-04 - val_loss: 8.5219e-04\n",
            "Epoch 25/100\n",
            "100/100 [==============================] - 3s 27ms/step - loss: 7.7771e-04 - val_loss: 0.0016\n",
            "Epoch 26/100\n",
            "100/100 [==============================] - 3s 27ms/step - loss: 7.5213e-04 - val_loss: 0.0014\n",
            "Epoch 27/100\n",
            "100/100 [==============================] - 3s 26ms/step - loss: 7.1125e-04 - val_loss: 7.1250e-04\n",
            "Epoch 28/100\n",
            "100/100 [==============================] - 3s 27ms/step - loss: 7.1840e-04 - val_loss: 6.6357e-04\n",
            "Epoch 29/100\n",
            "100/100 [==============================] - 3s 27ms/step - loss: 7.1572e-04 - val_loss: 6.6124e-04\n",
            "Epoch 30/100\n",
            "100/100 [==============================] - 3s 26ms/step - loss: 6.6119e-04 - val_loss: 0.0012\n",
            "Epoch 31/100\n",
            "100/100 [==============================] - 3s 26ms/step - loss: 6.9092e-04 - val_loss: 7.5222e-04\n",
            "Epoch 32/100\n",
            "100/100 [==============================] - 3s 26ms/step - loss: 6.4492e-04 - val_loss: 9.8286e-04\n",
            "Epoch 33/100\n",
            "100/100 [==============================] - 3s 26ms/step - loss: 6.3568e-04 - val_loss: 9.5371e-04\n",
            "Epoch 34/100\n",
            "100/100 [==============================] - 3s 26ms/step - loss: 5.8647e-04 - val_loss: 6.3153e-04\n",
            "Epoch 35/100\n",
            "100/100 [==============================] - 3s 26ms/step - loss: 6.6234e-04 - val_loss: 0.0021\n",
            "Epoch 36/100\n",
            "100/100 [==============================] - 3s 27ms/step - loss: 6.1138e-04 - val_loss: 5.8965e-04\n",
            "Epoch 37/100\n",
            "100/100 [==============================] - 3s 26ms/step - loss: 5.7608e-04 - val_loss: 0.0015\n",
            "Epoch 38/100\n",
            "100/100 [==============================] - 3s 26ms/step - loss: 5.9216e-04 - val_loss: 9.3519e-04\n",
            "Epoch 39/100\n",
            "100/100 [==============================] - 3s 27ms/step - loss: 5.7046e-04 - val_loss: 6.4646e-04\n",
            "Epoch 40/100\n",
            "100/100 [==============================] - 3s 26ms/step - loss: 6.0204e-04 - val_loss: 0.0010\n",
            "Epoch 41/100\n",
            "100/100 [==============================] - 3s 26ms/step - loss: 6.6102e-04 - val_loss: 0.0018\n",
            "Epoch 42/100\n",
            "100/100 [==============================] - 3s 26ms/step - loss: 5.5144e-04 - val_loss: 6.2714e-04\n",
            "Epoch 43/100\n",
            "100/100 [==============================] - 3s 26ms/step - loss: 5.4620e-04 - val_loss: 5.7445e-04\n",
            "Epoch 44/100\n",
            "100/100 [==============================] - 3s 26ms/step - loss: 5.1455e-04 - val_loss: 7.3911e-04\n",
            "Epoch 45/100\n",
            "100/100 [==============================] - 3s 26ms/step - loss: 5.3744e-04 - val_loss: 9.3317e-04\n",
            "Epoch 46/100\n",
            "100/100 [==============================] - 3s 26ms/step - loss: 4.9969e-04 - val_loss: 4.9944e-04\n",
            "Epoch 47/100\n",
            "100/100 [==============================] - 3s 26ms/step - loss: 5.1607e-04 - val_loss: 5.6655e-04\n",
            "Epoch 48/100\n",
            "100/100 [==============================] - 3s 26ms/step - loss: 4.9860e-04 - val_loss: 5.1088e-04\n",
            "Epoch 49/100\n",
            "100/100 [==============================] - 3s 27ms/step - loss: 4.7041e-04 - val_loss: 5.4271e-04\n",
            "Epoch 50/100\n",
            "100/100 [==============================] - 3s 26ms/step - loss: 5.2494e-04 - val_loss: 5.5582e-04\n",
            "Epoch 51/100\n",
            "100/100 [==============================] - 3s 27ms/step - loss: 4.3717e-04 - val_loss: 7.3509e-04\n",
            "Epoch 52/100\n",
            "100/100 [==============================] - 3s 26ms/step - loss: 4.5158e-04 - val_loss: 0.0018\n",
            "Epoch 53/100\n",
            "100/100 [==============================] - 3s 26ms/step - loss: 4.8249e-04 - val_loss: 4.5770e-04\n",
            "Epoch 54/100\n",
            "100/100 [==============================] - 3s 26ms/step - loss: 4.4275e-04 - val_loss: 4.9187e-04\n",
            "Epoch 55/100\n",
            "100/100 [==============================] - 3s 27ms/step - loss: 4.2288e-04 - val_loss: 7.8953e-04\n",
            "Epoch 56/100\n",
            "100/100 [==============================] - 3s 26ms/step - loss: 4.8942e-04 - val_loss: 4.5997e-04\n",
            "Epoch 57/100\n",
            "100/100 [==============================] - 3s 26ms/step - loss: 4.6904e-04 - val_loss: 5.7869e-04\n",
            "Epoch 58/100\n",
            "100/100 [==============================] - 3s 26ms/step - loss: 4.2616e-04 - val_loss: 5.1333e-04\n",
            "Epoch 59/100\n",
            "100/100 [==============================] - 3s 26ms/step - loss: 4.1836e-04 - val_loss: 5.1635e-04\n",
            "Epoch 60/100\n",
            "100/100 [==============================] - 3s 26ms/step - loss: 4.3774e-04 - val_loss: 4.9526e-04\n",
            "Epoch 61/100\n",
            "100/100 [==============================] - 3s 26ms/step - loss: 4.3231e-04 - val_loss: 6.7475e-04\n",
            "Epoch 62/100\n",
            "100/100 [==============================] - 3s 27ms/step - loss: 4.5101e-04 - val_loss: 4.5988e-04\n",
            "Epoch 63/100\n",
            "100/100 [==============================] - 3s 26ms/step - loss: 4.3613e-04 - val_loss: 6.7598e-04\n",
            "Epoch 64/100\n",
            "100/100 [==============================] - 3s 28ms/step - loss: 3.8570e-04 - val_loss: 3.8881e-04\n",
            "Epoch 65/100\n",
            "100/100 [==============================] - 3s 26ms/step - loss: 4.4488e-04 - val_loss: 7.6240e-04\n",
            "Epoch 66/100\n",
            "100/100 [==============================] - 3s 26ms/step - loss: 4.1766e-04 - val_loss: 5.3200e-04\n",
            "Epoch 67/100\n",
            "100/100 [==============================] - 3s 26ms/step - loss: 3.7827e-04 - val_loss: 6.0174e-04\n",
            "Epoch 68/100\n",
            "100/100 [==============================] - 3s 27ms/step - loss: 3.7731e-04 - val_loss: 5.5179e-04\n",
            "Epoch 69/100\n",
            "100/100 [==============================] - 3s 26ms/step - loss: 4.0169e-04 - val_loss: 4.1265e-04\n",
            "Epoch 70/100\n",
            "100/100 [==============================] - 3s 26ms/step - loss: 3.6923e-04 - val_loss: 4.7122e-04\n",
            "Epoch 71/100\n",
            "100/100 [==============================] - 3s 26ms/step - loss: 3.8554e-04 - val_loss: 4.1425e-04\n",
            "Epoch 72/100\n",
            "100/100 [==============================] - 3s 26ms/step - loss: 3.6208e-04 - val_loss: 5.4225e-04\n",
            "Epoch 73/100\n",
            "100/100 [==============================] - 3s 26ms/step - loss: 3.5747e-04 - val_loss: 4.5037e-04\n",
            "Epoch 74/100\n",
            "100/100 [==============================] - 3s 26ms/step - loss: 3.7956e-04 - val_loss: 9.1231e-04\n",
            "Epoch 75/100\n",
            "100/100 [==============================] - 3s 26ms/step - loss: 3.5566e-04 - val_loss: 4.9447e-04\n",
            "Epoch 76/100\n",
            "100/100 [==============================] - 3s 26ms/step - loss: 3.5515e-04 - val_loss: 5.8017e-04\n",
            "Epoch 77/100\n",
            "100/100 [==============================] - 3s 26ms/step - loss: 3.6076e-04 - val_loss: 3.9300e-04\n",
            "Epoch 78/100\n",
            "100/100 [==============================] - 3s 27ms/step - loss: 3.7769e-04 - val_loss: 3.9730e-04\n",
            "Epoch 79/100\n",
            "100/100 [==============================] - 3s 27ms/step - loss: 3.7723e-04 - val_loss: 9.9813e-04\n",
            "Epoch 80/100\n",
            "100/100 [==============================] - 3s 26ms/step - loss: 3.7564e-04 - val_loss: 4.4151e-04\n",
            "Epoch 81/100\n",
            "100/100 [==============================] - 3s 26ms/step - loss: 3.0900e-04 - val_loss: 3.8607e-04\n",
            "Epoch 82/100\n",
            "100/100 [==============================] - 3s 26ms/step - loss: 3.3706e-04 - val_loss: 5.2965e-04\n",
            "Epoch 83/100\n",
            "100/100 [==============================] - 3s 26ms/step - loss: 3.3251e-04 - val_loss: 3.7632e-04\n",
            "Epoch 84/100\n",
            "100/100 [==============================] - 3s 26ms/step - loss: 3.4801e-04 - val_loss: 6.9744e-04\n",
            "Epoch 85/100\n",
            "100/100 [==============================] - 3s 26ms/step - loss: 3.2209e-04 - val_loss: 4.9874e-04\n",
            "Epoch 86/100\n",
            "100/100 [==============================] - 3s 26ms/step - loss: 3.1109e-04 - val_loss: 4.8969e-04\n",
            "Epoch 87/100\n",
            "100/100 [==============================] - 3s 26ms/step - loss: 3.0700e-04 - val_loss: 3.7516e-04\n",
            "Epoch 88/100\n",
            "100/100 [==============================] - 3s 26ms/step - loss: 3.0765e-04 - val_loss: 3.2110e-04\n",
            "Epoch 89/100\n",
            "100/100 [==============================] - 3s 26ms/step - loss: 3.4596e-04 - val_loss: 4.7979e-04\n",
            "Epoch 90/100\n",
            "100/100 [==============================] - 3s 26ms/step - loss: 3.2278e-04 - val_loss: 5.1194e-04\n",
            "Epoch 91/100\n",
            "100/100 [==============================] - 3s 27ms/step - loss: 2.9796e-04 - val_loss: 3.5749e-04\n",
            "Epoch 92/100\n",
            "100/100 [==============================] - 3s 26ms/step - loss: 3.1565e-04 - val_loss: 5.0825e-04\n",
            "Epoch 93/100\n",
            "100/100 [==============================] - 3s 27ms/step - loss: 3.0425e-04 - val_loss: 5.5837e-04\n",
            "Epoch 94/100\n",
            "100/100 [==============================] - 3s 26ms/step - loss: 3.0718e-04 - val_loss: 4.3596e-04\n",
            "Epoch 95/100\n",
            "100/100 [==============================] - 3s 26ms/step - loss: 2.9059e-04 - val_loss: 3.4887e-04\n",
            "Epoch 96/100\n",
            "100/100 [==============================] - 3s 26ms/step - loss: 3.0292e-04 - val_loss: 3.6162e-04\n",
            "Epoch 97/100\n",
            "100/100 [==============================] - 3s 26ms/step - loss: 2.9536e-04 - val_loss: 5.6475e-04\n",
            "Epoch 98/100\n",
            "100/100 [==============================] - 3s 26ms/step - loss: 2.8630e-04 - val_loss: 3.5382e-04\n",
            "Epoch 99/100\n",
            "100/100 [==============================] - 3s 26ms/step - loss: 2.6804e-04 - val_loss: 4.3826e-04\n",
            "Epoch 100/100\n",
            "100/100 [==============================] - 3s 26ms/step - loss: 2.8013e-04 - val_loss: 3.1869e-04\n"
          ],
          "name": "stdout"
        },
        {
          "output_type": "execute_result",
          "data": {
            "text/plain": [
              "<tensorflow.python.keras.callbacks.History at 0x7f057c4d9e48>"
            ]
          },
          "metadata": {
            "tags": []
          },
          "execution_count": 4
        }
      ]
    },
    {
      "cell_type": "code",
      "metadata": {
        "id": "UYAiJSIzlybK",
        "colab_type": "code",
        "colab": {}
      },
      "source": [
        "predMnist = modelAutoMnist.predict(xTrainMnist[:12000]) # просим модель вернуть нам изображение по первым 12тыс. xTrainMnist\n",
        "\n",
        "predMnist = predMnist * 255 # представляем в виде значений от 0 до 255\n",
        "predMnist = predMnist.astype('uint8') # устанавливаем 8битовый тип"
      ],
      "execution_count": 0,
      "outputs": []
    },
    {
      "cell_type": "code",
      "metadata": {
        "id": "2S1Q6KH9kO6v",
        "colab_type": "code",
        "colab": {}
      },
      "source": [
        "def plotImages(startIndex, xTrain, pred): # создадим функцию для вывода изображений как картинок\n",
        "  n = 6  # количество картинок, которые хотим показать\n",
        "  plt.figure(figsize=(10, 4)) # указываем размеры фигуры\n",
        "  for i in range(n): # для каждой картинки из n(6)\n",
        "      index = i + startIndex # startIndex - начиная с какого индекса хотим заплотить картинки\n",
        "      # Показываем картинки из тестового набора\n",
        "      ax = plt.subplot(2, n, i + 1) # выведем область рисования Axes\n",
        "      plt.imshow(xTrain[index].reshape(28, 28)) # отрисуем правильные картинки в размере 28*28\n",
        "      plt.gray() # выведем в черно-белом цвете\n",
        "      ax.get_xaxis().set_visible(False) # скрываем вывод координатной оси x\n",
        "      ax.get_yaxis().set_visible(False) # скрываем вывод координатной оси y\n",
        "\n",
        "      # Показываем восстановленные картинки\n",
        "      ax = plt.subplot(2, n, i + 1 + n) # выведем область рисования Axes \n",
        "      plt.imshow(pred[index].reshape(28, 28)) # отрисуем обработанные сеткой картинки в размере 28*28\n",
        "      plt.gray() # выведем в черно-белом цвете\n",
        "      ax.get_xaxis().set_visible(False) # скрываем вывод координатной оси x\n",
        "      ax.get_yaxis().set_visible(False) # скрываем вывод координатной оси y\n",
        "  plt.show()"
      ],
      "execution_count": 0,
      "outputs": []
    },
    {
      "cell_type": "code",
      "metadata": {
        "id": "jyrB8YnMkjx5",
        "colab_type": "code",
        "outputId": "18da9b86-ba36-4e3d-a8f7-ffcb26a26d17",
        "colab": {
          "base_uri": "https://localhost:8080/",
          "height": 233
        }
      },
      "source": [
        "plotImages(10000, xTrainMnist, predMnist) # покажем исходные и восстановленные картинки"
      ],
      "execution_count": 12,
      "outputs": [
        {
          "output_type": "display_data",
          "data": {
            "image/png": "[encoded data removed]",
            "text/plain": [
              "<Figure size 720x288 with 12 Axes>"
            ]
          },
          "metadata": {
            "tags": [],
            "needs_background": "light"
          }
        }
      ]
    },
    {
      "cell_type": "code",
      "metadata": {
        "id": "rMpOvVyhoCOC",
        "colab_type": "code",
        "colab": {}
      },
      "source": [
        "def getMSE(x1, x2): # создадим функцию среднеквадратичной ошибки\n",
        "  x1 = x1.flatten() # сплющиваем в одномерный вектор\n",
        "  x2 = x2.flatten() # сплющиваем в одномерный вектор\n",
        "  delta = x1 - x2 # находим разницу\n",
        "  return sum(delta ** 2) / len(delta) # и возвращаем сумму квадратов разницы, делённую на длину разницы"
      ],
      "execution_count": 0,
      "outputs": []
    },
    {
      "cell_type": "code",
      "metadata": {
        "id": "CU-DVDjpqKUz",
        "colab_type": "code",
        "outputId": "762eb795-25ab-436d-9982-0a045ed455b1",
        "colab": {
          "base_uri": "https://localhost:8080/",
          "height": 34
        }
      },
      "source": [
        "# Зададим пару массивов и проверим работу функции\n",
        "x1 = np.array([1, 1, 1]) # создаем первый массив\n",
        "x2 = np.array([0, 0, 0]) # создаем второй массив\n",
        "print(getMSE(x1,x2)) # выведем ошибку полученную нашей функцией"
      ],
      "execution_count": 14,
      "outputs": [
        {
          "output_type": "stream",
          "text": [
            "1.0\n"
          ],
          "name": "stdout"
        }
      ]
    },
    {
      "cell_type": "code",
      "metadata": {
        "id": "Ki4c4O2aoS0e",
        "colab_type": "code",
        "outputId": "f94ebe9f-7659-4a93-ac33-dc24c610782b",
        "colab": {
          "base_uri": "https://localhost:8080/",
          "height": 51
        }
      },
      "source": [
        "err = [getMSE(xTrainMnist[i], predMnist[i] / 255) for i in range(len(predMnist))]# Возьмем среднеквадратичную ошибку от правильной картинки, и восстановленной, пройдя по 12тыс изображений\n",
        "n = 1000\n",
        "print(sum(err[0:n]) / n) # взглянем на среднюю ошибку на обучающей выборке\n",
        "print(sum(err[10000:10000+n]) / n) # и на проверочной выборке"
      ],
      "execution_count": 15,
      "outputs": [
        {
          "output_type": "stream",
          "text": [
            "0.0002490773388177912\n",
            "0.0003084648026628351\n"
          ],
          "name": "stdout"
        }
      ]
    },
    {
      "cell_type": "code",
      "metadata": {
        "id": "gcepJ5TIr5p4",
        "colab_type": "code",
        "outputId": "f773cdbe-bc61-40a8-fc03-78616dba4ea5",
        "colab": {
          "base_uri": "https://localhost:8080/",
          "height": 173
        }
      },
      "source": [
        "# Загрузим данные из fashion_mnist - базы с одеждой,обувью и т.п\n",
        "(xTrainMnistF, yTrainMnistF), (xTestMnistF, yTestMnistF) = fashion_mnist.load_data()\n",
        "\n",
        "xTrainMnistF = xTrainMnistF.astype('float32')/255 # представляем в виде значений от 0 до 1\n",
        "\n",
        "xTrainMnistF = xTrainMnistF.reshape(xTrainMnistF.shape[0], 28, 28, 1) # меняем форму, приводим к нужным нам размерам"
      ],
      "execution_count": 16,
      "outputs": [
        {
          "output_type": "stream",
          "text": [
            "Downloading data from https://storage.googleapis.com/tensorflow/tf-keras-datasets/train-labels-idx1-ubyte.gz\n",
            "32768/29515 [=================================] - 0s 0us/step\n",
            "Downloading data from https://storage.googleapis.com/tensorflow/tf-keras-datasets/train-images-idx3-ubyte.gz\n",
            "26427392/26421880 [==============================] - 0s 0us/step\n",
            "Downloading data from https://storage.googleapis.com/tensorflow/tf-keras-datasets/t10k-labels-idx1-ubyte.gz\n",
            "8192/5148 [===============================================] - 0s 0us/step\n",
            "Downloading data from https://storage.googleapis.com/tensorflow/tf-keras-datasets/t10k-images-idx3-ubyte.gz\n",
            "4423680/4422102 [==============================] - 0s 0us/step\n"
          ],
          "name": "stdout"
        }
      ]
    },
    {
      "cell_type": "code",
      "metadata": {
        "id": "6prTR-z5sEih",
        "colab_type": "code",
        "outputId": "c29e37f4-5ba5-46d8-fb6e-0265e9be334d",
        "colab": {
          "base_uri": "https://localhost:8080/",
          "height": 265
        }
      },
      "source": [
        "# Взглянем на пример изображения из базы fashion_mnist\n",
        "n = 200 # выбираем картинку\n",
        "xxT = xTrainMnistF[n].reshape((28,28)) # указываем размеры этой картинки как 28*28\n",
        "xxT = xxT * 255 # представляем в виде значений от 0 до 255\n",
        "\n",
        "img = Image.fromarray(xxT) # из указанного массива значений будем строить рисунок\n",
        "plt.imshow(img.convert('RGBA')) # переводим в 4х-канальное цветовое пространство RGBA\n",
        "plt.show() # покажем картинку"
      ],
      "execution_count": 19,
      "outputs": [
        {
          "output_type": "display_data",
          "data": {
            "image/png": "[encoded data removed]",
            "text/plain": [
              "<Figure size 432x288 with 1 Axes>"
            ]
          },
          "metadata": {
            "tags": [],
            "needs_background": "light"
          }
        }
      ]
    },
    {
      "cell_type": "code",
      "metadata": {
        "id": "5hQYRODZsOrY",
        "colab_type": "code",
        "colab": {}
      },
      "source": [
        "predMnistF = modelAutoMnist.predict(xTrainMnistF[:100]) # сделаем предикт для первых ста картинок из fashion_mnist\n",
        "\n",
        "predMnistF = predMnistF * 255 # представляем в виде значений от 0 до 255\n",
        "predMnistF = predMnistF.astype('uint8') # устанавливаем 8битовый тип"
      ],
      "execution_count": 0,
      "outputs": []
    },
    {
      "cell_type": "code",
      "metadata": {
        "id": "ReR4RhIwlCzs",
        "colab_type": "code",
        "outputId": "566099f9-4919-4675-837d-a4ab79281ae4",
        "colab": {
          "base_uri": "https://localhost:8080/",
          "height": 233
        }
      },
      "source": [
        "plotImages(0, xTrainMnistF, predMnistF) # выведем на экран картинки правильных и восстановленных изображений "
      ],
      "execution_count": 21,
      "outputs": [
        {
          "output_type": "display_data",
          "data": {
            "image/png": "[encoded data removed]",
            "text/plain": [
              "<Figure size 720x288 with 12 Axes>"
            ]
          },
          "metadata": {
            "tags": [],
            "needs_background": "light"
          }
        }
      ]
    },
    {
      "cell_type": "code",
      "metadata": {
        "id": "WXCQ-o2XshxR",
        "colab_type": "code",
        "outputId": "b5882cf7-472b-4c1f-86eb-34d73a3aa76e",
        "colab": {
          "base_uri": "https://localhost:8080/",
          "height": 139
        }
      },
      "source": [
        "# Возьмем среднеквадратичные ошибки и выведем их для Mnist и для базы с одеждой \n",
        "errF = [getMSE(xTrainMnistF[i], predMnistF[i] / 255) for i in range(len(predMnistF))]\n",
        "print(\"Ошибка на Mnist:\", err[10000:10020])\n",
        "print(\"Ошибка на одежде:\", errF[:20])\n",
        "print(\"Средняя ошибка на Mnist:\", round(sum(err[10000:]) / len(err[10000:]), 4))\n",
        "print(\"Средняя ошибка на одежде:\", round(sum(errF) / len(errF), 4))\n",
        "print(\"Максимальная ошибка на Mnist:\", round(max(err[10000:]),4))\n",
        "print(\"Минимальная ошибка на одежде:\", round(min(errF),4))"
      ],
      "execution_count": 22,
      "outputs": [
        {
          "output_type": "stream",
          "text": [
            "Ошибка на Mnist: [0.00023166127197573827, 0.0003772881564910457, 0.0002876837101347635, 0.00039152911525041956, 0.00036881415135627405, 0.0006969846904387075, 0.00010568931671689527, 7.25191922238761e-05, 0.0012869265360003917, 0.00023901717587649846, 0.0003459619372057713, 0.00038136821633497265, 0.0004769555108070279, 0.00025908401939176215, 0.0007117944631517988, 0.0004501996886265532, 0.0003393906189099904, 0.00017432464720248193, 0.0003673037657687307, 0.00011765489013306625]\n",
            "Ошибка на одежде: [0.004295600676284143, 0.009011546227797894, 0.004929109414585033, 0.008283628354555697, 0.002918638110975921, 0.012850513779965805, 0.0034403370426253164, 0.0027643016649792876, 0.0032279186795096545, 0.00166450890227339, 0.00909571823510789, 0.0037618967880974595, 0.0037834155721960163, 0.002558317693911599, 0.002418026247079845, 0.0037023242875855976, 0.00723848437878636, 0.004859003157294744, 0.009678383425077701, 0.007421478933970695]\n",
            "Средняя ошибка на Mnist: 0.0003\n",
            "Средняя ошибка на одежде: 0.0057\n",
            "Максимальная ошибка на Mnist: 0.0014\n",
            "Минимальная ошибка на одежде: 0.0012\n"
          ],
          "name": "stdout"
        }
      ]
    },
    {
      "cell_type": "code",
      "metadata": {
        "id": "jb9JmSGg5xmh",
        "colab_type": "code",
        "outputId": "8cafaae7-5bee-48d6-f3ba-9195061ebecc",
        "colab": {
          "base_uri": "https://localhost:8080/",
          "height": 252
        }
      },
      "source": [
        "bias = 0.0012 # установим какое-то пороговое значение\n",
        "\n",
        "isMnist = [e < bias for e in err[10000:]] # запишем каждую ошибку больше порогового значения, Mnist\n",
        "isMnistF = [e < bias for e in errF] # запишем каждую ошибку больше порогового значения, fashion_mnist\n",
        "\n",
        "print(\"Mnist распознано, как Mnist: \", round(100*sum(isMnist) / len(isMnist)),\"%\", sep=\"\")\n",
        "print(\"Одежды распознано, как Mnist: \", round(100*sum(isMnistF) / len(isMnistF)),\"%\", sep=\"\")\n",
        "print(\"Суммарная ошибка: \", round(100*(1-(sum(isMnist) / len(isMnist)) + sum(isMnistF) / len(isMnistF))),\"%\", sep=\"\")"
      ],
      "execution_count": 1,
      "outputs": [
        {
          "output_type": "error",
          "ename": "NameError",
          "evalue": "ignored",
          "traceback": [
            "\u001b[0;31m---------------------------------------------------------------------------\u001b[0m",
            "\u001b[0;31mNameError\u001b[0m                                 Traceback (most recent call last)",
            "\u001b[0;32m<ipython-input-1-b2a596f34413>\u001b[0m in \u001b[0;36m<module>\u001b[0;34m()\u001b[0m\n\u001b[1;32m      1\u001b[0m \u001b[0mbias\u001b[0m \u001b[0;34m=\u001b[0m \u001b[0;36m0.0012\u001b[0m \u001b[0;31m# установим какое-то пороговое значение\u001b[0m\u001b[0;34m\u001b[0m\u001b[0;34m\u001b[0m\u001b[0m\n\u001b[1;32m      2\u001b[0m \u001b[0;34m\u001b[0m\u001b[0m\n\u001b[0;32m----> 3\u001b[0;31m \u001b[0misMnist\u001b[0m \u001b[0;34m=\u001b[0m \u001b[0;34m[\u001b[0m\u001b[0me\u001b[0m \u001b[0;34m<\u001b[0m \u001b[0mbias\u001b[0m \u001b[0;32mfor\u001b[0m \u001b[0me\u001b[0m \u001b[0;32min\u001b[0m \u001b[0merr\u001b[0m\u001b[0;34m[\u001b[0m\u001b[0;36m10000\u001b[0m\u001b[0;34m:\u001b[0m\u001b[0;34m]\u001b[0m\u001b[0;34m]\u001b[0m \u001b[0;31m# запишем каждую ошибку больше порогового значения, Mnist\u001b[0m\u001b[0;34m\u001b[0m\u001b[0;34m\u001b[0m\u001b[0m\n\u001b[0m\u001b[1;32m      4\u001b[0m \u001b[0misMnistF\u001b[0m \u001b[0;34m=\u001b[0m \u001b[0;34m[\u001b[0m\u001b[0me\u001b[0m \u001b[0;34m<\u001b[0m \u001b[0mbias\u001b[0m \u001b[0;32mfor\u001b[0m \u001b[0me\u001b[0m \u001b[0;32min\u001b[0m \u001b[0merrF\u001b[0m\u001b[0;34m]\u001b[0m \u001b[0;31m# запишем каждую ошибку больше порогового значения, fashion_mnist\u001b[0m\u001b[0;34m\u001b[0m\u001b[0;34m\u001b[0m\u001b[0m\n\u001b[1;32m      5\u001b[0m \u001b[0;34m\u001b[0m\u001b[0m\n",
            "\u001b[0;31mNameError\u001b[0m: name 'err' is not defined"
          ]
        }
      ]
    },
    {
      "cell_type": "markdown",
      "metadata": {
        "id": "cX9_25_uu0XC",
        "colab_type": "text"
      },
      "source": [
        "#Генерация из шума\n",
        "\n",
        "*Разбор данного раздела:* https://youtu.be/6svKha_FyE4?t=4984"
      ]
    },
    {
      "cell_type": "code",
      "metadata": {
        "id": "jghOd88Nu2h0",
        "colab_type": "code",
        "outputId": "45f23705-1ccc-4a27-8685-fae22f88f1e4",
        "colab": {
          "base_uri": "https://localhost:8080/",
          "height": 35
        }
      },
      "source": [
        "noise = np.random.sample((100,28,28,1)) # создаем 100 картинок шума\n",
        "print(noise.shape) # выведем размеры"
      ],
      "execution_count": 0,
      "outputs": [
        {
          "output_type": "stream",
          "text": [
            "(100, 28, 28, 1)\n"
          ],
          "name": "stdout"
        }
      ]
    },
    {
      "cell_type": "code",
      "metadata": {
        "id": "z9DmIvDOu7FD",
        "colab_type": "code",
        "colab": {}
      },
      "source": [
        "predNoise = modelAutoMnist.predict(noise[:100]) # сделаем предикт этих шумовых картинок\n",
        "\n",
        "predNoise = predNoise * 255 # представляем в виде значений от 0 до 255\n",
        "predNoise = predNoise.astype('uint8') # устанавливаем 8битовый тип"
      ],
      "execution_count": 0,
      "outputs": []
    },
    {
      "cell_type": "code",
      "metadata": {
        "id": "ewobI7mHm03t",
        "colab_type": "code",
        "outputId": "0bef8cf5-bc0f-42f8-a0da-623680917273",
        "colab": {
          "base_uri": "https://localhost:8080/",
          "height": 249
        }
      },
      "source": [
        "plotImages(0, noise, predNoise) # выведем на экран исходные шумовые картинки и восстановленые "
      ],
      "execution_count": 0,
      "outputs": [
        {
          "output_type": "display_data",
          "data": {
            "image/png": "[encoded data removed]",
            "text/plain": [
              "<Figure size 720x288 with 10 Axes>"
            ]
          },
          "metadata": {
            "tags": []
          }
        }
      ]
    },
    {
      "cell_type": "code",
      "metadata": {
        "id": "6pU20EJ3xaMW",
        "colab_type": "code",
        "outputId": "3c39d494-0624-4c0b-c283-c86c6b7b89a9",
        "colab": {
          "base_uri": "https://localhost:8080/",
          "height": 144
        }
      },
      "source": [
        "# Возьмем среднеквадратичные ошибки и выведем их для Mnist и для шумовых изображений\n",
        "errN = [getMSE(noise[i], predNoise[i] / 255) for i in range(len(predMnistF))]\n",
        "print(\"Ошибка на Mnist:\", err[0:20])\n",
        "print(\"Ошибка на шуме:\", errN[0:20])\n",
        "print(\"Средняя ошибка на Mnist:\", round(sum(err) / len(err), 4))\n",
        "print(\"Средняя ошибка на шуме:\", round(sum(errN) / len(errN), 4))\n",
        "print(\"Максимальная ошибка на Mnist:\", round(max(err),4))\n",
        "print(\"Минимальная ошибка на шуме:\", round(min(errN),4))"
      ],
      "execution_count": 0,
      "outputs": [
        {
          "output_type": "stream",
          "text": [
            "Ошибка на Mnist: [0.00026549835559202997, 0.0003117717785003075, 0.00019774576760966936, 9.913769070532555e-05, 0.00030070850058529274, 0.0003023954616629902, 0.00011643872669829564, 0.00019233184052622104, 0.0001000988686713999, 0.00031481219723564273, 0.00045235739612665884, 0.00023434865263611038, 0.000200413502266938, 0.00044996427564343724, 4.6096870756273225e-05, 0.00020627857457295462, 0.00030959444884394596, 0.0003969038534040707, 0.0002327401826036512, 0.00019778499838661]\n",
            "Ошибка на шуме: [0.0877337492116274, 0.08653944632074262, 0.0849153760191135, 0.0908481499272132, 0.08441357517381906, 0.08709429653596226, 0.08878639524184527, 0.0989819402356197, 0.0897923219006823, 0.09934104424314043, 0.09744151453099403, 0.08723363713171976, 0.07911685976442089, 0.0943974463325412, 0.09028574289583118, 0.09159389766060068, 0.09070447140331038, 0.09183227557417671, 0.08265837532414602, 0.0847272628589817]\n",
            "Средняя ошибка на Mnist: 0.0003\n",
            "Средняя ошибка на шуме: 0.0886\n",
            "Максимальная ошибка на Mnist: 0.0016\n",
            "Минимальная ошибка на шуме: 0.0777\n"
          ],
          "name": "stdout"
        }
      ]
    },
    {
      "cell_type": "markdown",
      "metadata": {
        "id": "QP1JVMsTum5s",
        "colab_type": "text"
      },
      "source": [
        "#Удаление шума\n",
        "\n",
        "*Разбор данного раздела:* https://youtu.be/6svKha_FyE4?t=5755"
      ]
    },
    {
      "cell_type": "code",
      "metadata": {
        "id": "bGX6e2FoydRY",
        "colab_type": "code",
        "colab": {}
      },
      "source": [
        "def addNoise(x, noiseVal): # объявим функцию добавления шума\n",
        "  #noise = np.random.sample((x.shape[0],28,28,1))\n",
        "  noise = np.random.normal(loc=0.5, scale=0.5, size=x.shape) # создаем шум(с центром в 0.5 и отклонением 0.5)\n",
        "  \n",
        "  # Cкладываем с произведением шума*на усилитель шума и вводим ограничение значений от 0 до 1(clip)\n",
        "  return np.clip(x + noiseVal * noise, 0., 1.) "
      ],
      "execution_count": 0,
      "outputs": []
    },
    {
      "cell_type": "code",
      "metadata": {
        "id": "H9jP0P1lytDr",
        "colab_type": "code",
        "colab": {}
      },
      "source": [
        "noisedXTrainMnist = addNoise(xTrainMnist, 0.7) # cоздаем зашумленный вариант картинки из xTrainMnist"
      ],
      "execution_count": 0,
      "outputs": []
    },
    {
      "cell_type": "code",
      "metadata": {
        "id": "FHAno0a0nWzd",
        "colab_type": "code",
        "outputId": "aae4cf9e-a085-4e20-e6e0-f779a2521f0d",
        "colab": {
          "base_uri": "https://localhost:8080/",
          "height": 249
        }
      },
      "source": [
        "plotImages(0, xTrainMnist, noisedXTrainMnist) # выведем на экран исходные картинки xTrainMnist и зашумленные варианты "
      ],
      "execution_count": 0,
      "outputs": [
        {
          "output_type": "display_data",
          "data": {
            "image/png": "[encoded data removed]",
            "text/plain": [
              "<Figure size 720x288 with 10 Axes>"
            ]
          },
          "metadata": {
            "tags": [],
            "needs_background": "light"
          }
        }
      ]
    },
    {
      "cell_type": "code",
      "metadata": {
        "colab_type": "code",
        "id": "uE90Fk0AxSby",
        "colab": {}
      },
      "source": [
        "def denoiseAutoencoder(): # объявляем функцию создания автокодировщика для подавления шума\n",
        "    img_input = Input((28,28,1)) # задаём входные размеры\n",
        "\n",
        "    # Добавляем два сверточных слоя, вместо MaxPooling используем strides\n",
        "    x = Conv2D(32, (3, 3), strides=2, activation='relu', padding='same')(img_input)\n",
        "    x = Conv2D(64, (3, 3), strides=2, activation='relu', padding='same')(x)\n",
        "    x = Flatten()(x) # сплющиваем в одномерный вектор - размер 7*7*64\n",
        "    z = Dense(16, activation='relu')(x) # добавляем полносвязный слой\n",
        "    x = Dense(7*7*64, activation='relu')(z) # и еще полносвязный слой с переводом в 3136-мерное пространство(7*7*64)\n",
        "    x = Reshape((7,7,64))(x) # меняем размеры - картинка 7*7 , 64 ядра\n",
        "    x = Conv2DTranspose(64, (3, 3), strides=2, padding='same')(x) # разжимаем картинки из 7*7 до 14*14\n",
        "    x = Conv2DTranspose(32, (3, 3), strides=2, padding='same')(x) # разжимаем картинки из 14*14 до 28*28\n",
        "    x = Conv2D(1, (3, 3), activation='sigmoid', padding='same')(x) # и пропускаем через финальный слой двумерной свертки\n",
        "\n",
        "    model = Model(img_input, x) # собрали модель с зашумленной картинкой на вход и с очищенной от шума на выход\n",
        "    model.compile(optimizer='adam',\n",
        "                  loss='mse') # компилируем модель также, с выбором оптимайзера и среднеквадратичной ошибки\n",
        "\n",
        "    return model # функция вернет модель подавления шума"
      ],
      "execution_count": 0,
      "outputs": []
    },
    {
      "cell_type": "code",
      "metadata": {
        "id": "VsEZ7Gq7-wO1",
        "colab_type": "code",
        "outputId": "4a51041d-b67e-4739-e846-f37c461f5e3c",
        "colab": {
          "base_uri": "https://localhost:8080/",
          "height": 1000
        }
      },
      "source": [
        "#modelDenoiseMnist = denoiseAutoencoder() # задали модель подавления шума\n",
        "modelDenoiseMnist = baseAutoencoder()\n",
        "# Подаем на вход зашумленные картинки, а на выход правильные, исходные картинки, и обучаем\n",
        "modelDenoiseMnist.fit(noisedXTrainMnist[:40000], xTrainMnist[:40000], epochs=30, batch_size=100, validation_data = (noisedXTrainMnist[40000:50000], xTrainMnist[40000:50000]))"
      ],
      "execution_count": 0,
      "outputs": [
        {
          "output_type": "stream",
          "text": [
            "Epoch 1/30\n",
            "400/400 [==============================] - 18s 44ms/step - loss: 0.0175 - val_loss: 0.0498\n",
            "Epoch 2/30\n",
            "400/400 [==============================] - 17s 43ms/step - loss: 0.0075 - val_loss: 0.0074\n",
            "Epoch 3/30\n",
            "400/400 [==============================] - 17s 44ms/step - loss: 0.0068 - val_loss: 0.0067\n",
            "Epoch 4/30\n",
            "400/400 [==============================] - 17s 44ms/step - loss: 0.0064 - val_loss: 0.0070\n",
            "Epoch 5/30\n",
            "400/400 [==============================] - 17s 44ms/step - loss: 0.0062 - val_loss: 0.0062\n",
            "Epoch 6/30\n",
            "400/400 [==============================] - 17s 44ms/step - loss: 0.0061 - val_loss: 0.0068\n",
            "Epoch 7/30\n",
            "400/400 [==============================] - 17s 44ms/step - loss: 0.0059 - val_loss: 0.0071\n",
            "Epoch 8/30\n",
            "400/400 [==============================] - 17s 44ms/step - loss: 0.0059 - val_loss: 0.0063\n",
            "Epoch 9/30\n",
            "400/400 [==============================] - 17s 44ms/step - loss: 0.0058 - val_loss: 0.0071\n",
            "Epoch 10/30\n",
            "400/400 [==============================] - 17s 44ms/step - loss: 0.0058 - val_loss: 0.0060\n",
            "Epoch 11/30\n",
            "400/400 [==============================] - 17s 44ms/step - loss: 0.0057 - val_loss: 0.0063\n",
            "Epoch 12/30\n",
            "400/400 [==============================] - 17s 44ms/step - loss: 0.0056 - val_loss: 0.0059\n",
            "Epoch 13/30\n",
            "400/400 [==============================] - 17s 44ms/step - loss: 0.0056 - val_loss: 0.0060\n",
            "Epoch 14/30\n",
            "400/400 [==============================] - 17s 44ms/step - loss: 0.0055 - val_loss: 0.0060\n",
            "Epoch 15/30\n",
            "400/400 [==============================] - 17s 44ms/step - loss: 0.0055 - val_loss: 0.0060\n",
            "Epoch 16/30\n",
            "400/400 [==============================] - 17s 44ms/step - loss: 0.0054 - val_loss: 0.0061\n",
            "Epoch 17/30\n",
            "400/400 [==============================] - 17s 44ms/step - loss: 0.0054 - val_loss: 0.0059\n",
            "Epoch 18/30\n",
            "400/400 [==============================] - 17s 44ms/step - loss: 0.0054 - val_loss: 0.0058\n",
            "Epoch 19/30\n",
            "400/400 [==============================] - 17s 44ms/step - loss: 0.0053 - val_loss: 0.0060\n",
            "Epoch 20/30\n",
            "400/400 [==============================] - 17s 44ms/step - loss: 0.0053 - val_loss: 0.0061\n",
            "Epoch 21/30\n",
            "400/400 [==============================] - 17s 44ms/step - loss: 0.0053 - val_loss: 0.0063\n",
            "Epoch 22/30\n",
            "400/400 [==============================] - 17s 44ms/step - loss: 0.0052 - val_loss: 0.0058\n",
            "Epoch 23/30\n",
            "400/400 [==============================] - 17s 43ms/step - loss: 0.0052 - val_loss: 0.0060\n",
            "Epoch 24/30\n",
            "400/400 [==============================] - 17s 44ms/step - loss: 0.0052 - val_loss: 0.0060\n",
            "Epoch 25/30\n",
            "400/400 [==============================] - 17s 44ms/step - loss: 0.0052 - val_loss: 0.0059\n",
            "Epoch 26/30\n",
            "400/400 [==============================] - 17s 43ms/step - loss: 0.0051 - val_loss: 0.0060\n",
            "Epoch 27/30\n",
            "400/400 [==============================] - 17s 43ms/step - loss: 0.0051 - val_loss: 0.0059\n",
            "Epoch 28/30\n",
            "400/400 [==============================] - 17s 44ms/step - loss: 0.0051 - val_loss: 0.0062\n",
            "Epoch 29/30\n",
            "400/400 [==============================] - 17s 43ms/step - loss: 0.0050 - val_loss: 0.0059\n",
            "Epoch 30/30\n",
            "400/400 [==============================] - 17s 43ms/step - loss: 0.0050 - val_loss: 0.0062\n"
          ],
          "name": "stdout"
        },
        {
          "output_type": "execute_result",
          "data": {
            "text/plain": [
              "<tensorflow.python.keras.callbacks.History at 0x7f2712c2c908>"
            ]
          },
          "metadata": {
            "tags": []
          },
          "execution_count": 25
        }
      ]
    },
    {
      "cell_type": "code",
      "metadata": {
        "id": "m4SuLkmSAV1p",
        "colab_type": "code",
        "colab": {}
      },
      "source": [
        "predMnistDenoise = modelDenoiseMnist.predict(noisedXTrainMnist[:50000]) # подаем 4тыс зашумленных картинок и делаем предикт\n",
        "\n",
        "predMnistDenoise = predMnistDenoise * 255 # представляем в виде значений от 0 до 255\n",
        "predMnistDenoise = predMnistDenoise.astype('uint8') # устанавливаем 8битовый тип"
      ],
      "execution_count": 0,
      "outputs": []
    },
    {
      "cell_type": "code",
      "metadata": {
        "id": "YMEZ42kB41bU",
        "colab_type": "code",
        "outputId": "bcab7b6d-7b0f-487f-fb6d-8f2274230f94",
        "colab": {
          "base_uri": "https://localhost:8080/",
          "height": 481
        }
      },
      "source": [
        "n = 40040\n",
        "plotImages(n, xTrainMnist, predMnistDenoise) # взглянем как отрабатывает шумоподавление на xTrainMnist картинках\n",
        "plotImages(n, noisedXTrainMnist, predMnistDenoise) # взглянем как отрабатывает шумоподавление на зашумленных картинках"
      ],
      "execution_count": 0,
      "outputs": [
        {
          "output_type": "display_data",
          "data": {
            "image/png": "[encoded data removed]",
            "text/plain": [
              "<Figure size 720x288 with 10 Axes>"
            ]
          },
          "metadata": {
            "tags": [],
            "needs_background": "light"
          }
        },
        {
          "output_type": "display_data",
          "data": {
            "image/png": "[encoded data removed]",
            "text/plain": [
              "<Figure size 720x288 with 10 Axes>"
            ]
          },
          "metadata": {
            "tags": [],
            "needs_background": "light"
          }
        }
      ]
    },
    {
      "cell_type": "code",
      "metadata": {
        "id": "5NmlwGDf6dCo",
        "colab_type": "code",
        "colab": {}
      },
      "source": [
        "noisedXTrainMnistF = addNoise(xTrainMnistF, 0.7) # зашумим картинку из fashion_mnist"
      ],
      "execution_count": 0,
      "outputs": []
    },
    {
      "cell_type": "code",
      "metadata": {
        "id": "WXWoOs6Ho4Fg",
        "colab_type": "code",
        "outputId": "d1e28ab1-9685-4380-d49b-431d248ed08b",
        "colab": {
          "base_uri": "https://localhost:8080/",
          "height": 249
        }
      },
      "source": [
        "plotImages(0, xTrainMnistF, noisedXTrainMnistF) # выведем исходную и зашумлённую картинку из fashion_mnist"
      ],
      "execution_count": 0,
      "outputs": [
        {
          "output_type": "display_data",
          "data": {
            "image/png": "[encoded data removed]",
            "text/plain": [
              "<Figure size 720x288 with 10 Axes>"
            ]
          },
          "metadata": {
            "tags": [],
            "needs_background": "light"
          }
        }
      ]
    },
    {
      "cell_type": "code",
      "metadata": {
        "id": "3hoQTwNw6kxP",
        "colab_type": "code",
        "colab": {}
      },
      "source": [
        "predMnistFDenoise = modelDenoiseMnist.predict(noisedXTrainMnistF[:4000]) # теперь попробуем подавить шум в зашумленной картинке fashion\n",
        "\n",
        "predMnistFDenoise = predMnistFDenoise * 255 # представляем в виде значений от 0 до 255\n",
        "predMnistFDenoise = predMnistFDenoise.astype('uint8') # устанавливаем 8битовый тип"
      ],
      "execution_count": 0,
      "outputs": []
    },
    {
      "cell_type": "code",
      "metadata": {
        "id": "7Vb49qZHpAqj",
        "colab_type": "code",
        "outputId": "be669b5b-e6e9-4381-cba4-8ac3d74aa154",
        "colab": {
          "base_uri": "https://localhost:8080/",
          "height": 249
        }
      },
      "source": [
        "plotImages(0, noisedXTrainMnistF, predMnistFDenoise) # взглянем как отработала здесь модель шумоподавления"
      ],
      "execution_count": 0,
      "outputs": [
        {
          "output_type": "display_data",
          "data": {
            "image/png": "[encoded data removed]",
            "text/plain": [
              "<Figure size 720x288 with 10 Axes>"
            ]
          },
          "metadata": {
            "tags": [],
            "needs_background": "light"
          }
        }
      ]
    },
    {
      "cell_type": "markdown",
      "metadata": {
        "id": "AHie46lEQBVq",
        "colab_type": "text"
      },
      "source": [
        "#Определение мошеннических операций\n",
        "\n",
        "*Разбор данного раздела:* https://youtu.be/6svKha_FyE4?t=6724"
      ]
    },
    {
      "cell_type": "code",
      "metadata": {
        "id": "WwdSRaMn7x8m",
        "colab_type": "code",
        "outputId": "51b55b45-4123-453b-bcdc-36fba32b43f9",
        "colab": {
          "base_uri": "https://localhost:8080/",
          "height": 126
        }
      },
      "source": [
        "from google.colab import drive\n",
        "drive.mount('/content/drive')"
      ],
      "execution_count": 0,
      "outputs": [
        {
          "output_type": "stream",
          "text": [
            "Go to this URL in a browser: https://accounts.google.com/o/oauth2/auth?client_id=947318989803-6bn6qk8qdgf4n4g3pfee6491hc0brc4i.apps.googleusercontent.com&redirect_uri=urn%3aietf%3awg%3aoauth%3a2.0%3aoob&response_type=code&scope=email%20https%3a%2f%2fwww.googleapis.com%2fauth%2fdocs.test%20https%3a%2f%2fwww.googleapis.com%2fauth%2fdrive%20https%3a%2f%2fwww.googleapis.com%2fauth%2fdrive.photos.readonly%20https%3a%2f%2fwww.googleapis.com%2fauth%2fpeopleapi.readonly\n",
            "\n",
            "Enter your authorization code:\n",
            "··········\n",
            "Mounted at /content/drive\n"
          ],
          "name": "stdout"
        }
      ]
    },
    {
      "cell_type": "code",
      "metadata": {
        "id": "89p7GynPQM4F",
        "colab_type": "code",
        "colab": {}
      },
      "source": [
        "df = pd.read_csv(\"/content/drive/My Drive/Базы/creditcard.csv\") # читаем базу"
      ],
      "execution_count": 0,
      "outputs": []
    },
    {
      "cell_type": "code",
      "metadata": {
        "id": "wZ6_P099QNn9",
        "colab_type": "code",
        "outputId": "0acc64be-f5be-49ae-d90b-d7decdf68ff6",
        "colab": {
          "base_uri": "https://localhost:8080/",
          "height": 214
        }
      },
      "source": [
        "df[0:5] # выводим первые пять строк"
      ],
      "execution_count": 0,
      "outputs": [
        {
          "output_type": "execute_result",
          "data": {
            "text/html": [
              "<div>\n",
              "<style scoped>\n",
              "    .dataframe tbody tr th:only-of-type {\n",
              "        vertical-align: middle;\n",
              "    }\n",
              "\n",
              "    .dataframe tbody tr th {\n",
              "        vertical-align: top;\n",
              "    }\n",
              "\n",
              "    .dataframe thead th {\n",
              "        text-align: right;\n",
              "    }\n",
              "</style>\n",
              "<table border=\"1\" class=\"dataframe\">\n",
              "  <thead>\n",
              "    <tr style=\"text-align: right;\">\n",
              "      <th></th>\n",
              "      <th>Time</th>\n",
              "      <th>V1</th>\n",
              "      <th>V2</th>\n",
              "      <th>V3</th>\n",
              "      <th>V4</th>\n",
              "      <th>V5</th>\n",
              "      <th>V6</th>\n",
              "      <th>V7</th>\n",
              "      <th>V8</th>\n",
              "      <th>V9</th>\n",
              "      <th>V10</th>\n",
              "      <th>V11</th>\n",
              "      <th>V12</th>\n",
              "      <th>V13</th>\n",
              "      <th>V14</th>\n",
              "      <th>V15</th>\n",
              "      <th>V16</th>\n",
              "      <th>V17</th>\n",
              "      <th>V18</th>\n",
              "      <th>V19</th>\n",
              "      <th>V20</th>\n",
              "      <th>V21</th>\n",
              "      <th>V22</th>\n",
              "      <th>V23</th>\n",
              "      <th>V24</th>\n",
              "      <th>V25</th>\n",
              "      <th>V26</th>\n",
              "      <th>V27</th>\n",
              "      <th>V28</th>\n",
              "      <th>Amount</th>\n",
              "      <th>Class</th>\n",
              "    </tr>\n",
              "  </thead>\n",
              "  <tbody>\n",
              "    <tr>\n",
              "      <th>0</th>\n",
              "      <td>0.0</td>\n",
              "      <td>-1.359807</td>\n",
              "      <td>-0.072781</td>\n",
              "      <td>2.536347</td>\n",
              "      <td>1.378155</td>\n",
              "      <td>-0.338321</td>\n",
              "      <td>0.462388</td>\n",
              "      <td>0.239599</td>\n",
              "      <td>0.098698</td>\n",
              "      <td>0.363787</td>\n",
              "      <td>0.090794</td>\n",
              "      <td>-0.551600</td>\n",
              "      <td>-0.617801</td>\n",
              "      <td>-0.991390</td>\n",
              "      <td>-0.311169</td>\n",
              "      <td>1.468177</td>\n",
              "      <td>-0.470401</td>\n",
              "      <td>0.207971</td>\n",
              "      <td>0.025791</td>\n",
              "      <td>0.403993</td>\n",
              "      <td>0.251412</td>\n",
              "      <td>-0.018307</td>\n",
              "      <td>0.277838</td>\n",
              "      <td>-0.110474</td>\n",
              "      <td>0.066928</td>\n",
              "      <td>0.128539</td>\n",
              "      <td>-0.189115</td>\n",
              "      <td>0.133558</td>\n",
              "      <td>-0.021053</td>\n",
              "      <td>149.62</td>\n",
              "      <td>0</td>\n",
              "    </tr>\n",
              "    <tr>\n",
              "      <th>1</th>\n",
              "      <td>0.0</td>\n",
              "      <td>1.191857</td>\n",
              "      <td>0.266151</td>\n",
              "      <td>0.166480</td>\n",
              "      <td>0.448154</td>\n",
              "      <td>0.060018</td>\n",
              "      <td>-0.082361</td>\n",
              "      <td>-0.078803</td>\n",
              "      <td>0.085102</td>\n",
              "      <td>-0.255425</td>\n",
              "      <td>-0.166974</td>\n",
              "      <td>1.612727</td>\n",
              "      <td>1.065235</td>\n",
              "      <td>0.489095</td>\n",
              "      <td>-0.143772</td>\n",
              "      <td>0.635558</td>\n",
              "      <td>0.463917</td>\n",
              "      <td>-0.114805</td>\n",
              "      <td>-0.183361</td>\n",
              "      <td>-0.145783</td>\n",
              "      <td>-0.069083</td>\n",
              "      <td>-0.225775</td>\n",
              "      <td>-0.638672</td>\n",
              "      <td>0.101288</td>\n",
              "      <td>-0.339846</td>\n",
              "      <td>0.167170</td>\n",
              "      <td>0.125895</td>\n",
              "      <td>-0.008983</td>\n",
              "      <td>0.014724</td>\n",
              "      <td>2.69</td>\n",
              "      <td>0</td>\n",
              "    </tr>\n",
              "    <tr>\n",
              "      <th>2</th>\n",
              "      <td>1.0</td>\n",
              "      <td>-1.358354</td>\n",
              "      <td>-1.340163</td>\n",
              "      <td>1.773209</td>\n",
              "      <td>0.379780</td>\n",
              "      <td>-0.503198</td>\n",
              "      <td>1.800499</td>\n",
              "      <td>0.791461</td>\n",
              "      <td>0.247676</td>\n",
              "      <td>-1.514654</td>\n",
              "      <td>0.207643</td>\n",
              "      <td>0.624501</td>\n",
              "      <td>0.066084</td>\n",
              "      <td>0.717293</td>\n",
              "      <td>-0.165946</td>\n",
              "      <td>2.345865</td>\n",
              "      <td>-2.890083</td>\n",
              "      <td>1.109969</td>\n",
              "      <td>-0.121359</td>\n",
              "      <td>-2.261857</td>\n",
              "      <td>0.524980</td>\n",
              "      <td>0.247998</td>\n",
              "      <td>0.771679</td>\n",
              "      <td>0.909412</td>\n",
              "      <td>-0.689281</td>\n",
              "      <td>-0.327642</td>\n",
              "      <td>-0.139097</td>\n",
              "      <td>-0.055353</td>\n",
              "      <td>-0.059752</td>\n",
              "      <td>378.66</td>\n",
              "      <td>0</td>\n",
              "    </tr>\n",
              "    <tr>\n",
              "      <th>3</th>\n",
              "      <td>1.0</td>\n",
              "      <td>-0.966272</td>\n",
              "      <td>-0.185226</td>\n",
              "      <td>1.792993</td>\n",
              "      <td>-0.863291</td>\n",
              "      <td>-0.010309</td>\n",
              "      <td>1.247203</td>\n",
              "      <td>0.237609</td>\n",
              "      <td>0.377436</td>\n",
              "      <td>-1.387024</td>\n",
              "      <td>-0.054952</td>\n",
              "      <td>-0.226487</td>\n",
              "      <td>0.178228</td>\n",
              "      <td>0.507757</td>\n",
              "      <td>-0.287924</td>\n",
              "      <td>-0.631418</td>\n",
              "      <td>-1.059647</td>\n",
              "      <td>-0.684093</td>\n",
              "      <td>1.965775</td>\n",
              "      <td>-1.232622</td>\n",
              "      <td>-0.208038</td>\n",
              "      <td>-0.108300</td>\n",
              "      <td>0.005274</td>\n",
              "      <td>-0.190321</td>\n",
              "      <td>-1.175575</td>\n",
              "      <td>0.647376</td>\n",
              "      <td>-0.221929</td>\n",
              "      <td>0.062723</td>\n",
              "      <td>0.061458</td>\n",
              "      <td>123.50</td>\n",
              "      <td>0</td>\n",
              "    </tr>\n",
              "    <tr>\n",
              "      <th>4</th>\n",
              "      <td>2.0</td>\n",
              "      <td>-1.158233</td>\n",
              "      <td>0.877737</td>\n",
              "      <td>1.548718</td>\n",
              "      <td>0.403034</td>\n",
              "      <td>-0.407193</td>\n",
              "      <td>0.095921</td>\n",
              "      <td>0.592941</td>\n",
              "      <td>-0.270533</td>\n",
              "      <td>0.817739</td>\n",
              "      <td>0.753074</td>\n",
              "      <td>-0.822843</td>\n",
              "      <td>0.538196</td>\n",
              "      <td>1.345852</td>\n",
              "      <td>-1.119670</td>\n",
              "      <td>0.175121</td>\n",
              "      <td>-0.451449</td>\n",
              "      <td>-0.237033</td>\n",
              "      <td>-0.038195</td>\n",
              "      <td>0.803487</td>\n",
              "      <td>0.408542</td>\n",
              "      <td>-0.009431</td>\n",
              "      <td>0.798278</td>\n",
              "      <td>-0.137458</td>\n",
              "      <td>0.141267</td>\n",
              "      <td>-0.206010</td>\n",
              "      <td>0.502292</td>\n",
              "      <td>0.219422</td>\n",
              "      <td>0.215153</td>\n",
              "      <td>69.99</td>\n",
              "      <td>0</td>\n",
              "    </tr>\n",
              "  </tbody>\n",
              "</table>\n",
              "</div>"
            ],
            "text/plain": [
              "   Time        V1        V2        V3  ...       V27       V28  Amount  Class\n",
              "0   0.0 -1.359807 -0.072781  2.536347  ...  0.133558 -0.021053  149.62      0\n",
              "1   0.0  1.191857  0.266151  0.166480  ... -0.008983  0.014724    2.69      0\n",
              "2   1.0 -1.358354 -1.340163  1.773209  ... -0.055353 -0.059752  378.66      0\n",
              "3   1.0 -0.966272 -0.185226  1.792993  ...  0.062723  0.061458  123.50      0\n",
              "4   2.0 -1.158233  0.877737  1.548718  ...  0.219422  0.215153   69.99      0\n",
              "\n",
              "[5 rows x 31 columns]"
            ]
          },
          "metadata": {
            "tags": []
          },
          "execution_count": 4
        }
      ]
    },
    {
      "cell_type": "code",
      "metadata": {
        "id": "lA__wmw-SIBP",
        "colab_type": "code",
        "colab": {}
      },
      "source": [
        "# Удаляем столбец со временем\n",
        "data = df.drop(['Time'], axis=1)\n",
        "# Нормализуем столбец с суммой транзакции\n",
        "data['Amount'] = StandardScaler().fit_transform(data['Amount'].values.reshape(-1, 1))\n",
        "\n",
        "frauds = data[data.Class == 1] # записываем мошеннические операции\n",
        "normal = data[data.Class == 0] # записываем нормальные операции"
      ],
      "execution_count": 0,
      "outputs": []
    },
    {
      "cell_type": "code",
      "metadata": {
        "id": "QG2ZvcTcSPSS",
        "colab_type": "code",
        "outputId": "2af6c4ce-e3c8-44f3-d0fc-65db0751ab8a",
        "colab": {
          "base_uri": "https://localhost:8080/",
          "height": 34
        }
      },
      "source": [
        "frauds.shape # смотрим какие размеры у мошеннических операций"
      ],
      "execution_count": 0,
      "outputs": [
        {
          "output_type": "execute_result",
          "data": {
            "text/plain": [
              "(492, 30)"
            ]
          },
          "metadata": {
            "tags": []
          },
          "execution_count": 6
        }
      ]
    },
    {
      "cell_type": "code",
      "metadata": {
        "id": "iyJSn49ESMb4",
        "colab_type": "code",
        "outputId": "d087bb46-5b93-473c-bae1-15ef42c074e0",
        "colab": {
          "base_uri": "https://localhost:8080/",
          "height": 34
        }
      },
      "source": [
        "normal.shape # смотрим какие размеры у нормальных операций"
      ],
      "execution_count": 0,
      "outputs": [
        {
          "output_type": "execute_result",
          "data": {
            "text/plain": [
              "(284315, 30)"
            ]
          },
          "metadata": {
            "tags": []
          },
          "execution_count": 7
        }
      ]
    },
    {
      "cell_type": "code",
      "metadata": {
        "id": "8zFrSDquSTFq",
        "colab_type": "code",
        "colab": {}
      },
      "source": [
        "RANDOM_SEED = 42 # задаем случайное значение\n",
        "\n",
        "# берём нормальные операции и разбиваем на train_test(только 'X')\n",
        "X_train, X_test = train_test_split(normal, test_size=0.2, random_state=RANDOM_SEED)"
      ],
      "execution_count": 0,
      "outputs": []
    },
    {
      "cell_type": "code",
      "metadata": {
        "id": "GvRIAqvDSUon",
        "colab_type": "code",
        "colab": {}
      },
      "source": [
        "# Удаляем класс в обучающем наборе данных\n",
        "X_train = X_train.drop(['Class'], axis=1)\n",
        "# Добавляем все мошеннические транзакции в тестовый набор данных\n",
        "X_test = pd.concat([X_test, frauds])\n",
        "# Делаем метки для тестового набора данных\n",
        "y_test = X_test['Class']\n",
        "# Удаляем класс у тестового набора данных\n",
        "X_test = X_test.drop(['Class'], axis=1)\n",
        "# Преобразуем данные в массивы numpy\n",
        "X_train = X_train.values\n",
        "X_test = X_test.values\n"
      ],
      "execution_count": 0,
      "outputs": []
    },
    {
      "cell_type": "code",
      "metadata": {
        "id": "WqflqXicbX7b",
        "colab_type": "code",
        "outputId": "e87dcac1-d1ba-4cc4-c7e5-46e632227972",
        "colab": {
          "base_uri": "https://localhost:8080/",
          "height": 34
        }
      },
      "source": [
        "print(X_train.shape) # взглянем на размеры обучающих данных"
      ],
      "execution_count": 0,
      "outputs": [
        {
          "output_type": "stream",
          "text": [
            "(227452, 29)\n"
          ],
          "name": "stdout"
        }
      ]
    },
    {
      "cell_type": "code",
      "metadata": {
        "id": "6pdKLikabrGS",
        "colab_type": "code",
        "colab": {}
      },
      "source": [
        "def creditcardAutoencoder(): # объявляем автокодировщик для определения мошенич.транзакций\n",
        "  dataSize = X_train.shape[1] # берём размеры X_train по второй оси(30)\n",
        "  dataInput = Input(shape=(dataSize, )) # задаем эти размеры как входные в сеть\n",
        "  \n",
        "  x = Dense(10, activation='relu')(dataInput) # пропускаем через полносвязный слой размером 10\n",
        "  x = Dense(dataSize, activation='linear')(x) # и через полносвязный слой размером 30 \n",
        "  \n",
        "  autoencoder = Model(inputs=dataInput, outputs=x) # собрали модель \n",
        "  \n",
        "  autoencoder.compile(optimizer='Adam', loss='mse') # компилируем модель также, с выбором оптимайзера и среднеквадратичной ошибки\n",
        "  \n",
        "  return autoencoder "
      ],
      "execution_count": 0,
      "outputs": []
    },
    {
      "cell_type": "code",
      "metadata": {
        "id": "N2LjGoPncgRS",
        "colab_type": "code",
        "outputId": "e2f978eb-b620-4e01-f1ae-b11f5368ed06",
        "colab": {
          "base_uri": "https://localhost:8080/",
          "height": 608
        }
      },
      "source": [
        "model = creditcardAutoencoder()\n",
        "history = model.fit(X_train, X_train,\n",
        "                    epochs=5,\n",
        "                    batch_size=32) # загружаем данные в модель(X_train'ы) и обучаем"
      ],
      "execution_count": 0,
      "outputs": [
        {
          "output_type": "stream",
          "text": [
            "WARNING:tensorflow:From /usr/local/lib/python3.6/dist-packages/keras/backend/tensorflow_backend.py:66: The name tf.get_default_graph is deprecated. Please use tf.compat.v1.get_default_graph instead.\n",
            "\n",
            "WARNING:tensorflow:From /usr/local/lib/python3.6/dist-packages/keras/backend/tensorflow_backend.py:541: The name tf.placeholder is deprecated. Please use tf.compat.v1.placeholder instead.\n",
            "\n",
            "WARNING:tensorflow:From /usr/local/lib/python3.6/dist-packages/keras/backend/tensorflow_backend.py:4432: The name tf.random_uniform is deprecated. Please use tf.random.uniform instead.\n",
            "\n",
            "WARNING:tensorflow:From /usr/local/lib/python3.6/dist-packages/keras/optimizers.py:793: The name tf.train.Optimizer is deprecated. Please use tf.compat.v1.train.Optimizer instead.\n",
            "\n",
            "WARNING:tensorflow:From /usr/local/lib/python3.6/dist-packages/keras/backend/tensorflow_backend.py:1033: The name tf.assign_add is deprecated. Please use tf.compat.v1.assign_add instead.\n",
            "\n",
            "WARNING:tensorflow:From /usr/local/lib/python3.6/dist-packages/keras/backend/tensorflow_backend.py:1020: The name tf.assign is deprecated. Please use tf.compat.v1.assign instead.\n",
            "\n",
            "WARNING:tensorflow:From /usr/local/lib/python3.6/dist-packages/keras/backend/tensorflow_backend.py:3005: The name tf.Session is deprecated. Please use tf.compat.v1.Session instead.\n",
            "\n",
            "Epoch 1/5\n",
            "WARNING:tensorflow:From /usr/local/lib/python3.6/dist-packages/keras/backend/tensorflow_backend.py:190: The name tf.get_default_session is deprecated. Please use tf.compat.v1.get_default_session instead.\n",
            "\n",
            "WARNING:tensorflow:From /usr/local/lib/python3.6/dist-packages/keras/backend/tensorflow_backend.py:197: The name tf.ConfigProto is deprecated. Please use tf.compat.v1.ConfigProto instead.\n",
            "\n",
            "WARNING:tensorflow:From /usr/local/lib/python3.6/dist-packages/keras/backend/tensorflow_backend.py:207: The name tf.global_variables is deprecated. Please use tf.compat.v1.global_variables instead.\n",
            "\n",
            "WARNING:tensorflow:From /usr/local/lib/python3.6/dist-packages/keras/backend/tensorflow_backend.py:216: The name tf.is_variable_initialized is deprecated. Please use tf.compat.v1.is_variable_initialized instead.\n",
            "\n",
            "WARNING:tensorflow:From /usr/local/lib/python3.6/dist-packages/keras/backend/tensorflow_backend.py:223: The name tf.variables_initializer is deprecated. Please use tf.compat.v1.variables_initializer instead.\n",
            "\n",
            "227452/227452 [==============================] - 9s 38us/step - loss: 0.4376\n",
            "Epoch 2/5\n",
            "227452/227452 [==============================] - 8s 33us/step - loss: 0.3557\n",
            "Epoch 3/5\n",
            "227452/227452 [==============================] - 8s 33us/step - loss: 0.3552\n",
            "Epoch 4/5\n",
            "227452/227452 [==============================] - 8s 33us/step - loss: 0.3549\n",
            "Epoch 5/5\n",
            "227452/227452 [==============================] - 8s 34us/step - loss: 0.3547\n"
          ],
          "name": "stdout"
        }
      ]
    },
    {
      "cell_type": "code",
      "metadata": {
        "id": "g_a2nEGcdSLg",
        "colab_type": "code",
        "colab": {}
      },
      "source": [
        "predictions = model.predict(X_test) # делаем предсказание по X_test"
      ],
      "execution_count": 0,
      "outputs": []
    },
    {
      "cell_type": "code",
      "metadata": {
        "id": "hjMqaIY8dVKX",
        "colab_type": "code",
        "colab": {}
      },
      "source": [
        "mse = np.mean(np.power(X_test - predictions, 2), axis=1) # определяем среднеквадратичную ошибку по X_test и предсказанием по X_test"
      ],
      "execution_count": 0,
      "outputs": []
    },
    {
      "cell_type": "code",
      "metadata": {
        "id": "t9L_kEtfeel2",
        "colab_type": "code",
        "colab": {}
      },
      "source": [
        "mse_normal = mse[y_test.values == 0] # среднеквадратичная ошибка на нормальных операциях\n",
        "mse_frauds = mse[y_test.values == 1] # среднеквадратичная ошибка на мошеннических операциях"
      ],
      "execution_count": 0,
      "outputs": []
    },
    {
      "cell_type": "code",
      "metadata": {
        "id": "OzI7K95qeux7",
        "colab_type": "code",
        "outputId": "1a8fb31d-2c44-41d7-de49-3bd96e6585e2",
        "colab": {
          "base_uri": "https://localhost:8080/",
          "height": 67
        }
      },
      "source": [
        "print(\"Минимальная ошибка нормальных трансакций:\", round(min(mse_normal),4))\n",
        "print(\"Максимальная ошибка нормальных трансакций:\", round(max(mse_normal),4))\n",
        "print(\"Средняя ошибка нормальных трансакций:\", round(sum(mse_normal) / len(mse_normal),4))"
      ],
      "execution_count": 0,
      "outputs": [
        {
          "output_type": "stream",
          "text": [
            "Минимальная ошибка нормальных трансакций: 0.0416\n",
            "Максимальная ошибка нормальных трансакций: 326.7216\n",
            "Средняя ошибка нормальных трансакций: 0.3551\n"
          ],
          "name": "stdout"
        }
      ]
    },
    {
      "cell_type": "code",
      "metadata": {
        "id": "eDcJ_CX7e4SN",
        "colab_type": "code",
        "outputId": "7a6667c0-5829-4888-a04c-08a160361a21",
        "colab": {
          "base_uri": "https://localhost:8080/",
          "height": 67
        }
      },
      "source": [
        "print(\"Минимальная ошибка мошеннических трансакций:\", round(min(mse_frauds),4))\n",
        "print(\"Максимальная ошибка мошеннических трансакций:\", round(max(mse_frauds),4))\n",
        "print(\"Средняя ошибка мошеннических трансакций:\", round(sum(mse_frauds) / len(mse_frauds),4))"
      ],
      "execution_count": 0,
      "outputs": [
        {
          "output_type": "stream",
          "text": [
            "Минимальная ошибка мошеннических трансакций: 0.1658\n",
            "Максимальная ошибка мошеннических трансакций: 109.5396\n",
            "Средняя ошибка мошеннических трансакций: 19.3426\n"
          ],
          "name": "stdout"
        }
      ]
    },
    {
      "cell_type": "code",
      "metadata": {
        "id": "NOwSVExle9Bm",
        "colab_type": "code",
        "colab": {}
      },
      "source": [
        "def getAccByBias(bias): # функция будет принимать какое то пороговое значение\n",
        "  isNormal = mse_normal < bias # если ошибка меньше порога - то транзакция нормальная\n",
        "  isFrauds = mse_frauds > bias # если ошибка больше порога - то транзакция мошенническая\n",
        "\n",
        "  accNormal = sum(isNormal) / len(isNormal) # вычисляем процент нормальных операций\n",
        "  accFaruds = sum(isFrauds) / len(isFrauds) # вычисляем процент мошеннических операций\n",
        "\n",
        "  print(\"Распознано нормальных трансакций: \", round(100*accNormal), \"%\", sep=\"\")\n",
        "  print(\"Распознано мошеннических трансакций: \", round(100*accFaruds), \"%\", sep=\"\")\n",
        "  print(\"Средняя точность распознавания: \", round(50*(accNormal + accFaruds)), \"%\", sep=\"\")"
      ],
      "execution_count": 0,
      "outputs": []
    },
    {
      "cell_type": "code",
      "metadata": {
        "id": "iRCIhNkafrhf",
        "colab_type": "code",
        "outputId": "7fae1aa1-e31d-4a1d-fec8-e031f10c42f3",
        "colab": {
          "base_uri": "https://localhost:8080/",
          "height": 67
        }
      },
      "source": [
        "getAccByBias(1.9) # выведем данные по распознаванию с конкретным пороговым значением"
      ],
      "execution_count": 0,
      "outputs": [
        {
          "output_type": "stream",
          "text": [
            "Распознано нормальных трансакций: 99.0%\n",
            "Распознано мошеннических трансакций: 83.0%\n",
            "Средняя точность распознавания: 91.0%\n"
          ],
          "name": "stdout"
        }
      ]
    }
  ]
}