{
  "nbformat": 4,
  "nbformat_minor": 0,
  "metadata": {
    "kernelspec": {
      "display_name": "Python 3",
      "language": "python",
      "name": "python3"
    },
    "language_info": {
      "codemirror_mode": {
        "name": "ipython",
        "version": 3
      },
      "file_extension": ".py",
      "mimetype": "text/x-python",
      "name": "python",
      "nbconvert_exporter": "python",
      "pygments_lexer": "ipython3",
      "version": "3.6.8"
    },
    "colab": {
      "name": "Copy of Курс команды. Занятие 9, 10. Синтаксис Python",
      "provenance": [],
      "collapsed_sections": [],
      "include_colab_link": true
    }
  },
  "cells": [
    {
      "cell_type": "markdown",
      "metadata": {
        "id": "view-in-github",
        "colab_type": "text"
      },
      "source": [
        "<a href=\"https://colab.research.google.com/github/errec-sun/brain/blob/master/Copy_of_%D0%9A%D1%83%D1%80%D1%81_%D0%BA%D0%BE%D0%BC%D0%B0%D0%BD%D0%B4%D1%8B_%D0%97%D0%B0%D0%BD%D1%8F%D1%82%D0%B8%D0%B5_9%2C_10_%D0%A1%D0%B8%D0%BD%D1%82%D0%B0%D0%BA%D1%81%D0%B8%D1%81_Python.ipynb\" target=\"_parent\"><img src=\"https://colab.research.google.com/assets/colab-badge.svg\" alt=\"Open In Colab\"/></a>"
      ]
    },
    {
      "cell_type": "markdown",
      "metadata": {
        "id": "3mH4lbPCgwL6",
        "colab_type": "text"
      },
      "source": [
        "# Основы Python \n",
        "\n",
        "Для прикладных целей важно овладеть несколькими аспектами:\n",
        "\n",
        "- Стандартные функции языка\n",
        "- Переменные и типы данных\n",
        "- Основные конструкции\n",
        "- Написание пользовательских функций\n",
        "- Загрузка и использование библиотек"
      ]
    },
    {
      "cell_type": "markdown",
      "metadata": {
        "id": "eXjmiQJCgwMC",
        "colab_type": "text"
      },
      "source": [
        "## Стандартные функции языка\n",
        "\n",
        "Функции - это маленькие программки, которые умеют выполнять какую-то операцию <br />\n",
        "Функции <b>вызываются</b>, после имени функции следуют круглые скобки, в которых указываются <b>аргументы</b> (над каким объектом будет выполнена операция) и <b>параметры </b> (с какими условиями)"
      ]
    },
    {
      "cell_type": "markdown",
      "metadata": {
        "id": "DWpeBni2gwMF",
        "colab_type": "text"
      },
      "source": [
        "### print()\n",
        "Функция для вывода содержимого на экран. <br>\n",
        "**Обязательно**: передать хотя бы какой-то объект, который нужно напечатать.\n",
        "\n",
        "Ее полный синтаксис:\n",
        "\n",
        "print(*objects, sep=' ', end='\\n', file=sys.stdout, flush=False)¶\n",
        "- objects: один или несколько объектов для вывода, перечисленные через запятую\n",
        "- sep: разделитель между несколькими объектами; стандартно установлен пробел\n",
        "- end: окончание строки; стандартно установлен перевод на новую строчку '\\n'"
      ]
    },
    {
      "cell_type": "code",
      "metadata": {
        "id": "ZBcwztmQgwML",
        "colab_type": "code",
        "outputId": "ec2662ab-d849-43fc-92d4-ac8eef54bd40",
        "colab": {
          "base_uri": "https://localhost:8080/",
          "height": 34
        }
      },
      "source": [
        "print(4)"
      ],
      "execution_count": 0,
      "outputs": [
        {
          "output_type": "stream",
          "text": [
            "4\n"
          ],
          "name": "stdout"
        }
      ]
    },
    {
      "cell_type": "code",
      "metadata": {
        "id": "DZTqDs3egwMv",
        "colab_type": "code",
        "outputId": "d09d5bf2-0dfd-450a-db40-25acdee95c55",
        "colab": {
          "base_uri": "https://localhost:8080/",
          "height": 34
        }
      },
      "source": [
        "print(5,6,7,8)"
      ],
      "execution_count": 0,
      "outputs": [
        {
          "output_type": "stream",
          "text": [
            "5 6 7 8\n"
          ],
          "name": "stdout"
        }
      ]
    },
    {
      "cell_type": "code",
      "metadata": {
        "id": "WpxbyEEZgwNA",
        "colab_type": "code",
        "outputId": "7fbbc29d-709b-4e95-a87d-3f11a4f82fb0",
        "colab": {
          "base_uri": "https://localhost:8080/",
          "height": 34
        }
      },
      "source": [
        "print(5, 6, 7, 8, sep='_')"
      ],
      "execution_count": 0,
      "outputs": [
        {
          "output_type": "stream",
          "text": [
            "5_6_7_8\n"
          ],
          "name": "stdout"
        }
      ]
    },
    {
      "cell_type": "code",
      "metadata": {
        "id": "Zf3QuweTgwNS",
        "colab_type": "code",
        "outputId": "3e3ece9a-a7a8-4e04-8b42-b501f3b0ddf2",
        "colab": {
          "base_uri": "https://localhost:8080/",
          "height": 51
        }
      },
      "source": [
        "print(\"Май\")\n",
        "print('Май')"
      ],
      "execution_count": 0,
      "outputs": [
        {
          "output_type": "stream",
          "text": [
            "Май\n",
            "Май\n"
          ],
          "name": "stdout"
        }
      ]
    },
    {
      "cell_type": "code",
      "metadata": {
        "id": "GgzR2vrmoLjZ",
        "colab_type": "code",
        "outputId": "b4ce238f-7efe-4635-980f-6b72bacd0fc4",
        "colab": {
          "base_uri": "https://localhost:8080/",
          "height": 130
        }
      },
      "source": [
        "print(\"Май')"
      ],
      "execution_count": 0,
      "outputs": [
        {
          "output_type": "error",
          "ename": "SyntaxError",
          "evalue": "ignored",
          "traceback": [
            "\u001b[0;36m  File \u001b[0;32m\"<ipython-input-10-b015bee6de02>\"\u001b[0;36m, line \u001b[0;32m1\u001b[0m\n\u001b[0;31m    print(\"Май')\u001b[0m\n\u001b[0m                ^\u001b[0m\n\u001b[0;31mSyntaxError\u001b[0m\u001b[0;31m:\u001b[0m EOL while scanning string literal\n"
          ]
        }
      ]
    },
    {
      "cell_type": "code",
      "metadata": {
        "id": "YQGzrhTwgwNj",
        "colab_type": "code",
        "outputId": "6f7ef9e1-a8d1-4367-a8c3-ebbb0de2568b",
        "colab": {
          "base_uri": "https://localhost:8080/",
          "height": 34
        }
      },
      "source": [
        "print('Переменная равна:', 5)"
      ],
      "execution_count": 0,
      "outputs": [
        {
          "output_type": "stream",
          "text": [
            "Переменная равна: 5\n"
          ],
          "name": "stdout"
        }
      ]
    },
    {
      "cell_type": "code",
      "metadata": {
        "id": "ak0ByW9pK3ON",
        "colab_type": "code",
        "outputId": "47ae812a-971e-4641-c621-77802c460f6c",
        "colab": {
          "base_uri": "https://localhost:8080/",
          "height": 34
        }
      },
      "source": [
        "print('Переменная равна:', 5, 'и вторая переменная равна:', 7)"
      ],
      "execution_count": 0,
      "outputs": [
        {
          "output_type": "stream",
          "text": [
            "Переменная равна: 5 и вторая переменная равна: 7\n"
          ],
          "name": "stdout"
        }
      ]
    },
    {
      "cell_type": "code",
      "metadata": {
        "id": "ZsmyZbigpHAx",
        "colab_type": "code",
        "outputId": "1080bbd8-d799-43f0-d1c9-3d04014a9ba0",
        "colab": {
          "base_uri": "https://localhost:8080/",
          "height": 34
        }
      },
      "source": [
        "print('Переменная равна: {} и вторая переменная равна: {}'.format(5, 7))"
      ],
      "execution_count": 0,
      "outputs": [
        {
          "output_type": "stream",
          "text": [
            "Переменная равна: 5 и вторая переменная равна: 7\n"
          ],
          "name": "stdout"
        }
      ]
    },
    {
      "cell_type": "code",
      "metadata": {
        "id": "QzE2VR0IK8mX",
        "colab_type": "code",
        "outputId": "529794c1-cd45-4aa0-897e-43da0a82d81c",
        "colab": {
          "base_uri": "https://localhost:8080/",
          "height": 34
        }
      },
      "source": [
        "print('Переменная равна: {} и вторая переменная равна: {}'.format(5.123, 7.9384950))"
      ],
      "execution_count": 0,
      "outputs": [
        {
          "output_type": "stream",
          "text": [
            "Переменная равна: 5.123 и вторая переменная равна: 7.938495\n"
          ],
          "name": "stdout"
        }
      ]
    },
    {
      "cell_type": "code",
      "metadata": {
        "id": "3imScjy0wvX9",
        "colab_type": "code",
        "outputId": "e6223614-ba19-49a4-8936-44a4b098c00d",
        "colab": {
          "base_uri": "https://localhost:8080/",
          "height": 34
        }
      },
      "source": [
        "print('Переменная равна: {:.1f} и вторая переменная равна: {:.3f}'.format(5.123, 7.9384950))"
      ],
      "execution_count": 0,
      "outputs": [
        {
          "output_type": "stream",
          "text": [
            "Переменная равна: 5.1 и вторая переменная равна: 7.938\n"
          ],
          "name": "stdout"
        }
      ]
    },
    {
      "cell_type": "markdown",
      "metadata": {
        "id": "AX_KsdJHgwN6",
        "colab_type": "text"
      },
      "source": [
        "#### Задача 1\n",
        "\n",
        "Выведите на экран фразу \"Hello, world!\""
      ]
    },
    {
      "cell_type": "code",
      "metadata": {
        "id": "Q6Urwmq9gwOL",
        "colab_type": "code",
        "outputId": "0841639c-b5bf-4536-b8bb-2beec9d6d498",
        "colab": {
          "base_uri": "https://localhost:8080/",
          "height": 34
        }
      },
      "source": [
        "print('Hello, world!')"
      ],
      "execution_count": 0,
      "outputs": [
        {
          "output_type": "stream",
          "text": [
            "Hello, world!\n"
          ],
          "name": "stdout"
        }
      ]
    },
    {
      "cell_type": "markdown",
      "metadata": {
        "id": "BDS_hmbhgwOk",
        "colab_type": "text"
      },
      "source": [
        "### input()\n",
        "Функция для ввода данных в программу с клавиатуры. <br>\n",
        "Обязательных аргументов нет. Можно передавать строчку, которая будет выведена перед ячейкой ввода. "
      ]
    },
    {
      "cell_type": "code",
      "metadata": {
        "id": "0YgIuroCgwOp",
        "colab_type": "code",
        "outputId": "8b8cc8c0-c8f5-4f39-caa6-089ac490fe80",
        "colab": {
          "base_uri": "https://localhost:8080/",
          "height": 68
        }
      },
      "source": [
        "name = input()\n",
        "print('Меня зовут', name)\n",
        "print('Меня зовут ' + name)"
      ],
      "execution_count": 0,
      "outputs": [
        {
          "output_type": "stream",
          "text": [
            "Дмитрий\n",
            "Меня зовут Дмитрий\n",
            "Меня зовут Дмитрий\n"
          ],
          "name": "stdout"
        }
      ]
    },
    {
      "cell_type": "code",
      "metadata": {
        "id": "ons-nkfwp3cL",
        "colab_type": "code",
        "outputId": "26d4a6a9-18ba-48fc-c2f2-d9f385ec8b64",
        "colab": {
          "base_uri": "https://localhost:8080/",
          "height": 51
        }
      },
      "source": [
        "print('Первая часть', 'вторая часть', 'третья часть')\n",
        "print('Первая часть ' + 'вторая часть ' + 'третья часть')"
      ],
      "execution_count": 0,
      "outputs": [
        {
          "output_type": "stream",
          "text": [
            "Первая часть вторая часть третья часть\n",
            "Первая часть вторая часть третья часть\n"
          ],
          "name": "stdout"
        }
      ]
    },
    {
      "cell_type": "markdown",
      "metadata": {
        "id": "Asnp0MjxgwO3",
        "colab_type": "text"
      },
      "source": [
        "А здесь небольшое преобразование позволит вывести перед ячейкой ввода нужный текст"
      ]
    },
    {
      "cell_type": "code",
      "metadata": {
        "id": "id69vPyigwO8",
        "colab_type": "code",
        "outputId": "7eb507f4-09c8-4be6-8cf9-963661256f8f",
        "colab": {
          "base_uri": "https://localhost:8080/",
          "height": 51
        }
      },
      "source": [
        "name = input('Введите ваше имя: ')\n",
        "print('Меня зовут', name)"
      ],
      "execution_count": 0,
      "outputs": [
        {
          "output_type": "stream",
          "text": [
            "Введите ваше имя: Дмитрий\n",
            "Меня зовут Дмитрий\n"
          ],
          "name": "stdout"
        }
      ]
    },
    {
      "cell_type": "markdown",
      "metadata": {
        "id": "FPmCE5oMgwPN",
        "colab_type": "text"
      },
      "source": [
        "### Арифметические операции\n",
        "- Сложение: +\n",
        "- Вычитание: -\n",
        "- Умножение: *\n",
        "- Деление: /\n",
        "- Возведение в степень: **\n",
        "- Целочисленное деление: //\n",
        "- Остаток от деления: %"
      ]
    },
    {
      "cell_type": "code",
      "metadata": {
        "id": "lzqViGqYgwPR",
        "colab_type": "code",
        "outputId": "2f7eedcf-c433-4386-bf9d-7da446430c32",
        "colab": {
          "base_uri": "https://localhost:8080/",
          "height": 154
        }
      },
      "source": [
        "print('Работаем с числами', 5, 'и', 2)\n",
        "print(5 + 2)\n",
        "print(5 - 2)\n",
        "print(5 * 2)\n",
        "print(5 / 2)\n",
        "print(5 // 2)\n",
        "print('Результат остатка от деления:', 5 % 2)\n",
        "print('Результат возведения в степени:', 5 ** 2)"
      ],
      "execution_count": 0,
      "outputs": [
        {
          "output_type": "stream",
          "text": [
            "Работаем с числами 5 и 2\n",
            "7\n",
            "3\n",
            "10\n",
            "2.5\n",
            "2\n",
            "Результат остатка от деления: 1\n",
            "Результат возведения в степени: 25\n"
          ],
          "name": "stdout"
        }
      ]
    },
    {
      "cell_type": "code",
      "metadata": {
        "id": "waI9iCJyqtq7",
        "colab_type": "code",
        "outputId": "b1f6d084-7a2c-4ebc-8ae5-5c2178409290",
        "colab": {
          "base_uri": "https://localhost:8080/",
          "height": 34
        }
      },
      "source": [
        "x = 1\n",
        "x += 5 #x = x + 5\n",
        "print(x)"
      ],
      "execution_count": 0,
      "outputs": [
        {
          "output_type": "stream",
          "text": [
            "6\n"
          ],
          "name": "stdout"
        }
      ]
    },
    {
      "cell_type": "code",
      "metadata": {
        "id": "LM8Fm1Mhq2RQ",
        "colab_type": "code",
        "outputId": "a3ac42e3-6333-44c2-b77c-8ac4cacaea8e",
        "colab": {
          "base_uri": "https://localhost:8080/",
          "height": 34
        }
      },
      "source": [
        "x = 3\n",
        "x *= 7 #x = x * 7\n",
        "print(x)"
      ],
      "execution_count": 0,
      "outputs": [
        {
          "output_type": "stream",
          "text": [
            "21\n"
          ],
          "name": "stdout"
        }
      ]
    },
    {
      "cell_type": "markdown",
      "metadata": {
        "id": "HWG-xiikgwPl",
        "colab_type": "text"
      },
      "source": [
        "Для выведения результата на экран не обязательно прописывать print(), можно просто выполнить ячейку, при этом отобразиться результат только последней строчки кода:"
      ]
    },
    {
      "cell_type": "code",
      "metadata": {
        "id": "Em4g2ATNgwPs",
        "colab_type": "code",
        "outputId": "f24ed7d2-63a8-43a1-c313-524bc8dc417d",
        "colab": {
          "base_uri": "https://localhost:8080/",
          "height": 34
        }
      },
      "source": [
        "5 + 2"
      ],
      "execution_count": 0,
      "outputs": [
        {
          "output_type": "execute_result",
          "data": {
            "text/plain": [
              "7"
            ]
          },
          "metadata": {
            "tags": []
          },
          "execution_count": 31
        }
      ]
    },
    {
      "cell_type": "code",
      "metadata": {
        "id": "WHo3fT33gwQE",
        "colab_type": "code",
        "outputId": "ed26f0cd-2852-49ef-dcf6-0d4ab46bf2b0",
        "colab": {
          "base_uri": "https://localhost:8080/",
          "height": 34
        }
      },
      "source": [
        "5 + 2\n",
        "5 * 2"
      ],
      "execution_count": 0,
      "outputs": [
        {
          "output_type": "execute_result",
          "data": {
            "text/plain": [
              "10"
            ]
          },
          "metadata": {
            "tags": []
          },
          "execution_count": 32
        }
      ]
    },
    {
      "cell_type": "code",
      "metadata": {
        "id": "3zpgs4QcgwQV",
        "colab_type": "code",
        "outputId": "2759db0c-5393-4586-dbdd-f7d4afacc3c1",
        "colab": {
          "base_uri": "https://localhost:8080/",
          "height": 51
        }
      },
      "source": [
        "print(5 + 2)\n",
        "5 * 2"
      ],
      "execution_count": 0,
      "outputs": [
        {
          "output_type": "stream",
          "text": [
            "7\n"
          ],
          "name": "stdout"
        },
        {
          "output_type": "execute_result",
          "data": {
            "text/plain": [
              "10"
            ]
          },
          "metadata": {
            "tags": []
          },
          "execution_count": 33
        }
      ]
    },
    {
      "cell_type": "code",
      "metadata": {
        "id": "vOuFjU_bgwQo",
        "colab_type": "code",
        "outputId": "b362cffa-c88a-48e2-f7aa-66b308263362",
        "colab": {
          "base_uri": "https://localhost:8080/",
          "height": 51
        }
      },
      "source": [
        "print(5 + 2)\n",
        "print(5 * 2)"
      ],
      "execution_count": 0,
      "outputs": [
        {
          "output_type": "stream",
          "text": [
            "7\n",
            "10\n"
          ],
          "name": "stdout"
        }
      ]
    },
    {
      "cell_type": "markdown",
      "metadata": {
        "id": "rl1kGggfgwQ4",
        "colab_type": "text"
      },
      "source": [
        "#### Задача 2\n",
        "\n",
        "Найти площадь круга с радиусом $R = 5$. Подсказка: площадь круга вычисляется по формуле $S = \\pi * R^2, \\pi$ ~ 3.14"
      ]
    },
    {
      "cell_type": "code",
      "metadata": {
        "id": "BC0TxE7GgwQ_",
        "colab_type": "code",
        "outputId": "20f129b1-1c6b-427f-c986-e7f4efd9ae1d",
        "colab": {
          "base_uri": "https://localhost:8080/",
          "height": 34
        }
      },
      "source": [
        "3.14 * 5 ** 2"
      ],
      "execution_count": 0,
      "outputs": [
        {
          "output_type": "execute_result",
          "data": {
            "text/plain": [
              "78.5"
            ]
          },
          "metadata": {
            "tags": []
          },
          "execution_count": 35
        }
      ]
    },
    {
      "cell_type": "markdown",
      "metadata": {
        "id": "Cn-oD-KJrMms",
        "colab_type": "text"
      },
      "source": [
        "#### Приоритетность операций\n",
        "\n",
        "- Высший приоритет - скобки ()\n",
        "- Высокий приоритет - возведение в степень **\n",
        "- Средний приоритет - *, /, //, %\n",
        "- Низкий приоритет - +, -\n",
        "- Самый низкий приоритет - логические операции, <, >, <=, >=, ==, !="
      ]
    },
    {
      "cell_type": "code",
      "metadata": {
        "id": "kGJ3MpVlrPc5",
        "colab_type": "code",
        "outputId": "92d81aaf-59cf-4691-a18e-b2b46c3c84e6",
        "colab": {
          "base_uri": "https://localhost:8080/",
          "height": 34
        }
      },
      "source": [
        "2 * 3 ** 2"
      ],
      "execution_count": 0,
      "outputs": [
        {
          "output_type": "execute_result",
          "data": {
            "text/plain": [
              "18"
            ]
          },
          "metadata": {
            "tags": []
          },
          "execution_count": 36
        }
      ]
    },
    {
      "cell_type": "code",
      "metadata": {
        "id": "q_lBCIBZrbYO",
        "colab_type": "code",
        "outputId": "c30f7350-46f2-47b4-df12-715d34d5ca34",
        "colab": {
          "base_uri": "https://localhost:8080/",
          "height": 34
        }
      },
      "source": [
        "(2 * 3) ** 2"
      ],
      "execution_count": 0,
      "outputs": [
        {
          "output_type": "execute_result",
          "data": {
            "text/plain": [
              "36"
            ]
          },
          "metadata": {
            "tags": []
          },
          "execution_count": 37
        }
      ]
    },
    {
      "cell_type": "code",
      "metadata": {
        "id": "zcmEVVdlrhK7",
        "colab_type": "code",
        "outputId": "02425cab-c98e-42d0-eed9-3d1dfc0c9e67",
        "colab": {
          "base_uri": "https://localhost:8080/",
          "height": 34
        }
      },
      "source": [
        "1 + 2 * 3"
      ],
      "execution_count": 0,
      "outputs": [
        {
          "output_type": "execute_result",
          "data": {
            "text/plain": [
              "7"
            ]
          },
          "metadata": {
            "tags": []
          },
          "execution_count": 38
        }
      ]
    },
    {
      "cell_type": "code",
      "metadata": {
        "id": "u4dMjURdr1qm",
        "colab_type": "code",
        "outputId": "ac5a6343-c5b7-4f43-f632-3165119c6540",
        "colab": {
          "base_uri": "https://localhost:8080/",
          "height": 34
        }
      },
      "source": [
        "3 + 2 * 4 + 15 / 5"
      ],
      "execution_count": 0,
      "outputs": [
        {
          "output_type": "execute_result",
          "data": {
            "text/plain": [
              "14.0"
            ]
          },
          "metadata": {
            "tags": []
          },
          "execution_count": 39
        }
      ]
    },
    {
      "cell_type": "code",
      "metadata": {
        "id": "eZZevkaDsA1R",
        "colab_type": "code",
        "outputId": "ca3ba771-cfa7-46d0-8e37-935ea76dbdf6",
        "colab": {
          "base_uri": "https://localhost:8080/",
          "height": 34
        }
      },
      "source": [
        "4 * 2 ** 3 + 5 * 2"
      ],
      "execution_count": 0,
      "outputs": [
        {
          "output_type": "execute_result",
          "data": {
            "text/plain": [
              "42"
            ]
          },
          "metadata": {
            "tags": []
          },
          "execution_count": 40
        }
      ]
    },
    {
      "cell_type": "code",
      "metadata": {
        "id": "ptT14u0TsSND",
        "colab_type": "code",
        "outputId": "3d191fe6-779c-4593-c3ba-4d77e9a4b6c3",
        "colab": {
          "base_uri": "https://localhost:8080/",
          "height": 34
        }
      },
      "source": [
        "(4 * 2 ** 3 + 5) * 2"
      ],
      "execution_count": 0,
      "outputs": [
        {
          "output_type": "execute_result",
          "data": {
            "text/plain": [
              "74"
            ]
          },
          "metadata": {
            "tags": []
          },
          "execution_count": 41
        }
      ]
    },
    {
      "cell_type": "code",
      "metadata": {
        "id": "tXURY2_psYvY",
        "colab_type": "code",
        "outputId": "0c09c05e-93b9-4b4b-9cb0-e3c73cf82a58",
        "colab": {
          "base_uri": "https://localhost:8080/",
          "height": 34
        }
      },
      "source": [
        "(5 // 2 + 7 % 3) / 3"
      ],
      "execution_count": 0,
      "outputs": [
        {
          "output_type": "execute_result",
          "data": {
            "text/plain": [
              "1.0"
            ]
          },
          "metadata": {
            "tags": []
          },
          "execution_count": 42
        }
      ]
    },
    {
      "cell_type": "markdown",
      "metadata": {
        "id": "qbpPCdLXgwRN",
        "colab_type": "text"
      },
      "source": [
        "### Переменные и типы переменных\n",
        "\n",
        "Результаты операций и манипуляций иногда нужно сохранять, поэтому мы определяем переменные - именованные объекты, которым присваиваем значения. "
      ]
    },
    {
      "cell_type": "code",
      "metadata": {
        "id": "eTMoHu16gwRT",
        "colab_type": "code",
        "colab": {}
      },
      "source": [
        "# Задаем значения переменных\n",
        "S = 100\n",
        "pi_ = 3.14\n",
        "r = (S / pi_) ** (0.5)"
      ],
      "execution_count": 0,
      "outputs": []
    },
    {
      "cell_type": "code",
      "metadata": {
        "id": "2MRHng15gwRd",
        "colab_type": "code",
        "outputId": "2d67bdab-c275-4cd7-b6f3-6e73469c8539",
        "colab": {
          "base_uri": "https://localhost:8080/",
          "height": 34
        }
      },
      "source": [
        "# Вывести на печать радиус \n",
        "print('r =', round(r,2))"
      ],
      "execution_count": 0,
      "outputs": [
        {
          "output_type": "stream",
          "text": [
            "r = 5.64\n"
          ],
          "name": "stdout"
        }
      ]
    },
    {
      "cell_type": "markdown",
      "metadata": {
        "id": "YNvnYZDqgwRt",
        "colab_type": "text"
      },
      "source": [
        "#### Задача 3\n",
        "\n",
        "Найти площадь круга с радиусом $R = 5$. Подсказка: площадь круга вычисляется по формуле $S = \\pi * R^2, \\pi$ ~ 3.14\n",
        "\n",
        "- Создайте переменную r со значением 5\n",
        "- Создайте переменную pi_ со значением 3.14\n",
        "- Сохраните результат вычисления в переменную S\n",
        "- Выведите на печать результаты"
      ]
    },
    {
      "cell_type": "code",
      "metadata": {
        "id": "cQSPW3pqgwR0",
        "colab_type": "code",
        "outputId": "65f9ca06-e1ab-4a2c-c7a6-42509904c795",
        "colab": {
          "base_uri": "https://localhost:8080/",
          "height": 34
        }
      },
      "source": [
        "# Место для решения\n",
        "r = 5\n",
        "pi_ = 3.14\n",
        "S = pi_ * r ** 2\n",
        "print('Площадь круга с радиусом', r, 'равна', S)"
      ],
      "execution_count": 0,
      "outputs": [
        {
          "output_type": "stream",
          "text": [
            "Площадь круга с радиусом 5 равна 78.5\n"
          ],
          "name": "stdout"
        }
      ]
    },
    {
      "cell_type": "markdown",
      "metadata": {
        "id": "fuSf1T6DgwR-",
        "colab_type": "text"
      },
      "source": [
        "### Основные типы данных:\n",
        "    \n",
        "- int (integer numbers) - целые числа\n",
        "- float (floating-point numbers) - числа с плавающей точкой\n",
        "- str (string) - строки\n",
        "- bool (boolean) - логический тип"
      ]
    },
    {
      "cell_type": "markdown",
      "metadata": {
        "id": "m6zDG1uTgwSB",
        "colab_type": "text"
      },
      "source": [
        "Функция **type** позволяет определить, какого типа переменная нам дана или какого типа переменную мы записали. "
      ]
    },
    {
      "cell_type": "code",
      "metadata": {
        "id": "TQ_XzJgggwSI",
        "colab_type": "code",
        "outputId": "42f63dde-4a9c-406b-cdfc-a82e8a6204d0",
        "colab": {
          "base_uri": "https://localhost:8080/",
          "height": 51
        }
      },
      "source": [
        "print(type(r))\n",
        "print(type(S))"
      ],
      "execution_count": 0,
      "outputs": [
        {
          "output_type": "stream",
          "text": [
            "<class 'int'>\n",
            "<class 'float'>\n"
          ],
          "name": "stdout"
        }
      ]
    },
    {
      "cell_type": "code",
      "metadata": {
        "id": "Jadp2DK0gwST",
        "colab_type": "code",
        "outputId": "ccaa10d4-8fe6-4b68-b73a-88284bce81ae",
        "colab": {
          "base_uri": "https://localhost:8080/",
          "height": 34
        }
      },
      "source": [
        "text = 'Площадь круга'\n",
        "print(type(text))"
      ],
      "execution_count": 0,
      "outputs": [
        {
          "output_type": "stream",
          "text": [
            "<class 'str'>\n"
          ],
          "name": "stdout"
        }
      ]
    },
    {
      "cell_type": "code",
      "metadata": {
        "id": "IfkU7m2qgwSg",
        "colab_type": "code",
        "outputId": "e641a33e-bdd1-4469-f11f-60784d83a64d",
        "colab": {
          "base_uri": "https://localhost:8080/",
          "height": 34
        }
      },
      "source": [
        "x = True\n",
        "print(type(x))"
      ],
      "execution_count": 0,
      "outputs": [
        {
          "output_type": "stream",
          "text": [
            "<class 'bool'>\n"
          ],
          "name": "stdout"
        }
      ]
    },
    {
      "cell_type": "markdown",
      "metadata": {
        "id": "YfLVBd0SgwS6",
        "colab_type": "text"
      },
      "source": [
        "Если нужно поменять тип переменной, то полезны функции:\n",
        "\n",
        "- int() - возвращает целочисленную переменную\n",
        "- float() - возвращает нецелочисленную переменную\n",
        "- bool() - возвращает булеву переменную\n",
        "- str() - возвращает строковую переменную"
      ]
    },
    {
      "cell_type": "code",
      "metadata": {
        "id": "GoHqTdGEgwS8",
        "colab_type": "code",
        "colab": {}
      },
      "source": [
        "# Конкатенация строк\n",
        "'Мое имя' + ' ' + 'Дмитрий'"
      ],
      "execution_count": 0,
      "outputs": []
    },
    {
      "cell_type": "code",
      "metadata": {
        "id": "qD1wIW6wgwTQ",
        "colab_type": "code",
        "outputId": "f76cab4e-f529-4883-ee80-d215ae7758e1",
        "colab": {
          "base_uri": "https://localhost:8080/",
          "height": 68
        }
      },
      "source": [
        "print(r, type(r))\n",
        "r_new = str(r)\n",
        "print(r_new, type(r_new))\n",
        "print('Радиус ' +  'круга: ' + r_new)"
      ],
      "execution_count": 0,
      "outputs": [
        {
          "output_type": "stream",
          "text": [
            "5 <class 'int'>\n",
            "5 <class 'str'>\n",
            "Радиус круга: 5\n"
          ],
          "name": "stdout"
        }
      ]
    },
    {
      "cell_type": "code",
      "metadata": {
        "id": "F_mMTOW4uL_y",
        "colab_type": "code",
        "outputId": "6142e13a-8815-4b66-fd13-7988f8755aeb",
        "colab": {
          "base_uri": "https://localhost:8080/",
          "height": 164
        }
      },
      "source": [
        "print('Радиус ' +  'круга: ' + r)"
      ],
      "execution_count": 0,
      "outputs": [
        {
          "output_type": "error",
          "ename": "TypeError",
          "evalue": "ignored",
          "traceback": [
            "\u001b[0;31m---------------------------------------------------------------------------\u001b[0m",
            "\u001b[0;31mTypeError\u001b[0m                                 Traceback (most recent call last)",
            "\u001b[0;32m<ipython-input-52-fbd23c7531d1>\u001b[0m in \u001b[0;36m<module>\u001b[0;34m()\u001b[0m\n\u001b[0;32m----> 1\u001b[0;31m \u001b[0mprint\u001b[0m\u001b[0;34m(\u001b[0m\u001b[0;34m'Радиус '\u001b[0m \u001b[0;34m+\u001b[0m  \u001b[0;34m'круга: '\u001b[0m \u001b[0;34m+\u001b[0m \u001b[0mr\u001b[0m\u001b[0;34m)\u001b[0m\u001b[0;34m\u001b[0m\u001b[0;34m\u001b[0m\u001b[0m\n\u001b[0m",
            "\u001b[0;31mTypeError\u001b[0m: must be str, not int"
          ]
        }
      ]
    },
    {
      "cell_type": "code",
      "metadata": {
        "id": "dC-5a8_6uWI3",
        "colab_type": "code",
        "outputId": "fd53591e-087e-4cc6-9cc8-e9b577cf188a",
        "colab": {
          "base_uri": "https://localhost:8080/",
          "height": 199
        }
      },
      "source": [
        "print(r + 2)\n",
        "print(r_new + 2)"
      ],
      "execution_count": 0,
      "outputs": [
        {
          "output_type": "stream",
          "text": [
            "7\n"
          ],
          "name": "stdout"
        },
        {
          "output_type": "error",
          "ename": "TypeError",
          "evalue": "ignored",
          "traceback": [
            "\u001b[0;31m---------------------------------------------------------------------------\u001b[0m",
            "\u001b[0;31mTypeError\u001b[0m                                 Traceback (most recent call last)",
            "\u001b[0;32m<ipython-input-53-605b09692d5c>\u001b[0m in \u001b[0;36m<module>\u001b[0;34m()\u001b[0m\n\u001b[1;32m      1\u001b[0m \u001b[0mprint\u001b[0m\u001b[0;34m(\u001b[0m\u001b[0mr\u001b[0m \u001b[0;34m+\u001b[0m \u001b[0;36m2\u001b[0m\u001b[0;34m)\u001b[0m\u001b[0;34m\u001b[0m\u001b[0;34m\u001b[0m\u001b[0m\n\u001b[0;32m----> 2\u001b[0;31m \u001b[0mprint\u001b[0m\u001b[0;34m(\u001b[0m\u001b[0mr_new\u001b[0m \u001b[0;34m+\u001b[0m \u001b[0;36m2\u001b[0m\u001b[0;34m)\u001b[0m\u001b[0;34m\u001b[0m\u001b[0;34m\u001b[0m\u001b[0m\n\u001b[0m",
            "\u001b[0;31mTypeError\u001b[0m: must be str, not int"
          ]
        }
      ]
    },
    {
      "cell_type": "code",
      "metadata": {
        "id": "4-gVon0IujOc",
        "colab_type": "code",
        "outputId": "a4adcbce-d24c-4a3c-dcb7-354f00620d8a",
        "colab": {
          "base_uri": "https://localhost:8080/",
          "height": 51
        }
      },
      "source": [
        "print(S)\n",
        "S_int = int(S)\n",
        "print(S_int)"
      ],
      "execution_count": 0,
      "outputs": [
        {
          "output_type": "stream",
          "text": [
            "78.5\n",
            "78\n"
          ],
          "name": "stdout"
        }
      ]
    },
    {
      "cell_type": "code",
      "metadata": {
        "id": "h4HQHjmdurH_",
        "colab_type": "code",
        "outputId": "4aed090b-99bc-4157-9f73-f20b980dc546",
        "colab": {
          "base_uri": "https://localhost:8080/",
          "height": 51
        }
      },
      "source": [
        "x = input()\n",
        "y = float(x)\n",
        "print(y ** 2)"
      ],
      "execution_count": 0,
      "outputs": [
        {
          "output_type": "stream",
          "text": [
            "2\n",
            "4.0\n"
          ],
          "name": "stdout"
        }
      ]
    },
    {
      "cell_type": "code",
      "metadata": {
        "id": "YpHjgLUxu-Ea",
        "colab_type": "code",
        "outputId": "3fc7d2d3-8601-44b0-e6cf-e23280a6957a",
        "colab": {
          "base_uri": "https://localhost:8080/",
          "height": 51
        }
      },
      "source": [
        "x_t = True\n",
        "x_f = False\n",
        "x_t_int = int(x_t)\n",
        "x_f_int = int(x_f)\n",
        "\n",
        "print(x_t_int)\n",
        "print(x_f_int)"
      ],
      "execution_count": 0,
      "outputs": [
        {
          "output_type": "stream",
          "text": [
            "1\n",
            "0\n"
          ],
          "name": "stdout"
        }
      ]
    },
    {
      "cell_type": "markdown",
      "metadata": {
        "id": "BSBHc5EIgwTz",
        "colab_type": "text"
      },
      "source": [
        "##  Базовые конструкции\n",
        "\n",
        "### Логические выражения \n",
        "\n",
        "По аналогии с арифметическими выражениями существуют логические выражения, которые могут быть истинными или ложными. Простое логическое выражение имеет вид <br /> \n",
        "\n",
        "<арифметическое выражение> <знак сравнения> <арифметическое выражение>. <br /> \n",
        "\n",
        "Например, если у нас есть переменные x и y с какими-то значениями, то логическое выражение <br /> x + y < 3y <br /> в качестве первого арифметического выражения имеет x + y, в качестве знака сравнения < (меньше), а второе арифметическое выражение в нём 3y.\n",
        "\n",
        "Логические выражения:\n",
        "- $<$   меньше\n",
        "- $>$  больше\n",
        "- $<=$  меньше или равно\n",
        "- $>=$  больше или равно\n",
        "- $==$  равно\n",
        "- $!=$  не равно"
      ]
    },
    {
      "cell_type": "code",
      "metadata": {
        "id": "a_TjqfuqgwT9",
        "colab_type": "code",
        "outputId": "3a0b0495-7485-4d3d-edf3-671bf4751457",
        "colab": {
          "base_uri": "https://localhost:8080/",
          "height": 34
        }
      },
      "source": [
        "2 != 3"
      ],
      "execution_count": 0,
      "outputs": [
        {
          "output_type": "execute_result",
          "data": {
            "text/plain": [
              "True"
            ]
          },
          "metadata": {
            "tags": []
          },
          "execution_count": 62
        }
      ]
    },
    {
      "cell_type": "code",
      "metadata": {
        "id": "MgiYJJ_-gwUI",
        "colab_type": "code",
        "outputId": "576e1767-8fdd-4414-86c9-74d5596dc42c",
        "colab": {
          "base_uri": "https://localhost:8080/",
          "height": 34
        }
      },
      "source": [
        "a = 2\n",
        "b = 3\n",
        "\n",
        "a != b"
      ],
      "execution_count": 0,
      "outputs": [
        {
          "output_type": "execute_result",
          "data": {
            "text/plain": [
              "True"
            ]
          },
          "metadata": {
            "tags": []
          },
          "execution_count": 63
        }
      ]
    },
    {
      "cell_type": "code",
      "metadata": {
        "id": "H2bG8VYIgwUT",
        "colab_type": "code",
        "outputId": "453b4257-2d28-4e7b-deee-dc641ef04c04",
        "colab": {
          "base_uri": "https://localhost:8080/",
          "height": 68
        }
      },
      "source": [
        "x = 2 * 2 == 5\n",
        "print(type(x))\n",
        "print(x)\n",
        "print(int(x))"
      ],
      "execution_count": 0,
      "outputs": [
        {
          "output_type": "stream",
          "text": [
            "<class 'bool'>\n",
            "False\n",
            "0\n"
          ],
          "name": "stdout"
        }
      ]
    },
    {
      "cell_type": "code",
      "metadata": {
        "id": "gvl1qTrHgwUd",
        "colab_type": "code",
        "outputId": "3e22d9cb-1d76-400f-f246-03284e5ecc1f",
        "colab": {
          "base_uri": "https://localhost:8080/",
          "height": 68
        }
      },
      "source": [
        "x = 2 * 2 != 5\n",
        "print(type(x))\n",
        "print(x)\n",
        "print(int(x))"
      ],
      "execution_count": 0,
      "outputs": [
        {
          "output_type": "stream",
          "text": [
            "<class 'bool'>\n",
            "True\n",
            "1\n"
          ],
          "name": "stdout"
        }
      ]
    },
    {
      "cell_type": "markdown",
      "metadata": {
        "id": "75qI8JMIgwUo",
        "colab_type": "text"
      },
      "source": [
        "Чтобы записать сложное логическое выражение, часто бывает необходимо воспользоваться логическими связками \"и\", \"или\" и \"не\". В Питоне они обозначаются как and, or и not соответственно. Операции and и or являеются бинарными, т.е. должны быть записаны между операндами, например x < 3 or y > 2. Операция not - унарная и должна быть записана перед единственным своим операндом."
      ]
    },
    {
      "cell_type": "code",
      "metadata": {
        "id": "iAfGrehIgwUq",
        "colab_type": "code",
        "outputId": "bd36b29b-6e50-4386-c254-a868bdd2540a",
        "colab": {
          "base_uri": "https://localhost:8080/",
          "height": 68
        }
      },
      "source": [
        "x = 4\n",
        "y = 5\n",
        "print(x > 3 and y > 3)\n",
        "print(x > y or x == y)\n",
        "print(not(x > y))"
      ],
      "execution_count": 0,
      "outputs": [
        {
          "output_type": "stream",
          "text": [
            "True\n",
            "False\n",
            "True\n"
          ],
          "name": "stdout"
        }
      ]
    },
    {
      "cell_type": "code",
      "metadata": {
        "id": "yVFwyFkbgwU1",
        "colab_type": "code",
        "outputId": "235d82cb-a2a0-4822-8a5a-0d709d47a8f4",
        "colab": {
          "base_uri": "https://localhost:8080/",
          "height": 34
        }
      },
      "source": [
        "a = 1\n",
        "b = 2\n",
        "c = 3\n",
        "d = 4\n",
        "\n",
        "((a == d) and (a > c)) != 4"
      ],
      "execution_count": 0,
      "outputs": [
        {
          "output_type": "execute_result",
          "data": {
            "text/plain": [
              "True"
            ]
          },
          "metadata": {
            "tags": []
          },
          "execution_count": 67
        }
      ]
    },
    {
      "cell_type": "code",
      "metadata": {
        "id": "PHba8zUpgwU_",
        "colab_type": "code",
        "outputId": "f6479e78-90ee-4d65-e38a-0212dcf1df01",
        "colab": {
          "base_uri": "https://localhost:8080/",
          "height": 34
        }
      },
      "source": [
        "((False) and (False)) != 4"
      ],
      "execution_count": 0,
      "outputs": [
        {
          "output_type": "execute_result",
          "data": {
            "text/plain": [
              "True"
            ]
          },
          "metadata": {
            "tags": []
          },
          "execution_count": 68
        }
      ]
    },
    {
      "cell_type": "code",
      "metadata": {
        "id": "l-Ut9t-JgwVI",
        "colab_type": "code",
        "outputId": "2e1bad28-49e4-4276-b963-79b7c86d116f",
        "colab": {
          "base_uri": "https://localhost:8080/",
          "height": 34
        }
      },
      "source": [
        "False != 4"
      ],
      "execution_count": 0,
      "outputs": [
        {
          "output_type": "execute_result",
          "data": {
            "text/plain": [
              "True"
            ]
          },
          "metadata": {
            "tags": []
          },
          "execution_count": 69
        }
      ]
    },
    {
      "cell_type": "code",
      "metadata": {
        "id": "S_uShMFfwY93",
        "colab_type": "code",
        "outputId": "c3356901-3ee7-4171-98d1-89ccca6fc628",
        "colab": {
          "base_uri": "https://localhost:8080/",
          "height": 34
        }
      },
      "source": [
        "0 != 4"
      ],
      "execution_count": 0,
      "outputs": [
        {
          "output_type": "execute_result",
          "data": {
            "text/plain": [
              "True"
            ]
          },
          "metadata": {
            "tags": []
          },
          "execution_count": 70
        }
      ]
    },
    {
      "cell_type": "markdown",
      "metadata": {
        "id": "IYcBpG-hgwVQ",
        "colab_type": "text"
      },
      "source": [
        "#### Задача 4\n",
        "\n",
        "Сравните $2^3$ и $3^2$. Результат распечатайте"
      ]
    },
    {
      "cell_type": "code",
      "metadata": {
        "id": "2Tsy5ctFgwVW",
        "colab_type": "code",
        "outputId": "51667dbb-884c-4ffd-abd2-6b0254c949a0",
        "colab": {
          "base_uri": "https://localhost:8080/",
          "height": 34
        }
      },
      "source": [
        "# Место для решения\n",
        "2 ** 3 > 3 ** 2"
      ],
      "execution_count": 0,
      "outputs": [
        {
          "output_type": "execute_result",
          "data": {
            "text/plain": [
              "False"
            ]
          },
          "metadata": {
            "tags": []
          },
          "execution_count": 71
        }
      ]
    },
    {
      "cell_type": "markdown",
      "metadata": {
        "id": "zGYhxvAYgwVg",
        "colab_type": "text"
      },
      "source": [
        "#### Задача 5\n",
        "\n",
        "Напишите логическое выражение для проверки попадания введенного числа в интервал от 0 до 10."
      ]
    },
    {
      "cell_type": "code",
      "metadata": {
        "id": "Zm54mA6AgwVj",
        "colab_type": "code",
        "outputId": "221bc496-0457-4151-d1a3-bc9f83dd8a27",
        "colab": {
          "base_uri": "https://localhost:8080/",
          "height": 51
        }
      },
      "source": [
        "# Место для решения\n",
        "x = int(input('Введите число: '))\n",
        "print((x >= 0) and (x <= 10))"
      ],
      "execution_count": 0,
      "outputs": [
        {
          "output_type": "stream",
          "text": [
            "Введите число: -5\n",
            "False\n"
          ],
          "name": "stdout"
        }
      ]
    },
    {
      "cell_type": "markdown",
      "metadata": {
        "id": "AuZ5H20IgwVw",
        "colab_type": "text"
      },
      "source": [
        "\n",
        "### Условный оператор"
      ]
    },
    {
      "cell_type": "markdown",
      "metadata": {
        "id": "-O_f_ZXFgwV1",
        "colab_type": "text"
      },
      "source": [
        "Наиболее частое применение логические выражения находят в условных операторах.\n",
        "\n",
        "Синтаксис в питоне: <br />\n",
        "**if** условие_1:<br />\n",
        "&emsp; команды<br />\n",
        "**elif** условие_2:<br />\n",
        "&emsp; команды<br />\n",
        "**elif** условие_3:<br />\n",
        "&emsp; команды<br />\n",
        "&emsp; ... <br />\n",
        "**elif** условие_N:<br />\n",
        "&emsp; команды<br />\n",
        "**else**: <br />\n",
        "&emsp; команды<br />"
      ]
    },
    {
      "cell_type": "markdown",
      "metadata": {
        "id": "P4vrCBc1gwV4",
        "colab_type": "text"
      },
      "source": [
        "**Пример**"
      ]
    },
    {
      "cell_type": "code",
      "metadata": {
        "id": "UUmfDyKHgwV7",
        "colab_type": "code",
        "outputId": "8e614b47-38bb-48db-c756-7cf01471358a",
        "colab": {
          "base_uri": "https://localhost:8080/",
          "height": 51
        }
      },
      "source": [
        "x = 2 ** 3   # 8\n",
        "y = 3 ** 2   # 9\n",
        "\n",
        "if x > y:\n",
        "  print('X больше Y')\n",
        "  print(x - y)\n",
        "else:\n",
        "  print(' ')\n",
        "  print('Y не меньше, чем X')"
      ],
      "execution_count": 0,
      "outputs": [
        {
          "output_type": "stream",
          "text": [
            " \n",
            "Y не меньше, чем X\n"
          ],
          "name": "stdout"
        }
      ]
    },
    {
      "cell_type": "code",
      "metadata": {
        "id": "yS6ayadXgwWG",
        "colab_type": "code",
        "colab": {}
      },
      "source": [
        "x = int(input('Введите число X: '))\n",
        "y = int(input('Введите число Y: '))\n",
        "\n",
        "if x > y:\n",
        "    print('X больше Y')\n",
        "    print('x - y = ', x - y)\n",
        "elif y > x:\n",
        "    print('Y больше X')\n",
        "    print('y - x = ', y - x)\n",
        "else:\n",
        "    print('X равно Y')"
      ],
      "execution_count": 0,
      "outputs": []
    },
    {
      "cell_type": "markdown",
      "metadata": {
        "id": "F-qHPYKcgwWO",
        "colab_type": "text"
      },
      "source": [
        "#### Задача 6\n",
        "Вас позвали на конференцию, которая будет проходить в другом городе, но времени до выезда осталось не так много. Напишите своим коллегам, что вы думаете об этой идее как можно быстрее. \n",
        "\n",
        "Если до вылета остается меньше 8 часов, то вы навряд ли успеете на самолет, так что должна появиться строчка \"К сожалению, я не успеваю!\", иначе - \"Ждите меня у входа в аэропорт\".\n"
      ]
    },
    {
      "cell_type": "code",
      "metadata": {
        "id": "i3UpP7FUgwWS",
        "colab_type": "code",
        "colab": {}
      },
      "source": [
        "# Место для решения\n",
        "..."
      ],
      "execution_count": 0,
      "outputs": []
    },
    {
      "cell_type": "markdown",
      "metadata": {
        "id": "PeDoPl2ogwWb",
        "colab_type": "text"
      },
      "source": [
        "2) Вас позвали на конференцию, которая будет проходить в другом городе, но времени до выезда осталось не так много, к тому же вы не знаете, получится ли взять выходной. Необходимо проверить ближайшие рейсы и предупредить начальство. Напишите своим коллегам, что вы думаете об этой идее как можно быстрее. \n",
        "\n",
        "Если до вылета остается больше 8 часов, а до начальства вы не добрались, то напишите: \"Предупредите, пожалуйста, шефа о конференции\". Если вы успеваете везде, напишите: \"Ждите меня у входа в аэропорт\". В случае, когда остается меньше 8 часов и начальство не в курсе, то должна появиться строчка \"К сожалению, я не успеваю!\"."
      ]
    },
    {
      "cell_type": "code",
      "metadata": {
        "id": "2zY9qp4hgwWe",
        "colab_type": "code",
        "colab": {}
      },
      "source": [
        "# Введите любое число\n",
        "hours = int(input('Время до вылета: '))\n",
        "# Введите да или нет\n",
        "boss = input('Начальство предупреждено? ')\n",
        "\n",
        "if hours > 8 and boss == 'да':\n",
        "    print(\"Ждите меня у входа в аэропорт\")\n",
        "    \n",
        "elif hours > 8 and boss == 'нет':\n",
        "    print(\"Предупредите, пожалуйста, шефа о конференции\")\n",
        "    \n",
        "else:\n",
        "    print(\"К сожалению, я не успеваю!\")"
      ],
      "execution_count": 0,
      "outputs": []
    },
    {
      "cell_type": "markdown",
      "metadata": {
        "id": "xevK5Jt3gwWn",
        "colab_type": "text"
      },
      "source": [
        "### Цикл while\n",
        "\n",
        "Циклические конструкции используются для многократного повторения одних и тех же действий. \n",
        "\n",
        "В цикле while команды выполняются до тех пор, пока некоторое заданное условие верно. При этом, если в теле цикла прямо не прописана процедура изменения переменной, заданной в условии, то получится бесконечный цикл.\n",
        "\n",
        "Структура цикла while:"
      ]
    },
    {
      "cell_type": "code",
      "metadata": {
        "id": "pGDlhkfFgwWp",
        "colab_type": "code",
        "outputId": "5644fb82-ac57-44a6-a5cd-ecf877ecb34b",
        "colab": {
          "base_uri": "https://localhost:8080/",
          "height": 68
        }
      },
      "source": [
        "layers_num = 3\n",
        "\n",
        "while layers_num > 0:\n",
        "  print('Слой номер #', layers_num, sep='')\n",
        "  layers_num -= 1 #  то же самое, что и layers_num = layers_num - 1"
      ],
      "execution_count": 0,
      "outputs": [
        {
          "output_type": "stream",
          "text": [
            "Слой номер #3\n",
            "Слой номер #2\n",
            "Слой номер #1\n"
          ],
          "name": "stdout"
        }
      ]
    },
    {
      "cell_type": "code",
      "metadata": {
        "id": "WoYGC1dk63E3",
        "colab_type": "code",
        "outputId": "cea46078-17c7-4c0a-ddd1-df99b3f4a69b",
        "colab": {
          "base_uri": "https://localhost:8080/",
          "height": 137
        }
      },
      "source": [
        "x = 0\n",
        "\n",
        "while x <= 10:\n",
        "  x = int(input('Введите число не больше 10: '))\n",
        "\n",
        "  if (x <= 10):\n",
        "    print('Отлично')\n",
        "  else:\n",
        "    print('Ну мы же просили не больше 10')\n",
        "\n",
        "print('Конец, спасибо за участие, приходите к нам почаще ;)')"
      ],
      "execution_count": 0,
      "outputs": [
        {
          "output_type": "stream",
          "text": [
            "Введите число не больше 10: 3\n",
            "Отлично\n",
            "Введите число не больше 10: 6\n",
            "Отлично\n",
            "Введите число не больше 10: 22\n",
            "Ну мы же просили не больше 10\n",
            "Конец, спасибо за участие, приходите к нам почаще ;)\n"
          ],
          "name": "stdout"
        }
      ]
    },
    {
      "cell_type": "markdown",
      "metadata": {
        "id": "Tb33DpKogwWy",
        "colab_type": "text"
      },
      "source": [
        "#### Задача 7\n",
        "\n",
        "По данному целому числу N распечатайте все квадраты натуральных чисел, не превосходящие N, в порядке возрастания. "
      ]
    },
    {
      "cell_type": "code",
      "metadata": {
        "id": "iBMSiAIngwW1",
        "colab_type": "code",
        "outputId": "37ad6aa2-6d2a-454c-a403-9bc61c3ec5c6",
        "colab": {
          "base_uri": "https://localhost:8080/",
          "height": 1000
        }
      },
      "source": [
        "# Место для решения\n",
        "N = int(input('Введите число: '))\n",
        "\n",
        "while N <= 0:\n",
        "  print('N должно быть положительным')\n",
        "  N = int(input('Введите число: '))\n",
        "\n",
        "x = 1\n",
        "\n",
        "while x ** 2 <= N:\n",
        "  print('Число ', x, ' в квадрате ', x ** 2, ', это не больше, чем ', N, sep='')\n",
        "  x += 1\n",
        "\n",
        "print('Число ', x, ' в квадрате ', x ** 2, ', это уже больше, чем ', N, sep='')\n",
        "print('Work done, приходите к нам почаще ;)')"
      ],
      "execution_count": 0,
      "outputs": [
        {
          "output_type": "stream",
          "text": [
            "\u001b[1;30;43mStreaming output truncated to the last 5000 lines.\u001b[0m\n",
            "Число 700 в квадрате 490000, это не больше, чем 32452543\n",
            "Число 701 в квадрате 491401, это не больше, чем 32452543\n",
            "Число 702 в квадрате 492804, это не больше, чем 32452543\n",
            "Число 703 в квадрате 494209, это не больше, чем 32452543\n",
            "Число 704 в квадрате 495616, это не больше, чем 32452543\n",
            "Число 705 в квадрате 497025, это не больше, чем 32452543\n",
            "Число 706 в квадрате 498436, это не больше, чем 32452543\n",
            "Число 707 в квадрате 499849, это не больше, чем 32452543\n",
            "Число 708 в квадрате 501264, это не больше, чем 32452543\n",
            "Число 709 в квадрате 502681, это не больше, чем 32452543\n",
            "Число 710 в квадрате 504100, это не больше, чем 32452543\n",
            "Число 711 в квадрате 505521, это не больше, чем 32452543\n",
            "Число 712 в квадрате 506944, это не больше, чем 32452543\n",
            "Число 713 в квадрате 508369, это не больше, чем 32452543\n",
            "Число 714 в квадрате 509796, это не больше, чем 32452543\n",
            "Число 715 в квадрате 511225, это не больше, чем 32452543\n",
            "Число 716 в квадрате 512656, это не больше, чем 32452543\n",
            "Число 717 в квадрате 514089, это не больше, чем 32452543\n",
            "Число 718 в квадрате 515524, это не больше, чем 32452543\n",
            "Число 719 в квадрате 516961, это не больше, чем 32452543\n",
            "Число 720 в квадрате 518400, это не больше, чем 32452543\n",
            "Число 721 в квадрате 519841, это не больше, чем 32452543\n",
            "Число 722 в квадрате 521284, это не больше, чем 32452543\n",
            "Число 723 в квадрате 522729, это не больше, чем 32452543\n",
            "Число 724 в квадрате 524176, это не больше, чем 32452543\n",
            "Число 725 в квадрате 525625, это не больше, чем 32452543\n",
            "Число 726 в квадрате 527076, это не больше, чем 32452543\n",
            "Число 727 в квадрате 528529, это не больше, чем 32452543\n",
            "Число 728 в квадрате 529984, это не больше, чем 32452543\n",
            "Число 729 в квадрате 531441, это не больше, чем 32452543\n",
            "Число 730 в квадрате 532900, это не больше, чем 32452543\n",
            "Число 731 в квадрате 534361, это не больше, чем 32452543\n",
            "Число 732 в квадрате 535824, это не больше, чем 32452543\n",
            "Число 733 в квадрате 537289, это не больше, чем 32452543\n",
            "Число 734 в квадрате 538756, это не больше, чем 32452543\n",
            "Число 735 в квадрате 540225, это не больше, чем 32452543\n",
            "Число 736 в квадрате 541696, это не больше, чем 32452543\n",
            "Число 737 в квадрате 543169, это не больше, чем 32452543\n",
            "Число 738 в квадрате 544644, это не больше, чем 32452543\n",
            "Число 739 в квадрате 546121, это не больше, чем 32452543\n",
            "Число 740 в квадрате 547600, это не больше, чем 32452543\n",
            "Число 741 в квадрате 549081, это не больше, чем 32452543\n",
            "Число 742 в квадрате 550564, это не больше, чем 32452543\n",
            "Число 743 в квадрате 552049, это не больше, чем 32452543\n",
            "Число 744 в квадрате 553536, это не больше, чем 32452543\n",
            "Число 745 в квадрате 555025, это не больше, чем 32452543\n",
            "Число 746 в квадрате 556516, это не больше, чем 32452543\n",
            "Число 747 в квадрате 558009, это не больше, чем 32452543\n",
            "Число 748 в квадрате 559504, это не больше, чем 32452543\n",
            "Число 749 в квадрате 561001, это не больше, чем 32452543\n",
            "Число 750 в квадрате 562500, это не больше, чем 32452543\n",
            "Число 751 в квадрате 564001, это не больше, чем 32452543\n",
            "Число 752 в квадрате 565504, это не больше, чем 32452543\n",
            "Число 753 в квадрате 567009, это не больше, чем 32452543\n",
            "Число 754 в квадрате 568516, это не больше, чем 32452543\n",
            "Число 755 в квадрате 570025, это не больше, чем 32452543\n",
            "Число 756 в квадрате 571536, это не больше, чем 32452543\n",
            "Число 757 в квадрате 573049, это не больше, чем 32452543\n",
            "Число 758 в квадрате 574564, это не больше, чем 32452543\n",
            "Число 759 в квадрате 576081, это не больше, чем 32452543\n",
            "Число 760 в квадрате 577600, это не больше, чем 32452543\n",
            "Число 761 в квадрате 579121, это не больше, чем 32452543\n",
            "Число 762 в квадрате 580644, это не больше, чем 32452543\n",
            "Число 763 в квадрате 582169, это не больше, чем 32452543\n",
            "Число 764 в квадрате 583696, это не больше, чем 32452543\n",
            "Число 765 в квадрате 585225, это не больше, чем 32452543\n",
            "Число 766 в квадрате 586756, это не больше, чем 32452543\n",
            "Число 767 в квадрате 588289, это не больше, чем 32452543\n",
            "Число 768 в квадрате 589824, это не больше, чем 32452543\n",
            "Число 769 в квадрате 591361, это не больше, чем 32452543\n",
            "Число 770 в квадрате 592900, это не больше, чем 32452543\n",
            "Число 771 в квадрате 594441, это не больше, чем 32452543\n",
            "Число 772 в квадрате 595984, это не больше, чем 32452543\n",
            "Число 773 в квадрате 597529, это не больше, чем 32452543\n",
            "Число 774 в квадрате 599076, это не больше, чем 32452543\n",
            "Число 775 в квадрате 600625, это не больше, чем 32452543\n",
            "Число 776 в квадрате 602176, это не больше, чем 32452543\n",
            "Число 777 в квадрате 603729, это не больше, чем 32452543\n",
            "Число 778 в квадрате 605284, это не больше, чем 32452543\n",
            "Число 779 в квадрате 606841, это не больше, чем 32452543\n",
            "Число 780 в квадрате 608400, это не больше, чем 32452543\n",
            "Число 781 в квадрате 609961, это не больше, чем 32452543\n",
            "Число 782 в квадрате 611524, это не больше, чем 32452543\n",
            "Число 783 в квадрате 613089, это не больше, чем 32452543\n",
            "Число 784 в квадрате 614656, это не больше, чем 32452543\n",
            "Число 785 в квадрате 616225, это не больше, чем 32452543\n",
            "Число 786 в квадрате 617796, это не больше, чем 32452543\n",
            "Число 787 в квадрате 619369, это не больше, чем 32452543\n",
            "Число 788 в квадрате 620944, это не больше, чем 32452543\n",
            "Число 789 в квадрате 622521, это не больше, чем 32452543\n",
            "Число 790 в квадрате 624100, это не больше, чем 32452543\n",
            "Число 791 в квадрате 625681, это не больше, чем 32452543\n",
            "Число 792 в квадрате 627264, это не больше, чем 32452543\n",
            "Число 793 в квадрате 628849, это не больше, чем 32452543\n",
            "Число 794 в квадрате 630436, это не больше, чем 32452543\n",
            "Число 795 в квадрате 632025, это не больше, чем 32452543\n",
            "Число 796 в квадрате 633616, это не больше, чем 32452543\n",
            "Число 797 в квадрате 635209, это не больше, чем 32452543\n",
            "Число 798 в квадрате 636804, это не больше, чем 32452543\n",
            "Число 799 в квадрате 638401, это не больше, чем 32452543\n",
            "Число 800 в квадрате 640000, это не больше, чем 32452543\n",
            "Число 801 в квадрате 641601, это не больше, чем 32452543\n",
            "Число 802 в квадрате 643204, это не больше, чем 32452543\n",
            "Число 803 в квадрате 644809, это не больше, чем 32452543\n",
            "Число 804 в квадрате 646416, это не больше, чем 32452543\n",
            "Число 805 в квадрате 648025, это не больше, чем 32452543\n",
            "Число 806 в квадрате 649636, это не больше, чем 32452543\n",
            "Число 807 в квадрате 651249, это не больше, чем 32452543\n",
            "Число 808 в квадрате 652864, это не больше, чем 32452543\n",
            "Число 809 в квадрате 654481, это не больше, чем 32452543\n",
            "Число 810 в квадрате 656100, это не больше, чем 32452543\n",
            "Число 811 в квадрате 657721, это не больше, чем 32452543\n",
            "Число 812 в квадрате 659344, это не больше, чем 32452543\n",
            "Число 813 в квадрате 660969, это не больше, чем 32452543\n",
            "Число 814 в квадрате 662596, это не больше, чем 32452543\n",
            "Число 815 в квадрате 664225, это не больше, чем 32452543\n",
            "Число 816 в квадрате 665856, это не больше, чем 32452543\n",
            "Число 817 в квадрате 667489, это не больше, чем 32452543\n",
            "Число 818 в квадрате 669124, это не больше, чем 32452543\n",
            "Число 819 в квадрате 670761, это не больше, чем 32452543\n",
            "Число 820 в квадрате 672400, это не больше, чем 32452543\n",
            "Число 821 в квадрате 674041, это не больше, чем 32452543\n",
            "Число 822 в квадрате 675684, это не больше, чем 32452543\n",
            "Число 823 в квадрате 677329, это не больше, чем 32452543\n",
            "Число 824 в квадрате 678976, это не больше, чем 32452543\n",
            "Число 825 в квадрате 680625, это не больше, чем 32452543\n",
            "Число 826 в квадрате 682276, это не больше, чем 32452543\n",
            "Число 827 в квадрате 683929, это не больше, чем 32452543\n",
            "Число 828 в квадрате 685584, это не больше, чем 32452543\n",
            "Число 829 в квадрате 687241, это не больше, чем 32452543\n",
            "Число 830 в квадрате 688900, это не больше, чем 32452543\n",
            "Число 831 в квадрате 690561, это не больше, чем 32452543\n",
            "Число 832 в квадрате 692224, это не больше, чем 32452543\n",
            "Число 833 в квадрате 693889, это не больше, чем 32452543\n",
            "Число 834 в квадрате 695556, это не больше, чем 32452543\n",
            "Число 835 в квадрате 697225, это не больше, чем 32452543\n",
            "Число 836 в квадрате 698896, это не больше, чем 32452543\n",
            "Число 837 в квадрате 700569, это не больше, чем 32452543\n",
            "Число 838 в квадрате 702244, это не больше, чем 32452543\n",
            "Число 839 в квадрате 703921, это не больше, чем 32452543\n",
            "Число 840 в квадрате 705600, это не больше, чем 32452543\n",
            "Число 841 в квадрате 707281, это не больше, чем 32452543\n",
            "Число 842 в квадрате 708964, это не больше, чем 32452543\n",
            "Число 843 в квадрате 710649, это не больше, чем 32452543\n",
            "Число 844 в квадрате 712336, это не больше, чем 32452543\n",
            "Число 845 в квадрате 714025, это не больше, чем 32452543\n",
            "Число 846 в квадрате 715716, это не больше, чем 32452543\n",
            "Число 847 в квадрате 717409, это не больше, чем 32452543\n",
            "Число 848 в квадрате 719104, это не больше, чем 32452543\n",
            "Число 849 в квадрате 720801, это не больше, чем 32452543\n",
            "Число 850 в квадрате 722500, это не больше, чем 32452543\n",
            "Число 851 в квадрате 724201, это не больше, чем 32452543\n",
            "Число 852 в квадрате 725904, это не больше, чем 32452543\n",
            "Число 853 в квадрате 727609, это не больше, чем 32452543\n",
            "Число 854 в квадрате 729316, это не больше, чем 32452543\n",
            "Число 855 в квадрате 731025, это не больше, чем 32452543\n",
            "Число 856 в квадрате 732736, это не больше, чем 32452543\n",
            "Число 857 в квадрате 734449, это не больше, чем 32452543\n",
            "Число 858 в квадрате 736164, это не больше, чем 32452543\n",
            "Число 859 в квадрате 737881, это не больше, чем 32452543\n",
            "Число 860 в квадрате 739600, это не больше, чем 32452543\n",
            "Число 861 в квадрате 741321, это не больше, чем 32452543\n",
            "Число 862 в квадрате 743044, это не больше, чем 32452543\n",
            "Число 863 в квадрате 744769, это не больше, чем 32452543\n",
            "Число 864 в квадрате 746496, это не больше, чем 32452543\n",
            "Число 865 в квадрате 748225, это не больше, чем 32452543\n",
            "Число 866 в квадрате 749956, это не больше, чем 32452543\n",
            "Число 867 в квадрате 751689, это не больше, чем 32452543\n",
            "Число 868 в квадрате 753424, это не больше, чем 32452543\n",
            "Число 869 в квадрате 755161, это не больше, чем 32452543\n",
            "Число 870 в квадрате 756900, это не больше, чем 32452543\n",
            "Число 871 в квадрате 758641, это не больше, чем 32452543\n",
            "Число 872 в квадрате 760384, это не больше, чем 32452543\n",
            "Число 873 в квадрате 762129, это не больше, чем 32452543\n",
            "Число 874 в квадрате 763876, это не больше, чем 32452543\n",
            "Число 875 в квадрате 765625, это не больше, чем 32452543\n",
            "Число 876 в квадрате 767376, это не больше, чем 32452543\n",
            "Число 877 в квадрате 769129, это не больше, чем 32452543\n",
            "Число 878 в квадрате 770884, это не больше, чем 32452543\n",
            "Число 879 в квадрате 772641, это не больше, чем 32452543\n",
            "Число 880 в квадрате 774400, это не больше, чем 32452543\n",
            "Число 881 в квадрате 776161, это не больше, чем 32452543\n",
            "Число 882 в квадрате 777924, это не больше, чем 32452543\n",
            "Число 883 в квадрате 779689, это не больше, чем 32452543\n",
            "Число 884 в квадрате 781456, это не больше, чем 32452543\n",
            "Число 885 в квадрате 783225, это не больше, чем 32452543\n",
            "Число 886 в квадрате 784996, это не больше, чем 32452543\n",
            "Число 887 в квадрате 786769, это не больше, чем 32452543\n",
            "Число 888 в квадрате 788544, это не больше, чем 32452543\n",
            "Число 889 в квадрате 790321, это не больше, чем 32452543\n",
            "Число 890 в квадрате 792100, это не больше, чем 32452543\n",
            "Число 891 в квадрате 793881, это не больше, чем 32452543\n",
            "Число 892 в квадрате 795664, это не больше, чем 32452543\n",
            "Число 893 в квадрате 797449, это не больше, чем 32452543\n",
            "Число 894 в квадрате 799236, это не больше, чем 32452543\n",
            "Число 895 в квадрате 801025, это не больше, чем 32452543\n",
            "Число 896 в квадрате 802816, это не больше, чем 32452543\n",
            "Число 897 в квадрате 804609, это не больше, чем 32452543\n",
            "Число 898 в квадрате 806404, это не больше, чем 32452543\n",
            "Число 899 в квадрате 808201, это не больше, чем 32452543\n",
            "Число 900 в квадрате 810000, это не больше, чем 32452543\n",
            "Число 901 в квадрате 811801, это не больше, чем 32452543\n",
            "Число 902 в квадрате 813604, это не больше, чем 32452543\n",
            "Число 903 в квадрате 815409, это не больше, чем 32452543\n",
            "Число 904 в квадрате 817216, это не больше, чем 32452543\n",
            "Число 905 в квадрате 819025, это не больше, чем 32452543\n",
            "Число 906 в квадрате 820836, это не больше, чем 32452543\n",
            "Число 907 в квадрате 822649, это не больше, чем 32452543\n",
            "Число 908 в квадрате 824464, это не больше, чем 32452543\n",
            "Число 909 в квадрате 826281, это не больше, чем 32452543\n",
            "Число 910 в квадрате 828100, это не больше, чем 32452543\n",
            "Число 911 в квадрате 829921, это не больше, чем 32452543\n",
            "Число 912 в квадрате 831744, это не больше, чем 32452543\n",
            "Число 913 в квадрате 833569, это не больше, чем 32452543\n",
            "Число 914 в квадрате 835396, это не больше, чем 32452543\n",
            "Число 915 в квадрате 837225, это не больше, чем 32452543\n",
            "Число 916 в квадрате 839056, это не больше, чем 32452543\n",
            "Число 917 в квадрате 840889, это не больше, чем 32452543\n",
            "Число 918 в квадрате 842724, это не больше, чем 32452543\n",
            "Число 919 в квадрате 844561, это не больше, чем 32452543\n",
            "Число 920 в квадрате 846400, это не больше, чем 32452543\n",
            "Число 921 в квадрате 848241, это не больше, чем 32452543\n",
            "Число 922 в квадрате 850084, это не больше, чем 32452543\n",
            "Число 923 в квадрате 851929, это не больше, чем 32452543\n",
            "Число 924 в квадрате 853776, это не больше, чем 32452543\n",
            "Число 925 в квадрате 855625, это не больше, чем 32452543\n",
            "Число 926 в квадрате 857476, это не больше, чем 32452543\n",
            "Число 927 в квадрате 859329, это не больше, чем 32452543\n",
            "Число 928 в квадрате 861184, это не больше, чем 32452543\n",
            "Число 929 в квадрате 863041, это не больше, чем 32452543\n",
            "Число 930 в квадрате 864900, это не больше, чем 32452543\n",
            "Число 931 в квадрате 866761, это не больше, чем 32452543\n",
            "Число 932 в квадрате 868624, это не больше, чем 32452543\n",
            "Число 933 в квадрате 870489, это не больше, чем 32452543\n",
            "Число 934 в квадрате 872356, это не больше, чем 32452543\n",
            "Число 935 в квадрате 874225, это не больше, чем 32452543\n",
            "Число 936 в квадрате 876096, это не больше, чем 32452543\n",
            "Число 937 в квадрате 877969, это не больше, чем 32452543\n",
            "Число 938 в квадрате 879844, это не больше, чем 32452543\n",
            "Число 939 в квадрате 881721, это не больше, чем 32452543\n",
            "Число 940 в квадрате 883600, это не больше, чем 32452543\n",
            "Число 941 в квадрате 885481, это не больше, чем 32452543\n",
            "Число 942 в квадрате 887364, это не больше, чем 32452543\n",
            "Число 943 в квадрате 889249, это не больше, чем 32452543\n",
            "Число 944 в квадрате 891136, это не больше, чем 32452543\n",
            "Число 945 в квадрате 893025, это не больше, чем 32452543\n",
            "Число 946 в квадрате 894916, это не больше, чем 32452543\n",
            "Число 947 в квадрате 896809, это не больше, чем 32452543\n",
            "Число 948 в квадрате 898704, это не больше, чем 32452543\n",
            "Число 949 в квадрате 900601, это не больше, чем 32452543\n",
            "Число 950 в квадрате 902500, это не больше, чем 32452543\n",
            "Число 951 в квадрате 904401, это не больше, чем 32452543\n",
            "Число 952 в квадрате 906304, это не больше, чем 32452543\n",
            "Число 953 в квадрате 908209, это не больше, чем 32452543\n",
            "Число 954 в квадрате 910116, это не больше, чем 32452543\n",
            "Число 955 в квадрате 912025, это не больше, чем 32452543\n",
            "Число 956 в квадрате 913936, это не больше, чем 32452543\n",
            "Число 957 в квадрате 915849, это не больше, чем 32452543\n",
            "Число 958 в квадрате 917764, это не больше, чем 32452543\n",
            "Число 959 в квадрате 919681, это не больше, чем 32452543\n",
            "Число 960 в квадрате 921600, это не больше, чем 32452543\n",
            "Число 961 в квадрате 923521, это не больше, чем 32452543\n",
            "Число 962 в квадрате 925444, это не больше, чем 32452543\n",
            "Число 963 в квадрате 927369, это не больше, чем 32452543\n",
            "Число 964 в квадрате 929296, это не больше, чем 32452543\n",
            "Число 965 в квадрате 931225, это не больше, чем 32452543\n",
            "Число 966 в квадрате 933156, это не больше, чем 32452543\n",
            "Число 967 в квадрате 935089, это не больше, чем 32452543\n",
            "Число 968 в квадрате 937024, это не больше, чем 32452543\n",
            "Число 969 в квадрате 938961, это не больше, чем 32452543\n",
            "Число 970 в квадрате 940900, это не больше, чем 32452543\n",
            "Число 971 в квадрате 942841, это не больше, чем 32452543\n",
            "Число 972 в квадрате 944784, это не больше, чем 32452543\n",
            "Число 973 в квадрате 946729, это не больше, чем 32452543\n",
            "Число 974 в квадрате 948676, это не больше, чем 32452543\n",
            "Число 975 в квадрате 950625, это не больше, чем 32452543\n",
            "Число 976 в квадрате 952576, это не больше, чем 32452543\n",
            "Число 977 в квадрате 954529, это не больше, чем 32452543\n",
            "Число 978 в квадрате 956484, это не больше, чем 32452543\n",
            "Число 979 в квадрате 958441, это не больше, чем 32452543\n",
            "Число 980 в квадрате 960400, это не больше, чем 32452543\n",
            "Число 981 в квадрате 962361, это не больше, чем 32452543\n",
            "Число 982 в квадрате 964324, это не больше, чем 32452543\n",
            "Число 983 в квадрате 966289, это не больше, чем 32452543\n",
            "Число 984 в квадрате 968256, это не больше, чем 32452543\n",
            "Число 985 в квадрате 970225, это не больше, чем 32452543\n",
            "Число 986 в квадрате 972196, это не больше, чем 32452543\n",
            "Число 987 в квадрате 974169, это не больше, чем 32452543\n",
            "Число 988 в квадрате 976144, это не больше, чем 32452543\n",
            "Число 989 в квадрате 978121, это не больше, чем 32452543\n",
            "Число 990 в квадрате 980100, это не больше, чем 32452543\n",
            "Число 991 в квадрате 982081, это не больше, чем 32452543\n",
            "Число 992 в квадрате 984064, это не больше, чем 32452543\n",
            "Число 993 в квадрате 986049, это не больше, чем 32452543\n",
            "Число 994 в квадрате 988036, это не больше, чем 32452543\n",
            "Число 995 в квадрате 990025, это не больше, чем 32452543\n",
            "Число 996 в квадрате 992016, это не больше, чем 32452543\n",
            "Число 997 в квадрате 994009, это не больше, чем 32452543\n",
            "Число 998 в квадрате 996004, это не больше, чем 32452543\n",
            "Число 999 в квадрате 998001, это не больше, чем 32452543\n",
            "Число 1000 в квадрате 1000000, это не больше, чем 32452543\n",
            "Число 1001 в квадрате 1002001, это не больше, чем 32452543\n",
            "Число 1002 в квадрате 1004004, это не больше, чем 32452543\n",
            "Число 1003 в квадрате 1006009, это не больше, чем 32452543\n",
            "Число 1004 в квадрате 1008016, это не больше, чем 32452543\n",
            "Число 1005 в квадрате 1010025, это не больше, чем 32452543\n",
            "Число 1006 в квадрате 1012036, это не больше, чем 32452543\n",
            "Число 1007 в квадрате 1014049, это не больше, чем 32452543\n",
            "Число 1008 в квадрате 1016064, это не больше, чем 32452543\n",
            "Число 1009 в квадрате 1018081, это не больше, чем 32452543\n",
            "Число 1010 в квадрате 1020100, это не больше, чем 32452543\n",
            "Число 1011 в квадрате 1022121, это не больше, чем 32452543\n",
            "Число 1012 в квадрате 1024144, это не больше, чем 32452543\n",
            "Число 1013 в квадрате 1026169, это не больше, чем 32452543\n",
            "Число 1014 в квадрате 1028196, это не больше, чем 32452543\n",
            "Число 1015 в квадрате 1030225, это не больше, чем 32452543\n",
            "Число 1016 в квадрате 1032256, это не больше, чем 32452543\n",
            "Число 1017 в квадрате 1034289, это не больше, чем 32452543\n",
            "Число 1018 в квадрате 1036324, это не больше, чем 32452543\n",
            "Число 1019 в квадрате 1038361, это не больше, чем 32452543\n",
            "Число 1020 в квадрате 1040400, это не больше, чем 32452543\n",
            "Число 1021 в квадрате 1042441, это не больше, чем 32452543\n",
            "Число 1022 в квадрате 1044484, это не больше, чем 32452543\n",
            "Число 1023 в квадрате 1046529, это не больше, чем 32452543\n",
            "Число 1024 в квадрате 1048576, это не больше, чем 32452543\n",
            "Число 1025 в квадрате 1050625, это не больше, чем 32452543\n",
            "Число 1026 в квадрате 1052676, это не больше, чем 32452543\n",
            "Число 1027 в квадрате 1054729, это не больше, чем 32452543\n",
            "Число 1028 в квадрате 1056784, это не больше, чем 32452543\n",
            "Число 1029 в квадрате 1058841, это не больше, чем 32452543\n",
            "Число 1030 в квадрате 1060900, это не больше, чем 32452543\n",
            "Число 1031 в квадрате 1062961, это не больше, чем 32452543\n",
            "Число 1032 в квадрате 1065024, это не больше, чем 32452543\n",
            "Число 1033 в квадрате 1067089, это не больше, чем 32452543\n",
            "Число 1034 в квадрате 1069156, это не больше, чем 32452543\n",
            "Число 1035 в квадрате 1071225, это не больше, чем 32452543\n",
            "Число 1036 в квадрате 1073296, это не больше, чем 32452543\n",
            "Число 1037 в квадрате 1075369, это не больше, чем 32452543\n",
            "Число 1038 в квадрате 1077444, это не больше, чем 32452543\n",
            "Число 1039 в квадрате 1079521, это не больше, чем 32452543\n",
            "Число 1040 в квадрате 1081600, это не больше, чем 32452543\n",
            "Число 1041 в квадрате 1083681, это не больше, чем 32452543\n",
            "Число 1042 в квадрате 1085764, это не больше, чем 32452543\n",
            "Число 1043 в квадрате 1087849, это не больше, чем 32452543\n",
            "Число 1044 в квадрате 1089936, это не больше, чем 32452543\n",
            "Число 1045 в квадрате 1092025, это не больше, чем 32452543\n",
            "Число 1046 в квадрате 1094116, это не больше, чем 32452543\n",
            "Число 1047 в квадрате 1096209, это не больше, чем 32452543\n",
            "Число 1048 в квадрате 1098304, это не больше, чем 32452543\n",
            "Число 1049 в квадрате 1100401, это не больше, чем 32452543\n",
            "Число 1050 в квадрате 1102500, это не больше, чем 32452543\n",
            "Число 1051 в квадрате 1104601, это не больше, чем 32452543\n",
            "Число 1052 в квадрате 1106704, это не больше, чем 32452543\n",
            "Число 1053 в квадрате 1108809, это не больше, чем 32452543\n",
            "Число 1054 в квадрате 1110916, это не больше, чем 32452543\n",
            "Число 1055 в квадрате 1113025, это не больше, чем 32452543\n",
            "Число 1056 в квадрате 1115136, это не больше, чем 32452543\n",
            "Число 1057 в квадрате 1117249, это не больше, чем 32452543\n",
            "Число 1058 в квадрате 1119364, это не больше, чем 32452543\n",
            "Число 1059 в квадрате 1121481, это не больше, чем 32452543\n",
            "Число 1060 в квадрате 1123600, это не больше, чем 32452543\n",
            "Число 1061 в квадрате 1125721, это не больше, чем 32452543\n",
            "Число 1062 в квадрате 1127844, это не больше, чем 32452543\n",
            "Число 1063 в квадрате 1129969, это не больше, чем 32452543\n",
            "Число 1064 в квадрате 1132096, это не больше, чем 32452543\n",
            "Число 1065 в квадрате 1134225, это не больше, чем 32452543\n",
            "Число 1066 в квадрате 1136356, это не больше, чем 32452543\n",
            "Число 1067 в квадрате 1138489, это не больше, чем 32452543\n",
            "Число 1068 в квадрате 1140624, это не больше, чем 32452543\n",
            "Число 1069 в квадрате 1142761, это не больше, чем 32452543\n",
            "Число 1070 в квадрате 1144900, это не больше, чем 32452543\n",
            "Число 1071 в квадрате 1147041, это не больше, чем 32452543\n",
            "Число 1072 в квадрате 1149184, это не больше, чем 32452543\n",
            "Число 1073 в квадрате 1151329, это не больше, чем 32452543\n",
            "Число 1074 в квадрате 1153476, это не больше, чем 32452543\n",
            "Число 1075 в квадрате 1155625, это не больше, чем 32452543\n",
            "Число 1076 в квадрате 1157776, это не больше, чем 32452543\n",
            "Число 1077 в квадрате 1159929, это не больше, чем 32452543\n",
            "Число 1078 в квадрате 1162084, это не больше, чем 32452543\n",
            "Число 1079 в квадрате 1164241, это не больше, чем 32452543\n",
            "Число 1080 в квадрате 1166400, это не больше, чем 32452543\n",
            "Число 1081 в квадрате 1168561, это не больше, чем 32452543\n",
            "Число 1082 в квадрате 1170724, это не больше, чем 32452543\n",
            "Число 1083 в квадрате 1172889, это не больше, чем 32452543\n",
            "Число 1084 в квадрате 1175056, это не больше, чем 32452543\n",
            "Число 1085 в квадрате 1177225, это не больше, чем 32452543\n",
            "Число 1086 в квадрате 1179396, это не больше, чем 32452543\n",
            "Число 1087 в квадрате 1181569, это не больше, чем 32452543\n",
            "Число 1088 в квадрате 1183744, это не больше, чем 32452543\n",
            "Число 1089 в квадрате 1185921, это не больше, чем 32452543\n",
            "Число 1090 в квадрате 1188100, это не больше, чем 32452543\n",
            "Число 1091 в квадрате 1190281, это не больше, чем 32452543\n",
            "Число 1092 в квадрате 1192464, это не больше, чем 32452543\n",
            "Число 1093 в квадрате 1194649, это не больше, чем 32452543\n",
            "Число 1094 в квадрате 1196836, это не больше, чем 32452543\n",
            "Число 1095 в квадрате 1199025, это не больше, чем 32452543\n",
            "Число 1096 в квадрате 1201216, это не больше, чем 32452543\n",
            "Число 1097 в квадрате 1203409, это не больше, чем 32452543\n",
            "Число 1098 в квадрате 1205604, это не больше, чем 32452543\n",
            "Число 1099 в квадрате 1207801, это не больше, чем 32452543\n",
            "Число 1100 в квадрате 1210000, это не больше, чем 32452543\n",
            "Число 1101 в квадрате 1212201, это не больше, чем 32452543\n",
            "Число 1102 в квадрате 1214404, это не больше, чем 32452543\n",
            "Число 1103 в квадрате 1216609, это не больше, чем 32452543\n",
            "Число 1104 в квадрате 1218816, это не больше, чем 32452543\n",
            "Число 1105 в квадрате 1221025, это не больше, чем 32452543\n",
            "Число 1106 в квадрате 1223236, это не больше, чем 32452543\n",
            "Число 1107 в квадрате 1225449, это не больше, чем 32452543\n",
            "Число 1108 в квадрате 1227664, это не больше, чем 32452543\n",
            "Число 1109 в квадрате 1229881, это не больше, чем 32452543\n",
            "Число 1110 в квадрате 1232100, это не больше, чем 32452543\n",
            "Число 1111 в квадрате 1234321, это не больше, чем 32452543\n",
            "Число 1112 в квадрате 1236544, это не больше, чем 32452543\n",
            "Число 1113 в квадрате 1238769, это не больше, чем 32452543\n",
            "Число 1114 в квадрате 1240996, это не больше, чем 32452543\n",
            "Число 1115 в квадрате 1243225, это не больше, чем 32452543\n",
            "Число 1116 в квадрате 1245456, это не больше, чем 32452543\n",
            "Число 1117 в квадрате 1247689, это не больше, чем 32452543\n",
            "Число 1118 в квадрате 1249924, это не больше, чем 32452543\n",
            "Число 1119 в квадрате 1252161, это не больше, чем 32452543\n",
            "Число 1120 в квадрате 1254400, это не больше, чем 32452543\n",
            "Число 1121 в квадрате 1256641, это не больше, чем 32452543\n",
            "Число 1122 в квадрате 1258884, это не больше, чем 32452543\n",
            "Число 1123 в квадрате 1261129, это не больше, чем 32452543\n",
            "Число 1124 в квадрате 1263376, это не больше, чем 32452543\n",
            "Число 1125 в квадрате 1265625, это не больше, чем 32452543\n",
            "Число 1126 в квадрате 1267876, это не больше, чем 32452543\n",
            "Число 1127 в квадрате 1270129, это не больше, чем 32452543\n",
            "Число 1128 в квадрате 1272384, это не больше, чем 32452543\n",
            "Число 1129 в квадрате 1274641, это не больше, чем 32452543\n",
            "Число 1130 в квадрате 1276900, это не больше, чем 32452543\n",
            "Число 1131 в квадрате 1279161, это не больше, чем 32452543\n",
            "Число 1132 в квадрате 1281424, это не больше, чем 32452543\n",
            "Число 1133 в квадрате 1283689, это не больше, чем 32452543\n",
            "Число 1134 в квадрате 1285956, это не больше, чем 32452543\n",
            "Число 1135 в квадрате 1288225, это не больше, чем 32452543\n",
            "Число 1136 в квадрате 1290496, это не больше, чем 32452543\n",
            "Число 1137 в квадрате 1292769, это не больше, чем 32452543\n",
            "Число 1138 в квадрате 1295044, это не больше, чем 32452543\n",
            "Число 1139 в квадрате 1297321, это не больше, чем 32452543\n",
            "Число 1140 в квадрате 1299600, это не больше, чем 32452543\n",
            "Число 1141 в квадрате 1301881, это не больше, чем 32452543\n",
            "Число 1142 в квадрате 1304164, это не больше, чем 32452543\n",
            "Число 1143 в квадрате 1306449, это не больше, чем 32452543\n",
            "Число 1144 в квадрате 1308736, это не больше, чем 32452543\n",
            "Число 1145 в квадрате 1311025, это не больше, чем 32452543\n",
            "Число 1146 в квадрате 1313316, это не больше, чем 32452543\n",
            "Число 1147 в квадрате 1315609, это не больше, чем 32452543\n",
            "Число 1148 в квадрате 1317904, это не больше, чем 32452543\n",
            "Число 1149 в квадрате 1320201, это не больше, чем 32452543\n",
            "Число 1150 в квадрате 1322500, это не больше, чем 32452543\n",
            "Число 1151 в квадрате 1324801, это не больше, чем 32452543\n",
            "Число 1152 в квадрате 1327104, это не больше, чем 32452543\n",
            "Число 1153 в квадрате 1329409, это не больше, чем 32452543\n",
            "Число 1154 в квадрате 1331716, это не больше, чем 32452543\n",
            "Число 1155 в квадрате 1334025, это не больше, чем 32452543\n",
            "Число 1156 в квадрате 1336336, это не больше, чем 32452543\n",
            "Число 1157 в квадрате 1338649, это не больше, чем 32452543\n",
            "Число 1158 в квадрате 1340964, это не больше, чем 32452543\n",
            "Число 1159 в квадрате 1343281, это не больше, чем 32452543\n",
            "Число 1160 в квадрате 1345600, это не больше, чем 32452543\n",
            "Число 1161 в квадрате 1347921, это не больше, чем 32452543\n",
            "Число 1162 в квадрате 1350244, это не больше, чем 32452543\n",
            "Число 1163 в квадрате 1352569, это не больше, чем 32452543\n",
            "Число 1164 в квадрате 1354896, это не больше, чем 32452543\n",
            "Число 1165 в квадрате 1357225, это не больше, чем 32452543\n",
            "Число 1166 в квадрате 1359556, это не больше, чем 32452543\n",
            "Число 1167 в квадрате 1361889, это не больше, чем 32452543\n",
            "Число 1168 в квадрате 1364224, это не больше, чем 32452543\n",
            "Число 1169 в квадрате 1366561, это не больше, чем 32452543\n",
            "Число 1170 в квадрате 1368900, это не больше, чем 32452543\n",
            "Число 1171 в квадрате 1371241, это не больше, чем 32452543\n",
            "Число 1172 в квадрате 1373584, это не больше, чем 32452543\n",
            "Число 1173 в квадрате 1375929, это не больше, чем 32452543\n",
            "Число 1174 в квадрате 1378276, это не больше, чем 32452543\n",
            "Число 1175 в квадрате 1380625, это не больше, чем 32452543\n",
            "Число 1176 в квадрате 1382976, это не больше, чем 32452543\n",
            "Число 1177 в квадрате 1385329, это не больше, чем 32452543\n",
            "Число 1178 в квадрате 1387684, это не больше, чем 32452543\n",
            "Число 1179 в квадрате 1390041, это не больше, чем 32452543\n",
            "Число 1180 в квадрате 1392400, это не больше, чем 32452543\n",
            "Число 1181 в квадрате 1394761, это не больше, чем 32452543\n",
            "Число 1182 в квадрате 1397124, это не больше, чем 32452543\n",
            "Число 1183 в квадрате 1399489, это не больше, чем 32452543\n",
            "Число 1184 в квадрате 1401856, это не больше, чем 32452543\n",
            "Число 1185 в квадрате 1404225, это не больше, чем 32452543\n",
            "Число 1186 в квадрате 1406596, это не больше, чем 32452543\n",
            "Число 1187 в квадрате 1408969, это не больше, чем 32452543\n",
            "Число 1188 в квадрате 1411344, это не больше, чем 32452543\n",
            "Число 1189 в квадрате 1413721, это не больше, чем 32452543\n",
            "Число 1190 в квадрате 1416100, это не больше, чем 32452543\n",
            "Число 1191 в квадрате 1418481, это не больше, чем 32452543\n",
            "Число 1192 в квадрате 1420864, это не больше, чем 32452543\n",
            "Число 1193 в квадрате 1423249, это не больше, чем 32452543\n",
            "Число 1194 в квадрате 1425636, это не больше, чем 32452543\n",
            "Число 1195 в квадрате 1428025, это не больше, чем 32452543\n",
            "Число 1196 в квадрате 1430416, это не больше, чем 32452543\n",
            "Число 1197 в квадрате 1432809, это не больше, чем 32452543\n",
            "Число 1198 в квадрате 1435204, это не больше, чем 32452543\n",
            "Число 1199 в квадрате 1437601, это не больше, чем 32452543\n",
            "Число 1200 в квадрате 1440000, это не больше, чем 32452543\n",
            "Число 1201 в квадрате 1442401, это не больше, чем 32452543\n",
            "Число 1202 в квадрате 1444804, это не больше, чем 32452543\n",
            "Число 1203 в квадрате 1447209, это не больше, чем 32452543\n",
            "Число 1204 в квадрате 1449616, это не больше, чем 32452543\n",
            "Число 1205 в квадрате 1452025, это не больше, чем 32452543\n",
            "Число 1206 в квадрате 1454436, это не больше, чем 32452543\n",
            "Число 1207 в квадрате 1456849, это не больше, чем 32452543\n",
            "Число 1208 в квадрате 1459264, это не больше, чем 32452543\n",
            "Число 1209 в квадрате 1461681, это не больше, чем 32452543\n",
            "Число 1210 в квадрате 1464100, это не больше, чем 32452543\n",
            "Число 1211 в квадрате 1466521, это не больше, чем 32452543\n",
            "Число 1212 в квадрате 1468944, это не больше, чем 32452543\n",
            "Число 1213 в квадрате 1471369, это не больше, чем 32452543\n",
            "Число 1214 в квадрате 1473796, это не больше, чем 32452543\n",
            "Число 1215 в квадрате 1476225, это не больше, чем 32452543\n",
            "Число 1216 в квадрате 1478656, это не больше, чем 32452543\n",
            "Число 1217 в квадрате 1481089, это не больше, чем 32452543\n",
            "Число 1218 в квадрате 1483524, это не больше, чем 32452543\n",
            "Число 1219 в квадрате 1485961, это не больше, чем 32452543\n",
            "Число 1220 в квадрате 1488400, это не больше, чем 32452543\n",
            "Число 1221 в квадрате 1490841, это не больше, чем 32452543\n",
            "Число 1222 в квадрате 1493284, это не больше, чем 32452543\n",
            "Число 1223 в квадрате 1495729, это не больше, чем 32452543\n",
            "Число 1224 в квадрате 1498176, это не больше, чем 32452543\n",
            "Число 1225 в квадрате 1500625, это не больше, чем 32452543\n",
            "Число 1226 в квадрате 1503076, это не больше, чем 32452543\n",
            "Число 1227 в квадрате 1505529, это не больше, чем 32452543\n",
            "Число 1228 в квадрате 1507984, это не больше, чем 32452543\n",
            "Число 1229 в квадрате 1510441, это не больше, чем 32452543\n",
            "Число 1230 в квадрате 1512900, это не больше, чем 32452543\n",
            "Число 1231 в квадрате 1515361, это не больше, чем 32452543\n",
            "Число 1232 в квадрате 1517824, это не больше, чем 32452543\n",
            "Число 1233 в квадрате 1520289, это не больше, чем 32452543\n",
            "Число 1234 в квадрате 1522756, это не больше, чем 32452543\n",
            "Число 1235 в квадрате 1525225, это не больше, чем 32452543\n",
            "Число 1236 в квадрате 1527696, это не больше, чем 32452543\n",
            "Число 1237 в квадрате 1530169, это не больше, чем 32452543\n",
            "Число 1238 в квадрате 1532644, это не больше, чем 32452543\n",
            "Число 1239 в квадрате 1535121, это не больше, чем 32452543\n",
            "Число 1240 в квадрате 1537600, это не больше, чем 32452543\n",
            "Число 1241 в квадрате 1540081, это не больше, чем 32452543\n",
            "Число 1242 в квадрате 1542564, это не больше, чем 32452543\n",
            "Число 1243 в квадрате 1545049, это не больше, чем 32452543\n",
            "Число 1244 в квадрате 1547536, это не больше, чем 32452543\n",
            "Число 1245 в квадрате 1550025, это не больше, чем 32452543\n",
            "Число 1246 в квадрате 1552516, это не больше, чем 32452543\n",
            "Число 1247 в квадрате 1555009, это не больше, чем 32452543\n",
            "Число 1248 в квадрате 1557504, это не больше, чем 32452543\n",
            "Число 1249 в квадрате 1560001, это не больше, чем 32452543\n",
            "Число 1250 в квадрате 1562500, это не больше, чем 32452543\n",
            "Число 1251 в квадрате 1565001, это не больше, чем 32452543\n",
            "Число 1252 в квадрате 1567504, это не больше, чем 32452543\n",
            "Число 1253 в квадрате 1570009, это не больше, чем 32452543\n",
            "Число 1254 в квадрате 1572516, это не больше, чем 32452543\n",
            "Число 1255 в квадрате 1575025, это не больше, чем 32452543\n",
            "Число 1256 в квадрате 1577536, это не больше, чем 32452543\n",
            "Число 1257 в квадрате 1580049, это не больше, чем 32452543\n",
            "Число 1258 в квадрате 1582564, это не больше, чем 32452543\n",
            "Число 1259 в квадрате 1585081, это не больше, чем 32452543\n",
            "Число 1260 в квадрате 1587600, это не больше, чем 32452543\n",
            "Число 1261 в квадрате 1590121, это не больше, чем 32452543\n",
            "Число 1262 в квадрате 1592644, это не больше, чем 32452543\n",
            "Число 1263 в квадрате 1595169, это не больше, чем 32452543\n",
            "Число 1264 в квадрате 1597696, это не больше, чем 32452543\n",
            "Число 1265 в квадрате 1600225, это не больше, чем 32452543\n",
            "Число 1266 в квадрате 1602756, это не больше, чем 32452543\n",
            "Число 1267 в квадрате 1605289, это не больше, чем 32452543\n",
            "Число 1268 в квадрате 1607824, это не больше, чем 32452543\n",
            "Число 1269 в квадрате 1610361, это не больше, чем 32452543\n",
            "Число 1270 в квадрате 1612900, это не больше, чем 32452543\n",
            "Число 1271 в квадрате 1615441, это не больше, чем 32452543\n",
            "Число 1272 в квадрате 1617984, это не больше, чем 32452543\n",
            "Число 1273 в квадрате 1620529, это не больше, чем 32452543\n",
            "Число 1274 в квадрате 1623076, это не больше, чем 32452543\n",
            "Число 1275 в квадрате 1625625, это не больше, чем 32452543\n",
            "Число 1276 в квадрате 1628176, это не больше, чем 32452543\n",
            "Число 1277 в квадрате 1630729, это не больше, чем 32452543\n",
            "Число 1278 в квадрате 1633284, это не больше, чем 32452543\n",
            "Число 1279 в квадрате 1635841, это не больше, чем 32452543\n",
            "Число 1280 в квадрате 1638400, это не больше, чем 32452543\n",
            "Число 1281 в квадрате 1640961, это не больше, чем 32452543\n",
            "Число 1282 в квадрате 1643524, это не больше, чем 32452543\n",
            "Число 1283 в квадрате 1646089, это не больше, чем 32452543\n",
            "Число 1284 в квадрате 1648656, это не больше, чем 32452543\n",
            "Число 1285 в квадрате 1651225, это не больше, чем 32452543\n",
            "Число 1286 в квадрате 1653796, это не больше, чем 32452543\n",
            "Число 1287 в квадрате 1656369, это не больше, чем 32452543\n",
            "Число 1288 в квадрате 1658944, это не больше, чем 32452543\n",
            "Число 1289 в квадрате 1661521, это не больше, чем 32452543\n",
            "Число 1290 в квадрате 1664100, это не больше, чем 32452543\n",
            "Число 1291 в квадрате 1666681, это не больше, чем 32452543\n",
            "Число 1292 в квадрате 1669264, это не больше, чем 32452543\n",
            "Число 1293 в квадрате 1671849, это не больше, чем 32452543\n",
            "Число 1294 в квадрате 1674436, это не больше, чем 32452543\n",
            "Число 1295 в квадрате 1677025, это не больше, чем 32452543\n",
            "Число 1296 в квадрате 1679616, это не больше, чем 32452543\n",
            "Число 1297 в квадрате 1682209, это не больше, чем 32452543\n",
            "Число 1298 в квадрате 1684804, это не больше, чем 32452543\n",
            "Число 1299 в квадрате 1687401, это не больше, чем 32452543\n",
            "Число 1300 в квадрате 1690000, это не больше, чем 32452543\n",
            "Число 1301 в квадрате 1692601, это не больше, чем 32452543\n",
            "Число 1302 в квадрате 1695204, это не больше, чем 32452543\n",
            "Число 1303 в квадрате 1697809, это не больше, чем 32452543\n",
            "Число 1304 в квадрате 1700416, это не больше, чем 32452543\n",
            "Число 1305 в квадрате 1703025, это не больше, чем 32452543\n",
            "Число 1306 в квадрате 1705636, это не больше, чем 32452543\n",
            "Число 1307 в квадрате 1708249, это не больше, чем 32452543\n",
            "Число 1308 в квадрате 1710864, это не больше, чем 32452543\n",
            "Число 1309 в квадрате 1713481, это не больше, чем 32452543\n",
            "Число 1310 в квадрате 1716100, это не больше, чем 32452543\n",
            "Число 1311 в квадрате 1718721, это не больше, чем 32452543\n",
            "Число 1312 в квадрате 1721344, это не больше, чем 32452543\n",
            "Число 1313 в квадрате 1723969, это не больше, чем 32452543\n",
            "Число 1314 в квадрате 1726596, это не больше, чем 32452543\n",
            "Число 1315 в квадрате 1729225, это не больше, чем 32452543\n",
            "Число 1316 в квадрате 1731856, это не больше, чем 32452543\n",
            "Число 1317 в квадрате 1734489, это не больше, чем 32452543\n",
            "Число 1318 в квадрате 1737124, это не больше, чем 32452543\n",
            "Число 1319 в квадрате 1739761, это не больше, чем 32452543\n",
            "Число 1320 в квадрате 1742400, это не больше, чем 32452543\n",
            "Число 1321 в квадрате 1745041, это не больше, чем 32452543\n",
            "Число 1322 в квадрате 1747684, это не больше, чем 32452543\n",
            "Число 1323 в квадрате 1750329, это не больше, чем 32452543\n",
            "Число 1324 в квадрате 1752976, это не больше, чем 32452543\n",
            "Число 1325 в квадрате 1755625, это не больше, чем 32452543\n",
            "Число 1326 в квадрате 1758276, это не больше, чем 32452543\n",
            "Число 1327 в квадрате 1760929, это не больше, чем 32452543\n",
            "Число 1328 в квадрате 1763584, это не больше, чем 32452543\n",
            "Число 1329 в квадрате 1766241, это не больше, чем 32452543\n",
            "Число 1330 в квадрате 1768900, это не больше, чем 32452543\n",
            "Число 1331 в квадрате 1771561, это не больше, чем 32452543\n",
            "Число 1332 в квадрате 1774224, это не больше, чем 32452543\n",
            "Число 1333 в квадрате 1776889, это не больше, чем 32452543\n",
            "Число 1334 в квадрате 1779556, это не больше, чем 32452543\n",
            "Число 1335 в квадрате 1782225, это не больше, чем 32452543\n",
            "Число 1336 в квадрате 1784896, это не больше, чем 32452543\n",
            "Число 1337 в квадрате 1787569, это не больше, чем 32452543\n",
            "Число 1338 в квадрате 1790244, это не больше, чем 32452543\n",
            "Число 1339 в квадрате 1792921, это не больше, чем 32452543\n",
            "Число 1340 в квадрате 1795600, это не больше, чем 32452543\n",
            "Число 1341 в квадрате 1798281, это не больше, чем 32452543\n",
            "Число 1342 в квадрате 1800964, это не больше, чем 32452543\n",
            "Число 1343 в квадрате 1803649, это не больше, чем 32452543\n",
            "Число 1344 в квадрате 1806336, это не больше, чем 32452543\n",
            "Число 1345 в квадрате 1809025, это не больше, чем 32452543\n",
            "Число 1346 в квадрате 1811716, это не больше, чем 32452543\n",
            "Число 1347 в квадрате 1814409, это не больше, чем 32452543\n",
            "Число 1348 в квадрате 1817104, это не больше, чем 32452543\n",
            "Число 1349 в квадрате 1819801, это не больше, чем 32452543\n",
            "Число 1350 в квадрате 1822500, это не больше, чем 32452543\n",
            "Число 1351 в квадрате 1825201, это не больше, чем 32452543\n",
            "Число 1352 в квадрате 1827904, это не больше, чем 32452543\n",
            "Число 1353 в квадрате 1830609, это не больше, чем 32452543\n",
            "Число 1354 в квадрате 1833316, это не больше, чем 32452543\n",
            "Число 1355 в квадрате 1836025, это не больше, чем 32452543\n",
            "Число 1356 в квадрате 1838736, это не больше, чем 32452543\n",
            "Число 1357 в квадрате 1841449, это не больше, чем 32452543\n",
            "Число 1358 в квадрате 1844164, это не больше, чем 32452543\n",
            "Число 1359 в квадрате 1846881, это не больше, чем 32452543\n",
            "Число 1360 в квадрате 1849600, это не больше, чем 32452543\n",
            "Число 1361 в квадрате 1852321, это не больше, чем 32452543\n",
            "Число 1362 в квадрате 1855044, это не больше, чем 32452543\n",
            "Число 1363 в квадрате 1857769, это не больше, чем 32452543\n",
            "Число 1364 в квадрате 1860496, это не больше, чем 32452543\n",
            "Число 1365 в квадрате 1863225, это не больше, чем 32452543\n",
            "Число 1366 в квадрате 1865956, это не больше, чем 32452543\n",
            "Число 1367 в квадрате 1868689, это не больше, чем 32452543\n",
            "Число 1368 в квадрате 1871424, это не больше, чем 32452543\n",
            "Число 1369 в квадрате 1874161, это не больше, чем 32452543\n",
            "Число 1370 в квадрате 1876900, это не больше, чем 32452543\n",
            "Число 1371 в квадрате 1879641, это не больше, чем 32452543\n",
            "Число 1372 в квадрате 1882384, это не больше, чем 32452543\n",
            "Число 1373 в квадрате 1885129, это не больше, чем 32452543\n",
            "Число 1374 в квадрате 1887876, это не больше, чем 32452543\n",
            "Число 1375 в квадрате 1890625, это не больше, чем 32452543\n",
            "Число 1376 в квадрате 1893376, это не больше, чем 32452543\n",
            "Число 1377 в квадрате 1896129, это не больше, чем 32452543\n",
            "Число 1378 в квадрате 1898884, это не больше, чем 32452543\n",
            "Число 1379 в квадрате 1901641, это не больше, чем 32452543\n",
            "Число 1380 в квадрате 1904400, это не больше, чем 32452543\n",
            "Число 1381 в квадрате 1907161, это не больше, чем 32452543\n",
            "Число 1382 в квадрате 1909924, это не больше, чем 32452543\n",
            "Число 1383 в квадрате 1912689, это не больше, чем 32452543\n",
            "Число 1384 в квадрате 1915456, это не больше, чем 32452543\n",
            "Число 1385 в квадрате 1918225, это не больше, чем 32452543\n",
            "Число 1386 в квадрате 1920996, это не больше, чем 32452543\n",
            "Число 1387 в квадрате 1923769, это не больше, чем 32452543\n",
            "Число 1388 в квадрате 1926544, это не больше, чем 32452543\n",
            "Число 1389 в квадрате 1929321, это не больше, чем 32452543\n",
            "Число 1390 в квадрате 1932100, это не больше, чем 32452543\n",
            "Число 1391 в квадрате 1934881, это не больше, чем 32452543\n",
            "Число 1392 в квадрате 1937664, это не больше, чем 32452543\n",
            "Число 1393 в квадрате 1940449, это не больше, чем 32452543\n",
            "Число 1394 в квадрате 1943236, это не больше, чем 32452543\n",
            "Число 1395 в квадрате 1946025, это не больше, чем 32452543\n",
            "Число 1396 в квадрате 1948816, это не больше, чем 32452543\n",
            "Число 1397 в квадрате 1951609, это не больше, чем 32452543\n",
            "Число 1398 в квадрате 1954404, это не больше, чем 32452543\n",
            "Число 1399 в квадрате 1957201, это не больше, чем 32452543\n",
            "Число 1400 в квадрате 1960000, это не больше, чем 32452543\n",
            "Число 1401 в квадрате 1962801, это не больше, чем 32452543\n",
            "Число 1402 в квадрате 1965604, это не больше, чем 32452543\n",
            "Число 1403 в квадрате 1968409, это не больше, чем 32452543\n",
            "Число 1404 в квадрате 1971216, это не больше, чем 32452543\n",
            "Число 1405 в квадрате 1974025, это не больше, чем 32452543\n",
            "Число 1406 в квадрате 1976836, это не больше, чем 32452543\n",
            "Число 1407 в квадрате 1979649, это не больше, чем 32452543\n",
            "Число 1408 в квадрате 1982464, это не больше, чем 32452543\n",
            "Число 1409 в квадрате 1985281, это не больше, чем 32452543\n",
            "Число 1410 в квадрате 1988100, это не больше, чем 32452543\n",
            "Число 1411 в квадрате 1990921, это не больше, чем 32452543\n",
            "Число 1412 в квадрате 1993744, это не больше, чем 32452543\n",
            "Число 1413 в квадрате 1996569, это не больше, чем 32452543\n",
            "Число 1414 в квадрате 1999396, это не больше, чем 32452543\n",
            "Число 1415 в квадрате 2002225, это не больше, чем 32452543\n",
            "Число 1416 в квадрате 2005056, это не больше, чем 32452543\n",
            "Число 1417 в квадрате 2007889, это не больше, чем 32452543\n",
            "Число 1418 в квадрате 2010724, это не больше, чем 32452543\n",
            "Число 1419 в квадрате 2013561, это не больше, чем 32452543\n",
            "Число 1420 в квадрате 2016400, это не больше, чем 32452543\n",
            "Число 1421 в квадрате 2019241, это не больше, чем 32452543\n",
            "Число 1422 в квадрате 2022084, это не больше, чем 32452543\n",
            "Число 1423 в квадрате 2024929, это не больше, чем 32452543\n",
            "Число 1424 в квадрате 2027776, это не больше, чем 32452543\n",
            "Число 1425 в квадрате 2030625, это не больше, чем 32452543\n",
            "Число 1426 в квадрате 2033476, это не больше, чем 32452543\n",
            "Число 1427 в квадрате 2036329, это не больше, чем 32452543\n",
            "Число 1428 в квадрате 2039184, это не больше, чем 32452543\n",
            "Число 1429 в квадрате 2042041, это не больше, чем 32452543\n",
            "Число 1430 в квадрате 2044900, это не больше, чем 32452543\n",
            "Число 1431 в квадрате 2047761, это не больше, чем 32452543\n",
            "Число 1432 в квадрате 2050624, это не больше, чем 32452543\n",
            "Число 1433 в квадрате 2053489, это не больше, чем 32452543\n",
            "Число 1434 в квадрате 2056356, это не больше, чем 32452543\n",
            "Число 1435 в квадрате 2059225, это не больше, чем 32452543\n",
            "Число 1436 в квадрате 2062096, это не больше, чем 32452543\n",
            "Число 1437 в квадрате 2064969, это не больше, чем 32452543\n",
            "Число 1438 в квадрате 2067844, это не больше, чем 32452543\n",
            "Число 1439 в квадрате 2070721, это не больше, чем 32452543\n",
            "Число 1440 в квадрате 2073600, это не больше, чем 32452543\n",
            "Число 1441 в квадрате 2076481, это не больше, чем 32452543\n",
            "Число 1442 в квадрате 2079364, это не больше, чем 32452543\n",
            "Число 1443 в квадрате 2082249, это не больше, чем 32452543\n",
            "Число 1444 в квадрате 2085136, это не больше, чем 32452543\n",
            "Число 1445 в квадрате 2088025, это не больше, чем 32452543\n",
            "Число 1446 в квадрате 2090916, это не больше, чем 32452543\n",
            "Число 1447 в квадрате 2093809, это не больше, чем 32452543\n",
            "Число 1448 в квадрате 2096704, это не больше, чем 32452543\n",
            "Число 1449 в квадрате 2099601, это не больше, чем 32452543\n",
            "Число 1450 в квадрате 2102500, это не больше, чем 32452543\n",
            "Число 1451 в квадрате 2105401, это не больше, чем 32452543\n",
            "Число 1452 в квадрате 2108304, это не больше, чем 32452543\n",
            "Число 1453 в квадрате 2111209, это не больше, чем 32452543\n",
            "Число 1454 в квадрате 2114116, это не больше, чем 32452543\n",
            "Число 1455 в квадрате 2117025, это не больше, чем 32452543\n",
            "Число 1456 в квадрате 2119936, это не больше, чем 32452543\n",
            "Число 1457 в квадрате 2122849, это не больше, чем 32452543\n",
            "Число 1458 в квадрате 2125764, это не больше, чем 32452543\n",
            "Число 1459 в квадрате 2128681, это не больше, чем 32452543\n",
            "Число 1460 в квадрате 2131600, это не больше, чем 32452543\n",
            "Число 1461 в квадрате 2134521, это не больше, чем 32452543\n",
            "Число 1462 в квадрате 2137444, это не больше, чем 32452543\n",
            "Число 1463 в квадрате 2140369, это не больше, чем 32452543\n",
            "Число 1464 в квадрате 2143296, это не больше, чем 32452543\n",
            "Число 1465 в квадрате 2146225, это не больше, чем 32452543\n",
            "Число 1466 в квадрате 2149156, это не больше, чем 32452543\n",
            "Число 1467 в квадрате 2152089, это не больше, чем 32452543\n",
            "Число 1468 в квадрате 2155024, это не больше, чем 32452543\n",
            "Число 1469 в квадрате 2157961, это не больше, чем 32452543\n",
            "Число 1470 в квадрате 2160900, это не больше, чем 32452543\n",
            "Число 1471 в квадрате 2163841, это не больше, чем 32452543\n",
            "Число 1472 в квадрате 2166784, это не больше, чем 32452543\n",
            "Число 1473 в квадрате 2169729, это не больше, чем 32452543\n",
            "Число 1474 в квадрате 2172676, это не больше, чем 32452543\n",
            "Число 1475 в квадрате 2175625, это не больше, чем 32452543\n",
            "Число 1476 в квадрате 2178576, это не больше, чем 32452543\n",
            "Число 1477 в квадрате 2181529, это не больше, чем 32452543\n",
            "Число 1478 в квадрате 2184484, это не больше, чем 32452543\n",
            "Число 1479 в квадрате 2187441, это не больше, чем 32452543\n",
            "Число 1480 в квадрате 2190400, это не больше, чем 32452543\n",
            "Число 1481 в квадрате 2193361, это не больше, чем 32452543\n",
            "Число 1482 в квадрате 2196324, это не больше, чем 32452543\n",
            "Число 1483 в квадрате 2199289, это не больше, чем 32452543\n",
            "Число 1484 в квадрате 2202256, это не больше, чем 32452543\n",
            "Число 1485 в квадрате 2205225, это не больше, чем 32452543\n",
            "Число 1486 в квадрате 2208196, это не больше, чем 32452543\n",
            "Число 1487 в квадрате 2211169, это не больше, чем 32452543\n",
            "Число 1488 в квадрате 2214144, это не больше, чем 32452543\n",
            "Число 1489 в квадрате 2217121, это не больше, чем 32452543\n",
            "Число 1490 в квадрате 2220100, это не больше, чем 32452543\n",
            "Число 1491 в квадрате 2223081, это не больше, чем 32452543\n",
            "Число 1492 в квадрате 2226064, это не больше, чем 32452543\n",
            "Число 1493 в квадрате 2229049, это не больше, чем 32452543\n",
            "Число 1494 в квадрате 2232036, это не больше, чем 32452543\n",
            "Число 1495 в квадрате 2235025, это не больше, чем 32452543\n",
            "Число 1496 в квадрате 2238016, это не больше, чем 32452543\n",
            "Число 1497 в квадрате 2241009, это не больше, чем 32452543\n",
            "Число 1498 в квадрате 2244004, это не больше, чем 32452543\n",
            "Число 1499 в квадрате 2247001, это не больше, чем 32452543\n",
            "Число 1500 в квадрате 2250000, это не больше, чем 32452543\n",
            "Число 1501 в квадрате 2253001, это не больше, чем 32452543\n",
            "Число 1502 в квадрате 2256004, это не больше, чем 32452543\n",
            "Число 1503 в квадрате 2259009, это не больше, чем 32452543\n",
            "Число 1504 в квадрате 2262016, это не больше, чем 32452543\n",
            "Число 1505 в квадрате 2265025, это не больше, чем 32452543\n",
            "Число 1506 в квадрате 2268036, это не больше, чем 32452543\n",
            "Число 1507 в квадрате 2271049, это не больше, чем 32452543\n",
            "Число 1508 в квадрате 2274064, это не больше, чем 32452543\n",
            "Число 1509 в квадрате 2277081, это не больше, чем 32452543\n",
            "Число 1510 в квадрате 2280100, это не больше, чем 32452543\n",
            "Число 1511 в квадрате 2283121, это не больше, чем 32452543\n",
            "Число 1512 в квадрате 2286144, это не больше, чем 32452543\n",
            "Число 1513 в квадрате 2289169, это не больше, чем 32452543\n",
            "Число 1514 в квадрате 2292196, это не больше, чем 32452543\n",
            "Число 1515 в квадрате 2295225, это не больше, чем 32452543\n",
            "Число 1516 в квадрате 2298256, это не больше, чем 32452543\n",
            "Число 1517 в квадрате 2301289, это не больше, чем 32452543\n",
            "Число 1518 в квадрате 2304324, это не больше, чем 32452543\n",
            "Число 1519 в квадрате 2307361, это не больше, чем 32452543\n",
            "Число 1520 в квадрате 2310400, это не больше, чем 32452543\n",
            "Число 1521 в квадрате 2313441, это не больше, чем 32452543\n",
            "Число 1522 в квадрате 2316484, это не больше, чем 32452543\n",
            "Число 1523 в квадрате 2319529, это не больше, чем 32452543\n",
            "Число 1524 в квадрате 2322576, это не больше, чем 32452543\n",
            "Число 1525 в квадрате 2325625, это не больше, чем 32452543\n",
            "Число 1526 в квадрате 2328676, это не больше, чем 32452543\n",
            "Число 1527 в квадрате 2331729, это не больше, чем 32452543\n",
            "Число 1528 в квадрате 2334784, это не больше, чем 32452543\n",
            "Число 1529 в квадрате 2337841, это не больше, чем 32452543\n",
            "Число 1530 в квадрате 2340900, это не больше, чем 32452543\n",
            "Число 1531 в квадрате 2343961, это не больше, чем 32452543\n",
            "Число 1532 в квадрате 2347024, это не больше, чем 32452543\n",
            "Число 1533 в квадрате 2350089, это не больше, чем 32452543\n",
            "Число 1534 в квадрате 2353156, это не больше, чем 32452543\n",
            "Число 1535 в квадрате 2356225, это не больше, чем 32452543\n",
            "Число 1536 в квадрате 2359296, это не больше, чем 32452543\n",
            "Число 1537 в квадрате 2362369, это не больше, чем 32452543\n",
            "Число 1538 в квадрате 2365444, это не больше, чем 32452543\n",
            "Число 1539 в квадрате 2368521, это не больше, чем 32452543\n",
            "Число 1540 в квадрате 2371600, это не больше, чем 32452543\n",
            "Число 1541 в квадрате 2374681, это не больше, чем 32452543\n",
            "Число 1542 в квадрате 2377764, это не больше, чем 32452543\n",
            "Число 1543 в квадрате 2380849, это не больше, чем 32452543\n",
            "Число 1544 в квадрате 2383936, это не больше, чем 32452543\n",
            "Число 1545 в квадрате 2387025, это не больше, чем 32452543\n",
            "Число 1546 в квадрате 2390116, это не больше, чем 32452543\n",
            "Число 1547 в квадрате 2393209, это не больше, чем 32452543\n",
            "Число 1548 в квадрате 2396304, это не больше, чем 32452543\n",
            "Число 1549 в квадрате 2399401, это не больше, чем 32452543\n",
            "Число 1550 в квадрате 2402500, это не больше, чем 32452543\n",
            "Число 1551 в квадрате 2405601, это не больше, чем 32452543\n",
            "Число 1552 в квадрате 2408704, это не больше, чем 32452543\n",
            "Число 1553 в квадрате 2411809, это не больше, чем 32452543\n",
            "Число 1554 в квадрате 2414916, это не больше, чем 32452543\n",
            "Число 1555 в квадрате 2418025, это не больше, чем 32452543\n",
            "Число 1556 в квадрате 2421136, это не больше, чем 32452543\n",
            "Число 1557 в квадрате 2424249, это не больше, чем 32452543\n",
            "Число 1558 в квадрате 2427364, это не больше, чем 32452543\n",
            "Число 1559 в квадрате 2430481, это не больше, чем 32452543\n",
            "Число 1560 в квадрате 2433600, это не больше, чем 32452543\n",
            "Число 1561 в квадрате 2436721, это не больше, чем 32452543\n",
            "Число 1562 в квадрате 2439844, это не больше, чем 32452543\n",
            "Число 1563 в квадрате 2442969, это не больше, чем 32452543\n",
            "Число 1564 в квадрате 2446096, это не больше, чем 32452543\n",
            "Число 1565 в квадрате 2449225, это не больше, чем 32452543\n",
            "Число 1566 в квадрате 2452356, это не больше, чем 32452543\n",
            "Число 1567 в квадрате 2455489, это не больше, чем 32452543\n",
            "Число 1568 в квадрате 2458624, это не больше, чем 32452543\n",
            "Число 1569 в квадрате 2461761, это не больше, чем 32452543\n",
            "Число 1570 в квадрате 2464900, это не больше, чем 32452543\n",
            "Число 1571 в квадрате 2468041, это не больше, чем 32452543\n",
            "Число 1572 в квадрате 2471184, это не больше, чем 32452543\n",
            "Число 1573 в квадрате 2474329, это не больше, чем 32452543\n",
            "Число 1574 в квадрате 2477476, это не больше, чем 32452543\n",
            "Число 1575 в квадрате 2480625, это не больше, чем 32452543\n",
            "Число 1576 в квадрате 2483776, это не больше, чем 32452543\n",
            "Число 1577 в квадрате 2486929, это не больше, чем 32452543\n",
            "Число 1578 в квадрате 2490084, это не больше, чем 32452543\n",
            "Число 1579 в квадрате 2493241, это не больше, чем 32452543\n",
            "Число 1580 в квадрате 2496400, это не больше, чем 32452543\n",
            "Число 1581 в квадрате 2499561, это не больше, чем 32452543\n",
            "Число 1582 в квадрате 2502724, это не больше, чем 32452543\n",
            "Число 1583 в квадрате 2505889, это не больше, чем 32452543\n",
            "Число 1584 в квадрате 2509056, это не больше, чем 32452543\n",
            "Число 1585 в квадрате 2512225, это не больше, чем 32452543\n",
            "Число 1586 в квадрате 2515396, это не больше, чем 32452543\n",
            "Число 1587 в квадрате 2518569, это не больше, чем 32452543\n",
            "Число 1588 в квадрате 2521744, это не больше, чем 32452543\n",
            "Число 1589 в квадрате 2524921, это не больше, чем 32452543\n",
            "Число 1590 в квадрате 2528100, это не больше, чем 32452543\n",
            "Число 1591 в квадрате 2531281, это не больше, чем 32452543\n",
            "Число 1592 в квадрате 2534464, это не больше, чем 32452543\n",
            "Число 1593 в квадрате 2537649, это не больше, чем 32452543\n",
            "Число 1594 в квадрате 2540836, это не больше, чем 32452543\n",
            "Число 1595 в квадрате 2544025, это не больше, чем 32452543\n",
            "Число 1596 в квадрате 2547216, это не больше, чем 32452543\n",
            "Число 1597 в квадрате 2550409, это не больше, чем 32452543\n",
            "Число 1598 в квадрате 2553604, это не больше, чем 32452543\n",
            "Число 1599 в квадрате 2556801, это не больше, чем 32452543\n",
            "Число 1600 в квадрате 2560000, это не больше, чем 32452543\n",
            "Число 1601 в квадрате 2563201, это не больше, чем 32452543\n",
            "Число 1602 в квадрате 2566404, это не больше, чем 32452543\n",
            "Число 1603 в квадрате 2569609, это не больше, чем 32452543\n",
            "Число 1604 в квадрате 2572816, это не больше, чем 32452543\n",
            "Число 1605 в квадрате 2576025, это не больше, чем 32452543\n",
            "Число 1606 в квадрате 2579236, это не больше, чем 32452543\n",
            "Число 1607 в квадрате 2582449, это не больше, чем 32452543\n",
            "Число 1608 в квадрате 2585664, это не больше, чем 32452543\n",
            "Число 1609 в квадрате 2588881, это не больше, чем 32452543\n",
            "Число 1610 в квадрате 2592100, это не больше, чем 32452543\n",
            "Число 1611 в квадрате 2595321, это не больше, чем 32452543\n",
            "Число 1612 в квадрате 2598544, это не больше, чем 32452543\n",
            "Число 1613 в квадрате 2601769, это не больше, чем 32452543\n",
            "Число 1614 в квадрате 2604996, это не больше, чем 32452543\n",
            "Число 1615 в квадрате 2608225, это не больше, чем 32452543\n",
            "Число 1616 в квадрате 2611456, это не больше, чем 32452543\n",
            "Число 1617 в квадрате 2614689, это не больше, чем 32452543\n",
            "Число 1618 в квадрате 2617924, это не больше, чем 32452543\n",
            "Число 1619 в квадрате 2621161, это не больше, чем 32452543\n",
            "Число 1620 в квадрате 2624400, это не больше, чем 32452543\n",
            "Число 1621 в квадрате 2627641, это не больше, чем 32452543\n",
            "Число 1622 в квадрате 2630884, это не больше, чем 32452543\n",
            "Число 1623 в квадрате 2634129, это не больше, чем 32452543\n",
            "Число 1624 в квадрате 2637376, это не больше, чем 32452543\n",
            "Число 1625 в квадрате 2640625, это не больше, чем 32452543\n",
            "Число 1626 в квадрате 2643876, это не больше, чем 32452543\n",
            "Число 1627 в квадрате 2647129, это не больше, чем 32452543\n",
            "Число 1628 в квадрате 2650384, это не больше, чем 32452543\n",
            "Число 1629 в квадрате 2653641, это не больше, чем 32452543\n",
            "Число 1630 в квадрате 2656900, это не больше, чем 32452543\n",
            "Число 1631 в квадрате 2660161, это не больше, чем 32452543\n",
            "Число 1632 в квадрате 2663424, это не больше, чем 32452543\n",
            "Число 1633 в квадрате 2666689, это не больше, чем 32452543\n",
            "Число 1634 в квадрате 2669956, это не больше, чем 32452543\n",
            "Число 1635 в квадрате 2673225, это не больше, чем 32452543\n",
            "Число 1636 в квадрате 2676496, это не больше, чем 32452543\n",
            "Число 1637 в квадрате 2679769, это не больше, чем 32452543\n",
            "Число 1638 в квадрате 2683044, это не больше, чем 32452543\n",
            "Число 1639 в квадрате 2686321, это не больше, чем 32452543\n",
            "Число 1640 в квадрате 2689600, это не больше, чем 32452543\n",
            "Число 1641 в квадрате 2692881, это не больше, чем 32452543\n",
            "Число 1642 в квадрате 2696164, это не больше, чем 32452543\n",
            "Число 1643 в квадрате 2699449, это не больше, чем 32452543\n",
            "Число 1644 в квадрате 2702736, это не больше, чем 32452543\n",
            "Число 1645 в квадрате 2706025, это не больше, чем 32452543\n",
            "Число 1646 в квадрате 2709316, это не больше, чем 32452543\n",
            "Число 1647 в квадрате 2712609, это не больше, чем 32452543\n",
            "Число 1648 в квадрате 2715904, это не больше, чем 32452543\n",
            "Число 1649 в квадрате 2719201, это не больше, чем 32452543\n",
            "Число 1650 в квадрате 2722500, это не больше, чем 32452543\n",
            "Число 1651 в квадрате 2725801, это не больше, чем 32452543\n",
            "Число 1652 в квадрате 2729104, это не больше, чем 32452543\n",
            "Число 1653 в квадрате 2732409, это не больше, чем 32452543\n",
            "Число 1654 в квадрате 2735716, это не больше, чем 32452543\n",
            "Число 1655 в квадрате 2739025, это не больше, чем 32452543\n",
            "Число 1656 в квадрате 2742336, это не больше, чем 32452543\n",
            "Число 1657 в квадрате 2745649, это не больше, чем 32452543\n",
            "Число 1658 в квадрате 2748964, это не больше, чем 32452543\n",
            "Число 1659 в квадрате 2752281, это не больше, чем 32452543\n",
            "Число 1660 в квадрате 2755600, это не больше, чем 32452543\n",
            "Число 1661 в квадрате 2758921, это не больше, чем 32452543\n",
            "Число 1662 в квадрате 2762244, это не больше, чем 32452543\n",
            "Число 1663 в квадрате 2765569, это не больше, чем 32452543\n",
            "Число 1664 в квадрате 2768896, это не больше, чем 32452543\n",
            "Число 1665 в квадрате 2772225, это не больше, чем 32452543\n",
            "Число 1666 в квадрате 2775556, это не больше, чем 32452543\n",
            "Число 1667 в квадрате 2778889, это не больше, чем 32452543\n",
            "Число 1668 в квадрате 2782224, это не больше, чем 32452543\n",
            "Число 1669 в квадрате 2785561, это не больше, чем 32452543\n",
            "Число 1670 в квадрате 2788900, это не больше, чем 32452543\n",
            "Число 1671 в квадрате 2792241, это не больше, чем 32452543\n",
            "Число 1672 в квадрате 2795584, это не больше, чем 32452543\n",
            "Число 1673 в квадрате 2798929, это не больше, чем 32452543\n",
            "Число 1674 в квадрате 2802276, это не больше, чем 32452543\n",
            "Число 1675 в квадрате 2805625, это не больше, чем 32452543\n",
            "Число 1676 в квадрате 2808976, это не больше, чем 32452543\n",
            "Число 1677 в квадрате 2812329, это не больше, чем 32452543\n",
            "Число 1678 в квадрате 2815684, это не больше, чем 32452543\n",
            "Число 1679 в квадрате 2819041, это не больше, чем 32452543\n",
            "Число 1680 в квадрате 2822400, это не больше, чем 32452543\n",
            "Число 1681 в квадрате 2825761, это не больше, чем 32452543\n",
            "Число 1682 в квадрате 2829124, это не больше, чем 32452543\n",
            "Число 1683 в квадрате 2832489, это не больше, чем 32452543\n",
            "Число 1684 в квадрате 2835856, это не больше, чем 32452543\n",
            "Число 1685 в квадрате 2839225, это не больше, чем 32452543\n",
            "Число 1686 в квадрате 2842596, это не больше, чем 32452543\n",
            "Число 1687 в квадрате 2845969, это не больше, чем 32452543\n",
            "Число 1688 в квадрате 2849344, это не больше, чем 32452543\n",
            "Число 1689 в квадрате 2852721, это не больше, чем 32452543\n",
            "Число 1690 в квадрате 2856100, это не больше, чем 32452543\n",
            "Число 1691 в квадрате 2859481, это не больше, чем 32452543\n",
            "Число 1692 в квадрате 2862864, это не больше, чем 32452543\n",
            "Число 1693 в квадрате 2866249, это не больше, чем 32452543\n",
            "Число 1694 в квадрате 2869636, это не больше, чем 32452543\n",
            "Число 1695 в квадрате 2873025, это не больше, чем 32452543\n",
            "Число 1696 в квадрате 2876416, это не больше, чем 32452543\n",
            "Число 1697 в квадрате 2879809, это не больше, чем 32452543\n",
            "Число 1698 в квадрате 2883204, это не больше, чем 32452543\n",
            "Число 1699 в квадрате 2886601, это не больше, чем 32452543\n",
            "Число 1700 в квадрате 2890000, это не больше, чем 32452543\n",
            "Число 1701 в квадрате 2893401, это не больше, чем 32452543\n",
            "Число 1702 в квадрате 2896804, это не больше, чем 32452543\n",
            "Число 1703 в квадрате 2900209, это не больше, чем 32452543\n",
            "Число 1704 в квадрате 2903616, это не больше, чем 32452543\n",
            "Число 1705 в квадрате 2907025, это не больше, чем 32452543\n",
            "Число 1706 в квадрате 2910436, это не больше, чем 32452543\n",
            "Число 1707 в квадрате 2913849, это не больше, чем 32452543\n",
            "Число 1708 в квадрате 2917264, это не больше, чем 32452543\n",
            "Число 1709 в квадрате 2920681, это не больше, чем 32452543\n",
            "Число 1710 в квадрате 2924100, это не больше, чем 32452543\n",
            "Число 1711 в квадрате 2927521, это не больше, чем 32452543\n",
            "Число 1712 в квадрате 2930944, это не больше, чем 32452543\n",
            "Число 1713 в квадрате 2934369, это не больше, чем 32452543\n",
            "Число 1714 в квадрате 2937796, это не больше, чем 32452543\n",
            "Число 1715 в квадрате 2941225, это не больше, чем 32452543\n",
            "Число 1716 в квадрате 2944656, это не больше, чем 32452543\n",
            "Число 1717 в квадрате 2948089, это не больше, чем 32452543\n",
            "Число 1718 в квадрате 2951524, это не больше, чем 32452543\n",
            "Число 1719 в квадрате 2954961, это не больше, чем 32452543\n",
            "Число 1720 в квадрате 2958400, это не больше, чем 32452543\n",
            "Число 1721 в квадрате 2961841, это не больше, чем 32452543\n",
            "Число 1722 в квадрате 2965284, это не больше, чем 32452543\n",
            "Число 1723 в квадрате 2968729, это не больше, чем 32452543\n",
            "Число 1724 в квадрате 2972176, это не больше, чем 32452543\n",
            "Число 1725 в квадрате 2975625, это не больше, чем 32452543\n",
            "Число 1726 в квадрате 2979076, это не больше, чем 32452543\n",
            "Число 1727 в квадрате 2982529, это не больше, чем 32452543\n",
            "Число 1728 в квадрате 2985984, это не больше, чем 32452543\n",
            "Число 1729 в квадрате 2989441, это не больше, чем 32452543\n",
            "Число 1730 в квадрате 2992900, это не больше, чем 32452543\n",
            "Число 1731 в квадрате 2996361, это не больше, чем 32452543\n",
            "Число 1732 в квадрате 2999824, это не больше, чем 32452543\n",
            "Число 1733 в квадрате 3003289, это не больше, чем 32452543\n",
            "Число 1734 в квадрате 3006756, это не больше, чем 32452543\n",
            "Число 1735 в квадрате 3010225, это не больше, чем 32452543\n",
            "Число 1736 в квадрате 3013696, это не больше, чем 32452543\n",
            "Число 1737 в квадрате 3017169, это не больше, чем 32452543\n",
            "Число 1738 в квадрате 3020644, это не больше, чем 32452543\n",
            "Число 1739 в квадрате 3024121, это не больше, чем 32452543\n",
            "Число 1740 в квадрате 3027600, это не больше, чем 32452543\n",
            "Число 1741 в квадрате 3031081, это не больше, чем 32452543\n",
            "Число 1742 в квадрате 3034564, это не больше, чем 32452543\n",
            "Число 1743 в квадрате 3038049, это не больше, чем 32452543\n",
            "Число 1744 в квадрате 3041536, это не больше, чем 32452543\n",
            "Число 1745 в квадрате 3045025, это не больше, чем 32452543\n",
            "Число 1746 в квадрате 3048516, это не больше, чем 32452543\n",
            "Число 1747 в квадрате 3052009, это не больше, чем 32452543\n",
            "Число 1748 в квадрате 3055504, это не больше, чем 32452543\n",
            "Число 1749 в квадрате 3059001, это не больше, чем 32452543\n",
            "Число 1750 в квадрате 3062500, это не больше, чем 32452543\n",
            "Число 1751 в квадрате 3066001, это не больше, чем 32452543\n",
            "Число 1752 в квадрате 3069504, это не больше, чем 32452543\n",
            "Число 1753 в квадрате 3073009, это не больше, чем 32452543\n",
            "Число 1754 в квадрате 3076516, это не больше, чем 32452543\n",
            "Число 1755 в квадрате 3080025, это не больше, чем 32452543\n",
            "Число 1756 в квадрате 3083536, это не больше, чем 32452543\n",
            "Число 1757 в квадрате 3087049, это не больше, чем 32452543\n",
            "Число 1758 в квадрате 3090564, это не больше, чем 32452543\n",
            "Число 1759 в квадрате 3094081, это не больше, чем 32452543\n",
            "Число 1760 в квадрате 3097600, это не больше, чем 32452543\n",
            "Число 1761 в квадрате 3101121, это не больше, чем 32452543\n",
            "Число 1762 в квадрате 3104644, это не больше, чем 32452543\n",
            "Число 1763 в квадрате 3108169, это не больше, чем 32452543\n",
            "Число 1764 в квадрате 3111696, это не больше, чем 32452543\n",
            "Число 1765 в квадрате 3115225, это не больше, чем 32452543\n",
            "Число 1766 в квадрате 3118756, это не больше, чем 32452543\n",
            "Число 1767 в квадрате 3122289, это не больше, чем 32452543\n",
            "Число 1768 в квадрате 3125824, это не больше, чем 32452543\n",
            "Число 1769 в квадрате 3129361, это не больше, чем 32452543\n",
            "Число 1770 в квадрате 3132900, это не больше, чем 32452543\n",
            "Число 1771 в квадрате 3136441, это не больше, чем 32452543\n",
            "Число 1772 в квадрате 3139984, это не больше, чем 32452543\n",
            "Число 1773 в квадрате 3143529, это не больше, чем 32452543\n",
            "Число 1774 в квадрате 3147076, это не больше, чем 32452543\n",
            "Число 1775 в квадрате 3150625, это не больше, чем 32452543\n",
            "Число 1776 в квадрате 3154176, это не больше, чем 32452543\n",
            "Число 1777 в квадрате 3157729, это не больше, чем 32452543\n",
            "Число 1778 в квадрате 3161284, это не больше, чем 32452543\n",
            "Число 1779 в квадрате 3164841, это не больше, чем 32452543\n",
            "Число 1780 в квадрате 3168400, это не больше, чем 32452543\n",
            "Число 1781 в квадрате 3171961, это не больше, чем 32452543\n",
            "Число 1782 в квадрате 3175524, это не больше, чем 32452543\n",
            "Число 1783 в квадрате 3179089, это не больше, чем 32452543\n",
            "Число 1784 в квадрате 3182656, это не больше, чем 32452543\n",
            "Число 1785 в квадрате 3186225, это не больше, чем 32452543\n",
            "Число 1786 в квадрате 3189796, это не больше, чем 32452543\n",
            "Число 1787 в квадрате 3193369, это не больше, чем 32452543\n",
            "Число 1788 в квадрате 3196944, это не больше, чем 32452543\n",
            "Число 1789 в квадрате 3200521, это не больше, чем 32452543\n",
            "Число 1790 в квадрате 3204100, это не больше, чем 32452543\n",
            "Число 1791 в квадрате 3207681, это не больше, чем 32452543\n",
            "Число 1792 в квадрате 3211264, это не больше, чем 32452543\n",
            "Число 1793 в квадрате 3214849, это не больше, чем 32452543\n",
            "Число 1794 в квадрате 3218436, это не больше, чем 32452543\n",
            "Число 1795 в квадрате 3222025, это не больше, чем 32452543\n",
            "Число 1796 в квадрате 3225616, это не больше, чем 32452543\n",
            "Число 1797 в квадрате 3229209, это не больше, чем 32452543\n",
            "Число 1798 в квадрате 3232804, это не больше, чем 32452543\n",
            "Число 1799 в квадрате 3236401, это не больше, чем 32452543\n",
            "Число 1800 в квадрате 3240000, это не больше, чем 32452543\n",
            "Число 1801 в квадрате 3243601, это не больше, чем 32452543\n",
            "Число 1802 в квадрате 3247204, это не больше, чем 32452543\n",
            "Число 1803 в квадрате 3250809, это не больше, чем 32452543\n",
            "Число 1804 в квадрате 3254416, это не больше, чем 32452543\n",
            "Число 1805 в квадрате 3258025, это не больше, чем 32452543\n",
            "Число 1806 в квадрате 3261636, это не больше, чем 32452543\n",
            "Число 1807 в квадрате 3265249, это не больше, чем 32452543\n",
            "Число 1808 в квадрате 3268864, это не больше, чем 32452543\n",
            "Число 1809 в квадрате 3272481, это не больше, чем 32452543\n",
            "Число 1810 в квадрате 3276100, это не больше, чем 32452543\n",
            "Число 1811 в квадрате 3279721, это не больше, чем 32452543\n",
            "Число 1812 в квадрате 3283344, это не больше, чем 32452543\n",
            "Число 1813 в квадрате 3286969, это не больше, чем 32452543\n",
            "Число 1814 в квадрате 3290596, это не больше, чем 32452543\n",
            "Число 1815 в квадрате 3294225, это не больше, чем 32452543\n",
            "Число 1816 в квадрате 3297856, это не больше, чем 32452543\n",
            "Число 1817 в квадрате 3301489, это не больше, чем 32452543\n",
            "Число 1818 в квадрате 3305124, это не больше, чем 32452543\n",
            "Число 1819 в квадрате 3308761, это не больше, чем 32452543\n",
            "Число 1820 в квадрате 3312400, это не больше, чем 32452543\n",
            "Число 1821 в квадрате 3316041, это не больше, чем 32452543\n",
            "Число 1822 в квадрате 3319684, это не больше, чем 32452543\n",
            "Число 1823 в квадрате 3323329, это не больше, чем 32452543\n",
            "Число 1824 в квадрате 3326976, это не больше, чем 32452543\n",
            "Число 1825 в квадрате 3330625, это не больше, чем 32452543\n",
            "Число 1826 в квадрате 3334276, это не больше, чем 32452543\n",
            "Число 1827 в квадрате 3337929, это не больше, чем 32452543\n",
            "Число 1828 в квадрате 3341584, это не больше, чем 32452543\n",
            "Число 1829 в квадрате 3345241, это не больше, чем 32452543\n",
            "Число 1830 в квадрате 3348900, это не больше, чем 32452543\n",
            "Число 1831 в квадрате 3352561, это не больше, чем 32452543\n",
            "Число 1832 в квадрате 3356224, это не больше, чем 32452543\n",
            "Число 1833 в квадрате 3359889, это не больше, чем 32452543\n",
            "Число 1834 в квадрате 3363556, это не больше, чем 32452543\n",
            "Число 1835 в квадрате 3367225, это не больше, чем 32452543\n",
            "Число 1836 в квадрате 3370896, это не больше, чем 32452543\n",
            "Число 1837 в квадрате 3374569, это не больше, чем 32452543\n",
            "Число 1838 в квадрате 3378244, это не больше, чем 32452543\n",
            "Число 1839 в квадрате 3381921, это не больше, чем 32452543\n",
            "Число 1840 в квадрате 3385600, это не больше, чем 32452543\n",
            "Число 1841 в квадрате 3389281, это не больше, чем 32452543\n",
            "Число 1842 в квадрате 3392964, это не больше, чем 32452543\n",
            "Число 1843 в квадрате 3396649, это не больше, чем 32452543\n",
            "Число 1844 в квадрате 3400336, это не больше, чем 32452543\n",
            "Число 1845 в квадрате 3404025, это не больше, чем 32452543\n",
            "Число 1846 в квадрате 3407716, это не больше, чем 32452543\n",
            "Число 1847 в квадрате 3411409, это не больше, чем 32452543\n",
            "Число 1848 в квадрате 3415104, это не больше, чем 32452543\n",
            "Число 1849 в квадрате 3418801, это не больше, чем 32452543\n",
            "Число 1850 в квадрате 3422500, это не больше, чем 32452543\n",
            "Число 1851 в квадрате 3426201, это не больше, чем 32452543\n",
            "Число 1852 в квадрате 3429904, это не больше, чем 32452543\n",
            "Число 1853 в квадрате 3433609, это не больше, чем 32452543\n",
            "Число 1854 в квадрате 3437316, это не больше, чем 32452543\n",
            "Число 1855 в квадрате 3441025, это не больше, чем 32452543\n",
            "Число 1856 в квадрате 3444736, это не больше, чем 32452543\n",
            "Число 1857 в квадрате 3448449, это не больше, чем 32452543\n",
            "Число 1858 в квадрате 3452164, это не больше, чем 32452543\n",
            "Число 1859 в квадрате 3455881, это не больше, чем 32452543\n",
            "Число 1860 в квадрате 3459600, это не больше, чем 32452543\n",
            "Число 1861 в квадрате 3463321, это не больше, чем 32452543\n",
            "Число 1862 в квадрате 3467044, это не больше, чем 32452543\n",
            "Число 1863 в квадрате 3470769, это не больше, чем 32452543\n",
            "Число 1864 в квадрате 3474496, это не больше, чем 32452543\n",
            "Число 1865 в квадрате 3478225, это не больше, чем 32452543\n",
            "Число 1866 в квадрате 3481956, это не больше, чем 32452543\n",
            "Число 1867 в квадрате 3485689, это не больше, чем 32452543\n",
            "Число 1868 в квадрате 3489424, это не больше, чем 32452543\n",
            "Число 1869 в квадрате 3493161, это не больше, чем 32452543\n",
            "Число 1870 в квадрате 3496900, это не больше, чем 32452543\n",
            "Число 1871 в квадрате 3500641, это не больше, чем 32452543\n",
            "Число 1872 в квадрате 3504384, это не больше, чем 32452543\n",
            "Число 1873 в квадрате 3508129, это не больше, чем 32452543\n",
            "Число 1874 в квадрате 3511876, это не больше, чем 32452543\n",
            "Число 1875 в квадрате 3515625, это не больше, чем 32452543\n",
            "Число 1876 в квадрате 3519376, это не больше, чем 32452543\n",
            "Число 1877 в квадрате 3523129, это не больше, чем 32452543\n",
            "Число 1878 в квадрате 3526884, это не больше, чем 32452543\n",
            "Число 1879 в квадрате 3530641, это не больше, чем 32452543\n",
            "Число 1880 в квадрате 3534400, это не больше, чем 32452543\n",
            "Число 1881 в квадрате 3538161, это не больше, чем 32452543\n",
            "Число 1882 в квадрате 3541924, это не больше, чем 32452543\n",
            "Число 1883 в квадрате 3545689, это не больше, чем 32452543\n",
            "Число 1884 в квадрате 3549456, это не больше, чем 32452543\n",
            "Число 1885 в квадрате 3553225, это не больше, чем 32452543\n",
            "Число 1886 в квадрате 3556996, это не больше, чем 32452543\n",
            "Число 1887 в квадрате 3560769, это не больше, чем 32452543\n",
            "Число 1888 в квадрате 3564544, это не больше, чем 32452543\n",
            "Число 1889 в квадрате 3568321, это не больше, чем 32452543\n",
            "Число 1890 в квадрате 3572100, это не больше, чем 32452543\n",
            "Число 1891 в квадрате 3575881, это не больше, чем 32452543\n",
            "Число 1892 в квадрате 3579664, это не больше, чем 32452543\n",
            "Число 1893 в квадрате 3583449, это не больше, чем 32452543\n",
            "Число 1894 в квадрате 3587236, это не больше, чем 32452543\n",
            "Число 1895 в квадрате 3591025, это не больше, чем 32452543\n",
            "Число 1896 в квадрате 3594816, это не больше, чем 32452543\n",
            "Число 1897 в квадрате 3598609, это не больше, чем 32452543\n",
            "Число 1898 в квадрате 3602404, это не больше, чем 32452543\n",
            "Число 1899 в квадрате 3606201, это не больше, чем 32452543\n",
            "Число 1900 в квадрате 3610000, это не больше, чем 32452543\n",
            "Число 1901 в квадрате 3613801, это не больше, чем 32452543\n",
            "Число 1902 в квадрате 3617604, это не больше, чем 32452543\n",
            "Число 1903 в квадрате 3621409, это не больше, чем 32452543\n",
            "Число 1904 в квадрате 3625216, это не больше, чем 32452543\n",
            "Число 1905 в квадрате 3629025, это не больше, чем 32452543\n",
            "Число 1906 в квадрате 3632836, это не больше, чем 32452543\n",
            "Число 1907 в квадрате 3636649, это не больше, чем 32452543\n",
            "Число 1908 в квадрате 3640464, это не больше, чем 32452543\n",
            "Число 1909 в квадрате 3644281, это не больше, чем 32452543\n",
            "Число 1910 в квадрате 3648100, это не больше, чем 32452543\n",
            "Число 1911 в квадрате 3651921, это не больше, чем 32452543\n",
            "Число 1912 в квадрате 3655744, это не больше, чем 32452543\n",
            "Число 1913 в квадрате 3659569, это не больше, чем 32452543\n",
            "Число 1914 в квадрате 3663396, это не больше, чем 32452543\n",
            "Число 1915 в квадрате 3667225, это не больше, чем 32452543\n",
            "Число 1916 в квадрате 3671056, это не больше, чем 32452543\n",
            "Число 1917 в квадрате 3674889, это не больше, чем 32452543\n",
            "Число 1918 в квадрате 3678724, это не больше, чем 32452543\n",
            "Число 1919 в квадрате 3682561, это не больше, чем 32452543\n",
            "Число 1920 в квадрате 3686400, это не больше, чем 32452543\n",
            "Число 1921 в квадрате 3690241, это не больше, чем 32452543\n",
            "Число 1922 в квадрате 3694084, это не больше, чем 32452543\n",
            "Число 1923 в квадрате 3697929, это не больше, чем 32452543\n",
            "Число 1924 в квадрате 3701776, это не больше, чем 32452543\n",
            "Число 1925 в квадрате 3705625, это не больше, чем 32452543\n",
            "Число 1926 в квадрате 3709476, это не больше, чем 32452543\n",
            "Число 1927 в квадрате 3713329, это не больше, чем 32452543\n",
            "Число 1928 в квадрате 3717184, это не больше, чем 32452543\n",
            "Число 1929 в квадрате 3721041, это не больше, чем 32452543\n",
            "Число 1930 в квадрате 3724900, это не больше, чем 32452543\n",
            "Число 1931 в квадрате 3728761, это не больше, чем 32452543\n",
            "Число 1932 в квадрате 3732624, это не больше, чем 32452543\n",
            "Число 1933 в квадрате 3736489, это не больше, чем 32452543\n",
            "Число 1934 в квадрате 3740356, это не больше, чем 32452543\n",
            "Число 1935 в квадрате 3744225, это не больше, чем 32452543\n",
            "Число 1936 в квадрате 3748096, это не больше, чем 32452543\n",
            "Число 1937 в квадрате 3751969, это не больше, чем 32452543\n",
            "Число 1938 в квадрате 3755844, это не больше, чем 32452543\n",
            "Число 1939 в квадрате 3759721, это не больше, чем 32452543\n",
            "Число 1940 в квадрате 3763600, это не больше, чем 32452543\n",
            "Число 1941 в квадрате 3767481, это не больше, чем 32452543\n",
            "Число 1942 в квадрате 3771364, это не больше, чем 32452543\n",
            "Число 1943 в квадрате 3775249, это не больше, чем 32452543\n",
            "Число 1944 в квадрате 3779136, это не больше, чем 32452543\n",
            "Число 1945 в квадрате 3783025, это не больше, чем 32452543\n",
            "Число 1946 в квадрате 3786916, это не больше, чем 32452543\n",
            "Число 1947 в квадрате 3790809, это не больше, чем 32452543\n",
            "Число 1948 в квадрате 3794704, это не больше, чем 32452543\n",
            "Число 1949 в квадрате 3798601, это не больше, чем 32452543\n",
            "Число 1950 в квадрате 3802500, это не больше, чем 32452543\n",
            "Число 1951 в квадрате 3806401, это не больше, чем 32452543\n",
            "Число 1952 в квадрате 3810304, это не больше, чем 32452543\n",
            "Число 1953 в квадрате 3814209, это не больше, чем 32452543\n",
            "Число 1954 в квадрате 3818116, это не больше, чем 32452543\n",
            "Число 1955 в квадрате 3822025, это не больше, чем 32452543\n",
            "Число 1956 в квадрате 3825936, это не больше, чем 32452543\n",
            "Число 1957 в квадрате 3829849, это не больше, чем 32452543\n",
            "Число 1958 в квадрате 3833764, это не больше, чем 32452543\n",
            "Число 1959 в квадрате 3837681, это не больше, чем 32452543\n",
            "Число 1960 в квадрате 3841600, это не больше, чем 32452543\n",
            "Число 1961 в квадрате 3845521, это не больше, чем 32452543\n",
            "Число 1962 в квадрате 3849444, это не больше, чем 32452543\n",
            "Число 1963 в квадрате 3853369, это не больше, чем 32452543\n",
            "Число 1964 в квадрате 3857296, это не больше, чем 32452543\n",
            "Число 1965 в квадрате 3861225, это не больше, чем 32452543\n",
            "Число 1966 в квадрате 3865156, это не больше, чем 32452543\n",
            "Число 1967 в квадрате 3869089, это не больше, чем 32452543\n",
            "Число 1968 в квадрате 3873024, это не больше, чем 32452543\n",
            "Число 1969 в квадрате 3876961, это не больше, чем 32452543\n",
            "Число 1970 в квадрате 3880900, это не больше, чем 32452543\n",
            "Число 1971 в квадрате 3884841, это не больше, чем 32452543\n",
            "Число 1972 в квадрате 3888784, это не больше, чем 32452543\n",
            "Число 1973 в квадрате 3892729, это не больше, чем 32452543\n",
            "Число 1974 в квадрате 3896676, это не больше, чем 32452543\n",
            "Число 1975 в квадрате 3900625, это не больше, чем 32452543\n",
            "Число 1976 в квадрате 3904576, это не больше, чем 32452543\n",
            "Число 1977 в квадрате 3908529, это не больше, чем 32452543\n",
            "Число 1978 в квадрате 3912484, это не больше, чем 32452543\n",
            "Число 1979 в квадрате 3916441, это не больше, чем 32452543\n",
            "Число 1980 в квадрате 3920400, это не больше, чем 32452543\n",
            "Число 1981 в квадрате 3924361, это не больше, чем 32452543\n",
            "Число 1982 в квадрате 3928324, это не больше, чем 32452543\n",
            "Число 1983 в квадрате 3932289, это не больше, чем 32452543\n",
            "Число 1984 в квадрате 3936256, это не больше, чем 32452543\n",
            "Число 1985 в квадрате 3940225, это не больше, чем 32452543\n",
            "Число 1986 в квадрате 3944196, это не больше, чем 32452543\n",
            "Число 1987 в квадрате 3948169, это не больше, чем 32452543\n",
            "Число 1988 в квадрате 3952144, это не больше, чем 32452543\n",
            "Число 1989 в квадрате 3956121, это не больше, чем 32452543\n",
            "Число 1990 в квадрате 3960100, это не больше, чем 32452543\n",
            "Число 1991 в квадрате 3964081, это не больше, чем 32452543\n",
            "Число 1992 в квадрате 3968064, это не больше, чем 32452543\n",
            "Число 1993 в квадрате 3972049, это не больше, чем 32452543\n",
            "Число 1994 в квадрате 3976036, это не больше, чем 32452543\n",
            "Число 1995 в квадрате 3980025, это не больше, чем 32452543\n",
            "Число 1996 в квадрате 3984016, это не больше, чем 32452543\n",
            "Число 1997 в квадрате 3988009, это не больше, чем 32452543\n",
            "Число 1998 в квадрате 3992004, это не больше, чем 32452543\n",
            "Число 1999 в квадрате 3996001, это не больше, чем 32452543\n",
            "Число 2000 в квадрате 4000000, это не больше, чем 32452543\n",
            "Число 2001 в квадрате 4004001, это не больше, чем 32452543\n",
            "Число 2002 в квадрате 4008004, это не больше, чем 32452543\n",
            "Число 2003 в квадрате 4012009, это не больше, чем 32452543\n",
            "Число 2004 в квадрате 4016016, это не больше, чем 32452543\n",
            "Число 2005 в квадрате 4020025, это не больше, чем 32452543\n",
            "Число 2006 в квадрате 4024036, это не больше, чем 32452543\n",
            "Число 2007 в квадрате 4028049, это не больше, чем 32452543\n",
            "Число 2008 в квадрате 4032064, это не больше, чем 32452543\n",
            "Число 2009 в квадрате 4036081, это не больше, чем 32452543\n",
            "Число 2010 в квадрате 4040100, это не больше, чем 32452543\n",
            "Число 2011 в квадрате 4044121, это не больше, чем 32452543\n",
            "Число 2012 в квадрате 4048144, это не больше, чем 32452543\n",
            "Число 2013 в квадрате 4052169, это не больше, чем 32452543\n",
            "Число 2014 в квадрате 4056196, это не больше, чем 32452543\n",
            "Число 2015 в квадрате 4060225, это не больше, чем 32452543\n",
            "Число 2016 в квадрате 4064256, это не больше, чем 32452543\n",
            "Число 2017 в квадрате 4068289, это не больше, чем 32452543\n",
            "Число 2018 в квадрате 4072324, это не больше, чем 32452543\n",
            "Число 2019 в квадрате 4076361, это не больше, чем 32452543\n",
            "Число 2020 в квадрате 4080400, это не больше, чем 32452543\n",
            "Число 2021 в квадрате 4084441, это не больше, чем 32452543\n",
            "Число 2022 в квадрате 4088484, это не больше, чем 32452543\n",
            "Число 2023 в квадрате 4092529, это не больше, чем 32452543\n",
            "Число 2024 в квадрате 4096576, это не больше, чем 32452543\n",
            "Число 2025 в квадрате 4100625, это не больше, чем 32452543\n",
            "Число 2026 в квадрате 4104676, это не больше, чем 32452543\n",
            "Число 2027 в квадрате 4108729, это не больше, чем 32452543\n",
            "Число 2028 в квадрате 4112784, это не больше, чем 32452543\n",
            "Число 2029 в квадрате 4116841, это не больше, чем 32452543\n",
            "Число 2030 в квадрате 4120900, это не больше, чем 32452543\n",
            "Число 2031 в квадрате 4124961, это не больше, чем 32452543\n",
            "Число 2032 в квадрате 4129024, это не больше, чем 32452543\n",
            "Число 2033 в квадрате 4133089, это не больше, чем 32452543\n",
            "Число 2034 в квадрате 4137156, это не больше, чем 32452543\n",
            "Число 2035 в квадрате 4141225, это не больше, чем 32452543\n",
            "Число 2036 в квадрате 4145296, это не больше, чем 32452543\n",
            "Число 2037 в квадрате 4149369, это не больше, чем 32452543\n",
            "Число 2038 в квадрате 4153444, это не больше, чем 32452543\n",
            "Число 2039 в квадрате 4157521, это не больше, чем 32452543\n",
            "Число 2040 в квадрате 4161600, это не больше, чем 32452543\n",
            "Число 2041 в квадрате 4165681, это не больше, чем 32452543\n",
            "Число 2042 в квадрате 4169764, это не больше, чем 32452543\n",
            "Число 2043 в квадрате 4173849, это не больше, чем 32452543\n",
            "Число 2044 в квадрате 4177936, это не больше, чем 32452543\n",
            "Число 2045 в квадрате 4182025, это не больше, чем 32452543\n",
            "Число 2046 в квадрате 4186116, это не больше, чем 32452543\n",
            "Число 2047 в квадрате 4190209, это не больше, чем 32452543\n",
            "Число 2048 в квадрате 4194304, это не больше, чем 32452543\n",
            "Число 2049 в квадрате 4198401, это не больше, чем 32452543\n",
            "Число 2050 в квадрате 4202500, это не больше, чем 32452543\n",
            "Число 2051 в квадрате 4206601, это не больше, чем 32452543\n",
            "Число 2052 в квадрате 4210704, это не больше, чем 32452543\n",
            "Число 2053 в квадрате 4214809, это не больше, чем 32452543\n",
            "Число 2054 в квадрате 4218916, это не больше, чем 32452543\n",
            "Число 2055 в квадрате 4223025, это не больше, чем 32452543\n",
            "Число 2056 в квадрате 4227136, это не больше, чем 32452543\n",
            "Число 2057 в квадрате 4231249, это не больше, чем 32452543\n",
            "Число 2058 в квадрате 4235364, это не больше, чем 32452543\n",
            "Число 2059 в квадрате 4239481, это не больше, чем 32452543\n",
            "Число 2060 в квадрате 4243600, это не больше, чем 32452543\n",
            "Число 2061 в квадрате 4247721, это не больше, чем 32452543\n",
            "Число 2062 в квадрате 4251844, это не больше, чем 32452543\n",
            "Число 2063 в квадрате 4255969, это не больше, чем 32452543\n",
            "Число 2064 в квадрате 4260096, это не больше, чем 32452543\n",
            "Число 2065 в квадрате 4264225, это не больше, чем 32452543\n",
            "Число 2066 в квадрате 4268356, это не больше, чем 32452543\n",
            "Число 2067 в квадрате 4272489, это не больше, чем 32452543\n",
            "Число 2068 в квадрате 4276624, это не больше, чем 32452543\n",
            "Число 2069 в квадрате 4280761, это не больше, чем 32452543\n",
            "Число 2070 в квадрате 4284900, это не больше, чем 32452543\n",
            "Число 2071 в квадрате 4289041, это не больше, чем 32452543\n",
            "Число 2072 в квадрате 4293184, это не больше, чем 32452543\n",
            "Число 2073 в квадрате 4297329, это не больше, чем 32452543\n",
            "Число 2074 в квадрате 4301476, это не больше, чем 32452543\n",
            "Число 2075 в квадрате 4305625, это не больше, чем 32452543\n",
            "Число 2076 в квадрате 4309776, это не больше, чем 32452543\n",
            "Число 2077 в квадрате 4313929, это не больше, чем 32452543\n",
            "Число 2078 в квадрате 4318084, это не больше, чем 32452543\n",
            "Число 2079 в квадрате 4322241, это не больше, чем 32452543\n",
            "Число 2080 в квадрате 4326400, это не больше, чем 32452543\n",
            "Число 2081 в квадрате 4330561, это не больше, чем 32452543\n",
            "Число 2082 в квадрате 4334724, это не больше, чем 32452543\n",
            "Число 2083 в квадрате 4338889, это не больше, чем 32452543\n",
            "Число 2084 в квадрате 4343056, это не больше, чем 32452543\n",
            "Число 2085 в квадрате 4347225, это не больше, чем 32452543\n",
            "Число 2086 в квадрате 4351396, это не больше, чем 32452543\n",
            "Число 2087 в квадрате 4355569, это не больше, чем 32452543\n",
            "Число 2088 в квадрате 4359744, это не больше, чем 32452543\n",
            "Число 2089 в квадрате 4363921, это не больше, чем 32452543\n",
            "Число 2090 в квадрате 4368100, это не больше, чем 32452543\n",
            "Число 2091 в квадрате 4372281, это не больше, чем 32452543\n",
            "Число 2092 в квадрате 4376464, это не больше, чем 32452543\n",
            "Число 2093 в квадрате 4380649, это не больше, чем 32452543\n",
            "Число 2094 в квадрате 4384836, это не больше, чем 32452543\n",
            "Число 2095 в квадрате 4389025, это не больше, чем 32452543\n",
            "Число 2096 в квадрате 4393216, это не больше, чем 32452543\n",
            "Число 2097 в квадрате 4397409, это не больше, чем 32452543\n",
            "Число 2098 в квадрате 4401604, это не больше, чем 32452543\n",
            "Число 2099 в квадрате 4405801, это не больше, чем 32452543\n",
            "Число 2100 в квадрате 4410000, это не больше, чем 32452543\n",
            "Число 2101 в квадрате 4414201, это не больше, чем 32452543\n",
            "Число 2102 в квадрате 4418404, это не больше, чем 32452543\n",
            "Число 2103 в квадрате 4422609, это не больше, чем 32452543\n",
            "Число 2104 в квадрате 4426816, это не больше, чем 32452543\n",
            "Число 2105 в квадрате 4431025, это не больше, чем 32452543\n",
            "Число 2106 в квадрате 4435236, это не больше, чем 32452543\n",
            "Число 2107 в квадрате 4439449, это не больше, чем 32452543\n",
            "Число 2108 в квадрате 4443664, это не больше, чем 32452543\n",
            "Число 2109 в квадрате 4447881, это не больше, чем 32452543\n",
            "Число 2110 в квадрате 4452100, это не больше, чем 32452543\n",
            "Число 2111 в квадрате 4456321, это не больше, чем 32452543\n",
            "Число 2112 в квадрате 4460544, это не больше, чем 32452543\n",
            "Число 2113 в квадрате 4464769, это не больше, чем 32452543\n",
            "Число 2114 в квадрате 4468996, это не больше, чем 32452543\n",
            "Число 2115 в квадрате 4473225, это не больше, чем 32452543\n",
            "Число 2116 в квадрате 4477456, это не больше, чем 32452543\n",
            "Число 2117 в квадрате 4481689, это не больше, чем 32452543\n",
            "Число 2118 в квадрате 4485924, это не больше, чем 32452543\n",
            "Число 2119 в квадрате 4490161, это не больше, чем 32452543\n",
            "Число 2120 в квадрате 4494400, это не больше, чем 32452543\n",
            "Число 2121 в квадрате 4498641, это не больше, чем 32452543\n",
            "Число 2122 в квадрате 4502884, это не больше, чем 32452543\n",
            "Число 2123 в квадрате 4507129, это не больше, чем 32452543\n",
            "Число 2124 в квадрате 4511376, это не больше, чем 32452543\n",
            "Число 2125 в квадрате 4515625, это не больше, чем 32452543\n",
            "Число 2126 в квадрате 4519876, это не больше, чем 32452543\n",
            "Число 2127 в квадрате 4524129, это не больше, чем 32452543\n",
            "Число 2128 в квадрате 4528384, это не больше, чем 32452543\n",
            "Число 2129 в квадрате 4532641, это не больше, чем 32452543\n",
            "Число 2130 в квадрате 4536900, это не больше, чем 32452543\n",
            "Число 2131 в квадрате 4541161, это не больше, чем 32452543\n",
            "Число 2132 в квадрате 4545424, это не больше, чем 32452543\n",
            "Число 2133 в квадрате 4549689, это не больше, чем 32452543\n",
            "Число 2134 в квадрате 4553956, это не больше, чем 32452543\n",
            "Число 2135 в квадрате 4558225, это не больше, чем 32452543\n",
            "Число 2136 в квадрате 4562496, это не больше, чем 32452543\n",
            "Число 2137 в квадрате 4566769, это не больше, чем 32452543\n",
            "Число 2138 в квадрате 4571044, это не больше, чем 32452543\n",
            "Число 2139 в квадрате 4575321, это не больше, чем 32452543\n",
            "Число 2140 в квадрате 4579600, это не больше, чем 32452543\n",
            "Число 2141 в квадрате 4583881, это не больше, чем 32452543\n",
            "Число 2142 в квадрате 4588164, это не больше, чем 32452543\n",
            "Число 2143 в квадрате 4592449, это не больше, чем 32452543\n",
            "Число 2144 в квадрате 4596736, это не больше, чем 32452543\n",
            "Число 2145 в квадрате 4601025, это не больше, чем 32452543\n",
            "Число 2146 в квадрате 4605316, это не больше, чем 32452543\n",
            "Число 2147 в квадрате 4609609, это не больше, чем 32452543\n",
            "Число 2148 в квадрате 4613904, это не больше, чем 32452543\n",
            "Число 2149 в квадрате 4618201, это не больше, чем 32452543\n",
            "Число 2150 в квадрате 4622500, это не больше, чем 32452543\n",
            "Число 2151 в квадрате 4626801, это не больше, чем 32452543\n",
            "Число 2152 в квадрате 4631104, это не больше, чем 32452543\n",
            "Число 2153 в квадрате 4635409, это не больше, чем 32452543\n",
            "Число 2154 в квадрате 4639716, это не больше, чем 32452543\n",
            "Число 2155 в квадрате 4644025, это не больше, чем 32452543\n",
            "Число 2156 в квадрате 4648336, это не больше, чем 32452543\n",
            "Число 2157 в квадрате 4652649, это не больше, чем 32452543\n",
            "Число 2158 в квадрате 4656964, это не больше, чем 32452543\n",
            "Число 2159 в квадрате 4661281, это не больше, чем 32452543\n",
            "Число 2160 в квадрате 4665600, это не больше, чем 32452543\n",
            "Число 2161 в квадрате 4669921, это не больше, чем 32452543\n",
            "Число 2162 в квадрате 4674244, это не больше, чем 32452543\n",
            "Число 2163 в квадрате 4678569, это не больше, чем 32452543\n",
            "Число 2164 в квадрате 4682896, это не больше, чем 32452543\n",
            "Число 2165 в квадрате 4687225, это не больше, чем 32452543\n",
            "Число 2166 в квадрате 4691556, это не больше, чем 32452543\n",
            "Число 2167 в квадрате 4695889, это не больше, чем 32452543\n",
            "Число 2168 в квадрате 4700224, это не больше, чем 32452543\n",
            "Число 2169 в квадрате 4704561, это не больше, чем 32452543\n",
            "Число 2170 в квадрате 4708900, это не больше, чем 32452543\n",
            "Число 2171 в квадрате 4713241, это не больше, чем 32452543\n",
            "Число 2172 в квадрате 4717584, это не больше, чем 32452543\n",
            "Число 2173 в квадрате 4721929, это не больше, чем 32452543\n",
            "Число 2174 в квадрате 4726276, это не больше, чем 32452543\n",
            "Число 2175 в квадрате 4730625, это не больше, чем 32452543\n",
            "Число 2176 в квадрате 4734976, это не больше, чем 32452543\n",
            "Число 2177 в квадрате 4739329, это не больше, чем 32452543\n",
            "Число 2178 в квадрате 4743684, это не больше, чем 32452543\n",
            "Число 2179 в квадрате 4748041, это не больше, чем 32452543\n",
            "Число 2180 в квадрате 4752400, это не больше, чем 32452543\n",
            "Число 2181 в квадрате 4756761, это не больше, чем 32452543\n",
            "Число 2182 в квадрате 4761124, это не больше, чем 32452543\n",
            "Число 2183 в квадрате 4765489, это не больше, чем 32452543\n",
            "Число 2184 в квадрате 4769856, это не больше, чем 32452543\n",
            "Число 2185 в квадрате 4774225, это не больше, чем 32452543\n",
            "Число 2186 в квадрате 4778596, это не больше, чем 32452543\n",
            "Число 2187 в квадрате 4782969, это не больше, чем 32452543\n",
            "Число 2188 в квадрате 4787344, это не больше, чем 32452543\n",
            "Число 2189 в квадрате 4791721, это не больше, чем 32452543\n",
            "Число 2190 в квадрате 4796100, это не больше, чем 32452543\n",
            "Число 2191 в квадрате 4800481, это не больше, чем 32452543\n",
            "Число 2192 в квадрате 4804864, это не больше, чем 32452543\n",
            "Число 2193 в квадрате 4809249, это не больше, чем 32452543\n",
            "Число 2194 в квадрате 4813636, это не больше, чем 32452543\n",
            "Число 2195 в квадрате 4818025, это не больше, чем 32452543\n",
            "Число 2196 в квадрате 4822416, это не больше, чем 32452543\n",
            "Число 2197 в квадрате 4826809, это не больше, чем 32452543\n",
            "Число 2198 в квадрате 4831204, это не больше, чем 32452543\n",
            "Число 2199 в квадрате 4835601, это не больше, чем 32452543\n",
            "Число 2200 в квадрате 4840000, это не больше, чем 32452543\n",
            "Число 2201 в квадрате 4844401, это не больше, чем 32452543\n",
            "Число 2202 в квадрате 4848804, это не больше, чем 32452543\n",
            "Число 2203 в квадрате 4853209, это не больше, чем 32452543\n",
            "Число 2204 в квадрате 4857616, это не больше, чем 32452543\n",
            "Число 2205 в квадрате 4862025, это не больше, чем 32452543\n",
            "Число 2206 в квадрате 4866436, это не больше, чем 32452543\n",
            "Число 2207 в квадрате 4870849, это не больше, чем 32452543\n",
            "Число 2208 в квадрате 4875264, это не больше, чем 32452543\n",
            "Число 2209 в квадрате 4879681, это не больше, чем 32452543\n",
            "Число 2210 в квадрате 4884100, это не больше, чем 32452543\n",
            "Число 2211 в квадрате 4888521, это не больше, чем 32452543\n",
            "Число 2212 в квадрате 4892944, это не больше, чем 32452543\n",
            "Число 2213 в квадрате 4897369, это не больше, чем 32452543\n",
            "Число 2214 в квадрате 4901796, это не больше, чем 32452543\n",
            "Число 2215 в квадрате 4906225, это не больше, чем 32452543\n",
            "Число 2216 в квадрате 4910656, это не больше, чем 32452543\n",
            "Число 2217 в квадрате 4915089, это не больше, чем 32452543\n",
            "Число 2218 в квадрате 4919524, это не больше, чем 32452543\n",
            "Число 2219 в квадрате 4923961, это не больше, чем 32452543\n",
            "Число 2220 в квадрате 4928400, это не больше, чем 32452543\n",
            "Число 2221 в квадрате 4932841, это не больше, чем 32452543\n",
            "Число 2222 в квадрате 4937284, это не больше, чем 32452543\n",
            "Число 2223 в квадрате 4941729, это не больше, чем 32452543\n",
            "Число 2224 в квадрате 4946176, это не больше, чем 32452543\n",
            "Число 2225 в квадрате 4950625, это не больше, чем 32452543\n",
            "Число 2226 в квадрате 4955076, это не больше, чем 32452543\n",
            "Число 2227 в квадрате 4959529, это не больше, чем 32452543\n",
            "Число 2228 в квадрате 4963984, это не больше, чем 32452543\n",
            "Число 2229 в квадрате 4968441, это не больше, чем 32452543\n",
            "Число 2230 в квадрате 4972900, это не больше, чем 32452543\n",
            "Число 2231 в квадрате 4977361, это не больше, чем 32452543\n",
            "Число 2232 в квадрате 4981824, это не больше, чем 32452543\n",
            "Число 2233 в квадрате 4986289, это не больше, чем 32452543\n",
            "Число 2234 в квадрате 4990756, это не больше, чем 32452543\n",
            "Число 2235 в квадрате 4995225, это не больше, чем 32452543\n",
            "Число 2236 в квадрате 4999696, это не больше, чем 32452543\n",
            "Число 2237 в квадрате 5004169, это не больше, чем 32452543\n",
            "Число 2238 в квадрате 5008644, это не больше, чем 32452543\n",
            "Число 2239 в квадрате 5013121, это не больше, чем 32452543\n",
            "Число 2240 в квадрате 5017600, это не больше, чем 32452543\n",
            "Число 2241 в квадрате 5022081, это не больше, чем 32452543\n",
            "Число 2242 в квадрате 5026564, это не больше, чем 32452543\n",
            "Число 2243 в квадрате 5031049, это не больше, чем 32452543\n",
            "Число 2244 в квадрате 5035536, это не больше, чем 32452543\n",
            "Число 2245 в квадрате 5040025, это не больше, чем 32452543\n",
            "Число 2246 в квадрате 5044516, это не больше, чем 32452543\n",
            "Число 2247 в квадрате 5049009, это не больше, чем 32452543\n",
            "Число 2248 в квадрате 5053504, это не больше, чем 32452543\n",
            "Число 2249 в квадрате 5058001, это не больше, чем 32452543\n",
            "Число 2250 в квадрате 5062500, это не больше, чем 32452543\n",
            "Число 2251 в квадрате 5067001, это не больше, чем 32452543\n",
            "Число 2252 в квадрате 5071504, это не больше, чем 32452543\n",
            "Число 2253 в квадрате 5076009, это не больше, чем 32452543\n",
            "Число 2254 в квадрате 5080516, это не больше, чем 32452543\n",
            "Число 2255 в квадрате 5085025, это не больше, чем 32452543\n",
            "Число 2256 в квадрате 5089536, это не больше, чем 32452543\n",
            "Число 2257 в квадрате 5094049, это не больше, чем 32452543\n",
            "Число 2258 в квадрате 5098564, это не больше, чем 32452543\n",
            "Число 2259 в квадрате 5103081, это не больше, чем 32452543\n",
            "Число 2260 в квадрате 5107600, это не больше, чем 32452543\n",
            "Число 2261 в квадрате 5112121, это не больше, чем 32452543\n",
            "Число 2262 в квадрате 5116644, это не больше, чем 32452543\n",
            "Число 2263 в квадрате 5121169, это не больше, чем 32452543\n",
            "Число 2264 в квадрате 5125696, это не больше, чем 32452543\n",
            "Число 2265 в квадрате 5130225, это не больше, чем 32452543\n",
            "Число 2266 в квадрате 5134756, это не больше, чем 32452543\n",
            "Число 2267 в квадрате 5139289, это не больше, чем 32452543\n",
            "Число 2268 в квадрате 5143824, это не больше, чем 32452543\n",
            "Число 2269 в квадрате 5148361, это не больше, чем 32452543\n",
            "Число 2270 в квадрате 5152900, это не больше, чем 32452543\n",
            "Число 2271 в квадрате 5157441, это не больше, чем 32452543\n",
            "Число 2272 в квадрате 5161984, это не больше, чем 32452543\n",
            "Число 2273 в квадрате 5166529, это не больше, чем 32452543\n",
            "Число 2274 в квадрате 5171076, это не больше, чем 32452543\n",
            "Число 2275 в квадрате 5175625, это не больше, чем 32452543\n",
            "Число 2276 в квадрате 5180176, это не больше, чем 32452543\n",
            "Число 2277 в квадрате 5184729, это не больше, чем 32452543\n",
            "Число 2278 в квадрате 5189284, это не больше, чем 32452543\n",
            "Число 2279 в квадрате 5193841, это не больше, чем 32452543\n",
            "Число 2280 в квадрате 5198400, это не больше, чем 32452543\n",
            "Число 2281 в квадрате 5202961, это не больше, чем 32452543\n",
            "Число 2282 в квадрате 5207524, это не больше, чем 32452543\n",
            "Число 2283 в квадрате 5212089, это не больше, чем 32452543\n",
            "Число 2284 в квадрате 5216656, это не больше, чем 32452543\n",
            "Число 2285 в квадрате 5221225, это не больше, чем 32452543\n",
            "Число 2286 в квадрате 5225796, это не больше, чем 32452543\n",
            "Число 2287 в квадрате 5230369, это не больше, чем 32452543\n",
            "Число 2288 в квадрате 5234944, это не больше, чем 32452543\n",
            "Число 2289 в квадрате 5239521, это не больше, чем 32452543\n",
            "Число 2290 в квадрате 5244100, это не больше, чем 32452543\n",
            "Число 2291 в квадрате 5248681, это не больше, чем 32452543\n",
            "Число 2292 в квадрате 5253264, это не больше, чем 32452543\n",
            "Число 2293 в квадрате 5257849, это не больше, чем 32452543\n",
            "Число 2294 в квадрате 5262436, это не больше, чем 32452543\n",
            "Число 2295 в квадрате 5267025, это не больше, чем 32452543\n",
            "Число 2296 в квадрате 5271616, это не больше, чем 32452543\n",
            "Число 2297 в квадрате 5276209, это не больше, чем 32452543\n",
            "Число 2298 в квадрате 5280804, это не больше, чем 32452543\n",
            "Число 2299 в квадрате 5285401, это не больше, чем 32452543\n",
            "Число 2300 в квадрате 5290000, это не больше, чем 32452543\n",
            "Число 2301 в квадрате 5294601, это не больше, чем 32452543\n",
            "Число 2302 в квадрате 5299204, это не больше, чем 32452543\n",
            "Число 2303 в квадрате 5303809, это не больше, чем 32452543\n",
            "Число 2304 в квадрате 5308416, это не больше, чем 32452543\n",
            "Число 2305 в квадрате 5313025, это не больше, чем 32452543\n",
            "Число 2306 в квадрате 5317636, это не больше, чем 32452543\n",
            "Число 2307 в квадрате 5322249, это не больше, чем 32452543\n",
            "Число 2308 в квадрате 5326864, это не больше, чем 32452543\n",
            "Число 2309 в квадрате 5331481, это не больше, чем 32452543\n",
            "Число 2310 в квадрате 5336100, это не больше, чем 32452543\n",
            "Число 2311 в квадрате 5340721, это не больше, чем 32452543\n",
            "Число 2312 в квадрате 5345344, это не больше, чем 32452543\n",
            "Число 2313 в квадрате 5349969, это не больше, чем 32452543\n",
            "Число 2314 в квадрате 5354596, это не больше, чем 32452543\n",
            "Число 2315 в квадрате 5359225, это не больше, чем 32452543\n",
            "Число 2316 в квадрате 5363856, это не больше, чем 32452543\n",
            "Число 2317 в квадрате 5368489, это не больше, чем 32452543\n",
            "Число 2318 в квадрате 5373124, это не больше, чем 32452543\n",
            "Число 2319 в квадрате 5377761, это не больше, чем 32452543\n",
            "Число 2320 в квадрате 5382400, это не больше, чем 32452543\n",
            "Число 2321 в квадрате 5387041, это не больше, чем 32452543\n",
            "Число 2322 в квадрате 5391684, это не больше, чем 32452543\n",
            "Число 2323 в квадрате 5396329, это не больше, чем 32452543\n",
            "Число 2324 в квадрате 5400976, это не больше, чем 32452543\n",
            "Число 2325 в квадрате 5405625, это не больше, чем 32452543\n",
            "Число 2326 в квадрате 5410276, это не больше, чем 32452543\n",
            "Число 2327 в квадрате 5414929, это не больше, чем 32452543\n",
            "Число 2328 в квадрате 5419584, это не больше, чем 32452543\n",
            "Число 2329 в квадрате 5424241, это не больше, чем 32452543\n",
            "Число 2330 в квадрате 5428900, это не больше, чем 32452543\n",
            "Число 2331 в квадрате 5433561, это не больше, чем 32452543\n",
            "Число 2332 в квадрате 5438224, это не больше, чем 32452543\n",
            "Число 2333 в квадрате 5442889, это не больше, чем 32452543\n",
            "Число 2334 в квадрате 5447556, это не больше, чем 32452543\n",
            "Число 2335 в квадрате 5452225, это не больше, чем 32452543\n",
            "Число 2336 в квадрате 5456896, это не больше, чем 32452543\n",
            "Число 2337 в квадрате 5461569, это не больше, чем 32452543\n",
            "Число 2338 в квадрате 5466244, это не больше, чем 32452543\n",
            "Число 2339 в квадрате 5470921, это не больше, чем 32452543\n",
            "Число 2340 в квадрате 5475600, это не больше, чем 32452543\n",
            "Число 2341 в квадрате 5480281, это не больше, чем 32452543\n",
            "Число 2342 в квадрате 5484964, это не больше, чем 32452543\n",
            "Число 2343 в квадрате 5489649, это не больше, чем 32452543\n",
            "Число 2344 в квадрате 5494336, это не больше, чем 32452543\n",
            "Число 2345 в квадрате 5499025, это не больше, чем 32452543\n",
            "Число 2346 в квадрате 5503716, это не больше, чем 32452543\n",
            "Число 2347 в квадрате 5508409, это не больше, чем 32452543\n",
            "Число 2348 в квадрате 5513104, это не больше, чем 32452543\n",
            "Число 2349 в квадрате 5517801, это не больше, чем 32452543\n",
            "Число 2350 в квадрате 5522500, это не больше, чем 32452543\n",
            "Число 2351 в квадрате 5527201, это не больше, чем 32452543\n",
            "Число 2352 в квадрате 5531904, это не больше, чем 32452543\n",
            "Число 2353 в квадрате 5536609, это не больше, чем 32452543\n",
            "Число 2354 в квадрате 5541316, это не больше, чем 32452543\n",
            "Число 2355 в квадрате 5546025, это не больше, чем 32452543\n",
            "Число 2356 в квадрате 5550736, это не больше, чем 32452543\n",
            "Число 2357 в квадрате 5555449, это не больше, чем 32452543\n",
            "Число 2358 в квадрате 5560164, это не больше, чем 32452543\n",
            "Число 2359 в квадрате 5564881, это не больше, чем 32452543\n",
            "Число 2360 в квадрате 5569600, это не больше, чем 32452543\n",
            "Число 2361 в квадрате 5574321, это не больше, чем 32452543\n",
            "Число 2362 в квадрате 5579044, это не больше, чем 32452543\n",
            "Число 2363 в квадрате 5583769, это не больше, чем 32452543\n",
            "Число 2364 в квадрате 5588496, это не больше, чем 32452543\n",
            "Число 2365 в квадрате 5593225, это не больше, чем 32452543\n",
            "Число 2366 в квадрате 5597956, это не больше, чем 32452543\n",
            "Число 2367 в квадрате 5602689, это не больше, чем 32452543\n",
            "Число 2368 в квадрате 5607424, это не больше, чем 32452543\n",
            "Число 2369 в квадрате 5612161, это не больше, чем 32452543\n",
            "Число 2370 в квадрате 5616900, это не больше, чем 32452543\n",
            "Число 2371 в квадрате 5621641, это не больше, чем 32452543\n",
            "Число 2372 в квадрате 5626384, это не больше, чем 32452543\n",
            "Число 2373 в квадрате 5631129, это не больше, чем 32452543\n",
            "Число 2374 в квадрате 5635876, это не больше, чем 32452543\n",
            "Число 2375 в квадрате 5640625, это не больше, чем 32452543\n",
            "Число 2376 в квадрате 5645376, это не больше, чем 32452543\n",
            "Число 2377 в квадрате 5650129, это не больше, чем 32452543\n",
            "Число 2378 в квадрате 5654884, это не больше, чем 32452543\n",
            "Число 2379 в квадрате 5659641, это не больше, чем 32452543\n",
            "Число 2380 в квадрате 5664400, это не больше, чем 32452543\n",
            "Число 2381 в квадрате 5669161, это не больше, чем 32452543\n",
            "Число 2382 в квадрате 5673924, это не больше, чем 32452543\n",
            "Число 2383 в квадрате 5678689, это не больше, чем 32452543\n",
            "Число 2384 в квадрате 5683456, это не больше, чем 32452543\n",
            "Число 2385 в квадрате 5688225, это не больше, чем 32452543\n",
            "Число 2386 в квадрате 5692996, это не больше, чем 32452543\n",
            "Число 2387 в квадрате 5697769, это не больше, чем 32452543\n",
            "Число 2388 в квадрате 5702544, это не больше, чем 32452543\n",
            "Число 2389 в квадрате 5707321, это не больше, чем 32452543\n",
            "Число 2390 в квадрате 5712100, это не больше, чем 32452543\n",
            "Число 2391 в квадрате 5716881, это не больше, чем 32452543\n",
            "Число 2392 в квадрате 5721664, это не больше, чем 32452543\n",
            "Число 2393 в квадрате 5726449, это не больше, чем 32452543\n",
            "Число 2394 в квадрате 5731236, это не больше, чем 32452543\n",
            "Число 2395 в квадрате 5736025, это не больше, чем 32452543\n",
            "Число 2396 в квадрате 5740816, это не больше, чем 32452543\n",
            "Число 2397 в квадрате 5745609, это не больше, чем 32452543\n",
            "Число 2398 в квадрате 5750404, это не больше, чем 32452543\n",
            "Число 2399 в квадрате 5755201, это не больше, чем 32452543\n",
            "Число 2400 в квадрате 5760000, это не больше, чем 32452543\n",
            "Число 2401 в квадрате 5764801, это не больше, чем 32452543\n",
            "Число 2402 в квадрате 5769604, это не больше, чем 32452543\n",
            "Число 2403 в квадрате 5774409, это не больше, чем 32452543\n",
            "Число 2404 в квадрате 5779216, это не больше, чем 32452543\n",
            "Число 2405 в квадрате 5784025, это не больше, чем 32452543\n",
            "Число 2406 в квадрате 5788836, это не больше, чем 32452543\n",
            "Число 2407 в квадрате 5793649, это не больше, чем 32452543\n",
            "Число 2408 в квадрате 5798464, это не больше, чем 32452543\n",
            "Число 2409 в квадрате 5803281, это не больше, чем 32452543\n",
            "Число 2410 в квадрате 5808100, это не больше, чем 32452543\n",
            "Число 2411 в квадрате 5812921, это не больше, чем 32452543\n",
            "Число 2412 в квадрате 5817744, это не больше, чем 32452543\n",
            "Число 2413 в квадрате 5822569, это не больше, чем 32452543\n",
            "Число 2414 в квадрате 5827396, это не больше, чем 32452543\n",
            "Число 2415 в квадрате 5832225, это не больше, чем 32452543\n",
            "Число 2416 в квадрате 5837056, это не больше, чем 32452543\n",
            "Число 2417 в квадрате 5841889, это не больше, чем 32452543\n",
            "Число 2418 в квадрате 5846724, это не больше, чем 32452543\n",
            "Число 2419 в квадрате 5851561, это не больше, чем 32452543\n",
            "Число 2420 в квадрате 5856400, это не больше, чем 32452543\n",
            "Число 2421 в квадрате 5861241, это не больше, чем 32452543\n",
            "Число 2422 в квадрате 5866084, это не больше, чем 32452543\n",
            "Число 2423 в квадрате 5870929, это не больше, чем 32452543\n",
            "Число 2424 в квадрате 5875776, это не больше, чем 32452543\n",
            "Число 2425 в квадрате 5880625, это не больше, чем 32452543\n",
            "Число 2426 в квадрате 5885476, это не больше, чем 32452543\n",
            "Число 2427 в квадрате 5890329, это не больше, чем 32452543\n",
            "Число 2428 в квадрате 5895184, это не больше, чем 32452543\n",
            "Число 2429 в квадрате 5900041, это не больше, чем 32452543\n",
            "Число 2430 в квадрате 5904900, это не больше, чем 32452543\n",
            "Число 2431 в квадрате 5909761, это не больше, чем 32452543\n",
            "Число 2432 в квадрате 5914624, это не больше, чем 32452543\n",
            "Число 2433 в квадрате 5919489, это не больше, чем 32452543\n",
            "Число 2434 в квадрате 5924356, это не больше, чем 32452543\n",
            "Число 2435 в квадрате 5929225, это не больше, чем 32452543\n",
            "Число 2436 в квадрате 5934096, это не больше, чем 32452543\n",
            "Число 2437 в квадрате 5938969, это не больше, чем 32452543\n",
            "Число 2438 в квадрате 5943844, это не больше, чем 32452543\n",
            "Число 2439 в квадрате 5948721, это не больше, чем 32452543\n",
            "Число 2440 в квадрате 5953600, это не больше, чем 32452543\n",
            "Число 2441 в квадрате 5958481, это не больше, чем 32452543\n",
            "Число 2442 в квадрате 5963364, это не больше, чем 32452543\n",
            "Число 2443 в квадрате 5968249, это не больше, чем 32452543\n",
            "Число 2444 в квадрате 5973136, это не больше, чем 32452543\n",
            "Число 2445 в квадрате 5978025, это не больше, чем 32452543\n",
            "Число 2446 в квадрате 5982916, это не больше, чем 32452543\n",
            "Число 2447 в квадрате 5987809, это не больше, чем 32452543\n",
            "Число 2448 в квадрате 5992704, это не больше, чем 32452543\n",
            "Число 2449 в квадрате 5997601, это не больше, чем 32452543\n",
            "Число 2450 в квадрате 6002500, это не больше, чем 32452543\n",
            "Число 2451 в квадрате 6007401, это не больше, чем 32452543\n",
            "Число 2452 в квадрате 6012304, это не больше, чем 32452543\n",
            "Число 2453 в квадрате 6017209, это не больше, чем 32452543\n",
            "Число 2454 в квадрате 6022116, это не больше, чем 32452543\n",
            "Число 2455 в квадрате 6027025, это не больше, чем 32452543\n",
            "Число 2456 в квадрате 6031936, это не больше, чем 32452543\n",
            "Число 2457 в квадрате 6036849, это не больше, чем 32452543\n",
            "Число 2458 в квадрате 6041764, это не больше, чем 32452543\n",
            "Число 2459 в квадрате 6046681, это не больше, чем 32452543\n",
            "Число 2460 в квадрате 6051600, это не больше, чем 32452543\n",
            "Число 2461 в квадрате 6056521, это не больше, чем 32452543\n",
            "Число 2462 в квадрате 6061444, это не больше, чем 32452543\n",
            "Число 2463 в квадрате 6066369, это не больше, чем 32452543\n",
            "Число 2464 в квадрате 6071296, это не больше, чем 32452543\n",
            "Число 2465 в квадрате 6076225, это не больше, чем 32452543\n",
            "Число 2466 в квадрате 6081156, это не больше, чем 32452543\n",
            "Число 2467 в квадрате 6086089, это не больше, чем 32452543\n",
            "Число 2468 в квадрате 6091024, это не больше, чем 32452543\n",
            "Число 2469 в квадрате 6095961, это не больше, чем 32452543\n",
            "Число 2470 в квадрате 6100900, это не больше, чем 32452543\n",
            "Число 2471 в квадрате 6105841, это не больше, чем 32452543\n",
            "Число 2472 в квадрате 6110784, это не больше, чем 32452543\n",
            "Число 2473 в квадрате 6115729, это не больше, чем 32452543\n",
            "Число 2474 в квадрате 6120676, это не больше, чем 32452543\n",
            "Число 2475 в квадрате 6125625, это не больше, чем 32452543\n",
            "Число 2476 в квадрате 6130576, это не больше, чем 32452543\n",
            "Число 2477 в квадрате 6135529, это не больше, чем 32452543\n",
            "Число 2478 в квадрате 6140484, это не больше, чем 32452543\n",
            "Число 2479 в квадрате 6145441, это не больше, чем 32452543\n",
            "Число 2480 в квадрате 6150400, это не больше, чем 32452543\n",
            "Число 2481 в квадрате 6155361, это не больше, чем 32452543\n",
            "Число 2482 в квадрате 6160324, это не больше, чем 32452543\n",
            "Число 2483 в квадрате 6165289, это не больше, чем 32452543\n",
            "Число 2484 в квадрате 6170256, это не больше, чем 32452543\n",
            "Число 2485 в квадрате 6175225, это не больше, чем 32452543\n",
            "Число 2486 в квадрате 6180196, это не больше, чем 32452543\n",
            "Число 2487 в квадрате 6185169, это не больше, чем 32452543\n",
            "Число 2488 в квадрате 6190144, это не больше, чем 32452543\n",
            "Число 2489 в квадрате 6195121, это не больше, чем 32452543\n",
            "Число 2490 в квадрате 6200100, это не больше, чем 32452543\n",
            "Число 2491 в квадрате 6205081, это не больше, чем 32452543\n",
            "Число 2492 в квадрате 6210064, это не больше, чем 32452543\n",
            "Число 2493 в квадрате 6215049, это не больше, чем 32452543\n",
            "Число 2494 в квадрате 6220036, это не больше, чем 32452543\n",
            "Число 2495 в квадрате 6225025, это не больше, чем 32452543\n",
            "Число 2496 в квадрате 6230016, это не больше, чем 32452543\n",
            "Число 2497 в квадрате 6235009, это не больше, чем 32452543\n",
            "Число 2498 в квадрате 6240004, это не больше, чем 32452543\n",
            "Число 2499 в квадрате 6245001, это не больше, чем 32452543\n",
            "Число 2500 в квадрате 6250000, это не больше, чем 32452543\n",
            "Число 2501 в квадрате 6255001, это не больше, чем 32452543\n",
            "Число 2502 в квадрате 6260004, это не больше, чем 32452543\n",
            "Число 2503 в квадрате 6265009, это не больше, чем 32452543\n",
            "Число 2504 в квадрате 6270016, это не больше, чем 32452543\n",
            "Число 2505 в квадрате 6275025, это не больше, чем 32452543\n",
            "Число 2506 в квадрате 6280036, это не больше, чем 32452543\n",
            "Число 2507 в квадрате 6285049, это не больше, чем 32452543\n",
            "Число 2508 в квадрате 6290064, это не больше, чем 32452543\n",
            "Число 2509 в квадрате 6295081, это не больше, чем 32452543\n",
            "Число 2510 в квадрате 6300100, это не больше, чем 32452543\n",
            "Число 2511 в квадрате 6305121, это не больше, чем 32452543\n",
            "Число 2512 в квадрате 6310144, это не больше, чем 32452543\n",
            "Число 2513 в квадрате 6315169, это не больше, чем 32452543\n",
            "Число 2514 в квадрате 6320196, это не больше, чем 32452543\n",
            "Число 2515 в квадрате 6325225, это не больше, чем 32452543\n",
            "Число 2516 в квадрате 6330256, это не больше, чем 32452543\n",
            "Число 2517 в квадрате 6335289, это не больше, чем 32452543\n",
            "Число 2518 в квадрате 6340324, это не больше, чем 32452543\n",
            "Число 2519 в квадрате 6345361, это не больше, чем 32452543\n",
            "Число 2520 в квадрате 6350400, это не больше, чем 32452543\n",
            "Число 2521 в квадрате 6355441, это не больше, чем 32452543\n",
            "Число 2522 в квадрате 6360484, это не больше, чем 32452543\n",
            "Число 2523 в квадрате 6365529, это не больше, чем 32452543\n",
            "Число 2524 в квадрате 6370576, это не больше, чем 32452543\n",
            "Число 2525 в квадрате 6375625, это не больше, чем 32452543\n",
            "Число 2526 в квадрате 6380676, это не больше, чем 32452543\n",
            "Число 2527 в квадрате 6385729, это не больше, чем 32452543\n",
            "Число 2528 в квадрате 6390784, это не больше, чем 32452543\n",
            "Число 2529 в квадрате 6395841, это не больше, чем 32452543\n",
            "Число 2530 в квадрате 6400900, это не больше, чем 32452543\n",
            "Число 2531 в квадрате 6405961, это не больше, чем 32452543\n",
            "Число 2532 в квадрате 6411024, это не больше, чем 32452543\n",
            "Число 2533 в квадрате 6416089, это не больше, чем 32452543\n",
            "Число 2534 в квадрате 6421156, это не больше, чем 32452543\n",
            "Число 2535 в квадрате 6426225, это не больше, чем 32452543\n",
            "Число 2536 в квадрате 6431296, это не больше, чем 32452543\n",
            "Число 2537 в квадрате 6436369, это не больше, чем 32452543\n",
            "Число 2538 в квадрате 6441444, это не больше, чем 32452543\n",
            "Число 2539 в квадрате 6446521, это не больше, чем 32452543\n",
            "Число 2540 в квадрате 6451600, это не больше, чем 32452543\n",
            "Число 2541 в квадрате 6456681, это не больше, чем 32452543\n",
            "Число 2542 в квадрате 6461764, это не больше, чем 32452543\n",
            "Число 2543 в квадрате 6466849, это не больше, чем 32452543\n",
            "Число 2544 в квадрате 6471936, это не больше, чем 32452543\n",
            "Число 2545 в квадрате 6477025, это не больше, чем 32452543\n",
            "Число 2546 в квадрате 6482116, это не больше, чем 32452543\n",
            "Число 2547 в квадрате 6487209, это не больше, чем 32452543\n",
            "Число 2548 в квадрате 6492304, это не больше, чем 32452543\n",
            "Число 2549 в квадрате 6497401, это не больше, чем 32452543\n",
            "Число 2550 в квадрате 6502500, это не больше, чем 32452543\n",
            "Число 2551 в квадрате 6507601, это не больше, чем 32452543\n",
            "Число 2552 в квадрате 6512704, это не больше, чем 32452543\n",
            "Число 2553 в квадрате 6517809, это не больше, чем 32452543\n",
            "Число 2554 в квадрате 6522916, это не больше, чем 32452543\n",
            "Число 2555 в квадрате 6528025, это не больше, чем 32452543\n",
            "Число 2556 в квадрате 6533136, это не больше, чем 32452543\n",
            "Число 2557 в квадрате 6538249, это не больше, чем 32452543\n",
            "Число 2558 в квадрате 6543364, это не больше, чем 32452543\n",
            "Число 2559 в квадрате 6548481, это не больше, чем 32452543\n",
            "Число 2560 в квадрате 6553600, это не больше, чем 32452543\n",
            "Число 2561 в квадрате 6558721, это не больше, чем 32452543\n",
            "Число 2562 в квадрате 6563844, это не больше, чем 32452543\n",
            "Число 2563 в квадрате 6568969, это не больше, чем 32452543\n",
            "Число 2564 в квадрате 6574096, это не больше, чем 32452543\n",
            "Число 2565 в квадрате 6579225, это не больше, чем 32452543\n",
            "Число 2566 в квадрате 6584356, это не больше, чем 32452543\n",
            "Число 2567 в квадрате 6589489, это не больше, чем 32452543\n",
            "Число 2568 в квадрате 6594624, это не больше, чем 32452543\n",
            "Число 2569 в квадрате 6599761, это не больше, чем 32452543\n",
            "Число 2570 в квадрате 6604900, это не больше, чем 32452543\n",
            "Число 2571 в квадрате 6610041, это не больше, чем 32452543\n",
            "Число 2572 в квадрате 6615184, это не больше, чем 32452543\n",
            "Число 2573 в квадрате 6620329, это не больше, чем 32452543\n",
            "Число 2574 в квадрате 6625476, это не больше, чем 32452543\n",
            "Число 2575 в квадрате 6630625, это не больше, чем 32452543\n",
            "Число 2576 в квадрате 6635776, это не больше, чем 32452543\n",
            "Число 2577 в квадрате 6640929, это не больше, чем 32452543\n",
            "Число 2578 в квадрате 6646084, это не больше, чем 32452543\n",
            "Число 2579 в квадрате 6651241, это не больше, чем 32452543\n",
            "Число 2580 в квадрате 6656400, это не больше, чем 32452543\n",
            "Число 2581 в квадрате 6661561, это не больше, чем 32452543\n",
            "Число 2582 в квадрате 6666724, это не больше, чем 32452543\n",
            "Число 2583 в квадрате 6671889, это не больше, чем 32452543\n",
            "Число 2584 в квадрате 6677056, это не больше, чем 32452543\n",
            "Число 2585 в квадрате 6682225, это не больше, чем 32452543\n",
            "Число 2586 в квадрате 6687396, это не больше, чем 32452543\n",
            "Число 2587 в квадрате 6692569, это не больше, чем 32452543\n",
            "Число 2588 в квадрате 6697744, это не больше, чем 32452543\n",
            "Число 2589 в квадрате 6702921, это не больше, чем 32452543\n",
            "Число 2590 в квадрате 6708100, это не больше, чем 32452543\n",
            "Число 2591 в квадрате 6713281, это не больше, чем 32452543\n",
            "Число 2592 в квадрате 6718464, это не больше, чем 32452543\n",
            "Число 2593 в квадрате 6723649, это не больше, чем 32452543\n",
            "Число 2594 в квадрате 6728836, это не больше, чем 32452543\n",
            "Число 2595 в квадрате 6734025, это не больше, чем 32452543\n",
            "Число 2596 в квадрате 6739216, это не больше, чем 32452543\n",
            "Число 2597 в квадрате 6744409, это не больше, чем 32452543\n",
            "Число 2598 в квадрате 6749604, это не больше, чем 32452543\n",
            "Число 2599 в квадрате 6754801, это не больше, чем 32452543\n",
            "Число 2600 в квадрате 6760000, это не больше, чем 32452543\n",
            "Число 2601 в квадрате 6765201, это не больше, чем 32452543\n",
            "Число 2602 в квадрате 6770404, это не больше, чем 32452543\n",
            "Число 2603 в квадрате 6775609, это не больше, чем 32452543\n",
            "Число 2604 в квадрате 6780816, это не больше, чем 32452543\n",
            "Число 2605 в квадрате 6786025, это не больше, чем 32452543\n",
            "Число 2606 в квадрате 6791236, это не больше, чем 32452543\n",
            "Число 2607 в квадрате 6796449, это не больше, чем 32452543\n",
            "Число 2608 в квадрате 6801664, это не больше, чем 32452543\n",
            "Число 2609 в квадрате 6806881, это не больше, чем 32452543\n",
            "Число 2610 в квадрате 6812100, это не больше, чем 32452543\n",
            "Число 2611 в квадрате 6817321, это не больше, чем 32452543\n",
            "Число 2612 в квадрате 6822544, это не больше, чем 32452543\n",
            "Число 2613 в квадрате 6827769, это не больше, чем 32452543\n",
            "Число 2614 в квадрате 6832996, это не больше, чем 32452543\n",
            "Число 2615 в квадрате 6838225, это не больше, чем 32452543\n",
            "Число 2616 в квадрате 6843456, это не больше, чем 32452543\n",
            "Число 2617 в квадрате 6848689, это не больше, чем 32452543\n",
            "Число 2618 в квадрате 6853924, это не больше, чем 32452543\n",
            "Число 2619 в квадрате 6859161, это не больше, чем 32452543\n",
            "Число 2620 в квадрате 6864400, это не больше, чем 32452543\n",
            "Число 2621 в квадрате 6869641, это не больше, чем 32452543\n",
            "Число 2622 в квадрате 6874884, это не больше, чем 32452543\n",
            "Число 2623 в квадрате 6880129, это не больше, чем 32452543\n",
            "Число 2624 в квадрате 6885376, это не больше, чем 32452543\n",
            "Число 2625 в квадрате 6890625, это не больше, чем 32452543\n",
            "Число 2626 в квадрате 6895876, это не больше, чем 32452543\n",
            "Число 2627 в квадрате 6901129, это не больше, чем 32452543\n",
            "Число 2628 в квадрате 6906384, это не больше, чем 32452543\n",
            "Число 2629 в квадрате 6911641, это не больше, чем 32452543\n",
            "Число 2630 в квадрате 6916900, это не больше, чем 32452543\n",
            "Число 2631 в квадрате 6922161, это не больше, чем 32452543\n",
            "Число 2632 в квадрате 6927424, это не больше, чем 32452543\n",
            "Число 2633 в квадрате 6932689, это не больше, чем 32452543\n",
            "Число 2634 в квадрате 6937956, это не больше, чем 32452543\n",
            "Число 2635 в квадрате 6943225, это не больше, чем 32452543\n",
            "Число 2636 в квадрате 6948496, это не больше, чем 32452543\n",
            "Число 2637 в квадрате 6953769, это не больше, чем 32452543\n",
            "Число 2638 в квадрате 6959044, это не больше, чем 32452543\n",
            "Число 2639 в квадрате 6964321, это не больше, чем 32452543\n",
            "Число 2640 в квадрате 6969600, это не больше, чем 32452543\n",
            "Число 2641 в квадрате 6974881, это не больше, чем 32452543\n",
            "Число 2642 в квадрате 6980164, это не больше, чем 32452543\n",
            "Число 2643 в квадрате 6985449, это не больше, чем 32452543\n",
            "Число 2644 в квадрате 6990736, это не больше, чем 32452543\n",
            "Число 2645 в квадрате 6996025, это не больше, чем 32452543\n",
            "Число 2646 в квадрате 7001316, это не больше, чем 32452543\n",
            "Число 2647 в квадрате 7006609, это не больше, чем 32452543\n",
            "Число 2648 в квадрате 7011904, это не больше, чем 32452543\n",
            "Число 2649 в квадрате 7017201, это не больше, чем 32452543\n",
            "Число 2650 в квадрате 7022500, это не больше, чем 32452543\n",
            "Число 2651 в квадрате 7027801, это не больше, чем 32452543\n",
            "Число 2652 в квадрате 7033104, это не больше, чем 32452543\n",
            "Число 2653 в квадрате 7038409, это не больше, чем 32452543\n",
            "Число 2654 в квадрате 7043716, это не больше, чем 32452543\n",
            "Число 2655 в квадрате 7049025, это не больше, чем 32452543\n",
            "Число 2656 в квадрате 7054336, это не больше, чем 32452543\n",
            "Число 2657 в квадрате 7059649, это не больше, чем 32452543\n",
            "Число 2658 в квадрате 7064964, это не больше, чем 32452543\n",
            "Число 2659 в квадрате 7070281, это не больше, чем 32452543\n",
            "Число 2660 в квадрате 7075600, это не больше, чем 32452543\n",
            "Число 2661 в квадрате 7080921, это не больше, чем 32452543\n",
            "Число 2662 в квадрате 7086244, это не больше, чем 32452543\n",
            "Число 2663 в квадрате 7091569, это не больше, чем 32452543\n",
            "Число 2664 в квадрате 7096896, это не больше, чем 32452543\n",
            "Число 2665 в квадрате 7102225, это не больше, чем 32452543\n",
            "Число 2666 в квадрате 7107556, это не больше, чем 32452543\n",
            "Число 2667 в квадрате 7112889, это не больше, чем 32452543\n",
            "Число 2668 в квадрате 7118224, это не больше, чем 32452543\n",
            "Число 2669 в квадрате 7123561, это не больше, чем 32452543\n",
            "Число 2670 в квадрате 7128900, это не больше, чем 32452543\n",
            "Число 2671 в квадрате 7134241, это не больше, чем 32452543\n",
            "Число 2672 в квадрате 7139584, это не больше, чем 32452543\n",
            "Число 2673 в квадрате 7144929, это не больше, чем 32452543\n",
            "Число 2674 в квадрате 7150276, это не больше, чем 32452543\n",
            "Число 2675 в квадрате 7155625, это не больше, чем 32452543\n",
            "Число 2676 в квадрате 7160976, это не больше, чем 32452543\n",
            "Число 2677 в квадрате 7166329, это не больше, чем 32452543\n",
            "Число 2678 в квадрате 7171684, это не больше, чем 32452543\n",
            "Число 2679 в квадрате 7177041, это не больше, чем 32452543\n",
            "Число 2680 в квадрате 7182400, это не больше, чем 32452543\n",
            "Число 2681 в квадрате 7187761, это не больше, чем 32452543\n",
            "Число 2682 в квадрате 7193124, это не больше, чем 32452543\n",
            "Число 2683 в квадрате 7198489, это не больше, чем 32452543\n",
            "Число 2684 в квадрате 7203856, это не больше, чем 32452543\n",
            "Число 2685 в квадрате 7209225, это не больше, чем 32452543\n",
            "Число 2686 в квадрате 7214596, это не больше, чем 32452543\n",
            "Число 2687 в квадрате 7219969, это не больше, чем 32452543\n",
            "Число 2688 в квадрате 7225344, это не больше, чем 32452543\n",
            "Число 2689 в квадрате 7230721, это не больше, чем 32452543\n",
            "Число 2690 в квадрате 7236100, это не больше, чем 32452543\n",
            "Число 2691 в квадрате 7241481, это не больше, чем 32452543\n",
            "Число 2692 в квадрате 7246864, это не больше, чем 32452543\n",
            "Число 2693 в квадрате 7252249, это не больше, чем 32452543\n",
            "Число 2694 в квадрате 7257636, это не больше, чем 32452543\n",
            "Число 2695 в квадрате 7263025, это не больше, чем 32452543\n",
            "Число 2696 в квадрате 7268416, это не больше, чем 32452543\n",
            "Число 2697 в квадрате 7273809, это не больше, чем 32452543\n",
            "Число 2698 в квадрате 7279204, это не больше, чем 32452543\n",
            "Число 2699 в квадрате 7284601, это не больше, чем 32452543\n",
            "Число 2700 в квадрате 7290000, это не больше, чем 32452543\n",
            "Число 2701 в квадрате 7295401, это не больше, чем 32452543\n",
            "Число 2702 в квадрате 7300804, это не больше, чем 32452543\n",
            "Число 2703 в квадрате 7306209, это не больше, чем 32452543\n",
            "Число 2704 в квадрате 7311616, это не больше, чем 32452543\n",
            "Число 2705 в квадрате 7317025, это не больше, чем 32452543\n",
            "Число 2706 в квадрате 7322436, это не больше, чем 32452543\n",
            "Число 2707 в квадрате 7327849, это не больше, чем 32452543\n",
            "Число 2708 в квадрате 7333264, это не больше, чем 32452543\n",
            "Число 2709 в квадрате 7338681, это не больше, чем 32452543\n",
            "Число 2710 в квадрате 7344100, это не больше, чем 32452543\n",
            "Число 2711 в квадрате 7349521, это не больше, чем 32452543\n",
            "Число 2712 в квадрате 7354944, это не больше, чем 32452543\n",
            "Число 2713 в квадрате 7360369, это не больше, чем 32452543\n",
            "Число 2714 в квадрате 7365796, это не больше, чем 32452543\n",
            "Число 2715 в квадрате 7371225, это не больше, чем 32452543\n",
            "Число 2716 в квадрате 7376656, это не больше, чем 32452543\n",
            "Число 2717 в квадрате 7382089, это не больше, чем 32452543\n",
            "Число 2718 в квадрате 7387524, это не больше, чем 32452543\n",
            "Число 2719 в квадрате 7392961, это не больше, чем 32452543\n",
            "Число 2720 в квадрате 7398400, это не больше, чем 32452543\n",
            "Число 2721 в квадрате 7403841, это не больше, чем 32452543\n",
            "Число 2722 в квадрате 7409284, это не больше, чем 32452543\n",
            "Число 2723 в квадрате 7414729, это не больше, чем 32452543\n",
            "Число 2724 в квадрате 7420176, это не больше, чем 32452543\n",
            "Число 2725 в квадрате 7425625, это не больше, чем 32452543\n",
            "Число 2726 в квадрате 7431076, это не больше, чем 32452543\n",
            "Число 2727 в квадрате 7436529, это не больше, чем 32452543\n",
            "Число 2728 в квадрате 7441984, это не больше, чем 32452543\n",
            "Число 2729 в квадрате 7447441, это не больше, чем 32452543\n",
            "Число 2730 в квадрате 7452900, это не больше, чем 32452543\n",
            "Число 2731 в квадрате 7458361, это не больше, чем 32452543\n",
            "Число 2732 в квадрате 7463824, это не больше, чем 32452543\n",
            "Число 2733 в квадрате 7469289, это не больше, чем 32452543\n",
            "Число 2734 в квадрате 7474756, это не больше, чем 32452543\n",
            "Число 2735 в квадрате 7480225, это не больше, чем 32452543\n",
            "Число 2736 в квадрате 7485696, это не больше, чем 32452543\n",
            "Число 2737 в квадрате 7491169, это не больше, чем 32452543\n",
            "Число 2738 в квадрате 7496644, это не больше, чем 32452543\n",
            "Число 2739 в квадрате 7502121, это не больше, чем 32452543\n",
            "Число 2740 в квадрате 7507600, это не больше, чем 32452543\n",
            "Число 2741 в квадрате 7513081, это не больше, чем 32452543\n",
            "Число 2742 в квадрате 7518564, это не больше, чем 32452543\n",
            "Число 2743 в квадрате 7524049, это не больше, чем 32452543\n",
            "Число 2744 в квадрате 7529536, это не больше, чем 32452543\n",
            "Число 2745 в квадрате 7535025, это не больше, чем 32452543\n",
            "Число 2746 в квадрате 7540516, это не больше, чем 32452543\n",
            "Число 2747 в квадрате 7546009, это не больше, чем 32452543\n",
            "Число 2748 в квадрате 7551504, это не больше, чем 32452543\n",
            "Число 2749 в квадрате 7557001, это не больше, чем 32452543\n",
            "Число 2750 в квадрате 7562500, это не больше, чем 32452543\n",
            "Число 2751 в квадрате 7568001, это не больше, чем 32452543\n",
            "Число 2752 в квадрате 7573504, это не больше, чем 32452543\n",
            "Число 2753 в квадрате 7579009, это не больше, чем 32452543\n",
            "Число 2754 в квадрате 7584516, это не больше, чем 32452543\n",
            "Число 2755 в квадрате 7590025, это не больше, чем 32452543\n",
            "Число 2756 в квадрате 7595536, это не больше, чем 32452543\n",
            "Число 2757 в квадрате 7601049, это не больше, чем 32452543\n",
            "Число 2758 в квадрате 7606564, это не больше, чем 32452543\n",
            "Число 2759 в квадрате 7612081, это не больше, чем 32452543\n",
            "Число 2760 в квадрате 7617600, это не больше, чем 32452543\n",
            "Число 2761 в квадрате 7623121, это не больше, чем 32452543\n",
            "Число 2762 в квадрате 7628644, это не больше, чем 32452543\n",
            "Число 2763 в квадрате 7634169, это не больше, чем 32452543\n",
            "Число 2764 в квадрате 7639696, это не больше, чем 32452543\n",
            "Число 2765 в квадрате 7645225, это не больше, чем 32452543\n",
            "Число 2766 в квадрате 7650756, это не больше, чем 32452543\n",
            "Число 2767 в квадрате 7656289, это не больше, чем 32452543\n",
            "Число 2768 в квадрате 7661824, это не больше, чем 32452543\n",
            "Число 2769 в квадрате 7667361, это не больше, чем 32452543\n",
            "Число 2770 в квадрате 7672900, это не больше, чем 32452543\n",
            "Число 2771 в квадрате 7678441, это не больше, чем 32452543\n",
            "Число 2772 в квадрате 7683984, это не больше, чем 32452543\n",
            "Число 2773 в квадрате 7689529, это не больше, чем 32452543\n",
            "Число 2774 в квадрате 7695076, это не больше, чем 32452543\n",
            "Число 2775 в квадрате 7700625, это не больше, чем 32452543\n",
            "Число 2776 в квадрате 7706176, это не больше, чем 32452543\n",
            "Число 2777 в квадрате 7711729, это не больше, чем 32452543\n",
            "Число 2778 в квадрате 7717284, это не больше, чем 32452543\n",
            "Число 2779 в квадрате 7722841, это не больше, чем 32452543\n",
            "Число 2780 в квадрате 7728400, это не больше, чем 32452543\n",
            "Число 2781 в квадрате 7733961, это не больше, чем 32452543\n",
            "Число 2782 в квадрате 7739524, это не больше, чем 32452543\n",
            "Число 2783 в квадрате 7745089, это не больше, чем 32452543\n",
            "Число 2784 в квадрате 7750656, это не больше, чем 32452543\n",
            "Число 2785 в квадрате 7756225, это не больше, чем 32452543\n",
            "Число 2786 в квадрате 7761796, это не больше, чем 32452543\n",
            "Число 2787 в квадрате 7767369, это не больше, чем 32452543\n",
            "Число 2788 в квадрате 7772944, это не больше, чем 32452543\n",
            "Число 2789 в квадрате 7778521, это не больше, чем 32452543\n",
            "Число 2790 в квадрате 7784100, это не больше, чем 32452543\n",
            "Число 2791 в квадрате 7789681, это не больше, чем 32452543\n",
            "Число 2792 в квадрате 7795264, это не больше, чем 32452543\n",
            "Число 2793 в квадрате 7800849, это не больше, чем 32452543\n",
            "Число 2794 в квадрате 7806436, это не больше, чем 32452543\n",
            "Число 2795 в квадрате 7812025, это не больше, чем 32452543\n",
            "Число 2796 в квадрате 7817616, это не больше, чем 32452543\n",
            "Число 2797 в квадрате 7823209, это не больше, чем 32452543\n",
            "Число 2798 в квадрате 7828804, это не больше, чем 32452543\n",
            "Число 2799 в квадрате 7834401, это не больше, чем 32452543\n",
            "Число 2800 в квадрате 7840000, это не больше, чем 32452543\n",
            "Число 2801 в квадрате 7845601, это не больше, чем 32452543\n",
            "Число 2802 в квадрате 7851204, это не больше, чем 32452543\n",
            "Число 2803 в квадрате 7856809, это не больше, чем 32452543\n",
            "Число 2804 в квадрате 7862416, это не больше, чем 32452543\n",
            "Число 2805 в квадрате 7868025, это не больше, чем 32452543\n",
            "Число 2806 в квадрате 7873636, это не больше, чем 32452543\n",
            "Число 2807 в квадрате 7879249, это не больше, чем 32452543\n",
            "Число 2808 в квадрате 7884864, это не больше, чем 32452543\n",
            "Число 2809 в квадрате 7890481, это не больше, чем 32452543\n",
            "Число 2810 в квадрате 7896100, это не больше, чем 32452543\n",
            "Число 2811 в квадрате 7901721, это не больше, чем 32452543\n",
            "Число 2812 в квадрате 7907344, это не больше, чем 32452543\n",
            "Число 2813 в квадрате 7912969, это не больше, чем 32452543\n",
            "Число 2814 в квадрате 7918596, это не больше, чем 32452543\n",
            "Число 2815 в квадрате 7924225, это не больше, чем 32452543\n",
            "Число 2816 в квадрате 7929856, это не больше, чем 32452543\n",
            "Число 2817 в квадрате 7935489, это не больше, чем 32452543\n",
            "Число 2818 в квадрате 7941124, это не больше, чем 32452543\n",
            "Число 2819 в квадрате 7946761, это не больше, чем 32452543\n",
            "Число 2820 в квадрате 7952400, это не больше, чем 32452543\n",
            "Число 2821 в квадрате 7958041, это не больше, чем 32452543\n",
            "Число 2822 в квадрате 7963684, это не больше, чем 32452543\n",
            "Число 2823 в квадрате 7969329, это не больше, чем 32452543\n",
            "Число 2824 в квадрате 7974976, это не больше, чем 32452543\n",
            "Число 2825 в квадрате 7980625, это не больше, чем 32452543\n",
            "Число 2826 в квадрате 7986276, это не больше, чем 32452543\n",
            "Число 2827 в квадрате 7991929, это не больше, чем 32452543\n",
            "Число 2828 в квадрате 7997584, это не больше, чем 32452543\n",
            "Число 2829 в квадрате 8003241, это не больше, чем 32452543\n",
            "Число 2830 в квадрате 8008900, это не больше, чем 32452543\n",
            "Число 2831 в квадрате 8014561, это не больше, чем 32452543\n",
            "Число 2832 в квадрате 8020224, это не больше, чем 32452543\n",
            "Число 2833 в квадрате 8025889, это не больше, чем 32452543\n",
            "Число 2834 в квадрате 8031556, это не больше, чем 32452543\n",
            "Число 2835 в квадрате 8037225, это не больше, чем 32452543\n",
            "Число 2836 в квадрате 8042896, это не больше, чем 32452543\n",
            "Число 2837 в квадрате 8048569, это не больше, чем 32452543\n",
            "Число 2838 в квадрате 8054244, это не больше, чем 32452543\n",
            "Число 2839 в квадрате 8059921, это не больше, чем 32452543\n",
            "Число 2840 в квадрате 8065600, это не больше, чем 32452543\n",
            "Число 2841 в квадрате 8071281, это не больше, чем 32452543\n",
            "Число 2842 в квадрате 8076964, это не больше, чем 32452543\n",
            "Число 2843 в квадрате 8082649, это не больше, чем 32452543\n",
            "Число 2844 в квадрате 8088336, это не больше, чем 32452543\n",
            "Число 2845 в квадрате 8094025, это не больше, чем 32452543\n",
            "Число 2846 в квадрате 8099716, это не больше, чем 32452543\n",
            "Число 2847 в квадрате 8105409, это не больше, чем 32452543\n",
            "Число 2848 в квадрате 8111104, это не больше, чем 32452543\n",
            "Число 2849 в квадрате 8116801, это не больше, чем 32452543\n",
            "Число 2850 в квадрате 8122500, это не больше, чем 32452543\n",
            "Число 2851 в квадрате 8128201, это не больше, чем 32452543\n",
            "Число 2852 в квадрате 8133904, это не больше, чем 32452543\n",
            "Число 2853 в квадрате 8139609, это не больше, чем 32452543\n",
            "Число 2854 в квадрате 8145316, это не больше, чем 32452543\n",
            "Число 2855 в квадрате 8151025, это не больше, чем 32452543\n",
            "Число 2856 в квадрате 8156736, это не больше, чем 32452543\n",
            "Число 2857 в квадрате 8162449, это не больше, чем 32452543\n",
            "Число 2858 в квадрате 8168164, это не больше, чем 32452543\n",
            "Число 2859 в квадрате 8173881, это не больше, чем 32452543\n",
            "Число 2860 в квадрате 8179600, это не больше, чем 32452543\n",
            "Число 2861 в квадрате 8185321, это не больше, чем 32452543\n",
            "Число 2862 в квадрате 8191044, это не больше, чем 32452543\n",
            "Число 2863 в квадрате 8196769, это не больше, чем 32452543\n",
            "Число 2864 в квадрате 8202496, это не больше, чем 32452543\n",
            "Число 2865 в квадрате 8208225, это не больше, чем 32452543\n",
            "Число 2866 в квадрате 8213956, это не больше, чем 32452543\n",
            "Число 2867 в квадрате 8219689, это не больше, чем 32452543\n",
            "Число 2868 в квадрате 8225424, это не больше, чем 32452543\n",
            "Число 2869 в квадрате 8231161, это не больше, чем 32452543\n",
            "Число 2870 в квадрате 8236900, это не больше, чем 32452543\n",
            "Число 2871 в квадрате 8242641, это не больше, чем 32452543\n",
            "Число 2872 в квадрате 8248384, это не больше, чем 32452543\n",
            "Число 2873 в квадрате 8254129, это не больше, чем 32452543\n",
            "Число 2874 в квадрате 8259876, это не больше, чем 32452543\n",
            "Число 2875 в квадрате 8265625, это не больше, чем 32452543\n",
            "Число 2876 в квадрате 8271376, это не больше, чем 32452543\n",
            "Число 2877 в квадрате 8277129, это не больше, чем 32452543\n",
            "Число 2878 в квадрате 8282884, это не больше, чем 32452543\n",
            "Число 2879 в квадрате 8288641, это не больше, чем 32452543\n",
            "Число 2880 в квадрате 8294400, это не больше, чем 32452543\n",
            "Число 2881 в квадрате 8300161, это не больше, чем 32452543\n",
            "Число 2882 в квадрате 8305924, это не больше, чем 32452543\n",
            "Число 2883 в квадрате 8311689, это не больше, чем 32452543\n",
            "Число 2884 в квадрате 8317456, это не больше, чем 32452543\n",
            "Число 2885 в квадрате 8323225, это не больше, чем 32452543\n",
            "Число 2886 в квадрате 8328996, это не больше, чем 32452543\n",
            "Число 2887 в квадрате 8334769, это не больше, чем 32452543\n",
            "Число 2888 в квадрате 8340544, это не больше, чем 32452543\n",
            "Число 2889 в квадрате 8346321, это не больше, чем 32452543\n",
            "Число 2890 в квадрате 8352100, это не больше, чем 32452543\n",
            "Число 2891 в квадрате 8357881, это не больше, чем 32452543\n",
            "Число 2892 в квадрате 8363664, это не больше, чем 32452543\n",
            "Число 2893 в квадрате 8369449, это не больше, чем 32452543\n",
            "Число 2894 в квадрате 8375236, это не больше, чем 32452543\n",
            "Число 2895 в квадрате 8381025, это не больше, чем 32452543\n",
            "Число 2896 в квадрате 8386816, это не больше, чем 32452543\n",
            "Число 2897 в квадрате 8392609, это не больше, чем 32452543\n",
            "Число 2898 в квадрате 8398404, это не больше, чем 32452543\n",
            "Число 2899 в квадрате 8404201, это не больше, чем 32452543\n",
            "Число 2900 в квадрате 8410000, это не больше, чем 32452543\n",
            "Число 2901 в квадрате 8415801, это не больше, чем 32452543\n",
            "Число 2902 в квадрате 8421604, это не больше, чем 32452543\n",
            "Число 2903 в квадрате 8427409, это не больше, чем 32452543\n",
            "Число 2904 в квадрате 8433216, это не больше, чем 32452543\n",
            "Число 2905 в квадрате 8439025, это не больше, чем 32452543\n",
            "Число 2906 в квадрате 8444836, это не больше, чем 32452543\n",
            "Число 2907 в квадрате 8450649, это не больше, чем 32452543\n",
            "Число 2908 в квадрате 8456464, это не больше, чем 32452543\n",
            "Число 2909 в квадрате 8462281, это не больше, чем 32452543\n",
            "Число 2910 в квадрате 8468100, это не больше, чем 32452543\n",
            "Число 2911 в квадрате 8473921, это не больше, чем 32452543\n",
            "Число 2912 в квадрате 8479744, это не больше, чем 32452543\n",
            "Число 2913 в квадрате 8485569, это не больше, чем 32452543\n",
            "Число 2914 в квадрате 8491396, это не больше, чем 32452543\n",
            "Число 2915 в квадрате 8497225, это не больше, чем 32452543\n",
            "Число 2916 в квадрате 8503056, это не больше, чем 32452543\n",
            "Число 2917 в квадрате 8508889, это не больше, чем 32452543\n",
            "Число 2918 в квадрате 8514724, это не больше, чем 32452543\n",
            "Число 2919 в квадрате 8520561, это не больше, чем 32452543\n",
            "Число 2920 в квадрате 8526400, это не больше, чем 32452543\n",
            "Число 2921 в квадрате 8532241, это не больше, чем 32452543\n",
            "Число 2922 в квадрате 8538084, это не больше, чем 32452543\n",
            "Число 2923 в квадрате 8543929, это не больше, чем 32452543\n",
            "Число 2924 в квадрате 8549776, это не больше, чем 32452543\n",
            "Число 2925 в квадрате 8555625, это не больше, чем 32452543\n",
            "Число 2926 в квадрате 8561476, это не больше, чем 32452543\n",
            "Число 2927 в квадрате 8567329, это не больше, чем 32452543\n",
            "Число 2928 в квадрате 8573184, это не больше, чем 32452543\n",
            "Число 2929 в квадрате 8579041, это не больше, чем 32452543\n",
            "Число 2930 в квадрате 8584900, это не больше, чем 32452543\n",
            "Число 2931 в квадрате 8590761, это не больше, чем 32452543\n",
            "Число 2932 в квадрате 8596624, это не больше, чем 32452543\n",
            "Число 2933 в квадрате 8602489, это не больше, чем 32452543\n",
            "Число 2934 в квадрате 8608356, это не больше, чем 32452543\n",
            "Число 2935 в квадрате 8614225, это не больше, чем 32452543\n",
            "Число 2936 в квадрате 8620096, это не больше, чем 32452543\n",
            "Число 2937 в квадрате 8625969, это не больше, чем 32452543\n",
            "Число 2938 в квадрате 8631844, это не больше, чем 32452543\n",
            "Число 2939 в квадрате 8637721, это не больше, чем 32452543\n",
            "Число 2940 в квадрате 8643600, это не больше, чем 32452543\n",
            "Число 2941 в квадрате 8649481, это не больше, чем 32452543\n",
            "Число 2942 в квадрате 8655364, это не больше, чем 32452543\n",
            "Число 2943 в квадрате 8661249, это не больше, чем 32452543\n",
            "Число 2944 в квадрате 8667136, это не больше, чем 32452543\n",
            "Число 2945 в квадрате 8673025, это не больше, чем 32452543\n",
            "Число 2946 в квадрате 8678916, это не больше, чем 32452543\n",
            "Число 2947 в квадрате 8684809, это не больше, чем 32452543\n",
            "Число 2948 в квадрате 8690704, это не больше, чем 32452543\n",
            "Число 2949 в квадрате 8696601, это не больше, чем 32452543\n",
            "Число 2950 в квадрате 8702500, это не больше, чем 32452543\n",
            "Число 2951 в квадрате 8708401, это не больше, чем 32452543\n",
            "Число 2952 в квадрате 8714304, это не больше, чем 32452543\n",
            "Число 2953 в квадрате 8720209, это не больше, чем 32452543\n",
            "Число 2954 в квадрате 8726116, это не больше, чем 32452543\n",
            "Число 2955 в квадрате 8732025, это не больше, чем 32452543\n",
            "Число 2956 в квадрате 8737936, это не больше, чем 32452543\n",
            "Число 2957 в квадрате 8743849, это не больше, чем 32452543\n",
            "Число 2958 в квадрате 8749764, это не больше, чем 32452543\n",
            "Число 2959 в квадрате 8755681, это не больше, чем 32452543\n",
            "Число 2960 в квадрате 8761600, это не больше, чем 32452543\n",
            "Число 2961 в квадрате 8767521, это не больше, чем 32452543\n",
            "Число 2962 в квадрате 8773444, это не больше, чем 32452543\n",
            "Число 2963 в квадрате 8779369, это не больше, чем 32452543\n",
            "Число 2964 в квадрате 8785296, это не больше, чем 32452543\n",
            "Число 2965 в квадрате 8791225, это не больше, чем 32452543\n",
            "Число 2966 в квадрате 8797156, это не больше, чем 32452543\n",
            "Число 2967 в квадрате 8803089, это не больше, чем 32452543\n",
            "Число 2968 в квадрате 8809024, это не больше, чем 32452543\n",
            "Число 2969 в квадрате 8814961, это не больше, чем 32452543\n",
            "Число 2970 в квадрате 8820900, это не больше, чем 32452543\n",
            "Число 2971 в квадрате 8826841, это не больше, чем 32452543\n",
            "Число 2972 в квадрате 8832784, это не больше, чем 32452543\n",
            "Число 2973 в квадрате 8838729, это не больше, чем 32452543\n",
            "Число 2974 в квадрате 8844676, это не больше, чем 32452543\n",
            "Число 2975 в квадрате 8850625, это не больше, чем 32452543\n",
            "Число 2976 в квадрате 8856576, это не больше, чем 32452543\n",
            "Число 2977 в квадрате 8862529, это не больше, чем 32452543\n",
            "Число 2978 в квадрате 8868484, это не больше, чем 32452543\n",
            "Число 2979 в квадрате 8874441, это не больше, чем 32452543\n",
            "Число 2980 в квадрате 8880400, это не больше, чем 32452543\n",
            "Число 2981 в квадрате 8886361, это не больше, чем 32452543\n",
            "Число 2982 в квадрате 8892324, это не больше, чем 32452543\n",
            "Число 2983 в квадрате 8898289, это не больше, чем 32452543\n",
            "Число 2984 в квадрате 8904256, это не больше, чем 32452543\n",
            "Число 2985 в квадрате 8910225, это не больше, чем 32452543\n",
            "Число 2986 в квадрате 8916196, это не больше, чем 32452543\n",
            "Число 2987 в квадрате 8922169, это не больше, чем 32452543\n",
            "Число 2988 в квадрате 8928144, это не больше, чем 32452543\n",
            "Число 2989 в квадрате 8934121, это не больше, чем 32452543\n",
            "Число 2990 в квадрате 8940100, это не больше, чем 32452543\n",
            "Число 2991 в квадрате 8946081, это не больше, чем 32452543\n",
            "Число 2992 в квадрате 8952064, это не больше, чем 32452543\n",
            "Число 2993 в квадрате 8958049, это не больше, чем 32452543\n",
            "Число 2994 в квадрате 8964036, это не больше, чем 32452543\n",
            "Число 2995 в квадрате 8970025, это не больше, чем 32452543\n",
            "Число 2996 в квадрате 8976016, это не больше, чем 32452543\n",
            "Число 2997 в квадрате 8982009, это не больше, чем 32452543\n",
            "Число 2998 в квадрате 8988004, это не больше, чем 32452543\n",
            "Число 2999 в квадрате 8994001, это не больше, чем 32452543\n",
            "Число 3000 в квадрате 9000000, это не больше, чем 32452543\n",
            "Число 3001 в квадрате 9006001, это не больше, чем 32452543\n",
            "Число 3002 в квадрате 9012004, это не больше, чем 32452543\n",
            "Число 3003 в квадрате 9018009, это не больше, чем 32452543\n",
            "Число 3004 в квадрате 9024016, это не больше, чем 32452543\n",
            "Число 3005 в квадрате 9030025, это не больше, чем 32452543\n",
            "Число 3006 в квадрате 9036036, это не больше, чем 32452543\n",
            "Число 3007 в квадрате 9042049, это не больше, чем 32452543\n",
            "Число 3008 в квадрате 9048064, это не больше, чем 32452543\n",
            "Число 3009 в квадрате 9054081, это не больше, чем 32452543\n",
            "Число 3010 в квадрате 9060100, это не больше, чем 32452543\n",
            "Число 3011 в квадрате 9066121, это не больше, чем 32452543\n",
            "Число 3012 в квадрате 9072144, это не больше, чем 32452543\n",
            "Число 3013 в квадрате 9078169, это не больше, чем 32452543\n",
            "Число 3014 в квадрате 9084196, это не больше, чем 32452543\n",
            "Число 3015 в квадрате 9090225, это не больше, чем 32452543\n",
            "Число 3016 в квадрате 9096256, это не больше, чем 32452543\n",
            "Число 3017 в квадрате 9102289, это не больше, чем 32452543\n",
            "Число 3018 в квадрате 9108324, это не больше, чем 32452543\n",
            "Число 3019 в квадрате 9114361, это не больше, чем 32452543\n",
            "Число 3020 в квадрате 9120400, это не больше, чем 32452543\n",
            "Число 3021 в квадрате 9126441, это не больше, чем 32452543\n",
            "Число 3022 в квадрате 9132484, это не больше, чем 32452543\n",
            "Число 3023 в квадрате 9138529, это не больше, чем 32452543\n",
            "Число 3024 в квадрате 9144576, это не больше, чем 32452543\n",
            "Число 3025 в квадрате 9150625, это не больше, чем 32452543\n",
            "Число 3026 в квадрате 9156676, это не больше, чем 32452543\n",
            "Число 3027 в квадрате 9162729, это не больше, чем 32452543\n",
            "Число 3028 в квадрате 9168784, это не больше, чем 32452543\n",
            "Число 3029 в квадрате 9174841, это не больше, чем 32452543\n",
            "Число 3030 в квадрате 9180900, это не больше, чем 32452543\n",
            "Число 3031 в квадрате 9186961, это не больше, чем 32452543\n",
            "Число 3032 в квадрате 9193024, это не больше, чем 32452543\n",
            "Число 3033 в квадрате 9199089, это не больше, чем 32452543\n",
            "Число 3034 в квадрате 9205156, это не больше, чем 32452543\n",
            "Число 3035 в квадрате 9211225, это не больше, чем 32452543\n",
            "Число 3036 в квадрате 9217296, это не больше, чем 32452543\n",
            "Число 3037 в квадрате 9223369, это не больше, чем 32452543\n",
            "Число 3038 в квадрате 9229444, это не больше, чем 32452543\n",
            "Число 3039 в квадрате 9235521, это не больше, чем 32452543\n",
            "Число 3040 в квадрате 9241600, это не больше, чем 32452543\n",
            "Число 3041 в квадрате 9247681, это не больше, чем 32452543\n",
            "Число 3042 в квадрате 9253764, это не больше, чем 32452543\n",
            "Число 3043 в квадрате 9259849, это не больше, чем 32452543\n",
            "Число 3044 в квадрате 9265936, это не больше, чем 32452543\n",
            "Число 3045 в квадрате 9272025, это не больше, чем 32452543\n",
            "Число 3046 в квадрате 9278116, это не больше, чем 32452543\n",
            "Число 3047 в квадрате 9284209, это не больше, чем 32452543\n",
            "Число 3048 в квадрате 9290304, это не больше, чем 32452543\n",
            "Число 3049 в квадрате 9296401, это не больше, чем 32452543\n",
            "Число 3050 в квадрате 9302500, это не больше, чем 32452543\n",
            "Число 3051 в квадрате 9308601, это не больше, чем 32452543\n",
            "Число 3052 в квадрате 9314704, это не больше, чем 32452543\n",
            "Число 3053 в квадрате 9320809, это не больше, чем 32452543\n",
            "Число 3054 в квадрате 9326916, это не больше, чем 32452543\n",
            "Число 3055 в квадрате 9333025, это не больше, чем 32452543\n",
            "Число 3056 в квадрате 9339136, это не больше, чем 32452543\n",
            "Число 3057 в квадрате 9345249, это не больше, чем 32452543\n",
            "Число 3058 в квадрате 9351364, это не больше, чем 32452543\n",
            "Число 3059 в квадрате 9357481, это не больше, чем 32452543\n",
            "Число 3060 в квадрате 9363600, это не больше, чем 32452543\n",
            "Число 3061 в квадрате 9369721, это не больше, чем 32452543\n",
            "Число 3062 в квадрате 9375844, это не больше, чем 32452543\n",
            "Число 3063 в квадрате 9381969, это не больше, чем 32452543\n",
            "Число 3064 в квадрате 9388096, это не больше, чем 32452543\n",
            "Число 3065 в квадрате 9394225, это не больше, чем 32452543\n",
            "Число 3066 в квадрате 9400356, это не больше, чем 32452543\n",
            "Число 3067 в квадрате 9406489, это не больше, чем 32452543\n",
            "Число 3068 в квадрате 9412624, это не больше, чем 32452543\n",
            "Число 3069 в квадрате 9418761, это не больше, чем 32452543\n",
            "Число 3070 в квадрате 9424900, это не больше, чем 32452543\n",
            "Число 3071 в квадрате 9431041, это не больше, чем 32452543\n",
            "Число 3072 в квадрате 9437184, это не больше, чем 32452543\n",
            "Число 3073 в квадрате 9443329, это не больше, чем 32452543\n",
            "Число 3074 в квадрате 9449476, это не больше, чем 32452543\n",
            "Число 3075 в квадрате 9455625, это не больше, чем 32452543\n",
            "Число 3076 в квадрате 9461776, это не больше, чем 32452543\n",
            "Число 3077 в квадрате 9467929, это не больше, чем 32452543\n",
            "Число 3078 в квадрате 9474084, это не больше, чем 32452543\n",
            "Число 3079 в квадрате 9480241, это не больше, чем 32452543\n",
            "Число 3080 в квадрате 9486400, это не больше, чем 32452543\n",
            "Число 3081 в квадрате 9492561, это не больше, чем 32452543\n",
            "Число 3082 в квадрате 9498724, это не больше, чем 32452543\n",
            "Число 3083 в квадрате 9504889, это не больше, чем 32452543\n",
            "Число 3084 в квадрате 9511056, это не больше, чем 32452543\n",
            "Число 3085 в квадрате 9517225, это не больше, чем 32452543\n",
            "Число 3086 в квадрате 9523396, это не больше, чем 32452543\n",
            "Число 3087 в квадрате 9529569, это не больше, чем 32452543\n",
            "Число 3088 в квадрате 9535744, это не больше, чем 32452543\n",
            "Число 3089 в квадрате 9541921, это не больше, чем 32452543\n",
            "Число 3090 в квадрате 9548100, это не больше, чем 32452543\n",
            "Число 3091 в квадрате 9554281, это не больше, чем 32452543\n",
            "Число 3092 в квадрате 9560464, это не больше, чем 32452543\n",
            "Число 3093 в квадрате 9566649, это не больше, чем 32452543\n",
            "Число 3094 в квадрате 9572836, это не больше, чем 32452543\n",
            "Число 3095 в квадрате 9579025, это не больше, чем 32452543\n",
            "Число 3096 в квадрате 9585216, это не больше, чем 32452543\n",
            "Число 3097 в квадрате 9591409, это не больше, чем 32452543\n",
            "Число 3098 в квадрате 9597604, это не больше, чем 32452543\n",
            "Число 3099 в квадрате 9603801, это не больше, чем 32452543\n",
            "Число 3100 в квадрате 9610000, это не больше, чем 32452543\n",
            "Число 3101 в квадрате 9616201, это не больше, чем 32452543\n",
            "Число 3102 в квадрате 9622404, это не больше, чем 32452543\n",
            "Число 3103 в квадрате 9628609, это не больше, чем 32452543\n",
            "Число 3104 в квадрате 9634816, это не больше, чем 32452543\n",
            "Число 3105 в квадрате 9641025, это не больше, чем 32452543\n",
            "Число 3106 в квадрате 9647236, это не больше, чем 32452543\n",
            "Число 3107 в квадрате 9653449, это не больше, чем 32452543\n",
            "Число 3108 в квадрате 9659664, это не больше, чем 32452543\n",
            "Число 3109 в квадрате 9665881, это не больше, чем 32452543\n",
            "Число 3110 в квадрате 9672100, это не больше, чем 32452543\n",
            "Число 3111 в квадрате 9678321, это не больше, чем 32452543\n",
            "Число 3112 в квадрате 9684544, это не больше, чем 32452543\n",
            "Число 3113 в квадрате 9690769, это не больше, чем 32452543\n",
            "Число 3114 в квадрате 9696996, это не больше, чем 32452543\n",
            "Число 3115 в квадрате 9703225, это не больше, чем 32452543\n",
            "Число 3116 в квадрате 9709456, это не больше, чем 32452543\n",
            "Число 3117 в квадрате 9715689, это не больше, чем 32452543\n",
            "Число 3118 в квадрате 9721924, это не больше, чем 32452543\n",
            "Число 3119 в квадрате 9728161, это не больше, чем 32452543\n",
            "Число 3120 в квадрате 9734400, это не больше, чем 32452543\n",
            "Число 3121 в квадрате 9740641, это не больше, чем 32452543\n",
            "Число 3122 в квадрате 9746884, это не больше, чем 32452543\n",
            "Число 3123 в квадрате 9753129, это не больше, чем 32452543\n",
            "Число 3124 в квадрате 9759376, это не больше, чем 32452543\n",
            "Число 3125 в квадрате 9765625, это не больше, чем 32452543\n",
            "Число 3126 в квадрате 9771876, это не больше, чем 32452543\n",
            "Число 3127 в квадрате 9778129, это не больше, чем 32452543\n",
            "Число 3128 в квадрате 9784384, это не больше, чем 32452543\n",
            "Число 3129 в квадрате 9790641, это не больше, чем 32452543\n",
            "Число 3130 в квадрате 9796900, это не больше, чем 32452543\n",
            "Число 3131 в квадрате 9803161, это не больше, чем 32452543\n",
            "Число 3132 в квадрате 9809424, это не больше, чем 32452543\n",
            "Число 3133 в квадрате 9815689, это не больше, чем 32452543\n",
            "Число 3134 в квадрате 9821956, это не больше, чем 32452543\n",
            "Число 3135 в квадрате 9828225, это не больше, чем 32452543\n",
            "Число 3136 в квадрате 9834496, это не больше, чем 32452543\n",
            "Число 3137 в квадрате 9840769, это не больше, чем 32452543\n",
            "Число 3138 в квадрате 9847044, это не больше, чем 32452543\n",
            "Число 3139 в квадрате 9853321, это не больше, чем 32452543\n",
            "Число 3140 в квадрате 9859600, это не больше, чем 32452543\n",
            "Число 3141 в квадрате 9865881, это не больше, чем 32452543\n",
            "Число 3142 в квадрате 9872164, это не больше, чем 32452543\n",
            "Число 3143 в квадрате 9878449, это не больше, чем 32452543\n",
            "Число 3144 в квадрате 9884736, это не больше, чем 32452543\n",
            "Число 3145 в квадрате 9891025, это не больше, чем 32452543\n",
            "Число 3146 в квадрате 9897316, это не больше, чем 32452543\n",
            "Число 3147 в квадрате 9903609, это не больше, чем 32452543\n",
            "Число 3148 в квадрате 9909904, это не больше, чем 32452543\n",
            "Число 3149 в квадрате 9916201, это не больше, чем 32452543\n",
            "Число 3150 в квадрате 9922500, это не больше, чем 32452543\n",
            "Число 3151 в квадрате 9928801, это не больше, чем 32452543\n",
            "Число 3152 в квадрате 9935104, это не больше, чем 32452543\n",
            "Число 3153 в квадрате 9941409, это не больше, чем 32452543\n",
            "Число 3154 в квадрате 9947716, это не больше, чем 32452543\n",
            "Число 3155 в квадрате 9954025, это не больше, чем 32452543\n",
            "Число 3156 в квадрате 9960336, это не больше, чем 32452543\n",
            "Число 3157 в квадрате 9966649, это не больше, чем 32452543\n",
            "Число 3158 в квадрате 9972964, это не больше, чем 32452543\n",
            "Число 3159 в квадрате 9979281, это не больше, чем 32452543\n",
            "Число 3160 в квадрате 9985600, это не больше, чем 32452543\n",
            "Число 3161 в квадрате 9991921, это не больше, чем 32452543\n",
            "Число 3162 в квадрате 9998244, это не больше, чем 32452543\n",
            "Число 3163 в квадрате 10004569, это не больше, чем 32452543\n",
            "Число 3164 в квадрате 10010896, это не больше, чем 32452543\n",
            "Число 3165 в квадрате 10017225, это не больше, чем 32452543\n",
            "Число 3166 в квадрате 10023556, это не больше, чем 32452543\n",
            "Число 3167 в квадрате 10029889, это не больше, чем 32452543\n",
            "Число 3168 в квадрате 10036224, это не больше, чем 32452543\n",
            "Число 3169 в квадрате 10042561, это не больше, чем 32452543\n",
            "Число 3170 в квадрате 10048900, это не больше, чем 32452543\n",
            "Число 3171 в квадрате 10055241, это не больше, чем 32452543\n",
            "Число 3172 в квадрате 10061584, это не больше, чем 32452543\n",
            "Число 3173 в квадрате 10067929, это не больше, чем 32452543\n",
            "Число 3174 в квадрате 10074276, это не больше, чем 32452543\n",
            "Число 3175 в квадрате 10080625, это не больше, чем 32452543\n",
            "Число 3176 в квадрате 10086976, это не больше, чем 32452543\n",
            "Число 3177 в квадрате 10093329, это не больше, чем 32452543\n",
            "Число 3178 в квадрате 10099684, это не больше, чем 32452543\n",
            "Число 3179 в квадрате 10106041, это не больше, чем 32452543\n",
            "Число 3180 в квадрате 10112400, это не больше, чем 32452543\n",
            "Число 3181 в квадрате 10118761, это не больше, чем 32452543\n",
            "Число 3182 в квадрате 10125124, это не больше, чем 32452543\n",
            "Число 3183 в квадрате 10131489, это не больше, чем 32452543\n",
            "Число 3184 в квадрате 10137856, это не больше, чем 32452543\n",
            "Число 3185 в квадрате 10144225, это не больше, чем 32452543\n",
            "Число 3186 в квадрате 10150596, это не больше, чем 32452543\n",
            "Число 3187 в квадрате 10156969, это не больше, чем 32452543\n",
            "Число 3188 в квадрате 10163344, это не больше, чем 32452543\n",
            "Число 3189 в квадрате 10169721, это не больше, чем 32452543\n",
            "Число 3190 в квадрате 10176100, это не больше, чем 32452543\n",
            "Число 3191 в квадрате 10182481, это не больше, чем 32452543\n",
            "Число 3192 в квадрате 10188864, это не больше, чем 32452543\n",
            "Число 3193 в квадрате 10195249, это не больше, чем 32452543\n",
            "Число 3194 в квадрате 10201636, это не больше, чем 32452543\n",
            "Число 3195 в квадрате 10208025, это не больше, чем 32452543\n",
            "Число 3196 в квадрате 10214416, это не больше, чем 32452543\n",
            "Число 3197 в квадрате 10220809, это не больше, чем 32452543\n",
            "Число 3198 в квадрате 10227204, это не больше, чем 32452543\n",
            "Число 3199 в квадрате 10233601, это не больше, чем 32452543\n",
            "Число 3200 в квадрате 10240000, это не больше, чем 32452543\n",
            "Число 3201 в квадрате 10246401, это не больше, чем 32452543\n",
            "Число 3202 в квадрате 10252804, это не больше, чем 32452543\n",
            "Число 3203 в квадрате 10259209, это не больше, чем 32452543\n",
            "Число 3204 в квадрате 10265616, это не больше, чем 32452543\n",
            "Число 3205 в квадрате 10272025, это не больше, чем 32452543\n",
            "Число 3206 в квадрате 10278436, это не больше, чем 32452543\n",
            "Число 3207 в квадрате 10284849, это не больше, чем 32452543\n",
            "Число 3208 в квадрате 10291264, это не больше, чем 32452543\n",
            "Число 3209 в квадрате 10297681, это не больше, чем 32452543\n",
            "Число 3210 в квадрате 10304100, это не больше, чем 32452543\n",
            "Число 3211 в квадрате 10310521, это не больше, чем 32452543\n",
            "Число 3212 в квадрате 10316944, это не больше, чем 32452543\n",
            "Число 3213 в квадрате 10323369, это не больше, чем 32452543\n",
            "Число 3214 в квадрате 10329796, это не больше, чем 32452543\n",
            "Число 3215 в квадрате 10336225, это не больше, чем 32452543\n",
            "Число 3216 в квадрате 10342656, это не больше, чем 32452543\n",
            "Число 3217 в квадрате 10349089, это не больше, чем 32452543\n",
            "Число 3218 в квадрате 10355524, это не больше, чем 32452543\n",
            "Число 3219 в квадрате 10361961, это не больше, чем 32452543\n",
            "Число 3220 в квадрате 10368400, это не больше, чем 32452543\n",
            "Число 3221 в квадрате 10374841, это не больше, чем 32452543\n",
            "Число 3222 в квадрате 10381284, это не больше, чем 32452543\n",
            "Число 3223 в квадрате 10387729, это не больше, чем 32452543\n",
            "Число 3224 в квадрате 10394176, это не больше, чем 32452543\n",
            "Число 3225 в квадрате 10400625, это не больше, чем 32452543\n",
            "Число 3226 в квадрате 10407076, это не больше, чем 32452543\n",
            "Число 3227 в квадрате 10413529, это не больше, чем 32452543\n",
            "Число 3228 в квадрате 10419984, это не больше, чем 32452543\n",
            "Число 3229 в квадрате 10426441, это не больше, чем 32452543\n",
            "Число 3230 в квадрате 10432900, это не больше, чем 32452543\n",
            "Число 3231 в квадрате 10439361, это не больше, чем 32452543\n",
            "Число 3232 в квадрате 10445824, это не больше, чем 32452543\n",
            "Число 3233 в квадрате 10452289, это не больше, чем 32452543\n",
            "Число 3234 в квадрате 10458756, это не больше, чем 32452543\n",
            "Число 3235 в квадрате 10465225, это не больше, чем 32452543\n",
            "Число 3236 в квадрате 10471696, это не больше, чем 32452543\n",
            "Число 3237 в квадрате 10478169, это не больше, чем 32452543\n",
            "Число 3238 в квадрате 10484644, это не больше, чем 32452543\n",
            "Число 3239 в квадрате 10491121, это не больше, чем 32452543\n",
            "Число 3240 в квадрате 10497600, это не больше, чем 32452543\n",
            "Число 3241 в квадрате 10504081, это не больше, чем 32452543\n",
            "Число 3242 в квадрате 10510564, это не больше, чем 32452543\n",
            "Число 3243 в квадрате 10517049, это не больше, чем 32452543\n",
            "Число 3244 в квадрате 10523536, это не больше, чем 32452543\n",
            "Число 3245 в квадрате 10530025, это не больше, чем 32452543\n",
            "Число 3246 в квадрате 10536516, это не больше, чем 32452543\n",
            "Число 3247 в квадрате 10543009, это не больше, чем 32452543\n",
            "Число 3248 в квадрате 10549504, это не больше, чем 32452543\n",
            "Число 3249 в квадрате 10556001, это не больше, чем 32452543\n",
            "Число 3250 в квадрате 10562500, это не больше, чем 32452543\n",
            "Число 3251 в квадрате 10569001, это не больше, чем 32452543\n",
            "Число 3252 в квадрате 10575504, это не больше, чем 32452543\n",
            "Число 3253 в квадрате 10582009, это не больше, чем 32452543\n",
            "Число 3254 в квадрате 10588516, это не больше, чем 32452543\n",
            "Число 3255 в квадрате 10595025, это не больше, чем 32452543\n",
            "Число 3256 в квадрате 10601536, это не больше, чем 32452543\n",
            "Число 3257 в квадрате 10608049, это не больше, чем 32452543\n",
            "Число 3258 в квадрате 10614564, это не больше, чем 32452543\n",
            "Число 3259 в квадрате 10621081, это не больше, чем 32452543\n",
            "Число 3260 в квадрате 10627600, это не больше, чем 32452543\n",
            "Число 3261 в квадрате 10634121, это не больше, чем 32452543\n",
            "Число 3262 в квадрате 10640644, это не больше, чем 32452543\n",
            "Число 3263 в квадрате 10647169, это не больше, чем 32452543\n",
            "Число 3264 в квадрате 10653696, это не больше, чем 32452543\n",
            "Число 3265 в квадрате 10660225, это не больше, чем 32452543\n",
            "Число 3266 в квадрате 10666756, это не больше, чем 32452543\n",
            "Число 3267 в квадрате 10673289, это не больше, чем 32452543\n",
            "Число 3268 в квадрате 10679824, это не больше, чем 32452543\n",
            "Число 3269 в квадрате 10686361, это не больше, чем 32452543\n",
            "Число 3270 в квадрате 10692900, это не больше, чем 32452543\n",
            "Число 3271 в квадрате 10699441, это не больше, чем 32452543\n",
            "Число 3272 в квадрате 10705984, это не больше, чем 32452543\n",
            "Число 3273 в квадрате 10712529, это не больше, чем 32452543\n",
            "Число 3274 в квадрате 10719076, это не больше, чем 32452543\n",
            "Число 3275 в квадрате 10725625, это не больше, чем 32452543\n",
            "Число 3276 в квадрате 10732176, это не больше, чем 32452543\n",
            "Число 3277 в квадрате 10738729, это не больше, чем 32452543\n",
            "Число 3278 в квадрате 10745284, это не больше, чем 32452543\n",
            "Число 3279 в квадрате 10751841, это не больше, чем 32452543\n",
            "Число 3280 в квадрате 10758400, это не больше, чем 32452543\n",
            "Число 3281 в квадрате 10764961, это не больше, чем 32452543\n",
            "Число 3282 в квадрате 10771524, это не больше, чем 32452543\n",
            "Число 3283 в квадрате 10778089, это не больше, чем 32452543\n",
            "Число 3284 в квадрате 10784656, это не больше, чем 32452543\n",
            "Число 3285 в квадрате 10791225, это не больше, чем 32452543\n",
            "Число 3286 в квадрате 10797796, это не больше, чем 32452543\n",
            "Число 3287 в квадрате 10804369, это не больше, чем 32452543\n",
            "Число 3288 в квадрате 10810944, это не больше, чем 32452543\n",
            "Число 3289 в квадрате 10817521, это не больше, чем 32452543\n",
            "Число 3290 в квадрате 10824100, это не больше, чем 32452543\n",
            "Число 3291 в квадрате 10830681, это не больше, чем 32452543\n",
            "Число 3292 в квадрате 10837264, это не больше, чем 32452543\n",
            "Число 3293 в квадрате 10843849, это не больше, чем 32452543\n",
            "Число 3294 в квадрате 10850436, это не больше, чем 32452543\n",
            "Число 3295 в квадрате 10857025, это не больше, чем 32452543\n",
            "Число 3296 в квадрате 10863616, это не больше, чем 32452543\n",
            "Число 3297 в квадрате 10870209, это не больше, чем 32452543\n",
            "Число 3298 в квадрате 10876804, это не больше, чем 32452543\n",
            "Число 3299 в квадрате 10883401, это не больше, чем 32452543\n",
            "Число 3300 в квадрате 10890000, это не больше, чем 32452543\n",
            "Число 3301 в квадрате 10896601, это не больше, чем 32452543\n",
            "Число 3302 в квадрате 10903204, это не больше, чем 32452543\n",
            "Число 3303 в квадрате 10909809, это не больше, чем 32452543\n",
            "Число 3304 в квадрате 10916416, это не больше, чем 32452543\n",
            "Число 3305 в квадрате 10923025, это не больше, чем 32452543\n",
            "Число 3306 в квадрате 10929636, это не больше, чем 32452543\n",
            "Число 3307 в квадрате 10936249, это не больше, чем 32452543\n",
            "Число 3308 в квадрате 10942864, это не больше, чем 32452543\n",
            "Число 3309 в квадрате 10949481, это не больше, чем 32452543\n",
            "Число 3310 в квадрате 10956100, это не больше, чем 32452543\n",
            "Число 3311 в квадрате 10962721, это не больше, чем 32452543\n",
            "Число 3312 в квадрате 10969344, это не больше, чем 32452543\n",
            "Число 3313 в квадрате 10975969, это не больше, чем 32452543\n",
            "Число 3314 в квадрате 10982596, это не больше, чем 32452543\n",
            "Число 3315 в квадрате 10989225, это не больше, чем 32452543\n",
            "Число 3316 в квадрате 10995856, это не больше, чем 32452543\n",
            "Число 3317 в квадрате 11002489, это не больше, чем 32452543\n",
            "Число 3318 в квадрате 11009124, это не больше, чем 32452543\n",
            "Число 3319 в квадрате 11015761, это не больше, чем 32452543\n",
            "Число 3320 в квадрате 11022400, это не больше, чем 32452543\n",
            "Число 3321 в квадрате 11029041, это не больше, чем 32452543\n",
            "Число 3322 в квадрате 11035684, это не больше, чем 32452543\n",
            "Число 3323 в квадрате 11042329, это не больше, чем 32452543\n",
            "Число 3324 в квадрате 11048976, это не больше, чем 32452543\n",
            "Число 3325 в квадрате 11055625, это не больше, чем 32452543\n",
            "Число 3326 в квадрате 11062276, это не больше, чем 32452543\n",
            "Число 3327 в квадрате 11068929, это не больше, чем 32452543\n",
            "Число 3328 в квадрате 11075584, это не больше, чем 32452543\n",
            "Число 3329 в квадрате 11082241, это не больше, чем 32452543\n",
            "Число 3330 в квадрате 11088900, это не больше, чем 32452543\n",
            "Число 3331 в квадрате 11095561, это не больше, чем 32452543\n",
            "Число 3332 в квадрате 11102224, это не больше, чем 32452543\n",
            "Число 3333 в квадрате 11108889, это не больше, чем 32452543\n",
            "Число 3334 в квадрате 11115556, это не больше, чем 32452543\n",
            "Число 3335 в квадрате 11122225, это не больше, чем 32452543\n",
            "Число 3336 в квадрате 11128896, это не больше, чем 32452543\n",
            "Число 3337 в квадрате 11135569, это не больше, чем 32452543\n",
            "Число 3338 в квадрате 11142244, это не больше, чем 32452543\n",
            "Число 3339 в квадрате 11148921, это не больше, чем 32452543\n",
            "Число 3340 в квадрате 11155600, это не больше, чем 32452543\n",
            "Число 3341 в квадрате 11162281, это не больше, чем 32452543\n",
            "Число 3342 в квадрате 11168964, это не больше, чем 32452543\n",
            "Число 3343 в квадрате 11175649, это не больше, чем 32452543\n",
            "Число 3344 в квадрате 11182336, это не больше, чем 32452543\n",
            "Число 3345 в квадрате 11189025, это не больше, чем 32452543\n",
            "Число 3346 в квадрате 11195716, это не больше, чем 32452543\n",
            "Число 3347 в квадрате 11202409, это не больше, чем 32452543\n",
            "Число 3348 в квадрате 11209104, это не больше, чем 32452543\n",
            "Число 3349 в квадрате 11215801, это не больше, чем 32452543\n",
            "Число 3350 в квадрате 11222500, это не больше, чем 32452543\n",
            "Число 3351 в квадрате 11229201, это не больше, чем 32452543\n",
            "Число 3352 в квадрате 11235904, это не больше, чем 32452543\n",
            "Число 3353 в квадрате 11242609, это не больше, чем 32452543\n",
            "Число 3354 в квадрате 11249316, это не больше, чем 32452543\n",
            "Число 3355 в квадрате 11256025, это не больше, чем 32452543\n",
            "Число 3356 в квадрате 11262736, это не больше, чем 32452543\n",
            "Число 3357 в квадрате 11269449, это не больше, чем 32452543\n",
            "Число 3358 в квадрате 11276164, это не больше, чем 32452543\n",
            "Число 3359 в квадрате 11282881, это не больше, чем 32452543\n",
            "Число 3360 в квадрате 11289600, это не больше, чем 32452543\n",
            "Число 3361 в квадрате 11296321, это не больше, чем 32452543\n",
            "Число 3362 в квадрате 11303044, это не больше, чем 32452543\n",
            "Число 3363 в квадрате 11309769, это не больше, чем 32452543\n",
            "Число 3364 в квадрате 11316496, это не больше, чем 32452543\n",
            "Число 3365 в квадрате 11323225, это не больше, чем 32452543\n",
            "Число 3366 в квадрате 11329956, это не больше, чем 32452543\n",
            "Число 3367 в квадрате 11336689, это не больше, чем 32452543\n",
            "Число 3368 в квадрате 11343424, это не больше, чем 32452543\n",
            "Число 3369 в квадрате 11350161, это не больше, чем 32452543\n",
            "Число 3370 в квадрате 11356900, это не больше, чем 32452543\n",
            "Число 3371 в квадрате 11363641, это не больше, чем 32452543\n",
            "Число 3372 в квадрате 11370384, это не больше, чем 32452543\n",
            "Число 3373 в квадрате 11377129, это не больше, чем 32452543\n",
            "Число 3374 в квадрате 11383876, это не больше, чем 32452543\n",
            "Число 3375 в квадрате 11390625, это не больше, чем 32452543\n",
            "Число 3376 в квадрате 11397376, это не больше, чем 32452543\n",
            "Число 3377 в квадрате 11404129, это не больше, чем 32452543\n",
            "Число 3378 в квадрате 11410884, это не больше, чем 32452543\n",
            "Число 3379 в квадрате 11417641, это не больше, чем 32452543\n",
            "Число 3380 в квадрате 11424400, это не больше, чем 32452543\n",
            "Число 3381 в квадрате 11431161, это не больше, чем 32452543\n",
            "Число 3382 в квадрате 11437924, это не больше, чем 32452543\n",
            "Число 3383 в квадрате 11444689, это не больше, чем 32452543\n",
            "Число 3384 в квадрате 11451456, это не больше, чем 32452543\n",
            "Число 3385 в квадрате 11458225, это не больше, чем 32452543\n",
            "Число 3386 в квадрате 11464996, это не больше, чем 32452543\n",
            "Число 3387 в квадрате 11471769, это не больше, чем 32452543\n",
            "Число 3388 в квадрате 11478544, это не больше, чем 32452543\n",
            "Число 3389 в квадрате 11485321, это не больше, чем 32452543\n",
            "Число 3390 в квадрате 11492100, это не больше, чем 32452543\n",
            "Число 3391 в квадрате 11498881, это не больше, чем 32452543\n",
            "Число 3392 в квадрате 11505664, это не больше, чем 32452543\n",
            "Число 3393 в квадрате 11512449, это не больше, чем 32452543\n",
            "Число 3394 в квадрате 11519236, это не больше, чем 32452543\n",
            "Число 3395 в квадрате 11526025, это не больше, чем 32452543\n",
            "Число 3396 в квадрате 11532816, это не больше, чем 32452543\n",
            "Число 3397 в квадрате 11539609, это не больше, чем 32452543\n",
            "Число 3398 в квадрате 11546404, это не больше, чем 32452543\n",
            "Число 3399 в квадрате 11553201, это не больше, чем 32452543\n",
            "Число 3400 в квадрате 11560000, это не больше, чем 32452543\n",
            "Число 3401 в квадрате 11566801, это не больше, чем 32452543\n",
            "Число 3402 в квадрате 11573604, это не больше, чем 32452543\n",
            "Число 3403 в квадрате 11580409, это не больше, чем 32452543\n",
            "Число 3404 в квадрате 11587216, это не больше, чем 32452543\n",
            "Число 3405 в квадрате 11594025, это не больше, чем 32452543\n",
            "Число 3406 в квадрате 11600836, это не больше, чем 32452543\n",
            "Число 3407 в квадрате 11607649, это не больше, чем 32452543\n",
            "Число 3408 в квадрате 11614464, это не больше, чем 32452543\n",
            "Число 3409 в квадрате 11621281, это не больше, чем 32452543\n",
            "Число 3410 в квадрате 11628100, это не больше, чем 32452543\n",
            "Число 3411 в квадрате 11634921, это не больше, чем 32452543\n",
            "Число 3412 в квадрате 11641744, это не больше, чем 32452543\n",
            "Число 3413 в квадрате 11648569, это не больше, чем 32452543\n",
            "Число 3414 в квадрате 11655396, это не больше, чем 32452543\n",
            "Число 3415 в квадрате 11662225, это не больше, чем 32452543\n",
            "Число 3416 в квадрате 11669056, это не больше, чем 32452543\n",
            "Число 3417 в квадрате 11675889, это не больше, чем 32452543\n",
            "Число 3418 в квадрате 11682724, это не больше, чем 32452543\n",
            "Число 3419 в квадрате 11689561, это не больше, чем 32452543\n",
            "Число 3420 в квадрате 11696400, это не больше, чем 32452543\n",
            "Число 3421 в квадрате 11703241, это не больше, чем 32452543\n",
            "Число 3422 в квадрате 11710084, это не больше, чем 32452543\n",
            "Число 3423 в квадрате 11716929, это не больше, чем 32452543\n",
            "Число 3424 в квадрате 11723776, это не больше, чем 32452543\n",
            "Число 3425 в квадрате 11730625, это не больше, чем 32452543\n",
            "Число 3426 в квадрате 11737476, это не больше, чем 32452543\n",
            "Число 3427 в квадрате 11744329, это не больше, чем 32452543\n",
            "Число 3428 в квадрате 11751184, это не больше, чем 32452543\n",
            "Число 3429 в квадрате 11758041, это не больше, чем 32452543\n",
            "Число 3430 в квадрате 11764900, это не больше, чем 32452543\n",
            "Число 3431 в квадрате 11771761, это не больше, чем 32452543\n",
            "Число 3432 в квадрате 11778624, это не больше, чем 32452543\n",
            "Число 3433 в квадрате 11785489, это не больше, чем 32452543\n",
            "Число 3434 в квадрате 11792356, это не больше, чем 32452543\n",
            "Число 3435 в квадрате 11799225, это не больше, чем 32452543\n",
            "Число 3436 в квадрате 11806096, это не больше, чем 32452543\n",
            "Число 3437 в квадрате 11812969, это не больше, чем 32452543\n",
            "Число 3438 в квадрате 11819844, это не больше, чем 32452543\n",
            "Число 3439 в квадрате 11826721, это не больше, чем 32452543\n",
            "Число 3440 в квадрате 11833600, это не больше, чем 32452543\n",
            "Число 3441 в квадрате 11840481, это не больше, чем 32452543\n",
            "Число 3442 в квадрате 11847364, это не больше, чем 32452543\n",
            "Число 3443 в квадрате 11854249, это не больше, чем 32452543\n",
            "Число 3444 в квадрате 11861136, это не больше, чем 32452543\n",
            "Число 3445 в квадрате 11868025, это не больше, чем 32452543\n",
            "Число 3446 в квадрате 11874916, это не больше, чем 32452543\n",
            "Число 3447 в квадрате 11881809, это не больше, чем 32452543\n",
            "Число 3448 в квадрате 11888704, это не больше, чем 32452543\n",
            "Число 3449 в квадрате 11895601, это не больше, чем 32452543\n",
            "Число 3450 в квадрате 11902500, это не больше, чем 32452543\n",
            "Число 3451 в квадрате 11909401, это не больше, чем 32452543\n",
            "Число 3452 в квадрате 11916304, это не больше, чем 32452543\n",
            "Число 3453 в квадрате 11923209, это не больше, чем 32452543\n",
            "Число 3454 в квадрате 11930116, это не больше, чем 32452543\n",
            "Число 3455 в квадрате 11937025, это не больше, чем 32452543\n",
            "Число 3456 в квадрате 11943936, это не больше, чем 32452543\n",
            "Число 3457 в квадрате 11950849, это не больше, чем 32452543\n",
            "Число 3458 в квадрате 11957764, это не больше, чем 32452543\n",
            "Число 3459 в квадрате 11964681, это не больше, чем 32452543\n",
            "Число 3460 в квадрате 11971600, это не больше, чем 32452543\n",
            "Число 3461 в квадрате 11978521, это не больше, чем 32452543\n",
            "Число 3462 в квадрате 11985444, это не больше, чем 32452543\n",
            "Число 3463 в квадрате 11992369, это не больше, чем 32452543\n",
            "Число 3464 в квадрате 11999296, это не больше, чем 32452543\n",
            "Число 3465 в квадрате 12006225, это не больше, чем 32452543\n",
            "Число 3466 в квадрате 12013156, это не больше, чем 32452543\n",
            "Число 3467 в квадрате 12020089, это не больше, чем 32452543\n",
            "Число 3468 в квадрате 12027024, это не больше, чем 32452543\n",
            "Число 3469 в квадрате 12033961, это не больше, чем 32452543\n",
            "Число 3470 в квадрате 12040900, это не больше, чем 32452543\n",
            "Число 3471 в квадрате 12047841, это не больше, чем 32452543\n",
            "Число 3472 в квадрате 12054784, это не больше, чем 32452543\n",
            "Число 3473 в квадрате 12061729, это не больше, чем 32452543\n",
            "Число 3474 в квадрате 12068676, это не больше, чем 32452543\n",
            "Число 3475 в квадрате 12075625, это не больше, чем 32452543\n",
            "Число 3476 в квадрате 12082576, это не больше, чем 32452543\n",
            "Число 3477 в квадрате 12089529, это не больше, чем 32452543\n",
            "Число 3478 в квадрате 12096484, это не больше, чем 32452543\n",
            "Число 3479 в квадрате 12103441, это не больше, чем 32452543\n",
            "Число 3480 в квадрате 12110400, это не больше, чем 32452543\n",
            "Число 3481 в квадрате 12117361, это не больше, чем 32452543\n",
            "Число 3482 в квадрате 12124324, это не больше, чем 32452543\n",
            "Число 3483 в квадрате 12131289, это не больше, чем 32452543\n",
            "Число 3484 в квадрате 12138256, это не больше, чем 32452543\n",
            "Число 3485 в квадрате 12145225, это не больше, чем 32452543\n",
            "Число 3486 в квадрате 12152196, это не больше, чем 32452543\n",
            "Число 3487 в квадрате 12159169, это не больше, чем 32452543\n",
            "Число 3488 в квадрате 12166144, это не больше, чем 32452543\n",
            "Число 3489 в квадрате 12173121, это не больше, чем 32452543\n",
            "Число 3490 в квадрате 12180100, это не больше, чем 32452543\n",
            "Число 3491 в квадрате 12187081, это не больше, чем 32452543\n",
            "Число 3492 в квадрате 12194064, это не больше, чем 32452543\n",
            "Число 3493 в квадрате 12201049, это не больше, чем 32452543\n",
            "Число 3494 в квадрате 12208036, это не больше, чем 32452543\n",
            "Число 3495 в квадрате 12215025, это не больше, чем 32452543\n",
            "Число 3496 в квадрате 12222016, это не больше, чем 32452543\n",
            "Число 3497 в квадрате 12229009, это не больше, чем 32452543\n",
            "Число 3498 в квадрате 12236004, это не больше, чем 32452543\n",
            "Число 3499 в квадрате 12243001, это не больше, чем 32452543\n",
            "Число 3500 в квадрате 12250000, это не больше, чем 32452543\n",
            "Число 3501 в квадрате 12257001, это не больше, чем 32452543\n",
            "Число 3502 в квадрате 12264004, это не больше, чем 32452543\n",
            "Число 3503 в квадрате 12271009, это не больше, чем 32452543\n",
            "Число 3504 в квадрате 12278016, это не больше, чем 32452543\n",
            "Число 3505 в квадрате 12285025, это не больше, чем 32452543\n",
            "Число 3506 в квадрате 12292036, это не больше, чем 32452543\n",
            "Число 3507 в квадрате 12299049, это не больше, чем 32452543\n",
            "Число 3508 в квадрате 12306064, это не больше, чем 32452543\n",
            "Число 3509 в квадрате 12313081, это не больше, чем 32452543\n",
            "Число 3510 в квадрате 12320100, это не больше, чем 32452543\n",
            "Число 3511 в квадрате 12327121, это не больше, чем 32452543\n",
            "Число 3512 в квадрате 12334144, это не больше, чем 32452543\n",
            "Число 3513 в квадрате 12341169, это не больше, чем 32452543\n",
            "Число 3514 в квадрате 12348196, это не больше, чем 32452543\n",
            "Число 3515 в квадрате 12355225, это не больше, чем 32452543\n",
            "Число 3516 в квадрате 12362256, это не больше, чем 32452543\n",
            "Число 3517 в квадрате 12369289, это не больше, чем 32452543\n",
            "Число 3518 в квадрате 12376324, это не больше, чем 32452543\n",
            "Число 3519 в квадрате 12383361, это не больше, чем 32452543\n",
            "Число 3520 в квадрате 12390400, это не больше, чем 32452543\n",
            "Число 3521 в квадрате 12397441, это не больше, чем 32452543\n",
            "Число 3522 в квадрате 12404484, это не больше, чем 32452543\n",
            "Число 3523 в квадрате 12411529, это не больше, чем 32452543\n",
            "Число 3524 в квадрате 12418576, это не больше, чем 32452543\n",
            "Число 3525 в квадрате 12425625, это не больше, чем 32452543\n",
            "Число 3526 в квадрате 12432676, это не больше, чем 32452543\n",
            "Число 3527 в квадрате 12439729, это не больше, чем 32452543\n",
            "Число 3528 в квадрате 12446784, это не больше, чем 32452543\n",
            "Число 3529 в квадрате 12453841, это не больше, чем 32452543\n",
            "Число 3530 в квадрате 12460900, это не больше, чем 32452543\n",
            "Число 3531 в квадрате 12467961, это не больше, чем 32452543\n",
            "Число 3532 в квадрате 12475024, это не больше, чем 32452543\n",
            "Число 3533 в квадрате 12482089, это не больше, чем 32452543\n",
            "Число 3534 в квадрате 12489156, это не больше, чем 32452543\n",
            "Число 3535 в квадрате 12496225, это не больше, чем 32452543\n",
            "Число 3536 в квадрате 12503296, это не больше, чем 32452543\n",
            "Число 3537 в квадрате 12510369, это не больше, чем 32452543\n",
            "Число 3538 в квадрате 12517444, это не больше, чем 32452543\n",
            "Число 3539 в квадрате 12524521, это не больше, чем 32452543\n",
            "Число 3540 в квадрате 12531600, это не больше, чем 32452543\n",
            "Число 3541 в квадрате 12538681, это не больше, чем 32452543\n",
            "Число 3542 в квадрате 12545764, это не больше, чем 32452543\n",
            "Число 3543 в квадрате 12552849, это не больше, чем 32452543\n",
            "Число 3544 в квадрате 12559936, это не больше, чем 32452543\n",
            "Число 3545 в квадрате 12567025, это не больше, чем 32452543\n",
            "Число 3546 в квадрате 12574116, это не больше, чем 32452543\n",
            "Число 3547 в квадрате 12581209, это не больше, чем 32452543\n",
            "Число 3548 в квадрате 12588304, это не больше, чем 32452543\n",
            "Число 3549 в квадрате 12595401, это не больше, чем 32452543\n",
            "Число 3550 в квадрате 12602500, это не больше, чем 32452543\n",
            "Число 3551 в квадрате 12609601, это не больше, чем 32452543\n",
            "Число 3552 в квадрате 12616704, это не больше, чем 32452543\n",
            "Число 3553 в квадрате 12623809, это не больше, чем 32452543\n",
            "Число 3554 в квадрате 12630916, это не больше, чем 32452543\n",
            "Число 3555 в квадрате 12638025, это не больше, чем 32452543\n",
            "Число 3556 в квадрате 12645136, это не больше, чем 32452543\n",
            "Число 3557 в квадрате 12652249, это не больше, чем 32452543\n",
            "Число 3558 в квадрате 12659364, это не больше, чем 32452543\n",
            "Число 3559 в квадрате 12666481, это не больше, чем 32452543\n",
            "Число 3560 в квадрате 12673600, это не больше, чем 32452543\n",
            "Число 3561 в квадрате 12680721, это не больше, чем 32452543\n",
            "Число 3562 в квадрате 12687844, это не больше, чем 32452543\n",
            "Число 3563 в квадрате 12694969, это не больше, чем 32452543\n",
            "Число 3564 в квадрате 12702096, это не больше, чем 32452543\n",
            "Число 3565 в квадрате 12709225, это не больше, чем 32452543\n",
            "Число 3566 в квадрате 12716356, это не больше, чем 32452543\n",
            "Число 3567 в квадрате 12723489, это не больше, чем 32452543\n",
            "Число 3568 в квадрате 12730624, это не больше, чем 32452543\n",
            "Число 3569 в квадрате 12737761, это не больше, чем 32452543\n",
            "Число 3570 в квадрате 12744900, это не больше, чем 32452543\n",
            "Число 3571 в квадрате 12752041, это не больше, чем 32452543\n",
            "Число 3572 в квадрате 12759184, это не больше, чем 32452543\n",
            "Число 3573 в квадрате 12766329, это не больше, чем 32452543\n",
            "Число 3574 в квадрате 12773476, это не больше, чем 32452543\n",
            "Число 3575 в квадрате 12780625, это не больше, чем 32452543\n",
            "Число 3576 в квадрате 12787776, это не больше, чем 32452543\n",
            "Число 3577 в квадрате 12794929, это не больше, чем 32452543\n",
            "Число 3578 в квадрате 12802084, это не больше, чем 32452543\n",
            "Число 3579 в квадрате 12809241, это не больше, чем 32452543\n",
            "Число 3580 в квадрате 12816400, это не больше, чем 32452543\n",
            "Число 3581 в квадрате 12823561, это не больше, чем 32452543\n",
            "Число 3582 в квадрате 12830724, это не больше, чем 32452543\n",
            "Число 3583 в квадрате 12837889, это не больше, чем 32452543\n",
            "Число 3584 в квадрате 12845056, это не больше, чем 32452543\n",
            "Число 3585 в квадрате 12852225, это не больше, чем 32452543\n",
            "Число 3586 в квадрате 12859396, это не больше, чем 32452543\n",
            "Число 3587 в квадрате 12866569, это не больше, чем 32452543\n",
            "Число 3588 в квадрате 12873744, это не больше, чем 32452543\n",
            "Число 3589 в квадрате 12880921, это не больше, чем 32452543\n",
            "Число 3590 в квадрате 12888100, это не больше, чем 32452543\n",
            "Число 3591 в квадрате 12895281, это не больше, чем 32452543\n",
            "Число 3592 в квадрате 12902464, это не больше, чем 32452543\n",
            "Число 3593 в квадрате 12909649, это не больше, чем 32452543\n",
            "Число 3594 в квадрате 12916836, это не больше, чем 32452543\n",
            "Число 3595 в квадрате 12924025, это не больше, чем 32452543\n",
            "Число 3596 в квадрате 12931216, это не больше, чем 32452543\n",
            "Число 3597 в квадрате 12938409, это не больше, чем 32452543\n",
            "Число 3598 в квадрате 12945604, это не больше, чем 32452543\n",
            "Число 3599 в квадрате 12952801, это не больше, чем 32452543\n",
            "Число 3600 в квадрате 12960000, это не больше, чем 32452543\n",
            "Число 3601 в квадрате 12967201, это не больше, чем 32452543\n",
            "Число 3602 в квадрате 12974404, это не больше, чем 32452543\n",
            "Число 3603 в квадрате 12981609, это не больше, чем 32452543\n",
            "Число 3604 в квадрате 12988816, это не больше, чем 32452543\n",
            "Число 3605 в квадрате 12996025, это не больше, чем 32452543\n",
            "Число 3606 в квадрате 13003236, это не больше, чем 32452543\n",
            "Число 3607 в квадрате 13010449, это не больше, чем 32452543\n",
            "Число 3608 в квадрате 13017664, это не больше, чем 32452543\n",
            "Число 3609 в квадрате 13024881, это не больше, чем 32452543\n",
            "Число 3610 в квадрате 13032100, это не больше, чем 32452543\n",
            "Число 3611 в квадрате 13039321, это не больше, чем 32452543\n",
            "Число 3612 в квадрате 13046544, это не больше, чем 32452543\n",
            "Число 3613 в квадрате 13053769, это не больше, чем 32452543\n",
            "Число 3614 в квадрате 13060996, это не больше, чем 32452543\n",
            "Число 3615 в квадрате 13068225, это не больше, чем 32452543\n",
            "Число 3616 в квадрате 13075456, это не больше, чем 32452543\n",
            "Число 3617 в квадрате 13082689, это не больше, чем 32452543\n",
            "Число 3618 в квадрате 13089924, это не больше, чем 32452543\n",
            "Число 3619 в квадрате 13097161, это не больше, чем 32452543\n",
            "Число 3620 в квадрате 13104400, это не больше, чем 32452543\n",
            "Число 3621 в квадрате 13111641, это не больше, чем 32452543\n",
            "Число 3622 в квадрате 13118884, это не больше, чем 32452543\n",
            "Число 3623 в квадрате 13126129, это не больше, чем 32452543\n",
            "Число 3624 в квадрате 13133376, это не больше, чем 32452543\n",
            "Число 3625 в квадрате 13140625, это не больше, чем 32452543\n",
            "Число 3626 в квадрате 13147876, это не больше, чем 32452543\n",
            "Число 3627 в квадрате 13155129, это не больше, чем 32452543\n",
            "Число 3628 в квадрате 13162384, это не больше, чем 32452543\n",
            "Число 3629 в квадрате 13169641, это не больше, чем 32452543\n",
            "Число 3630 в квадрате 13176900, это не больше, чем 32452543\n",
            "Число 3631 в квадрате 13184161, это не больше, чем 32452543\n",
            "Число 3632 в квадрате 13191424, это не больше, чем 32452543\n",
            "Число 3633 в квадрате 13198689, это не больше, чем 32452543\n",
            "Число 3634 в квадрате 13205956, это не больше, чем 32452543\n",
            "Число 3635 в квадрате 13213225, это не больше, чем 32452543\n",
            "Число 3636 в квадрате 13220496, это не больше, чем 32452543\n",
            "Число 3637 в квадрате 13227769, это не больше, чем 32452543\n",
            "Число 3638 в квадрате 13235044, это не больше, чем 32452543\n",
            "Число 3639 в квадрате 13242321, это не больше, чем 32452543\n",
            "Число 3640 в квадрате 13249600, это не больше, чем 32452543\n",
            "Число 3641 в квадрате 13256881, это не больше, чем 32452543\n",
            "Число 3642 в квадрате 13264164, это не больше, чем 32452543\n",
            "Число 3643 в квадрате 13271449, это не больше, чем 32452543\n",
            "Число 3644 в квадрате 13278736, это не больше, чем 32452543\n",
            "Число 3645 в квадрате 13286025, это не больше, чем 32452543\n",
            "Число 3646 в квадрате 13293316, это не больше, чем 32452543\n",
            "Число 3647 в квадрате 13300609, это не больше, чем 32452543\n",
            "Число 3648 в квадрате 13307904, это не больше, чем 32452543\n",
            "Число 3649 в квадрате 13315201, это не больше, чем 32452543\n",
            "Число 3650 в квадрате 13322500, это не больше, чем 32452543\n",
            "Число 3651 в квадрате 13329801, это не больше, чем 32452543\n",
            "Число 3652 в квадрате 13337104, это не больше, чем 32452543\n",
            "Число 3653 в квадрате 13344409, это не больше, чем 32452543\n",
            "Число 3654 в квадрате 13351716, это не больше, чем 32452543\n",
            "Число 3655 в квадрате 13359025, это не больше, чем 32452543\n",
            "Число 3656 в квадрате 13366336, это не больше, чем 32452543\n",
            "Число 3657 в квадрате 13373649, это не больше, чем 32452543\n",
            "Число 3658 в квадрате 13380964, это не больше, чем 32452543\n",
            "Число 3659 в квадрате 13388281, это не больше, чем 32452543\n",
            "Число 3660 в квадрате 13395600, это не больше, чем 32452543\n",
            "Число 3661 в квадрате 13402921, это не больше, чем 32452543\n",
            "Число 3662 в квадрате 13410244, это не больше, чем 32452543\n",
            "Число 3663 в квадрате 13417569, это не больше, чем 32452543\n",
            "Число 3664 в квадрате 13424896, это не больше, чем 32452543\n",
            "Число 3665 в квадрате 13432225, это не больше, чем 32452543\n",
            "Число 3666 в квадрате 13439556, это не больше, чем 32452543\n",
            "Число 3667 в квадрате 13446889, это не больше, чем 32452543\n",
            "Число 3668 в квадрате 13454224, это не больше, чем 32452543\n",
            "Число 3669 в квадрате 13461561, это не больше, чем 32452543\n",
            "Число 3670 в квадрате 13468900, это не больше, чем 32452543\n",
            "Число 3671 в квадрате 13476241, это не больше, чем 32452543\n",
            "Число 3672 в квадрате 13483584, это не больше, чем 32452543\n",
            "Число 3673 в квадрате 13490929, это не больше, чем 32452543\n",
            "Число 3674 в квадрате 13498276, это не больше, чем 32452543\n",
            "Число 3675 в квадрате 13505625, это не больше, чем 32452543\n",
            "Число 3676 в квадрате 13512976, это не больше, чем 32452543\n",
            "Число 3677 в квадрате 13520329, это не больше, чем 32452543\n",
            "Число 3678 в квадрате 13527684, это не больше, чем 32452543\n",
            "Число 3679 в квадрате 13535041, это не больше, чем 32452543\n",
            "Число 3680 в квадрате 13542400, это не больше, чем 32452543\n",
            "Число 3681 в квадрате 13549761, это не больше, чем 32452543\n",
            "Число 3682 в квадрате 13557124, это не больше, чем 32452543\n",
            "Число 3683 в квадрате 13564489, это не больше, чем 32452543\n",
            "Число 3684 в квадрате 13571856, это не больше, чем 32452543\n",
            "Число 3685 в квадрате 13579225, это не больше, чем 32452543\n",
            "Число 3686 в квадрате 13586596, это не больше, чем 32452543\n",
            "Число 3687 в квадрате 13593969, это не больше, чем 32452543\n",
            "Число 3688 в квадрате 13601344, это не больше, чем 32452543\n",
            "Число 3689 в квадрате 13608721, это не больше, чем 32452543\n",
            "Число 3690 в квадрате 13616100, это не больше, чем 32452543\n",
            "Число 3691 в квадрате 13623481, это не больше, чем 32452543\n",
            "Число 3692 в квадрате 13630864, это не больше, чем 32452543\n",
            "Число 3693 в квадрате 13638249, это не больше, чем 32452543\n",
            "Число 3694 в квадрате 13645636, это не больше, чем 32452543\n",
            "Число 3695 в квадрате 13653025, это не больше, чем 32452543\n",
            "Число 3696 в квадрате 13660416, это не больше, чем 32452543\n",
            "Число 3697 в квадрате 13667809, это не больше, чем 32452543\n",
            "Число 3698 в квадрате 13675204, это не больше, чем 32452543\n",
            "Число 3699 в квадрате 13682601, это не больше, чем 32452543\n",
            "Число 3700 в квадрате 13690000, это не больше, чем 32452543\n",
            "Число 3701 в квадрате 13697401, это не больше, чем 32452543\n",
            "Число 3702 в квадрате 13704804, это не больше, чем 32452543\n",
            "Число 3703 в квадрате 13712209, это не больше, чем 32452543\n",
            "Число 3704 в квадрате 13719616, это не больше, чем 32452543\n",
            "Число 3705 в квадрате 13727025, это не больше, чем 32452543\n",
            "Число 3706 в квадрате 13734436, это не больше, чем 32452543\n",
            "Число 3707 в квадрате 13741849, это не больше, чем 32452543\n",
            "Число 3708 в квадрате 13749264, это не больше, чем 32452543\n",
            "Число 3709 в квадрате 13756681, это не больше, чем 32452543\n",
            "Число 3710 в квадрате 13764100, это не больше, чем 32452543\n",
            "Число 3711 в квадрате 13771521, это не больше, чем 32452543\n",
            "Число 3712 в квадрате 13778944, это не больше, чем 32452543\n",
            "Число 3713 в квадрате 13786369, это не больше, чем 32452543\n",
            "Число 3714 в квадрате 13793796, это не больше, чем 32452543\n",
            "Число 3715 в квадрате 13801225, это не больше, чем 32452543\n",
            "Число 3716 в квадрате 13808656, это не больше, чем 32452543\n",
            "Число 3717 в квадрате 13816089, это не больше, чем 32452543\n",
            "Число 3718 в квадрате 13823524, это не больше, чем 32452543\n",
            "Число 3719 в квадрате 13830961, это не больше, чем 32452543\n",
            "Число 3720 в квадрате 13838400, это не больше, чем 32452543\n",
            "Число 3721 в квадрате 13845841, это не больше, чем 32452543\n",
            "Число 3722 в квадрате 13853284, это не больше, чем 32452543\n",
            "Число 3723 в квадрате 13860729, это не больше, чем 32452543\n",
            "Число 3724 в квадрате 13868176, это не больше, чем 32452543\n",
            "Число 3725 в квадрате 13875625, это не больше, чем 32452543\n",
            "Число 3726 в квадрате 13883076, это не больше, чем 32452543\n",
            "Число 3727 в квадрате 13890529, это не больше, чем 32452543\n",
            "Число 3728 в квадрате 13897984, это не больше, чем 32452543\n",
            "Число 3729 в квадрате 13905441, это не больше, чем 32452543\n",
            "Число 3730 в квадрате 13912900, это не больше, чем 32452543\n",
            "Число 3731 в квадрате 13920361, это не больше, чем 32452543\n",
            "Число 3732 в квадрате 13927824, это не больше, чем 32452543\n",
            "Число 3733 в квадрате 13935289, это не больше, чем 32452543\n",
            "Число 3734 в квадрате 13942756, это не больше, чем 32452543\n",
            "Число 3735 в квадрате 13950225, это не больше, чем 32452543\n",
            "Число 3736 в квадрате 13957696, это не больше, чем 32452543\n",
            "Число 3737 в квадрате 13965169, это не больше, чем 32452543\n",
            "Число 3738 в квадрате 13972644, это не больше, чем 32452543\n",
            "Число 3739 в квадрате 13980121, это не больше, чем 32452543\n",
            "Число 3740 в квадрате 13987600, это не больше, чем 32452543\n",
            "Число 3741 в квадрате 13995081, это не больше, чем 32452543\n",
            "Число 3742 в квадрате 14002564, это не больше, чем 32452543\n",
            "Число 3743 в квадрате 14010049, это не больше, чем 32452543\n",
            "Число 3744 в квадрате 14017536, это не больше, чем 32452543\n",
            "Число 3745 в квадрате 14025025, это не больше, чем 32452543\n",
            "Число 3746 в квадрате 14032516, это не больше, чем 32452543\n",
            "Число 3747 в квадрате 14040009, это не больше, чем 32452543\n",
            "Число 3748 в квадрате 14047504, это не больше, чем 32452543\n",
            "Число 3749 в квадрате 14055001, это не больше, чем 32452543\n",
            "Число 3750 в квадрате 14062500, это не больше, чем 32452543\n",
            "Число 3751 в квадрате 14070001, это не больше, чем 32452543\n",
            "Число 3752 в квадрате 14077504, это не больше, чем 32452543\n",
            "Число 3753 в квадрате 14085009, это не больше, чем 32452543\n",
            "Число 3754 в квадрате 14092516, это не больше, чем 32452543\n",
            "Число 3755 в квадрате 14100025, это не больше, чем 32452543\n",
            "Число 3756 в квадрате 14107536, это не больше, чем 32452543\n",
            "Число 3757 в квадрате 14115049, это не больше, чем 32452543\n",
            "Число 3758 в квадрате 14122564, это не больше, чем 32452543\n",
            "Число 3759 в квадрате 14130081, это не больше, чем 32452543\n",
            "Число 3760 в квадрате 14137600, это не больше, чем 32452543\n",
            "Число 3761 в квадрате 14145121, это не больше, чем 32452543\n",
            "Число 3762 в квадрате 14152644, это не больше, чем 32452543\n",
            "Число 3763 в квадрате 14160169, это не больше, чем 32452543\n",
            "Число 3764 в квадрате 14167696, это не больше, чем 32452543\n",
            "Число 3765 в квадрате 14175225, это не больше, чем 32452543\n",
            "Число 3766 в квадрате 14182756, это не больше, чем 32452543\n",
            "Число 3767 в квадрате 14190289, это не больше, чем 32452543\n",
            "Число 3768 в квадрате 14197824, это не больше, чем 32452543\n",
            "Число 3769 в квадрате 14205361, это не больше, чем 32452543\n",
            "Число 3770 в квадрате 14212900, это не больше, чем 32452543\n",
            "Число 3771 в квадрате 14220441, это не больше, чем 32452543\n",
            "Число 3772 в квадрате 14227984, это не больше, чем 32452543\n",
            "Число 3773 в квадрате 14235529, это не больше, чем 32452543\n",
            "Число 3774 в квадрате 14243076, это не больше, чем 32452543\n",
            "Число 3775 в квадрате 14250625, это не больше, чем 32452543\n",
            "Число 3776 в квадрате 14258176, это не больше, чем 32452543\n",
            "Число 3777 в квадрате 14265729, это не больше, чем 32452543\n",
            "Число 3778 в квадрате 14273284, это не больше, чем 32452543\n",
            "Число 3779 в квадрате 14280841, это не больше, чем 32452543\n",
            "Число 3780 в квадрате 14288400, это не больше, чем 32452543\n",
            "Число 3781 в квадрате 14295961, это не больше, чем 32452543\n",
            "Число 3782 в квадрате 14303524, это не больше, чем 32452543\n",
            "Число 3783 в квадрате 14311089, это не больше, чем 32452543\n",
            "Число 3784 в квадрате 14318656, это не больше, чем 32452543\n",
            "Число 3785 в квадрате 14326225, это не больше, чем 32452543\n",
            "Число 3786 в квадрате 14333796, это не больше, чем 32452543\n",
            "Число 3787 в квадрате 14341369, это не больше, чем 32452543\n",
            "Число 3788 в квадрате 14348944, это не больше, чем 32452543\n",
            "Число 3789 в квадрате 14356521, это не больше, чем 32452543\n",
            "Число 3790 в квадрате 14364100, это не больше, чем 32452543\n",
            "Число 3791 в квадрате 14371681, это не больше, чем 32452543\n",
            "Число 3792 в квадрате 14379264, это не больше, чем 32452543\n",
            "Число 3793 в квадрате 14386849, это не больше, чем 32452543\n",
            "Число 3794 в квадрате 14394436, это не больше, чем 32452543\n",
            "Число 3795 в квадрате 14402025, это не больше, чем 32452543\n",
            "Число 3796 в квадрате 14409616, это не больше, чем 32452543\n",
            "Число 3797 в квадрате 14417209, это не больше, чем 32452543\n",
            "Число 3798 в квадрате 14424804, это не больше, чем 32452543\n",
            "Число 3799 в квадрате 14432401, это не больше, чем 32452543\n",
            "Число 3800 в квадрате 14440000, это не больше, чем 32452543\n",
            "Число 3801 в квадрате 14447601, это не больше, чем 32452543\n",
            "Число 3802 в квадрате 14455204, это не больше, чем 32452543\n",
            "Число 3803 в квадрате 14462809, это не больше, чем 32452543\n",
            "Число 3804 в квадрате 14470416, это не больше, чем 32452543\n",
            "Число 3805 в квадрате 14478025, это не больше, чем 32452543\n",
            "Число 3806 в квадрате 14485636, это не больше, чем 32452543\n",
            "Число 3807 в квадрате 14493249, это не больше, чем 32452543\n",
            "Число 3808 в квадрате 14500864, это не больше, чем 32452543\n",
            "Число 3809 в квадрате 14508481, это не больше, чем 32452543\n",
            "Число 3810 в квадрате 14516100, это не больше, чем 32452543\n",
            "Число 3811 в квадрате 14523721, это не больше, чем 32452543\n",
            "Число 3812 в квадрате 14531344, это не больше, чем 32452543\n",
            "Число 3813 в квадрате 14538969, это не больше, чем 32452543\n",
            "Число 3814 в квадрате 14546596, это не больше, чем 32452543\n",
            "Число 3815 в квадрате 14554225, это не больше, чем 32452543\n",
            "Число 3816 в квадрате 14561856, это не больше, чем 32452543\n",
            "Число 3817 в квадрате 14569489, это не больше, чем 32452543\n",
            "Число 3818 в квадрате 14577124, это не больше, чем 32452543\n",
            "Число 3819 в квадрате 14584761, это не больше, чем 32452543\n",
            "Число 3820 в квадрате 14592400, это не больше, чем 32452543\n",
            "Число 3821 в квадрате 14600041, это не больше, чем 32452543\n",
            "Число 3822 в квадрате 14607684, это не больше, чем 32452543\n",
            "Число 3823 в квадрате 14615329, это не больше, чем 32452543\n",
            "Число 3824 в квадрате 14622976, это не больше, чем 32452543\n",
            "Число 3825 в квадрате 14630625, это не больше, чем 32452543\n",
            "Число 3826 в квадрате 14638276, это не больше, чем 32452543\n",
            "Число 3827 в квадрате 14645929, это не больше, чем 32452543\n",
            "Число 3828 в квадрате 14653584, это не больше, чем 32452543\n",
            "Число 3829 в квадрате 14661241, это не больше, чем 32452543\n",
            "Число 3830 в квадрате 14668900, это не больше, чем 32452543\n",
            "Число 3831 в квадрате 14676561, это не больше, чем 32452543\n",
            "Число 3832 в квадрате 14684224, это не больше, чем 32452543\n",
            "Число 3833 в квадрате 14691889, это не больше, чем 32452543\n",
            "Число 3834 в квадрате 14699556, это не больше, чем 32452543\n",
            "Число 3835 в квадрате 14707225, это не больше, чем 32452543\n",
            "Число 3836 в квадрате 14714896, это не больше, чем 32452543\n",
            "Число 3837 в квадрате 14722569, это не больше, чем 32452543\n",
            "Число 3838 в квадрате 14730244, это не больше, чем 32452543\n",
            "Число 3839 в квадрате 14737921, это не больше, чем 32452543\n",
            "Число 3840 в квадрате 14745600, это не больше, чем 32452543\n",
            "Число 3841 в квадрате 14753281, это не больше, чем 32452543\n",
            "Число 3842 в квадрате 14760964, это не больше, чем 32452543\n",
            "Число 3843 в квадрате 14768649, это не больше, чем 32452543\n",
            "Число 3844 в квадрате 14776336, это не больше, чем 32452543\n",
            "Число 3845 в квадрате 14784025, это не больше, чем 32452543\n",
            "Число 3846 в квадрате 14791716, это не больше, чем 32452543\n",
            "Число 3847 в квадрате 14799409, это не больше, чем 32452543\n",
            "Число 3848 в квадрате 14807104, это не больше, чем 32452543\n",
            "Число 3849 в квадрате 14814801, это не больше, чем 32452543\n",
            "Число 3850 в квадрате 14822500, это не больше, чем 32452543\n",
            "Число 3851 в квадрате 14830201, это не больше, чем 32452543\n",
            "Число 3852 в квадрате 14837904, это не больше, чем 32452543\n",
            "Число 3853 в квадрате 14845609, это не больше, чем 32452543\n",
            "Число 3854 в квадрате 14853316, это не больше, чем 32452543\n",
            "Число 3855 в квадрате 14861025, это не больше, чем 32452543\n",
            "Число 3856 в квадрате 14868736, это не больше, чем 32452543\n",
            "Число 3857 в квадрате 14876449, это не больше, чем 32452543\n",
            "Число 3858 в квадрате 14884164, это не больше, чем 32452543\n",
            "Число 3859 в квадрате 14891881, это не больше, чем 32452543\n",
            "Число 3860 в квадрате 14899600, это не больше, чем 32452543\n",
            "Число 3861 в квадрате 14907321, это не больше, чем 32452543\n",
            "Число 3862 в квадрате 14915044, это не больше, чем 32452543\n",
            "Число 3863 в квадрате 14922769, это не больше, чем 32452543\n",
            "Число 3864 в квадрате 14930496, это не больше, чем 32452543\n",
            "Число 3865 в квадрате 14938225, это не больше, чем 32452543\n",
            "Число 3866 в квадрате 14945956, это не больше, чем 32452543\n",
            "Число 3867 в квадрате 14953689, это не больше, чем 32452543\n",
            "Число 3868 в квадрате 14961424, это не больше, чем 32452543\n",
            "Число 3869 в квадрате 14969161, это не больше, чем 32452543\n",
            "Число 3870 в квадрате 14976900, это не больше, чем 32452543\n",
            "Число 3871 в квадрате 14984641, это не больше, чем 32452543\n",
            "Число 3872 в квадрате 14992384, это не больше, чем 32452543\n",
            "Число 3873 в квадрате 15000129, это не больше, чем 32452543\n",
            "Число 3874 в квадрате 15007876, это не больше, чем 32452543\n",
            "Число 3875 в квадрате 15015625, это не больше, чем 32452543\n",
            "Число 3876 в квадрате 15023376, это не больше, чем 32452543\n",
            "Число 3877 в квадрате 15031129, это не больше, чем 32452543\n",
            "Число 3878 в квадрате 15038884, это не больше, чем 32452543\n",
            "Число 3879 в квадрате 15046641, это не больше, чем 32452543\n",
            "Число 3880 в квадрате 15054400, это не больше, чем 32452543\n",
            "Число 3881 в квадрате 15062161, это не больше, чем 32452543\n",
            "Число 3882 в квадрате 15069924, это не больше, чем 32452543\n",
            "Число 3883 в квадрате 15077689, это не больше, чем 32452543\n",
            "Число 3884 в квадрате 15085456, это не больше, чем 32452543\n",
            "Число 3885 в квадрате 15093225, это не больше, чем 32452543\n",
            "Число 3886 в квадрате 15100996, это не больше, чем 32452543\n",
            "Число 3887 в квадрате 15108769, это не больше, чем 32452543\n",
            "Число 3888 в квадрате 15116544, это не больше, чем 32452543\n",
            "Число 3889 в квадрате 15124321, это не больше, чем 32452543\n",
            "Число 3890 в квадрате 15132100, это не больше, чем 32452543\n",
            "Число 3891 в квадрате 15139881, это не больше, чем 32452543\n",
            "Число 3892 в квадрате 15147664, это не больше, чем 32452543\n",
            "Число 3893 в квадрате 15155449, это не больше, чем 32452543\n",
            "Число 3894 в квадрате 15163236, это не больше, чем 32452543\n",
            "Число 3895 в квадрате 15171025, это не больше, чем 32452543\n",
            "Число 3896 в квадрате 15178816, это не больше, чем 32452543\n",
            "Число 3897 в квадрате 15186609, это не больше, чем 32452543\n",
            "Число 3898 в квадрате 15194404, это не больше, чем 32452543\n",
            "Число 3899 в квадрате 15202201, это не больше, чем 32452543\n",
            "Число 3900 в квадрате 15210000, это не больше, чем 32452543\n",
            "Число 3901 в квадрате 15217801, это не больше, чем 32452543\n",
            "Число 3902 в квадрате 15225604, это не больше, чем 32452543\n",
            "Число 3903 в квадрате 15233409, это не больше, чем 32452543\n",
            "Число 3904 в квадрате 15241216, это не больше, чем 32452543\n",
            "Число 3905 в квадрате 15249025, это не больше, чем 32452543\n",
            "Число 3906 в квадрате 15256836, это не больше, чем 32452543\n",
            "Число 3907 в квадрате 15264649, это не больше, чем 32452543\n",
            "Число 3908 в квадрате 15272464, это не больше, чем 32452543\n",
            "Число 3909 в квадрате 15280281, это не больше, чем 32452543\n",
            "Число 3910 в квадрате 15288100, это не больше, чем 32452543\n",
            "Число 3911 в квадрате 15295921, это не больше, чем 32452543\n",
            "Число 3912 в квадрате 15303744, это не больше, чем 32452543\n",
            "Число 3913 в квадрате 15311569, это не больше, чем 32452543\n",
            "Число 3914 в квадрате 15319396, это не больше, чем 32452543\n",
            "Число 3915 в квадрате 15327225, это не больше, чем 32452543\n",
            "Число 3916 в квадрате 15335056, это не больше, чем 32452543\n",
            "Число 3917 в квадрате 15342889, это не больше, чем 32452543\n",
            "Число 3918 в квадрате 15350724, это не больше, чем 32452543\n",
            "Число 3919 в квадрате 15358561, это не больше, чем 32452543\n",
            "Число 3920 в квадрате 15366400, это не больше, чем 32452543\n",
            "Число 3921 в квадрате 15374241, это не больше, чем 32452543\n",
            "Число 3922 в квадрате 15382084, это не больше, чем 32452543\n",
            "Число 3923 в квадрате 15389929, это не больше, чем 32452543\n",
            "Число 3924 в квадрате 15397776, это не больше, чем 32452543\n",
            "Число 3925 в квадрате 15405625, это не больше, чем 32452543\n",
            "Число 3926 в квадрате 15413476, это не больше, чем 32452543\n",
            "Число 3927 в квадрате 15421329, это не больше, чем 32452543\n",
            "Число 3928 в квадрате 15429184, это не больше, чем 32452543\n",
            "Число 3929 в квадрате 15437041, это не больше, чем 32452543\n",
            "Число 3930 в квадрате 15444900, это не больше, чем 32452543\n",
            "Число 3931 в квадрате 15452761, это не больше, чем 32452543\n",
            "Число 3932 в квадрате 15460624, это не больше, чем 32452543\n",
            "Число 3933 в квадрате 15468489, это не больше, чем 32452543\n",
            "Число 3934 в квадрате 15476356, это не больше, чем 32452543\n",
            "Число 3935 в квадрате 15484225, это не больше, чем 32452543\n",
            "Число 3936 в квадрате 15492096, это не больше, чем 32452543\n",
            "Число 3937 в квадрате 15499969, это не больше, чем 32452543\n",
            "Число 3938 в квадрате 15507844, это не больше, чем 32452543\n",
            "Число 3939 в квадрате 15515721, это не больше, чем 32452543\n",
            "Число 3940 в квадрате 15523600, это не больше, чем 32452543\n",
            "Число 3941 в квадрате 15531481, это не больше, чем 32452543\n",
            "Число 3942 в квадрате 15539364, это не больше, чем 32452543\n",
            "Число 3943 в квадрате 15547249, это не больше, чем 32452543\n",
            "Число 3944 в квадрате 15555136, это не больше, чем 32452543\n",
            "Число 3945 в квадрате 15563025, это не больше, чем 32452543\n",
            "Число 3946 в квадрате 15570916, это не больше, чем 32452543\n",
            "Число 3947 в квадрате 15578809, это не больше, чем 32452543\n",
            "Число 3948 в квадрате 15586704, это не больше, чем 32452543\n",
            "Число 3949 в квадрате 15594601, это не больше, чем 32452543\n",
            "Число 3950 в квадрате 15602500, это не больше, чем 32452543\n",
            "Число 3951 в квадрате 15610401, это не больше, чем 32452543\n",
            "Число 3952 в квадрате 15618304, это не больше, чем 32452543\n",
            "Число 3953 в квадрате 15626209, это не больше, чем 32452543\n",
            "Число 3954 в квадрате 15634116, это не больше, чем 32452543\n",
            "Число 3955 в квадрате 15642025, это не больше, чем 32452543\n",
            "Число 3956 в квадрате 15649936, это не больше, чем 32452543\n",
            "Число 3957 в квадрате 15657849, это не больше, чем 32452543\n",
            "Число 3958 в квадрате 15665764, это не больше, чем 32452543\n",
            "Число 3959 в квадрате 15673681, это не больше, чем 32452543\n",
            "Число 3960 в квадрате 15681600, это не больше, чем 32452543\n",
            "Число 3961 в квадрате 15689521, это не больше, чем 32452543\n",
            "Число 3962 в квадрате 15697444, это не больше, чем 32452543\n",
            "Число 3963 в квадрате 15705369, это не больше, чем 32452543\n",
            "Число 3964 в квадрате 15713296, это не больше, чем 32452543\n",
            "Число 3965 в квадрате 15721225, это не больше, чем 32452543\n",
            "Число 3966 в квадрате 15729156, это не больше, чем 32452543\n",
            "Число 3967 в квадрате 15737089, это не больше, чем 32452543\n",
            "Число 3968 в квадрате 15745024, это не больше, чем 32452543\n",
            "Число 3969 в квадрате 15752961, это не больше, чем 32452543\n",
            "Число 3970 в квадрате 15760900, это не больше, чем 32452543\n",
            "Число 3971 в квадрате 15768841, это не больше, чем 32452543\n",
            "Число 3972 в квадрате 15776784, это не больше, чем 32452543\n",
            "Число 3973 в квадрате 15784729, это не больше, чем 32452543\n",
            "Число 3974 в квадрате 15792676, это не больше, чем 32452543\n",
            "Число 3975 в квадрате 15800625, это не больше, чем 32452543\n",
            "Число 3976 в квадрате 15808576, это не больше, чем 32452543\n",
            "Число 3977 в квадрате 15816529, это не больше, чем 32452543\n",
            "Число 3978 в квадрате 15824484, это не больше, чем 32452543\n",
            "Число 3979 в квадрате 15832441, это не больше, чем 32452543\n",
            "Число 3980 в квадрате 15840400, это не больше, чем 32452543\n",
            "Число 3981 в квадрате 15848361, это не больше, чем 32452543\n",
            "Число 3982 в квадрате 15856324, это не больше, чем 32452543\n",
            "Число 3983 в квадрате 15864289, это не больше, чем 32452543\n",
            "Число 3984 в квадрате 15872256, это не больше, чем 32452543\n",
            "Число 3985 в квадрате 15880225, это не больше, чем 32452543\n",
            "Число 3986 в квадрате 15888196, это не больше, чем 32452543\n",
            "Число 3987 в квадрате 15896169, это не больше, чем 32452543\n",
            "Число 3988 в квадрате 15904144, это не больше, чем 32452543\n",
            "Число 3989 в квадрате 15912121, это не больше, чем 32452543\n",
            "Число 3990 в квадрате 15920100, это не больше, чем 32452543\n",
            "Число 3991 в квадрате 15928081, это не больше, чем 32452543\n",
            "Число 3992 в квадрате 15936064, это не больше, чем 32452543\n",
            "Число 3993 в квадрате 15944049, это не больше, чем 32452543\n",
            "Число 3994 в квадрате 15952036, это не больше, чем 32452543\n",
            "Число 3995 в квадрате 15960025, это не больше, чем 32452543\n",
            "Число 3996 в квадрате 15968016, это не больше, чем 32452543\n",
            "Число 3997 в квадрате 15976009, это не больше, чем 32452543\n",
            "Число 3998 в квадрате 15984004, это не больше, чем 32452543\n",
            "Число 3999 в квадрате 15992001, это не больше, чем 32452543\n",
            "Число 4000 в квадрате 16000000, это не больше, чем 32452543\n",
            "Число 4001 в квадрате 16008001, это не больше, чем 32452543\n",
            "Число 4002 в квадрате 16016004, это не больше, чем 32452543\n",
            "Число 4003 в квадрате 16024009, это не больше, чем 32452543\n",
            "Число 4004 в квадрате 16032016, это не больше, чем 32452543\n",
            "Число 4005 в квадрате 16040025, это не больше, чем 32452543\n",
            "Число 4006 в квадрате 16048036, это не больше, чем 32452543\n",
            "Число 4007 в квадрате 16056049, это не больше, чем 32452543\n",
            "Число 4008 в квадрате 16064064, это не больше, чем 32452543\n",
            "Число 4009 в квадрате 16072081, это не больше, чем 32452543\n",
            "Число 4010 в квадрате 16080100, это не больше, чем 32452543\n",
            "Число 4011 в квадрате 16088121, это не больше, чем 32452543\n",
            "Число 4012 в квадрате 16096144, это не больше, чем 32452543\n",
            "Число 4013 в квадрате 16104169, это не больше, чем 32452543\n",
            "Число 4014 в квадрате 16112196, это не больше, чем 32452543\n",
            "Число 4015 в квадрате 16120225, это не больше, чем 32452543\n",
            "Число 4016 в квадрате 16128256, это не больше, чем 32452543\n",
            "Число 4017 в квадрате 16136289, это не больше, чем 32452543\n",
            "Число 4018 в квадрате 16144324, это не больше, чем 32452543\n",
            "Число 4019 в квадрате 16152361, это не больше, чем 32452543\n",
            "Число 4020 в квадрате 16160400, это не больше, чем 32452543\n",
            "Число 4021 в квадрате 16168441, это не больше, чем 32452543\n",
            "Число 4022 в квадрате 16176484, это не больше, чем 32452543\n",
            "Число 4023 в квадрате 16184529, это не больше, чем 32452543\n",
            "Число 4024 в квадрате 16192576, это не больше, чем 32452543\n",
            "Число 4025 в квадрате 16200625, это не больше, чем 32452543\n",
            "Число 4026 в квадрате 16208676, это не больше, чем 32452543\n",
            "Число 4027 в квадрате 16216729, это не больше, чем 32452543\n",
            "Число 4028 в квадрате 16224784, это не больше, чем 32452543\n",
            "Число 4029 в квадрате 16232841, это не больше, чем 32452543\n",
            "Число 4030 в квадрате 16240900, это не больше, чем 32452543\n",
            "Число 4031 в квадрате 16248961, это не больше, чем 32452543\n",
            "Число 4032 в квадрате 16257024, это не больше, чем 32452543\n",
            "Число 4033 в квадрате 16265089, это не больше, чем 32452543\n",
            "Число 4034 в квадрате 16273156, это не больше, чем 32452543\n",
            "Число 4035 в квадрате 16281225, это не больше, чем 32452543\n",
            "Число 4036 в квадрате 16289296, это не больше, чем 32452543\n",
            "Число 4037 в квадрате 16297369, это не больше, чем 32452543\n",
            "Число 4038 в квадрате 16305444, это не больше, чем 32452543\n",
            "Число 4039 в квадрате 16313521, это не больше, чем 32452543\n",
            "Число 4040 в квадрате 16321600, это не больше, чем 32452543\n",
            "Число 4041 в квадрате 16329681, это не больше, чем 32452543\n",
            "Число 4042 в квадрате 16337764, это не больше, чем 32452543\n",
            "Число 4043 в квадрате 16345849, это не больше, чем 32452543\n",
            "Число 4044 в квадрате 16353936, это не больше, чем 32452543\n",
            "Число 4045 в квадрате 16362025, это не больше, чем 32452543\n",
            "Число 4046 в квадрате 16370116, это не больше, чем 32452543\n",
            "Число 4047 в квадрате 16378209, это не больше, чем 32452543\n",
            "Число 4048 в квадрате 16386304, это не больше, чем 32452543\n",
            "Число 4049 в квадрате 16394401, это не больше, чем 32452543\n",
            "Число 4050 в квадрате 16402500, это не больше, чем 32452543\n",
            "Число 4051 в квадрате 16410601, это не больше, чем 32452543\n",
            "Число 4052 в квадрате 16418704, это не больше, чем 32452543\n",
            "Число 4053 в квадрате 16426809, это не больше, чем 32452543\n",
            "Число 4054 в квадрате 16434916, это не больше, чем 32452543\n",
            "Число 4055 в квадрате 16443025, это не больше, чем 32452543\n",
            "Число 4056 в квадрате 16451136, это не больше, чем 32452543\n",
            "Число 4057 в квадрате 16459249, это не больше, чем 32452543\n",
            "Число 4058 в квадрате 16467364, это не больше, чем 32452543\n",
            "Число 4059 в квадрате 16475481, это не больше, чем 32452543\n",
            "Число 4060 в квадрате 16483600, это не больше, чем 32452543\n",
            "Число 4061 в квадрате 16491721, это не больше, чем 32452543\n",
            "Число 4062 в квадрате 16499844, это не больше, чем 32452543\n",
            "Число 4063 в квадрате 16507969, это не больше, чем 32452543\n",
            "Число 4064 в квадрате 16516096, это не больше, чем 32452543\n",
            "Число 4065 в квадрате 16524225, это не больше, чем 32452543\n",
            "Число 4066 в квадрате 16532356, это не больше, чем 32452543\n",
            "Число 4067 в квадрате 16540489, это не больше, чем 32452543\n",
            "Число 4068 в квадрате 16548624, это не больше, чем 32452543\n",
            "Число 4069 в квадрате 16556761, это не больше, чем 32452543\n",
            "Число 4070 в квадрате 16564900, это не больше, чем 32452543\n",
            "Число 4071 в квадрате 16573041, это не больше, чем 32452543\n",
            "Число 4072 в квадрате 16581184, это не больше, чем 32452543\n",
            "Число 4073 в квадрате 16589329, это не больше, чем 32452543\n",
            "Число 4074 в квадрате 16597476, это не больше, чем 32452543\n",
            "Число 4075 в квадрате 16605625, это не больше, чем 32452543\n",
            "Число 4076 в квадрате 16613776, это не больше, чем 32452543\n",
            "Число 4077 в квадрате 16621929, это не больше, чем 32452543\n",
            "Число 4078 в квадрате 16630084, это не больше, чем 32452543\n",
            "Число 4079 в квадрате 16638241, это не больше, чем 32452543\n",
            "Число 4080 в квадрате 16646400, это не больше, чем 32452543\n",
            "Число 4081 в квадрате 16654561, это не больше, чем 32452543\n",
            "Число 4082 в квадрате 16662724, это не больше, чем 32452543\n",
            "Число 4083 в квадрате 16670889, это не больше, чем 32452543\n",
            "Число 4084 в квадрате 16679056, это не больше, чем 32452543\n",
            "Число 4085 в квадрате 16687225, это не больше, чем 32452543\n",
            "Число 4086 в квадрате 16695396, это не больше, чем 32452543\n",
            "Число 4087 в квадрате 16703569, это не больше, чем 32452543\n",
            "Число 4088 в квадрате 16711744, это не больше, чем 32452543\n",
            "Число 4089 в квадрате 16719921, это не больше, чем 32452543\n",
            "Число 4090 в квадрате 16728100, это не больше, чем 32452543\n",
            "Число 4091 в квадрате 16736281, это не больше, чем 32452543\n",
            "Число 4092 в квадрате 16744464, это не больше, чем 32452543\n",
            "Число 4093 в квадрате 16752649, это не больше, чем 32452543\n",
            "Число 4094 в квадрате 16760836, это не больше, чем 32452543\n",
            "Число 4095 в квадрате 16769025, это не больше, чем 32452543\n",
            "Число 4096 в квадрате 16777216, это не больше, чем 32452543\n",
            "Число 4097 в квадрате 16785409, это не больше, чем 32452543\n",
            "Число 4098 в квадрате 16793604, это не больше, чем 32452543\n",
            "Число 4099 в квадрате 16801801, это не больше, чем 32452543\n",
            "Число 4100 в квадрате 16810000, это не больше, чем 32452543\n",
            "Число 4101 в квадрате 16818201, это не больше, чем 32452543\n",
            "Число 4102 в квадрате 16826404, это не больше, чем 32452543\n",
            "Число 4103 в квадрате 16834609, это не больше, чем 32452543\n",
            "Число 4104 в квадрате 16842816, это не больше, чем 32452543\n",
            "Число 4105 в квадрате 16851025, это не больше, чем 32452543\n",
            "Число 4106 в квадрате 16859236, это не больше, чем 32452543\n",
            "Число 4107 в квадрате 16867449, это не больше, чем 32452543\n",
            "Число 4108 в квадрате 16875664, это не больше, чем 32452543\n",
            "Число 4109 в квадрате 16883881, это не больше, чем 32452543\n",
            "Число 4110 в квадрате 16892100, это не больше, чем 32452543\n",
            "Число 4111 в квадрате 16900321, это не больше, чем 32452543\n",
            "Число 4112 в квадрате 16908544, это не больше, чем 32452543\n",
            "Число 4113 в квадрате 16916769, это не больше, чем 32452543\n",
            "Число 4114 в квадрате 16924996, это не больше, чем 32452543\n",
            "Число 4115 в квадрате 16933225, это не больше, чем 32452543\n",
            "Число 4116 в квадрате 16941456, это не больше, чем 32452543\n",
            "Число 4117 в квадрате 16949689, это не больше, чем 32452543\n",
            "Число 4118 в квадрате 16957924, это не больше, чем 32452543\n",
            "Число 4119 в квадрате 16966161, это не больше, чем 32452543\n",
            "Число 4120 в квадрате 16974400, это не больше, чем 32452543\n",
            "Число 4121 в квадрате 16982641, это не больше, чем 32452543\n",
            "Число 4122 в квадрате 16990884, это не больше, чем 32452543\n",
            "Число 4123 в квадрате 16999129, это не больше, чем 32452543\n",
            "Число 4124 в квадрате 17007376, это не больше, чем 32452543\n",
            "Число 4125 в квадрате 17015625, это не больше, чем 32452543\n",
            "Число 4126 в квадрате 17023876, это не больше, чем 32452543\n",
            "Число 4127 в квадрате 17032129, это не больше, чем 32452543\n",
            "Число 4128 в квадрате 17040384, это не больше, чем 32452543\n",
            "Число 4129 в квадрате 17048641, это не больше, чем 32452543\n",
            "Число 4130 в квадрате 17056900, это не больше, чем 32452543\n",
            "Число 4131 в квадрате 17065161, это не больше, чем 32452543\n",
            "Число 4132 в квадрате 17073424, это не больше, чем 32452543\n",
            "Число 4133 в квадрате 17081689, это не больше, чем 32452543\n",
            "Число 4134 в квадрате 17089956, это не больше, чем 32452543\n",
            "Число 4135 в квадрате 17098225, это не больше, чем 32452543\n",
            "Число 4136 в квадрате 17106496, это не больше, чем 32452543\n",
            "Число 4137 в квадрате 17114769, это не больше, чем 32452543\n",
            "Число 4138 в квадрате 17123044, это не больше, чем 32452543\n",
            "Число 4139 в квадрате 17131321, это не больше, чем 32452543\n",
            "Число 4140 в квадрате 17139600, это не больше, чем 32452543\n",
            "Число 4141 в квадрате 17147881, это не больше, чем 32452543\n",
            "Число 4142 в квадрате 17156164, это не больше, чем 32452543\n",
            "Число 4143 в квадрате 17164449, это не больше, чем 32452543\n",
            "Число 4144 в квадрате 17172736, это не больше, чем 32452543\n",
            "Число 4145 в квадрате 17181025, это не больше, чем 32452543\n",
            "Число 4146 в квадрате 17189316, это не больше, чем 32452543\n",
            "Число 4147 в квадрате 17197609, это не больше, чем 32452543\n",
            "Число 4148 в квадрате 17205904, это не больше, чем 32452543\n",
            "Число 4149 в квадрате 17214201, это не больше, чем 32452543\n",
            "Число 4150 в квадрате 17222500, это не больше, чем 32452543\n",
            "Число 4151 в квадрате 17230801, это не больше, чем 32452543\n",
            "Число 4152 в квадрате 17239104, это не больше, чем 32452543\n",
            "Число 4153 в квадрате 17247409, это не больше, чем 32452543\n",
            "Число 4154 в квадрате 17255716, это не больше, чем 32452543\n",
            "Число 4155 в квадрате 17264025, это не больше, чем 32452543\n",
            "Число 4156 в квадрате 17272336, это не больше, чем 32452543\n",
            "Число 4157 в квадрате 17280649, это не больше, чем 32452543\n",
            "Число 4158 в квадрате 17288964, это не больше, чем 32452543\n",
            "Число 4159 в квадрате 17297281, это не больше, чем 32452543\n",
            "Число 4160 в квадрате 17305600, это не больше, чем 32452543\n",
            "Число 4161 в квадрате 17313921, это не больше, чем 32452543\n",
            "Число 4162 в квадрате 17322244, это не больше, чем 32452543\n",
            "Число 4163 в квадрате 17330569, это не больше, чем 32452543\n",
            "Число 4164 в квадрате 17338896, это не больше, чем 32452543\n",
            "Число 4165 в квадрате 17347225, это не больше, чем 32452543\n",
            "Число 4166 в квадрате 17355556, это не больше, чем 32452543\n",
            "Число 4167 в квадрате 17363889, это не больше, чем 32452543\n",
            "Число 4168 в квадрате 17372224, это не больше, чем 32452543\n",
            "Число 4169 в квадрате 17380561, это не больше, чем 32452543\n",
            "Число 4170 в квадрате 17388900, это не больше, чем 32452543\n",
            "Число 4171 в квадрате 17397241, это не больше, чем 32452543\n",
            "Число 4172 в квадрате 17405584, это не больше, чем 32452543\n",
            "Число 4173 в квадрате 17413929, это не больше, чем 32452543\n",
            "Число 4174 в квадрате 17422276, это не больше, чем 32452543\n",
            "Число 4175 в квадрате 17430625, это не больше, чем 32452543\n",
            "Число 4176 в квадрате 17438976, это не больше, чем 32452543\n",
            "Число 4177 в квадрате 17447329, это не больше, чем 32452543\n",
            "Число 4178 в квадрате 17455684, это не больше, чем 32452543\n",
            "Число 4179 в квадрате 17464041, это не больше, чем 32452543\n",
            "Число 4180 в квадрате 17472400, это не больше, чем 32452543\n",
            "Число 4181 в квадрате 17480761, это не больше, чем 32452543\n",
            "Число 4182 в квадрате 17489124, это не больше, чем 32452543\n",
            "Число 4183 в квадрате 17497489, это не больше, чем 32452543\n",
            "Число 4184 в квадрате 17505856, это не больше, чем 32452543\n",
            "Число 4185 в квадрате 17514225, это не больше, чем 32452543\n",
            "Число 4186 в квадрате 17522596, это не больше, чем 32452543\n",
            "Число 4187 в квадрате 17530969, это не больше, чем 32452543\n",
            "Число 4188 в квадрате 17539344, это не больше, чем 32452543\n",
            "Число 4189 в квадрате 17547721, это не больше, чем 32452543\n",
            "Число 4190 в квадрате 17556100, это не больше, чем 32452543\n",
            "Число 4191 в квадрате 17564481, это не больше, чем 32452543\n",
            "Число 4192 в квадрате 17572864, это не больше, чем 32452543\n",
            "Число 4193 в квадрате 17581249, это не больше, чем 32452543\n",
            "Число 4194 в квадрате 17589636, это не больше, чем 32452543\n",
            "Число 4195 в квадрате 17598025, это не больше, чем 32452543\n",
            "Число 4196 в квадрате 17606416, это не больше, чем 32452543\n",
            "Число 4197 в квадрате 17614809, это не больше, чем 32452543\n",
            "Число 4198 в квадрате 17623204, это не больше, чем 32452543\n",
            "Число 4199 в квадрате 17631601, это не больше, чем 32452543\n",
            "Число 4200 в квадрате 17640000, это не больше, чем 32452543\n",
            "Число 4201 в квадрате 17648401, это не больше, чем 32452543\n",
            "Число 4202 в квадрате 17656804, это не больше, чем 32452543\n",
            "Число 4203 в квадрате 17665209, это не больше, чем 32452543\n",
            "Число 4204 в квадрате 17673616, это не больше, чем 32452543\n",
            "Число 4205 в квадрате 17682025, это не больше, чем 32452543\n",
            "Число 4206 в квадрате 17690436, это не больше, чем 32452543\n",
            "Число 4207 в квадрате 17698849, это не больше, чем 32452543\n",
            "Число 4208 в квадрате 17707264, это не больше, чем 32452543\n",
            "Число 4209 в квадрате 17715681, это не больше, чем 32452543\n",
            "Число 4210 в квадрате 17724100, это не больше, чем 32452543\n",
            "Число 4211 в квадрате 17732521, это не больше, чем 32452543\n",
            "Число 4212 в квадрате 17740944, это не больше, чем 32452543\n",
            "Число 4213 в квадрате 17749369, это не больше, чем 32452543\n",
            "Число 4214 в квадрате 17757796, это не больше, чем 32452543\n",
            "Число 4215 в квадрате 17766225, это не больше, чем 32452543\n",
            "Число 4216 в квадрате 17774656, это не больше, чем 32452543\n",
            "Число 4217 в квадрате 17783089, это не больше, чем 32452543\n",
            "Число 4218 в квадрате 17791524, это не больше, чем 32452543\n",
            "Число 4219 в квадрате 17799961, это не больше, чем 32452543\n",
            "Число 4220 в квадрате 17808400, это не больше, чем 32452543\n",
            "Число 4221 в квадрате 17816841, это не больше, чем 32452543\n",
            "Число 4222 в квадрате 17825284, это не больше, чем 32452543\n",
            "Число 4223 в квадрате 17833729, это не больше, чем 32452543\n",
            "Число 4224 в квадрате 17842176, это не больше, чем 32452543\n",
            "Число 4225 в квадрате 17850625, это не больше, чем 32452543\n",
            "Число 4226 в квадрате 17859076, это не больше, чем 32452543\n",
            "Число 4227 в квадрате 17867529, это не больше, чем 32452543\n",
            "Число 4228 в квадрате 17875984, это не больше, чем 32452543\n",
            "Число 4229 в квадрате 17884441, это не больше, чем 32452543\n",
            "Число 4230 в квадрате 17892900, это не больше, чем 32452543\n",
            "Число 4231 в квадрате 17901361, это не больше, чем 32452543\n",
            "Число 4232 в квадрате 17909824, это не больше, чем 32452543\n",
            "Число 4233 в квадрате 17918289, это не больше, чем 32452543\n",
            "Число 4234 в квадрате 17926756, это не больше, чем 32452543\n",
            "Число 4235 в квадрате 17935225, это не больше, чем 32452543\n",
            "Число 4236 в квадрате 17943696, это не больше, чем 32452543\n",
            "Число 4237 в квадрате 17952169, это не больше, чем 32452543\n",
            "Число 4238 в квадрате 17960644, это не больше, чем 32452543\n",
            "Число 4239 в квадрате 17969121, это не больше, чем 32452543\n",
            "Число 4240 в квадрате 17977600, это не больше, чем 32452543\n",
            "Число 4241 в квадрате 17986081, это не больше, чем 32452543\n",
            "Число 4242 в квадрате 17994564, это не больше, чем 32452543\n",
            "Число 4243 в квадрате 18003049, это не больше, чем 32452543\n",
            "Число 4244 в квадрате 18011536, это не больше, чем 32452543\n",
            "Число 4245 в квадрате 18020025, это не больше, чем 32452543\n",
            "Число 4246 в квадрате 18028516, это не больше, чем 32452543\n",
            "Число 4247 в квадрате 18037009, это не больше, чем 32452543\n",
            "Число 4248 в квадрате 18045504, это не больше, чем 32452543\n",
            "Число 4249 в квадрате 18054001, это не больше, чем 32452543\n",
            "Число 4250 в квадрате 18062500, это не больше, чем 32452543\n",
            "Число 4251 в квадрате 18071001, это не больше, чем 32452543\n",
            "Число 4252 в квадрате 18079504, это не больше, чем 32452543\n",
            "Число 4253 в квадрате 18088009, это не больше, чем 32452543\n",
            "Число 4254 в квадрате 18096516, это не больше, чем 32452543\n",
            "Число 4255 в квадрате 18105025, это не больше, чем 32452543\n",
            "Число 4256 в квадрате 18113536, это не больше, чем 32452543\n",
            "Число 4257 в квадрате 18122049, это не больше, чем 32452543\n",
            "Число 4258 в квадрате 18130564, это не больше, чем 32452543\n",
            "Число 4259 в квадрате 18139081, это не больше, чем 32452543\n",
            "Число 4260 в квадрате 18147600, это не больше, чем 32452543\n",
            "Число 4261 в квадрате 18156121, это не больше, чем 32452543\n",
            "Число 4262 в квадрате 18164644, это не больше, чем 32452543\n",
            "Число 4263 в квадрате 18173169, это не больше, чем 32452543\n",
            "Число 4264 в квадрате 18181696, это не больше, чем 32452543\n",
            "Число 4265 в квадрате 18190225, это не больше, чем 32452543\n",
            "Число 4266 в квадрате 18198756, это не больше, чем 32452543\n",
            "Число 4267 в квадрате 18207289, это не больше, чем 32452543\n",
            "Число 4268 в квадрате 18215824, это не больше, чем 32452543\n",
            "Число 4269 в квадрате 18224361, это не больше, чем 32452543\n",
            "Число 4270 в квадрате 18232900, это не больше, чем 32452543\n",
            "Число 4271 в квадрате 18241441, это не больше, чем 32452543\n",
            "Число 4272 в квадрате 18249984, это не больше, чем 32452543\n",
            "Число 4273 в квадрате 18258529, это не больше, чем 32452543\n",
            "Число 4274 в квадрате 18267076, это не больше, чем 32452543\n",
            "Число 4275 в квадрате 18275625, это не больше, чем 32452543\n",
            "Число 4276 в квадрате 18284176, это не больше, чем 32452543\n",
            "Число 4277 в квадрате 18292729, это не больше, чем 32452543\n",
            "Число 4278 в квадрате 18301284, это не больше, чем 32452543\n",
            "Число 4279 в квадрате 18309841, это не больше, чем 32452543\n",
            "Число 4280 в квадрате 18318400, это не больше, чем 32452543\n",
            "Число 4281 в квадрате 18326961, это не больше, чем 32452543\n",
            "Число 4282 в квадрате 18335524, это не больше, чем 32452543\n",
            "Число 4283 в квадрате 18344089, это не больше, чем 32452543\n",
            "Число 4284 в квадрате 18352656, это не больше, чем 32452543\n",
            "Число 4285 в квадрате 18361225, это не больше, чем 32452543\n",
            "Число 4286 в квадрате 18369796, это не больше, чем 32452543\n",
            "Число 4287 в квадрате 18378369, это не больше, чем 32452543\n",
            "Число 4288 в квадрате 18386944, это не больше, чем 32452543\n",
            "Число 4289 в квадрате 18395521, это не больше, чем 32452543\n",
            "Число 4290 в квадрате 18404100, это не больше, чем 32452543\n",
            "Число 4291 в квадрате 18412681, это не больше, чем 32452543\n",
            "Число 4292 в квадрате 18421264, это не больше, чем 32452543\n",
            "Число 4293 в квадрате 18429849, это не больше, чем 32452543\n",
            "Число 4294 в квадрате 18438436, это не больше, чем 32452543\n",
            "Число 4295 в квадрате 18447025, это не больше, чем 32452543\n",
            "Число 4296 в квадрате 18455616, это не больше, чем 32452543\n",
            "Число 4297 в квадрате 18464209, это не больше, чем 32452543\n",
            "Число 4298 в квадрате 18472804, это не больше, чем 32452543\n",
            "Число 4299 в квадрате 18481401, это не больше, чем 32452543\n",
            "Число 4300 в квадрате 18490000, это не больше, чем 32452543\n",
            "Число 4301 в квадрате 18498601, это не больше, чем 32452543\n",
            "Число 4302 в квадрате 18507204, это не больше, чем 32452543\n",
            "Число 4303 в квадрате 18515809, это не больше, чем 32452543\n",
            "Число 4304 в квадрате 18524416, это не больше, чем 32452543\n",
            "Число 4305 в квадрате 18533025, это не больше, чем 32452543\n",
            "Число 4306 в квадрате 18541636, это не больше, чем 32452543\n",
            "Число 4307 в квадрате 18550249, это не больше, чем 32452543\n",
            "Число 4308 в квадрате 18558864, это не больше, чем 32452543\n",
            "Число 4309 в квадрате 18567481, это не больше, чем 32452543\n",
            "Число 4310 в квадрате 18576100, это не больше, чем 32452543\n",
            "Число 4311 в квадрате 18584721, это не больше, чем 32452543\n",
            "Число 4312 в квадрате 18593344, это не больше, чем 32452543\n",
            "Число 4313 в квадрате 18601969, это не больше, чем 32452543\n",
            "Число 4314 в квадрате 18610596, это не больше, чем 32452543\n",
            "Число 4315 в квадрате 18619225, это не больше, чем 32452543\n",
            "Число 4316 в квадрате 18627856, это не больше, чем 32452543\n",
            "Число 4317 в квадрате 18636489, это не больше, чем 32452543\n",
            "Число 4318 в квадрате 18645124, это не больше, чем 32452543\n",
            "Число 4319 в квадрате 18653761, это не больше, чем 32452543\n",
            "Число 4320 в квадрате 18662400, это не больше, чем 32452543\n",
            "Число 4321 в квадрате 18671041, это не больше, чем 32452543\n",
            "Число 4322 в квадрате 18679684, это не больше, чем 32452543\n",
            "Число 4323 в квадрате 18688329, это не больше, чем 32452543\n",
            "Число 4324 в квадрате 18696976, это не больше, чем 32452543\n",
            "Число 4325 в квадрате 18705625, это не больше, чем 32452543\n",
            "Число 4326 в квадрате 18714276, это не больше, чем 32452543\n",
            "Число 4327 в квадрате 18722929, это не больше, чем 32452543\n",
            "Число 4328 в квадрате 18731584, это не больше, чем 32452543\n",
            "Число 4329 в квадрате 18740241, это не больше, чем 32452543\n",
            "Число 4330 в квадрате 18748900, это не больше, чем 32452543\n",
            "Число 4331 в квадрате 18757561, это не больше, чем 32452543\n",
            "Число 4332 в квадрате 18766224, это не больше, чем 32452543\n",
            "Число 4333 в квадрате 18774889, это не больше, чем 32452543\n",
            "Число 4334 в квадрате 18783556, это не больше, чем 32452543\n",
            "Число 4335 в квадрате 18792225, это не больше, чем 32452543\n",
            "Число 4336 в квадрате 18800896, это не больше, чем 32452543\n",
            "Число 4337 в квадрате 18809569, это не больше, чем 32452543\n",
            "Число 4338 в квадрате 18818244, это не больше, чем 32452543\n",
            "Число 4339 в квадрате 18826921, это не больше, чем 32452543\n",
            "Число 4340 в квадрате 18835600, это не больше, чем 32452543\n",
            "Число 4341 в квадрате 18844281, это не больше, чем 32452543\n",
            "Число 4342 в квадрате 18852964, это не больше, чем 32452543\n",
            "Число 4343 в квадрате 18861649, это не больше, чем 32452543\n",
            "Число 4344 в квадрате 18870336, это не больше, чем 32452543\n",
            "Число 4345 в квадрате 18879025, это не больше, чем 32452543\n",
            "Число 4346 в квадрате 18887716, это не больше, чем 32452543\n",
            "Число 4347 в квадрате 18896409, это не больше, чем 32452543\n",
            "Число 4348 в квадрате 18905104, это не больше, чем 32452543\n",
            "Число 4349 в квадрате 18913801, это не больше, чем 32452543\n",
            "Число 4350 в квадрате 18922500, это не больше, чем 32452543\n",
            "Число 4351 в квадрате 18931201, это не больше, чем 32452543\n",
            "Число 4352 в квадрате 18939904, это не больше, чем 32452543\n",
            "Число 4353 в квадрате 18948609, это не больше, чем 32452543\n",
            "Число 4354 в квадрате 18957316, это не больше, чем 32452543\n",
            "Число 4355 в квадрате 18966025, это не больше, чем 32452543\n",
            "Число 4356 в квадрате 18974736, это не больше, чем 32452543\n",
            "Число 4357 в квадрате 18983449, это не больше, чем 32452543\n",
            "Число 4358 в квадрате 18992164, это не больше, чем 32452543\n",
            "Число 4359 в квадрате 19000881, это не больше, чем 32452543\n",
            "Число 4360 в квадрате 19009600, это не больше, чем 32452543\n",
            "Число 4361 в квадрате 19018321, это не больше, чем 32452543\n",
            "Число 4362 в квадрате 19027044, это не больше, чем 32452543\n",
            "Число 4363 в квадрате 19035769, это не больше, чем 32452543\n",
            "Число 4364 в квадрате 19044496, это не больше, чем 32452543\n",
            "Число 4365 в квадрате 19053225, это не больше, чем 32452543\n",
            "Число 4366 в квадрате 19061956, это не больше, чем 32452543\n",
            "Число 4367 в квадрате 19070689, это не больше, чем 32452543\n",
            "Число 4368 в квадрате 19079424, это не больше, чем 32452543\n",
            "Число 4369 в квадрате 19088161, это не больше, чем 32452543\n",
            "Число 4370 в квадрате 19096900, это не больше, чем 32452543\n",
            "Число 4371 в квадрате 19105641, это не больше, чем 32452543\n",
            "Число 4372 в квадрате 19114384, это не больше, чем 32452543\n",
            "Число 4373 в квадрате 19123129, это не больше, чем 32452543\n",
            "Число 4374 в квадрате 19131876, это не больше, чем 32452543\n",
            "Число 4375 в квадрате 19140625, это не больше, чем 32452543\n",
            "Число 4376 в квадрате 19149376, это не больше, чем 32452543\n",
            "Число 4377 в квадрате 19158129, это не больше, чем 32452543\n",
            "Число 4378 в квадрате 19166884, это не больше, чем 32452543\n",
            "Число 4379 в квадрате 19175641, это не больше, чем 32452543\n",
            "Число 4380 в квадрате 19184400, это не больше, чем 32452543\n",
            "Число 4381 в квадрате 19193161, это не больше, чем 32452543\n",
            "Число 4382 в квадрате 19201924, это не больше, чем 32452543\n",
            "Число 4383 в квадрате 19210689, это не больше, чем 32452543\n",
            "Число 4384 в квадрате 19219456, это не больше, чем 32452543\n",
            "Число 4385 в квадрате 19228225, это не больше, чем 32452543\n",
            "Число 4386 в квадрате 19236996, это не больше, чем 32452543\n",
            "Число 4387 в квадрате 19245769, это не больше, чем 32452543\n",
            "Число 4388 в квадрате 19254544, это не больше, чем 32452543\n",
            "Число 4389 в квадрате 19263321, это не больше, чем 32452543\n",
            "Число 4390 в квадрате 19272100, это не больше, чем 32452543\n",
            "Число 4391 в квадрате 19280881, это не больше, чем 32452543\n",
            "Число 4392 в квадрате 19289664, это не больше, чем 32452543\n",
            "Число 4393 в квадрате 19298449, это не больше, чем 32452543\n",
            "Число 4394 в квадрате 19307236, это не больше, чем 32452543\n",
            "Число 4395 в квадрате 19316025, это не больше, чем 32452543\n",
            "Число 4396 в квадрате 19324816, это не больше, чем 32452543\n",
            "Число 4397 в квадрате 19333609, это не больше, чем 32452543\n",
            "Число 4398 в квадрате 19342404, это не больше, чем 32452543\n",
            "Число 4399 в квадрате 19351201, это не больше, чем 32452543\n",
            "Число 4400 в квадрате 19360000, это не больше, чем 32452543\n",
            "Число 4401 в квадрате 19368801, это не больше, чем 32452543\n",
            "Число 4402 в квадрате 19377604, это не больше, чем 32452543\n",
            "Число 4403 в квадрате 19386409, это не больше, чем 32452543\n",
            "Число 4404 в квадрате 19395216, это не больше, чем 32452543\n",
            "Число 4405 в квадрате 19404025, это не больше, чем 32452543\n",
            "Число 4406 в квадрате 19412836, это не больше, чем 32452543\n",
            "Число 4407 в квадрате 19421649, это не больше, чем 32452543\n",
            "Число 4408 в квадрате 19430464, это не больше, чем 32452543\n",
            "Число 4409 в квадрате 19439281, это не больше, чем 32452543\n",
            "Число 4410 в квадрате 19448100, это не больше, чем 32452543\n",
            "Число 4411 в квадрате 19456921, это не больше, чем 32452543\n",
            "Число 4412 в квадрате 19465744, это не больше, чем 32452543\n",
            "Число 4413 в квадрате 19474569, это не больше, чем 32452543\n",
            "Число 4414 в квадрате 19483396, это не больше, чем 32452543\n",
            "Число 4415 в квадрате 19492225, это не больше, чем 32452543\n",
            "Число 4416 в квадрате 19501056, это не больше, чем 32452543\n",
            "Число 4417 в квадрате 19509889, это не больше, чем 32452543\n",
            "Число 4418 в квадрате 19518724, это не больше, чем 32452543\n",
            "Число 4419 в квадрате 19527561, это не больше, чем 32452543\n",
            "Число 4420 в квадрате 19536400, это не больше, чем 32452543\n",
            "Число 4421 в квадрате 19545241, это не больше, чем 32452543\n",
            "Число 4422 в квадрате 19554084, это не больше, чем 32452543\n",
            "Число 4423 в квадрате 19562929, это не больше, чем 32452543\n",
            "Число 4424 в квадрате 19571776, это не больше, чем 32452543\n",
            "Число 4425 в квадрате 19580625, это не больше, чем 32452543\n",
            "Число 4426 в квадрате 19589476, это не больше, чем 32452543\n",
            "Число 4427 в квадрате 19598329, это не больше, чем 32452543\n",
            "Число 4428 в квадрате 19607184, это не больше, чем 32452543\n",
            "Число 4429 в квадрате 19616041, это не больше, чем 32452543\n",
            "Число 4430 в квадрате 19624900, это не больше, чем 32452543\n",
            "Число 4431 в квадрате 19633761, это не больше, чем 32452543\n",
            "Число 4432 в квадрате 19642624, это не больше, чем 32452543\n",
            "Число 4433 в квадрате 19651489, это не больше, чем 32452543\n",
            "Число 4434 в квадрате 19660356, это не больше, чем 32452543\n",
            "Число 4435 в квадрате 19669225, это не больше, чем 32452543\n",
            "Число 4436 в квадрате 19678096, это не больше, чем 32452543\n",
            "Число 4437 в квадрате 19686969, это не больше, чем 32452543\n",
            "Число 4438 в квадрате 19695844, это не больше, чем 32452543\n",
            "Число 4439 в квадрате 19704721, это не больше, чем 32452543\n",
            "Число 4440 в квадрате 19713600, это не больше, чем 32452543\n",
            "Число 4441 в квадрате 19722481, это не больше, чем 32452543\n",
            "Число 4442 в квадрате 19731364, это не больше, чем 32452543\n",
            "Число 4443 в квадрате 19740249, это не больше, чем 32452543\n",
            "Число 4444 в квадрате 19749136, это не больше, чем 32452543\n",
            "Число 4445 в квадрате 19758025, это не больше, чем 32452543\n",
            "Число 4446 в квадрате 19766916, это не больше, чем 32452543\n",
            "Число 4447 в квадрате 19775809, это не больше, чем 32452543\n",
            "Число 4448 в квадрате 19784704, это не больше, чем 32452543\n",
            "Число 4449 в квадрате 19793601, это не больше, чем 32452543\n",
            "Число 4450 в квадрате 19802500, это не больше, чем 32452543\n",
            "Число 4451 в квадрате 19811401, это не больше, чем 32452543\n",
            "Число 4452 в квадрате 19820304, это не больше, чем 32452543\n",
            "Число 4453 в квадрате 19829209, это не больше, чем 32452543\n",
            "Число 4454 в квадрате 19838116, это не больше, чем 32452543\n",
            "Число 4455 в квадрате 19847025, это не больше, чем 32452543\n",
            "Число 4456 в квадрате 19855936, это не больше, чем 32452543\n",
            "Число 4457 в квадрате 19864849, это не больше, чем 32452543\n",
            "Число 4458 в квадрате 19873764, это не больше, чем 32452543\n",
            "Число 4459 в квадрате 19882681, это не больше, чем 32452543\n",
            "Число 4460 в квадрате 19891600, это не больше, чем 32452543\n",
            "Число 4461 в квадрате 19900521, это не больше, чем 32452543\n",
            "Число 4462 в квадрате 19909444, это не больше, чем 32452543\n",
            "Число 4463 в квадрате 19918369, это не больше, чем 32452543\n",
            "Число 4464 в квадрате 19927296, это не больше, чем 32452543\n",
            "Число 4465 в квадрате 19936225, это не больше, чем 32452543\n",
            "Число 4466 в квадрате 19945156, это не больше, чем 32452543\n",
            "Число 4467 в квадрате 19954089, это не больше, чем 32452543\n",
            "Число 4468 в квадрате 19963024, это не больше, чем 32452543\n",
            "Число 4469 в квадрате 19971961, это не больше, чем 32452543\n",
            "Число 4470 в квадрате 19980900, это не больше, чем 32452543\n",
            "Число 4471 в квадрате 19989841, это не больше, чем 32452543\n",
            "Число 4472 в квадрате 19998784, это не больше, чем 32452543\n",
            "Число 4473 в квадрате 20007729, это не больше, чем 32452543\n",
            "Число 4474 в квадрате 20016676, это не больше, чем 32452543\n",
            "Число 4475 в квадрате 20025625, это не больше, чем 32452543\n",
            "Число 4476 в квадрате 20034576, это не больше, чем 32452543\n",
            "Число 4477 в квадрате 20043529, это не больше, чем 32452543\n",
            "Число 4478 в квадрате 20052484, это не больше, чем 32452543\n",
            "Число 4479 в квадрате 20061441, это не больше, чем 32452543\n",
            "Число 4480 в квадрате 20070400, это не больше, чем 32452543\n",
            "Число 4481 в квадрате 20079361, это не больше, чем 32452543\n",
            "Число 4482 в квадрате 20088324, это не больше, чем 32452543\n",
            "Число 4483 в квадрате 20097289, это не больше, чем 32452543\n",
            "Число 4484 в квадрате 20106256, это не больше, чем 32452543\n",
            "Число 4485 в квадрате 20115225, это не больше, чем 32452543\n",
            "Число 4486 в квадрате 20124196, это не больше, чем 32452543\n",
            "Число 4487 в квадрате 20133169, это не больше, чем 32452543\n",
            "Число 4488 в квадрате 20142144, это не больше, чем 32452543\n",
            "Число 4489 в квадрате 20151121, это не больше, чем 32452543\n",
            "Число 4490 в квадрате 20160100, это не больше, чем 32452543\n",
            "Число 4491 в квадрате 20169081, это не больше, чем 32452543\n",
            "Число 4492 в квадрате 20178064, это не больше, чем 32452543\n",
            "Число 4493 в квадрате 20187049, это не больше, чем 32452543\n",
            "Число 4494 в квадрате 20196036, это не больше, чем 32452543\n",
            "Число 4495 в квадрате 20205025, это не больше, чем 32452543\n",
            "Число 4496 в квадрате 20214016, это не больше, чем 32452543\n",
            "Число 4497 в квадрате 20223009, это не больше, чем 32452543\n",
            "Число 4498 в квадрате 20232004, это не больше, чем 32452543\n",
            "Число 4499 в квадрате 20241001, это не больше, чем 32452543\n",
            "Число 4500 в квадрате 20250000, это не больше, чем 32452543\n",
            "Число 4501 в квадрате 20259001, это не больше, чем 32452543\n",
            "Число 4502 в квадрате 20268004, это не больше, чем 32452543\n",
            "Число 4503 в квадрате 20277009, это не больше, чем 32452543\n",
            "Число 4504 в квадрате 20286016, это не больше, чем 32452543\n",
            "Число 4505 в квадрате 20295025, это не больше, чем 32452543\n",
            "Число 4506 в квадрате 20304036, это не больше, чем 32452543\n",
            "Число 4507 в квадрате 20313049, это не больше, чем 32452543\n",
            "Число 4508 в квадрате 20322064, это не больше, чем 32452543\n",
            "Число 4509 в квадрате 20331081, это не больше, чем 32452543\n",
            "Число 4510 в квадрате 20340100, это не больше, чем 32452543\n",
            "Число 4511 в квадрате 20349121, это не больше, чем 32452543\n",
            "Число 4512 в квадрате 20358144, это не больше, чем 32452543\n",
            "Число 4513 в квадрате 20367169, это не больше, чем 32452543\n",
            "Число 4514 в квадрате 20376196, это не больше, чем 32452543\n",
            "Число 4515 в квадрате 20385225, это не больше, чем 32452543\n",
            "Число 4516 в квадрате 20394256, это не больше, чем 32452543\n",
            "Число 4517 в квадрате 20403289, это не больше, чем 32452543\n",
            "Число 4518 в квадрате 20412324, это не больше, чем 32452543\n",
            "Число 4519 в квадрате 20421361, это не больше, чем 32452543\n",
            "Число 4520 в квадрате 20430400, это не больше, чем 32452543\n",
            "Число 4521 в квадрате 20439441, это не больше, чем 32452543\n",
            "Число 4522 в квадрате 20448484, это не больше, чем 32452543\n",
            "Число 4523 в квадрате 20457529, это не больше, чем 32452543\n",
            "Число 4524 в квадрате 20466576, это не больше, чем 32452543\n",
            "Число 4525 в квадрате 20475625, это не больше, чем 32452543\n",
            "Число 4526 в квадрате 20484676, это не больше, чем 32452543\n",
            "Число 4527 в квадрате 20493729, это не больше, чем 32452543\n",
            "Число 4528 в квадрате 20502784, это не больше, чем 32452543\n",
            "Число 4529 в квадрате 20511841, это не больше, чем 32452543\n",
            "Число 4530 в квадрате 20520900, это не больше, чем 32452543\n",
            "Число 4531 в квадрате 20529961, это не больше, чем 32452543\n",
            "Число 4532 в квадрате 20539024, это не больше, чем 32452543\n",
            "Число 4533 в квадрате 20548089, это не больше, чем 32452543\n",
            "Число 4534 в квадрате 20557156, это не больше, чем 32452543\n",
            "Число 4535 в квадрате 20566225, это не больше, чем 32452543\n",
            "Число 4536 в квадрате 20575296, это не больше, чем 32452543\n",
            "Число 4537 в квадрате 20584369, это не больше, чем 32452543\n",
            "Число 4538 в квадрате 20593444, это не больше, чем 32452543\n",
            "Число 4539 в квадрате 20602521, это не больше, чем 32452543\n",
            "Число 4540 в квадрате 20611600, это не больше, чем 32452543\n",
            "Число 4541 в квадрате 20620681, это не больше, чем 32452543\n",
            "Число 4542 в квадрате 20629764, это не больше, чем 32452543\n",
            "Число 4543 в квадрате 20638849, это не больше, чем 32452543\n",
            "Число 4544 в квадрате 20647936, это не больше, чем 32452543\n",
            "Число 4545 в квадрате 20657025, это не больше, чем 32452543\n",
            "Число 4546 в квадрате 20666116, это не больше, чем 32452543\n",
            "Число 4547 в квадрате 20675209, это не больше, чем 32452543\n",
            "Число 4548 в квадрате 20684304, это не больше, чем 32452543\n",
            "Число 4549 в квадрате 20693401, это не больше, чем 32452543\n",
            "Число 4550 в квадрате 20702500, это не больше, чем 32452543\n",
            "Число 4551 в квадрате 20711601, это не больше, чем 32452543\n",
            "Число 4552 в квадрате 20720704, это не больше, чем 32452543\n",
            "Число 4553 в квадрате 20729809, это не больше, чем 32452543\n",
            "Число 4554 в квадрате 20738916, это не больше, чем 32452543\n",
            "Число 4555 в квадрате 20748025, это не больше, чем 32452543\n",
            "Число 4556 в квадрате 20757136, это не больше, чем 32452543\n",
            "Число 4557 в квадрате 20766249, это не больше, чем 32452543\n",
            "Число 4558 в квадрате 20775364, это не больше, чем 32452543\n",
            "Число 4559 в квадрате 20784481, это не больше, чем 32452543\n",
            "Число 4560 в квадрате 20793600, это не больше, чем 32452543\n",
            "Число 4561 в квадрате 20802721, это не больше, чем 32452543\n",
            "Число 4562 в квадрате 20811844, это не больше, чем 32452543\n",
            "Число 4563 в квадрате 20820969, это не больше, чем 32452543\n",
            "Число 4564 в квадрате 20830096, это не больше, чем 32452543\n",
            "Число 4565 в квадрате 20839225, это не больше, чем 32452543\n",
            "Число 4566 в квадрате 20848356, это не больше, чем 32452543\n",
            "Число 4567 в квадрате 20857489, это не больше, чем 32452543\n",
            "Число 4568 в квадрате 20866624, это не больше, чем 32452543\n",
            "Число 4569 в квадрате 20875761, это не больше, чем 32452543\n",
            "Число 4570 в квадрате 20884900, это не больше, чем 32452543\n",
            "Число 4571 в квадрате 20894041, это не больше, чем 32452543\n",
            "Число 4572 в квадрате 20903184, это не больше, чем 32452543\n",
            "Число 4573 в квадрате 20912329, это не больше, чем 32452543\n",
            "Число 4574 в квадрате 20921476, это не больше, чем 32452543\n",
            "Число 4575 в квадрате 20930625, это не больше, чем 32452543\n",
            "Число 4576 в квадрате 20939776, это не больше, чем 32452543\n",
            "Число 4577 в квадрате 20948929, это не больше, чем 32452543\n",
            "Число 4578 в квадрате 20958084, это не больше, чем 32452543\n",
            "Число 4579 в квадрате 20967241, это не больше, чем 32452543\n",
            "Число 4580 в квадрате 20976400, это не больше, чем 32452543\n",
            "Число 4581 в квадрате 20985561, это не больше, чем 32452543\n",
            "Число 4582 в квадрате 20994724, это не больше, чем 32452543\n",
            "Число 4583 в квадрате 21003889, это не больше, чем 32452543\n",
            "Число 4584 в квадрате 21013056, это не больше, чем 32452543\n",
            "Число 4585 в квадрате 21022225, это не больше, чем 32452543\n",
            "Число 4586 в квадрате 21031396, это не больше, чем 32452543\n",
            "Число 4587 в квадрате 21040569, это не больше, чем 32452543\n",
            "Число 4588 в квадрате 21049744, это не больше, чем 32452543\n",
            "Число 4589 в квадрате 21058921, это не больше, чем 32452543\n",
            "Число 4590 в квадрате 21068100, это не больше, чем 32452543\n",
            "Число 4591 в квадрате 21077281, это не больше, чем 32452543\n",
            "Число 4592 в квадрате 21086464, это не больше, чем 32452543\n",
            "Число 4593 в квадрате 21095649, это не больше, чем 32452543\n",
            "Число 4594 в квадрате 21104836, это не больше, чем 32452543\n",
            "Число 4595 в квадрате 21114025, это не больше, чем 32452543\n",
            "Число 4596 в квадрате 21123216, это не больше, чем 32452543\n",
            "Число 4597 в квадрате 21132409, это не больше, чем 32452543\n",
            "Число 4598 в квадрате 21141604, это не больше, чем 32452543\n",
            "Число 4599 в квадрате 21150801, это не больше, чем 32452543\n",
            "Число 4600 в квадрате 21160000, это не больше, чем 32452543\n",
            "Число 4601 в квадрате 21169201, это не больше, чем 32452543\n",
            "Число 4602 в квадрате 21178404, это не больше, чем 32452543\n",
            "Число 4603 в квадрате 21187609, это не больше, чем 32452543\n",
            "Число 4604 в квадрате 21196816, это не больше, чем 32452543\n",
            "Число 4605 в квадрате 21206025, это не больше, чем 32452543\n",
            "Число 4606 в квадрате 21215236, это не больше, чем 32452543\n",
            "Число 4607 в квадрате 21224449, это не больше, чем 32452543\n",
            "Число 4608 в квадрате 21233664, это не больше, чем 32452543\n",
            "Число 4609 в квадрате 21242881, это не больше, чем 32452543\n",
            "Число 4610 в квадрате 21252100, это не больше, чем 32452543\n",
            "Число 4611 в квадрате 21261321, это не больше, чем 32452543\n",
            "Число 4612 в квадрате 21270544, это не больше, чем 32452543\n",
            "Число 4613 в квадрате 21279769, это не больше, чем 32452543\n",
            "Число 4614 в квадрате 21288996, это не больше, чем 32452543\n",
            "Число 4615 в квадрате 21298225, это не больше, чем 32452543\n",
            "Число 4616 в квадрате 21307456, это не больше, чем 32452543\n",
            "Число 4617 в квадрате 21316689, это не больше, чем 32452543\n",
            "Число 4618 в квадрате 21325924, это не больше, чем 32452543\n",
            "Число 4619 в квадрате 21335161, это не больше, чем 32452543\n",
            "Число 4620 в квадрате 21344400, это не больше, чем 32452543\n",
            "Число 4621 в квадрате 21353641, это не больше, чем 32452543\n",
            "Число 4622 в квадрате 21362884, это не больше, чем 32452543\n",
            "Число 4623 в квадрате 21372129, это не больше, чем 32452543\n",
            "Число 4624 в квадрате 21381376, это не больше, чем 32452543\n",
            "Число 4625 в квадрате 21390625, это не больше, чем 32452543\n",
            "Число 4626 в квадрате 21399876, это не больше, чем 32452543\n",
            "Число 4627 в квадрате 21409129, это не больше, чем 32452543\n",
            "Число 4628 в квадрате 21418384, это не больше, чем 32452543\n",
            "Число 4629 в квадрате 21427641, это не больше, чем 32452543\n",
            "Число 4630 в квадрате 21436900, это не больше, чем 32452543\n",
            "Число 4631 в квадрате 21446161, это не больше, чем 32452543\n",
            "Число 4632 в квадрате 21455424, это не больше, чем 32452543\n",
            "Число 4633 в квадрате 21464689, это не больше, чем 32452543\n",
            "Число 4634 в квадрате 21473956, это не больше, чем 32452543\n",
            "Число 4635 в квадрате 21483225, это не больше, чем 32452543\n",
            "Число 4636 в квадрате 21492496, это не больше, чем 32452543\n",
            "Число 4637 в квадрате 21501769, это не больше, чем 32452543\n",
            "Число 4638 в квадрате 21511044, это не больше, чем 32452543\n",
            "Число 4639 в квадрате 21520321, это не больше, чем 32452543\n",
            "Число 4640 в квадрате 21529600, это не больше, чем 32452543\n",
            "Число 4641 в квадрате 21538881, это не больше, чем 32452543\n",
            "Число 4642 в квадрате 21548164, это не больше, чем 32452543\n",
            "Число 4643 в квадрате 21557449, это не больше, чем 32452543\n",
            "Число 4644 в квадрате 21566736, это не больше, чем 32452543\n",
            "Число 4645 в квадрате 21576025, это не больше, чем 32452543\n",
            "Число 4646 в квадрате 21585316, это не больше, чем 32452543\n",
            "Число 4647 в квадрате 21594609, это не больше, чем 32452543\n",
            "Число 4648 в квадрате 21603904, это не больше, чем 32452543\n",
            "Число 4649 в квадрате 21613201, это не больше, чем 32452543\n",
            "Число 4650 в квадрате 21622500, это не больше, чем 32452543\n",
            "Число 4651 в квадрате 21631801, это не больше, чем 32452543\n",
            "Число 4652 в квадрате 21641104, это не больше, чем 32452543\n",
            "Число 4653 в квадрате 21650409, это не больше, чем 32452543\n",
            "Число 4654 в квадрате 21659716, это не больше, чем 32452543\n",
            "Число 4655 в квадрате 21669025, это не больше, чем 32452543\n",
            "Число 4656 в квадрате 21678336, это не больше, чем 32452543\n",
            "Число 4657 в квадрате 21687649, это не больше, чем 32452543\n",
            "Число 4658 в квадрате 21696964, это не больше, чем 32452543\n",
            "Число 4659 в квадрате 21706281, это не больше, чем 32452543\n",
            "Число 4660 в квадрате 21715600, это не больше, чем 32452543\n",
            "Число 4661 в квадрате 21724921, это не больше, чем 32452543\n",
            "Число 4662 в квадрате 21734244, это не больше, чем 32452543\n",
            "Число 4663 в квадрате 21743569, это не больше, чем 32452543\n",
            "Число 4664 в квадрате 21752896, это не больше, чем 32452543\n",
            "Число 4665 в квадрате 21762225, это не больше, чем 32452543\n",
            "Число 4666 в квадрате 21771556, это не больше, чем 32452543\n",
            "Число 4667 в квадрате 21780889, это не больше, чем 32452543\n",
            "Число 4668 в квадрате 21790224, это не больше, чем 32452543\n",
            "Число 4669 в квадрате 21799561, это не больше, чем 32452543\n",
            "Число 4670 в квадрате 21808900, это не больше, чем 32452543\n",
            "Число 4671 в квадрате 21818241, это не больше, чем 32452543\n",
            "Число 4672 в квадрате 21827584, это не больше, чем 32452543\n",
            "Число 4673 в квадрате 21836929, это не больше, чем 32452543\n",
            "Число 4674 в квадрате 21846276, это не больше, чем 32452543\n",
            "Число 4675 в квадрате 21855625, это не больше, чем 32452543\n",
            "Число 4676 в квадрате 21864976, это не больше, чем 32452543\n",
            "Число 4677 в квадрате 21874329, это не больше, чем 32452543\n",
            "Число 4678 в квадрате 21883684, это не больше, чем 32452543\n",
            "Число 4679 в квадрате 21893041, это не больше, чем 32452543\n",
            "Число 4680 в квадрате 21902400, это не больше, чем 32452543\n",
            "Число 4681 в квадрате 21911761, это не больше, чем 32452543\n",
            "Число 4682 в квадрате 21921124, это не больше, чем 32452543\n",
            "Число 4683 в квадрате 21930489, это не больше, чем 32452543\n",
            "Число 4684 в квадрате 21939856, это не больше, чем 32452543\n",
            "Число 4685 в квадрате 21949225, это не больше, чем 32452543\n",
            "Число 4686 в квадрате 21958596, это не больше, чем 32452543\n",
            "Число 4687 в квадрате 21967969, это не больше, чем 32452543\n",
            "Число 4688 в квадрате 21977344, это не больше, чем 32452543\n",
            "Число 4689 в квадрате 21986721, это не больше, чем 32452543\n",
            "Число 4690 в квадрате 21996100, это не больше, чем 32452543\n",
            "Число 4691 в квадрате 22005481, это не больше, чем 32452543\n",
            "Число 4692 в квадрате 22014864, это не больше, чем 32452543\n",
            "Число 4693 в квадрате 22024249, это не больше, чем 32452543\n",
            "Число 4694 в квадрате 22033636, это не больше, чем 32452543\n",
            "Число 4695 в квадрате 22043025, это не больше, чем 32452543\n",
            "Число 4696 в квадрате 22052416, это не больше, чем 32452543\n",
            "Число 4697 в квадрате 22061809, это не больше, чем 32452543\n",
            "Число 4698 в квадрате 22071204, это не больше, чем 32452543\n",
            "Число 4699 в квадрате 22080601, это не больше, чем 32452543\n",
            "Число 4700 в квадрате 22090000, это не больше, чем 32452543\n",
            "Число 4701 в квадрате 22099401, это не больше, чем 32452543\n",
            "Число 4702 в квадрате 22108804, это не больше, чем 32452543\n",
            "Число 4703 в квадрате 22118209, это не больше, чем 32452543\n",
            "Число 4704 в квадрате 22127616, это не больше, чем 32452543\n",
            "Число 4705 в квадрате 22137025, это не больше, чем 32452543\n",
            "Число 4706 в квадрате 22146436, это не больше, чем 32452543\n",
            "Число 4707 в квадрате 22155849, это не больше, чем 32452543\n",
            "Число 4708 в квадрате 22165264, это не больше, чем 32452543\n",
            "Число 4709 в квадрате 22174681, это не больше, чем 32452543\n",
            "Число 4710 в квадрате 22184100, это не больше, чем 32452543\n",
            "Число 4711 в квадрате 22193521, это не больше, чем 32452543\n",
            "Число 4712 в квадрате 22202944, это не больше, чем 32452543\n",
            "Число 4713 в квадрате 22212369, это не больше, чем 32452543\n",
            "Число 4714 в квадрате 22221796, это не больше, чем 32452543\n",
            "Число 4715 в квадрате 22231225, это не больше, чем 32452543\n",
            "Число 4716 в квадрате 22240656, это не больше, чем 32452543\n",
            "Число 4717 в квадрате 22250089, это не больше, чем 32452543\n",
            "Число 4718 в квадрате 22259524, это не больше, чем 32452543\n",
            "Число 4719 в квадрате 22268961, это не больше, чем 32452543\n",
            "Число 4720 в квадрате 22278400, это не больше, чем 32452543\n",
            "Число 4721 в квадрате 22287841, это не больше, чем 32452543\n",
            "Число 4722 в квадрате 22297284, это не больше, чем 32452543\n",
            "Число 4723 в квадрате 22306729, это не больше, чем 32452543\n",
            "Число 4724 в квадрате 22316176, это не больше, чем 32452543\n",
            "Число 4725 в квадрате 22325625, это не больше, чем 32452543\n",
            "Число 4726 в квадрате 22335076, это не больше, чем 32452543\n",
            "Число 4727 в квадрате 22344529, это не больше, чем 32452543\n",
            "Число 4728 в квадрате 22353984, это не больше, чем 32452543\n",
            "Число 4729 в квадрате 22363441, это не больше, чем 32452543\n",
            "Число 4730 в квадрате 22372900, это не больше, чем 32452543\n",
            "Число 4731 в квадрате 22382361, это не больше, чем 32452543\n",
            "Число 4732 в квадрате 22391824, это не больше, чем 32452543\n",
            "Число 4733 в квадрате 22401289, это не больше, чем 32452543\n",
            "Число 4734 в квадрате 22410756, это не больше, чем 32452543\n",
            "Число 4735 в квадрате 22420225, это не больше, чем 32452543\n",
            "Число 4736 в квадрате 22429696, это не больше, чем 32452543\n",
            "Число 4737 в квадрате 22439169, это не больше, чем 32452543\n",
            "Число 4738 в квадрате 22448644, это не больше, чем 32452543\n",
            "Число 4739 в квадрате 22458121, это не больше, чем 32452543\n",
            "Число 4740 в квадрате 22467600, это не больше, чем 32452543\n",
            "Число 4741 в квадрате 22477081, это не больше, чем 32452543\n",
            "Число 4742 в квадрате 22486564, это не больше, чем 32452543\n",
            "Число 4743 в квадрате 22496049, это не больше, чем 32452543\n",
            "Число 4744 в квадрате 22505536, это не больше, чем 32452543\n",
            "Число 4745 в квадрате 22515025, это не больше, чем 32452543\n",
            "Число 4746 в квадрате 22524516, это не больше, чем 32452543\n",
            "Число 4747 в квадрате 22534009, это не больше, чем 32452543\n",
            "Число 4748 в квадрате 22543504, это не больше, чем 32452543\n",
            "Число 4749 в квадрате 22553001, это не больше, чем 32452543\n",
            "Число 4750 в квадрате 22562500, это не больше, чем 32452543\n",
            "Число 4751 в квадрате 22572001, это не больше, чем 32452543\n",
            "Число 4752 в квадрате 22581504, это не больше, чем 32452543\n",
            "Число 4753 в квадрате 22591009, это не больше, чем 32452543\n",
            "Число 4754 в квадрате 22600516, это не больше, чем 32452543\n",
            "Число 4755 в квадрате 22610025, это не больше, чем 32452543\n",
            "Число 4756 в квадрате 22619536, это не больше, чем 32452543\n",
            "Число 4757 в квадрате 22629049, это не больше, чем 32452543\n",
            "Число 4758 в квадрате 22638564, это не больше, чем 32452543\n",
            "Число 4759 в квадрате 22648081, это не больше, чем 32452543\n",
            "Число 4760 в квадрате 22657600, это не больше, чем 32452543\n",
            "Число 4761 в квадрате 22667121, это не больше, чем 32452543\n",
            "Число 4762 в квадрате 22676644, это не больше, чем 32452543\n",
            "Число 4763 в квадрате 22686169, это не больше, чем 32452543\n",
            "Число 4764 в квадрате 22695696, это не больше, чем 32452543\n",
            "Число 4765 в квадрате 22705225, это не больше, чем 32452543\n",
            "Число 4766 в квадрате 22714756, это не больше, чем 32452543\n",
            "Число 4767 в квадрате 22724289, это не больше, чем 32452543\n",
            "Число 4768 в квадрате 22733824, это не больше, чем 32452543\n",
            "Число 4769 в квадрате 22743361, это не больше, чем 32452543\n",
            "Число 4770 в квадрате 22752900, это не больше, чем 32452543\n",
            "Число 4771 в квадрате 22762441, это не больше, чем 32452543\n",
            "Число 4772 в квадрате 22771984, это не больше, чем 32452543\n",
            "Число 4773 в квадрате 22781529, это не больше, чем 32452543\n",
            "Число 4774 в квадрате 22791076, это не больше, чем 32452543\n",
            "Число 4775 в квадрате 22800625, это не больше, чем 32452543\n",
            "Число 4776 в квадрате 22810176, это не больше, чем 32452543\n",
            "Число 4777 в квадрате 22819729, это не больше, чем 32452543\n",
            "Число 4778 в квадрате 22829284, это не больше, чем 32452543\n",
            "Число 4779 в квадрате 22838841, это не больше, чем 32452543\n",
            "Число 4780 в квадрате 22848400, это не больше, чем 32452543\n",
            "Число 4781 в квадрате 22857961, это не больше, чем 32452543\n",
            "Число 4782 в квадрате 22867524, это не больше, чем 32452543\n",
            "Число 4783 в квадрате 22877089, это не больше, чем 32452543\n",
            "Число 4784 в квадрате 22886656, это не больше, чем 32452543\n",
            "Число 4785 в квадрате 22896225, это не больше, чем 32452543\n",
            "Число 4786 в квадрате 22905796, это не больше, чем 32452543\n",
            "Число 4787 в квадрате 22915369, это не больше, чем 32452543\n",
            "Число 4788 в квадрате 22924944, это не больше, чем 32452543\n",
            "Число 4789 в квадрате 22934521, это не больше, чем 32452543\n",
            "Число 4790 в квадрате 22944100, это не больше, чем 32452543\n",
            "Число 4791 в квадрате 22953681, это не больше, чем 32452543\n",
            "Число 4792 в квадрате 22963264, это не больше, чем 32452543\n",
            "Число 4793 в квадрате 22972849, это не больше, чем 32452543\n",
            "Число 4794 в квадрате 22982436, это не больше, чем 32452543\n",
            "Число 4795 в квадрате 22992025, это не больше, чем 32452543\n",
            "Число 4796 в квадрате 23001616, это не больше, чем 32452543\n",
            "Число 4797 в квадрате 23011209, это не больше, чем 32452543\n",
            "Число 4798 в квадрате 23020804, это не больше, чем 32452543\n",
            "Число 4799 в квадрате 23030401, это не больше, чем 32452543\n",
            "Число 4800 в квадрате 23040000, это не больше, чем 32452543\n",
            "Число 4801 в квадрате 23049601, это не больше, чем 32452543\n",
            "Число 4802 в квадрате 23059204, это не больше, чем 32452543\n",
            "Число 4803 в квадрате 23068809, это не больше, чем 32452543\n",
            "Число 4804 в квадрате 23078416, это не больше, чем 32452543\n",
            "Число 4805 в квадрате 23088025, это не больше, чем 32452543\n",
            "Число 4806 в квадрате 23097636, это не больше, чем 32452543\n",
            "Число 4807 в квадрате 23107249, это не больше, чем 32452543\n",
            "Число 4808 в квадрате 23116864, это не больше, чем 32452543\n",
            "Число 4809 в квадрате 23126481, это не больше, чем 32452543\n",
            "Число 4810 в квадрате 23136100, это не больше, чем 32452543\n",
            "Число 4811 в квадрате 23145721, это не больше, чем 32452543\n",
            "Число 4812 в квадрате 23155344, это не больше, чем 32452543\n",
            "Число 4813 в квадрате 23164969, это не больше, чем 32452543\n",
            "Число 4814 в квадрате 23174596, это не больше, чем 32452543\n",
            "Число 4815 в квадрате 23184225, это не больше, чем 32452543\n",
            "Число 4816 в квадрате 23193856, это не больше, чем 32452543\n",
            "Число 4817 в квадрате 23203489, это не больше, чем 32452543\n",
            "Число 4818 в квадрате 23213124, это не больше, чем 32452543\n",
            "Число 4819 в квадрате 23222761, это не больше, чем 32452543\n",
            "Число 4820 в квадрате 23232400, это не больше, чем 32452543\n",
            "Число 4821 в квадрате 23242041, это не больше, чем 32452543\n",
            "Число 4822 в квадрате 23251684, это не больше, чем 32452543\n",
            "Число 4823 в квадрате 23261329, это не больше, чем 32452543\n",
            "Число 4824 в квадрате 23270976, это не больше, чем 32452543\n",
            "Число 4825 в квадрате 23280625, это не больше, чем 32452543\n",
            "Число 4826 в квадрате 23290276, это не больше, чем 32452543\n",
            "Число 4827 в квадрате 23299929, это не больше, чем 32452543\n",
            "Число 4828 в квадрате 23309584, это не больше, чем 32452543\n",
            "Число 4829 в квадрате 23319241, это не больше, чем 32452543\n",
            "Число 4830 в квадрате 23328900, это не больше, чем 32452543\n",
            "Число 4831 в квадрате 23338561, это не больше, чем 32452543\n",
            "Число 4832 в квадрате 23348224, это не больше, чем 32452543\n",
            "Число 4833 в квадрате 23357889, это не больше, чем 32452543\n",
            "Число 4834 в квадрате 23367556, это не больше, чем 32452543\n",
            "Число 4835 в квадрате 23377225, это не больше, чем 32452543\n",
            "Число 4836 в квадрате 23386896, это не больше, чем 32452543\n",
            "Число 4837 в квадрате 23396569, это не больше, чем 32452543\n",
            "Число 4838 в квадрате 23406244, это не больше, чем 32452543\n",
            "Число 4839 в квадрате 23415921, это не больше, чем 32452543\n",
            "Число 4840 в квадрате 23425600, это не больше, чем 32452543\n",
            "Число 4841 в квадрате 23435281, это не больше, чем 32452543\n",
            "Число 4842 в квадрате 23444964, это не больше, чем 32452543\n",
            "Число 4843 в квадрате 23454649, это не больше, чем 32452543\n",
            "Число 4844 в квадрате 23464336, это не больше, чем 32452543\n",
            "Число 4845 в квадрате 23474025, это не больше, чем 32452543\n",
            "Число 4846 в квадрате 23483716, это не больше, чем 32452543\n",
            "Число 4847 в квадрате 23493409, это не больше, чем 32452543\n",
            "Число 4848 в квадрате 23503104, это не больше, чем 32452543\n",
            "Число 4849 в квадрате 23512801, это не больше, чем 32452543\n",
            "Число 4850 в квадрате 23522500, это не больше, чем 32452543\n",
            "Число 4851 в квадрате 23532201, это не больше, чем 32452543\n",
            "Число 4852 в квадрате 23541904, это не больше, чем 32452543\n",
            "Число 4853 в квадрате 23551609, это не больше, чем 32452543\n",
            "Число 4854 в квадрате 23561316, это не больше, чем 32452543\n",
            "Число 4855 в квадрате 23571025, это не больше, чем 32452543\n",
            "Число 4856 в квадрате 23580736, это не больше, чем 32452543\n",
            "Число 4857 в квадрате 23590449, это не больше, чем 32452543\n",
            "Число 4858 в квадрате 23600164, это не больше, чем 32452543\n",
            "Число 4859 в квадрате 23609881, это не больше, чем 32452543\n",
            "Число 4860 в квадрате 23619600, это не больше, чем 32452543\n",
            "Число 4861 в квадрате 23629321, это не больше, чем 32452543\n",
            "Число 4862 в квадрате 23639044, это не больше, чем 32452543\n",
            "Число 4863 в квадрате 23648769, это не больше, чем 32452543\n",
            "Число 4864 в квадрате 23658496, это не больше, чем 32452543\n",
            "Число 4865 в квадрате 23668225, это не больше, чем 32452543\n",
            "Число 4866 в квадрате 23677956, это не больше, чем 32452543\n",
            "Число 4867 в квадрате 23687689, это не больше, чем 32452543\n",
            "Число 4868 в квадрате 23697424, это не больше, чем 32452543\n",
            "Число 4869 в квадрате 23707161, это не больше, чем 32452543\n",
            "Число 4870 в квадрате 23716900, это не больше, чем 32452543\n",
            "Число 4871 в квадрате 23726641, это не больше, чем 32452543\n",
            "Число 4872 в квадрате 23736384, это не больше, чем 32452543\n",
            "Число 4873 в квадрате 23746129, это не больше, чем 32452543\n",
            "Число 4874 в квадрате 23755876, это не больше, чем 32452543\n",
            "Число 4875 в квадрате 23765625, это не больше, чем 32452543\n",
            "Число 4876 в квадрате 23775376, это не больше, чем 32452543\n",
            "Число 4877 в квадрате 23785129, это не больше, чем 32452543\n",
            "Число 4878 в квадрате 23794884, это не больше, чем 32452543\n",
            "Число 4879 в квадрате 23804641, это не больше, чем 32452543\n",
            "Число 4880 в квадрате 23814400, это не больше, чем 32452543\n",
            "Число 4881 в квадрате 23824161, это не больше, чем 32452543\n",
            "Число 4882 в квадрате 23833924, это не больше, чем 32452543\n",
            "Число 4883 в квадрате 23843689, это не больше, чем 32452543\n",
            "Число 4884 в квадрате 23853456, это не больше, чем 32452543\n",
            "Число 4885 в квадрате 23863225, это не больше, чем 32452543\n",
            "Число 4886 в квадрате 23872996, это не больше, чем 32452543\n",
            "Число 4887 в квадрате 23882769, это не больше, чем 32452543\n",
            "Число 4888 в квадрате 23892544, это не больше, чем 32452543\n",
            "Число 4889 в квадрате 23902321, это не больше, чем 32452543\n",
            "Число 4890 в квадрате 23912100, это не больше, чем 32452543\n",
            "Число 4891 в квадрате 23921881, это не больше, чем 32452543\n",
            "Число 4892 в квадрате 23931664, это не больше, чем 32452543\n",
            "Число 4893 в квадрате 23941449, это не больше, чем 32452543\n",
            "Число 4894 в квадрате 23951236, это не больше, чем 32452543\n",
            "Число 4895 в квадрате 23961025, это не больше, чем 32452543\n",
            "Число 4896 в квадрате 23970816, это не больше, чем 32452543\n",
            "Число 4897 в квадрате 23980609, это не больше, чем 32452543\n",
            "Число 4898 в квадрате 23990404, это не больше, чем 32452543\n",
            "Число 4899 в квадрате 24000201, это не больше, чем 32452543\n",
            "Число 4900 в квадрате 24010000, это не больше, чем 32452543\n",
            "Число 4901 в квадрате 24019801, это не больше, чем 32452543\n",
            "Число 4902 в квадрате 24029604, это не больше, чем 32452543\n",
            "Число 4903 в квадрате 24039409, это не больше, чем 32452543\n",
            "Число 4904 в квадрате 24049216, это не больше, чем 32452543\n",
            "Число 4905 в квадрате 24059025, это не больше, чем 32452543\n",
            "Число 4906 в квадрате 24068836, это не больше, чем 32452543\n",
            "Число 4907 в квадрате 24078649, это не больше, чем 32452543\n",
            "Число 4908 в квадрате 24088464, это не больше, чем 32452543\n",
            "Число 4909 в квадрате 24098281, это не больше, чем 32452543\n",
            "Число 4910 в квадрате 24108100, это не больше, чем 32452543\n",
            "Число 4911 в квадрате 24117921, это не больше, чем 32452543\n",
            "Число 4912 в квадрате 24127744, это не больше, чем 32452543\n",
            "Число 4913 в квадрате 24137569, это не больше, чем 32452543\n",
            "Число 4914 в квадрате 24147396, это не больше, чем 32452543\n",
            "Число 4915 в квадрате 24157225, это не больше, чем 32452543\n",
            "Число 4916 в квадрате 24167056, это не больше, чем 32452543\n",
            "Число 4917 в квадрате 24176889, это не больше, чем 32452543\n",
            "Число 4918 в квадрате 24186724, это не больше, чем 32452543\n",
            "Число 4919 в квадрате 24196561, это не больше, чем 32452543\n",
            "Число 4920 в квадрате 24206400, это не больше, чем 32452543\n",
            "Число 4921 в квадрате 24216241, это не больше, чем 32452543\n",
            "Число 4922 в квадрате 24226084, это не больше, чем 32452543\n",
            "Число 4923 в квадрате 24235929, это не больше, чем 32452543\n",
            "Число 4924 в квадрате 24245776, это не больше, чем 32452543\n",
            "Число 4925 в квадрате 24255625, это не больше, чем 32452543\n",
            "Число 4926 в квадрате 24265476, это не больше, чем 32452543\n",
            "Число 4927 в квадрате 24275329, это не больше, чем 32452543\n",
            "Число 4928 в квадрате 24285184, это не больше, чем 32452543\n",
            "Число 4929 в квадрате 24295041, это не больше, чем 32452543\n",
            "Число 4930 в квадрате 24304900, это не больше, чем 32452543\n",
            "Число 4931 в квадрате 24314761, это не больше, чем 32452543\n",
            "Число 4932 в квадрате 24324624, это не больше, чем 32452543\n",
            "Число 4933 в квадрате 24334489, это не больше, чем 32452543\n",
            "Число 4934 в квадрате 24344356, это не больше, чем 32452543\n",
            "Число 4935 в квадрате 24354225, это не больше, чем 32452543\n",
            "Число 4936 в квадрате 24364096, это не больше, чем 32452543\n",
            "Число 4937 в квадрате 24373969, это не больше, чем 32452543\n",
            "Число 4938 в квадрате 24383844, это не больше, чем 32452543\n",
            "Число 4939 в квадрате 24393721, это не больше, чем 32452543\n",
            "Число 4940 в квадрате 24403600, это не больше, чем 32452543\n",
            "Число 4941 в квадрате 24413481, это не больше, чем 32452543\n",
            "Число 4942 в квадрате 24423364, это не больше, чем 32452543\n",
            "Число 4943 в квадрате 24433249, это не больше, чем 32452543\n",
            "Число 4944 в квадрате 24443136, это не больше, чем 32452543\n",
            "Число 4945 в квадрате 24453025, это не больше, чем 32452543\n",
            "Число 4946 в квадрате 24462916, это не больше, чем 32452543\n",
            "Число 4947 в квадрате 24472809, это не больше, чем 32452543\n",
            "Число 4948 в квадрате 24482704, это не больше, чем 32452543\n",
            "Число 4949 в квадрате 24492601, это не больше, чем 32452543\n",
            "Число 4950 в квадрате 24502500, это не больше, чем 32452543\n",
            "Число 4951 в квадрате 24512401, это не больше, чем 32452543\n",
            "Число 4952 в квадрате 24522304, это не больше, чем 32452543\n",
            "Число 4953 в квадрате 24532209, это не больше, чем 32452543\n",
            "Число 4954 в квадрате 24542116, это не больше, чем 32452543\n",
            "Число 4955 в квадрате 24552025, это не больше, чем 32452543\n",
            "Число 4956 в квадрате 24561936, это не больше, чем 32452543\n",
            "Число 4957 в квадрате 24571849, это не больше, чем 32452543\n",
            "Число 4958 в квадрате 24581764, это не больше, чем 32452543\n",
            "Число 4959 в квадрате 24591681, это не больше, чем 32452543\n",
            "Число 4960 в квадрате 24601600, это не больше, чем 32452543\n",
            "Число 4961 в квадрате 24611521, это не больше, чем 32452543\n",
            "Число 4962 в квадрате 24621444, это не больше, чем 32452543\n",
            "Число 4963 в квадрате 24631369, это не больше, чем 32452543\n",
            "Число 4964 в квадрате 24641296, это не больше, чем 32452543\n",
            "Число 4965 в квадрате 24651225, это не больше, чем 32452543\n",
            "Число 4966 в квадрате 24661156, это не больше, чем 32452543\n",
            "Число 4967 в квадрате 24671089, это не больше, чем 32452543\n",
            "Число 4968 в квадрате 24681024, это не больше, чем 32452543\n",
            "Число 4969 в квадрате 24690961, это не больше, чем 32452543\n",
            "Число 4970 в квадрате 24700900, это не больше, чем 32452543\n",
            "Число 4971 в квадрате 24710841, это не больше, чем 32452543\n",
            "Число 4972 в квадрате 24720784, это не больше, чем 32452543\n",
            "Число 4973 в квадрате 24730729, это не больше, чем 32452543\n",
            "Число 4974 в квадрате 24740676, это не больше, чем 32452543\n",
            "Число 4975 в квадрате 24750625, это не больше, чем 32452543\n",
            "Число 4976 в квадрате 24760576, это не больше, чем 32452543\n",
            "Число 4977 в квадрате 24770529, это не больше, чем 32452543\n",
            "Число 4978 в квадрате 24780484, это не больше, чем 32452543\n",
            "Число 4979 в квадрате 24790441, это не больше, чем 32452543\n",
            "Число 4980 в квадрате 24800400, это не больше, чем 32452543\n",
            "Число 4981 в квадрате 24810361, это не больше, чем 32452543\n",
            "Число 4982 в квадрате 24820324, это не больше, чем 32452543\n",
            "Число 4983 в квадрате 24830289, это не больше, чем 32452543\n",
            "Число 4984 в квадрате 24840256, это не больше, чем 32452543\n",
            "Число 4985 в квадрате 24850225, это не больше, чем 32452543\n",
            "Число 4986 в квадрате 24860196, это не больше, чем 32452543\n",
            "Число 4987 в квадрате 24870169, это не больше, чем 32452543\n",
            "Число 4988 в квадрате 24880144, это не больше, чем 32452543\n",
            "Число 4989 в квадрате 24890121, это не больше, чем 32452543\n",
            "Число 4990 в квадрате 24900100, это не больше, чем 32452543\n",
            "Число 4991 в квадрате 24910081, это не больше, чем 32452543\n",
            "Число 4992 в квадрате 24920064, это не больше, чем 32452543\n",
            "Число 4993 в квадрате 24930049, это не больше, чем 32452543\n",
            "Число 4994 в квадрате 24940036, это не больше, чем 32452543\n",
            "Число 4995 в квадрате 24950025, это не больше, чем 32452543\n",
            "Число 4996 в квадрате 24960016, это не больше, чем 32452543\n",
            "Число 4997 в квадрате 24970009, это не больше, чем 32452543\n",
            "Число 4998 в квадрате 24980004, это не больше, чем 32452543\n",
            "Число 4999 в квадрате 24990001, это не больше, чем 32452543\n",
            "Число 5000 в квадрате 25000000, это не больше, чем 32452543\n",
            "Число 5001 в квадрате 25010001, это не больше, чем 32452543\n",
            "Число 5002 в квадрате 25020004, это не больше, чем 32452543\n",
            "Число 5003 в квадрате 25030009, это не больше, чем 32452543\n",
            "Число 5004 в квадрате 25040016, это не больше, чем 32452543\n",
            "Число 5005 в квадрате 25050025, это не больше, чем 32452543\n",
            "Число 5006 в квадрате 25060036, это не больше, чем 32452543\n",
            "Число 5007 в квадрате 25070049, это не больше, чем 32452543\n",
            "Число 5008 в квадрате 25080064, это не больше, чем 32452543\n",
            "Число 5009 в квадрате 25090081, это не больше, чем 32452543\n",
            "Число 5010 в квадрате 25100100, это не больше, чем 32452543\n",
            "Число 5011 в квадрате 25110121, это не больше, чем 32452543\n",
            "Число 5012 в квадрате 25120144, это не больше, чем 32452543\n",
            "Число 5013 в квадрате 25130169, это не больше, чем 32452543\n",
            "Число 5014 в квадрате 25140196, это не больше, чем 32452543\n",
            "Число 5015 в квадрате 25150225, это не больше, чем 32452543\n",
            "Число 5016 в квадрате 25160256, это не больше, чем 32452543\n",
            "Число 5017 в квадрате 25170289, это не больше, чем 32452543\n",
            "Число 5018 в квадрате 25180324, это не больше, чем 32452543\n",
            "Число 5019 в квадрате 25190361, это не больше, чем 32452543\n",
            "Число 5020 в квадрате 25200400, это не больше, чем 32452543\n",
            "Число 5021 в квадрате 25210441, это не больше, чем 32452543\n",
            "Число 5022 в квадрате 25220484, это не больше, чем 32452543\n",
            "Число 5023 в квадрате 25230529, это не больше, чем 32452543\n",
            "Число 5024 в квадрате 25240576, это не больше, чем 32452543\n",
            "Число 5025 в квадрате 25250625, это не больше, чем 32452543\n",
            "Число 5026 в квадрате 25260676, это не больше, чем 32452543\n",
            "Число 5027 в квадрате 25270729, это не больше, чем 32452543\n",
            "Число 5028 в квадрате 25280784, это не больше, чем 32452543\n",
            "Число 5029 в квадрате 25290841, это не больше, чем 32452543\n",
            "Число 5030 в квадрате 25300900, это не больше, чем 32452543\n",
            "Число 5031 в квадрате 25310961, это не больше, чем 32452543\n",
            "Число 5032 в квадрате 25321024, это не больше, чем 32452543\n",
            "Число 5033 в квадрате 25331089, это не больше, чем 32452543\n",
            "Число 5034 в квадрате 25341156, это не больше, чем 32452543\n",
            "Число 5035 в квадрате 25351225, это не больше, чем 32452543\n",
            "Число 5036 в квадрате 25361296, это не больше, чем 32452543\n",
            "Число 5037 в квадрате 25371369, это не больше, чем 32452543\n",
            "Число 5038 в квадрате 25381444, это не больше, чем 32452543\n",
            "Число 5039 в квадрате 25391521, это не больше, чем 32452543\n",
            "Число 5040 в квадрате 25401600, это не больше, чем 32452543\n",
            "Число 5041 в квадрате 25411681, это не больше, чем 32452543\n",
            "Число 5042 в квадрате 25421764, это не больше, чем 32452543\n",
            "Число 5043 в квадрате 25431849, это не больше, чем 32452543\n",
            "Число 5044 в квадрате 25441936, это не больше, чем 32452543\n",
            "Число 5045 в квадрате 25452025, это не больше, чем 32452543\n",
            "Число 5046 в квадрате 25462116, это не больше, чем 32452543\n",
            "Число 5047 в квадрате 25472209, это не больше, чем 32452543\n",
            "Число 5048 в квадрате 25482304, это не больше, чем 32452543\n",
            "Число 5049 в квадрате 25492401, это не больше, чем 32452543\n",
            "Число 5050 в квадрате 25502500, это не больше, чем 32452543\n",
            "Число 5051 в квадрате 25512601, это не больше, чем 32452543\n",
            "Число 5052 в квадрате 25522704, это не больше, чем 32452543\n",
            "Число 5053 в квадрате 25532809, это не больше, чем 32452543\n",
            "Число 5054 в квадрате 25542916, это не больше, чем 32452543\n",
            "Число 5055 в квадрате 25553025, это не больше, чем 32452543\n",
            "Число 5056 в квадрате 25563136, это не больше, чем 32452543\n",
            "Число 5057 в квадрате 25573249, это не больше, чем 32452543\n",
            "Число 5058 в квадрате 25583364, это не больше, чем 32452543\n",
            "Число 5059 в квадрате 25593481, это не больше, чем 32452543\n",
            "Число 5060 в квадрате 25603600, это не больше, чем 32452543\n",
            "Число 5061 в квадрате 25613721, это не больше, чем 32452543\n",
            "Число 5062 в квадрате 25623844, это не больше, чем 32452543\n",
            "Число 5063 в квадрате 25633969, это не больше, чем 32452543\n",
            "Число 5064 в квадрате 25644096, это не больше, чем 32452543\n",
            "Число 5065 в квадрате 25654225, это не больше, чем 32452543\n",
            "Число 5066 в квадрате 25664356, это не больше, чем 32452543\n",
            "Число 5067 в квадрате 25674489, это не больше, чем 32452543\n",
            "Число 5068 в квадрате 25684624, это не больше, чем 32452543\n",
            "Число 5069 в квадрате 25694761, это не больше, чем 32452543\n",
            "Число 5070 в квадрате 25704900, это не больше, чем 32452543\n",
            "Число 5071 в квадрате 25715041, это не больше, чем 32452543\n",
            "Число 5072 в квадрате 25725184, это не больше, чем 32452543\n",
            "Число 5073 в квадрате 25735329, это не больше, чем 32452543\n",
            "Число 5074 в квадрате 25745476, это не больше, чем 32452543\n",
            "Число 5075 в квадрате 25755625, это не больше, чем 32452543\n",
            "Число 5076 в квадрате 25765776, это не больше, чем 32452543\n",
            "Число 5077 в квадрате 25775929, это не больше, чем 32452543\n",
            "Число 5078 в квадрате 25786084, это не больше, чем 32452543\n",
            "Число 5079 в квадрате 25796241, это не больше, чем 32452543\n",
            "Число 5080 в квадрате 25806400, это не больше, чем 32452543\n",
            "Число 5081 в квадрате 25816561, это не больше, чем 32452543\n",
            "Число 5082 в квадрате 25826724, это не больше, чем 32452543\n",
            "Число 5083 в квадрате 25836889, это не больше, чем 32452543\n",
            "Число 5084 в квадрате 25847056, это не больше, чем 32452543\n",
            "Число 5085 в квадрате 25857225, это не больше, чем 32452543\n",
            "Число 5086 в квадрате 25867396, это не больше, чем 32452543\n",
            "Число 5087 в квадрате 25877569, это не больше, чем 32452543\n",
            "Число 5088 в квадрате 25887744, это не больше, чем 32452543\n",
            "Число 5089 в квадрате 25897921, это не больше, чем 32452543\n",
            "Число 5090 в квадрате 25908100, это не больше, чем 32452543\n",
            "Число 5091 в квадрате 25918281, это не больше, чем 32452543\n",
            "Число 5092 в квадрате 25928464, это не больше, чем 32452543\n",
            "Число 5093 в квадрате 25938649, это не больше, чем 32452543\n",
            "Число 5094 в квадрате 25948836, это не больше, чем 32452543\n",
            "Число 5095 в квадрате 25959025, это не больше, чем 32452543\n",
            "Число 5096 в квадрате 25969216, это не больше, чем 32452543\n",
            "Число 5097 в квадрате 25979409, это не больше, чем 32452543\n",
            "Число 5098 в квадрате 25989604, это не больше, чем 32452543\n",
            "Число 5099 в квадрате 25999801, это не больше, чем 32452543\n",
            "Число 5100 в квадрате 26010000, это не больше, чем 32452543\n",
            "Число 5101 в квадрате 26020201, это не больше, чем 32452543\n",
            "Число 5102 в квадрате 26030404, это не больше, чем 32452543\n",
            "Число 5103 в квадрате 26040609, это не больше, чем 32452543\n",
            "Число 5104 в квадрате 26050816, это не больше, чем 32452543\n",
            "Число 5105 в квадрате 26061025, это не больше, чем 32452543\n",
            "Число 5106 в квадрате 26071236, это не больше, чем 32452543\n",
            "Число 5107 в квадрате 26081449, это не больше, чем 32452543\n",
            "Число 5108 в квадрате 26091664, это не больше, чем 32452543\n",
            "Число 5109 в квадрате 26101881, это не больше, чем 32452543\n",
            "Число 5110 в квадрате 26112100, это не больше, чем 32452543\n",
            "Число 5111 в квадрате 26122321, это не больше, чем 32452543\n",
            "Число 5112 в квадрате 26132544, это не больше, чем 32452543\n",
            "Число 5113 в квадрате 26142769, это не больше, чем 32452543\n",
            "Число 5114 в квадрате 26152996, это не больше, чем 32452543\n",
            "Число 5115 в квадрате 26163225, это не больше, чем 32452543\n",
            "Число 5116 в квадрате 26173456, это не больше, чем 32452543\n",
            "Число 5117 в квадрате 26183689, это не больше, чем 32452543\n",
            "Число 5118 в квадрате 26193924, это не больше, чем 32452543\n",
            "Число 5119 в квадрате 26204161, это не больше, чем 32452543\n",
            "Число 5120 в квадрате 26214400, это не больше, чем 32452543\n",
            "Число 5121 в квадрате 26224641, это не больше, чем 32452543\n",
            "Число 5122 в квадрате 26234884, это не больше, чем 32452543\n",
            "Число 5123 в квадрате 26245129, это не больше, чем 32452543\n",
            "Число 5124 в квадрате 26255376, это не больше, чем 32452543\n",
            "Число 5125 в квадрате 26265625, это не больше, чем 32452543\n",
            "Число 5126 в квадрате 26275876, это не больше, чем 32452543\n",
            "Число 5127 в квадрате 26286129, это не больше, чем 32452543\n",
            "Число 5128 в квадрате 26296384, это не больше, чем 32452543\n",
            "Число 5129 в квадрате 26306641, это не больше, чем 32452543\n",
            "Число 5130 в квадрате 26316900, это не больше, чем 32452543\n",
            "Число 5131 в квадрате 26327161, это не больше, чем 32452543\n",
            "Число 5132 в квадрате 26337424, это не больше, чем 32452543\n",
            "Число 5133 в квадрате 26347689, это не больше, чем 32452543\n",
            "Число 5134 в квадрате 26357956, это не больше, чем 32452543\n",
            "Число 5135 в квадрате 26368225, это не больше, чем 32452543\n",
            "Число 5136 в квадрате 26378496, это не больше, чем 32452543\n",
            "Число 5137 в квадрате 26388769, это не больше, чем 32452543\n",
            "Число 5138 в квадрате 26399044, это не больше, чем 32452543\n",
            "Число 5139 в квадрате 26409321, это не больше, чем 32452543\n",
            "Число 5140 в квадрате 26419600, это не больше, чем 32452543\n",
            "Число 5141 в квадрате 26429881, это не больше, чем 32452543\n",
            "Число 5142 в квадрате 26440164, это не больше, чем 32452543\n",
            "Число 5143 в квадрате 26450449, это не больше, чем 32452543\n",
            "Число 5144 в квадрате 26460736, это не больше, чем 32452543\n",
            "Число 5145 в квадрате 26471025, это не больше, чем 32452543\n",
            "Число 5146 в квадрате 26481316, это не больше, чем 32452543\n",
            "Число 5147 в квадрате 26491609, это не больше, чем 32452543\n",
            "Число 5148 в квадрате 26501904, это не больше, чем 32452543\n",
            "Число 5149 в квадрате 26512201, это не больше, чем 32452543\n",
            "Число 5150 в квадрате 26522500, это не больше, чем 32452543\n",
            "Число 5151 в квадрате 26532801, это не больше, чем 32452543\n",
            "Число 5152 в квадрате 26543104, это не больше, чем 32452543\n",
            "Число 5153 в квадрате 26553409, это не больше, чем 32452543\n",
            "Число 5154 в квадрате 26563716, это не больше, чем 32452543\n",
            "Число 5155 в квадрате 26574025, это не больше, чем 32452543\n",
            "Число 5156 в квадрате 26584336, это не больше, чем 32452543\n",
            "Число 5157 в квадрате 26594649, это не больше, чем 32452543\n",
            "Число 5158 в квадрате 26604964, это не больше, чем 32452543\n",
            "Число 5159 в квадрате 26615281, это не больше, чем 32452543\n",
            "Число 5160 в квадрате 26625600, это не больше, чем 32452543\n",
            "Число 5161 в квадрате 26635921, это не больше, чем 32452543\n",
            "Число 5162 в квадрате 26646244, это не больше, чем 32452543\n",
            "Число 5163 в квадрате 26656569, это не больше, чем 32452543\n",
            "Число 5164 в квадрате 26666896, это не больше, чем 32452543\n",
            "Число 5165 в квадрате 26677225, это не больше, чем 32452543\n",
            "Число 5166 в квадрате 26687556, это не больше, чем 32452543\n",
            "Число 5167 в квадрате 26697889, это не больше, чем 32452543\n",
            "Число 5168 в квадрате 26708224, это не больше, чем 32452543\n",
            "Число 5169 в квадрате 26718561, это не больше, чем 32452543\n",
            "Число 5170 в квадрате 26728900, это не больше, чем 32452543\n",
            "Число 5171 в квадрате 26739241, это не больше, чем 32452543\n",
            "Число 5172 в квадрате 26749584, это не больше, чем 32452543\n",
            "Число 5173 в квадрате 26759929, это не больше, чем 32452543\n",
            "Число 5174 в квадрате 26770276, это не больше, чем 32452543\n",
            "Число 5175 в квадрате 26780625, это не больше, чем 32452543\n",
            "Число 5176 в квадрате 26790976, это не больше, чем 32452543\n",
            "Число 5177 в квадрате 26801329, это не больше, чем 32452543\n",
            "Число 5178 в квадрате 26811684, это не больше, чем 32452543\n",
            "Число 5179 в квадрате 26822041, это не больше, чем 32452543\n",
            "Число 5180 в квадрате 26832400, это не больше, чем 32452543\n",
            "Число 5181 в квадрате 26842761, это не больше, чем 32452543\n",
            "Число 5182 в квадрате 26853124, это не больше, чем 32452543\n",
            "Число 5183 в квадрате 26863489, это не больше, чем 32452543\n",
            "Число 5184 в квадрате 26873856, это не больше, чем 32452543\n",
            "Число 5185 в квадрате 26884225, это не больше, чем 32452543\n",
            "Число 5186 в квадрате 26894596, это не больше, чем 32452543\n",
            "Число 5187 в квадрате 26904969, это не больше, чем 32452543\n",
            "Число 5188 в квадрате 26915344, это не больше, чем 32452543\n",
            "Число 5189 в квадрате 26925721, это не больше, чем 32452543\n",
            "Число 5190 в квадрате 26936100, это не больше, чем 32452543\n",
            "Число 5191 в квадрате 26946481, это не больше, чем 32452543\n",
            "Число 5192 в квадрате 26956864, это не больше, чем 32452543\n",
            "Число 5193 в квадрате 26967249, это не больше, чем 32452543\n",
            "Число 5194 в квадрате 26977636, это не больше, чем 32452543\n",
            "Число 5195 в квадрате 26988025, это не больше, чем 32452543\n",
            "Число 5196 в квадрате 26998416, это не больше, чем 32452543\n",
            "Число 5197 в квадрате 27008809, это не больше, чем 32452543\n",
            "Число 5198 в квадрате 27019204, это не больше, чем 32452543\n",
            "Число 5199 в квадрате 27029601, это не больше, чем 32452543\n",
            "Число 5200 в квадрате 27040000, это не больше, чем 32452543\n",
            "Число 5201 в квадрате 27050401, это не больше, чем 32452543\n",
            "Число 5202 в квадрате 27060804, это не больше, чем 32452543\n",
            "Число 5203 в квадрате 27071209, это не больше, чем 32452543\n",
            "Число 5204 в квадрате 27081616, это не больше, чем 32452543\n",
            "Число 5205 в квадрате 27092025, это не больше, чем 32452543\n",
            "Число 5206 в квадрате 27102436, это не больше, чем 32452543\n",
            "Число 5207 в квадрате 27112849, это не больше, чем 32452543\n",
            "Число 5208 в квадрате 27123264, это не больше, чем 32452543\n",
            "Число 5209 в квадрате 27133681, это не больше, чем 32452543\n",
            "Число 5210 в квадрате 27144100, это не больше, чем 32452543\n",
            "Число 5211 в квадрате 27154521, это не больше, чем 32452543\n",
            "Число 5212 в квадрате 27164944, это не больше, чем 32452543\n",
            "Число 5213 в квадрате 27175369, это не больше, чем 32452543\n",
            "Число 5214 в квадрате 27185796, это не больше, чем 32452543\n",
            "Число 5215 в квадрате 27196225, это не больше, чем 32452543\n",
            "Число 5216 в квадрате 27206656, это не больше, чем 32452543\n",
            "Число 5217 в квадрате 27217089, это не больше, чем 32452543\n",
            "Число 5218 в квадрате 27227524, это не больше, чем 32452543\n",
            "Число 5219 в квадрате 27237961, это не больше, чем 32452543\n",
            "Число 5220 в квадрате 27248400, это не больше, чем 32452543\n",
            "Число 5221 в квадрате 27258841, это не больше, чем 32452543\n",
            "Число 5222 в квадрате 27269284, это не больше, чем 32452543\n",
            "Число 5223 в квадрате 27279729, это не больше, чем 32452543\n",
            "Число 5224 в квадрате 27290176, это не больше, чем 32452543\n",
            "Число 5225 в квадрате 27300625, это не больше, чем 32452543\n",
            "Число 5226 в квадрате 27311076, это не больше, чем 32452543\n",
            "Число 5227 в квадрате 27321529, это не больше, чем 32452543\n",
            "Число 5228 в квадрате 27331984, это не больше, чем 32452543\n",
            "Число 5229 в квадрате 27342441, это не больше, чем 32452543\n",
            "Число 5230 в квадрате 27352900, это не больше, чем 32452543\n",
            "Число 5231 в квадрате 27363361, это не больше, чем 32452543\n",
            "Число 5232 в квадрате 27373824, это не больше, чем 32452543\n",
            "Число 5233 в квадрате 27384289, это не больше, чем 32452543\n",
            "Число 5234 в квадрате 27394756, это не больше, чем 32452543\n",
            "Число 5235 в квадрате 27405225, это не больше, чем 32452543\n",
            "Число 5236 в квадрате 27415696, это не больше, чем 32452543\n",
            "Число 5237 в квадрате 27426169, это не больше, чем 32452543\n",
            "Число 5238 в квадрате 27436644, это не больше, чем 32452543\n",
            "Число 5239 в квадрате 27447121, это не больше, чем 32452543\n",
            "Число 5240 в квадрате 27457600, это не больше, чем 32452543\n",
            "Число 5241 в квадрате 27468081, это не больше, чем 32452543\n",
            "Число 5242 в квадрате 27478564, это не больше, чем 32452543\n",
            "Число 5243 в квадрате 27489049, это не больше, чем 32452543\n",
            "Число 5244 в квадрате 27499536, это не больше, чем 32452543\n",
            "Число 5245 в квадрате 27510025, это не больше, чем 32452543\n",
            "Число 5246 в квадрате 27520516, это не больше, чем 32452543\n",
            "Число 5247 в квадрате 27531009, это не больше, чем 32452543\n",
            "Число 5248 в квадрате 27541504, это не больше, чем 32452543\n",
            "Число 5249 в квадрате 27552001, это не больше, чем 32452543\n",
            "Число 5250 в квадрате 27562500, это не больше, чем 32452543\n",
            "Число 5251 в квадрате 27573001, это не больше, чем 32452543\n",
            "Число 5252 в квадрате 27583504, это не больше, чем 32452543\n",
            "Число 5253 в квадрате 27594009, это не больше, чем 32452543\n",
            "Число 5254 в квадрате 27604516, это не больше, чем 32452543\n",
            "Число 5255 в квадрате 27615025, это не больше, чем 32452543\n",
            "Число 5256 в квадрате 27625536, это не больше, чем 32452543\n",
            "Число 5257 в квадрате 27636049, это не больше, чем 32452543\n",
            "Число 5258 в квадрате 27646564, это не больше, чем 32452543\n",
            "Число 5259 в квадрате 27657081, это не больше, чем 32452543\n",
            "Число 5260 в квадрате 27667600, это не больше, чем 32452543\n",
            "Число 5261 в квадрате 27678121, это не больше, чем 32452543\n",
            "Число 5262 в квадрате 27688644, это не больше, чем 32452543\n",
            "Число 5263 в квадрате 27699169, это не больше, чем 32452543\n",
            "Число 5264 в квадрате 27709696, это не больше, чем 32452543\n",
            "Число 5265 в квадрате 27720225, это не больше, чем 32452543\n",
            "Число 5266 в квадрате 27730756, это не больше, чем 32452543\n",
            "Число 5267 в квадрате 27741289, это не больше, чем 32452543\n",
            "Число 5268 в квадрате 27751824, это не больше, чем 32452543\n",
            "Число 5269 в квадрате 27762361, это не больше, чем 32452543\n",
            "Число 5270 в квадрате 27772900, это не больше, чем 32452543\n",
            "Число 5271 в квадрате 27783441, это не больше, чем 32452543\n",
            "Число 5272 в квадрате 27793984, это не больше, чем 32452543\n",
            "Число 5273 в квадрате 27804529, это не больше, чем 32452543\n",
            "Число 5274 в квадрате 27815076, это не больше, чем 32452543\n",
            "Число 5275 в квадрате 27825625, это не больше, чем 32452543\n",
            "Число 5276 в квадрате 27836176, это не больше, чем 32452543\n",
            "Число 5277 в квадрате 27846729, это не больше, чем 32452543\n",
            "Число 5278 в квадрате 27857284, это не больше, чем 32452543\n",
            "Число 5279 в квадрате 27867841, это не больше, чем 32452543\n",
            "Число 5280 в квадрате 27878400, это не больше, чем 32452543\n",
            "Число 5281 в квадрате 27888961, это не больше, чем 32452543\n",
            "Число 5282 в квадрате 27899524, это не больше, чем 32452543\n",
            "Число 5283 в квадрате 27910089, это не больше, чем 32452543\n",
            "Число 5284 в квадрате 27920656, это не больше, чем 32452543\n",
            "Число 5285 в квадрате 27931225, это не больше, чем 32452543\n",
            "Число 5286 в квадрате 27941796, это не больше, чем 32452543\n",
            "Число 5287 в квадрате 27952369, это не больше, чем 32452543\n",
            "Число 5288 в квадрате 27962944, это не больше, чем 32452543\n",
            "Число 5289 в квадрате 27973521, это не больше, чем 32452543\n",
            "Число 5290 в квадрате 27984100, это не больше, чем 32452543\n",
            "Число 5291 в квадрате 27994681, это не больше, чем 32452543\n",
            "Число 5292 в квадрате 28005264, это не больше, чем 32452543\n",
            "Число 5293 в квадрате 28015849, это не больше, чем 32452543\n",
            "Число 5294 в квадрате 28026436, это не больше, чем 32452543\n",
            "Число 5295 в квадрате 28037025, это не больше, чем 32452543\n",
            "Число 5296 в квадрате 28047616, это не больше, чем 32452543\n",
            "Число 5297 в квадрате 28058209, это не больше, чем 32452543\n",
            "Число 5298 в квадрате 28068804, это не больше, чем 32452543\n",
            "Число 5299 в квадрате 28079401, это не больше, чем 32452543\n",
            "Число 5300 в квадрате 28090000, это не больше, чем 32452543\n",
            "Число 5301 в квадрате 28100601, это не больше, чем 32452543\n",
            "Число 5302 в квадрате 28111204, это не больше, чем 32452543\n",
            "Число 5303 в квадрате 28121809, это не больше, чем 32452543\n",
            "Число 5304 в квадрате 28132416, это не больше, чем 32452543\n",
            "Число 5305 в квадрате 28143025, это не больше, чем 32452543\n",
            "Число 5306 в квадрате 28153636, это не больше, чем 32452543\n",
            "Число 5307 в квадрате 28164249, это не больше, чем 32452543\n",
            "Число 5308 в квадрате 28174864, это не больше, чем 32452543\n",
            "Число 5309 в квадрате 28185481, это не больше, чем 32452543\n",
            "Число 5310 в квадрате 28196100, это не больше, чем 32452543\n",
            "Число 5311 в квадрате 28206721, это не больше, чем 32452543\n",
            "Число 5312 в квадрате 28217344, это не больше, чем 32452543\n",
            "Число 5313 в квадрате 28227969, это не больше, чем 32452543\n",
            "Число 5314 в квадрате 28238596, это не больше, чем 32452543\n",
            "Число 5315 в квадрате 28249225, это не больше, чем 32452543\n",
            "Число 5316 в квадрате 28259856, это не больше, чем 32452543\n",
            "Число 5317 в квадрате 28270489, это не больше, чем 32452543\n",
            "Число 5318 в квадрате 28281124, это не больше, чем 32452543\n",
            "Число 5319 в квадрате 28291761, это не больше, чем 32452543\n",
            "Число 5320 в квадрате 28302400, это не больше, чем 32452543\n",
            "Число 5321 в квадрате 28313041, это не больше, чем 32452543\n",
            "Число 5322 в квадрате 28323684, это не больше, чем 32452543\n",
            "Число 5323 в квадрате 28334329, это не больше, чем 32452543\n",
            "Число 5324 в квадрате 28344976, это не больше, чем 32452543\n",
            "Число 5325 в квадрате 28355625, это не больше, чем 32452543\n",
            "Число 5326 в квадрате 28366276, это не больше, чем 32452543\n",
            "Число 5327 в квадрате 28376929, это не больше, чем 32452543\n",
            "Число 5328 в квадрате 28387584, это не больше, чем 32452543\n",
            "Число 5329 в квадрате 28398241, это не больше, чем 32452543\n",
            "Число 5330 в квадрате 28408900, это не больше, чем 32452543\n",
            "Число 5331 в квадрате 28419561, это не больше, чем 32452543\n",
            "Число 5332 в квадрате 28430224, это не больше, чем 32452543\n",
            "Число 5333 в квадрате 28440889, это не больше, чем 32452543\n",
            "Число 5334 в квадрате 28451556, это не больше, чем 32452543\n",
            "Число 5335 в квадрате 28462225, это не больше, чем 32452543\n",
            "Число 5336 в квадрате 28472896, это не больше, чем 32452543\n",
            "Число 5337 в квадрате 28483569, это не больше, чем 32452543\n",
            "Число 5338 в квадрате 28494244, это не больше, чем 32452543\n",
            "Число 5339 в квадрате 28504921, это не больше, чем 32452543\n",
            "Число 5340 в квадрате 28515600, это не больше, чем 32452543\n",
            "Число 5341 в квадрате 28526281, это не больше, чем 32452543\n",
            "Число 5342 в квадрате 28536964, это не больше, чем 32452543\n",
            "Число 5343 в квадрате 28547649, это не больше, чем 32452543\n",
            "Число 5344 в квадрате 28558336, это не больше, чем 32452543\n",
            "Число 5345 в квадрате 28569025, это не больше, чем 32452543\n",
            "Число 5346 в квадрате 28579716, это не больше, чем 32452543\n",
            "Число 5347 в квадрате 28590409, это не больше, чем 32452543\n",
            "Число 5348 в квадрате 28601104, это не больше, чем 32452543\n",
            "Число 5349 в квадрате 28611801, это не больше, чем 32452543\n",
            "Число 5350 в квадрате 28622500, это не больше, чем 32452543\n",
            "Число 5351 в квадрате 28633201, это не больше, чем 32452543\n",
            "Число 5352 в квадрате 28643904, это не больше, чем 32452543\n",
            "Число 5353 в квадрате 28654609, это не больше, чем 32452543\n",
            "Число 5354 в квадрате 28665316, это не больше, чем 32452543\n",
            "Число 5355 в квадрате 28676025, это не больше, чем 32452543\n",
            "Число 5356 в квадрате 28686736, это не больше, чем 32452543\n",
            "Число 5357 в квадрате 28697449, это не больше, чем 32452543\n",
            "Число 5358 в квадрате 28708164, это не больше, чем 32452543\n",
            "Число 5359 в квадрате 28718881, это не больше, чем 32452543\n",
            "Число 5360 в квадрате 28729600, это не больше, чем 32452543\n",
            "Число 5361 в квадрате 28740321, это не больше, чем 32452543\n",
            "Число 5362 в квадрате 28751044, это не больше, чем 32452543\n",
            "Число 5363 в квадрате 28761769, это не больше, чем 32452543\n",
            "Число 5364 в квадрате 28772496, это не больше, чем 32452543\n",
            "Число 5365 в квадрате 28783225, это не больше, чем 32452543\n",
            "Число 5366 в квадрате 28793956, это не больше, чем 32452543\n",
            "Число 5367 в квадрате 28804689, это не больше, чем 32452543\n",
            "Число 5368 в квадрате 28815424, это не больше, чем 32452543\n",
            "Число 5369 в квадрате 28826161, это не больше, чем 32452543\n",
            "Число 5370 в квадрате 28836900, это не больше, чем 32452543\n",
            "Число 5371 в квадрате 28847641, это не больше, чем 32452543\n",
            "Число 5372 в квадрате 28858384, это не больше, чем 32452543\n",
            "Число 5373 в квадрате 28869129, это не больше, чем 32452543\n",
            "Число 5374 в квадрате 28879876, это не больше, чем 32452543\n",
            "Число 5375 в квадрате 28890625, это не больше, чем 32452543\n",
            "Число 5376 в квадрате 28901376, это не больше, чем 32452543\n",
            "Число 5377 в квадрате 28912129, это не больше, чем 32452543\n",
            "Число 5378 в квадрате 28922884, это не больше, чем 32452543\n",
            "Число 5379 в квадрате 28933641, это не больше, чем 32452543\n",
            "Число 5380 в квадрате 28944400, это не больше, чем 32452543\n",
            "Число 5381 в квадрате 28955161, это не больше, чем 32452543\n",
            "Число 5382 в квадрате 28965924, это не больше, чем 32452543\n",
            "Число 5383 в квадрате 28976689, это не больше, чем 32452543\n",
            "Число 5384 в квадрате 28987456, это не больше, чем 32452543\n",
            "Число 5385 в квадрате 28998225, это не больше, чем 32452543\n",
            "Число 5386 в квадрате 29008996, это не больше, чем 32452543\n",
            "Число 5387 в квадрате 29019769, это не больше, чем 32452543\n",
            "Число 5388 в квадрате 29030544, это не больше, чем 32452543\n",
            "Число 5389 в квадрате 29041321, это не больше, чем 32452543\n",
            "Число 5390 в квадрате 29052100, это не больше, чем 32452543\n",
            "Число 5391 в квадрате 29062881, это не больше, чем 32452543\n",
            "Число 5392 в квадрате 29073664, это не больше, чем 32452543\n",
            "Число 5393 в квадрате 29084449, это не больше, чем 32452543\n",
            "Число 5394 в квадрате 29095236, это не больше, чем 32452543\n",
            "Число 5395 в квадрате 29106025, это не больше, чем 32452543\n",
            "Число 5396 в квадрате 29116816, это не больше, чем 32452543\n",
            "Число 5397 в квадрате 29127609, это не больше, чем 32452543\n",
            "Число 5398 в квадрате 29138404, это не больше, чем 32452543\n",
            "Число 5399 в квадрате 29149201, это не больше, чем 32452543\n",
            "Число 5400 в квадрате 29160000, это не больше, чем 32452543\n",
            "Число 5401 в квадрате 29170801, это не больше, чем 32452543\n",
            "Число 5402 в квадрате 29181604, это не больше, чем 32452543\n",
            "Число 5403 в квадрате 29192409, это не больше, чем 32452543\n",
            "Число 5404 в квадрате 29203216, это не больше, чем 32452543\n",
            "Число 5405 в квадрате 29214025, это не больше, чем 32452543\n",
            "Число 5406 в квадрате 29224836, это не больше, чем 32452543\n",
            "Число 5407 в квадрате 29235649, это не больше, чем 32452543\n",
            "Число 5408 в квадрате 29246464, это не больше, чем 32452543\n",
            "Число 5409 в квадрате 29257281, это не больше, чем 32452543\n",
            "Число 5410 в квадрате 29268100, это не больше, чем 32452543\n",
            "Число 5411 в квадрате 29278921, это не больше, чем 32452543\n",
            "Число 5412 в квадрате 29289744, это не больше, чем 32452543\n",
            "Число 5413 в квадрате 29300569, это не больше, чем 32452543\n",
            "Число 5414 в квадрате 29311396, это не больше, чем 32452543\n",
            "Число 5415 в квадрате 29322225, это не больше, чем 32452543\n",
            "Число 5416 в квадрате 29333056, это не больше, чем 32452543\n",
            "Число 5417 в квадрате 29343889, это не больше, чем 32452543\n",
            "Число 5418 в квадрате 29354724, это не больше, чем 32452543\n",
            "Число 5419 в квадрате 29365561, это не больше, чем 32452543\n",
            "Число 5420 в квадрате 29376400, это не больше, чем 32452543\n",
            "Число 5421 в квадрате 29387241, это не больше, чем 32452543\n",
            "Число 5422 в квадрате 29398084, это не больше, чем 32452543\n",
            "Число 5423 в квадрате 29408929, это не больше, чем 32452543\n",
            "Число 5424 в квадрате 29419776, это не больше, чем 32452543\n",
            "Число 5425 в квадрате 29430625, это не больше, чем 32452543\n",
            "Число 5426 в квадрате 29441476, это не больше, чем 32452543\n",
            "Число 5427 в квадрате 29452329, это не больше, чем 32452543\n",
            "Число 5428 в квадрате 29463184, это не больше, чем 32452543\n",
            "Число 5429 в квадрате 29474041, это не больше, чем 32452543\n",
            "Число 5430 в квадрате 29484900, это не больше, чем 32452543\n",
            "Число 5431 в квадрате 29495761, это не больше, чем 32452543\n",
            "Число 5432 в квадрате 29506624, это не больше, чем 32452543\n",
            "Число 5433 в квадрате 29517489, это не больше, чем 32452543\n",
            "Число 5434 в квадрате 29528356, это не больше, чем 32452543\n",
            "Число 5435 в квадрате 29539225, это не больше, чем 32452543\n",
            "Число 5436 в квадрате 29550096, это не больше, чем 32452543\n",
            "Число 5437 в квадрате 29560969, это не больше, чем 32452543\n",
            "Число 5438 в квадрате 29571844, это не больше, чем 32452543\n",
            "Число 5439 в квадрате 29582721, это не больше, чем 32452543\n",
            "Число 5440 в квадрате 29593600, это не больше, чем 32452543\n",
            "Число 5441 в квадрате 29604481, это не больше, чем 32452543\n",
            "Число 5442 в квадрате 29615364, это не больше, чем 32452543\n",
            "Число 5443 в квадрате 29626249, это не больше, чем 32452543\n",
            "Число 5444 в квадрате 29637136, это не больше, чем 32452543\n",
            "Число 5445 в квадрате 29648025, это не больше, чем 32452543\n",
            "Число 5446 в квадрате 29658916, это не больше, чем 32452543\n",
            "Число 5447 в квадрате 29669809, это не больше, чем 32452543\n",
            "Число 5448 в квадрате 29680704, это не больше, чем 32452543\n",
            "Число 5449 в квадрате 29691601, это не больше, чем 32452543\n",
            "Число 5450 в квадрате 29702500, это не больше, чем 32452543\n",
            "Число 5451 в квадрате 29713401, это не больше, чем 32452543\n",
            "Число 5452 в квадрате 29724304, это не больше, чем 32452543\n",
            "Число 5453 в квадрате 29735209, это не больше, чем 32452543\n",
            "Число 5454 в квадрате 29746116, это не больше, чем 32452543\n",
            "Число 5455 в квадрате 29757025, это не больше, чем 32452543\n",
            "Число 5456 в квадрате 29767936, это не больше, чем 32452543\n",
            "Число 5457 в квадрате 29778849, это не больше, чем 32452543\n",
            "Число 5458 в квадрате 29789764, это не больше, чем 32452543\n",
            "Число 5459 в квадрате 29800681, это не больше, чем 32452543\n",
            "Число 5460 в квадрате 29811600, это не больше, чем 32452543\n",
            "Число 5461 в квадрате 29822521, это не больше, чем 32452543\n",
            "Число 5462 в квадрате 29833444, это не больше, чем 32452543\n",
            "Число 5463 в квадрате 29844369, это не больше, чем 32452543\n",
            "Число 5464 в квадрате 29855296, это не больше, чем 32452543\n",
            "Число 5465 в квадрате 29866225, это не больше, чем 32452543\n",
            "Число 5466 в квадрате 29877156, это не больше, чем 32452543\n",
            "Число 5467 в квадрате 29888089, это не больше, чем 32452543\n",
            "Число 5468 в квадрате 29899024, это не больше, чем 32452543\n",
            "Число 5469 в квадрате 29909961, это не больше, чем 32452543\n",
            "Число 5470 в квадрате 29920900, это не больше, чем 32452543\n",
            "Число 5471 в квадрате 29931841, это не больше, чем 32452543\n",
            "Число 5472 в квадрате 29942784, это не больше, чем 32452543\n",
            "Число 5473 в квадрате 29953729, это не больше, чем 32452543\n",
            "Число 5474 в квадрате 29964676, это не больше, чем 32452543\n",
            "Число 5475 в квадрате 29975625, это не больше, чем 32452543\n",
            "Число 5476 в квадрате 29986576, это не больше, чем 32452543\n",
            "Число 5477 в квадрате 29997529, это не больше, чем 32452543\n",
            "Число 5478 в квадрате 30008484, это не больше, чем 32452543\n",
            "Число 5479 в квадрате 30019441, это не больше, чем 32452543\n",
            "Число 5480 в квадрате 30030400, это не больше, чем 32452543\n",
            "Число 5481 в квадрате 30041361, это не больше, чем 32452543\n",
            "Число 5482 в квадрате 30052324, это не больше, чем 32452543\n",
            "Число 5483 в квадрате 30063289, это не больше, чем 32452543\n",
            "Число 5484 в квадрате 30074256, это не больше, чем 32452543\n",
            "Число 5485 в квадрате 30085225, это не больше, чем 32452543\n",
            "Число 5486 в квадрате 30096196, это не больше, чем 32452543\n",
            "Число 5487 в квадрате 30107169, это не больше, чем 32452543\n",
            "Число 5488 в квадрате 30118144, это не больше, чем 32452543\n",
            "Число 5489 в квадрате 30129121, это не больше, чем 32452543\n",
            "Число 5490 в квадрате 30140100, это не больше, чем 32452543\n",
            "Число 5491 в квадрате 30151081, это не больше, чем 32452543\n",
            "Число 5492 в квадрате 30162064, это не больше, чем 32452543\n",
            "Число 5493 в квадрате 30173049, это не больше, чем 32452543\n",
            "Число 5494 в квадрате 30184036, это не больше, чем 32452543\n",
            "Число 5495 в квадрате 30195025, это не больше, чем 32452543\n",
            "Число 5496 в квадрате 30206016, это не больше, чем 32452543\n",
            "Число 5497 в квадрате 30217009, это не больше, чем 32452543\n",
            "Число 5498 в квадрате 30228004, это не больше, чем 32452543\n",
            "Число 5499 в квадрате 30239001, это не больше, чем 32452543\n",
            "Число 5500 в квадрате 30250000, это не больше, чем 32452543\n",
            "Число 5501 в квадрате 30261001, это не больше, чем 32452543\n",
            "Число 5502 в квадрате 30272004, это не больше, чем 32452543\n",
            "Число 5503 в квадрате 30283009, это не больше, чем 32452543\n",
            "Число 5504 в квадрате 30294016, это не больше, чем 32452543\n",
            "Число 5505 в квадрате 30305025, это не больше, чем 32452543\n",
            "Число 5506 в квадрате 30316036, это не больше, чем 32452543\n",
            "Число 5507 в квадрате 30327049, это не больше, чем 32452543\n",
            "Число 5508 в квадрате 30338064, это не больше, чем 32452543\n",
            "Число 5509 в квадрате 30349081, это не больше, чем 32452543\n",
            "Число 5510 в квадрате 30360100, это не больше, чем 32452543\n",
            "Число 5511 в квадрате 30371121, это не больше, чем 32452543\n",
            "Число 5512 в квадрате 30382144, это не больше, чем 32452543\n",
            "Число 5513 в квадрате 30393169, это не больше, чем 32452543\n",
            "Число 5514 в квадрате 30404196, это не больше, чем 32452543\n",
            "Число 5515 в квадрате 30415225, это не больше, чем 32452543\n",
            "Число 5516 в квадрате 30426256, это не больше, чем 32452543\n",
            "Число 5517 в квадрате 30437289, это не больше, чем 32452543\n",
            "Число 5518 в квадрате 30448324, это не больше, чем 32452543\n",
            "Число 5519 в квадрате 30459361, это не больше, чем 32452543\n",
            "Число 5520 в квадрате 30470400, это не больше, чем 32452543\n",
            "Число 5521 в квадрате 30481441, это не больше, чем 32452543\n",
            "Число 5522 в квадрате 30492484, это не больше, чем 32452543\n",
            "Число 5523 в квадрате 30503529, это не больше, чем 32452543\n",
            "Число 5524 в квадрате 30514576, это не больше, чем 32452543\n",
            "Число 5525 в квадрате 30525625, это не больше, чем 32452543\n",
            "Число 5526 в квадрате 30536676, это не больше, чем 32452543\n",
            "Число 5527 в квадрате 30547729, это не больше, чем 32452543\n",
            "Число 5528 в квадрате 30558784, это не больше, чем 32452543\n",
            "Число 5529 в квадрате 30569841, это не больше, чем 32452543\n",
            "Число 5530 в квадрате 30580900, это не больше, чем 32452543\n",
            "Число 5531 в квадрате 30591961, это не больше, чем 32452543\n",
            "Число 5532 в квадрате 30603024, это не больше, чем 32452543\n",
            "Число 5533 в квадрате 30614089, это не больше, чем 32452543\n",
            "Число 5534 в квадрате 30625156, это не больше, чем 32452543\n",
            "Число 5535 в квадрате 30636225, это не больше, чем 32452543\n",
            "Число 5536 в квадрате 30647296, это не больше, чем 32452543\n",
            "Число 5537 в квадрате 30658369, это не больше, чем 32452543\n",
            "Число 5538 в квадрате 30669444, это не больше, чем 32452543\n",
            "Число 5539 в квадрате 30680521, это не больше, чем 32452543\n",
            "Число 5540 в квадрате 30691600, это не больше, чем 32452543\n",
            "Число 5541 в квадрате 30702681, это не больше, чем 32452543\n",
            "Число 5542 в квадрате 30713764, это не больше, чем 32452543\n",
            "Число 5543 в квадрате 30724849, это не больше, чем 32452543\n",
            "Число 5544 в квадрате 30735936, это не больше, чем 32452543\n",
            "Число 5545 в квадрате 30747025, это не больше, чем 32452543\n",
            "Число 5546 в квадрате 30758116, это не больше, чем 32452543\n",
            "Число 5547 в квадрате 30769209, это не больше, чем 32452543\n",
            "Число 5548 в квадрате 30780304, это не больше, чем 32452543\n",
            "Число 5549 в квадрате 30791401, это не больше, чем 32452543\n",
            "Число 5550 в квадрате 30802500, это не больше, чем 32452543\n",
            "Число 5551 в квадрате 30813601, это не больше, чем 32452543\n",
            "Число 5552 в квадрате 30824704, это не больше, чем 32452543\n",
            "Число 5553 в квадрате 30835809, это не больше, чем 32452543\n",
            "Число 5554 в квадрате 30846916, это не больше, чем 32452543\n",
            "Число 5555 в квадрате 30858025, это не больше, чем 32452543\n",
            "Число 5556 в квадрате 30869136, это не больше, чем 32452543\n",
            "Число 5557 в квадрате 30880249, это не больше, чем 32452543\n",
            "Число 5558 в квадрате 30891364, это не больше, чем 32452543\n",
            "Число 5559 в квадрате 30902481, это не больше, чем 32452543\n",
            "Число 5560 в квадрате 30913600, это не больше, чем 32452543\n",
            "Число 5561 в квадрате 30924721, это не больше, чем 32452543\n",
            "Число 5562 в квадрате 30935844, это не больше, чем 32452543\n",
            "Число 5563 в квадрате 30946969, это не больше, чем 32452543\n",
            "Число 5564 в квадрате 30958096, это не больше, чем 32452543\n",
            "Число 5565 в квадрате 30969225, это не больше, чем 32452543\n",
            "Число 5566 в квадрате 30980356, это не больше, чем 32452543\n",
            "Число 5567 в квадрате 30991489, это не больше, чем 32452543\n",
            "Число 5568 в квадрате 31002624, это не больше, чем 32452543\n",
            "Число 5569 в квадрате 31013761, это не больше, чем 32452543\n",
            "Число 5570 в квадрате 31024900, это не больше, чем 32452543\n",
            "Число 5571 в квадрате 31036041, это не больше, чем 32452543\n",
            "Число 5572 в квадрате 31047184, это не больше, чем 32452543\n",
            "Число 5573 в квадрате 31058329, это не больше, чем 32452543\n",
            "Число 5574 в квадрате 31069476, это не больше, чем 32452543\n",
            "Число 5575 в квадрате 31080625, это не больше, чем 32452543\n",
            "Число 5576 в квадрате 31091776, это не больше, чем 32452543\n",
            "Число 5577 в квадрате 31102929, это не больше, чем 32452543\n",
            "Число 5578 в квадрате 31114084, это не больше, чем 32452543\n",
            "Число 5579 в квадрате 31125241, это не больше, чем 32452543\n",
            "Число 5580 в квадрате 31136400, это не больше, чем 32452543\n",
            "Число 5581 в квадрате 31147561, это не больше, чем 32452543\n",
            "Число 5582 в квадрате 31158724, это не больше, чем 32452543\n",
            "Число 5583 в квадрате 31169889, это не больше, чем 32452543\n",
            "Число 5584 в квадрате 31181056, это не больше, чем 32452543\n",
            "Число 5585 в квадрате 31192225, это не больше, чем 32452543\n",
            "Число 5586 в квадрате 31203396, это не больше, чем 32452543\n",
            "Число 5587 в квадрате 31214569, это не больше, чем 32452543\n",
            "Число 5588 в квадрате 31225744, это не больше, чем 32452543\n",
            "Число 5589 в квадрате 31236921, это не больше, чем 32452543\n",
            "Число 5590 в квадрате 31248100, это не больше, чем 32452543\n",
            "Число 5591 в квадрате 31259281, это не больше, чем 32452543\n",
            "Число 5592 в квадрате 31270464, это не больше, чем 32452543\n",
            "Число 5593 в квадрате 31281649, это не больше, чем 32452543\n",
            "Число 5594 в квадрате 31292836, это не больше, чем 32452543\n",
            "Число 5595 в квадрате 31304025, это не больше, чем 32452543\n",
            "Число 5596 в квадрате 31315216, это не больше, чем 32452543\n",
            "Число 5597 в квадрате 31326409, это не больше, чем 32452543\n",
            "Число 5598 в квадрате 31337604, это не больше, чем 32452543\n",
            "Число 5599 в квадрате 31348801, это не больше, чем 32452543\n",
            "Число 5600 в квадрате 31360000, это не больше, чем 32452543\n",
            "Число 5601 в квадрате 31371201, это не больше, чем 32452543\n",
            "Число 5602 в квадрате 31382404, это не больше, чем 32452543\n",
            "Число 5603 в квадрате 31393609, это не больше, чем 32452543\n",
            "Число 5604 в квадрате 31404816, это не больше, чем 32452543\n",
            "Число 5605 в квадрате 31416025, это не больше, чем 32452543\n",
            "Число 5606 в квадрате 31427236, это не больше, чем 32452543\n",
            "Число 5607 в квадрате 31438449, это не больше, чем 32452543\n",
            "Число 5608 в квадрате 31449664, это не больше, чем 32452543\n",
            "Число 5609 в квадрате 31460881, это не больше, чем 32452543\n",
            "Число 5610 в квадрате 31472100, это не больше, чем 32452543\n",
            "Число 5611 в квадрате 31483321, это не больше, чем 32452543\n",
            "Число 5612 в квадрате 31494544, это не больше, чем 32452543\n",
            "Число 5613 в квадрате 31505769, это не больше, чем 32452543\n",
            "Число 5614 в квадрате 31516996, это не больше, чем 32452543\n",
            "Число 5615 в квадрате 31528225, это не больше, чем 32452543\n",
            "Число 5616 в квадрате 31539456, это не больше, чем 32452543\n",
            "Число 5617 в квадрате 31550689, это не больше, чем 32452543\n",
            "Число 5618 в квадрате 31561924, это не больше, чем 32452543\n",
            "Число 5619 в квадрате 31573161, это не больше, чем 32452543\n",
            "Число 5620 в квадрате 31584400, это не больше, чем 32452543\n",
            "Число 5621 в квадрате 31595641, это не больше, чем 32452543\n",
            "Число 5622 в квадрате 31606884, это не больше, чем 32452543\n",
            "Число 5623 в квадрате 31618129, это не больше, чем 32452543\n",
            "Число 5624 в квадрате 31629376, это не больше, чем 32452543\n",
            "Число 5625 в квадрате 31640625, это не больше, чем 32452543\n",
            "Число 5626 в квадрате 31651876, это не больше, чем 32452543\n",
            "Число 5627 в квадрате 31663129, это не больше, чем 32452543\n",
            "Число 5628 в квадрате 31674384, это не больше, чем 32452543\n",
            "Число 5629 в квадрате 31685641, это не больше, чем 32452543\n",
            "Число 5630 в квадрате 31696900, это не больше, чем 32452543\n",
            "Число 5631 в квадрате 31708161, это не больше, чем 32452543\n",
            "Число 5632 в квадрате 31719424, это не больше, чем 32452543\n",
            "Число 5633 в квадрате 31730689, это не больше, чем 32452543\n",
            "Число 5634 в квадрате 31741956, это не больше, чем 32452543\n",
            "Число 5635 в квадрате 31753225, это не больше, чем 32452543\n",
            "Число 5636 в квадрате 31764496, это не больше, чем 32452543\n",
            "Число 5637 в квадрате 31775769, это не больше, чем 32452543\n",
            "Число 5638 в квадрате 31787044, это не больше, чем 32452543\n",
            "Число 5639 в квадрате 31798321, это не больше, чем 32452543\n",
            "Число 5640 в квадрате 31809600, это не больше, чем 32452543\n",
            "Число 5641 в квадрате 31820881, это не больше, чем 32452543\n",
            "Число 5642 в квадрате 31832164, это не больше, чем 32452543\n",
            "Число 5643 в квадрате 31843449, это не больше, чем 32452543\n",
            "Число 5644 в квадрате 31854736, это не больше, чем 32452543\n",
            "Число 5645 в квадрате 31866025, это не больше, чем 32452543\n",
            "Число 5646 в квадрате 31877316, это не больше, чем 32452543\n",
            "Число 5647 в квадрате 31888609, это не больше, чем 32452543\n",
            "Число 5648 в квадрате 31899904, это не больше, чем 32452543\n",
            "Число 5649 в квадрате 31911201, это не больше, чем 32452543\n",
            "Число 5650 в квадрате 31922500, это не больше, чем 32452543\n",
            "Число 5651 в квадрате 31933801, это не больше, чем 32452543\n",
            "Число 5652 в квадрате 31945104, это не больше, чем 32452543\n",
            "Число 5653 в квадрате 31956409, это не больше, чем 32452543\n",
            "Число 5654 в квадрате 31967716, это не больше, чем 32452543\n",
            "Число 5655 в квадрате 31979025, это не больше, чем 32452543\n",
            "Число 5656 в квадрате 31990336, это не больше, чем 32452543\n",
            "Число 5657 в квадрате 32001649, это не больше, чем 32452543\n",
            "Число 5658 в квадрате 32012964, это не больше, чем 32452543\n",
            "Число 5659 в квадрате 32024281, это не больше, чем 32452543\n",
            "Число 5660 в квадрате 32035600, это не больше, чем 32452543\n",
            "Число 5661 в квадрате 32046921, это не больше, чем 32452543\n",
            "Число 5662 в квадрате 32058244, это не больше, чем 32452543\n",
            "Число 5663 в квадрате 32069569, это не больше, чем 32452543\n",
            "Число 5664 в квадрате 32080896, это не больше, чем 32452543\n",
            "Число 5665 в квадрате 32092225, это не больше, чем 32452543\n",
            "Число 5666 в квадрате 32103556, это не больше, чем 32452543\n",
            "Число 5667 в квадрате 32114889, это не больше, чем 32452543\n",
            "Число 5668 в квадрате 32126224, это не больше, чем 32452543\n",
            "Число 5669 в квадрате 32137561, это не больше, чем 32452543\n",
            "Число 5670 в квадрате 32148900, это не больше, чем 32452543\n",
            "Число 5671 в квадрате 32160241, это не больше, чем 32452543\n",
            "Число 5672 в квадрате 32171584, это не больше, чем 32452543\n",
            "Число 5673 в квадрате 32182929, это не больше, чем 32452543\n",
            "Число 5674 в квадрате 32194276, это не больше, чем 32452543\n",
            "Число 5675 в квадрате 32205625, это не больше, чем 32452543\n",
            "Число 5676 в квадрате 32216976, это не больше, чем 32452543\n",
            "Число 5677 в квадрате 32228329, это не больше, чем 32452543\n",
            "Число 5678 в квадрате 32239684, это не больше, чем 32452543\n",
            "Число 5679 в квадрате 32251041, это не больше, чем 32452543\n",
            "Число 5680 в квадрате 32262400, это не больше, чем 32452543\n",
            "Число 5681 в квадрате 32273761, это не больше, чем 32452543\n",
            "Число 5682 в квадрате 32285124, это не больше, чем 32452543\n",
            "Число 5683 в квадрате 32296489, это не больше, чем 32452543\n",
            "Число 5684 в квадрате 32307856, это не больше, чем 32452543\n",
            "Число 5685 в квадрате 32319225, это не больше, чем 32452543\n",
            "Число 5686 в квадрате 32330596, это не больше, чем 32452543\n",
            "Число 5687 в квадрате 32341969, это не больше, чем 32452543\n",
            "Число 5688 в квадрате 32353344, это не больше, чем 32452543\n",
            "Число 5689 в квадрате 32364721, это не больше, чем 32452543\n",
            "Число 5690 в квадрате 32376100, это не больше, чем 32452543\n",
            "Число 5691 в квадрате 32387481, это не больше, чем 32452543\n",
            "Число 5692 в квадрате 32398864, это не больше, чем 32452543\n",
            "Число 5693 в квадрате 32410249, это не больше, чем 32452543\n",
            "Число 5694 в квадрате 32421636, это не больше, чем 32452543\n",
            "Число 5695 в квадрате 32433025, это не больше, чем 32452543\n",
            "Число 5696 в квадрате 32444416, это не больше, чем 32452543\n",
            "Число 5697 в квадрате 32455809, это уже больше, чем 32452543\n",
            "Work done, приходите к нам почаще ;)\n"
          ],
          "name": "stdout"
        }
      ]
    },
    {
      "cell_type": "markdown",
      "metadata": {
        "id": "JhBN5yTfgwX4",
        "colab_type": "text"
      },
      "source": [
        "## Цикл for\n",
        "\n",
        "Команды в цикле for выполняются для заданного списка объектов и повторяются столько раз, сколько этих объектов.\n",
        "\n",
        "Дословно это работает так: \n",
        "\n",
        "*Питон, для каждого объекта из списка объектов выполни, пожалуйста, вот это действие* :)\n"
      ]
    },
    {
      "cell_type": "markdown",
      "metadata": {
        "id": "fmoNyACOgwW9",
        "colab_type": "text"
      },
      "source": [
        "### Функция range(n)\n",
        "\n",
        "Функция range выдает последовательность чисел в зависимости от заданных параметров\n",
        "\n",
        "Синтаксис функции:"
      ]
    },
    {
      "cell_type": "code",
      "metadata": {
        "id": "NI6YLkmTgwXa",
        "colab_type": "code",
        "outputId": "4c5e3e58-0a36-481c-9001-b4906e523ed7",
        "colab": {
          "base_uri": "https://localhost:8080/",
          "height": 188
        }
      },
      "source": [
        "for i in range(10):\n",
        "  print(i)"
      ],
      "execution_count": 0,
      "outputs": [
        {
          "output_type": "stream",
          "text": [
            "0\n",
            "1\n",
            "2\n",
            "3\n",
            "4\n",
            "5\n",
            "6\n",
            "7\n",
            "8\n",
            "9\n"
          ],
          "name": "stdout"
        }
      ]
    },
    {
      "cell_type": "code",
      "metadata": {
        "id": "999_SaIogwXi",
        "colab_type": "code",
        "outputId": "467e8d7d-a8b2-4ebc-ed54-cb9e37ca2387",
        "colab": {
          "base_uri": "https://localhost:8080/",
          "height": 171
        }
      },
      "source": [
        "for i in range(3, 12):\n",
        "  print(i)"
      ],
      "execution_count": 0,
      "outputs": [
        {
          "output_type": "stream",
          "text": [
            "3\n",
            "4\n",
            "5\n",
            "6\n",
            "7\n",
            "8\n",
            "9\n",
            "10\n",
            "11\n"
          ],
          "name": "stdout"
        }
      ]
    },
    {
      "cell_type": "code",
      "metadata": {
        "id": "IcqURdFzgwXw",
        "colab_type": "code",
        "outputId": "1bdeaf74-5617-46dc-aa5c-b2fee1e19a90",
        "colab": {
          "base_uri": "https://localhost:8080/",
          "height": 103
        }
      },
      "source": [
        "for i in range(3, 12, 2):\n",
        "  print(i)"
      ],
      "execution_count": 0,
      "outputs": [
        {
          "output_type": "stream",
          "text": [
            "3\n",
            "5\n",
            "7\n",
            "9\n",
            "11\n"
          ],
          "name": "stdout"
        }
      ]
    },
    {
      "cell_type": "code",
      "metadata": {
        "id": "TXDe4b8w9Lrd",
        "colab_type": "code",
        "outputId": "4e292f8b-f652-401c-ce51-528c0c8c99ea",
        "colab": {
          "base_uri": "https://localhost:8080/",
          "height": 171
        }
      },
      "source": [
        "for i in range(12, 3, -1):\n",
        "  print(i)"
      ],
      "execution_count": 0,
      "outputs": [
        {
          "output_type": "stream",
          "text": [
            "12\n",
            "11\n",
            "10\n",
            "9\n",
            "8\n",
            "7\n",
            "6\n",
            "5\n",
            "4\n"
          ],
          "name": "stdout"
        }
      ]
    },
    {
      "cell_type": "code",
      "metadata": {
        "id": "M7DIvHykgwYO",
        "colab_type": "code",
        "outputId": "363dd940-e541-4774-fdca-66c70b61571e",
        "colab": {
          "base_uri": "https://localhost:8080/",
          "height": 86
        }
      },
      "source": [
        "for animal in ['кошка', 'собака', 'енот', 'лиса']:\n",
        "    print(animal)"
      ],
      "execution_count": 0,
      "outputs": [
        {
          "output_type": "stream",
          "text": [
            "кошка\n",
            "собака\n",
            "енот\n",
            "лиса\n"
          ],
          "name": "stdout"
        }
      ]
    },
    {
      "cell_type": "markdown",
      "metadata": {
        "id": "MMCf4bodgwYW",
        "colab_type": "text"
      },
      "source": [
        "#### Задача 8\n",
        "\n",
        "По данному целому числу N распечатайте все квадраты натуральных чисел, не превосходящие N, в порядке возрастания с использованием цикла for"
      ]
    },
    {
      "cell_type": "code",
      "metadata": {
        "id": "H8pDdN-GgwYZ",
        "colab_type": "code",
        "outputId": "69483952-418c-4165-8831-f6fd60d8154b",
        "colab": {
          "base_uri": "https://localhost:8080/",
          "height": 514
        }
      },
      "source": [
        "# Место для решения\n",
        "N = int(input('Введите число: '))\n",
        "\n",
        "while N <= 0:\n",
        "  print('N должно быть положительным')\n",
        "  N = int(input('Введите число: '))\n",
        "\n",
        "N_sqrt = int(N ** 0.5)\n",
        "print('Корень из N, округлённый вниз =', N_sqrt)\n",
        "\n",
        "for i in range(1, N_sqrt + 1):\n",
        "  print('Число ', i, ' в квадрате ', i ** 2, ', это не больше, чем ', N, sep='')  \n",
        "\n",
        "i += 1\n",
        "print('Число ', i, ' в квадрате ', i ** 2, ', это уже больше, чем ', N, sep='')\n",
        "print('Work done, приходите к нам почаще ;)')"
      ],
      "execution_count": 0,
      "outputs": [
        {
          "output_type": "stream",
          "text": [
            "Введите число: 625\n",
            "Корень из N, округлённый вниз = 25\n",
            "Число 1 в квадрате 1, это не больше, чем 625\n",
            "Число 2 в квадрате 4, это не больше, чем 625\n",
            "Число 3 в квадрате 9, это не больше, чем 625\n",
            "Число 4 в квадрате 16, это не больше, чем 625\n",
            "Число 5 в квадрате 25, это не больше, чем 625\n",
            "Число 6 в квадрате 36, это не больше, чем 625\n",
            "Число 7 в квадрате 49, это не больше, чем 625\n",
            "Число 8 в квадрате 64, это не больше, чем 625\n",
            "Число 9 в квадрате 81, это не больше, чем 625\n",
            "Число 10 в квадрате 100, это не больше, чем 625\n",
            "Число 11 в квадрате 121, это не больше, чем 625\n",
            "Число 12 в квадрате 144, это не больше, чем 625\n",
            "Число 13 в квадрате 169, это не больше, чем 625\n",
            "Число 14 в квадрате 196, это не больше, чем 625\n",
            "Число 15 в квадрате 225, это не больше, чем 625\n",
            "Число 16 в квадрате 256, это не больше, чем 625\n",
            "Число 17 в квадрате 289, это не больше, чем 625\n",
            "Число 18 в квадрате 324, это не больше, чем 625\n",
            "Число 19 в квадрате 361, это не больше, чем 625\n",
            "Число 20 в квадрате 400, это не больше, чем 625\n",
            "Число 21 в квадрате 441, это не больше, чем 625\n",
            "Число 22 в квадрате 484, это не больше, чем 625\n",
            "Число 23 в квадрате 529, это не больше, чем 625\n",
            "Число 24 в квадрате 576, это не больше, чем 625\n",
            "Число 25 в квадрате 625, это не больше, чем 625\n",
            "Число 26 в квадрате 676, это уже больше, чем 625\n",
            "Work done, приходите к нам почаще ;)\n"
          ],
          "name": "stdout"
        }
      ]
    },
    {
      "cell_type": "markdown",
      "metadata": {
        "id": "PvHZCrnHgwYe",
        "colab_type": "text"
      },
      "source": [
        "## Базовые структуры"
      ]
    },
    {
      "cell_type": "markdown",
      "metadata": {
        "id": "0GdbykDOgwYh",
        "colab_type": "text"
      },
      "source": [
        "### Список (list)\n",
        "\n",
        "Среди наших коллег провели опрос, какие ассоциации вызывает каждое из времен года. По итогу опроса, среди топовых ассоциаций следующие:"
      ]
    },
    {
      "cell_type": "code",
      "metadata": {
        "id": "2OvlHymVgwYj",
        "colab_type": "code",
        "colab": {}
      },
      "source": [
        "zima = 'снег'\n",
        "vesna = 'солнце'\n",
        "leto = 'фрукты'\n",
        "osen = 'листья'"
      ],
      "execution_count": 0,
      "outputs": []
    },
    {
      "cell_type": "markdown",
      "metadata": {
        "id": "MM65W2uagwYr",
        "colab_type": "text"
      },
      "source": [
        "Но это не очень удобно, можно хранить всю информацию в одной переменной:"
      ]
    },
    {
      "cell_type": "code",
      "metadata": {
        "id": "2p1MUbH-gwYw",
        "colab_type": "code",
        "colab": {}
      },
      "source": [
        "associations = ['снег', 'солнце', 'фрукты', 'листья']"
      ],
      "execution_count": 0,
      "outputs": []
    },
    {
      "cell_type": "code",
      "metadata": {
        "id": "JQMFNPu2_H3I",
        "colab_type": "code",
        "outputId": "920e477f-5e4f-4b19-b4ab-8195560c5d14",
        "colab": {
          "base_uri": "https://localhost:8080/",
          "height": 34
        }
      },
      "source": [
        "print(associations)"
      ],
      "execution_count": 0,
      "outputs": [
        {
          "output_type": "stream",
          "text": [
            "['снег', 'солнце', 'фрукты', 'листья']\n"
          ],
          "name": "stdout"
        }
      ]
    },
    {
      "cell_type": "code",
      "metadata": {
        "id": "yNf_zRUagwY9",
        "colab_type": "code",
        "outputId": "026f68c9-2c34-4c13-c444-c6022a64d4c2",
        "colab": {
          "base_uri": "https://localhost:8080/",
          "height": 34
        }
      },
      "source": [
        "a = list()\n",
        "a = []\n",
        "a"
      ],
      "execution_count": 0,
      "outputs": [
        {
          "output_type": "execute_result",
          "data": {
            "text/plain": [
              "[]"
            ]
          },
          "metadata": {
            "tags": []
          },
          "execution_count": 23
        }
      ]
    },
    {
      "cell_type": "markdown",
      "metadata": {
        "id": "A5S8XYMWgwZK",
        "colab_type": "text"
      },
      "source": [
        "В списке можно хранить информацию разных типов:"
      ]
    },
    {
      "cell_type": "code",
      "metadata": {
        "id": "fFThzCDJgwZP",
        "colab_type": "code",
        "outputId": "729ef404-03b5-49e7-f4bd-eebcdd099f80",
        "colab": {
          "base_uri": "https://localhost:8080/",
          "height": 34
        }
      },
      "source": [
        "my_list = [20, 'город', 0.45]\n",
        "print(my_list)"
      ],
      "execution_count": 0,
      "outputs": [
        {
          "output_type": "stream",
          "text": [
            "[20, 'город', 0.45]\n"
          ],
          "name": "stdout"
        }
      ]
    },
    {
      "cell_type": "markdown",
      "metadata": {
        "id": "-1MoM-fmgwZq",
        "colab_type": "text"
      },
      "source": [
        "К элементам списка можно обращаться по индексу:"
      ]
    },
    {
      "cell_type": "code",
      "metadata": {
        "id": "BcnWkEjKgwZt",
        "colab_type": "code",
        "outputId": "4089c190-190b-4581-8d00-abfc76b0d89d",
        "colab": {
          "base_uri": "https://localhost:8080/",
          "height": 34
        }
      },
      "source": [
        "associations[0]"
      ],
      "execution_count": 0,
      "outputs": [
        {
          "output_type": "execute_result",
          "data": {
            "text/plain": [
              "'снег'"
            ]
          },
          "metadata": {
            "tags": []
          },
          "execution_count": 25
        }
      ]
    },
    {
      "cell_type": "code",
      "metadata": {
        "id": "L-X5xecr_aup",
        "colab_type": "code",
        "outputId": "4f8aaebe-591d-4e4a-a6d4-1a3816cf7b2d",
        "colab": {
          "base_uri": "https://localhost:8080/",
          "height": 86
        }
      },
      "source": [
        "print(associations[0])\n",
        "print(associations[1])\n",
        "print(associations[2])\n",
        "print(associations[3])"
      ],
      "execution_count": 0,
      "outputs": [
        {
          "output_type": "stream",
          "text": [
            "снег\n",
            "солнце\n",
            "фрукты\n",
            "листья\n"
          ],
          "name": "stdout"
        }
      ]
    },
    {
      "cell_type": "code",
      "metadata": {
        "id": "FIH6dUdi_mnz",
        "colab_type": "code",
        "outputId": "d2b45e53-f6a5-4d7d-af96-15d336163e54",
        "colab": {
          "base_uri": "https://localhost:8080/",
          "height": 34
        }
      },
      "source": [
        "print(len(associations))"
      ],
      "execution_count": 0,
      "outputs": [
        {
          "output_type": "stream",
          "text": [
            "4\n"
          ],
          "name": "stdout"
        }
      ]
    },
    {
      "cell_type": "code",
      "metadata": {
        "id": "gmPn6llugwZ7",
        "colab_type": "code",
        "outputId": "c460d850-c18c-42fa-a987-d74c97203be9",
        "colab": {
          "base_uri": "https://localhost:8080/",
          "height": 86
        }
      },
      "source": [
        "for i in range(len(associations)):\n",
        "  print('Элемент списка', i, '-', associations[i])"
      ],
      "execution_count": 0,
      "outputs": [
        {
          "output_type": "stream",
          "text": [
            "Элемент списка 0 - снег\n",
            "Элемент списка 1 - солнце\n",
            "Элемент списка 2 - фрукты\n",
            "Элемент списка 3 - листья\n"
          ],
          "name": "stdout"
        }
      ]
    },
    {
      "cell_type": "markdown",
      "metadata": {
        "id": "rit6BDDjgwaR",
        "colab_type": "text"
      },
      "source": [
        "Листы можно итерировать естественным способом:"
      ]
    },
    {
      "cell_type": "code",
      "metadata": {
        "id": "M55XfsD_gwaV",
        "colab_type": "code",
        "outputId": "4cb18b0e-efe6-408a-98a1-19524e6015c0",
        "colab": {
          "base_uri": "https://localhost:8080/",
          "height": 86
        }
      },
      "source": [
        "for association in associations:\n",
        "    print(association)"
      ],
      "execution_count": 0,
      "outputs": [
        {
          "output_type": "stream",
          "text": [
            "снег\n",
            "солнце\n",
            "фрукты\n",
            "листья\n"
          ],
          "name": "stdout"
        }
      ]
    },
    {
      "cell_type": "markdown",
      "metadata": {
        "id": "sqlmOkdkgwax",
        "colab_type": "text"
      },
      "source": [
        "А еще бывает лист из листов :)"
      ]
    },
    {
      "cell_type": "code",
      "metadata": {
        "id": "WjloaOG5gwa1",
        "colab_type": "code",
        "outputId": "dd95af1b-5cb0-49d3-9b86-21071aed113e",
        "colab": {
          "base_uri": "https://localhost:8080/",
          "height": 86
        }
      },
      "source": [
        "associations = [['Зима', 'снег'], ['Весна', 'солнце'], ['Лето', 'фрукты'], ['Осень', 'листья']]\n",
        "associations"
      ],
      "execution_count": 0,
      "outputs": [
        {
          "output_type": "execute_result",
          "data": {
            "text/plain": [
              "[['Зима', 'снег'],\n",
              " ['Весна', 'солнце'],\n",
              " ['Лето', 'фрукты'],\n",
              " ['Осень', 'листья']]"
            ]
          },
          "metadata": {
            "tags": []
          },
          "execution_count": 41
        }
      ]
    },
    {
      "cell_type": "code",
      "metadata": {
        "id": "ZIt45ry8AE_S",
        "colab_type": "code",
        "outputId": "525dcfeb-6398-4d46-9989-2be86c9e1522",
        "colab": {
          "base_uri": "https://localhost:8080/",
          "height": 68
        }
      },
      "source": [
        "print(associations[0])\n",
        "print(associations[0][0])\n",
        "print(associations[0][1])"
      ],
      "execution_count": 0,
      "outputs": [
        {
          "output_type": "stream",
          "text": [
            "['Зима', 'снег']\n",
            "Зима\n",
            "снег\n"
          ],
          "name": "stdout"
        }
      ]
    },
    {
      "cell_type": "code",
      "metadata": {
        "id": "a3q8tHS0gwbH",
        "colab_type": "code",
        "outputId": "12fec94d-64cc-4fa7-bd56-00e15d18ae5b",
        "colab": {
          "base_uri": "https://localhost:8080/",
          "height": 86
        }
      },
      "source": [
        "for assoc in associations:\n",
        "    print('Время года', assoc[0], 'ассоциациируется с', assoc[1])"
      ],
      "execution_count": 0,
      "outputs": [
        {
          "output_type": "stream",
          "text": [
            "Время года Зима ассоциациируется с снег\n",
            "Время года Весна ассоциациируется с солнце\n",
            "Время года Лето ассоциациируется с фрукты\n",
            "Время года Осень ассоциациируется с листья\n"
          ],
          "name": "stdout"
        }
      ]
    },
    {
      "cell_type": "markdown",
      "metadata": {
        "id": "67xaUWLfgwbW",
        "colab_type": "text"
      },
      "source": [
        "**Есть много методов (т.е. функций, которые присущи только листам) для работы с листами:**\n",
        "\n",
        "Методы\n",
        "- list.append(x)\tДобавляет элемент в конец списка\n",
        "- list.extend(L)\tРасширяет список list, добавляя в конец все элементы списка L\n",
        "- list.insert(i, x)\tВставляет на i-ый элемент значение x\n",
        "- list.remove(x)\tУдаляет первый элемент в списке, имеющий значение x. ValueError, если такого элемента не существует\n",
        "- list.pop([i])\tУдаляет i-ый элемент и возвращает его. Если индекс не указан, удаляется последний элемент\n",
        "- list.index(x, [start [, end]])\tВозвращает положение первого элемента со значением x (при этом поиск ведется от start до end)\n",
        "- list.count(x)\tВозвращает количество элементов со значением x\n",
        "- list.sort([key=функция])\tСортирует список на основе функции\n",
        "- list.reverse()\tРазворачивает список\n",
        "- list.copy()\tПоверхностная копия списка\n",
        "- list.clear()\tОчищает список"
      ]
    },
    {
      "cell_type": "code",
      "metadata": {
        "id": "HR32rTGQA5VS",
        "colab_type": "code",
        "outputId": "9027c43d-e176-4f33-b198-e5177feabc06",
        "colab": {
          "base_uri": "https://localhost:8080/",
          "height": 34
        }
      },
      "source": [
        "lst = [1, 3, 15, 7, 8]\n",
        "print(lst)"
      ],
      "execution_count": 0,
      "outputs": [
        {
          "output_type": "stream",
          "text": [
            "[1, 3, 15, 7, 8]\n"
          ],
          "name": "stdout"
        }
      ]
    },
    {
      "cell_type": "code",
      "metadata": {
        "id": "fEbnENMQA_Cd",
        "colab_type": "code",
        "outputId": "658826fb-b77f-413e-96fc-5c60f4124733",
        "colab": {
          "base_uri": "https://localhost:8080/",
          "height": 34
        }
      },
      "source": [
        "lst.append(100)\n",
        "print(lst)"
      ],
      "execution_count": 0,
      "outputs": [
        {
          "output_type": "stream",
          "text": [
            "[1, 3, 15, 7, 8, 100]\n"
          ],
          "name": "stdout"
        }
      ]
    },
    {
      "cell_type": "code",
      "metadata": {
        "id": "F_-dLSBHBCM6",
        "colab_type": "code",
        "outputId": "f1c51198-1d90-4aeb-bed4-dec7b272348b",
        "colab": {
          "base_uri": "https://localhost:8080/",
          "height": 34
        }
      },
      "source": [
        "for i in range(10):\n",
        "  lst.append(i ** 2 + 5)\n",
        "\n",
        "print(lst)"
      ],
      "execution_count": 0,
      "outputs": [
        {
          "output_type": "stream",
          "text": [
            "[1, 3, 15, 7, 8, 100, 5, 6, 9, 14, 21, 30, 41, 54, 69, 86]\n"
          ],
          "name": "stdout"
        }
      ]
    },
    {
      "cell_type": "code",
      "metadata": {
        "id": "GGPUCbz9BLJV",
        "colab_type": "code",
        "outputId": "0b9e4a00-6762-4a36-a15a-d1a5d82f8992",
        "colab": {
          "base_uri": "https://localhost:8080/",
          "height": 34
        }
      },
      "source": [
        "for assoc in associations:\n",
        "  lst.append(assoc)\n",
        "\n",
        "print(lst)"
      ],
      "execution_count": 0,
      "outputs": [
        {
          "output_type": "stream",
          "text": [
            "[1, 3, 15, 7, 8, 100, 5, 6, 9, 14, 21, 30, 41, 54, 69, 86, ['Зима', 'снег'], ['Весна', 'солнце'], ['Лето', 'фрукты'], ['Осень', 'листья']]\n"
          ],
          "name": "stdout"
        }
      ]
    },
    {
      "cell_type": "code",
      "metadata": {
        "id": "jOMtcJ77BW4K",
        "colab_type": "code",
        "outputId": "977c8896-33fc-4607-9764-2e9c785149ab",
        "colab": {
          "base_uri": "https://localhost:8080/",
          "height": 51
        }
      },
      "source": [
        "text = 'Однажды в студёную зимнюю пору'\n",
        "print(len(text))\n",
        "print(text[0])"
      ],
      "execution_count": 0,
      "outputs": [
        {
          "output_type": "stream",
          "text": [
            "30\n",
            "О\n"
          ],
          "name": "stdout"
        }
      ]
    },
    {
      "cell_type": "code",
      "metadata": {
        "id": "bIX7xQ-LBmle",
        "colab_type": "code",
        "outputId": "8054365e-3d9c-4026-aebf-62dd08b24d51",
        "colab": {
          "base_uri": "https://localhost:8080/",
          "height": 34
        }
      },
      "source": [
        "lst_text = [text[i] for i in range(len(text))]\n",
        "print(lst_text)"
      ],
      "execution_count": 0,
      "outputs": [
        {
          "output_type": "stream",
          "text": [
            "['О', 'д', 'н', 'а', 'ж', 'д', 'ы', ' ', 'в', ' ', 'с', 'т', 'у', 'д', 'ё', 'н', 'у', 'ю', ' ', 'з', 'и', 'м', 'н', 'ю', 'ю', ' ', 'п', 'о', 'р', 'у']\n"
          ],
          "name": "stdout"
        }
      ]
    },
    {
      "cell_type": "code",
      "metadata": {
        "id": "2fCJhH5xB9X2",
        "colab_type": "code",
        "outputId": "15722f04-678d-4959-a052-1a214992fcc0",
        "colab": {
          "base_uri": "https://localhost:8080/",
          "height": 54
        }
      },
      "source": [
        "lst.extend(lst_text)\n",
        "print(lst)"
      ],
      "execution_count": 0,
      "outputs": [
        {
          "output_type": "stream",
          "text": [
            "[1, 3, 15, 7, 8, 100, 5, 6, 9, 14, 21, 30, 41, 54, 69, 86, ['Зима', 'снег'], ['Весна', 'солнце'], ['Лето', 'фрукты'], ['Осень', 'листья'], 'О', 'д', 'н', 'а', 'ж', 'д', 'ы', ' ', 'в', ' ', 'с', 'т', 'у', 'д', 'ё', 'н', 'у', 'ю', ' ', 'з', 'и', 'м', 'н', 'ю', 'ю', ' ', 'п', 'о', 'р', 'у']\n"
          ],
          "name": "stdout"
        }
      ]
    },
    {
      "cell_type": "code",
      "metadata": {
        "id": "vgpuiSQhCQSM",
        "colab_type": "code",
        "outputId": "bc915428-72b6-45d2-ec01-7e38e0f23409",
        "colab": {
          "base_uri": "https://localhost:8080/",
          "height": 54
        }
      },
      "source": [
        "lst[1] = 200\n",
        "print(lst)"
      ],
      "execution_count": 0,
      "outputs": [
        {
          "output_type": "stream",
          "text": [
            "[1, 200, 15, 7, 8, 100, 5, 6, 9, 14, 21, 30, 41, 54, 69, 86, ['Зима', 'снег'], ['Весна', 'солнце'], ['Лето', 'фрукты'], ['Осень', 'листья'], 'О', 'д', 'н', 'а', 'ж', 'д', 'ы', ' ', 'в', ' ', 'с', 'т', 'у', 'д', 'ё', 'н', 'у', 'ю', ' ', 'з', 'и', 'м', 'н', 'ю', 'ю', ' ', 'п', 'о', 'р', 'у']\n"
          ],
          "name": "stdout"
        }
      ]
    },
    {
      "cell_type": "code",
      "metadata": {
        "id": "asvtcUyXCW2r",
        "colab_type": "code",
        "outputId": "e58b633e-09f6-4a68-9298-e8b80ab9e1b0",
        "colab": {
          "base_uri": "https://localhost:8080/",
          "height": 54
        }
      },
      "source": [
        "lst.remove(15)\n",
        "print(lst)"
      ],
      "execution_count": 0,
      "outputs": [
        {
          "output_type": "stream",
          "text": [
            "[1, 200, 7, 8, 100, 5, 6, 9, 14, 21, 30, 41, 54, 69, 86, ['Зима', 'снег'], ['Весна', 'солнце'], ['Лето', 'фрукты'], ['Осень', 'листья'], 'О', 'д', 'н', 'а', 'ж', 'д', 'ы', ' ', 'в', ' ', 'с', 'т', 'у', 'д', 'ё', 'н', 'у', 'ю', ' ', 'з', 'и', 'м', 'н', 'ю', 'ю', ' ', 'п', 'о', 'р', 'у']\n"
          ],
          "name": "stdout"
        }
      ]
    },
    {
      "cell_type": "code",
      "metadata": {
        "id": "t8ehoImtCfrn",
        "colab_type": "code",
        "outputId": "f048453a-1595-4eae-ddee-bfe5e576cdf9",
        "colab": {
          "base_uri": "https://localhost:8080/",
          "height": 34
        }
      },
      "source": [
        "index = lst.index(9)\n",
        "print(index)"
      ],
      "execution_count": 0,
      "outputs": [
        {
          "output_type": "stream",
          "text": [
            "7\n"
          ],
          "name": "stdout"
        }
      ]
    },
    {
      "cell_type": "code",
      "metadata": {
        "id": "gaKEA-8NClZT",
        "colab_type": "code",
        "outputId": "30bf0b8b-7b9e-4cd8-e450-0feca28c8a1e",
        "colab": {
          "base_uri": "https://localhost:8080/",
          "height": 34
        }
      },
      "source": [
        "index = lst.index(['Зима', 'снег'])\n",
        "print(index)"
      ],
      "execution_count": 0,
      "outputs": [
        {
          "output_type": "stream",
          "text": [
            "15\n"
          ],
          "name": "stdout"
        }
      ]
    },
    {
      "cell_type": "code",
      "metadata": {
        "id": "ZEIuQCwJCuWw",
        "colab_type": "code",
        "outputId": "37cd2e5a-fcad-4951-af88-802750a3012b",
        "colab": {
          "base_uri": "https://localhost:8080/",
          "height": 34
        }
      },
      "source": [
        "index = lst.index('н')\n",
        "print(index)"
      ],
      "execution_count": 0,
      "outputs": [
        {
          "output_type": "stream",
          "text": [
            "21\n"
          ],
          "name": "stdout"
        }
      ]
    },
    {
      "cell_type": "code",
      "metadata": {
        "id": "9PpIIk8RC5Jf",
        "colab_type": "code",
        "outputId": "d3d4b94d-b86e-4a78-a24b-5a76267a8239",
        "colab": {
          "base_uri": "https://localhost:8080/",
          "height": 68
        }
      },
      "source": [
        "lst = [5, 1, 2, 8, 7, 3, 4, 2, 6, 1, 5, 3, 7]\n",
        "print('Исходный список', lst)\n",
        "lst.sort()\n",
        "print('Отсортированный по возрастанию список', lst)\n",
        "lst.reverse()\n",
        "print('Отсортированный по убыванию список', lst)"
      ],
      "execution_count": 0,
      "outputs": [
        {
          "output_type": "stream",
          "text": [
            "Исходный список [5, 1, 2, 8, 7, 3, 4, 2, 6, 1, 5, 3, 7]\n",
            "Отсортированный по возрастанию список [1, 1, 2, 2, 3, 3, 4, 5, 5, 6, 7, 7, 8]\n",
            "Отсортированный по убыванию список [8, 7, 7, 6, 5, 5, 4, 3, 3, 2, 2, 1, 1]\n"
          ],
          "name": "stdout"
        }
      ]
    },
    {
      "cell_type": "code",
      "metadata": {
        "id": "KgnoKWD1DX8h",
        "colab_type": "code",
        "outputId": "04e94619-a8dd-429b-a6bf-831f8aff55db",
        "colab": {
          "base_uri": "https://localhost:8080/",
          "height": 120
        }
      },
      "source": [
        "lst2 = lst\n",
        "lst_copy = lst.copy()\n",
        "\n",
        "print('Базовый список', lst)\n",
        "print('Список клон', lst2)\n",
        "print('Список копия по значениям', lst_copy)\n",
        "\n",
        "lst[0] = 100\n",
        "\n",
        "print('Базовый список', lst)\n",
        "print('Список клон', lst2)\n",
        "print('Список копия по значениям', lst_copy)"
      ],
      "execution_count": 0,
      "outputs": [
        {
          "output_type": "stream",
          "text": [
            "Базовый список [8, 7, 7, 6, 5, 5, 4, 3, 3, 2, 2, 1, 1]\n",
            "Список клон [8, 7, 7, 6, 5, 5, 4, 3, 3, 2, 2, 1, 1]\n",
            "Список копия по значениям [8, 7, 7, 6, 5, 5, 4, 3, 3, 2, 2, 1, 1]\n",
            "Базовый список [100, 7, 7, 6, 5, 5, 4, 3, 3, 2, 2, 1, 1]\n",
            "Список клон [100, 7, 7, 6, 5, 5, 4, 3, 3, 2, 2, 1, 1]\n",
            "Список копия по значениям [8, 7, 7, 6, 5, 5, 4, 3, 3, 2, 2, 1, 1]\n"
          ],
          "name": "stdout"
        }
      ]
    },
    {
      "cell_type": "markdown",
      "metadata": {
        "id": "nwUS_syNgwbb",
        "colab_type": "text"
      },
      "source": [
        "### Словарь (dict)"
      ]
    },
    {
      "cell_type": "code",
      "metadata": {
        "id": "IF8Gv06cgwbi",
        "colab_type": "code",
        "colab": {}
      },
      "source": [
        "my_dict = {'Зима' : 'снег', \n",
        "           'Весна' : 'солнце', \n",
        "           'Лето' : 'фрукты',\n",
        "           'Осень' : 'листья'\n",
        "          }"
      ],
      "execution_count": 0,
      "outputs": []
    },
    {
      "cell_type": "code",
      "metadata": {
        "id": "flbOO3T5gwbt",
        "colab_type": "code",
        "outputId": "dcd14da5-258b-4edb-c144-7dadfc38f8bd",
        "colab": {
          "base_uri": "https://localhost:8080/",
          "height": 34
        }
      },
      "source": [
        "my_dict"
      ],
      "execution_count": 0,
      "outputs": [
        {
          "output_type": "execute_result",
          "data": {
            "text/plain": [
              "{'Весна': 'солнце', 'Зима': 'снег', 'Лето': 'фрукты', 'Осень': 'листья'}"
            ]
          },
          "metadata": {
            "tags": []
          },
          "execution_count": 76
        }
      ]
    },
    {
      "cell_type": "markdown",
      "metadata": {
        "id": "V0B7zsKvgwb6",
        "colab_type": "text"
      },
      "source": [
        "У словаря есть 'ключи' и 'значения':"
      ]
    },
    {
      "cell_type": "code",
      "metadata": {
        "id": "KUv7u7Nqgwb-",
        "colab_type": "code",
        "outputId": "8c42517a-21e7-44a7-df92-751b08bc0e3d",
        "colab": {
          "base_uri": "https://localhost:8080/",
          "height": 34
        }
      },
      "source": [
        "my_dict.keys()"
      ],
      "execution_count": 0,
      "outputs": [
        {
          "output_type": "execute_result",
          "data": {
            "text/plain": [
              "dict_keys(['Зима', 'Весна', 'Лето', 'Осень'])"
            ]
          },
          "metadata": {
            "tags": []
          },
          "execution_count": 77
        }
      ]
    },
    {
      "cell_type": "code",
      "metadata": {
        "id": "F6NZUOOUgwcI",
        "colab_type": "code",
        "outputId": "80d8c4ca-f5f8-4adb-a33d-5ef753566c0d",
        "colab": {
          "base_uri": "https://localhost:8080/",
          "height": 34
        }
      },
      "source": [
        "my_dict.values()"
      ],
      "execution_count": 0,
      "outputs": [
        {
          "output_type": "execute_result",
          "data": {
            "text/plain": [
              "dict_values(['снег', 'солнце', 'фрукты', 'листья'])"
            ]
          },
          "metadata": {
            "tags": []
          },
          "execution_count": 78
        }
      ]
    },
    {
      "cell_type": "code",
      "metadata": {
        "id": "rN6zjMacgwcZ",
        "colab_type": "code",
        "outputId": "86bea601-a34e-4575-9287-2dc61a50b921",
        "colab": {
          "base_uri": "https://localhost:8080/",
          "height": 34
        }
      },
      "source": [
        "my_dict.items()"
      ],
      "execution_count": 0,
      "outputs": [
        {
          "output_type": "execute_result",
          "data": {
            "text/plain": [
              "dict_items([('Зима', 'снег'), ('Весна', 'солнце'), ('Лето', 'фрукты'), ('Осень', 'листья')])"
            ]
          },
          "metadata": {
            "tags": []
          },
          "execution_count": 79
        }
      ]
    },
    {
      "cell_type": "code",
      "metadata": {
        "id": "qg_fNkDCEgbr",
        "colab_type": "code",
        "outputId": "9bd4c376-9e85-4165-8fb6-c6beaa6ec4fa",
        "colab": {
          "base_uri": "https://localhost:8080/",
          "height": 86
        }
      },
      "source": [
        "items = my_dict.items()\n",
        "for it in items:\n",
        "  print(it)"
      ],
      "execution_count": 0,
      "outputs": [
        {
          "output_type": "stream",
          "text": [
            "('Зима', 'снег')\n",
            "('Весна', 'солнце')\n",
            "('Лето', 'фрукты')\n",
            "('Осень', 'листья')\n"
          ],
          "name": "stdout"
        }
      ]
    },
    {
      "cell_type": "code",
      "metadata": {
        "id": "wQVjLPswgwcu",
        "colab_type": "code",
        "outputId": "33e1d165-e7b8-42bb-fc83-a998c6260ad4",
        "colab": {
          "base_uri": "https://localhost:8080/",
          "height": 34
        }
      },
      "source": [
        "my_dict['Весна']"
      ],
      "execution_count": 0,
      "outputs": [
        {
          "output_type": "execute_result",
          "data": {
            "text/plain": [
              "'солнце'"
            ]
          },
          "metadata": {
            "tags": []
          },
          "execution_count": 82
        }
      ]
    },
    {
      "cell_type": "code",
      "metadata": {
        "id": "HS61wT88EtDt",
        "colab_type": "code",
        "colab": {}
      },
      "source": [
        "months = {'Январь' : 31, \n",
        "           'Февраль' : 28,\n",
        "           'Март' : 31,\n",
        "           'Апрель' : 30,\n",
        "           'Май' : 31,\n",
        "           'Июнь' : 30,\n",
        "           'Июль' : 31,\n",
        "           'Август' : 31,\n",
        "           'Сентябрь' : 30,\n",
        "           'Октябрь' : 31,\n",
        "           'Ноябрь' : 30,\n",
        "           'Декабрь' : 31,\n",
        "          }"
      ],
      "execution_count": 0,
      "outputs": []
    },
    {
      "cell_type": "code",
      "metadata": {
        "id": "hoNkd0LEFWvy",
        "colab_type": "code",
        "outputId": "af48d9ab-bd2f-43f4-e792-5e29d191970a",
        "colab": {
          "base_uri": "https://localhost:8080/",
          "height": 34
        }
      },
      "source": [
        "months['Сентябрь']"
      ],
      "execution_count": 0,
      "outputs": [
        {
          "output_type": "execute_result",
          "data": {
            "text/plain": [
              "30"
            ]
          },
          "metadata": {
            "tags": []
          },
          "execution_count": 86
        }
      ]
    },
    {
      "cell_type": "markdown",
      "metadata": {
        "id": "2DYiGluPkolk",
        "colab_type": "text"
      },
      "source": [
        "# **Глоссарий**\n",
        "\n",
        "*Функции (из коробки):*\n",
        "\n",
        "**print()** - вывод на экран\n",
        "\n",
        "**input()** - ввод с клавиатуры\n",
        "\n",
        "**len()** - длина объекта\n",
        "\n",
        "**range()** - диапазон чисел\n",
        "\n",
        "\n",
        "*Основные типы данных:*\n",
        "\n",
        "\n",
        "**int** - целые числа (7)\n",
        "\n",
        "**float** - числа с плавающей точкой (7.0)\n",
        "\n",
        "**string** - строковые данные ('строка')\n",
        "\n",
        "**bool** - булевы данные (True/False)\n",
        "\n"
      ]
    },
    {
      "cell_type": "markdown",
      "metadata": {
        "id": "VgEvT2a_oqNR",
        "colab_type": "text"
      },
      "source": [
        "*Базовые структуры данных:*\n",
        "\n",
        "**list** - структура, предназначенная для хранения данных разных типов. \n",
        "> преобразовать объект в список **list()**\n",
        "\n",
        "**set** - множество - похож на список с разницей, что в нем не может быть повторяющихся элементов. Т.е., если список может быть [1,2,2], то множество будет (1,2)\n",
        "> преобразовать объект в множество/создать пустое множество **set()**\n",
        "\n",
        "**tuple** - кортеж - похож на список с разницей, что в него нельзя добавить новые элементы.\n",
        "> преобразовать объект в кортеж/создать новый кортеж **tuple()**\n",
        "\n",
        "**dict** - структура, предназначенная для хранения данных разных типов, при этом организована по типу ключа-значение\n",
        "> преобразовать в словарь/ создать новый словарь {КЛЮЧ:ЗНАЧЕНИЕ}\n",
        "\n",
        "\n"
      ]
    }
  ]
}