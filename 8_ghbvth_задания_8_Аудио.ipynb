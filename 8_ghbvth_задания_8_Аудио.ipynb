{
  "nbformat": 4,
  "nbformat_minor": 0,
  "metadata": {
    "colab": {
      "name": "Февральский курс. Разбор домашнего задания #8. Аудио",
      "provenance": [],
      "collapsed_sections": [],
      "include_colab_link": true
    },
    "kernelspec": {
      "name": "python3",
      "display_name": "Python 3"
    },
    "accelerator": "GPU"
  },
  "cells": [
    {
      "cell_type": "markdown",
      "metadata": {
        "id": "view-in-github",
        "colab_type": "text"
      },
      "source": [
        "<a href=\"https://colab.research.google.com/github/errec-sun/brain/blob/master/8_ghbvth_%D0%B7%D0%B0%D0%B4%D0%B0%D0%BD%D0%B8%D1%8F_8_%D0%90%D1%83%D0%B4%D0%B8%D0%BE.ipynb\" target=\"_parent\"><img src=\"https://colab.research.google.com/assets/colab-badge.svg\" alt=\"Open In Colab\"/></a>"
      ]
    },
    {
      "cell_type": "code",
      "metadata": {
        "id": "xWiCMHe2LPU4",
        "colab_type": "code",
        "colab": {}
      },
      "source": [
        "#Подключаем библиотеки\n",
        "from google.colab import files #Загрузка файлов\n",
        "from tensorflow.keras import utils #Для to_categorical\n",
        "import os #Работа с папками и файлами\n",
        "import librosa #Параметризация аудио\n",
        "import numpy as np #Numpy массивы\n",
        "import matplotlib.pyplot as plt #Отображение графиков\n",
        "#Отрисовка графиков в ячейках collab\n",
        "%matplotlib inline \n",
        "\n",
        "from tensorflow.keras.optimizers import Adam, RMSprop #Оптимизатор для задания шага обучения\n",
        "from tensorflow.keras.models import Sequential, Model #Два формата модели keras\n",
        "from tensorflow.keras.layers import concatenate, Input, Dense, Dropout, BatchNormalization, Flatten, Conv1D, Conv2D, LSTM, MaxPooling2D, MaxPooling1D, GlobalMaxPooling2D #Базовые слови\n",
        "from sklearn.model_selection import train_test_split #Разбиение на обучающую и проверочную выборку\n",
        "from sklearn.preprocessing import LabelEncoder, StandardScaler #Для нормировки данных\n",
        "\n",
        "#Отключаем предупреждения\n",
        "import warnings\n",
        "warnings.filterwarnings('ignore')"
      ],
      "execution_count": 0,
      "outputs": []
    },
    {
      "cell_type": "code",
      "metadata": {
        "id": "RDvFcj3CjnxG",
        "colab_type": "code",
        "outputId": "12a24394-2b0d-4e40-848a-d58135f09111",
        "colab": {
          "base_uri": "https://localhost:8080/",
          "height": 122
        }
      },
      "source": [
        "#Подключаем Google drive\n",
        "from google.colab import drive\n",
        "drive.mount('/content/drive')\n",
        "#Базу для ноутбука можно скачать по ссылке\n",
        "#http://marsyas.info/downloads/datasets.html"
      ],
      "execution_count": 0,
      "outputs": [
        {
          "output_type": "stream",
          "text": [
            "Go to this URL in a browser: https://accounts.google.com/o/oauth2/auth?client_id=947318989803-6bn6qk8qdgf4n4g3pfee6491hc0brc4i.apps.googleusercontent.com&redirect_uri=urn%3aietf%3awg%3aoauth%3a2.0%3aoob&response_type=code&scope=email%20https%3a%2f%2fwww.googleapis.com%2fauth%2fdocs.test%20https%3a%2f%2fwww.googleapis.com%2fauth%2fdrive%20https%3a%2f%2fwww.googleapis.com%2fauth%2fdrive.photos.readonly%20https%3a%2f%2fwww.googleapis.com%2fauth%2fpeopleapi.readonly\n",
            "\n",
            "Enter your authorization code:\n",
            "··········\n",
            "Mounted at /content/drive\n"
          ],
          "name": "stdout"
        }
      ]
    },
    {
      "cell_type": "code",
      "metadata": {
        "id": "h_YQFujuobE5",
        "colab_type": "code",
        "outputId": "275ff88f-bd1a-4f55-ec1b-54c66ba2b9b6",
        "colab": {
          "base_uri": "https://localhost:8080/",
          "height": 374
        }
      },
      "source": [
        "import zipfile #Для разорхивации базы\n",
        "\n",
        "#Разорхивируем архив с базой\n",
        "z = zipfile.ZipFile('/content/drive/My Drive/Базы/genres.zip', 'r')\n",
        "z.extractall()\n",
        "\n",
        "#Задаём названия жанров\n",
        "#В архиве названия папок совпадают с названиями жанров\n",
        "genres = 'blues classical country disco hiphop jazz metal pop reggae rock'.split()\n",
        "\n",
        "#Проверяем выгруженные папки\n",
        "!ls genres \n",
        "#И одну из папок\n",
        "!ls genres/blues"
      ],
      "execution_count": 0,
      "outputs": [
        {
          "output_type": "stream",
          "text": [
            "blues  classical  country  disco  hiphop  jazz\tmetal  pop  reggae  rock\n",
            "blues.00000.au\tblues.00020.au\tblues.00040.au\tblues.00060.au\tblues.00080.au\n",
            "blues.00001.au\tblues.00021.au\tblues.00041.au\tblues.00061.au\tblues.00081.au\n",
            "blues.00002.au\tblues.00022.au\tblues.00042.au\tblues.00062.au\tblues.00082.au\n",
            "blues.00003.au\tblues.00023.au\tblues.00043.au\tblues.00063.au\tblues.00083.au\n",
            "blues.00004.au\tblues.00024.au\tblues.00044.au\tblues.00064.au\tblues.00084.au\n",
            "blues.00005.au\tblues.00025.au\tblues.00045.au\tblues.00065.au\tblues.00085.au\n",
            "blues.00006.au\tblues.00026.au\tblues.00046.au\tblues.00066.au\tblues.00086.au\n",
            "blues.00007.au\tblues.00027.au\tblues.00047.au\tblues.00067.au\tblues.00087.au\n",
            "blues.00008.au\tblues.00028.au\tblues.00048.au\tblues.00068.au\tblues.00088.au\n",
            "blues.00009.au\tblues.00029.au\tblues.00049.au\tblues.00069.au\tblues.00089.au\n",
            "blues.00010.au\tblues.00030.au\tblues.00050.au\tblues.00070.au\tblues.00090.au\n",
            "blues.00011.au\tblues.00031.au\tblues.00051.au\tblues.00071.au\tblues.00091.au\n",
            "blues.00012.au\tblues.00032.au\tblues.00052.au\tblues.00072.au\tblues.00092.au\n",
            "blues.00013.au\tblues.00033.au\tblues.00053.au\tblues.00073.au\tblues.00093.au\n",
            "blues.00014.au\tblues.00034.au\tblues.00054.au\tblues.00074.au\tblues.00094.au\n",
            "blues.00015.au\tblues.00035.au\tblues.00055.au\tblues.00075.au\tblues.00095.au\n",
            "blues.00016.au\tblues.00036.au\tblues.00056.au\tblues.00076.au\tblues.00096.au\n",
            "blues.00017.au\tblues.00037.au\tblues.00057.au\tblues.00077.au\tblues.00097.au\n",
            "blues.00018.au\tblues.00038.au\tblues.00058.au\tblues.00078.au\tblues.00098.au\n",
            "blues.00019.au\tblues.00039.au\tblues.00059.au\tblues.00079.au\tblues.00099.au\n"
          ],
          "name": "stdout"
        }
      ]
    },
    {
      "cell_type": "code",
      "metadata": {
        "id": "wfQ-PnDJMyVf",
        "colab_type": "code",
        "colab": {}
      },
      "source": [
        "#Функция параметризации аудир\n",
        "def get_features(y, sr):\n",
        "  #Получаем различные параметры аудио\n",
        "  chroma_stft = np.mean(librosa.feature.chroma_stft(y = y, sr = sr)) #Частота цветности\n",
        "  rmse = np.mean(librosa.feature.rmse(y=y)) #Среднеквадратичная амплитуда\n",
        "  spec_cent = np.mean(librosa.feature.spectral_centroid(y = y, sr = sr)) #Спектральный центроид\n",
        "  spec_bw = np.mean(librosa.feature.spectral_bandwidth(y = y, sr = sr)) #Ширина полосы частот\n",
        "  rolloff = np.mean(librosa.feature.spectral_rolloff(y = y, sr = sr)) #Спектральный спад частоты\n",
        "  zcr = np.mean(librosa.feature.zero_crossing_rate(y)) #Пересечения нуля\n",
        "  mfcc = librosa.feature.mfcc(y = y, sr = sr) #Мел кепстральные коэффициенты\n",
        "  \n",
        "  #Добавляем все параметры в один список\n",
        "  out = []\n",
        "  out.append(chroma_stft)\n",
        "  out.append(rmse)\n",
        "  out.append(spec_cent)\n",
        "  out.append(spec_bw)\n",
        "  out.append(rolloff)\n",
        "  out.append(zcr)\n",
        "  \n",
        "  #По одному добавляем все Мел коэффициенты\n",
        "  for e in mfcc:\n",
        "    out.append(np.mean(e))\n",
        "  \n",
        "  #Возвращаем получившийся список\n",
        "  return out"
      ],
      "execution_count": 0,
      "outputs": []
    },
    {
      "cell_type": "code",
      "metadata": {
        "id": "L5Up5SxKC7Pc",
        "colab_type": "code",
        "outputId": "e7b5da3f-02b9-4796-8fee-a9b55c7c2ff8",
        "colab": {
          "base_uri": "https://localhost:8080/",
          "height": 187
        }
      },
      "source": [
        "import time #Для подсчёта времени на обработку одного жанра\n",
        "\n",
        "#Формируем обучающую выборку\n",
        "#Создаём пустые листы\n",
        "X_train = []\n",
        "Y_train = []\n",
        "\n",
        "#Запоминаем время старта формирования выборки\n",
        "curr_time = time.time()\n",
        "\n",
        "seconds = 20\n",
        "\n",
        "#Проходим по всем жарнам\n",
        "for i in range(len(genres)):\n",
        "  g = genres[i] #Берём текущий жанр\n",
        "  #Проходим по файлам папки, соответствующей текущему жанру\n",
        "  for filename in os.listdir(f'./genres/{g}'):\n",
        "    #Получаем имя песни\n",
        "    songname = f'./genres/{g}/{filename}'\n",
        "    #Загружаем в y аудиосигнал\n",
        "    #Используем первые %seconds% секунд аудио\n",
        "    y, sr = librosa.load(songname, mono=True, duration=seconds)\n",
        "    #Превращаем сигнал в параметризованные данные\n",
        "    out = get_features(y, sr)\n",
        "    \n",
        "    #Добавляем строку в X_train\n",
        "    X_train.append(out)\n",
        "    #Добавляем в Y_train номер жанра в формате ohe\n",
        "    Y_train.append(utils.to_categorical(i, len(genres)))\n",
        "\n",
        "  #Выводим информацию о готовности обработки базы\n",
        "  print(\"Жанр \", g, \" готов -> \", round(time.time() - curr_time), \"c\", sep=\"\")\n",
        "  curr_time = time.time()\n",
        "\n",
        "#Превращаем обучающую выборку на numpy массивы\n",
        "X_train = np.array(X_train)\n",
        "Y_train = np.array(Y_train)"
      ],
      "execution_count": 0,
      "outputs": [
        {
          "output_type": "stream",
          "text": [
            "Жанр blues готов -> 68c\n",
            "Жанр classical готов -> 69c\n",
            "Жанр country готов -> 68c\n",
            "Жанр disco готов -> 68c\n",
            "Жанр hiphop готов -> 68c\n",
            "Жанр jazz готов -> 68c\n",
            "Жанр metal готов -> 68c\n",
            "Жанр pop готов -> 68c\n",
            "Жанр reggae готов -> 68c\n",
            "Жанр rock готов -> 68c\n"
          ],
          "name": "stdout"
        }
      ]
    },
    {
      "cell_type": "code",
      "metadata": {
        "id": "AJ1-UoWUNcTL",
        "colab_type": "code",
        "colab": {}
      },
      "source": [
        "#Создаём scaler для нормировки в нормальное распределение\n",
        "scaler = StandardScaler()\n",
        "#Номируем X_train\n",
        "X_train = scaler.fit_transform(np.array(X_train, dtype = float))"
      ],
      "execution_count": 0,
      "outputs": []
    },
    {
      "cell_type": "code",
      "metadata": {
        "id": "g9U-LEeqcZCK",
        "colab_type": "code",
        "colab": {}
      },
      "source": [
        "#Выводим номера классов, чтобы проверить, что всё правильно заполнилось\n",
        "#И номера классов идут последовательно крупными блоками\n",
        "y_train_class = np.argmax(Y_train, axis=1)"
      ],
      "execution_count": 0,
      "outputs": []
    },
    {
      "cell_type": "code",
      "metadata": {
        "id": "sSdgnnI_Sxir",
        "colab_type": "code",
        "colab": {}
      },
      "source": [
        "#Разделяем выборку на обучающую и проверочную\n",
        "#Для проверочной используем 10% примеров\n",
        "#Так как база маленькая\n",
        "X_train, X_test, y_train, y_test = train_test_split(X_train, y_train_class, test_size=0.1)"
      ],
      "execution_count": 0,
      "outputs": []
    },
    {
      "cell_type": "code",
      "metadata": {
        "id": "up_RzaPSNfVe",
        "colab_type": "code",
        "outputId": "e78cf0dc-d406-46bb-97a9-126c7cb1cda8",
        "colab": {
          "base_uri": "https://localhost:8080/",
          "height": 85
        }
      },
      "source": [
        "#Выводим размеры обучающей и проверочной выборки для проверки\n",
        "print(X_train.shape)\n",
        "print(y_train.shape)\n",
        "print(X_test.shape)\n",
        "print(y_test.shape)"
      ],
      "execution_count": 0,
      "outputs": [
        {
          "output_type": "stream",
          "text": [
            "(900, 26)\n",
            "(900,)\n",
            "(100, 26)\n",
            "(100,)\n"
          ],
          "name": "stdout"
        }
      ]
    },
    {
      "cell_type": "code",
      "metadata": {
        "id": "z8FpsSAYyjtV",
        "colab_type": "code",
        "colab": {}
      },
      "source": [
        "#Функция параметризации аудир\n",
        "def get_features_2d(y, sr):\n",
        "  #Получаем различные параметры аудио\n",
        "  chroma_stft = librosa.feature.chroma_stft(y=y, sr=sr) #Частота цветности\n",
        "  rmse = librosa.feature.rmse(y=y) #Среднеквадратичная амплитуда\n",
        "  spec_cent = librosa.feature.spectral_centroid(y=y, sr=sr) #Спектральный центроид\n",
        "  #spec_bw = np.mean(librosa.feature.spectral_bandwidth(y=y, sr=sr)) #Ширина полосы частот\n",
        "  #rolloff = np.mean(librosa.feature.spectral_rolloff(y=y, sr=sr)) #Спектральный спад частоты\n",
        "  #zcr = np.mean(librosa.feature.zero_crossing_rate(y)) #Пересечения нуля\n",
        "  mfcc = librosa.feature.mfcc(y=y, sr=sr) #Мел спектральные коэффициенты\n",
        "  \n",
        "  #Возвращаем получившийся список\n",
        "  return mfcc, chroma_stft, rmse, spec_cent"
      ],
      "execution_count": 0,
      "outputs": []
    },
    {
      "cell_type": "code",
      "metadata": {
        "id": "ewvdMXGE7fWm",
        "colab_type": "code",
        "outputId": "902772ea-2fb0-4815-e3d5-5485a3c5c8ca",
        "colab": {
          "base_uri": "https://localhost:8080/",
          "height": 187
        }
      },
      "source": [
        "import time #Для подсчёта времени на обработку одного жанра\n",
        "\n",
        "#Формируем обучающую выборку\n",
        "#Создаём пустые листы\n",
        "X_train_mfcc = []\n",
        "X_train_chroma_stft = []\n",
        "X_train_rmse = []\n",
        "X_train_spec_cent = []\n",
        "Y_train = []\n",
        "#Запоминаем время старта формирования выборки\n",
        "curr_time = time.time()\n",
        "\n",
        "seconds = 20\n",
        "\n",
        "#Проходим по всем жарнам\n",
        "for i in range(len(genres)):\n",
        "  g = genres[i] #Берём текущий жанр\n",
        "  #Проходим по файлам папки, соответствующей текущему жанру\n",
        "  for filename in os.listdir(f'./genres/{g}'):\n",
        "    #Получаем имя песни\n",
        "    songname = f'./genres/{g}/{filename}'\n",
        "    #Загружаем в y аудиосигнал\n",
        "    #Используем первые %seconds% секунд аудио\n",
        "    y, sr = librosa.load(songname, mono=True, duration=seconds)\n",
        "    #Превращаем сигнал в параметризованные данныеБМ и питон ещё нет\n",
        "\n",
        "    for sec in range(seconds):\n",
        "      mfcc, chroma_stft, rmse, spec_cent = get_features_2d(y[sec*sr:(sec+1)*sr], sr)\n",
        "      X_train_mfcc.append(mfcc)\n",
        "      X_train_chroma_stft.append(chroma_stft)\n",
        "      X_train_rmse.append(rmse)\n",
        "      X_train_spec_cent.append(spec_cent)\n",
        "      Y_train.append(utils.to_categorical(i, len(genres)))\n",
        "\n",
        "  #Выводим информацию о готовности обработки базы\n",
        "  print(\"Жанр \", g, \" готов -> \", round(time.time() - curr_time), \"c\", sep=\"\")\n",
        "  curr_time = time.time()\n",
        "\n",
        "#Превращаем обучающую выборку на numpy массивы\n",
        "X_train_mfcc = np.array(X_train_mfcc)\n",
        "X_train_chroma_stft = np.array(X_train_chroma_stft)\n",
        "X_train_rmse = np.array(X_train_rmse)\n",
        "X_train_spec_cent = np.array(X_train_spec_cent)\n",
        "Y_train = np.array(Y_train)"
      ],
      "execution_count": 0,
      "outputs": [
        {
          "output_type": "stream",
          "text": [
            "Жанр blues готов -> 68c\n",
            "Жанр classical готов -> 67c\n",
            "Жанр country готов -> 68c\n",
            "Жанр disco готов -> 68c\n",
            "Жанр hiphop готов -> 69c\n",
            "Жанр jazz готов -> 70c\n",
            "Жанр metal готов -> 71c\n",
            "Жанр pop готов -> 72c\n",
            "Жанр reggae готов -> 73c\n",
            "Жанр rock готов -> 73c\n"
          ],
          "name": "stdout"
        }
      ]
    },
    {
      "cell_type": "code",
      "metadata": {
        "id": "0XRrK5Fb8Xb7",
        "colab_type": "code",
        "outputId": "85e40cd0-3d7f-4abf-923a-8156abee7117",
        "colab": {
          "base_uri": "https://localhost:8080/",
          "height": 102
        }
      },
      "source": [
        "print(X_train_mfcc.shape)\n",
        "print(X_train_chroma_stft.shape)\n",
        "print(X_train_rmse.shape)\n",
        "print(X_train_spec_cent.shape)\n",
        "print(Y_train.shape)"
      ],
      "execution_count": 0,
      "outputs": [
        {
          "output_type": "stream",
          "text": [
            "(20000, 20, 44)\n",
            "(20000, 12, 44)\n",
            "(20000, 1, 44)\n",
            "(20000, 1, 44)\n",
            "(20000, 10)\n"
          ],
          "name": "stdout"
        }
      ]
    },
    {
      "cell_type": "code",
      "metadata": {
        "id": "CjQQQPQ2KIM6",
        "colab_type": "code",
        "colab": {}
      },
      "source": [
        "X_train_mfcc = X_train_mfcc.reshape(X_train_mfcc.shape[0], X_train_mfcc.shape[1], X_train_mfcc.shape[2], 1)\n",
        "X_train_chroma_stft = X_train_chroma_stft.reshape(X_train_chroma_stft.shape[0], X_train_chroma_stft.shape[1], X_train_chroma_stft.shape[2], 1)\n",
        "X_train_rmse = X_train_rmse.reshape(X_train_rmse.shape[0], X_train_rmse.shape[2], X_train_rmse.shape[1])\n",
        "X_train_spec_cent = X_train_spec_cent.reshape(X_train_spec_cent.shape[0], X_train_spec_cent.shape[2], X_train_spec_cent.shape[1])"
      ],
      "execution_count": 0,
      "outputs": []
    },
    {
      "cell_type": "code",
      "metadata": {
        "id": "FAtlH7KxKfWO",
        "colab_type": "code",
        "outputId": "8d8a4868-419f-4407-ef74-e530e0a2fab0",
        "colab": {
          "base_uri": "https://localhost:8080/",
          "height": 102
        }
      },
      "source": [
        "print(X_train_mfcc.shape)\n",
        "print(X_train_chroma_stft.shape)\n",
        "print(X_train_rmse.shape)\n",
        "print(X_train_spec_cent.shape)\n",
        "print(Y_train.shape)"
      ],
      "execution_count": 0,
      "outputs": [
        {
          "output_type": "stream",
          "text": [
            "(20000, 20, 44, 1)\n",
            "(20000, 12, 44, 1)\n",
            "(20000, 44, 1)\n",
            "(20000, 44, 1)\n",
            "(20000, 10)\n"
          ],
          "name": "stdout"
        }
      ]
    },
    {
      "cell_type": "code",
      "metadata": {
        "id": "iHCTyx4pWdIb",
        "colab_type": "code",
        "colab": {}
      },
      "source": [
        "#Создаём backup обучающей выборки\n",
        "X_train_mfcc_backup = X_train_mfcc.copy()\n",
        "X_train_chroma_stft_backup = X_train_chroma_stft.copy()\n",
        "X_train_rmse_backup = X_train_rmse.copy()\n",
        "X_train_spec_cent_backup = X_train_spec_cent.copy()\n",
        "Y_train_backup = Y_train.copy()"
      ],
      "execution_count": 0,
      "outputs": []
    },
    {
      "cell_type": "code",
      "metadata": {
        "id": "ZTmiTMzBQm0L",
        "colab_type": "code",
        "colab": {}
      },
      "source": [
        "val_mask = np.random.sample(20000)\n",
        "train_mask = val_mask < 0.8\n",
        "val_mask = val_mask >= 0.8"
      ],
      "execution_count": 0,
      "outputs": []
    },
    {
      "cell_type": "code",
      "metadata": {
        "id": "MyHXAY4WQvMv",
        "colab_type": "code",
        "outputId": "0cfd47ea-5827-45fa-86da-2c9985f3b286",
        "colab": {
          "base_uri": "https://localhost:8080/",
          "height": 34
        }
      },
      "source": [
        "print(train_mask.shape)"
      ],
      "execution_count": 0,
      "outputs": [
        {
          "output_type": "stream",
          "text": [
            "(20000,)\n"
          ],
          "name": "stdout"
        }
      ]
    },
    {
      "cell_type": "code",
      "metadata": {
        "id": "1NWNsFTwRGOo",
        "colab_type": "code",
        "outputId": "6e5fde94-fbc1-4c50-b0e0-f5d0b8d72724",
        "colab": {
          "base_uri": "https://localhost:8080/",
          "height": 170
        }
      },
      "source": [
        "print(train_mask[:100])"
      ],
      "execution_count": 0,
      "outputs": [
        {
          "output_type": "stream",
          "text": [
            "[ True  True  True  True  True  True  True  True  True False  True  True\n",
            "  True  True  True  True  True False  True  True False  True  True  True\n",
            "  True  True False False  True  True  True  True False  True  True  True\n",
            "  True  True  True  True  True  True False False  True False False  True\n",
            " False False False  True  True False  True  True  True  True  True  True\n",
            "  True  True  True  True  True  True False  True False  True False  True\n",
            " False  True  True  True  True False  True  True  True False  True  True\n",
            "  True  True  True  True  True False  True  True  True  True  True False\n",
            " False  True  True  True]\n"
          ],
          "name": "stdout"
        }
      ]
    },
    {
      "cell_type": "code",
      "metadata": {
        "id": "ZeBRAjGqekKJ",
        "colab_type": "code",
        "colab": {}
      },
      "source": [
        "def scale(X):\n",
        "  min_X = X.min()\n",
        "  max_X = X.max()\n",
        "  X = (X - min_X) / (max_X - min_X)\n",
        "\n",
        "  return X"
      ],
      "execution_count": 0,
      "outputs": []
    },
    {
      "cell_type": "code",
      "metadata": {
        "id": "b5Ok1eBee2nX",
        "colab_type": "code",
        "colab": {}
      },
      "source": [
        "X_train_mfcc_scaled = scale(X_train_mfcc)\n",
        "X_train_chroma_stft_scaled = scale(X_train_chroma_stft)\n",
        "X_train_rmse_scaled = scale(X_train_rmse)\n",
        "X_train_spec_cent_scaled = scale(X_train_spec_cent)"
      ],
      "execution_count": 0,
      "outputs": []
    },
    {
      "cell_type": "markdown",
      "metadata": {
        "id": "HOLPl7rCayBa",
        "colab_type": "text"
      },
      "source": [
        "##Создаём нейронку"
      ]
    },
    {
      "cell_type": "code",
      "metadata": {
        "id": "RTCBnSGEQlXb",
        "colab_type": "code",
        "outputId": "db9e4922-2d4f-4302-91f1-8272dbeab55f",
        "colab": {
          "base_uri": "https://localhost:8080/",
          "height": 945
        }
      },
      "source": [
        "input_mfcc = Input((20, 44, 1))\n",
        "input_chroma_stft = Input((12, 44, 1))\n",
        "input_rmse = Input((44, 1))\n",
        "input_spec_cent = Input((44, 1))\n",
        "\n",
        "x1 = BatchNormalization()(input_mfcc)\n",
        "x1 = Conv2D(256, (3,3), padding=\"same\", activation=\"elu\")(x1)\n",
        "x1 = Conv2D(256, (3,3), padding=\"same\", activation=\"elu\")(x1)\n",
        "x1 = MaxPooling2D(2)(x1)\n",
        "x1 = Conv2D(128, (3,3), padding=\"same\", activation=\"elu\")(x1)\n",
        "x1 = Conv2D(128, (3,3), padding=\"same\", activation=\"elu\")(x1)\n",
        "x1 = MaxPooling2D(2)(x1)\n",
        "x1 = Conv2D(64, (3,3), padding=\"same\", activation=\"elu\")(x1)\n",
        "x1 = Conv2D(64, (3,3), padding=\"same\", activation=\"elu\")(x1)\n",
        "x1 = Flatten()(x1)\n",
        "\n",
        "x2 = BatchNormalization()(input_chroma_stft)\n",
        "x2 = Conv2D(256, (3,3), padding=\"same\", activation=\"elu\")(x2)\n",
        "x2 = Conv2D(256, (3,3), padding=\"same\", activation=\"elu\")(x2)\n",
        "x2_gmp_1 = GlobalMaxPooling2D()(x2)\n",
        "x2 = MaxPooling2D(2)(x2)\n",
        "x2 = Conv2D(128, (3,3), padding=\"same\", activation=\"elu\")(x2)\n",
        "x2 = Conv2D(128, (3,3), padding=\"same\", activation=\"elu\")(x2)\n",
        "x2_gmp_2 = GlobalMaxPooling2D()(x2)\n",
        "x2 = MaxPooling2D(2)(x2)\n",
        "x2 = Conv2D(64, (3,3), padding=\"same\", activation=\"elu\")(x2)\n",
        "x2 = Conv2D(64, (3,3), padding=\"same\", activation=\"elu\")(x2)\n",
        "x2_gmp_3 = GlobalMaxPooling2D()(x2)\n",
        "x2 = Flatten()(x2)\n",
        "\n",
        "x3 = BatchNormalization()(input_rmse)\n",
        "x3 = Conv1D(256, 3, padding=\"same\", activation=\"elu\")(x3)\n",
        "x3 = Conv1D(256, 3, padding=\"same\", activation=\"elu\")(x3)\n",
        "x3 = MaxPooling1D(2)(x3)\n",
        "x3 = Conv1D(128, 3, padding=\"same\", activation=\"elu\")(x3)\n",
        "x3 = Conv1D(128, 3, padding=\"same\", activation=\"elu\")(x3)\n",
        "x3 = MaxPooling1D(2)(x3)\n",
        "x3 = Conv1D(64, 3, padding=\"same\", activation=\"elu\")(x3)\n",
        "x3 = Conv1D(64, 3, padding=\"same\", activation=\"elu\")(x3)\n",
        "x3 = Flatten()(x3)\n",
        "\n",
        "x4 = BatchNormalization()(input_spec_cent)\n",
        "x4 = Conv1D(256, 3, padding=\"same\", activation=\"elu\")(x4)\n",
        "x4 = Conv1D(256, 3, padding=\"same\", activation=\"elu\")(x4)\n",
        "x4 = MaxPooling1D(2)(x4)\n",
        "x4 = Conv1D(128, 3, padding=\"same\", activation=\"elu\")(x4)\n",
        "x4 = Conv1D(128, 3, padding=\"same\", activation=\"elu\")(x4)\n",
        "x4 = MaxPooling1D(2)(x4)\n",
        "x4 = Conv1D(64, 3, padding=\"same\", activation=\"elu\")(x4)\n",
        "x4 = Conv1D(64, 3, padding=\"same\", activation=\"elu\")(x4)\n",
        "x4 = Flatten()(x4)\n",
        "\n",
        "x = concatenate([x1, x2, x3, x4, x2_gmp_1, x2_gmp_2, x2_gmp_3])\n",
        "\n",
        "x = Dense(128, activation='elu')(x)\n",
        "x = Dense(10, activation='softmax')(x)\n",
        "\n",
        "model = Model([input_mfcc, input_chroma_stft, input_rmse, input_spec_cent], x)\n",
        "\n",
        "model.compile(optimizer=Adam(lr=1e-3),\n",
        "              loss='categorical_crossentropy',\n",
        "              metrics=['accuracy'])\n",
        "\n",
        "history = model.fit([X_train_mfcc_scaled[train_mask], X_train_chroma_stft_scaled[train_mask], X_train_rmse_scaled[train_mask], X_train_spec_cent_scaled[train_mask]],\n",
        "                    Y_train[train_mask],\n",
        "                    epochs=20,\n",
        "                    batch_size=256,\n",
        "                    validation_data=([X_train_mfcc_scaled[val_mask], X_train_chroma_stft_scaled[val_mask], X_train_rmse_scaled[val_mask], X_train_spec_cent_scaled[val_mask]],\n",
        "                    Y_train[val_mask]))\n",
        "\n",
        "plt.plot(history.history[\"accuracy\"])\n",
        "plt.plot(history.history[\"val_accuracy\"])\n",
        "plt.show()"
      ],
      "execution_count": 0,
      "outputs": [
        {
          "output_type": "stream",
          "text": [
            "Epoch 1/20\n",
            "63/63 [==============================] - 10s 153ms/step - loss: 1.6709 - accuracy: 0.4390 - val_loss: 8.2053 - val_accuracy: 0.1015\n",
            "Epoch 2/20\n",
            "63/63 [==============================] - 9s 139ms/step - loss: 1.2899 - accuracy: 0.5543 - val_loss: 27.7355 - val_accuracy: 0.1008\n",
            "Epoch 3/20\n",
            "63/63 [==============================] - 9s 139ms/step - loss: 1.3667 - accuracy: 0.5521 - val_loss: 3.3614 - val_accuracy: 0.1124\n",
            "Epoch 4/20\n",
            "63/63 [==============================] - 9s 139ms/step - loss: 1.2309 - accuracy: 0.5656 - val_loss: 3.4808 - val_accuracy: 0.2045\n",
            "Epoch 5/20\n",
            "63/63 [==============================] - 9s 138ms/step - loss: 1.0082 - accuracy: 0.6605 - val_loss: 3.1127 - val_accuracy: 0.3022\n",
            "Epoch 6/20\n",
            "63/63 [==============================] - 9s 138ms/step - loss: 1.4284 - accuracy: 0.5309 - val_loss: 2.0027 - val_accuracy: 0.2942\n",
            "Epoch 7/20\n",
            "63/63 [==============================] - 9s 139ms/step - loss: 1.1511 - accuracy: 0.5952 - val_loss: 3.7588 - val_accuracy: 0.3082\n",
            "Epoch 8/20\n",
            "63/63 [==============================] - 9s 139ms/step - loss: 0.9241 - accuracy: 0.6844 - val_loss: 2.6385 - val_accuracy: 0.4214\n",
            "Epoch 9/20\n",
            "63/63 [==============================] - 9s 140ms/step - loss: 1.0702 - accuracy: 0.6539 - val_loss: 1.9610 - val_accuracy: 0.4650\n",
            "Epoch 10/20\n",
            "63/63 [==============================] - 9s 139ms/step - loss: 1.2167 - accuracy: 0.5801 - val_loss: 1.8638 - val_accuracy: 0.5101\n",
            "Epoch 11/20\n",
            "63/63 [==============================] - 9s 139ms/step - loss: 0.9107 - accuracy: 0.6910 - val_loss: 0.9463 - val_accuracy: 0.6935\n",
            "Epoch 12/20\n",
            "63/63 [==============================] - 9s 139ms/step - loss: 0.7587 - accuracy: 0.7382 - val_loss: 1.4654 - val_accuracy: 0.5920\n",
            "Epoch 13/20\n",
            "63/63 [==============================] - 9s 139ms/step - loss: 0.8968 - accuracy: 0.6972 - val_loss: 0.8062 - val_accuracy: 0.7298\n",
            "Epoch 14/20\n",
            "63/63 [==============================] - 9s 138ms/step - loss: 0.5719 - accuracy: 0.8147 - val_loss: 4.6704 - val_accuracy: 0.3683\n",
            "Epoch 15/20\n",
            "63/63 [==============================] - 9s 138ms/step - loss: 1.3712 - accuracy: 0.5761 - val_loss: 2.1041 - val_accuracy: 0.4534\n",
            "Epoch 16/20\n",
            "63/63 [==============================] - 9s 138ms/step - loss: 1.2196 - accuracy: 0.5831 - val_loss: 1.0761 - val_accuracy: 0.6373\n",
            "Epoch 17/20\n",
            "63/63 [==============================] - 9s 139ms/step - loss: 0.7898 - accuracy: 0.7286 - val_loss: 1.4009 - val_accuracy: 0.5968\n",
            "Epoch 18/20\n",
            "63/63 [==============================] - 9s 139ms/step - loss: 0.8471 - accuracy: 0.7055 - val_loss: 0.9139 - val_accuracy: 0.7109\n",
            "Epoch 19/20\n",
            "63/63 [==============================] - 9s 138ms/step - loss: 0.5790 - accuracy: 0.7958 - val_loss: 0.7969 - val_accuracy: 0.7422\n",
            "Epoch 20/20\n",
            "63/63 [==============================] - 9s 139ms/step - loss: 0.5756 - accuracy: 0.8147 - val_loss: 2.4729 - val_accuracy: 0.5592\n"
          ],
          "name": "stdout"
        },
        {
          "output_type": "display_data",
          "data": {
            "image/png": "[encoded data removed]",
            "text/plain": [
              "<Figure size 432x288 with 1 Axes>"
            ]
          },
          "metadata": {
            "tags": []
          }
        }
      ]
    },
    {
      "cell_type": "code",
      "metadata": {
        "colab_type": "code",
        "outputId": "c1619bef-35f5-497a-c1e5-3f8032c2600c",
        "id": "bQL_1vvxGKzI",
        "colab": {
          "base_uri": "https://localhost:8080/",
          "height": 1000
        }
      },
      "source": [
        "#Указываем, какие индексы данных во входных векторах брать для обучения\n",
        "#Делаем это для того, чтобы можно было экспериментировать\n",
        "#И обучать не на всех колонках данных, а на части\n",
        "indexes = range(0,26)\n",
        "\n",
        "#Создаём Dense сеть\n",
        "model = Sequential()\n",
        "model.add(Dense(256, activation='elu', input_shape=(len(indexes),)))\n",
        "model.add(Dense(128, activation='elu'))\n",
        "model.add(Dense(64, activation='elu'))\n",
        "model.add(Dense(32, activation='elu'))\n",
        "#В конце 10 нейронов и softmax, так как 10 классов\n",
        "model.add(Dense(10, activation='softmax'))\n",
        "\n",
        "#Компилируем сеть\n",
        "model.compile(optimizer=RMSprop(lr=1e-4),\n",
        "              loss='sparse_categorical_crossentropy',\n",
        "              metrics=['accuracy'])\n",
        "\n",
        "#Обучаем\n",
        "history = model.fit(X_train[:, indexes],\n",
        "                    y_train,\n",
        "                    epochs=200,\n",
        "                    batch_size=20,\n",
        "                    validation_data=(X_test[:, indexes], y_test))\n",
        "\n",
        "#Выводим график точности распознавания на обучающей и проверочной выборках\n",
        "plt.plot(history.history[\"accuracy\"])\n",
        "plt.plot(history.history[\"val_accuracy\"])\n",
        "plt.show()"
      ],
      "execution_count": 0,
      "outputs": [
        {
          "output_type": "stream",
          "text": [
            "Epoch 1/200\n",
            "45/45 [==============================] - 0s 6ms/step - loss: 2.0465 - accuracy: 0.2356 - val_loss: 1.8752 - val_accuracy: 0.3200\n",
            "Epoch 2/200\n",
            "45/45 [==============================] - 0s 3ms/step - loss: 1.7662 - accuracy: 0.3678 - val_loss: 1.7303 - val_accuracy: 0.3200\n",
            "Epoch 3/200\n",
            "45/45 [==============================] - 0s 3ms/step - loss: 1.6293 - accuracy: 0.4000 - val_loss: 1.6383 - val_accuracy: 0.3500\n",
            "Epoch 4/200\n",
            "45/45 [==============================] - 0s 3ms/step - loss: 1.5360 - accuracy: 0.4200 - val_loss: 1.5689 - val_accuracy: 0.3900\n",
            "Epoch 5/200\n",
            "45/45 [==============================] - 0s 3ms/step - loss: 1.4667 - accuracy: 0.4756 - val_loss: 1.5217 - val_accuracy: 0.4300\n",
            "Epoch 6/200\n",
            "45/45 [==============================] - 0s 3ms/step - loss: 1.4090 - accuracy: 0.5056 - val_loss: 1.4921 - val_accuracy: 0.4400\n",
            "Epoch 7/200\n",
            "45/45 [==============================] - 0s 3ms/step - loss: 1.3603 - accuracy: 0.5289 - val_loss: 1.4526 - val_accuracy: 0.5200\n",
            "Epoch 8/200\n",
            "45/45 [==============================] - 0s 3ms/step - loss: 1.3198 - accuracy: 0.5411 - val_loss: 1.4215 - val_accuracy: 0.5000\n",
            "Epoch 9/200\n",
            "45/45 [==============================] - 0s 3ms/step - loss: 1.2828 - accuracy: 0.5722 - val_loss: 1.3999 - val_accuracy: 0.5000\n",
            "Epoch 10/200\n",
            "45/45 [==============================] - 0s 3ms/step - loss: 1.2487 - accuracy: 0.5911 - val_loss: 1.3772 - val_accuracy: 0.5100\n",
            "Epoch 11/200\n",
            "45/45 [==============================] - 0s 3ms/step - loss: 1.2168 - accuracy: 0.6000 - val_loss: 1.3625 - val_accuracy: 0.5300\n",
            "Epoch 12/200\n",
            "45/45 [==============================] - 0s 3ms/step - loss: 1.1897 - accuracy: 0.6156 - val_loss: 1.3411 - val_accuracy: 0.5500\n",
            "Epoch 13/200\n",
            "45/45 [==============================] - 0s 3ms/step - loss: 1.1635 - accuracy: 0.6222 - val_loss: 1.3266 - val_accuracy: 0.5500\n",
            "Epoch 14/200\n",
            "45/45 [==============================] - 0s 3ms/step - loss: 1.1389 - accuracy: 0.6311 - val_loss: 1.3193 - val_accuracy: 0.5600\n",
            "Epoch 15/200\n",
            "45/45 [==============================] - 0s 3ms/step - loss: 1.1193 - accuracy: 0.6322 - val_loss: 1.3033 - val_accuracy: 0.5500\n",
            "Epoch 16/200\n",
            "45/45 [==============================] - 0s 3ms/step - loss: 1.0980 - accuracy: 0.6456 - val_loss: 1.2800 - val_accuracy: 0.5800\n",
            "Epoch 17/200\n",
            "45/45 [==============================] - 0s 3ms/step - loss: 1.0795 - accuracy: 0.6489 - val_loss: 1.2615 - val_accuracy: 0.5900\n",
            "Epoch 18/200\n",
            "45/45 [==============================] - 0s 3ms/step - loss: 1.0628 - accuracy: 0.6578 - val_loss: 1.2568 - val_accuracy: 0.5900\n",
            "Epoch 19/200\n",
            "45/45 [==============================] - 0s 3ms/step - loss: 1.0447 - accuracy: 0.6578 - val_loss: 1.2511 - val_accuracy: 0.5800\n",
            "Epoch 20/200\n",
            "45/45 [==============================] - 0s 3ms/step - loss: 1.0290 - accuracy: 0.6644 - val_loss: 1.2396 - val_accuracy: 0.6100\n",
            "Epoch 21/200\n",
            "45/45 [==============================] - 0s 3ms/step - loss: 1.0139 - accuracy: 0.6633 - val_loss: 1.2250 - val_accuracy: 0.5900\n",
            "Epoch 22/200\n",
            "45/45 [==============================] - 0s 3ms/step - loss: 0.9997 - accuracy: 0.6689 - val_loss: 1.2168 - val_accuracy: 0.6000\n",
            "Epoch 23/200\n",
            "45/45 [==============================] - 0s 3ms/step - loss: 0.9843 - accuracy: 0.6789 - val_loss: 1.2114 - val_accuracy: 0.5800\n",
            "Epoch 24/200\n",
            "45/45 [==============================] - 0s 3ms/step - loss: 0.9709 - accuracy: 0.6800 - val_loss: 1.2006 - val_accuracy: 0.6000\n",
            "Epoch 25/200\n",
            "45/45 [==============================] - 0s 3ms/step - loss: 0.9567 - accuracy: 0.6856 - val_loss: 1.1916 - val_accuracy: 0.5900\n",
            "Epoch 26/200\n",
            "45/45 [==============================] - 0s 3ms/step - loss: 0.9484 - accuracy: 0.6856 - val_loss: 1.1783 - val_accuracy: 0.6000\n",
            "Epoch 27/200\n",
            "45/45 [==============================] - 0s 3ms/step - loss: 0.9337 - accuracy: 0.6911 - val_loss: 1.1699 - val_accuracy: 0.6000\n",
            "Epoch 28/200\n",
            "45/45 [==============================] - 0s 3ms/step - loss: 0.9232 - accuracy: 0.6978 - val_loss: 1.1766 - val_accuracy: 0.5900\n",
            "Epoch 29/200\n",
            "45/45 [==============================] - 0s 3ms/step - loss: 0.9090 - accuracy: 0.7033 - val_loss: 1.1653 - val_accuracy: 0.5600\n",
            "Epoch 30/200\n",
            "45/45 [==============================] - 0s 3ms/step - loss: 0.9014 - accuracy: 0.7011 - val_loss: 1.1531 - val_accuracy: 0.5900\n",
            "Epoch 31/200\n",
            "45/45 [==============================] - 0s 3ms/step - loss: 0.8910 - accuracy: 0.7122 - val_loss: 1.1401 - val_accuracy: 0.6000\n",
            "Epoch 32/200\n",
            "45/45 [==============================] - 0s 3ms/step - loss: 0.8818 - accuracy: 0.7033 - val_loss: 1.1369 - val_accuracy: 0.5900\n",
            "Epoch 33/200\n",
            "45/45 [==============================] - 0s 3ms/step - loss: 0.8696 - accuracy: 0.7122 - val_loss: 1.1377 - val_accuracy: 0.5800\n",
            "Epoch 34/200\n",
            "45/45 [==============================] - 0s 3ms/step - loss: 0.8621 - accuracy: 0.7144 - val_loss: 1.1272 - val_accuracy: 0.5900\n",
            "Epoch 35/200\n",
            "45/45 [==============================] - 0s 3ms/step - loss: 0.8512 - accuracy: 0.7189 - val_loss: 1.1210 - val_accuracy: 0.6000\n",
            "Epoch 36/200\n",
            "45/45 [==============================] - 0s 3ms/step - loss: 0.8432 - accuracy: 0.7156 - val_loss: 1.1168 - val_accuracy: 0.5900\n",
            "Epoch 37/200\n",
            "45/45 [==============================] - 0s 3ms/step - loss: 0.8329 - accuracy: 0.7244 - val_loss: 1.1035 - val_accuracy: 0.6000\n",
            "Epoch 38/200\n",
            "45/45 [==============================] - 0s 3ms/step - loss: 0.8263 - accuracy: 0.7133 - val_loss: 1.1022 - val_accuracy: 0.6100\n",
            "Epoch 39/200\n",
            "45/45 [==============================] - 0s 3ms/step - loss: 0.8171 - accuracy: 0.7267 - val_loss: 1.0963 - val_accuracy: 0.6000\n",
            "Epoch 40/200\n",
            "45/45 [==============================] - 0s 3ms/step - loss: 0.8095 - accuracy: 0.7244 - val_loss: 1.1021 - val_accuracy: 0.6000\n",
            "Epoch 41/200\n",
            "45/45 [==============================] - 0s 3ms/step - loss: 0.8015 - accuracy: 0.7267 - val_loss: 1.1041 - val_accuracy: 0.6000\n",
            "Epoch 42/200\n",
            "45/45 [==============================] - 0s 3ms/step - loss: 0.7947 - accuracy: 0.7311 - val_loss: 1.0960 - val_accuracy: 0.6200\n",
            "Epoch 43/200\n",
            "45/45 [==============================] - 0s 3ms/step - loss: 0.7881 - accuracy: 0.7367 - val_loss: 1.0850 - val_accuracy: 0.6100\n",
            "Epoch 44/200\n",
            "45/45 [==============================] - 0s 3ms/step - loss: 0.7809 - accuracy: 0.7400 - val_loss: 1.0824 - val_accuracy: 0.6000\n",
            "Epoch 45/200\n",
            "45/45 [==============================] - 0s 3ms/step - loss: 0.7726 - accuracy: 0.7333 - val_loss: 1.0879 - val_accuracy: 0.6100\n",
            "Epoch 46/200\n",
            "45/45 [==============================] - 0s 3ms/step - loss: 0.7657 - accuracy: 0.7356 - val_loss: 1.0737 - val_accuracy: 0.6100\n",
            "Epoch 47/200\n",
            "45/45 [==============================] - 0s 3ms/step - loss: 0.7601 - accuracy: 0.7422 - val_loss: 1.0719 - val_accuracy: 0.6200\n",
            "Epoch 48/200\n",
            "45/45 [==============================] - 0s 3ms/step - loss: 0.7522 - accuracy: 0.7367 - val_loss: 1.0864 - val_accuracy: 0.6000\n",
            "Epoch 49/200\n",
            "45/45 [==============================] - 0s 3ms/step - loss: 0.7471 - accuracy: 0.7400 - val_loss: 1.0745 - val_accuracy: 0.6100\n",
            "Epoch 50/200\n",
            "45/45 [==============================] - 0s 3ms/step - loss: 0.7396 - accuracy: 0.7500 - val_loss: 1.0739 - val_accuracy: 0.6100\n",
            "Epoch 51/200\n",
            "45/45 [==============================] - 0s 3ms/step - loss: 0.7354 - accuracy: 0.7500 - val_loss: 1.0698 - val_accuracy: 0.6200\n",
            "Epoch 52/200\n",
            "45/45 [==============================] - 0s 3ms/step - loss: 0.7263 - accuracy: 0.7500 - val_loss: 1.0611 - val_accuracy: 0.6300\n",
            "Epoch 53/200\n",
            "45/45 [==============================] - 0s 3ms/step - loss: 0.7222 - accuracy: 0.7556 - val_loss: 1.0612 - val_accuracy: 0.6000\n",
            "Epoch 54/200\n",
            "45/45 [==============================] - 0s 3ms/step - loss: 0.7162 - accuracy: 0.7544 - val_loss: 1.0546 - val_accuracy: 0.6100\n",
            "Epoch 55/200\n",
            "45/45 [==============================] - 0s 3ms/step - loss: 0.7088 - accuracy: 0.7533 - val_loss: 1.0679 - val_accuracy: 0.6100\n",
            "Epoch 56/200\n",
            "45/45 [==============================] - 0s 3ms/step - loss: 0.7042 - accuracy: 0.7500 - val_loss: 1.0484 - val_accuracy: 0.6100\n",
            "Epoch 57/200\n",
            "45/45 [==============================] - 0s 3ms/step - loss: 0.6956 - accuracy: 0.7656 - val_loss: 1.0497 - val_accuracy: 0.6300\n",
            "Epoch 58/200\n",
            "45/45 [==============================] - 0s 3ms/step - loss: 0.6919 - accuracy: 0.7578 - val_loss: 1.0533 - val_accuracy: 0.6200\n",
            "Epoch 59/200\n",
            "45/45 [==============================] - 0s 3ms/step - loss: 0.6861 - accuracy: 0.7678 - val_loss: 1.0436 - val_accuracy: 0.6200\n",
            "Epoch 60/200\n",
            "45/45 [==============================] - 0s 3ms/step - loss: 0.6816 - accuracy: 0.7633 - val_loss: 1.0452 - val_accuracy: 0.6100\n",
            "Epoch 61/200\n",
            "45/45 [==============================] - 0s 3ms/step - loss: 0.6756 - accuracy: 0.7700 - val_loss: 1.0439 - val_accuracy: 0.6200\n",
            "Epoch 62/200\n",
            "45/45 [==============================] - 0s 3ms/step - loss: 0.6700 - accuracy: 0.7700 - val_loss: 1.0578 - val_accuracy: 0.6100\n",
            "Epoch 63/200\n",
            "45/45 [==============================] - 0s 3ms/step - loss: 0.6668 - accuracy: 0.7711 - val_loss: 1.0394 - val_accuracy: 0.6200\n",
            "Epoch 64/200\n",
            "45/45 [==============================] - 0s 3ms/step - loss: 0.6598 - accuracy: 0.7700 - val_loss: 1.0467 - val_accuracy: 0.6200\n",
            "Epoch 65/200\n",
            "45/45 [==============================] - 0s 3ms/step - loss: 0.6546 - accuracy: 0.7767 - val_loss: 1.0371 - val_accuracy: 0.6300\n",
            "Epoch 66/200\n",
            "45/45 [==============================] - 0s 3ms/step - loss: 0.6509 - accuracy: 0.7689 - val_loss: 1.0500 - val_accuracy: 0.6300\n",
            "Epoch 67/200\n",
            "45/45 [==============================] - 0s 3ms/step - loss: 0.6451 - accuracy: 0.7789 - val_loss: 1.0371 - val_accuracy: 0.6200\n",
            "Epoch 68/200\n",
            "45/45 [==============================] - 0s 3ms/step - loss: 0.6394 - accuracy: 0.7722 - val_loss: 1.0370 - val_accuracy: 0.6200\n",
            "Epoch 69/200\n",
            "45/45 [==============================] - 0s 3ms/step - loss: 0.6339 - accuracy: 0.7789 - val_loss: 1.0279 - val_accuracy: 0.6100\n",
            "Epoch 70/200\n",
            "45/45 [==============================] - 0s 3ms/step - loss: 0.6302 - accuracy: 0.7833 - val_loss: 1.0411 - val_accuracy: 0.6300\n",
            "Epoch 71/200\n",
            "45/45 [==============================] - 0s 3ms/step - loss: 0.6250 - accuracy: 0.7811 - val_loss: 1.0305 - val_accuracy: 0.6300\n",
            "Epoch 72/200\n",
            "45/45 [==============================] - 0s 3ms/step - loss: 0.6202 - accuracy: 0.7800 - val_loss: 1.0372 - val_accuracy: 0.6100\n",
            "Epoch 73/200\n",
            "45/45 [==============================] - 0s 3ms/step - loss: 0.6161 - accuracy: 0.7867 - val_loss: 1.0341 - val_accuracy: 0.6300\n",
            "Epoch 74/200\n",
            "45/45 [==============================] - 0s 3ms/step - loss: 0.6090 - accuracy: 0.7944 - val_loss: 1.0181 - val_accuracy: 0.6400\n",
            "Epoch 75/200\n",
            "45/45 [==============================] - 0s 3ms/step - loss: 0.6072 - accuracy: 0.7889 - val_loss: 1.0345 - val_accuracy: 0.6300\n",
            "Epoch 76/200\n",
            "45/45 [==============================] - 0s 3ms/step - loss: 0.6020 - accuracy: 0.7933 - val_loss: 1.0333 - val_accuracy: 0.6300\n",
            "Epoch 77/200\n",
            "45/45 [==============================] - 0s 3ms/step - loss: 0.5976 - accuracy: 0.8011 - val_loss: 1.0252 - val_accuracy: 0.6400\n",
            "Epoch 78/200\n",
            "45/45 [==============================] - 0s 3ms/step - loss: 0.5917 - accuracy: 0.8022 - val_loss: 1.0282 - val_accuracy: 0.6400\n",
            "Epoch 79/200\n",
            "45/45 [==============================] - 0s 3ms/step - loss: 0.5873 - accuracy: 0.8011 - val_loss: 1.0404 - val_accuracy: 0.6200\n",
            "Epoch 80/200\n",
            "45/45 [==============================] - 0s 3ms/step - loss: 0.5834 - accuracy: 0.8022 - val_loss: 1.0312 - val_accuracy: 0.6300\n",
            "Epoch 81/200\n",
            "45/45 [==============================] - 0s 3ms/step - loss: 0.5793 - accuracy: 0.7989 - val_loss: 1.0280 - val_accuracy: 0.6200\n",
            "Epoch 82/200\n",
            "45/45 [==============================] - 0s 3ms/step - loss: 0.5730 - accuracy: 0.8100 - val_loss: 1.0275 - val_accuracy: 0.6300\n",
            "Epoch 83/200\n",
            "45/45 [==============================] - 0s 3ms/step - loss: 0.5698 - accuracy: 0.8044 - val_loss: 1.0157 - val_accuracy: 0.6300\n",
            "Epoch 84/200\n",
            "45/45 [==============================] - 0s 3ms/step - loss: 0.5648 - accuracy: 0.8022 - val_loss: 1.0204 - val_accuracy: 0.6400\n",
            "Epoch 85/200\n",
            "45/45 [==============================] - 0s 3ms/step - loss: 0.5602 - accuracy: 0.8111 - val_loss: 1.0319 - val_accuracy: 0.6200\n",
            "Epoch 86/200\n",
            "45/45 [==============================] - 0s 3ms/step - loss: 0.5582 - accuracy: 0.8122 - val_loss: 1.0284 - val_accuracy: 0.6300\n",
            "Epoch 87/200\n",
            "45/45 [==============================] - 0s 3ms/step - loss: 0.5516 - accuracy: 0.8144 - val_loss: 1.0155 - val_accuracy: 0.6300\n",
            "Epoch 88/200\n",
            "45/45 [==============================] - 0s 3ms/step - loss: 0.5472 - accuracy: 0.8133 - val_loss: 1.0377 - val_accuracy: 0.6300\n",
            "Epoch 89/200\n",
            "45/45 [==============================] - 0s 3ms/step - loss: 0.5435 - accuracy: 0.8211 - val_loss: 1.0187 - val_accuracy: 0.6200\n",
            "Epoch 90/200\n",
            "45/45 [==============================] - 0s 3ms/step - loss: 0.5391 - accuracy: 0.8122 - val_loss: 1.0238 - val_accuracy: 0.6400\n",
            "Epoch 91/200\n",
            "45/45 [==============================] - 0s 3ms/step - loss: 0.5352 - accuracy: 0.8144 - val_loss: 1.0299 - val_accuracy: 0.6300\n",
            "Epoch 92/200\n",
            "45/45 [==============================] - 0s 3ms/step - loss: 0.5319 - accuracy: 0.8211 - val_loss: 1.0221 - val_accuracy: 0.6300\n",
            "Epoch 93/200\n",
            "45/45 [==============================] - 0s 3ms/step - loss: 0.5267 - accuracy: 0.8200 - val_loss: 1.0290 - val_accuracy: 0.6400\n",
            "Epoch 94/200\n",
            "45/45 [==============================] - 0s 3ms/step - loss: 0.5223 - accuracy: 0.8200 - val_loss: 1.0160 - val_accuracy: 0.6400\n",
            "Epoch 95/200\n",
            "45/45 [==============================] - 0s 3ms/step - loss: 0.5190 - accuracy: 0.8333 - val_loss: 1.0278 - val_accuracy: 0.6200\n",
            "Epoch 96/200\n",
            "45/45 [==============================] - 0s 3ms/step - loss: 0.5127 - accuracy: 0.8278 - val_loss: 1.0278 - val_accuracy: 0.6400\n",
            "Epoch 97/200\n",
            "45/45 [==============================] - 0s 3ms/step - loss: 0.5123 - accuracy: 0.8256 - val_loss: 1.0327 - val_accuracy: 0.6300\n",
            "Epoch 98/200\n",
            "45/45 [==============================] - 0s 3ms/step - loss: 0.5053 - accuracy: 0.8300 - val_loss: 1.0379 - val_accuracy: 0.6300\n",
            "Epoch 99/200\n",
            "45/45 [==============================] - 0s 3ms/step - loss: 0.5015 - accuracy: 0.8333 - val_loss: 1.0326 - val_accuracy: 0.6500\n",
            "Epoch 100/200\n",
            "45/45 [==============================] - 0s 3ms/step - loss: 0.4987 - accuracy: 0.8344 - val_loss: 1.0167 - val_accuracy: 0.6600\n",
            "Epoch 101/200\n",
            "45/45 [==============================] - 0s 3ms/step - loss: 0.4946 - accuracy: 0.8356 - val_loss: 1.0201 - val_accuracy: 0.6400\n",
            "Epoch 102/200\n",
            "45/45 [==============================] - 0s 3ms/step - loss: 0.4914 - accuracy: 0.8400 - val_loss: 1.0401 - val_accuracy: 0.6300\n",
            "Epoch 103/200\n",
            "45/45 [==============================] - 0s 3ms/step - loss: 0.4842 - accuracy: 0.8478 - val_loss: 1.0460 - val_accuracy: 0.6300\n",
            "Epoch 104/200\n",
            "45/45 [==============================] - 0s 3ms/step - loss: 0.4824 - accuracy: 0.8389 - val_loss: 1.0274 - val_accuracy: 0.6400\n",
            "Epoch 105/200\n",
            "45/45 [==============================] - 0s 3ms/step - loss: 0.4787 - accuracy: 0.8400 - val_loss: 1.0283 - val_accuracy: 0.6400\n",
            "Epoch 106/200\n",
            "45/45 [==============================] - 0s 3ms/step - loss: 0.4732 - accuracy: 0.8433 - val_loss: 1.0237 - val_accuracy: 0.6400\n",
            "Epoch 107/200\n",
            "45/45 [==============================] - 0s 3ms/step - loss: 0.4692 - accuracy: 0.8456 - val_loss: 1.0243 - val_accuracy: 0.6400\n",
            "Epoch 108/200\n",
            "45/45 [==============================] - 0s 3ms/step - loss: 0.4658 - accuracy: 0.8478 - val_loss: 1.0289 - val_accuracy: 0.6400\n",
            "Epoch 109/200\n",
            "45/45 [==============================] - 0s 3ms/step - loss: 0.4631 - accuracy: 0.8411 - val_loss: 1.0280 - val_accuracy: 0.6300\n",
            "Epoch 110/200\n",
            "45/45 [==============================] - 0s 3ms/step - loss: 0.4587 - accuracy: 0.8478 - val_loss: 1.0303 - val_accuracy: 0.6200\n",
            "Epoch 111/200\n",
            "45/45 [==============================] - 0s 3ms/step - loss: 0.4536 - accuracy: 0.8522 - val_loss: 1.0568 - val_accuracy: 0.6100\n",
            "Epoch 112/200\n",
            "45/45 [==============================] - 0s 3ms/step - loss: 0.4523 - accuracy: 0.8511 - val_loss: 1.0265 - val_accuracy: 0.6300\n",
            "Epoch 113/200\n",
            "45/45 [==============================] - 0s 3ms/step - loss: 0.4470 - accuracy: 0.8544 - val_loss: 1.0311 - val_accuracy: 0.6400\n",
            "Epoch 114/200\n",
            "45/45 [==============================] - 0s 3ms/step - loss: 0.4438 - accuracy: 0.8578 - val_loss: 1.0242 - val_accuracy: 0.6400\n",
            "Epoch 115/200\n",
            "45/45 [==============================] - 0s 3ms/step - loss: 0.4385 - accuracy: 0.8578 - val_loss: 1.0614 - val_accuracy: 0.6200\n",
            "Epoch 116/200\n",
            "45/45 [==============================] - 0s 3ms/step - loss: 0.4358 - accuracy: 0.8667 - val_loss: 1.0286 - val_accuracy: 0.6700\n",
            "Epoch 117/200\n",
            "45/45 [==============================] - 0s 3ms/step - loss: 0.4321 - accuracy: 0.8622 - val_loss: 1.0317 - val_accuracy: 0.6600\n",
            "Epoch 118/200\n",
            "45/45 [==============================] - 0s 3ms/step - loss: 0.4288 - accuracy: 0.8689 - val_loss: 1.0364 - val_accuracy: 0.6400\n",
            "Epoch 119/200\n",
            "45/45 [==============================] - 0s 3ms/step - loss: 0.4232 - accuracy: 0.8656 - val_loss: 1.0265 - val_accuracy: 0.6500\n",
            "Epoch 120/200\n",
            "45/45 [==============================] - 0s 3ms/step - loss: 0.4207 - accuracy: 0.8667 - val_loss: 1.0274 - val_accuracy: 0.6500\n",
            "Epoch 121/200\n",
            "45/45 [==============================] - 0s 3ms/step - loss: 0.4131 - accuracy: 0.8667 - val_loss: 1.0698 - val_accuracy: 0.6200\n",
            "Epoch 122/200\n",
            "45/45 [==============================] - 0s 3ms/step - loss: 0.4133 - accuracy: 0.8700 - val_loss: 1.0408 - val_accuracy: 0.6500\n",
            "Epoch 123/200\n",
            "45/45 [==============================] - 0s 3ms/step - loss: 0.4095 - accuracy: 0.8711 - val_loss: 1.0335 - val_accuracy: 0.6600\n",
            "Epoch 124/200\n",
            "45/45 [==============================] - 0s 3ms/step - loss: 0.4058 - accuracy: 0.8744 - val_loss: 1.0242 - val_accuracy: 0.6700\n",
            "Epoch 125/200\n",
            "45/45 [==============================] - 0s 3ms/step - loss: 0.4001 - accuracy: 0.8778 - val_loss: 1.0164 - val_accuracy: 0.6700\n",
            "Epoch 126/200\n",
            "45/45 [==============================] - 0s 3ms/step - loss: 0.3976 - accuracy: 0.8789 - val_loss: 1.0513 - val_accuracy: 0.6600\n",
            "Epoch 127/200\n",
            "45/45 [==============================] - 0s 3ms/step - loss: 0.3939 - accuracy: 0.8822 - val_loss: 1.0494 - val_accuracy: 0.6700\n",
            "Epoch 128/200\n",
            "45/45 [==============================] - 0s 3ms/step - loss: 0.3899 - accuracy: 0.8800 - val_loss: 1.0481 - val_accuracy: 0.6500\n",
            "Epoch 129/200\n",
            "45/45 [==============================] - 0s 3ms/step - loss: 0.3855 - accuracy: 0.8789 - val_loss: 1.0343 - val_accuracy: 0.6800\n",
            "Epoch 130/200\n",
            "45/45 [==============================] - 0s 3ms/step - loss: 0.3858 - accuracy: 0.8811 - val_loss: 1.0471 - val_accuracy: 0.6500\n",
            "Epoch 131/200\n",
            "45/45 [==============================] - 0s 4ms/step - loss: 0.3787 - accuracy: 0.8822 - val_loss: 1.0618 - val_accuracy: 0.6500\n",
            "Epoch 132/200\n",
            "45/45 [==============================] - 0s 3ms/step - loss: 0.3767 - accuracy: 0.8833 - val_loss: 1.0589 - val_accuracy: 0.6500\n",
            "Epoch 133/200\n",
            "45/45 [==============================] - 0s 3ms/step - loss: 0.3748 - accuracy: 0.8856 - val_loss: 1.0445 - val_accuracy: 0.6600\n",
            "Epoch 134/200\n",
            "45/45 [==============================] - 0s 3ms/step - loss: 0.3701 - accuracy: 0.8889 - val_loss: 1.0439 - val_accuracy: 0.6600\n",
            "Epoch 135/200\n",
            "45/45 [==============================] - 0s 3ms/step - loss: 0.3680 - accuracy: 0.8822 - val_loss: 1.0565 - val_accuracy: 0.6500\n",
            "Epoch 136/200\n",
            "45/45 [==============================] - 0s 3ms/step - loss: 0.3603 - accuracy: 0.8900 - val_loss: 1.0782 - val_accuracy: 0.6300\n",
            "Epoch 137/200\n",
            "45/45 [==============================] - 0s 3ms/step - loss: 0.3585 - accuracy: 0.8911 - val_loss: 1.0821 - val_accuracy: 0.6400\n",
            "Epoch 138/200\n",
            "45/45 [==============================] - 0s 3ms/step - loss: 0.3582 - accuracy: 0.8844 - val_loss: 1.0720 - val_accuracy: 0.6600\n",
            "Epoch 139/200\n",
            "45/45 [==============================] - 0s 3ms/step - loss: 0.3523 - accuracy: 0.8933 - val_loss: 1.0484 - val_accuracy: 0.6600\n",
            "Epoch 140/200\n",
            "45/45 [==============================] - 0s 3ms/step - loss: 0.3479 - accuracy: 0.9011 - val_loss: 1.0546 - val_accuracy: 0.6800\n",
            "Epoch 141/200\n",
            "45/45 [==============================] - 0s 3ms/step - loss: 0.3466 - accuracy: 0.8889 - val_loss: 1.0653 - val_accuracy: 0.6600\n",
            "Epoch 142/200\n",
            "45/45 [==============================] - 0s 3ms/step - loss: 0.3385 - accuracy: 0.8933 - val_loss: 1.0723 - val_accuracy: 0.6600\n",
            "Epoch 143/200\n",
            "45/45 [==============================] - 0s 3ms/step - loss: 0.3365 - accuracy: 0.8933 - val_loss: 1.0607 - val_accuracy: 0.6700\n",
            "Epoch 144/200\n",
            "45/45 [==============================] - 0s 3ms/step - loss: 0.3366 - accuracy: 0.8944 - val_loss: 1.0804 - val_accuracy: 0.6700\n",
            "Epoch 145/200\n",
            "45/45 [==============================] - 0s 3ms/step - loss: 0.3298 - accuracy: 0.9000 - val_loss: 1.0757 - val_accuracy: 0.6700\n",
            "Epoch 146/200\n",
            "45/45 [==============================] - 0s 3ms/step - loss: 0.3286 - accuracy: 0.9022 - val_loss: 1.0775 - val_accuracy: 0.6500\n",
            "Epoch 147/200\n",
            "45/45 [==============================] - 0s 3ms/step - loss: 0.3238 - accuracy: 0.9022 - val_loss: 1.0895 - val_accuracy: 0.6500\n",
            "Epoch 148/200\n",
            "45/45 [==============================] - 0s 3ms/step - loss: 0.3198 - accuracy: 0.9011 - val_loss: 1.0461 - val_accuracy: 0.6800\n",
            "Epoch 149/200\n",
            "45/45 [==============================] - 0s 3ms/step - loss: 0.3184 - accuracy: 0.9033 - val_loss: 1.0879 - val_accuracy: 0.6400\n",
            "Epoch 150/200\n",
            "45/45 [==============================] - 0s 3ms/step - loss: 0.3154 - accuracy: 0.9133 - val_loss: 1.0841 - val_accuracy: 0.6600\n",
            "Epoch 151/200\n",
            "45/45 [==============================] - 0s 3ms/step - loss: 0.3124 - accuracy: 0.9022 - val_loss: 1.0961 - val_accuracy: 0.6500\n",
            "Epoch 152/200\n",
            "45/45 [==============================] - 0s 3ms/step - loss: 0.3092 - accuracy: 0.9089 - val_loss: 1.0971 - val_accuracy: 0.6700\n",
            "Epoch 153/200\n",
            "45/45 [==============================] - 0s 3ms/step - loss: 0.3043 - accuracy: 0.9133 - val_loss: 1.0851 - val_accuracy: 0.7000\n",
            "Epoch 154/200\n",
            "45/45 [==============================] - 0s 3ms/step - loss: 0.3010 - accuracy: 0.9144 - val_loss: 1.0813 - val_accuracy: 0.6900\n",
            "Epoch 155/200\n",
            "45/45 [==============================] - 0s 3ms/step - loss: 0.3009 - accuracy: 0.9167 - val_loss: 1.0825 - val_accuracy: 0.6600\n",
            "Epoch 156/200\n",
            "45/45 [==============================] - 0s 3ms/step - loss: 0.2959 - accuracy: 0.9133 - val_loss: 1.0857 - val_accuracy: 0.6400\n",
            "Epoch 157/200\n",
            "45/45 [==============================] - 0s 3ms/step - loss: 0.2938 - accuracy: 0.9167 - val_loss: 1.1174 - val_accuracy: 0.6500\n",
            "Epoch 158/200\n",
            "45/45 [==============================] - 0s 3ms/step - loss: 0.2888 - accuracy: 0.9200 - val_loss: 1.1088 - val_accuracy: 0.6700\n",
            "Epoch 159/200\n",
            "45/45 [==============================] - 0s 3ms/step - loss: 0.2863 - accuracy: 0.9211 - val_loss: 1.1039 - val_accuracy: 0.6700\n",
            "Epoch 160/200\n",
            "45/45 [==============================] - 0s 3ms/step - loss: 0.2838 - accuracy: 0.9200 - val_loss: 1.0832 - val_accuracy: 0.6800\n",
            "Epoch 161/200\n",
            "45/45 [==============================] - 0s 3ms/step - loss: 0.2819 - accuracy: 0.9211 - val_loss: 1.0968 - val_accuracy: 0.6900\n",
            "Epoch 162/200\n",
            "45/45 [==============================] - 0s 3ms/step - loss: 0.2769 - accuracy: 0.9233 - val_loss: 1.1020 - val_accuracy: 0.6700\n",
            "Epoch 163/200\n",
            "45/45 [==============================] - 0s 3ms/step - loss: 0.2753 - accuracy: 0.9244 - val_loss: 1.1260 - val_accuracy: 0.6700\n",
            "Epoch 164/200\n",
            "45/45 [==============================] - 0s 3ms/step - loss: 0.2706 - accuracy: 0.9311 - val_loss: 1.1213 - val_accuracy: 0.6600\n",
            "Epoch 165/200\n",
            "45/45 [==============================] - 0s 3ms/step - loss: 0.2668 - accuracy: 0.9289 - val_loss: 1.1198 - val_accuracy: 0.6500\n",
            "Epoch 166/200\n",
            "45/45 [==============================] - 0s 3ms/step - loss: 0.2651 - accuracy: 0.9322 - val_loss: 1.1187 - val_accuracy: 0.6700\n",
            "Epoch 167/200\n",
            "45/45 [==============================] - 0s 3ms/step - loss: 0.2622 - accuracy: 0.9256 - val_loss: 1.1343 - val_accuracy: 0.6400\n",
            "Epoch 168/200\n",
            "45/45 [==============================] - 0s 3ms/step - loss: 0.2583 - accuracy: 0.9400 - val_loss: 1.1226 - val_accuracy: 0.6600\n",
            "Epoch 169/200\n",
            "45/45 [==============================] - 0s 3ms/step - loss: 0.2558 - accuracy: 0.9256 - val_loss: 1.1314 - val_accuracy: 0.6800\n",
            "Epoch 170/200\n",
            "45/45 [==============================] - 0s 3ms/step - loss: 0.2527 - accuracy: 0.9322 - val_loss: 1.1302 - val_accuracy: 0.6900\n",
            "Epoch 171/200\n",
            "45/45 [==============================] - 0s 3ms/step - loss: 0.2485 - accuracy: 0.9333 - val_loss: 1.1704 - val_accuracy: 0.6700\n",
            "Epoch 172/200\n",
            "45/45 [==============================] - 0s 3ms/step - loss: 0.2488 - accuracy: 0.9322 - val_loss: 1.1560 - val_accuracy: 0.6400\n",
            "Epoch 173/200\n",
            "45/45 [==============================] - 0s 3ms/step - loss: 0.2441 - accuracy: 0.9378 - val_loss: 1.1249 - val_accuracy: 0.6700\n",
            "Epoch 174/200\n",
            "45/45 [==============================] - 0s 3ms/step - loss: 0.2413 - accuracy: 0.9411 - val_loss: 1.1492 - val_accuracy: 0.6700\n",
            "Epoch 175/200\n",
            "45/45 [==============================] - 0s 3ms/step - loss: 0.2394 - accuracy: 0.9456 - val_loss: 1.1460 - val_accuracy: 0.7000\n",
            "Epoch 176/200\n",
            "45/45 [==============================] - 0s 3ms/step - loss: 0.2376 - accuracy: 0.9344 - val_loss: 1.1539 - val_accuracy: 0.6800\n",
            "Epoch 177/200\n",
            "45/45 [==============================] - 0s 3ms/step - loss: 0.2312 - accuracy: 0.9456 - val_loss: 1.1438 - val_accuracy: 0.6900\n",
            "Epoch 178/200\n",
            "45/45 [==============================] - 0s 3ms/step - loss: 0.2316 - accuracy: 0.9367 - val_loss: 1.1378 - val_accuracy: 0.6900\n",
            "Epoch 179/200\n",
            "45/45 [==============================] - 0s 3ms/step - loss: 0.2268 - accuracy: 0.9444 - val_loss: 1.1484 - val_accuracy: 0.6800\n",
            "Epoch 180/200\n",
            "45/45 [==============================] - 0s 3ms/step - loss: 0.2240 - accuracy: 0.9444 - val_loss: 1.1793 - val_accuracy: 0.6700\n",
            "Epoch 181/200\n",
            "45/45 [==============================] - 0s 3ms/step - loss: 0.2204 - accuracy: 0.9467 - val_loss: 1.1848 - val_accuracy: 0.6700\n",
            "Epoch 182/200\n",
            "45/45 [==============================] - 0s 3ms/step - loss: 0.2216 - accuracy: 0.9411 - val_loss: 1.1745 - val_accuracy: 0.6900\n",
            "Epoch 183/200\n",
            "45/45 [==============================] - 0s 3ms/step - loss: 0.2149 - accuracy: 0.9433 - val_loss: 1.1761 - val_accuracy: 0.6800\n",
            "Epoch 184/200\n",
            "45/45 [==============================] - 0s 3ms/step - loss: 0.2142 - accuracy: 0.9500 - val_loss: 1.1925 - val_accuracy: 0.6700\n",
            "Epoch 185/200\n",
            "45/45 [==============================] - 0s 3ms/step - loss: 0.2082 - accuracy: 0.9489 - val_loss: 1.1759 - val_accuracy: 0.6700\n",
            "Epoch 186/200\n",
            "45/45 [==============================] - 0s 3ms/step - loss: 0.2090 - accuracy: 0.9489 - val_loss: 1.2106 - val_accuracy: 0.6600\n",
            "Epoch 187/200\n",
            "45/45 [==============================] - 0s 3ms/step - loss: 0.2054 - accuracy: 0.9456 - val_loss: 1.2195 - val_accuracy: 0.6700\n",
            "Epoch 188/200\n",
            "45/45 [==============================] - 0s 3ms/step - loss: 0.2015 - accuracy: 0.9511 - val_loss: 1.1775 - val_accuracy: 0.6700\n",
            "Epoch 189/200\n",
            "45/45 [==============================] - 0s 3ms/step - loss: 0.2017 - accuracy: 0.9544 - val_loss: 1.1999 - val_accuracy: 0.6800\n",
            "Epoch 190/200\n",
            "45/45 [==============================] - 0s 3ms/step - loss: 0.1997 - accuracy: 0.9578 - val_loss: 1.1911 - val_accuracy: 0.7000\n",
            "Epoch 191/200\n",
            "45/45 [==============================] - 0s 3ms/step - loss: 0.1958 - accuracy: 0.9489 - val_loss: 1.2047 - val_accuracy: 0.6900\n",
            "Epoch 192/200\n",
            "45/45 [==============================] - 0s 3ms/step - loss: 0.1931 - accuracy: 0.9544 - val_loss: 1.1914 - val_accuracy: 0.6800\n",
            "Epoch 193/200\n",
            "45/45 [==============================] - 0s 3ms/step - loss: 0.1907 - accuracy: 0.9578 - val_loss: 1.2074 - val_accuracy: 0.7000\n",
            "Epoch 194/200\n",
            "45/45 [==============================] - 0s 3ms/step - loss: 0.1888 - accuracy: 0.9556 - val_loss: 1.2226 - val_accuracy: 0.7000\n",
            "Epoch 195/200\n",
            "45/45 [==============================] - 0s 3ms/step - loss: 0.1850 - accuracy: 0.9533 - val_loss: 1.2351 - val_accuracy: 0.6800\n",
            "Epoch 196/200\n",
            "45/45 [==============================] - 0s 3ms/step - loss: 0.1824 - accuracy: 0.9500 - val_loss: 1.2220 - val_accuracy: 0.6700\n",
            "Epoch 197/200\n",
            "45/45 [==============================] - 0s 3ms/step - loss: 0.1812 - accuracy: 0.9600 - val_loss: 1.2188 - val_accuracy: 0.6700\n",
            "Epoch 198/200\n",
            "45/45 [==============================] - 0s 3ms/step - loss: 0.1776 - accuracy: 0.9622 - val_loss: 1.2470 - val_accuracy: 0.6900\n",
            "Epoch 199/200\n",
            "45/45 [==============================] - 0s 3ms/step - loss: 0.1753 - accuracy: 0.9589 - val_loss: 1.2229 - val_accuracy: 0.7000\n",
            "Epoch 200/200\n",
            "45/45 [==============================] - 0s 3ms/step - loss: 0.1733 - accuracy: 0.9578 - val_loss: 1.2503 - val_accuracy: 0.6800\n"
          ],
          "name": "stdout"
        },
        {
          "output_type": "display_data",
          "data": {
            "image/png": "[encoded data removed]",
            "text/plain": [
              "<Figure size 432x288 with 1 Axes>"
            ]
          },
          "metadata": {
            "tags": []
          }
        }
      ]
    }
  ]
}