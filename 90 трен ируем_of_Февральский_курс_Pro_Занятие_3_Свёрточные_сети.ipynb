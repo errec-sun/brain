{
  "nbformat": 4,
  "nbformat_minor": 0,
  "metadata": {
    "colab": {
      "name": "Copy of Февральский курс. Pro. Занятие 3. Свёрточные сети",
      "provenance": [],
      "collapsed_sections": [],
      "include_colab_link": true
    },
    "kernelspec": {
      "name": "python3",
      "display_name": "Python 3"
    },
    "accelerator": "GPU"
  },
  "cells": [
    {
      "cell_type": "markdown",
      "metadata": {
        "id": "view-in-github",
        "colab_type": "text"
      },
      "source": [
        "<a href=\"https://colab.research.google.com/github/errec-sun/brain/blob/master/90%20%D1%82%D1%80%D0%B5%D0%BD%20%D0%B8%D1%80%D1%83%D0%B5%D0%BC_of_%D0%A4%D0%B5%D0%B2%D1%80%D0%B0%D0%BB%D1%8C%D1%81%D0%BA%D0%B8%D0%B9_%D0%BA%D1%83%D1%80%D1%81_Pro_%D0%97%D0%B0%D0%BD%D1%8F%D1%82%D0%B8%D0%B5_3_%D0%A1%D0%B2%D1%91%D1%80%D1%82%D0%BE%D1%87%D0%BD%D1%8B%D0%B5_%D1%81%D0%B5%D1%82%D0%B8.ipynb\" target=\"_parent\"><img src=\"https://colab.research.google.com/assets/colab-badge.svg\" alt=\"Open In Colab\"/></a>"
      ]
    },
    {
      "cell_type": "markdown",
      "metadata": {
        "id": "Ah7dy1kFL2H9",
        "colab_type": "text"
      },
      "source": [
        "# Распознавание изображений из набора данных CIFAR-10 с помощью свёрточный нейронных сетей\n",
        "\n"
      ]
    },
    {
      "cell_type": "markdown",
      "metadata": {
        "id": "-RYt5ug5AP7-",
        "colab_type": "text"
      },
      "source": [
        "#Подготовка данных\n",
        "Подключение библиотек"
      ]
    },
    {
      "cell_type": "code",
      "metadata": {
        "id": "ivmw9St3nFnx",
        "colab_type": "code",
        "colab": {}
      },
      "source": [
        "from keras.datasets import cifar10 #Загружаем базу cifar10\n",
        "from keras.datasets import cifar100 #Загружаем базу cifar100\n",
        "\n",
        "from tensorflow.keras.models import Sequential #Сеть прямого распространения\n",
        "#Базовые слои для счёрточный сетей\n",
        "from tensorflow.keras.layers import Dense, Conv2D, MaxPooling2D, Flatten, Dropout, BatchNormalization, GlobalAveragePooling2D\n",
        "from tensorflow.keras import utils #Используем дял to_categoricall\n",
        "from tensorflow.keras.preprocessing import image #Для отрисовки изображений\n",
        "from google.colab import files #Для загрузки своей картинки\n",
        "import numpy as np #Библиотека работы с массивами\n",
        "import matplotlib.pyplot as plt #Для отрисовки графиков\n",
        "from PIL import Image #Для отрисовки изображений"
      ],
      "execution_count": 0,
      "outputs": []
    },
    {
      "cell_type": "markdown",
      "metadata": {
        "id": "YrFh8L1ZAXWI",
        "colab_type": "text"
      },
      "source": [
        "Загрузка данных"
      ]
    },
    {
      "cell_type": "code",
      "metadata": {
        "id": "o1HMeSAsAU9K",
        "colab_type": "code",
        "colab": {}
      },
      "source": [
        "#Загружаем все базы\n",
        "(x_train10, y_train10), (x_test10, y_test10) = cifar10.load_data()\n",
        "(x_train100, y_train100), (x_test100, y_test100) = cifar100.load_data()\n",
        "\n",
        "#задаём заранее batch_size для сетей\n",
        "batch_size = 128\n",
        "#Загружаем названия классов из набора данных CIFAR-10\n",
        "classes=['самолет', 'автомобиль', 'птица', 'кот', 'олень', 'собака', 'лягушка', 'лошадь', 'корабль', 'грузовик']\n",
        "\n",
        "#Превращаем выходы сетей в формат  one hot encoding\n",
        "y_train10 = utils.to_categorical(y_train10, 10)\n",
        "y_train100 = utils.to_categorical(y_train100, 100)\n"
      ],
      "execution_count": 0,
      "outputs": []
    },
    {
      "cell_type": "markdown",
      "metadata": {
        "id": "C2dfXvs1AZol",
        "colab_type": "text"
      },
      "source": [
        "Отображение картинки на выбор"
      ]
    },
    {
      "cell_type": "code",
      "metadata": {
        "id": "sQRrFNBdz-Va",
        "colab_type": "code",
        "colab": {}
      },
      "source": [
        "#Выводим для примера картинку\n",
        "n = 3909\n",
        "#Загружаем картинку из массива и отрисовываем в цветном формате - RGBA\n",
        "print(classes[np.argmax(y_train10[n])])\n",
        "plt.imshow(Image.fromarray(x_train10[n]).convert('RGBA'))\n",
        "plt.show()"
      ],
      "execution_count": 0,
      "outputs": []
    },
    {
      "cell_type": "code",
      "metadata": {
        "id": "gzczY1lgj5LD",
        "colab_type": "code",
        "colab": {}
      },
      "source": [
        "#Выводим пример картинки в цифрах, как она хранится в памяти\n",
        "print(x_train10[n, 0, 0])"
      ],
      "execution_count": 0,
      "outputs": []
    },
    {
      "cell_type": "code",
      "metadata": {
        "id": "W9jLRZgEWvQF",
        "colab_type": "code",
        "colab": {}
      },
      "source": [
        "print(x_train10.shape)\n",
        "print(x_test10.shape)"
      ],
      "execution_count": 0,
      "outputs": []
    },
    {
      "cell_type": "markdown",
      "metadata": {
        "id": "WVxjO7bDAwef",
        "colab_type": "text"
      },
      "source": [
        "#Нейронные сети\n",
        "**1** Создаём мощьную свёрточную сетку из 4-х блоков по 3 промежуточных слоя. Базовая архитектура свёрточной сети для работы с набором CIFAR 10. НС 512,512,512;  256,256,256;  128,128,128;  64,64,64; MaxPooling 2, 2. "
      ]
    },
    {
      "cell_type": "code",
      "metadata": {
        "id": "Qej0lSsofR28",
        "colab_type": "code",
        "outputId": "515e7c32-0bad-4b0c-a6f2-4493a9c2aba8",
        "colab": {
          "base_uri": "https://localhost:8080/",
          "height": 971
        }
      },
      "source": [
        "#Создаем последовательную модель\n",
        "model = Sequential()\n",
        "#Слой пакетной нормализации\n",
        "model.add(BatchNormalization(input_shape=(32, 32, 3)))\n",
        "#Первый сверточный слой\n",
        "model.add(Conv2D( 512, (3, 3), padding='same', activation='relu'))\n",
        "#Второй сверточный слой\n",
        "model.add(Conv2D( 512, (3, 3), padding='same', activation='relu'))\n",
        "#Третий сверточный слой\n",
        "model.add(Conv2D( 512, (3, 3), padding='same', activation='relu'))\n",
        "#Первый слой подвыборки\n",
        "model.add(MaxPooling2D(pool_size=(2, 2)))\n",
        "#Слой регуляризации Dropout\n",
        "model.add(Dropout(0.35))\n",
        "\n",
        "#Слой пакетной нормализации\n",
        "model.add(BatchNormalization())\n",
        "#Четвертый сверточный слой\n",
        "model.add(Conv2D(256, (3, 3), padding='same', activation='relu'))\n",
        "#Пятый сверточный слой\n",
        "model.add(Conv2D(256, (3, 3), padding='same', activation='relu'))\n",
        "#Шестой сверточный слой\n",
        "model.add(Conv2D(256, (3, 3), padding='same', activation='relu'))\n",
        "#Второй слой подвыборки\n",
        "model.add(MaxPooling2D(pool_size=(2, 2)))\n",
        "#Слой регуляризации Dropout\n",
        "model.add(Dropout(0.35))\n",
        "\n",
        "#Слой пакетной нормализации\n",
        "model.add(BatchNormalization())\n",
        "#Седьмой сверточный слой\n",
        "model.add(Conv2D(128, (3, 3), padding='same', activation='relu'))\n",
        "#Восьмой сверточный слой\n",
        "model.add(Conv2D(128, (3, 3), padding='same', activation='relu'))\n",
        "#Девятый сверточный слой\n",
        "model.add(Conv2D(128, (3, 3), padding='same', activation='relu'))\n",
        "#Третий слой подвыборки\n",
        "model.add(MaxPooling2D(pool_size=(2, 2)))\n",
        "#Слой регуляризации Dropout\n",
        "model.add(Dropout(0.35))\n",
        "\n",
        "#Слой пакетной нормализации\n",
        "model.add(BatchNormalization())\n",
        "#Десятый сверточный слой\n",
        "model.add(Conv2D(64, (3, 3), padding='same', activation='relu'))\n",
        "#Одинацатый сверточный слой\n",
        "model.add(Conv2D(64, (3, 3), padding='same', activation='relu'))\n",
        "#Двенацатый сверточный слой\n",
        "model.add(Conv2D(64, (3, 3), padding='same', activation='relu'))\n",
        "#Четвертый слой подвыборки\n",
        "model.add(MaxPooling2D(pool_size=(2, 2)))\n",
        "#Слой регуляризации Dropout\n",
        "model.add(Dropout(0.35))\n",
        "#Слой преобразования данных из 2D представления в плоское\n",
        "model.add(Flatten())\n",
        "#Полносвязный слой для классификации\n",
        "model.add(Dense(512, activation='relu'))\n",
        "#Слой регуляризации Dropout\n",
        "model.add(Dropout(0.25))\n",
        "#Выходной полносвязный слой\n",
        "model.add(Dense(10, activation='softmax'))\n",
        "\n",
        "#Компилируем сеть\n",
        "model.compile(loss=\"categorical_crossentropy\", optimizer=\"adam\", metrics=[\"accuracy\"])\n",
        "\n",
        "#Обучаем сеть на данных cifar10\n",
        "history = model.fit(x_train10, \n",
        "                    y_train10, \n",
        "                    batch_size=batch_size, \n",
        "                    epochs=40,\n",
        "                    validation_split=0.2,\n",
        "                    verbose=2)\n",
        "\n",
        "#Оображаем график точности обучения\n",
        "plt.plot(history.history['acc'], \n",
        "         label='Доля верных ответов на обучающем наборе')\n",
        "plt.plot(history.history['val_acc'], \n",
        "         label='Доля верных ответов на проверочном наборе')\n",
        "plt.xlabel('Эпоха обучения')\n",
        "plt.ylabel('Доля верных ответов')\n",
        "plt.legend()\n",
        "plt.show()"
      ],
      "execution_count": 0,
      "outputs": [
        {
          "output_type": "stream",
          "text": [
            "Train on 40000 samples, validate on 10000 samples\n",
            "Epoch 1/20\n",
            "40000/40000 - 128s - loss: 1.7720 - acc: 0.3343 - val_loss: 1.9542 - val_acc: 0.3877\n",
            "Epoch 2/20\n",
            "40000/40000 - 128s - loss: 1.3027 - acc: 0.5258 - val_loss: 2.1566 - val_acc: 0.4242\n",
            "Epoch 3/20\n",
            "40000/40000 - 127s - loss: 1.0787 - acc: 0.6176 - val_loss: 0.9604 - val_acc: 0.6613\n",
            "Epoch 4/20\n",
            "40000/40000 - 127s - loss: 0.9161 - acc: 0.6783 - val_loss: 0.9563 - val_acc: 0.6742\n",
            "Epoch 5/20\n",
            "40000/40000 - 127s - loss: 0.7986 - acc: 0.7239 - val_loss: 0.8808 - val_acc: 0.6990\n",
            "Epoch 6/20\n",
            "40000/40000 - 126s - loss: 0.7097 - acc: 0.7576 - val_loss: 0.7294 - val_acc: 0.7484\n",
            "Epoch 7/20\n",
            "40000/40000 - 126s - loss: 0.6286 - acc: 0.7887 - val_loss: 0.6645 - val_acc: 0.7741\n",
            "Epoch 8/20\n",
            "40000/40000 - 126s - loss: 0.5586 - acc: 0.8116 - val_loss: 0.6405 - val_acc: 0.7887\n",
            "Epoch 9/20\n",
            "40000/40000 - 125s - loss: 0.5084 - acc: 0.8291 - val_loss: 0.5805 - val_acc: 0.8091\n",
            "Epoch 10/20\n",
            "40000/40000 - 126s - loss: 0.4554 - acc: 0.8464 - val_loss: 0.5963 - val_acc: 0.8079\n",
            "Epoch 11/20\n",
            "40000/40000 - 126s - loss: 0.4173 - acc: 0.8616 - val_loss: 0.6190 - val_acc: 0.8082\n",
            "Epoch 12/20\n",
            "40000/40000 - 125s - loss: 0.3819 - acc: 0.8733 - val_loss: 0.5023 - val_acc: 0.8380\n",
            "Epoch 13/20\n",
            "40000/40000 - 125s - loss: 0.3492 - acc: 0.8842 - val_loss: 0.5428 - val_acc: 0.8296\n",
            "Epoch 14/20\n",
            "40000/40000 - 125s - loss: 0.3220 - acc: 0.8939 - val_loss: 0.5235 - val_acc: 0.8316\n",
            "Epoch 15/20\n",
            "40000/40000 - 125s - loss: 0.3028 - acc: 0.8989 - val_loss: 0.4618 - val_acc: 0.8579\n",
            "Epoch 16/20\n",
            "40000/40000 - 125s - loss: 0.2708 - acc: 0.9100 - val_loss: 0.5598 - val_acc: 0.8365\n",
            "Epoch 17/20\n",
            "40000/40000 - 125s - loss: 0.2449 - acc: 0.9187 - val_loss: 0.5834 - val_acc: 0.8270\n",
            "Epoch 18/20\n",
            "40000/40000 - 125s - loss: 0.2276 - acc: 0.9249 - val_loss: 0.6174 - val_acc: 0.8223\n",
            "Epoch 19/20\n",
            "40000/40000 - 125s - loss: 0.2090 - acc: 0.9314 - val_loss: 0.5638 - val_acc: 0.8506\n",
            "Epoch 20/20\n",
            "40000/40000 - 125s - loss: 0.1916 - acc: 0.9367 - val_loss: 0.5185 - val_acc: 0.8555\n"
          ],
          "name": "stdout"
        },
        {
          "output_type": "display_data",
          "data": {
            "image/png": "[encoded data removed]",
            "text/plain": [
              "<Figure size 432x288 with 1 Axes>"
            ]
          },
          "metadata": {
            "tags": []
          }
        }
      ]
    },
    {
      "cell_type": "markdown",
      "metadata": {
        "id": "4iseuJBiSHOA",
        "colab_type": "text"
      },
      "source": [
        "**результат** Epoch 15/20\n",
        "40000/40000 - 125s - loss: 0.3028 - acc: 0.8989 - val_loss: 0.4618 - val_acc: 0.8579"
      ]
    },
    {
      "cell_type": "markdown",
      "metadata": {
        "id": "CFz7LYCQ-Enf",
        "colab_type": "text"
      },
      "source": [
        "**2**  Добавим 2 слоя подвыборки model.add(MaxPooling2D(pool_size=(2, 2))) в 1 и2 блоки\n"
      ]
    },
    {
      "cell_type": "code",
      "metadata": {
        "id": "bZLGgjAT-CIy",
        "colab_type": "code",
        "outputId": "e1ce76b5-61d1-4811-8aa7-4b60a2090522",
        "colab": {
          "base_uri": "https://localhost:8080/",
          "height": 1000
        }
      },
      "source": [
        "#Создаем последовательную модель\n",
        "model = Sequential()\n",
        "#Слой пакетной нормализации\n",
        "model.add(BatchNormalization(input_shape=(32, 32, 3)))\n",
        "#Первый сверточный слой\n",
        "model.add(Conv2D( 512, (3, 3), padding='same', activation='relu'))\n",
        "#Первый слой подвыборки\n",
        "model.add(MaxPooling2D(pool_size=(2, 2)))\n",
        "#Второй сверточный слой\n",
        "model.add(Conv2D( 512, (3, 3), padding='same', activation='relu'))\n",
        "#Третий сверточный слой\n",
        "model.add(Conv2D( 512, (3, 3), padding='same', activation='relu'))\n",
        "#Второй слой подвыборки\n",
        "model.add(MaxPooling2D(pool_size=(2, 2)))\n",
        "#Слой регуляризации Dropout\n",
        "model.add(Dropout(0.35))\n",
        "\n",
        "#Слой пакетной нормализации\n",
        "model.add(BatchNormalization())\n",
        "#Четвертый сверточный слой\n",
        "model.add(Conv2D(256, (3, 3), padding='same', activation='relu'))\n",
        "#Третий слой подвыборки\n",
        "model.add(MaxPooling2D(pool_size=(2, 2)))\n",
        "#Пятый сверточный слой\n",
        "model.add(Conv2D(256, (3, 3), padding='same', activation='relu'))\n",
        "# Шестой сверточный слой\n",
        "model.add(Conv2D(256, (3, 3), padding='same', activation='relu'))\n",
        "#Четвертый слой подвыборки\n",
        "model.add(MaxPooling2D(pool_size=(2, 2)))\n",
        "#Слой регуляризации Dropout\n",
        "model.add(Dropout(0.35))\n",
        "\n",
        "#Слой пакетной нормализации\n",
        "model.add(BatchNormalization())\n",
        "#Седьмой сверточный слой\n",
        "model.add(Conv2D(128, (3, 3), padding='same', activation='relu'))\n",
        "#Восьмой сверточный слой\n",
        "model.add(Conv2D(128, (3, 3), padding='same', activation='relu'))\n",
        "#Девятый сверточный слой\n",
        "model.add(Conv2D(128, (3, 3), padding='same', activation='relu'))\n",
        "#Пятый слой подвыборки\n",
        "model.add(MaxPooling2D(pool_size=(2, 2)))\n",
        "#Слой регуляризации Dropout\n",
        "model.add(Dropout(0.35))\n",
        "\n",
        "#Слой пакетной нормализации\n",
        "model.add(BatchNormalization())\n",
        "#Десятый сверточный слой\n",
        "model.add(Conv2D(64, (3, 3), padding='same', activation='relu'))\n",
        "#Одинацатый сверточный слой\n",
        "model.add(Conv2D(64, (3, 3), padding='same', activation='relu'))\n",
        "# Двенацатый сверточный слой\n",
        "model.add(Conv2D(64, (3, 3), padding='same', activation='relu'))\n",
        "#Шестой слой подвыборки\n",
        "model.add(MaxPooling2D(pool_size=(1, 1)))\n",
        "#Слой регуляризации Dropout\n",
        "model.add(Dropout(0.35))\n",
        "#Слой преобразования данных из 2D представления в плоское\n",
        "model.add(Flatten())\n",
        "#Полносвязный слой для классификации\n",
        "model.add(Dense(512, activation='relu'))\n",
        "#Слой регуляризации Dropout\n",
        "model.add(Dropout(0.25))\n",
        "#Выходной полносвязный слой\n",
        "model.add(Dense(10, activation='softmax'))\n",
        "\n",
        "#Компилируем сеть\n",
        "model.compile(loss=\"categorical_crossentropy\", optimizer=\"adam\", metrics=[\"accuracy\"])\n",
        "\n",
        "#Обучаем сеть на данных cifar10\n",
        "history = model.fit(x_train10, \n",
        "                    y_train10, \n",
        "                    batch_size=batch_size, \n",
        "                    epochs=30,\n",
        "                    validation_split=0.2,\n",
        "                    verbose=2)\n",
        "\n",
        "#Оображаем график точности обучения\n",
        "plt.plot(history.history['acc'], \n",
        "         label='Доля верных ответов на обучающем наборе')\n",
        "plt.plot(history.history['val_acc'], \n",
        "         label='Доля верных ответов на проверочном наборе')\n",
        "plt.xlabel('Эпоха обучения')\n",
        "plt.ylabel('Доля верных ответов')\n",
        "plt.legend()\n",
        "plt.show()"
      ],
      "execution_count": 0,
      "outputs": [
        {
          "output_type": "stream",
          "text": [
            "Train on 40000 samples, validate on 10000 samples\n",
            "Epoch 1/30\n",
            "40000/40000 - 47s - loss: 1.9507 - acc: 0.1969 - val_loss: 1.8479 - val_acc: 0.2339\n",
            "Epoch 2/30\n",
            "40000/40000 - 37s - loss: 1.7960 - acc: 0.2672 - val_loss: 1.7699 - val_acc: 0.3218\n",
            "Epoch 3/30\n",
            "40000/40000 - 38s - loss: 1.5546 - acc: 0.3726 - val_loss: 1.4529 - val_acc: 0.4329\n",
            "Epoch 4/30\n",
            "40000/40000 - 39s - loss: 1.3525 - acc: 0.4909 - val_loss: 1.2644 - val_acc: 0.5383\n",
            "Epoch 5/30\n",
            "40000/40000 - 39s - loss: 1.1814 - acc: 0.5785 - val_loss: 1.1784 - val_acc: 0.5722\n",
            "Epoch 6/30\n",
            "40000/40000 - 39s - loss: 1.0383 - acc: 0.6417 - val_loss: 1.1466 - val_acc: 0.6059\n",
            "Epoch 7/30\n",
            "40000/40000 - 39s - loss: 0.9177 - acc: 0.6889 - val_loss: 0.9663 - val_acc: 0.6789\n",
            "Epoch 8/30\n",
            "40000/40000 - 39s - loss: 0.8156 - acc: 0.7269 - val_loss: 0.8420 - val_acc: 0.7218\n",
            "Epoch 9/30\n",
            "40000/40000 - 39s - loss: 0.7238 - acc: 0.7646 - val_loss: 0.8040 - val_acc: 0.7373\n",
            "Epoch 10/30\n",
            "40000/40000 - 39s - loss: 0.6464 - acc: 0.7897 - val_loss: 0.7791 - val_acc: 0.7473\n",
            "Epoch 11/30\n",
            "40000/40000 - 39s - loss: 0.5788 - acc: 0.8130 - val_loss: 0.7612 - val_acc: 0.7560\n",
            "Epoch 12/30\n",
            "40000/40000 - 39s - loss: 0.5171 - acc: 0.8340 - val_loss: 0.7309 - val_acc: 0.7738\n",
            "Epoch 13/30\n",
            "40000/40000 - 39s - loss: 0.4640 - acc: 0.8544 - val_loss: 0.6367 - val_acc: 0.8008\n",
            "Epoch 14/30\n",
            "40000/40000 - 39s - loss: 0.4190 - acc: 0.8681 - val_loss: 0.7101 - val_acc: 0.7937\n",
            "Epoch 15/30\n",
            "40000/40000 - 39s - loss: 0.3750 - acc: 0.8839 - val_loss: 0.6297 - val_acc: 0.8093\n",
            "Epoch 16/30\n",
            "40000/40000 - 39s - loss: 0.3433 - acc: 0.8937 - val_loss: 0.6924 - val_acc: 0.7868\n",
            "Epoch 17/30\n",
            "40000/40000 - 38s - loss: 0.3195 - acc: 0.9024 - val_loss: 0.6396 - val_acc: 0.8107\n",
            "Epoch 18/30\n",
            "40000/40000 - 38s - loss: 0.2933 - acc: 0.9106 - val_loss: 0.6813 - val_acc: 0.7922\n",
            "Epoch 19/30\n",
            "40000/40000 - 38s - loss: 0.2596 - acc: 0.9222 - val_loss: 0.6474 - val_acc: 0.8118\n",
            "Epoch 20/30\n",
            "40000/40000 - 38s - loss: 0.2427 - acc: 0.9277 - val_loss: 0.6728 - val_acc: 0.8046\n",
            "Epoch 21/30\n",
            "40000/40000 - 39s - loss: 0.2347 - acc: 0.9302 - val_loss: 0.6475 - val_acc: 0.8176\n",
            "Epoch 22/30\n",
            "40000/40000 - 39s - loss: 0.2087 - acc: 0.9375 - val_loss: 0.6796 - val_acc: 0.8098\n",
            "Epoch 23/30\n",
            "40000/40000 - 39s - loss: 0.2020 - acc: 0.9405 - val_loss: 0.7234 - val_acc: 0.8084\n",
            "Epoch 24/30\n",
            "40000/40000 - 39s - loss: 0.1764 - acc: 0.9476 - val_loss: 0.6813 - val_acc: 0.8164\n",
            "Epoch 25/30\n",
            "40000/40000 - 39s - loss: 0.1662 - acc: 0.9526 - val_loss: 0.6602 - val_acc: 0.8226\n",
            "Epoch 26/30\n",
            "40000/40000 - 38s - loss: 0.1533 - acc: 0.9556 - val_loss: 0.6382 - val_acc: 0.8264\n",
            "Epoch 27/30\n",
            "40000/40000 - 38s - loss: 0.1539 - acc: 0.9551 - val_loss: 0.6588 - val_acc: 0.8224\n",
            "Epoch 28/30\n",
            "40000/40000 - 38s - loss: 0.1365 - acc: 0.9610 - val_loss: 0.6658 - val_acc: 0.8260\n",
            "Epoch 29/30\n",
            "40000/40000 - 38s - loss: 0.1363 - acc: 0.9613 - val_loss: 0.6787 - val_acc: 0.8232\n",
            "Epoch 30/30\n",
            "40000/40000 - 38s - loss: 0.1176 - acc: 0.9667 - val_loss: 0.6983 - val_acc: 0.8299\n"
          ],
          "name": "stdout"
        },
        {
          "output_type": "display_data",
          "data": {
            "image/png": "[encoded data removed]",
            "text/plain": [
              "<Figure size 432x288 with 1 Axes>"
            ]
          },
          "metadata": {
            "tags": []
          }
        }
      ]
    },
    {
      "cell_type": "markdown",
      "metadata": {
        "id": "PcltnRBQK17U",
        "colab_type": "text"
      },
      "source": [
        "**Вывод** Результат ухудшился\n",
        "\n",
        "\n"
      ]
    },
    {
      "cell_type": "markdown",
      "metadata": {
        "id": "aGas0A3mJ4DB",
        "colab_type": "text"
      },
      "source": [
        "**3** Изменим размер ядер, ставим ядро свертки 2,2"
      ]
    },
    {
      "cell_type": "code",
      "metadata": {
        "id": "50_fkAMUON8R",
        "colab_type": "code",
        "outputId": "0f9c90e3-61f4-4fe2-900f-924bb8918d2b",
        "colab": {
          "base_uri": "https://localhost:8080/",
          "height": 1000
        }
      },
      "source": [
        "\n",
        "model = Sequential()\n",
        "#Слой пакетной нормализации\n",
        "model.add(BatchNormalization(input_shape=(32, 32, 3)))\n",
        "#Первый сверточный слой\n",
        "model.add(Conv2D( 512, (2, 2), padding='same', activation='relu'))\n",
        "#Второй сверточный слой\n",
        "model.add(Conv2D( 512, (2, 2), padding='same', activation='relu'))\n",
        "#Третий сверточный слой\n",
        "model.add(Conv2D( 512, (2, 2), padding='same', activation='relu'))\n",
        "#Первый слой подвыборки\n",
        "model.add(MaxPooling2D(pool_size=(2, 2)))\n",
        "#Слой регуляризации Dropout\n",
        "model.add(Dropout(0.35))\n",
        "\n",
        "#Слой пакетной нормализации\n",
        "model.add(BatchNormalization())\n",
        "#Четвертый сверточный слой\n",
        "model.add(Conv2D(256, (2, 2), padding='same', activation='relu'))\n",
        "#Пятый сверточный слой\n",
        "model.add(Conv2D(256, (2, 2), padding='same', activation='relu'))\n",
        "#Шестой сверточный слой\n",
        "model.add(Conv2D(256, (2, 2), padding='same', activation='relu'))\n",
        "#Второй слой подвыборки\n",
        "model.add(MaxPooling2D(pool_size=(2, 2)))\n",
        "#Слой регуляризации Dropout\n",
        "model.add(Dropout(0.35))\n",
        "\n",
        "#Слой пакетной нормализации\n",
        "model.add(BatchNormalization())\n",
        "#Седьмой сверточный слой\n",
        "model.add(Conv2D(128, (2, 2), padding='same', activation='relu'))\n",
        "#Восьмой сверточный слой\n",
        "model.add(Conv2D(128, (2, 2), padding='same', activation='relu'))\n",
        "#Девятый сверточный слой\n",
        "model.add(Conv2D(128, (2, 2), padding='same', activation='relu'))\n",
        "#Третий слой подвыборки\n",
        "model.add(MaxPooling2D(pool_size=(2, 2)))\n",
        "#Слой регуляризации Dropout\n",
        "model.add(Dropout(0.35))\n",
        "\n",
        "#Слой пакетной нормализации\n",
        "model.add(BatchNormalization())\n",
        "#Десятый сверточный слой\n",
        "model.add(Conv2D(64, (2, 2), padding='same', activation='relu'))\n",
        "#Одинацатый сверточный слой\n",
        "model.add(Conv2D(64, (2, 2), padding='same', activation='relu'))\n",
        "#Двенацатый сверточный слой\n",
        "model.add(Conv2D(64, (2, 2), padding='same', activation='relu'))\n",
        "#Четвертый слой подвыборки\n",
        "model.add(MaxPooling2D(pool_size=(2, 2)))\n",
        "#Слой регуляризации Dropout\n",
        "model.add(Dropout(0.35))\n",
        "#Слой преобразования данных из 2D представления в плоское\n",
        "model.add(Flatten())\n",
        "#Полносвязный слой для классификации\n",
        "model.add(Dense(512, activation='relu'))\n",
        "#Слой регуляризации Dropout\n",
        "model.add(Dropout(0.25))\n",
        "#Выходной полносвязный слой\n",
        "model.add(Dense(10, activation='softmax'))\n",
        "\n",
        "#Компилируем сеть\n",
        "model.compile(loss=\"categorical_crossentropy\", optimizer=\"adam\", metrics=[\"accuracy\"])\n",
        "\n",
        "#Обучаем сеть на данных cifar10\n",
        "history = model.fit(x_train10, \n",
        "                    y_train10, \n",
        "                    batch_size=batch_size, \n",
        "                    epochs=40,\n",
        "                    validation_split=0.2,\n",
        "                    verbose=2)\n",
        "\n",
        "#Оображаем график точности обучения\n",
        "plt.plot(history.history['acc'], \n",
        "         label='Доля верных ответов на обучающем наборе')\n",
        "plt.plot(history.history['val_acc'], \n",
        "         label='Доля верных ответов на проверочном наборе')\n",
        "plt.xlabel('Эпоха обучения')\n",
        "plt.ylabel('Доля верных ответов')\n",
        "plt.legend()\n",
        "plt.show()"
      ],
      "execution_count": 0,
      "outputs": [
        {
          "output_type": "stream",
          "text": [
            "Train on 40000 samples, validate on 10000 samples\n",
            "Epoch 1/40\n",
            "40000/40000 - 173s - loss: 1.8290 - acc: 0.3025 - val_loss: 1.7131 - val_acc: 0.3748\n",
            "Epoch 2/40\n",
            "40000/40000 - 173s - loss: 1.3975 - acc: 0.4787 - val_loss: 1.4169 - val_acc: 0.4934\n",
            "Epoch 3/40\n",
            "40000/40000 - 174s - loss: 1.1810 - acc: 0.5716 - val_loss: 1.1872 - val_acc: 0.5689\n",
            "Epoch 4/40\n",
            "40000/40000 - 173s - loss: 1.0566 - acc: 0.6235 - val_loss: 1.0916 - val_acc: 0.6139\n",
            "Epoch 5/40\n",
            "40000/40000 - 173s - loss: 0.9583 - acc: 0.6622 - val_loss: 0.9942 - val_acc: 0.6499\n",
            "Epoch 6/40\n",
            "40000/40000 - 173s - loss: 0.8828 - acc: 0.6866 - val_loss: 0.8521 - val_acc: 0.6918\n",
            "Epoch 7/40\n",
            "40000/40000 - 173s - loss: 0.8185 - acc: 0.7103 - val_loss: 0.7727 - val_acc: 0.7293\n",
            "Epoch 8/40\n",
            "40000/40000 - 172s - loss: 0.7717 - acc: 0.7293 - val_loss: 0.7700 - val_acc: 0.7273\n",
            "Epoch 9/40\n",
            "40000/40000 - 172s - loss: 0.7320 - acc: 0.7459 - val_loss: 0.7100 - val_acc: 0.7512\n",
            "Epoch 10/40\n",
            "40000/40000 - 172s - loss: 0.6844 - acc: 0.7661 - val_loss: 0.7122 - val_acc: 0.7519\n",
            "Epoch 11/40\n",
            "40000/40000 - 172s - loss: 0.6525 - acc: 0.7736 - val_loss: 0.7251 - val_acc: 0.7535\n",
            "Epoch 12/40\n",
            "40000/40000 - 172s - loss: 0.6164 - acc: 0.7903 - val_loss: 0.7778 - val_acc: 0.7478\n",
            "Epoch 13/40\n",
            "40000/40000 - 172s - loss: 0.5787 - acc: 0.8014 - val_loss: 0.6787 - val_acc: 0.7637\n",
            "Epoch 14/40\n",
            "40000/40000 - 172s - loss: 0.5643 - acc: 0.8090 - val_loss: 0.6273 - val_acc: 0.7858\n",
            "Epoch 15/40\n",
            "40000/40000 - 172s - loss: 0.5217 - acc: 0.8213 - val_loss: 0.6505 - val_acc: 0.7827\n",
            "Epoch 16/40\n",
            "40000/40000 - 172s - loss: 0.5006 - acc: 0.8308 - val_loss: 0.5960 - val_acc: 0.7989\n",
            "Epoch 17/40\n",
            "40000/40000 - 172s - loss: 0.4813 - acc: 0.8374 - val_loss: 0.6026 - val_acc: 0.8019\n",
            "Epoch 18/40\n",
            "40000/40000 - 172s - loss: 0.4625 - acc: 0.8454 - val_loss: 0.5811 - val_acc: 0.8078\n",
            "Epoch 19/40\n",
            "40000/40000 - 171s - loss: 0.4392 - acc: 0.8521 - val_loss: 0.5847 - val_acc: 0.8074\n",
            "Epoch 20/40\n",
            "40000/40000 - 172s - loss: 0.4165 - acc: 0.8589 - val_loss: 0.6158 - val_acc: 0.8059\n",
            "Epoch 21/40\n",
            "40000/40000 - 172s - loss: 0.4010 - acc: 0.8649 - val_loss: 0.5461 - val_acc: 0.8195\n",
            "Epoch 22/40\n",
            "40000/40000 - 172s - loss: 0.3755 - acc: 0.8745 - val_loss: 0.6479 - val_acc: 0.8016\n",
            "Epoch 23/40\n",
            "40000/40000 - 171s - loss: 0.3624 - acc: 0.8782 - val_loss: 0.5574 - val_acc: 0.8213\n",
            "Epoch 24/40\n",
            "40000/40000 - 171s - loss: 0.3514 - acc: 0.8816 - val_loss: 0.5268 - val_acc: 0.8308\n",
            "Epoch 25/40\n",
            "40000/40000 - 171s - loss: 0.3374 - acc: 0.8875 - val_loss: 0.5805 - val_acc: 0.8148\n",
            "Epoch 26/40\n",
            "40000/40000 - 171s - loss: 0.3259 - acc: 0.8902 - val_loss: 0.5571 - val_acc: 0.8217\n",
            "Epoch 27/40\n",
            "40000/40000 - 171s - loss: 0.3088 - acc: 0.8974 - val_loss: 0.4978 - val_acc: 0.8406\n",
            "Epoch 28/40\n",
            "40000/40000 - 171s - loss: 0.2989 - acc: 0.9010 - val_loss: 0.5056 - val_acc: 0.8382\n",
            "Epoch 29/40\n",
            "40000/40000 - 171s - loss: 0.2858 - acc: 0.9053 - val_loss: 0.5214 - val_acc: 0.8301\n",
            "Epoch 30/40\n",
            "40000/40000 - 171s - loss: 0.2743 - acc: 0.9109 - val_loss: 0.5270 - val_acc: 0.8314\n",
            "Epoch 31/40\n",
            "40000/40000 - 171s - loss: 0.2639 - acc: 0.9118 - val_loss: 0.5088 - val_acc: 0.8416\n",
            "Epoch 32/40\n",
            "40000/40000 - 171s - loss: 0.2519 - acc: 0.9160 - val_loss: 0.5437 - val_acc: 0.8283\n",
            "Epoch 33/40\n",
            "40000/40000 - 171s - loss: 0.2586 - acc: 0.9142 - val_loss: 0.5567 - val_acc: 0.8256\n",
            "Epoch 34/40\n",
            "40000/40000 - 171s - loss: 0.2489 - acc: 0.9174 - val_loss: 0.5284 - val_acc: 0.8370\n",
            "Epoch 35/40\n",
            "40000/40000 - 171s - loss: 0.2370 - acc: 0.9223 - val_loss: 0.5696 - val_acc: 0.8261\n",
            "Epoch 36/40\n",
            "40000/40000 - 171s - loss: 0.2256 - acc: 0.9260 - val_loss: 0.4966 - val_acc: 0.8476\n",
            "Epoch 37/40\n",
            "40000/40000 - 171s - loss: 0.2179 - acc: 0.9285 - val_loss: 0.5087 - val_acc: 0.8451\n",
            "Epoch 38/40\n",
            "40000/40000 - 171s - loss: 0.2158 - acc: 0.9291 - val_loss: 0.4966 - val_acc: 0.8445\n",
            "Epoch 39/40\n",
            "40000/40000 - 171s - loss: 0.2037 - acc: 0.9341 - val_loss: 0.5179 - val_acc: 0.8452\n",
            "Epoch 40/40\n",
            "40000/40000 - 171s - loss: 0.2077 - acc: 0.9329 - val_loss: 0.4981 - val_acc: 0.8483\n"
          ],
          "name": "stdout"
        },
        {
          "output_type": "display_data",
          "data": {
            "image/png": "[encoded data removed]",
            "text/plain": [
              "<Figure size 432x288 with 1 Axes>"
            ]
          },
          "metadata": {
            "tags": []
          }
        }
      ]
    },
    {
      "cell_type": "markdown",
      "metadata": {
        "id": "4YuKZJsU-t58",
        "colab_type": "text"
      },
      "source": [
        "**Вывод** получили результат немного хуже первоночального, на 0,7 прощента, возвращаем ядро 3, 3 ."
      ]
    },
    {
      "cell_type": "markdown",
      "metadata": {
        "id": "4Y6EHR5ZK87I",
        "colab_type": "text"
      },
      "source": [
        "**4** увеличиваем колличество нейронов в каждом блоке на величину аналогичную предыдущему блоку, делаем это постепенно. Проверяем гипотезу о влиянии колличества нейронов на результат.НС 1024,512,512;  512,256,256;  256,128,128;  128,64,64; \n",
        "Epoch 30/30\n"
      ]
    },
    {
      "cell_type": "code",
      "metadata": {
        "id": "bLVz9XBjAoL5",
        "colab_type": "code",
        "outputId": "677058f4-f686-4575-a7e1-1eda79aae058",
        "colab": {
          "base_uri": "https://localhost:8080/",
          "height": 1000
        }
      },
      "source": [
        "\n",
        "model = Sequential()\n",
        "#Слой пакетной нормализации\n",
        "model.add(BatchNormalization(input_shape=(32, 32, 3)))\n",
        "#Первый сверточный слой\n",
        "model.add(Conv2D( 1024, (3, 3), padding='same', activation='relu'))\n",
        "#Второй сверточный слой\n",
        "model.add(Conv2D( 512, (3, 3), padding='same', activation='relu'))\n",
        "#Третий сверточный слой\n",
        "model.add(Conv2D( 512, (3, 3), padding='same', activation='relu'))\n",
        "#Первый слой подвыборки\n",
        "model.add(MaxPooling2D(pool_size=(2, 2)))\n",
        "#Слой регуляризации Dropout\n",
        "model.add(Dropout(0.35))\n",
        "\n",
        "#Слой пакетной нормализации\n",
        "model.add(BatchNormalization())\n",
        "#Четвертый сверточный слой\n",
        "model.add(Conv2D(512, (3, 3), padding='same', activation='relu'))\n",
        "#Пятый сверточный слой\n",
        "model.add(Conv2D(256, (3, 3), padding='same', activation='relu'))\n",
        "#Шестой сверточный слой\n",
        "model.add(Conv2D(256, (3, 3), padding='same', activation='relu'))\n",
        "#Второй слой подвыборки\n",
        "model.add(MaxPooling2D(pool_size=(2, 2)))\n",
        "#Слой регуляризации Dropout\n",
        "model.add(Dropout(0.35))\n",
        "\n",
        "#Слой пакетной нормализации\n",
        "model.add(BatchNormalization())\n",
        "#Седьмой сверточный слой\n",
        "model.add(Conv2D(256, (3, 3), padding='same', activation='relu'))\n",
        "#Восьмой сверточный слой\n",
        "model.add(Conv2D(128, (3, 3), padding='same', activation='relu'))\n",
        "#Девятый сверточный слой\n",
        "model.add(Conv2D(128, (3, 3), padding='same', activation='relu'))\n",
        "#Третий слой подвыборки\n",
        "model.add(MaxPooling2D(pool_size=(2, 2)))\n",
        "#Слой регуляризации Dropout\n",
        "model.add(Dropout(0.35))\n",
        "\n",
        "#Слой пакетной нормализации\n",
        "model.add(BatchNormalization())\n",
        "#Десятый сверточный слой\n",
        "model.add(Conv2D(128, (3, 3), padding='same', activation='relu'))\n",
        "#Одинацатый сверточный слой\n",
        "model.add(Conv2D(64, (3, 3), padding='same', activation='relu'))\n",
        "#Двенацатый сверточный слой\n",
        "model.add(Conv2D(64, (3, 3), padding='same', activation='relu'))\n",
        "#Четвертый слой подвыборки\n",
        "model.add(MaxPooling2D(pool_size=(2, 2)))\n",
        "#Слой регуляризации Dropout\n",
        "model.add(Dropout(0.35))\n",
        "#Слой преобразования данных из 2D представления в плоское\n",
        "model.add(Flatten())\n",
        "#Полносвязный слой для классификации\n",
        "model.add(Dense(512, activation='relu'))\n",
        "#Слой регуляризации Dropout\n",
        "model.add(Dropout(0.25))\n",
        "#Выходной полносвязный слой\n",
        "model.add(Dense(10, activation='softmax'))\n",
        "\n",
        "#Компилируем сеть\n",
        "model.compile(loss=\"categorical_crossentropy\", optimizer=\"adam\", metrics=[\"accuracy\"])\n",
        "\n",
        "#Обучаем сеть на данных cifar10\n",
        "history = model.fit(x_train10, \n",
        "                    y_train10, \n",
        "                    batch_size=batch_size, \n",
        "                    epochs=40,\n",
        "                    validation_split=0.2,\n",
        "                    verbose=2)\n",
        "\n",
        "#Оображаем график точности обучения\n",
        "plt.plot(history.history['acc'], \n",
        "         label='Доля верных ответов на обучающем наборе')\n",
        "plt.plot(history.history['val_acc'], \n",
        "         label='Доля верных ответов на проверочном наборе')\n",
        "plt.xlabel('Эпоха обучения')\n",
        "plt.ylabel('Доля верных ответов')\n",
        "plt.legend()\n",
        "plt.show()"
      ],
      "execution_count": 0,
      "outputs": [
        {
          "output_type": "stream",
          "text": [
            "WARNING:tensorflow:From /usr/local/lib/python3.6/dist-packages/tensorflow_core/python/ops/resource_variable_ops.py:1630: calling BaseResourceVariable.__init__ (from tensorflow.python.ops.resource_variable_ops) with constraint is deprecated and will be removed in a future version.\n",
            "Instructions for updating:\n",
            "If using Keras pass *_constraint arguments to layers.\n",
            "Train on 40000 samples, validate on 10000 samples\n",
            "Epoch 1/40\n",
            "40000/40000 - 104s - loss: 1.7838 - acc: 0.3345 - val_loss: 1.8728 - val_acc: 0.3338\n",
            "Epoch 2/40\n",
            "40000/40000 - 92s - loss: 1.3340 - acc: 0.5149 - val_loss: 1.3964 - val_acc: 0.5168\n",
            "Epoch 3/40\n",
            "40000/40000 - 92s - loss: 1.1030 - acc: 0.6054 - val_loss: 1.1663 - val_acc: 0.5999\n",
            "Epoch 4/40\n",
            "40000/40000 - 92s - loss: 0.9500 - acc: 0.6629 - val_loss: 0.9160 - val_acc: 0.6783\n",
            "Epoch 5/40\n",
            "40000/40000 - 92s - loss: 0.8380 - acc: 0.7104 - val_loss: 0.8178 - val_acc: 0.7168\n",
            "Epoch 6/40\n",
            "40000/40000 - 92s - loss: 0.7523 - acc: 0.7411 - val_loss: 0.7398 - val_acc: 0.7494\n",
            "Epoch 7/40\n",
            "40000/40000 - 92s - loss: 0.6615 - acc: 0.7756 - val_loss: 0.6611 - val_acc: 0.7796\n",
            "Epoch 8/40\n",
            "40000/40000 - 92s - loss: 0.6065 - acc: 0.7934 - val_loss: 0.7034 - val_acc: 0.7610\n",
            "Epoch 9/40\n",
            "40000/40000 - 92s - loss: 0.5528 - acc: 0.8121 - val_loss: 0.5854 - val_acc: 0.8016\n",
            "Epoch 10/40\n",
            "40000/40000 - 92s - loss: 0.4963 - acc: 0.8354 - val_loss: 0.6414 - val_acc: 0.7893\n",
            "Epoch 11/40\n",
            "40000/40000 - 92s - loss: 0.4539 - acc: 0.8465 - val_loss: 0.5408 - val_acc: 0.8258\n",
            "Epoch 12/40\n",
            "40000/40000 - 92s - loss: 0.4113 - acc: 0.8628 - val_loss: 0.5564 - val_acc: 0.8166\n",
            "Epoch 13/40\n",
            "40000/40000 - 92s - loss: 0.3715 - acc: 0.8761 - val_loss: 0.5545 - val_acc: 0.8262\n",
            "Epoch 14/40\n",
            "40000/40000 - 92s - loss: 0.3442 - acc: 0.8851 - val_loss: 0.5727 - val_acc: 0.8177\n",
            "Epoch 15/40\n",
            "40000/40000 - 92s - loss: 0.3194 - acc: 0.8936 - val_loss: 0.5231 - val_acc: 0.8346\n",
            "Epoch 16/40\n",
            "40000/40000 - 92s - loss: 0.2854 - acc: 0.9057 - val_loss: 0.5023 - val_acc: 0.8475\n",
            "Epoch 17/40\n",
            "40000/40000 - 92s - loss: 0.2660 - acc: 0.9121 - val_loss: 0.5139 - val_acc: 0.8469\n",
            "Epoch 18/40\n",
            "40000/40000 - 92s - loss: 0.2362 - acc: 0.9210 - val_loss: 0.5196 - val_acc: 0.8469\n",
            "Epoch 19/40\n",
            "40000/40000 - 92s - loss: 0.2336 - acc: 0.9214 - val_loss: 0.5164 - val_acc: 0.8447\n",
            "Epoch 20/40\n",
            "40000/40000 - 92s - loss: 0.2049 - acc: 0.9317 - val_loss: 0.6202 - val_acc: 0.8325\n",
            "Epoch 21/40\n",
            "40000/40000 - 92s - loss: 0.1899 - acc: 0.9366 - val_loss: 0.5721 - val_acc: 0.8465\n",
            "Epoch 22/40\n",
            "40000/40000 - 92s - loss: 0.1765 - acc: 0.9433 - val_loss: 0.5322 - val_acc: 0.8595\n",
            "Epoch 23/40\n",
            "40000/40000 - 92s - loss: 0.1613 - acc: 0.9456 - val_loss: 0.5428 - val_acc: 0.8574\n",
            "Epoch 24/40\n",
            "40000/40000 - 92s - loss: 0.1511 - acc: 0.9500 - val_loss: 0.5368 - val_acc: 0.8568\n",
            "Epoch 25/40\n",
            "40000/40000 - 92s - loss: 0.1419 - acc: 0.9543 - val_loss: 0.5588 - val_acc: 0.8494\n",
            "Epoch 26/40\n",
            "40000/40000 - 92s - loss: 0.1352 - acc: 0.9567 - val_loss: 0.6699 - val_acc: 0.8391\n",
            "Epoch 27/40\n",
            "40000/40000 - 92s - loss: 0.1352 - acc: 0.9564 - val_loss: 0.5303 - val_acc: 0.8664\n",
            "Epoch 28/40\n",
            "40000/40000 - 92s - loss: 0.1221 - acc: 0.9605 - val_loss: 0.6033 - val_acc: 0.8533\n",
            "Epoch 29/40\n",
            "40000/40000 - 92s - loss: 0.1075 - acc: 0.9653 - val_loss: 0.6144 - val_acc: 0.8574\n",
            "Epoch 30/40\n",
            "40000/40000 - 92s - loss: 0.1079 - acc: 0.9660 - val_loss: 0.5659 - val_acc: 0.8665\n",
            "Epoch 31/40\n",
            "40000/40000 - 92s - loss: 0.1029 - acc: 0.9679 - val_loss: 0.6107 - val_acc: 0.8559\n",
            "Epoch 32/40\n",
            "40000/40000 - 92s - loss: 0.0967 - acc: 0.9696 - val_loss: 0.6734 - val_acc: 0.8476\n",
            "Epoch 33/40\n",
            "40000/40000 - 92s - loss: 0.1041 - acc: 0.9674 - val_loss: 0.6255 - val_acc: 0.8573\n",
            "Epoch 34/40\n",
            "40000/40000 - 92s - loss: 0.0881 - acc: 0.9717 - val_loss: 0.7458 - val_acc: 0.8457\n",
            "Epoch 35/40\n",
            "40000/40000 - 92s - loss: 0.0846 - acc: 0.9732 - val_loss: 0.6400 - val_acc: 0.8631\n",
            "Epoch 36/40\n",
            "40000/40000 - 92s - loss: 0.0855 - acc: 0.9739 - val_loss: 0.5595 - val_acc: 0.8709\n",
            "Epoch 37/40\n",
            "40000/40000 - 92s - loss: 0.0782 - acc: 0.9750 - val_loss: 0.5749 - val_acc: 0.8708\n",
            "Epoch 38/40\n",
            "40000/40000 - 92s - loss: 0.0753 - acc: 0.9757 - val_loss: 0.6642 - val_acc: 0.8546\n",
            "Epoch 39/40\n",
            "40000/40000 - 92s - loss: 0.0775 - acc: 0.9764 - val_loss: 0.5843 - val_acc: 0.8723\n",
            "Epoch 40/40\n",
            "40000/40000 - 92s - loss: 0.0712 - acc: 0.9778 - val_loss: 0.6762 - val_acc: 0.8659\n"
          ],
          "name": "stdout"
        },
        {
          "output_type": "display_data",
          "data": {
            "image/png": "[encoded data removed]",
            "text/plain": [
              "<Figure size 432x288 with 1 Axes>"
            ]
          },
          "metadata": {
            "tags": []
          }
        }
      ]
    },
    {
      "cell_type": "markdown",
      "metadata": {
        "id": "MF8ky_EmQtON",
        "colab_type": "text"
      },
      "source": [
        "**Вывод** Результат улучшен на 2 процента, направление правильное, увеличим нейроны в следующих слоях в каждом блоке.\n",
        "\n",
        "`Epoch 36/4040000/40000 - 92s - loss: 0.0855 - acc: 0.9739 - val_loss: 0.5595 - val_acc: 0.8709\n",
        "```\n",
        "\n"
      ]
    },
    {
      "cell_type": "markdown",
      "metadata": {
        "id": "TAVfB1bcS7zG",
        "colab_type": "text"
      },
      "source": [
        "**4** увеличиваем колличество неронов в последующих слоях каждого блока. НС 1024,1024,512;  512,512,256;  256,256,128;  128,128,64; \n"
      ]
    },
    {
      "cell_type": "code",
      "metadata": {
        "id": "-jvqB63pQp-x",
        "colab_type": "code",
        "outputId": "a982a20e-720f-4943-be65-c5fa38cac20b",
        "colab": {
          "base_uri": "https://localhost:8080/",
          "height": 1000
        }
      },
      "source": [
        "\n",
        "model = Sequential()\n",
        "#Слой пакетной нормализации\n",
        "model.add(BatchNormalization(input_shape=(32, 32, 3)))\n",
        "#Первый сверточный слой\n",
        "model.add(Conv2D( 1024, (3, 3), padding='same', activation='relu'))\n",
        "#Второй сверточный слой\n",
        "model.add(Conv2D( 1024, (3, 3), padding='same', activation='relu'))\n",
        "#Третий сверточный слой\n",
        "model.add(Conv2D( 512, (3, 3), padding='same', activation='relu'))\n",
        "#Первый слой подвыборки\n",
        "model.add(MaxPooling2D(pool_size=(2, 2)))\n",
        "#Слой регуляризации Dropout\n",
        "model.add(Dropout(0.35))\n",
        "\n",
        "#Слой пакетной нормализации\n",
        "model.add(BatchNormalization())\n",
        "#Четвертый сверточный слой\n",
        "model.add(Conv2D(512, (3, 3), padding='same', activation='relu'))\n",
        "#Пятый сверточный слой\n",
        "model.add(Conv2D(512, (3, 3), padding='same', activation='relu'))\n",
        "#Шестой сверточный слой\n",
        "model.add(Conv2D(256, (3, 3), padding='same', activation='relu'))\n",
        "#Второй слой подвыборки\n",
        "model.add(MaxPooling2D(pool_size=(2, 2)))\n",
        "#Слой регуляризации Dropout\n",
        "model.add(Dropout(0.35))\n",
        "\n",
        "#Слой пакетной нормализации\n",
        "model.add(BatchNormalization())\n",
        "#Седьмой сверточный слой\n",
        "model.add(Conv2D(256, (3, 3), padding='same', activation='relu'))\n",
        "#Восьмой сверточный слой\n",
        "model.add(Conv2D(256, (3, 3), padding='same', activation='relu'))\n",
        "#Девятый сверточный слой\n",
        "model.add(Conv2D(128, (3, 3), padding='same', activation='relu'))\n",
        "#Третий слой подвыборки\n",
        "model.add(MaxPooling2D(pool_size=(2, 2)))\n",
        "#Слой регуляризации Dropout\n",
        "model.add(Dropout(0.35))\n",
        "\n",
        "#Слой пакетной нормализации\n",
        "model.add(BatchNormalization())\n",
        "#Десятый сверточный слой\n",
        "model.add(Conv2D(128, (3, 3), padding='same', activation='relu'))\n",
        "#Одинацатый сверточный слой\n",
        "model.add(Conv2D(128, (3, 3), padding='same', activation='relu'))\n",
        "#Двенацатый сверточный слой\n",
        "model.add(Conv2D(64, (3, 3), padding='same', activation='relu'))\n",
        "#Четвертый слой подвыборки\n",
        "model.add(MaxPooling2D(pool_size=(2, 2)))\n",
        "#Слой регуляризации Dropout\n",
        "model.add(Dropout(0.35))\n",
        "#Слой преобразования данных из 2D представления в плоское\n",
        "model.add(Flatten())\n",
        "#Полносвязный слой для классификации\n",
        "model.add(Dense(512, activation='relu'))\n",
        "#Слой регуляризации Dropout\n",
        "model.add(Dropout(0.25))\n",
        "#Выходной полносвязный слой\n",
        "model.add(Dense(10, activation='softmax'))\n",
        "\n",
        "#Компилируем сеть\n",
        "model.compile(loss=\"categorical_crossentropy\", optimizer=\"adam\", metrics=[\"accuracy\"])\n",
        "\n",
        "#Обучаем сеть на данных cifar10\n",
        "history = model.fit(x_train10, \n",
        "                    y_train10, \n",
        "                    batch_size=batch_size, \n",
        "                    epochs=40,\n",
        "                    validation_split=0.2,\n",
        "                    verbose=2)\n",
        "\n",
        "#Оображаем график точности обучения\n",
        "plt.plot(history.history['acc'], \n",
        "         label='Доля верных ответов на обучающем наборе')\n",
        "plt.plot(history.history['val_acc'], \n",
        "         label='Доля верных ответов на проверочном наборе')\n",
        "plt.xlabel('Эпоха обучения')\n",
        "plt.ylabel('Доля верных ответов')\n",
        "plt.legend()\n",
        "plt.show()"
      ],
      "execution_count": 0,
      "outputs": [
        {
          "output_type": "stream",
          "text": [
            "Train on 40000 samples, validate on 10000 samples\n",
            "Epoch 1/40\n",
            "40000/40000 - 161s - loss: 1.8480 - acc: 0.3079 - val_loss: 2.0540 - val_acc: 0.3664\n",
            "Epoch 2/40\n",
            "40000/40000 - 156s - loss: 1.4378 - acc: 0.4739 - val_loss: 1.3473 - val_acc: 0.5219\n",
            "Epoch 3/40\n",
            "40000/40000 - 156s - loss: 1.1961 - acc: 0.5699 - val_loss: 1.2161 - val_acc: 0.5747\n",
            "Epoch 4/40\n",
            "40000/40000 - 156s - loss: 1.0272 - acc: 0.6323 - val_loss: 0.9687 - val_acc: 0.6633\n",
            "Epoch 5/40\n",
            "40000/40000 - 156s - loss: 0.8994 - acc: 0.6855 - val_loss: 0.9166 - val_acc: 0.6857\n",
            "Epoch 6/40\n",
            "40000/40000 - 156s - loss: 0.8015 - acc: 0.7226 - val_loss: 0.8779 - val_acc: 0.6984\n",
            "Epoch 7/40\n",
            "40000/40000 - 156s - loss: 0.7113 - acc: 0.7570 - val_loss: 0.8922 - val_acc: 0.7056\n",
            "Epoch 8/40\n",
            "40000/40000 - 156s - loss: 0.6366 - acc: 0.7843 - val_loss: 0.6539 - val_acc: 0.7760\n",
            "Epoch 9/40\n",
            "40000/40000 - 156s - loss: 0.5734 - acc: 0.8048 - val_loss: 0.7742 - val_acc: 0.7577\n",
            "Epoch 10/40\n",
            "40000/40000 - 156s - loss: 0.5174 - acc: 0.8254 - val_loss: 0.6305 - val_acc: 0.7866\n",
            "Epoch 11/40\n",
            "40000/40000 - 156s - loss: 0.4712 - acc: 0.8390 - val_loss: 0.5813 - val_acc: 0.8048\n",
            "Epoch 12/40\n",
            "40000/40000 - 156s - loss: 0.4257 - acc: 0.8572 - val_loss: 0.5390 - val_acc: 0.8288\n",
            "Epoch 13/40\n",
            "40000/40000 - 156s - loss: 0.3931 - acc: 0.8676 - val_loss: 0.5532 - val_acc: 0.8223\n",
            "Epoch 14/40\n",
            "40000/40000 - 156s - loss: 0.3534 - acc: 0.8821 - val_loss: 0.5099 - val_acc: 0.8347\n",
            "Epoch 15/40\n",
            "40000/40000 - 156s - loss: 0.3197 - acc: 0.8945 - val_loss: 0.5449 - val_acc: 0.8346\n",
            "Epoch 16/40\n",
            "40000/40000 - 156s - loss: 0.2826 - acc: 0.9043 - val_loss: 0.5268 - val_acc: 0.8385\n",
            "Epoch 17/40\n",
            "40000/40000 - 156s - loss: 0.2596 - acc: 0.9129 - val_loss: 0.5079 - val_acc: 0.8489\n",
            "Epoch 18/40\n",
            "40000/40000 - 156s - loss: 0.2400 - acc: 0.9197 - val_loss: 0.5337 - val_acc: 0.8454\n",
            "Epoch 19/40\n",
            "40000/40000 - 156s - loss: 0.2166 - acc: 0.9269 - val_loss: 0.5340 - val_acc: 0.8472\n",
            "Epoch 20/40\n",
            "40000/40000 - 156s - loss: 0.2023 - acc: 0.9328 - val_loss: 0.5414 - val_acc: 0.8514\n",
            "Epoch 21/40\n",
            "40000/40000 - 156s - loss: 0.1772 - acc: 0.9414 - val_loss: 0.5742 - val_acc: 0.8503\n",
            "Epoch 22/40\n",
            "40000/40000 - 156s - loss: 0.1612 - acc: 0.9474 - val_loss: 0.5710 - val_acc: 0.8429\n",
            "Epoch 23/40\n",
            "40000/40000 - 156s - loss: 0.1576 - acc: 0.9482 - val_loss: 0.5863 - val_acc: 0.8496\n",
            "Epoch 24/40\n",
            "40000/40000 - 156s - loss: 0.1421 - acc: 0.9546 - val_loss: 0.5417 - val_acc: 0.8588\n",
            "Epoch 25/40\n",
            "40000/40000 - 156s - loss: 0.1339 - acc: 0.9568 - val_loss: 0.5194 - val_acc: 0.8559\n",
            "Epoch 26/40\n",
            "40000/40000 - 156s - loss: 0.1219 - acc: 0.9607 - val_loss: 0.5965 - val_acc: 0.8626\n",
            "Epoch 27/40\n",
            "40000/40000 - 156s - loss: 0.1124 - acc: 0.9638 - val_loss: 0.6037 - val_acc: 0.8536\n",
            "Epoch 28/40\n",
            "40000/40000 - 156s - loss: 0.1096 - acc: 0.9635 - val_loss: 0.5900 - val_acc: 0.8546\n",
            "Epoch 29/40\n",
            "40000/40000 - 156s - loss: 0.1065 - acc: 0.9661 - val_loss: 0.6147 - val_acc: 0.8469\n",
            "Epoch 30/40\n",
            "40000/40000 - 156s - loss: 0.0954 - acc: 0.9696 - val_loss: 0.6720 - val_acc: 0.8587\n",
            "Epoch 31/40\n",
            "40000/40000 - 156s - loss: 0.0951 - acc: 0.9690 - val_loss: 0.5684 - val_acc: 0.8631\n",
            "Epoch 32/40\n",
            "40000/40000 - 156s - loss: 0.0914 - acc: 0.9709 - val_loss: 0.6685 - val_acc: 0.8618\n",
            "Epoch 33/40\n",
            "40000/40000 - 156s - loss: 0.0903 - acc: 0.9718 - val_loss: 0.5877 - val_acc: 0.8681\n",
            "Epoch 34/40\n",
            "40000/40000 - 156s - loss: 0.0809 - acc: 0.9751 - val_loss: 0.6212 - val_acc: 0.8649\n",
            "Epoch 35/40\n",
            "40000/40000 - 156s - loss: 0.0770 - acc: 0.9758 - val_loss: 0.5929 - val_acc: 0.8640\n",
            "Epoch 36/40\n",
            "40000/40000 - 156s - loss: 0.0744 - acc: 0.9765 - val_loss: 0.6412 - val_acc: 0.8692\n",
            "Epoch 37/40\n",
            "40000/40000 - 156s - loss: 0.0768 - acc: 0.9756 - val_loss: 0.6490 - val_acc: 0.8676\n",
            "Epoch 38/40\n",
            "40000/40000 - 156s - loss: 0.0694 - acc: 0.9778 - val_loss: 0.6813 - val_acc: 0.8648\n",
            "Epoch 39/40\n",
            "40000/40000 - 156s - loss: 0.0676 - acc: 0.9790 - val_loss: 0.6634 - val_acc: 0.8622\n",
            "Epoch 40/40\n",
            "40000/40000 - 156s - loss: 0.0628 - acc: 0.9805 - val_loss: 0.6972 - val_acc: 0.8637\n"
          ],
          "name": "stdout"
        },
        {
          "output_type": "display_data",
          "data": {
            "image/png": "[encoded data removed]",
            "text/plain": [
              "<Figure size 432x288 with 1 Axes>"
            ]
          },
          "metadata": {
            "tags": []
          }
        }
      ]
    },
    {
      "cell_type": "markdown",
      "metadata": {
        "id": "m66Qc6bBURgV",
        "colab_type": "text"
      },
      "source": [
        "**Вывод**. Увеличение нейронов во вторых слоях каждого блока не влияет на результат обучения сети\n",
        "\n",
        "```\n",
        "Epoch 36/40\n",
        "40000/40000 - 156s - loss: 0.0744 - acc: 0.9765 - val_loss: 0.6412 - val_acc: 0.8692\n",
        "```\n",
        "\n"
      ]
    },
    {
      "cell_type": "markdown",
      "metadata": {
        "id": "YH0PfMTsVOxx",
        "colab_type": "text"
      },
      "source": [
        "**5** **Запускаем** две сетки одна с увеличерием dropout 0,45, другая с уменьшением 0,25"
      ]
    },
    {
      "cell_type": "markdown",
      "metadata": {
        "id": "7Ek3LFL1Tr6M",
        "colab_type": "text"
      },
      "source": [
        " **Вывод**: увеличение не меняет результат получен 0.8671 при dropout 0,45; уменьшение dropout 0,25 тоже не меняет результат в лучшую сторну 0.8664"
      ]
    },
    {
      "cell_type": "markdown",
      "metadata": {
        "id": "RfBjoMq5KNhu",
        "colab_type": "text"
      },
      "source": [
        "**6** **Меняем количество слоев**                                                     \n",
        "\n",
        "\n"
      ]
    },
    {
      "cell_type": "markdown",
      "metadata": {
        "id": "c3bLk8CCiQly",
        "colab_type": "text"
      },
      "source": [
        "**6.1** добавим в каждый блок еще по одному сверточному слою.\n"
      ]
    },
    {
      "cell_type": "markdown",
      "metadata": {
        "id": "7IXhTP6Ywgg-",
        "colab_type": "text"
      },
      "source": [
        "**результат ** уменьшился val_acc: 0.8272"
      ]
    },
    {
      "cell_type": "markdown",
      "metadata": {
        "id": "d56xF9NLwtbT",
        "colab_type": "text"
      },
      "source": [
        "**6.2**. каждый блок уменьшаем на один сверточный слой. НС 1024,512;  512,256;  256,128;  128,64; \n"
      ]
    },
    {
      "cell_type": "code",
      "metadata": {
        "id": "na4YiOTvKO1m",
        "colab_type": "code",
        "outputId": "19b9a8ce-2e20-475a-d009-30812eb40a1e",
        "colab": {
          "base_uri": "https://localhost:8080/",
          "height": 1000
        }
      },
      "source": [
        "\n",
        "model = Sequential()\n",
        "#Слой пакетной нормализации\n",
        "model.add(BatchNormalization(input_shape=(32, 32, 3)))\n",
        "#Первый сверточный слой\n",
        "model.add(Conv2D( 1024, (3, 3), padding='same', activation='relu'))\n",
        "#Второй сверточный слой\n",
        "model.add(Conv2D( 512, (3, 3), padding='same', activation='relu'))\n",
        "#Первый слой подвыборки\n",
        "model.add(MaxPooling2D(pool_size=(2, 2)))\n",
        "#Слой регуляризации Dropout\n",
        "model.add(Dropout(0.35))\n",
        "\n",
        "#Слой пакетной нормализации\n",
        "model.add(BatchNormalization())\n",
        "#Четвертый сверточный слой\n",
        "model.add(Conv2D(512, (3, 3), padding='same', activation='relu'))\n",
        "#Пятый сверточный слой\n",
        "model.add(Conv2D(256, (3, 3), padding='same', activation='relu'))\n",
        "#Второй слой подвыборки\n",
        "model.add(MaxPooling2D(pool_size=(2, 2)))\n",
        "#Слой регуляризации Dropout\n",
        "model.add(Dropout(0.35))\n",
        "\n",
        "#Слой пакетной нормализации\n",
        "model.add(BatchNormalization())\n",
        "#Седьмой сверточный слой\n",
        "model.add(Conv2D(256, (3, 3), padding='same', activation='relu'))\n",
        "#Восьмой сверточный слой\n",
        "model.add(Conv2D(128, (3, 3), padding='same', activation='relu'))\n",
        "#Третий слой подвыборки\n",
        "model.add(MaxPooling2D(pool_size=(2, 2)))\n",
        "#Слой регуляризации Dropout\n",
        "model.add(Dropout(0.35))\n",
        "\n",
        "#Слой пакетной нормализации\n",
        "model.add(BatchNormalization())\n",
        "#Десятый сверточный слой\n",
        "model.add(Conv2D(128, (3, 3), padding='same', activation='relu'))\n",
        "#Одинацатый сверточный слой\n",
        "model.add(Conv2D(64, (3, 3), padding='same', activation='relu'))\n",
        "#Четвертый слой подвыборки\n",
        "model.add(MaxPooling2D(pool_size=(2, 2)))\n",
        "#Слой регуляризации Dropout\n",
        "model.add(Dropout(0.35))\n",
        "#Слой преобразования данных из 2D представления в плоское\n",
        "model.add(Flatten())\n",
        "#Полносвязный слой для классификации\n",
        "model.add(Dense(512, activation='relu'))\n",
        "#Слой регуляризации Dropout\n",
        "model.add(Dropout(0.35))\n",
        "#Выходной полносвязный слой\n",
        "model.add(Dense(10, activation='softmax'))\n",
        "\n",
        "#Компилируем сеть\n",
        "model.compile(loss=\"categorical_crossentropy\", optimizer=\"adam\", metrics=[\"accuracy\"])\n",
        "\n",
        "#Обучаем сеть на данных cifar10\n",
        "history = model.fit(x_train10, \n",
        "                    y_train10, \n",
        "                    batch_size=batch_size, \n",
        "                    epochs=40,\n",
        "                    validation_split=0.2,\n",
        "                    verbose=2)\n",
        "\n",
        "#Оображаем график точности обучения\n",
        "plt.plot(history.history['acc'], \n",
        "         label='Доля верных ответов на обучающем наборе')\n",
        "plt.plot(history.history['val_acc'], \n",
        "         label='Доля верных ответов на проверочном наборе')\n",
        "plt.xlabel('Эпоха обучения')\n",
        "plt.ylabel('Доля верных ответов')\n",
        "plt.legend()\n",
        "plt.show()"
      ],
      "execution_count": 0,
      "outputs": [
        {
          "output_type": "stream",
          "text": [
            "Train on 40000 samples, validate on 10000 samples\n",
            "Epoch 1/40\n",
            "40000/40000 - 67s - loss: 1.6787 - acc: 0.3734 - val_loss: 1.3054 - val_acc: 0.5144\n",
            "Epoch 2/40\n",
            "40000/40000 - 66s - loss: 1.2049 - acc: 0.5688 - val_loss: 1.1370 - val_acc: 0.5989\n",
            "Epoch 3/40\n",
            "40000/40000 - 66s - loss: 0.9637 - acc: 0.6615 - val_loss: 0.8799 - val_acc: 0.6879\n",
            "Epoch 4/40\n",
            "40000/40000 - 66s - loss: 0.8265 - acc: 0.7142 - val_loss: 0.8953 - val_acc: 0.6919\n",
            "Epoch 5/40\n",
            "40000/40000 - 66s - loss: 0.7191 - acc: 0.7548 - val_loss: 0.8181 - val_acc: 0.7255\n",
            "Epoch 6/40\n",
            "40000/40000 - 66s - loss: 0.6438 - acc: 0.7817 - val_loss: 0.7030 - val_acc: 0.7662\n",
            "Epoch 7/40\n",
            "40000/40000 - 66s - loss: 0.5783 - acc: 0.8020 - val_loss: 0.6121 - val_acc: 0.7944\n",
            "Epoch 8/40\n",
            "40000/40000 - 66s - loss: 0.5170 - acc: 0.8256 - val_loss: 0.6081 - val_acc: 0.7943\n",
            "Epoch 9/40\n",
            "40000/40000 - 66s - loss: 0.4863 - acc: 0.8354 - val_loss: 0.5399 - val_acc: 0.8179\n",
            "Epoch 10/40\n",
            "40000/40000 - 66s - loss: 0.4317 - acc: 0.8555 - val_loss: 0.5397 - val_acc: 0.8280\n",
            "Epoch 11/40\n",
            "40000/40000 - 66s - loss: 0.4031 - acc: 0.8635 - val_loss: 0.4987 - val_acc: 0.8400\n",
            "Epoch 12/40\n",
            "40000/40000 - 66s - loss: 0.3721 - acc: 0.8761 - val_loss: 0.4512 - val_acc: 0.8519\n",
            "Epoch 13/40\n",
            "40000/40000 - 66s - loss: 0.3340 - acc: 0.8881 - val_loss: 0.5565 - val_acc: 0.8344\n",
            "Epoch 14/40\n",
            "40000/40000 - 66s - loss: 0.3169 - acc: 0.8914 - val_loss: 0.5493 - val_acc: 0.8390\n",
            "Epoch 15/40\n",
            "40000/40000 - 66s - loss: 0.2959 - acc: 0.9002 - val_loss: 0.4735 - val_acc: 0.8498\n",
            "Epoch 16/40\n",
            "40000/40000 - 66s - loss: 0.2732 - acc: 0.9076 - val_loss: 0.4748 - val_acc: 0.8518\n",
            "Epoch 17/40\n",
            "40000/40000 - 66s - loss: 0.2508 - acc: 0.9184 - val_loss: 0.4974 - val_acc: 0.8534\n",
            "Epoch 18/40\n",
            "40000/40000 - 66s - loss: 0.2377 - acc: 0.9222 - val_loss: 0.4944 - val_acc: 0.8514\n",
            "Epoch 19/40\n",
            "40000/40000 - 66s - loss: 0.2175 - acc: 0.9265 - val_loss: 0.4971 - val_acc: 0.8597\n",
            "Epoch 20/40\n",
            "40000/40000 - 66s - loss: 0.2127 - acc: 0.9277 - val_loss: 0.4798 - val_acc: 0.8571\n",
            "Epoch 21/40\n",
            "40000/40000 - 66s - loss: 0.1964 - acc: 0.9349 - val_loss: 0.5056 - val_acc: 0.8572\n",
            "Epoch 22/40\n",
            "40000/40000 - 66s - loss: 0.1880 - acc: 0.9376 - val_loss: 0.5343 - val_acc: 0.8519\n",
            "Epoch 23/40\n",
            "40000/40000 - 66s - loss: 0.1745 - acc: 0.9427 - val_loss: 0.5101 - val_acc: 0.8570\n",
            "Epoch 24/40\n",
            "40000/40000 - 66s - loss: 0.1626 - acc: 0.9470 - val_loss: 0.5237 - val_acc: 0.8584\n",
            "Epoch 25/40\n",
            "40000/40000 - 66s - loss: 0.1579 - acc: 0.9469 - val_loss: 0.5537 - val_acc: 0.8544\n",
            "Epoch 26/40\n",
            "40000/40000 - 66s - loss: 0.1552 - acc: 0.9495 - val_loss: 0.6251 - val_acc: 0.8523\n",
            "Epoch 27/40\n",
            "40000/40000 - 66s - loss: 0.1502 - acc: 0.9517 - val_loss: 0.4953 - val_acc: 0.8640\n",
            "Epoch 28/40\n",
            "40000/40000 - 66s - loss: 0.1364 - acc: 0.9556 - val_loss: 0.5202 - val_acc: 0.8683\n",
            "Epoch 29/40\n",
            "40000/40000 - 66s - loss: 0.1354 - acc: 0.9569 - val_loss: 0.5383 - val_acc: 0.8631\n",
            "Epoch 30/40\n",
            "40000/40000 - 66s - loss: 0.1290 - acc: 0.9568 - val_loss: 0.4990 - val_acc: 0.8745\n",
            "Epoch 31/40\n",
            "40000/40000 - 66s - loss: 0.1244 - acc: 0.9606 - val_loss: 0.5025 - val_acc: 0.8748\n",
            "Epoch 32/40\n",
            "40000/40000 - 66s - loss: 0.1206 - acc: 0.9609 - val_loss: 0.5862 - val_acc: 0.8551\n",
            "Epoch 33/40\n",
            "40000/40000 - 66s - loss: 0.1131 - acc: 0.9623 - val_loss: 0.5116 - val_acc: 0.8710\n",
            "Epoch 34/40\n",
            "40000/40000 - 66s - loss: 0.1102 - acc: 0.9649 - val_loss: 0.5430 - val_acc: 0.8679\n",
            "Epoch 35/40\n",
            "40000/40000 - 66s - loss: 0.1042 - acc: 0.9661 - val_loss: 0.5681 - val_acc: 0.8707\n",
            "Epoch 36/40\n",
            "40000/40000 - 66s - loss: 0.0966 - acc: 0.9683 - val_loss: 0.5311 - val_acc: 0.8748\n",
            "Epoch 37/40\n",
            "40000/40000 - 66s - loss: 0.1054 - acc: 0.9666 - val_loss: 0.5251 - val_acc: 0.8716\n",
            "Epoch 38/40\n",
            "40000/40000 - 66s - loss: 0.0941 - acc: 0.9708 - val_loss: 0.5601 - val_acc: 0.8634\n",
            "Epoch 39/40\n",
            "40000/40000 - 66s - loss: 0.0935 - acc: 0.9687 - val_loss: 0.5610 - val_acc: 0.8731\n",
            "Epoch 40/40\n",
            "40000/40000 - 66s - loss: 0.0964 - acc: 0.9691 - val_loss: 0.5037 - val_acc: 0.8747\n"
          ],
          "name": "stdout"
        },
        {
          "output_type": "display_data",
          "data": {
            "image/png": "[encoded data removed]",
            "text/plain": [
              "<Figure size 432x288 with 1 Axes>"
            ]
          },
          "metadata": {
            "tags": []
          }
        }
      ]
    },
    {
      "cell_type": "markdown",
      "metadata": {
        "id": "IZCTWV4kieOn",
        "colab_type": "text"
      },
      "source": [
        "**вывод**   Уменьшение сверточного слоя на один в каждом блоке улучшило результат val_acc: 0.8747"
      ]
    },
    {
      "cell_type": "markdown",
      "metadata": {
        "id": "wxh2kQdtNc7a",
        "colab_type": "text"
      },
      "source": [
        "**7** **Вариант** увеличения колличества блоков, Нейронная сеть с 5 блоками, пятый блок с 32 нейронами в слое на выходе из нейро сети."
      ]
    },
    {
      "cell_type": "markdown",
      "metadata": {
        "id": "34GL3jL3zMmQ",
        "colab_type": "text"
      },
      "source": [
        "**Вывод**   - результат обучения немного понизился val_acc: 0.8697\n"
      ]
    },
    {
      "cell_type": "markdown",
      "metadata": {
        "id": "JsFA-0pFOPQI",
        "colab_type": "text"
      },
      "source": [
        "**8** Нейронная сеть с 5 блоками , блок добавляем в начале сетки первый слой 2048 нейронов"
      ]
    },
    {
      "cell_type": "code",
      "metadata": {
        "id": "Te1wbhamZaTx",
        "colab_type": "code",
        "outputId": "2d75361f-3107-44f9-a98d-28b25c7b79da",
        "colab": {
          "base_uri": "https://localhost:8080/",
          "height": 1000
        }
      },
      "source": [
        "model = Sequential()\n",
        "\n",
        "#Слой пакетной нормализации\n",
        "model.add(BatchNormalization(input_shape=(32, 32, 3)))\n",
        "#Первый сверточный слой\n",
        "model.add(Conv2D( 2048, (3, 3), padding='same', activation='relu'))\n",
        "#Второй сверточный слой\n",
        "model.add(Conv2D( 1024, (3, 3), padding='same', activation='relu'))\n",
        "#Первый слой подвыборки\n",
        "model.add(MaxPooling2D(pool_size=(2, 2)))\n",
        "#Слой регуляризации Dropout\n",
        "model.add(Dropout(0.35))\n",
        "\n",
        "#Слой пакетной нормализации\n",
        "model.add(BatchNormalization())\n",
        "#Добавочный сверточный слой\n",
        "model.add(Conv2D(1024, (3, 3), padding='same', activation='relu'))\n",
        "#второй добавочный сверточный слой\n",
        "model.add(Conv2D(512, (3, 3), padding='same', activation='relu'))\n",
        "#добавочный слой подвыборки\n",
        "model.add(MaxPooling2D(pool_size=(2, 2)))\n",
        "#Слой регуляризации Dropout\n",
        "model.add(Dropout(0.35))\n",
        "\n",
        "#Слой пакетной нормализации\n",
        "model.add(BatchNormalization())\n",
        "#Четвертый сверточный слой\n",
        "model.add(Conv2D(512, (3, 3), padding='same', activation='relu'))\n",
        "#Пятый сверточный слой\n",
        "model.add(Conv2D(256, (3, 3), padding='same', activation='relu'))\n",
        "#Второй слой подвыборки\n",
        "model.add(MaxPooling2D(pool_size=(2, 2)))\n",
        "#Слой регуляризации Dropout\n",
        "model.add(Dropout(0.35))\n",
        "\n",
        "#Слой пакетной нормализации\n",
        "model.add(BatchNormalization())\n",
        "#Седьмой сверточный слой\n",
        "model.add(Conv2D(256, (3, 3), padding='same', activation='relu'))\n",
        "#Восьмой сверточный слой\n",
        "model.add(Conv2D(128, (3, 3), padding='same', activation='relu'))\n",
        "#Третий слой подвыборки\n",
        "model.add(MaxPooling2D(pool_size=(2, 2)))\n",
        "#Слой регуляризации Dropout\n",
        "model.add(Dropout(0.35))\n",
        "\n",
        "#Слой пакетной нормализации\n",
        "model.add(BatchNormalization())\n",
        "#Десятый сверточный слой\n",
        "model.add(Conv2D(128, (3, 3), padding='same', activation='relu'))\n",
        "#Одинацатый сверточный слой\n",
        "model.add(Conv2D(64, (3, 3), padding='same', activation='relu'))\n",
        "#Четвертый слой подвыборки\n",
        "model.add(MaxPooling2D(pool_size=(2, 2)))\n",
        "#Слой регуляризации Dropout\n",
        "model.add(Dropout(0.35))\n",
        "#Слой преобразования данных из 2D представления в плоское\n",
        "model.add(Flatten())\n",
        "#Полносвязный слой для классификации\n",
        "model.add(Dense(512, activation='relu'))\n",
        "#Слой регуляризации Dropout\n",
        "model.add(Dropout(0.35))\n",
        "#Выходной полносвязный слой\n",
        "model.add(Dense(10, activation='softmax'))\n",
        "\n",
        "#Компилируем сеть\n",
        "model.compile(loss=\"categorical_crossentropy\", optimizer=\"adam\", metrics=[\"accuracy\"])\n",
        "\n",
        "#Обучаем сеть на данных cifar10\n",
        "history = model.fit(x_train10, \n",
        "                    y_train10, \n",
        "                    batch_size=batch_size, \n",
        "                    epochs=40,\n",
        "                    validation_split=0.2,\n",
        "                    verbose=2)\n",
        "\n",
        "#Оображаем график точности обучения\n",
        "plt.plot(history.history['acc'], \n",
        "         label='Доля верных ответов на обучающем наборе')\n",
        "plt.plot(history.history['val_acc'], \n",
        "         label='Доля верных ответов на проверочном наборе')\n",
        "plt.xlabel('Эпоха обучения')\n",
        "plt.ylabel('Доля верных ответов')\n",
        "plt.legend()\n",
        "plt.show()"
      ],
      "execution_count": 0,
      "outputs": [
        {
          "output_type": "stream",
          "text": [
            "Train on 40000 samples, validate on 10000 samples\n",
            "Epoch 1/40\n",
            "40000/40000 - 218s - loss: 1.7267 - acc: 0.3545 - val_loss: 1.8499 - val_acc: 0.4020\n",
            "Epoch 2/40\n",
            "40000/40000 - 216s - loss: 1.2609 - acc: 0.5454 - val_loss: 1.2812 - val_acc: 0.5811\n",
            "Epoch 3/40\n",
            "40000/40000 - 216s - loss: 1.0036 - acc: 0.6492 - val_loss: 0.8672 - val_acc: 0.6989\n",
            "Epoch 4/40\n",
            "40000/40000 - 216s - loss: 0.8440 - acc: 0.7134 - val_loss: 0.7553 - val_acc: 0.7467\n",
            "Epoch 5/40\n",
            "40000/40000 - 215s - loss: 0.7202 - acc: 0.7606 - val_loss: 0.6748 - val_acc: 0.7756\n",
            "Epoch 6/40\n",
            "40000/40000 - 215s - loss: 0.6229 - acc: 0.7933 - val_loss: 0.6261 - val_acc: 0.7886\n",
            "Epoch 7/40\n",
            "40000/40000 - 215s - loss: 0.5544 - acc: 0.8203 - val_loss: 0.5983 - val_acc: 0.8024\n",
            "Epoch 8/40\n",
            "40000/40000 - 215s - loss: 0.4883 - acc: 0.8422 - val_loss: 0.5324 - val_acc: 0.8261\n",
            "Epoch 9/40\n",
            "40000/40000 - 215s - loss: 0.4329 - acc: 0.8626 - val_loss: 0.6429 - val_acc: 0.7971\n",
            "Epoch 10/40\n",
            "40000/40000 - 215s - loss: 0.3793 - acc: 0.8794 - val_loss: 0.4812 - val_acc: 0.8431\n",
            "Epoch 11/40\n",
            "40000/40000 - 215s - loss: 0.3391 - acc: 0.8908 - val_loss: 0.4699 - val_acc: 0.8501\n",
            "Epoch 12/40\n",
            "40000/40000 - 215s - loss: 0.3065 - acc: 0.9022 - val_loss: 0.5160 - val_acc: 0.8360\n",
            "Epoch 13/40\n",
            "40000/40000 - 215s - loss: 0.2817 - acc: 0.9120 - val_loss: 0.4869 - val_acc: 0.8452\n",
            "Epoch 14/40\n",
            "40000/40000 - 215s - loss: 0.2437 - acc: 0.9230 - val_loss: 0.5409 - val_acc: 0.8410\n",
            "Epoch 15/40\n",
            "40000/40000 - 215s - loss: 0.2171 - acc: 0.9323 - val_loss: 0.5067 - val_acc: 0.8446\n",
            "Epoch 16/40\n",
            "40000/40000 - 215s - loss: 0.1986 - acc: 0.9377 - val_loss: 0.4866 - val_acc: 0.8588\n",
            "Epoch 17/40\n",
            "40000/40000 - 215s - loss: 0.1875 - acc: 0.9419 - val_loss: 0.4840 - val_acc: 0.8561\n",
            "Epoch 18/40\n",
            "40000/40000 - 215s - loss: 0.1645 - acc: 0.9481 - val_loss: 0.5321 - val_acc: 0.8511\n",
            "Epoch 19/40\n",
            "40000/40000 - 215s - loss: 0.1474 - acc: 0.9542 - val_loss: 0.5031 - val_acc: 0.8583\n",
            "Epoch 20/40\n",
            "40000/40000 - 215s - loss: 0.1410 - acc: 0.9570 - val_loss: 0.4679 - val_acc: 0.8630\n",
            "Epoch 21/40\n",
            "40000/40000 - 215s - loss: 0.1309 - acc: 0.9595 - val_loss: 0.4740 - val_acc: 0.8693\n",
            "Epoch 22/40\n",
            "40000/40000 - 215s - loss: 0.1171 - acc: 0.9643 - val_loss: 0.4798 - val_acc: 0.8680\n",
            "Epoch 23/40\n",
            "40000/40000 - 215s - loss: 0.1138 - acc: 0.9658 - val_loss: 0.5008 - val_acc: 0.8641\n",
            "Epoch 24/40\n",
            "40000/40000 - 215s - loss: 0.1091 - acc: 0.9672 - val_loss: 0.5635 - val_acc: 0.8532\n",
            "Epoch 25/40\n",
            "40000/40000 - 215s - loss: 0.1018 - acc: 0.9696 - val_loss: 0.5036 - val_acc: 0.8701\n",
            "Epoch 26/40\n",
            "40000/40000 - 215s - loss: 0.0983 - acc: 0.9693 - val_loss: 0.5262 - val_acc: 0.8654\n",
            "Epoch 27/40\n",
            "40000/40000 - 215s - loss: 0.0933 - acc: 0.9714 - val_loss: 0.4989 - val_acc: 0.8800\n",
            "Epoch 28/40\n",
            "40000/40000 - 215s - loss: 0.0796 - acc: 0.9753 - val_loss: 0.5940 - val_acc: 0.8579\n",
            "Epoch 29/40\n",
            "40000/40000 - 215s - loss: 0.0859 - acc: 0.9754 - val_loss: 0.5101 - val_acc: 0.8687\n",
            "Epoch 30/40\n",
            "40000/40000 - 215s - loss: 0.0825 - acc: 0.9746 - val_loss: 0.5290 - val_acc: 0.8707\n",
            "Epoch 31/40\n",
            "40000/40000 - 215s - loss: 0.0765 - acc: 0.9768 - val_loss: 0.5294 - val_acc: 0.8700\n",
            "Epoch 32/40\n",
            "40000/40000 - 215s - loss: 0.0731 - acc: 0.9781 - val_loss: 0.5320 - val_acc: 0.8710\n",
            "Epoch 33/40\n",
            "40000/40000 - 215s - loss: 0.0707 - acc: 0.9792 - val_loss: 0.4917 - val_acc: 0.8826\n",
            "Epoch 34/40\n",
            "40000/40000 - 215s - loss: 0.0697 - acc: 0.9795 - val_loss: 0.5495 - val_acc: 0.8662\n",
            "Epoch 35/40\n",
            "40000/40000 - 215s - loss: 0.0738 - acc: 0.9786 - val_loss: 0.5046 - val_acc: 0.8732\n",
            "Epoch 36/40\n",
            "40000/40000 - 215s - loss: 0.0654 - acc: 0.9808 - val_loss: 0.5467 - val_acc: 0.8660\n",
            "Epoch 37/40\n",
            "40000/40000 - 215s - loss: 0.0666 - acc: 0.9809 - val_loss: 0.5512 - val_acc: 0.8691\n",
            "Epoch 38/40\n",
            "40000/40000 - 215s - loss: 0.0619 - acc: 0.9819 - val_loss: 0.6188 - val_acc: 0.8576\n",
            "Epoch 39/40\n",
            "40000/40000 - 215s - loss: 0.0589 - acc: 0.9827 - val_loss: 0.5521 - val_acc: 0.8669\n",
            "Epoch 40/40\n",
            "40000/40000 - 215s - loss: 0.0531 - acc: 0.9835 - val_loss: 0.5633 - val_acc: 0.8748\n"
          ],
          "name": "stdout"
        },
        {
          "output_type": "display_data",
          "data": {
            "image/png": "[encoded data removed]",
            "text/plain": [
              "<Figure size 432x288 with 1 Axes>"
            ]
          },
          "metadata": {
            "tags": []
          }
        }
      ]
    },
    {
      "cell_type": "markdown",
      "metadata": {
        "id": "MFaWHadJTiJ9",
        "colab_type": "text"
      },
      "source": [
        "**вывод**   Увеличение на один  блок в начале сетки не улучшило результат  - val_acc: 0.8748"
      ]
    },
    {
      "cell_type": "markdown",
      "metadata": {
        "id": "2L7hSzIpVl8L",
        "colab_type": "text"
      },
      "source": [
        "**8** Попробуем упростить сетку убрав по одному сверточному слою из 2,3,4.5 блоков\n",
        ", гипотеза в том что дополнителбные слои не влияют на качество обучения."
      ]
    },
    {
      "cell_type": "code",
      "metadata": {
        "id": "0mm5T-sPWjHL",
        "colab_type": "code",
        "outputId": "6a75202b-9f6d-4699-ebaf-256e0bb69e06",
        "colab": {
          "base_uri": "https://localhost:8080/",
          "height": 1000
        }
      },
      "source": [
        "model = Sequential()\n",
        "\n",
        "#Слой пакетной нормализации\n",
        "model.add(BatchNormalization(input_shape=(32, 32, 3)))\n",
        "#Первый сверточный слой\n",
        "model.add(Conv2D( 2048, (3, 3), padding='same', activation='relu'))\n",
        "#Второй сверточный слой\n",
        "model.add(Conv2D( 1024, (3, 3), padding='same', activation='relu'))\n",
        "#Первый слой подвыборки\n",
        "model.add(MaxPooling2D(pool_size=(2, 2)))\n",
        "#Слой регуляризации Dropout\n",
        "model.add(Dropout(0.35))\n",
        "\n",
        "#Слой пакетной нормализации\n",
        "model.add(BatchNormalization())\n",
        "# третий сверточный слой\n",
        "model.add(Conv2D(512, (3, 3), padding='same', activation='relu'))\n",
        "#добавочный слой подвыборки\n",
        "model.add(MaxPooling2D(pool_size=(2, 2)))\n",
        "#Слой регуляризации Dropout\n",
        "model.add(Dropout(0.35))\n",
        "\n",
        "#Слой пакетной нормализации\n",
        "model.add(BatchNormalization())\n",
        "#Пятый сверточный слой\n",
        "model.add(Conv2D(256, (3, 3), padding='same', activation='relu'))\n",
        "#Второй слой подвыборки\n",
        "model.add(MaxPooling2D(pool_size=(2, 2)))\n",
        "#Слой регуляризации Dropout\n",
        "model.add(Dropout(0.35))\n",
        "\n",
        "#Слой пакетной нормализации\n",
        "model.add(BatchNormalization())\n",
        "#Восьмой сверточный слой\n",
        "model.add(Conv2D(128, (3, 3), padding='same', activation='relu'))\n",
        "#Третий слой подвыборки\n",
        "model.add(MaxPooling2D(pool_size=(2, 2)))\n",
        "#Слой регуляризации Dropout\n",
        "model.add(Dropout(0.35))\n",
        "\n",
        "#Слой пакетной нормализации\n",
        "model.add(BatchNormalization())\n",
        "#Одинацатый сверточный слой\n",
        "model.add(Conv2D(64, (3, 3), padding='same', activation='relu'))\n",
        "#Четвертый слой подвыборки\n",
        "model.add(MaxPooling2D(pool_size=(2, 2)))\n",
        "#Слой регуляризации Dropout\n",
        "model.add(Dropout(0.35))\n",
        "#Слой преобразования данных из 2D представления в плоское\n",
        "model.add(Flatten())\n",
        "#Полносвязный слой для классификации\n",
        "model.add(Dense(512, activation='relu'))\n",
        "#Слой регуляризации Dropout\n",
        "model.add(Dropout(0.35))\n",
        "#Выходной полносвязный слой\n",
        "model.add(Dense(10, activation='softmax'))\n",
        "\n",
        "#Компилируем сеть\n",
        "model.compile(loss=\"categorical_crossentropy\", optimizer=\"adam\", metrics=[\"accuracy\"])\n",
        "\n",
        "#Обучаем сеть на данных cifar10\n",
        "history = model.fit(x_train10, \n",
        "                    y_train10, \n",
        "                    batch_size=batch_size, \n",
        "                    epochs=40,\n",
        "                    validation_split=0.2,\n",
        "                    verbose=2)\n",
        "\n",
        "#Оображаем график точности обучения\n",
        "plt.plot(history.history['acc'], \n",
        "         label='Доля верных ответов на обучающем наборе')\n",
        "plt.plot(history.history['val_acc'], \n",
        "         label='Доля верных ответов на проверочном наборе')\n",
        "plt.xlabel('Эпоха обучения')\n",
        "plt.ylabel('Доля верных ответов')\n",
        "plt.legend()\n",
        "plt.show()"
      ],
      "execution_count": 0,
      "outputs": [
        {
          "output_type": "stream",
          "text": [
            "WARNING:tensorflow:From /usr/local/lib/python3.6/dist-packages/tensorflow_core/python/ops/resource_variable_ops.py:1630: calling BaseResourceVariable.__init__ (from tensorflow.python.ops.resource_variable_ops) with constraint is deprecated and will be removed in a future version.\n",
            "Instructions for updating:\n",
            "If using Keras pass *_constraint arguments to layers.\n",
            "Train on 40000 samples, validate on 10000 samples\n",
            "Epoch 1/40\n",
            "40000/40000 - 208s - loss: 1.7282 - acc: 0.3477 - val_loss: 1.4395 - val_acc: 0.4676\n",
            "Epoch 2/40\n",
            "40000/40000 - 191s - loss: 1.2447 - acc: 0.5448 - val_loss: 1.1221 - val_acc: 0.5864\n",
            "Epoch 3/40\n",
            "40000/40000 - 191s - loss: 1.0154 - acc: 0.6384 - val_loss: 0.9786 - val_acc: 0.6599\n",
            "Epoch 4/40\n",
            "40000/40000 - 191s - loss: 0.8657 - acc: 0.6966 - val_loss: 0.7503 - val_acc: 0.7418\n",
            "Epoch 5/40\n",
            "40000/40000 - 191s - loss: 0.7528 - acc: 0.7425 - val_loss: 0.8214 - val_acc: 0.7177\n",
            "Epoch 6/40\n",
            "40000/40000 - 191s - loss: 0.6715 - acc: 0.7692 - val_loss: 0.6300 - val_acc: 0.7886\n",
            "Epoch 7/40\n",
            "40000/40000 - 191s - loss: 0.5943 - acc: 0.7986 - val_loss: 0.5578 - val_acc: 0.8160\n",
            "Epoch 8/40\n",
            "40000/40000 - 191s - loss: 0.5553 - acc: 0.8139 - val_loss: 0.6417 - val_acc: 0.7787\n",
            "Epoch 9/40\n",
            "40000/40000 - 191s - loss: 0.5008 - acc: 0.8321 - val_loss: 0.5767 - val_acc: 0.8081\n",
            "Epoch 10/40\n",
            "40000/40000 - 191s - loss: 0.4709 - acc: 0.8425 - val_loss: 0.4968 - val_acc: 0.8315\n",
            "Epoch 11/40\n",
            "40000/40000 - 191s - loss: 0.4371 - acc: 0.8557 - val_loss: 0.5806 - val_acc: 0.8047\n",
            "Epoch 12/40\n",
            "40000/40000 - 191s - loss: 0.4098 - acc: 0.8623 - val_loss: 0.4968 - val_acc: 0.8302\n",
            "Epoch 13/40\n",
            "40000/40000 - 191s - loss: 0.3867 - acc: 0.8717 - val_loss: 0.5576 - val_acc: 0.8147\n",
            "Epoch 14/40\n",
            "40000/40000 - 191s - loss: 0.3620 - acc: 0.8784 - val_loss: 0.5029 - val_acc: 0.8335\n",
            "Epoch 15/40\n",
            "40000/40000 - 191s - loss: 0.3442 - acc: 0.8865 - val_loss: 0.4572 - val_acc: 0.8464\n",
            "Epoch 16/40\n",
            "40000/40000 - 191s - loss: 0.3190 - acc: 0.8943 - val_loss: 0.4617 - val_acc: 0.8521\n",
            "Epoch 17/40\n",
            "40000/40000 - 191s - loss: 0.3111 - acc: 0.8956 - val_loss: 0.4685 - val_acc: 0.8459\n",
            "Epoch 18/40\n",
            "40000/40000 - 191s - loss: 0.2998 - acc: 0.9003 - val_loss: 0.4788 - val_acc: 0.8454\n",
            "Epoch 19/40\n",
            "40000/40000 - 191s - loss: 0.2826 - acc: 0.9064 - val_loss: 0.4635 - val_acc: 0.8508\n",
            "Epoch 20/40\n",
            "40000/40000 - 191s - loss: 0.2675 - acc: 0.9113 - val_loss: 0.4638 - val_acc: 0.8487\n",
            "Epoch 21/40\n",
            "40000/40000 - 191s - loss: 0.2507 - acc: 0.9175 - val_loss: 0.4392 - val_acc: 0.8588\n",
            "Epoch 22/40\n",
            "40000/40000 - 191s - loss: 0.2440 - acc: 0.9188 - val_loss: 0.4393 - val_acc: 0.8607\n",
            "Epoch 23/40\n",
            "40000/40000 - 191s - loss: 0.2347 - acc: 0.9221 - val_loss: 0.4592 - val_acc: 0.8507\n",
            "Epoch 24/40\n",
            "40000/40000 - 191s - loss: 0.2288 - acc: 0.9241 - val_loss: 0.4299 - val_acc: 0.8597\n",
            "Epoch 25/40\n",
            "40000/40000 - 191s - loss: 0.2151 - acc: 0.9287 - val_loss: 0.4620 - val_acc: 0.8591\n",
            "Epoch 26/40\n",
            "40000/40000 - 191s - loss: 0.2110 - acc: 0.9283 - val_loss: 0.4375 - val_acc: 0.8632\n",
            "Epoch 27/40\n",
            "40000/40000 - 191s - loss: 0.2039 - acc: 0.9313 - val_loss: 0.4664 - val_acc: 0.8533\n",
            "Epoch 28/40\n",
            "40000/40000 - 191s - loss: 0.1968 - acc: 0.9358 - val_loss: 0.4468 - val_acc: 0.8583\n",
            "Epoch 29/40\n",
            "40000/40000 - 191s - loss: 0.1913 - acc: 0.9365 - val_loss: 0.4556 - val_acc: 0.8605\n",
            "Epoch 30/40\n",
            "40000/40000 - 191s - loss: 0.1818 - acc: 0.9398 - val_loss: 0.4471 - val_acc: 0.8678\n",
            "Epoch 31/40\n",
            "40000/40000 - 191s - loss: 0.1732 - acc: 0.9427 - val_loss: 0.4433 - val_acc: 0.8658\n",
            "Epoch 32/40\n",
            "40000/40000 - 191s - loss: 0.1796 - acc: 0.9404 - val_loss: 0.4912 - val_acc: 0.8473\n",
            "Epoch 33/40\n",
            "40000/40000 - 191s - loss: 0.1702 - acc: 0.9453 - val_loss: 0.4587 - val_acc: 0.8629\n",
            "Epoch 34/40\n",
            "40000/40000 - 191s - loss: 0.1637 - acc: 0.9457 - val_loss: 0.4685 - val_acc: 0.8640\n",
            "Epoch 35/40\n",
            "40000/40000 - 191s - loss: 0.1566 - acc: 0.9496 - val_loss: 0.4492 - val_acc: 0.8703\n",
            "Epoch 36/40\n",
            "40000/40000 - 191s - loss: 0.1607 - acc: 0.9470 - val_loss: 0.4738 - val_acc: 0.8641\n",
            "Epoch 37/40\n",
            "40000/40000 - 191s - loss: 0.1493 - acc: 0.9514 - val_loss: 0.4345 - val_acc: 0.8645\n",
            "Epoch 38/40\n",
            "40000/40000 - 191s - loss: 0.1470 - acc: 0.9514 - val_loss: 0.4695 - val_acc: 0.8622\n",
            "Epoch 39/40\n",
            "40000/40000 - 191s - loss: 0.1455 - acc: 0.9527 - val_loss: 0.4599 - val_acc: 0.8653\n",
            "Epoch 40/40\n",
            "40000/40000 - 191s - loss: 0.1447 - acc: 0.9522 - val_loss: 0.4974 - val_acc: 0.8589\n"
          ],
          "name": "stdout"
        },
        {
          "output_type": "display_data",
          "data": {
            "image/png": "[encoded data removed]",
            "text/plain": [
              "<Figure size 432x288 with 1 Axes>"
            ]
          },
          "metadata": {
            "tags": []
          }
        }
      ]
    },
    {
      "cell_type": "markdown",
      "metadata": {
        "id": "Ip70T22EO2YF",
        "colab_type": "text"
      },
      "source": [
        "**Вывод**  Результат снизился на 0,004 возвращаем второй слой в каждый блок.val_acc: 0.8703"
      ]
    },
    {
      "cell_type": "markdown",
      "metadata": {
        "id": "wRAW00D6PiHP",
        "colab_type": "text"
      },
      "source": [
        "**9** Исследуем другой вариант, работали мы с сеткой в которой размер Conv2D уменьшался от Max к Min, запустим наоборот 5 блоков со слоями 32, 64, 128, 256, 512."
      ]
    },
    {
      "cell_type": "code",
      "metadata": {
        "id": "7lBc6RcdUcUd",
        "colab_type": "code",
        "outputId": "55a7fed5-264f-4a76-a703-ff466835511a",
        "colab": {
          "base_uri": "https://localhost:8080/",
          "height": 1000
        }
      },
      "source": [
        "model = Sequential()\n",
        "#Слой пакетной нормализации\n",
        "model.add(BatchNormalization(input_shape=(32, 32, 3)))\n",
        "#Первый сверточный слой\n",
        "model.add(Conv2D( 32, (3, 3), padding='same', activation='relu'))\n",
        "#Второй сверточный слой\n",
        "model.add(Conv2D( 32, (3, 3), padding='same', activation='relu'))\n",
        "#Первый слой подвыборки\n",
        "model.add(MaxPooling2D(pool_size=(2, 2)))\n",
        "#Слой регуляризации Dropout\n",
        "model.add(Dropout(0.35))\n",
        "\n",
        "#Слой пакетной нормализации\n",
        "model.add(BatchNormalization())\n",
        "#Четвертый сверточный слой\n",
        "model.add(Conv2D(64, (3, 3), padding='same', activation='relu'))\n",
        "#Пятый сверточный слой\n",
        "model.add(Conv2D(64, (3, 3), padding='same', activation='relu'))\n",
        "#Второй слой подвыборки\n",
        "model.add(MaxPooling2D(pool_size=(2, 2)))\n",
        "#Слой регуляризации Dropout\n",
        "model.add(Dropout(0.35))\n",
        "\n",
        "#Слой пакетной нормализации\n",
        "model.add(BatchNormalization())\n",
        "#Седьмой сверточный слой\n",
        "model.add(Conv2D(128, (3, 3), padding='same', activation='relu'))\n",
        "#Восьмой сверточный слой\n",
        "model.add(Conv2D(128, (3, 3), padding='same', activation='relu'))\n",
        "#Девятый сверточный слой\n",
        "model.add(Conv2D(128, (3, 3), padding='same', activation='relu'))\n",
        "#Третий слой подвыборки\n",
        "model.add(MaxPooling2D(pool_size=(2, 2)))\n",
        "#Слой регуляризации Dropout\n",
        "model.add(Dropout(0.35))\n",
        "\n",
        "#Слой пакетной нормализации\n",
        "model.add(BatchNormalization())\n",
        "#Десятый сверточный слой\n",
        "model.add(Conv2D(256, (3, 3), padding='same', activation='relu'))\n",
        "#Одинацатый сверточный слой\n",
        "model.add(Conv2D(256, (3, 3), padding='same', activation='relu'))\n",
        "#Четвертый слой подвыборки\n",
        "model.add(MaxPooling2D(pool_size=(2, 2)))\n",
        "#Слой регуляризации Dropout\n",
        "model.add(Dropout(0.35))\n",
        "\n",
        "#Слой пакетной нормализации\n",
        "model.add(BatchNormalization())\n",
        "#Десятый сверточный слой\n",
        "model.add(Conv2D(512, (3, 3), padding='same', activation='relu'))\n",
        "#Одинацатый сверточный слой\n",
        "model.add(Conv2D(512, (3, 3), padding='same', activation='relu'))\n",
        "#Четвертый слой подвыборки\n",
        "model.add(MaxPooling2D(pool_size=(2, 2)))\n",
        "#Слой регуляризации Dropout\n",
        "model.add(Dropout(0.35))\n",
        "#Слой преобразования данных из 2D представления в плоское\n",
        "model.add(Flatten())\n",
        "#Полносвязный слой для классификации\n",
        "model.add(Dense(512, activation='relu'))\n",
        "#Слой регуляризации Dropout\n",
        "model.add(Dropout(0.35))\n",
        "#Выходной полносвязный слой\n",
        "model.add(Dense(10, activation='softmax'))\n",
        "\n",
        "#Компилируем сеть\n",
        "model.compile(loss=\"categorical_crossentropy\", optimizer=\"adam\", metrics=[\"accuracy\"])\n",
        "\n",
        "#Обучаем сеть на данных cifar10\n",
        "history = model.fit(x_train10, \n",
        "                    y_train10, \n",
        "                    batch_size=batch_size, \n",
        "                    epochs=60,\n",
        "                    validation_split=0.2,\n",
        "                    verbose=2)\n",
        "\n",
        "#Отображаем график точности обучения\n",
        "plt.plot(history.history['acc'], \n",
        "         label='Доля верных ответов на обучающем наборе')\n",
        "plt.plot(history.history['val_acc'], \n",
        "         label='Доля верных ответов на проверочном наборе')\n",
        "plt.xlabel('Эпоха обучения')\n",
        "plt.ylabel('Доля верных ответов')\n",
        "plt.legend()\n",
        "plt.show()"
      ],
      "execution_count": 0,
      "outputs": [
        {
          "output_type": "stream",
          "text": [
            "Train on 40000 samples, validate on 10000 samples\n",
            "Epoch 1/60\n",
            "40000/40000 - 10s - loss: 1.7095 - acc: 0.3534 - val_loss: 1.7650 - val_acc: 0.3822\n",
            "Epoch 2/60\n",
            "40000/40000 - 9s - loss: 1.3342 - acc: 0.5192 - val_loss: 1.1342 - val_acc: 0.5886\n",
            "Epoch 3/60\n",
            "40000/40000 - 9s - loss: 1.1289 - acc: 0.6030 - val_loss: 1.4093 - val_acc: 0.5559\n",
            "Epoch 4/60\n",
            "40000/40000 - 9s - loss: 0.9990 - acc: 0.6537 - val_loss: 0.9028 - val_acc: 0.6862\n",
            "Epoch 5/60\n",
            "40000/40000 - 9s - loss: 0.9017 - acc: 0.6912 - val_loss: 0.8205 - val_acc: 0.7150\n",
            "Epoch 6/60\n",
            "40000/40000 - 9s - loss: 0.8379 - acc: 0.7150 - val_loss: 0.7737 - val_acc: 0.7321\n",
            "Epoch 7/60\n",
            "40000/40000 - 9s - loss: 0.7779 - acc: 0.7362 - val_loss: 0.8085 - val_acc: 0.7304\n",
            "Epoch 8/60\n",
            "40000/40000 - 9s - loss: 0.7418 - acc: 0.7488 - val_loss: 0.6939 - val_acc: 0.7592\n",
            "Epoch 9/60\n",
            "40000/40000 - 9s - loss: 0.6919 - acc: 0.7661 - val_loss: 0.6979 - val_acc: 0.7634\n",
            "Epoch 10/60\n",
            "40000/40000 - 9s - loss: 0.6638 - acc: 0.7789 - val_loss: 0.6327 - val_acc: 0.7849\n",
            "Epoch 11/60\n",
            "40000/40000 - 9s - loss: 0.6346 - acc: 0.7869 - val_loss: 0.6205 - val_acc: 0.7945\n",
            "Epoch 12/60\n",
            "40000/40000 - 9s - loss: 0.6100 - acc: 0.7929 - val_loss: 0.6554 - val_acc: 0.7832\n",
            "Epoch 13/60\n",
            "40000/40000 - 9s - loss: 0.5828 - acc: 0.8049 - val_loss: 0.5756 - val_acc: 0.8046\n",
            "Epoch 14/60\n",
            "40000/40000 - 9s - loss: 0.5494 - acc: 0.8164 - val_loss: 0.5686 - val_acc: 0.8123\n",
            "Epoch 15/60\n",
            "40000/40000 - 9s - loss: 0.5306 - acc: 0.8242 - val_loss: 0.5781 - val_acc: 0.8095\n",
            "Epoch 16/60\n",
            "40000/40000 - 9s - loss: 0.5248 - acc: 0.8267 - val_loss: 0.5611 - val_acc: 0.8139\n",
            "Epoch 17/60\n",
            "40000/40000 - 9s - loss: 0.5048 - acc: 0.8311 - val_loss: 0.5767 - val_acc: 0.8074\n",
            "Epoch 18/60\n",
            "40000/40000 - 9s - loss: 0.4836 - acc: 0.8386 - val_loss: 0.5211 - val_acc: 0.8263\n",
            "Epoch 19/60\n",
            "40000/40000 - 9s - loss: 0.4650 - acc: 0.8440 - val_loss: 0.5346 - val_acc: 0.8270\n",
            "Epoch 20/60\n",
            "40000/40000 - 9s - loss: 0.4525 - acc: 0.8493 - val_loss: 0.5638 - val_acc: 0.8191\n",
            "Epoch 21/60\n",
            "40000/40000 - 9s - loss: 0.4373 - acc: 0.8539 - val_loss: 0.5614 - val_acc: 0.8254\n",
            "Epoch 22/60\n",
            "40000/40000 - 9s - loss: 0.4246 - acc: 0.8571 - val_loss: 0.4840 - val_acc: 0.8403\n",
            "Epoch 23/60\n",
            "40000/40000 - 9s - loss: 0.4203 - acc: 0.8603 - val_loss: 0.5611 - val_acc: 0.8221\n",
            "Epoch 24/60\n",
            "40000/40000 - 9s - loss: 0.4041 - acc: 0.8647 - val_loss: 0.5324 - val_acc: 0.8265\n",
            "Epoch 25/60\n",
            "40000/40000 - 9s - loss: 0.3935 - acc: 0.8692 - val_loss: 0.5737 - val_acc: 0.8272\n",
            "Epoch 26/60\n",
            "40000/40000 - 9s - loss: 0.3782 - acc: 0.8733 - val_loss: 0.5095 - val_acc: 0.8343\n",
            "Epoch 27/60\n",
            "40000/40000 - 9s - loss: 0.3648 - acc: 0.8769 - val_loss: 0.5154 - val_acc: 0.8318\n",
            "Epoch 28/60\n",
            "40000/40000 - 9s - loss: 0.3542 - acc: 0.8781 - val_loss: 0.4987 - val_acc: 0.8410\n",
            "Epoch 29/60\n",
            "40000/40000 - 9s - loss: 0.3490 - acc: 0.8826 - val_loss: 0.4996 - val_acc: 0.8413\n",
            "Epoch 30/60\n",
            "40000/40000 - 9s - loss: 0.3389 - acc: 0.8873 - val_loss: 0.4991 - val_acc: 0.8404\n",
            "Epoch 31/60\n",
            "40000/40000 - 9s - loss: 0.3303 - acc: 0.8885 - val_loss: 0.5141 - val_acc: 0.8450\n",
            "Epoch 32/60\n",
            "40000/40000 - 9s - loss: 0.3220 - acc: 0.8931 - val_loss: 0.5115 - val_acc: 0.8426\n",
            "Epoch 33/60\n",
            "40000/40000 - 9s - loss: 0.3141 - acc: 0.8944 - val_loss: 0.5052 - val_acc: 0.8451\n",
            "Epoch 34/60\n",
            "40000/40000 - 9s - loss: 0.3070 - acc: 0.8969 - val_loss: 0.5807 - val_acc: 0.8367\n",
            "Epoch 35/60\n",
            "40000/40000 - 9s - loss: 0.3056 - acc: 0.8968 - val_loss: 0.5338 - val_acc: 0.8436\n",
            "Epoch 36/60\n",
            "40000/40000 - 9s - loss: 0.2958 - acc: 0.9011 - val_loss: 0.5094 - val_acc: 0.8488\n",
            "Epoch 37/60\n",
            "40000/40000 - 9s - loss: 0.2923 - acc: 0.9032 - val_loss: 0.5414 - val_acc: 0.8443\n",
            "Epoch 38/60\n",
            "40000/40000 - 9s - loss: 0.2841 - acc: 0.9041 - val_loss: 0.5098 - val_acc: 0.8507\n",
            "Epoch 39/60\n",
            "40000/40000 - 9s - loss: 0.2746 - acc: 0.9062 - val_loss: 0.5157 - val_acc: 0.8469\n",
            "Epoch 40/60\n",
            "40000/40000 - 9s - loss: 0.2741 - acc: 0.9083 - val_loss: 0.5253 - val_acc: 0.8461\n",
            "Epoch 41/60\n",
            "40000/40000 - 9s - loss: 0.2629 - acc: 0.9092 - val_loss: 0.5298 - val_acc: 0.8488\n",
            "Epoch 42/60\n",
            "40000/40000 - 9s - loss: 0.2765 - acc: 0.9080 - val_loss: 0.4744 - val_acc: 0.8521\n",
            "Epoch 43/60\n",
            "40000/40000 - 9s - loss: 0.2613 - acc: 0.9110 - val_loss: 0.5159 - val_acc: 0.8506\n",
            "Epoch 44/60\n",
            "40000/40000 - 9s - loss: 0.2578 - acc: 0.9139 - val_loss: 0.5054 - val_acc: 0.8518\n",
            "Epoch 45/60\n",
            "40000/40000 - 9s - loss: 0.2527 - acc: 0.9161 - val_loss: 0.5010 - val_acc: 0.8536\n",
            "Epoch 46/60\n",
            "40000/40000 - 9s - loss: 0.2463 - acc: 0.9195 - val_loss: 0.5223 - val_acc: 0.8475\n",
            "Epoch 47/60\n",
            "40000/40000 - 9s - loss: 0.2358 - acc: 0.9213 - val_loss: 0.5059 - val_acc: 0.8527\n",
            "Epoch 48/60\n",
            "40000/40000 - 9s - loss: 0.2326 - acc: 0.9222 - val_loss: 0.5587 - val_acc: 0.8485\n",
            "Epoch 49/60\n",
            "40000/40000 - 9s - loss: 0.2326 - acc: 0.9219 - val_loss: 0.5104 - val_acc: 0.8560\n",
            "Epoch 50/60\n",
            "40000/40000 - 9s - loss: 0.2255 - acc: 0.9266 - val_loss: 0.5550 - val_acc: 0.8394\n",
            "Epoch 51/60\n",
            "40000/40000 - 9s - loss: 0.2239 - acc: 0.9250 - val_loss: 0.5473 - val_acc: 0.8473\n",
            "Epoch 52/60\n",
            "40000/40000 - 9s - loss: 0.2284 - acc: 0.9253 - val_loss: 0.5270 - val_acc: 0.8484\n",
            "Epoch 53/60\n",
            "40000/40000 - 9s - loss: 0.2190 - acc: 0.9279 - val_loss: 0.5336 - val_acc: 0.8506\n",
            "Epoch 54/60\n",
            "40000/40000 - 9s - loss: 0.2104 - acc: 0.9297 - val_loss: 0.5222 - val_acc: 0.8512\n",
            "Epoch 55/60\n",
            "40000/40000 - 9s - loss: 0.2132 - acc: 0.9295 - val_loss: 0.6081 - val_acc: 0.8408\n",
            "Epoch 56/60\n",
            "40000/40000 - 9s - loss: 0.2074 - acc: 0.9322 - val_loss: 0.5215 - val_acc: 0.8494\n",
            "Epoch 57/60\n",
            "40000/40000 - 9s - loss: 0.2063 - acc: 0.9319 - val_loss: 0.5482 - val_acc: 0.8496\n",
            "Epoch 58/60\n",
            "40000/40000 - 9s - loss: 0.1995 - acc: 0.9330 - val_loss: 0.5644 - val_acc: 0.8508\n",
            "Epoch 59/60\n",
            "40000/40000 - 9s - loss: 0.1929 - acc: 0.9352 - val_loss: 0.5841 - val_acc: 0.8493\n",
            "Epoch 60/60\n",
            "40000/40000 - 9s - loss: 0.1930 - acc: 0.9359 - val_loss: 0.5474 - val_acc: 0.8547\n"
          ],
          "name": "stdout"
        },
        {
          "output_type": "display_data",
          "data": {
            "image/png": "[encoded data removed]",
            "text/plain": [
              "<Figure size 432x288 with 1 Axes>"
            ]
          },
          "metadata": {
            "tags": []
          }
        }
      ]
    },
    {
      "cell_type": "markdown",
      "metadata": {
        "id": "lPHpsaG2yd_I",
        "colab_type": "text"
      },
      "source": [
        "**выводы** "
      ]
    },
    {
      "cell_type": "markdown",
      "metadata": {
        "id": "a9RTFkT6wnq7",
        "colab_type": "text"
      },
      "source": [
        "Первый запуск 40 эпох не достиг конца обучения, ошибка на обучающей выборке 0```\n",
        "Epoch 40/40\n",
        "40000/40000 - 11s - loss: 0.3079 - acc: 0.8986 - val_loss: 0.5227 - val_acc: 0.8441\n",
        "``"
      ]
    },
    {
      "cell_type": "markdown",
      "metadata": {
        "id": "QFrgxqj9xs5R",
        "colab_type": "text"
      },
      "source": [
        " Второй запуск. Увеличим количество эпох до 60 и снизим Dropout с 0,35 до 0,25\n",
        "Результат остался на том же уровне\n",
        "``Epoch 60/60\n",
        "40000/40000 - 11s - loss: 0.1176 - acc: 0.9625 - val_loss: 0.6650 - val_acc: 0.8515"
      ]
    },
    {
      "cell_type": "markdown",
      "metadata": {
        "id": "1GmVWmP-1tDy",
        "colab_type": "text"
      },
      "source": [
        "Третий запуск. Уменьшим колличество слоёв в последних двух блоках. результат тот же.\n",
        "Epoch 60/60\n",
        "40000/40000 - 9s - loss: 0.1930 - acc: 0.9359 - val_loss: 0.5474 - val_acc: 0.8547"
      ]
    },
    {
      "cell_type": "markdown",
      "metadata": {
        "id": "Ijq1Wpci2hiY",
        "colab_type": "text"
      },
      "source": [
        "**10 ** Меняем конфигурацию сетки, запустим  5 блоков со слоями 64,64; 128,128; 512,512; 128,128; 64,64."
      ]
    },
    {
      "cell_type": "code",
      "metadata": {
        "id": "VZWlbpWw8nc1",
        "colab_type": "code",
        "outputId": "60420a4f-24de-4be0-c621-de5cb2e685fb",
        "colab": {
          "base_uri": "https://localhost:8080/",
          "height": 1000
        }
      },
      "source": [
        "model = Sequential()\n",
        "#Слой пакетной нормализации\n",
        "model.add(BatchNormalization(input_shape=(32, 32, 3)))\n",
        "#Первый сверточный слой\n",
        "model.add(Conv2D( 64, (2, 2), padding='same', activation='relu'))\n",
        "#Второй сверточный слой\n",
        "model.add(Conv2D( 64, (2, 2), padding='same', activation='relu'))\n",
        "#Первый слой подвыборки\n",
        "model.add(MaxPooling2D(pool_size=(2, 2)))\n",
        "#Слой регуляризации Dropout\n",
        "model.add(Dropout(0.35))\n",
        "\n",
        "#Слой пакетной нормализации\n",
        "model.add(BatchNormalization())\n",
        "#Четвертый сверточный слой\n",
        "model.add(Conv2D(128, (3, 3), padding='same', activation='relu'))\n",
        "#Пятый сверточный слой\n",
        "model.add(Conv2D(128, (3, 3), padding='same', activation='relu'))\n",
        "#Второй слой подвыборки\n",
        "model.add(MaxPooling2D(pool_size=(2, 2)))\n",
        "#Слой регуляризации Dropout\n",
        "model.add(Dropout(0.35))\n",
        "\n",
        "#Слой пакетной нормализации\n",
        "model.add(BatchNormalization())\n",
        "#Седьмой сверточный слой\n",
        "model.add(Conv2D(256, (3, 3), padding='same', activation='relu'))\n",
        "#Восьмой сверточный слой\n",
        "model.add(Conv2D(256, (3, 3), padding='same', activation='relu'))\n",
        "#Третий слой подвыборки\n",
        "model.add(MaxPooling2D(pool_size=(2, 2)))\n",
        "#Слой регуляризации Dropout\n",
        "model.add(Dropout(0.35))\n",
        "\n",
        "#Слой пакетной нормализации\n",
        "model.add(BatchNormalization())\n",
        "#Седьмой сверточный слой\n",
        "model.add(Conv2D(128, (3, 3), padding='same', activation='relu'))\n",
        "#Восьмой сверточный слой\n",
        "model.add(Conv2D(128, (3, 3), padding='same', activation='relu'))\n",
        "#Третий слой подвыборки\n",
        "model.add(MaxPooling2D(pool_size=(2, 2)))\n",
        "#Слой регуляризации Dropout\n",
        "model.add(Dropout(0.35))\n",
        "\n",
        "#Слой пакетной нормализации\n",
        "model.add(BatchNormalization())\n",
        "#Седьмой сверточный слой\n",
        "model.add(Conv2D(64, (3, 3), padding='same', activation='relu'))\n",
        "#Восьмой сверточный слой\n",
        "model.add(Conv2D(64, (3, 3), padding='same', activation='relu'))\n",
        "#Третий слой подвыборки\n",
        "model.add(MaxPooling2D(pool_size=(2, 2)))\n",
        "#Слой регуляризации Dropout\n",
        "model.add(Dropout(0.35))\n",
        "\n",
        "#Слой преобразования данных из 2D представления в плоское\n",
        "model.add(Flatten())\n",
        "#Полносвязный слой для классификации\n",
        "model.add(Dense(512, activation='relu'))\n",
        "#Слой регуляризации Dropout\n",
        "model.add(Dropout(0.35))\n",
        "#Выходной полносвязный слой\n",
        "model.add(Dense(10, activation='softmax'))\n",
        "\n",
        "#Компилируем сеть\n",
        "model.compile(loss=\"categorical_crossentropy\", optimizer=\"adam\", metrics=[\"accuracy\"])\n",
        "\n",
        "#Обучаем сеть на данных cifar10\n",
        "history = model.fit(x_train10, \n",
        "                    y_train10, \n",
        "                    batch_size=batch_size, \n",
        "                    epochs=56,\n",
        "                    validation_split=0.2,\n",
        "                    verbose=1)\n",
        "\n",
        "#Отображаем график точности обучения\n",
        "plt.plot(history.history['acc'], \n",
        "         label='Доля верных ответов на обучающем наборе')\n",
        "plt.plot(history.history['val_acc'], \n",
        "         label='Доля верных ответов на проверочном наборе')\n",
        "plt.xlabel('Эпоха обучения')\n",
        "plt.ylabel('Доля верных ответов')\n",
        "plt.legend()\n",
        "plt.show()"
      ],
      "execution_count": 0,
      "outputs": [
        {
          "output_type": "stream",
          "text": [
            "Train on 40000 samples, validate on 10000 samples\n",
            "Epoch 1/56\n",
            "40000/40000 [==============================] - 17s 427us/sample - loss: 1.7270 - acc: 0.3385 - val_loss: 2.4829 - val_acc: 0.2753\n",
            "Epoch 2/56\n",
            "40000/40000 [==============================] - 16s 396us/sample - loss: 1.2475 - acc: 0.5511 - val_loss: 1.0815 - val_acc: 0.6291\n",
            "Epoch 3/56\n",
            "40000/40000 [==============================] - 16s 395us/sample - loss: 1.0267 - acc: 0.6449 - val_loss: 1.0017 - val_acc: 0.6593\n",
            "Epoch 4/56\n",
            "40000/40000 [==============================] - 16s 393us/sample - loss: 0.8968 - acc: 0.6918 - val_loss: 0.8674 - val_acc: 0.7017\n",
            "Epoch 5/56\n",
            "40000/40000 [==============================] - 16s 393us/sample - loss: 0.7940 - acc: 0.7318 - val_loss: 0.7724 - val_acc: 0.7386\n",
            "Epoch 6/56\n",
            "40000/40000 [==============================] - 16s 394us/sample - loss: 0.7132 - acc: 0.7606 - val_loss: 0.8075 - val_acc: 0.7311\n",
            "Epoch 7/56\n",
            "40000/40000 [==============================] - 16s 392us/sample - loss: 0.6530 - acc: 0.7840 - val_loss: 0.6218 - val_acc: 0.7906\n",
            "Epoch 8/56\n",
            "40000/40000 [==============================] - 16s 395us/sample - loss: 0.6054 - acc: 0.8009 - val_loss: 0.6010 - val_acc: 0.7973\n",
            "Epoch 9/56\n",
            "40000/40000 [==============================] - 16s 393us/sample - loss: 0.5604 - acc: 0.8178 - val_loss: 0.5286 - val_acc: 0.8228\n",
            "Epoch 10/56\n",
            "40000/40000 [==============================] - 16s 393us/sample - loss: 0.5262 - acc: 0.8275 - val_loss: 0.6374 - val_acc: 0.7906\n",
            "Epoch 11/56\n",
            "40000/40000 [==============================] - 16s 392us/sample - loss: 0.4916 - acc: 0.8400 - val_loss: 0.5592 - val_acc: 0.8147\n",
            "Epoch 12/56\n",
            "40000/40000 [==============================] - 16s 391us/sample - loss: 0.4588 - acc: 0.8507 - val_loss: 0.5164 - val_acc: 0.8279\n",
            "Epoch 13/56\n",
            "40000/40000 [==============================] - 16s 392us/sample - loss: 0.4353 - acc: 0.8589 - val_loss: 0.5225 - val_acc: 0.8253\n",
            "Epoch 14/56\n",
            "40000/40000 [==============================] - 16s 391us/sample - loss: 0.4143 - acc: 0.8640 - val_loss: 0.4931 - val_acc: 0.8389\n",
            "Epoch 15/56\n",
            "40000/40000 [==============================] - 16s 394us/sample - loss: 0.3950 - acc: 0.8708 - val_loss: 0.5028 - val_acc: 0.8388\n",
            "Epoch 16/56\n",
            "40000/40000 [==============================] - 16s 391us/sample - loss: 0.3690 - acc: 0.8784 - val_loss: 0.5393 - val_acc: 0.8244\n",
            "Epoch 17/56\n",
            "40000/40000 [==============================] - 16s 393us/sample - loss: 0.3579 - acc: 0.8847 - val_loss: 0.4641 - val_acc: 0.8470\n",
            "Epoch 18/56\n",
            "40000/40000 [==============================] - 16s 392us/sample - loss: 0.3404 - acc: 0.8906 - val_loss: 0.4870 - val_acc: 0.8392\n",
            "Epoch 19/56\n",
            "40000/40000 [==============================] - 16s 390us/sample - loss: 0.3253 - acc: 0.8951 - val_loss: 0.4643 - val_acc: 0.8466\n",
            "Epoch 20/56\n",
            "40000/40000 [==============================] - 16s 390us/sample - loss: 0.3113 - acc: 0.8981 - val_loss: 0.4978 - val_acc: 0.8387\n",
            "Epoch 21/56\n",
            "40000/40000 [==============================] - 16s 390us/sample - loss: 0.3036 - acc: 0.9012 - val_loss: 0.4260 - val_acc: 0.8603\n",
            "Epoch 22/56\n",
            "40000/40000 [==============================] - 15s 387us/sample - loss: 0.2905 - acc: 0.9058 - val_loss: 0.4445 - val_acc: 0.8592\n",
            "Epoch 23/56\n",
            "40000/40000 [==============================] - 15s 385us/sample - loss: 0.2773 - acc: 0.9106 - val_loss: 0.4736 - val_acc: 0.8510\n",
            "Epoch 24/56\n",
            "40000/40000 [==============================] - 16s 389us/sample - loss: 0.2687 - acc: 0.9134 - val_loss: 0.4511 - val_acc: 0.8563\n",
            "Epoch 25/56\n",
            "40000/40000 [==============================] - 16s 390us/sample - loss: 0.2591 - acc: 0.9161 - val_loss: 0.4518 - val_acc: 0.8552\n",
            "Epoch 26/56\n",
            "40000/40000 [==============================] - 15s 384us/sample - loss: 0.2502 - acc: 0.9187 - val_loss: 0.4192 - val_acc: 0.8632\n",
            "Epoch 27/56\n",
            "40000/40000 [==============================] - 15s 382us/sample - loss: 0.2352 - acc: 0.9247 - val_loss: 0.4407 - val_acc: 0.8613\n",
            "Epoch 28/56\n",
            "40000/40000 [==============================] - 15s 386us/sample - loss: 0.2278 - acc: 0.9265 - val_loss: 0.4599 - val_acc: 0.8558\n",
            "Epoch 29/56\n",
            "40000/40000 [==============================] - 16s 392us/sample - loss: 0.2223 - acc: 0.9279 - val_loss: 0.4892 - val_acc: 0.8541\n",
            "Epoch 30/56\n",
            "40000/40000 [==============================] - 15s 386us/sample - loss: 0.2178 - acc: 0.9305 - val_loss: 0.4640 - val_acc: 0.8639\n",
            "Epoch 31/56\n",
            "40000/40000 [==============================] - 15s 381us/sample - loss: 0.2072 - acc: 0.9327 - val_loss: 0.4528 - val_acc: 0.8569\n",
            "Epoch 32/56\n",
            "40000/40000 [==============================] - 15s 385us/sample - loss: 0.2021 - acc: 0.9338 - val_loss: 0.4734 - val_acc: 0.8639\n",
            "Epoch 33/56\n",
            "40000/40000 [==============================] - 16s 392us/sample - loss: 0.1907 - acc: 0.9390 - val_loss: 0.4559 - val_acc: 0.8657\n",
            "Epoch 34/56\n",
            "40000/40000 [==============================] - 15s 387us/sample - loss: 0.1971 - acc: 0.9366 - val_loss: 0.4712 - val_acc: 0.8630\n",
            "Epoch 35/56\n",
            "40000/40000 [==============================] - 15s 384us/sample - loss: 0.1931 - acc: 0.9370 - val_loss: 0.4569 - val_acc: 0.8661\n",
            "Epoch 36/56\n",
            "40000/40000 [==============================] - 15s 383us/sample - loss: 0.1865 - acc: 0.9403 - val_loss: 0.4835 - val_acc: 0.8581\n",
            "Epoch 37/56\n",
            "40000/40000 [==============================] - 16s 394us/sample - loss: 0.1783 - acc: 0.9419 - val_loss: 0.4864 - val_acc: 0.8612\n",
            "Epoch 38/56\n",
            "40000/40000 [==============================] - 15s 386us/sample - loss: 0.1743 - acc: 0.9448 - val_loss: 0.4220 - val_acc: 0.8682\n",
            "Epoch 39/56\n",
            "40000/40000 [==============================] - 15s 382us/sample - loss: 0.1707 - acc: 0.9449 - val_loss: 0.4746 - val_acc: 0.8678\n",
            "Epoch 40/56\n",
            "40000/40000 [==============================] - 15s 383us/sample - loss: 0.1669 - acc: 0.9453 - val_loss: 0.4698 - val_acc: 0.8632\n",
            "Epoch 41/56\n",
            "40000/40000 [==============================] - 16s 393us/sample - loss: 0.1669 - acc: 0.9466 - val_loss: 0.4248 - val_acc: 0.8698\n",
            "Epoch 42/56\n",
            "40000/40000 [==============================] - 15s 386us/sample - loss: 0.1571 - acc: 0.9495 - val_loss: 0.4677 - val_acc: 0.8626\n",
            "Epoch 43/56\n",
            "40000/40000 [==============================] - 15s 382us/sample - loss: 0.1561 - acc: 0.9506 - val_loss: 0.4530 - val_acc: 0.8696\n",
            "Epoch 44/56\n",
            "40000/40000 [==============================] - 15s 381us/sample - loss: 0.1581 - acc: 0.9488 - val_loss: 0.4556 - val_acc: 0.8726\n",
            "Epoch 45/56\n",
            "40000/40000 [==============================] - 16s 391us/sample - loss: 0.1470 - acc: 0.9535 - val_loss: 0.4606 - val_acc: 0.8685\n",
            "Epoch 46/56\n",
            "40000/40000 [==============================] - 15s 386us/sample - loss: 0.1499 - acc: 0.9536 - val_loss: 0.4700 - val_acc: 0.8591\n",
            "Epoch 47/56\n",
            "40000/40000 [==============================] - 15s 382us/sample - loss: 0.1419 - acc: 0.9553 - val_loss: 0.4772 - val_acc: 0.8645\n",
            "Epoch 48/56\n",
            "40000/40000 [==============================] - 15s 382us/sample - loss: 0.1412 - acc: 0.9557 - val_loss: 0.4799 - val_acc: 0.8626\n",
            "Epoch 49/56\n",
            "40000/40000 [==============================] - 15s 387us/sample - loss: 0.1365 - acc: 0.9571 - val_loss: 0.4815 - val_acc: 0.8687\n",
            "Epoch 50/56\n",
            "40000/40000 [==============================] - 15s 387us/sample - loss: 0.1331 - acc: 0.9582 - val_loss: 0.5030 - val_acc: 0.8677\n",
            "Epoch 51/56\n",
            "40000/40000 [==============================] - 15s 383us/sample - loss: 0.1317 - acc: 0.9575 - val_loss: 0.5339 - val_acc: 0.8618\n",
            "Epoch 52/56\n",
            "40000/40000 [==============================] - 15s 382us/sample - loss: 0.1297 - acc: 0.9581 - val_loss: 0.4813 - val_acc: 0.8721\n",
            "Epoch 53/56\n",
            "40000/40000 [==============================] - 15s 385us/sample - loss: 0.1246 - acc: 0.9605 - val_loss: 0.4479 - val_acc: 0.8768\n",
            "Epoch 54/56\n",
            "40000/40000 [==============================] - 16s 391us/sample - loss: 0.1239 - acc: 0.9589 - val_loss: 0.4572 - val_acc: 0.8724\n",
            "Epoch 55/56\n",
            "40000/40000 [==============================] - 16s 391us/sample - loss: 0.1263 - acc: 0.9597 - val_loss: 0.4659 - val_acc: 0.8640\n",
            "Epoch 56/56\n",
            "40000/40000 [==============================] - 15s 386us/sample - loss: 0.1188 - acc: 0.9623 - val_loss: 0.4690 - val_acc: 0.8754\n"
          ],
          "name": "stdout"
        },
        {
          "output_type": "display_data",
          "data": {
            "image/png": "[encoded data removed]",
            "text/plain": [
              "<Figure size 432x288 with 1 Axes>"
            ]
          },
          "metadata": {
            "tags": []
          }
        }
      ]
    },
    {
      "cell_type": "markdown",
      "metadata": {
        "id": "fojR-gBeCIIl",
        "colab_type": "text"
      },
      "source": [
        "Первый запуск НС с новой конфигурацией дал лучше результат\n",
        "\n",
        "Epoch 58/60\n",
        "40000/40000 - 14s - loss: 0.0802 - acc: 0.9750 - val_loss: 0.5310 - val_acc: 0.8701"
      ]
    },
    {
      "cell_type": "markdown",
      "metadata": {
        "id": "x0WuRlj9DCoB",
        "colab_type": "text"
      },
      "source": [
        "Второй запуск, добавляем два блока 64,64; 128,128; 542,542; 1084,1084; 542,542; 128,128; 64,64.    \n",
        "\n",
        " Результат ухудшился\n",
        " Epoch 58/60\n",
        "40000/40000 - 31s - loss: 0.0653 - acc: 0.9815 - val_loss: 0.5949 - val_acc: 0.8639"
      ]
    },
    {
      "cell_type": "markdown",
      "metadata": {
        "id": "qffkwyPDNbkz",
        "colab_type": "text"
      },
      "source": [
        "Третий запуск. изменим ядеро свертки. Вернем корфигурацию сети. Результат лучше.\n",
        "\n",
        "Epoch 53/56\n",
        "40000/40000  15s 385us/sample - loss: 0.1246 - acc: 0.9605 - val_loss: 0.4479 - val_acc: 0.8768"
      ]
    },
    {
      "cell_type": "markdown",
      "metadata": {
        "id": "Jq3asJo1Bs28",
        "colab_type": "text"
      },
      "source": [
        "#Распознавание случайной картинки из тестового набора"
      ]
    },
    {
      "cell_type": "code",
      "metadata": {
        "id": "jI93Wle3d5__",
        "colab_type": "code",
        "colab": {}
      },
      "source": [
        "#Распознаём все тестовые картинки\n",
        "prediction = model.predict(x_test10)"
      ],
      "execution_count": 0,
      "outputs": []
    },
    {
      "cell_type": "code",
      "metadata": {
        "id": "QC8mZWIfBZbZ",
        "colab_type": "code",
        "outputId": "dfbb072b-e17f-4ca5-9852-6d515bf99dfe",
        "colab": {
          "base_uri": "https://localhost:8080/",
          "height": 350
        }
      },
      "source": [
        "#Выбираем номер пример\n",
        "n = 2699\n",
        "\n",
        "#Выводим на экран картинку\n",
        "plt.imshow(Image.fromarray(x_test10[n]).convert('RGBA'))\n",
        "plt.show()\n",
        "\n",
        "#Выводим на экран результаты\n",
        "print(\"Выход сети: \", prediction[n])\n",
        "print(\"Распознанный образ: \", np.argmax(prediction[n]))\n",
        "print(\"Верный ответ: \", y_test10[n])\n",
        "print(\"Распознанный браз на картинке: \", classes[np.argmax(prediction[n])])"
      ],
      "execution_count": 0,
      "outputs": [
        {
          "output_type": "display_data",
          "data": {
            "image/png": "[encoded data removed]",
            "text/plain": [
              "<Figure size 432x288 with 1 Axes>"
            ]
          },
          "metadata": {
            "tags": []
          }
        },
        {
          "output_type": "stream",
          "text": [
            "Выход сети:  [1.6943268e-07 9.8558606e-10 6.4228984e-06 1.8775661e-05 9.9992824e-01\n",
            " 9.1827842e-06 3.7032216e-05 2.1703781e-07 6.0401617e-10 4.3136001e-09]\n",
            "Распознанный образ:  4\n",
            "Верный ответ:  [4]\n",
            "Распознанный браз на картинке:  олень\n"
          ],
          "name": "stdout"
        }
      ]
    },
    {
      "cell_type": "markdown",
      "metadata": {
        "colab_type": "text",
        "id": "MMoxbBKkBsB_"
      },
      "source": [
        "#Распознаем дополнительные картинки"
      ]
    },
    {
      "cell_type": "code",
      "metadata": {
        "colab_type": "code",
        "id": "cWBfM5tzBsBi",
        "outputId": "7fa877d4-1c3e-41c6-d393-7807ec070a95",
        "colab": {
          "resources": {
            "http://localhost:8080/nbextensions/google.colab/files.js": {
              "data": "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",
              "ok": true,
              "headers": [
                [
                  "content-type",
                  "application/javascript"
                ]
              ],
              "status": 200,
              "status_text": ""
            }
          },
          "base_uri": "https://localhost:8080/",
          "height": 58
        }
      },
      "source": [
        "#Загружаем свою картинку\n",
        "files.upload()\n",
        "#Проверяем, что картинка загрузилась\n",
        "!ls"
      ],
      "execution_count": 0,
      "outputs": [
        {
          "output_type": "display_data",
          "data": {
            "text/html": [
              "\n",
              "     <input type=\"file\" id=\"files-3555ae97-9113-45dd-b041-b9567a725d90\" name=\"files[]\" multiple disabled />\n",
              "     <output id=\"result-3555ae97-9113-45dd-b041-b9567a725d90\">\n",
              "      Upload widget is only available when the cell has been executed in the\n",
              "      current browser session. Please rerun this cell to enable.\n",
              "      </output>\n",
              "      <script src=\"/nbextensions/google.colab/files.js\"></script> "
            ],
            "text/plain": [
              "<IPython.core.display.HTML object>"
            ]
          },
          "metadata": {
            "tags": []
          }
        },
        {
          "output_type": "stream",
          "text": [
            "sample_data\n"
          ],
          "name": "stdout"
        }
      ]
    },
    {
      "cell_type": "code",
      "metadata": {
        "colab_type": "code",
        "id": "KiersR5iBsAV",
        "colab": {}
      },
      "source": [
        "#Вводим адрес картинки\n",
        "img_path = 'friends.jpg'\n",
        "#Загружаем картинку в массив\n",
        "img = image.load_img(img_path, target_size=(32, 32))\n",
        "#Отрисовываем картинку\n",
        "plt.imshow(img)\n",
        "plt.show()"
      ],
      "execution_count": 0,
      "outputs": []
    },
    {
      "cell_type": "code",
      "metadata": {
        "colab_type": "code",
        "id": "a785Ra5dBr-T",
        "colab": {}
      },
      "source": [
        "#переводим картинку в массив\n",
        "x = image.img_to_array(img)\n",
        "#Добавляем одну размерность для предсказания\n",
        "x = np.expand_dims(x, axis=0)\n",
        "#Распознаём класс картинки\n",
        "prediction = model.predict(x)\n",
        "prediction = np.argmax(prediction)\n",
        "#Вводим результаты на экран\n",
        "print(\"Распознанный образ: \", prediction)\n",
        "print(\"Название распознанного образа: \", classes[prediction])"
      ],
      "execution_count": 0,
      "outputs": []
    }
  ]
}