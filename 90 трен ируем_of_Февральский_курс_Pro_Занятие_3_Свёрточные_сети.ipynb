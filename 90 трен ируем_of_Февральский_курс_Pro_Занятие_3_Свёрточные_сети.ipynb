{
  "nbformat": 4,
  "nbformat_minor": 0,
  "metadata": {
    "colab": {
      "name": "Copy of Февральский курс. Pro. Занятие 3. Свёрточные сети",
      "provenance": [],
      "collapsed_sections": [],
      "include_colab_link": true
    },
    "kernelspec": {
      "name": "python3",
      "display_name": "Python 3"
    },
    "accelerator": "GPU"
  },
  "cells": [
    {
      "cell_type": "markdown",
      "metadata": {
        "id": "view-in-github",
        "colab_type": "text"
      },
      "source": [
        "<a href=\"https://colab.research.google.com/github/errec-sun/brain/blob/master/90%20%D1%82%D1%80%D0%B5%D0%BD%20%D0%B8%D1%80%D1%83%D0%B5%D0%BC_of_%D0%A4%D0%B5%D0%B2%D1%80%D0%B0%D0%BB%D1%8C%D1%81%D0%BA%D0%B8%D0%B9_%D0%BA%D1%83%D1%80%D1%81_Pro_%D0%97%D0%B0%D0%BD%D1%8F%D1%82%D0%B8%D0%B5_3_%D0%A1%D0%B2%D1%91%D1%80%D1%82%D0%BE%D1%87%D0%BD%D1%8B%D0%B5_%D1%81%D0%B5%D1%82%D0%B8.ipynb\" target=\"_parent\"><img src=\"https://colab.research.google.com/assets/colab-badge.svg\" alt=\"Open In Colab\"/></a>"
      ]
    },
    {
      "cell_type": "markdown",
      "metadata": {
        "id": "Ah7dy1kFL2H9",
        "colab_type": "text"
      },
      "source": [
        "# Распознавание изображений из набора данных CIFAR-10 с помощью свёрточный нейронных сетей\n",
        "\n"
      ]
    },
    {
      "cell_type": "markdown",
      "metadata": {
        "id": "-RYt5ug5AP7-",
        "colab_type": "text"
      },
      "source": [
        "#Подготовка данных\n",
        "Подключение библиотек"
      ]
    },
    {
      "cell_type": "code",
      "metadata": {
        "id": "ivmw9St3nFnx",
        "colab_type": "code",
        "colab": {}
      },
      "source": [
        "from keras.datasets import cifar10 #Загружаем базу cifar10\n",
        "from keras.datasets import cifar100 #Загружаем базу cifar100\n",
        "\n",
        "from tensorflow.keras.models import Sequential #Сеть прямого распространения\n",
        "#Базовые слои для счёрточный сетей\n",
        "from tensorflow.keras.layers import Dense, Conv2D, MaxPooling2D, Flatten, Dropout, BatchNormalization, GlobalAveragePooling2D\n",
        "from tensorflow.keras import utils #Используем дял to_categoricall\n",
        "from tensorflow.keras.preprocessing import image #Для отрисовки изображений\n",
        "from google.colab import files #Для загрузки своей картинки\n",
        "import numpy as np #Библиотека работы с массивами\n",
        "import matplotlib.pyplot as plt #Для отрисовки графиков\n",
        "from PIL import Image #Для отрисовки изображений"
      ],
      "execution_count": 0,
      "outputs": []
    },
    {
      "cell_type": "markdown",
      "metadata": {
        "id": "YrFh8L1ZAXWI",
        "colab_type": "text"
      },
      "source": [
        "Загрузка данных"
      ]
    },
    {
      "cell_type": "code",
      "metadata": {
        "id": "o1HMeSAsAU9K",
        "colab_type": "code",
        "colab": {}
      },
      "source": [
        "#Загружаем все базы\n",
        "(x_train10, y_train10), (x_test10, y_test10) = cifar10.load_data()\n",
        "(x_train100, y_train100), (x_test100, y_test100) = cifar100.load_data()\n",
        "\n",
        "#задаём заранее batch_size для сетей\n",
        "batch_size = 128\n",
        "#Загружаем названия классов из набора данных CIFAR-10\n",
        "classes=['самолет', 'автомобиль', 'птица', 'кот', 'олень', 'собака', 'лягушка', 'лошадь', 'корабль', 'грузовик']\n",
        "\n",
        "#Превращаем выходы сетей в формат  one hot encoding\n",
        "y_train10 = utils.to_categorical(y_train10, 10)\n",
        "y_train100 = utils.to_categorical(y_train100, 100)\n"
      ],
      "execution_count": 0,
      "outputs": []
    },
    {
      "cell_type": "markdown",
      "metadata": {
        "id": "C2dfXvs1AZol",
        "colab_type": "text"
      },
      "source": [
        "Отображение картинки на выбор"
      ]
    },
    {
      "cell_type": "code",
      "metadata": {
        "id": "sQRrFNBdz-Va",
        "colab_type": "code",
        "outputId": "449b881e-e3e3-4b63-f800-517bdea39c29",
        "colab": {
          "base_uri": "https://localhost:8080/",
          "height": 283
        }
      },
      "source": [
        "#Выводим для примера картинку\n",
        "n = 2553\n",
        "#Загружаем картинку из массива и отрисовываем в цветном формате - RGBA\n",
        "print(classes[np.argmax(y_train10[n])])\n",
        "plt.imshow(Image.fromarray(x_train10[n]).convert('RGBA'))\n",
        "plt.show()"
      ],
      "execution_count": 20,
      "outputs": [
        {
          "output_type": "stream",
          "text": [
            "лошадь\n"
          ],
          "name": "stdout"
        },
        {
          "output_type": "display_data",
          "data": {
            "image/png": "[encoded data removed]",
            "text/plain": [
              "<Figure size 432x288 with 1 Axes>"
            ]
          },
          "metadata": {
            "tags": []
          }
        }
      ]
    },
    {
      "cell_type": "code",
      "metadata": {
        "id": "gzczY1lgj5LD",
        "colab_type": "code",
        "outputId": "842bd75a-353f-4c2c-8f64-bec3ca59cf8a",
        "colab": {
          "base_uri": "https://localhost:8080/",
          "height": 34
        }
      },
      "source": [
        "#Выводим пример картинки в цифрах, как она хранится в памяти\n",
        "print(x_train10[n, 0, 0])"
      ],
      "execution_count": 13,
      "outputs": [
        {
          "output_type": "stream",
          "text": [
            "[255 255 255]\n"
          ],
          "name": "stdout"
        }
      ]
    },
    {
      "cell_type": "code",
      "metadata": {
        "id": "W9jLRZgEWvQF",
        "colab_type": "code",
        "outputId": "4ff5a50e-ac70-403e-a990-13c1d46be0b6",
        "colab": {
          "base_uri": "https://localhost:8080/",
          "height": 51
        }
      },
      "source": [
        "print(x_train10.shape)\n",
        "print(x_test10.shape)"
      ],
      "execution_count": 14,
      "outputs": [
        {
          "output_type": "stream",
          "text": [
            "(50000, 32, 32, 3)\n",
            "(10000, 32, 32, 3)\n"
          ],
          "name": "stdout"
        }
      ]
    },
    {
      "cell_type": "markdown",
      "metadata": {
        "id": "WVxjO7bDAwef",
        "colab_type": "text"
      },
      "source": [
        "#Нейронные сети\n",
        "**1** Создаём мощьную свёрточную сетку из 4-х блоков по 3 промежуточных слоя. Базовая архитектура свёрточной сети для работы с набором CIFAR 10"
      ]
    },
    {
      "cell_type": "code",
      "metadata": {
        "id": "Qej0lSsofR28",
        "colab_type": "code",
        "outputId": "515e7c32-0bad-4b0c-a6f2-4493a9c2aba8",
        "colab": {
          "base_uri": "https://localhost:8080/",
          "height": 971
        }
      },
      "source": [
        "#Создаем последовательную модель\n",
        "model = Sequential()\n",
        "#Слой пакетной нормализации\n",
        "model.add(BatchNormalization(input_shape=(32, 32, 3)))\n",
        "#Первый сверточный слой\n",
        "model.add(Conv2D( 512, (3, 3), padding='same', activation='relu'))\n",
        "#Второй сверточный слой\n",
        "model.add(Conv2D( 512, (3, 3), padding='same', activation='relu'))\n",
        "#Третий сверточный слой\n",
        "model.add(Conv2D( 512, (3, 3), padding='same', activation='relu'))\n",
        "#Первый слой подвыборки\n",
        "model.add(MaxPooling2D(pool_size=(2, 2)))\n",
        "#Слой регуляризации Dropout\n",
        "model.add(Dropout(0.35))\n",
        "\n",
        "#Слой пакетной нормализации\n",
        "model.add(BatchNormalization())\n",
        "#Четвертый сверточный слой\n",
        "model.add(Conv2D(256, (3, 3), padding='same', activation='relu'))\n",
        "#Пятый сверточный слой\n",
        "model.add(Conv2D(256, (3, 3), padding='same', activation='relu'))\n",
        "#Шестой сверточный слой\n",
        "model.add(Conv2D(256, (3, 3), padding='same', activation='relu'))\n",
        "#Второй слой подвыборки\n",
        "model.add(MaxPooling2D(pool_size=(2, 2)))\n",
        "#Слой регуляризации Dropout\n",
        "model.add(Dropout(0.35))\n",
        "\n",
        "#Слой пакетной нормализации\n",
        "model.add(BatchNormalization())\n",
        "#Седьмой сверточный слой\n",
        "model.add(Conv2D(128, (3, 3), padding='same', activation='relu'))\n",
        "#Восьмой сверточный слой\n",
        "model.add(Conv2D(128, (3, 3), padding='same', activation='relu'))\n",
        "#Девятый сверточный слой\n",
        "model.add(Conv2D(128, (3, 3), padding='same', activation='relu'))\n",
        "#Третий слой подвыборки\n",
        "model.add(MaxPooling2D(pool_size=(2, 2)))\n",
        "#Слой регуляризации Dropout\n",
        "model.add(Dropout(0.35))\n",
        "\n",
        "#Слой пакетной нормализации\n",
        "model.add(BatchNormalization())\n",
        "#Десятый сверточный слой\n",
        "model.add(Conv2D(64, (3, 3), padding='same', activation='relu'))\n",
        "#Одинацатый сверточный слой\n",
        "model.add(Conv2D(64, (3, 3), padding='same', activation='relu'))\n",
        "#Двенацатый сверточный слой\n",
        "model.add(Conv2D(64, (3, 3), padding='same', activation='relu'))\n",
        "#Четвертый слой подвыборки\n",
        "model.add(MaxPooling2D(pool_size=(2, 2)))\n",
        "#Слой регуляризации Dropout\n",
        "model.add(Dropout(0.35))\n",
        "#Слой преобразования данных из 2D представления в плоское\n",
        "model.add(Flatten())\n",
        "#Полносвязный слой для классификации\n",
        "model.add(Dense(512, activation='relu'))\n",
        "#Слой регуляризации Dropout\n",
        "model.add(Dropout(0.25))\n",
        "#Выходной полносвязный слой\n",
        "model.add(Dense(10, activation='softmax'))\n",
        "\n",
        "#Компилируем сеть\n",
        "model.compile(loss=\"categorical_crossentropy\", optimizer=\"adam\", metrics=[\"accuracy\"])\n",
        "\n",
        "#Обучаем сеть на данных cifar10\n",
        "history = model.fit(x_train10, \n",
        "                    y_train10, \n",
        "                    batch_size=batch_size, \n",
        "                    epochs=40,\n",
        "                    validation_split=0.2,\n",
        "                    verbose=2)\n",
        "\n",
        "#Оображаем график точности обучения\n",
        "plt.plot(history.history['acc'], \n",
        "         label='Доля верных ответов на обучающем наборе')\n",
        "plt.plot(history.history['val_acc'], \n",
        "         label='Доля верных ответов на проверочном наборе')\n",
        "plt.xlabel('Эпоха обучения')\n",
        "plt.ylabel('Доля верных ответов')\n",
        "plt.legend()\n",
        "plt.show()"
      ],
      "execution_count": 0,
      "outputs": [
        {
          "output_type": "stream",
          "text": [
            "Train on 40000 samples, validate on 10000 samples\n",
            "Epoch 1/20\n",
            "40000/40000 - 128s - loss: 1.7720 - acc: 0.3343 - val_loss: 1.9542 - val_acc: 0.3877\n",
            "Epoch 2/20\n",
            "40000/40000 - 128s - loss: 1.3027 - acc: 0.5258 - val_loss: 2.1566 - val_acc: 0.4242\n",
            "Epoch 3/20\n",
            "40000/40000 - 127s - loss: 1.0787 - acc: 0.6176 - val_loss: 0.9604 - val_acc: 0.6613\n",
            "Epoch 4/20\n",
            "40000/40000 - 127s - loss: 0.9161 - acc: 0.6783 - val_loss: 0.9563 - val_acc: 0.6742\n",
            "Epoch 5/20\n",
            "40000/40000 - 127s - loss: 0.7986 - acc: 0.7239 - val_loss: 0.8808 - val_acc: 0.6990\n",
            "Epoch 6/20\n",
            "40000/40000 - 126s - loss: 0.7097 - acc: 0.7576 - val_loss: 0.7294 - val_acc: 0.7484\n",
            "Epoch 7/20\n",
            "40000/40000 - 126s - loss: 0.6286 - acc: 0.7887 - val_loss: 0.6645 - val_acc: 0.7741\n",
            "Epoch 8/20\n",
            "40000/40000 - 126s - loss: 0.5586 - acc: 0.8116 - val_loss: 0.6405 - val_acc: 0.7887\n",
            "Epoch 9/20\n",
            "40000/40000 - 125s - loss: 0.5084 - acc: 0.8291 - val_loss: 0.5805 - val_acc: 0.8091\n",
            "Epoch 10/20\n",
            "40000/40000 - 126s - loss: 0.4554 - acc: 0.8464 - val_loss: 0.5963 - val_acc: 0.8079\n",
            "Epoch 11/20\n",
            "40000/40000 - 126s - loss: 0.4173 - acc: 0.8616 - val_loss: 0.6190 - val_acc: 0.8082\n",
            "Epoch 12/20\n",
            "40000/40000 - 125s - loss: 0.3819 - acc: 0.8733 - val_loss: 0.5023 - val_acc: 0.8380\n",
            "Epoch 13/20\n",
            "40000/40000 - 125s - loss: 0.3492 - acc: 0.8842 - val_loss: 0.5428 - val_acc: 0.8296\n",
            "Epoch 14/20\n",
            "40000/40000 - 125s - loss: 0.3220 - acc: 0.8939 - val_loss: 0.5235 - val_acc: 0.8316\n",
            "Epoch 15/20\n",
            "40000/40000 - 125s - loss: 0.3028 - acc: 0.8989 - val_loss: 0.4618 - val_acc: 0.8579\n",
            "Epoch 16/20\n",
            "40000/40000 - 125s - loss: 0.2708 - acc: 0.9100 - val_loss: 0.5598 - val_acc: 0.8365\n",
            "Epoch 17/20\n",
            "40000/40000 - 125s - loss: 0.2449 - acc: 0.9187 - val_loss: 0.5834 - val_acc: 0.8270\n",
            "Epoch 18/20\n",
            "40000/40000 - 125s - loss: 0.2276 - acc: 0.9249 - val_loss: 0.6174 - val_acc: 0.8223\n",
            "Epoch 19/20\n",
            "40000/40000 - 125s - loss: 0.2090 - acc: 0.9314 - val_loss: 0.5638 - val_acc: 0.8506\n",
            "Epoch 20/20\n",
            "40000/40000 - 125s - loss: 0.1916 - acc: 0.9367 - val_loss: 0.5185 - val_acc: 0.8555\n"
          ],
          "name": "stdout"
        },
        {
          "output_type": "display_data",
          "data": {
            "image/png": "[encoded data removed]",
            "text/plain": [
              "<Figure size 432x288 with 1 Axes>"
            ]
          },
          "metadata": {
            "tags": []
          }
        }
      ]
    },
    {
      "cell_type": "markdown",
      "metadata": {
        "id": "4iseuJBiSHOA",
        "colab_type": "text"
      },
      "source": [
        "**результат** Epoch 15/20\n",
        "40000/40000 - 125s - loss: 0.3028 - acc: 0.8989 - val_loss: 0.4618 - val_acc: 0.8579"
      ]
    },
    {
      "cell_type": "markdown",
      "metadata": {
        "id": "CFz7LYCQ-Enf",
        "colab_type": "text"
      },
      "source": [
        "**2** Увеличение слоев и колличества нейронов , дало хорошие результаты добавим слои подвыборки model.add(MaxPooling2D(pool_size=(2, 2)))\n"
      ]
    },
    {
      "cell_type": "code",
      "metadata": {
        "id": "bZLGgjAT-CIy",
        "colab_type": "code",
        "colab": {
          "base_uri": "https://localhost:8080/",
          "height": 1000
        },
        "outputId": "e1ce76b5-61d1-4811-8aa7-4b60a2090522"
      },
      "source": [
        "#Создаем последовательную модель\n",
        "model = Sequential()\n",
        "#Слой пакетной нормализации\n",
        "model.add(BatchNormalization(input_shape=(32, 32, 3)))\n",
        "#Первый сверточный слой\n",
        "model.add(Conv2D( 512, (3, 3), padding='same', activation='relu'))\n",
        "#Первый слой подвыборки\n",
        "model.add(MaxPooling2D(pool_size=(2, 2)))\n",
        "#Второй сверточный слой\n",
        "model.add(Conv2D( 512, (3, 3), padding='same', activation='relu'))\n",
        "#Третий сверточный слой\n",
        "model.add(Conv2D( 512, (3, 3), padding='same', activation='relu'))\n",
        "#Второй слой подвыборки\n",
        "model.add(MaxPooling2D(pool_size=(2, 2)))\n",
        "#Слой регуляризации Dropout\n",
        "model.add(Dropout(0.35))\n",
        "\n",
        "#Слой пакетной нормализации\n",
        "model.add(BatchNormalization())\n",
        "#Четвертый сверточный слой\n",
        "model.add(Conv2D(256, (3, 3), padding='same', activation='relu'))\n",
        "#Третий слой подвыборки\n",
        "model.add(MaxPooling2D(pool_size=(2, 2)))\n",
        "#Пятый сверточный слой\n",
        "model.add(Conv2D(256, (3, 3), padding='same', activation='relu'))\n",
        "# Шестой сверточный слой\n",
        "model.add(Conv2D(256, (3, 3), padding='same', activation='relu'))\n",
        "#Четвертый слой подвыборки\n",
        "model.add(MaxPooling2D(pool_size=(2, 2)))\n",
        "#Слой регуляризации Dropout\n",
        "model.add(Dropout(0.35))\n",
        "\n",
        "#Слой пакетной нормализации\n",
        "model.add(BatchNormalization())\n",
        "#Седьмой сверточный слой\n",
        "model.add(Conv2D(128, (3, 3), padding='same', activation='relu'))\n",
        "#Восьмой сверточный слой\n",
        "model.add(Conv2D(128, (3, 3), padding='same', activation='relu'))\n",
        "#Девятый сверточный слой\n",
        "model.add(Conv2D(128, (3, 3), padding='same', activation='relu'))\n",
        "#Пятый слой подвыборки\n",
        "model.add(MaxPooling2D(pool_size=(2, 2)))\n",
        "#Слой регуляризации Dropout\n",
        "model.add(Dropout(0.35))\n",
        "\n",
        "#Слой пакетной нормализации\n",
        "model.add(BatchNormalization())\n",
        "#Десятый сверточный слой\n",
        "model.add(Conv2D(64, (3, 3), padding='same', activation='relu'))\n",
        "#Одинацатый сверточный слой\n",
        "model.add(Conv2D(64, (3, 3), padding='same', activation='relu'))\n",
        "# Двенацатый сверточный слой\n",
        "model.add(Conv2D(64, (3, 3), padding='same', activation='relu'))\n",
        "#Шестой слой подвыборки\n",
        "model.add(MaxPooling2D(pool_size=(1, 1)))\n",
        "#Слой регуляризации Dropout\n",
        "model.add(Dropout(0.35))\n",
        "#Слой преобразования данных из 2D представления в плоское\n",
        "model.add(Flatten())\n",
        "#Полносвязный слой для классификации\n",
        "model.add(Dense(512, activation='relu'))\n",
        "#Слой регуляризации Dropout\n",
        "model.add(Dropout(0.25))\n",
        "#Выходной полносвязный слой\n",
        "model.add(Dense(10, activation='softmax'))\n",
        "\n",
        "#Компилируем сеть\n",
        "model.compile(loss=\"categorical_crossentropy\", optimizer=\"adam\", metrics=[\"accuracy\"])\n",
        "\n",
        "#Обучаем сеть на данных cifar10\n",
        "history = model.fit(x_train10, \n",
        "                    y_train10, \n",
        "                    batch_size=batch_size, \n",
        "                    epochs=30,\n",
        "                    validation_split=0.2,\n",
        "                    verbose=2)\n",
        "\n",
        "#Оображаем график точности обучения\n",
        "plt.plot(history.history['acc'], \n",
        "         label='Доля верных ответов на обучающем наборе')\n",
        "plt.plot(history.history['val_acc'], \n",
        "         label='Доля верных ответов на проверочном наборе')\n",
        "plt.xlabel('Эпоха обучения')\n",
        "plt.ylabel('Доля верных ответов')\n",
        "plt.legend()\n",
        "plt.show()"
      ],
      "execution_count": 10,
      "outputs": [
        {
          "output_type": "stream",
          "text": [
            "Train on 40000 samples, validate on 10000 samples\n",
            "Epoch 1/30\n",
            "40000/40000 - 47s - loss: 1.9507 - acc: 0.1969 - val_loss: 1.8479 - val_acc: 0.2339\n",
            "Epoch 2/30\n",
            "40000/40000 - 37s - loss: 1.7960 - acc: 0.2672 - val_loss: 1.7699 - val_acc: 0.3218\n",
            "Epoch 3/30\n",
            "40000/40000 - 38s - loss: 1.5546 - acc: 0.3726 - val_loss: 1.4529 - val_acc: 0.4329\n",
            "Epoch 4/30\n",
            "40000/40000 - 39s - loss: 1.3525 - acc: 0.4909 - val_loss: 1.2644 - val_acc: 0.5383\n",
            "Epoch 5/30\n",
            "40000/40000 - 39s - loss: 1.1814 - acc: 0.5785 - val_loss: 1.1784 - val_acc: 0.5722\n",
            "Epoch 6/30\n",
            "40000/40000 - 39s - loss: 1.0383 - acc: 0.6417 - val_loss: 1.1466 - val_acc: 0.6059\n",
            "Epoch 7/30\n",
            "40000/40000 - 39s - loss: 0.9177 - acc: 0.6889 - val_loss: 0.9663 - val_acc: 0.6789\n",
            "Epoch 8/30\n",
            "40000/40000 - 39s - loss: 0.8156 - acc: 0.7269 - val_loss: 0.8420 - val_acc: 0.7218\n",
            "Epoch 9/30\n",
            "40000/40000 - 39s - loss: 0.7238 - acc: 0.7646 - val_loss: 0.8040 - val_acc: 0.7373\n",
            "Epoch 10/30\n",
            "40000/40000 - 39s - loss: 0.6464 - acc: 0.7897 - val_loss: 0.7791 - val_acc: 0.7473\n",
            "Epoch 11/30\n",
            "40000/40000 - 39s - loss: 0.5788 - acc: 0.8130 - val_loss: 0.7612 - val_acc: 0.7560\n",
            "Epoch 12/30\n",
            "40000/40000 - 39s - loss: 0.5171 - acc: 0.8340 - val_loss: 0.7309 - val_acc: 0.7738\n",
            "Epoch 13/30\n",
            "40000/40000 - 39s - loss: 0.4640 - acc: 0.8544 - val_loss: 0.6367 - val_acc: 0.8008\n",
            "Epoch 14/30\n",
            "40000/40000 - 39s - loss: 0.4190 - acc: 0.8681 - val_loss: 0.7101 - val_acc: 0.7937\n",
            "Epoch 15/30\n",
            "40000/40000 - 39s - loss: 0.3750 - acc: 0.8839 - val_loss: 0.6297 - val_acc: 0.8093\n",
            "Epoch 16/30\n",
            "40000/40000 - 39s - loss: 0.3433 - acc: 0.8937 - val_loss: 0.6924 - val_acc: 0.7868\n",
            "Epoch 17/30\n",
            "40000/40000 - 38s - loss: 0.3195 - acc: 0.9024 - val_loss: 0.6396 - val_acc: 0.8107\n",
            "Epoch 18/30\n",
            "40000/40000 - 38s - loss: 0.2933 - acc: 0.9106 - val_loss: 0.6813 - val_acc: 0.7922\n",
            "Epoch 19/30\n",
            "40000/40000 - 38s - loss: 0.2596 - acc: 0.9222 - val_loss: 0.6474 - val_acc: 0.8118\n",
            "Epoch 20/30\n",
            "40000/40000 - 38s - loss: 0.2427 - acc: 0.9277 - val_loss: 0.6728 - val_acc: 0.8046\n",
            "Epoch 21/30\n",
            "40000/40000 - 39s - loss: 0.2347 - acc: 0.9302 - val_loss: 0.6475 - val_acc: 0.8176\n",
            "Epoch 22/30\n",
            "40000/40000 - 39s - loss: 0.2087 - acc: 0.9375 - val_loss: 0.6796 - val_acc: 0.8098\n",
            "Epoch 23/30\n",
            "40000/40000 - 39s - loss: 0.2020 - acc: 0.9405 - val_loss: 0.7234 - val_acc: 0.8084\n",
            "Epoch 24/30\n",
            "40000/40000 - 39s - loss: 0.1764 - acc: 0.9476 - val_loss: 0.6813 - val_acc: 0.8164\n",
            "Epoch 25/30\n",
            "40000/40000 - 39s - loss: 0.1662 - acc: 0.9526 - val_loss: 0.6602 - val_acc: 0.8226\n",
            "Epoch 26/30\n",
            "40000/40000 - 38s - loss: 0.1533 - acc: 0.9556 - val_loss: 0.6382 - val_acc: 0.8264\n",
            "Epoch 27/30\n",
            "40000/40000 - 38s - loss: 0.1539 - acc: 0.9551 - val_loss: 0.6588 - val_acc: 0.8224\n",
            "Epoch 28/30\n",
            "40000/40000 - 38s - loss: 0.1365 - acc: 0.9610 - val_loss: 0.6658 - val_acc: 0.8260\n",
            "Epoch 29/30\n",
            "40000/40000 - 38s - loss: 0.1363 - acc: 0.9613 - val_loss: 0.6787 - val_acc: 0.8232\n",
            "Epoch 30/30\n",
            "40000/40000 - 38s - loss: 0.1176 - acc: 0.9667 - val_loss: 0.6983 - val_acc: 0.8299\n"
          ],
          "name": "stdout"
        },
        {
          "output_type": "display_data",
          "data": {
            "image/png": "[encoded data removed]",
            "text/plain": [
              "<Figure size 432x288 with 1 Axes>"
            ]
          },
          "metadata": {
            "tags": []
          }
        }
      ]
    },
    {
      "cell_type": "markdown",
      "metadata": {
        "id": "PcltnRBQK17U",
        "colab_type": "text"
      },
      "source": [
        "**Вывод** Результат ухудшился\n",
        "\n",
        "\n"
      ]
    },
    {
      "cell_type": "markdown",
      "metadata": {
        "id": "aGas0A3mJ4DB",
        "colab_type": "text"
      },
      "source": [
        "**3** Изменим размер ядер, ставим ядро свертки 2,2"
      ]
    },
    {
      "cell_type": "code",
      "metadata": {
        "id": "50_fkAMUON8R",
        "colab_type": "code",
        "colab": {
          "base_uri": "https://localhost:8080/",
          "height": 1000
        },
        "outputId": "0f9c90e3-61f4-4fe2-900f-924bb8918d2b"
      },
      "source": [
        "\n",
        "model = Sequential()\n",
        "#Слой пакетной нормализации\n",
        "model.add(BatchNormalization(input_shape=(32, 32, 3)))\n",
        "#Первый сверточный слой\n",
        "model.add(Conv2D( 512, (2, 2), padding='same', activation='relu'))\n",
        "#Второй сверточный слой\n",
        "model.add(Conv2D( 512, (2, 2), padding='same', activation='relu'))\n",
        "#Третий сверточный слой\n",
        "model.add(Conv2D( 512, (2, 2), padding='same', activation='relu'))\n",
        "#Первый слой подвыборки\n",
        "model.add(MaxPooling2D(pool_size=(2, 2)))\n",
        "#Слой регуляризации Dropout\n",
        "model.add(Dropout(0.35))\n",
        "\n",
        "#Слой пакетной нормализации\n",
        "model.add(BatchNormalization())\n",
        "#Четвертый сверточный слой\n",
        "model.add(Conv2D(256, (2, 2), padding='same', activation='relu'))\n",
        "#Пятый сверточный слой\n",
        "model.add(Conv2D(256, (2, 2), padding='same', activation='relu'))\n",
        "#Шестой сверточный слой\n",
        "model.add(Conv2D(256, (2, 2), padding='same', activation='relu'))\n",
        "#Второй слой подвыборки\n",
        "model.add(MaxPooling2D(pool_size=(2, 2)))\n",
        "#Слой регуляризации Dropout\n",
        "model.add(Dropout(0.35))\n",
        "\n",
        "#Слой пакетной нормализации\n",
        "model.add(BatchNormalization())\n",
        "#Седьмой сверточный слой\n",
        "model.add(Conv2D(128, (2, 2), padding='same', activation='relu'))\n",
        "#Восьмой сверточный слой\n",
        "model.add(Conv2D(128, (2, 2), padding='same', activation='relu'))\n",
        "#Девятый сверточный слой\n",
        "model.add(Conv2D(128, (2, 2), padding='same', activation='relu'))\n",
        "#Третий слой подвыборки\n",
        "model.add(MaxPooling2D(pool_size=(2, 2)))\n",
        "#Слой регуляризации Dropout\n",
        "model.add(Dropout(0.35))\n",
        "\n",
        "#Слой пакетной нормализации\n",
        "model.add(BatchNormalization())\n",
        "#Десятый сверточный слой\n",
        "model.add(Conv2D(64, (2, 2), padding='same', activation='relu'))\n",
        "#Одинацатый сверточный слой\n",
        "model.add(Conv2D(64, (2, 2), padding='same', activation='relu'))\n",
        "#Двенацатый сверточный слой\n",
        "model.add(Conv2D(64, (2, 2), padding='same', activation='relu'))\n",
        "#Четвертый слой подвыборки\n",
        "model.add(MaxPooling2D(pool_size=(2, 2)))\n",
        "#Слой регуляризации Dropout\n",
        "model.add(Dropout(0.35))\n",
        "#Слой преобразования данных из 2D представления в плоское\n",
        "model.add(Flatten())\n",
        "#Полносвязный слой для классификации\n",
        "model.add(Dense(512, activation='relu'))\n",
        "#Слой регуляризации Dropout\n",
        "model.add(Dropout(0.25))\n",
        "#Выходной полносвязный слой\n",
        "model.add(Dense(10, activation='softmax'))\n",
        "\n",
        "#Компилируем сеть\n",
        "model.compile(loss=\"categorical_crossentropy\", optimizer=\"adam\", metrics=[\"accuracy\"])\n",
        "\n",
        "#Обучаем сеть на данных cifar10\n",
        "history = model.fit(x_train10, \n",
        "                    y_train10, \n",
        "                    batch_size=batch_size, \n",
        "                    epochs=40,\n",
        "                    validation_split=0.2,\n",
        "                    verbose=2)\n",
        "\n",
        "#Оображаем график точности обучения\n",
        "plt.plot(history.history['acc'], \n",
        "         label='Доля верных ответов на обучающем наборе')\n",
        "plt.plot(history.history['val_acc'], \n",
        "         label='Доля верных ответов на проверочном наборе')\n",
        "plt.xlabel('Эпоха обучения')\n",
        "plt.ylabel('Доля верных ответов')\n",
        "plt.legend()\n",
        "plt.show()"
      ],
      "execution_count": 12,
      "outputs": [
        {
          "output_type": "stream",
          "text": [
            "Train on 40000 samples, validate on 10000 samples\n",
            "Epoch 1/40\n",
            "40000/40000 - 173s - loss: 1.8290 - acc: 0.3025 - val_loss: 1.7131 - val_acc: 0.3748\n",
            "Epoch 2/40\n",
            "40000/40000 - 173s - loss: 1.3975 - acc: 0.4787 - val_loss: 1.4169 - val_acc: 0.4934\n",
            "Epoch 3/40\n",
            "40000/40000 - 174s - loss: 1.1810 - acc: 0.5716 - val_loss: 1.1872 - val_acc: 0.5689\n",
            "Epoch 4/40\n",
            "40000/40000 - 173s - loss: 1.0566 - acc: 0.6235 - val_loss: 1.0916 - val_acc: 0.6139\n",
            "Epoch 5/40\n",
            "40000/40000 - 173s - loss: 0.9583 - acc: 0.6622 - val_loss: 0.9942 - val_acc: 0.6499\n",
            "Epoch 6/40\n",
            "40000/40000 - 173s - loss: 0.8828 - acc: 0.6866 - val_loss: 0.8521 - val_acc: 0.6918\n",
            "Epoch 7/40\n",
            "40000/40000 - 173s - loss: 0.8185 - acc: 0.7103 - val_loss: 0.7727 - val_acc: 0.7293\n",
            "Epoch 8/40\n",
            "40000/40000 - 172s - loss: 0.7717 - acc: 0.7293 - val_loss: 0.7700 - val_acc: 0.7273\n",
            "Epoch 9/40\n",
            "40000/40000 - 172s - loss: 0.7320 - acc: 0.7459 - val_loss: 0.7100 - val_acc: 0.7512\n",
            "Epoch 10/40\n",
            "40000/40000 - 172s - loss: 0.6844 - acc: 0.7661 - val_loss: 0.7122 - val_acc: 0.7519\n",
            "Epoch 11/40\n",
            "40000/40000 - 172s - loss: 0.6525 - acc: 0.7736 - val_loss: 0.7251 - val_acc: 0.7535\n",
            "Epoch 12/40\n",
            "40000/40000 - 172s - loss: 0.6164 - acc: 0.7903 - val_loss: 0.7778 - val_acc: 0.7478\n",
            "Epoch 13/40\n",
            "40000/40000 - 172s - loss: 0.5787 - acc: 0.8014 - val_loss: 0.6787 - val_acc: 0.7637\n",
            "Epoch 14/40\n",
            "40000/40000 - 172s - loss: 0.5643 - acc: 0.8090 - val_loss: 0.6273 - val_acc: 0.7858\n",
            "Epoch 15/40\n",
            "40000/40000 - 172s - loss: 0.5217 - acc: 0.8213 - val_loss: 0.6505 - val_acc: 0.7827\n",
            "Epoch 16/40\n",
            "40000/40000 - 172s - loss: 0.5006 - acc: 0.8308 - val_loss: 0.5960 - val_acc: 0.7989\n",
            "Epoch 17/40\n",
            "40000/40000 - 172s - loss: 0.4813 - acc: 0.8374 - val_loss: 0.6026 - val_acc: 0.8019\n",
            "Epoch 18/40\n",
            "40000/40000 - 172s - loss: 0.4625 - acc: 0.8454 - val_loss: 0.5811 - val_acc: 0.8078\n",
            "Epoch 19/40\n",
            "40000/40000 - 171s - loss: 0.4392 - acc: 0.8521 - val_loss: 0.5847 - val_acc: 0.8074\n",
            "Epoch 20/40\n",
            "40000/40000 - 172s - loss: 0.4165 - acc: 0.8589 - val_loss: 0.6158 - val_acc: 0.8059\n",
            "Epoch 21/40\n",
            "40000/40000 - 172s - loss: 0.4010 - acc: 0.8649 - val_loss: 0.5461 - val_acc: 0.8195\n",
            "Epoch 22/40\n",
            "40000/40000 - 172s - loss: 0.3755 - acc: 0.8745 - val_loss: 0.6479 - val_acc: 0.8016\n",
            "Epoch 23/40\n",
            "40000/40000 - 171s - loss: 0.3624 - acc: 0.8782 - val_loss: 0.5574 - val_acc: 0.8213\n",
            "Epoch 24/40\n",
            "40000/40000 - 171s - loss: 0.3514 - acc: 0.8816 - val_loss: 0.5268 - val_acc: 0.8308\n",
            "Epoch 25/40\n",
            "40000/40000 - 171s - loss: 0.3374 - acc: 0.8875 - val_loss: 0.5805 - val_acc: 0.8148\n",
            "Epoch 26/40\n",
            "40000/40000 - 171s - loss: 0.3259 - acc: 0.8902 - val_loss: 0.5571 - val_acc: 0.8217\n",
            "Epoch 27/40\n",
            "40000/40000 - 171s - loss: 0.3088 - acc: 0.8974 - val_loss: 0.4978 - val_acc: 0.8406\n",
            "Epoch 28/40\n",
            "40000/40000 - 171s - loss: 0.2989 - acc: 0.9010 - val_loss: 0.5056 - val_acc: 0.8382\n",
            "Epoch 29/40\n",
            "40000/40000 - 171s - loss: 0.2858 - acc: 0.9053 - val_loss: 0.5214 - val_acc: 0.8301\n",
            "Epoch 30/40\n",
            "40000/40000 - 171s - loss: 0.2743 - acc: 0.9109 - val_loss: 0.5270 - val_acc: 0.8314\n",
            "Epoch 31/40\n",
            "40000/40000 - 171s - loss: 0.2639 - acc: 0.9118 - val_loss: 0.5088 - val_acc: 0.8416\n",
            "Epoch 32/40\n",
            "40000/40000 - 171s - loss: 0.2519 - acc: 0.9160 - val_loss: 0.5437 - val_acc: 0.8283\n",
            "Epoch 33/40\n",
            "40000/40000 - 171s - loss: 0.2586 - acc: 0.9142 - val_loss: 0.5567 - val_acc: 0.8256\n",
            "Epoch 34/40\n",
            "40000/40000 - 171s - loss: 0.2489 - acc: 0.9174 - val_loss: 0.5284 - val_acc: 0.8370\n",
            "Epoch 35/40\n",
            "40000/40000 - 171s - loss: 0.2370 - acc: 0.9223 - val_loss: 0.5696 - val_acc: 0.8261\n",
            "Epoch 36/40\n",
            "40000/40000 - 171s - loss: 0.2256 - acc: 0.9260 - val_loss: 0.4966 - val_acc: 0.8476\n",
            "Epoch 37/40\n",
            "40000/40000 - 171s - loss: 0.2179 - acc: 0.9285 - val_loss: 0.5087 - val_acc: 0.8451\n",
            "Epoch 38/40\n",
            "40000/40000 - 171s - loss: 0.2158 - acc: 0.9291 - val_loss: 0.4966 - val_acc: 0.8445\n",
            "Epoch 39/40\n",
            "40000/40000 - 171s - loss: 0.2037 - acc: 0.9341 - val_loss: 0.5179 - val_acc: 0.8452\n",
            "Epoch 40/40\n",
            "40000/40000 - 171s - loss: 0.2077 - acc: 0.9329 - val_loss: 0.4981 - val_acc: 0.8483\n"
          ],
          "name": "stdout"
        },
        {
          "output_type": "display_data",
          "data": {
            "image/png": "[encoded data removed]",
            "text/plain": [
              "<Figure size 432x288 with 1 Axes>"
            ]
          },
          "metadata": {
            "tags": []
          }
        }
      ]
    },
    {
      "cell_type": "markdown",
      "metadata": {
        "id": "4YuKZJsU-t58",
        "colab_type": "text"
      },
      "source": [
        "**Вывод** получили результат немного хуже первоночального, на 0,7 прощента, возвращаем ядро 3, 3 ."
      ]
    },
    {
      "cell_type": "markdown",
      "metadata": {
        "id": "4Y6EHR5ZK87I",
        "colab_type": "text"
      },
      "source": [
        "**4** увеличиваем колличество нейронов в каждом блоке на величину аналогичную предыдущему блоку, делаем это постепенно. Проверяем гипотезу о влиянии колличества нейронов на результат."
      ]
    },
    {
      "cell_type": "code",
      "metadata": {
        "id": "bLVz9XBjAoL5",
        "colab_type": "code",
        "colab": {
          "base_uri": "https://localhost:8080/",
          "height": 1000
        },
        "outputId": "677058f4-f686-4575-a7e1-1eda79aae058"
      },
      "source": [
        "\n",
        "model = Sequential()\n",
        "#Слой пакетной нормализации\n",
        "model.add(BatchNormalization(input_shape=(32, 32, 3)))\n",
        "#Первый сверточный слой\n",
        "model.add(Conv2D( 1024, (3, 3), padding='same', activation='relu'))\n",
        "#Второй сверточный слой\n",
        "model.add(Conv2D( 512, (3, 3), padding='same', activation='relu'))\n",
        "#Третий сверточный слой\n",
        "model.add(Conv2D( 512, (3, 3), padding='same', activation='relu'))\n",
        "#Первый слой подвыборки\n",
        "model.add(MaxPooling2D(pool_size=(2, 2)))\n",
        "#Слой регуляризации Dropout\n",
        "model.add(Dropout(0.35))\n",
        "\n",
        "#Слой пакетной нормализации\n",
        "model.add(BatchNormalization())\n",
        "#Четвертый сверточный слой\n",
        "model.add(Conv2D(512, (3, 3), padding='same', activation='relu'))\n",
        "#Пятый сверточный слой\n",
        "model.add(Conv2D(256, (3, 3), padding='same', activation='relu'))\n",
        "#Шестой сверточный слой\n",
        "model.add(Conv2D(256, (3, 3), padding='same', activation='relu'))\n",
        "#Второй слой подвыборки\n",
        "model.add(MaxPooling2D(pool_size=(2, 2)))\n",
        "#Слой регуляризации Dropout\n",
        "model.add(Dropout(0.35))\n",
        "\n",
        "#Слой пакетной нормализации\n",
        "model.add(BatchNormalization())\n",
        "#Седьмой сверточный слой\n",
        "model.add(Conv2D(256, (3, 3), padding='same', activation='relu'))\n",
        "#Восьмой сверточный слой\n",
        "model.add(Conv2D(128, (3, 3), padding='same', activation='relu'))\n",
        "#Девятый сверточный слой\n",
        "model.add(Conv2D(128, (3, 3), padding='same', activation='relu'))\n",
        "#Третий слой подвыборки\n",
        "model.add(MaxPooling2D(pool_size=(2, 2)))\n",
        "#Слой регуляризации Dropout\n",
        "model.add(Dropout(0.35))\n",
        "\n",
        "#Слой пакетной нормализации\n",
        "model.add(BatchNormalization())\n",
        "#Десятый сверточный слой\n",
        "model.add(Conv2D(128, (3, 3), padding='same', activation='relu'))\n",
        "#Одинацатый сверточный слой\n",
        "model.add(Conv2D(64, (3, 3), padding='same', activation='relu'))\n",
        "#Двенацатый сверточный слой\n",
        "model.add(Conv2D(64, (3, 3), padding='same', activation='relu'))\n",
        "#Четвертый слой подвыборки\n",
        "model.add(MaxPooling2D(pool_size=(2, 2)))\n",
        "#Слой регуляризации Dropout\n",
        "model.add(Dropout(0.35))\n",
        "#Слой преобразования данных из 2D представления в плоское\n",
        "model.add(Flatten())\n",
        "#Полносвязный слой для классификации\n",
        "model.add(Dense(512, activation='relu'))\n",
        "#Слой регуляризации Dropout\n",
        "model.add(Dropout(0.25))\n",
        "#Выходной полносвязный слой\n",
        "model.add(Dense(10, activation='softmax'))\n",
        "\n",
        "#Компилируем сеть\n",
        "model.compile(loss=\"categorical_crossentropy\", optimizer=\"adam\", metrics=[\"accuracy\"])\n",
        "\n",
        "#Обучаем сеть на данных cifar10\n",
        "history = model.fit(x_train10, \n",
        "                    y_train10, \n",
        "                    batch_size=batch_size, \n",
        "                    epochs=40,\n",
        "                    validation_split=0.2,\n",
        "                    verbose=2)\n",
        "\n",
        "#Оображаем график точности обучения\n",
        "plt.plot(history.history['acc'], \n",
        "         label='Доля верных ответов на обучающем наборе')\n",
        "plt.plot(history.history['val_acc'], \n",
        "         label='Доля верных ответов на проверочном наборе')\n",
        "plt.xlabel('Эпоха обучения')\n",
        "plt.ylabel('Доля верных ответов')\n",
        "plt.legend()\n",
        "plt.show()"
      ],
      "execution_count": 7,
      "outputs": [
        {
          "output_type": "stream",
          "text": [
            "WARNING:tensorflow:From /usr/local/lib/python3.6/dist-packages/tensorflow_core/python/ops/resource_variable_ops.py:1630: calling BaseResourceVariable.__init__ (from tensorflow.python.ops.resource_variable_ops) with constraint is deprecated and will be removed in a future version.\n",
            "Instructions for updating:\n",
            "If using Keras pass *_constraint arguments to layers.\n",
            "Train on 40000 samples, validate on 10000 samples\n",
            "Epoch 1/40\n",
            "40000/40000 - 104s - loss: 1.7838 - acc: 0.3345 - val_loss: 1.8728 - val_acc: 0.3338\n",
            "Epoch 2/40\n",
            "40000/40000 - 92s - loss: 1.3340 - acc: 0.5149 - val_loss: 1.3964 - val_acc: 0.5168\n",
            "Epoch 3/40\n",
            "40000/40000 - 92s - loss: 1.1030 - acc: 0.6054 - val_loss: 1.1663 - val_acc: 0.5999\n",
            "Epoch 4/40\n",
            "40000/40000 - 92s - loss: 0.9500 - acc: 0.6629 - val_loss: 0.9160 - val_acc: 0.6783\n",
            "Epoch 5/40\n",
            "40000/40000 - 92s - loss: 0.8380 - acc: 0.7104 - val_loss: 0.8178 - val_acc: 0.7168\n",
            "Epoch 6/40\n",
            "40000/40000 - 92s - loss: 0.7523 - acc: 0.7411 - val_loss: 0.7398 - val_acc: 0.7494\n",
            "Epoch 7/40\n",
            "40000/40000 - 92s - loss: 0.6615 - acc: 0.7756 - val_loss: 0.6611 - val_acc: 0.7796\n",
            "Epoch 8/40\n",
            "40000/40000 - 92s - loss: 0.6065 - acc: 0.7934 - val_loss: 0.7034 - val_acc: 0.7610\n",
            "Epoch 9/40\n",
            "40000/40000 - 92s - loss: 0.5528 - acc: 0.8121 - val_loss: 0.5854 - val_acc: 0.8016\n",
            "Epoch 10/40\n",
            "40000/40000 - 92s - loss: 0.4963 - acc: 0.8354 - val_loss: 0.6414 - val_acc: 0.7893\n",
            "Epoch 11/40\n",
            "40000/40000 - 92s - loss: 0.4539 - acc: 0.8465 - val_loss: 0.5408 - val_acc: 0.8258\n",
            "Epoch 12/40\n",
            "40000/40000 - 92s - loss: 0.4113 - acc: 0.8628 - val_loss: 0.5564 - val_acc: 0.8166\n",
            "Epoch 13/40\n",
            "40000/40000 - 92s - loss: 0.3715 - acc: 0.8761 - val_loss: 0.5545 - val_acc: 0.8262\n",
            "Epoch 14/40\n",
            "40000/40000 - 92s - loss: 0.3442 - acc: 0.8851 - val_loss: 0.5727 - val_acc: 0.8177\n",
            "Epoch 15/40\n",
            "40000/40000 - 92s - loss: 0.3194 - acc: 0.8936 - val_loss: 0.5231 - val_acc: 0.8346\n",
            "Epoch 16/40\n",
            "40000/40000 - 92s - loss: 0.2854 - acc: 0.9057 - val_loss: 0.5023 - val_acc: 0.8475\n",
            "Epoch 17/40\n",
            "40000/40000 - 92s - loss: 0.2660 - acc: 0.9121 - val_loss: 0.5139 - val_acc: 0.8469\n",
            "Epoch 18/40\n",
            "40000/40000 - 92s - loss: 0.2362 - acc: 0.9210 - val_loss: 0.5196 - val_acc: 0.8469\n",
            "Epoch 19/40\n",
            "40000/40000 - 92s - loss: 0.2336 - acc: 0.9214 - val_loss: 0.5164 - val_acc: 0.8447\n",
            "Epoch 20/40\n",
            "40000/40000 - 92s - loss: 0.2049 - acc: 0.9317 - val_loss: 0.6202 - val_acc: 0.8325\n",
            "Epoch 21/40\n",
            "40000/40000 - 92s - loss: 0.1899 - acc: 0.9366 - val_loss: 0.5721 - val_acc: 0.8465\n",
            "Epoch 22/40\n",
            "40000/40000 - 92s - loss: 0.1765 - acc: 0.9433 - val_loss: 0.5322 - val_acc: 0.8595\n",
            "Epoch 23/40\n",
            "40000/40000 - 92s - loss: 0.1613 - acc: 0.9456 - val_loss: 0.5428 - val_acc: 0.8574\n",
            "Epoch 24/40\n",
            "40000/40000 - 92s - loss: 0.1511 - acc: 0.9500 - val_loss: 0.5368 - val_acc: 0.8568\n",
            "Epoch 25/40\n",
            "40000/40000 - 92s - loss: 0.1419 - acc: 0.9543 - val_loss: 0.5588 - val_acc: 0.8494\n",
            "Epoch 26/40\n",
            "40000/40000 - 92s - loss: 0.1352 - acc: 0.9567 - val_loss: 0.6699 - val_acc: 0.8391\n",
            "Epoch 27/40\n",
            "40000/40000 - 92s - loss: 0.1352 - acc: 0.9564 - val_loss: 0.5303 - val_acc: 0.8664\n",
            "Epoch 28/40\n",
            "40000/40000 - 92s - loss: 0.1221 - acc: 0.9605 - val_loss: 0.6033 - val_acc: 0.8533\n",
            "Epoch 29/40\n",
            "40000/40000 - 92s - loss: 0.1075 - acc: 0.9653 - val_loss: 0.6144 - val_acc: 0.8574\n",
            "Epoch 30/40\n",
            "40000/40000 - 92s - loss: 0.1079 - acc: 0.9660 - val_loss: 0.5659 - val_acc: 0.8665\n",
            "Epoch 31/40\n",
            "40000/40000 - 92s - loss: 0.1029 - acc: 0.9679 - val_loss: 0.6107 - val_acc: 0.8559\n",
            "Epoch 32/40\n",
            "40000/40000 - 92s - loss: 0.0967 - acc: 0.9696 - val_loss: 0.6734 - val_acc: 0.8476\n",
            "Epoch 33/40\n",
            "40000/40000 - 92s - loss: 0.1041 - acc: 0.9674 - val_loss: 0.6255 - val_acc: 0.8573\n",
            "Epoch 34/40\n",
            "40000/40000 - 92s - loss: 0.0881 - acc: 0.9717 - val_loss: 0.7458 - val_acc: 0.8457\n",
            "Epoch 35/40\n",
            "40000/40000 - 92s - loss: 0.0846 - acc: 0.9732 - val_loss: 0.6400 - val_acc: 0.8631\n",
            "Epoch 36/40\n",
            "40000/40000 - 92s - loss: 0.0855 - acc: 0.9739 - val_loss: 0.5595 - val_acc: 0.8709\n",
            "Epoch 37/40\n",
            "40000/40000 - 92s - loss: 0.0782 - acc: 0.9750 - val_loss: 0.5749 - val_acc: 0.8708\n",
            "Epoch 38/40\n",
            "40000/40000 - 92s - loss: 0.0753 - acc: 0.9757 - val_loss: 0.6642 - val_acc: 0.8546\n",
            "Epoch 39/40\n",
            "40000/40000 - 92s - loss: 0.0775 - acc: 0.9764 - val_loss: 0.5843 - val_acc: 0.8723\n",
            "Epoch 40/40\n",
            "40000/40000 - 92s - loss: 0.0712 - acc: 0.9778 - val_loss: 0.6762 - val_acc: 0.8659\n"
          ],
          "name": "stdout"
        },
        {
          "output_type": "display_data",
          "data": {
            "image/png": "[encoded data removed]",
            "text/plain": [
              "<Figure size 432x288 with 1 Axes>"
            ]
          },
          "metadata": {
            "tags": []
          }
        }
      ]
    },
    {
      "cell_type": "markdown",
      "metadata": {
        "id": "MF8ky_EmQtON",
        "colab_type": "text"
      },
      "source": [
        "**Вывод** Результат улучшен на 2 процента, направление правильное, увеличим нейроны в следующих слоях в каждом блоке.\n",
        "\n",
        "`Epoch 36/4040000/40000 - 92s - loss: 0.0855 - acc: 0.9739 - val_loss: 0.5595 - val_acc: 0.8709\n",
        "```\n",
        "\n"
      ]
    },
    {
      "cell_type": "markdown",
      "metadata": {
        "id": "TAVfB1bcS7zG",
        "colab_type": "text"
      },
      "source": [
        "**4** увеличиваем колличество неронов в последующих слоях каждого блока."
      ]
    },
    {
      "cell_type": "code",
      "metadata": {
        "id": "-jvqB63pQp-x",
        "colab_type": "code",
        "colab": {
          "base_uri": "https://localhost:8080/",
          "height": 1000
        },
        "outputId": "a982a20e-720f-4943-be65-c5fa38cac20b"
      },
      "source": [
        "\n",
        "model = Sequential()\n",
        "#Слой пакетной нормализации\n",
        "model.add(BatchNormalization(input_shape=(32, 32, 3)))\n",
        "#Первый сверточный слой\n",
        "model.add(Conv2D( 1024, (3, 3), padding='same', activation='relu'))\n",
        "#Второй сверточный слой\n",
        "model.add(Conv2D( 1024, (3, 3), padding='same', activation='relu'))\n",
        "#Третий сверточный слой\n",
        "model.add(Conv2D( 512, (3, 3), padding='same', activation='relu'))\n",
        "#Первый слой подвыборки\n",
        "model.add(MaxPooling2D(pool_size=(2, 2)))\n",
        "#Слой регуляризации Dropout\n",
        "model.add(Dropout(0.35))\n",
        "\n",
        "#Слой пакетной нормализации\n",
        "model.add(BatchNormalization())\n",
        "#Четвертый сверточный слой\n",
        "model.add(Conv2D(512, (3, 3), padding='same', activation='relu'))\n",
        "#Пятый сверточный слой\n",
        "model.add(Conv2D(512, (3, 3), padding='same', activation='relu'))\n",
        "#Шестой сверточный слой\n",
        "model.add(Conv2D(256, (3, 3), padding='same', activation='relu'))\n",
        "#Второй слой подвыборки\n",
        "model.add(MaxPooling2D(pool_size=(2, 2)))\n",
        "#Слой регуляризации Dropout\n",
        "model.add(Dropout(0.35))\n",
        "\n",
        "#Слой пакетной нормализации\n",
        "model.add(BatchNormalization())\n",
        "#Седьмой сверточный слой\n",
        "model.add(Conv2D(256, (3, 3), padding='same', activation='relu'))\n",
        "#Восьмой сверточный слой\n",
        "model.add(Conv2D(256, (3, 3), padding='same', activation='relu'))\n",
        "#Девятый сверточный слой\n",
        "model.add(Conv2D(128, (3, 3), padding='same', activation='relu'))\n",
        "#Третий слой подвыборки\n",
        "model.add(MaxPooling2D(pool_size=(2, 2)))\n",
        "#Слой регуляризации Dropout\n",
        "model.add(Dropout(0.35))\n",
        "\n",
        "#Слой пакетной нормализации\n",
        "model.add(BatchNormalization())\n",
        "#Десятый сверточный слой\n",
        "model.add(Conv2D(128, (3, 3), padding='same', activation='relu'))\n",
        "#Одинацатый сверточный слой\n",
        "model.add(Conv2D(128, (3, 3), padding='same', activation='relu'))\n",
        "#Двенацатый сверточный слой\n",
        "model.add(Conv2D(64, (3, 3), padding='same', activation='relu'))\n",
        "#Четвертый слой подвыборки\n",
        "model.add(MaxPooling2D(pool_size=(2, 2)))\n",
        "#Слой регуляризации Dropout\n",
        "model.add(Dropout(0.35))\n",
        "#Слой преобразования данных из 2D представления в плоское\n",
        "model.add(Flatten())\n",
        "#Полносвязный слой для классификации\n",
        "model.add(Dense(512, activation='relu'))\n",
        "#Слой регуляризации Dropout\n",
        "model.add(Dropout(0.25))\n",
        "#Выходной полносвязный слой\n",
        "model.add(Dense(10, activation='softmax'))\n",
        "\n",
        "#Компилируем сеть\n",
        "model.compile(loss=\"categorical_crossentropy\", optimizer=\"adam\", metrics=[\"accuracy\"])\n",
        "\n",
        "#Обучаем сеть на данных cifar10\n",
        "history = model.fit(x_train10, \n",
        "                    y_train10, \n",
        "                    batch_size=batch_size, \n",
        "                    epochs=40,\n",
        "                    validation_split=0.2,\n",
        "                    verbose=2)\n",
        "\n",
        "#Оображаем график точности обучения\n",
        "plt.plot(history.history['acc'], \n",
        "         label='Доля верных ответов на обучающем наборе')\n",
        "plt.plot(history.history['val_acc'], \n",
        "         label='Доля верных ответов на проверочном наборе')\n",
        "plt.xlabel('Эпоха обучения')\n",
        "plt.ylabel('Доля верных ответов')\n",
        "plt.legend()\n",
        "plt.show()"
      ],
      "execution_count": 10,
      "outputs": [
        {
          "output_type": "stream",
          "text": [
            "Train on 40000 samples, validate on 10000 samples\n",
            "Epoch 1/40\n",
            "40000/40000 - 161s - loss: 1.8480 - acc: 0.3079 - val_loss: 2.0540 - val_acc: 0.3664\n",
            "Epoch 2/40\n",
            "40000/40000 - 156s - loss: 1.4378 - acc: 0.4739 - val_loss: 1.3473 - val_acc: 0.5219\n",
            "Epoch 3/40\n",
            "40000/40000 - 156s - loss: 1.1961 - acc: 0.5699 - val_loss: 1.2161 - val_acc: 0.5747\n",
            "Epoch 4/40\n",
            "40000/40000 - 156s - loss: 1.0272 - acc: 0.6323 - val_loss: 0.9687 - val_acc: 0.6633\n",
            "Epoch 5/40\n",
            "40000/40000 - 156s - loss: 0.8994 - acc: 0.6855 - val_loss: 0.9166 - val_acc: 0.6857\n",
            "Epoch 6/40\n",
            "40000/40000 - 156s - loss: 0.8015 - acc: 0.7226 - val_loss: 0.8779 - val_acc: 0.6984\n",
            "Epoch 7/40\n",
            "40000/40000 - 156s - loss: 0.7113 - acc: 0.7570 - val_loss: 0.8922 - val_acc: 0.7056\n",
            "Epoch 8/40\n",
            "40000/40000 - 156s - loss: 0.6366 - acc: 0.7843 - val_loss: 0.6539 - val_acc: 0.7760\n",
            "Epoch 9/40\n",
            "40000/40000 - 156s - loss: 0.5734 - acc: 0.8048 - val_loss: 0.7742 - val_acc: 0.7577\n",
            "Epoch 10/40\n",
            "40000/40000 - 156s - loss: 0.5174 - acc: 0.8254 - val_loss: 0.6305 - val_acc: 0.7866\n",
            "Epoch 11/40\n",
            "40000/40000 - 156s - loss: 0.4712 - acc: 0.8390 - val_loss: 0.5813 - val_acc: 0.8048\n",
            "Epoch 12/40\n",
            "40000/40000 - 156s - loss: 0.4257 - acc: 0.8572 - val_loss: 0.5390 - val_acc: 0.8288\n",
            "Epoch 13/40\n",
            "40000/40000 - 156s - loss: 0.3931 - acc: 0.8676 - val_loss: 0.5532 - val_acc: 0.8223\n",
            "Epoch 14/40\n",
            "40000/40000 - 156s - loss: 0.3534 - acc: 0.8821 - val_loss: 0.5099 - val_acc: 0.8347\n",
            "Epoch 15/40\n",
            "40000/40000 - 156s - loss: 0.3197 - acc: 0.8945 - val_loss: 0.5449 - val_acc: 0.8346\n",
            "Epoch 16/40\n",
            "40000/40000 - 156s - loss: 0.2826 - acc: 0.9043 - val_loss: 0.5268 - val_acc: 0.8385\n",
            "Epoch 17/40\n",
            "40000/40000 - 156s - loss: 0.2596 - acc: 0.9129 - val_loss: 0.5079 - val_acc: 0.8489\n",
            "Epoch 18/40\n",
            "40000/40000 - 156s - loss: 0.2400 - acc: 0.9197 - val_loss: 0.5337 - val_acc: 0.8454\n",
            "Epoch 19/40\n",
            "40000/40000 - 156s - loss: 0.2166 - acc: 0.9269 - val_loss: 0.5340 - val_acc: 0.8472\n",
            "Epoch 20/40\n",
            "40000/40000 - 156s - loss: 0.2023 - acc: 0.9328 - val_loss: 0.5414 - val_acc: 0.8514\n",
            "Epoch 21/40\n",
            "40000/40000 - 156s - loss: 0.1772 - acc: 0.9414 - val_loss: 0.5742 - val_acc: 0.8503\n",
            "Epoch 22/40\n",
            "40000/40000 - 156s - loss: 0.1612 - acc: 0.9474 - val_loss: 0.5710 - val_acc: 0.8429\n",
            "Epoch 23/40\n",
            "40000/40000 - 156s - loss: 0.1576 - acc: 0.9482 - val_loss: 0.5863 - val_acc: 0.8496\n",
            "Epoch 24/40\n",
            "40000/40000 - 156s - loss: 0.1421 - acc: 0.9546 - val_loss: 0.5417 - val_acc: 0.8588\n",
            "Epoch 25/40\n",
            "40000/40000 - 156s - loss: 0.1339 - acc: 0.9568 - val_loss: 0.5194 - val_acc: 0.8559\n",
            "Epoch 26/40\n",
            "40000/40000 - 156s - loss: 0.1219 - acc: 0.9607 - val_loss: 0.5965 - val_acc: 0.8626\n",
            "Epoch 27/40\n",
            "40000/40000 - 156s - loss: 0.1124 - acc: 0.9638 - val_loss: 0.6037 - val_acc: 0.8536\n",
            "Epoch 28/40\n",
            "40000/40000 - 156s - loss: 0.1096 - acc: 0.9635 - val_loss: 0.5900 - val_acc: 0.8546\n",
            "Epoch 29/40\n",
            "40000/40000 - 156s - loss: 0.1065 - acc: 0.9661 - val_loss: 0.6147 - val_acc: 0.8469\n",
            "Epoch 30/40\n",
            "40000/40000 - 156s - loss: 0.0954 - acc: 0.9696 - val_loss: 0.6720 - val_acc: 0.8587\n",
            "Epoch 31/40\n",
            "40000/40000 - 156s - loss: 0.0951 - acc: 0.9690 - val_loss: 0.5684 - val_acc: 0.8631\n",
            "Epoch 32/40\n",
            "40000/40000 - 156s - loss: 0.0914 - acc: 0.9709 - val_loss: 0.6685 - val_acc: 0.8618\n",
            "Epoch 33/40\n",
            "40000/40000 - 156s - loss: 0.0903 - acc: 0.9718 - val_loss: 0.5877 - val_acc: 0.8681\n",
            "Epoch 34/40\n",
            "40000/40000 - 156s - loss: 0.0809 - acc: 0.9751 - val_loss: 0.6212 - val_acc: 0.8649\n",
            "Epoch 35/40\n",
            "40000/40000 - 156s - loss: 0.0770 - acc: 0.9758 - val_loss: 0.5929 - val_acc: 0.8640\n",
            "Epoch 36/40\n",
            "40000/40000 - 156s - loss: 0.0744 - acc: 0.9765 - val_loss: 0.6412 - val_acc: 0.8692\n",
            "Epoch 37/40\n",
            "40000/40000 - 156s - loss: 0.0768 - acc: 0.9756 - val_loss: 0.6490 - val_acc: 0.8676\n",
            "Epoch 38/40\n",
            "40000/40000 - 156s - loss: 0.0694 - acc: 0.9778 - val_loss: 0.6813 - val_acc: 0.8648\n",
            "Epoch 39/40\n",
            "40000/40000 - 156s - loss: 0.0676 - acc: 0.9790 - val_loss: 0.6634 - val_acc: 0.8622\n",
            "Epoch 40/40\n",
            "40000/40000 - 156s - loss: 0.0628 - acc: 0.9805 - val_loss: 0.6972 - val_acc: 0.8637\n"
          ],
          "name": "stdout"
        },
        {
          "output_type": "display_data",
          "data": {
            "image/png": "[encoded data removed]",
            "text/plain": [
              "<Figure size 432x288 with 1 Axes>"
            ]
          },
          "metadata": {
            "tags": []
          }
        }
      ]
    },
    {
      "cell_type": "markdown",
      "metadata": {
        "id": "m66Qc6bBURgV",
        "colab_type": "text"
      },
      "source": [
        "**Вывод**. Увеличение нейронов во вторых слоях каждого блока не влияет на результат обучения сети\n",
        "\n",
        "```\n",
        "Epoch 36/40\n",
        "40000/40000 - 156s - loss: 0.0744 - acc: 0.9765 - val_loss: 0.6412 - val_acc: 0.8692\n",
        "```\n",
        "\n"
      ]
    },
    {
      "cell_type": "markdown",
      "metadata": {
        "id": "YH0PfMTsVOxx",
        "colab_type": "text"
      },
      "source": [
        "**5** **Запускаем** две сетки одна с увеличерием dropout 0,45, другая с уменьшением 0,25"
      ]
    },
    {
      "cell_type": "markdown",
      "metadata": {
        "id": "7Ek3LFL1Tr6M",
        "colab_type": "text"
      },
      "source": [
        " **Вывод**: увеличение не меняет результат получен 0.8671 при dropout 0,45; уменьшение dropout 0,25 тоже не меняет результат в лучшую сторну 0.8664"
      ]
    },
    {
      "cell_type": "markdown",
      "metadata": {
        "id": "RfBjoMq5KNhu",
        "colab_type": "text"
      },
      "source": [
        "**6** **Меняем количество слоев**                                                     \n",
        "\n",
        "\n"
      ]
    },
    {
      "cell_type": "markdown",
      "metadata": {
        "id": "c3bLk8CCiQly",
        "colab_type": "text"
      },
      "source": [
        "**6.1** добавим в каждый блок еще по одному сверточному слою.\n"
      ]
    },
    {
      "cell_type": "markdown",
      "metadata": {
        "id": "7IXhTP6Ywgg-",
        "colab_type": "text"
      },
      "source": [
        "**результат ** уменьшился val_acc: 0.8272"
      ]
    },
    {
      "cell_type": "markdown",
      "metadata": {
        "id": "d56xF9NLwtbT",
        "colab_type": "text"
      },
      "source": [
        "**6.2**. каждый блок уменьшаем на один сверточный слой"
      ]
    },
    {
      "cell_type": "code",
      "metadata": {
        "id": "na4YiOTvKO1m",
        "colab_type": "code",
        "colab": {
          "base_uri": "https://localhost:8080/",
          "height": 1000
        },
        "outputId": "19b9a8ce-2e20-475a-d009-30812eb40a1e"
      },
      "source": [
        "\n",
        "model = Sequential()\n",
        "#Слой пакетной нормализации\n",
        "model.add(BatchNormalization(input_shape=(32, 32, 3)))\n",
        "#Первый сверточный слой\n",
        "model.add(Conv2D( 1024, (3, 3), padding='same', activation='relu'))\n",
        "#Второй сверточный слой\n",
        "model.add(Conv2D( 512, (3, 3), padding='same', activation='relu'))\n",
        "#Первый слой подвыборки\n",
        "model.add(MaxPooling2D(pool_size=(2, 2)))\n",
        "#Слой регуляризации Dropout\n",
        "model.add(Dropout(0.35))\n",
        "\n",
        "#Слой пакетной нормализации\n",
        "model.add(BatchNormalization())\n",
        "#Четвертый сверточный слой\n",
        "model.add(Conv2D(512, (3, 3), padding='same', activation='relu'))\n",
        "#Пятый сверточный слой\n",
        "model.add(Conv2D(256, (3, 3), padding='same', activation='relu'))\n",
        "#Второй слой подвыборки\n",
        "model.add(MaxPooling2D(pool_size=(2, 2)))\n",
        "#Слой регуляризации Dropout\n",
        "model.add(Dropout(0.35))\n",
        "\n",
        "#Слой пакетной нормализации\n",
        "model.add(BatchNormalization())\n",
        "#Седьмой сверточный слой\n",
        "model.add(Conv2D(256, (3, 3), padding='same', activation='relu'))\n",
        "#Восьмой сверточный слой\n",
        "model.add(Conv2D(128, (3, 3), padding='same', activation='relu'))\n",
        "#Третий слой подвыборки\n",
        "model.add(MaxPooling2D(pool_size=(2, 2)))\n",
        "#Слой регуляризации Dropout\n",
        "model.add(Dropout(0.35))\n",
        "\n",
        "#Слой пакетной нормализации\n",
        "model.add(BatchNormalization())\n",
        "#Десятый сверточный слой\n",
        "model.add(Conv2D(128, (3, 3), padding='same', activation='relu'))\n",
        "#Одинацатый сверточный слой\n",
        "model.add(Conv2D(64, (3, 3), padding='same', activation='relu'))\n",
        "#Четвертый слой подвыборки\n",
        "model.add(MaxPooling2D(pool_size=(2, 2)))\n",
        "#Слой регуляризации Dropout\n",
        "model.add(Dropout(0.35))\n",
        "#Слой преобразования данных из 2D представления в плоское\n",
        "model.add(Flatten())\n",
        "#Полносвязный слой для классификации\n",
        "model.add(Dense(512, activation='relu'))\n",
        "#Слой регуляризации Dropout\n",
        "model.add(Dropout(0.35))\n",
        "#Выходной полносвязный слой\n",
        "model.add(Dense(10, activation='softmax'))\n",
        "\n",
        "#Компилируем сеть\n",
        "model.compile(loss=\"categorical_crossentropy\", optimizer=\"adam\", metrics=[\"accuracy\"])\n",
        "\n",
        "#Обучаем сеть на данных cifar10\n",
        "history = model.fit(x_train10, \n",
        "                    y_train10, \n",
        "                    batch_size=batch_size, \n",
        "                    epochs=40,\n",
        "                    validation_split=0.2,\n",
        "                    verbose=2)\n",
        "\n",
        "#Оображаем график точности обучения\n",
        "plt.plot(history.history['acc'], \n",
        "         label='Доля верных ответов на обучающем наборе')\n",
        "plt.plot(history.history['val_acc'], \n",
        "         label='Доля верных ответов на проверочном наборе')\n",
        "plt.xlabel('Эпоха обучения')\n",
        "plt.ylabel('Доля верных ответов')\n",
        "plt.legend()\n",
        "plt.show()"
      ],
      "execution_count": 14,
      "outputs": [
        {
          "output_type": "stream",
          "text": [
            "Train on 40000 samples, validate on 10000 samples\n",
            "Epoch 1/40\n",
            "40000/40000 - 67s - loss: 1.6787 - acc: 0.3734 - val_loss: 1.3054 - val_acc: 0.5144\n",
            "Epoch 2/40\n",
            "40000/40000 - 66s - loss: 1.2049 - acc: 0.5688 - val_loss: 1.1370 - val_acc: 0.5989\n",
            "Epoch 3/40\n",
            "40000/40000 - 66s - loss: 0.9637 - acc: 0.6615 - val_loss: 0.8799 - val_acc: 0.6879\n",
            "Epoch 4/40\n",
            "40000/40000 - 66s - loss: 0.8265 - acc: 0.7142 - val_loss: 0.8953 - val_acc: 0.6919\n",
            "Epoch 5/40\n",
            "40000/40000 - 66s - loss: 0.7191 - acc: 0.7548 - val_loss: 0.8181 - val_acc: 0.7255\n",
            "Epoch 6/40\n",
            "40000/40000 - 66s - loss: 0.6438 - acc: 0.7817 - val_loss: 0.7030 - val_acc: 0.7662\n",
            "Epoch 7/40\n",
            "40000/40000 - 66s - loss: 0.5783 - acc: 0.8020 - val_loss: 0.6121 - val_acc: 0.7944\n",
            "Epoch 8/40\n",
            "40000/40000 - 66s - loss: 0.5170 - acc: 0.8256 - val_loss: 0.6081 - val_acc: 0.7943\n",
            "Epoch 9/40\n",
            "40000/40000 - 66s - loss: 0.4863 - acc: 0.8354 - val_loss: 0.5399 - val_acc: 0.8179\n",
            "Epoch 10/40\n",
            "40000/40000 - 66s - loss: 0.4317 - acc: 0.8555 - val_loss: 0.5397 - val_acc: 0.8280\n",
            "Epoch 11/40\n",
            "40000/40000 - 66s - loss: 0.4031 - acc: 0.8635 - val_loss: 0.4987 - val_acc: 0.8400\n",
            "Epoch 12/40\n",
            "40000/40000 - 66s - loss: 0.3721 - acc: 0.8761 - val_loss: 0.4512 - val_acc: 0.8519\n",
            "Epoch 13/40\n",
            "40000/40000 - 66s - loss: 0.3340 - acc: 0.8881 - val_loss: 0.5565 - val_acc: 0.8344\n",
            "Epoch 14/40\n",
            "40000/40000 - 66s - loss: 0.3169 - acc: 0.8914 - val_loss: 0.5493 - val_acc: 0.8390\n",
            "Epoch 15/40\n",
            "40000/40000 - 66s - loss: 0.2959 - acc: 0.9002 - val_loss: 0.4735 - val_acc: 0.8498\n",
            "Epoch 16/40\n",
            "40000/40000 - 66s - loss: 0.2732 - acc: 0.9076 - val_loss: 0.4748 - val_acc: 0.8518\n",
            "Epoch 17/40\n",
            "40000/40000 - 66s - loss: 0.2508 - acc: 0.9184 - val_loss: 0.4974 - val_acc: 0.8534\n",
            "Epoch 18/40\n",
            "40000/40000 - 66s - loss: 0.2377 - acc: 0.9222 - val_loss: 0.4944 - val_acc: 0.8514\n",
            "Epoch 19/40\n",
            "40000/40000 - 66s - loss: 0.2175 - acc: 0.9265 - val_loss: 0.4971 - val_acc: 0.8597\n",
            "Epoch 20/40\n",
            "40000/40000 - 66s - loss: 0.2127 - acc: 0.9277 - val_loss: 0.4798 - val_acc: 0.8571\n",
            "Epoch 21/40\n",
            "40000/40000 - 66s - loss: 0.1964 - acc: 0.9349 - val_loss: 0.5056 - val_acc: 0.8572\n",
            "Epoch 22/40\n",
            "40000/40000 - 66s - loss: 0.1880 - acc: 0.9376 - val_loss: 0.5343 - val_acc: 0.8519\n",
            "Epoch 23/40\n",
            "40000/40000 - 66s - loss: 0.1745 - acc: 0.9427 - val_loss: 0.5101 - val_acc: 0.8570\n",
            "Epoch 24/40\n",
            "40000/40000 - 66s - loss: 0.1626 - acc: 0.9470 - val_loss: 0.5237 - val_acc: 0.8584\n",
            "Epoch 25/40\n",
            "40000/40000 - 66s - loss: 0.1579 - acc: 0.9469 - val_loss: 0.5537 - val_acc: 0.8544\n",
            "Epoch 26/40\n",
            "40000/40000 - 66s - loss: 0.1552 - acc: 0.9495 - val_loss: 0.6251 - val_acc: 0.8523\n",
            "Epoch 27/40\n",
            "40000/40000 - 66s - loss: 0.1502 - acc: 0.9517 - val_loss: 0.4953 - val_acc: 0.8640\n",
            "Epoch 28/40\n",
            "40000/40000 - 66s - loss: 0.1364 - acc: 0.9556 - val_loss: 0.5202 - val_acc: 0.8683\n",
            "Epoch 29/40\n",
            "40000/40000 - 66s - loss: 0.1354 - acc: 0.9569 - val_loss: 0.5383 - val_acc: 0.8631\n",
            "Epoch 30/40\n",
            "40000/40000 - 66s - loss: 0.1290 - acc: 0.9568 - val_loss: 0.4990 - val_acc: 0.8745\n",
            "Epoch 31/40\n",
            "40000/40000 - 66s - loss: 0.1244 - acc: 0.9606 - val_loss: 0.5025 - val_acc: 0.8748\n",
            "Epoch 32/40\n",
            "40000/40000 - 66s - loss: 0.1206 - acc: 0.9609 - val_loss: 0.5862 - val_acc: 0.8551\n",
            "Epoch 33/40\n",
            "40000/40000 - 66s - loss: 0.1131 - acc: 0.9623 - val_loss: 0.5116 - val_acc: 0.8710\n",
            "Epoch 34/40\n",
            "40000/40000 - 66s - loss: 0.1102 - acc: 0.9649 - val_loss: 0.5430 - val_acc: 0.8679\n",
            "Epoch 35/40\n",
            "40000/40000 - 66s - loss: 0.1042 - acc: 0.9661 - val_loss: 0.5681 - val_acc: 0.8707\n",
            "Epoch 36/40\n",
            "40000/40000 - 66s - loss: 0.0966 - acc: 0.9683 - val_loss: 0.5311 - val_acc: 0.8748\n",
            "Epoch 37/40\n",
            "40000/40000 - 66s - loss: 0.1054 - acc: 0.9666 - val_loss: 0.5251 - val_acc: 0.8716\n",
            "Epoch 38/40\n",
            "40000/40000 - 66s - loss: 0.0941 - acc: 0.9708 - val_loss: 0.5601 - val_acc: 0.8634\n",
            "Epoch 39/40\n",
            "40000/40000 - 66s - loss: 0.0935 - acc: 0.9687 - val_loss: 0.5610 - val_acc: 0.8731\n",
            "Epoch 40/40\n",
            "40000/40000 - 66s - loss: 0.0964 - acc: 0.9691 - val_loss: 0.5037 - val_acc: 0.8747\n"
          ],
          "name": "stdout"
        },
        {
          "output_type": "display_data",
          "data": {
            "image/png": "[encoded data removed]",
            "text/plain": [
              "<Figure size 432x288 with 1 Axes>"
            ]
          },
          "metadata": {
            "tags": []
          }
        }
      ]
    },
    {
      "cell_type": "markdown",
      "metadata": {
        "id": "IZCTWV4kieOn",
        "colab_type": "text"
      },
      "source": [
        "**вывод**   Уменьшение сверточного слоя на один в каждом блоке улучшило результат val_acc: 0.8747"
      ]
    },
    {
      "cell_type": "markdown",
      "metadata": {
        "id": "wxh2kQdtNc7a",
        "colab_type": "text"
      },
      "source": [
        "**7** **Вариант** увеличения колличества блоков, Нейронная сеть с 5 блоками, пятый блок с 32 нейронами в слое на выходе из нейро сети."
      ]
    },
    {
      "cell_type": "markdown",
      "metadata": {
        "id": "34GL3jL3zMmQ",
        "colab_type": "text"
      },
      "source": [
        "**Вывод**   - результат обучения немного понизился val_acc: 0.8697\n"
      ]
    },
    {
      "cell_type": "markdown",
      "metadata": {
        "id": "JsFA-0pFOPQI",
        "colab_type": "text"
      },
      "source": [
        "**8** Нейронная сеть с 5 блоками , блок добавляем в начале сетки первый слой 2048 нейронов"
      ]
    },
    {
      "cell_type": "code",
      "metadata": {
        "id": "Te1wbhamZaTx",
        "colab_type": "code",
        "colab": {
          "base_uri": "https://localhost:8080/",
          "height": 1000
        },
        "outputId": "08b0c26f-5fde-4771-bfb6-428806fa601e"
      },
      "source": [
        "model = Sequential()\n",
        "\n",
        "#Слой пакетной нормализации\n",
        "model.add(BatchNormalization(input_shape=(32, 32, 3)))\n",
        "#Первый сверточный слой\n",
        "model.add(Conv2D( 2048, (3, 3), padding='same', activation='relu'))\n",
        "#Второй сверточный слой\n",
        "model.add(Conv2D( 1024, (3, 3), padding='same', activation='relu'))\n",
        "#Первый слой подвыборки\n",
        "model.add(MaxPooling2D(pool_size=(2, 2)))\n",
        "#Слой регуляризации Dropout\n",
        "model.add(Dropout(0.35))\n",
        "\n",
        "#Слой пакетной нормализации\n",
        "model.add(BatchNormalization())\n",
        "#Добавочный сверточный слой\n",
        "model.add(Conv2D(1024, (3, 3), padding='same', activation='relu'))\n",
        "#второй добавочный сверточный слой\n",
        "model.add(Conv2D(512, (3, 3), padding='same', activation='relu'))\n",
        "#добавочный слой подвыборки\n",
        "model.add(MaxPooling2D(pool_size=(2, 2)))\n",
        "#Слой регуляризации Dropout\n",
        "model.add(Dropout(0.35))\n",
        "\n",
        "#Слой пакетной нормализации\n",
        "model.add(BatchNormalization())\n",
        "#Четвертый сверточный слой\n",
        "model.add(Conv2D(512, (3, 3), padding='same', activation='relu'))\n",
        "#Пятый сверточный слой\n",
        "model.add(Conv2D(256, (3, 3), padding='same', activation='relu'))\n",
        "#Второй слой подвыборки\n",
        "model.add(MaxPooling2D(pool_size=(2, 2)))\n",
        "#Слой регуляризации Dropout\n",
        "model.add(Dropout(0.35))\n",
        "\n",
        "#Слой пакетной нормализации\n",
        "model.add(BatchNormalization())\n",
        "#Седьмой сверточный слой\n",
        "model.add(Conv2D(256, (3, 3), padding='same', activation='relu'))\n",
        "#Восьмой сверточный слой\n",
        "model.add(Conv2D(128, (3, 3), padding='same', activation='relu'))\n",
        "#Третий слой подвыборки\n",
        "model.add(MaxPooling2D(pool_size=(2, 2)))\n",
        "#Слой регуляризации Dropout\n",
        "model.add(Dropout(0.35))\n",
        "\n",
        "#Слой пакетной нормализации\n",
        "model.add(BatchNormalization())\n",
        "#Десятый сверточный слой\n",
        "model.add(Conv2D(128, (3, 3), padding='same', activation='relu'))\n",
        "#Одинацатый сверточный слой\n",
        "model.add(Conv2D(64, (3, 3), padding='same', activation='relu'))\n",
        "#Четвертый слой подвыборки\n",
        "model.add(MaxPooling2D(pool_size=(2, 2)))\n",
        "#Слой регуляризации Dropout\n",
        "model.add(Dropout(0.35))\n",
        "#Слой преобразования данных из 2D представления в плоское\n",
        "model.add(Flatten())\n",
        "#Полносвязный слой для классификации\n",
        "model.add(Dense(512, activation='relu'))\n",
        "#Слой регуляризации Dropout\n",
        "model.add(Dropout(0.35))\n",
        "#Выходной полносвязный слой\n",
        "model.add(Dense(10, activation='softmax'))\n",
        "\n",
        "#Компилируем сеть\n",
        "model.compile(loss=\"categorical_crossentropy\", optimizer=\"adam\", metrics=[\"accuracy\"])\n",
        "\n",
        "#Обучаем сеть на данных cifar10\n",
        "history = model.fit(x_train10, \n",
        "                    y_train10, \n",
        "                    batch_size=batch_size, \n",
        "                    epochs=40,\n",
        "                    validation_split=0.2,\n",
        "                    verbose=2)\n",
        "\n",
        "#Оображаем график точности обучения\n",
        "plt.plot(history.history['acc'], \n",
        "         label='Доля верных ответов на обучающем наборе')\n",
        "plt.plot(history.history['val_acc'], \n",
        "         label='Доля верных ответов на проверочном наборе')\n",
        "plt.xlabel('Эпоха обучения')\n",
        "plt.ylabel('Доля верных ответов')\n",
        "plt.legend()\n",
        "plt.show()"
      ],
      "execution_count": 20,
      "outputs": [
        {
          "output_type": "stream",
          "text": [
            "Train on 40000 samples, validate on 10000 samples\n",
            "Epoch 1/40\n",
            "40000/40000 - 228s - loss: 1.7610 - acc: 0.3330 - val_loss: 1.6125 - val_acc: 0.4243\n",
            "Epoch 2/40\n",
            "40000/40000 - 215s - loss: 1.2711 - acc: 0.5430 - val_loss: 1.1616 - val_acc: 0.5951\n",
            "Epoch 3/40\n",
            "40000/40000 - 216s - loss: 0.9963 - acc: 0.6547 - val_loss: 0.8527 - val_acc: 0.7022\n",
            "Epoch 4/40\n",
            "40000/40000 - 215s - loss: 0.8442 - acc: 0.7151 - val_loss: 0.7736 - val_acc: 0.7373\n",
            "Epoch 5/40\n",
            "40000/40000 - 215s - loss: 0.7224 - acc: 0.7636 - val_loss: 0.7827 - val_acc: 0.7386\n",
            "Epoch 6/40\n",
            "40000/40000 - 215s - loss: 0.6260 - acc: 0.7926 - val_loss: 0.6629 - val_acc: 0.7816\n",
            "Epoch 7/40\n",
            "40000/40000 - 215s - loss: 0.5543 - acc: 0.8205 - val_loss: 0.5902 - val_acc: 0.8055\n",
            "Epoch 8/40\n",
            "40000/40000 - 215s - loss: 0.4940 - acc: 0.8394 - val_loss: 0.5474 - val_acc: 0.8210\n",
            "Epoch 9/40\n",
            "40000/40000 - 215s - loss: 0.4369 - acc: 0.8580 - val_loss: 0.5298 - val_acc: 0.8244\n",
            "Epoch 10/40\n",
            "40000/40000 - 215s - loss: 0.3914 - acc: 0.8753 - val_loss: 0.4967 - val_acc: 0.8390\n",
            "Epoch 11/40\n",
            "40000/40000 - 215s - loss: 0.3502 - acc: 0.8886 - val_loss: 0.5477 - val_acc: 0.8260\n",
            "Epoch 12/40\n",
            "40000/40000 - 215s - loss: 0.3107 - acc: 0.9013 - val_loss: 0.5003 - val_acc: 0.8395\n",
            "Epoch 13/40\n",
            "40000/40000 - 215s - loss: 0.2784 - acc: 0.9098 - val_loss: 0.5232 - val_acc: 0.8336\n",
            "Epoch 14/40\n",
            "40000/40000 - 215s - loss: 0.2537 - acc: 0.9194 - val_loss: 0.5052 - val_acc: 0.8427\n",
            "Epoch 15/40\n",
            "40000/40000 - 215s - loss: 0.2346 - acc: 0.9264 - val_loss: 0.5231 - val_acc: 0.8407\n",
            "Epoch 16/40\n",
            "40000/40000 - 215s - loss: 0.2072 - acc: 0.9350 - val_loss: 0.4607 - val_acc: 0.8562\n",
            "Epoch 17/40\n",
            "40000/40000 - 215s - loss: 0.1816 - acc: 0.9428 - val_loss: 0.5134 - val_acc: 0.8520\n",
            "Epoch 18/40\n",
            "40000/40000 - 215s - loss: 0.1663 - acc: 0.9476 - val_loss: 0.4846 - val_acc: 0.8580\n",
            "Epoch 19/40\n",
            "40000/40000 - 215s - loss: 0.1541 - acc: 0.9521 - val_loss: 0.5028 - val_acc: 0.8544\n",
            "Epoch 20/40\n",
            "40000/40000 - 215s - loss: 0.1415 - acc: 0.9567 - val_loss: 0.4689 - val_acc: 0.8647\n",
            "Epoch 21/40\n",
            "40000/40000 - 215s - loss: 0.1408 - acc: 0.9565 - val_loss: 0.4575 - val_acc: 0.8671\n",
            "Epoch 22/40\n",
            "40000/40000 - 215s - loss: 0.1273 - acc: 0.9596 - val_loss: 0.5086 - val_acc: 0.8624\n",
            "Epoch 23/40\n",
            "40000/40000 - 215s - loss: 0.1082 - acc: 0.9674 - val_loss: 0.5660 - val_acc: 0.8520\n",
            "Epoch 24/40\n",
            "40000/40000 - 215s - loss: 0.1099 - acc: 0.9662 - val_loss: 0.5098 - val_acc: 0.8661\n",
            "Epoch 25/40\n",
            "40000/40000 - 215s - loss: 0.1029 - acc: 0.9686 - val_loss: 0.5023 - val_acc: 0.8577\n",
            "Epoch 26/40\n",
            "40000/40000 - 215s - loss: 0.1015 - acc: 0.9691 - val_loss: 0.5496 - val_acc: 0.8656\n",
            "Epoch 27/40\n",
            "40000/40000 - 215s - loss: 0.0908 - acc: 0.9729 - val_loss: 0.5265 - val_acc: 0.8661\n",
            "Epoch 28/40\n",
            "40000/40000 - 215s - loss: 0.0901 - acc: 0.9724 - val_loss: 0.5060 - val_acc: 0.8696\n",
            "Epoch 29/40\n",
            "40000/40000 - 215s - loss: 0.0831 - acc: 0.9755 - val_loss: 0.4939 - val_acc: 0.8741\n",
            "Epoch 30/40\n",
            "40000/40000 - 215s - loss: 0.0816 - acc: 0.9757 - val_loss: 0.5369 - val_acc: 0.8677\n",
            "Epoch 31/40\n",
            "40000/40000 - 215s - loss: 0.0806 - acc: 0.9761 - val_loss: 0.5346 - val_acc: 0.8645\n",
            "Epoch 32/40\n",
            "40000/40000 - 215s - loss: 0.0746 - acc: 0.9783 - val_loss: 0.5534 - val_acc: 0.8679\n",
            "Epoch 33/40\n",
            "40000/40000 - 215s - loss: 0.0754 - acc: 0.9776 - val_loss: 0.5201 - val_acc: 0.8688\n",
            "Epoch 34/40\n",
            "40000/40000 - 215s - loss: 0.0726 - acc: 0.9786 - val_loss: 0.4959 - val_acc: 0.8761\n",
            "Epoch 35/40\n",
            "40000/40000 - 215s - loss: 0.0678 - acc: 0.9804 - val_loss: 0.5171 - val_acc: 0.8775\n",
            "Epoch 36/40\n",
            "40000/40000 - 215s - loss: 0.0690 - acc: 0.9796 - val_loss: 0.5203 - val_acc: 0.8681\n",
            "Epoch 37/40\n",
            "40000/40000 - 215s - loss: 0.0634 - acc: 0.9819 - val_loss: 0.5094 - val_acc: 0.8755\n",
            "Epoch 38/40\n",
            "40000/40000 - 215s - loss: 0.0645 - acc: 0.9815 - val_loss: 0.5380 - val_acc: 0.8703\n",
            "Epoch 39/40\n",
            "40000/40000 - 215s - loss: 0.0521 - acc: 0.9846 - val_loss: 0.5993 - val_acc: 0.8715\n",
            "Epoch 40/40\n",
            "40000/40000 - 215s - loss: 0.0602 - acc: 0.9820 - val_loss: 0.5178 - val_acc: 0.8776\n"
          ],
          "name": "stdout"
        },
        {
          "output_type": "display_data",
          "data": {
            "image/png": "[encoded data removed]",
            "text/plain": [
              "<Figure size 432x288 with 1 Axes>"
            ]
          },
          "metadata": {
            "tags": []
          }
        }
      ]
    },
    {
      "cell_type": "markdown",
      "metadata": {
        "id": "MFaWHadJTiJ9",
        "colab_type": "text"
      },
      "source": [
        "**вывод**   Увеличение на один  блок в начале сетки улучшило результат на 0,003 - val_acc: 0.8776"
      ]
    },
    {
      "cell_type": "markdown",
      "metadata": {
        "id": "2L7hSzIpVl8L",
        "colab_type": "text"
      },
      "source": [
        "**8** Попробуем упростить сетку убрав по одному сверточному слою из 2,3,4.5 блоков\n",
        ", гипотеза в том что дополнителбные слои не влияют на качество обучения."
      ]
    },
    {
      "cell_type": "code",
      "metadata": {
        "id": "0mm5T-sPWjHL",
        "colab_type": "code",
        "colab": {
          "base_uri": "https://localhost:8080/",
          "height": 1000
        },
        "outputId": "6a75202b-9f6d-4699-ebaf-256e0bb69e06"
      },
      "source": [
        "model = Sequential()\n",
        "\n",
        "#Слой пакетной нормализации\n",
        "model.add(BatchNormalization(input_shape=(32, 32, 3)))\n",
        "#Первый сверточный слой\n",
        "model.add(Conv2D( 2048, (3, 3), padding='same', activation='relu'))\n",
        "#Второй сверточный слой\n",
        "model.add(Conv2D( 1024, (3, 3), padding='same', activation='relu'))\n",
        "#Первый слой подвыборки\n",
        "model.add(MaxPooling2D(pool_size=(2, 2)))\n",
        "#Слой регуляризации Dropout\n",
        "model.add(Dropout(0.35))\n",
        "\n",
        "#Слой пакетной нормализации\n",
        "model.add(BatchNormalization())\n",
        "# третий сверточный слой\n",
        "model.add(Conv2D(512, (3, 3), padding='same', activation='relu'))\n",
        "#добавочный слой подвыборки\n",
        "model.add(MaxPooling2D(pool_size=(2, 2)))\n",
        "#Слой регуляризации Dropout\n",
        "model.add(Dropout(0.35))\n",
        "\n",
        "#Слой пакетной нормализации\n",
        "model.add(BatchNormalization())\n",
        "#Пятый сверточный слой\n",
        "model.add(Conv2D(256, (3, 3), padding='same', activation='relu'))\n",
        "#Второй слой подвыборки\n",
        "model.add(MaxPooling2D(pool_size=(2, 2)))\n",
        "#Слой регуляризации Dropout\n",
        "model.add(Dropout(0.35))\n",
        "\n",
        "#Слой пакетной нормализации\n",
        "model.add(BatchNormalization())\n",
        "#Восьмой сверточный слой\n",
        "model.add(Conv2D(128, (3, 3), padding='same', activation='relu'))\n",
        "#Третий слой подвыборки\n",
        "model.add(MaxPooling2D(pool_size=(2, 2)))\n",
        "#Слой регуляризации Dropout\n",
        "model.add(Dropout(0.35))\n",
        "\n",
        "#Слой пакетной нормализации\n",
        "model.add(BatchNormalization())\n",
        "#Одинацатый сверточный слой\n",
        "model.add(Conv2D(64, (3, 3), padding='same', activation='relu'))\n",
        "#Четвертый слой подвыборки\n",
        "model.add(MaxPooling2D(pool_size=(2, 2)))\n",
        "#Слой регуляризации Dropout\n",
        "model.add(Dropout(0.35))\n",
        "#Слой преобразования данных из 2D представления в плоское\n",
        "model.add(Flatten())\n",
        "#Полносвязный слой для классификации\n",
        "model.add(Dense(512, activation='relu'))\n",
        "#Слой регуляризации Dropout\n",
        "model.add(Dropout(0.35))\n",
        "#Выходной полносвязный слой\n",
        "model.add(Dense(10, activation='softmax'))\n",
        "\n",
        "#Компилируем сеть\n",
        "model.compile(loss=\"categorical_crossentropy\", optimizer=\"adam\", metrics=[\"accuracy\"])\n",
        "\n",
        "#Обучаем сеть на данных cifar10\n",
        "history = model.fit(x_train10, \n",
        "                    y_train10, \n",
        "                    batch_size=batch_size, \n",
        "                    epochs=40,\n",
        "                    validation_split=0.2,\n",
        "                    verbose=2)\n",
        "\n",
        "#Оображаем график точности обучения\n",
        "plt.plot(history.history['acc'], \n",
        "         label='Доля верных ответов на обучающем наборе')\n",
        "plt.plot(history.history['val_acc'], \n",
        "         label='Доля верных ответов на проверочном наборе')\n",
        "plt.xlabel('Эпоха обучения')\n",
        "plt.ylabel('Доля верных ответов')\n",
        "plt.legend()\n",
        "plt.show()"
      ],
      "execution_count": 8,
      "outputs": [
        {
          "output_type": "stream",
          "text": [
            "WARNING:tensorflow:From /usr/local/lib/python3.6/dist-packages/tensorflow_core/python/ops/resource_variable_ops.py:1630: calling BaseResourceVariable.__init__ (from tensorflow.python.ops.resource_variable_ops) with constraint is deprecated and will be removed in a future version.\n",
            "Instructions for updating:\n",
            "If using Keras pass *_constraint arguments to layers.\n",
            "Train on 40000 samples, validate on 10000 samples\n",
            "Epoch 1/40\n",
            "40000/40000 - 208s - loss: 1.7282 - acc: 0.3477 - val_loss: 1.4395 - val_acc: 0.4676\n",
            "Epoch 2/40\n",
            "40000/40000 - 191s - loss: 1.2447 - acc: 0.5448 - val_loss: 1.1221 - val_acc: 0.5864\n",
            "Epoch 3/40\n",
            "40000/40000 - 191s - loss: 1.0154 - acc: 0.6384 - val_loss: 0.9786 - val_acc: 0.6599\n",
            "Epoch 4/40\n",
            "40000/40000 - 191s - loss: 0.8657 - acc: 0.6966 - val_loss: 0.7503 - val_acc: 0.7418\n",
            "Epoch 5/40\n",
            "40000/40000 - 191s - loss: 0.7528 - acc: 0.7425 - val_loss: 0.8214 - val_acc: 0.7177\n",
            "Epoch 6/40\n",
            "40000/40000 - 191s - loss: 0.6715 - acc: 0.7692 - val_loss: 0.6300 - val_acc: 0.7886\n",
            "Epoch 7/40\n",
            "40000/40000 - 191s - loss: 0.5943 - acc: 0.7986 - val_loss: 0.5578 - val_acc: 0.8160\n",
            "Epoch 8/40\n",
            "40000/40000 - 191s - loss: 0.5553 - acc: 0.8139 - val_loss: 0.6417 - val_acc: 0.7787\n",
            "Epoch 9/40\n",
            "40000/40000 - 191s - loss: 0.5008 - acc: 0.8321 - val_loss: 0.5767 - val_acc: 0.8081\n",
            "Epoch 10/40\n",
            "40000/40000 - 191s - loss: 0.4709 - acc: 0.8425 - val_loss: 0.4968 - val_acc: 0.8315\n",
            "Epoch 11/40\n",
            "40000/40000 - 191s - loss: 0.4371 - acc: 0.8557 - val_loss: 0.5806 - val_acc: 0.8047\n",
            "Epoch 12/40\n",
            "40000/40000 - 191s - loss: 0.4098 - acc: 0.8623 - val_loss: 0.4968 - val_acc: 0.8302\n",
            "Epoch 13/40\n",
            "40000/40000 - 191s - loss: 0.3867 - acc: 0.8717 - val_loss: 0.5576 - val_acc: 0.8147\n",
            "Epoch 14/40\n",
            "40000/40000 - 191s - loss: 0.3620 - acc: 0.8784 - val_loss: 0.5029 - val_acc: 0.8335\n",
            "Epoch 15/40\n",
            "40000/40000 - 191s - loss: 0.3442 - acc: 0.8865 - val_loss: 0.4572 - val_acc: 0.8464\n",
            "Epoch 16/40\n",
            "40000/40000 - 191s - loss: 0.3190 - acc: 0.8943 - val_loss: 0.4617 - val_acc: 0.8521\n",
            "Epoch 17/40\n",
            "40000/40000 - 191s - loss: 0.3111 - acc: 0.8956 - val_loss: 0.4685 - val_acc: 0.8459\n",
            "Epoch 18/40\n",
            "40000/40000 - 191s - loss: 0.2998 - acc: 0.9003 - val_loss: 0.4788 - val_acc: 0.8454\n",
            "Epoch 19/40\n",
            "40000/40000 - 191s - loss: 0.2826 - acc: 0.9064 - val_loss: 0.4635 - val_acc: 0.8508\n",
            "Epoch 20/40\n",
            "40000/40000 - 191s - loss: 0.2675 - acc: 0.9113 - val_loss: 0.4638 - val_acc: 0.8487\n",
            "Epoch 21/40\n",
            "40000/40000 - 191s - loss: 0.2507 - acc: 0.9175 - val_loss: 0.4392 - val_acc: 0.8588\n",
            "Epoch 22/40\n",
            "40000/40000 - 191s - loss: 0.2440 - acc: 0.9188 - val_loss: 0.4393 - val_acc: 0.8607\n",
            "Epoch 23/40\n",
            "40000/40000 - 191s - loss: 0.2347 - acc: 0.9221 - val_loss: 0.4592 - val_acc: 0.8507\n",
            "Epoch 24/40\n",
            "40000/40000 - 191s - loss: 0.2288 - acc: 0.9241 - val_loss: 0.4299 - val_acc: 0.8597\n",
            "Epoch 25/40\n",
            "40000/40000 - 191s - loss: 0.2151 - acc: 0.9287 - val_loss: 0.4620 - val_acc: 0.8591\n",
            "Epoch 26/40\n",
            "40000/40000 - 191s - loss: 0.2110 - acc: 0.9283 - val_loss: 0.4375 - val_acc: 0.8632\n",
            "Epoch 27/40\n",
            "40000/40000 - 191s - loss: 0.2039 - acc: 0.9313 - val_loss: 0.4664 - val_acc: 0.8533\n",
            "Epoch 28/40\n",
            "40000/40000 - 191s - loss: 0.1968 - acc: 0.9358 - val_loss: 0.4468 - val_acc: 0.8583\n",
            "Epoch 29/40\n",
            "40000/40000 - 191s - loss: 0.1913 - acc: 0.9365 - val_loss: 0.4556 - val_acc: 0.8605\n",
            "Epoch 30/40\n",
            "40000/40000 - 191s - loss: 0.1818 - acc: 0.9398 - val_loss: 0.4471 - val_acc: 0.8678\n",
            "Epoch 31/40\n",
            "40000/40000 - 191s - loss: 0.1732 - acc: 0.9427 - val_loss: 0.4433 - val_acc: 0.8658\n",
            "Epoch 32/40\n",
            "40000/40000 - 191s - loss: 0.1796 - acc: 0.9404 - val_loss: 0.4912 - val_acc: 0.8473\n",
            "Epoch 33/40\n",
            "40000/40000 - 191s - loss: 0.1702 - acc: 0.9453 - val_loss: 0.4587 - val_acc: 0.8629\n",
            "Epoch 34/40\n",
            "40000/40000 - 191s - loss: 0.1637 - acc: 0.9457 - val_loss: 0.4685 - val_acc: 0.8640\n",
            "Epoch 35/40\n",
            "40000/40000 - 191s - loss: 0.1566 - acc: 0.9496 - val_loss: 0.4492 - val_acc: 0.8703\n",
            "Epoch 36/40\n",
            "40000/40000 - 191s - loss: 0.1607 - acc: 0.9470 - val_loss: 0.4738 - val_acc: 0.8641\n",
            "Epoch 37/40\n",
            "40000/40000 - 191s - loss: 0.1493 - acc: 0.9514 - val_loss: 0.4345 - val_acc: 0.8645\n",
            "Epoch 38/40\n",
            "40000/40000 - 191s - loss: 0.1470 - acc: 0.9514 - val_loss: 0.4695 - val_acc: 0.8622\n",
            "Epoch 39/40\n",
            "40000/40000 - 191s - loss: 0.1455 - acc: 0.9527 - val_loss: 0.4599 - val_acc: 0.8653\n",
            "Epoch 40/40\n",
            "40000/40000 - 191s - loss: 0.1447 - acc: 0.9522 - val_loss: 0.4974 - val_acc: 0.8589\n"
          ],
          "name": "stdout"
        },
        {
          "output_type": "display_data",
          "data": {
            "image/png": "[encoded data removed]",
            "text/plain": [
              "<Figure size 432x288 with 1 Axes>"
            ]
          },
          "metadata": {
            "tags": []
          }
        }
      ]
    },
    {
      "cell_type": "markdown",
      "metadata": {
        "id": "Ip70T22EO2YF",
        "colab_type": "text"
      },
      "source": [
        "**Вывод**  Результат снизился на 0,007 возвращаем второй слой в каждый блок."
      ]
    },
    {
      "cell_type": "markdown",
      "metadata": {
        "id": "wRAW00D6PiHP",
        "colab_type": "text"
      },
      "source": [
        "**9** Добавляем еще один блок шестой на входе с увеличением колличества нейронов в первом слое в два раза."
      ]
    },
    {
      "cell_type": "code",
      "metadata": {
        "id": "8nyQs_vbP_9Y",
        "colab_type": "code",
        "colab": {
          "base_uri": "https://localhost:8080/",
          "height": 423
        },
        "outputId": "26651230-19d0-42ad-e32e-e7867828637a"
      },
      "source": [
        "model = Sequential()\n",
        "#Слой пакетной нормализации\n",
        "model.add(BatchNormalization(input_shape=(32, 32, 3)))\n",
        "#Первый сверточный слой\n",
        "model.add(Conv2D( 4096, (3, 3), padding='same', activation='relu'))\n",
        "#Второй сверточный слой\n",
        "model.add(Conv2D( 2048, (3, 3), padding='same', activation='relu'))\n",
        "#Первый слой подвыборки\n",
        "model.add(MaxPooling2D(pool_size=(2, 2)))\n",
        "#Слой регуляризации Dropout\n",
        "model.add(Dropout(0.35))\n",
        "\n",
        "#Слой пакетной нормализации\n",
        "model.add(BatchNormalization())\n",
        "#Добавочный сверточный слой\n",
        "model.add(Conv2D(2048, (3, 3), padding='same', activation='relu'))\n",
        "#второй добавочный сверточный слой\n",
        "model.add(Conv2D(1024, (3, 3), padding='same', activation='relu'))\n",
        "#добавочный слой подвыборки\n",
        "model.add(MaxPooling2D(pool_size=(2, 2)))\n",
        "#Слой регуляризации Dropout\n",
        "model.add(Dropout(0.35))\n",
        "\n",
        "#Слой пакетной нормализации\n",
        "model.add(BatchNormalization())\n",
        "#Добавочный сверточный слой\n",
        "model.add(Conv2D(1024, (3, 3), padding='same', activation='relu'))\n",
        "#второй добавочный сверточный слой\n",
        "model.add(Conv2D(512, (3, 3), padding='same', activation='relu'))\n",
        "#добавочный слой подвыборки\n",
        "model.add(MaxPooling2D(pool_size=(2, 2)))\n",
        "#Слой регуляризации Dropout\n",
        "model.add(Dropout(0.35))\n",
        "\n",
        "#Слой пакетной нормализации\n",
        "model.add(BatchNormalization())\n",
        "#Четвертый сверточный слой\n",
        "model.add(Conv2D(512, (3, 3), padding='same', activation='relu'))\n",
        "#Пятый сверточный слой\n",
        "model.add(Conv2D(256, (3, 3), padding='same', activation='relu'))\n",
        "#Второй слой подвыборки\n",
        "model.add(MaxPooling2D(pool_size=(2, 2)))\n",
        "#Слой регуляризации Dropout\n",
        "model.add(Dropout(0.35))\n",
        "\n",
        "#Слой пакетной нормализации\n",
        "model.add(BatchNormalization())\n",
        "#Седьмой сверточный слой\n",
        "model.add(Conv2D(256, (3, 3), padding='same', activation='relu'))\n",
        "#Восьмой сверточный слой\n",
        "model.add(Conv2D(128, (3, 3), padding='same', activation='relu'))\n",
        "#Третий слой подвыборки\n",
        "model.add(MaxPooling2D(pool_size=(2, 2)))\n",
        "#Слой регуляризации Dropout\n",
        "model.add(Dropout(0.35))\n",
        "\n",
        "#Слой пакетной нормализации\n",
        "model.add(BatchNormalization())\n",
        "#Десятый сверточный слой\n",
        "model.add(Conv2D(128, (3, 3), padding='same', activation='relu'))\n",
        "#Одинацатый сверточный слой\n",
        "model.add(Conv2D(64, (3, 3), padding='same', activation='relu'))\n",
        "#Четвертый слой подвыборки\n",
        "model.add(MaxPooling2D(pool_size=(2, 2)))\n",
        "#Слой регуляризации Dropout\n",
        "model.add(Dropout(0.35))\n",
        "#Слой преобразования данных из 2D представления в плоское\n",
        "model.add(Flatten())\n",
        "#Полносвязный слой для классификации\n",
        "model.add(Dense(512, activation='relu'))\n",
        "#Слой регуляризации Dropout\n",
        "model.add(Dropout(0.35))\n",
        "#Выходной полносвязный слой\n",
        "model.add(Dense(10, activation='softmax'))\n",
        "\n",
        "#Компилируем сеть\n",
        "model.compile(loss=\"categorical_crossentropy\", optimizer=\"adam\", metrics=[\"accuracy\"])\n",
        "\n",
        "#Обучаем сеть на данных cifar10\n",
        "history = model.fit(x_train10, \n",
        "                    y_train10, \n",
        "                    batch_size=batch_size, \n",
        "                    epochs=40,\n",
        "                    validation_split=0.2,\n",
        "                    verbose=2)\n",
        "\n",
        "#Оображаем график точности обучения\n",
        "plt.plot(history.history['acc'], \n",
        "         label='Доля верных ответов на обучающем наборе')\n",
        "plt.plot(history.history['val_acc'], \n",
        "         label='Доля верных ответов на проверочном наборе')\n",
        "plt.xlabel('Эпоха обучения')\n",
        "plt.ylabel('Доля верных ответов')\n",
        "plt.legend()\n",
        "plt.show()"
      ],
      "execution_count": 21,
      "outputs": [
        {
          "output_type": "error",
          "ename": "ValueError",
          "evalue": "ignored",
          "traceback": [
            "\u001b[0;31m---------------------------------------------------------------------------\u001b[0m",
            "\u001b[0;31mInvalidArgumentError\u001b[0m                      Traceback (most recent call last)",
            "\u001b[0;32m/usr/local/lib/python3.6/dist-packages/tensorflow_core/python/framework/ops.py\u001b[0m in \u001b[0;36m_create_c_op\u001b[0;34m(graph, node_def, inputs, control_inputs)\u001b[0m\n\u001b[1;32m   1606\u001b[0m   \u001b[0;32mtry\u001b[0m\u001b[0;34m:\u001b[0m\u001b[0;34m\u001b[0m\u001b[0;34m\u001b[0m\u001b[0m\n\u001b[0;32m-> 1607\u001b[0;31m     \u001b[0mc_op\u001b[0m \u001b[0;34m=\u001b[0m \u001b[0mc_api\u001b[0m\u001b[0;34m.\u001b[0m\u001b[0mTF_FinishOperation\u001b[0m\u001b[0;34m(\u001b[0m\u001b[0mop_desc\u001b[0m\u001b[0;34m)\u001b[0m\u001b[0;34m\u001b[0m\u001b[0;34m\u001b[0m\u001b[0m\n\u001b[0m\u001b[1;32m   1608\u001b[0m   \u001b[0;32mexcept\u001b[0m \u001b[0merrors\u001b[0m\u001b[0;34m.\u001b[0m\u001b[0mInvalidArgumentError\u001b[0m \u001b[0;32mas\u001b[0m \u001b[0me\u001b[0m\u001b[0;34m:\u001b[0m\u001b[0;34m\u001b[0m\u001b[0;34m\u001b[0m\u001b[0m\n",
            "\u001b[0;31mInvalidArgumentError\u001b[0m: Negative dimension size caused by subtracting 2 from 1 for 'max_pooling2d_16/MaxPool' (op: 'MaxPool') with input shapes: [?,1,1,64].",
            "\nDuring handling of the above exception, another exception occurred:\n",
            "\u001b[0;31mValueError\u001b[0m                                Traceback (most recent call last)",
            "\u001b[0;32m<ipython-input-21-aba26d6773f7>\u001b[0m in \u001b[0;36m<module>\u001b[0;34m()\u001b[0m\n\u001b[1;32m     62\u001b[0m \u001b[0mmodel\u001b[0m\u001b[0;34m.\u001b[0m\u001b[0madd\u001b[0m\u001b[0;34m(\u001b[0m\u001b[0mConv2D\u001b[0m\u001b[0;34m(\u001b[0m\u001b[0;36m64\u001b[0m\u001b[0;34m,\u001b[0m \u001b[0;34m(\u001b[0m\u001b[0;36m3\u001b[0m\u001b[0;34m,\u001b[0m \u001b[0;36m3\u001b[0m\u001b[0;34m)\u001b[0m\u001b[0;34m,\u001b[0m \u001b[0mpadding\u001b[0m\u001b[0;34m=\u001b[0m\u001b[0;34m'same'\u001b[0m\u001b[0;34m,\u001b[0m \u001b[0mactivation\u001b[0m\u001b[0;34m=\u001b[0m\u001b[0;34m'relu'\u001b[0m\u001b[0;34m)\u001b[0m\u001b[0;34m)\u001b[0m\u001b[0;34m\u001b[0m\u001b[0;34m\u001b[0m\u001b[0m\n\u001b[1;32m     63\u001b[0m \u001b[0;31m#Четвертый слой подвыборки\u001b[0m\u001b[0;34m\u001b[0m\u001b[0;34m\u001b[0m\u001b[0;34m\u001b[0m\u001b[0m\n\u001b[0;32m---> 64\u001b[0;31m \u001b[0mmodel\u001b[0m\u001b[0;34m.\u001b[0m\u001b[0madd\u001b[0m\u001b[0;34m(\u001b[0m\u001b[0mMaxPooling2D\u001b[0m\u001b[0;34m(\u001b[0m\u001b[0mpool_size\u001b[0m\u001b[0;34m=\u001b[0m\u001b[0;34m(\u001b[0m\u001b[0;36m2\u001b[0m\u001b[0;34m,\u001b[0m \u001b[0;36m2\u001b[0m\u001b[0;34m)\u001b[0m\u001b[0;34m)\u001b[0m\u001b[0;34m)\u001b[0m\u001b[0;34m\u001b[0m\u001b[0;34m\u001b[0m\u001b[0m\n\u001b[0m\u001b[1;32m     65\u001b[0m \u001b[0;31m#Слой регуляризации Dropout\u001b[0m\u001b[0;34m\u001b[0m\u001b[0;34m\u001b[0m\u001b[0;34m\u001b[0m\u001b[0m\n\u001b[1;32m     66\u001b[0m \u001b[0mmodel\u001b[0m\u001b[0;34m.\u001b[0m\u001b[0madd\u001b[0m\u001b[0;34m(\u001b[0m\u001b[0mDropout\u001b[0m\u001b[0;34m(\u001b[0m\u001b[0;36m0.35\u001b[0m\u001b[0;34m)\u001b[0m\u001b[0;34m)\u001b[0m\u001b[0;34m\u001b[0m\u001b[0;34m\u001b[0m\u001b[0m\n",
            "\u001b[0;32m/usr/local/lib/python3.6/dist-packages/tensorflow_core/python/training/tracking/base.py\u001b[0m in \u001b[0;36m_method_wrapper\u001b[0;34m(self, *args, **kwargs)\u001b[0m\n\u001b[1;32m    455\u001b[0m     \u001b[0mself\u001b[0m\u001b[0;34m.\u001b[0m\u001b[0m_self_setattr_tracking\u001b[0m \u001b[0;34m=\u001b[0m \u001b[0;32mFalse\u001b[0m  \u001b[0;31m# pylint: disable=protected-access\u001b[0m\u001b[0;34m\u001b[0m\u001b[0;34m\u001b[0m\u001b[0m\n\u001b[1;32m    456\u001b[0m     \u001b[0;32mtry\u001b[0m\u001b[0;34m:\u001b[0m\u001b[0;34m\u001b[0m\u001b[0;34m\u001b[0m\u001b[0m\n\u001b[0;32m--> 457\u001b[0;31m       \u001b[0mresult\u001b[0m \u001b[0;34m=\u001b[0m \u001b[0mmethod\u001b[0m\u001b[0;34m(\u001b[0m\u001b[0mself\u001b[0m\u001b[0;34m,\u001b[0m \u001b[0;34m*\u001b[0m\u001b[0margs\u001b[0m\u001b[0;34m,\u001b[0m \u001b[0;34m**\u001b[0m\u001b[0mkwargs\u001b[0m\u001b[0;34m)\u001b[0m\u001b[0;34m\u001b[0m\u001b[0;34m\u001b[0m\u001b[0m\n\u001b[0m\u001b[1;32m    458\u001b[0m     \u001b[0;32mfinally\u001b[0m\u001b[0;34m:\u001b[0m\u001b[0;34m\u001b[0m\u001b[0;34m\u001b[0m\u001b[0m\n\u001b[1;32m    459\u001b[0m       \u001b[0mself\u001b[0m\u001b[0;34m.\u001b[0m\u001b[0m_self_setattr_tracking\u001b[0m \u001b[0;34m=\u001b[0m \u001b[0mprevious_value\u001b[0m  \u001b[0;31m# pylint: disable=protected-access\u001b[0m\u001b[0;34m\u001b[0m\u001b[0;34m\u001b[0m\u001b[0m\n",
            "\u001b[0;32m/usr/local/lib/python3.6/dist-packages/tensorflow_core/python/keras/engine/sequential.py\u001b[0m in \u001b[0;36madd\u001b[0;34m(self, layer)\u001b[0m\n\u001b[1;32m    193\u001b[0m       \u001b[0;31m# If the model is being built continuously on top of an input layer:\u001b[0m\u001b[0;34m\u001b[0m\u001b[0;34m\u001b[0m\u001b[0;34m\u001b[0m\u001b[0m\n\u001b[1;32m    194\u001b[0m       \u001b[0;31m# refresh its output.\u001b[0m\u001b[0;34m\u001b[0m\u001b[0;34m\u001b[0m\u001b[0;34m\u001b[0m\u001b[0m\n\u001b[0;32m--> 195\u001b[0;31m       \u001b[0moutput_tensor\u001b[0m \u001b[0;34m=\u001b[0m \u001b[0mlayer\u001b[0m\u001b[0;34m(\u001b[0m\u001b[0mself\u001b[0m\u001b[0;34m.\u001b[0m\u001b[0moutputs\u001b[0m\u001b[0;34m[\u001b[0m\u001b[0;36m0\u001b[0m\u001b[0;34m]\u001b[0m\u001b[0;34m)\u001b[0m\u001b[0;34m\u001b[0m\u001b[0;34m\u001b[0m\u001b[0m\n\u001b[0m\u001b[1;32m    196\u001b[0m       \u001b[0;32mif\u001b[0m \u001b[0mlen\u001b[0m\u001b[0;34m(\u001b[0m\u001b[0mnest\u001b[0m\u001b[0;34m.\u001b[0m\u001b[0mflatten\u001b[0m\u001b[0;34m(\u001b[0m\u001b[0moutput_tensor\u001b[0m\u001b[0;34m)\u001b[0m\u001b[0;34m)\u001b[0m \u001b[0;34m!=\u001b[0m \u001b[0;36m1\u001b[0m\u001b[0;34m:\u001b[0m\u001b[0;34m\u001b[0m\u001b[0;34m\u001b[0m\u001b[0m\n\u001b[1;32m    197\u001b[0m         raise TypeError('All layers in a Sequential model '\n",
            "\u001b[0;32m/usr/local/lib/python3.6/dist-packages/tensorflow_core/python/keras/engine/base_layer.py\u001b[0m in \u001b[0;36m__call__\u001b[0;34m(self, inputs, *args, **kwargs)\u001b[0m\n\u001b[1;32m    852\u001b[0m                     \u001b[0moutputs\u001b[0m \u001b[0;34m=\u001b[0m \u001b[0mbase_layer_utils\u001b[0m\u001b[0;34m.\u001b[0m\u001b[0mmark_as_return\u001b[0m\u001b[0;34m(\u001b[0m\u001b[0moutputs\u001b[0m\u001b[0;34m,\u001b[0m \u001b[0macd\u001b[0m\u001b[0;34m)\u001b[0m\u001b[0;34m\u001b[0m\u001b[0;34m\u001b[0m\u001b[0m\n\u001b[1;32m    853\u001b[0m                 \u001b[0;32melse\u001b[0m\u001b[0;34m:\u001b[0m\u001b[0;34m\u001b[0m\u001b[0;34m\u001b[0m\u001b[0m\n\u001b[0;32m--> 854\u001b[0;31m                   \u001b[0moutputs\u001b[0m \u001b[0;34m=\u001b[0m \u001b[0mcall_fn\u001b[0m\u001b[0;34m(\u001b[0m\u001b[0mcast_inputs\u001b[0m\u001b[0;34m,\u001b[0m \u001b[0;34m*\u001b[0m\u001b[0margs\u001b[0m\u001b[0;34m,\u001b[0m \u001b[0;34m**\u001b[0m\u001b[0mkwargs\u001b[0m\u001b[0;34m)\u001b[0m\u001b[0;34m\u001b[0m\u001b[0;34m\u001b[0m\u001b[0m\n\u001b[0m\u001b[1;32m    855\u001b[0m \u001b[0;34m\u001b[0m\u001b[0m\n\u001b[1;32m    856\u001b[0m             \u001b[0;32mexcept\u001b[0m \u001b[0merrors\u001b[0m\u001b[0;34m.\u001b[0m\u001b[0mOperatorNotAllowedInGraphError\u001b[0m \u001b[0;32mas\u001b[0m \u001b[0me\u001b[0m\u001b[0;34m:\u001b[0m\u001b[0;34m\u001b[0m\u001b[0;34m\u001b[0m\u001b[0m\n",
            "\u001b[0;32m/usr/local/lib/python3.6/dist-packages/tensorflow_core/python/keras/layers/pooling.py\u001b[0m in \u001b[0;36mcall\u001b[0;34m(self, inputs)\u001b[0m\n\u001b[1;32m    246\u001b[0m         \u001b[0mstrides\u001b[0m\u001b[0;34m=\u001b[0m\u001b[0mstrides\u001b[0m\u001b[0;34m,\u001b[0m\u001b[0;34m\u001b[0m\u001b[0;34m\u001b[0m\u001b[0m\n\u001b[1;32m    247\u001b[0m         \u001b[0mpadding\u001b[0m\u001b[0;34m=\u001b[0m\u001b[0mself\u001b[0m\u001b[0;34m.\u001b[0m\u001b[0mpadding\u001b[0m\u001b[0;34m.\u001b[0m\u001b[0mupper\u001b[0m\u001b[0;34m(\u001b[0m\u001b[0;34m)\u001b[0m\u001b[0;34m,\u001b[0m\u001b[0;34m\u001b[0m\u001b[0;34m\u001b[0m\u001b[0m\n\u001b[0;32m--> 248\u001b[0;31m         data_format=conv_utils.convert_data_format(self.data_format, 4))\n\u001b[0m\u001b[1;32m    249\u001b[0m     \u001b[0;32mreturn\u001b[0m \u001b[0moutputs\u001b[0m\u001b[0;34m\u001b[0m\u001b[0;34m\u001b[0m\u001b[0m\n\u001b[1;32m    250\u001b[0m \u001b[0;34m\u001b[0m\u001b[0m\n",
            "\u001b[0;32m/usr/local/lib/python3.6/dist-packages/tensorflow_core/python/ops/nn_ops.py\u001b[0m in \u001b[0;36mmax_pool\u001b[0;34m(value, ksize, strides, padding, data_format, name, input)\u001b[0m\n\u001b[1;32m   3813\u001b[0m         \u001b[0mpadding\u001b[0m\u001b[0;34m=\u001b[0m\u001b[0mpadding\u001b[0m\u001b[0;34m,\u001b[0m\u001b[0;34m\u001b[0m\u001b[0;34m\u001b[0m\u001b[0m\n\u001b[1;32m   3814\u001b[0m         \u001b[0mdata_format\u001b[0m\u001b[0;34m=\u001b[0m\u001b[0mdata_format\u001b[0m\u001b[0;34m,\u001b[0m\u001b[0;34m\u001b[0m\u001b[0;34m\u001b[0m\u001b[0m\n\u001b[0;32m-> 3815\u001b[0;31m         name=name)\n\u001b[0m\u001b[1;32m   3816\u001b[0m \u001b[0;34m\u001b[0m\u001b[0m\n\u001b[1;32m   3817\u001b[0m \u001b[0;34m\u001b[0m\u001b[0m\n",
            "\u001b[0;32m/usr/local/lib/python3.6/dist-packages/tensorflow_core/python/ops/gen_nn_ops.py\u001b[0m in \u001b[0;36mmax_pool\u001b[0;34m(input, ksize, strides, padding, data_format, name)\u001b[0m\n\u001b[1;32m   5672\u001b[0m   _, _, _op = _op_def_lib._apply_op_helper(\n\u001b[1;32m   5673\u001b[0m         \u001b[0;34m\"MaxPool\"\u001b[0m\u001b[0;34m,\u001b[0m \u001b[0minput\u001b[0m\u001b[0;34m=\u001b[0m\u001b[0minput\u001b[0m\u001b[0;34m,\u001b[0m \u001b[0mksize\u001b[0m\u001b[0;34m=\u001b[0m\u001b[0mksize\u001b[0m\u001b[0;34m,\u001b[0m \u001b[0mstrides\u001b[0m\u001b[0;34m=\u001b[0m\u001b[0mstrides\u001b[0m\u001b[0;34m,\u001b[0m \u001b[0mpadding\u001b[0m\u001b[0;34m=\u001b[0m\u001b[0mpadding\u001b[0m\u001b[0;34m,\u001b[0m\u001b[0;34m\u001b[0m\u001b[0;34m\u001b[0m\u001b[0m\n\u001b[0;32m-> 5674\u001b[0;31m                    data_format=data_format, name=name)\n\u001b[0m\u001b[1;32m   5675\u001b[0m   \u001b[0m_result\u001b[0m \u001b[0;34m=\u001b[0m \u001b[0m_op\u001b[0m\u001b[0;34m.\u001b[0m\u001b[0moutputs\u001b[0m\u001b[0;34m[\u001b[0m\u001b[0;34m:\u001b[0m\u001b[0;34m]\u001b[0m\u001b[0;34m\u001b[0m\u001b[0;34m\u001b[0m\u001b[0m\n\u001b[1;32m   5676\u001b[0m   \u001b[0m_inputs_flat\u001b[0m \u001b[0;34m=\u001b[0m \u001b[0m_op\u001b[0m\u001b[0;34m.\u001b[0m\u001b[0minputs\u001b[0m\u001b[0;34m\u001b[0m\u001b[0;34m\u001b[0m\u001b[0m\n",
            "\u001b[0;32m/usr/local/lib/python3.6/dist-packages/tensorflow_core/python/framework/op_def_library.py\u001b[0m in \u001b[0;36m_apply_op_helper\u001b[0;34m(self, op_type_name, name, **keywords)\u001b[0m\n\u001b[1;32m    792\u001b[0m         op = g.create_op(op_type_name, inputs, dtypes=None, name=scope,\n\u001b[1;32m    793\u001b[0m                          \u001b[0minput_types\u001b[0m\u001b[0;34m=\u001b[0m\u001b[0minput_types\u001b[0m\u001b[0;34m,\u001b[0m \u001b[0mattrs\u001b[0m\u001b[0;34m=\u001b[0m\u001b[0mattr_protos\u001b[0m\u001b[0;34m,\u001b[0m\u001b[0;34m\u001b[0m\u001b[0;34m\u001b[0m\u001b[0m\n\u001b[0;32m--> 794\u001b[0;31m                          op_def=op_def)\n\u001b[0m\u001b[1;32m    795\u001b[0m \u001b[0;34m\u001b[0m\u001b[0m\n\u001b[1;32m    796\u001b[0m       \u001b[0;31m# Conditionally invoke tfdbg v2's op callback(s).\u001b[0m\u001b[0;34m\u001b[0m\u001b[0;34m\u001b[0m\u001b[0;34m\u001b[0m\u001b[0m\n",
            "\u001b[0;32m/usr/local/lib/python3.6/dist-packages/tensorflow_core/python/util/deprecation.py\u001b[0m in \u001b[0;36mnew_func\u001b[0;34m(*args, **kwargs)\u001b[0m\n\u001b[1;32m    505\u001b[0m                 \u001b[0;34m'in a future version'\u001b[0m \u001b[0;32mif\u001b[0m \u001b[0mdate\u001b[0m \u001b[0;32mis\u001b[0m \u001b[0;32mNone\u001b[0m \u001b[0;32melse\u001b[0m \u001b[0;34m(\u001b[0m\u001b[0;34m'after %s'\u001b[0m \u001b[0;34m%\u001b[0m \u001b[0mdate\u001b[0m\u001b[0;34m)\u001b[0m\u001b[0;34m,\u001b[0m\u001b[0;34m\u001b[0m\u001b[0;34m\u001b[0m\u001b[0m\n\u001b[1;32m    506\u001b[0m                 instructions)\n\u001b[0;32m--> 507\u001b[0;31m       \u001b[0;32mreturn\u001b[0m \u001b[0mfunc\u001b[0m\u001b[0;34m(\u001b[0m\u001b[0;34m*\u001b[0m\u001b[0margs\u001b[0m\u001b[0;34m,\u001b[0m \u001b[0;34m**\u001b[0m\u001b[0mkwargs\u001b[0m\u001b[0;34m)\u001b[0m\u001b[0;34m\u001b[0m\u001b[0;34m\u001b[0m\u001b[0m\n\u001b[0m\u001b[1;32m    508\u001b[0m \u001b[0;34m\u001b[0m\u001b[0m\n\u001b[1;32m    509\u001b[0m     doc = _add_deprecated_arg_notice_to_docstring(\n",
            "\u001b[0;32m/usr/local/lib/python3.6/dist-packages/tensorflow_core/python/framework/ops.py\u001b[0m in \u001b[0;36mcreate_op\u001b[0;34m(***failed resolving arguments***)\u001b[0m\n\u001b[1;32m   3355\u001b[0m         \u001b[0;32mraise\u001b[0m \u001b[0mTypeError\u001b[0m\u001b[0;34m(\u001b[0m\u001b[0;34m\"Input #%d is not a tensor: %s\"\u001b[0m \u001b[0;34m%\u001b[0m \u001b[0;34m(\u001b[0m\u001b[0midx\u001b[0m\u001b[0;34m,\u001b[0m \u001b[0ma\u001b[0m\u001b[0;34m)\u001b[0m\u001b[0;34m)\u001b[0m\u001b[0;34m\u001b[0m\u001b[0;34m\u001b[0m\u001b[0m\n\u001b[1;32m   3356\u001b[0m     return self._create_op_internal(op_type, inputs, dtypes, input_types, name,\n\u001b[0;32m-> 3357\u001b[0;31m                                     attrs, op_def, compute_device)\n\u001b[0m\u001b[1;32m   3358\u001b[0m \u001b[0;34m\u001b[0m\u001b[0m\n\u001b[1;32m   3359\u001b[0m   def _create_op_internal(\n",
            "\u001b[0;32m/usr/local/lib/python3.6/dist-packages/tensorflow_core/python/framework/ops.py\u001b[0m in \u001b[0;36m_create_op_internal\u001b[0;34m(self, op_type, inputs, dtypes, input_types, name, attrs, op_def, compute_device)\u001b[0m\n\u001b[1;32m   3424\u001b[0m           \u001b[0minput_types\u001b[0m\u001b[0;34m=\u001b[0m\u001b[0minput_types\u001b[0m\u001b[0;34m,\u001b[0m\u001b[0;34m\u001b[0m\u001b[0;34m\u001b[0m\u001b[0m\n\u001b[1;32m   3425\u001b[0m           \u001b[0moriginal_op\u001b[0m\u001b[0;34m=\u001b[0m\u001b[0mself\u001b[0m\u001b[0;34m.\u001b[0m\u001b[0m_default_original_op\u001b[0m\u001b[0;34m,\u001b[0m\u001b[0;34m\u001b[0m\u001b[0;34m\u001b[0m\u001b[0m\n\u001b[0;32m-> 3426\u001b[0;31m           op_def=op_def)\n\u001b[0m\u001b[1;32m   3427\u001b[0m       \u001b[0mself\u001b[0m\u001b[0;34m.\u001b[0m\u001b[0m_create_op_helper\u001b[0m\u001b[0;34m(\u001b[0m\u001b[0mret\u001b[0m\u001b[0;34m,\u001b[0m \u001b[0mcompute_device\u001b[0m\u001b[0;34m=\u001b[0m\u001b[0mcompute_device\u001b[0m\u001b[0;34m)\u001b[0m\u001b[0;34m\u001b[0m\u001b[0;34m\u001b[0m\u001b[0m\n\u001b[1;32m   3428\u001b[0m     \u001b[0;32mreturn\u001b[0m \u001b[0mret\u001b[0m\u001b[0;34m\u001b[0m\u001b[0;34m\u001b[0m\u001b[0m\n",
            "\u001b[0;32m/usr/local/lib/python3.6/dist-packages/tensorflow_core/python/framework/ops.py\u001b[0m in \u001b[0;36m__init__\u001b[0;34m(self, node_def, g, inputs, output_types, control_inputs, input_types, original_op, op_def)\u001b[0m\n\u001b[1;32m   1768\u001b[0m           op_def, inputs, node_def.attr)\n\u001b[1;32m   1769\u001b[0m       self._c_op = _create_c_op(self._graph, node_def, grouped_inputs,\n\u001b[0;32m-> 1770\u001b[0;31m                                 control_input_ops)\n\u001b[0m\u001b[1;32m   1771\u001b[0m     \u001b[0;31m# pylint: enable=protected-access\u001b[0m\u001b[0;34m\u001b[0m\u001b[0;34m\u001b[0m\u001b[0;34m\u001b[0m\u001b[0m\n\u001b[1;32m   1772\u001b[0m \u001b[0;34m\u001b[0m\u001b[0m\n",
            "\u001b[0;32m/usr/local/lib/python3.6/dist-packages/tensorflow_core/python/framework/ops.py\u001b[0m in \u001b[0;36m_create_c_op\u001b[0;34m(graph, node_def, inputs, control_inputs)\u001b[0m\n\u001b[1;32m   1608\u001b[0m   \u001b[0;32mexcept\u001b[0m \u001b[0merrors\u001b[0m\u001b[0;34m.\u001b[0m\u001b[0mInvalidArgumentError\u001b[0m \u001b[0;32mas\u001b[0m \u001b[0me\u001b[0m\u001b[0;34m:\u001b[0m\u001b[0;34m\u001b[0m\u001b[0;34m\u001b[0m\u001b[0m\n\u001b[1;32m   1609\u001b[0m     \u001b[0;31m# Convert to ValueError for backwards compatibility.\u001b[0m\u001b[0;34m\u001b[0m\u001b[0;34m\u001b[0m\u001b[0;34m\u001b[0m\u001b[0m\n\u001b[0;32m-> 1610\u001b[0;31m     \u001b[0;32mraise\u001b[0m \u001b[0mValueError\u001b[0m\u001b[0;34m(\u001b[0m\u001b[0mstr\u001b[0m\u001b[0;34m(\u001b[0m\u001b[0me\u001b[0m\u001b[0;34m)\u001b[0m\u001b[0;34m)\u001b[0m\u001b[0;34m\u001b[0m\u001b[0;34m\u001b[0m\u001b[0m\n\u001b[0m\u001b[1;32m   1611\u001b[0m \u001b[0;34m\u001b[0m\u001b[0m\n\u001b[1;32m   1612\u001b[0m   \u001b[0;32mreturn\u001b[0m \u001b[0mc_op\u001b[0m\u001b[0;34m\u001b[0m\u001b[0;34m\u001b[0m\u001b[0m\n",
            "\u001b[0;31mValueError\u001b[0m: Negative dimension size caused by subtracting 2 from 1 for 'max_pooling2d_16/MaxPool' (op: 'MaxPool') with input shapes: [?,1,1,64]."
          ]
        }
      ]
    },
    {
      "cell_type": "markdown",
      "metadata": {
        "id": "Jq3asJo1Bs28",
        "colab_type": "text"
      },
      "source": [
        "#Распознавание случайной картинки из тестового набора"
      ]
    },
    {
      "cell_type": "code",
      "metadata": {
        "id": "jI93Wle3d5__",
        "colab_type": "code",
        "colab": {}
      },
      "source": [
        "#Распознаём все тестовые картинки\n",
        "prediction = model.predict(x_test10)"
      ],
      "execution_count": 0,
      "outputs": []
    },
    {
      "cell_type": "code",
      "metadata": {
        "id": "QC8mZWIfBZbZ",
        "colab_type": "code",
        "outputId": "0a086c4a-c966-4c62-ca2d-da32b3f708d2",
        "colab": {
          "base_uri": "https://localhost:8080/",
          "height": 350
        }
      },
      "source": [
        "#Выбираем номер пример\n",
        "n = 2678\n",
        "\n",
        "#Выводим на экран картинку\n",
        "plt.imshow(Image.fromarray(x_test10[n]).convert('RGBA'))\n",
        "plt.show()\n",
        "\n",
        "#Выводим на экран результаты\n",
        "print(\"Выход сети: \", prediction[n])\n",
        "print(\"Распознанный образ: \", np.argmax(prediction[n]))\n",
        "print(\"Верный ответ: \", y_test10[n])\n",
        "print(\"Распознанный браз на картинке: \", classes[np.argmax(prediction[n])])"
      ],
      "execution_count": 24,
      "outputs": [
        {
          "output_type": "display_data",
          "data": {
            "image/png": "[encoded data removed]",
            "text/plain": [
              "<Figure size 432x288 with 1 Axes>"
            ]
          },
          "metadata": {
            "tags": []
          }
        },
        {
          "output_type": "stream",
          "text": [
            "Выход сети:  [9.9999952e-01 3.3566351e-11 3.4130932e-07 5.8843208e-10 4.1419256e-08\n",
            " 2.8018829e-12 6.2239601e-12 2.3296944e-11 7.3273689e-08 4.0805159e-10]\n",
            "Распознанный образ:  0\n",
            "Верный ответ:  [0]\n",
            "Распознанный браз на картинке:  самолет\n"
          ],
          "name": "stdout"
        }
      ]
    },
    {
      "cell_type": "markdown",
      "metadata": {
        "colab_type": "text",
        "id": "MMoxbBKkBsB_"
      },
      "source": [
        "#Распознаем дополнительные картинки"
      ]
    },
    {
      "cell_type": "code",
      "metadata": {
        "colab_type": "code",
        "id": "cWBfM5tzBsBi",
        "outputId": "569fecde-a1ed-4296-9698-634c3b641854",
        "colab": {
          "resources": {
            "http://localhost:8080/nbextensions/google.colab/files.js": {
              "data": "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",
              "ok": true,
              "headers": [
                [
                  "content-type",
                  "application/javascript"
                ]
              ],
              "status": 200,
              "status_text": ""
            }
          },
          "base_uri": "https://localhost:8080/",
          "height": 91
        }
      },
      "source": [
        "#Загружаем свою картинку\n",
        "files.upload()\n",
        "#Проверяем, что картинка загрузилась\n",
        "!ls"
      ],
      "execution_count": 0,
      "outputs": [
        {
          "output_type": "display_data",
          "data": {
            "text/html": [
              "\n",
              "     <input type=\"file\" id=\"files-4c62b68b-b70f-4769-a8a7-f93158a7163e\" name=\"files[]\" multiple disabled />\n",
              "     <output id=\"result-4c62b68b-b70f-4769-a8a7-f93158a7163e\">\n",
              "      Upload widget is only available when the cell has been executed in the\n",
              "      current browser session. Please rerun this cell to enable.\n",
              "      </output>\n",
              "      <script src=\"/nbextensions/google.colab/files.js\"></script> "
            ],
            "text/plain": [
              "<IPython.core.display.HTML object>"
            ]
          },
          "metadata": {
            "tags": []
          }
        },
        {
          "output_type": "stream",
          "text": [
            "Saving friends.jpg to friends.jpg\n",
            "airplane_12.jpg  airplane_1.jpg  friends.jpg  sample_data\n"
          ],
          "name": "stdout"
        }
      ]
    },
    {
      "cell_type": "code",
      "metadata": {
        "colab_type": "code",
        "id": "KiersR5iBsAV",
        "colab": {}
      },
      "source": [
        "#Вводим адрес картинки\n",
        "img_path = 'friends.jpg'\n",
        "#Загружаем картинку в массив\n",
        "img = image.load_img(img_path, target_size=(32, 32))\n",
        "#Отрисовываем картинку\n",
        "plt.imshow(img)\n",
        "plt.show()"
      ],
      "execution_count": 0,
      "outputs": []
    },
    {
      "cell_type": "code",
      "metadata": {
        "colab_type": "code",
        "id": "a785Ra5dBr-T",
        "colab": {}
      },
      "source": [
        "#переводим картинку в массив\n",
        "x = image.img_to_array(img)\n",
        "#Добавляем одну размерность для предсказания\n",
        "x = np.expand_dims(x, axis=0)\n",
        "#Распознаём класс картинки\n",
        "prediction = model.predict(x)\n",
        "prediction = np.argmax(prediction)\n",
        "#Вводим результаты на экран\n",
        "print(\"Распознанный образ: \", prediction)\n",
        "print(\"Название распознанного образа: \", classes[prediction])"
      ],
      "execution_count": 0,
      "outputs": []
    }
  ]
}