{
  "nbformat": 4,
  "nbformat_minor": 0,
  "metadata": {
    "colab": {
      "name": "Документация в Python.ipynb",
      "provenance": [],
      "collapsed_sections": [
        "bd0v3u7KQeQP"
      ],
      "include_colab_link": true
    },
    "kernelspec": {
      "name": "python3",
      "display_name": "Python 3"
    }
  },
  "cells": [
    {
      "cell_type": "markdown",
      "metadata": {
        "id": "view-in-github",
        "colab_type": "text"
      },
      "source": [
        "<a href=\"https://colab.research.google.com/github/errec-sun/brain/blob/master/%D0%94%D0%BE%D0%BA%D1%83%D0%BC%D0%B5%D0%BD%D1%82%D0%B0%D1%86%D0%B8%D1%8F_%D0%B2_Python.ipynb\" target=\"_parent\"><img src=\"https://colab.research.google.com/assets/colab-badge.svg\" alt=\"Open In Colab\"/></a>"
      ]
    },
    {
      "cell_type": "markdown",
      "metadata": {
        "id": "bd0v3u7KQeQP",
        "colab_type": "text"
      },
      "source": [
        "##Импорт библиотек"
      ]
    },
    {
      "cell_type": "code",
      "metadata": {
        "id": "oFcLIwB2PJhn",
        "colab_type": "code",
        "outputId": "944de052-3410-4350-c402-cefc792ba2ad",
        "colab": {
          "base_uri": "https://localhost:8080/",
          "height": 62
        }
      },
      "source": [
        "from tensorflow.keras.models import Sequential \n",
        "from tensorflow.keras.layers import Dense \n",
        "import numpy as np"
      ],
      "execution_count": 0,
      "outputs": [
        {
          "output_type": "display_data",
          "data": {
            "text/html": [
              "<p style=\"color: red;\">\n",
              "The default version of TensorFlow in Colab will soon switch to TensorFlow 2.x.<br>\n",
              "We recommend you <a href=\"https://www.tensorflow.org/guide/migrate\" target=\"_blank\">upgrade</a> now \n",
              "or ensure your notebook will continue to use TensorFlow 1.x via the <code>%tensorflow_version 1.x</code> magic:\n",
              "<a href=\"https://colab.research.google.com/notebooks/tensorflow_version.ipynb\" target=\"_blank\">more info</a>.</p>\n"
            ],
            "text/plain": [
              "<IPython.core.display.HTML object>"
            ]
          },
          "metadata": {
            "tags": []
          }
        }
      ]
    },
    {
      "cell_type": "markdown",
      "metadata": {
        "id": "ZIXeHedMGDbA",
        "colab_type": "text"
      },
      "source": [
        "##Важность комментариев"
      ]
    },
    {
      "cell_type": "markdown",
      "metadata": {
        "id": "KpsxTyzcGHfd",
        "colab_type": "text"
      },
      "source": [
        "Комментарии очень помогают при работе с кодом. Если ваш код будут просматривать другие люди, или если вы вернетесь к крупному проекту по прошествии большого количества времени, комментарии помогут вам и другим разработчикам разобраться в коде"
      ]
    },
    {
      "cell_type": "markdown",
      "metadata": {
        "id": "FoYoikaLBDRp",
        "colab_type": "text"
      },
      "source": [
        "## Комментарии с '#'"
      ]
    },
    {
      "cell_type": "markdown",
      "metadata": {
        "id": "JOu-_OvFCyAh",
        "colab_type": "text"
      },
      "source": [
        "Комментарии, начинающиеся с # подходят для описания некоторых особенностей программного кода. Интерпретатор просто игнорирует все, что идет после решетки в строчке"
      ]
    },
    {
      "cell_type": "code",
      "metadata": {
        "id": "265PumdDBKEV",
        "colab_type": "code",
        "colab": {}
      },
      "source": [
        "x = np.array(range(9)) # Создаем массив от 0 до 8\n",
        "y = np.array(range(8, -1, -1)) # Создаем массив от 8 до 0"
      ],
      "execution_count": 0,
      "outputs": []
    },
    {
      "cell_type": "markdown",
      "metadata": {
        "id": "zTAHmgo_JWOv",
        "colab_type": "text"
      },
      "source": [
        "Можно описать сразу несколько строк кода"
      ]
    },
    {
      "cell_type": "code",
      "metadata": {
        "id": "xllZQAgrJKRl",
        "colab_type": "code",
        "colab": {}
      },
      "source": [
        "# Создаем два массива: первый от 0 до 8, второй от 8 до 0\n",
        "x = np.array(range(9)) \n",
        "y = np.array(range(8, -1, -1)) "
      ],
      "execution_count": 0,
      "outputs": []
    },
    {
      "cell_type": "markdown",
      "metadata": {
        "id": "yp9DqD5NDJXh",
        "colab_type": "text"
      },
      "source": [
        "Если комментарий слишком длинный, его лучше выносить в отдельную строчку"
      ]
    },
    {
      "cell_type": "markdown",
      "metadata": {
        "id": "bve5ksV6CMN9",
        "colab_type": "text"
      },
      "source": [
        "Вместо"
      ]
    },
    {
      "cell_type": "code",
      "metadata": {
        "id": "YyxKVToTAmvK",
        "colab_type": "code",
        "colab": {}
      },
      "source": [
        "arr = np.array(range(9)) + np.array(range(8, -1, -1)) # Создаем два массива, первый от 0 до 8, второй от 8 до 0, и выполняем поэлементное сложение"
      ],
      "execution_count": 0,
      "outputs": []
    },
    {
      "cell_type": "markdown",
      "metadata": {
        "id": "6b6JxlIgCNeC",
        "colab_type": "text"
      },
      "source": [
        "Лучше сделать так"
      ]
    },
    {
      "cell_type": "code",
      "metadata": {
        "id": "WnXNSio9CD3m",
        "colab_type": "code",
        "colab": {}
      },
      "source": [
        "# Создаем два массива, первый от 0 до 8, второй от 8 до 0, и выполняем поэлементное сложение\n",
        "arr = np.array(range(9)) + np.array(range(8, -1, -1))"
      ],
      "execution_count": 0,
      "outputs": []
    },
    {
      "cell_type": "markdown",
      "metadata": {
        "id": "G3WTiFM5Al0H",
        "colab_type": "text"
      },
      "source": [
        "Существует особый вид комментария, TODO. Он является напоминалкой, к примеру, какой функционал добавить в код. Некоторые IDE (к примеру PyCharm) подсвечивают их отдельно"
      ]
    },
    {
      "cell_type": "code",
      "metadata": {
        "id": "7a2sfSvoBMlX",
        "colab_type": "code",
        "colab": {}
      },
      "source": [
        "def mult(x, y):\n",
        "  # TODO: реализовать работу с числами в формате str\n",
        "  z = x * y\n",
        "  return z"
      ],
      "execution_count": 0,
      "outputs": []
    },
    {
      "cell_type": "markdown",
      "metadata": {
        "id": "RmQ467mxD76Z",
        "colab_type": "text"
      },
      "source": [
        "##Строки документирования (docstring)"
      ]
    },
    {
      "cell_type": "markdown",
      "metadata": {
        "id": "_nJhd6jxJh_T",
        "colab_type": "text"
      },
      "source": [
        "Docstring подходят для документирования модулей, функций, классов, методов и т.д."
      ]
    },
    {
      "cell_type": "markdown",
      "metadata": {
        "id": "iTZqgyy331Bp",
        "colab_type": "text"
      },
      "source": [
        "Однострочные docstring для очевидных случаев"
      ]
    },
    {
      "cell_type": "code",
      "metadata": {
        "id": "gtYd9gm9JwK1",
        "colab_type": "code",
        "colab": {}
      },
      "source": [
        "def summ(x, y):\n",
        "  \"\"\"Функция, возвращающая сумму x и y\"\"\"\n",
        "  z = x + y\n",
        "  return z"
      ],
      "execution_count": 0,
      "outputs": []
    },
    {
      "cell_type": "markdown",
      "metadata": {
        "id": "3wlNWvo2JxUH",
        "colab_type": "text"
      },
      "source": [
        "Многострочные для более сложных"
      ]
    },
    {
      "cell_type": "code",
      "metadata": {
        "id": "7N8sajO00g1s",
        "colab_type": "code",
        "colab": {}
      },
      "source": [
        "def create_nn(neoronsL1, neuronsL2, neuronsL3, innerActivation, outputActivation):\n",
        "  \"\"\"\n",
        "  Функция, создающая нейронную сеть\n",
        "\n",
        "  Параметры\n",
        "  ---------\n",
        "  neoronsL1: int  \n",
        "             нейронов в первом слое\n",
        "  neuronsL2: int  \n",
        "             нейронов в втором слое, 0 - если не делать слой\n",
        "  neuronsL3: int  \n",
        "             нейронов в третьем слое, 0 - если не делать слой\n",
        "  innerActivation: str \n",
        "             активационная функция скрытых слоёв\n",
        "  outputActivation: str \n",
        "             активационная функция выходного слоя  \n",
        "\n",
        "  Возвращает\n",
        "  ----------\n",
        "  model: Sequential\n",
        "\n",
        "  \"\"\"\n",
        "  model = Sequential() \n",
        "  model.add(Dense(neoronsL1, input_dim=784, activation=innerActivation)) \n",
        "  \n",
        "  if (neuronsL2 > 0):\n",
        "    model.add(Dense(neuronsL2, activation=innerActivation))\n",
        "  \n",
        "  if (neuronsL3 > 0):\n",
        "    model.add(Dense(neuronsL3, activation=innerActivation))\n",
        "    \n",
        "  model.add(Dense(10, activation=outputActivation))\n",
        "  \n",
        "  model.compile(loss=\"categorical_crossentropy\", optimizer=\"adam\", metrics=[\"accuracy\"])\n",
        "  \n",
        "  return model"
      ],
      "execution_count": 0,
      "outputs": []
    },
    {
      "cell_type": "markdown",
      "metadata": {
        "id": "v80d0aqjPm6U",
        "colab_type": "text"
      },
      "source": [
        "Получить docstring можно при помощи атрибута \"__doc__\""
      ]
    },
    {
      "cell_type": "code",
      "metadata": {
        "id": "4Q6HMZAcQChA",
        "colab_type": "code",
        "outputId": "59140fbf-f889-4e3c-d44e-b3163fe886c5",
        "colab": {
          "base_uri": "https://localhost:8080/",
          "height": 34
        }
      },
      "source": [
        "print(summ.__doc__)"
      ],
      "execution_count": 0,
      "outputs": [
        {
          "output_type": "stream",
          "text": [
            "Функция, возвращающая сумму x и y\n"
          ],
          "name": "stdout"
        }
      ]
    },
    {
      "cell_type": "code",
      "metadata": {
        "id": "5c8yz9OcObxv",
        "colab_type": "code",
        "outputId": "d5fa6a55-6fac-4818-f41c-e520ba4ea57a",
        "colab": {
          "base_uri": "https://localhost:8080/",
          "height": 370
        }
      },
      "source": [
        "print(create_nn.__doc__)"
      ],
      "execution_count": 0,
      "outputs": [
        {
          "output_type": "stream",
          "text": [
            "\n",
            "  Функция, создающая нейронную сеть\n",
            "\n",
            "  Параметры\n",
            "  ---------\n",
            "  neoronsL1: int  \n",
            "             нейронов в первом слое\n",
            "  neuronsL2: int  \n",
            "             нейронов в втором слое, 0 - если не делать слой\n",
            "  neuronsL3: int  \n",
            "             нейронов в третьем слое, 0 - если не делать слой\n",
            "  innerActivation: str \n",
            "             активационная функция скрытых слоёв\n",
            "  outputActivation: str \n",
            "             активационная функция выходного слоя  \n",
            "\n",
            "  Возвращает\n",
            "  ----------\n",
            "  model: Sequential\n",
            "\n",
            "  \n"
          ],
          "name": "stdout"
        }
      ]
    },
    {
      "cell_type": "markdown",
      "metadata": {
        "id": "dtpAbJuhFTgu",
        "colab_type": "text"
      },
      "source": [
        "Можно посмотреть docstring, написанные другими разработчиками"
      ]
    },
    {
      "cell_type": "code",
      "metadata": {
        "id": "C1EQJTDgQIj0",
        "colab_type": "code",
        "outputId": "db4bdd61-6a39-4e92-9b56-3d6c05a89434",
        "colab": {
          "base_uri": "https://localhost:8080/",
          "height": 1000
        }
      },
      "source": [
        "print(np.array.__doc__)"
      ],
      "execution_count": 0,
      "outputs": [
        {
          "output_type": "stream",
          "text": [
            "array(object, dtype=None, copy=True, order='K', subok=False, ndmin=0)\n",
            "\n",
            "    Create an array.\n",
            "\n",
            "    Parameters\n",
            "    ----------\n",
            "    object : array_like\n",
            "        An array, any object exposing the array interface, an object whose\n",
            "        __array__ method returns an array, or any (nested) sequence.\n",
            "    dtype : data-type, optional\n",
            "        The desired data-type for the array.  If not given, then the type will\n",
            "        be determined as the minimum type required to hold the objects in the\n",
            "        sequence.  This argument can only be used to 'upcast' the array.  For\n",
            "        downcasting, use the .astype(t) method.\n",
            "    copy : bool, optional\n",
            "        If true (default), then the object is copied.  Otherwise, a copy will\n",
            "        only be made if __array__ returns a copy, if obj is a nested sequence,\n",
            "        or if a copy is needed to satisfy any of the other requirements\n",
            "        (`dtype`, `order`, etc.).\n",
            "    order : {'K', 'A', 'C', 'F'}, optional\n",
            "        Specify the memory layout of the array. If object is not an array, the\n",
            "        newly created array will be in C order (row major) unless 'F' is\n",
            "        specified, in which case it will be in Fortran order (column major).\n",
            "        If object is an array the following holds.\n",
            "\n",
            "        ===== ========= ===================================================\n",
            "        order  no copy                     copy=True\n",
            "        ===== ========= ===================================================\n",
            "        'K'   unchanged F & C order preserved, otherwise most similar order\n",
            "        'A'   unchanged F order if input is F and not C, otherwise C order\n",
            "        'C'   C order   C order\n",
            "        'F'   F order   F order\n",
            "        ===== ========= ===================================================\n",
            "\n",
            "        When ``copy=False`` and a copy is made for other reasons, the result is\n",
            "        the same as if ``copy=True``, with some exceptions for `A`, see the\n",
            "        Notes section. The default order is 'K'.\n",
            "    subok : bool, optional\n",
            "        If True, then sub-classes will be passed-through, otherwise\n",
            "        the returned array will be forced to be a base-class array (default).\n",
            "    ndmin : int, optional\n",
            "        Specifies the minimum number of dimensions that the resulting\n",
            "        array should have.  Ones will be pre-pended to the shape as\n",
            "        needed to meet this requirement.\n",
            "\n",
            "    Returns\n",
            "    -------\n",
            "    out : ndarray\n",
            "        An array object satisfying the specified requirements.\n",
            "\n",
            "    See Also\n",
            "    --------\n",
            "    empty_like : Return an empty array with shape and type of input.\n",
            "    ones_like : Return an array of ones with shape and type of input.\n",
            "    zeros_like : Return an array of zeros with shape and type of input.\n",
            "    full_like : Return a new array with shape of input filled with value.\n",
            "    empty : Return a new uninitialized array.\n",
            "    ones : Return a new array setting values to one.\n",
            "    zeros : Return a new array setting values to zero.\n",
            "    full : Return a new array of given shape filled with value.\n",
            "\n",
            "\n",
            "    Notes\n",
            "    -----\n",
            "    When order is 'A' and `object` is an array in neither 'C' nor 'F' order,\n",
            "    and a copy is forced by a change in dtype, then the order of the result is\n",
            "    not necessarily 'C' as expected. This is likely a bug.\n",
            "\n",
            "    Examples\n",
            "    --------\n",
            "    >>> np.array([1, 2, 3])\n",
            "    array([1, 2, 3])\n",
            "\n",
            "    Upcasting:\n",
            "\n",
            "    >>> np.array([1, 2, 3.0])\n",
            "    array([ 1.,  2.,  3.])\n",
            "\n",
            "    More than one dimension:\n",
            "\n",
            "    >>> np.array([[1, 2], [3, 4]])\n",
            "    array([[1, 2],\n",
            "           [3, 4]])\n",
            "\n",
            "    Minimum dimensions 2:\n",
            "\n",
            "    >>> np.array([1, 2, 3], ndmin=2)\n",
            "    array([[1, 2, 3]])\n",
            "\n",
            "    Type provided:\n",
            "\n",
            "    >>> np.array([1, 2, 3], dtype=complex)\n",
            "    array([ 1.+0.j,  2.+0.j,  3.+0.j])\n",
            "\n",
            "    Data-type consisting of more than one element:\n",
            "\n",
            "    >>> x = np.array([(1,2),(3,4)],dtype=[('a','<i4'),('b','<i4')])\n",
            "    >>> x['a']\n",
            "    array([1, 3])\n",
            "\n",
            "    Creating an array from sub-classes:\n",
            "\n",
            "    >>> np.array(np.mat('1 2; 3 4'))\n",
            "    array([[1, 2],\n",
            "           [3, 4]])\n",
            "\n",
            "    >>> np.array(np.mat('1 2; 3 4'), subok=True)\n",
            "    matrix([[1, 2],\n",
            "            [3, 4]])\n"
          ],
          "name": "stdout"
        }
      ]
    },
    {
      "cell_type": "markdown",
      "metadata": {
        "id": "bAiSPI9EFdHe",
        "colab_type": "text"
      },
      "source": [
        "При работе в колабе, всегда вызываем docstring через print, иначе получим плохочитаемую строку"
      ]
    },
    {
      "cell_type": "code",
      "metadata": {
        "id": "lse7S77TFcaG",
        "colab_type": "code",
        "outputId": "7fa74d93-c5ea-4bcd-9956-9718cbecc475",
        "colab": {
          "base_uri": "https://localhost:8080/",
          "height": 54
        }
      },
      "source": [
        "np.array.__doc__"
      ],
      "execution_count": 0,
      "outputs": [
        {
          "output_type": "execute_result",
          "data": {
            "text/plain": [
              "\"array(object, dtype=None, copy=True, order='K', subok=False, ndmin=0)\\n\\n    Create an array.\\n\\n    Parameters\\n    ----------\\n    object : array_like\\n        An array, any object exposing the array interface, an object whose\\n        __array__ method returns an array, or any (nested) sequence.\\n    dtype : data-type, optional\\n        The desired data-type for the array.  If not given, then the type will\\n        be determined as the minimum type required to hold the objects in the\\n        sequence.  This argument can only be used to 'upcast' the array.  For\\n        downcasting, use the .astype(t) method.\\n    copy : bool, optional\\n        If true (default), then the object is copied.  Otherwise, a copy will\\n        only be made if __array__ returns a copy, if obj is a nested sequence,\\n        or if a copy is needed to satisfy any of the other requirements\\n        (`dtype`, `order`, etc.).\\n    order : {'K', 'A', 'C', 'F'}, optional\\n        Specify the memory layout of the array. If object is not an array, the\\n        newly created array will be in C order (row major) unless 'F' is\\n        specified, in which case it will be in Fortran order (column major).\\n        If object is an array the following holds.\\n\\n        ===== ========= ===================================================\\n        order  no copy                     copy=True\\n        ===== ========= ===================================================\\n        'K'   unchanged F & C order preserved, otherwise most similar order\\n        'A'   unchanged F order if input is F and not C, otherwise C order\\n        'C'   C order   C order\\n        'F'   F order   F order\\n        ===== ========= ===================================================\\n\\n        When ``copy=False`` and a copy is made for other reasons, the result is\\n        the same as if ``copy=True``, with some exceptions for `A`, see the\\n        Notes section. The default order is 'K'.\\n    subok : bool, optional\\n        If True, then sub-classes will be passed-through, otherwise\\n        the returned array will be forced to be a base-class array (default).\\n    ndmin : int, optional\\n        Specifies the minimum number of dimensions that the resulting\\n        array should have.  Ones will be pre-pended to the shape as\\n        needed to meet this requirement.\\n\\n    Returns\\n    -------\\n    out : ndarray\\n        An array object satisfying the specified requirements.\\n\\n    See Also\\n    --------\\n    empty_like : Return an empty array with shape and type of input.\\n    ones_like : Return an array of ones with shape and type of input.\\n    zeros_like : Return an array of zeros with shape and type of input.\\n    full_like : Return a new array with shape of input filled with value.\\n    empty : Return a new uninitialized array.\\n    ones : Return a new array setting values to one.\\n    zeros : Return a new array setting values to zero.\\n    full : Return a new array of given shape filled with value.\\n\\n\\n    Notes\\n    -----\\n    When order is 'A' and `object` is an array in neither 'C' nor 'F' order,\\n    and a copy is forced by a change in dtype, then the order of the result is\\n    not necessarily 'C' as expected. This is likely a bug.\\n\\n    Examples\\n    --------\\n    >>> np.array([1, 2, 3])\\n    array([1, 2, 3])\\n\\n    Upcasting:\\n\\n    >>> np.array([1, 2, 3.0])\\n    array([ 1.,  2.,  3.])\\n\\n    More than one dimension:\\n\\n    >>> np.array([[1, 2], [3, 4]])\\n    array([[1, 2],\\n           [3, 4]])\\n\\n    Minimum dimensions 2:\\n\\n    >>> np.array([1, 2, 3], ndmin=2)\\n    array([[1, 2, 3]])\\n\\n    Type provided:\\n\\n    >>> np.array([1, 2, 3], dtype=complex)\\n    array([ 1.+0.j,  2.+0.j,  3.+0.j])\\n\\n    Data-type consisting of more than one element:\\n\\n    >>> x = np.array([(1,2),(3,4)],dtype=[('a','<i4'),('b','<i4')])\\n    >>> x['a']\\n    array([1, 3])\\n\\n    Creating an array from sub-classes:\\n\\n    >>> np.array(np.mat('1 2; 3 4'))\\n    array([[1, 2],\\n           [3, 4]])\\n\\n    >>> np.array(np.mat('1 2; 3 4'), subok=True)\\n    matrix([[1, 2],\\n            [3, 4]])\""
            ]
          },
          "metadata": {
            "tags": []
          },
          "execution_count": 10
        }
      ]
    },
    {
      "cell_type": "markdown",
      "metadata": {
        "id": "78ymIEMoKP70",
        "colab_type": "text"
      },
      "source": [
        "##Стили написания docstring"
      ]
    },
    {
      "cell_type": "markdown",
      "metadata": {
        "id": "vOjTLgubEwRT",
        "colab_type": "text"
      },
      "source": [
        "Существует несколько стилей написания многострочных docstring. При написании проекта необходимо придерживаться только одного стиля."
      ]
    },
    {
      "cell_type": "code",
      "metadata": {
        "id": "0gzJTfmwFu_U",
        "colab_type": "code",
        "colab": {}
      },
      "source": [
        "# Sphinx style\n",
        "def create_nn(neoronsL1, neuronsL2, neuronsL3, innerActivation, outputActivation):\n",
        "  \"\"\"\n",
        "  Функция, создающая нейронную сеть\n",
        "\n",
        "  :param neoronsL1: нейронов в первом слое\n",
        "  :type neoronsL1: int\n",
        "  :param neoronsL2: нейронов во втором слое, 0 - если не делать слой\n",
        "  :type neoronsL1: int\n",
        "  :param neoronsL3: нейронов в третьем слое, 0 - если не делать слой\n",
        "  :type neoronsL1: int\n",
        "  :param innerActivation: активационная функция скрытых слоёв\n",
        "  :type innerActivation: str\n",
        "  :param outputActivation: активационная функция выходного слоя\n",
        "  :type outputActivation: str\n",
        "  :return model: модель нейронной сети\n",
        "  :rtype: Sequential\n",
        "  \n",
        "  \"\"\"\n",
        "  model = Sequential() \n",
        "  model.add(Dense(neoronsL1, input_dim=784, activation=innerActivation)) \n",
        "  \n",
        "  if (neuronsL2 > 0):\n",
        "    model.add(Dense(neuronsL2, activation=innerActivation))\n",
        "  \n",
        "  if (neuronsL3 > 0):\n",
        "    model.add(Dense(neuronsL3, activation=innerActivation))\n",
        "    \n",
        "  model.add(Dense(10, activation=outputActivation))\n",
        "  \n",
        "  model.compile(loss=\"categorical_crossentropy\", optimizer=\"adam\", metrics=[\"accuracy\"])\n",
        "  \n",
        "  return model"
      ],
      "execution_count": 0,
      "outputs": []
    },
    {
      "cell_type": "code",
      "metadata": {
        "id": "rHlhXNGRH_EX",
        "colab_type": "code",
        "colab": {}
      },
      "source": [
        "# Google style\n",
        "def create_nn(neoronsL1, neuronsL2, neuronsL3, innerActivation, outputActivation):\n",
        "  \"\"\"\n",
        "  Функция, создающая нейронную сеть\n",
        "  Аргументы:\n",
        "    neoronsL1 (int): нейронов в первом слое\n",
        "    neoronsL2 (int): нейронов во втором слое, 0 - если не делать слой\n",
        "    neoronsL3 (int): нейронов в третьем слое, 0 - если не делать слой\n",
        "    innerActivation (str): активационная функция скрытых слоёв\n",
        "    outputActivation (str): активационная функция выходного слоя\n",
        "  Возвращает:\n",
        "    Sequential: модель нейронной сети\n",
        "  \n",
        "  \"\"\"\n",
        "  model = Sequential() \n",
        "  model.add(Dense(neoronsL1, input_dim=784, activation=innerActivation)) \n",
        "  \n",
        "  if (neuronsL2 > 0):\n",
        "    model.add(Dense(neuronsL2, activation=innerActivation))\n",
        "  \n",
        "  if (neuronsL3 > 0):\n",
        "    model.add(Dense(neuronsL3, activation=innerActivation))\n",
        "    \n",
        "  model.add(Dense(10, activation=outputActivation))\n",
        "  \n",
        "  model.compile(loss=\"categorical_crossentropy\", optimizer=\"adam\", metrics=[\"accuracy\"])\n",
        "  \n",
        "  return model"
      ],
      "execution_count": 0,
      "outputs": []
    },
    {
      "cell_type": "code",
      "metadata": {
        "id": "T-ADueiaI3f3",
        "colab_type": "code",
        "colab": {}
      },
      "source": [
        "# Numpy style\n",
        "def create_nn(neoronsL1, neuronsL2, neuronsL3, innerActivation, outputActivation):\n",
        "  \"\"\"\n",
        "  Функция, создающая нейронную сеть\n",
        "\n",
        "  Параметры\n",
        "  ---------\n",
        "  neoronsL1: int  \n",
        "             нейронов в первом слое\n",
        "  neuronsL2: int  \n",
        "             нейронов в втором слое, 0 - если не делать слой\n",
        "  neuronsL3: int  \n",
        "             нейронов в третьем слое, 0 - если не делать слой\n",
        "  innerActivation: str \n",
        "             активационная функция скрытых слоёв\n",
        "  outputActivation: str \n",
        "             активационная функция выходного слоя  \n",
        "\n",
        "  Возвращает\n",
        "  ----------\n",
        "  model: Sequential\n",
        "             модель нейронной сети\n",
        "\n",
        "  \"\"\"\n",
        "  model = Sequential() \n",
        "  model.add(Dense(neoronsL1, input_dim=784, activation=innerActivation)) \n",
        "  \n",
        "  if (neuronsL2 > 0):\n",
        "    model.add(Dense(neuronsL2, activation=innerActivation))\n",
        "  \n",
        "  if (neuronsL3 > 0):\n",
        "    model.add(Dense(neuronsL3, activation=innerActivation))\n",
        "    \n",
        "  model.add(Dense(10, activation=outputActivation))\n",
        "  \n",
        "  model.compile(loss=\"categorical_crossentropy\", optimizer=\"adam\", metrics=[\"accuracy\"])\n",
        "  \n",
        "  return model"
      ],
      "execution_count": 0,
      "outputs": []
    },
    {
      "cell_type": "markdown",
      "metadata": {
        "id": "MZddSUr2GusQ",
        "colab_type": "text"
      },
      "source": [
        "##Общие рекомендации"
      ]
    },
    {
      "cell_type": "markdown",
      "metadata": {
        "id": "HG5CqJDHG0MI",
        "colab_type": "text"
      },
      "source": [
        "1. Для docstring всегда использовать тройные кавычки, даже для однострочных\n",
        "2. Длинные комментарии лучше разбивать на отдельные строчки (Руководство по стилю для кода Python ( PEP8 ) рекомендует менее 72 символов на строку для комментария)\n",
        "3. Не нужно комментировать очевидные вещи (простое присвоение переменных, простые операции, и т.д.)\n",
        "4. Как правило, для крупных проектов документация пишется на английском языке\n",
        "5. Для крупных проектов нужно выбирать единый стиль написания docstring"
      ]
    }
  ]
}