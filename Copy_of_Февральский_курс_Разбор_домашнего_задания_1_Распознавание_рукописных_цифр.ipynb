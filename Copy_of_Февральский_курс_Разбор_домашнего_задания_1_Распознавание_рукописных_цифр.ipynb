{
  "nbformat": 4,
  "nbformat_minor": 0,
  "metadata": {
    "colab": {
      "name": "Copy of Февральский курс. Разбор домашнего задания #1. Распознавание рукописных цифр",
      "provenance": [],
      "collapsed_sections": [],
      "include_colab_link": true
    },
    "kernelspec": {
      "name": "python3",
      "display_name": "Python 3"
    },
    "accelerator": "GPU"
  },
  "cells": [
    {
      "cell_type": "markdown",
      "metadata": {
        "id": "view-in-github",
        "colab_type": "text"
      },
      "source": [
        "<a href=\"https://colab.research.google.com/github/errec-sun/brain/blob/master/Copy_of_%D0%A4%D0%B5%D0%B2%D1%80%D0%B0%D0%BB%D1%8C%D1%81%D0%BA%D0%B8%D0%B9_%D0%BA%D1%83%D1%80%D1%81_%D0%A0%D0%B0%D0%B7%D0%B1%D0%BE%D1%80_%D0%B4%D0%BE%D0%BC%D0%B0%D1%88%D0%BD%D0%B5%D0%B3%D0%BE_%D0%B7%D0%B0%D0%B4%D0%B0%D0%BD%D0%B8%D1%8F_1_%D0%A0%D0%B0%D1%81%D0%BF%D0%BE%D0%B7%D0%BD%D0%B0%D0%B2%D0%B0%D0%BD%D0%B8%D0%B5_%D1%80%D1%83%D0%BA%D0%BE%D0%BF%D0%B8%D1%81%D0%BD%D1%8B%D1%85_%D1%86%D0%B8%D1%84%D1%80.ipynb\" target=\"_parent\"><img src=\"https://colab.research.google.com/assets/colab-badge.svg\" alt=\"Open In Colab\"/></a>"
      ]
    },
    {
      "cell_type": "markdown",
      "metadata": {
        "id": "Ah7dy1kFL2H9",
        "colab_type": "text"
      },
      "source": [
        "# Распознавание рукописных цифр из набора данных MNIST с помощью Keras\n",
        "\n",
        "Чтобы запускать и редактировать код, сохраните копию этого ноутбука себе (File->Save a copy in Drive...). Свою копию вы сможете изменять и запускать."
      ]
    },
    {
      "cell_type": "code",
      "metadata": {
        "id": "qrfd6FzSLrE2",
        "colab_type": "code",
        "colab": {}
      },
      "source": [
        "from tensorflow.keras.datasets import mnist #Библиотека с базой Mnist\n",
        "from tensorflow.keras.models import Sequential #НС прямого распространения\n",
        "from tensorflow.keras.layers import Dense #Полносвязные слой\n",
        "from tensorflow.keras import utils #Утилиты для to_categorical\n",
        "from tensorflow.keras.preprocessing import image #Для отрисовки изображения\n",
        "from google.colab import files #Для загрузки своей картинки\n",
        "import numpy as np #Библиотека работы с массивами\n",
        "import matplotlib.pyplot as plt #Отрисовка изображений\n",
        "from PIL import Image #Отрисовка изображений\n",
        "#Отрисовывать изображения в ноутбуке, а не в консоль или файл\n",
        "%matplotlib inline "
      ],
      "execution_count": 0,
      "outputs": []
    },
    {
      "cell_type": "markdown",
      "metadata": {
        "id": "xiurjCBVMDTG",
        "colab_type": "text"
      },
      "source": [
        "## Подготовка данных для обучения сети"
      ]
    },
    {
      "cell_type": "markdown",
      "metadata": {
        "id": "1yDF75Cx8VPz",
        "colab_type": "text"
      },
      "source": [
        "**Загружаем набор данных с рукописными цифрами**"
      ]
    },
    {
      "cell_type": "code",
      "metadata": {
        "id": "E5L3LUIi8PDV",
        "colab_type": "code",
        "outputId": "fcaec934-e8f1-40f5-a4b5-819a66a4445b",
        "colab": {
          "base_uri": "https://localhost:8080/",
          "height": 51
        }
      },
      "source": [
        "#Загрузка данных Mnist\n",
        "#x_train_org - входные картинки, обучающая выбрка\n",
        "#y_train_org - выходные индексы, обучающая выборка\n",
        "#x_test_org - входные картинки, тестовая выбрка\n",
        "#y_test_org - выходные индексы, тестовая выборка\n",
        "(x_train_org, y_train_org), (x_test_org, y_test_org) = mnist.load_data()"
      ],
      "execution_count": 0,
      "outputs": [
        {
          "output_type": "stream",
          "text": [
            "Downloading data from https://storage.googleapis.com/tensorflow/tf-keras-datasets/mnist.npz\n",
            "11493376/11490434 [==============================] - 0s 0us/step\n"
          ],
          "name": "stdout"
        }
      ]
    },
    {
      "cell_type": "code",
      "metadata": {
        "id": "ga0DtPJQVkEh",
        "colab_type": "code",
        "outputId": "89a4a9eb-77f0-4397-9611-e8db9c6bd480",
        "colab": {
          "base_uri": "https://localhost:8080/",
          "height": 265
        }
      },
      "source": [
        "n = 1897 #Номер картинки\n",
        "\n",
        "#Отрисовка картинки\n",
        "#Image.fromarray - создание картинки по массиву\n",
        "#.convert('RGBA') - преобразование в RGBA формат\n",
        "plt.imshow(Image.fromarray(x_train_org[n]).convert('RGBA'))\n",
        "plt.show()"
      ],
      "execution_count": 0,
      "outputs": [
        {
          "output_type": "display_data",
          "data": {
            "image/png": "[encoded data removed]",
            "text/plain": [
              "<Figure size 432x288 with 1 Axes>"
            ]
          },
          "metadata": {
            "tags": []
          }
        }
      ]
    },
    {
      "cell_type": "markdown",
      "metadata": {
        "id": "7uXTnIojJLbl",
        "colab_type": "text"
      },
      "source": [
        "**Преобразование размерности данных в наборе**"
      ]
    },
    {
      "cell_type": "code",
      "metadata": {
        "id": "GBAqLKjGJJ-V",
        "colab_type": "code",
        "colab": {}
      },
      "source": [
        "#Меняем формат входных картинок с 28х28 на 784х1\n",
        "#Это нужно для удобства работы с полносвязным слоем (Dense)\n",
        "#С двумерной картинкой мы будем работать в будущем с помощью свёрточных сетей\n",
        "#Функция .reshape меняет размер массива\n",
        "x_train = x_train_org.reshape(60000, 784)\n",
        "x_test = x_test_org.reshape(10000, 784)"
      ],
      "execution_count": 0,
      "outputs": []
    },
    {
      "cell_type": "markdown",
      "metadata": {
        "id": "hDaHO5LgJYxU",
        "colab_type": "text"
      },
      "source": [
        "**Нормализация данных**"
      ]
    },
    {
      "cell_type": "code",
      "metadata": {
        "id": "rscaAuBNJdq9",
        "colab_type": "code",
        "colab": {}
      },
      "source": [
        "#Нормализуем входные картинки\n",
        "#НС лучше работают, если данные нормаваны от 0 до 1\n",
        "#Сейчас значения во входных картинках от 0 до 255\n",
        "#Надо разделить картинки на 255\n",
        "#И сначала преобразовать картинки в тип float (цифры с плавающей точкой)\n",
        "x_train = x_train.astype('float32')\n",
        "x_train = x_train / 255\n",
        "x_test = x_test.astype('float32')\n",
        "x_test = x_test / 255 "
      ],
      "execution_count": 0,
      "outputs": []
    },
    {
      "cell_type": "markdown",
      "metadata": {
        "id": "KRcMlNzqJk1t",
        "colab_type": "text"
      },
      "source": [
        "**Работа с правильными ответами**"
      ]
    },
    {
      "cell_type": "code",
      "metadata": {
        "id": "A5lKe_syJqPu",
        "colab_type": "code",
        "outputId": "e3f3a5c2-7916-49ee-ebf1-3ea203a93a04",
        "colab": {
          "base_uri": "https://localhost:8080/",
          "height": 34
        }
      },
      "source": [
        "#Выводим пример индекса в выходных данных\n",
        "print(y_train_org[n])"
      ],
      "execution_count": 0,
      "outputs": [
        {
          "output_type": "stream",
          "text": [
            "0\n"
          ],
          "name": "stdout"
        }
      ]
    },
    {
      "cell_type": "markdown",
      "metadata": {
        "id": "zqJ9GA1kJxBF",
        "colab_type": "text"
      },
      "source": [
        "**Преобразуем метки в формат one hot encoding**"
      ]
    },
    {
      "cell_type": "code",
      "metadata": {
        "id": "zQnasUyyJ3cG",
        "colab_type": "code",
        "colab": {}
      },
      "source": [
        "#НС сложно работать с чистыми индексами от 0 до 9\n",
        "#Ей проще работать с данными в формате one hot encoding\n",
        "#Это формат из 10 цифр - все 0 и одна 1 там, где правильный ответ\n",
        "#Например\n",
        "#Индекс 0 - это [1 0 0 0 0 0 0 0 0 0]\n",
        "#Индекс 2 - это [0 0 1 0 0 0 0 0 0 0]\n",
        "#Индекс 9 - это [0 0 0 0 0 0 0 0 0 1]\n",
        "#Это делается функцией utils.to_categorical(\n",
        "#Второй параметр - это количество классов, у нас - 10\n",
        "y_train = utils.to_categorical(y_train_org, 10)\n",
        "y_test = utils.to_categorical(y_test_org, 10)"
      ],
      "execution_count": 0,
      "outputs": []
    },
    {
      "cell_type": "markdown",
      "metadata": {
        "id": "KfuqlyjHJ_ye",
        "colab_type": "text"
      },
      "source": [
        "**Правильный ответ в формате one hot encoding**"
      ]
    },
    {
      "cell_type": "code",
      "metadata": {
        "id": "9zUfd1aeKH3e",
        "colab_type": "code",
        "outputId": "2bec0df7-6444-4709-9273-06047b48a51e",
        "colab": {
          "base_uri": "https://localhost:8080/",
          "height": 34
        }
      },
      "source": [
        "#Выводим размер y_train\n",
        "#60 тысяч примеров, каждый размера 10 (так как 10 классов)\n",
        "print(y_train.shape)"
      ],
      "execution_count": 0,
      "outputs": [
        {
          "output_type": "stream",
          "text": [
            "(60000, 10)\n"
          ],
          "name": "stdout"
        }
      ]
    },
    {
      "cell_type": "code",
      "metadata": {
        "id": "KWYwnS5giydM",
        "colab_type": "code",
        "outputId": "1324ba72-3a1f-4bf0-8754-5a5418de7336",
        "colab": {
          "base_uri": "https://localhost:8080/",
          "height": 34
        }
      },
      "source": [
        "#Выводим пример одного выходного вектора\n",
        "print(y_train[n])"
      ],
      "execution_count": 0,
      "outputs": [
        {
          "output_type": "stream",
          "text": [
            "[1. 0. 0. 0. 0. 0. 0. 0. 0. 0.]\n"
          ],
          "name": "stdout"
        }
      ]
    },
    {
      "cell_type": "code",
      "metadata": {
        "id": "wRMPeL_dvCRF",
        "colab_type": "code",
        "colab": {}
      },
      "source": [
        "n = 50000\n",
        "x_val = x_train[n:]\n",
        "y_val = y_train[n:]\n",
        "y_val_org = y_train_org[n:]\n",
        "x_train = x_train[:n]\n",
        "y_train = y_train[:n]\n",
        "y_train_org = y_train_org[:n]"
      ],
      "execution_count": 0,
      "outputs": []
    },
    {
      "cell_type": "markdown",
      "metadata": {
        "id": "BmTr_lXTKNbN",
        "colab_type": "text"
      },
      "source": [
        "## Создаем нейронную сеть"
      ]
    },
    {
      "cell_type": "markdown",
      "metadata": {
        "id": "fV_igNZuMNXe",
        "colab_type": "text"
      },
      "source": [
        "**Создаем последовательную модель**"
      ]
    },
    {
      "cell_type": "code",
      "metadata": {
        "id": "D-jPYYxIKQkt",
        "colab_type": "code",
        "colab": {}
      },
      "source": [
        "#Создаём сеть прямого распространения\n",
        "#Пока она пустая\n",
        "#Подробнее на https://keras.io/models/sequential/\n",
        "model = Sequential()"
      ],
      "execution_count": 0,
      "outputs": []
    },
    {
      "cell_type": "markdown",
      "metadata": {
        "id": "Q3QzIVtBMQRG",
        "colab_type": "text"
      },
      "source": [
        "**Добавляем уровни сети**\n"
      ]
    },
    {
      "cell_type": "code",
      "metadata": {
        "id": "kYVSvpNIMSnG",
        "colab_type": "code",
        "colab": {}
      },
      "source": [
        "#Добавляем в сеть полносвязные слои\n",
        "#Dense - полносвязный слой, подробнее на https://keras.io/layers/core/\n",
        "#Первый парамерт - количество нейронок, обычно от 2 до 2000, подбирается в ходе исследования\n",
        "#input_dim - размер входного вектора, указывается только в первом слое сети\n",
        "#activation - активационная функция нейронов данного слоя\n",
        "#relu - одна из активационных функций, подробнее на https://keras.io/activations/\n",
        "model.add(Dense(200, input_dim=784, activation=\"relu\"))\n",
        "\n",
        "#Выходной полносвязный слой, 10 нейронов (по количеству рукописных цифр)\n",
        "#activation=\"softmax\" - активационная функция, \n",
        "#которая делает сумму всех значений нейронов слой, равной 1\n",
        "#Подробнее https://keras.io/activations/\n",
        "model.add(Dense(10, activation=\"softmax\"))"
      ],
      "execution_count": 0,
      "outputs": []
    },
    {
      "cell_type": "markdown",
      "metadata": {
        "id": "G__m76T-KWhd",
        "colab_type": "text"
      },
      "source": [
        "**Компилируем сеть**"
      ]
    },
    {
      "cell_type": "code",
      "metadata": {
        "id": "PTcbSxchKZjd",
        "colab_type": "code",
        "outputId": "a03850f8-703d-4479-e393-1e3ef86e31af",
        "colab": {
          "base_uri": "https://localhost:8080/",
          "height": 238
        }
      },
      "source": [
        "#Нейронку надо \"скомпилировать\"\n",
        "#При компиляции мы задаём несколько параметров\n",
        "#loss - функция ошибки, которую оптимизирует сеть\n",
        "#categorical_crossentropy - одна из функций ошибки, подходящая для классификации нескольких классов, подробнее https://keras.io/activations/\n",
        "#optimizer - алгоритм обучения НС\n",
        "#adam - один из алгоритмов обучения НС, подробнее https://keras.io/optimizers/\n",
        "#metrics - метрика качества обучения, измеряется после каждой эпохи обучения\n",
        "#accuracy - метрика, процент правильно распознанных примеров, подробнее https://keras.io/metrics/\n",
        "model.compile(loss=\"categorical_crossentropy\", optimizer=\"adam\", metrics=[\"accuracy\"])\n",
        "\n",
        "#Вывод структуры нейронки\n",
        "print(model.summary())"
      ],
      "execution_count": 0,
      "outputs": [
        {
          "output_type": "stream",
          "text": [
            "Model: \"sequential_1\"\n",
            "_________________________________________________________________\n",
            "Layer (type)                 Output Shape              Param #   \n",
            "=================================================================\n",
            "dense_2 (Dense)              (None, 200)               157000    \n",
            "_________________________________________________________________\n",
            "dense_3 (Dense)              (None, 10)                2010      \n",
            "=================================================================\n",
            "Total params: 159,010\n",
            "Trainable params: 159,010\n",
            "Non-trainable params: 0\n",
            "_________________________________________________________________\n",
            "None\n"
          ],
          "name": "stdout"
        }
      ]
    },
    {
      "cell_type": "markdown",
      "metadata": {
        "id": "lspCHiaCKl72",
        "colab_type": "text"
      },
      "source": [
        "## Обучаем нейронную сеть"
      ]
    },
    {
      "cell_type": "code",
      "metadata": {
        "id": "H6EIXu1dKoju",
        "colab_type": "code",
        "outputId": "a57dcd0e-e339-44c6-aff5-dc871186102b",
        "colab": {
          "base_uri": "https://localhost:8080/",
          "height": 391
        }
      },
      "source": [
        "#fit - функция обучения нейронки\n",
        "#x_train, y_train - обучающая выборка, входные и выходные данные\n",
        "#batch_size - размер батча, количество примеров, которое обрабатывает нейронка, перед одним изменением весов\n",
        "#epochs - количество эпох, когда нейронка обучается на всех примерах выбрки\n",
        "#verbose - 0 - не визуализировать ход обучения, 1 - визуализировать\n",
        "#validation_split - процент данных, на которых сеть не обучается, на которых мы измеряем точность распознавания\n",
        "model.fit(x_train, y_train, batch_size=200, epochs=10,  verbose=1, validation_data=(x_val, y_val))"
      ],
      "execution_count": 0,
      "outputs": [
        {
          "output_type": "stream",
          "text": [
            "Train on 50000 samples, validate on 10000 samples\n",
            "Epoch 1/10\n",
            "50000/50000 [==============================] - 1s 15us/sample - loss: 0.4024 - acc: 0.8903 - val_loss: 0.2039 - val_acc: 0.9449\n",
            "Epoch 2/10\n",
            "50000/50000 [==============================] - 1s 14us/sample - loss: 0.1845 - acc: 0.9474 - val_loss: 0.1533 - val_acc: 0.9597\n",
            "Epoch 3/10\n",
            "50000/50000 [==============================] - 1s 14us/sample - loss: 0.1324 - acc: 0.9620 - val_loss: 0.1212 - val_acc: 0.9652\n",
            "Epoch 4/10\n",
            "50000/50000 [==============================] - 1s 13us/sample - loss: 0.1023 - acc: 0.9713 - val_loss: 0.1086 - val_acc: 0.9678\n",
            "Epoch 5/10\n",
            "50000/50000 [==============================] - 1s 14us/sample - loss: 0.0816 - acc: 0.9767 - val_loss: 0.0982 - val_acc: 0.9717\n",
            "Epoch 6/10\n",
            "50000/50000 [==============================] - 1s 13us/sample - loss: 0.0659 - acc: 0.9814 - val_loss: 0.0952 - val_acc: 0.9720\n",
            "Epoch 7/10\n",
            "50000/50000 [==============================] - 1s 13us/sample - loss: 0.0554 - acc: 0.9849 - val_loss: 0.0902 - val_acc: 0.9730\n",
            "Epoch 8/10\n",
            "50000/50000 [==============================] - 1s 13us/sample - loss: 0.0466 - acc: 0.9871 - val_loss: 0.0880 - val_acc: 0.9734\n",
            "Epoch 9/10\n",
            "50000/50000 [==============================] - 1s 15us/sample - loss: 0.0386 - acc: 0.9898 - val_loss: 0.0827 - val_acc: 0.9747\n",
            "Epoch 10/10\n",
            "50000/50000 [==============================] - 1s 14us/sample - loss: 0.0329 - acc: 0.9915 - val_loss: 0.0791 - val_acc: 0.9765\n"
          ],
          "name": "stdout"
        },
        {
          "output_type": "execute_result",
          "data": {
            "text/plain": [
              "<tensorflow.python.keras.callbacks.History at 0x7f94301970b8>"
            ]
          },
          "metadata": {
            "tags": []
          },
          "execution_count": 26
        }
      ]
    },
    {
      "cell_type": "markdown",
      "metadata": {
        "id": "8EN71oCir08k",
        "colab_type": "text"
      },
      "source": [
        "#Фильтруем обучающую выборку"
      ]
    },
    {
      "cell_type": "code",
      "metadata": {
        "id": "B7094XPjr53E",
        "colab_type": "code",
        "colab": {}
      },
      "source": [
        "pred = model.predict(x_train)\n",
        "pred = np.argmax(pred, axis=1)"
      ],
      "execution_count": 0,
      "outputs": []
    },
    {
      "cell_type": "code",
      "metadata": {
        "id": "45dnL7NusPoY",
        "colab_type": "code",
        "outputId": "24238aa1-c706-41f3-fe49-453e00a243cc",
        "colab": {
          "base_uri": "https://localhost:8080/",
          "height": 51
        }
      },
      "source": [
        "print(pred[:20])\n",
        "print(y_train_org[:20])"
      ],
      "execution_count": 0,
      "outputs": [
        {
          "output_type": "stream",
          "text": [
            "[5 0 4 1 9 2 1 3 1 4 3 5 3 6 1 7 2 8 6 9]\n",
            "[5 0 4 1 9 2 1 3 1 4 3 5 3 6 1 7 2 8 6 9]\n"
          ],
          "name": "stdout"
        }
      ]
    },
    {
      "cell_type": "code",
      "metadata": {
        "id": "qiarcau7r0hx",
        "colab_type": "code",
        "outputId": "c62ac560-2e67-4dd8-9f68-af8f8cfc6987",
        "colab": {
          "base_uri": "https://localhost:8080/",
          "height": 187
        }
      },
      "source": [
        "mask = pred == y_train_org\n",
        "print(mask.shape)\n",
        "print(mask[:100])"
      ],
      "execution_count": 0,
      "outputs": [
        {
          "output_type": "stream",
          "text": [
            "(50000,)\n",
            "[ True  True  True  True  True  True  True  True  True  True  True  True\n",
            "  True  True  True  True  True  True  True  True  True  True  True  True\n",
            "  True  True  True  True  True  True  True  True  True  True  True  True\n",
            "  True  True  True  True  True  True  True  True  True  True  True  True\n",
            "  True  True  True  True  True  True  True  True  True  True  True  True\n",
            "  True  True  True  True  True  True  True  True  True  True  True  True\n",
            "  True  True  True  True  True  True  True  True  True  True  True  True\n",
            "  True  True  True  True  True  True  True  True  True  True  True  True\n",
            "  True  True  True  True]\n"
          ],
          "name": "stdout"
        }
      ]
    },
    {
      "cell_type": "code",
      "metadata": {
        "id": "buVRJsoZs2Qu",
        "colab_type": "code",
        "colab": {}
      },
      "source": [
        "x_train_filtered = x_train[mask]\n",
        "y_train_filtered = y_train[mask]"
      ],
      "execution_count": 0,
      "outputs": []
    },
    {
      "cell_type": "code",
      "metadata": {
        "id": "yPgV1gYas_JS",
        "colab_type": "code",
        "outputId": "d6d72add-e795-4256-b3cc-79839cf16065",
        "colab": {
          "base_uri": "https://localhost:8080/",
          "height": 51
        }
      },
      "source": [
        "print(x_train_filtered.shape)\n",
        "print(y_train_filtered.shape)"
      ],
      "execution_count": 0,
      "outputs": [
        {
          "output_type": "stream",
          "text": [
            "(49749, 784)\n",
            "(49749, 10)\n"
          ],
          "name": "stdout"
        }
      ]
    },
    {
      "cell_type": "code",
      "metadata": {
        "id": "ekogXF1otDeC",
        "colab_type": "code",
        "outputId": "0ec78faf-4d8d-4f41-e111-1259933beb15",
        "colab": {
          "base_uri": "https://localhost:8080/",
          "height": 391
        }
      },
      "source": [
        "model_f = Sequential()\n",
        "model_f.add(Dense(200, input_dim=784, activation=\"relu\"))\n",
        "model_f.add(Dense(10, activation=\"softmax\"))\n",
        "model_f.compile(loss=\"categorical_crossentropy\", optimizer=\"adam\", metrics=[\"accuracy\"])\n",
        "model_f.fit(x_train_filtered, y_train_filtered, batch_size=200, epochs=10,  verbose=1, validation_data=(x_val, y_val))"
      ],
      "execution_count": 0,
      "outputs": [
        {
          "output_type": "stream",
          "text": [
            "Train on 49749 samples, validate on 10000 samples\n",
            "Epoch 1/10\n",
            "49749/49749 [==============================] - 1s 16us/sample - loss: 0.3821 - acc: 0.8944 - val_loss: 0.2051 - val_acc: 0.9439\n",
            "Epoch 2/10\n",
            "49749/49749 [==============================] - 1s 15us/sample - loss: 0.1632 - acc: 0.9526 - val_loss: 0.1445 - val_acc: 0.9607\n",
            "Epoch 3/10\n",
            "49749/49749 [==============================] - 1s 15us/sample - loss: 0.1126 - acc: 0.9671 - val_loss: 0.1184 - val_acc: 0.9661\n",
            "Epoch 4/10\n",
            "49749/49749 [==============================] - 1s 14us/sample - loss: 0.0828 - acc: 0.9755 - val_loss: 0.1080 - val_acc: 0.9690\n",
            "Epoch 5/10\n",
            "49749/49749 [==============================] - 1s 14us/sample - loss: 0.0641 - acc: 0.9816 - val_loss: 0.0980 - val_acc: 0.9721\n",
            "Epoch 6/10\n",
            "49749/49749 [==============================] - 1s 14us/sample - loss: 0.0498 - acc: 0.9857 - val_loss: 0.0944 - val_acc: 0.9737\n",
            "Epoch 7/10\n",
            "49749/49749 [==============================] - 1s 15us/sample - loss: 0.0402 - acc: 0.9890 - val_loss: 0.0865 - val_acc: 0.9748\n",
            "Epoch 8/10\n",
            "49749/49749 [==============================] - 1s 17us/sample - loss: 0.0325 - acc: 0.9915 - val_loss: 0.0853 - val_acc: 0.9749\n",
            "Epoch 9/10\n",
            "49749/49749 [==============================] - 1s 14us/sample - loss: 0.0263 - acc: 0.9940 - val_loss: 0.0877 - val_acc: 0.9735\n",
            "Epoch 10/10\n",
            "49749/49749 [==============================] - 1s 14us/sample - loss: 0.0212 - acc: 0.9954 - val_loss: 0.0822 - val_acc: 0.9753\n"
          ],
          "name": "stdout"
        },
        {
          "output_type": "execute_result",
          "data": {
            "text/plain": [
              "<tensorflow.python.keras.callbacks.History at 0x7f94300e4b38>"
            ]
          },
          "metadata": {
            "tags": []
          },
          "execution_count": 32
        }
      ]
    },
    {
      "cell_type": "code",
      "metadata": {
        "id": "_f-HsjTS3Aux",
        "colab_type": "code",
        "outputId": "ac9bac3f-88f1-4984-d089-6dc5dd1412fd",
        "colab": {
          "base_uri": "https://localhost:8080/",
          "height": 85
        }
      },
      "source": [
        "ev = model.evaluate(x_test, y_test)\n",
        "ev_f = model_f.evaluate(x_test, y_test)\n",
        "\n",
        "print('Точность на тестовой до фильтрации', ev[1])\n",
        "print('Точность на тестовой после фильтрации', ev_f[1])"
      ],
      "execution_count": 0,
      "outputs": [
        {
          "output_type": "stream",
          "text": [
            "10000/10000 [==============================] - 0s 49us/sample - loss: 0.0709 - acc: 0.9778\n",
            "10000/10000 [==============================] - 0s 44us/sample - loss: 0.0829 - acc: 0.9765\n",
            "Точность на тестовой до фильтрации 0.9778\n",
            "Точность на тестовой после фильтрации 0.9765\n"
          ],
          "name": "stdout"
        }
      ]
    }
  ]
}