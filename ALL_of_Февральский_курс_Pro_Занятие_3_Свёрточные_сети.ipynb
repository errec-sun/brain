{
  "nbformat": 4,
  "nbformat_minor": 0,
  "metadata": {
    "colab": {
      "name": "Copy of Февральский курс. Pro. Занятие 3. Свёрточные сети",
      "provenance": [],
      "collapsed_sections": [],
      "include_colab_link": true
    },
    "kernelspec": {
      "name": "python3",
      "display_name": "Python 3"
    },
    "accelerator": "GPU"
  },
  "cells": [
    {
      "cell_type": "markdown",
      "metadata": {
        "id": "view-in-github",
        "colab_type": "text"
      },
      "source": [
        "<a href=\"https://colab.research.google.com/github/errec-sun/brain/blob/master/ALL_of_%D0%A4%D0%B5%D0%B2%D1%80%D0%B0%D0%BB%D1%8C%D1%81%D0%BA%D0%B8%D0%B9_%D0%BA%D1%83%D1%80%D1%81_Pro_%D0%97%D0%B0%D0%BD%D1%8F%D1%82%D0%B8%D0%B5_3_%D0%A1%D0%B2%D1%91%D1%80%D1%82%D0%BE%D1%87%D0%BD%D1%8B%D0%B5_%D1%81%D0%B5%D1%82%D0%B8.ipynb\" target=\"_parent\"><img src=\"https://colab.research.google.com/assets/colab-badge.svg\" alt=\"Open In Colab\"/></a>"
      ]
    },
    {
      "cell_type": "markdown",
      "metadata": {
        "id": "Ah7dy1kFL2H9",
        "colab_type": "text"
      },
      "source": [
        "# Распознавание изображений из набора данных MNIST и CIFAR-10 с помощью свёрточный нейронных сетей\n",
        "\n",
        "Чтобы запускать и редактировать код, сохраните копию этого ноутбука себе (File->Save a copy in Drive...). Свою копию вы сможете изменять и запускать."
      ]
    },
    {
      "cell_type": "markdown",
      "metadata": {
        "id": "-RYt5ug5AP7-",
        "colab_type": "text"
      },
      "source": [
        "#Подготовка данных\n",
        "Подключение библиотек"
      ]
    },
    {
      "cell_type": "code",
      "metadata": {
        "id": "ivmw9St3nFnx",
        "colab_type": "code",
        "outputId": "53bca5b2-4833-4627-ef14-cd881bbe208f",
        "colab": {
          "base_uri": "https://localhost:8080/",
          "height": 80
        }
      },
      "source": [
        "from keras.datasets import mnist #Загружаем базу mnist\n",
        "from keras.datasets import cifar10 #Загружаем базу cifar10\n",
        "from keras.datasets import cifar100 #Загружаем базу cifar100\n",
        "\n",
        "from tensorflow.keras.models import Sequential #Сеть прямого распространения\n",
        "#Базовые слои для счёрточный сетей\n",
        "from tensorflow.keras.layers import Dense, Conv2D, MaxPooling2D, Flatten, Dropout, BatchNormalization, GlobalAveragePooling2D\n",
        "from tensorflow.keras import utils #Используем дял to_categoricall\n",
        "from tensorflow.keras.preprocessing import image #Для отрисовки изображений\n",
        "from google.colab import files #Для загрузки своей картинки\n",
        "import numpy as np #Библиотека работы с массивами\n",
        "import matplotlib.pyplot as plt #Для отрисовки графиков\n",
        "from PIL import Image #Для отрисовки изображений"
      ],
      "execution_count": 1,
      "outputs": [
        {
          "output_type": "stream",
          "text": [
            "Using TensorFlow backend.\n"
          ],
          "name": "stderr"
        },
        {
          "output_type": "display_data",
          "data": {
            "text/html": [
              "<p style=\"color: red;\">\n",
              "The default version of TensorFlow in Colab will soon switch to TensorFlow 2.x.<br>\n",
              "We recommend you <a href=\"https://www.tensorflow.org/guide/migrate\" target=\"_blank\">upgrade</a> now \n",
              "or ensure your notebook will continue to use TensorFlow 1.x via the <code>%tensorflow_version 1.x</code> magic:\n",
              "<a href=\"https://colab.research.google.com/notebooks/tensorflow_version.ipynb\" target=\"_blank\">more info</a>.</p>\n"
            ],
            "text/plain": [
              "<IPython.core.display.HTML object>"
            ]
          },
          "metadata": {
            "tags": []
          }
        }
      ]
    },
    {
      "cell_type": "markdown",
      "metadata": {
        "id": "YrFh8L1ZAXWI",
        "colab_type": "text"
      },
      "source": [
        "Загрузка данных"
      ]
    },
    {
      "cell_type": "code",
      "metadata": {
        "id": "o1HMeSAsAU9K",
        "colab_type": "code",
        "outputId": "0a94681f-d2ae-4497-a223-813ea924b11b",
        "colab": {
          "base_uri": "https://localhost:8080/",
          "height": 118
        }
      },
      "source": [
        "#Загружаем все базы\n",
        "(x_train, y_train), (x_test, y_test) = mnist.load_data()\n",
        "(x_train10, y_train10), (x_test10, y_test10) = cifar10.load_data()\n",
        "(x_train100, y_train100), (x_test100, y_test100) = cifar100.load_data()\n",
        "\n",
        "#задаём заранее batch_size для сетей\n",
        "batch_size = 128\n",
        "#Загружаем названия классов из набора данных CIFAR-10\n",
        "classes=['самолет', 'автомобиль', 'птица', 'кот', 'олень', 'собака', 'лягушка', 'лошадь', 'корабль', 'грузовик']\n",
        "\n",
        "#Превращаем выходы сетей в формат  one hot encoding\n",
        "y_train = utils.to_categorical(y_train, 10)\n",
        "y_train10 = utils.to_categorical(y_train10, 10)\n",
        "y_train100 = utils.to_categorical(y_train100, 100)\n",
        "\n",
        "#Меняем формат данных mnist\n",
        "#Надо добавить в конце размерность 1\n",
        "#Чтобы свёрточная сеть понимала, что это чёрно-белые данные\n",
        "#У cifat10 последняя размерность 3 - цветные данные, формат rgb, три цвета\n",
        "x_train = x_train.reshape(x_train.shape[0], 28, 28, 1)\n",
        "x_test = x_test.reshape(x_test.shape[0], 28, 28, 1)"
      ],
      "execution_count": 2,
      "outputs": [
        {
          "output_type": "stream",
          "text": [
            "Downloading data from https://s3.amazonaws.com/img-datasets/mnist.npz\n",
            "11493376/11490434 [==============================] - 1s 0us/step\n",
            "Downloading data from https://www.cs.toronto.edu/~kriz/cifar-10-python.tar.gz\n",
            "170500096/170498071 [==============================] - 6s 0us/step\n",
            "Downloading data from https://www.cs.toronto.edu/~kriz/cifar-100-python.tar.gz\n",
            "169009152/169001437 [==============================] - 6s 0us/step\n"
          ],
          "name": "stdout"
        }
      ]
    },
    {
      "cell_type": "markdown",
      "metadata": {
        "id": "C2dfXvs1AZol",
        "colab_type": "text"
      },
      "source": [
        "Отображение картинки на выбор"
      ]
    },
    {
      "cell_type": "code",
      "metadata": {
        "id": "sQRrFNBdz-Va",
        "colab_type": "code",
        "outputId": "b15d4df1-627c-41c6-8832-5471f0943263",
        "colab": {
          "base_uri": "https://localhost:8080/",
          "height": 283
        }
      },
      "source": [
        "#Выводим для примера картинку\n",
        "n = 2019\n",
        "#Загружаем картинку из массива и отрисовываем в цветном формате - RGBA\n",
        "print(classes[np.argmax(y_train10[n])])\n",
        "plt.imshow(Image.fromarray(x_train10[n]).convert('RGBA'))\n",
        "plt.show()"
      ],
      "execution_count": 3,
      "outputs": [
        {
          "output_type": "stream",
          "text": [
            "лягушка\n"
          ],
          "name": "stdout"
        },
        {
          "output_type": "display_data",
          "data": {
            "image/png": "[encoded data removed]",
            "text/plain": [
              "<Figure size 432x288 with 1 Axes>"
            ]
          },
          "metadata": {
            "tags": []
          }
        }
      ]
    },
    {
      "cell_type": "code",
      "metadata": {
        "id": "gzczY1lgj5LD",
        "colab_type": "code",
        "outputId": "ef548d26-1624-4794-8703-7b3cd92ee04a",
        "colab": {
          "base_uri": "https://localhost:8080/",
          "height": 34
        }
      },
      "source": [
        "#Выводим пример картинки в цифрах, как она хранится в памяти\n",
        "print(x_train10[n, 0, 0])"
      ],
      "execution_count": 4,
      "outputs": [
        {
          "output_type": "stream",
          "text": [
            "[225 223 226]\n"
          ],
          "name": "stdout"
        }
      ]
    },
    {
      "cell_type": "code",
      "metadata": {
        "id": "W9jLRZgEWvQF",
        "colab_type": "code",
        "outputId": "a110eaaa-f771-4121-919f-12dbccd80591",
        "colab": {
          "base_uri": "https://localhost:8080/",
          "height": 67
        }
      },
      "source": [
        "print(x_train10.shape)\n",
        "print(x_test10.shape)\n",
        "print(x_train.shape)"
      ],
      "execution_count": 5,
      "outputs": [
        {
          "output_type": "stream",
          "text": [
            "(50000, 32, 32, 3)\n",
            "(10000, 32, 32, 3)\n",
            "(60000, 28, 28, 1)\n"
          ],
          "name": "stdout"
        }
      ]
    },
    {
      "cell_type": "markdown",
      "metadata": {
        "id": "WVxjO7bDAwef",
        "colab_type": "text"
      },
      "source": [
        "#Нейронные сети\n",
        "Базовая архитектура свёрточной сети для работы с набором MNIST"
      ]
    },
    {
      "cell_type": "code",
      "metadata": {
        "id": "Q1dlZ9Ud3EHx",
        "colab_type": "code",
        "colab": {}
      },
      "source": [
        "#Создаем последовательную модель\n",
        "model = Sequential()\n",
        "#Слой пакетной нормализации\n",
        "model.add(BatchNormalization(input_shape=(32, 32, 3)))\n",
        "#Первый сверточный слой\n",
        "model.add(Conv2D(32, (3, 3), padding='same', activation='relu'))\n",
        "#Второй сверточный слой\n",
        "model.add(Conv2D(32, (3, 3), padding='same', activation='relu'))\n",
        "#Первый слой подвыборки\n",
        "model.add(MaxPooling2D(pool_size=(2, 2)))\n",
        "#Слой регуляризации Dropout\n",
        "model.add(Dropout(0.25))\n",
        "\n",
        "#Слой пакетной нормализации\n",
        "model.add(BatchNormalization())\n",
        "#Третий сверточный слой\n",
        "model.add(Conv2D(64, (3, 3), padding='same', activation='relu'))\n",
        "#Четвертый сверточный слой\n",
        "model.add(Conv2D(64, (3, 3), padding='same', activation='relu'))\n",
        "#Второй слой подвыборки\n",
        "model.add(MaxPooling2D(pool_size=(2, 2)))\n",
        "#Слой регуляризации Dropout\n",
        "model.add(Dropout(0.25))\n",
        "\n",
        "#Слой преобразования данных из 2D представления в плоское\n",
        "model.add(Flatten())\n",
        "#Полносвязный слой для классификации\n",
        "model.add(Dense(512, activation='relu'))\n",
        "#Слой регуляризации Dropout\n",
        "model.add(Dropout(0.25))\n",
        "#Выходной полносвязный слой\n",
        "model.add(Dense(10, activation='softmax'))\n",
        "\n",
        "#Компилируем сеть\n",
        "model.compile(loss=\"categorical_crossentropy\", optimizer=\"adam\", metrics=[\"accuracy\"])\n",
        "\n",
        "#Обучаем сеть на данных cifar10\n",
        "history = model.fit(x_train10, \n",
        "                    y_train10, \n",
        "                    batch_size=batch_size, \n",
        "                    epochs=20,\n",
        "                    validation_split=0.2,\n",
        "                    verbose=1)\n",
        "\n",
        "#Оображаем график точности обучения\n",
        "plt.plot(history.history['acc'], \n",
        "         label='Доля верных ответов на обучающем наборе')\n",
        "plt.plot(history.history['val_acc'], \n",
        "         label='Доля верных ответов на проверочном наборе')\n",
        "plt.xlabel('Эпоха обучения')\n",
        "plt.ylabel('Доля верных ответов')\n",
        "plt.legend()\n",
        "plt.show()"
      ],
      "execution_count": 0,
      "outputs": []
    },
    {
      "cell_type": "markdown",
      "metadata": {
        "id": "Jq3asJo1Bs28",
        "colab_type": "text"
      },
      "source": [
        "#Распознавание случайной картинки из тестового набора"
      ]
    },
    {
      "cell_type": "code",
      "metadata": {
        "id": "jI93Wle3d5__",
        "colab_type": "code",
        "colab": {}
      },
      "source": [
        "#Распознаём все тестовые картинки\n",
        "prediction = model.predict(x_test10)"
      ],
      "execution_count": 0,
      "outputs": []
    },
    {
      "cell_type": "code",
      "metadata": {
        "id": "QC8mZWIfBZbZ",
        "colab_type": "code",
        "outputId": "b8e52635-b847-48b2-fccd-d3528bb3edac",
        "colab": {
          "base_uri": "https://localhost:8080/",
          "height": 351
        }
      },
      "source": [
        "#Выбираем номер пример\n",
        "n = 2027\n",
        "\n",
        "#Выводим на экран картинку\n",
        "plt.imshow(Image.fromarray(x_test10[n]).convert('RGBA'))\n",
        "plt.show()\n",
        "\n",
        "#Выводим на экран результаты\n",
        "print(\"Выход сети: \", prediction[n])\n",
        "print(\"Распознанный образ: \", np.argmax(prediction[n]))\n",
        "print(\"Верный ответ: \", y_test10[n])\n",
        "print(\"Распознанный браз на картинке: \", classes[np.argmax(prediction[n])])"
      ],
      "execution_count": 0,
      "outputs": [
        {
          "output_type": "display_data",
          "data": {
            "image/png": "[encoded data removed]",
            "text/plain": [
              "<Figure size 432x288 with 1 Axes>"
            ]
          },
          "metadata": {
            "tags": []
          }
        },
        {
          "output_type": "stream",
          "text": [
            "Выход сети:  [1.2751598e-02 5.7523367e-03 4.5353998e-03 2.4511163e-01 1.4565428e-04\n",
            " 5.8854315e-03 5.6513494e-05 5.8947587e-03 1.9660741e-02 7.0020586e-01]\n",
            "Распознанный образ:  9\n",
            "Верный ответ:  [9]\n",
            "Распознанный браз на картинке:  грузовик\n"
          ],
          "name": "stdout"
        }
      ]
    },
    {
      "cell_type": "markdown",
      "metadata": {
        "colab_type": "text",
        "id": "MMoxbBKkBsB_"
      },
      "source": [
        "#Распознаем дополнительные картинки"
      ]
    },
    {
      "cell_type": "code",
      "metadata": {
        "colab_type": "code",
        "id": "cWBfM5tzBsBi",
        "outputId": "569fecde-a1ed-4296-9698-634c3b641854",
        "colab": {
          "resources": {
            "http://localhost:8080/nbextensions/google.colab/files.js": {
              "data": "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",
              "ok": true,
              "headers": [
                [
                  "content-type",
                  "application/javascript"
                ]
              ],
              "status": 200,
              "status_text": ""
            }
          },
          "base_uri": "https://localhost:8080/",
          "height": 91
        }
      },
      "source": [
        "#Загружаем свою картинку\n",
        "files.upload()\n",
        "#Проверяем, что картинка загрузилась\n",
        "!ls"
      ],
      "execution_count": 0,
      "outputs": [
        {
          "output_type": "display_data",
          "data": {
            "text/html": [
              "\n",
              "     <input type=\"file\" id=\"files-4c62b68b-b70f-4769-a8a7-f93158a7163e\" name=\"files[]\" multiple disabled />\n",
              "     <output id=\"result-4c62b68b-b70f-4769-a8a7-f93158a7163e\">\n",
              "      Upload widget is only available when the cell has been executed in the\n",
              "      current browser session. Please rerun this cell to enable.\n",
              "      </output>\n",
              "      <script src=\"/nbextensions/google.colab/files.js\"></script> "
            ],
            "text/plain": [
              "<IPython.core.display.HTML object>"
            ]
          },
          "metadata": {
            "tags": []
          }
        },
        {
          "output_type": "stream",
          "text": [
            "Saving friends.jpg to friends.jpg\n",
            "airplane_12.jpg  airplane_1.jpg  friends.jpg  sample_data\n"
          ],
          "name": "stdout"
        }
      ]
    },
    {
      "cell_type": "code",
      "metadata": {
        "colab_type": "code",
        "id": "KiersR5iBsAV",
        "outputId": "4f29f90d-9f13-4919-d7d5-948c5ac4fc1e",
        "colab": {
          "base_uri": "https://localhost:8080/",
          "height": 266
        }
      },
      "source": [
        "#Вводим адрес картинки\n",
        "img_path = 'friends.jpg'\n",
        "#Загружаем картинку в массив\n",
        "img = image.load_img(img_path, target_size=(32, 32))\n",
        "#Отрисовываем картинку\n",
        "plt.imshow(img)\n",
        "plt.show()"
      ],
      "execution_count": 0,
      "outputs": [
        {
          "output_type": "display_data",
          "data": {
            "image/png": "[encoded data removed]",
            "text/plain": [
              "<Figure size 432x288 with 1 Axes>"
            ]
          },
          "metadata": {
            "tags": []
          }
        }
      ]
    },
    {
      "cell_type": "code",
      "metadata": {
        "colab_type": "code",
        "id": "a785Ra5dBr-T",
        "outputId": "bea8855c-3092-464f-f4db-eca5501de4cf",
        "colab": {
          "base_uri": "https://localhost:8080/",
          "height": 51
        }
      },
      "source": [
        "#переводим картинку в массив\n",
        "x = image.img_to_array(img)\n",
        "#Добавляем одну размерность для предсказания\n",
        "x = np.expand_dims(x, axis=0)\n",
        "#Распознаём класс картинки\n",
        "prediction = model.predict(x)\n",
        "prediction = np.argmax(prediction)\n",
        "#Вводим результаты на экран\n",
        "print(\"Распознанный образ: \", prediction)\n",
        "print(\"Название распознанного образа: \", classes[prediction])"
      ],
      "execution_count": 0,
      "outputs": [
        {
          "output_type": "stream",
          "text": [
            "Распознанный образ:  4\n",
            "Название распознанного образа:  олень\n"
          ],
          "name": "stdout"
        }
      ]
    },
    {
      "cell_type": "markdown",
      "metadata": {
        "id": "qOfMGe7ba0fo",
        "colab_type": "text"
      },
      "source": [
        "#Свёрточная сеть на Mnist"
      ]
    },
    {
      "cell_type": "code",
      "metadata": {
        "id": "uDhjDpufa6X6",
        "colab_type": "code",
        "outputId": "9f665696-98bd-4633-8131-a92729f08337",
        "colab": {
          "base_uri": "https://localhost:8080/",
          "height": 978
        }
      },
      "source": [
        "#Создаем последовательную модель\n",
        "model = Sequential()\n",
        "#Слой пакетной нормализации\n",
        "model.add(BatchNormalization(input_shape=(28, 28, 1)))\n",
        "#Первый сверточный слой\n",
        "model.add(Conv2D(32, (3, 3), padding='same', activation='relu'))\n",
        "#Второй сверточный слой\n",
        "model.add(Conv2D(32, (3, 3), padding='same', activation='relu'))\n",
        "#Первый слой подвыборки\n",
        "model.add(MaxPooling2D(pool_size=(2, 2)))\n",
        "#Слой регуляризации Dropout\n",
        "model.add(Dropout(0.25))\n",
        "\n",
        "model.add(Flatten())\n",
        "#Полносвязный слой для классификации\n",
        "model.add(Dense(256, activation='relu'))\n",
        "#Слой регуляризации Dropout\n",
        "model.add(Dropout(0.25))\n",
        "#Выходной полносвязный слой\n",
        "model.add(Dense(10, activation='softmax'))\n",
        "\n",
        "#Компилируем сеть\n",
        "model.compile(loss=\"categorical_crossentropy\", optimizer=\"adam\", metrics=[\"accuracy\"])\n",
        "\n",
        "#Обучаем сеть на данных cifar10\n",
        "history = model.fit(x_train, \n",
        "                    y_train, \n",
        "                    batch_size=batch_size, \n",
        "                    epochs=20,\n",
        "                    validation_split=0.2,\n",
        "                    verbose=1)\n",
        "\n",
        "#Отображаем график точности обучения\n",
        "plt.plot(history.history['acc'], \n",
        "         label='Доля верных ответов на обучающем наборе')\n",
        "plt.plot(history.history['val_acc'], \n",
        "         label='Доля верных ответов на проверочном наборе')\n",
        "plt.xlabel('Эпоха обучения')\n",
        "plt.ylabel('Доля верных ответов')\n",
        "plt.legend()\n",
        "plt.show()"
      ],
      "execution_count": 0,
      "outputs": [
        {
          "output_type": "stream",
          "text": [
            "Train on 48000 samples, validate on 12000 samples\n",
            "Epoch 1/20\n",
            "48000/48000 [==============================] - 3s 57us/sample - loss: 0.1688 - acc: 0.9479 - val_loss: 0.0555 - val_acc: 0.9832\n",
            "Epoch 2/20\n",
            "48000/48000 [==============================] - 2s 51us/sample - loss: 0.0553 - acc: 0.9833 - val_loss: 0.0447 - val_acc: 0.9860\n",
            "Epoch 3/20\n",
            "48000/48000 [==============================] - 2s 50us/sample - loss: 0.0391 - acc: 0.9871 - val_loss: 0.0379 - val_acc: 0.9885\n",
            "Epoch 4/20\n",
            "48000/48000 [==============================] - 2s 50us/sample - loss: 0.0292 - acc: 0.9908 - val_loss: 0.0404 - val_acc: 0.9871\n",
            "Epoch 5/20\n",
            "48000/48000 [==============================] - 2s 50us/sample - loss: 0.0235 - acc: 0.9919 - val_loss: 0.0360 - val_acc: 0.9901\n",
            "Epoch 6/20\n",
            "48000/48000 [==============================] - 2s 51us/sample - loss: 0.0204 - acc: 0.9928 - val_loss: 0.0434 - val_acc: 0.9874\n",
            "Epoch 7/20\n",
            "48000/48000 [==============================] - 2s 51us/sample - loss: 0.0160 - acc: 0.9944 - val_loss: 0.0395 - val_acc: 0.9898\n",
            "Epoch 8/20\n",
            "48000/48000 [==============================] - 2s 50us/sample - loss: 0.0131 - acc: 0.9956 - val_loss: 0.0362 - val_acc: 0.9901\n",
            "Epoch 9/20\n",
            "48000/48000 [==============================] - 2s 51us/sample - loss: 0.0136 - acc: 0.9955 - val_loss: 0.0426 - val_acc: 0.9894\n",
            "Epoch 10/20\n",
            "48000/48000 [==============================] - 2s 51us/sample - loss: 0.0121 - acc: 0.9959 - val_loss: 0.0436 - val_acc: 0.9898\n",
            "Epoch 11/20\n",
            "48000/48000 [==============================] - 2s 50us/sample - loss: 0.0114 - acc: 0.9961 - val_loss: 0.0444 - val_acc: 0.9902\n",
            "Epoch 12/20\n",
            "48000/48000 [==============================] - 2s 50us/sample - loss: 0.0088 - acc: 0.9968 - val_loss: 0.0410 - val_acc: 0.9908\n",
            "Epoch 13/20\n",
            "48000/48000 [==============================] - 2s 51us/sample - loss: 0.0091 - acc: 0.9968 - val_loss: 0.0410 - val_acc: 0.9903\n",
            "Epoch 14/20\n",
            "48000/48000 [==============================] - 2s 51us/sample - loss: 0.0093 - acc: 0.9971 - val_loss: 0.0435 - val_acc: 0.9907\n",
            "Epoch 15/20\n",
            "48000/48000 [==============================] - 2s 50us/sample - loss: 0.0076 - acc: 0.9973 - val_loss: 0.0489 - val_acc: 0.9890\n",
            "Epoch 16/20\n",
            "48000/48000 [==============================] - 2s 51us/sample - loss: 0.0084 - acc: 0.9970 - val_loss: 0.0419 - val_acc: 0.9909\n",
            "Epoch 17/20\n",
            "48000/48000 [==============================] - 2s 50us/sample - loss: 0.0058 - acc: 0.9980 - val_loss: 0.0412 - val_acc: 0.9907\n",
            "Epoch 18/20\n",
            "48000/48000 [==============================] - 2s 51us/sample - loss: 0.0064 - acc: 0.9976 - val_loss: 0.0484 - val_acc: 0.9907\n",
            "Epoch 19/20\n",
            "48000/48000 [==============================] - 2s 50us/sample - loss: 0.0056 - acc: 0.9982 - val_loss: 0.0516 - val_acc: 0.9898\n",
            "Epoch 20/20\n",
            "48000/48000 [==============================] - 2s 51us/sample - loss: 0.0058 - acc: 0.9982 - val_loss: 0.0460 - val_acc: 0.9911\n"
          ],
          "name": "stdout"
        },
        {
          "output_type": "display_data",
          "data": {
            "image/png": "[encoded data removed]",
            "text/plain": [
              "<Figure size 432x288 with 1 Axes>"
            ]
          },
          "metadata": {
            "tags": []
          }
        }
      ]
    },
    {
      "cell_type": "markdown",
      "metadata": {
        "id": "wkEzOHHVeQmU",
        "colab_type": "text"
      },
      "source": [
        "#Распознавание случайной цифры из тестового набора"
      ]
    },
    {
      "cell_type": "code",
      "metadata": {
        "id": "RxzqtpVYeRLD",
        "colab_type": "code",
        "outputId": "7b2faf63-4f45-42d7-d3d9-6871b691b812",
        "colab": {
          "base_uri": "https://localhost:8080/",
          "height": 85
        }
      },
      "source": [
        "#Выбираем номер пример\n",
        "n = 2022\n",
        "#Получаем выход сети на этом примере\n",
        "prediction = model.predict(x_test)\n",
        "\n",
        "#Выводим на экран результаты\n",
        "print(\"Выход сети: \", prediction[n])\n",
        "print(\"Распознанная цифра: \", np.argmax(prediction[n]))\n",
        "print(\"Верный ответ: \", y_test[n])"
      ],
      "execution_count": 0,
      "outputs": [
        {
          "output_type": "stream",
          "text": [
            "Выход сети:  [4.0197112e-27 7.6274708e-17 1.9672122e-21 3.8941829e-26 1.0000000e+00\n",
            " 2.4598634e-20 9.5716082e-21 1.1076239e-18 4.5066607e-18 4.7698182e-17]\n",
            "Распознанная цифра:  4\n",
            "Верный ответ:  4\n"
          ],
          "name": "stdout"
        }
      ]
    },
    {
      "cell_type": "markdown",
      "metadata": {
        "id": "CJI5QRzqIBfG",
        "colab_type": "text"
      },
      "source": [
        "#Разные архитектуры"
      ]
    },
    {
      "cell_type": "markdown",
      "metadata": {
        "id": "B8cglRRBaWtA",
        "colab_type": "text"
      },
      "source": [
        "- Ядро свёртки первого слоя - 7, 7\n",
        "- MaxPooling слои 4, 4 вместо базовых 2, 2"
      ]
    },
    {
      "cell_type": "code",
      "metadata": {
        "id": "dwV0PV2AaaRU",
        "colab_type": "code",
        "outputId": "544f06a2-c2db-4e13-83e2-a0390a78a270",
        "colab": {
          "base_uri": "https://localhost:8080/",
          "height": 1000
        }
      },
      "source": [
        "# Создаем последовательную модель\n",
        "model = Sequential()\n",
        "# Слой пакетной нормализации\n",
        "model.add(BatchNormalization(input_shape=(32, 32, 3)))\n",
        "# Первый сверточный слой\n",
        "model.add(Conv2D(32, (7, 7), padding='same', activation='relu'))\n",
        "# Второй сверточный слой\n",
        "model.add(Conv2D(32, (3, 3), padding='same', activation='relu'))\n",
        "# Первый слой подвыборки\n",
        "model.add(MaxPooling2D(pool_size=(4, 4)))\n",
        "# Слой регуляризации Dropout\n",
        "model.add(Dropout(0.25))\n",
        "\n",
        "# Слой пакетной нормализации\n",
        "model.add(BatchNormalization())\n",
        "# Третий сверточный слой\n",
        "model.add(Conv2D(64, (3, 3), padding='same', activation='relu'))\n",
        "# Четвертый сверточный слой\n",
        "model.add(Conv2D(64, (3, 3), padding='same', activation='relu'))\n",
        "# Второй слой подвыборки\n",
        "model.add(MaxPooling2D(pool_size=(2, 2)))\n",
        "# Слой регуляризации Dropout\n",
        "model.add(Dropout(0.25))\n",
        "# Слой преобразования данных из 2D представления в плоское\n",
        "model.add(Flatten())\n",
        "# Полносвязный слой для классификации\n",
        "model.add(Dense(512, activation='relu'))\n",
        "# Слой регуляризации Dropout\n",
        "model.add(Dropout(0.5))\n",
        "# Выходной полносвязный слой\n",
        "model.add(Dense(10, activation='softmax'))\n",
        "\n",
        "#Компилируемсеть\n",
        "model.compile(loss=\"categorical_crossentropy\", optimizer=\"adam\", metrics=[\"accuracy\"])\n",
        "\n",
        "#Обучаем сеть на cifar10\n",
        "history = model.fit(x_train10, \n",
        "                    y_train10, \n",
        "                    batch_size=batch_size, \n",
        "                    epochs=20,\n",
        "                    validation_split=0.2,\n",
        "                    verbose=1)\n",
        "\n",
        "#Выводим график обучения сети\n",
        "plt.plot(history.history['acc'], \n",
        "         label='Доля верных ответов на обучающем наборе')\n",
        "plt.plot(history.history['val_acc'], \n",
        "         label='Доля верных ответов на проверочном наборе')\n",
        "plt.xlabel('Эпоха обучения')\n",
        "plt.ylabel('Доля верных ответов')\n",
        "plt.legend()\n",
        "plt.show()"
      ],
      "execution_count": 0,
      "outputs": [
        {
          "output_type": "stream",
          "text": [
            "Train on 40000 samples, validate on 10000 samples\n",
            "Epoch 1/20\n",
            "40000/40000 [==============================] - 9s 237us/sample - loss: 1.6170 - acc: 0.4061 - val_loss: 1.3013 - val_acc: 0.5377\n",
            "Epoch 2/20\n",
            "40000/40000 [==============================] - 9s 218us/sample - loss: 1.2524 - acc: 0.5488 - val_loss: 1.1256 - val_acc: 0.6019\n",
            "Epoch 3/20\n",
            "40000/40000 [==============================] - 9s 218us/sample - loss: 1.0981 - acc: 0.6081 - val_loss: 0.9663 - val_acc: 0.6555\n",
            "Epoch 4/20\n",
            "40000/40000 [==============================] - 9s 218us/sample - loss: 1.0119 - acc: 0.6407 - val_loss: 0.9065 - val_acc: 0.6844\n",
            "Epoch 5/20\n",
            "40000/40000 [==============================] - 9s 218us/sample - loss: 0.9346 - acc: 0.6678 - val_loss: 0.8484 - val_acc: 0.7025\n",
            "Epoch 6/20\n",
            "40000/40000 [==============================] - 9s 220us/sample - loss: 0.8810 - acc: 0.6881 - val_loss: 0.8389 - val_acc: 0.7028\n",
            "Epoch 7/20\n",
            "40000/40000 [==============================] - 9s 219us/sample - loss: 0.8354 - acc: 0.7033 - val_loss: 0.7923 - val_acc: 0.7248\n",
            "Epoch 8/20\n",
            "40000/40000 [==============================] - 9s 220us/sample - loss: 0.7967 - acc: 0.7181 - val_loss: 0.7412 - val_acc: 0.7358\n",
            "Epoch 9/20\n",
            "40000/40000 [==============================] - 9s 221us/sample - loss: 0.7670 - acc: 0.7298 - val_loss: 0.7250 - val_acc: 0.7474\n",
            "Epoch 10/20\n",
            "40000/40000 [==============================] - 9s 223us/sample - loss: 0.7311 - acc: 0.7417 - val_loss: 0.7271 - val_acc: 0.7507\n",
            "Epoch 11/20\n",
            "40000/40000 [==============================] - 9s 220us/sample - loss: 0.7139 - acc: 0.7479 - val_loss: 0.7670 - val_acc: 0.7389\n",
            "Epoch 12/20\n",
            "40000/40000 [==============================] - 9s 219us/sample - loss: 0.6872 - acc: 0.7574 - val_loss: 0.7119 - val_acc: 0.7541\n",
            "Epoch 13/20\n",
            "40000/40000 [==============================] - 9s 218us/sample - loss: 0.6701 - acc: 0.7641 - val_loss: 0.6745 - val_acc: 0.7710\n",
            "Epoch 14/20\n",
            "40000/40000 [==============================] - 9s 220us/sample - loss: 0.6488 - acc: 0.7707 - val_loss: 0.6599 - val_acc: 0.7744\n",
            "Epoch 15/20\n",
            "40000/40000 [==============================] - 9s 218us/sample - loss: 0.6306 - acc: 0.7754 - val_loss: 0.6853 - val_acc: 0.7664\n",
            "Epoch 16/20\n",
            "40000/40000 [==============================] - 9s 219us/sample - loss: 0.6151 - acc: 0.7835 - val_loss: 0.6684 - val_acc: 0.7720\n",
            "Epoch 17/20\n",
            "40000/40000 [==============================] - 9s 219us/sample - loss: 0.6027 - acc: 0.7849 - val_loss: 0.6570 - val_acc: 0.7784\n",
            "Epoch 18/20\n",
            "40000/40000 [==============================] - 9s 220us/sample - loss: 0.5892 - acc: 0.7908 - val_loss: 0.6643 - val_acc: 0.7767\n",
            "Epoch 19/20\n",
            "40000/40000 [==============================] - 9s 218us/sample - loss: 0.5792 - acc: 0.7948 - val_loss: 0.6605 - val_acc: 0.7747\n",
            "Epoch 20/20\n",
            "40000/40000 [==============================] - 9s 220us/sample - loss: 0.5606 - acc: 0.8004 - val_loss: 0.6546 - val_acc: 0.7738\n"
          ],
          "name": "stdout"
        },
        {
          "output_type": "display_data",
          "data": {
            "image/png": "[encoded data removed]",
            "text/plain": [
              "<Figure size 432x288 with 1 Axes>"
            ]
          },
          "metadata": {
            "tags": []
          }
        }
      ]
    },
    {
      "cell_type": "markdown",
      "metadata": {
        "id": "2oUBg6x5aYD9",
        "colab_type": "text"
      },
      "source": [
        "**Отключение MaxPooling слоёв**"
      ]
    },
    {
      "cell_type": "code",
      "metadata": {
        "id": "a0XCQ-73IGN5",
        "colab_type": "code",
        "outputId": "a6ff80ad-7f5e-46c3-db7b-b6b24caba009",
        "colab": {
          "base_uri": "https://localhost:8080/",
          "height": 1000
        }
      },
      "source": [
        "# Создаем последовательную модель\n",
        "model = Sequential()\n",
        "# Слой пакетной нормализации\n",
        "model.add(BatchNormalization(input_shape=(32, 32, 3)))\n",
        "# Первый сверточный слой\n",
        "model.add(Conv2D(32, (3, 3), padding='same', activation='relu'))\n",
        "# Второй сверточный слой\n",
        "model.add(Conv2D(32, (3, 3), padding='same', activation='relu'))\n",
        "# Слой регуляризации Dropout\n",
        "model.add(Dropout(0.25))\n",
        "\n",
        "# Слой пакетной нормализации\n",
        "model.add(BatchNormalization())\n",
        "# Третий сверточный слой\n",
        "model.add(Conv2D(64, (3, 3), padding='same', activation='relu'))\n",
        "# Четвертый сверточный слой\n",
        "model.add(Conv2D(64, (3, 3), padding='same', activation='relu'))\n",
        "# Слой регуляризации Dropout\n",
        "model.add(Dropout(0.25))\n",
        "# Слой преобразования данных из 2D представления в плоское\n",
        "model.add(Flatten())\n",
        "# Полносвязный слой для классификации\n",
        "model.add(Dense(512, activation='relu'))\n",
        "# Слой регуляризации Dropout\n",
        "model.add(Dropout(0.5))\n",
        "# Выходной полносвязный слой\n",
        "model.add(Dense(10, activation='softmax'))\n",
        "\n",
        "model.compile(loss=\"categorical_crossentropy\", optimizer=\"adam\", metrics=[\"accuracy\"])\n",
        "\n",
        "history = model.fit(x_train10, \n",
        "                    y_train10, \n",
        "                    batch_size=batch_size, \n",
        "                    epochs=20,\n",
        "                    validation_split=0.2,\n",
        "                    verbose=1)\n",
        "\n",
        "plt.plot(history.history['acc'], \n",
        "         label='Доля верных ответов на обучающем наборе')\n",
        "plt.plot(history.history['val_acc'], \n",
        "         label='Доля верных ответов на проверочном наборе')\n",
        "plt.xlabel('Эпоха обучения')\n",
        "plt.ylabel('Доля верных ответов')\n",
        "plt.legend()\n",
        "plt.show()"
      ],
      "execution_count": 0,
      "outputs": [
        {
          "output_type": "stream",
          "text": [
            "Train on 40000 samples, validate on 10000 samples\n",
            "Epoch 1/20\n",
            "40000/40000 [==============================] - 29s 734us/sample - loss: 2.1852 - acc: 0.2582 - val_loss: 1.6288 - val_acc: 0.4083\n",
            "Epoch 2/20\n",
            "40000/40000 [==============================] - 29s 721us/sample - loss: 1.4989 - acc: 0.4558 - val_loss: 1.2928 - val_acc: 0.5286\n",
            "Epoch 3/20\n",
            "40000/40000 [==============================] - 29s 724us/sample - loss: 1.2963 - acc: 0.5306 - val_loss: 1.2193 - val_acc: 0.5611\n",
            "Epoch 4/20\n",
            "40000/40000 [==============================] - 29s 727us/sample - loss: 1.1261 - acc: 0.5950 - val_loss: 1.0674 - val_acc: 0.6186\n",
            "Epoch 5/20\n",
            "40000/40000 [==============================] - 29s 723us/sample - loss: 0.9890 - acc: 0.6474 - val_loss: 1.0723 - val_acc: 0.6291\n",
            "Epoch 6/20\n",
            "40000/40000 [==============================] - 29s 722us/sample - loss: 0.8537 - acc: 0.6947 - val_loss: 0.9877 - val_acc: 0.6590\n",
            "Epoch 7/20\n",
            "40000/40000 [==============================] - 29s 724us/sample - loss: 0.7258 - acc: 0.7404 - val_loss: 0.9835 - val_acc: 0.6741\n",
            "Epoch 8/20\n",
            "40000/40000 [==============================] - 29s 722us/sample - loss: 0.6077 - acc: 0.7852 - val_loss: 1.0268 - val_acc: 0.6765\n",
            "Epoch 9/20\n",
            "40000/40000 [==============================] - 29s 724us/sample - loss: 0.5093 - acc: 0.8191 - val_loss: 1.0994 - val_acc: 0.6669\n",
            "Epoch 10/20\n",
            "40000/40000 [==============================] - 29s 722us/sample - loss: 0.4265 - acc: 0.8467 - val_loss: 1.0743 - val_acc: 0.6740\n",
            "Epoch 11/20\n",
            "40000/40000 [==============================] - 29s 724us/sample - loss: 0.3701 - acc: 0.8682 - val_loss: 1.1875 - val_acc: 0.6650\n",
            "Epoch 12/20\n",
            "40000/40000 [==============================] - 29s 722us/sample - loss: 0.3272 - acc: 0.8841 - val_loss: 1.2042 - val_acc: 0.6800\n",
            "Epoch 13/20\n",
            "40000/40000 [==============================] - 29s 715us/sample - loss: 0.2831 - acc: 0.8994 - val_loss: 1.3061 - val_acc: 0.6835\n",
            "Epoch 14/20\n",
            "40000/40000 [==============================] - 29s 716us/sample - loss: 0.2632 - acc: 0.9066 - val_loss: 1.3637 - val_acc: 0.6782\n",
            "Epoch 15/20\n",
            "40000/40000 [==============================] - 29s 720us/sample - loss: 0.2433 - acc: 0.9135 - val_loss: 1.3180 - val_acc: 0.6865\n",
            "Epoch 16/20\n",
            "40000/40000 [==============================] - 29s 720us/sample - loss: 0.2266 - acc: 0.9206 - val_loss: 1.3596 - val_acc: 0.6741\n",
            "Epoch 17/20\n",
            "40000/40000 [==============================] - 29s 719us/sample - loss: 0.2112 - acc: 0.9265 - val_loss: 1.3889 - val_acc: 0.6748\n",
            "Epoch 18/20\n",
            "40000/40000 [==============================] - 29s 723us/sample - loss: 0.1983 - acc: 0.9307 - val_loss: 1.3213 - val_acc: 0.6876\n",
            "Epoch 19/20\n",
            "40000/40000 [==============================] - 29s 727us/sample - loss: 0.1863 - acc: 0.9344 - val_loss: 1.4407 - val_acc: 0.6855\n",
            "Epoch 20/20\n",
            "40000/40000 [==============================] - 29s 727us/sample - loss: 0.1767 - acc: 0.9389 - val_loss: 1.5058 - val_acc: 0.6837\n"
          ],
          "name": "stdout"
        },
        {
          "output_type": "display_data",
          "data": {
            "image/png": "[encoded data removed]",
            "text/plain": [
              "<Figure size 432x288 with 1 Axes>"
            ]
          },
          "metadata": {
            "tags": []
          }
        }
      ]
    },
    {
      "cell_type": "markdown",
      "metadata": {
        "id": "-fkicGPWB2Yd",
        "colab_type": "text"
      },
      "source": [
        "**Отключение BatchNormalization слоёв**"
      ]
    },
    {
      "cell_type": "code",
      "metadata": {
        "id": "78o0HmRcIKxN",
        "colab_type": "code",
        "outputId": "3bfe0013-7032-41dc-f941-f09939b938c3",
        "colab": {
          "base_uri": "https://localhost:8080/",
          "height": 1000
        }
      },
      "source": [
        "# Создаем последовательную модель\n",
        "model = Sequential()\n",
        "# Первый сверточный слой\n",
        "model.add(Conv2D(32, (7, 7), input_shape=(32, 32, 3), padding='same', activation='relu'))\n",
        "# Второй сверточный слой\n",
        "model.add(Conv2D(32, (3, 3), padding='same', activation='relu'))\n",
        "# Первый слой подвыборки\n",
        "model.add(MaxPooling2D(pool_size=(4, 4)))\n",
        "# Слой регуляризации Dropout\n",
        "model.add(Dropout(0.25))\n",
        "\n",
        "# Третий сверточный слой\n",
        "model.add(Conv2D(64, (3, 3), padding='same', activation='relu'))\n",
        "# Четвертый сверточный слой\n",
        "model.add(Conv2D(64, (3, 3), padding='same', activation='relu'))\n",
        "# Второй слой подвыборки\n",
        "model.add(MaxPooling2D(pool_size=(2, 2)))\n",
        "# Слой регуляризации Dropout\n",
        "model.add(Dropout(0.25))\n",
        "# Слой преобразования данных из 2D представления в плоское\n",
        "model.add(Flatten())\n",
        "# Полносвязный слой для классификации\n",
        "model.add(Dense(512, activation='relu'))\n",
        "# Слой регуляризации Dropout\n",
        "model.add(Dropout(0.5))\n",
        "# Выходной полносвязный слой\n",
        "model.add(Dense(10, activation='softmax'))\n",
        "\n",
        "model.compile(loss=\"categorical_crossentropy\", optimizer=\"adam\", metrics=[\"accuracy\"])\n",
        "\n",
        "history = model.fit(x_train10, \n",
        "                    y_train10, \n",
        "                    batch_size=batch_size, \n",
        "                    epochs=20,\n",
        "                    validation_split=0.2,\n",
        "                    verbose=1)\n",
        "\n",
        "plt.plot(history.history['acc'], \n",
        "         label='Доля верных ответов на обучающем наборе')\n",
        "plt.plot(history.history['val_acc'], \n",
        "         label='Доля верных ответов на проверочном наборе')\n",
        "plt.xlabel('Эпоха обучения')\n",
        "plt.ylabel('Доля верных ответов')\n",
        "plt.legend()\n",
        "plt.show()"
      ],
      "execution_count": 0,
      "outputs": [
        {
          "output_type": "stream",
          "text": [
            "Train on 40000 samples, validate on 10000 samples\n",
            "Epoch 1/20\n",
            "40000/40000 [==============================] - 9s 216us/sample - loss: 2.5957 - acc: 0.2457 - val_loss: 1.6578 - val_acc: 0.4178\n",
            "Epoch 2/20\n",
            "40000/40000 [==============================] - 8s 198us/sample - loss: 1.6453 - acc: 0.4028 - val_loss: 1.4195 - val_acc: 0.4886\n",
            "Epoch 3/20\n",
            "40000/40000 [==============================] - 8s 195us/sample - loss: 1.4871 - acc: 0.4607 - val_loss: 1.3459 - val_acc: 0.5251\n",
            "Epoch 4/20\n",
            "40000/40000 [==============================] - 8s 199us/sample - loss: 1.3853 - acc: 0.5049 - val_loss: 1.2108 - val_acc: 0.5728\n",
            "Epoch 5/20\n",
            "40000/40000 [==============================] - 8s 201us/sample - loss: 1.3119 - acc: 0.5350 - val_loss: 1.1541 - val_acc: 0.5959\n",
            "Epoch 6/20\n",
            "40000/40000 [==============================] - 8s 202us/sample - loss: 1.2352 - acc: 0.5626 - val_loss: 1.0840 - val_acc: 0.6215\n",
            "Epoch 7/20\n",
            "40000/40000 [==============================] - 8s 199us/sample - loss: 1.1834 - acc: 0.5807 - val_loss: 1.0440 - val_acc: 0.6329\n",
            "Epoch 8/20\n",
            "40000/40000 [==============================] - 8s 201us/sample - loss: 1.1452 - acc: 0.5971 - val_loss: 1.1147 - val_acc: 0.6232\n",
            "Epoch 9/20\n",
            "40000/40000 [==============================] - 8s 205us/sample - loss: 1.1156 - acc: 0.6077 - val_loss: 1.0246 - val_acc: 0.6483\n",
            "Epoch 10/20\n",
            "40000/40000 [==============================] - 8s 205us/sample - loss: 1.0650 - acc: 0.6266 - val_loss: 0.9500 - val_acc: 0.6662\n",
            "Epoch 11/20\n",
            "40000/40000 [==============================] - 8s 204us/sample - loss: 1.0388 - acc: 0.6338 - val_loss: 0.9671 - val_acc: 0.6639\n",
            "Epoch 12/20\n",
            "40000/40000 [==============================] - 8s 203us/sample - loss: 1.0280 - acc: 0.6360 - val_loss: 0.9788 - val_acc: 0.6595\n",
            "Epoch 13/20\n",
            "40000/40000 [==============================] - 8s 203us/sample - loss: 0.9900 - acc: 0.6522 - val_loss: 0.8940 - val_acc: 0.6891\n",
            "Epoch 14/20\n",
            "40000/40000 [==============================] - 8s 203us/sample - loss: 0.9763 - acc: 0.6561 - val_loss: 0.9066 - val_acc: 0.6851\n",
            "Epoch 15/20\n",
            "40000/40000 [==============================] - 8s 201us/sample - loss: 0.9528 - acc: 0.6667 - val_loss: 0.8573 - val_acc: 0.7006\n",
            "Epoch 16/20\n",
            "40000/40000 [==============================] - 8s 198us/sample - loss: 0.9418 - acc: 0.6689 - val_loss: 0.8452 - val_acc: 0.7064\n",
            "Epoch 17/20\n",
            "40000/40000 [==============================] - 8s 200us/sample - loss: 0.9227 - acc: 0.6781 - val_loss: 0.8500 - val_acc: 0.7041\n",
            "Epoch 18/20\n",
            "40000/40000 [==============================] - 8s 199us/sample - loss: 0.8981 - acc: 0.6854 - val_loss: 0.8531 - val_acc: 0.7078\n",
            "Epoch 19/20\n",
            "40000/40000 [==============================] - 8s 202us/sample - loss: 0.8834 - acc: 0.6878 - val_loss: 0.8868 - val_acc: 0.6992\n",
            "Epoch 20/20\n",
            "40000/40000 [==============================] - 8s 207us/sample - loss: 0.8757 - acc: 0.6939 - val_loss: 0.8178 - val_acc: 0.7191\n"
          ],
          "name": "stdout"
        },
        {
          "output_type": "display_data",
          "data": {
            "image/png": "[encoded data removed]",
            "text/plain": [
              "<Figure size 432x288 with 1 Axes>"
            ]
          },
          "metadata": {
            "tags": []
          }
        }
      ]
    },
    {
      "cell_type": "markdown",
      "metadata": {
        "id": "WmfN7uHYB61t",
        "colab_type": "text"
      },
      "source": [
        "**Укороченная сеть, только один блок из двух 32 свёрточных слоёв, отключен второй блок из двух 64 свёрточных слоёв**"
      ]
    },
    {
      "cell_type": "code",
      "metadata": {
        "id": "zOgTe-StINqM",
        "colab_type": "code",
        "outputId": "35619921-118b-436c-e37d-f5aad1bbe60f",
        "colab": {
          "base_uri": "https://localhost:8080/",
          "height": 1000
        }
      },
      "source": [
        "# Создаем последовательную модель\n",
        "model = Sequential()\n",
        "# Слой пакетной нормализации\n",
        "model.add(BatchNormalization(input_shape=(32, 32, 3)))\n",
        "# Первый сверточный слой\n",
        "model.add(Conv2D(32, (7, 7), padding='same', activation='relu'))\n",
        "# Второй сверточный слой\n",
        "model.add(Conv2D(32, (3, 3), padding='same', activation='relu'))\n",
        "# Первый слой подвыборки\n",
        "model.add(MaxPooling2D(pool_size=(4, 4)))\n",
        "# Слой регуляризации Dropout\n",
        "model.add(Dropout(0.25))\n",
        "\n",
        "model.add(Flatten())\n",
        "# Полносвязный слой для классификации\n",
        "model.add(Dense(64, activation='relu'))\n",
        "# Слой регуляризации Dropout\n",
        "model.add(Dropout(0.5))\n",
        "# Выходной полносвязный слой\n",
        "model.add(Dense(10, activation='softmax'))\n",
        "\n",
        "model.compile(loss=\"categorical_crossentropy\", optimizer=\"adam\", metrics=[\"accuracy\"])\n",
        "\n",
        "history = model.fit(x_train10, \n",
        "                    y_train10, \n",
        "                    batch_size=batch_size, \n",
        "                    epochs=20,\n",
        "                    validation_split=0.2,\n",
        "                    verbose=1)\n",
        "\n",
        "plt.plot(history.history['acc'], \n",
        "         label='Доля верных ответов на обучающем наборе')\n",
        "plt.plot(history.history['val_acc'], \n",
        "         label='Доля верных ответов на проверочном наборе')\n",
        "plt.xlabel('Эпоха обучения')\n",
        "plt.ylabel('Доля верных ответов')\n",
        "plt.legend()\n",
        "plt.show()"
      ],
      "execution_count": 0,
      "outputs": [
        {
          "output_type": "stream",
          "text": [
            "Train on 40000 samples, validate on 10000 samples\n",
            "Epoch 1/20\n",
            "40000/40000 [==============================] - 7s 186us/sample - loss: 1.8191 - acc: 0.3292 - val_loss: 1.4458 - val_acc: 0.4900\n",
            "Epoch 2/20\n",
            "40000/40000 [==============================] - 7s 176us/sample - loss: 1.5249 - acc: 0.4426 - val_loss: 1.2952 - val_acc: 0.5496\n",
            "Epoch 3/20\n",
            "40000/40000 [==============================] - 7s 174us/sample - loss: 1.4090 - acc: 0.4900 - val_loss: 1.1867 - val_acc: 0.5887\n",
            "Epoch 4/20\n",
            "40000/40000 [==============================] - 7s 166us/sample - loss: 1.3339 - acc: 0.5151 - val_loss: 1.1072 - val_acc: 0.6133\n",
            "Epoch 5/20\n",
            "40000/40000 [==============================] - 7s 167us/sample - loss: 1.2746 - acc: 0.5421 - val_loss: 1.0933 - val_acc: 0.6216\n",
            "Epoch 6/20\n",
            "40000/40000 [==============================] - 7s 169us/sample - loss: 1.2398 - acc: 0.5541 - val_loss: 1.0625 - val_acc: 0.6289\n",
            "Epoch 7/20\n",
            "40000/40000 [==============================] - 7s 169us/sample - loss: 1.2059 - acc: 0.5669 - val_loss: 1.0308 - val_acc: 0.6343\n",
            "Epoch 8/20\n",
            "40000/40000 [==============================] - 7s 169us/sample - loss: 1.1785 - acc: 0.5776 - val_loss: 1.0520 - val_acc: 0.6411\n",
            "Epoch 9/20\n",
            "40000/40000 [==============================] - 7s 169us/sample - loss: 1.1490 - acc: 0.5877 - val_loss: 0.9947 - val_acc: 0.6537\n",
            "Epoch 10/20\n",
            "40000/40000 [==============================] - 7s 167us/sample - loss: 1.1212 - acc: 0.6001 - val_loss: 0.9806 - val_acc: 0.6599\n",
            "Epoch 11/20\n",
            "40000/40000 [==============================] - 7s 168us/sample - loss: 1.0997 - acc: 0.6058 - val_loss: 0.9708 - val_acc: 0.6621\n",
            "Epoch 12/20\n",
            "40000/40000 [==============================] - 7s 165us/sample - loss: 1.0758 - acc: 0.6134 - val_loss: 0.9620 - val_acc: 0.6663\n",
            "Epoch 13/20\n",
            "40000/40000 [==============================] - 7s 170us/sample - loss: 1.0550 - acc: 0.6210 - val_loss: 0.9265 - val_acc: 0.6767\n",
            "Epoch 14/20\n",
            "40000/40000 [==============================] - 7s 171us/sample - loss: 1.0358 - acc: 0.6285 - val_loss: 0.9278 - val_acc: 0.6805\n",
            "Epoch 15/20\n",
            "40000/40000 [==============================] - 7s 171us/sample - loss: 1.0266 - acc: 0.6325 - val_loss: 0.9286 - val_acc: 0.6797\n",
            "Epoch 16/20\n",
            "40000/40000 [==============================] - 7s 175us/sample - loss: 1.0108 - acc: 0.6409 - val_loss: 0.9285 - val_acc: 0.6736\n",
            "Epoch 17/20\n",
            "40000/40000 [==============================] - 7s 174us/sample - loss: 0.9953 - acc: 0.6473 - val_loss: 0.9346 - val_acc: 0.6730\n",
            "Epoch 18/20\n",
            "40000/40000 [==============================] - 7s 173us/sample - loss: 0.9845 - acc: 0.6501 - val_loss: 0.9126 - val_acc: 0.6830\n",
            "Epoch 19/20\n",
            "40000/40000 [==============================] - 7s 173us/sample - loss: 0.9775 - acc: 0.6460 - val_loss: 0.8951 - val_acc: 0.6914\n",
            "Epoch 20/20\n",
            "40000/40000 [==============================] - 7s 175us/sample - loss: 0.9643 - acc: 0.6521 - val_loss: 0.8959 - val_acc: 0.6893\n"
          ],
          "name": "stdout"
        },
        {
          "output_type": "display_data",
          "data": {
            "image/png": "[encoded data removed]",
            "text/plain": [
              "<Figure size 432x288 with 1 Axes>"
            ]
          },
          "metadata": {
            "tags": []
          }
        }
      ]
    },
    {
      "cell_type": "code",
      "metadata": {
        "id": "R0q5-TMsyLYn",
        "colab_type": "code",
        "outputId": "77f2a6f7-d115-4cc3-df01-01a9dda6f20f",
        "colab": {
          "base_uri": "https://localhost:8080/",
          "height": 976
        }
      },
      "source": [
        "# Создаем последовательную модель\n",
        "model = Sequential()\n",
        "# Слой пакетной нормализации\n",
        "model.add(BatchNormalization(input_shape=(32, 32, 3)))\n",
        "# Первый сверточный слой\n",
        "model.add(Conv2D(32, (3, 3), padding='same', activation='relu'))\n",
        "model.add(MaxPooling2D(pool_size=(2, 2)))\n",
        "# Второй сверточный слой\n",
        "model.add(Conv2D(32, (3, 3), padding='same', activation='relu'))\n",
        "# Первый слой подвыборки\n",
        "model.add(MaxPooling2D(pool_size=(2, 2)))\n",
        "# Слой регуляризации Dropout\n",
        "model.add(Dropout(0.25))\n",
        "\n",
        "# Слой пакетной нормализации\n",
        "model.add(BatchNormalization())\n",
        "# Третий сверточный слой\n",
        "model.add(Conv2D(64, (3, 3), padding='same', activation='relu'))\n",
        "model.add(MaxPooling2D(pool_size=(2, 2)))\n",
        "# Четвертый сверточный слой\n",
        "model.add(Conv2D(64, (3, 3), padding='same', activation='relu'))\n",
        "# Второй слой подвыборки\n",
        "model.add(MaxPooling2D(pool_size=(2, 2)))\n",
        "# Слой регуляризации Dropout\n",
        "model.add(Dropout(0.25))\n",
        "# Слой преобразования данных из 2D представления в плоское\n",
        "model.add(Flatten())\n",
        "# Полносвязный слой для классификации\n",
        "model.add(Dense(512, activation='relu'))\n",
        "# Слой регуляризации Dropout\n",
        "model.add(Dropout(0.5))\n",
        "# Выходной полносвязный слой\n",
        "model.add(Dense(10, activation='softmax'))\n",
        "\n",
        "#Компилируемсеть\n",
        "model.compile(loss=\"categorical_crossentropy\", optimizer=\"adam\", metrics=[\"accuracy\"])\n",
        "\n",
        "#Обучаем сеть на cifar10\n",
        "history = model.fit(x_train10, \n",
        "                    y_train10, \n",
        "                    batch_size=batch_size, \n",
        "                    epochs=20,\n",
        "                    validation_split=0.2,\n",
        "                    verbose=1)\n",
        "\n",
        "#Выводим график обучения сети\n",
        "plt.plot(history.history['acc'], \n",
        "         label='Доля верных ответов на обучающем наборе')\n",
        "plt.plot(history.history['val_acc'], \n",
        "         label='Доля верных ответов на проверочном наборе')\n",
        "plt.xlabel('Эпоха обучения')\n",
        "plt.ylabel('Доля верных ответов')\n",
        "plt.legend()\n",
        "plt.show()"
      ],
      "execution_count": 0,
      "outputs": [
        {
          "output_type": "stream",
          "text": [
            "Train on 40000 samples, validate on 10000 samples\n",
            "Epoch 1/20\n",
            "40000/40000 [==============================] - 3s 76us/sample - loss: 1.6374 - acc: 0.3917 - val_loss: 1.5254 - val_acc: 0.4552\n",
            "Epoch 2/20\n",
            "40000/40000 [==============================] - 3s 66us/sample - loss: 1.2845 - acc: 0.5351 - val_loss: 1.1238 - val_acc: 0.5996\n",
            "Epoch 3/20\n",
            "40000/40000 [==============================] - 3s 67us/sample - loss: 1.1402 - acc: 0.5926 - val_loss: 1.0212 - val_acc: 0.6371\n",
            "Epoch 4/20\n",
            "40000/40000 [==============================] - 3s 67us/sample - loss: 1.0445 - acc: 0.6268 - val_loss: 0.9224 - val_acc: 0.6711\n",
            "Epoch 5/20\n",
            "40000/40000 [==============================] - 3s 66us/sample - loss: 0.9793 - acc: 0.6505 - val_loss: 0.9167 - val_acc: 0.6813\n",
            "Epoch 6/20\n",
            "40000/40000 [==============================] - 3s 67us/sample - loss: 0.9295 - acc: 0.6723 - val_loss: 0.8558 - val_acc: 0.6970\n",
            "Epoch 7/20\n",
            "40000/40000 [==============================] - 3s 67us/sample - loss: 0.8883 - acc: 0.6855 - val_loss: 0.8620 - val_acc: 0.6998\n",
            "Epoch 8/20\n",
            "40000/40000 [==============================] - 3s 65us/sample - loss: 0.8507 - acc: 0.7017 - val_loss: 0.7962 - val_acc: 0.7166\n",
            "Epoch 9/20\n",
            "40000/40000 [==============================] - 3s 66us/sample - loss: 0.8234 - acc: 0.7096 - val_loss: 0.7771 - val_acc: 0.7300\n",
            "Epoch 10/20\n",
            "40000/40000 [==============================] - 3s 68us/sample - loss: 0.8006 - acc: 0.7173 - val_loss: 0.7527 - val_acc: 0.7366\n",
            "Epoch 11/20\n",
            "40000/40000 [==============================] - 3s 66us/sample - loss: 0.7783 - acc: 0.7249 - val_loss: 0.7721 - val_acc: 0.7270\n",
            "Epoch 12/20\n",
            "40000/40000 [==============================] - 3s 66us/sample - loss: 0.7577 - acc: 0.7350 - val_loss: 0.7524 - val_acc: 0.7415\n",
            "Epoch 13/20\n",
            "40000/40000 [==============================] - 3s 66us/sample - loss: 0.7368 - acc: 0.7387 - val_loss: 0.7205 - val_acc: 0.7500\n",
            "Epoch 14/20\n",
            "40000/40000 [==============================] - 3s 66us/sample - loss: 0.7244 - acc: 0.7439 - val_loss: 0.7011 - val_acc: 0.7508\n",
            "Epoch 15/20\n",
            "40000/40000 [==============================] - 3s 66us/sample - loss: 0.7105 - acc: 0.7477 - val_loss: 0.7050 - val_acc: 0.7543\n",
            "Epoch 16/20\n",
            "40000/40000 [==============================] - 3s 66us/sample - loss: 0.6981 - acc: 0.7510 - val_loss: 0.7390 - val_acc: 0.7429\n",
            "Epoch 17/20\n",
            "40000/40000 [==============================] - 3s 66us/sample - loss: 0.6883 - acc: 0.7604 - val_loss: 0.6803 - val_acc: 0.7638\n",
            "Epoch 18/20\n",
            "40000/40000 [==============================] - 3s 66us/sample - loss: 0.6764 - acc: 0.7631 - val_loss: 0.6893 - val_acc: 0.7584\n",
            "Epoch 19/20\n",
            "40000/40000 [==============================] - 3s 66us/sample - loss: 0.6690 - acc: 0.7647 - val_loss: 0.6746 - val_acc: 0.7635\n",
            "Epoch 20/20\n",
            "40000/40000 [==============================] - 3s 66us/sample - loss: 0.6570 - acc: 0.7692 - val_loss: 0.6595 - val_acc: 0.7708\n"
          ],
          "name": "stdout"
        },
        {
          "output_type": "display_data",
          "data": {
            "image/png": "[encoded data removed]",
            "text/plain": [
              "<Figure size 432x288 with 1 Axes>"
            ]
          },
          "metadata": {
            "tags": []
          }
        }
      ]
    },
    {
      "cell_type": "code",
      "metadata": {
        "id": "0OOjeC4XycOH",
        "colab_type": "code",
        "outputId": "5aedf182-55e0-4438-88d7-1731aef47782",
        "colab": {
          "base_uri": "https://localhost:8080/",
          "height": 1000
        }
      },
      "source": [
        "history = model.fit(x_train10, \n",
        "                    y_train10, \n",
        "                    batch_size=batch_size, \n",
        "                    epochs=40,\n",
        "                    validation_split=0.2,\n",
        "                    verbose=1)\n",
        "\n",
        "#Выводим график обучения сети\n",
        "plt.plot(history.history['acc'], \n",
        "         label='Доля верных ответов на обучающем наборе')\n",
        "plt.plot(history.history['val_acc'], \n",
        "         label='Доля верных ответов на проверочном наборе')\n",
        "plt.xlabel('Эпоха обучения')\n",
        "plt.ylabel('Доля верных ответов')\n",
        "plt.legend()\n",
        "plt.show()"
      ],
      "execution_count": 0,
      "outputs": [
        {
          "output_type": "stream",
          "text": [
            "Train on 40000 samples, validate on 10000 samples\n",
            "Epoch 1/40\n",
            "40000/40000 [==============================] - 3s 66us/sample - loss: 0.6498 - acc: 0.7695 - val_loss: 0.6935 - val_acc: 0.7591\n",
            "Epoch 2/40\n",
            "40000/40000 [==============================] - 3s 67us/sample - loss: 0.6399 - acc: 0.7743 - val_loss: 0.7001 - val_acc: 0.7579\n",
            "Epoch 3/40\n",
            "40000/40000 [==============================] - 3s 66us/sample - loss: 0.6347 - acc: 0.7745 - val_loss: 0.6801 - val_acc: 0.7610\n",
            "Epoch 4/40\n",
            "40000/40000 [==============================] - 3s 66us/sample - loss: 0.6278 - acc: 0.7785 - val_loss: 0.6641 - val_acc: 0.7709\n",
            "Epoch 5/40\n",
            "40000/40000 [==============================] - 3s 66us/sample - loss: 0.6129 - acc: 0.7847 - val_loss: 0.6744 - val_acc: 0.7671\n",
            "Epoch 6/40\n",
            "40000/40000 [==============================] - 3s 66us/sample - loss: 0.6167 - acc: 0.7814 - val_loss: 0.6534 - val_acc: 0.7720\n",
            "Epoch 7/40\n",
            "40000/40000 [==============================] - 3s 67us/sample - loss: 0.6092 - acc: 0.7839 - val_loss: 0.6522 - val_acc: 0.7761\n",
            "Epoch 8/40\n",
            "40000/40000 [==============================] - 3s 66us/sample - loss: 0.5971 - acc: 0.7885 - val_loss: 0.6628 - val_acc: 0.7701\n",
            "Epoch 9/40\n",
            "40000/40000 [==============================] - 3s 68us/sample - loss: 0.5963 - acc: 0.7866 - val_loss: 0.6493 - val_acc: 0.7805\n",
            "Epoch 10/40\n",
            "40000/40000 [==============================] - 3s 67us/sample - loss: 0.5938 - acc: 0.7910 - val_loss: 0.6497 - val_acc: 0.7765\n",
            "Epoch 11/40\n",
            "40000/40000 [==============================] - 3s 67us/sample - loss: 0.5833 - acc: 0.7917 - val_loss: 0.6492 - val_acc: 0.7778\n",
            "Epoch 12/40\n",
            "40000/40000 [==============================] - 3s 68us/sample - loss: 0.5815 - acc: 0.7940 - val_loss: 0.6623 - val_acc: 0.7728\n",
            "Epoch 13/40\n",
            "40000/40000 [==============================] - 3s 67us/sample - loss: 0.5779 - acc: 0.7964 - val_loss: 0.6533 - val_acc: 0.7744\n",
            "Epoch 14/40\n",
            "40000/40000 [==============================] - 3s 66us/sample - loss: 0.5752 - acc: 0.7991 - val_loss: 0.6512 - val_acc: 0.7764\n",
            "Epoch 15/40\n",
            "40000/40000 [==============================] - 3s 67us/sample - loss: 0.5655 - acc: 0.8012 - val_loss: 0.6464 - val_acc: 0.7796\n",
            "Epoch 16/40\n",
            "40000/40000 [==============================] - 3s 67us/sample - loss: 0.5678 - acc: 0.7996 - val_loss: 0.6651 - val_acc: 0.7707\n",
            "Epoch 17/40\n",
            "40000/40000 [==============================] - 3s 67us/sample - loss: 0.5658 - acc: 0.7990 - val_loss: 0.6431 - val_acc: 0.7789\n",
            "Epoch 18/40\n",
            "40000/40000 [==============================] - 3s 66us/sample - loss: 0.5541 - acc: 0.8044 - val_loss: 0.6293 - val_acc: 0.7857\n",
            "Epoch 19/40\n",
            "40000/40000 [==============================] - 3s 66us/sample - loss: 0.5565 - acc: 0.8038 - val_loss: 0.6158 - val_acc: 0.7892\n",
            "Epoch 20/40\n",
            "40000/40000 [==============================] - 3s 67us/sample - loss: 0.5535 - acc: 0.8054 - val_loss: 0.6397 - val_acc: 0.7803\n",
            "Epoch 21/40\n",
            "40000/40000 [==============================] - 3s 67us/sample - loss: 0.5460 - acc: 0.8086 - val_loss: 0.6410 - val_acc: 0.7795\n",
            "Epoch 22/40\n",
            "40000/40000 [==============================] - 3s 67us/sample - loss: 0.5430 - acc: 0.8093 - val_loss: 0.6237 - val_acc: 0.7842\n",
            "Epoch 23/40\n",
            "40000/40000 [==============================] - 3s 67us/sample - loss: 0.5443 - acc: 0.8081 - val_loss: 0.6573 - val_acc: 0.7786\n",
            "Epoch 24/40\n",
            "40000/40000 [==============================] - 3s 67us/sample - loss: 0.5345 - acc: 0.8097 - val_loss: 0.6442 - val_acc: 0.7799\n",
            "Epoch 25/40\n",
            "40000/40000 [==============================] - 3s 66us/sample - loss: 0.5320 - acc: 0.8093 - val_loss: 0.6275 - val_acc: 0.7855\n",
            "Epoch 26/40\n",
            "40000/40000 [==============================] - 3s 67us/sample - loss: 0.5298 - acc: 0.8127 - val_loss: 0.6433 - val_acc: 0.7774\n",
            "Epoch 27/40\n",
            "40000/40000 [==============================] - 3s 66us/sample - loss: 0.5242 - acc: 0.8145 - val_loss: 0.6464 - val_acc: 0.7819\n",
            "Epoch 28/40\n",
            "40000/40000 [==============================] - 3s 67us/sample - loss: 0.5226 - acc: 0.8157 - val_loss: 0.6254 - val_acc: 0.7851\n",
            "Epoch 29/40\n",
            "40000/40000 [==============================] - 3s 67us/sample - loss: 0.5248 - acc: 0.8128 - val_loss: 0.6206 - val_acc: 0.7883\n",
            "Epoch 30/40\n",
            "40000/40000 [==============================] - 3s 67us/sample - loss: 0.5268 - acc: 0.8152 - val_loss: 0.6233 - val_acc: 0.7907\n",
            "Epoch 31/40\n",
            "40000/40000 [==============================] - 3s 67us/sample - loss: 0.5200 - acc: 0.8167 - val_loss: 0.6106 - val_acc: 0.7893\n",
            "Epoch 32/40\n",
            "40000/40000 [==============================] - 3s 67us/sample - loss: 0.5125 - acc: 0.8177 - val_loss: 0.6408 - val_acc: 0.7817\n",
            "Epoch 33/40\n",
            "40000/40000 [==============================] - 3s 67us/sample - loss: 0.5173 - acc: 0.8166 - val_loss: 0.6360 - val_acc: 0.7841\n",
            "Epoch 34/40\n",
            "40000/40000 [==============================] - 3s 67us/sample - loss: 0.5077 - acc: 0.8205 - val_loss: 0.6284 - val_acc: 0.7895\n",
            "Epoch 35/40\n",
            "40000/40000 [==============================] - 3s 66us/sample - loss: 0.5065 - acc: 0.8209 - val_loss: 0.6229 - val_acc: 0.7882\n",
            "Epoch 36/40\n",
            "40000/40000 [==============================] - 3s 67us/sample - loss: 0.5049 - acc: 0.8220 - val_loss: 0.6569 - val_acc: 0.7832\n",
            "Epoch 37/40\n",
            "40000/40000 [==============================] - 3s 67us/sample - loss: 0.5072 - acc: 0.8207 - val_loss: 0.6375 - val_acc: 0.7827\n",
            "Epoch 38/40\n",
            "40000/40000 [==============================] - 3s 67us/sample - loss: 0.4958 - acc: 0.8237 - val_loss: 0.6347 - val_acc: 0.7877\n",
            "Epoch 39/40\n",
            "40000/40000 [==============================] - 3s 69us/sample - loss: 0.5010 - acc: 0.8204 - val_loss: 0.6245 - val_acc: 0.7872\n",
            "Epoch 40/40\n",
            "40000/40000 [==============================] - 3s 67us/sample - loss: 0.4986 - acc: 0.8224 - val_loss: 0.6091 - val_acc: 0.7965\n"
          ],
          "name": "stdout"
        },
        {
          "output_type": "display_data",
          "data": {
            "image/png": "[encoded data removed]",
            "text/plain": [
              "<Figure size 432x288 with 1 Axes>"
            ]
          },
          "metadata": {
            "tags": []
          }
        }
      ]
    }
  ]
}