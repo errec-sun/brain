{
  "nbformat": 4,
  "nbformat_minor": 0,
  "metadata": {
    "colab": {
      "name": "Февральский курс. Pro. Занятие 4. Обработка текста",
      "provenance": [],
      "collapsed_sections": [],
      "machine_shape": "hm",
      "include_colab_link": true
    },
    "kernelspec": {
      "name": "python3",
      "display_name": "Python 3"
    },
    "accelerator": "GPU"
  },
  "cells": [
    {
      "cell_type": "markdown",
      "metadata": {
        "id": "view-in-github",
        "colab_type": "text"
      },
      "source": [
        "<a href=\"https://colab.research.google.com/github/errec-sun/brain/blob/master/%D0%A4%D0%B5%D0%B2%D1%80%D0%B0%D0%BB%D1%8C%D1%81%D0%BA%D0%B8%D0%B9_%D0%BA%D1%83%D1%80%D1%81_Pro_%D0%97%D0%B0%D0%BD%D1%8F%D1%82%D0%B8%D0%B5_4_%D0%9E%D0%B1%D1%80%D0%B0%D0%B1%D0%BE%D1%82%D0%BA%D0%B0_%D1%82%D0%B5%D0%BA%D1%81%D1%82%D0%B0.ipynb\" target=\"_parent\"><img src=\"https://colab.research.google.com/assets/colab-badge.svg\" alt=\"Open In Colab\"/></a>"
      ]
    },
    {
      "cell_type": "markdown",
      "metadata": {
        "id": "HN6pm2WNSppR",
        "colab_type": "text"
      },
      "source": [
        "# Import библиотек\n"
      ]
    },
    {
      "cell_type": "code",
      "metadata": {
        "id": "9c-p9wyqmSKJ",
        "colab_type": "code",
        "outputId": "0364bc86-bf5e-452e-8086-a58d43a1b5ea",
        "colab": {
          "base_uri": "https://localhost:8080/",
          "height": 80
        }
      },
      "source": [
        "from google.colab import files\n",
        "import numpy as np\n",
        "import pandas as pd\n",
        "import matplotlib.pyplot as plt\n",
        "%matplotlib inline\n",
        "from tensorflow.keras import utils\n",
        "\n",
        "from tensorflow.keras.models import Sequential\n",
        "from tensorflow.keras.layers import Dense, Dropout, SpatialDropout1D, BatchNormalization, Embedding, Flatten, Activation\n",
        "from tensorflow.python.keras.optimizers import Adam, RMSprop\n",
        "\n",
        "from keras.preprocessing.text import Tokenizer, text_to_word_sequence\n",
        "from sklearn.model_selection import train_test_split"
      ],
      "execution_count": 0,
      "outputs": [
        {
          "output_type": "display_data",
          "data": {
            "text/html": [
              "<p style=\"color: red;\">\n",
              "The default version of TensorFlow in Colab will soon switch to TensorFlow 2.x.<br>\n",
              "We recommend you <a href=\"https://www.tensorflow.org/guide/migrate\" target=\"_blank\">upgrade</a> now \n",
              "or ensure your notebook will continue to use TensorFlow 1.x via the <code>%tensorflow_version 1.x</code> magic:\n",
              "<a href=\"https://colab.research.google.com/notebooks/tensorflow_version.ipynb\" target=\"_blank\">more info</a>.</p>\n"
            ],
            "text/plain": [
              "<IPython.core.display.HTML object>"
            ]
          },
          "metadata": {
            "tags": []
          }
        },
        {
          "output_type": "stream",
          "text": [
            "Using TensorFlow backend.\n"
          ],
          "name": "stderr"
        }
      ]
    },
    {
      "cell_type": "code",
      "metadata": {
        "id": "X7sTBsOrA_gb",
        "colab_type": "code",
        "outputId": "e17303eb-1151-42a8-cafe-09046ffe388d",
        "colab": {
          "base_uri": "https://localhost:8080/",
          "height": 122
        }
      },
      "source": [
        "from google.colab import drive\n",
        "drive.mount('/content/drive')"
      ],
      "execution_count": 0,
      "outputs": [
        {
          "output_type": "stream",
          "text": [
            "Go to this URL in a browser: https://accounts.google.com/o/oauth2/auth?client_id=947318989803-6bn6qk8qdgf4n4g3pfee6491hc0brc4i.apps.googleusercontent.com&redirect_uri=urn%3aietf%3awg%3aoauth%3a2.0%3aoob&response_type=code&scope=email%20https%3a%2f%2fwww.googleapis.com%2fauth%2fdocs.test%20https%3a%2f%2fwww.googleapis.com%2fauth%2fdrive%20https%3a%2f%2fwww.googleapis.com%2fauth%2fdrive.photos.readonly%20https%3a%2f%2fwww.googleapis.com%2fauth%2fpeopleapi.readonly\n",
            "\n",
            "Enter your authorization code:\n",
            "··········\n",
            "Mounted at /content/drive\n"
          ],
          "name": "stdout"
        }
      ]
    },
    {
      "cell_type": "markdown",
      "metadata": {
        "id": "dznpBNPbAx4r",
        "colab_type": "text"
      },
      "source": [
        "# Загрузка файлов"
      ]
    },
    {
      "cell_type": "markdown",
      "metadata": {
        "id": "VL25IskRnMJF",
        "colab_type": "text"
      },
      "source": [
        "#Загрузка данных\n"
      ]
    },
    {
      "cell_type": "code",
      "metadata": {
        "id": "vkiExCnVfr_7",
        "colab_type": "code",
        "colab": {}
      },
      "source": [
        "###########################\n",
        "# Чтение файла в текст\n",
        "##########################\n",
        "def readText(fileName): #функция принимает имя файла\n",
        "  f = open(fileName, 'r')        #задаем открытие нужного файла в режиме чтения\n",
        "  text = f.read()                #читаем текст\n",
        "  text = text.replace(\"\\n\", \" \") #переносы строки переводим в пробелы\n",
        "  \n",
        "  return text                    #функция возвращает текст файла\n",
        "\n",
        "#Загружаем обучающие тексты\n",
        "trainText = []\n",
        "trainText.append(readText('/content/drive/My Drive/Базы/Тексты писателей/(О. Генри) Обучающая_50 вместе.txt'))\n",
        "trainText.append(readText('/content/drive/My Drive/Базы/Тексты писателей/(Стругацкие) Обучающая_5 вместе.txt'))\n",
        "trainText.append(readText('/content/drive/My Drive/Базы/Тексты писателей/(Булгаков) Обучающая_5 вместе.txt'))\n",
        "trainText.append(readText('/content/drive/My Drive/Базы/Тексты писателей/(Клиффорд_Саймак) Обучающая_5 вместе.txt'))\n",
        "trainText.append(readText('/content/drive/My Drive/Базы/Тексты писателей/(Макс Фрай) Обучающая_5 вместе.txt'))\n",
        "trainText.append(readText('/content/drive/My Drive/Базы/Тексты писателей/(Рэй Брэдберри) Обучающая_22 вместе.txt')) \n",
        "\n",
        "className = [\"О. Генри\", \"Стругацкие\", \"Булгаков\", \"Саймак\", \"Фрай\", \"Брэдбери\"]\n",
        "nClasses = len(className)\n",
        "\n",
        "#Загружаем тестовые тексты\n",
        "testText = []\n",
        "testText.append(readText('/content/drive/My Drive/Базы/Тексты писателей/(О. Генри) Тестовая_20 вместе.txt'))\n",
        "testText.append(readText('/content/drive/My Drive/Базы/Тексты писателей/(Стругацкие) Тестовая_2 вместе.txt'))\n",
        "testText.append(readText('/content/drive/My Drive/Базы/Тексты писателей/(Булгаков) Тестовая_2 вместе.txt'))\n",
        "testText.append(readText('/content/drive/My Drive/Базы/Тексты писателей/(Клиффорд_Саймак) Тестовая_2 вместе.txt'))\n",
        "testText.append(readText('/content/drive/My Drive/Базы/Тексты писателей/(Макс Фрай) Тестовая_2 вместе.txt'))\n",
        "testText.append(readText('/content/drive/My Drive/Базы/Тексты писателей/(Рэй Брэдберри) Тестовая_8 вместе.txt'))"
      ],
      "execution_count": 0,
      "outputs": []
    },
    {
      "cell_type": "markdown",
      "metadata": {
        "id": "_BYd_uRgTQ_0",
        "colab_type": "text"
      },
      "source": [
        "#Обработка данных"
      ]
    },
    {
      "cell_type": "code",
      "metadata": {
        "id": "63vllsfyo2Og",
        "colab_type": "code",
        "colab": {}
      },
      "source": [
        "#################\n",
        "#Преобразовываем текстовые данные в числовые/векторные для обучения нейросетью\n",
        "#################\n",
        "\n",
        "maxWordsCount = 20000 #определяем макс.кол-во слов/индексов, учитываемое при обучении текстов\n",
        "\n",
        "#для этого воспользуемся встроенной в Keras функцией Tokenizer для разбиения текста и превращения в матрицу числовых значений\n",
        "tokenizer = Tokenizer(num_words=maxWordsCount, filters='!\"#$%&()*+,-–—./:;<=>?@[\\\\]^_`{|}~\\t\\n\\xa0', lower=True, split=' ', oov_token='unknown', char_level=False)\n",
        "#выше задаем параметры:\n",
        "#(num_words=maxWordsCount) - определяем макс.кол-во слов/индексов, учитываемое при обучении текстов\n",
        "#(filters='!\"#$%&()*+,-./:;<=>?@[\\\\]^_`{|}~\\t\\n') - избавляемся от ненужных символов\n",
        "#(lower=True) - приводим слова к нижнему регистру\n",
        "#(split=' ') - разделяем слова по пробелу\n",
        "#(char_level=False) - просим токенайзер не удалять однобуквенные слова\n",
        "\n",
        "tokenizer.fit_on_texts(trainText) #\"скармливаем\" наши тексты, т.е даём в обработку методу, который соберет словарь частотности\n",
        "items = list(tokenizer.word_index.items()) #Вытаскиваем индексы слов для просмотра"
      ],
      "execution_count": 0,
      "outputs": []
    },
    {
      "cell_type": "code",
      "metadata": {
        "id": "Ex9rbnPBo5yC",
        "colab_type": "code",
        "outputId": "e9600dd6-ccbe-4628-8581-6451b71b7c23",
        "colab": {
          "base_uri": "https://localhost:8080/",
          "height": 54
        }
      },
      "source": [
        "print(items[:100])"
      ],
      "execution_count": 0,
      "outputs": [
        {
          "output_type": "stream",
          "text": [
            "[('и', 1), ('в', 2), ('не', 3), ('я', 4), ('что', 5), ('на', 6), ('с', 7), ('он', 8), ('а', 9), ('как', 10), ('то', 11), ('это', 12), ('но', 13), ('все', 14), ('у', 15), ('по', 16), ('его', 17), ('к', 18), ('так', 19), ('мне', 20), ('из', 21), ('за', 22), ('меня', 23), ('ты', 24), ('же', 25), ('сказал', 26), ('бы', 27), ('было', 28), ('вы', 29), ('от', 30), ('они', 31), ('мы', 32), ('только', 33), ('да', 34), ('еще', 35), ('она', 36), ('о', 37), ('когда', 38), ('вот', 39), ('уже', 40), ('если', 41), ('был', 42), ('ни', 43), ('их', 44), ('нет', 45), ('чтобы', 46), ('до', 47), ('ну', 48), ('для', 49), ('ему', 50), ('может', 51), ('или', 52), ('ничего', 53), ('даже', 54), ('там', 55), ('очень', 56), ('кто', 57), ('ее', 58), ('тут', 59), ('потом', 60), ('просто', 61), ('него', 62), ('чем', 63), ('быть', 64), ('теперь', 65), ('под', 66), ('где', 67), ('нас', 68), ('есть', 69), ('тебя', 70), ('время', 71), ('ли', 72), ('тебе', 73), ('со', 74), ('во', 75), ('вас', 76), ('раз', 77), ('нибудь', 78), ('этот', 79), ('сейчас', 80), ('вам', 81), ('себя', 82), ('здесь', 83), ('уж', 84), ('себе', 85), ('этого', 86), ('надо', 87), ('том', 88), ('будет', 89), ('можно', 90), ('сам', 91), ('нам', 92), ('были', 93), ('была', 94), ('того', 95), ('тоже', 96), ('один', 97), ('без', 98), ('спросил', 99), ('больше', 100)]\n"
          ],
          "name": "stdout"
        }
      ]
    },
    {
      "cell_type": "code",
      "metadata": {
        "id": "qH6L2CY64576",
        "colab_type": "code",
        "outputId": "f870f55c-9f5c-4f1c-c705-a31d2d5577fe",
        "colab": {
          "base_uri": "https://localhost:8080/",
          "height": 34
        }
      },
      "source": [
        "print(\"Размер словаря\", len(items))"
      ],
      "execution_count": 0,
      "outputs": [
        {
          "output_type": "stream",
          "text": [
            "Размер словаря 144056\n"
          ],
          "name": "stdout"
        }
      ]
    },
    {
      "cell_type": "code",
      "metadata": {
        "id": "V_N8QMdypQTG",
        "colab_type": "code",
        "outputId": "ebf2b4f4-2e92-4d74-85d0-0f5e138946bc",
        "colab": {
          "base_uri": "https://localhost:8080/",
          "height": 68
        }
      },
      "source": [
        "print(\"Протестируем словарь частотности\")\n",
        "print(\"Интересующее слово имеет индекс: \", tokenizer.word_index[input(\"уточните слово: \")]) #протестируем словарь частотности"
      ],
      "execution_count": 0,
      "outputs": [
        {
          "output_type": "stream",
          "text": [
            "Протестируем словарь частотности\n",
            "уточните слово: преисподней\n",
            "Интересующее слово имеет индекс:  29221\n"
          ],
          "name": "stdout"
        }
      ]
    },
    {
      "cell_type": "code",
      "metadata": {
        "id": "qmHQK2HpWx3K",
        "colab_type": "code",
        "outputId": "a7fe0ab9-0a3c-4fa8-9d5a-ad0a95a3d8b8",
        "colab": {
          "base_uri": "https://localhost:8080/",
          "height": 391
        }
      },
      "source": [
        "#преобразовываем текст в последовательность индексов согласно частотному словарю\n",
        "trainWordIndexes = tokenizer.texts_to_sequences(trainText) #обучающие тесты в индексы\n",
        "testWordIndexes = tokenizer.texts_to_sequences(testText)  #проверочные тесты в индексы\n",
        "\n",
        "print(\"Взглянем на фрагмент обучающего текста:\")\n",
        "print(\"В виде оригинального текста:              \", trainText[1] [:87])\n",
        "print(\"Он же в виде последовательности индексов: \", trainWordIndexes[1][:20])\n",
        "\n",
        "print()\n",
        "print()\n",
        "\n",
        "print(\"Статистика по обучающим текстам:\")\n",
        "for i in range(6):\n",
        "  print(className[i], \" \", len(trainText[i]), \" символов, \", len(trainWordIndexes[i]), \" слов\")\n",
        "print(\"В сумме \", len(trainText[0])+len(trainText[1])+len(trainText[2])+len(trainText[3])+len(trainText[4])+len(trainText[5]), \" символов, \", len(trainWordIndexes[0])+len(trainWordIndexes[1])+len(trainWordIndexes[2])+len(trainWordIndexes[3])+len(trainWordIndexes[4])+len(trainWordIndexes[5]), \" слов\")\n",
        "print()\n",
        "print(\"Статистика по обучающим текстам:\")\n",
        "for i in range(6):\n",
        "  print(className[i], \" \", len(testText[i]), \" символов, \", len(testWordIndexes[i]), \" слов\")\n",
        "print(\"В сумме \", len(testText[0])+len(testText[1])+len(testText[2])+len(testText[3])+len(testText[4])+len(testText[5]), \" символов, \", len(testWordIndexes[0])+len(testWordIndexes[1])+len(testWordIndexes[2])+len(testWordIndexes[3])+len(testWordIndexes[4])+len(testWordIndexes[5]), \" слов\")"
      ],
      "execution_count": 0,
      "outputs": [
        {
          "output_type": "stream",
          "text": [
            "Взглянем на фрагмент обучающего текста:\n",
            "В виде оригинального текста:               Парень из преисподней     1     Ну и деревня! Сроду я таких деревень не видел и не знал\n",
            "Он же в виде последовательности индексов:  [469, 21, 1481, 48, 1, 12724, 7722, 4, 414, 3, 251, 1, 3, 246, 54, 5, 239, 10516, 2646, 183]\n",
            "\n",
            "\n",
            "Статистика по обучающим текстам:\n",
            "О. Генри   1049517  символов,  131775  слов\n",
            "Стругацкие   2042469  символов,  264283  слов\n",
            "Булгаков   1765648  символов,  213298  слов\n",
            "Саймак   1609507  символов,  221218  слов\n",
            "Фрай   3700010  символов,  499867  слов\n",
            "Брэдбери   1386454  символов,  182882  слов\n",
            "В сумме  11553605  символов,  1513323  слов\n",
            "\n",
            "Статистика по обучающим текстам:\n",
            "О. Генри   349662  символов,  41755  слов\n",
            "Стругацкие   704846  символов,  87117  слов\n",
            "Булгаков   875042  символов,  105967  слов\n",
            "Саймак   318811  символов,  42677  слов\n",
            "Фрай   1278191  символов,  163848  слов\n",
            "Брэдбери   868673  символов,  106664  слов\n",
            "В сумме  4395225  символов,  548028  слов\n"
          ],
          "name": "stdout"
        }
      ]
    },
    {
      "cell_type": "markdown",
      "metadata": {
        "id": "slCp7AkSw0Oo",
        "colab_type": "text"
      },
      "source": [
        "#Создание обучающей и проверочной выборки"
      ]
    },
    {
      "cell_type": "markdown",
      "metadata": {
        "id": "kzgY9gNMRRk6",
        "colab_type": "text"
      },
      "source": [
        "**Функции для формирования выборки по отрезкам текста с заданным шагом**\n",
        "\n"
      ]
    },
    {
      "cell_type": "code",
      "metadata": {
        "id": "CP69cPxWdHq3",
        "colab_type": "code",
        "colab": {}
      },
      "source": [
        "###########################\n",
        "# Формирование обучающей выборки по листу индексов слов\n",
        "# (разделение на короткие векторы)\n",
        "##########################\n",
        "def getSetFromIndexes(wordIndexes, xLen, step):\n",
        "  xSample = []\n",
        "  wordsLen = len(wordIndexes)\n",
        "  index = 0\n",
        "  \n",
        "  #Идём по всей длине вектора индексов\n",
        "  #\"Откусываем\" векторы длины xLen и смещаеммся вперёд на step\n",
        "  \n",
        "  while (index + xLen <= wordsLen):\n",
        "    xSample.append(wordIndexes[index:index+xLen])\n",
        "    index += step\n",
        "    \n",
        "  return xSample"
      ],
      "execution_count": 0,
      "outputs": []
    },
    {
      "cell_type": "code",
      "metadata": {
        "id": "wnVyegrxcnZM",
        "colab_type": "code",
        "colab": {}
      },
      "source": [
        "###########################\n",
        "# Формирование обучающей и проверочной выборки\n",
        "# Из двух листов индексов от двух классов\n",
        "##########################\n",
        "def createSetsMultiClasses(wordIndexes, xLen, step): #функция принимает последовательность индексов, размер окна, шаг окна\n",
        "\n",
        "  #Для каждого из 6 классов\n",
        "  #Создаём обучающую/проверочную выборку из индексов\n",
        "  nClasses = len(wordIndexes) #задаем количество классов выборки\n",
        "  classesXSamples = []        #здесь будет список размером \"кол-во классов*кол-во окон в тексте*длину окна(например 6 по 1341*1000)\"\n",
        "  for wI in wordIndexes:      #для каждого текста выборки из последовательности индексов\n",
        "    classesXSamples.append(getSetFromIndexes(wI, xLen, step)) #добавляем в список очередной текст индексов, разбитый на \"кол-во окон*длину окна\" \n",
        "\n",
        "  #Формируем один общий xSamples\n",
        "  xSamples = [] #здесь будет список размером \"суммарное кол-во окон во всех текстах*длину окна(например 15779*1000)\"\n",
        "  ySamples = [] #здесь будет список размером \"суммарное кол-во окон во всех текстах*вектор длиной 6\"\n",
        "  \n",
        "  for t in range(nClasses): #в диапазоне кол-ва классов(6)\n",
        "    xT = classesXSamples[t] #берем очередной текст вида \"кол-во окон в тексте*длину окна\"(например 1341*1000)\n",
        "    for i in range(len(xT)): #и каждое его окно\n",
        "      xSamples.append(xT[i]) #добавляем в общий список выборки\n",
        "    \n",
        "    #Формируем ySamples по номеру класса\n",
        "    currY = utils.to_categorical(t, nClasses) #текущий класс переводится в вектор длиной 6 вида [0.0.0.1.0.0.]\n",
        "    for i in range(len(xT)): #на каждое окно выборки \n",
        "      ySamples.append(currY) #добавляем соответствующий вектор класса\n",
        "\n",
        "  xSamples = np.array(xSamples) #переводим в массив numpy для подачи в нейронку\n",
        "  ySamples = np.array(ySamples) #переводим в массив numpy для подачи в нейронку\n",
        "\n",
        "  \n",
        "  return (xSamples, ySamples) #функция возвращает выборку и соответствующие векторы классов"
      ],
      "execution_count": 0,
      "outputs": []
    },
    {
      "cell_type": "markdown",
      "metadata": {
        "id": "0Pi3Up8OvTtr",
        "colab_type": "text"
      },
      "source": [
        "**Подготовка данных**\n"
      ]
    },
    {
      "cell_type": "code",
      "metadata": {
        "id": "SgzoAiyawSwJ",
        "colab_type": "code",
        "colab": {}
      },
      "source": [
        "#Задаём базовые параметры\n",
        "xLen = 1000 #Длина отрезка текста, по которой анализируем, в словах\n",
        "step = 100 #Шаг разбиения исходного текста на обучающие вектора"
      ],
      "execution_count": 0,
      "outputs": []
    },
    {
      "cell_type": "code",
      "metadata": {
        "id": "CqAgZWT8RH0b",
        "colab_type": "code",
        "outputId": "c44fe224-50bd-4e03-89f9-50ef5b2e712d",
        "colab": {
          "base_uri": "https://localhost:8080/",
          "height": 85
        }
      },
      "source": [
        "#Формируем обучающую и тестовую выборку\n",
        "xTrain, yTrain = createSetsMultiClasses(trainWordIndexes, xLen, step) #извлекаем обучающую выборку\n",
        "xTest, yTest = createSetsMultiClasses(testWordIndexes, xLen, step)    #извлекаем тестовую выборку\n",
        "print(xTrain.shape)\n",
        "print(yTrain.shape)\n",
        "print(xTest.shape)\n",
        "print(yTest.shape)\n",
        "#получили обучающий/тестовый набор, достаточный для запуска Embedding, но для Bag of Words нужно xTrain и xTest представить в виде векторов из 0 и 1"
      ],
      "execution_count": 0,
      "outputs": [
        {
          "output_type": "stream",
          "text": [
            "(15075, 1000)\n",
            "(15075, 6)\n",
            "(5423, 1000)\n",
            "(5423, 6)\n"
          ],
          "name": "stdout"
        }
      ]
    },
    {
      "cell_type": "code",
      "metadata": {
        "id": "yNVSMbMv3vM7",
        "colab_type": "code",
        "outputId": "067d3f2b-a4af-41e9-a2d0-81797d194c94",
        "colab": {
          "base_uri": "https://localhost:8080/",
          "height": 1000
        }
      },
      "source": [
        "print(xTrain[0])"
      ],
      "execution_count": 0,
      "outputs": [
        {
          "output_type": "stream",
          "text": [
            "[    6  1732     2    10  7514     2  3236   273  1044    15   256  2118\n",
            "     6   645     8  2526     2  1630  7852  9574   955    10    27    54\n",
            "   131   129   122  1443  3237   920  1152 15416    35   189    63  2624\n",
            "  4807   937  1907  2890     2 10108     1 16929   220    10 15417   143\n",
            "   712   582   273     1  1989  6647    16   372 14208    75    14  1487\n",
            " 14209 10777  1193     6 14209   104  8637  7515    49    62 14210  2625\n",
            "   243   273  4188    79  2449 11436     3   737  3472     2  1732  4189\n",
            "  4667     7  8222  1291  6164  2119   908   279  7195   335  6924   220\n",
            " 12194    16   144 11436   899     7  6648  9045  5499  4808    30  4529\n",
            "     1  1216 13093  3861     6  7196     1 15418     1  2527 10777  1193\n",
            "   104   306  1887   137    42  5500     1  3177     5  1193     6   959\n",
            "     7   943   104     1  4953     2   178 18766  4190  1888     5  1887\n",
            "  1193   320    11  3473   870 10778 14211    94     2  1265 16930    38\n",
            "     2  1631  2313 10109 15419   692  1499   105     1  4289     6   535\n",
            "   131  1244    94 10110     7  5120     1   160   604    72  5501     6\n",
            "   144  7516   105 10111     2  1631    42  1319  1933  1847     1    22\n",
            "  7197  2118     1 12195    39  1004   693  1933     1  4809     2    11\n",
            "    71   135  1907  3322    15  1632    93   390  1604 13094    44  3238\n",
            "  1933   269     6   984 18767 18768    37    17   174 12196  3951    18\n",
            "     1 10112     6   372    38     8   199     2    63   112     8  5919\n",
            "   206   265  3625     1   825 15420 10779   104   321   445     5    14\n",
            "  3323 18769    93     1 12197     2  5323  2570   638     6   517   959\n",
            "   646     5  2053    18  5719  3474  7853  3626  2626    21    86    11\n",
            "   183 12198  1193  6165    14    12    71     8  4810   574   310     7\n",
            "  3549  3626  2626     6  5920  3062   331 16931  6404     2   478   401\n",
            "   825  1933     2   478     1    19    84  9575    21    22 11436   331\n",
            "  1365     6   694   498     3 13095  1444  9576   123  1799    87    25\n",
            "  5921     7 15421     2    97  1708   170    29  9046     9     2  1848\n",
            "    21    22    86  5922  5923  1193  2229    16   372     1  6166     7\n",
            "   899     6    62     7  6649   680     8    42    21   517  7854   331\n",
            "    49  1560  5121  4290  9047     2  3772     2  2891  2625    21  3773\n",
            "     8    42   985    17    27  1460    41    27    58     3  2273    38\n",
            " 14210    94   155    50     9  1989  7517   178  3700  1122     7  1962\n",
            "  1750    66   764   255    58  3550   899    18   176     6    66  1934\n",
            "    52    18  6167     1  2716  1512    18   268     1    22  5122  1542\n",
            "     2  1193  2274     6 10113   770  1933     1  2999 10778    36    94\n",
            "    30 11437   137  1320     2  1935  3000 11438     2  4811    30  1907\n",
            "    42     1   139  2795  4069    11     5     8    42   788     1  8223\n",
            "  1153 16932 14210   434   870    30    62  1193 14210    94  1500 10114\n",
            "     1   115    58   289    28  1123    43    16    43    16  8224   680\n",
            "     2 11438     3 18770     1  4954  4070 12199   250    22   583    13\n",
            "    42 18771 15422    97  1051    18  1084    90    28 15423     7  6925\n",
            "     5    17     3 16933    12  7855     1   816 11439  1061    19     5\n",
            "   245    43    85   180   131   222 13096 14210    47  7515 12200     3\n",
            "    39    58  2528    16   653    74   619     2     1    30   316     8\n",
            "    98   722  3324   630  5502     6   866  8638    13    98  4955    44\n",
            "    22  4408  2417   310     7  5503  4668     6  6168    29   350     5\n",
            "   258    49  7515   197     3   337     8    42   317    21   124 12201\n",
            "  1847     2     1     3   826    15    62  3475 11440  1411     1   258\n",
            "  6650     8   604    72  7518    27   566     1 15424    94    49    62\n",
            "  1561  1990   639  3627  6926     8 16934  7198     6  1990   268     8\n",
            "  2275     2   435 16935     2  1848   141 16936  7519     1  1193   141\n",
            "   670    42  4956   182   680   127  1593  4669    58  1776 13097     1\n",
            "    65 16936  7519  1412 16937    41  4957  5924  1193  9577     6   758\n",
            "   591  2491   800  1963   598  8225  1412 16937    17     6   730     5\n",
            "  2380    35   376    63  5922  8226  5923     1    65 14210    17 10115\n",
            " 14210   434    19     1     3  5504    18   226   220  2754 16938  3628\n",
            "     1 15425 18772 14212  6651  1141    36    17     5   647  5925  9048\n",
            "    21  3551   310     7    50  1106     5  1412     2   690 18773    21\n",
            "  1936   434   647    39    40  1075  1380     2   176  3000    19  1751\n",
            "     5   826  1605    31     1    11   450    27  1471  7856    16   322\n",
            "   821   243 16939   172     1  1732  4291    37   331   630   666     6\n",
            "   367     6 10116  1908 11441   743    28    47   367     5  5500    18\n",
            "  1562     1     3    40     2    56  4955    98    41    36     3   827\n",
            "    11 13098    75  1045   245  5505 18774   412    89  1163    15  1659\n",
            "  9049   284    28   120  1164  3400    22     1  2343  3325    49  1381\n",
            "     1  3063  1193  3552  1933   459  1319    12    30 11437   524    29\n",
            "  4409    79  1933   567     6   984     1   365   888  1228 10778    12\n",
            "   122     3    26     8   155    12  1278 18775    12  7199  5506   434\n",
            "   835   179    43    97     3    44     7  1266    58 16940    13     4\n",
            "     3   246     5    18   226 16941   217    65    12    40     3  6927\n",
            "     9   849    10    43  9578     3   450 12202    17    22  5926    48\n",
            "     9    65    38    22   129   312   512 10117  1075   991   137    89\n",
            "   345     6   338    14    12  1319    26  1193     9  1068    72    29\n",
            "     5    83  1709    35    27   228  5123   547   849     3    49   238\n",
            "    41     8    50   999     4    10    11 10118   436    54  1526     6\n",
            "  2173     1    12  4071  3629  1278     6  1752    29     2   171  3239\n",
            "    38    93  5720    10   163   228 10779    74  5124    14 18776    22\n",
            "   157  1488    45    45  2054    17  1933     4   325    81   225 18777\n",
            "  3239     9    29    58     7     6     3   395  2087    22   157    83\n",
            "     3 18776   965  4072    19    79   647     1  1991    17  1052    31\n",
            "     2  1935     1  1245  7200     6  2717   104    32     7   346    83\n",
            "     1     1   104    31   443    72    47   433   104    32    41    15\n",
            "    76  2571     1    60]\n"
          ],
          "name": "stdout"
        }
      ]
    },
    {
      "cell_type": "code",
      "metadata": {
        "id": "VZpWSQWf4pgY",
        "colab_type": "code",
        "outputId": "596623d7-8369-4995-f705-034514e60b7d",
        "colab": {
          "base_uri": "https://localhost:8080/",
          "height": 119
        }
      },
      "source": [
        "#Преобразовываем полученные выборки из последовательности индексов в матрицы нулей и единиц по принципу Bag of Words\n",
        "xTrain01 = tokenizer.sequences_to_matrix(xTrain.tolist())#подаем xTrain в виде списка чтобы метод успешно сработал\n",
        "xTest01 = tokenizer.sequences_to_matrix(xTest.tolist())#подаем xTest в виде списка чтобы метод успешно сработал\n",
        "print(xTrain01.shape)       #Размер обучающей выборки, сформированной по Bag of Words\n",
        "print(xTrain01[0][0:100]) #фрагмент набора слов в виде Bag of Words"
      ],
      "execution_count": 0,
      "outputs": [
        {
          "output_type": "stream",
          "text": [
            "(15075, 20000)\n",
            "[0. 1. 1. 1. 1. 1. 1. 1. 1. 1. 1. 1. 1. 1. 1. 1. 1. 1. 1. 1. 0. 1. 1. 0.\n",
            " 0. 1. 1. 1. 1. 1. 1. 1. 1. 0. 0. 1. 1. 1. 1. 1. 1. 1. 1. 1. 1. 1. 0. 1.\n",
            " 1. 1. 1. 0. 1. 0. 1. 0. 1. 0. 1. 0. 1. 0. 1. 1. 0. 1. 1. 0. 0. 0. 0. 1.\n",
            " 1. 0. 1. 1. 1. 0. 0. 1. 0. 1. 0. 1. 1. 1. 1. 1. 0. 1. 1. 0. 0. 1. 1. 0.\n",
            " 0. 1. 1. 0.]\n"
          ],
          "name": "stdout"
        }
      ]
    },
    {
      "cell_type": "markdown",
      "metadata": {
        "id": "-3wem2kF0IlC",
        "colab_type": "text"
      },
      "source": [
        "#Нейросеть"
      ]
    },
    {
      "cell_type": "markdown",
      "metadata": {
        "id": "kLDCc80g0Yqd",
        "colab_type": "text"
      },
      "source": [
        "**01 + Dense**\n"
      ]
    },
    {
      "cell_type": "code",
      "metadata": {
        "id": "RYmCRjWUrtcW",
        "colab_type": "code",
        "outputId": "0e31678b-52c9-4479-afba-77f4bcd71f73",
        "colab": {
          "base_uri": "https://localhost:8080/",
          "height": 976
        }
      },
      "source": [
        "#Создаём полносвязную сеть\n",
        "model01 = Sequential()\n",
        "model01.add(BatchNormalization())\n",
        "model01.add(Dense(200, input_dim=maxWordsCount, activation=\"relu\"))\n",
        "model01.add(Dropout(0.25))\n",
        "model01.add(BatchNormalization())\n",
        "model01.add(Dense(6, activation='sigmoid'))\n",
        "\n",
        "model01.compile(optimizer='adam', \n",
        "              loss='categorical_crossentropy', \n",
        "              metrics=['accuracy'])\n",
        "\n",
        "#Обучаем сеть на выборке, сформированной по bag of words - xTrain01\n",
        "history = model01.fit(xTrain01, \n",
        "                      yTrain, \n",
        "                      epochs=20,\n",
        "                      batch_size=128,\n",
        "                      validation_data=(xTest01, yTest))\n",
        "\n",
        "plt.plot(history.history['acc'], \n",
        "         label='Доля верных ответов на обучающем наборе')\n",
        "plt.plot(history.history['val_acc'], \n",
        "         label='Доля верных ответов на проверочном наборе')\n",
        "plt.xlabel('Эпоха обучения')\n",
        "plt.ylabel('Доля верных ответов')\n",
        "plt.legend()\n",
        "plt.show()"
      ],
      "execution_count": 0,
      "outputs": [
        {
          "output_type": "stream",
          "text": [
            "Train on 15075 samples, validate on 5423 samples\n",
            "Epoch 1/20\n",
            "15075/15075 [==============================] - 3s 175us/sample - loss: 0.4331 - acc: 0.9747 - val_loss: 0.8304 - val_acc: 0.6950\n",
            "Epoch 2/20\n",
            "15075/15075 [==============================] - 2s 157us/sample - loss: 0.1105 - acc: 0.9764 - val_loss: 0.5453 - val_acc: 0.8327\n",
            "Epoch 3/20\n",
            "15075/15075 [==============================] - 2s 159us/sample - loss: 0.0510 - acc: 0.9816 - val_loss: 0.3329 - val_acc: 0.9072\n",
            "Epoch 4/20\n",
            "15075/15075 [==============================] - 2s 154us/sample - loss: 0.0284 - acc: 0.9853 - val_loss: 0.2656 - val_acc: 0.9240\n",
            "Epoch 5/20\n",
            "15075/15075 [==============================] - 2s 156us/sample - loss: 0.0195 - acc: 0.9914 - val_loss: 0.2641 - val_acc: 0.9229\n",
            "Epoch 6/20\n",
            "15075/15075 [==============================] - 2s 156us/sample - loss: 0.0156 - acc: 0.9948 - val_loss: 0.2512 - val_acc: 0.9251\n",
            "Epoch 7/20\n",
            "15075/15075 [==============================] - 2s 156us/sample - loss: 0.0047 - acc: 0.9999 - val_loss: 0.2700 - val_acc: 0.9192\n",
            "Epoch 8/20\n",
            "15075/15075 [==============================] - 2s 154us/sample - loss: 0.0016 - acc: 1.0000 - val_loss: 0.2585 - val_acc: 0.9226\n",
            "Epoch 9/20\n",
            "15075/15075 [==============================] - 2s 155us/sample - loss: 0.0012 - acc: 1.0000 - val_loss: 0.2573 - val_acc: 0.9235\n",
            "Epoch 10/20\n",
            "15075/15075 [==============================] - 2s 158us/sample - loss: 8.8526e-04 - acc: 1.0000 - val_loss: 0.2576 - val_acc: 0.9246\n",
            "Epoch 11/20\n",
            "15075/15075 [==============================] - 2s 156us/sample - loss: 6.3708e-04 - acc: 1.0000 - val_loss: 0.2607 - val_acc: 0.9251\n",
            "Epoch 12/20\n",
            "15075/15075 [==============================] - 2s 159us/sample - loss: 5.3061e-04 - acc: 1.0000 - val_loss: 0.2623 - val_acc: 0.9246\n",
            "Epoch 13/20\n",
            "15075/15075 [==============================] - 2s 157us/sample - loss: 4.5267e-04 - acc: 1.0000 - val_loss: 0.2633 - val_acc: 0.9259\n",
            "Epoch 14/20\n",
            "15075/15075 [==============================] - 2s 158us/sample - loss: 3.8979e-04 - acc: 1.0000 - val_loss: 0.2656 - val_acc: 0.9251\n",
            "Epoch 15/20\n",
            "15075/15075 [==============================] - 2s 154us/sample - loss: 3.2015e-04 - acc: 1.0000 - val_loss: 0.2692 - val_acc: 0.9240\n",
            "Epoch 16/20\n",
            "15075/15075 [==============================] - 2s 161us/sample - loss: 2.7912e-04 - acc: 1.0000 - val_loss: 0.2726 - val_acc: 0.9242\n",
            "Epoch 17/20\n",
            "15075/15075 [==============================] - 2s 155us/sample - loss: 2.4453e-04 - acc: 1.0000 - val_loss: 0.2692 - val_acc: 0.9264\n",
            "Epoch 18/20\n",
            "15075/15075 [==============================] - 2s 157us/sample - loss: 2.1761e-04 - acc: 1.0000 - val_loss: 0.2697 - val_acc: 0.9262\n",
            "Epoch 19/20\n",
            "15075/15075 [==============================] - 2s 154us/sample - loss: 1.6956e-04 - acc: 1.0000 - val_loss: 0.2711 - val_acc: 0.9270\n",
            "Epoch 20/20\n",
            "15075/15075 [==============================] - 2s 158us/sample - loss: 1.6908e-04 - acc: 1.0000 - val_loss: 0.2710 - val_acc: 0.9268\n"
          ],
          "name": "stdout"
        },
        {
          "output_type": "display_data",
          "data": {
            "image/png": "[encoded data removed]",
            "text/plain": [
              "<Figure size 432x288 with 1 Axes>"
            ]
          },
          "metadata": {
            "tags": []
          }
        }
      ]
    },
    {
      "cell_type": "markdown",
      "metadata": {
        "id": "9gI1hXsRmhUo",
        "colab_type": "text"
      },
      "source": [
        "#Распознавание проверочной выборки\n"
      ]
    },
    {
      "cell_type": "code",
      "metadata": {
        "id": "stHRW8-4mf7G",
        "colab_type": "code",
        "colab": {}
      },
      "source": [
        "###########################\n",
        "# Представляем тестовую выборку в удобных для распознавания размерах\n",
        "##########################\n",
        "def createTestMultiClasses(wordIndexes, xLen, step): #функция принимает последовательность индексов, размер окна, шаг окна\n",
        "\n",
        "  #Для каждого из 6 классов\n",
        "  #Создаём тестовую выборку из индексов\n",
        "  nClasses = len(wordIndexes) #задаем количество классов\n",
        "  xTest6Classes01 = []                #здесь будет список из всех классов,каждый размером \"кол-во окон в тексте * 20000(при maxWordsCount=20000)\"\n",
        "  xTest6Classes = []                 #здесь будет список массивов, каждый размером \"кол-во окон в тексте * длину окна\"(6 по 420*1000)\n",
        "  for wI in wordIndexes:                       #для каждого тестового текста из последовательности индексов\n",
        "    sample = (getSetFromIndexes(wI, xLen, step)) #тестовая выборка размером \"кол-во окон*длину окна\"(например 420*1000)\n",
        "    xTest6Classes.append(np.array(sample))              #переводим в массив numpy и добавляем в список\n",
        "    xTest6Classes01.append(tokenizer.sequences_to_matrix(sample)) #трансформируется в Bag of Words в виде \"кол-во окон в тексте * 20000\"\n",
        "  xTest6Classes01 = np.array(xTest6Classes01)                     #и добавляется к нашему списку, \n",
        "  \n",
        "  return xTest6Classes01, xTest6Classes  #функция вернёт тестовые данные: TestBag 6 классов на n*20000 и xTestEm 6 по n*1000\n",
        "\n",
        "###########################\n",
        "# Расспознаём тестовую выборку и выводим результаты\n",
        "##########################\n",
        "def recognizeMultiClass(model, xTest, modelName):\n",
        "  print(\"НЕЙРОНКА: \", modelName)\n",
        "  print()\n",
        "  \n",
        "  val = []\n",
        "  pred = []\n",
        "  \n",
        "  totalSumRec = []\n",
        "  \n",
        "  #Проходим по всем классам\n",
        "  for i in range(nClasses):\n",
        "    #Получаем результаты распознавания класса по блокам слов длины xLen\n",
        "    currPred = model.predict(xTest[i])\n",
        "    pred.append(currPred)\n",
        "    #Определяем номер распознанного класса для каждохо блока слов длины xLen\n",
        "    currOut = np.argmax(currPred, axis=1)\n",
        "    \n",
        "    #Считаем процент распознавания каждого класса за каждый\n",
        "    #Получам матрицу 6 на 6\n",
        "    evVal = []\n",
        "    sumRec = []\n",
        "    for j in range(nClasses):\n",
        "      sumRec.append(0)\n",
        "      for t in range(len(currOut)):\n",
        "        if (currOut[t] == j):\n",
        "          sumRec[j] += 1\n",
        "      evVal.append(sumRec[j] / len(currOut))\n",
        "    \n",
        "    totalSumRec.append(sumRec[i])\n",
        "    \n",
        "    #Определяем, какой в класс в итоге за какой был распознан\n",
        "    val.append(evVal[i])\n",
        "    recognizedClass = np.argmax(evVal)\n",
        "    \n",
        "    #Выводим результаты распознавания по текущему классу\n",
        "    isRecognized = \"распознано НЕ ВЕРНО!\"\n",
        "    if (recognizedClass == i):\n",
        "      isRecognized = \"распознано ВЕРНО!\"\n",
        "    print(className[i], \" распознано \", int(100*evVal[i]), \"% сеть считает, что это \", className[recognizedClass], \", \", isRecognized, sep='')\n",
        "  \n",
        "  #Выводим вредний процент распознавания по всем классам вместе\n",
        "  print()\n",
        "  sumVal = 0\n",
        "  sumCount = 0\n",
        "  lenXtest = []\n",
        "  for i in range(nClasses):\n",
        "    sumCount += len(xTest[i])\n",
        "    sumVal += totalSumRec[i]\n",
        "  print(\"Средний процент распознавания \", int(100*sumVal/sumCount), \"%\", sep='')\n",
        "    \n",
        "  print()\n",
        "  \n",
        "  return sumVal/sumCount"
      ],
      "execution_count": 0,
      "outputs": []
    },
    {
      "cell_type": "code",
      "metadata": {
        "id": "ndLp3wDn7Kr2",
        "colab_type": "code",
        "colab": {}
      },
      "source": [
        "xTest6Classes01, xTest6Classes = createTestMultiClasses(testWordIndexes, xLen, step)"
      ],
      "execution_count": 0,
      "outputs": []
    },
    {
      "cell_type": "code",
      "metadata": {
        "id": "wMxCLf_Vi5yY",
        "colab_type": "code",
        "outputId": "106e6bcd-d48e-48ac-b3d8-0e62424f43e1",
        "colab": {
          "base_uri": "https://localhost:8080/",
          "height": 204
        }
      },
      "source": [
        "#Проверяем точность нейронки обученной на bag of words\n",
        "pred = recognizeMultiClass(model01, xTest6Classes01, \"Тексты 01 + Dense\")"
      ],
      "execution_count": 0,
      "outputs": [
        {
          "output_type": "stream",
          "text": [
            "НЕЙРОНКА:  Тексты 01 + Dense\n",
            "\n",
            "О. Генри распознано 93% сеть считает, что это О. Генри, распознано ВЕРНО!\n",
            "Стругацкие распознано 88% сеть считает, что это Стругацкие, распознано ВЕРНО!\n",
            "Булгаков распознано 87% сеть считает, что это Булгаков, распознано ВЕРНО!\n",
            "Саймак распознано 93% сеть считает, что это Саймак, распознано ВЕРНО!\n",
            "Фрай распознано 92% сеть считает, что это Фрай, распознано ВЕРНО!\n",
            "Брэдбери распознано 99% сеть считает, что это Брэдбери, распознано ВЕРНО!\n",
            "\n",
            "Средний процент распознавания 92%\n",
            "\n"
          ],
          "name": "stdout"
        }
      ]
    },
    {
      "cell_type": "markdown",
      "metadata": {
        "id": "674DqQGgm9qn",
        "colab_type": "text"
      },
      "source": [
        "#Embedding\n"
      ]
    },
    {
      "cell_type": "markdown",
      "metadata": {
        "id": "nKVdzykWzBO-",
        "colab_type": "text"
      },
      "source": [
        "**Embedding + Dense**\n"
      ]
    },
    {
      "cell_type": "code",
      "metadata": {
        "id": "XKhpM-8kzMZT",
        "colab_type": "code",
        "outputId": "413c3d61-f064-49e1-8941-a03980130c23",
        "colab": {
          "base_uri": "https://localhost:8080/",
          "height": 1000
        }
      },
      "source": [
        "#Создаём сеть с Embedding слоем\n",
        "modelE = Sequential()\n",
        "modelE.add(Embedding(maxWordsCount, 30, input_length=xLen))\n",
        "modelE.add(SpatialDropout1D(0.2))\n",
        "modelE.add(Flatten())\n",
        "modelE.add(BatchNormalization())\n",
        "modelE.add(Dense(200, activation=\"relu\"))\n",
        "modelE.add(Dropout(0.2))\n",
        "modelE.add(BatchNormalization())\n",
        "modelE.add(Dense(6, activation='sigmoid'))\n",
        "\n",
        "modelE.compile(optimizer='adam', \n",
        "              loss='categorical_crossentropy', \n",
        "              metrics=['accuracy'])\n",
        "\n",
        "#Обучаем сеть на xTrain\n",
        "history = modelE.fit(xTrain, \n",
        "                    yTrain, \n",
        "                    epochs=30,\n",
        "                    batch_size=200,\n",
        "                    validation_data=(xTest, yTest))\n",
        "\n",
        "\n",
        "plt.plot(history.history['acc'], \n",
        "         label='Доля верных ответов на обучающем наборе')\n",
        "plt.plot(history.history['val_acc'], \n",
        "         label='Доля верных ответов на проверочном наборе')\n",
        "plt.xlabel('Эпоха обучения')\n",
        "plt.ylabel('Доля верных ответов')\n",
        "plt.legend()\n",
        "plt.show()\n",
        "\n",
        "#Проверяем результаты работы Ebedding сети\n",
        "xTest6Classes01, xTest6Classes = createTestMultiClasses(testWordIndexes, xLen, step)\n",
        "pred = recognizeMultiClass(modelE, xTest6Classes, \"Embedding + Dense\")"
      ],
      "execution_count": 0,
      "outputs": [
        {
          "output_type": "stream",
          "text": [
            "WARNING:tensorflow:From /usr/local/lib/python3.6/dist-packages/tensorflow_core/python/keras/initializers.py:119: calling RandomUniform.__init__ (from tensorflow.python.ops.init_ops) with dtype is deprecated and will be removed in a future version.\n",
            "Instructions for updating:\n",
            "Call initializer instance with the dtype argument instead of passing it to the constructor\n",
            "Train on 15075 samples, validate on 5423 samples\n",
            "Epoch 1/30\n",
            "15075/15075 [==============================] - 2s 118us/sample - loss: 1.1784 - acc: 0.6638 - val_loss: 2.2595 - val_acc: 0.3004\n",
            "Epoch 2/30\n",
            "15075/15075 [==============================] - 2s 105us/sample - loss: 0.5196 - acc: 0.9533 - val_loss: 2.6961 - val_acc: 0.3004\n",
            "Epoch 3/30\n",
            "15075/15075 [==============================] - 2s 111us/sample - loss: 0.2486 - acc: 0.9337 - val_loss: 3.0170 - val_acc: 0.3004\n",
            "Epoch 4/30\n",
            "15075/15075 [==============================] - 2s 108us/sample - loss: 0.1180 - acc: 0.9426 - val_loss: 2.7014 - val_acc: 0.3006\n",
            "Epoch 5/30\n",
            "15075/15075 [==============================] - 2s 106us/sample - loss: 0.0865 - acc: 0.9469 - val_loss: 2.0779 - val_acc: 0.3094\n",
            "Epoch 6/30\n",
            "15075/15075 [==============================] - 2s 117us/sample - loss: 0.0737 - acc: 0.9512 - val_loss: 1.5639 - val_acc: 0.3852\n",
            "Epoch 7/30\n",
            "15075/15075 [==============================] - 2s 117us/sample - loss: 0.0640 - acc: 0.9583 - val_loss: 1.2490 - val_acc: 0.5270\n",
            "Epoch 8/30\n",
            "15075/15075 [==============================] - 2s 112us/sample - loss: 0.0305 - acc: 0.9874 - val_loss: 0.9730 - val_acc: 0.6526\n",
            "Epoch 9/30\n",
            "15075/15075 [==============================] - 2s 116us/sample - loss: 0.0062 - acc: 0.9999 - val_loss: 0.8938 - val_acc: 0.7072\n",
            "Epoch 10/30\n",
            "15075/15075 [==============================] - 2s 115us/sample - loss: 0.0028 - acc: 0.9999 - val_loss: 0.8232 - val_acc: 0.7341\n",
            "Epoch 11/30\n",
            "15075/15075 [==============================] - 2s 116us/sample - loss: 0.0020 - acc: 1.0000 - val_loss: 0.7798 - val_acc: 0.7518\n",
            "Epoch 12/30\n",
            "15075/15075 [==============================] - 2s 116us/sample - loss: 0.0016 - acc: 0.9999 - val_loss: 0.7754 - val_acc: 0.7605\n",
            "Epoch 13/30\n",
            "15075/15075 [==============================] - 2s 116us/sample - loss: 0.0012 - acc: 1.0000 - val_loss: 0.7482 - val_acc: 0.7745\n",
            "Epoch 14/30\n",
            "15075/15075 [==============================] - 2s 114us/sample - loss: 9.1984e-04 - acc: 1.0000 - val_loss: 0.7212 - val_acc: 0.7804\n",
            "Epoch 15/30\n",
            "15075/15075 [==============================] - 2s 107us/sample - loss: 8.2245e-04 - acc: 1.0000 - val_loss: 0.7175 - val_acc: 0.7839\n",
            "Epoch 16/30\n",
            "15075/15075 [==============================] - 2s 114us/sample - loss: 6.5171e-04 - acc: 0.9999 - val_loss: 0.7222 - val_acc: 0.7824\n",
            "Epoch 17/30\n",
            "15075/15075 [==============================] - 2s 119us/sample - loss: 5.7562e-04 - acc: 1.0000 - val_loss: 0.7306 - val_acc: 0.7817\n",
            "Epoch 18/30\n",
            "15075/15075 [==============================] - 2s 114us/sample - loss: 5.0505e-04 - acc: 1.0000 - val_loss: 0.7263 - val_acc: 0.7839\n",
            "Epoch 19/30\n",
            "15075/15075 [==============================] - 2s 119us/sample - loss: 4.5405e-04 - acc: 1.0000 - val_loss: 0.7306 - val_acc: 0.7839\n",
            "Epoch 20/30\n",
            "15075/15075 [==============================] - 2s 125us/sample - loss: 3.6748e-04 - acc: 1.0000 - val_loss: 0.7454 - val_acc: 0.7798\n",
            "Epoch 21/30\n",
            "15075/15075 [==============================] - 2s 120us/sample - loss: 3.1522e-04 - acc: 1.0000 - val_loss: 0.7432 - val_acc: 0.7813\n",
            "Epoch 22/30\n",
            "15075/15075 [==============================] - 2s 114us/sample - loss: 2.8649e-04 - acc: 1.0000 - val_loss: 0.7426 - val_acc: 0.7820\n",
            "Epoch 23/30\n",
            "15075/15075 [==============================] - 2s 120us/sample - loss: 2.4094e-04 - acc: 1.0000 - val_loss: 0.7364 - val_acc: 0.7848\n",
            "Epoch 24/30\n",
            "15075/15075 [==============================] - 2s 122us/sample - loss: 2.3312e-04 - acc: 1.0000 - val_loss: 0.7353 - val_acc: 0.7861\n",
            "Epoch 25/30\n",
            "15075/15075 [==============================] - 2s 118us/sample - loss: 2.3589e-04 - acc: 1.0000 - val_loss: 0.7410 - val_acc: 0.7831\n",
            "Epoch 26/30\n",
            "15075/15075 [==============================] - 2s 123us/sample - loss: 1.9563e-04 - acc: 1.0000 - val_loss: 0.7379 - val_acc: 0.7850\n",
            "Epoch 27/30\n",
            "15075/15075 [==============================] - 2s 114us/sample - loss: 1.7988e-04 - acc: 1.0000 - val_loss: 0.7306 - val_acc: 0.7890\n",
            "Epoch 28/30\n",
            "15075/15075 [==============================] - 2s 115us/sample - loss: 1.5739e-04 - acc: 1.0000 - val_loss: 0.7396 - val_acc: 0.7868\n",
            "Epoch 29/30\n",
            "15075/15075 [==============================] - 2s 118us/sample - loss: 1.4045e-04 - acc: 1.0000 - val_loss: 0.7327 - val_acc: 0.7881\n",
            "Epoch 30/30\n",
            "15075/15075 [==============================] - 2s 113us/sample - loss: 1.3755e-04 - acc: 1.0000 - val_loss: 0.7372 - val_acc: 0.7866\n"
          ],
          "name": "stdout"
        },
        {
          "output_type": "display_data",
          "data": {
            "image/png": "[encoded data removed]",
            "text/plain": [
              "<Figure size 432x288 with 1 Axes>"
            ]
          },
          "metadata": {
            "tags": []
          }
        },
        {
          "output_type": "stream",
          "text": [
            "НЕЙРОНКА:  Embedding + Dense\n",
            "\n",
            "О. Генри распознано 70% сеть считает, что это О. Генри, распознано ВЕРНО!\n",
            "Стругацкие распознано 76% сеть считает, что это Стругацкие, распознано ВЕРНО!\n",
            "Булгаков распознано 53% сеть считает, что это Булгаков, распознано ВЕРНО!\n",
            "Саймак распознано 83% сеть считает, что это Саймак, распознано ВЕРНО!\n",
            "Фрай распознано 93% сеть считает, что это Фрай, распознано ВЕРНО!\n",
            "Брэдбери распознано 83% сеть считает, что это Брэдбери, распознано ВЕРНО!\n",
            "\n",
            "Средний процент распознавания 78%\n",
            "\n"
          ],
          "name": "stdout"
        }
      ]
    }
  ]
}