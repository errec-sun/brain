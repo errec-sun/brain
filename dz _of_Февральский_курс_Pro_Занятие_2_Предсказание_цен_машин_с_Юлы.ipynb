{
  "nbformat": 4,
  "nbformat_minor": 0,
  "metadata": {
    "colab": {
      "name": "Copy of Февральский курс. Pro. Занятие 2. Предсказание цен машин с Юлы",
      "provenance": [],
      "collapsed_sections": []
    },
    "kernelspec": {
      "name": "python3",
      "display_name": "Python 3"
    },
    "accelerator": "GPU"
  },
  "cells": [
    {
      "cell_type": "code",
      "metadata": {
        "id": "rvQeueuAX4Jd",
        "colab_type": "code",
        "outputId": "b46ab837-bef6-4681-dcc1-37a37c413cde",
        "colab": {
          "base_uri": "https://localhost:8080/",
          "height": 64
        }
      },
      "source": [
        "import pandas as pd\n",
        "import numpy as np\n",
        "import matplotlib.pyplot as plt\n",
        "%matplotlib inline \n",
        "\n",
        "from google.colab import files\n",
        "from sklearn import preprocessing\n",
        "from sklearn.preprocessing import LabelEncoder, StandardScaler\n",
        "from tensorflow.keras.models import Sequential\n",
        "from tensorflow.keras.layers import Dense, BatchNormalization, Dropout\n",
        "from tensorflow.keras.optimizers import Adadelta, Adam\n"
      ],
      "execution_count": 1,
      "outputs": [
        {
          "output_type": "display_data",
          "data": {
            "text/html": [
              "<p style=\"color: red;\">\n",
              "The default version of TensorFlow in Colab will soon switch to TensorFlow 2.x.<br>\n",
              "We recommend you <a href=\"https://www.tensorflow.org/guide/migrate\" target=\"_blank\">upgrade</a> now \n",
              "or ensure your notebook will continue to use TensorFlow 1.x via the <code>%tensorflow_version 1.x</code> magic:\n",
              "<a href=\"https://colab.research.google.com/notebooks/tensorflow_version.ipynb\" target=\"_blank\">more info</a>.</p>\n"
            ],
            "text/plain": [
              "<IPython.core.display.HTML object>"
            ]
          },
          "metadata": {
            "tags": []
          }
        }
      ]
    },
    {
      "cell_type": "markdown",
      "metadata": {
        "id": "O10ZA-msmjvL",
        "colab_type": "text"
      },
      "source": [
        "#Загрузка данных\n",
        "\n",
        "*Разбор данного раздела:* https://youtu.be/Hm41rb1zqQo?t=7582"
      ]
    },
    {
      "cell_type": "code",
      "metadata": {
        "id": "fVAD74YJKPSc",
        "colab_type": "code",
        "outputId": "d7594813-f8de-42e5-d5e2-12c749ac0f69",
        "colab": {
          "resources": {
            "http://localhost:8080/nbextensions/google.colab/files.js": {
              "data": "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",
              "ok": true,
              "headers": [
                [
                  "content-type",
                  "application/javascript"
                ]
              ],
              "status": 200,
              "status_text": ""
            }
          },
          "base_uri": "https://localhost:8080/",
          "height": 94
        }
      },
      "source": [
        "#Загружаем файлы\n",
        "files.upload()\n",
        "!ls #Выводим содержимое корневой папки"
      ],
      "execution_count": 2,
      "outputs": [
        {
          "output_type": "display_data",
          "data": {
            "text/html": [
              "\n",
              "     <input type=\"file\" id=\"files-ee6404d2-caa7-40a2-91ce-748f7b6c07b6\" name=\"files[]\" multiple disabled />\n",
              "     <output id=\"result-ee6404d2-caa7-40a2-91ce-748f7b6c07b6\">\n",
              "      Upload widget is only available when the cell has been executed in the\n",
              "      current browser session. Please rerun this cell to enable.\n",
              "      </output>\n",
              "      <script src=\"/nbextensions/google.colab/files.js\"></script> "
            ],
            "text/plain": [
              "<IPython.core.display.HTML object>"
            ]
          },
          "metadata": {
            "tags": []
          }
        },
        {
          "output_type": "stream",
          "text": [
            "Saving cars_new for Python.csv to cars_new for Python.csv\n",
            "'cars_new for Python.csv'   sample_data\n"
          ],
          "name": "stdout"
        }
      ]
    },
    {
      "cell_type": "code",
      "metadata": {
        "id": "tX0gMyfrm67-",
        "colab_type": "code",
        "outputId": "c92106cc-8441-4786-b4bb-fdf354d751d8",
        "colab": {
          "base_uri": "https://localhost:8080/",
          "height": 263
        }
      },
      "source": [
        "#Считываем csv с помощью pandas\n",
        "cars = pd.read_csv('cars_new for Python.csv', sep=',')\n",
        "cars[:7] #Выводим первые 5 машин "
      ],
      "execution_count": 3,
      "outputs": [
        {
          "output_type": "execute_result",
          "data": {
            "text/html": [
              "<div>\n",
              "<style scoped>\n",
              "    .dataframe tbody tr th:only-of-type {\n",
              "        vertical-align: middle;\n",
              "    }\n",
              "\n",
              "    .dataframe tbody tr th {\n",
              "        vertical-align: top;\n",
              "    }\n",
              "\n",
              "    .dataframe thead th {\n",
              "        text-align: right;\n",
              "    }\n",
              "</style>\n",
              "<table border=\"1\" class=\"dataframe\">\n",
              "  <thead>\n",
              "    <tr style=\"text-align: right;\">\n",
              "      <th></th>\n",
              "      <th>mark</th>\n",
              "      <th>model</th>\n",
              "      <th>price</th>\n",
              "      <th>year</th>\n",
              "      <th>mileage</th>\n",
              "      <th>body</th>\n",
              "      <th>kpp</th>\n",
              "      <th>fuel</th>\n",
              "      <th>volume</th>\n",
              "      <th>power</th>\n",
              "    </tr>\n",
              "  </thead>\n",
              "  <tbody>\n",
              "    <tr>\n",
              "      <th>0</th>\n",
              "      <td>kia</td>\n",
              "      <td>cerato</td>\n",
              "      <td>996000</td>\n",
              "      <td>2018</td>\n",
              "      <td>28000</td>\n",
              "      <td>седан</td>\n",
              "      <td>автомат</td>\n",
              "      <td>бензин</td>\n",
              "      <td>2.0</td>\n",
              "      <td>150.0</td>\n",
              "    </tr>\n",
              "    <tr>\n",
              "      <th>1</th>\n",
              "      <td>daewoo</td>\n",
              "      <td>nexia 1 поколение [2-й рестайлинг]</td>\n",
              "      <td>140200</td>\n",
              "      <td>2012</td>\n",
              "      <td>60500</td>\n",
              "      <td>седан</td>\n",
              "      <td>механика</td>\n",
              "      <td>бензин</td>\n",
              "      <td>1.5</td>\n",
              "      <td>80.0</td>\n",
              "    </tr>\n",
              "    <tr>\n",
              "      <th>2</th>\n",
              "      <td>suzuki</td>\n",
              "      <td>jimny 3 поколение [рестайлинг]</td>\n",
              "      <td>750000</td>\n",
              "      <td>2011</td>\n",
              "      <td>29000</td>\n",
              "      <td>внедорожник</td>\n",
              "      <td>автомат</td>\n",
              "      <td>бензин</td>\n",
              "      <td>1.3</td>\n",
              "      <td>85.0</td>\n",
              "    </tr>\n",
              "    <tr>\n",
              "      <th>3</th>\n",
              "      <td>bmw</td>\n",
              "      <td>x1 18 e84 [рестайлинг]</td>\n",
              "      <td>970000</td>\n",
              "      <td>2014</td>\n",
              "      <td>49500</td>\n",
              "      <td>кроссовер</td>\n",
              "      <td>автомат</td>\n",
              "      <td>бензин</td>\n",
              "      <td>2.0</td>\n",
              "      <td>150.0</td>\n",
              "    </tr>\n",
              "    <tr>\n",
              "      <th>4</th>\n",
              "      <td>chevrolet</td>\n",
              "      <td>lacetti 1 поколение</td>\n",
              "      <td>205000</td>\n",
              "      <td>2007</td>\n",
              "      <td>151445</td>\n",
              "      <td>седан</td>\n",
              "      <td>механика</td>\n",
              "      <td>бензин</td>\n",
              "      <td>1.4</td>\n",
              "      <td>95.0</td>\n",
              "    </tr>\n",
              "    <tr>\n",
              "      <th>5</th>\n",
              "      <td>hyundai</td>\n",
              "      <td>creta 1 поколение</td>\n",
              "      <td>985000</td>\n",
              "      <td>2016</td>\n",
              "      <td>34067</td>\n",
              "      <td>кроссовер</td>\n",
              "      <td>автомат</td>\n",
              "      <td>бензин</td>\n",
              "      <td>2.0</td>\n",
              "      <td>150.0</td>\n",
              "    </tr>\n",
              "    <tr>\n",
              "      <th>6</th>\n",
              "      <td>kia</td>\n",
              "      <td>ceed 2 поколение</td>\n",
              "      <td>589000</td>\n",
              "      <td>2013</td>\n",
              "      <td>98000</td>\n",
              "      <td>хетчбэк</td>\n",
              "      <td>автомат</td>\n",
              "      <td>бензин</td>\n",
              "      <td>1.6</td>\n",
              "      <td>129.0</td>\n",
              "    </tr>\n",
              "  </tbody>\n",
              "</table>\n",
              "</div>"
            ],
            "text/plain": [
              "        mark                               model   price  ...    fuel  volume  power\n",
              "0        kia                              cerato  996000  ...  бензин     2.0  150.0\n",
              "1     daewoo  nexia 1 поколение [2-й рестайлинг]  140200  ...  бензин     1.5   80.0\n",
              "2     suzuki      jimny 3 поколение [рестайлинг]  750000  ...  бензин     1.3   85.0\n",
              "3        bmw              x1 18 e84 [рестайлинг]  970000  ...  бензин     2.0  150.0\n",
              "4  chevrolet                 lacetti 1 поколение  205000  ...  бензин     1.4   95.0\n",
              "5    hyundai                   creta 1 поколение  985000  ...  бензин     2.0  150.0\n",
              "6        kia                    ceed 2 поколение  589000  ...  бензин     1.6  129.0\n",
              "\n",
              "[7 rows x 10 columns]"
            ]
          },
          "metadata": {
            "tags": []
          },
          "execution_count": 3
        }
      ]
    },
    {
      "cell_type": "code",
      "metadata": {
        "id": "hxh46Ndz4xNZ",
        "colab_type": "code",
        "outputId": "f40e76a1-73ea-457b-865b-a7b54b196eda",
        "colab": {
          "base_uri": "https://localhost:8080/",
          "height": 35
        }
      },
      "source": [
        "print(cars.values.shape)"
      ],
      "execution_count": 4,
      "outputs": [
        {
          "output_type": "stream",
          "text": [
            "(70119, 10)\n"
          ],
          "name": "stdout"
        }
      ]
    },
    {
      "cell_type": "code",
      "metadata": {
        "id": "eXlgXPAem_mi",
        "colab_type": "code",
        "colab": {}
      },
      "source": [
        "#Создаём словарь поле - его индекс\n",
        "def create_dict(s):\n",
        "  ret = {} #Создаём пустой словарь\n",
        "  for _id, name in enumerate(s): #Проходим по всем парам - id и название\n",
        "    ret.update({name: _id}) #Добавляем в словарь\n",
        "  return ret\n",
        "\n",
        "#ФУнкция преобразования в one hot encoding\n",
        "def to_ohe(value, d):\n",
        "  arr = [0] * len(d)\n",
        "  arr[d[value]] = 1\n",
        "  return arr"
      ],
      "execution_count": 0,
      "outputs": []
    },
    {
      "cell_type": "code",
      "metadata": {
        "id": "lhaCKb-3nCIi",
        "colab_type": "code",
        "colab": {}
      },
      "source": [
        "#Создаём словари по всем текстовым колонкам\n",
        "marks_dict = create_dict(set(cars['mark']))\n",
        "models_dict = create_dict(set(cars['model']))\n",
        "bodies_dict = create_dict(set(cars['body']))\n",
        "kpps_dict = create_dict(set(cars['kpp']))\n",
        "fuels_dict = create_dict(set(cars['fuel']))\n",
        "\n",
        "#Запоминаем цены\n",
        "prices = np.array(cars['price'], dtype=np.float)\n",
        "\n",
        "#Запоминаем числовые параметры\n",
        "#И нормируем\n",
        "years = preprocessing.scale(cars['year'])\n",
        "mileages = preprocessing.scale(cars['mileage'])\n",
        "volumes = preprocessing.scale(cars['volume'])\n",
        "powers = preprocessing.scale(cars['power'])"
      ],
      "execution_count": 0,
      "outputs": []
    },
    {
      "cell_type": "code",
      "metadata": {
        "id": "5MdND_2CBXmH",
        "colab_type": "code",
        "outputId": "4de5c8e5-1ec6-4d1b-a195-53b6b42fa3d2",
        "colab": {
          "base_uri": "https://localhost:8080/",
          "height": 55
        }
      },
      "source": [
        "print(marks_dict)"
      ],
      "execution_count": 7,
      "outputs": [
        {
          "output_type": "stream",
          "text": [
            "{'ford': 0, 'suzuki': 1, 'opel': 2, 'peugeot': 3, 'honda': 4, 'chery': 5, 'skoda': 6, 'subaru': 7, 'toyota': 8, 'chevrolet': 9, 'renault': 10, 'volkswagen': 11, 'bmw': 12, 'mercedes-benz': 13, 'mazda': 14, 'kia': 15, 'audi': 16, 'daewoo': 17, 'hyundai': 18, 'nissan': 19, 'mitsubishi': 20}\n"
          ],
          "name": "stdout"
        }
      ]
    },
    {
      "cell_type": "markdown",
      "metadata": {
        "id": "cXEs8aZiMdBM",
        "colab_type": "text"
      },
      "source": [
        "0 Создаем полную базу данных."
      ]
    },
    {
      "cell_type": "code",
      "metadata": {
        "id": "GFQNnvd7nJBO",
        "colab_type": "code",
        "colab": {}
      },
      "source": [
        "x_train = []\n",
        "y_train = []\n",
        "\n",
        "#Проходам по всем машинам\n",
        "for _id, car in enumerate(np.array(cars)):\n",
        "  #В y_train добавляем цену\n",
        "  y_train.append(prices[_id])\n",
        "  \n",
        "  #В x_train объединяем все параметры\n",
        "  #Категорийные параметры добавляем в ваде ohe\n",
        "  #Числовые параметры добавляем напрямую\n",
        "  x_tr = to_ohe(car[0], marks_dict) + \\\n",
        "        to_ohe(car[1], models_dict) + \\\n",
        "        to_ohe(car[5], bodies_dict) + \\\n",
        "        to_ohe(car[6], kpps_dict) + \\\n",
        "        to_ohe(car[7], fuels_dict) + \\\n",
        "        [years[_id]] + \\\n",
        "        [mileages[_id]] + \\\n",
        "        [volumes[_id]] + \\\n",
        "        [powers[_id]]\n",
        "  \n",
        "  #Добавляем текущую строку в общий z_train\n",
        "  x_train.append(x_tr)\n",
        "\n",
        "#Превращаем лист в numpy.array\n",
        "x_train = np.array(x_train, dtype=np.float)\n",
        "y_train = np.array(y_train, dtype=np.float)\n",
        "#Нормализуем y_train\n",
        "y_scaler = StandardScaler()\n",
        "y_train_scaled = y_scaler.fit_transform(y_train.reshape(-1,1)).flatten()"
      ],
      "execution_count": 0,
      "outputs": []
    },
    {
      "cell_type": "code",
      "metadata": {
        "id": "NNsvGyHXl8sr",
        "colab_type": "code",
        "outputId": "1724e79b-24b8-4979-d849-531496b7a61d",
        "colab": {
          "base_uri": "https://localhost:8080/",
          "height": 106
        }
      },
      "source": [
        "#Выводим один x_train\n",
        "print(x_train[0,:20])\n",
        "print(x_train[0,-20:])"
      ],
      "execution_count": 18,
      "outputs": [
        {
          "output_type": "stream",
          "text": [
            "[0. 0. 0. 0. 0. 0. 0. 0. 0. 0. 0. 0. 0. 0. 0. 1. 0. 0. 0. 0.]\n",
            "[ 0.          0.          0.          0.          0.          0.\n",
            "  0.          0.          0.          1.          0.          0.\n",
            "  1.          0.          0.          0.          1.5200145  -1.40018212\n",
            "  0.12288486  0.22905575]\n"
          ],
          "name": "stdout"
        }
      ]
    },
    {
      "cell_type": "markdown",
      "metadata": {
        "id": "GZCBfyifHRhZ",
        "colab_type": "text"
      },
      "source": [
        "#Нейронка\n",
        "\n",
        "*Разбор данного раздела:* https://youtu.be/Hm41rb1zqQo?t=8166"
      ]
    },
    {
      "cell_type": "code",
      "metadata": {
        "id": "VsiHCClRSUI3",
        "colab_type": "code",
        "outputId": "08c8a9ab-6604-479c-afd5-f5bb48903a69",
        "colab": {
          "base_uri": "https://localhost:8080/",
          "height": 1000
        }
      },
      "source": [
        "#Создаём сеть\n",
        "model = Sequential()\n",
        "model.add(Dense(2500, activation='relu', input_shape=(x_train.shape[1],)))\n",
        "model.add(Dense(2500, activation='relu'))\n",
        "model.add(Dense(1, activation='linear'))\n",
        "\n",
        "#Указываем прямо шаг обучения - 1е-6\n",
        "model.compile(optimizer=Adam(lr=0.000001), loss='mse')\n",
        "\n",
        "#60000 примеров будет в обучающей выборке\n",
        "n_val = 60000\n",
        "history = model.fit(x_train[:n_val], \n",
        "                    y_train_scaled[:n_val],\n",
        "                    batch_size=20,\n",
        "                    epochs=40, \n",
        "                    validation_data=(x_train[n_val:], y_train_scaled[n_val:]), \n",
        "                    verbose=1)\n",
        "\n",
        "#Отображаем графики ошибки обучения на всех эпохах\n",
        "#Один по обучающей выборке, второй по проверочной\n",
        "plt.plot(history.history['loss'], label='Ошибка на обучающем наборе')\n",
        "plt.plot(history.history['val_loss'], label='Ошибка на проверочном наборе')\n",
        "plt.xlabel('Эпоха обучения')\n",
        "plt.ylabel('MSE')\n",
        "plt.legend()\n",
        "plt.show()\n",
        "\n",
        "#Предсказываем проверочную выборку\n",
        "predict = model.predict(x_train[n_val:])\n",
        "#Меняем масштаб обратно от нормированного к оригинальному\n",
        "predict = y_scaler.inverse_transform(predict).flatten()\n",
        "\n",
        "#Считаем ошибку и модуль ошибки прогнозирования по всем примерам\n",
        "delta = predict - y_train[n_val:]\n",
        "abs_delta = abs(delta)\n",
        "\n",
        "#Считаем среднюю цену, среднюю ошибку и средни процени ошибки\n",
        "#Выводим на экран\n",
        "mean_delta = sum(abs_delta)/len(abs_delta)\n",
        "mean_price = sum(y_train[n_val:])/len(y_train[n_val:])\n",
        "print(\"Средняя ошибка: \", round(mean_delta))\n",
        "print(\"Средняя цена: \", round(mean_price))\n",
        "print(\"Процент ошибки: \", round(100*mean_delta / mean_price), \"%\", sep=\"\")"
      ],
      "execution_count": 20,
      "outputs": [
        {
          "output_type": "stream",
          "text": [
            "Train on 60000 samples, validate on 10119 samples\n",
            "Epoch 1/40\n",
            "60000/60000 [==============================] - 19s 317us/sample - loss: 0.5325 - val_loss: 0.4957\n",
            "Epoch 2/40\n",
            "60000/60000 [==============================] - 17s 284us/sample - loss: 0.3171 - val_loss: 0.3949\n",
            "Epoch 3/40\n",
            "60000/60000 [==============================] - 17s 283us/sample - loss: 0.2618 - val_loss: 0.3534\n",
            "Epoch 4/40\n",
            "60000/60000 [==============================] - 17s 291us/sample - loss: 0.2326 - val_loss: 0.3249\n",
            "Epoch 5/40\n",
            "60000/60000 [==============================] - 18s 295us/sample - loss: 0.2127 - val_loss: 0.3051\n",
            "Epoch 6/40\n",
            "60000/60000 [==============================] - 18s 293us/sample - loss: 0.1981 - val_loss: 0.2892\n",
            "Epoch 7/40\n",
            "60000/60000 [==============================] - 18s 296us/sample - loss: 0.1866 - val_loss: 0.2773\n",
            "Epoch 8/40\n",
            "60000/60000 [==============================] - 17s 291us/sample - loss: 0.1768 - val_loss: 0.2650\n",
            "Epoch 9/40\n",
            "60000/60000 [==============================] - 18s 294us/sample - loss: 0.1693 - val_loss: 0.2572\n",
            "Epoch 10/40\n",
            "60000/60000 [==============================] - 17s 290us/sample - loss: 0.1631 - val_loss: 0.2495\n",
            "Epoch 11/40\n",
            "60000/60000 [==============================] - 17s 289us/sample - loss: 0.1572 - val_loss: 0.2436\n",
            "Epoch 12/40\n",
            "60000/60000 [==============================] - 17s 290us/sample - loss: 0.1523 - val_loss: 0.2377\n",
            "Epoch 13/40\n",
            "60000/60000 [==============================] - 17s 289us/sample - loss: 0.1481 - val_loss: 0.2316\n",
            "Epoch 14/40\n",
            "60000/60000 [==============================] - 17s 289us/sample - loss: 0.1441 - val_loss: 0.2262\n",
            "Epoch 15/40\n",
            "60000/60000 [==============================] - 17s 286us/sample - loss: 0.1404 - val_loss: 0.2222\n",
            "Epoch 16/40\n",
            "60000/60000 [==============================] - 17s 287us/sample - loss: 0.1371 - val_loss: 0.2183\n",
            "Epoch 17/40\n",
            "60000/60000 [==============================] - 17s 288us/sample - loss: 0.1341 - val_loss: 0.2150\n",
            "Epoch 18/40\n",
            "60000/60000 [==============================] - 17s 287us/sample - loss: 0.1314 - val_loss: 0.2113\n",
            "Epoch 19/40\n",
            "60000/60000 [==============================] - 17s 287us/sample - loss: 0.1289 - val_loss: 0.2082\n",
            "Epoch 20/40\n",
            "60000/60000 [==============================] - 17s 286us/sample - loss: 0.1263 - val_loss: 0.2045\n",
            "Epoch 21/40\n",
            "60000/60000 [==============================] - 17s 284us/sample - loss: 0.1238 - val_loss: 0.2013\n",
            "Epoch 22/40\n",
            "60000/60000 [==============================] - 17s 284us/sample - loss: 0.1214 - val_loss: 0.2001\n",
            "Epoch 23/40\n",
            "60000/60000 [==============================] - 17s 286us/sample - loss: 0.1197 - val_loss: 0.1963\n",
            "Epoch 24/40\n",
            "60000/60000 [==============================] - 17s 285us/sample - loss: 0.1178 - val_loss: 0.1943\n",
            "Epoch 25/40\n",
            "60000/60000 [==============================] - 17s 286us/sample - loss: 0.1158 - val_loss: 0.1917\n",
            "Epoch 26/40\n",
            "60000/60000 [==============================] - 17s 284us/sample - loss: 0.1138 - val_loss: 0.1917\n",
            "Epoch 27/40\n",
            "60000/60000 [==============================] - 17s 287us/sample - loss: 0.1121 - val_loss: 0.1904\n",
            "Epoch 28/40\n",
            "60000/60000 [==============================] - 17s 284us/sample - loss: 0.1106 - val_loss: 0.1854\n",
            "Epoch 29/40\n",
            "60000/60000 [==============================] - 17s 283us/sample - loss: 0.1089 - val_loss: 0.1837\n",
            "Epoch 30/40\n",
            "60000/60000 [==============================] - 17s 283us/sample - loss: 0.1074 - val_loss: 0.1828\n",
            "Epoch 31/40\n",
            "60000/60000 [==============================] - 17s 281us/sample - loss: 0.1060 - val_loss: 0.1807\n",
            "Epoch 32/40\n",
            "60000/60000 [==============================] - 17s 282us/sample - loss: 0.1042 - val_loss: 0.1802\n",
            "Epoch 33/40\n",
            "60000/60000 [==============================] - 17s 281us/sample - loss: 0.1032 - val_loss: 0.1769\n",
            "Epoch 34/40\n",
            "60000/60000 [==============================] - 17s 280us/sample - loss: 0.1017 - val_loss: 0.1764\n",
            "Epoch 35/40\n",
            "60000/60000 [==============================] - 17s 280us/sample - loss: 0.1007 - val_loss: 0.1742\n",
            "Epoch 36/40\n",
            "60000/60000 [==============================] - 17s 281us/sample - loss: 0.0991 - val_loss: 0.1727\n",
            "Epoch 37/40\n",
            "60000/60000 [==============================] - 17s 279us/sample - loss: 0.0981 - val_loss: 0.1709\n",
            "Epoch 38/40\n",
            "60000/60000 [==============================] - 17s 280us/sample - loss: 0.0967 - val_loss: 0.1701\n",
            "Epoch 39/40\n",
            "60000/60000 [==============================] - 17s 279us/sample - loss: 0.0956 - val_loss: 0.1692\n",
            "Epoch 40/40\n",
            "60000/60000 [==============================] - 17s 279us/sample - loss: 0.0944 - val_loss: 0.1680\n"
          ],
          "name": "stdout"
        },
        {
          "output_type": "display_data",
          "data": {
            "image/png": "[encoded data removed]",
            "text/plain": [
              "<Figure size 432x288 with 1 Axes>"
            ]
          },
          "metadata": {
            "tags": []
          }
        },
        {
          "output_type": "stream",
          "text": [
            "Средняя ошибка:  69826.0\n",
            "Средняя цена:  530277.0\n",
            "Процент ошибки: 13.0%\n"
          ],
          "name": "stdout"
        }
      ]
    },
    {
      "cell_type": "markdown",
      "metadata": {
        "id": "sWtHB2eBIUMa",
        "colab_type": "text"
      },
      "source": [
        "1.1 создаем базу данных\n",
        ", **марки и модели** машин не включаем."
      ]
    },
    {
      "cell_type": "code",
      "metadata": {
        "id": "6hRN7v2iH6rX",
        "colab_type": "code",
        "colab": {}
      },
      "source": [
        "x_train = []\n",
        "y_train = []\n",
        "\n",
        "#Проходам по всем машинам\n",
        "for _id, car in enumerate(np.array(cars)):\n",
        "  #В y_train добавляем цену\n",
        "  y_train.append(prices[_id])\n",
        "  \n",
        "  #В x_train объединяем все параметры\n",
        "  #Категорийные параметры добавляем в ваде ohe\n",
        "  #Числовые параметры добавляем напрямую\n",
        "  x_tr =  to_ohe(car[5], bodies_dict) + \\\n",
        "        to_ohe(car[6], kpps_dict) + \\\n",
        "        to_ohe(car[7], fuels_dict) + \\\n",
        "        [years[_id]] + \\\n",
        "        [mileages[_id]] + \\\n",
        "        [volumes[_id]] + \\\n",
        "        [powers[_id]]\n",
        "  \n",
        "  #Добавляем текущую строку в общий z_train\n",
        "  x_train.append(x_tr)\n",
        "\n",
        "#Превращаем лист в numpy.array\n",
        "x_train = np.array(x_train, dtype=np.float)\n",
        "y_train = np.array(y_train, dtype=np.float)"
      ],
      "execution_count": 0,
      "outputs": []
    },
    {
      "cell_type": "code",
      "metadata": {
        "id": "fvbw0LNrJLTg",
        "colab_type": "code",
        "colab": {}
      },
      "source": [
        "#Нормализуем y_train\n",
        "y_scaler = StandardScaler()\n",
        "y_train_scaled = y_scaler.fit_transform(y_train.reshape(-1,1)).flatten()"
      ],
      "execution_count": 0,
      "outputs": []
    },
    {
      "cell_type": "code",
      "metadata": {
        "id": "AioooPUoJm87",
        "colab_type": "code",
        "outputId": "44a36659-28db-4d33-f3a8-8affb0c720f0",
        "colab": {
          "base_uri": "https://localhost:8080/",
          "height": 1000
        }
      },
      "source": [
        "#Создаём сеть\n",
        "model = Sequential()\n",
        "model.add(Dense(2500, activation='relu', input_shape=(x_train.shape[1],)))\n",
        "model.add(Dense(2500, activation='relu'))\n",
        "model.add(Dense(1, activation='linear'))\n",
        "\n",
        "#Указываем прямо шаг обучения - 1е-6\n",
        "model.compile(optimizer=Adam(lr=0.000001), loss='mse')\n",
        "\n",
        "#60000 примеров будет в обучающей выборке\n",
        "n_val = 60000\n",
        "history = model.fit(x_train[:n_val], \n",
        "                    y_train_scaled[:n_val],\n",
        "                    batch_size=20,\n",
        "                    epochs=20, \n",
        "                    validation_data=(x_train[n_val:], y_train_scaled[n_val:]), \n",
        "                    verbose=1)\n",
        "\n",
        "#Отображаем графики ошибки обучения на всех эпохах\n",
        "#Один по обучающей выборке, второй по проверочной\n",
        "plt.plot(history.history['loss'], label='Ошибка на обучающем наборе')\n",
        "plt.plot(history.history['val_loss'], label='Ошибка на проверочном наборе')\n",
        "plt.xlabel('Эпоха обучения')\n",
        "plt.ylabel('MSE')\n",
        "plt.legend()\n",
        "plt.show()\n",
        "\n",
        "#Предсказываем проверочную выборку\n",
        "predict = model.predict(x_train[n_val:])\n",
        "#Меняем масштаб обратно от нормированного к оригинальному\n",
        "predict = y_scaler.inverse_transform(predict).flatten()\n",
        "\n",
        "#Считаем ошибку и модуль ошибки прогнозирования по всем примерам\n",
        "delta = predict - y_train[n_val:]\n",
        "abs_delta = abs(delta)\n",
        "\n",
        "#Считаем среднюю цену, среднюю ошибку и средни процени ошибки\n",
        "#Выводим на экран\n",
        "mean_delta = sum(abs_delta)/len(abs_delta)\n",
        "mean_price = sum(y_train[n_val:])/len(y_train[n_val:])\n",
        "print(\"Средняя ошибка: \", round(mean_delta))\n",
        "print(\"Средняя цена: \", round(mean_price))\n",
        "print(\"Процент ошибки: \", round(100*mean_delta / mean_price), \"%\", sep=\"\")"
      ],
      "execution_count": 0,
      "outputs": [
        {
          "output_type": "stream",
          "text": [
            "WARNING:tensorflow:From /usr/local/lib/python3.6/dist-packages/tensorflow_core/python/ops/resource_variable_ops.py:1630: calling BaseResourceVariable.__init__ (from tensorflow.python.ops.resource_variable_ops) with constraint is deprecated and will be removed in a future version.\n",
            "Instructions for updating:\n",
            "If using Keras pass *_constraint arguments to layers.\n",
            "Train on 60000 samples, validate on 10119 samples\n",
            "Epoch 1/20\n",
            "60000/60000 [==============================] - 179s 3ms/sample - loss: 0.4923 - val_loss: 0.4638\n",
            "Epoch 2/20\n",
            "60000/60000 [==============================] - 178s 3ms/sample - loss: 0.3062 - val_loss: 0.3909\n",
            "Epoch 3/20\n",
            "60000/60000 [==============================] - 177s 3ms/sample - loss: 0.2678 - val_loss: 0.3604\n",
            "Epoch 4/20\n",
            "60000/60000 [==============================] - 176s 3ms/sample - loss: 0.2471 - val_loss: 0.3412\n",
            "Epoch 5/20\n",
            "60000/60000 [==============================] - 178s 3ms/sample - loss: 0.2331 - val_loss: 0.3250\n",
            "Epoch 6/20\n",
            "60000/60000 [==============================] - 178s 3ms/sample - loss: 0.2232 - val_loss: 0.3149\n",
            "Epoch 7/20\n",
            "60000/60000 [==============================] - 178s 3ms/sample - loss: 0.2153 - val_loss: 0.3051\n",
            "Epoch 8/20\n",
            "60000/60000 [==============================] - 176s 3ms/sample - loss: 0.2084 - val_loss: 0.2989\n",
            "Epoch 9/20\n",
            "60000/60000 [==============================] - 175s 3ms/sample - loss: 0.2034 - val_loss: 0.2910\n",
            "Epoch 10/20\n",
            "60000/60000 [==============================] - 176s 3ms/sample - loss: 0.1983 - val_loss: 0.2847\n",
            "Epoch 11/20\n",
            "60000/60000 [==============================] - 178s 3ms/sample - loss: 0.1948 - val_loss: 0.2819\n",
            "Epoch 12/20\n",
            "60000/60000 [==============================] - 177s 3ms/sample - loss: 0.1914 - val_loss: 0.2769\n",
            "Epoch 13/20\n",
            "60000/60000 [==============================] - 177s 3ms/sample - loss: 0.1884 - val_loss: 0.2731\n",
            "Epoch 14/20\n",
            "60000/60000 [==============================] - 179s 3ms/sample - loss: 0.1855 - val_loss: 0.2685\n",
            "Epoch 15/20\n",
            "60000/60000 [==============================] - 177s 3ms/sample - loss: 0.1831 - val_loss: 0.2656\n",
            "Epoch 16/20\n",
            "60000/60000 [==============================] - 177s 3ms/sample - loss: 0.1807 - val_loss: 0.2618\n",
            "Epoch 17/20\n",
            "60000/60000 [==============================] - 178s 3ms/sample - loss: 0.1784 - val_loss: 0.2601\n",
            "Epoch 18/20\n",
            "60000/60000 [==============================] - 179s 3ms/sample - loss: 0.1764 - val_loss: 0.2575\n",
            "Epoch 19/20\n",
            "60000/60000 [==============================] - 177s 3ms/sample - loss: 0.1745 - val_loss: 0.2546\n",
            "Epoch 20/20\n",
            "60000/60000 [==============================] - 177s 3ms/sample - loss: 0.1729 - val_loss: 0.2519\n"
          ],
          "name": "stdout"
        },
        {
          "output_type": "display_data",
          "data": {
            "image/png": "[encoded data removed]",
            "text/plain": [
              "<Figure size 432x288 with 1 Axes>"
            ]
          },
          "metadata": {
            "tags": []
          }
        },
        {
          "output_type": "stream",
          "text": [
            "Средняя ошибка:  107160.0\n",
            "Средняя цена:  530277.0\n",
            "Процент ошибки: 20.0%\n"
          ],
          "name": "stdout"
        }
      ]
    },
    {
      "cell_type": "code",
      "metadata": {
        "id": "sJpvN1cs_d9y",
        "colab_type": "code",
        "outputId": "ae9ea24b-fd82-499f-e1a8-d7c4824f3ef0",
        "colab": {
          "base_uri": "https://localhost:8080/",
          "height": 706
        }
      },
      "source": [
        "#УДообчаем эту сетку еще 10 эпох.\n",
        "model.compile(optimizer=Adam(lr=0.000001), loss='mse')\n",
        "history = model.fit(x_train[:n_val], \n",
        "                    y_train_scaled[:n_val],\n",
        "                    batch_size=20,\n",
        "                    epochs=10, \n",
        "                    validation_data=(x_train[n_val:], y_train_scaled[n_val:]), \n",
        "                    verbose=2)\n",
        "\n",
        "plt.plot(history.history['loss'], label='Ошибка на обучающем наборе')\n",
        "plt.plot(history.history['val_loss'], label='Ошибка на проверочном наборе')\n",
        "plt.xlabel('Эпоха обучения')\n",
        "plt.ylabel('MSE')\n",
        "plt.legend()\n",
        "plt.show()\n",
        "\n",
        "predict = model.predict(x_train[n_val:])\n",
        "predict = y_scaler.inverse_transform(predict).flatten()\n",
        "delta = predict - y_train[n_val:]\n",
        "abs_delta = abs(delta)\n",
        "\n",
        "mean_delta = sum(abs_delta)/len(abs_delta)\n",
        "mean_price = sum(y_train[n_val:])/len(y_train[n_val:])\n",
        "print(\"Средняя ошибка: \", round(mean_delta))\n",
        "print(\"Средняя цена: \", round(mean_price))\n",
        "print(\"Процент ошибки: \", round(100*mean_delta / mean_price), \"%\", sep=\"\")"
      ],
      "execution_count": 0,
      "outputs": [
        {
          "output_type": "stream",
          "text": [
            "Train on 60000 samples, validate on 10119 samples\n",
            "Epoch 1/10\n",
            "60000/60000 - 18s - loss: 0.1266 - val_loss: 0.1980\n",
            "Epoch 2/10\n",
            "60000/60000 - 17s - loss: 0.1257 - val_loss: 0.1968\n",
            "Epoch 3/10\n",
            "60000/60000 - 18s - loss: 0.1244 - val_loss: 0.1966\n",
            "Epoch 4/10\n",
            "60000/60000 - 18s - loss: 0.1237 - val_loss: 0.1951\n",
            "Epoch 5/10\n",
            "60000/60000 - 18s - loss: 0.1228 - val_loss: 0.1925\n",
            "Epoch 6/10\n",
            "60000/60000 - 18s - loss: 0.1219 - val_loss: 0.1912\n",
            "Epoch 7/10\n",
            "60000/60000 - 18s - loss: 0.1208 - val_loss: 0.1912\n",
            "Epoch 8/10\n",
            "60000/60000 - 18s - loss: 0.1201 - val_loss: 0.1892\n",
            "Epoch 9/10\n",
            "60000/60000 - 18s - loss: 0.1190 - val_loss: 0.1872\n",
            "Epoch 10/10\n",
            "60000/60000 - 17s - loss: 0.1185 - val_loss: 0.1869\n"
          ],
          "name": "stdout"
        },
        {
          "output_type": "display_data",
          "data": {
            "image/png": "[encoded data removed]",
            "text/plain": [
              "<Figure size 432x288 with 1 Axes>"
            ]
          },
          "metadata": {
            "tags": []
          }
        },
        {
          "output_type": "stream",
          "text": [
            "Средняя ошибка:  77820.0\n",
            "Средняя цена:  530277.0\n",
            "Процент ошибки: 15.0%\n"
          ],
          "name": "stdout"
        }
      ]
    },
    {
      "cell_type": "markdown",
      "metadata": {
        "id": "zCHQ_1ugNctW",
        "colab_type": "text"
      },
      "source": [
        "**1.2** создаем базу данных без учета **модели** автомобиля."
      ]
    },
    {
      "cell_type": "code",
      "metadata": {
        "id": "eZ3t1fH1N7zy",
        "colab_type": "code",
        "colab": {}
      },
      "source": [
        "x_train = []\n",
        "y_train = []\n",
        "\n",
        "#Проходам по всем машинам\n",
        "for _id, car in enumerate(np.array(cars)):\n",
        "  #В y_train добавляем цену\n",
        "  y_train.append(prices[_id])\n",
        "  \n",
        "  #В x_train объединяем все параметры\n",
        "  #Категорийные параметры добавляем в ваде ohe\n",
        "  #Числовые параметры добавляем напрямую\n",
        "  x_tr = to_ohe(car[0], marks_dict) + \\\n",
        "        to_ohe(car[5], bodies_dict) + \\\n",
        "        to_ohe(car[6], kpps_dict) + \\\n",
        "        to_ohe(car[7], fuels_dict) + \\\n",
        "        [years[_id]] + \\\n",
        "        [mileages[_id]] + \\\n",
        "        [volumes[_id]] + \\\n",
        "        [powers[_id]]\n",
        "  \n",
        "  #Добавляем текущую строку в общий z_train\n",
        "  x_train.append(x_tr)\n",
        "\n",
        "#Превращаем лист в numpy.array\n",
        "x_train = np.array(x_train, dtype=np.float)\n",
        "y_train = np.array(y_train, dtype=np.float)\n",
        "#Нормализуем y_train\n",
        "y_scaler = StandardScaler()\n",
        "y_train_scaled = y_scaler.fit_transform(y_train.reshape(-1,1)).flatten()"
      ],
      "execution_count": 0,
      "outputs": []
    },
    {
      "cell_type": "code",
      "metadata": {
        "id": "okVrzhGQOoxI",
        "colab_type": "code",
        "outputId": "a5f634b8-955a-4e5b-a55b-cc136f93dbd4",
        "colab": {
          "base_uri": "https://localhost:8080/",
          "height": 1000
        }
      },
      "source": [
        "#Создаём сеть без \"модели\"\n",
        "model = Sequential()\n",
        "model.add(Dense(2500, activation='relu', input_shape=(x_train.shape[1],)))\n",
        "model.add(Dense(2500, activation='relu'))\n",
        "model.add(Dense(1, activation='linear'))\n",
        "\n",
        "#Указываем прямо шаг обучения - 1е-6\n",
        "model.compile(optimizer=Adam(lr=0.000001), loss='mse')\n",
        "\n",
        "#60000 примеров будет в обучающей выборке\n",
        "n_val = 60000\n",
        "history = model.fit(x_train[:n_val], \n",
        "                    y_train_scaled[:n_val],\n",
        "                    batch_size=20,\n",
        "                    epochs=30, \n",
        "                    validation_data=(x_train[n_val:], y_train_scaled[n_val:]), \n",
        "                    verbose=1)\n",
        "\n",
        "#Отображаем графики ошибки обучения на всех эпохах\n",
        "#Один по обучающей выборке, второй по проверочной\n",
        "plt.plot(history.history['loss'], label='Ошибка на обучающем наборе')\n",
        "plt.plot(history.history['val_loss'], label='Ошибка на проверочном наборе')\n",
        "plt.xlabel('Эпоха обучения')\n",
        "plt.ylabel('MSE')\n",
        "plt.legend()\n",
        "plt.show()\n",
        "\n",
        "#Предсказываем проверочную выборку\n",
        "predict = model.predict(x_train[n_val:])\n",
        "#Меняем масштаб обратно от нормированного к оригинальному\n",
        "predict = y_scaler.inverse_transform(predict).flatten()\n",
        "\n",
        "#Считаем ошибку и модуль ошибки прогнозирования по всем примерам\n",
        "delta = predict - y_train[n_val:]\n",
        "abs_delta = abs(delta)\n",
        "\n",
        "#Считаем среднюю цену, среднюю ошибку и средни процени ошибки\n",
        "#Выводим на экран\n",
        "mean_delta = sum(abs_delta)/len(abs_delta)\n",
        "mean_price = sum(y_train[n_val:])/len(y_train[n_val:])\n",
        "print(\"Средняя ошибка: \", round(mean_delta))\n",
        "print(\"Средняя цена: \", round(mean_price))\n",
        "print(\"Процент ошибки: \", round(100*mean_delta / mean_price), \"%\", sep=\"\")"
      ],
      "execution_count": 0,
      "outputs": [
        {
          "output_type": "stream",
          "text": [
            "Train on 60000 samples, validate on 10119 samples\n",
            "Epoch 1/30\n",
            "60000/60000 [==============================] - 20s 335us/sample - loss: 0.4609 - val_loss: 0.4393\n",
            "Epoch 2/30\n",
            "60000/60000 [==============================] - 19s 314us/sample - loss: 0.2861 - val_loss: 0.3687\n",
            "Epoch 3/30\n",
            "60000/60000 [==============================] - 19s 317us/sample - loss: 0.2451 - val_loss: 0.3381\n",
            "Epoch 4/30\n",
            "60000/60000 [==============================] - 19s 314us/sample - loss: 0.2234 - val_loss: 0.3150\n",
            "Epoch 5/30\n",
            "60000/60000 [==============================] - 19s 317us/sample - loss: 0.2080 - val_loss: 0.2971\n",
            "Epoch 6/30\n",
            "60000/60000 [==============================] - 19s 315us/sample - loss: 0.1964 - val_loss: 0.2842\n",
            "Epoch 7/30\n",
            "60000/60000 [==============================] - 19s 317us/sample - loss: 0.1874 - val_loss: 0.2762\n",
            "Epoch 8/30\n",
            "60000/60000 [==============================] - 19s 313us/sample - loss: 0.1804 - val_loss: 0.2669\n",
            "Epoch 9/30\n",
            "60000/60000 [==============================] - 19s 315us/sample - loss: 0.1747 - val_loss: 0.2595\n",
            "Epoch 10/30\n",
            "60000/60000 [==============================] - 19s 311us/sample - loss: 0.1696 - val_loss: 0.2519\n",
            "Epoch 11/30\n",
            "60000/60000 [==============================] - 19s 315us/sample - loss: 0.1652 - val_loss: 0.2470\n",
            "Epoch 12/30\n",
            "60000/60000 [==============================] - 19s 309us/sample - loss: 0.1611 - val_loss: 0.2423\n",
            "Epoch 13/30\n",
            "60000/60000 [==============================] - 19s 325us/sample - loss: 0.1574 - val_loss: 0.2392\n",
            "Epoch 14/30\n",
            "60000/60000 [==============================] - 19s 314us/sample - loss: 0.1540 - val_loss: 0.2379\n",
            "Epoch 15/30\n",
            "60000/60000 [==============================] - 19s 315us/sample - loss: 0.1518 - val_loss: 0.2300\n",
            "Epoch 16/30\n",
            "60000/60000 [==============================] - 19s 317us/sample - loss: 0.1488 - val_loss: 0.2262\n",
            "Epoch 17/30\n",
            "60000/60000 [==============================] - 19s 317us/sample - loss: 0.1465 - val_loss: 0.2246\n",
            "Epoch 18/30\n",
            "60000/60000 [==============================] - 19s 313us/sample - loss: 0.1442 - val_loss: 0.2206\n",
            "Epoch 19/30\n",
            "60000/60000 [==============================] - 19s 318us/sample - loss: 0.1420 - val_loss: 0.2174\n",
            "Epoch 20/30\n",
            "60000/60000 [==============================] - 19s 312us/sample - loss: 0.1400 - val_loss: 0.2159\n",
            "Epoch 21/30\n",
            "60000/60000 [==============================] - 19s 316us/sample - loss: 0.1386 - val_loss: 0.2122\n",
            "Epoch 22/30\n",
            "60000/60000 [==============================] - 19s 314us/sample - loss: 0.1368 - val_loss: 0.2110\n",
            "Epoch 23/30\n",
            "60000/60000 [==============================] - 19s 316us/sample - loss: 0.1350 - val_loss: 0.2093\n",
            "Epoch 24/30\n",
            "60000/60000 [==============================] - 19s 314us/sample - loss: 0.1336 - val_loss: 0.2063\n",
            "Epoch 25/30\n",
            "60000/60000 [==============================] - 19s 317us/sample - loss: 0.1322 - val_loss: 0.2039\n",
            "Epoch 26/30\n",
            "60000/60000 [==============================] - 19s 314us/sample - loss: 0.1306 - val_loss: 0.2035\n",
            "Epoch 27/30\n",
            "60000/60000 [==============================] - 19s 318us/sample - loss: 0.1296 - val_loss: 0.2010\n",
            "Epoch 28/30\n",
            "60000/60000 [==============================] - 19s 312us/sample - loss: 0.1283 - val_loss: 0.1988\n",
            "Epoch 29/30\n",
            "60000/60000 [==============================] - 20s 325us/sample - loss: 0.1268 - val_loss: 0.1992\n",
            "Epoch 30/30\n",
            "60000/60000 [==============================] - 19s 314us/sample - loss: 0.1261 - val_loss: 0.1959\n"
          ],
          "name": "stdout"
        },
        {
          "output_type": "display_data",
          "data": {
            "image/png": "[encoded data removed]",
            "text/plain": [
              "<Figure size 432x288 with 1 Axes>"
            ]
          },
          "metadata": {
            "tags": []
          }
        },
        {
          "output_type": "stream",
          "text": [
            "Средняя ошибка:  79756.0\n",
            "Средняя цена:  530277.0\n",
            "Процент ошибки: 15.0%\n"
          ],
          "name": "stdout"
        }
      ]
    },
    {
      "cell_type": "markdown",
      "metadata": {
        "id": "TQyq08osRUCZ",
        "colab_type": "text"
      },
      "source": [
        "**1.3** Создаем базу без учета типа **кузова** автомобиля."
      ]
    },
    {
      "cell_type": "code",
      "metadata": {
        "id": "P0g-uqz7RVKW",
        "colab_type": "code",
        "colab": {}
      },
      "source": [
        "x_train = []\n",
        "y_train = []\n",
        "\n",
        "#Проходам по всем машинам\n",
        "for _id, car in enumerate(np.array(cars)):\n",
        "  #В y_train добавляем цену\n",
        "  y_train.append(prices[_id])\n",
        "  \n",
        "  #В x_train объединяем все параметры\n",
        "  #Категорийные параметры добавляем в ваде ohe\n",
        "  #Числовые параметры добавляем напрямую\n",
        "  x_tr = to_ohe(car[0], marks_dict) + \\\n",
        "        to_ohe(car[1], models_dict) + \\\n",
        "        to_ohe(car[6], kpps_dict) + \\\n",
        "        to_ohe(car[7], fuels_dict) + \\\n",
        "        [years[_id]] + \\\n",
        "        [mileages[_id]] + \\\n",
        "        [volumes[_id]] + \\\n",
        "        [powers[_id]]\n",
        "  \n",
        "  #Добавляем текущую строку в общий z_train\n",
        "  x_train.append(x_tr)\n",
        "\n",
        "#Превращаем лист в numpy.array\n",
        "x_train = np.array(x_train, dtype=np.float)\n",
        "y_train = np.array(y_train, dtype=np.float)\n",
        "#Нормализуем y_train\n",
        "y_scaler = StandardScaler()\n",
        "y_train_scaled = y_scaler.fit_transform(y_train.reshape(-1,1)).flatten()"
      ],
      "execution_count": 0,
      "outputs": []
    },
    {
      "cell_type": "code",
      "metadata": {
        "id": "0OOlWf4zRteh",
        "colab_type": "code",
        "outputId": "0cb2e2bc-f9e8-44b5-f7aa-29adebb53ade",
        "colab": {
          "base_uri": "https://localhost:8080/",
          "height": 1000
        }
      },
      "source": [
        "#Создаём сеть без \"кузова\"\n",
        "model = Sequential()\n",
        "model.add(Dense(2500, activation='relu', input_shape=(x_train.shape[1],)))\n",
        "model.add(Dense(2500, activation='relu'))\n",
        "model.add(Dense(1, activation='linear'))\n",
        "\n",
        "#Указываем прямо шаг обучения - 1е-6\n",
        "model.compile(optimizer=Adam(lr=0.000001), loss='mse')\n",
        "\n",
        "#60000 примеров будет в обучающей выборке\n",
        "n_val = 60000\n",
        "history = model.fit(x_train[:n_val], \n",
        "                    y_train_scaled[:n_val],\n",
        "                    batch_size=20,\n",
        "                    epochs=30, \n",
        "                    validation_data=(x_train[n_val:], y_train_scaled[n_val:]), \n",
        "                    verbose=1)\n",
        "\n",
        "#Отображаем графики ошибки обучения на всех эпохах\n",
        "#Один по обучающей выборке, второй по проверочной\n",
        "plt.plot(history.history['loss'], label='Ошибка на обучающем наборе')\n",
        "plt.plot(history.history['val_loss'], label='Ошибка на проверочном наборе')\n",
        "plt.xlabel('Эпоха обучения')\n",
        "plt.ylabel('MSE')\n",
        "plt.legend()\n",
        "plt.show()\n",
        "\n",
        "#Предсказываем проверочную выборку\n",
        "predict = model.predict(x_train[n_val:])\n",
        "#Меняем масштаб обратно от нормированного к оригинальному\n",
        "predict = y_scaler.inverse_transform(predict).flatten()\n",
        "\n",
        "#Считаем ошибку и модуль ошибки прогнозирования по всем примерам\n",
        "delta = predict - y_train[n_val:]\n",
        "abs_delta = abs(delta)\n",
        "\n",
        "#Считаем среднюю цену, среднюю ошибку и средни процени ошибки\n",
        "#Выводим на экран\n",
        "mean_delta = sum(abs_delta)/len(abs_delta)\n",
        "mean_price = sum(y_train[n_val:])/len(y_train[n_val:])\n",
        "print(\"Средняя ошибка: \", round(mean_delta))\n",
        "print(\"Средняя цена: \", round(mean_price))\n",
        "print(\"Процент ошибки: \", round(100*mean_delta / mean_price), \"%\", sep=\"\")"
      ],
      "execution_count": 0,
      "outputs": [
        {
          "output_type": "stream",
          "text": [
            "WARNING:tensorflow:From /usr/local/lib/python3.6/dist-packages/tensorflow_core/python/ops/resource_variable_ops.py:1630: calling BaseResourceVariable.__init__ (from tensorflow.python.ops.resource_variable_ops) with constraint is deprecated and will be removed in a future version.\n",
            "Instructions for updating:\n",
            "If using Keras pass *_constraint arguments to layers.\n",
            "Train on 60000 samples, validate on 10119 samples\n",
            "Epoch 1/30\n",
            "60000/60000 [==============================] - 39s 650us/sample - loss: 0.5335 - val_loss: 0.4897\n",
            "Epoch 2/30\n",
            "60000/60000 [==============================] - 30s 493us/sample - loss: 0.3194 - val_loss: 0.3971\n",
            "Epoch 3/30\n",
            "60000/60000 [==============================] - 30s 494us/sample - loss: 0.2677 - val_loss: 0.3562\n",
            "Epoch 4/30\n",
            "60000/60000 [==============================] - 30s 496us/sample - loss: 0.2403 - val_loss: 0.3311\n",
            "Epoch 5/30\n",
            "60000/60000 [==============================] - 30s 493us/sample - loss: 0.2217 - val_loss: 0.3129\n",
            "Epoch 6/30\n",
            "60000/60000 [==============================] - 29s 489us/sample - loss: 0.2079 - val_loss: 0.2966\n",
            "Epoch 7/30\n",
            "60000/60000 [==============================] - 29s 490us/sample - loss: 0.1967 - val_loss: 0.2842\n",
            "Epoch 8/30\n",
            "60000/60000 [==============================] - 29s 490us/sample - loss: 0.1875 - val_loss: 0.2741\n",
            "Epoch 9/30\n",
            "60000/60000 [==============================] - 29s 492us/sample - loss: 0.1799 - val_loss: 0.2658\n",
            "Epoch 10/30\n",
            "60000/60000 [==============================] - 29s 491us/sample - loss: 0.1734 - val_loss: 0.2584\n",
            "Epoch 11/30\n",
            "60000/60000 [==============================] - 29s 489us/sample - loss: 0.1677 - val_loss: 0.2511\n",
            "Epoch 12/30\n",
            "60000/60000 [==============================] - 29s 490us/sample - loss: 0.1624 - val_loss: 0.2456\n",
            "Epoch 13/30\n",
            "60000/60000 [==============================] - 29s 489us/sample - loss: 0.1580 - val_loss: 0.2400\n",
            "Epoch 14/30\n",
            "60000/60000 [==============================] - 30s 493us/sample - loss: 0.1537 - val_loss: 0.2349\n",
            "Epoch 15/30\n",
            "60000/60000 [==============================] - 29s 490us/sample - loss: 0.1501 - val_loss: 0.2317\n",
            "Epoch 16/30\n",
            "60000/60000 [==============================] - 29s 491us/sample - loss: 0.1467 - val_loss: 0.2267\n",
            "Epoch 17/30\n",
            "60000/60000 [==============================] - 29s 490us/sample - loss: 0.1435 - val_loss: 0.2223\n",
            "Epoch 18/30\n",
            "60000/60000 [==============================] - 29s 489us/sample - loss: 0.1406 - val_loss: 0.2190\n",
            "Epoch 19/30\n",
            "60000/60000 [==============================] - 29s 490us/sample - loss: 0.1377 - val_loss: 0.2154\n",
            "Epoch 20/30\n",
            "60000/60000 [==============================] - 29s 490us/sample - loss: 0.1353 - val_loss: 0.2130\n",
            "Epoch 21/30\n",
            "60000/60000 [==============================] - 29s 489us/sample - loss: 0.1327 - val_loss: 0.2095\n",
            "Epoch 22/30\n",
            "60000/60000 [==============================] - 29s 488us/sample - loss: 0.1301 - val_loss: 0.2063\n",
            "Epoch 23/30\n",
            "60000/60000 [==============================] - 29s 488us/sample - loss: 0.1284 - val_loss: 0.2040\n",
            "Epoch 24/30\n",
            "60000/60000 [==============================] - 29s 490us/sample - loss: 0.1262 - val_loss: 0.2016\n",
            "Epoch 25/30\n",
            "60000/60000 [==============================] - 30s 493us/sample - loss: 0.1242 - val_loss: 0.1996\n",
            "Epoch 26/30\n",
            "60000/60000 [==============================] - 29s 489us/sample - loss: 0.1223 - val_loss: 0.1966\n",
            "Epoch 27/30\n",
            "60000/60000 [==============================] - 29s 489us/sample - loss: 0.1204 - val_loss: 0.1948\n",
            "Epoch 28/30\n",
            "60000/60000 [==============================] - 29s 490us/sample - loss: 0.1188 - val_loss: 0.1931\n",
            "Epoch 29/30\n",
            "60000/60000 [==============================] - 29s 488us/sample - loss: 0.1170 - val_loss: 0.1902\n",
            "Epoch 30/30\n",
            "60000/60000 [==============================] - 29s 489us/sample - loss: 0.1152 - val_loss: 0.1895\n"
          ],
          "name": "stdout"
        },
        {
          "output_type": "display_data",
          "data": {
            "image/png": "[encoded data removed]",
            "text/plain": [
              "<Figure size 432x288 with 1 Axes>"
            ]
          },
          "metadata": {
            "tags": []
          }
        },
        {
          "output_type": "stream",
          "text": [
            "Средняя ошибка:  73308.0\n",
            "Средняя цена:  530277.0\n",
            "Процент ошибки: 14.0%\n"
          ],
          "name": "stdout"
        }
      ]
    },
    {
      "cell_type": "markdown",
      "metadata": {
        "id": "LP9GS5uSSIeV",
        "colab_type": "text"
      },
      "source": [
        "**1.4** Создаем базу без учета типа **КПП** автомобиля."
      ]
    },
    {
      "cell_type": "code",
      "metadata": {
        "id": "k4E_MPKHSJM3",
        "colab_type": "code",
        "colab": {}
      },
      "source": [
        "x_train = []\n",
        "y_train = []\n",
        "\n",
        "#Проходам по всем машинам\n",
        "for _id, car in enumerate(np.array(cars)):\n",
        "  #В y_train добавляем цену\n",
        "  y_train.append(prices[_id])\n",
        "  \n",
        "  #В x_train объединяем все параметры\n",
        "  #Категорийные параметры добавляем в ваде ohe\n",
        "  #Числовые параметры добавляем напрямую\n",
        "  x_tr = to_ohe(car[0], marks_dict) + \\\n",
        "        to_ohe(car[1], models_dict) + \\\n",
        "        to_ohe(car[5], bodies_dict) + \\\n",
        "        to_ohe(car[7], fuels_dict) + \\\n",
        "        [years[_id]] + \\\n",
        "        [mileages[_id]] + \\\n",
        "        [volumes[_id]] + \\\n",
        "        [powers[_id]]\n",
        "  \n",
        "  #Добавляем текущую строку в общий z_train\n",
        "  x_train.append(x_tr)\n",
        "\n",
        "#Превращаем лист в numpy.array\n",
        "x_train = np.array(x_train, dtype=np.float)\n",
        "y_train = np.array(y_train, dtype=np.float)\n",
        "#Нормализуем y_train\n",
        "y_scaler = StandardScaler()\n",
        "y_train_scaled = y_scaler.fit_transform(y_train.reshape(-1,1)).flatten()"
      ],
      "execution_count": 0,
      "outputs": []
    },
    {
      "cell_type": "code",
      "metadata": {
        "id": "WzeNUP-1SJ8V",
        "colab_type": "code",
        "outputId": "3687f30a-e469-4e6b-ace6-2ee8e23135da",
        "colab": {
          "base_uri": "https://localhost:8080/",
          "height": 1000
        }
      },
      "source": [
        "#Создаём сеть \n",
        "model = Sequential()\n",
        "model.add(Dense(2500, activation='relu', input_shape=(x_train.shape[1],)))\n",
        "model.add(Dense(2500, activation='relu'))\n",
        "model.add(Dense(1, activation='linear'))\n",
        "\n",
        "#Указываем прямо шаг обучения - 1е-6\n",
        "model.compile(optimizer=Adam(lr=0.000001), loss='mse')\n",
        "\n",
        "#60000 примеров будет в обучающей выборке\n",
        "n_val = 60000\n",
        "history = model.fit(x_train[:n_val], \n",
        "                    y_train_scaled[:n_val],\n",
        "                    batch_size=20,\n",
        "                    epochs=20, \n",
        "                    validation_data=(x_train[n_val:], y_train_scaled[n_val:]), \n",
        "                    verbose=1)\n",
        "\n",
        "#Отображаем графики ошибки обучения на всех эпохах\n",
        "#Один по обучающей выборке, второй по проверочной\n",
        "plt.plot(history.history['loss'], label='Ошибка на обучающем наборе')\n",
        "plt.plot(history.history['val_loss'], label='Ошибка на проверочном наборе')\n",
        "plt.xlabel('Эпоха обучения')\n",
        "plt.ylabel('MSE')\n",
        "plt.legend()\n",
        "plt.show()\n",
        "\n",
        "#Предсказываем проверочную выборку\n",
        "predict = model.predict(x_train[n_val:])\n",
        "#Меняем масштаб обратно от нормированного к оригинальному\n",
        "predict = y_scaler.inverse_transform(predict).flatten()\n",
        "\n",
        "#Считаем ошибку и модуль ошибки прогнозирования по всем примерам\n",
        "delta = predict - y_train[n_val:]\n",
        "abs_delta = abs(delta)\n",
        "\n",
        "#Считаем среднюю цену, среднюю ошибку и средни процени ошибки\n",
        "#Выводим на экран\n",
        "mean_delta = sum(abs_delta)/len(abs_delta)\n",
        "mean_price = sum(y_train[n_val:])/len(y_train[n_val:])\n",
        "print(\"Средняя ошибка: \", round(mean_delta))\n",
        "print(\"Средняя цена: \", round(mean_price))\n",
        "print(\"Процент ошибки: \", round(100*mean_delta / mean_price), \"%\", sep=\"\")"
      ],
      "execution_count": 0,
      "outputs": [
        {
          "output_type": "stream",
          "text": [
            "Train on 60000 samples, validate on 10119 samples\n",
            "Epoch 1/20\n",
            "60000/60000 [==============================] - 30s 504us/sample - loss: 0.5336 - val_loss: 0.4943\n",
            "Epoch 2/20\n",
            "60000/60000 [==============================] - 29s 491us/sample - loss: 0.3157 - val_loss: 0.3930\n",
            "Epoch 3/20\n",
            "60000/60000 [==============================] - 29s 489us/sample - loss: 0.2596 - val_loss: 0.3494\n",
            "Epoch 4/20\n",
            "60000/60000 [==============================] - 29s 489us/sample - loss: 0.2314 - val_loss: 0.3238\n",
            "Epoch 5/20\n",
            "60000/60000 [==============================] - 29s 490us/sample - loss: 0.2131 - val_loss: 0.3059\n",
            "Epoch 6/20\n",
            "60000/60000 [==============================] - 29s 489us/sample - loss: 0.1992 - val_loss: 0.2905\n",
            "Epoch 7/20\n",
            "60000/60000 [==============================] - 30s 492us/sample - loss: 0.1882 - val_loss: 0.2784\n",
            "Epoch 8/20\n",
            "60000/60000 [==============================] - 29s 490us/sample - loss: 0.1793 - val_loss: 0.2683\n",
            "Epoch 9/20\n",
            "60000/60000 [==============================] - 29s 489us/sample - loss: 0.1720 - val_loss: 0.2611\n",
            "Epoch 10/20\n",
            "60000/60000 [==============================] - 29s 490us/sample - loss: 0.1658 - val_loss: 0.2535\n",
            "Epoch 11/20\n",
            "60000/60000 [==============================] - 29s 489us/sample - loss: 0.1601 - val_loss: 0.2478\n",
            "Epoch 12/20\n",
            "60000/60000 [==============================] - 30s 493us/sample - loss: 0.1554 - val_loss: 0.2431\n",
            "Epoch 13/20\n",
            "60000/60000 [==============================] - 29s 487us/sample - loss: 0.1514 - val_loss: 0.2367\n",
            "Epoch 14/20\n",
            "60000/60000 [==============================] - 29s 490us/sample - loss: 0.1471 - val_loss: 0.2312\n",
            "Epoch 15/20\n",
            "60000/60000 [==============================] - 29s 489us/sample - loss: 0.1436 - val_loss: 0.2273\n",
            "Epoch 16/20\n",
            "60000/60000 [==============================] - 29s 488us/sample - loss: 0.1402 - val_loss: 0.2229\n",
            "Epoch 17/20\n",
            "60000/60000 [==============================] - 29s 490us/sample - loss: 0.1373 - val_loss: 0.2198\n",
            "Epoch 18/20\n",
            "60000/60000 [==============================] - 29s 492us/sample - loss: 0.1341 - val_loss: 0.2157\n",
            "Epoch 19/20\n",
            "60000/60000 [==============================] - 29s 492us/sample - loss: 0.1319 - val_loss: 0.2130\n",
            "Epoch 20/20\n",
            "60000/60000 [==============================] - 29s 491us/sample - loss: 0.1292 - val_loss: 0.2095\n"
          ],
          "name": "stdout"
        },
        {
          "output_type": "display_data",
          "data": {
            "image/png": "[encoded data removed]",
            "text/plain": [
              "<Figure size 432x288 with 1 Axes>"
            ]
          },
          "metadata": {
            "tags": []
          }
        },
        {
          "output_type": "stream",
          "text": [
            "Средняя ошибка:  77411.0\n",
            "Средняя цена:  530277.0\n",
            "Процент ошибки: 15.0%\n"
          ],
          "name": "stdout"
        }
      ]
    },
    {
      "cell_type": "code",
      "metadata": {
        "id": "vImKSKoSDryL",
        "colab_type": "code",
        "colab": {}
      },
      "source": [
        "#УДообчаем эту сетку еще 10 эпох.\n",
        "model.compile(optimizer=Adam(lr=0.000001), loss='mse')\n",
        "history = model.fit(x_train[:n_val], \n",
        "                    y_train_scaled[:n_val],\n",
        "                    batch_size=20,\n",
        "                    epochs=10, \n",
        "                    validation_data=(x_train[n_val:], y_train_scaled[n_val:]), \n",
        "                    verbose=2)\n",
        "\n",
        "plt.plot(history.history['loss'], label='Ошибка на обучающем наборе')\n",
        "plt.plot(history.history['val_loss'], label='Ошибка на проверочном наборе')\n",
        "plt.xlabel('Эпоха обучения')\n",
        "plt.ylabel('MSE')\n",
        "plt.legend()\n",
        "plt.show()\n",
        "\n",
        "predict = model.predict(x_train[n_val:])\n",
        "predict = y_scaler.inverse_transform(predict).flatten()\n",
        "delta = predict - y_train[n_val:]\n",
        "abs_delta = abs(delta)\n",
        "\n",
        "mean_delta = sum(abs_delta)/len(abs_delta)\n",
        "mean_price = sum(y_train[n_val:])/len(y_train[n_val:])\n",
        "print(\"Средняя ошибка: \", round(mean_delta))\n",
        "print(\"Средняя цена: \", round(mean_price))\n",
        "print(\"Процент ошибки: \", round(100*mean_delta / mean_price), \"%\", sep=\"\")"
      ],
      "execution_count": 0,
      "outputs": []
    },
    {
      "cell_type": "markdown",
      "metadata": {
        "id": "LzEEhwSgSenm",
        "colab_type": "text"
      },
      "source": [
        "**1.5** Создаем базу без учета типа **топлива** автомобиля."
      ]
    },
    {
      "cell_type": "code",
      "metadata": {
        "id": "xe7lkujtSyf5",
        "colab_type": "code",
        "colab": {}
      },
      "source": [
        "x_train = []\n",
        "y_train = []\n",
        "\n",
        "#Проходам по всем машинам\n",
        "for _id, car in enumerate(np.array(cars)):\n",
        "  #В y_train добавляем цену\n",
        "  y_train.append(prices[_id])\n",
        "  \n",
        "  #В x_train объединяем все параметры\n",
        "  #Категорийные параметры добавляем в ваде ohe\n",
        "  #Числовые параметры добавляем напрямую\n",
        "  x_tr = to_ohe(car[0], marks_dict) + \\\n",
        "        to_ohe(car[1], models_dict) + \\\n",
        "        to_ohe(car[5], bodies_dict) + \\\n",
        "        to_ohe(car[6], kpps_dict) + \\\n",
        "        [years[_id]] + \\\n",
        "        [mileages[_id]] + \\\n",
        "        [volumes[_id]] + \\\n",
        "        [powers[_id]]\n",
        "  \n",
        "  #Добавляем текущую строку в общий z_train\n",
        "  x_train.append(x_tr)\n",
        "\n",
        "#Превращаем лист в numpy.array\n",
        "x_train = np.array(x_train, dtype=np.float)\n",
        "y_train = np.array(y_train, dtype=np.float)\n",
        "#Нормализуем y_train\n",
        "y_scaler = StandardScaler()\n",
        "y_train_scaled = y_scaler.fit_transform(y_train.reshape(-1,1)).flatten()"
      ],
      "execution_count": 0,
      "outputs": []
    },
    {
      "cell_type": "code",
      "metadata": {
        "id": "78lkq8kESyH4",
        "colab_type": "code",
        "outputId": "5f90ff0d-a86b-4808-a8ca-b79eb3a91f08",
        "colab": {
          "base_uri": "https://localhost:8080/",
          "height": 1000
        }
      },
      "source": [
        "#Создаём сеть \n",
        "model = Sequential()\n",
        "model.add(Dense(2500, activation='relu', input_shape=(x_train.shape[1],)))\n",
        "model.add(Dense(2500, activation='relu'))\n",
        "model.add(Dense(1, activation='linear'))\n",
        "\n",
        "#Указываем прямо шаг обучения - 1е-6\n",
        "model.compile(optimizer=Adam(lr=0.000001), loss='mse')\n",
        "\n",
        "#60000 примеров будет в обучающей выборке\n",
        "n_val = 60000\n",
        "history = model.fit(x_train[:n_val], \n",
        "                    y_train_scaled[:n_val],\n",
        "                    batch_size=20,\n",
        "                    epochs=20, \n",
        "                    validation_data=(x_train[n_val:], y_train_scaled[n_val:]), \n",
        "                    verbose=1)\n",
        "\n",
        "#Отображаем графики ошибки обучения на всех эпохах\n",
        "#Один по обучающей выборке, второй по проверочной\n",
        "plt.plot(history.history['loss'], label='Ошибка на обучающем наборе')\n",
        "plt.plot(history.history['val_loss'], label='Ошибка на проверочном наборе')\n",
        "plt.xlabel('Эпоха обучения')\n",
        "plt.ylabel('MSE')\n",
        "plt.legend()\n",
        "plt.show()\n",
        "\n",
        "#Предсказываем проверочную выборку\n",
        "predict = model.predict(x_train[n_val:])\n",
        "#Меняем масштаб обратно от нормированного к оригинальному\n",
        "predict = y_scaler.inverse_transform(predict).flatten()\n",
        "\n",
        "#Считаем ошибку и модуль ошибки прогнозирования по всем примерам\n",
        "delta = predict - y_train[n_val:]\n",
        "abs_delta = abs(delta)\n",
        "\n",
        "#Считаем среднюю цену, среднюю ошибку и средни процени ошибки\n",
        "#Выводим на экран\n",
        "mean_delta = sum(abs_delta)/len(abs_delta)\n",
        "mean_price = sum(y_train[n_val:])/len(y_train[n_val:])\n",
        "print(\"Средняя ошибка: \", round(mean_delta))\n",
        "print(\"Средняя цена: \", round(mean_price))\n",
        "print(\"Процент ошибки: \", round(100*mean_delta / mean_price), \"%\", sep=\"\")"
      ],
      "execution_count": 0,
      "outputs": [
        {
          "output_type": "stream",
          "text": [
            "Train on 60000 samples, validate on 10119 samples\n",
            "Epoch 1/20\n",
            "60000/60000 [==============================] - 30s 503us/sample - loss: 0.5601 - val_loss: 0.5179\n",
            "Epoch 2/20\n",
            "60000/60000 [==============================] - 29s 489us/sample - loss: 0.3382 - val_loss: 0.4163\n",
            "Epoch 3/20\n",
            "60000/60000 [==============================] - 29s 487us/sample - loss: 0.2798 - val_loss: 0.3707\n",
            "Epoch 4/20\n",
            "60000/60000 [==============================] - 29s 487us/sample - loss: 0.2492 - val_loss: 0.3419\n",
            "Epoch 5/20\n",
            "60000/60000 [==============================] - 29s 489us/sample - loss: 0.2281 - val_loss: 0.3223\n",
            "Epoch 6/20\n",
            "60000/60000 [==============================] - 29s 485us/sample - loss: 0.2128 - val_loss: 0.3042\n",
            "Epoch 7/20\n",
            "60000/60000 [==============================] - 29s 484us/sample - loss: 0.1999 - val_loss: 0.2906\n",
            "Epoch 8/20\n",
            "60000/60000 [==============================] - 29s 487us/sample - loss: 0.1894 - val_loss: 0.2798\n",
            "Epoch 9/20\n",
            "60000/60000 [==============================] - 29s 484us/sample - loss: 0.1809 - val_loss: 0.2718\n",
            "Epoch 10/20\n",
            "60000/60000 [==============================] - 29s 485us/sample - loss: 0.1740 - val_loss: 0.2627\n",
            "Epoch 11/20\n",
            "60000/60000 [==============================] - 29s 490us/sample - loss: 0.1679 - val_loss: 0.2561\n",
            "Epoch 12/20\n",
            "60000/60000 [==============================] - 30s 492us/sample - loss: 0.1619 - val_loss: 0.2490\n",
            "Epoch 13/20\n",
            "60000/60000 [==============================] - 30s 492us/sample - loss: 0.1569 - val_loss: 0.2422\n",
            "Epoch 14/20\n",
            "60000/60000 [==============================] - 29s 492us/sample - loss: 0.1523 - val_loss: 0.2382\n",
            "Epoch 15/20\n",
            "60000/60000 [==============================] - 29s 490us/sample - loss: 0.1482 - val_loss: 0.2328\n",
            "Epoch 16/20\n",
            "60000/60000 [==============================] - 30s 496us/sample - loss: 0.1445 - val_loss: 0.2289\n",
            "Epoch 17/20\n",
            "60000/60000 [==============================] - 29s 489us/sample - loss: 0.1414 - val_loss: 0.2249\n",
            "Epoch 18/20\n",
            "60000/60000 [==============================] - 29s 490us/sample - loss: 0.1381 - val_loss: 0.2210\n",
            "Epoch 19/20\n",
            "60000/60000 [==============================] - 29s 489us/sample - loss: 0.1351 - val_loss: 0.2182\n",
            "Epoch 20/20\n",
            "60000/60000 [==============================] - 29s 490us/sample - loss: 0.1323 - val_loss: 0.2142\n"
          ],
          "name": "stdout"
        },
        {
          "output_type": "display_data",
          "data": {
            "image/png": "[encoded data removed]",
            "text/plain": [
              "<Figure size 432x288 with 1 Axes>"
            ]
          },
          "metadata": {
            "tags": []
          }
        },
        {
          "output_type": "stream",
          "text": [
            "Средняя ошибка:  78309.0\n",
            "Средняя цена:  530277.0\n",
            "Процент ошибки: 15.0%\n"
          ],
          "name": "stdout"
        }
      ]
    },
    {
      "cell_type": "markdown",
      "metadata": {
        "id": "Jcm-wGZUSziV",
        "colab_type": "text"
      },
      "source": [
        "**1.6** Создаем базу без учета типа **обем двигателя** автомобиля."
      ]
    },
    {
      "cell_type": "code",
      "metadata": {
        "id": "YIVjL336TI0L",
        "colab_type": "code",
        "colab": {}
      },
      "source": [
        "x_train = []\n",
        "y_train = []\n",
        "\n",
        "#Проходам по всем машинам\n",
        "for _id, car in enumerate(np.array(cars)):\n",
        "  #В y_train добавляем цену\n",
        "  y_train.append(prices[_id])\n",
        "  \n",
        "  #В x_train объединяем все параметры\n",
        "  #Категорийные параметры добавляем в ваде ohe\n",
        "  #Числовые параметры добавляем напрямую\n",
        "  x_tr = to_ohe(car[0], marks_dict) + \\\n",
        "        to_ohe(car[1], models_dict) + \\\n",
        "        to_ohe(car[5], bodies_dict) + \\\n",
        "        to_ohe(car[6], kpps_dict) + \\\n",
        "        to_ohe(car[7], fuels_dict) + \\\n",
        "        [years[_id]] + \\\n",
        "        [mileages[_id]] + \\\n",
        "        [powers[_id]]\n",
        "  \n",
        "  #Добавляем текущую строку в общий z_train\n",
        "  x_train.append(x_tr)\n",
        "\n",
        "#Превращаем лист в numpy.array\n",
        "x_train = np.array(x_train, dtype=np.float)\n",
        "y_train = np.array(y_train, dtype=np.float)\n",
        "#Нормализуем y_train\n",
        "y_scaler = StandardScaler()\n",
        "y_train_scaled = y_scaler.fit_transform(y_train.reshape(-1,1)).flatten()"
      ],
      "execution_count": 0,
      "outputs": []
    },
    {
      "cell_type": "code",
      "metadata": {
        "id": "p7UUsjIsTIfz",
        "colab_type": "code",
        "outputId": "3c89ead0-5b06-4a2b-e93a-6914f886a11e",
        "colab": {
          "base_uri": "https://localhost:8080/",
          "height": 1000
        }
      },
      "source": [
        "#Создаём сеть \n",
        "model = Sequential()\n",
        "model.add(Dense(2500, activation='relu', input_shape=(x_train.shape[1],)))\n",
        "model.add(Dense(2500, activation='relu'))\n",
        "model.add(Dense(1, activation='linear'))\n",
        "\n",
        "#Указываем прямо шаг обучения - 1е-6\n",
        "model.compile(optimizer=Adam(lr=0.000001), loss='mse')\n",
        "\n",
        "#60000 примеров будет в обучающей выборке\n",
        "n_val = 60000\n",
        "history = model.fit(x_train[:n_val], \n",
        "                    y_train_scaled[:n_val],\n",
        "                    batch_size=20,\n",
        "                    epochs=30, \n",
        "                    validation_data=(x_train[n_val:], y_train_scaled[n_val:]), \n",
        "                    verbose=1)\n",
        "\n",
        "#Отображаем графики ошибки обучения на всех эпохах\n",
        "#Один по обучающей выборке, второй по проверочной\n",
        "plt.plot(history.history['loss'], label='Ошибка на обучающем наборе')\n",
        "plt.plot(history.history['val_loss'], label='Ошибка на проверочном наборе')\n",
        "plt.xlabel('Эпоха обучения')\n",
        "plt.ylabel('MSE')\n",
        "plt.legend()\n",
        "plt.show()\n",
        "\n",
        "#Предсказываем проверочную выборку\n",
        "predict = model.predict(x_train[n_val:])\n",
        "#Меняем масштаб обратно от нормированного к оригинальному\n",
        "predict = y_scaler.inverse_transform(predict).flatten()\n",
        "\n",
        "#Считаем ошибку и модуль ошибки прогнозирования по всем примерам\n",
        "delta = predict - y_train[n_val:]\n",
        "abs_delta = abs(delta)\n",
        "\n",
        "#Считаем среднюю цену, среднюю ошибку и средни процени ошибки\n",
        "#Выводим на экран\n",
        "mean_delta = sum(abs_delta)/len(abs_delta)\n",
        "mean_price = sum(y_train[n_val:])/len(y_train[n_val:])\n",
        "print(\"Средняя ошибка: \", round(mean_delta))\n",
        "print(\"Средняя цена: \", round(mean_price))\n",
        "print(\"Процент ошибки: \", round(100*mean_delta / mean_price), \"%\", sep=\"\")"
      ],
      "execution_count": 0,
      "outputs": [
        {
          "output_type": "stream",
          "text": [
            "Train on 60000 samples, validate on 10119 samples\n",
            "Epoch 1/30\n",
            "60000/60000 [==============================] - 31s 510us/sample - loss: 0.5386 - val_loss: 0.4915\n",
            "Epoch 2/30\n",
            "60000/60000 [==============================] - 30s 494us/sample - loss: 0.3140 - val_loss: 0.3890\n",
            "Epoch 3/30\n",
            "60000/60000 [==============================] - 30s 494us/sample - loss: 0.2587 - val_loss: 0.3468\n",
            "Epoch 4/30\n",
            "60000/60000 [==============================] - 30s 494us/sample - loss: 0.2311 - val_loss: 0.3216\n",
            "Epoch 5/30\n",
            "60000/60000 [==============================] - 30s 500us/sample - loss: 0.2129 - val_loss: 0.3031\n",
            "Epoch 6/30\n",
            "60000/60000 [==============================] - 30s 497us/sample - loss: 0.1989 - val_loss: 0.2875\n",
            "Epoch 7/30\n",
            "60000/60000 [==============================] - 30s 496us/sample - loss: 0.1879 - val_loss: 0.2752\n",
            "Epoch 8/30\n",
            "60000/60000 [==============================] - 30s 496us/sample - loss: 0.1790 - val_loss: 0.2655\n",
            "Epoch 9/30\n",
            "60000/60000 [==============================] - 30s 499us/sample - loss: 0.1712 - val_loss: 0.2569\n",
            "Epoch 10/30\n",
            "60000/60000 [==============================] - 30s 498us/sample - loss: 0.1647 - val_loss: 0.2488\n",
            "Epoch 11/30\n",
            "60000/60000 [==============================] - 30s 496us/sample - loss: 0.1590 - val_loss: 0.2420\n",
            "Epoch 12/30\n",
            "60000/60000 [==============================] - 30s 496us/sample - loss: 0.1534 - val_loss: 0.2392\n",
            "Epoch 13/30\n",
            "60000/60000 [==============================] - 30s 501us/sample - loss: 0.1497 - val_loss: 0.2310\n",
            "Epoch 14/30\n",
            "60000/60000 [==============================] - 30s 497us/sample - loss: 0.1452 - val_loss: 0.2254\n",
            "Epoch 15/30\n",
            "60000/60000 [==============================] - 30s 501us/sample - loss: 0.1416 - val_loss: 0.2216\n",
            "Epoch 16/30\n",
            "60000/60000 [==============================] - 30s 500us/sample - loss: 0.1382 - val_loss: 0.2180\n",
            "Epoch 17/30\n",
            "60000/60000 [==============================] - 30s 497us/sample - loss: 0.1351 - val_loss: 0.2132\n",
            "Epoch 18/30\n",
            "60000/60000 [==============================] - 30s 496us/sample - loss: 0.1324 - val_loss: 0.2105\n",
            "Epoch 19/30\n",
            "60000/60000 [==============================] - 30s 500us/sample - loss: 0.1296 - val_loss: 0.2063\n",
            "Epoch 20/30\n",
            "60000/60000 [==============================] - 30s 500us/sample - loss: 0.1269 - val_loss: 0.2040\n",
            "Epoch 21/30\n",
            "60000/60000 [==============================] - 30s 497us/sample - loss: 0.1247 - val_loss: 0.2007\n",
            "Epoch 22/30\n",
            "60000/60000 [==============================] - 30s 498us/sample - loss: 0.1225 - val_loss: 0.1985\n",
            "Epoch 23/30\n",
            "60000/60000 [==============================] - 30s 501us/sample - loss: 0.1204 - val_loss: 0.1955\n",
            "Epoch 24/30\n",
            "60000/60000 [==============================] - 30s 497us/sample - loss: 0.1182 - val_loss: 0.1927\n",
            "Epoch 25/30\n",
            "60000/60000 [==============================] - 30s 500us/sample - loss: 0.1165 - val_loss: 0.1907\n",
            "Epoch 26/30\n",
            "60000/60000 [==============================] - 30s 500us/sample - loss: 0.1148 - val_loss: 0.1887\n",
            "Epoch 27/30\n",
            "60000/60000 [==============================] - 30s 498us/sample - loss: 0.1129 - val_loss: 0.1861\n",
            "Epoch 28/30\n",
            "60000/60000 [==============================] - 30s 497us/sample - loss: 0.1110 - val_loss: 0.1847\n",
            "Epoch 29/30\n",
            "60000/60000 [==============================] - 30s 497us/sample - loss: 0.1098 - val_loss: 0.1825\n",
            "Epoch 30/30\n",
            "60000/60000 [==============================] - 30s 500us/sample - loss: 0.1082 - val_loss: 0.1811\n"
          ],
          "name": "stdout"
        },
        {
          "output_type": "display_data",
          "data": {
            "image/png": "[encoded data removed]",
            "text/plain": [
              "<Figure size 432x288 with 1 Axes>"
            ]
          },
          "metadata": {
            "tags": []
          }
        },
        {
          "output_type": "stream",
          "text": [
            "Средняя ошибка:  71429.0\n",
            "Средняя цена:  530277.0\n",
            "Процент ошибки: 13.0%\n"
          ],
          "name": "stdout"
        }
      ]
    },
    {
      "cell_type": "markdown",
      "metadata": {
        "id": "fo72bKhCTJqB",
        "colab_type": "text"
      },
      "source": [
        "**1.7** Создаем базу без учета типа **мощности двигателя** автомобиля."
      ]
    },
    {
      "cell_type": "code",
      "metadata": {
        "id": "WOPZGR5MUfta",
        "colab_type": "code",
        "colab": {}
      },
      "source": [
        "x_train = []\n",
        "y_train = []\n",
        "\n",
        "#Проходам по всем машинам\n",
        "for _id, car in enumerate(np.array(cars)):\n",
        "  #В y_train добавляем цену\n",
        "  y_train.append(prices[_id])\n",
        "  \n",
        "  #В x_train объединяем все параметры\n",
        "  #Категорийные параметры добавляем в ваде ohe\n",
        "  #Числовые параметры добавляем напрямую\n",
        "  x_tr = to_ohe(car[0], marks_dict) + \\\n",
        "        to_ohe(car[1], models_dict) + \\\n",
        "        to_ohe(car[5], bodies_dict) + \\\n",
        "        to_ohe(car[6], kpps_dict) + \\\n",
        "        to_ohe(car[7], fuels_dict) + \\\n",
        "        [years[_id]] + \\\n",
        "        [mileages[_id]] + \\\n",
        "        [volumes[_id]] \n",
        "  \n",
        "  #Добавляем текущую строку в общий z_train\n",
        "  x_train.append(x_tr)\n",
        "\n",
        "#Превращаем лист в numpy.array\n",
        "x_train = np.array(x_train, dtype=np.float)\n",
        "y_train = np.array(y_train, dtype=np.float)\n",
        "#Нормализуем y_train\n",
        "y_scaler = StandardScaler()\n",
        "y_train_scaled = y_scaler.fit_transform(y_train.reshape(-1,1)).flatten()"
      ],
      "execution_count": 0,
      "outputs": []
    },
    {
      "cell_type": "code",
      "metadata": {
        "id": "1Md1Ydm1UfGN",
        "colab_type": "code",
        "outputId": "793f4093-b491-4fc8-85be-4dc1c32da900",
        "colab": {
          "base_uri": "https://localhost:8080/",
          "height": 1000
        }
      },
      "source": [
        "#Создаём сеть \n",
        "model = Sequential()\n",
        "model.add(Dense(2500, activation='relu', input_shape=(x_train.shape[1],)))\n",
        "model.add(Dense(2500, activation='relu'))\n",
        "model.add(Dense(1, activation='linear'))\n",
        "\n",
        "#Указываем прямо шаг обучения - 1е-6\n",
        "model.compile(optimizer=Adam(lr=0.000001), loss='mse')\n",
        "\n",
        "#60000 примеров будет в обучающей выборке\n",
        "n_val = 60000\n",
        "history = model.fit(x_train[:n_val], \n",
        "                    y_train_scaled[:n_val],\n",
        "                    batch_size=20,\n",
        "                    epochs=30, \n",
        "                    validation_data=(x_train[n_val:], y_train_scaled[n_val:]), \n",
        "                    verbose=1)\n",
        "\n",
        "#Отображаем графики ошибки обучения на всех эпохах\n",
        "#Один по обучающей выборке, второй по проверочной\n",
        "plt.plot(history.history['loss'], label='Ошибка на обучающем наборе')\n",
        "plt.plot(history.history['val_loss'], label='Ошибка на проверочном наборе')\n",
        "plt.xlabel('Эпоха обучения')\n",
        "plt.ylabel('MSE')\n",
        "plt.legend()\n",
        "plt.show()\n",
        "\n",
        "#Предсказываем проверочную выборку\n",
        "predict = model.predict(x_train[n_val:])\n",
        "#Меняем масштаб обратно от нормированного к оригинальному\n",
        "predict = y_scaler.inverse_transform(predict).flatten()\n",
        "\n",
        "#Считаем ошибку и модуль ошибки прогнозирования по всем примерам\n",
        "delta = predict - y_train[n_val:]\n",
        "abs_delta = abs(delta)\n",
        "\n",
        "#Считаем среднюю цену, среднюю ошибку и средни проценt ошибки\n",
        "#Выводим на экран\n",
        "mean_delta = sum(abs_delta)/len(abs_delta)\n",
        "mean_price = sum(y_train[n_val:])/len(y_train[n_val:])\n",
        "print(\"Средняя ошибка: \", round(mean_delta))\n",
        "print(\"Средняя цена: \", round(mean_price))\n",
        "print(\"Процент ошибки: \", round(100*mean_delta / mean_price), \"%\", sep=\"\")"
      ],
      "execution_count": 0,
      "outputs": [
        {
          "output_type": "stream",
          "text": [
            "Train on 60000 samples, validate on 10119 samples\n",
            "Epoch 1/30\n",
            "60000/60000 [==============================] - 30s 508us/sample - loss: 0.5900 - val_loss: 0.5451\n",
            "Epoch 2/30\n",
            "60000/60000 [==============================] - 30s 495us/sample - loss: 0.3538 - val_loss: 0.4333\n",
            "Epoch 3/30\n",
            "60000/60000 [==============================] - 30s 492us/sample - loss: 0.2916 - val_loss: 0.3864\n",
            "Epoch 4/30\n",
            "60000/60000 [==============================] - 29s 491us/sample - loss: 0.2598 - val_loss: 0.3569\n",
            "Epoch 5/30\n",
            "60000/60000 [==============================] - 29s 492us/sample - loss: 0.2377 - val_loss: 0.3332\n",
            "Epoch 6/30\n",
            "60000/60000 [==============================] - 30s 492us/sample - loss: 0.2216 - val_loss: 0.3175\n",
            "Epoch 7/30\n",
            "60000/60000 [==============================] - 30s 492us/sample - loss: 0.2088 - val_loss: 0.3035\n",
            "Epoch 8/30\n",
            "60000/60000 [==============================] - 30s 492us/sample - loss: 0.1979 - val_loss: 0.2907\n",
            "Epoch 9/30\n",
            "60000/60000 [==============================] - 30s 493us/sample - loss: 0.1887 - val_loss: 0.2804\n",
            "Epoch 10/30\n",
            "60000/60000 [==============================] - 30s 493us/sample - loss: 0.1812 - val_loss: 0.2716\n",
            "Epoch 11/30\n",
            "60000/60000 [==============================] - 30s 492us/sample - loss: 0.1746 - val_loss: 0.2644\n",
            "Epoch 12/30\n",
            "60000/60000 [==============================] - 30s 497us/sample - loss: 0.1687 - val_loss: 0.2568\n",
            "Epoch 13/30\n",
            "60000/60000 [==============================] - 30s 492us/sample - loss: 0.1631 - val_loss: 0.2530\n",
            "Epoch 14/30\n",
            "60000/60000 [==============================] - 30s 493us/sample - loss: 0.1585 - val_loss: 0.2441\n",
            "Epoch 15/30\n",
            "60000/60000 [==============================] - 30s 492us/sample - loss: 0.1540 - val_loss: 0.2400\n",
            "Epoch 16/30\n",
            "60000/60000 [==============================] - 30s 493us/sample - loss: 0.1498 - val_loss: 0.2364\n",
            "Epoch 17/30\n",
            "60000/60000 [==============================] - 30s 497us/sample - loss: 0.1462 - val_loss: 0.2298\n",
            "Epoch 18/30\n",
            "60000/60000 [==============================] - 30s 501us/sample - loss: 0.1429 - val_loss: 0.2260\n",
            "Epoch 19/30\n",
            "60000/60000 [==============================] - 30s 499us/sample - loss: 0.1394 - val_loss: 0.2219\n",
            "Epoch 20/30\n",
            "60000/60000 [==============================] - 30s 499us/sample - loss: 0.1365 - val_loss: 0.2188\n",
            "Epoch 21/30\n",
            "60000/60000 [==============================] - 30s 500us/sample - loss: 0.1336 - val_loss: 0.2146\n",
            "Epoch 22/30\n",
            "60000/60000 [==============================] - 30s 503us/sample - loss: 0.1308 - val_loss: 0.2111\n",
            "Epoch 23/30\n",
            "60000/60000 [==============================] - 30s 500us/sample - loss: 0.1284 - val_loss: 0.2075\n",
            "Epoch 24/30\n",
            "60000/60000 [==============================] - 30s 498us/sample - loss: 0.1259 - val_loss: 0.2054\n",
            "Epoch 25/30\n",
            "60000/60000 [==============================] - 30s 498us/sample - loss: 0.1236 - val_loss: 0.2021\n",
            "Epoch 26/30\n",
            "60000/60000 [==============================] - 30s 499us/sample - loss: 0.1213 - val_loss: 0.1993\n",
            "Epoch 27/30\n",
            "60000/60000 [==============================] - 30s 497us/sample - loss: 0.1192 - val_loss: 0.1958\n",
            "Epoch 28/30\n",
            "60000/60000 [==============================] - 30s 496us/sample - loss: 0.1172 - val_loss: 0.1932\n",
            "Epoch 29/30\n",
            "60000/60000 [==============================] - 30s 493us/sample - loss: 0.1152 - val_loss: 0.1909\n",
            "Epoch 30/30\n",
            "60000/60000 [==============================] - 30s 495us/sample - loss: 0.1135 - val_loss: 0.1889\n"
          ],
          "name": "stdout"
        },
        {
          "output_type": "display_data",
          "data": {
            "image/png": "[encoded data removed]",
            "text/plain": [
              "<Figure size 432x288 with 1 Axes>"
            ]
          },
          "metadata": {
            "tags": []
          }
        },
        {
          "output_type": "stream",
          "text": [
            "Средняя ошибка:  74789.0\n",
            "Средняя цена:  530277.0\n",
            "Процент ошибки: 14.0%\n"
          ],
          "name": "stdout"
        }
      ]
    },
    {
      "cell_type": "markdown",
      "metadata": {
        "id": "3A7tMcrVVbxR",
        "colab_type": "text"
      },
      "source": [
        "**1.8** Создаем базу без учета **года выпуска** автомобиля."
      ]
    },
    {
      "cell_type": "code",
      "metadata": {
        "id": "1nA44oBBVnaH",
        "colab_type": "code",
        "colab": {}
      },
      "source": [
        "x_train = []\n",
        "y_train = []\n",
        "\n",
        "#Проходам по всем машинам\n",
        "for _id, car in enumerate(np.array(cars)):\n",
        "  #В y_train добавляем цену\n",
        "  y_train.append(prices[_id])\n",
        "  \n",
        "  #В x_train объединяем все параметры\n",
        "  #Категорийные параметры добавляем в ваде ohe\n",
        "  #Числовые параметры добавляем напрямую\n",
        "  x_tr = to_ohe(car[0], marks_dict) + \\\n",
        "        to_ohe(car[1], models_dict) + \\\n",
        "        to_ohe(car[5], bodies_dict) + \\\n",
        "        to_ohe(car[6], kpps_dict) + \\\n",
        "        to_ohe(car[7], fuels_dict) + \\\n",
        "        [mileages[_id]] + \\\n",
        "        [volumes[_id]] + \\\n",
        "        [powers[_id]]\n",
        "  \n",
        "  #Добавляем текущую строку в общий z_train\n",
        "  x_train.append(x_tr)\n",
        "\n",
        "#Превращаем лист в numpy.array\n",
        "x_train = np.array(x_train, dtype=np.float)\n",
        "y_train = np.array(y_train, dtype=np.float)\n",
        "#Нормализуем y_train\n",
        "y_scaler = StandardScaler()\n",
        "y_train_scaled = y_scaler.fit_transform(y_train.reshape(-1,1)).flatten()"
      ],
      "execution_count": 0,
      "outputs": []
    },
    {
      "cell_type": "code",
      "metadata": {
        "id": "ESHcBodEVn79",
        "colab_type": "code",
        "outputId": "b2e066ef-4529-424a-f450-3341a57aa2c0",
        "colab": {
          "base_uri": "https://localhost:8080/",
          "height": 1000
        }
      },
      "source": [
        "#Создаём сеть \n",
        "model = Sequential()\n",
        "model.add(Dense(2500, activation='relu', input_shape=(x_train.shape[1],)))\n",
        "model.add(Dense(2500, activation='relu'))\n",
        "model.add(Dense(1, activation='linear'))\n",
        "\n",
        "#Указываем прямо шаг обучения - 1е-6\n",
        "model.compile(optimizer=Adam(lr=0.000001), loss='mse')\n",
        "\n",
        "#60000 примеров будет в обучающей выборке\n",
        "n_val = 60000\n",
        "history = model.fit(x_train[:n_val], \n",
        "                    y_train_scaled[:n_val],\n",
        "                    batch_size=20,\n",
        "                    epochs=30, \n",
        "                    validation_data=(x_train[n_val:], y_train_scaled[n_val:]), \n",
        "                    verbose=1)\n",
        "\n",
        "#Отображаем графики ошибки обучения на всех эпохах\n",
        "#Один по обучающей выборке, второй по проверочной\n",
        "plt.plot(history.history['loss'], label='Ошибка на обучающем наборе')\n",
        "plt.plot(history.history['val_loss'], label='Ошибка на проверочном наборе')\n",
        "plt.xlabel('Эпоха обучения')\n",
        "plt.ylabel('MSE')\n",
        "plt.legend()\n",
        "plt.show()\n",
        "\n",
        "#Предсказываем проверочную выборку\n",
        "predict = model.predict(x_train[n_val:])\n",
        "#Меняем масштаб обратно от нормированного к оригинальному\n",
        "predict = y_scaler.inverse_transform(predict).flatten()\n",
        "\n",
        "#Считаем ошибку и модуль ошибки прогнозирования по всем примерам\n",
        "delta = predict - y_train[n_val:]\n",
        "abs_delta = abs(delta)\n",
        "\n",
        "#Считаем среднюю цену, среднюю ошибку и средни процени ошибки\n",
        "#Выводим на экран\n",
        "mean_delta = sum(abs_delta)/len(abs_delta)\n",
        "mean_price = sum(y_train[n_val:])/len(y_train[n_val:])\n",
        "print(\"Средняя ошибка: \", round(mean_delta))\n",
        "print(\"Средняя цена: \", round(mean_price))\n",
        "print(\"Процент ошибки: \", round(100*mean_delta / mean_price), \"%\", sep=\"\")"
      ],
      "execution_count": 0,
      "outputs": [
        {
          "output_type": "stream",
          "text": [
            "Train on 60000 samples, validate on 10119 samples\n",
            "Epoch 1/30\n",
            "60000/60000 [==============================] - 31s 516us/sample - loss: 0.6196 - val_loss: 0.5941\n",
            "Epoch 2/30\n",
            "60000/60000 [==============================] - 30s 496us/sample - loss: 0.4088 - val_loss: 0.4911\n",
            "Epoch 3/30\n",
            "60000/60000 [==============================] - 30s 493us/sample - loss: 0.3484 - val_loss: 0.4441\n",
            "Epoch 4/30\n",
            "60000/60000 [==============================] - 30s 495us/sample - loss: 0.3159 - val_loss: 0.4146\n",
            "Epoch 5/30\n",
            "60000/60000 [==============================] - 30s 493us/sample - loss: 0.2938 - val_loss: 0.3929\n",
            "Epoch 6/30\n",
            "60000/60000 [==============================] - 30s 495us/sample - loss: 0.2768 - val_loss: 0.3757\n",
            "Epoch 7/30\n",
            "60000/60000 [==============================] - 30s 493us/sample - loss: 0.2624 - val_loss: 0.3602\n",
            "Epoch 8/30\n",
            "60000/60000 [==============================] - 30s 493us/sample - loss: 0.2502 - val_loss: 0.3470\n",
            "Epoch 9/30\n",
            "60000/60000 [==============================] - 30s 495us/sample - loss: 0.2390 - val_loss: 0.3358\n",
            "Epoch 10/30\n",
            "60000/60000 [==============================] - 30s 493us/sample - loss: 0.2301 - val_loss: 0.3256\n",
            "Epoch 11/30\n",
            "60000/60000 [==============================] - 30s 494us/sample - loss: 0.2222 - val_loss: 0.3165\n",
            "Epoch 12/30\n",
            "60000/60000 [==============================] - 30s 493us/sample - loss: 0.2148 - val_loss: 0.3088\n",
            "Epoch 13/30\n",
            "60000/60000 [==============================] - 29s 490us/sample - loss: 0.2081 - val_loss: 0.3013\n",
            "Epoch 14/30\n",
            "60000/60000 [==============================] - 29s 492us/sample - loss: 0.2021 - val_loss: 0.2942\n",
            "Epoch 15/30\n",
            "60000/60000 [==============================] - 31s 511us/sample - loss: 0.1965 - val_loss: 0.2879\n",
            "Epoch 16/30\n",
            "60000/60000 [==============================] - 30s 500us/sample - loss: 0.1915 - val_loss: 0.2824\n",
            "Epoch 17/30\n",
            "60000/60000 [==============================] - 30s 503us/sample - loss: 0.1867 - val_loss: 0.2776\n",
            "Epoch 18/30\n",
            "60000/60000 [==============================] - 30s 501us/sample - loss: 0.1825 - val_loss: 0.2720\n",
            "Epoch 19/30\n",
            "60000/60000 [==============================] - 30s 501us/sample - loss: 0.1783 - val_loss: 0.2671\n",
            "Epoch 20/30\n",
            "60000/60000 [==============================] - 30s 501us/sample - loss: 0.1744 - val_loss: 0.2642\n",
            "Epoch 21/30\n",
            "60000/60000 [==============================] - 30s 503us/sample - loss: 0.1708 - val_loss: 0.2596\n",
            "Epoch 22/30\n",
            "60000/60000 [==============================] - 30s 506us/sample - loss: 0.1677 - val_loss: 0.2548\n",
            "Epoch 23/30\n",
            "60000/60000 [==============================] - 30s 500us/sample - loss: 0.1645 - val_loss: 0.2511\n",
            "Epoch 24/30\n",
            "60000/60000 [==============================] - 30s 502us/sample - loss: 0.1614 - val_loss: 0.2481\n",
            "Epoch 25/30\n",
            "60000/60000 [==============================] - 30s 502us/sample - loss: 0.1584 - val_loss: 0.2455\n",
            "Epoch 26/30\n",
            "60000/60000 [==============================] - 30s 501us/sample - loss: 0.1555 - val_loss: 0.2411\n",
            "Epoch 27/30\n",
            "60000/60000 [==============================] - 30s 500us/sample - loss: 0.1528 - val_loss: 0.2389\n",
            "Epoch 28/30\n",
            "60000/60000 [==============================] - 30s 501us/sample - loss: 0.1504 - val_loss: 0.2358\n",
            "Epoch 29/30\n",
            "60000/60000 [==============================] - 30s 501us/sample - loss: 0.1480 - val_loss: 0.2325\n",
            "Epoch 30/30\n",
            "60000/60000 [==============================] - 30s 502us/sample - loss: 0.1456 - val_loss: 0.2304\n"
          ],
          "name": "stdout"
        },
        {
          "output_type": "display_data",
          "data": {
            "image/png": "[encoded data removed]",
            "text/plain": [
              "<Figure size 432x288 with 1 Axes>"
            ]
          },
          "metadata": {
            "tags": []
          }
        },
        {
          "output_type": "stream",
          "text": [
            "Средняя ошибка:  92010.0\n",
            "Средняя цена:  530277.0\n",
            "Процент ошибки: 17.0%\n"
          ],
          "name": "stdout"
        }
      ]
    },
    {
      "cell_type": "markdown",
      "metadata": {
        "id": "Hd0gGLSJUhCq",
        "colab_type": "text"
      },
      "source": [
        "**1.9** Создаем базу без учета **пробега**  автомобиля."
      ]
    },
    {
      "cell_type": "code",
      "metadata": {
        "id": "rbCwhaI3UwFO",
        "colab_type": "code",
        "colab": {}
      },
      "source": [
        "x_train = []\n",
        "y_train = []\n",
        "\n",
        "#Проходам по всем машинам\n",
        "for _id, car in enumerate(np.array(cars)):\n",
        "  #В y_train добавляем цену\n",
        "  y_train.append(prices[_id])\n",
        "  \n",
        "  #В x_train объединяем все параметры\n",
        "  #Категорийные параметры добавляем в ваде ohe\n",
        "  #Числовые параметры добавляем напрямую\n",
        "  x_tr = to_ohe(car[0], marks_dict) + \\\n",
        "        to_ohe(car[1], models_dict) + \\\n",
        "        to_ohe(car[5], bodies_dict) + \\\n",
        "        to_ohe(car[6], kpps_dict) + \\\n",
        "        to_ohe(car[7], fuels_dict) + \\\n",
        "        [years[_id]] + \\\n",
        "        [volumes[_id]] + \\\n",
        "        [powers[_id]]\n",
        "  \n",
        "  #Добавляем текущую строку в общий z_train\n",
        "  x_train.append(x_tr)\n",
        "\n",
        "#Превращаем лист в numpy.array\n",
        "x_train = np.array(x_train, dtype=np.float)\n",
        "y_train = np.array(y_train, dtype=np.float)\n",
        "#Нормализуем y_train\n",
        "y_scaler = StandardScaler()\n",
        "y_train_scaled = y_scaler.fit_transform(y_train.reshape(-1,1)).flatten()"
      ],
      "execution_count": 0,
      "outputs": []
    },
    {
      "cell_type": "code",
      "metadata": {
        "id": "OshvRh2YUwlb",
        "colab_type": "code",
        "outputId": "cbd952cd-fdc0-42c0-f4f1-63a001b6bbc5",
        "colab": {
          "base_uri": "https://localhost:8080/",
          "height": 1000
        }
      },
      "source": [
        "#Создаём сеть \n",
        "model = Sequential()\n",
        "model.add(Dense(2500, activation='relu', input_shape=(x_train.shape[1],)))\n",
        "model.add(Dense(2500, activation='relu'))\n",
        "model.add(Dense(1, activation='linear'))\n",
        "\n",
        "#Указываем прямо шаг обучения - 1е-6\n",
        "model.compile(optimizer=Adam(lr=0.000001), loss='mse')\n",
        "\n",
        "#60000 примеров будет в обучающей выборке\n",
        "n_val = 60000\n",
        "history = model.fit(x_train[:n_val], \n",
        "                    y_train_scaled[:n_val],\n",
        "                    batch_size=20,\n",
        "                    epochs=30, \n",
        "                    validation_data=(x_train[n_val:], y_train_scaled[n_val:]), \n",
        "                    verbose=1)\n",
        "\n",
        "#Отображаем графики ошибки обучения на всех эпохах\n",
        "#Один по обучающей выборке, второй по проверочной\n",
        "plt.plot(history.history['loss'], label='Ошибка на обучающем наборе')\n",
        "plt.plot(history.history['val_loss'], label='Ошибка на проверочном наборе')\n",
        "plt.xlabel('Эпоха обучения')\n",
        "plt.ylabel('MSE')\n",
        "plt.legend()\n",
        "plt.show()\n",
        "\n",
        "#Предсказываем проверочную выборку\n",
        "predict = model.predict(x_train[n_val:])\n",
        "#Меняем масштаб обратно от нормированного к оригинальному\n",
        "predict = y_scaler.inverse_transform(predict).flatten()\n",
        "\n",
        "#Считаем ошибку и модуль ошибки прогнозирования по всем примерам\n",
        "delta = predict - y_train[n_val:]\n",
        "abs_delta = abs(delta)\n",
        "\n",
        "#Считаем среднюю цену, среднюю ошибку и средни процени ошибки\n",
        "#Выводим на экран\n",
        "mean_delta = sum(abs_delta)/len(abs_delta)\n",
        "mean_price = sum(y_train[n_val:])/len(y_train[n_val:])\n",
        "print(\"Средняя ошибка: \", round(mean_delta))\n",
        "print(\"Средняя цена: \", round(mean_price))\n",
        "print(\"Процент ошибки: \", round(100*mean_delta / mean_price), \"%\", sep=\"\")"
      ],
      "execution_count": 0,
      "outputs": [
        {
          "output_type": "stream",
          "text": [
            "Train on 60000 samples, validate on 10119 samples\n",
            "Epoch 1/30\n",
            "60000/60000 [==============================] - 31s 523us/sample - loss: 0.5537 - val_loss: 0.5355\n",
            "Epoch 2/30\n",
            "60000/60000 [==============================] - 30s 508us/sample - loss: 0.3520 - val_loss: 0.4357\n",
            "Epoch 3/30\n",
            "60000/60000 [==============================] - 30s 505us/sample - loss: 0.2912 - val_loss: 0.3893\n",
            "Epoch 4/30\n",
            "60000/60000 [==============================] - 30s 503us/sample - loss: 0.2597 - val_loss: 0.3607\n",
            "Epoch 5/30\n",
            "60000/60000 [==============================] - 30s 504us/sample - loss: 0.2385 - val_loss: 0.3407\n",
            "Epoch 6/30\n",
            "60000/60000 [==============================] - 30s 502us/sample - loss: 0.2231 - val_loss: 0.3246\n",
            "Epoch 7/30\n",
            "60000/60000 [==============================] - 30s 502us/sample - loss: 0.2105 - val_loss: 0.3113\n",
            "Epoch 8/30\n",
            "60000/60000 [==============================] - 30s 501us/sample - loss: 0.1998 - val_loss: 0.3029\n",
            "Epoch 9/30\n",
            "60000/60000 [==============================] - 30s 502us/sample - loss: 0.1914 - val_loss: 0.2906\n",
            "Epoch 10/30\n",
            "60000/60000 [==============================] - 30s 502us/sample - loss: 0.1839 - val_loss: 0.2819\n",
            "Epoch 11/30\n",
            "60000/60000 [==============================] - 30s 501us/sample - loss: 0.1773 - val_loss: 0.2744\n",
            "Epoch 12/30\n",
            "60000/60000 [==============================] - 30s 507us/sample - loss: 0.1717 - val_loss: 0.2678\n",
            "Epoch 13/30\n",
            "60000/60000 [==============================] - 30s 502us/sample - loss: 0.1665 - val_loss: 0.2623\n",
            "Epoch 14/30\n",
            "60000/60000 [==============================] - 30s 504us/sample - loss: 0.1619 - val_loss: 0.2560\n",
            "Epoch 15/30\n",
            "60000/60000 [==============================] - 30s 502us/sample - loss: 0.1580 - val_loss: 0.2520\n",
            "Epoch 16/30\n",
            "60000/60000 [==============================] - 30s 502us/sample - loss: 0.1540 - val_loss: 0.2484\n",
            "Epoch 17/30\n",
            "60000/60000 [==============================] - 30s 503us/sample - loss: 0.1510 - val_loss: 0.2429\n",
            "Epoch 18/30\n",
            "60000/60000 [==============================] - 30s 502us/sample - loss: 0.1478 - val_loss: 0.2386\n",
            "Epoch 19/30\n",
            "60000/60000 [==============================] - 30s 502us/sample - loss: 0.1448 - val_loss: 0.2366\n",
            "Epoch 20/30\n",
            "60000/60000 [==============================] - 30s 501us/sample - loss: 0.1423 - val_loss: 0.2315\n",
            "Epoch 21/30\n",
            "60000/60000 [==============================] - 30s 503us/sample - loss: 0.1393 - val_loss: 0.2282\n",
            "Epoch 22/30\n",
            "60000/60000 [==============================] - 30s 501us/sample - loss: 0.1366 - val_loss: 0.2282\n",
            "Epoch 23/30\n",
            "60000/60000 [==============================] - 30s 500us/sample - loss: 0.1347 - val_loss: 0.2225\n",
            "Epoch 24/30\n",
            "60000/60000 [==============================] - 30s 504us/sample - loss: 0.1326 - val_loss: 0.2195\n",
            "Epoch 25/30\n",
            "60000/60000 [==============================] - 30s 501us/sample - loss: 0.1305 - val_loss: 0.2166\n",
            "Epoch 26/30\n",
            "60000/60000 [==============================] - 30s 501us/sample - loss: 0.1283 - val_loss: 0.2155\n",
            "Epoch 27/30\n",
            "60000/60000 [==============================] - 30s 502us/sample - loss: 0.1264 - val_loss: 0.2134\n",
            "Epoch 28/30\n",
            "60000/60000 [==============================] - 30s 502us/sample - loss: 0.1246 - val_loss: 0.2104\n",
            "Epoch 29/30\n",
            "60000/60000 [==============================] - 30s 502us/sample - loss: 0.1229 - val_loss: 0.2081\n",
            "Epoch 30/30\n",
            "60000/60000 [==============================] - 30s 502us/sample - loss: 0.1209 - val_loss: 0.2052\n"
          ],
          "name": "stdout"
        },
        {
          "output_type": "display_data",
          "data": {
            "image/png": "[encoded data removed]",
            "text/plain": [
              "<Figure size 432x288 with 1 Axes>"
            ]
          },
          "metadata": {
            "tags": []
          }
        },
        {
          "output_type": "stream",
          "text": [
            "Средняя ошибка:  75799.0\n",
            "Средняя цена:  530277.0\n",
            "Процент ошибки: 14.0%\n"
          ],
          "name": "stdout"
        }
      ]
    },
    {
      "cell_type": "markdown",
      "metadata": {
        "id": "le_l86n_7o-R",
        "colab_type": "text"
      },
      "source": [
        "**ВЫВОД**"
      ]
    },
    {
      "cell_type": "markdown",
      "metadata": {
        "id": "jJih6MBYcch6",
        "colab_type": "text"
      },
      "source": [
        "**2** Отключаем нормализацию входных данных."
      ]
    },
    {
      "cell_type": "code",
      "metadata": {
        "id": "0C5VMDR34bnQ",
        "colab_type": "code",
        "colab": {}
      },
      "source": [
        "#Задаем числовые параметры без нормализации\n",
        "\n",
        "years = cars['year']\n",
        "mileages = cars['mileage']\n",
        "volumes = cars['volume']\n",
        "powers = cars['power']\n"
      ],
      "execution_count": 0,
      "outputs": []
    },
    {
      "cell_type": "code",
      "metadata": {
        "id": "aAJHKmkn5kv5",
        "colab_type": "code",
        "colab": {}
      },
      "source": [
        "# создаем базу данных\n",
        "x_train = []\n",
        "y_train = []\n",
        "\n",
        "#Проходам по всем машинам\n",
        "for _id, car in enumerate(np.array(cars)):\n",
        "  #В y_train добавляем цену\n",
        "  y_train.append(prices[_id])\n",
        "  \n",
        "  #В x_train объединяем все параметры\n",
        "  #Категорийные параметры добавляем в ваде ohe\n",
        "  #Числовые параметры добавляем напрямую\n",
        "  x_tr = to_ohe(car[0], marks_dict) + \\\n",
        "        to_ohe(car[1], models_dict) + \\\n",
        "        to_ohe(car[5], bodies_dict) + \\\n",
        "        to_ohe(car[6], kpps_dict) + \\\n",
        "        to_ohe(car[7], fuels_dict) + \\\n",
        "        [years[_id]] + \\\n",
        "        [mileages[_id]] + \\\n",
        "        [volumes[_id]] + \\\n",
        "        [powers[_id]]\n",
        "  \n",
        "  #Добавляем текущую строку в общий z_train\n",
        "  x_train.append(x_tr)\n",
        "\n",
        "#Превращаем лист в numpy.array\n",
        "x_train = np.array(x_train, dtype=np.float)\n",
        "y_train = np.array(y_train, dtype=np.float)\n",
        "#Нормализуем y_train\n",
        "y_scaler = StandardScaler()\n",
        "y_train_scaled = y_scaler.fit_transform(y_train.reshape(-1,1)).flatten()"
      ],
      "execution_count": 0,
      "outputs": []
    },
    {
      "cell_type": "code",
      "metadata": {
        "id": "xVJmYTz-5izu",
        "colab_type": "code",
        "outputId": "0e6b42cf-b495-4847-8828-3f73fb9d904c",
        "colab": {
          "base_uri": "https://localhost:8080/",
          "height": 1000
        }
      },
      "source": [
        "#Создаём сеть \n",
        "model = Sequential()\n",
        "model.add(Dense(2500, activation='relu', input_shape=(x_train.shape[1],)))\n",
        "model.add(Dense(2500, activation='relu'))\n",
        "model.add(Dense(1, activation='linear'))\n",
        "\n",
        "#Указываем прямо шаг обучения - 1е-6\n",
        "model.compile(optimizer=Adam(lr=0.000001), loss='mse')\n",
        "\n",
        "#60000 примеров будет в обучающей выборке\n",
        "n_val = 60000\n",
        "history = model.fit(x_train[:n_val], \n",
        "                    y_train_scaled[:n_val],\n",
        "                    batch_size=20,\n",
        "                    epochs=20, \n",
        "                    validation_data=(x_train[n_val:], y_train_scaled[n_val:]), \n",
        "                    verbose=1)\n",
        "\n",
        "#Отображаем графики ошибки обучения на всех эпохах\n",
        "#Один по обучающей выборке, второй по проверочной\n",
        "plt.plot(history.history['loss'], label='Ошибка на обучающем наборе')\n",
        "plt.plot(history.history['val_loss'], label='Ошибка на проверочном наборе')\n",
        "plt.xlabel('Эпоха обучения')\n",
        "plt.ylabel('MSE')\n",
        "plt.legend()\n",
        "plt.show()\n",
        "\n",
        "#Предсказываем проверочную выборку\n",
        "predict = model.predict(x_train[n_val:])\n",
        "#Меняем масштаб обратно от нормированного к оригинальному\n",
        "predict = y_scaler.inverse_transform(predict).flatten()\n",
        "\n",
        "#Считаем ошибку и модуль ошибки прогнозирования по всем примерам\n",
        "delta = predict - y_train[n_val:]\n",
        "abs_delta = abs(delta)\n",
        "\n",
        "#Считаем среднюю цену, среднюю ошибку и средни процени ошибки\n",
        "#Выводим на экран\n",
        "mean_delta = sum(abs_delta)/len(abs_delta)\n",
        "mean_price = sum(y_train[n_val:])/len(y_train[n_val:])\n",
        "print(\"Средняя ошибка: \", round(mean_delta))\n",
        "print(\"Средняя цена: \", round(mean_price))\n",
        "print(\"Процент ошибки: \", round(100*mean_delta / mean_price), \"%\", sep=\"\")"
      ],
      "execution_count": 0,
      "outputs": [
        {
          "output_type": "stream",
          "text": [
            "Train on 60000 samples, validate on 10119 samples\n",
            "Epoch 1/20\n",
            "60000/60000 [==============================] - 32s 528us/sample - loss: 70.6158 - val_loss: 0.5214\n",
            "Epoch 2/20\n",
            "60000/60000 [==============================] - 31s 514us/sample - loss: 54.7611 - val_loss: 0.8674\n",
            "Epoch 3/20\n",
            "60000/60000 [==============================] - 31s 511us/sample - loss: 53.7500 - val_loss: 8.6676\n",
            "Epoch 4/20\n",
            "60000/60000 [==============================] - 31s 512us/sample - loss: 115.2824 - val_loss: 1.1292\n",
            "Epoch 5/20\n",
            "60000/60000 [==============================] - 31s 509us/sample - loss: 57.8233 - val_loss: 1.4854\n",
            "Epoch 6/20\n",
            "60000/60000 [==============================] - 31s 509us/sample - loss: 82.6127 - val_loss: 0.6920\n",
            "Epoch 7/20\n",
            "60000/60000 [==============================] - 31s 511us/sample - loss: 76.6918 - val_loss: 1.7281\n",
            "Epoch 8/20\n",
            "60000/60000 [==============================] - 31s 510us/sample - loss: 48.8012 - val_loss: 3.2763\n",
            "Epoch 9/20\n",
            "60000/60000 [==============================] - 31s 511us/sample - loss: 62.4880 - val_loss: 0.5726\n",
            "Epoch 10/20\n",
            "60000/60000 [==============================] - 31s 509us/sample - loss: 37.8825 - val_loss: 0.5710\n",
            "Epoch 11/20\n",
            "60000/60000 [==============================] - 31s 512us/sample - loss: 71.8819 - val_loss: 0.3862\n",
            "Epoch 12/20\n",
            "60000/60000 [==============================] - 31s 516us/sample - loss: 89.9383 - val_loss: 0.7431\n",
            "Epoch 13/20\n",
            "60000/60000 [==============================] - 31s 515us/sample - loss: 51.9385 - val_loss: 90.8156\n",
            "Epoch 14/20\n",
            "60000/60000 [==============================] - 31s 511us/sample - loss: 45.3091 - val_loss: 0.4252\n",
            "Epoch 15/20\n",
            "60000/60000 [==============================] - 31s 512us/sample - loss: 44.5972 - val_loss: 2.8953\n",
            "Epoch 16/20\n",
            "60000/60000 [==============================] - 31s 515us/sample - loss: 91.4815 - val_loss: 0.4439\n",
            "Epoch 17/20\n",
            "60000/60000 [==============================] - 31s 512us/sample - loss: 22.8882 - val_loss: 0.3898\n",
            "Epoch 18/20\n",
            "60000/60000 [==============================] - 31s 514us/sample - loss: 48.3536 - val_loss: 4.1621\n",
            "Epoch 19/20\n",
            "60000/60000 [==============================] - 31s 512us/sample - loss: 201.2601 - val_loss: 0.6937\n",
            "Epoch 20/20\n",
            "60000/60000 [==============================] - 31s 510us/sample - loss: 138.5547 - val_loss: 0.4286\n"
          ],
          "name": "stdout"
        },
        {
          "output_type": "display_data",
          "data": {
            "image/png": "[encoded data removed]",
            "text/plain": [
              "<Figure size 432x288 with 1 Axes>"
            ]
          },
          "metadata": {
            "tags": []
          }
        },
        {
          "output_type": "stream",
          "text": [
            "Средняя ошибка:  232646.0\n",
            "Средняя цена:  530277.0\n",
            "Процент ошибки: 44.0%\n"
          ],
          "name": "stdout"
        }
      ]
    },
    {
      "cell_type": "markdown",
      "metadata": {
        "id": "JacvA2Ps7cLu",
        "colab_type": "text"
      },
      "source": [
        "\n",
        "**ВЫВОД** Нормализация входных данных необходима , сетка работает не стабильно."
      ]
    },
    {
      "cell_type": "markdown",
      "metadata": {
        "id": "_YIiui66-JDY",
        "colab_type": "text"
      },
      "source": [
        "**3** Проверяем влияние на ошибку, операции преобразования входных данных \"года выпуска автомобиля\" в формат +ohe."
      ]
    },
    {
      "cell_type": "code",
      "metadata": {
        "id": "wlS2yP9n7dZW",
        "colab_type": "code",
        "colab": {}
      },
      "source": [
        "#Запоминаем числовые параметры\n",
        "#И нормируем\n",
        "fuels_dict = create_dict(set(cars['year']))\n",
        "kpps_dict = create_dict(set(cars['kpp']))\n",
        "\n",
        "mileages = preprocessing.scale(cars['mileage'])\n",
        "volumes = preprocessing.scale(cars['volume'])\n",
        "powers = preprocessing.scale(cars['power'])"
      ],
      "execution_count": 0,
      "outputs": []
    },
    {
      "cell_type": "code",
      "metadata": {
        "id": "lNKJCyZP5iBr",
        "colab_type": "code",
        "outputId": "12d06d91-dbec-44bd-dbda-4aaa9612e092",
        "colab": {
          "base_uri": "https://localhost:8080/",
          "height": 133
        }
      },
      "source": [
        "x_train = []\n",
        "y_train = []\n",
        "\n",
        "#Проходам по всем машинам\n",
        "for _id, car in enumerate(np.array(cars)):\n",
        "  #В y_train добавляем цену\n",
        "  y_train.append(prices[_id])\n",
        "  \n",
        "  #В x_train объединяем все параметры\n",
        "  #Категорийные параметры добавляем в ваде ohe\n",
        "  #Числовые параметры добавляем напрямую\n",
        "  x_tr = to_ohe(car[0], marks_dict) + \\\n",
        "        to_ohe(car[1], models_dict) + \\\n",
        "        to_ohe(car[5], bodies_dict) + \\\n",
        "        to_ohe(car[6], kpps_dict) + \\\n",
        "        to_ohe(car[7], fuels_dict) + \\\n",
        "        to_ohe(car[3], years_dict) + \\\n",
        "        [mileages[_id]] + \\\n",
        "        [volumes[_id]] + \\\n",
        "        [powers[_id]]\n",
        "  \n",
        "  #Добавляем текущую строку в общий z_train\n",
        "   x_train.append(x_tr)\n",
        "\n",
        "#Превращаем лист в numpy.array\n",
        "x_train = np.array(x_train, dtype=np.float)\n",
        "y_train = np.array(y_train, dtype=np.float)\n",
        "#Нормализуем y_train\n",
        "y_scaler = StandardScaler()\n",
        "y_train_scaled = y_scaler.fit_transform(y_train.reshape(-1,1)).flatten()"
      ],
      "execution_count": 42,
      "outputs": [
        {
          "output_type": "error",
          "ename": "IndentationError",
          "evalue": "ignored",
          "traceback": [
            "\u001b[0;36m  File \u001b[0;32m\"<ipython-input-42-7b0b3bfcaae7>\"\u001b[0;36m, line \u001b[0;32m15\u001b[0m\n\u001b[0;31m    x_train.append(x_tr)\u001b[0m\n\u001b[0m    ^\u001b[0m\n\u001b[0;31mIndentationError\u001b[0m\u001b[0;31m:\u001b[0m unexpected indent\n"
          ]
        }
      ]
    },
    {
      "cell_type": "code",
      "metadata": {
        "id": "D5zoT1m6ERBQ",
        "colab_type": "code",
        "outputId": "f4c1bc9c-bfc3-4dce-b684-e65dd9febbbf",
        "colab": {
          "base_uri": "https://localhost:8080/",
          "height": 549
        }
      },
      "source": [
        "#Создаём сеть \n",
        "model = Sequential()\n",
        "model.add(Dense(2500, activation='relu', input_shape=(x_train.shape[1],)))\n",
        "model.add(Dense(2500, activation='relu'))\n",
        "model.add(Dense(1, activation='linear'))\n",
        "\n",
        "#Указываем прямо шаг обучения - 1е-6\n",
        "model.compile(optimizer=Adam(lr=0.000001), loss='mse')\n",
        "\n",
        "#60000 примеров будет в обучающей выборке\n",
        "n_val = 60000\n",
        "history = model.fit(x_train[:n_val], \n",
        "                    y_train_scaled[:n_val],\n",
        "                    batch_size=20,\n",
        "                    epochs=30, \n",
        "                    validation_data=(x_train[n_val:], y_train_scaled[n_val:]), \n",
        "                    verbose=1)\n",
        "\n",
        "#Отображаем графики ошибки обучения на всех эпохах\n",
        "#Один по обучающей выборке, второй по проверочной\n",
        "plt.plot(history.history['loss'], label='Ошибка на обучающем наборе')\n",
        "plt.plot(history.history['val_loss'], label='Ошибка на проверочном наборе')\n",
        "plt.xlabel('Эпоха обучения')\n",
        "plt.ylabel('MSE')\n",
        "plt.legend()\n",
        "plt.show()\n",
        "\n",
        "#Предсказываем проверочную выборку\n",
        "predict = model.predict(x_train[n_val:])\n",
        "#Меняем масштаб обратно от нормированного к оригинальному\n",
        "predict = y_scaler.inverse_transform(predict).flatten()\n",
        "\n",
        "#Считаем ошибку и модуль ошибки прогнозирования по всем примерам\n",
        "delta = predict - y_train[n_val:]\n",
        "abs_delta = abs(delta)\n",
        "\n",
        "#Считаем среднюю цену, среднюю ошибку и средни процени ошибки\n",
        "#Выводим на экран\n",
        "mean_delta = sum(abs_delta)/len(abs_delta)\n",
        "mean_price = sum(y_train[n_val:])/len(y_train[n_val:])\n",
        "print(\"Средняя ошибка: \", round(mean_delta))\n",
        "print(\"Средняя цена: \", round(mean_price))\n",
        "print(\"Процент ошибки: \", round(100*mean_delta / mean_price), \"%\", sep=\"\")"
      ],
      "execution_count": 0,
      "outputs": [
        {
          "output_type": "stream",
          "text": [
            "Train on 60000 samples, validate on 10119 samples\n",
            "Epoch 1/30\n",
            "60000/60000 [==============================] - 312s 5ms/sample - loss: 0.5507 - val_loss: 0.5121\n",
            "Epoch 2/30\n",
            "60000/60000 [==============================] - 312s 5ms/sample - loss: 0.3287 - val_loss: 0.4059\n",
            "Epoch 3/30\n",
            "60000/60000 [==============================] - 311s 5ms/sample - loss: 0.2691 - val_loss: 0.3593\n",
            "Epoch 4/30\n",
            "35800/60000 [================>.............] - ETA: 2:00 - loss: 0.2505"
          ],
          "name": "stdout"
        },
        {
          "output_type": "error",
          "ename": "KeyboardInterrupt",
          "evalue": "ignored",
          "traceback": [
            "\u001b[0;31m---------------------------------------------------------------------------\u001b[0m",
            "\u001b[0;31mKeyboardInterrupt\u001b[0m                         Traceback (most recent call last)",
            "\u001b[0;32m<ipython-input-32-e9d66733b9fd>\u001b[0m in \u001b[0;36m<module>\u001b[0;34m()\u001b[0m\n\u001b[1;32m     14\u001b[0m                     \u001b[0mepochs\u001b[0m\u001b[0;34m=\u001b[0m\u001b[0;36m30\u001b[0m\u001b[0;34m,\u001b[0m\u001b[0;34m\u001b[0m\u001b[0;34m\u001b[0m\u001b[0m\n\u001b[1;32m     15\u001b[0m                     \u001b[0mvalidation_data\u001b[0m\u001b[0;34m=\u001b[0m\u001b[0;34m(\u001b[0m\u001b[0mx_train\u001b[0m\u001b[0;34m[\u001b[0m\u001b[0mn_val\u001b[0m\u001b[0;34m:\u001b[0m\u001b[0;34m]\u001b[0m\u001b[0;34m,\u001b[0m \u001b[0my_train_scaled\u001b[0m\u001b[0;34m[\u001b[0m\u001b[0mn_val\u001b[0m\u001b[0;34m:\u001b[0m\u001b[0;34m]\u001b[0m\u001b[0;34m)\u001b[0m\u001b[0;34m,\u001b[0m\u001b[0;34m\u001b[0m\u001b[0;34m\u001b[0m\u001b[0m\n\u001b[0;32m---> 16\u001b[0;31m                     verbose=1)\n\u001b[0m\u001b[1;32m     17\u001b[0m \u001b[0;34m\u001b[0m\u001b[0m\n\u001b[1;32m     18\u001b[0m \u001b[0;31m#Отображаем графики ошибки обучения на всех эпохах\u001b[0m\u001b[0;34m\u001b[0m\u001b[0;34m\u001b[0m\u001b[0;34m\u001b[0m\u001b[0m\n",
            "\u001b[0;32m/usr/local/lib/python3.6/dist-packages/tensorflow_core/python/keras/engine/training.py\u001b[0m in \u001b[0;36mfit\u001b[0;34m(self, x, y, batch_size, epochs, verbose, callbacks, validation_split, validation_data, shuffle, class_weight, sample_weight, initial_epoch, steps_per_epoch, validation_steps, validation_freq, max_queue_size, workers, use_multiprocessing, **kwargs)\u001b[0m\n\u001b[1;32m    725\u001b[0m         \u001b[0mmax_queue_size\u001b[0m\u001b[0;34m=\u001b[0m\u001b[0mmax_queue_size\u001b[0m\u001b[0;34m,\u001b[0m\u001b[0;34m\u001b[0m\u001b[0;34m\u001b[0m\u001b[0m\n\u001b[1;32m    726\u001b[0m         \u001b[0mworkers\u001b[0m\u001b[0;34m=\u001b[0m\u001b[0mworkers\u001b[0m\u001b[0;34m,\u001b[0m\u001b[0;34m\u001b[0m\u001b[0;34m\u001b[0m\u001b[0m\n\u001b[0;32m--> 727\u001b[0;31m         use_multiprocessing=use_multiprocessing)\n\u001b[0m\u001b[1;32m    728\u001b[0m \u001b[0;34m\u001b[0m\u001b[0m\n\u001b[1;32m    729\u001b[0m   def evaluate(self,\n",
            "\u001b[0;32m/usr/local/lib/python3.6/dist-packages/tensorflow_core/python/keras/engine/training_arrays.py\u001b[0m in \u001b[0;36mfit\u001b[0;34m(self, model, x, y, batch_size, epochs, verbose, callbacks, validation_split, validation_data, shuffle, class_weight, sample_weight, initial_epoch, steps_per_epoch, validation_steps, validation_freq, **kwargs)\u001b[0m\n\u001b[1;32m    673\u001b[0m         \u001b[0mvalidation_steps\u001b[0m\u001b[0;34m=\u001b[0m\u001b[0mvalidation_steps\u001b[0m\u001b[0;34m,\u001b[0m\u001b[0;34m\u001b[0m\u001b[0;34m\u001b[0m\u001b[0m\n\u001b[1;32m    674\u001b[0m         \u001b[0mvalidation_freq\u001b[0m\u001b[0;34m=\u001b[0m\u001b[0mvalidation_freq\u001b[0m\u001b[0;34m,\u001b[0m\u001b[0;34m\u001b[0m\u001b[0;34m\u001b[0m\u001b[0m\n\u001b[0;32m--> 675\u001b[0;31m         steps_name='steps_per_epoch')\n\u001b[0m\u001b[1;32m    676\u001b[0m \u001b[0;34m\u001b[0m\u001b[0m\n\u001b[1;32m    677\u001b[0m   def evaluate(self,\n",
            "\u001b[0;32m/usr/local/lib/python3.6/dist-packages/tensorflow_core/python/keras/engine/training_arrays.py\u001b[0m in \u001b[0;36mmodel_iteration\u001b[0;34m(model, inputs, targets, sample_weights, batch_size, epochs, verbose, callbacks, val_inputs, val_targets, val_sample_weights, shuffle, initial_epoch, steps_per_epoch, validation_steps, validation_freq, mode, validation_in_fit, prepared_feed_values_from_dataset, steps_name, **kwargs)\u001b[0m\n\u001b[1;32m    392\u001b[0m \u001b[0;34m\u001b[0m\u001b[0m\n\u001b[1;32m    393\u001b[0m         \u001b[0;31m# Get outputs.\u001b[0m\u001b[0;34m\u001b[0m\u001b[0;34m\u001b[0m\u001b[0;34m\u001b[0m\u001b[0m\n\u001b[0;32m--> 394\u001b[0;31m         \u001b[0mbatch_outs\u001b[0m \u001b[0;34m=\u001b[0m \u001b[0mf\u001b[0m\u001b[0;34m(\u001b[0m\u001b[0mins_batch\u001b[0m\u001b[0;34m)\u001b[0m\u001b[0;34m\u001b[0m\u001b[0;34m\u001b[0m\u001b[0m\n\u001b[0m\u001b[1;32m    395\u001b[0m         \u001b[0;32mif\u001b[0m \u001b[0;32mnot\u001b[0m \u001b[0misinstance\u001b[0m\u001b[0;34m(\u001b[0m\u001b[0mbatch_outs\u001b[0m\u001b[0;34m,\u001b[0m \u001b[0mlist\u001b[0m\u001b[0;34m)\u001b[0m\u001b[0;34m:\u001b[0m\u001b[0;34m\u001b[0m\u001b[0;34m\u001b[0m\u001b[0m\n\u001b[1;32m    396\u001b[0m           \u001b[0mbatch_outs\u001b[0m \u001b[0;34m=\u001b[0m \u001b[0;34m[\u001b[0m\u001b[0mbatch_outs\u001b[0m\u001b[0;34m]\u001b[0m\u001b[0;34m\u001b[0m\u001b[0;34m\u001b[0m\u001b[0m\n",
            "\u001b[0;32m/usr/local/lib/python3.6/dist-packages/tensorflow_core/python/keras/backend.py\u001b[0m in \u001b[0;36m__call__\u001b[0;34m(self, inputs)\u001b[0m\n\u001b[1;32m   3474\u001b[0m \u001b[0;34m\u001b[0m\u001b[0m\n\u001b[1;32m   3475\u001b[0m     fetched = self._callable_fn(*array_vals,\n\u001b[0;32m-> 3476\u001b[0;31m                                 run_metadata=self.run_metadata)\n\u001b[0m\u001b[1;32m   3477\u001b[0m     \u001b[0mself\u001b[0m\u001b[0;34m.\u001b[0m\u001b[0m_call_fetch_callbacks\u001b[0m\u001b[0;34m(\u001b[0m\u001b[0mfetched\u001b[0m\u001b[0;34m[\u001b[0m\u001b[0;34m-\u001b[0m\u001b[0mlen\u001b[0m\u001b[0;34m(\u001b[0m\u001b[0mself\u001b[0m\u001b[0;34m.\u001b[0m\u001b[0m_fetches\u001b[0m\u001b[0;34m)\u001b[0m\u001b[0;34m:\u001b[0m\u001b[0;34m]\u001b[0m\u001b[0;34m)\u001b[0m\u001b[0;34m\u001b[0m\u001b[0;34m\u001b[0m\u001b[0m\n\u001b[1;32m   3478\u001b[0m     output_structure = nest.pack_sequence_as(\n",
            "\u001b[0;32m/usr/local/lib/python3.6/dist-packages/tensorflow_core/python/client/session.py\u001b[0m in \u001b[0;36m__call__\u001b[0;34m(self, *args, **kwargs)\u001b[0m\n\u001b[1;32m   1470\u001b[0m         ret = tf_session.TF_SessionRunCallable(self._session._session,\n\u001b[1;32m   1471\u001b[0m                                                \u001b[0mself\u001b[0m\u001b[0;34m.\u001b[0m\u001b[0m_handle\u001b[0m\u001b[0;34m,\u001b[0m \u001b[0margs\u001b[0m\u001b[0;34m,\u001b[0m\u001b[0;34m\u001b[0m\u001b[0;34m\u001b[0m\u001b[0m\n\u001b[0;32m-> 1472\u001b[0;31m                                                run_metadata_ptr)\n\u001b[0m\u001b[1;32m   1473\u001b[0m         \u001b[0;32mif\u001b[0m \u001b[0mrun_metadata\u001b[0m\u001b[0;34m:\u001b[0m\u001b[0;34m\u001b[0m\u001b[0;34m\u001b[0m\u001b[0m\n\u001b[1;32m   1474\u001b[0m           \u001b[0mproto_data\u001b[0m \u001b[0;34m=\u001b[0m \u001b[0mtf_session\u001b[0m\u001b[0;34m.\u001b[0m\u001b[0mTF_GetBuffer\u001b[0m\u001b[0;34m(\u001b[0m\u001b[0mrun_metadata_ptr\u001b[0m\u001b[0;34m)\u001b[0m\u001b[0;34m\u001b[0m\u001b[0;34m\u001b[0m\u001b[0m\n",
            "\u001b[0;31mKeyboardInterrupt\u001b[0m: "
          ]
        }
      ]
    },
    {
      "cell_type": "markdown",
      "metadata": {
        "id": "airKXGWsBoKL",
        "colab_type": "text"
      },
      "source": [
        "**ВЫВОД**"
      ]
    },
    {
      "cell_type": "markdown",
      "metadata": {
        "id": "EAOvZP2QByq8",
        "colab_type": "text"
      },
      "source": [
        "**4**`**Архитектура сети НС**`."
      ]
    },
    {
      "cell_type": "code",
      "metadata": {
        "id": "Xzz72TLrPT0x",
        "colab_type": "code",
        "colab": {}
      },
      "source": [
        "# нормируем\n",
        "years = preprocessing.scale(cars['year'])"
      ],
      "execution_count": 0,
      "outputs": []
    },
    {
      "cell_type": "code",
      "metadata": {
        "id": "jSQft7QdRVeI",
        "colab_type": "code",
        "outputId": "1772f79e-2ab7-422e-cd33-324628c4f54a",
        "colab": {
          "base_uri": "https://localhost:8080/",
          "height": 153
        }
      },
      "source": [
        "x_train = []\n",
        "y_train = []\n",
        "\n",
        "#Проходам по всем машинам\n",
        "for _id, car in enumerate(np.array(cars)):\n",
        "  #В y_train добавляем цену\n",
        "  y_train.append(prices[_id])\n",
        "  \n",
        "  #В x_train объединяем все параметры\n",
        "  #Категорийные параметры добавляем в ваде ohe\n",
        "  #Числовые параметры добавляем напрямую\n",
        " x_tr = to_ohe(car[0], marks_dict) + \\\n",
        "        to_ohe(car[1], models_dict) + \\\n",
        "        to_ohe(car[5], bodies_dict) + \\\n",
        "        to_ohe(car[6], kpps_dict) + \\\n",
        "        to_ohe(car[7], fuels_dict) + \\\n",
        "        [years[_id]] + \\\n",
        "        [mileages[_id]] + \\\n",
        "        [volumes[_id]] + \\\n",
        "        [powers[_id]]\n",
        "  \n",
        "  #Добавляем текущую строку в общий z_train\n",
        "  x_train.append(x_tr)\n",
        "\n",
        "#Превращаем лист в numpy.array\n",
        "x_train = np.array(x_train, dtype=np.float)\n",
        "y_train = np.array(y_train, dtype=np.float)\n",
        "#Нормализуем y_train\n",
        "y_scaler = StandardScaler()\n",
        "y_train_scaled = y_scaler.fit_transform(y_train.reshape(-1,1)).flatten()"
      ],
      "execution_count": 44,
      "outputs": [
        {
          "output_type": "error",
          "ename": "IndentationError",
          "evalue": "ignored",
          "traceback": [
            "\u001b[0;36m  File \u001b[0;32m\"<ipython-input-44-4d17cb95e2a3>\"\u001b[0;36m, line \u001b[0;32m12\u001b[0m\n\u001b[0;31m    x_tr = to_ohe(car[0], marks_dict) +         to_ohe(car[1], models_dict) +         to_ohe(car[5], bodies_dict) +         to_ohe(car[6], kpps_dict) +         to_ohe(car[7], fuels_dict) +         [years[_id]] +         [mileages[_id]] +         [volumes[_id]] +         [powers[_id]]\u001b[0m\n\u001b[0m                                                                                                                                                                                                                                                                                            ^\u001b[0m\n\u001b[0;31mIndentationError\u001b[0m\u001b[0;31m:\u001b[0m unindent does not match any outer indentation level\n"
          ]
        }
      ]
    },
    {
      "cell_type": "markdown",
      "metadata": {
        "id": "sLlRChqDCIy4",
        "colab_type": "text"
      },
      "source": [
        "**4.1** добавляем  слой Dropout в НС."
      ]
    },
    {
      "cell_type": "code",
      "metadata": {
        "id": "H7pQU_wRDei4",
        "colab_type": "code",
        "colab": {
          "base_uri": "https://localhost:8080/",
          "height": 1000
        },
        "outputId": "41e57e2b-0c34-41c4-c16a-03ec74ce941f"
      },
      "source": [
        "#Создаём сеть \n",
        "model = Sequential()\n",
        "model.add(Dense(2500, activation='relu', input_shape=(x_train.shape[1],)))\n",
        "model.add(Dropout(0.25))\n",
        "model.add(Dense(2500, activation='relu'))\n",
        "model.add(Dropout(0.25))\n",
        "model.add(Dense(1, activation='linear'))\n",
        "\n",
        "#Указываем прямо шаг обучения - 1е-6\n",
        "model.compile(optimizer=Adam(lr=0.000001), loss='mse')\n",
        "\n",
        "#60000 примеров будет в обучающей выборке\n",
        "n_val = 60000\n",
        "history = model.fit(x_train[:n_val], \n",
        "                    y_train_scaled[:n_val],\n",
        "                    batch_size=20,\n",
        "                    epochs=30, \n",
        "                    validation_data=(x_train[n_val:], y_train_scaled[n_val:]), \n",
        "                    verbose=1)\n",
        "\n",
        "#Отображаем графики ошибки обучения на всех эпохах\n",
        "#Один по обучающей выборке, второй по проверочной\n",
        "plt.plot(history.history['loss'], label='Ошибка на обучающем наборе')\n",
        "plt.plot(history.history['val_loss'], label='Ошибка на проверочном наборе')\n",
        "plt.xlabel('Эпоха обучения')\n",
        "plt.ylabel('MSE')\n",
        "plt.legend()\n",
        "plt.show()\n",
        "\n",
        "#Предсказываем проверочную выборку\n",
        "predict = model.predict(x_train[n_val:])\n",
        "#Меняем масштаб обратно от нормированного к оригинальному\n",
        "predict = y_scaler.inverse_transform(predict).flatten()\n",
        "\n",
        "#Считаем ошибку и модуль ошибки прогнозирования по всем примерам\n",
        "delta = predict - y_train[n_val:]\n",
        "abs_delta = abs(delta)\n",
        "\n",
        "#Считаем среднюю цену, среднюю ошибку и средни процени ошибки\n",
        "#Выводим на экран\n",
        "mean_delta = sum(abs_delta)/len(abs_delta)\n",
        "mean_price = sum(y_train[n_val:])/len(y_train[n_val:])\n",
        "print(\"Средняя ошибка: \", round(mean_delta))\n",
        "print(\"Средняя цена: \", round(mean_price))\n",
        "print(\"Процент ошибки: \", round(100*mean_delta / mean_price), \"%\", sep=\"\")"
      ],
      "execution_count": 21,
      "outputs": [
        {
          "output_type": "stream",
          "text": [
            "Train on 60000 samples, validate on 10119 samples\n",
            "Epoch 1/30\n",
            "60000/60000 [==============================] - 18s 300us/sample - loss: 0.5612 - val_loss: 0.5398\n",
            "Epoch 2/30\n",
            "60000/60000 [==============================] - 17s 290us/sample - loss: 0.3669 - val_loss: 0.4324\n",
            "Epoch 3/30\n",
            "60000/60000 [==============================] - 17s 291us/sample - loss: 0.3009 - val_loss: 0.3811\n",
            "Epoch 4/30\n",
            "60000/60000 [==============================] - 17s 290us/sample - loss: 0.2674 - val_loss: 0.3523\n",
            "Epoch 5/30\n",
            "60000/60000 [==============================] - 17s 287us/sample - loss: 0.2459 - val_loss: 0.3316\n",
            "Epoch 6/30\n",
            "60000/60000 [==============================] - 17s 290us/sample - loss: 0.2305 - val_loss: 0.3149\n",
            "Epoch 7/30\n",
            "60000/60000 [==============================] - 17s 287us/sample - loss: 0.2183 - val_loss: 0.3019\n",
            "Epoch 8/30\n",
            "60000/60000 [==============================] - 17s 287us/sample - loss: 0.2072 - val_loss: 0.2907\n",
            "Epoch 9/30\n",
            "60000/60000 [==============================] - 17s 288us/sample - loss: 0.1987 - val_loss: 0.2814\n",
            "Epoch 10/30\n",
            "60000/60000 [==============================] - 17s 287us/sample - loss: 0.1915 - val_loss: 0.2731\n",
            "Epoch 11/30\n",
            "60000/60000 [==============================] - 17s 289us/sample - loss: 0.1851 - val_loss: 0.2660\n",
            "Epoch 12/30\n",
            "60000/60000 [==============================] - 17s 284us/sample - loss: 0.1797 - val_loss: 0.2589\n",
            "Epoch 13/30\n",
            "60000/60000 [==============================] - 17s 290us/sample - loss: 0.1747 - val_loss: 0.2536\n",
            "Epoch 14/30\n",
            "60000/60000 [==============================] - 17s 286us/sample - loss: 0.1698 - val_loss: 0.2482\n",
            "Epoch 15/30\n",
            "60000/60000 [==============================] - 17s 286us/sample - loss: 0.1656 - val_loss: 0.2442\n",
            "Epoch 16/30\n",
            "60000/60000 [==============================] - 17s 287us/sample - loss: 0.1613 - val_loss: 0.2393\n",
            "Epoch 17/30\n",
            "60000/60000 [==============================] - 17s 288us/sample - loss: 0.1578 - val_loss: 0.2362\n",
            "Epoch 18/30\n",
            "60000/60000 [==============================] - 17s 285us/sample - loss: 0.1562 - val_loss: 0.2317\n",
            "Epoch 19/30\n",
            "60000/60000 [==============================] - 17s 286us/sample - loss: 0.1528 - val_loss: 0.2279\n",
            "Epoch 20/30\n",
            "60000/60000 [==============================] - 17s 287us/sample - loss: 0.1484 - val_loss: 0.2251\n",
            "Epoch 21/30\n",
            "60000/60000 [==============================] - 17s 285us/sample - loss: 0.1480 - val_loss: 0.2221\n",
            "Epoch 22/30\n",
            "60000/60000 [==============================] - 17s 284us/sample - loss: 0.1464 - val_loss: 0.2199\n",
            "Epoch 23/30\n",
            "60000/60000 [==============================] - 17s 286us/sample - loss: 0.1433 - val_loss: 0.2172\n",
            "Epoch 24/30\n",
            "60000/60000 [==============================] - 17s 288us/sample - loss: 0.1413 - val_loss: 0.2142\n",
            "Epoch 25/30\n",
            "60000/60000 [==============================] - 17s 290us/sample - loss: 0.1395 - val_loss: 0.2120\n",
            "Epoch 26/30\n",
            "60000/60000 [==============================] - 17s 290us/sample - loss: 0.1366 - val_loss: 0.2099\n",
            "Epoch 27/30\n",
            "60000/60000 [==============================] - 17s 290us/sample - loss: 0.1353 - val_loss: 0.2072\n",
            "Epoch 28/30\n",
            "60000/60000 [==============================] - 18s 292us/sample - loss: 0.1353 - val_loss: 0.2053\n",
            "Epoch 29/30\n",
            "60000/60000 [==============================] - 17s 287us/sample - loss: 0.1323 - val_loss: 0.2037\n",
            "Epoch 30/30\n",
            "60000/60000 [==============================] - 17s 289us/sample - loss: 0.1320 - val_loss: 0.2020\n"
          ],
          "name": "stdout"
        },
        {
          "output_type": "display_data",
          "data": {
            "image/png": "[encoded data removed]",
            "text/plain": [
              "<Figure size 432x288 with 1 Axes>"
            ]
          },
          "metadata": {
            "tags": []
          }
        },
        {
          "output_type": "stream",
          "text": [
            "Средняя ошибка:  78076.0\n",
            "Средняя цена:  530277.0\n",
            "Процент ошибки: 15.0%\n"
          ],
          "name": "stdout"
        }
      ]
    },
    {
      "cell_type": "markdown",
      "metadata": {
        "id": "539ZUZvVPanX",
        "colab_type": "text"
      },
      "source": [
        "**ВЫВОД** Добавление слоев Droopout увеличил ошибку НС следовательно переобучение сетки не происходит, применять Droopoyt ненужно."
      ]
    },
    {
      "cell_type": "markdown",
      "metadata": {
        "id": "Uo3t3RgjEiGX",
        "colab_type": "text"
      },
      "source": [
        "**4.2** добавляем слой Batch Normalization."
      ]
    },
    {
      "cell_type": "code",
      "metadata": {
        "id": "7sGuAEBZEiaw",
        "colab_type": "code",
        "colab": {
          "base_uri": "https://localhost:8080/",
          "height": 1000
        },
        "outputId": "52cc6918-2898-4a2d-ec6c-86f73e1119aa"
      },
      "source": [
        "#Создаём сеть \n",
        "model = Sequential()\n",
        "model.add(Dense(2500, activation='relu', input_shape=(x_train.shape[1],)))\n",
        "model.add(BatchNormalization())\n",
        "model.add(Dense(2500, activation='relu'))\n",
        "model.add(Dropout(0.25))\n",
        "model.add(Dense(1, activation='linear'))\n",
        "\n",
        "#Указываем прямо шаг обучения - 1е-6\n",
        "model.compile(optimizer=Adam(lr=0.000001), loss='mse')\n",
        "\n",
        "#60000 примеров будет в обучающей выборке\n",
        "n_val = 60000\n",
        "history = model.fit(x_train[:n_val], \n",
        "                    y_train_scaled[:n_val],\n",
        "                    batch_size=20,\n",
        "                    epochs=30, \n",
        "                    validation_data=(x_train[n_val:], y_train_scaled[n_val:]), \n",
        "                    verbose=1)\n",
        "\n",
        "#Отображаем графики ошибки обучения на всех эпохах\n",
        "#Один по обучающей выборке, второй по проверочной\n",
        "plt.plot(history.history['loss'], label='Ошибка на обучающем наборе')\n",
        "plt.plot(history.history['val_loss'], label='Ошибка на проверочном наборе')\n",
        "plt.xlabel('Эпоха обучения')\n",
        "plt.ylabel('MSE')\n",
        "plt.legend()\n",
        "plt.show()\n",
        "\n",
        "#Предсказываем проверочную выборку\n",
        "predict = model.predict(x_train[n_val:])\n",
        "#Меняем масштаб обратно от нормированного к оригинальному\n",
        "predict = y_scaler.inverse_transform(predict).flatten()\n",
        "\n",
        "#Считаем ошибку и модуль ошибки прогнозирования по всем примерам\n",
        "delta = predict - y_train[n_val:]\n",
        "abs_delta = abs(delta)\n",
        "\n",
        "#Считаем среднюю цену, среднюю ошибку и средни процени ошибки\n",
        "#Выводим на экран\n",
        "mean_delta = sum(abs_delta)/len(abs_delta)\n",
        "mean_price = sum(y_train[n_val:])/len(y_train[n_val:])\n",
        "print(\"Средняя ошибка: \", round(mean_delta))\n",
        "print(\"Средняя цена: \", round(mean_price))\n",
        "print(\"Процент ошибки: \", round(100*mean_delta / mean_price), \"%\", sep=\"\")"
      ],
      "execution_count": 22,
      "outputs": [
        {
          "output_type": "stream",
          "text": [
            "Train on 60000 samples, validate on 10119 samples\n",
            "Epoch 1/30\n",
            "60000/60000 [==============================] - 20s 340us/sample - loss: 0.4919 - val_loss: 0.3093\n",
            "Epoch 2/30\n",
            "60000/60000 [==============================] - 20s 328us/sample - loss: 0.3573 - val_loss: 0.2702\n",
            "Epoch 3/30\n",
            "60000/60000 [==============================] - 20s 337us/sample - loss: 0.3205 - val_loss: 0.2524\n",
            "Epoch 4/30\n",
            "60000/60000 [==============================] - 20s 338us/sample - loss: 0.2950 - val_loss: 0.2287\n",
            "Epoch 5/30\n",
            "60000/60000 [==============================] - 21s 343us/sample - loss: 0.2753 - val_loss: 0.2141\n",
            "Epoch 6/30\n",
            "60000/60000 [==============================] - 20s 342us/sample - loss: 0.2661 - val_loss: 0.2149\n",
            "Epoch 7/30\n",
            "60000/60000 [==============================] - 20s 335us/sample - loss: 0.2514 - val_loss: 0.1975\n",
            "Epoch 8/30\n",
            "60000/60000 [==============================] - 20s 335us/sample - loss: 0.2392 - val_loss: 0.2051\n",
            "Epoch 9/30\n",
            "60000/60000 [==============================] - 20s 340us/sample - loss: 0.2396 - val_loss: 0.1880\n",
            "Epoch 10/30\n",
            "60000/60000 [==============================] - 20s 340us/sample - loss: 0.2298 - val_loss: 0.1801\n",
            "Epoch 11/30\n",
            "60000/60000 [==============================] - 20s 341us/sample - loss: 0.2227 - val_loss: 0.1780\n",
            "Epoch 12/30\n",
            "60000/60000 [==============================] - 20s 337us/sample - loss: 0.2102 - val_loss: 0.1777\n",
            "Epoch 13/30\n",
            "60000/60000 [==============================] - 20s 338us/sample - loss: 0.2078 - val_loss: 0.1711\n",
            "Epoch 14/30\n",
            "60000/60000 [==============================] - 20s 334us/sample - loss: 0.2053 - val_loss: 0.1703\n",
            "Epoch 15/30\n",
            "60000/60000 [==============================] - 20s 331us/sample - loss: 0.1974 - val_loss: 0.1649\n",
            "Epoch 16/30\n",
            "60000/60000 [==============================] - 20s 333us/sample - loss: 0.1961 - val_loss: 0.1925\n",
            "Epoch 17/30\n",
            "60000/60000 [==============================] - 20s 331us/sample - loss: 0.1812 - val_loss: 0.1632\n",
            "Epoch 18/30\n",
            "60000/60000 [==============================] - 20s 331us/sample - loss: 0.1830 - val_loss: 0.1654\n",
            "Epoch 19/30\n",
            "60000/60000 [==============================] - 20s 327us/sample - loss: 0.1788 - val_loss: 0.1583\n",
            "Epoch 20/30\n",
            "60000/60000 [==============================] - 19s 323us/sample - loss: 0.1798 - val_loss: 0.1551\n",
            "Epoch 21/30\n",
            "60000/60000 [==============================] - 20s 327us/sample - loss: 0.1698 - val_loss: 0.1595\n",
            "Epoch 22/30\n",
            "60000/60000 [==============================] - 19s 323us/sample - loss: 0.1679 - val_loss: 0.1573\n",
            "Epoch 23/30\n",
            "60000/60000 [==============================] - 19s 325us/sample - loss: 0.1659 - val_loss: 0.1524\n",
            "Epoch 24/30\n",
            "60000/60000 [==============================] - 20s 326us/sample - loss: 0.1621 - val_loss: 0.1496\n",
            "Epoch 25/30\n",
            "60000/60000 [==============================] - 20s 330us/sample - loss: 0.1611 - val_loss: 0.1543\n",
            "Epoch 26/30\n",
            "60000/60000 [==============================] - 19s 324us/sample - loss: 0.1547 - val_loss: 0.1515\n",
            "Epoch 27/30\n",
            "60000/60000 [==============================] - 19s 325us/sample - loss: 0.1529 - val_loss: 0.1497\n",
            "Epoch 28/30\n",
            "60000/60000 [==============================] - 19s 323us/sample - loss: 0.1524 - val_loss: 0.1507\n",
            "Epoch 29/30\n",
            "60000/60000 [==============================] - 19s 323us/sample - loss: 0.1488 - val_loss: 0.1555\n",
            "Epoch 30/30\n",
            "60000/60000 [==============================] - 19s 322us/sample - loss: 0.1433 - val_loss: 0.1435\n"
          ],
          "name": "stdout"
        },
        {
          "output_type": "display_data",
          "data": {
            "image/png": "[encoded data removed]",
            "text/plain": [
              "<Figure size 432x288 with 1 Axes>"
            ]
          },
          "metadata": {
            "tags": []
          }
        },
        {
          "output_type": "stream",
          "text": [
            "Средняя ошибка:  86559.0\n",
            "Средняя цена:  530277.0\n",
            "Процент ошибки: 16.0%\n"
          ],
          "name": "stdout"
        }
      ]
    },
    {
      "cell_type": "markdown",
      "metadata": {
        "id": "fLRxXecIPfMU",
        "colab_type": "text"
      },
      "source": [
        "**ВЫВОД** слой Batch Normalization увеличил Процент ошибки: 16.0% приминение его неоправдано."
      ]
    },
    {
      "cell_type": "markdown",
      "metadata": {
        "id": "PHqiPqVtExUL",
        "colab_type": "text"
      },
      "source": [
        "**4.3** меняем активационную функцию **elu**"
      ]
    },
    {
      "cell_type": "code",
      "metadata": {
        "id": "gd17e_RvFEfF",
        "colab_type": "code",
        "colab": {
          "base_uri": "https://localhost:8080/",
          "height": 1000
        },
        "outputId": "ff01de15-5a5c-4488-ea16-e8081ded50d0"
      },
      "source": [
        "#Создаём сеть \n",
        "model = Sequential()\n",
        "model.add(Dense(2500, activation='elu', input_shape=(x_train.shape[1],)))\n",
        "model.add(Dense(2500, activation='elu'))\n",
        "model.add(Dense(1, activation='linear'))\n",
        "#Указываем прямо шаг обучения - 1е-6\n",
        "model.compile(optimizer=Adam(lr=0.000001), loss='mse')\n",
        "\n",
        "#60000 примеров будет в обучающей выборке\n",
        "n_val = 60000\n",
        "history = model.fit(x_train[:n_val], \n",
        "                    y_train_scaled[:n_val],\n",
        "                    batch_size=20,\n",
        "                    epochs=30, \n",
        "                    validation_data=(x_train[n_val:], y_train_scaled[n_val:]), \n",
        "                    verbose=1)\n",
        "\n",
        "#Отображаем графики ошибки обучения на всех эпохах\n",
        "#Один по обучающей выборке, второй по проверочной\n",
        "plt.plot(history.history['loss'], label='Ошибка на обучающем наборе')\n",
        "plt.plot(history.history['val_loss'], label='Ошибка на проверочном наборе')\n",
        "plt.xlabel('Эпоха обучения')\n",
        "plt.ylabel('MSE')\n",
        "plt.legend()\n",
        "plt.show()\n",
        "\n",
        "#Предсказываем проверочную выборку\n",
        "predict = model.predict(x_train[n_val:])\n",
        "#Меняем масштаб обратно от нормированного к оригинальному\n",
        "predict = y_scaler.inverse_transform(predict).flatten()\n",
        "\n",
        "#Считаем ошибку и модуль ошибки прогнозирования по всем примерам\n",
        "delta = predict - y_train[n_val:]\n",
        "abs_delta = abs(delta)\n",
        "\n",
        "#Считаем среднюю цену, среднюю ошибку и средни процени ошибки\n",
        "#Выводим на экран\n",
        "mean_delta = sum(abs_delta)/len(abs_delta)\n",
        "mean_price = sum(y_train[n_val:])/len(y_train[n_val:])\n",
        "print(\"Средняя ошибка: \", round(mean_delta))\n",
        "print(\"Средняя цена: \", round(mean_price))\n",
        "print(\"Процент ошибки: \", round(100*mean_delta / mean_price), \"%\", sep=\"\")"
      ],
      "execution_count": 27,
      "outputs": [
        {
          "output_type": "stream",
          "text": [
            "Train on 60000 samples, validate on 10119 samples\n",
            "Epoch 1/30\n",
            "60000/60000 [==============================] - 18s 306us/sample - loss: 0.4786 - val_loss: 0.5409\n",
            "Epoch 2/30\n",
            "60000/60000 [==============================] - 17s 284us/sample - loss: 0.4009 - val_loss: 0.5102\n",
            "Epoch 3/30\n",
            "60000/60000 [==============================] - 17s 282us/sample - loss: 0.3795 - val_loss: 0.4934\n",
            "Epoch 4/30\n",
            "60000/60000 [==============================] - 17s 283us/sample - loss: 0.3636 - val_loss: 0.4794\n",
            "Epoch 5/30\n",
            "60000/60000 [==============================] - 17s 284us/sample - loss: 0.3499 - val_loss: 0.4661\n",
            "Epoch 6/30\n",
            "60000/60000 [==============================] - 17s 284us/sample - loss: 0.3366 - val_loss: 0.4527\n",
            "Epoch 7/30\n",
            "60000/60000 [==============================] - 17s 286us/sample - loss: 0.3249 - val_loss: 0.4439\n",
            "Epoch 8/30\n",
            "60000/60000 [==============================] - 17s 283us/sample - loss: 0.3136 - val_loss: 0.4304\n",
            "Epoch 9/30\n",
            "60000/60000 [==============================] - 17s 282us/sample - loss: 0.3027 - val_loss: 0.4200\n",
            "Epoch 10/30\n",
            "60000/60000 [==============================] - 17s 283us/sample - loss: 0.2929 - val_loss: 0.4109\n",
            "Epoch 11/30\n",
            "60000/60000 [==============================] - 17s 283us/sample - loss: 0.2833 - val_loss: 0.4015\n",
            "Epoch 12/30\n",
            "60000/60000 [==============================] - 17s 283us/sample - loss: 0.2741 - val_loss: 0.3938\n",
            "Epoch 13/30\n",
            "60000/60000 [==============================] - 17s 283us/sample - loss: 0.2662 - val_loss: 0.3834\n",
            "Epoch 14/30\n",
            "60000/60000 [==============================] - 17s 282us/sample - loss: 0.2581 - val_loss: 0.3757\n",
            "Epoch 15/30\n",
            "60000/60000 [==============================] - 17s 283us/sample - loss: 0.2503 - val_loss: 0.3672\n",
            "Epoch 16/30\n",
            "60000/60000 [==============================] - 17s 282us/sample - loss: 0.2430 - val_loss: 0.3607\n",
            "Epoch 17/30\n",
            "60000/60000 [==============================] - 17s 281us/sample - loss: 0.2360 - val_loss: 0.3527\n",
            "Epoch 18/30\n",
            "60000/60000 [==============================] - 17s 284us/sample - loss: 0.2299 - val_loss: 0.3461\n",
            "Epoch 19/30\n",
            "60000/60000 [==============================] - 17s 282us/sample - loss: 0.2240 - val_loss: 0.3414\n",
            "Epoch 20/30\n",
            "60000/60000 [==============================] - 17s 282us/sample - loss: 0.2187 - val_loss: 0.3332\n",
            "Epoch 21/30\n",
            "60000/60000 [==============================] - 17s 282us/sample - loss: 0.2133 - val_loss: 0.3280\n",
            "Epoch 22/30\n",
            "60000/60000 [==============================] - 17s 282us/sample - loss: 0.2082 - val_loss: 0.3224\n",
            "Epoch 23/30\n",
            "60000/60000 [==============================] - 17s 282us/sample - loss: 0.2040 - val_loss: 0.3161\n",
            "Epoch 24/30\n",
            "60000/60000 [==============================] - 17s 282us/sample - loss: 0.1990 - val_loss: 0.3128\n",
            "Epoch 25/30\n",
            "60000/60000 [==============================] - 17s 285us/sample - loss: 0.1948 - val_loss: 0.3109\n",
            "Epoch 26/30\n",
            "60000/60000 [==============================] - 17s 285us/sample - loss: 0.1913 - val_loss: 0.3024\n",
            "Epoch 27/30\n",
            "60000/60000 [==============================] - 17s 282us/sample - loss: 0.1877 - val_loss: 0.2990\n",
            "Epoch 28/30\n",
            "60000/60000 [==============================] - 17s 282us/sample - loss: 0.1845 - val_loss: 0.2939\n",
            "Epoch 29/30\n",
            "60000/60000 [==============================] - 17s 284us/sample - loss: 0.1817 - val_loss: 0.2920\n",
            "Epoch 30/30\n",
            "60000/60000 [==============================] - 17s 283us/sample - loss: 0.1782 - val_loss: 0.2855\n"
          ],
          "name": "stdout"
        },
        {
          "output_type": "display_data",
          "data": {
            "image/png": "[encoded data removed]",
            "text/plain": [
              "<Figure size 432x288 with 1 Axes>"
            ]
          },
          "metadata": {
            "tags": []
          }
        },
        {
          "output_type": "stream",
          "text": [
            "Средняя ошибка:  106615.0\n",
            "Средняя цена:  530277.0\n",
            "Процент ошибки: 20.0%\n"
          ],
          "name": "stdout"
        }
      ]
    },
    {
      "cell_type": "markdown",
      "metadata": {
        "id": "XzG2SdanPh06",
        "colab_type": "text"
      },
      "source": [
        "**ВЫВОД** функция elu не подходит для обучения данной НС.Процент ошибки увеличился: 20.0%"
      ]
    },
    {
      "cell_type": "markdown",
      "metadata": {
        "id": "DuDh8OdDFGEI",
        "colab_type": "text"
      },
      "source": [
        "**4.4** меняем активационную функцию linear"
      ]
    },
    {
      "cell_type": "code",
      "metadata": {
        "id": "Aucr8vjoFRi1",
        "colab_type": "code",
        "colab": {
          "base_uri": "https://localhost:8080/",
          "height": 1000
        },
        "outputId": "2770ea30-6d36-4bfe-a520-4e9d776f7f79"
      },
      "source": [
        "#Создаём сеть \n",
        "model = Sequential()\n",
        "model.add(Dense(2500, activation='linear', input_shape=(x_train.shape[1],)))\n",
        "model.add(Dense(2500, activation='linear'))\n",
        "model.add(Dense(1, activation='linear'))\n",
        "\n",
        "#Указываем прямо шаг обучения - 1е-6\n",
        "model.compile(optimizer=Adam(lr=0.000001), loss='mse')\n",
        "\n",
        "#60000 примеров будет в обучающей выборке\n",
        "n_val = 60000\n",
        "history = model.fit(x_train[:n_val], \n",
        "                    y_train_scaled[:n_val],\n",
        "                    batch_size=20,\n",
        "                    epochs=30, \n",
        "                    validation_data=(x_train[n_val:], y_train_scaled[n_val:]), \n",
        "                    verbose=1)\n",
        "\n",
        "#Отображаем графики ошибки обучения на всех эпохах\n",
        "#Один по обучающей выборке, второй по проверочной\n",
        "plt.plot(history.history['loss'], label='Ошибка на обучающем наборе')\n",
        "plt.plot(history.history['val_loss'], label='Ошибка на проверочном наборе')\n",
        "plt.xlabel('Эпоха обучения')\n",
        "plt.ylabel('MSE')\n",
        "plt.legend()\n",
        "plt.show()\n",
        "\n",
        "#Предсказываем проверочную выборку\n",
        "predict = model.predict(x_train[n_val:])\n",
        "#Меняем масштаб обратно от нормированного к оригинальному\n",
        "predict = y_scaler.inverse_transform(predict).flatten()\n",
        "\n",
        "#Считаем ошибку и модуль ошибки прогнозирования по всем примерам\n",
        "delta = predict - y_train[n_val:]\n",
        "abs_delta = abs(delta)\n",
        "\n",
        "#Считаем среднюю цену, среднюю ошибку и средни процени ошибки\n",
        "#Выводим на экран\n",
        "mean_delta = sum(abs_delta)/len(abs_delta)\n",
        "mean_price = sum(y_train[n_val:])/len(y_train[n_val:])\n",
        "print(\"Средняя ошибка: \", round(mean_delta))\n",
        "print(\"Средняя цена: \", round(mean_price))\n",
        "print(\"Процент ошибки: \", round(100*mean_delta / mean_price), \"%\", sep=\"\")"
      ],
      "execution_count": 28,
      "outputs": [
        {
          "output_type": "stream",
          "text": [
            "Train on 60000 samples, validate on 10119 samples\n",
            "Epoch 1/30\n",
            "60000/60000 [==============================] - 18s 300us/sample - loss: 0.4831 - val_loss: 0.5377\n",
            "Epoch 2/30\n",
            "60000/60000 [==============================] - 17s 286us/sample - loss: 0.4002 - val_loss: 0.5112\n",
            "Epoch 3/30\n",
            "60000/60000 [==============================] - 17s 284us/sample - loss: 0.3810 - val_loss: 0.4957\n",
            "Epoch 4/30\n",
            "60000/60000 [==============================] - 17s 285us/sample - loss: 0.3675 - val_loss: 0.4836\n",
            "Epoch 5/30\n",
            "60000/60000 [==============================] - 17s 285us/sample - loss: 0.3551 - val_loss: 0.4724\n",
            "Epoch 6/30\n",
            "60000/60000 [==============================] - 17s 284us/sample - loss: 0.3433 - val_loss: 0.4655\n",
            "Epoch 7/30\n",
            "60000/60000 [==============================] - 17s 283us/sample - loss: 0.3339 - val_loss: 0.4533\n",
            "Epoch 8/30\n",
            "60000/60000 [==============================] - 17s 282us/sample - loss: 0.3251 - val_loss: 0.4453\n",
            "Epoch 9/30\n",
            "60000/60000 [==============================] - 17s 284us/sample - loss: 0.3159 - val_loss: 0.4375\n",
            "Epoch 10/30\n",
            "60000/60000 [==============================] - 17s 285us/sample - loss: 0.3079 - val_loss: 0.4295\n",
            "Epoch 11/30\n",
            "60000/60000 [==============================] - 17s 282us/sample - loss: 0.2998 - val_loss: 0.4222\n",
            "Epoch 12/30\n",
            "60000/60000 [==============================] - 17s 282us/sample - loss: 0.2915 - val_loss: 0.4183\n",
            "Epoch 13/30\n",
            "60000/60000 [==============================] - 17s 284us/sample - loss: 0.2857 - val_loss: 0.4076\n",
            "Epoch 14/30\n",
            "60000/60000 [==============================] - 17s 283us/sample - loss: 0.2786 - val_loss: 0.4033\n",
            "Epoch 15/30\n",
            "60000/60000 [==============================] - 17s 283us/sample - loss: 0.2727 - val_loss: 0.3957\n",
            "Epoch 16/30\n",
            "60000/60000 [==============================] - 17s 281us/sample - loss: 0.2664 - val_loss: 0.3929\n",
            "Epoch 17/30\n",
            "60000/60000 [==============================] - 17s 283us/sample - loss: 0.2607 - val_loss: 0.3861\n",
            "Epoch 18/30\n",
            "60000/60000 [==============================] - 17s 282us/sample - loss: 0.2557 - val_loss: 0.3806\n",
            "Epoch 19/30\n",
            "60000/60000 [==============================] - 17s 283us/sample - loss: 0.2507 - val_loss: 0.3754\n",
            "Epoch 20/30\n",
            "60000/60000 [==============================] - 17s 282us/sample - loss: 0.2460 - val_loss: 0.3718\n",
            "Epoch 21/30\n",
            "60000/60000 [==============================] - 17s 281us/sample - loss: 0.2413 - val_loss: 0.3682\n",
            "Epoch 22/30\n",
            "60000/60000 [==============================] - 17s 282us/sample - loss: 0.2379 - val_loss: 0.3613\n",
            "Epoch 23/30\n",
            "60000/60000 [==============================] - 17s 282us/sample - loss: 0.2329 - val_loss: 0.3606\n",
            "Epoch 24/30\n",
            "60000/60000 [==============================] - 17s 281us/sample - loss: 0.2304 - val_loss: 0.3585\n",
            "Epoch 25/30\n",
            "60000/60000 [==============================] - 17s 281us/sample - loss: 0.2268 - val_loss: 0.3507\n",
            "Epoch 26/30\n",
            "60000/60000 [==============================] - 17s 281us/sample - loss: 0.2235 - val_loss: 0.3483\n",
            "Epoch 27/30\n",
            "60000/60000 [==============================] - 17s 282us/sample - loss: 0.2209 - val_loss: 0.3441\n",
            "Epoch 28/30\n",
            "60000/60000 [==============================] - 17s 285us/sample - loss: 0.2183 - val_loss: 0.3413\n",
            "Epoch 29/30\n",
            "60000/60000 [==============================] - 17s 282us/sample - loss: 0.2152 - val_loss: 0.3392\n",
            "Epoch 30/30\n",
            "60000/60000 [==============================] - 17s 281us/sample - loss: 0.2130 - val_loss: 0.3366\n"
          ],
          "name": "stdout"
        },
        {
          "output_type": "display_data",
          "data": {
            "image/png": "[encoded data removed]",
            "text/plain": [
              "<Figure size 432x288 with 1 Axes>"
            ]
          },
          "metadata": {
            "tags": []
          }
        },
        {
          "output_type": "stream",
          "text": [
            "Средняя ошибка:  118470.0\n",
            "Средняя цена:  530277.0\n",
            "Процент ошибки: 22.0%\n"
          ],
          "name": "stdout"
        }
      ]
    },
    {
      "cell_type": "markdown",
      "metadata": {
        "id": "z0DPSXLGPkpy",
        "colab_type": "text"
      },
      "source": [
        "**ВЫВОД**  функция linear не подходит данной НС.Процент ошибки: 22.0%"
      ]
    },
    {
      "cell_type": "markdown",
      "metadata": {
        "id": "33k-dpgBFeU7",
        "colab_type": "text"
      },
      "source": [
        "**4.5** меняем активационную функцию sigmoid"
      ]
    },
    {
      "cell_type": "code",
      "metadata": {
        "id": "W8sgAl2ZFoXx",
        "colab_type": "code",
        "colab": {
          "base_uri": "https://localhost:8080/",
          "height": 1000
        },
        "outputId": "67675a91-cd7e-4df6-e855-7a11fd9837a7"
      },
      "source": [
        "#Создаём сеть \n",
        "model = Sequential()\n",
        "model.add(Dense(2500, activation='sigmoid', input_shape=(x_train.shape[1],)))\n",
        "model.add(Dense(2500, activation='sigmoid'))\n",
        "model.add(Dense(1, activation='linear'))\n",
        "\n",
        "#Указываем прямо шаг обучения - 1е-6\n",
        "model.compile(optimizer=Adam(lr=0.000001), loss='mse')\n",
        "\n",
        "#60000 примеров будет в обучающей выборке\n",
        "n_val = 60000\n",
        "history = model.fit(x_train[:n_val], \n",
        "                    y_train_scaled[:n_val],\n",
        "                    batch_size=20,\n",
        "                    epochs=30, \n",
        "                    validation_data=(x_train[n_val:], y_train_scaled[n_val:]), \n",
        "                    verbose=1)\n",
        "\n",
        "#Отображаем графики ошибки обучения на всех эпохах\n",
        "#Один по обучающей выборке, второй по проверочной\n",
        "plt.plot(history.history['loss'], label='Ошибка на обучающем наборе')\n",
        "plt.plot(history.history['val_loss'], label='Ошибка на проверочном наборе')\n",
        "plt.xlabel('Эпоха обучения')\n",
        "plt.ylabel('MSE')\n",
        "plt.legend()\n",
        "plt.show()\n",
        "\n",
        "#Предсказываем проверочную выборку\n",
        "predict = model.predict(x_train[n_val:])\n",
        "#Меняем масштаб обратно от нормированного к оригинальному\n",
        "predict = y_scaler.inverse_transform(predict).flatten()\n",
        "\n",
        "#Считаем ошибку и модуль ошибки прогнозирования по всем примерам\n",
        "delta = predict - y_train[n_val:]\n",
        "abs_delta = abs(delta)\n",
        "\n",
        "#Считаем среднюю цену, среднюю ошибку и средни процени ошибки\n",
        "#Выводим на экран\n",
        "mean_delta = sum(abs_delta)/len(abs_delta)\n",
        "mean_price = sum(y_train[n_val:])/len(y_train[n_val:])\n",
        "print(\"Средняя ошибка: \", round(mean_delta))\n",
        "print(\"Средняя цена: \", round(mean_price))\n",
        "print(\"Процент ошибки: \", round(100*mean_delta / mean_price), \"%\", sep=\"\")"
      ],
      "execution_count": 25,
      "outputs": [
        {
          "output_type": "stream",
          "text": [
            "Train on 60000 samples, validate on 10119 samples\n",
            "Epoch 1/30\n",
            "60000/60000 [==============================] - 20s 334us/sample - loss: 0.6569 - val_loss: 0.5361\n",
            "Epoch 2/30\n",
            "60000/60000 [==============================] - 19s 321us/sample - loss: 0.5951 - val_loss: 0.5077\n",
            "Epoch 3/30\n",
            "60000/60000 [==============================] - 19s 321us/sample - loss: 0.5795 - val_loss: 0.4878\n",
            "Epoch 4/30\n",
            "60000/60000 [==============================] - 19s 320us/sample - loss: 0.5565 - val_loss: 0.4696\n",
            "Epoch 5/30\n",
            "60000/60000 [==============================] - 19s 322us/sample - loss: 0.5443 - val_loss: 0.4500\n",
            "Epoch 6/30\n",
            "60000/60000 [==============================] - 19s 320us/sample - loss: 0.5261 - val_loss: 0.4344\n",
            "Epoch 7/30\n",
            "60000/60000 [==============================] - 20s 326us/sample - loss: 0.5148 - val_loss: 0.4216\n",
            "Epoch 8/30\n",
            "60000/60000 [==============================] - 19s 323us/sample - loss: 0.4990 - val_loss: 0.4065\n",
            "Epoch 9/30\n",
            "60000/60000 [==============================] - 20s 328us/sample - loss: 0.4874 - val_loss: 0.3936\n",
            "Epoch 10/30\n",
            "60000/60000 [==============================] - 19s 320us/sample - loss: 0.4743 - val_loss: 0.3823\n",
            "Epoch 11/30\n",
            "60000/60000 [==============================] - 19s 319us/sample - loss: 0.4626 - val_loss: 0.3798\n",
            "Epoch 12/30\n",
            "60000/60000 [==============================] - 19s 321us/sample - loss: 0.4553 - val_loss: 0.3633\n",
            "Epoch 13/30\n",
            "60000/60000 [==============================] - 19s 324us/sample - loss: 0.4483 - val_loss: 0.3542\n",
            "Epoch 14/30\n",
            "60000/60000 [==============================] - 19s 323us/sample - loss: 0.4388 - val_loss: 0.3469\n",
            "Epoch 15/30\n",
            "60000/60000 [==============================] - 19s 321us/sample - loss: 0.4260 - val_loss: 0.3384\n",
            "Epoch 16/30\n",
            "60000/60000 [==============================] - 19s 321us/sample - loss: 0.4244 - val_loss: 0.3345\n",
            "Epoch 17/30\n",
            "60000/60000 [==============================] - 19s 323us/sample - loss: 0.4155 - val_loss: 0.3308\n",
            "Epoch 18/30\n",
            "60000/60000 [==============================] - 19s 318us/sample - loss: 0.4117 - val_loss: 0.3236\n",
            "Epoch 19/30\n",
            "60000/60000 [==============================] - 19s 323us/sample - loss: 0.4103 - val_loss: 0.3160\n",
            "Epoch 20/30\n",
            "60000/60000 [==============================] - 19s 320us/sample - loss: 0.3995 - val_loss: 0.3112\n",
            "Epoch 21/30\n",
            "60000/60000 [==============================] - 19s 322us/sample - loss: 0.3971 - val_loss: 0.3082\n",
            "Epoch 22/30\n",
            "60000/60000 [==============================] - 19s 323us/sample - loss: 0.3942 - val_loss: 0.3044\n",
            "Epoch 23/30\n",
            "60000/60000 [==============================] - 19s 324us/sample - loss: 0.3889 - val_loss: 0.2992\n",
            "Epoch 24/30\n",
            "60000/60000 [==============================] - 19s 321us/sample - loss: 0.3884 - val_loss: 0.2970\n",
            "Epoch 25/30\n",
            "60000/60000 [==============================] - 20s 326us/sample - loss: 0.3823 - val_loss: 0.2925\n",
            "Epoch 26/30\n",
            "60000/60000 [==============================] - 19s 322us/sample - loss: 0.3781 - val_loss: 0.2912\n",
            "Epoch 27/30\n",
            "60000/60000 [==============================] - 19s 319us/sample - loss: 0.3739 - val_loss: 0.2895\n",
            "Epoch 28/30\n",
            "60000/60000 [==============================] - 19s 324us/sample - loss: 0.3738 - val_loss: 0.2842\n",
            "Epoch 29/30\n",
            "60000/60000 [==============================] - 19s 321us/sample - loss: 0.3702 - val_loss: 0.2817\n",
            "Epoch 30/30\n",
            "60000/60000 [==============================] - 19s 322us/sample - loss: 0.3651 - val_loss: 0.2792\n"
          ],
          "name": "stdout"
        },
        {
          "output_type": "display_data",
          "data": {
            "image/png": "[encoded data removed]",
            "text/plain": [
              "<Figure size 432x288 with 1 Axes>"
            ]
          },
          "metadata": {
            "tags": []
          }
        },
        {
          "output_type": "stream",
          "text": [
            "Средняя ошибка:  109721.0\n",
            "Средняя цена:  530277.0\n",
            "Процент ошибки: 21.0%\n"
          ],
          "name": "stdout"
        }
      ]
    },
    {
      "cell_type": "markdown",
      "metadata": {
        "id": "EbHIJF2qPoWa",
        "colab_type": "text"
      },
      "source": [
        "**ВЫВОД** функция sigmoid неподходит для качественного обучения НС. Процент ошибки: 21.0% Общий вывод активационная функция Relu оптимальна для задачи определения цены машин."
      ]
    },
    {
      "cell_type": "markdown",
      "metadata": {
        "id": "6kMwn4LtFo99",
        "colab_type": "text"
      },
      "source": [
        "**4.6** меняем шаг обучения"
      ]
    },
    {
      "cell_type": "code",
      "metadata": {
        "id": "B5CHavhGF5-T",
        "colab_type": "code",
        "colab": {
          "base_uri": "https://localhost:8080/",
          "height": 1000
        },
        "outputId": "1bea52b1-15d9-4a97-c76b-2b13e65cbfc8"
      },
      "source": [
        "#Создаём сеть \n",
        "model = Sequential()\n",
        "model.add(Dense(2500, activation='relu', input_shape=(x_train.shape[1],)))\n",
        "model.add(Dense(2500, activation='relu'))\n",
        "model.add(Dense(1, activation='linear'))\n",
        "\n",
        "#Указываем прямо шаг обучения - 1е-3\n",
        "model.compile(optimizer=Adam(lr=0.001), loss='mse')\n",
        "\n",
        "#60000 примеров будет в обучающей выборке\n",
        "n_val = 60000\n",
        "history = model.fit(x_train[:n_val], \n",
        "                    y_train_scaled[:n_val],\n",
        "                    batch_size=20,\n",
        "                    epochs=30, \n",
        "                    validation_data=(x_train[n_val:], y_train_scaled[n_val:]), \n",
        "                    verbose=1)\n",
        "\n",
        "#Отображаем графики ошибки обучения на всех эпохах\n",
        "#Один по обучающей выборке, второй по проверочной\n",
        "plt.plot(history.history['loss'], label='Ошибка на обучающем наборе')\n",
        "plt.plot(history.history['val_loss'], label='Ошибка на проверочном наборе')\n",
        "plt.xlabel('Эпоха обучения')\n",
        "plt.ylabel('MSE')\n",
        "plt.legend()\n",
        "plt.show()\n",
        "\n",
        "#Предсказываем проверочную выборку\n",
        "predict = model.predict(x_train[n_val:])\n",
        "#Меняем масштаб обратно от нормированного к оригинальному\n",
        "predict = y_scaler.inverse_transform(predict).flatten()\n",
        "\n",
        "#Считаем ошибку и модуль ошибки прогнозирования по всем примерам\n",
        "delta = predict - y_train[n_val:]\n",
        "abs_delta = abs(delta)\n",
        "\n",
        "#Считаем среднюю цену, среднюю ошибку и средни процени ошибки\n",
        "#Выводим на экран\n",
        "mean_delta = sum(abs_delta)/len(abs_delta)\n",
        "mean_price = sum(y_train[n_val:])/len(y_train[n_val:])\n",
        "print(\"Средняя ошибка: \", round(mean_delta))\n",
        "print(\"Средняя цена: \", round(mean_price))\n",
        "print(\"Процент ошибки: \", round(100*mean_delta / mean_price), \"%\", sep=\"\")"
      ],
      "execution_count": 29,
      "outputs": [
        {
          "output_type": "stream",
          "text": [
            "Train on 60000 samples, validate on 10119 samples\n",
            "Epoch 1/30\n",
            "60000/60000 [==============================] - 19s 323us/sample - loss: 0.1949 - val_loss: 0.1933\n",
            "Epoch 2/30\n",
            "60000/60000 [==============================] - 18s 298us/sample - loss: 0.1195 - val_loss: 0.1869\n",
            "Epoch 3/30\n",
            "60000/60000 [==============================] - 18s 298us/sample - loss: 0.1161 - val_loss: 0.1488\n",
            "Epoch 4/30\n",
            "60000/60000 [==============================] - 18s 297us/sample - loss: 0.0979 - val_loss: 0.1723\n",
            "Epoch 5/30\n",
            "60000/60000 [==============================] - 18s 297us/sample - loss: 0.0845 - val_loss: 0.1380\n",
            "Epoch 6/30\n",
            "60000/60000 [==============================] - 18s 296us/sample - loss: 0.0842 - val_loss: 0.1250\n",
            "Epoch 7/30\n",
            "60000/60000 [==============================] - 18s 295us/sample - loss: 0.0763 - val_loss: 0.1489\n",
            "Epoch 8/30\n",
            "60000/60000 [==============================] - 17s 291us/sample - loss: 0.0694 - val_loss: 0.2507\n",
            "Epoch 9/30\n",
            "60000/60000 [==============================] - 17s 290us/sample - loss: 0.0726 - val_loss: 0.1311\n",
            "Epoch 10/30\n",
            "60000/60000 [==============================] - 17s 290us/sample - loss: 0.0684 - val_loss: 0.1028\n",
            "Epoch 11/30\n",
            "60000/60000 [==============================] - 17s 288us/sample - loss: 0.0631 - val_loss: 0.1012\n",
            "Epoch 12/30\n",
            "60000/60000 [==============================] - 17s 288us/sample - loss: 0.0576 - val_loss: 0.1275\n",
            "Epoch 13/30\n",
            "60000/60000 [==============================] - 17s 286us/sample - loss: 0.0530 - val_loss: 0.1044\n",
            "Epoch 14/30\n",
            "60000/60000 [==============================] - 17s 286us/sample - loss: 0.0501 - val_loss: 0.5881\n",
            "Epoch 15/30\n",
            "60000/60000 [==============================] - 17s 285us/sample - loss: 0.0510 - val_loss: 0.0943\n",
            "Epoch 16/30\n",
            "60000/60000 [==============================] - 17s 285us/sample - loss: 0.0455 - val_loss: 0.4551\n",
            "Epoch 17/30\n",
            "60000/60000 [==============================] - 17s 289us/sample - loss: 0.0467 - val_loss: 0.1136\n",
            "Epoch 18/30\n",
            "60000/60000 [==============================] - 17s 287us/sample - loss: 0.0462 - val_loss: 0.1038\n",
            "Epoch 19/30\n",
            "60000/60000 [==============================] - 18s 294us/sample - loss: 0.0483 - val_loss: 0.1187\n",
            "Epoch 20/30\n",
            "60000/60000 [==============================] - 17s 291us/sample - loss: 0.0422 - val_loss: 0.1141\n",
            "Epoch 21/30\n",
            "60000/60000 [==============================] - 18s 293us/sample - loss: 0.0539 - val_loss: 0.1706\n",
            "Epoch 22/30\n",
            "60000/60000 [==============================] - 17s 290us/sample - loss: 0.0429 - val_loss: 0.0985\n",
            "Epoch 23/30\n",
            "60000/60000 [==============================] - 17s 288us/sample - loss: 0.0425 - val_loss: 0.1022\n",
            "Epoch 24/30\n",
            "60000/60000 [==============================] - 17s 289us/sample - loss: 0.0458 - val_loss: 0.0985\n",
            "Epoch 25/30\n",
            "60000/60000 [==============================] - 18s 292us/sample - loss: 0.0449 - val_loss: 0.0992\n",
            "Epoch 26/30\n",
            "60000/60000 [==============================] - 17s 291us/sample - loss: 0.0426 - val_loss: 0.1049\n",
            "Epoch 27/30\n",
            "60000/60000 [==============================] - 17s 292us/sample - loss: 0.0431 - val_loss: 0.0991\n",
            "Epoch 28/30\n",
            "60000/60000 [==============================] - 17s 288us/sample - loss: 0.0390 - val_loss: 0.1820\n",
            "Epoch 29/30\n",
            "60000/60000 [==============================] - 17s 285us/sample - loss: 0.0452 - val_loss: 0.1040\n",
            "Epoch 30/30\n",
            "60000/60000 [==============================] - 17s 287us/sample - loss: 0.0439 - val_loss: 0.0960\n"
          ],
          "name": "stdout"
        },
        {
          "output_type": "display_data",
          "data": {
            "image/png": "[encoded data removed]",
            "text/plain": [
              "<Figure size 432x288 with 1 Axes>"
            ]
          },
          "metadata": {
            "tags": []
          }
        },
        {
          "output_type": "stream",
          "text": [
            "Средняя ошибка:  71090.0\n",
            "Средняя цена:  530277.0\n",
            "Процент ошибки: 13.0%\n"
          ],
          "name": "stdout"
        }
      ]
    },
    {
      "cell_type": "markdown",
      "metadata": {
        "id": "PRTMCIttPqs4",
        "colab_type": "text"
      },
      "source": [
        "**ВЫВОД** шаг обучения увеличен и это привело к нестабильной работе обученной сетки."
      ]
    },
    {
      "cell_type": "markdown",
      "metadata": {
        "id": "Gi8sQIUeF6r6",
        "colab_type": "text"
      },
      "source": [
        "**4.7** меняем размер батча."
      ]
    },
    {
      "cell_type": "code",
      "metadata": {
        "id": "Kkv92AbBGF5c",
        "colab_type": "code",
        "colab": {
          "base_uri": "https://localhost:8080/",
          "height": 1000
        },
        "outputId": "20faac0a-13c8-4f06-9f38-337eb627e306"
      },
      "source": [
        "#Создаём сеть \n",
        "model = Sequential()\n",
        "model.add(Dense(2500, activation='relu', input_shape=(x_train.shape[1],)))\n",
        "model.add(Dense(2500, activation='relu'))\n",
        "model.add(Dense(1, activation='linear'))\n",
        "\n",
        "#Указываем прямо шаг обучения - 1е-6\n",
        "model.compile(optimizer=Adam(lr=0.000001), loss='mse')\n",
        "\n",
        "#60000 примеров будет в обучающей выборке\n",
        "n_val = 60000\n",
        "history = model.fit(x_train[:n_val], \n",
        "                    y_train_scaled[:n_val],\n",
        "                    batch_size=40,\n",
        "                    epochs=20, \n",
        "                    validation_data=(x_train[n_val:], y_train_scaled[n_val:]), \n",
        "                    verbose=1)\n",
        "\n",
        "#Отображаем графики ошибки обучения на всех эпохах\n",
        "#Один по обучающей выборке, второй по проверочной\n",
        "plt.plot(history.history['loss'], label='Ошибка на обучающем наборе')\n",
        "plt.plot(history.history['val_loss'], label='Ошибка на проверочном наборе')\n",
        "plt.xlabel('Эпоха обучения')\n",
        "plt.ylabel('MSE')\n",
        "plt.legend()\n",
        "plt.show()\n",
        "\n",
        "#Предсказываем проверочную выборку\n",
        "predict = model.predict(x_train[n_val:])\n",
        "#Меняем масштаб обратно от нормированного к оригинальному\n",
        "predict = y_scaler.inverse_transform(predict).flatten()\n",
        "\n",
        "#Считаем ошибку и модуль ошибки прогнозирования по всем примерам\n",
        "delta = predict - y_train[n_val:]\n",
        "abs_delta = abs(delta)\n",
        "\n",
        "#Считаем среднюю цену, среднюю ошибку и средни процени ошибки\n",
        "#Выводим на экран\n",
        "mean_delta = sum(abs_delta)/len(abs_delta)\n",
        "mean_price = sum(y_train[n_val:])/len(y_train[n_val:])\n",
        "print(\"Средняя ошибка: \", round(mean_delta))\n",
        "print(\"Средняя цена: \", round(mean_price))\n",
        "print(\"Процент ошибки: \", round(100*mean_delta / mean_price), \"%\", sep=\"\")"
      ],
      "execution_count": 30,
      "outputs": [
        {
          "output_type": "stream",
          "text": [
            "Train on 60000 samples, validate on 10119 samples\n",
            "Epoch 1/20\n",
            "60000/60000 [==============================] - 11s 175us/sample - loss: 0.6254 - val_loss: 0.5728\n",
            "Epoch 2/20\n",
            "60000/60000 [==============================] - 9s 158us/sample - loss: 0.3769 - val_loss: 0.4494\n",
            "Epoch 3/20\n",
            "60000/60000 [==============================] - 9s 158us/sample - loss: 0.3020 - val_loss: 0.3916\n",
            "Epoch 4/20\n",
            "60000/60000 [==============================] - 10s 160us/sample - loss: 0.2655 - val_loss: 0.3597\n",
            "Epoch 5/20\n",
            "60000/60000 [==============================] - 9s 157us/sample - loss: 0.2427 - val_loss: 0.3373\n",
            "Epoch 6/20\n",
            "60000/60000 [==============================] - 9s 157us/sample - loss: 0.2260 - val_loss: 0.3201\n",
            "Epoch 7/20\n",
            "60000/60000 [==============================] - 10s 159us/sample - loss: 0.2128 - val_loss: 0.3058\n",
            "Epoch 8/20\n",
            "60000/60000 [==============================] - 9s 157us/sample - loss: 0.2023 - val_loss: 0.2946\n",
            "Epoch 9/20\n",
            "60000/60000 [==============================] - 10s 158us/sample - loss: 0.1934 - val_loss: 0.2848\n",
            "Epoch 10/20\n",
            "60000/60000 [==============================] - 10s 162us/sample - loss: 0.1858 - val_loss: 0.2763\n",
            "Epoch 11/20\n",
            "60000/60000 [==============================] - 9s 157us/sample - loss: 0.1793 - val_loss: 0.2686\n",
            "Epoch 12/20\n",
            "60000/60000 [==============================] - 9s 157us/sample - loss: 0.1734 - val_loss: 0.2619\n",
            "Epoch 13/20\n",
            "60000/60000 [==============================] - 9s 157us/sample - loss: 0.1681 - val_loss: 0.2579\n",
            "Epoch 14/20\n",
            "60000/60000 [==============================] - 9s 156us/sample - loss: 0.1636 - val_loss: 0.2522\n",
            "Epoch 15/20\n",
            "60000/60000 [==============================] - 9s 158us/sample - loss: 0.1598 - val_loss: 0.2456\n",
            "Epoch 16/20\n",
            "60000/60000 [==============================] - 9s 157us/sample - loss: 0.1559 - val_loss: 0.2417\n",
            "Epoch 17/20\n",
            "60000/60000 [==============================] - 9s 157us/sample - loss: 0.1524 - val_loss: 0.2372\n",
            "Epoch 18/20\n",
            "60000/60000 [==============================] - 9s 156us/sample - loss: 0.1492 - val_loss: 0.2337\n",
            "Epoch 19/20\n",
            "60000/60000 [==============================] - 9s 155us/sample - loss: 0.1461 - val_loss: 0.2290\n",
            "Epoch 20/20\n",
            "60000/60000 [==============================] - 9s 157us/sample - loss: 0.1434 - val_loss: 0.2261\n"
          ],
          "name": "stdout"
        },
        {
          "output_type": "display_data",
          "data": {
            "image/png": "[encoded data removed]",
            "text/plain": [
              "<Figure size 432x288 with 1 Axes>"
            ]
          },
          "metadata": {
            "tags": []
          }
        },
        {
          "output_type": "stream",
          "text": [
            "Средняя ошибка:  79583.0\n",
            "Средняя цена:  530277.0\n",
            "Процент ошибки: 15.0%\n"
          ],
          "name": "stdout"
        }
      ]
    },
    {
      "cell_type": "code",
      "metadata": {
        "id": "Wp-JdC3J3TPA",
        "colab_type": "code",
        "colab": {
          "base_uri": "https://localhost:8080/",
          "height": 706
        },
        "outputId": "405890c3-50f6-4b0d-cdc9-98d2935cb1b5"
      },
      "source": [
        "#Дообчаем эту сетку еще 10 эпох.\n",
        "model.compile(optimizer=Adam(lr=0.000001), loss='mse')\n",
        "history = model.fit(x_train[:n_val], \n",
        "                    y_train_scaled[:n_val],\n",
        "                    batch_size=40,\n",
        "                    epochs=10, \n",
        "                    validation_data=(x_train[n_val:], y_train_scaled[n_val:]), \n",
        "                    verbose=2)\n",
        "\n",
        "plt.plot(history.history['loss'], label='Ошибка на обучающем наборе')\n",
        "plt.plot(history.history['val_loss'], label='Ошибка на проверочном наборе')\n",
        "plt.xlabel('Эпоха обучения')\n",
        "plt.ylabel('MSE')\n",
        "plt.legend()\n",
        "plt.show()\n",
        "\n",
        "predict = model.predict(x_train[n_val:])\n",
        "predict = y_scaler.inverse_transform(predict).flatten()\n",
        "delta = predict - y_train[n_val:]\n",
        "abs_delta = abs(delta)\n",
        "\n",
        "mean_delta = sum(abs_delta)/len(abs_delta)\n",
        "mean_price = sum(y_train[n_val:])/len(y_train[n_val:])\n",
        "print(\"Средняя ошибка: \", round(mean_delta))\n",
        "print(\"Средняя цена: \", round(mean_price))\n",
        "print(\"Процент ошибки: \", round(100*mean_delta / mean_price), \"%\", sep=\"\")"
      ],
      "execution_count": 32,
      "outputs": [
        {
          "output_type": "stream",
          "text": [
            "Train on 60000 samples, validate on 10119 samples\n",
            "Epoch 1/10\n",
            "60000/60000 - 10s - loss: 0.1371 - val_loss: 0.2184\n",
            "Epoch 2/10\n",
            "60000/60000 - 9s - loss: 0.1347 - val_loss: 0.2152\n",
            "Epoch 3/10\n",
            "60000/60000 - 9s - loss: 0.1325 - val_loss: 0.2137\n",
            "Epoch 4/10\n",
            "60000/60000 - 9s - loss: 0.1307 - val_loss: 0.2109\n",
            "Epoch 5/10\n",
            "60000/60000 - 9s - loss: 0.1289 - val_loss: 0.2081\n",
            "Epoch 6/10\n",
            "60000/60000 - 9s - loss: 0.1270 - val_loss: 0.2060\n",
            "Epoch 7/10\n",
            "60000/60000 - 9s - loss: 0.1252 - val_loss: 0.2032\n",
            "Epoch 8/10\n",
            "60000/60000 - 9s - loss: 0.1236 - val_loss: 0.2014\n",
            "Epoch 9/10\n",
            "60000/60000 - 9s - loss: 0.1219 - val_loss: 0.1994\n",
            "Epoch 10/10\n",
            "60000/60000 - 9s - loss: 0.1204 - val_loss: 0.1983\n"
          ],
          "name": "stdout"
        },
        {
          "output_type": "display_data",
          "data": {
            "image/png": "[encoded data removed]",
            "text/plain": [
              "<Figure size 432x288 with 1 Axes>"
            ]
          },
          "metadata": {
            "tags": []
          }
        },
        {
          "output_type": "stream",
          "text": [
            "Средняя ошибка:  73976.0\n",
            "Средняя цена:  530277.0\n",
            "Процент ошибки: 14.0%\n"
          ],
          "name": "stdout"
        }
      ]
    },
    {
      "cell_type": "markdown",
      "metadata": {
        "id": "MKOeYD6WPsyE",
        "colab_type": "text"
      },
      "source": [
        "**ВЫВОД** увеличение размера батча ухудшает об скорость обучения сетки.Требуется больше эпох."
      ]
    },
    {
      "cell_type": "markdown",
      "metadata": {
        "id": "EMWOk785GGnB",
        "colab_type": "text"
      },
      "source": [
        "**4.8**  меняем число нейронов НС, увеличиваем."
      ]
    },
    {
      "cell_type": "code",
      "metadata": {
        "id": "UsCw2nkzIURU",
        "colab_type": "code",
        "colab": {
          "base_uri": "https://localhost:8080/",
          "height": 1000
        },
        "outputId": "bcdb4907-1346-409d-bf5b-cea524f463f2"
      },
      "source": [
        "#Создаём сеть \n",
        "model = Sequential()\n",
        "model.add(Dense(4500, activation='relu', input_shape=(x_train.shape[1],)))\n",
        "model.add(Dense(3500, activation='relu'))\n",
        "model.add(Dense(1, activation='linear'))\n",
        "\n",
        "#Указываем прямо шаг обучения - 1е-6\n",
        "model.compile(optimizer=Adam(lr=0.000001), loss='mse')\n",
        "\n",
        "#60000 примеров будет в обучающей выборке\n",
        "n_val = 60000\n",
        "history = model.fit(x_train[:n_val], \n",
        "                    y_train_scaled[:n_val],\n",
        "                    batch_size=20,\n",
        "                    epochs=30, \n",
        "                    validation_data=(x_train[n_val:], y_train_scaled[n_val:]), \n",
        "                    verbose=1)\n",
        "\n",
        "#Отображаем графики ошибки обучения на всех эпохах\n",
        "#Один по обучающей выборке, второй по проверочной\n",
        "plt.plot(history.history['loss'], label='Ошибка на обучающем наборе')\n",
        "plt.plot(history.history['val_loss'], label='Ошибка на проверочном наборе')\n",
        "plt.xlabel('Эпоха обучения')\n",
        "plt.ylabel('MSE')\n",
        "plt.legend()\n",
        "plt.show()\n",
        "\n",
        "#Предсказываем проверочную выборку\n",
        "predict = model.predict(x_train[n_val:])\n",
        "#Меняем масштаб обратно от нормированного к оригинальному\n",
        "predict = y_scaler.inverse_transform(predict).flatten()\n",
        "\n",
        "#Считаем ошибку и модуль ошибки прогнозирования по всем примерам\n",
        "delta = predict - y_train[n_val:]\n",
        "abs_delta = abs(delta)\n",
        "\n",
        "#Считаем среднюю цену, среднюю ошибку и средни процени ошибки\n",
        "#Выводим на экран\n",
        "mean_delta = sum(abs_delta)/len(abs_delta)\n",
        "mean_price = sum(y_train[n_val:])/len(y_train[n_val:])\n",
        "print(\"Средняя ошибка: \", round(mean_delta))\n",
        "print(\"Средняя цена: \", round(mean_price))\n",
        "print(\"Процент ошибки: \", round(100*mean_delta / mean_price), \"%\", sep=\"\")"
      ],
      "execution_count": 33,
      "outputs": [
        {
          "output_type": "stream",
          "text": [
            "Train on 60000 samples, validate on 10119 samples\n",
            "Epoch 1/30\n",
            "60000/60000 [==============================] - 30s 502us/sample - loss: 0.4604 - val_loss: 0.4227\n",
            "Epoch 2/30\n",
            "60000/60000 [==============================] - 29s 483us/sample - loss: 0.2668 - val_loss: 0.3455\n",
            "Epoch 3/30\n",
            "60000/60000 [==============================] - 29s 479us/sample - loss: 0.2241 - val_loss: 0.3095\n",
            "Epoch 4/30\n",
            "60000/60000 [==============================] - 29s 480us/sample - loss: 0.1998 - val_loss: 0.2877\n",
            "Epoch 5/30\n",
            "60000/60000 [==============================] - 29s 480us/sample - loss: 0.1838 - val_loss: 0.2693\n",
            "Epoch 6/30\n",
            "60000/60000 [==============================] - 29s 480us/sample - loss: 0.1716 - val_loss: 0.2600\n",
            "Epoch 7/30\n",
            "60000/60000 [==============================] - 29s 479us/sample - loss: 0.1631 - val_loss: 0.2472\n",
            "Epoch 8/30\n",
            "60000/60000 [==============================] - 29s 480us/sample - loss: 0.1554 - val_loss: 0.2380\n",
            "Epoch 9/30\n",
            "60000/60000 [==============================] - 29s 488us/sample - loss: 0.1488 - val_loss: 0.2325\n",
            "Epoch 10/30\n",
            "60000/60000 [==============================] - 29s 490us/sample - loss: 0.1438 - val_loss: 0.2251\n",
            "Epoch 11/30\n",
            "60000/60000 [==============================] - 29s 486us/sample - loss: 0.1392 - val_loss: 0.2199\n",
            "Epoch 12/30\n",
            "60000/60000 [==============================] - 29s 490us/sample - loss: 0.1346 - val_loss: 0.2136\n",
            "Epoch 13/30\n",
            "60000/60000 [==============================] - 29s 489us/sample - loss: 0.1307 - val_loss: 0.2105\n",
            "Epoch 14/30\n",
            "60000/60000 [==============================] - 30s 492us/sample - loss: 0.1272 - val_loss: 0.2051\n",
            "Epoch 15/30\n",
            "60000/60000 [==============================] - 30s 494us/sample - loss: 0.1238 - val_loss: 0.2005\n",
            "Epoch 16/30\n",
            "60000/60000 [==============================] - 30s 493us/sample - loss: 0.1213 - val_loss: 0.1975\n",
            "Epoch 17/30\n",
            "60000/60000 [==============================] - 29s 490us/sample - loss: 0.1183 - val_loss: 0.1963\n",
            "Epoch 18/30\n",
            "60000/60000 [==============================] - 29s 489us/sample - loss: 0.1155 - val_loss: 0.1933\n",
            "Epoch 19/30\n",
            "60000/60000 [==============================] - 29s 480us/sample - loss: 0.1134 - val_loss: 0.1880\n",
            "Epoch 20/30\n",
            "60000/60000 [==============================] - 29s 479us/sample - loss: 0.1109 - val_loss: 0.1851\n",
            "Epoch 21/30\n",
            "60000/60000 [==============================] - 29s 483us/sample - loss: 0.1086 - val_loss: 0.1862\n",
            "Epoch 22/30\n",
            "60000/60000 [==============================] - 29s 485us/sample - loss: 0.1070 - val_loss: 0.1815\n",
            "Epoch 23/30\n",
            "60000/60000 [==============================] - 29s 491us/sample - loss: 0.1048 - val_loss: 0.1783\n",
            "Epoch 24/30\n",
            "60000/60000 [==============================] - 29s 486us/sample - loss: 0.1028 - val_loss: 0.1784\n",
            "Epoch 25/30\n",
            "60000/60000 [==============================] - 30s 496us/sample - loss: 0.1013 - val_loss: 0.1736\n",
            "Epoch 26/30\n",
            "60000/60000 [==============================] - 30s 497us/sample - loss: 0.0992 - val_loss: 0.1715\n",
            "Epoch 27/30\n",
            "60000/60000 [==============================] - 30s 492us/sample - loss: 0.0977 - val_loss: 0.1709\n",
            "Epoch 28/30\n",
            "60000/60000 [==============================] - 29s 489us/sample - loss: 0.0960 - val_loss: 0.1693\n",
            "Epoch 29/30\n",
            "60000/60000 [==============================] - 30s 492us/sample - loss: 0.0946 - val_loss: 0.1667\n",
            "Epoch 30/30\n",
            "60000/60000 [==============================] - 30s 497us/sample - loss: 0.0932 - val_loss: 0.1648\n"
          ],
          "name": "stdout"
        },
        {
          "output_type": "display_data",
          "data": {
            "image/png": "[encoded data removed]",
            "text/plain": [
              "<Figure size 432x288 with 1 Axes>"
            ]
          },
          "metadata": {
            "tags": []
          }
        },
        {
          "output_type": "stream",
          "text": [
            "Средняя ошибка:  70669.0\n",
            "Средняя цена:  530277.0\n",
            "Процент ошибки: 13.0%\n"
          ],
          "name": "stdout"
        }
      ]
    },
    {
      "cell_type": "code",
      "metadata": {
        "id": "pLZRqTEU8u0U",
        "colab_type": "code",
        "colab": {
          "base_uri": "https://localhost:8080/",
          "height": 706
        },
        "outputId": "45b184d0-af46-4b5b-d53f-c248a1e11c22"
      },
      "source": [
        "#Дообучаем эту сетку еще 10 эпох.\n",
        "model.compile(optimizer=Adam(lr=0.000001), loss='mse')\n",
        "history = model.fit(x_train[:n_val], \n",
        "                    y_train_scaled[:n_val],\n",
        "                    batch_size=20,\n",
        "                    epochs=10, \n",
        "                    validation_data=(x_train[n_val:], y_train_scaled[n_val:]), \n",
        "                    verbose=2)\n",
        "\n",
        "plt.plot(history.history['loss'], label='Ошибка на обучающем наборе')\n",
        "plt.plot(history.history['val_loss'], label='Ошибка на проверочном наборе')\n",
        "plt.xlabel('Эпоха обучения')\n",
        "plt.ylabel('MSE')\n",
        "plt.legend()\n",
        "plt.show()\n",
        "\n",
        "predict = model.predict(x_train[n_val:])\n",
        "predict = y_scaler.inverse_transform(predict).flatten()\n",
        "delta = predict - y_train[n_val:]\n",
        "abs_delta = abs(delta)\n",
        "\n",
        "mean_delta = sum(abs_delta)/len(abs_delta)\n",
        "mean_price = sum(y_train[n_val:])/len(y_train[n_val:])\n",
        "print(\"Средняя ошибка: \", round(mean_delta))\n",
        "print(\"Средняя цена: \", round(mean_price))\n",
        "print(\"Процент ошибки: \", round(100*mean_delta / mean_price), \"%\", sep=\"\")"
      ],
      "execution_count": 34,
      "outputs": [
        {
          "output_type": "stream",
          "text": [
            "Train on 60000 samples, validate on 10119 samples\n",
            "Epoch 1/10\n",
            "60000/60000 - 29s - loss: 0.0920 - val_loss: 0.1636\n",
            "Epoch 2/10\n",
            "60000/60000 - 28s - loss: 0.0904 - val_loss: 0.1630\n",
            "Epoch 3/10\n",
            "60000/60000 - 28s - loss: 0.0890 - val_loss: 0.1612\n",
            "Epoch 4/10\n",
            "60000/60000 - 28s - loss: 0.0879 - val_loss: 0.1586\n",
            "Epoch 5/10\n",
            "60000/60000 - 28s - loss: 0.0866 - val_loss: 0.1576\n",
            "Epoch 6/10\n",
            "60000/60000 - 28s - loss: 0.0845 - val_loss: 0.1559\n",
            "Epoch 7/10\n",
            "60000/60000 - 28s - loss: 0.0844 - val_loss: 0.1546\n",
            "Epoch 8/10\n",
            "60000/60000 - 28s - loss: 0.0830 - val_loss: 0.1550\n",
            "Epoch 9/10\n",
            "60000/60000 - 28s - loss: 0.0823 - val_loss: 0.1523\n",
            "Epoch 10/10\n",
            "60000/60000 - 28s - loss: 0.0807 - val_loss: 0.1512\n"
          ],
          "name": "stdout"
        },
        {
          "output_type": "display_data",
          "data": {
            "image/png": "[encoded data removed]",
            "text/plain": [
              "<Figure size 432x288 with 1 Axes>"
            ]
          },
          "metadata": {
            "tags": []
          }
        },
        {
          "output_type": "stream",
          "text": [
            "Средняя ошибка:  69887.0\n",
            "Средняя цена:  530277.0\n",
            "Процент ошибки: 13.0%\n"
          ],
          "name": "stdout"
        }
      ]
    },
    {
      "cell_type": "markdown",
      "metadata": {
        "id": "293pqxTcIVdK",
        "colab_type": "text"
      },
      "source": [
        "**4.9** меняем число нейронов НС, уменьшаем."
      ]
    },
    {
      "cell_type": "code",
      "metadata": {
        "id": "aNnRzVvuIe1q",
        "colab_type": "code",
        "colab": {
          "base_uri": "https://localhost:8080/",
          "height": 1000
        },
        "outputId": "fa359232-2c24-40a6-ce30-3ceb8cfbb47f"
      },
      "source": [
        "#Создаём сеть \n",
        "model = Sequential()\n",
        "model.add(Dense(500, activation='relu', input_shape=(x_train.shape[1],)))\n",
        "model.add(Dense(500, activation='relu'))\n",
        "model.add(Dense(1, activation='linear'))\n",
        "\n",
        "#Указываем прямо шаг обучения - 1е-6\n",
        "model.compile(optimizer=Adam(lr=0.000001), loss='mse')\n",
        "\n",
        "#60000 примеров будет в обучающей выборке\n",
        "n_val = 60000\n",
        "history = model.fit(x_train[:n_val], \n",
        "                    y_train_scaled[:n_val],\n",
        "                    batch_size=20,\n",
        "                    epochs=30, \n",
        "                    validation_data=(x_train[n_val:], y_train_scaled[n_val:]), \n",
        "                    verbose=1)\n",
        "\n",
        "#Отображаем графики ошибки обучения на всех эпохах\n",
        "#Один по обучающей выборке, второй по проверочной\n",
        "plt.plot(history.history['loss'], label='Ошибка на обучающем наборе')\n",
        "plt.plot(history.history['val_loss'], label='Ошибка на проверочном наборе')\n",
        "plt.xlabel('Эпоха обучения')\n",
        "plt.ylabel('MSE')\n",
        "plt.legend()\n",
        "plt.show()\n",
        "\n",
        "#Предсказываем проверочную выборку\n",
        "predict = model.predict(x_train[n_val:])\n",
        "#Меняем масштаб обратно от нормированного к оригинальному\n",
        "predict = y_scaler.inverse_transform(predict).flatten()\n",
        "\n",
        "#Считаем ошибку и модуль ошибки прогнозирования по всем примерам\n",
        "delta = predict - y_train[n_val:]\n",
        "abs_delta = abs(delta)\n",
        "\n",
        "#Считаем среднюю цену, среднюю ошибку и средни процени ошибки\n",
        "#Выводим на экран\n",
        "mean_delta = sum(abs_delta)/len(abs_delta)\n",
        "mean_price = sum(y_train[n_val:])/len(y_train[n_val:])\n",
        "print(\"Средняя ошибка: \", round(mean_delta))\n",
        "print(\"Средняя цена: \", round(mean_price))\n",
        "print(\"Процент ошибки: \", round(100*mean_delta / mean_price), \"%\", sep=\"\")"
      ],
      "execution_count": 35,
      "outputs": [
        {
          "output_type": "stream",
          "text": [
            "Train on 60000 samples, validate on 10119 samples\n",
            "Epoch 1/30\n",
            "60000/60000 [==============================] - 11s 175us/sample - loss: 0.8244 - val_loss: 0.8555\n",
            "Epoch 2/30\n",
            "60000/60000 [==============================] - 10s 159us/sample - loss: 0.6147 - val_loss: 0.6899\n",
            "Epoch 3/30\n",
            "60000/60000 [==============================] - 9s 157us/sample - loss: 0.5014 - val_loss: 0.5998\n",
            "Epoch 4/30\n",
            "60000/60000 [==============================] - 9s 158us/sample - loss: 0.4327 - val_loss: 0.5375\n",
            "Epoch 5/30\n",
            "60000/60000 [==============================] - 10s 161us/sample - loss: 0.3848 - val_loss: 0.4907\n",
            "Epoch 6/30\n",
            "60000/60000 [==============================] - 9s 158us/sample - loss: 0.3482 - val_loss: 0.4551\n",
            "Epoch 7/30\n",
            "60000/60000 [==============================] - 10s 161us/sample - loss: 0.3200 - val_loss: 0.4260\n",
            "Epoch 8/30\n",
            "60000/60000 [==============================] - 9s 158us/sample - loss: 0.2978 - val_loss: 0.4034\n",
            "Epoch 9/30\n",
            "60000/60000 [==============================] - 9s 156us/sample - loss: 0.2806 - val_loss: 0.3853\n",
            "Epoch 10/30\n",
            "60000/60000 [==============================] - 9s 158us/sample - loss: 0.2668 - val_loss: 0.3706\n",
            "Epoch 11/30\n",
            "60000/60000 [==============================] - 9s 158us/sample - loss: 0.2553 - val_loss: 0.3580\n",
            "Epoch 12/30\n",
            "60000/60000 [==============================] - 9s 158us/sample - loss: 0.2453 - val_loss: 0.3469\n",
            "Epoch 13/30\n",
            "60000/60000 [==============================] - 9s 158us/sample - loss: 0.2365 - val_loss: 0.3370\n",
            "Epoch 14/30\n",
            "60000/60000 [==============================] - 9s 157us/sample - loss: 0.2286 - val_loss: 0.3280\n",
            "Epoch 15/30\n",
            "60000/60000 [==============================] - 9s 157us/sample - loss: 0.2217 - val_loss: 0.3202\n",
            "Epoch 16/30\n",
            "60000/60000 [==============================] - 9s 156us/sample - loss: 0.2155 - val_loss: 0.3131\n",
            "Epoch 17/30\n",
            "60000/60000 [==============================] - 9s 154us/sample - loss: 0.2098 - val_loss: 0.3064\n",
            "Epoch 18/30\n",
            "60000/60000 [==============================] - 10s 162us/sample - loss: 0.2046 - val_loss: 0.3002\n",
            "Epoch 19/30\n",
            "60000/60000 [==============================] - 9s 158us/sample - loss: 0.1997 - val_loss: 0.2950\n",
            "Epoch 20/30\n",
            "60000/60000 [==============================] - 9s 158us/sample - loss: 0.1954 - val_loss: 0.2898\n",
            "Epoch 21/30\n",
            "60000/60000 [==============================] - 10s 159us/sample - loss: 0.1913 - val_loss: 0.2848\n",
            "Epoch 22/30\n",
            "60000/60000 [==============================] - 10s 159us/sample - loss: 0.1875 - val_loss: 0.2809\n",
            "Epoch 23/30\n",
            "60000/60000 [==============================] - 10s 159us/sample - loss: 0.1839 - val_loss: 0.2760\n",
            "Epoch 24/30\n",
            "60000/60000 [==============================] - 10s 160us/sample - loss: 0.1806 - val_loss: 0.2722\n",
            "Epoch 25/30\n",
            "60000/60000 [==============================] - 10s 158us/sample - loss: 0.1775 - val_loss: 0.2686\n",
            "Epoch 26/30\n",
            "60000/60000 [==============================] - 10s 159us/sample - loss: 0.1746 - val_loss: 0.2655\n",
            "Epoch 27/30\n",
            "60000/60000 [==============================] - 10s 159us/sample - loss: 0.1718 - val_loss: 0.2616\n",
            "Epoch 28/30\n",
            "60000/60000 [==============================] - 9s 156us/sample - loss: 0.1693 - val_loss: 0.2590\n",
            "Epoch 29/30\n",
            "60000/60000 [==============================] - 10s 160us/sample - loss: 0.1669 - val_loss: 0.2560\n",
            "Epoch 30/30\n",
            "60000/60000 [==============================] - 10s 161us/sample - loss: 0.1645 - val_loss: 0.2533\n"
          ],
          "name": "stdout"
        },
        {
          "output_type": "display_data",
          "data": {
            "image/png": "[encoded data removed]",
            "text/plain": [
              "<Figure size 432x288 with 1 Axes>"
            ]
          },
          "metadata": {
            "tags": []
          }
        },
        {
          "output_type": "stream",
          "text": [
            "Средняя ошибка:  84949.0\n",
            "Средняя цена:  530277.0\n",
            "Процент ошибки: 16.0%\n"
          ],
          "name": "stdout"
        }
      ]
    },
    {
      "cell_type": "markdown",
      "metadata": {
        "id": "OUeiEthJPu01",
        "colab_type": "text"
      },
      "source": [
        "**ВЫВОД** увеличение числа нейронов НС  не повлияло на результат обучения. Процент ошибки: 13.0%. Уменьшение числа нейронов ухудшило результат Процент ошибки: 16.0%. Следовательно изначально колличество нейронов было подобрано оптимально."
      ]
    },
    {
      "cell_type": "markdown",
      "metadata": {
        "id": "5duc8hg6Ivpv",
        "colab_type": "text"
      },
      "source": [
        "**4.11** меняем число слоев НС, уменьшаем."
      ]
    },
    {
      "cell_type": "code",
      "metadata": {
        "id": "0INWnvjEN0_O",
        "colab_type": "code",
        "colab": {
          "base_uri": "https://localhost:8080/",
          "height": 1000
        },
        "outputId": "8996a367-13ac-4b1a-fff9-9cd8537e895b"
      },
      "source": [
        "#Создаём сеть \n",
        "model = Sequential()\n",
        "model.add(Dense(2500, activation='relu', input_shape=(x_train.shape[1],)))\n",
        "model.add(Dense(1, activation='linear'))\n",
        "\n",
        "#Указываем прямо шаг обучения - 1е-6\n",
        "model.compile(optimizer=Adam(lr=0.000001), loss='mse')\n",
        "\n",
        "#60000 примеров будет в обучающей выборке\n",
        "n_val = 60000\n",
        "history = model.fit(x_train[:n_val], \n",
        "                    y_train_scaled[:n_val],\n",
        "                    batch_size=20,\n",
        "                    epochs=30, \n",
        "                    validation_data=(x_train[n_val:], y_train_scaled[n_val:]), \n",
        "                    verbose=1)\n",
        "\n",
        "#Отображаем графики ошибки обучения на всех эпохах\n",
        "#Один по обучающей выборке, второй по проверочной\n",
        "plt.plot(history.history['loss'], label='Ошибка на обучающем наборе')\n",
        "plt.plot(history.history['val_loss'], label='Ошибка на проверочном наборе')\n",
        "plt.xlabel('Эпоха обучения')\n",
        "plt.ylabel('MSE')\n",
        "plt.legend()\n",
        "plt.show()\n",
        "\n",
        "#Предсказываем проверочную выборку\n",
        "predict = model.predict(x_train[n_val:])\n",
        "#Меняем масштаб обратно от нормированного к оригинальному\n",
        "predict = y_scaler.inverse_transform(predict).flatten()\n",
        "\n",
        "#Считаем ошибку и модуль ошибки прогнозирования по всем примерам\n",
        "delta = predict - y_train[n_val:]\n",
        "abs_delta = abs(delta)\n",
        "\n",
        "#Считаем среднюю цену, среднюю ошибку и средни процени ошибки\n",
        "#Выводим на экран\n",
        "mean_delta = sum(abs_delta)/len(abs_delta)\n",
        "mean_price = sum(y_train[n_val:])/len(y_train[n_val:])\n",
        "print(\"Средняя ошибка: \", round(mean_delta))\n",
        "print(\"Средняя цена: \", round(mean_price))\n",
        "print(\"Процент ошибки: \", round(100*mean_delta / mean_price), \"%\", sep=\"\")"
      ],
      "execution_count": 37,
      "outputs": [
        {
          "output_type": "stream",
          "text": [
            "Train on 60000 samples, validate on 10119 samples\n",
            "Epoch 1/30\n",
            "60000/60000 [==============================] - 15s 249us/sample - loss: 0.8171 - val_loss: 0.8330\n",
            "Epoch 2/30\n",
            "60000/60000 [==============================] - 13s 222us/sample - loss: 0.5950 - val_loss: 0.6778\n",
            "Epoch 3/30\n",
            "60000/60000 [==============================] - 13s 223us/sample - loss: 0.4945 - val_loss: 0.6004\n",
            "Epoch 4/30\n",
            "60000/60000 [==============================] - 13s 222us/sample - loss: 0.4375 - val_loss: 0.5490\n",
            "Epoch 5/30\n",
            "60000/60000 [==============================] - 13s 223us/sample - loss: 0.3962 - val_loss: 0.5095\n",
            "Epoch 6/30\n",
            "60000/60000 [==============================] - 13s 223us/sample - loss: 0.3649 - val_loss: 0.4790\n",
            "Epoch 7/30\n",
            "60000/60000 [==============================] - 13s 221us/sample - loss: 0.3402 - val_loss: 0.4549\n",
            "Epoch 8/30\n",
            "60000/60000 [==============================] - 13s 220us/sample - loss: 0.3208 - val_loss: 0.4347\n",
            "Epoch 9/30\n",
            "60000/60000 [==============================] - 13s 222us/sample - loss: 0.3050 - val_loss: 0.4185\n",
            "Epoch 10/30\n",
            "60000/60000 [==============================] - 13s 223us/sample - loss: 0.2919 - val_loss: 0.4046\n",
            "Epoch 11/30\n",
            "60000/60000 [==============================] - 13s 221us/sample - loss: 0.2810 - val_loss: 0.3932\n",
            "Epoch 12/30\n",
            "60000/60000 [==============================] - 13s 220us/sample - loss: 0.2721 - val_loss: 0.3836\n",
            "Epoch 13/30\n",
            "60000/60000 [==============================] - 13s 220us/sample - loss: 0.2642 - val_loss: 0.3747\n",
            "Epoch 14/30\n",
            "60000/60000 [==============================] - 13s 222us/sample - loss: 0.2572 - val_loss: 0.3671\n",
            "Epoch 15/30\n",
            "60000/60000 [==============================] - 13s 220us/sample - loss: 0.2509 - val_loss: 0.3602\n",
            "Epoch 16/30\n",
            "60000/60000 [==============================] - 13s 220us/sample - loss: 0.2454 - val_loss: 0.3542\n",
            "Epoch 17/30\n",
            "60000/60000 [==============================] - 13s 221us/sample - loss: 0.2403 - val_loss: 0.3486\n",
            "Epoch 18/30\n",
            "60000/60000 [==============================] - 13s 220us/sample - loss: 0.2356 - val_loss: 0.3431\n",
            "Epoch 19/30\n",
            "60000/60000 [==============================] - 13s 221us/sample - loss: 0.2312 - val_loss: 0.3382\n",
            "Epoch 20/30\n",
            "60000/60000 [==============================] - 13s 220us/sample - loss: 0.2272 - val_loss: 0.3336\n",
            "Epoch 21/30\n",
            "60000/60000 [==============================] - 13s 222us/sample - loss: 0.2235 - val_loss: 0.3294\n",
            "Epoch 22/30\n",
            "60000/60000 [==============================] - 13s 224us/sample - loss: 0.2200 - val_loss: 0.3256\n",
            "Epoch 23/30\n",
            "60000/60000 [==============================] - 13s 220us/sample - loss: 0.2167 - val_loss: 0.3218\n",
            "Epoch 24/30\n",
            "60000/60000 [==============================] - 13s 216us/sample - loss: 0.2136 - val_loss: 0.3182\n",
            "Epoch 25/30\n",
            "60000/60000 [==============================] - 13s 216us/sample - loss: 0.2107 - val_loss: 0.3147\n",
            "Epoch 26/30\n",
            "60000/60000 [==============================] - 13s 217us/sample - loss: 0.2079 - val_loss: 0.3115\n",
            "Epoch 27/30\n",
            "60000/60000 [==============================] - 13s 217us/sample - loss: 0.2053 - val_loss: 0.3085\n",
            "Epoch 28/30\n",
            "60000/60000 [==============================] - 13s 218us/sample - loss: 0.2028 - val_loss: 0.3057\n",
            "Epoch 29/30\n",
            "60000/60000 [==============================] - 13s 219us/sample - loss: 0.2003 - val_loss: 0.3027\n",
            "Epoch 30/30\n",
            "60000/60000 [==============================] - 13s 217us/sample - loss: 0.1980 - val_loss: 0.3001\n"
          ],
          "name": "stdout"
        },
        {
          "output_type": "display_data",
          "data": {
            "image/png": "[encoded data removed]",
            "text/plain": [
              "<Figure size 432x288 with 1 Axes>"
            ]
          },
          "metadata": {
            "tags": []
          }
        },
        {
          "output_type": "stream",
          "text": [
            "Средняя ошибка:  97304.0\n",
            "Средняя цена:  530277.0\n",
            "Процент ошибки: 18.0%\n"
          ],
          "name": "stdout"
        }
      ]
    },
    {
      "cell_type": "markdown",
      "metadata": {
        "id": "jtnpf8x0Pybj",
        "colab_type": "text"
      },
      "source": [
        "**ВЫВОД** результат ухудшился. Процент ошибки 18 %."
      ]
    },
    {
      "cell_type": "markdown",
      "metadata": {
        "id": "4gu3Wa44Ifc7",
        "colab_type": "text"
      },
      "source": [
        "**4.10** меняем число слоев НС, увеличиваем."
      ]
    },
    {
      "cell_type": "code",
      "metadata": {
        "id": "hGHyD8nmIvGm",
        "colab_type": "code",
        "colab": {
          "base_uri": "https://localhost:8080/",
          "height": 1000
        },
        "outputId": "2736fb1a-630a-4118-fd39-bd153488fca1"
      },
      "source": [
        "#Создаём сеть \n",
        "model = Sequential()\n",
        "model.add(Dense(4500, activation='relu', input_shape=(x_train.shape[1],)))\n",
        "model.add(Dense(3500, activation='relu'))\n",
        "model.add(Dense(2500, activation='relu'))\n",
        "model.add(Dense(1500, activation='relu'))\n",
        "model.add(Dense(1, activation='linear'))\n",
        "\n",
        "#Указываем прямо шаг обучения - 1е-6\n",
        "model.compile(optimizer=Adam(lr=0.000001), loss='mse')\n",
        "\n",
        "#60000 примеров будет в обучающей выборке\n",
        "n_val = 60000\n",
        "history = model.fit(x_train[:n_val], \n",
        "                    y_train_scaled[:n_val],\n",
        "                    batch_size=20,\n",
        "                    epochs=30, \n",
        "                    validation_data=(x_train[n_val:], y_train_scaled[n_val:]), \n",
        "                    verbose=1)\n",
        "\n",
        "#Отображаем графики ошибки обучения на всех эпохах\n",
        "#Один по обучающей выборке, второй по проверочной\n",
        "plt.plot(history.history['loss'], label='Ошибка на обучающем наборе')\n",
        "plt.plot(history.history['val_loss'], label='Ошибка на проверочном наборе')\n",
        "plt.xlabel('Эпоха обучения')\n",
        "plt.ylabel('MSE')\n",
        "plt.legend()\n",
        "plt.show()\n",
        "\n",
        "#Предсказываем проверочную выборку\n",
        "predict = model.predict(x_train[n_val:])\n",
        "#Меняем масштаб обратно от нормированного к оригинальному\n",
        "predict = y_scaler.inverse_transform(predict).flatten()\n",
        "\n",
        "#Считаем ошибку и модуль ошибки прогнозирования по всем примерам\n",
        "delta = predict - y_train[n_val:]\n",
        "abs_delta = abs(delta)\n",
        "\n",
        "#Считаем среднюю цену, среднюю ошибку и средни процени ошибки\n",
        "#Выводим на экран\n",
        "mean_delta = sum(abs_delta)/len(abs_delta)\n",
        "mean_price = sum(y_train[n_val:])/len(y_train[n_val:])\n",
        "print(\"Средняя ошибка: \", round(mean_delta))\n",
        "print(\"Средняя цена: \", round(mean_price))\n",
        "print(\"Процент ошибки: \", round(100*mean_delta / mean_price), \"%\", sep=\"\")"
      ],
      "execution_count": 38,
      "outputs": [
        {
          "output_type": "stream",
          "text": [
            "Train on 60000 samples, validate on 10119 samples\n",
            "Epoch 1/30\n",
            "60000/60000 [==============================] - 43s 718us/sample - loss: 0.3743 - val_loss: 0.3144\n",
            "Epoch 2/30\n",
            "60000/60000 [==============================] - 41s 688us/sample - loss: 0.1880 - val_loss: 0.2573\n",
            "Epoch 3/30\n",
            "60000/60000 [==============================] - 41s 686us/sample - loss: 0.1561 - val_loss: 0.2380\n",
            "Epoch 4/30\n",
            "60000/60000 [==============================] - 41s 688us/sample - loss: 0.1405 - val_loss: 0.2102\n",
            "Epoch 5/30\n",
            "60000/60000 [==============================] - 41s 681us/sample - loss: 0.1280 - val_loss: 0.1955\n",
            "Epoch 6/30\n",
            "60000/60000 [==============================] - 41s 681us/sample - loss: 0.1187 - val_loss: 0.1891\n",
            "Epoch 7/30\n",
            "60000/60000 [==============================] - 41s 682us/sample - loss: 0.1123 - val_loss: 0.1808\n",
            "Epoch 8/30\n",
            "60000/60000 [==============================] - 41s 685us/sample - loss: 0.1062 - val_loss: 0.1725\n",
            "Epoch 9/30\n",
            "60000/60000 [==============================] - 41s 683us/sample - loss: 0.0999 - val_loss: 0.1709\n",
            "Epoch 10/30\n",
            "60000/60000 [==============================] - 41s 684us/sample - loss: 0.0968 - val_loss: 0.1651\n",
            "Epoch 11/30\n",
            "60000/60000 [==============================] - 41s 689us/sample - loss: 0.0930 - val_loss: 0.1561\n",
            "Epoch 12/30\n",
            "60000/60000 [==============================] - 40s 669us/sample - loss: 0.0878 - val_loss: 0.1531\n",
            "Epoch 13/30\n",
            "60000/60000 [==============================] - 40s 671us/sample - loss: 0.0852 - val_loss: 0.1482\n",
            "Epoch 14/30\n",
            "60000/60000 [==============================] - 41s 686us/sample - loss: 0.0820 - val_loss: 0.1485\n",
            "Epoch 15/30\n",
            "60000/60000 [==============================] - 41s 685us/sample - loss: 0.0783 - val_loss: 0.1427\n",
            "Epoch 16/30\n",
            "60000/60000 [==============================] - 41s 684us/sample - loss: 0.0758 - val_loss: 0.1431\n",
            "Epoch 17/30\n",
            "60000/60000 [==============================] - 41s 688us/sample - loss: 0.0747 - val_loss: 0.1385\n",
            "Epoch 18/30\n",
            "60000/60000 [==============================] - 41s 690us/sample - loss: 0.0699 - val_loss: 0.1342\n",
            "Epoch 19/30\n",
            "60000/60000 [==============================] - 42s 693us/sample - loss: 0.0685 - val_loss: 0.1332\n",
            "Epoch 20/30\n",
            "60000/60000 [==============================] - 41s 686us/sample - loss: 0.0665 - val_loss: 0.1297\n",
            "Epoch 21/30\n",
            "60000/60000 [==============================] - 41s 686us/sample - loss: 0.0638 - val_loss: 0.1262\n",
            "Epoch 22/30\n",
            "60000/60000 [==============================] - 41s 684us/sample - loss: 0.0624 - val_loss: 0.1280\n",
            "Epoch 23/30\n",
            "60000/60000 [==============================] - 41s 686us/sample - loss: 0.0600 - val_loss: 0.1244\n",
            "Epoch 24/30\n",
            "60000/60000 [==============================] - 41s 679us/sample - loss: 0.0580 - val_loss: 0.1199\n",
            "Epoch 25/30\n",
            "60000/60000 [==============================] - 41s 679us/sample - loss: 0.0559 - val_loss: 0.1181\n",
            "Epoch 26/30\n",
            "60000/60000 [==============================] - 41s 681us/sample - loss: 0.0532 - val_loss: 0.1215\n",
            "Epoch 27/30\n",
            "60000/60000 [==============================] - 42s 694us/sample - loss: 0.0530 - val_loss: 0.1153\n",
            "Epoch 28/30\n",
            "60000/60000 [==============================] - 42s 696us/sample - loss: 0.0516 - val_loss: 0.1159\n",
            "Epoch 29/30\n",
            "60000/60000 [==============================] - 42s 695us/sample - loss: 0.0486 - val_loss: 0.1125\n",
            "Epoch 30/30\n",
            "60000/60000 [==============================] - 42s 694us/sample - loss: 0.0484 - val_loss: 0.1118\n"
          ],
          "name": "stdout"
        },
        {
          "output_type": "display_data",
          "data": {
            "image/png": "[encoded data removed]",
            "text/plain": [
              "<Figure size 432x288 with 1 Axes>"
            ]
          },
          "metadata": {
            "tags": []
          }
        },
        {
          "output_type": "stream",
          "text": [
            "Средняя ошибка:  66454.0\n",
            "Средняя цена:  530277.0\n",
            "Процент ошибки: 13.0%\n"
          ],
          "name": "stdout"
        }
      ]
    },
    {
      "cell_type": "markdown",
      "metadata": {
        "id": "QmaCX5R6P0ap",
        "colab_type": "text"
      },
      "source": [
        "**ВЫВОД**"
      ]
    },
    {
      "cell_type": "markdown",
      "metadata": {
        "id": "iVUfGmKxSKNC",
        "colab_type": "text"
      },
      "source": [
        "**5** пробуем улучшить результат, уменьшим шаг обучения, добавим Droopout."
      ]
    },
    {
      "cell_type": "code",
      "metadata": {
        "id": "BM3r8p4nSG4g",
        "colab_type": "code",
        "colab": {
          "base_uri": "https://localhost:8080/",
          "height": 1000
        },
        "outputId": "de1d069a-6c30-4ea0-d110-2a9ef31f2b48"
      },
      "source": [
        "#Создаём сеть \n",
        "model = Sequential()\n",
        "model.add(Dense(1500, activation='relu', input_shape=(x_train.shape[1],)))\n",
        "model.add(Dense(3500, activation='relu'))\n",
        "model.add(Dense(2500, activation='relu'))\n",
        "model.add(Dense(1500, activation='relu'))\n",
        "model.add(Dropout(0.25))\n",
        "model.add(Dense(1, activation='linear'))\n",
        "\n",
        "#Указываем прямо шаг обучения - 1е-8\n",
        "model.compile(optimizer=Adam(lr=0.000000001), loss='mse')\n",
        "\n",
        "#60000 примеров будет в обучающей выборке\n",
        "n_val = 60000\n",
        "history = model.fit(x_train[:n_val], \n",
        "                    y_train_scaled[:n_val],\n",
        "                    batch_size=20,\n",
        "                    epochs=30, \n",
        "                    validation_data=(x_train[n_val:], y_train_scaled[n_val:]), \n",
        "                    verbose=1)\n",
        "\n",
        "#Отображаем графики ошибки обучения на всех эпохах\n",
        "#Один по обучающей выборке, второй по проверочной\n",
        "plt.plot(history.history['loss'], label='Ошибка на обучающем наборе')\n",
        "plt.plot(history.history['val_loss'], label='Ошибка на проверочном наборе')\n",
        "plt.xlabel('Эпоха обучения')\n",
        "plt.ylabel('MSE')\n",
        "plt.legend()\n",
        "plt.show()\n",
        "\n",
        "#Предсказываем проверочную выборку\n",
        "predict = model.predict(x_train[n_val:])\n",
        "#Меняем масштаб обратно от нормированного к оригинальному\n",
        "predict = y_scaler.inverse_transform(predict).flatten()\n",
        "\n",
        "#Считаем ошибку и модуль ошибки прогнозирования по всем примерам\n",
        "delta = predict - y_train[n_val:]\n",
        "abs_delta = abs(delta)\n",
        "\n",
        "#Считаем среднюю цену, среднюю ошибку и средни процени ошибки\n",
        "#Выводим на экран\n",
        "mean_delta = sum(abs_delta)/len(abs_delta)\n",
        "mean_price = sum(y_train[n_val:])/len(y_train[n_val:])\n",
        "print(\"Средняя ошибка: \", round(mean_delta))\n",
        "print(\"Средняя цена: \", round(mean_price))\n",
        "print(\"Процент ошибки: \", round(100*mean_delta / mean_price), \"%\", sep=\"\")"
      ],
      "execution_count": 46,
      "outputs": [
        {
          "output_type": "stream",
          "text": [
            "Train on 60000 samples, validate on 10119 samples\n",
            "Epoch 1/30\n",
            "60000/60000 [==============================] - 27s 446us/sample - loss: 0.9852 - val_loss: 1.1474\n",
            "Epoch 2/30\n",
            "60000/60000 [==============================] - 25s 422us/sample - loss: 0.9845 - val_loss: 1.1464\n",
            "Epoch 3/30\n",
            "60000/60000 [==============================] - 25s 425us/sample - loss: 0.9832 - val_loss: 1.1453\n",
            "Epoch 4/30\n",
            "60000/60000 [==============================] - 26s 426us/sample - loss: 0.9820 - val_loss: 1.1443\n",
            "Epoch 5/30\n",
            "60000/60000 [==============================] - 25s 419us/sample - loss: 0.9811 - val_loss: 1.1432\n",
            "Epoch 6/30\n",
            "60000/60000 [==============================] - 25s 418us/sample - loss: 0.9799 - val_loss: 1.1422\n",
            "Epoch 7/30\n",
            "60000/60000 [==============================] - 25s 415us/sample - loss: 0.9790 - val_loss: 1.1412\n",
            "Epoch 8/30\n",
            "60000/60000 [==============================] - 25s 416us/sample - loss: 0.9781 - val_loss: 1.1401\n",
            "Epoch 9/30\n",
            "60000/60000 [==============================] - 25s 418us/sample - loss: 0.9770 - val_loss: 1.1391\n",
            "Epoch 10/30\n",
            "60000/60000 [==============================] - 25s 417us/sample - loss: 0.9761 - val_loss: 1.1381\n",
            "Epoch 11/30\n",
            "60000/60000 [==============================] - 25s 417us/sample - loss: 0.9749 - val_loss: 1.1370\n",
            "Epoch 12/30\n",
            "60000/60000 [==============================] - 25s 416us/sample - loss: 0.9738 - val_loss: 1.1360\n",
            "Epoch 13/30\n",
            "60000/60000 [==============================] - 25s 415us/sample - loss: 0.9727 - val_loss: 1.1350\n",
            "Epoch 14/30\n",
            "60000/60000 [==============================] - 25s 415us/sample - loss: 0.9717 - val_loss: 1.1339\n",
            "Epoch 15/30\n",
            "60000/60000 [==============================] - 25s 415us/sample - loss: 0.9711 - val_loss: 1.1329\n",
            "Epoch 16/30\n",
            "60000/60000 [==============================] - 25s 415us/sample - loss: 0.9696 - val_loss: 1.1319\n",
            "Epoch 17/30\n",
            "60000/60000 [==============================] - 25s 415us/sample - loss: 0.9689 - val_loss: 1.1309\n",
            "Epoch 18/30\n",
            "60000/60000 [==============================] - 25s 416us/sample - loss: 0.9679 - val_loss: 1.1299\n",
            "Epoch 19/30\n",
            "60000/60000 [==============================] - 25s 416us/sample - loss: 0.9668 - val_loss: 1.1289\n",
            "Epoch 20/30\n",
            "60000/60000 [==============================] - 25s 413us/sample - loss: 0.9659 - val_loss: 1.1279\n",
            "Epoch 21/30\n",
            "60000/60000 [==============================] - 25s 414us/sample - loss: 0.9648 - val_loss: 1.1268\n",
            "Epoch 22/30\n",
            "60000/60000 [==============================] - 25s 415us/sample - loss: 0.9640 - val_loss: 1.1258\n",
            "Epoch 23/30\n",
            "60000/60000 [==============================] - 25s 419us/sample - loss: 0.9627 - val_loss: 1.1248\n",
            "Epoch 24/30\n",
            "60000/60000 [==============================] - 25s 415us/sample - loss: 0.9619 - val_loss: 1.1238\n",
            "Epoch 25/30\n",
            "60000/60000 [==============================] - 25s 417us/sample - loss: 0.9611 - val_loss: 1.1228\n",
            "Epoch 26/30\n",
            "60000/60000 [==============================] - 25s 414us/sample - loss: 0.9599 - val_loss: 1.1218\n",
            "Epoch 27/30\n",
            "60000/60000 [==============================] - 25s 414us/sample - loss: 0.9590 - val_loss: 1.1208\n",
            "Epoch 28/30\n",
            "60000/60000 [==============================] - 25s 416us/sample - loss: 0.9583 - val_loss: 1.1197\n",
            "Epoch 29/30\n",
            "60000/60000 [==============================] - 25s 415us/sample - loss: 0.9571 - val_loss: 1.1187\n",
            "Epoch 30/30\n",
            "60000/60000 [==============================] - 25s 414us/sample - loss: 0.9558 - val_loss: 1.1177\n"
          ],
          "name": "stdout"
        },
        {
          "output_type": "display_data",
          "data": {
            "image/png": "[encoded data removed]",
            "text/plain": [
              "<Figure size 432x288 with 1 Axes>"
            ]
          },
          "metadata": {
            "tags": []
          }
        },
        {
          "output_type": "stream",
          "text": [
            "Средняя ошибка:  336842.0\n",
            "Средняя цена:  530277.0\n",
            "Процент ошибки: 64.0%\n"
          ],
          "name": "stdout"
        }
      ]
    },
    {
      "cell_type": "markdown",
      "metadata": {
        "id": "YJqX0p4LPPi3",
        "colab_type": "text"
      },
      "source": [
        "**ОБЩИЙ ВЫВОД**"
      ]
    },
    {
      "cell_type": "markdown",
      "metadata": {
        "id": "KvZdMaxqFHYw",
        "colab_type": "text"
      },
      "source": [
        "#Вывод результатов\n",
        "\n",
        "*Разбор данного раздела:* https://youtu.be/Hm41rb1zqQo?t=9144"
      ]
    },
    {
      "cell_type": "markdown",
      "metadata": {
        "id": "aEvMFXMAD_dQ",
        "colab_type": "text"
      },
      "source": [
        "**Выводим результаты таблицей**"
      ]
    },
    {
      "cell_type": "code",
      "metadata": {
        "id": "u80qsUuIEmL1",
        "colab_type": "code",
        "outputId": "34f26e92-bffc-4bc5-f237-477badb89f1f",
        "colab": {
          "base_uri": "https://localhost:8080/",
          "height": 569
        }
      },
      "source": [
        "#Выводим названия колонок\n",
        "print('{:>10} {:>10} {:>10} {:>10}'.format('predict', 'y', 'error', 'error %'))\n",
        "\n",
        "#Выводим 30 примеров\n",
        "for i in range(30):\n",
        "  price = predict[i] #Запоминаем предсказанную цену\n",
        "  real_price = y_train[n_val+i] #Запоминаем реальзую цену\n",
        "  #Выводим значения колонок\n",
        "  print('{:>10.0f} {:>10.0f} {:>10.0f} {:>10.3f}'.format(price, real_price, abs(price - real_price), ((price / real_price) - 1) * 100))"
      ],
      "execution_count": 39,
      "outputs": [
        {
          "output_type": "stream",
          "text": [
            "   predict          y      error    error %\n",
            "    118112     165000      46888    -28.417\n",
            "    372303     415000      42697    -10.288\n",
            "    423163     380000      43163     11.359\n",
            "    760367     860000      99633    -11.585\n",
            "    163339     220000      56661    -25.755\n",
            "    444702     500000      55298    -11.060\n",
            "    537473     650000     112527    -17.312\n",
            "   1541809    1150000     391809     34.070\n",
            "    703759     570000     133759     23.466\n",
            "    507147     520000      12853     -2.472\n",
            "    299480     319000      19520     -6.119\n",
            "    718188     760000      41812     -5.502\n",
            "    214133     235000      20867     -8.879\n",
            "    369926     415000      45074    -10.861\n",
            "    241973     255000      13027     -5.109\n",
            "    276499     273000       3499      1.282\n",
            "   1371094    1550000     178906    -11.542\n",
            "    897684     821000      76684      9.340\n",
            "     71892      55000      16892     30.713\n",
            "    308337     282000      26337      9.339\n",
            "     56854      90000      33146    -36.828\n",
            "    285369     265000      20369      7.686\n",
            "    345446     450000     104554    -23.234\n",
            "    638185     599000      39185      6.542\n",
            "    481415     449000      32415      7.219\n",
            "    633163     570000      63163     11.081\n",
            "    736414     669000      67414     10.077\n",
            "    675589     720000      44411     -6.168\n",
            "    153434     275000     121566    -44.206\n",
            "    127374     162000      34626    -21.374\n"
          ],
          "name": "stdout"
        }
      ]
    },
    {
      "cell_type": "markdown",
      "metadata": {
        "id": "Feyvyn-cEh6G",
        "colab_type": "text"
      },
      "source": [
        "**Строим 2d карты распределения ошибки от цены**"
      ]
    },
    {
      "cell_type": "code",
      "metadata": {
        "id": "hBjk8OeImqGR",
        "colab_type": "code",
        "outputId": "538937c7-0133-4e1f-d1a2-0db57d2e7c60",
        "colab": {
          "base_uri": "https://localhost:8080/",
          "height": 544
        }
      },
      "source": [
        "#Делаем маску - машины, с ценой до 3.000.000р\n",
        "mask = y_train[n_val:] < 3e+6\n",
        "x = y_train[n_val:] #Вытаскиваем все реальные цены\n",
        "y = abs_delta #Вытаскиваем модули ошибки\n",
        "yp = 100*abs_delta / y_train[n_val:] #Расчитываем процент ошибки\n",
        "\n",
        "#Фильтруем по маске - только машины с ценой до 3млн\n",
        "x = x[mask]\n",
        "y = y[mask]\n",
        "yp = yp[mask]\n",
        "\n",
        "#Выводим 2d карту - ошибка от цены\n",
        "plt.scatter(x, y)\n",
        "plt.xlabel('Цена')\n",
        "plt.ylabel('Ошибка')\n",
        "plt.axis('equal')\n",
        "plt.show()\n",
        "\n",
        "#Выводим 2d карту - процент ошибки от цены\n",
        "plt.scatter(x, yp)\n",
        "plt.xlabel('Цена')\n",
        "plt.ylabel('Процент ошибки')\n",
        "plt.show()"
      ],
      "execution_count": 40,
      "outputs": [
        {
          "output_type": "display_data",
          "data": {
            "image/png": "[encoded data removed]",
            "text/plain": [
              "<Figure size 432x288 with 1 Axes>"
            ]
          },
          "metadata": {
            "tags": []
          }
        },
        {
          "output_type": "display_data",
          "data": {
            "image/png": "[encoded data removed]",
            "text/plain": [
              "<Figure size 432x288 with 1 Axes>"
            ]
          },
          "metadata": {
            "tags": []
          }
        }
      ]
    }
  ]
}