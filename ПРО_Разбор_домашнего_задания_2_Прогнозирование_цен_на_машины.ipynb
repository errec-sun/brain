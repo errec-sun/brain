{
  "nbformat": 4,
  "nbformat_minor": 0,
  "metadata": {
    "colab": {
      "name": "Copy of Февральский курс. Pro. Разбор домашнего задания #2. Прогнозирование цен на машины",
      "provenance": [],
      "collapsed_sections": [],
      "include_colab_link": true
    },
    "kernelspec": {
      "name": "python3",
      "display_name": "Python 3"
    },
    "accelerator": "GPU"
  },
  "cells": [
    {
      "cell_type": "markdown",
      "metadata": {
        "id": "view-in-github",
        "colab_type": "text"
      },
      "source": [
        "<a href=\"https://colab.research.google.com/github/errec-sun/brain/blob/master/%D0%9F%D0%A0%D0%9E_%D0%A0%D0%B0%D0%B7%D0%B1%D0%BE%D1%80_%D0%B4%D0%BE%D0%BC%D0%B0%D1%88%D0%BD%D0%B5%D0%B3%D0%BE_%D0%B7%D0%B0%D0%B4%D0%B0%D0%BD%D0%B8%D1%8F_2_%D0%9F%D1%80%D0%BE%D0%B3%D0%BD%D0%BE%D0%B7%D0%B8%D1%80%D0%BE%D0%B2%D0%B0%D0%BD%D0%B8%D0%B5_%D1%86%D0%B5%D0%BD_%D0%BD%D0%B0_%D0%BC%D0%B0%D1%88%D0%B8%D0%BD%D1%8B.ipynb\" target=\"_parent\"><img src=\"https://colab.research.google.com/assets/colab-badge.svg\" alt=\"Open In Colab\"/></a>"
      ]
    },
    {
      "cell_type": "markdown",
      "metadata": {
        "id": "fkAvqann3Ih6",
        "colab_type": "text"
      },
      "source": [
        "# Импорт библиотек"
      ]
    },
    {
      "cell_type": "code",
      "metadata": {
        "id": "McU6M60VssqA",
        "colab_type": "code",
        "outputId": "18b477cd-2f48-4567-e037-4a997c8381de",
        "colab": {
          "base_uri": "https://localhost:8080/",
          "height": 64
        }
      },
      "source": [
        "# предобработка данных\n",
        "from sklearn import preprocessing\n",
        "\n",
        "# последовательная модель\n",
        "from tensorflow.keras.models import Sequential\n",
        "# слои\n",
        "from tensorflow.keras.layers import Dense\n",
        "# оптимизаторы\n",
        "from tensorflow.keras.optimizers import Adadelta, Adam\n",
        "\n",
        "# работа с csv файлами\n",
        "import pandas as pd\n",
        "# работа с массивами\n",
        "import numpy as np\n",
        "# графики\n",
        "import matplotlib.pyplot as plt\n",
        "%matplotlib inline "
      ],
      "execution_count": 0,
      "outputs": [
        {
          "output_type": "display_data",
          "data": {
            "text/html": [
              "<p style=\"color: red;\">\n",
              "The default version of TensorFlow in Colab will soon switch to TensorFlow 2.x.<br>\n",
              "We recommend you <a href=\"https://www.tensorflow.org/guide/migrate\" target=\"_blank\">upgrade</a> now \n",
              "or ensure your notebook will continue to use TensorFlow 1.x via the <code>%tensorflow_version 1.x</code> magic:\n",
              "<a href=\"https://colab.research.google.com/notebooks/tensorflow_version.ipynb\" target=\"_blank\">more info</a>.</p>\n"
            ],
            "text/plain": [
              "<IPython.core.display.HTML object>"
            ]
          },
          "metadata": {
            "tags": []
          }
        }
      ]
    },
    {
      "cell_type": "code",
      "metadata": {
        "id": "XEGLLDt8AO22",
        "colab_type": "code",
        "outputId": "c0044dd4-3601-404f-d549-d490a6eda9f4",
        "colab": {
          "base_uri": "https://localhost:8080/",
          "height": 126
        }
      },
      "source": [
        "from google.colab import drive\n",
        "drive.mount('/content/drive')"
      ],
      "execution_count": 0,
      "outputs": [
        {
          "output_type": "stream",
          "text": [
            "Go to this URL in a browser: https://accounts.google.com/o/oauth2/auth?client_id=947318989803-6bn6qk8qdgf4n4g3pfee6491hc0brc4i.apps.googleusercontent.com&redirect_uri=urn%3aietf%3awg%3aoauth%3a2.0%3aoob&response_type=code&scope=email%20https%3a%2f%2fwww.googleapis.com%2fauth%2fdocs.test%20https%3a%2f%2fwww.googleapis.com%2fauth%2fdrive%20https%3a%2f%2fwww.googleapis.com%2fauth%2fdrive.photos.readonly%20https%3a%2f%2fwww.googleapis.com%2fauth%2fpeopleapi.readonly\n",
            "\n",
            "Enter your authorization code:\n",
            "··········\n",
            "Mounted at /content/drive\n"
          ],
          "name": "stdout"
        }
      ]
    },
    {
      "cell_type": "markdown",
      "metadata": {
        "id": "A8cbJT963Lsl",
        "colab_type": "text"
      },
      "source": [
        "# Загрузка машин"
      ]
    },
    {
      "cell_type": "code",
      "metadata": {
        "id": "WbsUlTEXt3nu",
        "colab_type": "code",
        "colab": {}
      },
      "source": [
        "# загружаем машины\n",
        "cars = pd.read_csv('/content/drive/My Drive/Базы/cars_new.csv', sep=',')"
      ],
      "execution_count": 0,
      "outputs": []
    },
    {
      "cell_type": "code",
      "metadata": {
        "id": "apdLXuMkvI2o",
        "colab_type": "code",
        "outputId": "fa6868fd-6eb5-4d32-eea8-86b05e78675b",
        "colab": {
          "base_uri": "https://localhost:8080/",
          "height": 194
        }
      },
      "source": [
        "# смотрим первые 5 машин\n",
        "cars[:5]"
      ],
      "execution_count": 0,
      "outputs": [
        {
          "output_type": "execute_result",
          "data": {
            "text/html": [
              "<div>\n",
              "<style scoped>\n",
              "    .dataframe tbody tr th:only-of-type {\n",
              "        vertical-align: middle;\n",
              "    }\n",
              "\n",
              "    .dataframe tbody tr th {\n",
              "        vertical-align: top;\n",
              "    }\n",
              "\n",
              "    .dataframe thead th {\n",
              "        text-align: right;\n",
              "    }\n",
              "</style>\n",
              "<table border=\"1\" class=\"dataframe\">\n",
              "  <thead>\n",
              "    <tr style=\"text-align: right;\">\n",
              "      <th></th>\n",
              "      <th>mark</th>\n",
              "      <th>model</th>\n",
              "      <th>price</th>\n",
              "      <th>year</th>\n",
              "      <th>mileage</th>\n",
              "      <th>body</th>\n",
              "      <th>kpp</th>\n",
              "      <th>fuel</th>\n",
              "      <th>volume</th>\n",
              "      <th>power</th>\n",
              "    </tr>\n",
              "  </thead>\n",
              "  <tbody>\n",
              "    <tr>\n",
              "      <th>0</th>\n",
              "      <td>kia</td>\n",
              "      <td>cerato</td>\n",
              "      <td>996000</td>\n",
              "      <td>2018</td>\n",
              "      <td>28000</td>\n",
              "      <td>седан</td>\n",
              "      <td>автомат</td>\n",
              "      <td>бензин</td>\n",
              "      <td>2.0</td>\n",
              "      <td>150.0</td>\n",
              "    </tr>\n",
              "    <tr>\n",
              "      <th>1</th>\n",
              "      <td>daewoo</td>\n",
              "      <td>nexia 1 поколение [2-й рестайлинг]</td>\n",
              "      <td>140200</td>\n",
              "      <td>2012</td>\n",
              "      <td>60500</td>\n",
              "      <td>седан</td>\n",
              "      <td>механика</td>\n",
              "      <td>бензин</td>\n",
              "      <td>1.5</td>\n",
              "      <td>80.0</td>\n",
              "    </tr>\n",
              "    <tr>\n",
              "      <th>2</th>\n",
              "      <td>suzuki</td>\n",
              "      <td>jimny 3 поколение [рестайлинг]</td>\n",
              "      <td>750000</td>\n",
              "      <td>2011</td>\n",
              "      <td>29000</td>\n",
              "      <td>внедорожник</td>\n",
              "      <td>автомат</td>\n",
              "      <td>бензин</td>\n",
              "      <td>1.3</td>\n",
              "      <td>85.0</td>\n",
              "    </tr>\n",
              "    <tr>\n",
              "      <th>3</th>\n",
              "      <td>bmw</td>\n",
              "      <td>x1 18 e84 [рестайлинг]</td>\n",
              "      <td>970000</td>\n",
              "      <td>2014</td>\n",
              "      <td>49500</td>\n",
              "      <td>кроссовер</td>\n",
              "      <td>автомат</td>\n",
              "      <td>бензин</td>\n",
              "      <td>2.0</td>\n",
              "      <td>150.0</td>\n",
              "    </tr>\n",
              "    <tr>\n",
              "      <th>4</th>\n",
              "      <td>chevrolet</td>\n",
              "      <td>lacetti 1 поколение</td>\n",
              "      <td>205000</td>\n",
              "      <td>2007</td>\n",
              "      <td>151445</td>\n",
              "      <td>седан</td>\n",
              "      <td>механика</td>\n",
              "      <td>бензин</td>\n",
              "      <td>1.4</td>\n",
              "      <td>95.0</td>\n",
              "    </tr>\n",
              "  </tbody>\n",
              "</table>\n",
              "</div>"
            ],
            "text/plain": [
              "        mark                               model   price  ...    fuel  volume  power\n",
              "0        kia                              cerato  996000  ...  бензин     2.0  150.0\n",
              "1     daewoo  nexia 1 поколение [2-й рестайлинг]  140200  ...  бензин     1.5   80.0\n",
              "2     suzuki      jimny 3 поколение [рестайлинг]  750000  ...  бензин     1.3   85.0\n",
              "3        bmw              x1 18 e84 [рестайлинг]  970000  ...  бензин     2.0  150.0\n",
              "4  chevrolet                 lacetti 1 поколение  205000  ...  бензин     1.4   95.0\n",
              "\n",
              "[5 rows x 10 columns]"
            ]
          },
          "metadata": {
            "tags": []
          },
          "execution_count": 4
        }
      ]
    },
    {
      "cell_type": "markdown",
      "metadata": {
        "id": "kPvHxI0d3NsF",
        "colab_type": "text"
      },
      "source": [
        "# Функции для предобработки"
      ]
    },
    {
      "cell_type": "code",
      "metadata": {
        "id": "oxf1LWsdt5i_",
        "colab_type": "code",
        "colab": {}
      },
      "source": [
        "# создание словаря\n",
        "\n",
        "# s - структура данных set со строковыми значениями\n",
        "def create_dict(s):\n",
        "  ret = {}\n",
        "  # проходим по всем элементам принятого set'a\n",
        "  # так как set не поддерживает индексацию, то \n",
        "  # используем enumerate, который вернёт кортеж (номер элемента, сам элемент)\n",
        "  for _id, name in enumerate(s):\n",
        "    # добавляем в словарь элемент {строка: число}\n",
        "    ret.update({name: _id})\n",
        "  return ret"
      ],
      "execution_count": 0,
      "outputs": []
    },
    {
      "cell_type": "code",
      "metadata": {
        "id": "42835xJMv3V8",
        "colab_type": "code",
        "colab": {}
      },
      "source": [
        "# преобразование значения в OHE\n",
        "\n",
        "# value - строковое значение\n",
        "# d - словарь\n",
        "def to_ohe(value, d):\n",
        "  # создаём массив нулей по количеству элементов словаря\n",
        "  arr = [0] * len(d)\n",
        "  # в элемент по индексу, взятому из словаря ставим 1\n",
        "  # таким образом получится рещультат на подобии [0, 0, 0, 1, 0, 0]\n",
        "  arr[d[value]] = 1\n",
        "  # возвращаем массив OHE\n",
        "  return arr"
      ],
      "execution_count": 0,
      "outputs": []
    },
    {
      "cell_type": "markdown",
      "metadata": {
        "id": "PQD9Zs1kVZCF",
        "colab_type": "text"
      },
      "source": [
        "# Изменение параметров предобработки"
      ]
    },
    {
      "cell_type": "code",
      "metadata": {
        "id": "2J_3Lh91WqUe",
        "colab_type": "code",
        "colab": {}
      },
      "source": [
        "# собираем словари\n",
        "marks_dict = create_dict(set(cars['mark']))\n",
        "models_dict = create_dict(set(cars['model']))\n",
        "bodies_dict = create_dict(set(cars['body']))\n",
        "kpps_dict = create_dict(set(cars['kpp']))\n",
        "fuels_dict = create_dict(set(cars['fuel']))\n",
        "years_dict = create_dict(set(cars['year']))\n",
        "\n",
        "# цены никак не меняем, переводим в numpy массив\n",
        "prices = np.array(cars['price'], dtype=np.float)\n",
        "\n",
        "# нормализуем\n",
        "years = preprocessing.scale(cars['year'])\n",
        "mileages = preprocessing.scale(cars['mileage'])\n",
        "volumes = preprocessing.scale(cars['volume'])\n",
        "powers = preprocessing.scale(cars['power'])\n",
        "\n",
        "# не нормализованные параметры машин\n",
        "years_raw = cars['year']\n",
        "mileages_raw = cars['mileage']\n",
        "volumes_raw = cars['volume']\n",
        "powers_raw = cars['power']"
      ],
      "execution_count": 0,
      "outputs": []
    },
    {
      "cell_type": "code",
      "metadata": {
        "id": "JVe7fpp3V2Gt",
        "colab_type": "code",
        "colab": {}
      },
      "source": [
        "# 80% на обучение, 20% на валидацию\n",
        "val_split = 0.2\n",
        "visible = -50"
      ],
      "execution_count": 0,
      "outputs": []
    },
    {
      "cell_type": "code",
      "metadata": {
        "id": "NgoQztMWWKcv",
        "colab_type": "code",
        "colab": {}
      },
      "source": [
        "# функция для обучения сети на датамете\n",
        "def train(x, y):\n",
        "  # преобразуем датасеты в numpy массивы\n",
        "  x = np.array(x, dtype=np.float)\n",
        "  y = np.array(y, dtype=np.float)\n",
        "  \n",
        "  # разбиваем датасеты на проверочную и обучающую выборки\n",
        "  x_train = x[:int((1.0 - val_split) * len(x))]\n",
        "  y_train = y[:int((1.0 - val_split) * len(x))]\n",
        "  x_val = x[int((1.0 - val_split) * len(x)):]\n",
        "  y_val = y[int((1.0 - val_split) * len(x)):]\n",
        "  \n",
        "  # выводим статус выполнения задачи\n",
        "  print('Получены обучающая и валидационная выборки')\n",
        "  \n",
        "  # создаём модель\n",
        "  model = Sequential()\n",
        "  model.add(Dense(500, activation='relu', input_shape=(x.shape[1],)))\n",
        "  model.add(Dense(15, activation='relu'))\n",
        "  model.add(Dense(1, activation='linear'))\n",
        "  \n",
        "  # компилируем модель\n",
        "  model.compile(optimizer=Adam(lr=0.001), loss='mse', metrics=['mae'])\n",
        "  \n",
        "  # выводим статус выполнения задачи\n",
        "  print('Обучение модели...')\n",
        "  \n",
        "  # обучаем модель\n",
        "  history = model.fit(\n",
        "      x_train,  # обучающая выборка\n",
        "      y_train, \n",
        "      batch_size=100,  # размер пакета\n",
        "      epochs=50,  # количество эпох\n",
        "      validation_data=[x_val, y_val],  # валидационная выборка\n",
        "      verbose=1  # выводим информацию об эпохах\n",
        "  )\n",
        "  return history"
      ],
      "execution_count": 0,
      "outputs": []
    },
    {
      "cell_type": "markdown",
      "metadata": {
        "id": "DJXVmolwzyvX",
        "colab_type": "text"
      },
      "source": [
        "**Без изменений**"
      ]
    },
    {
      "cell_type": "code",
      "metadata": {
        "id": "-rewWsiguMrl",
        "colab_type": "code",
        "outputId": "89f6df9e-5590-49a8-aa97-0f3f5be94ed0",
        "colab": {
          "base_uri": "https://localhost:8080/",
          "height": 1000
        }
      },
      "source": [
        "# выводим статус выполнения задачи\n",
        "print('Старт')\n",
        "\n",
        "# массивы x и y\n",
        "x = []\n",
        "y = []\n",
        "\n",
        "# собираем массивы\n",
        "for _id, car in enumerate(np.array(cars)):\n",
        "  # добавляем в y цену автомобиля\n",
        "  y.append(prices[_id])\n",
        "  # x_tr - массив, содержащий параметры машины, часть в OHE, часть в нормализованном виде\n",
        "  x_tr = to_ohe(car[0], marks_dict) + to_ohe(car[1], models_dict) + to_ohe(car[5], bodies_dict) + to_ohe(car[6], kpps_dict) + to_ohe(car[7], fuels_dict) + [years[_id]] + [mileages[_id]] + [volumes[_id]] + [powers[_id]]\n",
        "  # добавляем x_tr в x\n",
        "  x.append(x_tr)\n",
        "\n",
        "# выводим статус выполнения задачи\n",
        "print('X, Y собраны')\n",
        "# запускаем обучение\n",
        "history1 = train(x, y)"
      ],
      "execution_count": 0,
      "outputs": [
        {
          "output_type": "stream",
          "text": [
            "Старт\n",
            "X, Y собраны\n",
            "Получены обучающая и валидационная выборки\n",
            "Обучение модели...\n",
            "Train on 56095 samples, validate on 14024 samples\n",
            "Epoch 1/50\n",
            "56095/56095 [==============================] - 4s 71us/sample - loss: 654090670785.7285 - mean_absolute_error: 525720.6250 - val_loss: 704991207769.8118 - val_mean_absolute_error: 524324.3750\n",
            "Epoch 2/50\n",
            "56095/56095 [==============================] - 4s 70us/sample - loss: 628406761184.8528 - mean_absolute_error: 507397.2812 - val_loss: 656660704296.3058 - val_mean_absolute_error: 489237.1875\n",
            "Epoch 3/50\n",
            "56095/56095 [==============================] - 4s 69us/sample - loss: 556766966755.6139 - mean_absolute_error: 452520.9375 - val_loss: 562086902564.9469 - val_mean_absolute_error: 414913.0938\n",
            "Epoch 4/50\n",
            "56095/56095 [==============================] - 4s 68us/sample - loss: 448196568105.3470 - mean_absolute_error: 363780.8438 - val_loss: 444255041294.1654 - val_mean_absolute_error: 315319.9062\n",
            "Epoch 5/50\n",
            "56095/56095 [==============================] - 4s 68us/sample - loss: 337832703822.3813 - mean_absolute_error: 267252.7500 - val_loss: 344556005832.7986 - val_mean_absolute_error: 232045.9062\n",
            "Epoch 6/50\n",
            "56095/56095 [==============================] - 4s 68us/sample - loss: 258613434426.2326 - mean_absolute_error: 209832.4531 - val_loss: 283250847404.6138 - val_mean_absolute_error: 202684.6406\n",
            "Epoch 7/50\n",
            "56095/56095 [==============================] - 4s 68us/sample - loss: 215173559864.5441 - mean_absolute_error: 194516.8594 - val_loss: 251523168405.5402 - val_mean_absolute_error: 196896.0156\n",
            "Epoch 8/50\n",
            "56095/56095 [==============================] - 4s 68us/sample - loss: 192965545982.9047 - mean_absolute_error: 190525.8906 - val_loss: 233741874451.7148 - val_mean_absolute_error: 191896.2188\n",
            "Epoch 9/50\n",
            "56095/56095 [==============================] - 4s 69us/sample - loss: 179380360626.5542 - mean_absolute_error: 185500.4062 - val_loss: 221474682621.2253 - val_mean_absolute_error: 187878.7500\n",
            "Epoch 10/50\n",
            "56095/56095 [==============================] - 4s 68us/sample - loss: 169773176467.8178 - mean_absolute_error: 181705.7969 - val_loss: 212423453678.4758 - val_mean_absolute_error: 184908.7031\n",
            "Epoch 11/50\n",
            "56095/56095 [==============================] - 4s 69us/sample - loss: 162544012279.8766 - mean_absolute_error: 179683.1875 - val_loss: 205496518616.8625 - val_mean_absolute_error: 181861.8750\n",
            "Epoch 12/50\n",
            "56095/56095 [==============================] - 4s 70us/sample - loss: 156729527412.3740 - mean_absolute_error: 176950.4062 - val_loss: 199623651822.7678 - val_mean_absolute_error: 180640.4688\n",
            "Epoch 13/50\n",
            "56095/56095 [==============================] - 4s 69us/sample - loss: 151709616396.8924 - mean_absolute_error: 175051.3906 - val_loss: 194374192454.5351 - val_mean_absolute_error: 180068.1094\n",
            "Epoch 14/50\n",
            "56095/56095 [==============================] - 4s 69us/sample - loss: 147301719800.7666 - mean_absolute_error: 174441.6406 - val_loss: 189937393283.1398 - val_mean_absolute_error: 177363.5625\n",
            "Epoch 15/50\n",
            "56095/56095 [==============================] - 4s 70us/sample - loss: 143367253130.6448 - mean_absolute_error: 172049.7031 - val_loss: 185798092927.9270 - val_mean_absolute_error: 175719.8750\n",
            "Epoch 16/50\n",
            "56095/56095 [==============================] - 4s 70us/sample - loss: 139755107794.6826 - mean_absolute_error: 170151.1250 - val_loss: 181982306476.9059 - val_mean_absolute_error: 174114.8906\n",
            "Epoch 17/50\n",
            "56095/56095 [==============================] - 4s 69us/sample - loss: 136420108957.0365 - mean_absolute_error: 168133.3125 - val_loss: 178374100259.4866 - val_mean_absolute_error: 172668.3750\n",
            "Epoch 18/50\n",
            "56095/56095 [==============================] - 4s 68us/sample - loss: 133324702708.7733 - mean_absolute_error: 166441.7031 - val_loss: 175110441158.9002 - val_mean_absolute_error: 170641.3594\n",
            "Epoch 19/50\n",
            "56095/56095 [==============================] - 4s 69us/sample - loss: 130431102304.5904 - mean_absolute_error: 163883.4844 - val_loss: 171945130905.7752 - val_mean_absolute_error: 169111.3438\n",
            "Epoch 20/50\n",
            "56095/56095 [==============================] - 4s 69us/sample - loss: 127715484830.1774 - mean_absolute_error: 162152.7500 - val_loss: 168978486096.7576 - val_mean_absolute_error: 166972.5156\n",
            "Epoch 21/50\n",
            "56095/56095 [==============================] - 4s 68us/sample - loss: 125126827688.0806 - mean_absolute_error: 160127.3750 - val_loss: 166188993157.4763 - val_mean_absolute_error: 164357.4219\n",
            "Epoch 22/50\n",
            "56095/56095 [==============================] - 4s 68us/sample - loss: 122669207163.9041 - mean_absolute_error: 157981.6562 - val_loss: 163486111987.0028 - val_mean_absolute_error: 161959.5938\n",
            "Epoch 23/50\n",
            "56095/56095 [==============================] - 4s 69us/sample - loss: 120327517017.9731 - mean_absolute_error: 155523.0938 - val_loss: 161010302596.8922 - val_mean_absolute_error: 159126.3750\n",
            "Epoch 24/50\n",
            "56095/56095 [==============================] - 4s 68us/sample - loss: 118066562050.6469 - mean_absolute_error: 152819.6875 - val_loss: 158465716923.2173 - val_mean_absolute_error: 156899.1250\n",
            "Epoch 25/50\n",
            "56095/56095 [==============================] - 4s 70us/sample - loss: 115865935246.2273 - mean_absolute_error: 150250.6094 - val_loss: 155998973911.6942 - val_mean_absolute_error: 154716.3750\n",
            "Epoch 26/50\n",
            "56095/56095 [==============================] - 4s 69us/sample - loss: 113723456536.1875 - mean_absolute_error: 148071.3750 - val_loss: 153657515692.6138 - val_mean_absolute_error: 151868.5000\n",
            "Epoch 27/50\n",
            "56095/56095 [==============================] - 4s 70us/sample - loss: 111606955507.3586 - mean_absolute_error: 145655.2344 - val_loss: 151443317420.6138 - val_mean_absolute_error: 148669.6875\n",
            "Epoch 28/50\n",
            "56095/56095 [==============================] - 4s 69us/sample - loss: 109555233765.8044 - mean_absolute_error: 142524.9219 - val_loss: 149041360937.7661 - val_mean_absolute_error: 146462.7188\n",
            "Epoch 29/50\n",
            "56095/56095 [==============================] - 4s 69us/sample - loss: 107518965355.4748 - mean_absolute_error: 140133.9062 - val_loss: 146847760215.4752 - val_mean_absolute_error: 143352.5000\n",
            "Epoch 30/50\n",
            "56095/56095 [==============================] - 4s 69us/sample - loss: 105514802733.4087 - mean_absolute_error: 137183.2656 - val_loss: 144574562029.4535 - val_mean_absolute_error: 140816.9688\n",
            "Epoch 31/50\n",
            "56095/56095 [==============================] - 4s 69us/sample - loss: 103550886091.1753 - mean_absolute_error: 134881.7344 - val_loss: 142482568447.5619 - val_mean_absolute_error: 137806.6094\n",
            "Epoch 32/50\n",
            "56095/56095 [==============================] - 4s 70us/sample - loss: 101675545086.5853 - mean_absolute_error: 131777.7031 - val_loss: 140293749439.3063 - val_mean_absolute_error: 135563.1094\n",
            "Epoch 33/50\n",
            "56095/56095 [==============================] - 4s 74us/sample - loss: 99862730561.2379 - mean_absolute_error: 129434.1875 - val_loss: 138264389306.0491 - val_mean_absolute_error: 133071.2656\n",
            "Epoch 34/50\n",
            "56095/56095 [==============================] - 4s 70us/sample - loss: 98127047336.9021 - mean_absolute_error: 126962.4297 - val_loss: 136280630612.8465 - val_mean_absolute_error: 130846.3359\n",
            "Epoch 35/50\n",
            "56095/56095 [==============================] - 4s 69us/sample - loss: 96452450590.0519 - mean_absolute_error: 124739.5000 - val_loss: 134365512911.6623 - val_mean_absolute_error: 128715.2500\n",
            "Epoch 36/50\n",
            "56095/56095 [==============================] - 4s 69us/sample - loss: 94843611472.0699 - mean_absolute_error: 122677.9688 - val_loss: 132558677943.5665 - val_mean_absolute_error: 126356.0000\n",
            "Epoch 37/50\n",
            "56095/56095 [==============================] - 4s 70us/sample - loss: 93262884389.1940 - mean_absolute_error: 120274.5000 - val_loss: 130700395031.3657 - val_mean_absolute_error: 124412.8906\n",
            "Epoch 38/50\n",
            "56095/56095 [==============================] - 4s 69us/sample - loss: 91755948916.4425 - mean_absolute_error: 118322.4375 - val_loss: 129059218506.1860 - val_mean_absolute_error: 121757.8984\n",
            "Epoch 39/50\n",
            "56095/56095 [==============================] - 4s 69us/sample - loss: 90252289329.3106 - mean_absolute_error: 115863.0781 - val_loss: 127269920819.9886 - val_mean_absolute_error: 119944.2109\n",
            "Epoch 40/50\n",
            "56095/56095 [==============================] - 4s 68us/sample - loss: 88824077367.0381 - mean_absolute_error: 114149.5156 - val_loss: 125714600155.3451 - val_mean_absolute_error: 117464.1562\n",
            "Epoch 41/50\n",
            "56095/56095 [==============================] - 4s 69us/sample - loss: 87457246937.9160 - mean_absolute_error: 111618.3750 - val_loss: 124102167044.9652 - val_mean_absolute_error: 115552.1719\n",
            "Epoch 42/50\n",
            "56095/56095 [==============================] - 4s 70us/sample - loss: 86118942314.9272 - mean_absolute_error: 109668.3984 - val_loss: 122574169929.4558 - val_mean_absolute_error: 113487.0078\n",
            "Epoch 43/50\n",
            "56095/56095 [==============================] - 4s 69us/sample - loss: 84840154479.5593 - mean_absolute_error: 107844.1016 - val_loss: 121141784335.0416 - val_mean_absolute_error: 111449.9609\n",
            "Epoch 44/50\n",
            "56095/56095 [==============================] - 4s 68us/sample - loss: 83601370299.2024 - mean_absolute_error: 105744.1172 - val_loss: 119677204923.0713 - val_mean_absolute_error: 109830.4375\n",
            "Epoch 45/50\n",
            "56095/56095 [==============================] - 4s 68us/sample - loss: 82420170002.2776 - mean_absolute_error: 104128.6328 - val_loss: 118346045852.9880 - val_mean_absolute_error: 108073.7422\n",
            "Epoch 46/50\n",
            "56095/56095 [==============================] - 4s 70us/sample - loss: 81291861167.3368 - mean_absolute_error: 102540.2812 - val_loss: 117007337650.8933 - val_mean_absolute_error: 106560.2578\n",
            "Epoch 47/50\n",
            "56095/56095 [==============================] - 4s 68us/sample - loss: 80236642842.2412 - mean_absolute_error: 100959.8203 - val_loss: 115752939425.9532 - val_mean_absolute_error: 105153.1953\n",
            "Epoch 48/50\n",
            "56095/56095 [==============================] - 4s 70us/sample - loss: 79188806279.6784 - mean_absolute_error: 99452.1719 - val_loss: 114501351680.7302 - val_mean_absolute_error: 103981.0312\n",
            "Epoch 49/50\n",
            "56095/56095 [==============================] - 4s 69us/sample - loss: 78218258179.2630 - mean_absolute_error: 98601.2656 - val_loss: 113449024847.7353 - val_mean_absolute_error: 102390.3125\n",
            "Epoch 50/50\n",
            "56095/56095 [==============================] - 4s 73us/sample - loss: 77307644108.2706 - mean_absolute_error: 97042.3359 - val_loss: 112321377698.9755 - val_mean_absolute_error: 101334.0000\n"
          ],
          "name": "stdout"
        }
      ]
    },
    {
      "cell_type": "code",
      "metadata": {
        "id": "m9DmHFGzbAS1",
        "colab_type": "code",
        "outputId": "2ad2795b-cb89-4c63-a708-8d8644d55e9e",
        "colab": {
          "base_uri": "https://localhost:8080/",
          "height": 312
        }
      },
      "source": [
        "# название графика\n",
        "plt.title('Без изменений')\n",
        "# рисуем графики MAE\n",
        "plt.plot(history1.history['mean_absolute_error'][visible:], label='MAE на обучающем наборе')\n",
        "plt.plot(history1.history['val_mean_absolute_error'][visible:], label='MAE на проверочном наборе')\n",
        "# название шкалы X\n",
        "plt.xlabel('Эпоха обучения')\n",
        "# название шкалы Y\n",
        "plt.ylabel('MAE')\n",
        "# рисуем обозначения на графике\n",
        "plt.legend()\n",
        "# показываем график\n",
        "plt.show()\n",
        "# выводим результирующую MAE и loss на валидации\n",
        "print('Валидационная выборка: MAE: {:.0f}'.format(history1.history['val_mean_absolute_error'][-1]))"
      ],
      "execution_count": 0,
      "outputs": [
        {
          "output_type": "display_data",
          "data": {
            "image/png": "[encoded data removed]",
            "text/plain": [
              "<Figure size 432x288 with 1 Axes>"
            ]
          },
          "metadata": {
            "tags": []
          }
        },
        {
          "output_type": "stream",
          "text": [
            "Валидационная выборка: MAE: 101334\n"
          ],
          "name": "stdout"
        }
      ]
    },
    {
      "cell_type": "markdown",
      "metadata": {
        "id": "1AfecRe8z4n7",
        "colab_type": "text"
      },
      "source": [
        "**Год в OHE**"
      ]
    },
    {
      "cell_type": "code",
      "metadata": {
        "id": "a8FtGWD634Eu",
        "colab_type": "code",
        "outputId": "eac4074c-12ac-4817-d044-2dd4a0bcf3db",
        "colab": {
          "base_uri": "https://localhost:8080/",
          "height": 1000
        }
      },
      "source": [
        "print('Старт')\n",
        "\n",
        "x = []\n",
        "y = []\n",
        "\n",
        "for _id, car in enumerate(np.array(cars)):\n",
        "  y.append(prices[_id])\n",
        "  x_tr = to_ohe(car[0], marks_dict) + to_ohe(car[1], models_dict) + to_ohe(car[5], bodies_dict) + to_ohe(car[6], kpps_dict) + to_ohe(car[7], fuels_dict) + to_ohe(car[3], years_dict) + [mileages[_id]] + [volumes[_id]] + [powers[_id]]\n",
        "  x.append(x_tr)\n",
        "\n",
        "print('X, Y собраны')\n",
        "history2 = train(x, y)"
      ],
      "execution_count": 0,
      "outputs": [
        {
          "output_type": "stream",
          "text": [
            "Старт\n",
            "X, Y собраны\n",
            "Получены обучающая и валидационная выборки\n",
            "Обучение модели...\n",
            "Train on 56095 samples, validate on 14024 samples\n",
            "Epoch 1/50\n",
            "56095/56095 [==============================] - 4s 73us/sample - loss: 650023462314.8872 - mean_absolute_error: 522347.3438 - val_loss: 687815249884.9515 - val_mean_absolute_error: 510002.5312\n",
            "Epoch 2/50\n",
            "56095/56095 [==============================] - 4s 70us/sample - loss: 571475065729.2208 - mean_absolute_error: 457206.9062 - val_loss: 548547844115.8608 - val_mean_absolute_error: 392911.0000\n",
            "Epoch 3/50\n",
            "56095/56095 [==============================] - 4s 71us/sample - loss: 403201828068.2756 - mean_absolute_error: 316833.2188 - val_loss: 377997934975.1968 - val_mean_absolute_error: 259643.6406\n",
            "Epoch 4/50\n",
            "56095/56095 [==============================] - 4s 71us/sample - loss: 276428567193.5681 - mean_absolute_error: 232874.5625 - val_loss: 293593739792.0639 - val_mean_absolute_error: 223281.4688\n",
            "Epoch 5/50\n",
            "56095/56095 [==============================] - 4s 70us/sample - loss: 221590031610.7289 - mean_absolute_error: 209242.7500 - val_loss: 255886370233.0268 - val_mean_absolute_error: 206716.9375\n",
            "Epoch 6/50\n",
            "56095/56095 [==============================] - 4s 70us/sample - loss: 195428558259.6495 - mean_absolute_error: 195813.4219 - val_loss: 235559258849.1865 - val_mean_absolute_error: 196150.9844\n",
            "Epoch 7/50\n",
            "56095/56095 [==============================] - 4s 70us/sample - loss: 180107446294.0882 - mean_absolute_error: 189615.4219 - val_loss: 222041658275.7057 - val_mean_absolute_error: 192356.1406\n",
            "Epoch 8/50\n",
            "56095/56095 [==============================] - 4s 70us/sample - loss: 169522867077.7845 - mean_absolute_error: 186619.8281 - val_loss: 212147520558.7313 - val_mean_absolute_error: 189897.4062\n",
            "Epoch 9/50\n",
            "56095/56095 [==============================] - 4s 70us/sample - loss: 161225800438.4847 - mean_absolute_error: 183995.1250 - val_loss: 203937058276.8374 - val_mean_absolute_error: 189360.4531\n",
            "Epoch 10/50\n",
            "56095/56095 [==============================] - 4s 70us/sample - loss: 154389364875.4662 - mean_absolute_error: 183096.0625 - val_loss: 197365110757.1295 - val_mean_absolute_error: 186784.0625\n",
            "Epoch 11/50\n",
            "56095/56095 [==============================] - 4s 70us/sample - loss: 148667732434.5913 - mean_absolute_error: 180856.8125 - val_loss: 191484693215.4341 - val_mean_absolute_error: 185974.1719\n",
            "Epoch 12/50\n",
            "56095/56095 [==============================] - 4s 70us/sample - loss: 143730019039.4837 - mean_absolute_error: 179489.7812 - val_loss: 186446314851.7422 - val_mean_absolute_error: 184992.1406\n",
            "Epoch 13/50\n",
            "56095/56095 [==============================] - 4s 71us/sample - loss: 139480613449.6123 - mean_absolute_error: 178184.1250 - val_loss: 182023396385.8802 - val_mean_absolute_error: 184074.6719\n",
            "Epoch 14/50\n",
            "56095/56095 [==============================] - 4s 70us/sample - loss: 135790753823.9458 - mean_absolute_error: 177142.7656 - val_loss: 178226444279.8220 - val_mean_absolute_error: 182312.6719\n",
            "Epoch 15/50\n",
            "56095/56095 [==============================] - 4s 70us/sample - loss: 132509810665.3641 - mean_absolute_error: 175518.4688 - val_loss: 174804483181.2345 - val_mean_absolute_error: 180738.9062\n",
            "Epoch 16/50\n",
            "56095/56095 [==============================] - 4s 70us/sample - loss: 129533418519.6399 - mean_absolute_error: 174022.7969 - val_loss: 171653869226.8614 - val_mean_absolute_error: 179044.2031\n",
            "Epoch 17/50\n",
            "56095/56095 [==============================] - 4s 69us/sample - loss: 126796587238.9225 - mean_absolute_error: 172059.9375 - val_loss: 168619381844.1164 - val_mean_absolute_error: 177557.5000\n",
            "Epoch 18/50\n",
            "56095/56095 [==============================] - 4s 71us/sample - loss: 124215300554.5592 - mean_absolute_error: 170477.9375 - val_loss: 165858132345.9395 - val_mean_absolute_error: 175470.0156\n",
            "Epoch 19/50\n",
            "56095/56095 [==============================] - 4s 70us/sample - loss: 121734157212.4204 - mean_absolute_error: 168111.3750 - val_loss: 163150215197.7912 - val_mean_absolute_error: 173663.4531\n",
            "Epoch 20/50\n",
            "56095/56095 [==============================] - 4s 70us/sample - loss: 119392001635.4427 - mean_absolute_error: 166606.9688 - val_loss: 160717422332.6412 - val_mean_absolute_error: 171349.8906\n",
            "Epoch 21/50\n",
            "56095/56095 [==============================] - 4s 70us/sample - loss: 117146867364.6122 - mean_absolute_error: 163658.2344 - val_loss: 158128055479.4204 - val_mean_absolute_error: 169684.6094\n",
            "Epoch 22/50\n",
            "56095/56095 [==============================] - 4s 70us/sample - loss: 114973429811.8435 - mean_absolute_error: 162095.5156 - val_loss: 155768061035.4820 - val_mean_absolute_error: 167569.7656\n",
            "Epoch 23/50\n",
            "56095/56095 [==============================] - 4s 71us/sample - loss: 112907848412.0153 - mean_absolute_error: 160273.2031 - val_loss: 153588861523.2402 - val_mean_absolute_error: 164945.8906\n",
            "Epoch 24/50\n",
            "56095/56095 [==============================] - 4s 71us/sample - loss: 110859761059.9504 - mean_absolute_error: 157407.7812 - val_loss: 151324217925.8049 - val_mean_absolute_error: 162866.2188\n",
            "Epoch 25/50\n",
            "56095/56095 [==============================] - 4s 70us/sample - loss: 108852914700.8240 - mean_absolute_error: 155244.4844 - val_loss: 149112499236.2168 - val_mean_absolute_error: 160788.6875\n",
            "Epoch 26/50\n",
            "56095/56095 [==============================] - 4s 70us/sample - loss: 106915770365.4443 - mean_absolute_error: 152930.0938 - val_loss: 146922364067.5596 - val_mean_absolute_error: 158880.4688\n",
            "Epoch 27/50\n",
            "56095/56095 [==============================] - 4s 70us/sample - loss: 104984347166.5311 - mean_absolute_error: 151395.2500 - val_loss: 144953786228.9743 - val_mean_absolute_error: 156161.2031\n",
            "Epoch 28/50\n",
            "56095/56095 [==============================] - 4s 70us/sample - loss: 103110709108.5337 - mean_absolute_error: 148068.9531 - val_loss: 142742116860.7872 - val_mean_absolute_error: 154500.1250\n",
            "Epoch 29/50\n",
            "56095/56095 [==============================] - 4s 71us/sample - loss: 101273847574.8869 - mean_absolute_error: 146183.2188 - val_loss: 140748503872.9857 - val_mean_absolute_error: 152058.2344\n",
            "Epoch 30/50\n",
            "56095/56095 [==============================] - 4s 71us/sample - loss: 99491182034.1349 - mean_absolute_error: 144374.4688 - val_loss: 138840683518.2476 - val_mean_absolute_error: 149466.8750\n",
            "Epoch 31/50\n",
            "56095/56095 [==============================] - 4s 70us/sample - loss: 97761205413.1142 - mean_absolute_error: 141804.2188 - val_loss: 136949483949.9281 - val_mean_absolute_error: 147175.4844\n",
            "Epoch 32/50\n",
            "56095/56095 [==============================] - 4s 70us/sample - loss: 96059033195.2923 - mean_absolute_error: 139610.6094 - val_loss: 135092807894.9641 - val_mean_absolute_error: 144937.9531\n",
            "Epoch 33/50\n",
            "56095/56095 [==============================] - 4s 70us/sample - loss: 94420599434.5992 - mean_absolute_error: 137469.5625 - val_loss: 133298529269.4855 - val_mean_absolute_error: 142435.0000\n",
            "Epoch 34/50\n",
            "56095/56095 [==============================] - 4s 71us/sample - loss: 92790381503.2869 - mean_absolute_error: 134630.1562 - val_loss: 131431146568.4335 - val_mean_absolute_error: 140557.0000\n",
            "Epoch 35/50\n",
            "56095/56095 [==============================] - 4s 71us/sample - loss: 91200821783.7768 - mean_absolute_error: 132694.1094 - val_loss: 129672378376.1780 - val_mean_absolute_error: 138448.5000\n",
            "Epoch 36/50\n",
            "56095/56095 [==============================] - 4s 70us/sample - loss: 89678968831.8175 - mean_absolute_error: 130699.8203 - val_loss: 128016441370.5784 - val_mean_absolute_error: 136174.8438\n",
            "Epoch 37/50\n",
            "56095/56095 [==============================] - 4s 71us/sample - loss: 88190282211.2031 - mean_absolute_error: 128294.1016 - val_loss: 126321969185.2961 - val_mean_absolute_error: 134498.4844\n",
            "Epoch 38/50\n",
            "56095/56095 [==============================] - 4s 70us/sample - loss: 86752410832.3779 - mean_absolute_error: 126731.5312 - val_loss: 124741360673.0040 - val_mean_absolute_error: 132304.7812\n",
            "Epoch 39/50\n",
            "56095/56095 [==============================] - 4s 71us/sample - loss: 85389614542.4840 - mean_absolute_error: 124762.3359 - val_loss: 123277302762.0947 - val_mean_absolute_error: 130017.2578\n",
            "Epoch 40/50\n",
            "56095/56095 [==============================] - 4s 70us/sample - loss: 84051657589.3552 - mean_absolute_error: 122376.2812 - val_loss: 121724849119.8722 - val_mean_absolute_error: 128836.6250\n",
            "Epoch 41/50\n",
            "56095/56095 [==============================] - 4s 70us/sample - loss: 82753032232.1604 - mean_absolute_error: 120904.3672 - val_loss: 120235937978.0491 - val_mean_absolute_error: 126862.4375\n",
            "Epoch 42/50\n",
            "56095/56095 [==============================] - 4s 70us/sample - loss: 81496494056.0863 - mean_absolute_error: 119581.7656 - val_loss: 118877244441.7022 - val_mean_absolute_error: 124849.0234\n",
            "Epoch 43/50\n",
            "56095/56095 [==============================] - 4s 70us/sample - loss: 80282778409.2329 - mean_absolute_error: 117119.4766 - val_loss: 117435788241.5607 - val_mean_absolute_error: 123657.5234\n",
            "Epoch 44/50\n",
            "56095/56095 [==============================] - 4s 70us/sample - loss: 79136205347.6424 - mean_absolute_error: 116118.9531 - val_loss: 116169106217.6201 - val_mean_absolute_error: 121954.2578\n",
            "Epoch 45/50\n",
            "56095/56095 [==============================] - 4s 71us/sample - loss: 78018076552.2489 - mean_absolute_error: 114959.9766 - val_loss: 115002691467.7558 - val_mean_absolute_error: 120209.0859\n",
            "Epoch 46/50\n",
            "56095/56095 [==============================] - 4s 70us/sample - loss: 76981437215.1928 - mean_absolute_error: 112980.4141 - val_loss: 113691502738.6195 - val_mean_absolute_error: 119090.9766\n",
            "Epoch 47/50\n",
            "56095/56095 [==============================] - 4s 71us/sample - loss: 75961156228.3925 - mean_absolute_error: 111849.2188 - val_loss: 112519689640.6709 - val_mean_absolute_error: 117889.0938\n",
            "Epoch 48/50\n",
            "56095/56095 [==============================] - 4s 71us/sample - loss: 74996126461.2390 - mean_absolute_error: 110786.9062 - val_loss: 111418916957.1706 - val_mean_absolute_error: 116612.7344\n",
            "Epoch 49/50\n",
            "56095/56095 [==============================] - 4s 70us/sample - loss: 74048981756.1437 - mean_absolute_error: 109097.0156 - val_loss: 110279021570.9207 - val_mean_absolute_error: 115703.1797\n",
            "Epoch 50/50\n",
            "56095/56095 [==============================] - 4s 71us/sample - loss: 73157184943.9986 - mean_absolute_error: 108635.2188 - val_loss: 109274628984.4792 - val_mean_absolute_error: 114575.0469\n"
          ],
          "name": "stdout"
        }
      ]
    },
    {
      "cell_type": "code",
      "metadata": {
        "id": "oo1UlYkWa-Oh",
        "colab_type": "code",
        "outputId": "2a30b48c-5a87-4b17-a685-1731b6943eaf",
        "colab": {
          "base_uri": "https://localhost:8080/",
          "height": 312
        }
      },
      "source": [
        "plt.title('Год в OHE')\n",
        "plt.plot(history2.history['mean_absolute_error'][visible:], label='MAE на обучающем наборе')\n",
        "plt.plot(history2.history['val_mean_absolute_error'][visible:], label='MAE на проверочном наборе')\n",
        "plt.xlabel('Эпоха обучения')\n",
        "plt.ylabel('MAE')\n",
        "plt.legend()\n",
        "plt.show()\n",
        "print('Валидационная выборка: MAE: {:.0f}'.format(history2.history['val_mean_absolute_error'][-1]))"
      ],
      "execution_count": 0,
      "outputs": [
        {
          "output_type": "display_data",
          "data": {
            "image/png": "[encoded data removed]",
            "text/plain": [
              "<Figure size 432x288 with 1 Axes>"
            ]
          },
          "metadata": {
            "tags": []
          }
        },
        {
          "output_type": "stream",
          "text": [
            "Валидационная выборка: MAE: 114575\n"
          ],
          "name": "stdout"
        }
      ]
    },
    {
      "cell_type": "markdown",
      "metadata": {
        "id": "Z-ZXg3OYz8H5",
        "colab_type": "text"
      },
      "source": [
        "**Без кузова**"
      ]
    },
    {
      "cell_type": "code",
      "metadata": {
        "colab_type": "code",
        "outputId": "4a09a06a-344a-4554-ea79-31d107f96113",
        "id": "P3r4KdN71blG",
        "colab": {
          "base_uri": "https://localhost:8080/",
          "height": 1000
        }
      },
      "source": [
        "print('Старт')\n",
        "\n",
        "x = []\n",
        "y = []\n",
        "\n",
        "for _id, car in enumerate(np.array(cars)):\n",
        "  y.append(prices[_id])\n",
        "  x_tr = to_ohe(car[0], marks_dict) + to_ohe(car[1], models_dict) + to_ohe(car[6], kpps_dict) + to_ohe(car[7], fuels_dict) + [years[_id]] + [mileages[_id]] + [volumes[_id]] + [powers[_id]]\n",
        "  x.append(x_tr)\n",
        "\n",
        "print('X, Y собраны')\n",
        "history3 = train(x, y)"
      ],
      "execution_count": 0,
      "outputs": [
        {
          "output_type": "stream",
          "text": [
            "Старт\n",
            "X, Y собраны\n",
            "Получены обучающая и валидационная выборки\n",
            "Обучение модели...\n",
            "Train on 56095 samples, validate on 14024 samples\n",
            "Epoch 1/50\n",
            "56095/56095 [==============================] - 4s 74us/sample - loss: 647426345838.6008 - mean_absolute_error: 521212.2812 - val_loss: 677963002073.3007 - val_mean_absolute_error: 506127.4688\n",
            "Epoch 2/50\n",
            "56095/56095 [==============================] - 4s 72us/sample - loss: 544289161992.9220 - mean_absolute_error: 445918.8125 - val_loss: 500504622478.9687 - val_mean_absolute_error: 371471.5625\n",
            "Epoch 3/50\n",
            "56095/56095 [==============================] - 4s 73us/sample - loss: 342064134614.7899 - mean_absolute_error: 280138.8125 - val_loss: 308104462608.2099 - val_mean_absolute_error: 213531.2656\n",
            "Epoch 4/50\n",
            "56095/56095 [==============================] - 4s 73us/sample - loss: 216024806917.7959 - mean_absolute_error: 194365.1719 - val_loss: 239542927284.0616 - val_mean_absolute_error: 194557.1562\n",
            "Epoch 5/50\n",
            "56095/56095 [==============================] - 4s 72us/sample - loss: 179514964303.7048 - mean_absolute_error: 188141.0625 - val_loss: 217668588536.4062 - val_mean_absolute_error: 190756.2500\n",
            "Epoch 6/50\n",
            "56095/56095 [==============================] - 4s 72us/sample - loss: 164963227184.1469 - mean_absolute_error: 184432.6875 - val_loss: 205592337874.1449 - val_mean_absolute_error: 185537.3438\n",
            "Epoch 7/50\n",
            "56095/56095 [==============================] - 4s 73us/sample - loss: 155673915112.3373 - mean_absolute_error: 180294.7969 - val_loss: 196641489001.7296 - val_mean_absolute_error: 184509.3594\n",
            "Epoch 8/50\n",
            "56095/56095 [==============================] - 4s 73us/sample - loss: 148523651180.0681 - mean_absolute_error: 179174.6250 - val_loss: 189712627001.0998 - val_mean_absolute_error: 181702.9062\n",
            "Epoch 9/50\n",
            "56095/56095 [==============================] - 4s 72us/sample - loss: 142741879079.9094 - mean_absolute_error: 176601.9375 - val_loss: 183739292990.9413 - val_mean_absolute_error: 181039.1406\n",
            "Epoch 10/50\n",
            "56095/56095 [==============================] - 4s 72us/sample - loss: 137886053503.8745 - mean_absolute_error: 175168.9688 - val_loss: 178753487454.3388 - val_mean_absolute_error: 179910.4688\n",
            "Epoch 11/50\n",
            "56095/56095 [==============================] - 4s 72us/sample - loss: 133755752649.8975 - mean_absolute_error: 173605.2344 - val_loss: 174441597790.7769 - val_mean_absolute_error: 178524.7031\n",
            "Epoch 12/50\n",
            "56095/56095 [==============================] - 4s 76us/sample - loss: 130126103344.3522 - mean_absolute_error: 172396.8906 - val_loss: 170572646692.0707 - val_mean_absolute_error: 175936.1875\n",
            "Epoch 13/50\n",
            "56095/56095 [==============================] - 4s 76us/sample - loss: 126768168712.4656 - mean_absolute_error: 169886.7812 - val_loss: 167011197861.4581 - val_mean_absolute_error: 172643.6094\n",
            "Epoch 14/50\n",
            "56095/56095 [==============================] - 4s 74us/sample - loss: 123482822349.1377 - mean_absolute_error: 166050.5469 - val_loss: 163308032929.9532 - val_mean_absolute_error: 168854.7500\n",
            "Epoch 15/50\n",
            "56095/56095 [==============================] - 4s 72us/sample - loss: 120146749473.7713 - mean_absolute_error: 162371.5469 - val_loss: 159617154154.3138 - val_mean_absolute_error: 163461.3438\n",
            "Epoch 16/50\n",
            "56095/56095 [==============================] - 4s 73us/sample - loss: 116666886415.8132 - mean_absolute_error: 156865.0781 - val_loss: 155818442398.5944 - val_mean_absolute_error: 157236.5312\n",
            "Epoch 17/50\n",
            "56095/56095 [==============================] - 4s 72us/sample - loss: 113082187884.4332 - mean_absolute_error: 149933.2031 - val_loss: 151701207304.9082 - val_mean_absolute_error: 151520.3125\n",
            "Epoch 18/50\n",
            "56095/56095 [==============================] - 4s 71us/sample - loss: 109457946316.0424 - mean_absolute_error: 143096.7969 - val_loss: 147776263121.2687 - val_mean_absolute_error: 145412.6875\n",
            "Epoch 19/50\n",
            "56095/56095 [==============================] - 4s 71us/sample - loss: 106005233722.0501 - mean_absolute_error: 137205.3750 - val_loss: 143989922972.8420 - val_mean_absolute_error: 138911.7031\n",
            "Epoch 20/50\n",
            "56095/56095 [==============================] - 4s 72us/sample - loss: 102747227250.3660 - mean_absolute_error: 131220.5312 - val_loss: 140593835079.5573 - val_mean_absolute_error: 132671.6562\n",
            "Epoch 21/50\n",
            "56095/56095 [==============================] - 4s 71us/sample - loss: 99716160672.7330 - mean_absolute_error: 125704.1094 - val_loss: 137434660614.2795 - val_mean_absolute_error: 127605.2109\n",
            "Epoch 22/50\n",
            "56095/56095 [==============================] - 4s 70us/sample - loss: 96999432279.2577 - mean_absolute_error: 121514.1797 - val_loss: 134651630539.4273 - val_mean_absolute_error: 122998.8750\n",
            "Epoch 23/50\n",
            "56095/56095 [==============================] - 4s 71us/sample - loss: 94425368444.0182 - mean_absolute_error: 116852.0781 - val_loss: 131521564638.1198 - val_mean_absolute_error: 120310.2500\n",
            "Epoch 24/50\n",
            "56095/56095 [==============================] - 4s 71us/sample - loss: 92060674400.3166 - mean_absolute_error: 113891.8906 - val_loss: 128909412318.4119 - val_mean_absolute_error: 117203.7266\n",
            "Epoch 25/50\n",
            "56095/56095 [==============================] - 4s 72us/sample - loss: 89845346411.7030 - mean_absolute_error: 110756.4375 - val_loss: 126392971792.3560 - val_mean_absolute_error: 114899.1094\n",
            "Epoch 26/50\n",
            "56095/56095 [==============================] - 4s 72us/sample - loss: 87823816917.7631 - mean_absolute_error: 108516.3516 - val_loss: 124155626177.6429 - val_mean_absolute_error: 112189.9297\n",
            "Epoch 27/50\n",
            "56095/56095 [==============================] - 4s 73us/sample - loss: 85952869442.5385 - mean_absolute_error: 106174.3359 - val_loss: 122003356681.0542 - val_mean_absolute_error: 110048.1250\n",
            "Epoch 28/50\n",
            "56095/56095 [==============================] - 4s 72us/sample - loss: 84144418139.4791 - mean_absolute_error: 103892.0547 - val_loss: 119976150777.7205 - val_mean_absolute_error: 108387.2031\n",
            "Epoch 29/50\n",
            "56095/56095 [==============================] - 4s 72us/sample - loss: 82527151679.2983 - mean_absolute_error: 102393.8516 - val_loss: 118092059692.1027 - val_mean_absolute_error: 106332.0781\n",
            "Epoch 30/50\n",
            "56095/56095 [==============================] - 4s 71us/sample - loss: 80944367794.8965 - mean_absolute_error: 100560.5078 - val_loss: 116298397460.0069 - val_mean_absolute_error: 104562.0078\n",
            "Epoch 31/50\n",
            "56095/56095 [==============================] - 4s 72us/sample - loss: 79437093884.2578 - mean_absolute_error: 98807.0000 - val_loss: 114562315676.4039 - val_mean_absolute_error: 103154.0000\n",
            "Epoch 32/50\n",
            "56095/56095 [==============================] - 4s 73us/sample - loss: 78016311930.8088 - mean_absolute_error: 97534.3047 - val_loss: 112979936174.8043 - val_mean_absolute_error: 101496.5625\n",
            "Epoch 33/50\n",
            "56095/56095 [==============================] - 4s 72us/sample - loss: 76693917498.4836 - mean_absolute_error: 96024.6484 - val_loss: 111389519977.8756 - val_mean_absolute_error: 100289.7031\n",
            "Epoch 34/50\n",
            "56095/56095 [==============================] - 4s 72us/sample - loss: 75419254470.3835 - mean_absolute_error: 94662.0391 - val_loss: 109898864576.9127 - val_mean_absolute_error: 99206.5781\n",
            "Epoch 35/50\n",
            "56095/56095 [==============================] - 4s 72us/sample - loss: 74214492364.0881 - mean_absolute_error: 93534.5391 - val_loss: 108542375748.3446 - val_mean_absolute_error: 97957.4453\n",
            "Epoch 36/50\n",
            "56095/56095 [==============================] - 4s 72us/sample - loss: 73077353570.3018 - mean_absolute_error: 92478.0234 - val_loss: 107137423272.3788 - val_mean_absolute_error: 96986.1094\n",
            "Epoch 37/50\n",
            "56095/56095 [==============================] - 4s 72us/sample - loss: 71934942447.9586 - mean_absolute_error: 91216.1562 - val_loss: 105806997122.5556 - val_mean_absolute_error: 96297.6953\n",
            "Epoch 38/50\n",
            "56095/56095 [==============================] - 4s 72us/sample - loss: 70946285129.5210 - mean_absolute_error: 90698.7109 - val_loss: 104685917147.7832 - val_mean_absolute_error: 94895.7734\n",
            "Epoch 39/50\n",
            "56095/56095 [==============================] - 4s 73us/sample - loss: 69957158598.9311 - mean_absolute_error: 89537.4062 - val_loss: 103487946453.6497 - val_mean_absolute_error: 94132.5938\n",
            "Epoch 40/50\n",
            "56095/56095 [==============================] - 4s 71us/sample - loss: 69005178077.3388 - mean_absolute_error: 88937.9297 - val_loss: 102551760598.3799 - val_mean_absolute_error: 92985.3359\n",
            "Epoch 41/50\n",
            "56095/56095 [==============================] - 4s 71us/sample - loss: 68154357168.7288 - mean_absolute_error: 87794.9141 - val_loss: 101377712199.8494 - val_mean_absolute_error: 92374.8359\n",
            "Epoch 42/50\n",
            "56095/56095 [==============================] - 4s 72us/sample - loss: 67277521504.4307 - mean_absolute_error: 87095.3828 - val_loss: 100403540200.3423 - val_mean_absolute_error: 91607.3594\n",
            "Epoch 43/50\n",
            "56095/56095 [==============================] - 4s 70us/sample - loss: 66463861306.2783 - mean_absolute_error: 86369.1641 - val_loss: 99343521958.6264 - val_mean_absolute_error: 91074.3750\n",
            "Epoch 44/50\n",
            "56095/56095 [==============================] - 4s 72us/sample - loss: 65653864118.8669 - mean_absolute_error: 85756.9375 - val_loss: 98297005407.0690 - val_mean_absolute_error: 90514.1172\n",
            "Epoch 45/50\n",
            "56095/56095 [==============================] - 4s 71us/sample - loss: 64907689887.6149 - mean_absolute_error: 85178.9219 - val_loss: 97463882459.1991 - val_mean_absolute_error: 89683.6875\n",
            "Epoch 46/50\n",
            "56095/56095 [==============================] - 4s 70us/sample - loss: 64169289128.1490 - mean_absolute_error: 84385.0781 - val_loss: 96529330889.8209 - val_mean_absolute_error: 89297.5078\n",
            "Epoch 47/50\n",
            "56095/56095 [==============================] - 4s 71us/sample - loss: 63451023929.0004 - mean_absolute_error: 83730.3203 - val_loss: 95621212333.3440 - val_mean_absolute_error: 88969.9453\n",
            "Epoch 48/50\n",
            "56095/56095 [==============================] - 4s 71us/sample - loss: 62815068914.4687 - mean_absolute_error: 83435.9766 - val_loss: 94871114092.0662 - val_mean_absolute_error: 88134.8203\n",
            "Epoch 49/50\n",
            "56095/56095 [==============================] - 4s 72us/sample - loss: 62173849379.5739 - mean_absolute_error: 82783.5391 - val_loss: 94135815076.1438 - val_mean_absolute_error: 87532.6484\n",
            "Epoch 50/50\n",
            "56095/56095 [==============================] - 4s 72us/sample - loss: 61548952776.8935 - mean_absolute_error: 82251.3594 - val_loss: 93341106591.4706 - val_mean_absolute_error: 87124.8359\n"
          ],
          "name": "stdout"
        }
      ]
    },
    {
      "cell_type": "code",
      "metadata": {
        "id": "oD8EzT4Ka8j4",
        "colab_type": "code",
        "outputId": "09dcaf26-0498-4dea-d070-0acedf70834b",
        "colab": {
          "base_uri": "https://localhost:8080/",
          "height": 312
        }
      },
      "source": [
        "plt.title('Без кузова')\n",
        "plt.plot(history3.history['mean_absolute_error'][visible:], label='MAE на обучающем наборе')\n",
        "plt.plot(history3.history['val_mean_absolute_error'][visible:], label='MAE на проверочном наборе')\n",
        "plt.xlabel('Эпоха обучения')\n",
        "plt.ylabel('MAE')\n",
        "plt.legend()\n",
        "plt.show()\n",
        "print('Валидационная выборка: MAE: {:.0f}'.format(history3.history['val_mean_absolute_error'][-1]))"
      ],
      "execution_count": 0,
      "outputs": [
        {
          "output_type": "display_data",
          "data": {
            "image/png": "[encoded data removed]",
            "text/plain": [
              "<Figure size 432x288 with 1 Axes>"
            ]
          },
          "metadata": {
            "tags": []
          }
        },
        {
          "output_type": "stream",
          "text": [
            "Валидационная выборка: MAE: 87125\n"
          ],
          "name": "stdout"
        }
      ]
    },
    {
      "cell_type": "markdown",
      "metadata": {
        "id": "-rMI4Q9fz-T3",
        "colab_type": "text"
      },
      "source": [
        "**Без кпп**"
      ]
    },
    {
      "cell_type": "code",
      "metadata": {
        "id": "Mnoy9mVJ3f02",
        "colab_type": "code",
        "outputId": "4f5a1ef7-7db7-498b-f071-1a581f865a9f",
        "colab": {
          "base_uri": "https://localhost:8080/",
          "height": 1000
        }
      },
      "source": [
        "print('Старт')\n",
        "\n",
        "x = []\n",
        "y = []\n",
        "\n",
        "for _id, car in enumerate(np.array(cars)):\n",
        "  y.append(prices[_id])\n",
        "  x_tr = to_ohe(car[0], marks_dict) + to_ohe(car[1], models_dict) + to_ohe(car[5], bodies_dict) + to_ohe(car[7], fuels_dict) + [years[_id]] + [mileages[_id]] + [volumes[_id]] + [powers[_id]]\n",
        "  x.append(x_tr)\n",
        "\n",
        "print('X, Y собраны')\n",
        "history4 = train(x, y)"
      ],
      "execution_count": 0,
      "outputs": [
        {
          "output_type": "stream",
          "text": [
            "Старт\n",
            "X, Y собраны\n",
            "Получены обучающая и валидационная выборки\n",
            "Обучение модели...\n",
            "Train on 56095 samples, validate on 14024 samples\n",
            "Epoch 1/50\n",
            "56095/56095 [==============================] - 4s 72us/sample - loss: 649526701572.8832 - mean_absolute_error: 522779.0938 - val_loss: 686129041536.5111 - val_mean_absolute_error: 511944.9375\n",
            "Epoch 2/50\n",
            "56095/56095 [==============================] - 4s 69us/sample - loss: 567171420744.5170 - mean_absolute_error: 464010.6562 - val_loss: 539158029339.4547 - val_mean_absolute_error: 403235.0000\n",
            "Epoch 3/50\n",
            "56095/56095 [==============================] - 4s 70us/sample - loss: 385487789756.5259 - mean_absolute_error: 317842.8438 - val_loss: 348042904627.9886 - val_mean_absolute_error: 241980.9688\n",
            "Epoch 4/50\n",
            "56095/56095 [==============================] - 4s 70us/sample - loss: 241224909092.0760 - mean_absolute_error: 205146.8750 - val_loss: 255045201782.7267 - val_mean_absolute_error: 196342.4531\n",
            "Epoch 5/50\n",
            "56095/56095 [==============================] - 4s 69us/sample - loss: 189362885626.2498 - mean_absolute_error: 189836.7812 - val_loss: 225657639096.0046 - val_mean_absolute_error: 193773.6562\n",
            "Epoch 6/50\n",
            "56095/56095 [==============================] - 4s 69us/sample - loss: 170731978729.3641 - mean_absolute_error: 185934.2188 - val_loss: 210907410969.9943 - val_mean_absolute_error: 185780.7031\n",
            "Epoch 7/50\n",
            "56095/56095 [==============================] - 4s 70us/sample - loss: 159540448090.8858 - mean_absolute_error: 179500.0312 - val_loss: 200547370808.8078 - val_mean_absolute_error: 183096.5156\n",
            "Epoch 8/50\n",
            "56095/56095 [==============================] - 4s 69us/sample - loss: 151370003275.0042 - mean_absolute_error: 177408.0156 - val_loss: 192727687252.1164 - val_mean_absolute_error: 180342.9688\n",
            "Epoch 9/50\n",
            "56095/56095 [==============================] - 4s 70us/sample - loss: 144998903687.5187 - mean_absolute_error: 175149.5625 - val_loss: 186357416028.8785 - val_mean_absolute_error: 179476.2812\n",
            "Epoch 10/50\n",
            "56095/56095 [==============================] - 4s 71us/sample - loss: 139838778720.5904 - mean_absolute_error: 174252.7188 - val_loss: 181207708232.7256 - val_mean_absolute_error: 178606.2344\n",
            "Epoch 11/50\n",
            "56095/56095 [==============================] - 4s 71us/sample - loss: 135607236662.5817 - mean_absolute_error: 173401.3281 - val_loss: 176862337563.7467 - val_mean_absolute_error: 178117.5625\n",
            "Epoch 12/50\n",
            "56095/56095 [==============================] - 4s 74us/sample - loss: 132085636241.9467 - mean_absolute_error: 173273.1406 - val_loss: 173261397117.5904 - val_mean_absolute_error: 177265.6719\n",
            "Epoch 13/50\n",
            "56095/56095 [==============================] - 4s 72us/sample - loss: 129068963678.4455 - mean_absolute_error: 172247.5469 - val_loss: 170020804103.8859 - val_mean_absolute_error: 177028.7969\n",
            "Epoch 14/50\n",
            "56095/56095 [==============================] - 4s 71us/sample - loss: 126436030777.7991 - mean_absolute_error: 171641.9375 - val_loss: 167268576131.5779 - val_mean_absolute_error: 175796.7969\n",
            "Epoch 15/50\n",
            "56095/56095 [==============================] - 4s 70us/sample - loss: 124062841578.8017 - mean_absolute_error: 170625.3125 - val_loss: 164707996549.9144 - val_mean_absolute_error: 174498.6094\n",
            "Epoch 16/50\n",
            "56095/56095 [==============================] - 4s 69us/sample - loss: 121802013386.3082 - mean_absolute_error: 168537.7812 - val_loss: 162111348140.7598 - val_mean_absolute_error: 174065.5000\n",
            "Epoch 17/50\n",
            "56095/56095 [==============================] - 4s 69us/sample - loss: 119677244497.1423 - mean_absolute_error: 167623.7188 - val_loss: 159873919911.7946 - val_mean_absolute_error: 171275.5000\n",
            "Epoch 18/50\n",
            "56095/56095 [==============================] - 4s 71us/sample - loss: 117590809389.2490 - mean_absolute_error: 164820.2188 - val_loss: 157544585883.0896 - val_mean_absolute_error: 168971.4531\n",
            "Epoch 19/50\n",
            "56095/56095 [==============================] - 4s 71us/sample - loss: 115484008431.0231 - mean_absolute_error: 162452.5156 - val_loss: 155191822809.1546 - val_mean_absolute_error: 166203.9219\n",
            "Epoch 20/50\n",
            "56095/56095 [==============================] - 4s 71us/sample - loss: 113313291969.2721 - mean_absolute_error: 159025.0156 - val_loss: 152829010323.6418 - val_mean_absolute_error: 162821.4688\n",
            "Epoch 21/50\n",
            "56095/56095 [==============================] - 4s 71us/sample - loss: 111095615813.6647 - mean_absolute_error: 156046.8906 - val_loss: 150432971486.2658 - val_mean_absolute_error: 159150.7969\n",
            "Epoch 22/50\n",
            "56095/56095 [==============================] - 4s 70us/sample - loss: 108844295529.5352 - mean_absolute_error: 151979.0156 - val_loss: 147910785191.6486 - val_mean_absolute_error: 155980.7969\n",
            "Epoch 23/50\n",
            "56095/56095 [==============================] - 4s 69us/sample - loss: 106604466343.9437 - mean_absolute_error: 148894.9219 - val_loss: 145580913451.9566 - val_mean_absolute_error: 151564.1094\n",
            "Epoch 24/50\n",
            "56095/56095 [==============================] - 4s 70us/sample - loss: 104394274355.9804 - mean_absolute_error: 144897.9375 - val_loss: 143185593182.4849 - val_mean_absolute_error: 147654.1406\n",
            "Epoch 25/50\n",
            "56095/56095 [==============================] - 4s 72us/sample - loss: 102188278241.9253 - mean_absolute_error: 140985.9844 - val_loss: 140670734706.6378 - val_mean_absolute_error: 144423.7031\n",
            "Epoch 26/50\n",
            "56095/56095 [==============================] - 4s 71us/sample - loss: 99990756857.2001 - mean_absolute_error: 137427.5000 - val_loss: 138268186384.5020 - val_mean_absolute_error: 140875.5312\n",
            "Epoch 27/50\n",
            "56095/56095 [==============================] - 4s 71us/sample - loss: 97833907426.0850 - mean_absolute_error: 134055.7500 - val_loss: 135973626852.5453 - val_mean_absolute_error: 137193.2656\n",
            "Epoch 28/50\n",
            "56095/56095 [==============================] - 4s 71us/sample - loss: 95749056067.4969 - mean_absolute_error: 130528.3750 - val_loss: 133681355117.9646 - val_mean_absolute_error: 133815.0625\n",
            "Epoch 29/50\n",
            "56095/56095 [==============================] - 4s 70us/sample - loss: 93721661685.8914 - mean_absolute_error: 127093.0391 - val_loss: 131415271868.5317 - val_mean_absolute_error: 130739.4219\n",
            "Epoch 30/50\n",
            "56095/56095 [==============================] - 4s 71us/sample - loss: 91676545820.8197 - mean_absolute_error: 123499.7031 - val_loss: 129055121560.7530 - val_mean_absolute_error: 128639.6875\n",
            "Epoch 31/50\n",
            "56095/56095 [==============================] - 4s 71us/sample - loss: 89804855246.1646 - mean_absolute_error: 121186.0234 - val_loss: 127053860991.0508 - val_mean_absolute_error: 125124.1875\n",
            "Epoch 32/50\n",
            "56095/56095 [==============================] - 4s 74us/sample - loss: 87960909230.5382 - mean_absolute_error: 118418.1953 - val_loss: 124963160014.9321 - val_mean_absolute_error: 122423.1016\n",
            "Epoch 33/50\n",
            "56095/56095 [==============================] - 4s 75us/sample - loss: 86185370290.2120 - mean_absolute_error: 115637.6953 - val_loss: 123033119178.2590 - val_mean_absolute_error: 119639.3047\n",
            "Epoch 34/50\n",
            "56095/56095 [==============================] - 4s 72us/sample - loss: 84515535694.2901 - mean_absolute_error: 113227.9062 - val_loss: 121159904298.9344 - val_mean_absolute_error: 117140.3828\n",
            "Epoch 35/50\n",
            "56095/56095 [==============================] - 4s 71us/sample - loss: 82907720989.7781 - mean_absolute_error: 110364.3828 - val_loss: 119239881103.8448 - val_mean_absolute_error: 115071.5703\n",
            "Epoch 36/50\n",
            "56095/56095 [==============================] - 4s 70us/sample - loss: 81341996494.4840 - mean_absolute_error: 108182.9297 - val_loss: 117457188157.1888 - val_mean_absolute_error: 112918.5312\n",
            "Epoch 37/50\n",
            "56095/56095 [==============================] - 4s 70us/sample - loss: 79847738751.6235 - mean_absolute_error: 106496.1016 - val_loss: 115839411809.8437 - val_mean_absolute_error: 110628.8281\n",
            "Epoch 38/50\n",
            "56095/56095 [==============================] - 4s 70us/sample - loss: 78457826513.4732 - mean_absolute_error: 104152.0000 - val_loss: 114214439042.5556 - val_mean_absolute_error: 108720.1797\n",
            "Epoch 39/50\n",
            "56095/56095 [==============================] - 4s 72us/sample - loss: 77155830104.9234 - mean_absolute_error: 102459.3672 - val_loss: 112693657118.6674 - val_mean_absolute_error: 106869.3828\n",
            "Epoch 40/50\n",
            "56095/56095 [==============================] - 4s 70us/sample - loss: 75871364231.5415 - mean_absolute_error: 100328.9141 - val_loss: 111155743423.5984 - val_mean_absolute_error: 105511.9609\n",
            "Epoch 41/50\n",
            "56095/56095 [==============================] - 4s 70us/sample - loss: 74684660407.8709 - mean_absolute_error: 98975.4219 - val_loss: 109782572317.3531 - val_mean_absolute_error: 103891.5938\n",
            "Epoch 42/50\n",
            "56095/56095 [==============================] - 4s 70us/sample - loss: 73539299059.6552 - mean_absolute_error: 97285.5547 - val_loss: 108372089548.8876 - val_mean_absolute_error: 102726.5156\n",
            "Epoch 43/50\n",
            "56095/56095 [==============================] - 4s 69us/sample - loss: 72450526307.7622 - mean_absolute_error: 95995.5781 - val_loss: 107103881766.5533 - val_mean_absolute_error: 101266.1172\n",
            "Epoch 44/50\n",
            "56095/56095 [==============================] - 4s 70us/sample - loss: 71436370553.2572 - mean_absolute_error: 94841.1328 - val_loss: 105908563758.5853 - val_mean_absolute_error: 99699.8906\n",
            "Epoch 45/50\n",
            "56095/56095 [==============================] - 4s 69us/sample - loss: 70442878129.8925 - mean_absolute_error: 93401.4453 - val_loss: 104701188394.4963 - val_mean_absolute_error: 98514.9141\n",
            "Epoch 46/50\n",
            "56095/56095 [==============================] - 4s 69us/sample - loss: 69523925782.7043 - mean_absolute_error: 92221.2812 - val_loss: 103580026881.0222 - val_mean_absolute_error: 97324.1328\n",
            "Epoch 47/50\n",
            "56095/56095 [==============================] - 4s 70us/sample - loss: 68664154393.8533 - mean_absolute_error: 91282.4062 - val_loss: 102558593462.3982 - val_mean_absolute_error: 96069.9609\n",
            "Epoch 48/50\n",
            "56095/56095 [==============================] - 4s 71us/sample - loss: 67777407851.0413 - mean_absolute_error: 89819.3672 - val_loss: 101461984065.5699 - val_mean_absolute_error: 95484.4609\n",
            "Epoch 49/50\n",
            "56095/56095 [==============================] - 4s 71us/sample - loss: 66979497550.0847 - mean_absolute_error: 89662.9688 - val_loss: 100598199654.3708 - val_mean_absolute_error: 94041.3828\n",
            "Epoch 50/50\n",
            "56095/56095 [==============================] - 4s 71us/sample - loss: 66243338325.0671 - mean_absolute_error: 88299.3438 - val_loss: 99637519434.6241 - val_mean_absolute_error: 93191.5078\n"
          ],
          "name": "stdout"
        }
      ]
    },
    {
      "cell_type": "code",
      "metadata": {
        "id": "hjw6ykCua7Sx",
        "colab_type": "code",
        "outputId": "8f82a638-dc3f-47d5-9eeb-b320cb3c4559",
        "colab": {
          "base_uri": "https://localhost:8080/",
          "height": 312
        }
      },
      "source": [
        "plt.title('Без кпп')\n",
        "plt.plot(history4.history['mean_absolute_error'][visible:], label='MAE на обучающем наборе')\n",
        "plt.plot(history4.history['val_mean_absolute_error'][visible:], label='MAE на проверочном наборе')\n",
        "plt.xlabel('Эпоха обучения')\n",
        "plt.ylabel('MAE')\n",
        "plt.legend()\n",
        "plt.show()\n",
        "print('Валидационная выборка: MAE: {:.0f}'.format(history4.history['val_mean_absolute_error'][-1]))"
      ],
      "execution_count": 0,
      "outputs": [
        {
          "output_type": "display_data",
          "data": {
            "image/png": "[encoded data removed]",
            "text/plain": [
              "<Figure size 432x288 with 1 Axes>"
            ]
          },
          "metadata": {
            "tags": []
          }
        },
        {
          "output_type": "stream",
          "text": [
            "Валидационная выборка: MAE: 93192\n"
          ],
          "name": "stdout"
        }
      ]
    },
    {
      "cell_type": "markdown",
      "metadata": {
        "id": "cBPP3Rb50CKA",
        "colab_type": "text"
      },
      "source": [
        "**Без топлива**"
      ]
    },
    {
      "cell_type": "code",
      "metadata": {
        "id": "BBwGF2NUDBeR",
        "colab_type": "code",
        "outputId": "a1e827fd-8d81-4d1c-cd16-060b1ac41145",
        "colab": {
          "base_uri": "https://localhost:8080/",
          "height": 1000
        }
      },
      "source": [
        "print('Старт')\n",
        "\n",
        "x = []\n",
        "y = []\n",
        "\n",
        "for _id, car in enumerate(np.array(cars)):\n",
        "  y.append(prices[_id])\n",
        "  x_tr = to_ohe(car[0], marks_dict) + to_ohe(car[1], models_dict) + to_ohe(car[5], bodies_dict) + to_ohe(car[6], kpps_dict) + [years[_id]] + [mileages[_id]] + [volumes[_id]] + [powers[_id]]\n",
        "  x.append(x_tr)\n",
        "\n",
        "print('X, Y собраны')\n",
        "history5 = train(x, y)"
      ],
      "execution_count": 0,
      "outputs": [
        {
          "output_type": "stream",
          "text": [
            "Старт\n",
            "X, Y собраны\n",
            "Получены обучающая и валидационная выборки\n",
            "Обучение модели...\n",
            "Train on 56095 samples, validate on 14024 samples\n",
            "Epoch 1/50\n",
            "56095/56095 [==============================] - 4s 75us/sample - loss: 647309632800.1512 - mean_absolute_error: 521167.7188 - val_loss: 677198586678.4712 - val_mean_absolute_error: 505721.1250\n",
            "Epoch 2/50\n",
            "56095/56095 [==============================] - 4s 72us/sample - loss: 540941527837.5499 - mean_absolute_error: 444202.3125 - val_loss: 494594820188.2944 - val_mean_absolute_error: 367352.5938\n",
            "Epoch 3/50\n",
            "56095/56095 [==============================] - 4s 72us/sample - loss: 335529388609.0326 - mean_absolute_error: 276392.0625 - val_loss: 302685326477.9464 - val_mean_absolute_error: 210874.1094\n",
            "Epoch 4/50\n",
            "56095/56095 [==============================] - 4s 73us/sample - loss: 213228916355.2060 - mean_absolute_error: 192880.3438 - val_loss: 238328907431.3565 - val_mean_absolute_error: 192854.4531\n",
            "Epoch 5/50\n",
            "56095/56095 [==============================] - 4s 72us/sample - loss: 179617540882.2319 - mean_absolute_error: 187513.2969 - val_loss: 218925920295.1375 - val_mean_absolute_error: 191474.1406\n",
            "Epoch 6/50\n",
            "56095/56095 [==============================] - 4s 72us/sample - loss: 167405284717.0037 - mean_absolute_error: 185313.1250 - val_loss: 208909598968.2601 - val_mean_absolute_error: 189166.4219\n",
            "Epoch 7/50\n",
            "56095/56095 [==============================] - 4s 74us/sample - loss: 159864010928.5234 - mean_absolute_error: 183513.5312 - val_loss: 201874662384.8123 - val_mean_absolute_error: 186591.5938\n",
            "Epoch 8/50\n",
            "56095/56095 [==============================] - 4s 72us/sample - loss: 153994458082.1535 - mean_absolute_error: 181618.5312 - val_loss: 196037421710.2384 - val_mean_absolute_error: 185046.0625\n",
            "Epoch 9/50\n",
            "56095/56095 [==============================] - 4s 71us/sample - loss: 149047943226.7803 - mean_absolute_error: 179949.7656 - val_loss: 191099731493.6771 - val_mean_absolute_error: 183125.9844\n",
            "Epoch 10/50\n",
            "56095/56095 [==============================] - 4s 72us/sample - loss: 144695834473.3983 - mean_absolute_error: 177522.6875 - val_loss: 186333654073.8300 - val_mean_absolute_error: 183783.5625\n",
            "Epoch 11/50\n",
            "56095/56095 [==============================] - 4s 72us/sample - loss: 140792074411.9597 - mean_absolute_error: 177039.2344 - val_loss: 182381412064.6024 - val_mean_absolute_error: 180985.9531\n",
            "Epoch 12/50\n",
            "56095/56095 [==============================] - 4s 72us/sample - loss: 137212288252.1893 - mean_absolute_error: 174347.9375 - val_loss: 178420471757.7638 - val_mean_absolute_error: 180044.2812\n",
            "Epoch 13/50\n",
            "56095/56095 [==============================] - 4s 72us/sample - loss: 133789560967.4502 - mean_absolute_error: 172923.7031 - val_loss: 174816733990.1152 - val_mean_absolute_error: 176278.1406\n",
            "Epoch 14/50\n",
            "56095/56095 [==============================] - 4s 72us/sample - loss: 130392399251.3386 - mean_absolute_error: 169230.2188 - val_loss: 171050268345.4649 - val_mean_absolute_error: 172526.5312\n",
            "Epoch 15/50\n",
            "56095/56095 [==============================] - 4s 72us/sample - loss: 126868148183.4745 - mean_absolute_error: 165076.6875 - val_loss: 166984897250.3548 - val_mean_absolute_error: 168386.1562\n",
            "Epoch 16/50\n",
            "56095/56095 [==============================] - 4s 71us/sample - loss: 123155387845.9043 - mean_absolute_error: 160698.0469 - val_loss: 163019465589.5585 - val_mean_absolute_error: 161887.4375\n",
            "Epoch 17/50\n",
            "56095/56095 [==============================] - 4s 71us/sample - loss: 119356152245.9314 - mean_absolute_error: 153856.0781 - val_loss: 158666803988.0068 - val_mean_absolute_error: 156388.3594\n",
            "Epoch 18/50\n",
            "56095/56095 [==============================] - 4s 71us/sample - loss: 115438039607.3575 - mean_absolute_error: 147537.9219 - val_loss: 154319392438.8363 - val_mean_absolute_error: 150121.0312\n",
            "Epoch 19/50\n",
            "56095/56095 [==============================] - 4s 74us/sample - loss: 111557729770.2312 - mean_absolute_error: 141331.7969 - val_loss: 150221787779.4318 - val_mean_absolute_error: 142834.6094\n",
            "Epoch 20/50\n",
            "56095/56095 [==============================] - 4s 70us/sample - loss: 107792498708.4453 - mean_absolute_error: 134628.1406 - val_loss: 146120429107.6965 - val_mean_absolute_error: 136317.9219\n",
            "Epoch 21/50\n",
            "56095/56095 [==============================] - 4s 72us/sample - loss: 104169216499.6324 - mean_absolute_error: 128079.3750 - val_loss: 142145452738.8112 - val_mean_absolute_error: 130950.4141\n",
            "Epoch 22/50\n",
            "56095/56095 [==============================] - 4s 71us/sample - loss: 100765684128.0257 - mean_absolute_error: 122815.2031 - val_loss: 138415377015.1649 - val_mean_absolute_error: 125610.7344\n",
            "Epoch 23/50\n",
            "56095/56095 [==============================] - 4s 70us/sample - loss: 97636919290.7061 - mean_absolute_error: 117962.0078 - val_loss: 134980011848.5796 - val_mean_absolute_error: 121407.0078\n",
            "Epoch 24/50\n",
            "56095/56095 [==============================] - 4s 70us/sample - loss: 94791875168.9783 - mean_absolute_error: 113843.4062 - val_loss: 131827335816.3970 - val_mean_absolute_error: 117661.1172\n",
            "Epoch 25/50\n",
            "56095/56095 [==============================] - 4s 71us/sample - loss: 92169131222.5845 - mean_absolute_error: 110645.5938 - val_loss: 129042739717.2573 - val_mean_absolute_error: 113841.8594\n",
            "Epoch 26/50\n",
            "56095/56095 [==============================] - 4s 70us/sample - loss: 89749836879.3169 - mean_absolute_error: 106934.5547 - val_loss: 126223712594.5100 - val_mean_absolute_error: 111647.8281\n",
            "Epoch 27/50\n",
            "56095/56095 [==============================] - 4s 71us/sample - loss: 87533956866.5329 - mean_absolute_error: 104773.3203 - val_loss: 123706184619.0074 - val_mean_absolute_error: 109027.8125\n",
            "Epoch 28/50\n",
            "56095/56095 [==============================] - 4s 70us/sample - loss: 85486682797.8308 - mean_absolute_error: 102774.4297 - val_loss: 121313979292.6960 - val_mean_absolute_error: 106787.2734\n",
            "Epoch 29/50\n",
            "56095/56095 [==============================] - 4s 70us/sample - loss: 83591445382.1496 - mean_absolute_error: 100465.1719 - val_loss: 119117901564.2031 - val_mean_absolute_error: 104729.1250\n",
            "Epoch 30/50\n",
            "56095/56095 [==============================] - 4s 72us/sample - loss: 81791687806.9618 - mean_absolute_error: 98577.7188 - val_loss: 117066460848.9949 - val_mean_absolute_error: 102884.6797\n",
            "Epoch 31/50\n",
            "56095/56095 [==============================] - 4s 75us/sample - loss: 80112289203.4670 - mean_absolute_error: 96754.0234 - val_loss: 115037776514.2635 - val_mean_absolute_error: 101447.1172\n",
            "Epoch 32/50\n",
            "56095/56095 [==============================] - 4s 71us/sample - loss: 78525070103.1607 - mean_absolute_error: 95506.7578 - val_loss: 113308674708.6640 - val_mean_absolute_error: 99492.1016\n",
            "Epoch 33/50\n",
            "56095/56095 [==============================] - 4s 72us/sample - loss: 77078349890.8124 - mean_absolute_error: 93874.0312 - val_loss: 111536106299.7285 - val_mean_absolute_error: 98282.7188\n",
            "Epoch 34/50\n",
            "56095/56095 [==============================] - 4s 71us/sample - loss: 75673963211.7686 - mean_absolute_error: 92578.6875 - val_loss: 109930144379.5459 - val_mean_absolute_error: 96912.9609\n",
            "Epoch 35/50\n",
            "56095/56095 [==============================] - 4s 72us/sample - loss: 74347410831.5964 - mean_absolute_error: 91165.8281 - val_loss: 108311302488.2054 - val_mean_absolute_error: 95989.6406\n",
            "Epoch 36/50\n",
            "56095/56095 [==============================] - 4s 72us/sample - loss: 73117385997.5313 - mean_absolute_error: 90384.0625 - val_loss: 106919694480.5750 - val_mean_absolute_error: 94698.2031\n",
            "Epoch 37/50\n",
            "56095/56095 [==============================] - 4s 73us/sample - loss: 71950874243.2060 - mean_absolute_error: 89224.8672 - val_loss: 105473472606.4849 - val_mean_absolute_error: 93784.5547\n",
            "Epoch 38/50\n",
            "56095/56095 [==============================] - 4s 72us/sample - loss: 70840455869.3474 - mean_absolute_error: 88039.1953 - val_loss: 104087356287.4889 - val_mean_absolute_error: 93121.7969\n",
            "Epoch 39/50\n",
            "56095/56095 [==============================] - 4s 72us/sample - loss: 69766178211.2202 - mean_absolute_error: 87560.0781 - val_loss: 102946624614.8089 - val_mean_absolute_error: 91863.0156\n",
            "Epoch 40/50\n",
            "56095/56095 [==============================] - 4s 71us/sample - loss: 68776699321.6736 - mean_absolute_error: 86361.6016 - val_loss: 101624236479.4524 - val_mean_absolute_error: 91280.1172\n",
            "Epoch 41/50\n",
            "56095/56095 [==============================] - 4s 73us/sample - loss: 67821486071.5115 - mean_absolute_error: 85593.4219 - val_loss: 100452892167.8859 - val_mean_absolute_error: 90521.5859\n",
            "Epoch 42/50\n",
            "56095/56095 [==============================] - 4s 72us/sample - loss: 66888516771.4713 - mean_absolute_error: 85024.8594 - val_loss: 99449600297.4741 - val_mean_absolute_error: 89588.1641\n",
            "Epoch 43/50\n",
            "56095/56095 [==============================] - 4s 72us/sample - loss: 66006934293.7003 - mean_absolute_error: 84431.8359 - val_loss: 98556800472.8625 - val_mean_absolute_error: 88634.1094\n",
            "Epoch 44/50\n",
            "56095/56095 [==============================] - 4s 72us/sample - loss: 65185893060.1929 - mean_absolute_error: 83394.9531 - val_loss: 97470433860.7827 - val_mean_absolute_error: 88036.3828\n",
            "Epoch 45/50\n",
            "56095/56095 [==============================] - 4s 72us/sample - loss: 64396754980.1444 - mean_absolute_error: 82779.1797 - val_loss: 96407626693.1478 - val_mean_absolute_error: 87531.7031\n",
            "Epoch 46/50\n",
            "56095/56095 [==============================] - 4s 71us/sample - loss: 63609514580.9302 - mean_absolute_error: 82398.4766 - val_loss: 95686743190.4164 - val_mean_absolute_error: 86736.5312\n",
            "Epoch 47/50\n",
            "56095/56095 [==============================] - 4s 72us/sample - loss: 62926919773.5556 - mean_absolute_error: 81409.8828 - val_loss: 94597951355.1078 - val_mean_absolute_error: 86358.1719\n",
            "Epoch 48/50\n",
            "56095/56095 [==============================] - 4s 72us/sample - loss: 62167542245.0286 - mean_absolute_error: 81149.8750 - val_loss: 93895512264.7986 - val_mean_absolute_error: 85654.3984\n",
            "Epoch 49/50\n",
            "56095/56095 [==============================] - 4s 73us/sample - loss: 61498248816.0385 - mean_absolute_error: 80379.5547 - val_loss: 92947641689.9578 - val_mean_absolute_error: 85234.5312\n",
            "Epoch 50/50\n",
            "56095/56095 [==============================] - 4s 72us/sample - loss: 60842244355.5825 - mean_absolute_error: 79856.2656 - val_loss: 91989749767.8859 - val_mean_absolute_error: 84932.9766\n"
          ],
          "name": "stdout"
        }
      ]
    },
    {
      "cell_type": "code",
      "metadata": {
        "id": "jl_r67kia5UV",
        "colab_type": "code",
        "outputId": "754ee4ff-1de7-401e-fa0c-619e06e584f3",
        "colab": {
          "base_uri": "https://localhost:8080/",
          "height": 312
        }
      },
      "source": [
        "plt.title('Без топлива')\n",
        "plt.plot(history5.history['mean_absolute_error'][visible:], label='MAE на обучающем наборе')\n",
        "plt.plot(history5.history['val_mean_absolute_error'][visible:], label='MAE на проверочном наборе')\n",
        "plt.xlabel('Эпоха обучения')\n",
        "plt.ylabel('MAE')\n",
        "plt.legend()\n",
        "plt.show()\n",
        "print('Валидационная выборка: MAE: {:.0f}'.format(history5.history['val_mean_absolute_error'][-1]))"
      ],
      "execution_count": 0,
      "outputs": [
        {
          "output_type": "display_data",
          "data": {
            "image/png": "[encoded data removed]",
            "text/plain": [
              "<Figure size 432x288 with 1 Axes>"
            ]
          },
          "metadata": {
            "tags": []
          }
        },
        {
          "output_type": "stream",
          "text": [
            "Валидационная выборка: MAE: 84933\n"
          ],
          "name": "stdout"
        }
      ]
    },
    {
      "cell_type": "markdown",
      "metadata": {
        "id": "AfGz-lCU0FM9",
        "colab_type": "text"
      },
      "source": [
        "**Без года**"
      ]
    },
    {
      "cell_type": "code",
      "metadata": {
        "id": "RrKOy2iNH6z4",
        "colab_type": "code",
        "outputId": "d87a120d-57d2-4d14-9643-e6da8d90e926",
        "colab": {
          "base_uri": "https://localhost:8080/",
          "height": 1000
        }
      },
      "source": [
        "print('Старт')\n",
        "\n",
        "x = []\n",
        "y = []\n",
        "\n",
        "for _id, car in enumerate(np.array(cars)):\n",
        "  y.append(prices[_id])\n",
        "  x_tr = to_ohe(car[0], marks_dict) + to_ohe(car[1], models_dict) + to_ohe(car[5], bodies_dict) + to_ohe(car[6], kpps_dict) + to_ohe(car[7], fuels_dict) + [mileages[_id]] + [volumes[_id]] + [powers[_id]]\n",
        "  x.append(x_tr)\n",
        "\n",
        "print('X, Y собраны')\n",
        "history6 = train(x, y)"
      ],
      "execution_count": 0,
      "outputs": [
        {
          "output_type": "stream",
          "text": [
            "Старт\n",
            "X, Y собраны\n",
            "Получены обучающая и валидационная выборки\n",
            "Обучение модели...\n",
            "Train on 56095 samples, validate on 14024 samples\n",
            "Epoch 1/50\n",
            "56095/56095 [==============================] - 4s 78us/sample - loss: 650079468942.9575 - mean_absolute_error: 522557.0625 - val_loss: 689324327902.7040 - val_mean_absolute_error: 511722.8750\n",
            "Epoch 2/50\n",
            "56095/56095 [==============================] - 4s 73us/sample - loss: 579091340378.0872 - mean_absolute_error: 465681.0000 - val_loss: 563711347813.0565 - val_mean_absolute_error: 409069.2500\n",
            "Epoch 3/50\n",
            "56095/56095 [==============================] - 4s 73us/sample - loss: 421734910967.8766 - mean_absolute_error: 335528.5625 - val_loss: 395439386810.9254 - val_mean_absolute_error: 275094.1250\n",
            "Epoch 4/50\n",
            "56095/56095 [==============================] - 4s 72us/sample - loss: 289449452508.6771 - mean_absolute_error: 243419.7188 - val_loss: 304084868143.3154 - val_mean_absolute_error: 232383.8125\n",
            "Epoch 5/50\n",
            "56095/56095 [==============================] - 4s 72us/sample - loss: 232675238721.1466 - mean_absolute_error: 221858.0781 - val_loss: 268762021164.8329 - val_mean_absolute_error: 221068.2656\n",
            "Epoch 6/50\n",
            "56095/56095 [==============================] - 4s 73us/sample - loss: 209132094936.8892 - mean_absolute_error: 211173.4688 - val_loss: 250595719788.3583 - val_mean_absolute_error: 213229.6250\n",
            "Epoch 7/50\n",
            "56095/56095 [==============================] - 4s 72us/sample - loss: 195721623999.4239 - mean_absolute_error: 205319.1094 - val_loss: 238828537420.2305 - val_mean_absolute_error: 208032.7500\n",
            "Epoch 8/50\n",
            "56095/56095 [==============================] - 4s 73us/sample - loss: 186396608708.6036 - mean_absolute_error: 201458.7812 - val_loss: 230008395062.1791 - val_mean_absolute_error: 205509.9375\n",
            "Epoch 9/50\n",
            "56095/56095 [==============================] - 4s 73us/sample - loss: 179049875592.7281 - mean_absolute_error: 199497.4375 - val_loss: 222722496920.8990 - val_mean_absolute_error: 203562.4219\n",
            "Epoch 10/50\n",
            "56095/56095 [==============================] - 4s 73us/sample - loss: 172844826859.8513 - mean_absolute_error: 197989.7188 - val_loss: 216582820469.1204 - val_mean_absolute_error: 202262.5625\n",
            "Epoch 11/50\n",
            "56095/56095 [==============================] - 4s 73us/sample - loss: 167660628574.9703 - mean_absolute_error: 197045.2188 - val_loss: 211337193171.7513 - val_mean_absolute_error: 201644.3594\n",
            "Epoch 12/50\n",
            "56095/56095 [==============================] - 4s 72us/sample - loss: 163274164684.5673 - mean_absolute_error: 196435.1250 - val_loss: 206912532308.2624 - val_mean_absolute_error: 201123.8281\n",
            "Epoch 13/50\n",
            "56095/56095 [==============================] - 4s 72us/sample - loss: 159500166995.1276 - mean_absolute_error: 195646.2500 - val_loss: 202927715801.7387 - val_mean_absolute_error: 201405.6406\n",
            "Epoch 14/50\n",
            "56095/56095 [==============================] - 4s 72us/sample - loss: 156215146017.5431 - mean_absolute_error: 195402.2500 - val_loss: 199536624722.3640 - val_mean_absolute_error: 201446.8594\n",
            "Epoch 15/50\n",
            "56095/56095 [==============================] - 4s 73us/sample - loss: 153361389272.0906 - mean_absolute_error: 195235.9375 - val_loss: 196603555740.6960 - val_mean_absolute_error: 201220.4688\n",
            "Epoch 16/50\n",
            "56095/56095 [==============================] - 4s 72us/sample - loss: 150877702664.8079 - mean_absolute_error: 194720.7500 - val_loss: 193924839060.6640 - val_mean_absolute_error: 201368.7031\n",
            "Epoch 17/50\n",
            "56095/56095 [==============================] - 4s 72us/sample - loss: 148614761608.4542 - mean_absolute_error: 194269.6094 - val_loss: 191540823026.5648 - val_mean_absolute_error: 201263.3125\n",
            "Epoch 18/50\n",
            "56095/56095 [==============================] - 4s 72us/sample - loss: 146594118348.1337 - mean_absolute_error: 193538.9062 - val_loss: 189426534878.9960 - val_mean_absolute_error: 201137.1562\n",
            "Epoch 19/50\n",
            "56095/56095 [==============================] - 4s 72us/sample - loss: 144815148399.5593 - mean_absolute_error: 194037.9688 - val_loss: 187487645944.2601 - val_mean_absolute_error: 200006.3125\n",
            "Epoch 20/50\n",
            "56095/56095 [==============================] - 4s 72us/sample - loss: 143113523618.0337 - mean_absolute_error: 193126.9219 - val_loss: 185688901506.9937 - val_mean_absolute_error: 199278.6406\n",
            "Epoch 21/50\n",
            "56095/56095 [==============================] - 4s 72us/sample - loss: 141527704844.4360 - mean_absolute_error: 192021.4844 - val_loss: 183990840401.1957 - val_mean_absolute_error: 198363.8750\n",
            "Epoch 22/50\n",
            "56095/56095 [==============================] - 4s 72us/sample - loss: 139973168854.4476 - mean_absolute_error: 191344.9375 - val_loss: 182397800604.5499 - val_mean_absolute_error: 197454.3438\n",
            "Epoch 23/50\n",
            "56095/56095 [==============================] - 4s 72us/sample - loss: 138504782270.1460 - mean_absolute_error: 190374.6562 - val_loss: 180847426491.6555 - val_mean_absolute_error: 196656.5000\n",
            "Epoch 24/50\n",
            "56095/56095 [==============================] - 4s 72us/sample - loss: 137098438486.7785 - mean_absolute_error: 189217.9844 - val_loss: 179276312685.8186 - val_mean_absolute_error: 195910.4062\n",
            "Epoch 25/50\n",
            "56095/56095 [==============================] - 4s 71us/sample - loss: 135680021976.8892 - mean_absolute_error: 188281.4062 - val_loss: 177789570026.3868 - val_mean_absolute_error: 195015.0469\n",
            "Epoch 26/50\n",
            "56095/56095 [==============================] - 4s 73us/sample - loss: 134304777339.1283 - mean_absolute_error: 187520.4844 - val_loss: 176402591641.1911 - val_mean_absolute_error: 193738.7500\n",
            "Epoch 27/50\n",
            "56095/56095 [==============================] - 4s 72us/sample - loss: 132962804816.0471 - mean_absolute_error: 185498.5156 - val_loss: 174915463108.4176 - val_mean_absolute_error: 193281.8281\n",
            "Epoch 28/50\n",
            "56095/56095 [==============================] - 4s 72us/sample - loss: 131623738715.8442 - mean_absolute_error: 184671.3906 - val_loss: 173522384500.5362 - val_mean_absolute_error: 192050.1406\n",
            "Epoch 29/50\n",
            "56095/56095 [==============================] - 4s 72us/sample - loss: 130304606507.0127 - mean_absolute_error: 183598.7344 - val_loss: 172137138378.1129 - val_mean_absolute_error: 191191.0000\n",
            "Epoch 30/50\n",
            "56095/56095 [==============================] - 4s 72us/sample - loss: 129004802962.5628 - mean_absolute_error: 182631.4219 - val_loss: 170821122918.3708 - val_mean_absolute_error: 189587.4062\n",
            "Epoch 31/50\n",
            "56095/56095 [==============================] - 4s 73us/sample - loss: 127744816718.8149 - mean_absolute_error: 181297.8750 - val_loss: 169512851791.2972 - val_mean_absolute_error: 188247.9375\n",
            "Epoch 32/50\n",
            "56095/56095 [==============================] - 4s 72us/sample - loss: 126459795964.7598 - mean_absolute_error: 180185.9688 - val_loss: 168201403543.8768 - val_mean_absolute_error: 186966.5781\n",
            "Epoch 33/50\n",
            "56095/56095 [==============================] - 4s 72us/sample - loss: 125179607542.1881 - mean_absolute_error: 177884.0156 - val_loss: 166799373507.6874 - val_mean_absolute_error: 186063.4688\n",
            "Epoch 34/50\n",
            "56095/56095 [==============================] - 4s 72us/sample - loss: 123899437371.4420 - mean_absolute_error: 177230.2656 - val_loss: 165489186341.6771 - val_mean_absolute_error: 184445.9062\n",
            "Epoch 35/50\n",
            "56095/56095 [==============================] - 4s 72us/sample - loss: 122603937976.7380 - mean_absolute_error: 175613.0469 - val_loss: 164190321711.8996 - val_mean_absolute_error: 182862.6719\n",
            "Epoch 36/50\n",
            "56095/56095 [==============================] - 4s 72us/sample - loss: 121332058177.8996 - mean_absolute_error: 174398.6406 - val_loss: 162936124045.0702 - val_mean_absolute_error: 181254.3281\n",
            "Epoch 37/50\n",
            "56095/56095 [==============================] - 4s 72us/sample - loss: 120064601797.2882 - mean_absolute_error: 172130.5156 - val_loss: 161488547528.6526 - val_mean_absolute_error: 180066.3906\n",
            "Epoch 38/50\n",
            "56095/56095 [==============================] - 4s 73us/sample - loss: 118752747300.9431 - mean_absolute_error: 170736.8594 - val_loss: 160159426541.3075 - val_mean_absolute_error: 178507.8594\n",
            "Epoch 39/50\n",
            "56095/56095 [==============================] - 4s 72us/sample - loss: 117450939872.7387 - mean_absolute_error: 169310.4688 - val_loss: 158901210426.8523 - val_mean_absolute_error: 176808.8906\n",
            "Epoch 40/50\n",
            "56095/56095 [==============================] - 4s 72us/sample - loss: 116185050735.1258 - mean_absolute_error: 167440.0000 - val_loss: 157484449534.3936 - val_mean_absolute_error: 175199.5000\n",
            "Epoch 41/50\n",
            "56095/56095 [==============================] - 4s 73us/sample - loss: 114879587999.8659 - mean_absolute_error: 165970.7188 - val_loss: 156162891328.5476 - val_mean_absolute_error: 173432.8594\n",
            "Epoch 42/50\n",
            "56095/56095 [==============================] - 4s 72us/sample - loss: 113614916101.5221 - mean_absolute_error: 164352.2031 - val_loss: 154728433439.6897 - val_mean_absolute_error: 172060.2656\n",
            "Epoch 43/50\n",
            "56095/56095 [==============================] - 4s 72us/sample - loss: 112307065359.5622 - mean_absolute_error: 162160.4219 - val_loss: 153395702158.3845 - val_mean_absolute_error: 170609.6406\n",
            "Epoch 44/50\n",
            "56095/56095 [==============================] - 4s 72us/sample - loss: 111053579087.0202 - mean_absolute_error: 160687.6094 - val_loss: 152073560171.4820 - val_mean_absolute_error: 168988.3125\n",
            "Epoch 45/50\n",
            "56095/56095 [==============================] - 4s 72us/sample - loss: 109793762608.2153 - mean_absolute_error: 159278.6562 - val_loss: 150796042599.2470 - val_mean_absolute_error: 167199.4844\n",
            "Epoch 46/50\n",
            "56095/56095 [==============================] - 4s 73us/sample - loss: 108533320576.1255 - mean_absolute_error: 157470.9531 - val_loss: 149499982483.4957 - val_mean_absolute_error: 165564.2188\n",
            "Epoch 47/50\n",
            "56095/56095 [==============================] - 4s 72us/sample - loss: 107328118088.4942 - mean_absolute_error: 155730.3906 - val_loss: 148240151500.0114 - val_mean_absolute_error: 163752.6562\n",
            "Epoch 48/50\n",
            "56095/56095 [==============================] - 4s 75us/sample - loss: 106097703062.9668 - mean_absolute_error: 153444.9688 - val_loss: 146909958990.4210 - val_mean_absolute_error: 162374.9844\n",
            "Epoch 49/50\n",
            "56095/56095 [==============================] - 4s 73us/sample - loss: 104887843857.6158 - mean_absolute_error: 152384.1719 - val_loss: 145693565956.6731 - val_mean_absolute_error: 160651.3594\n",
            "Epoch 50/50\n",
            "56095/56095 [==============================] - 4s 72us/sample - loss: 103705853671.9722 - mean_absolute_error: 150470.2344 - val_loss: 144439629023.7262 - val_mean_absolute_error: 159080.6562\n"
          ],
          "name": "stdout"
        }
      ]
    },
    {
      "cell_type": "code",
      "metadata": {
        "id": "RkOq8VNOa3Wy",
        "colab_type": "code",
        "outputId": "5b444335-9eb6-4143-b2a5-a19b486687b8",
        "colab": {
          "base_uri": "https://localhost:8080/",
          "height": 312
        }
      },
      "source": [
        "plt.title('Без года')\n",
        "plt.plot(history6.history['mean_absolute_error'][visible:], label='MAE на обучающем наборе')\n",
        "plt.plot(history6.history['val_mean_absolute_error'][visible:], label='MAE на проверочном наборе')\n",
        "plt.xlabel('Эпоха обучения')\n",
        "plt.ylabel('MAE')\n",
        "plt.legend()\n",
        "plt.show()\n",
        "print('Валидационная выборка: MAE: {:.0f}'.format(history6.history['val_mean_absolute_error'][-1]))"
      ],
      "execution_count": 0,
      "outputs": [
        {
          "output_type": "display_data",
          "data": {
            "image/png": "[encoded data removed]",
            "text/plain": [
              "<Figure size 432x288 with 1 Axes>"
            ]
          },
          "metadata": {
            "tags": []
          }
        },
        {
          "output_type": "stream",
          "text": [
            "Валидационная выборка: MAE: 159081\n"
          ],
          "name": "stdout"
        }
      ]
    },
    {
      "cell_type": "markdown",
      "metadata": {
        "id": "N56A8DbG0HwE",
        "colab_type": "text"
      },
      "source": [
        "**Без пробега**"
      ]
    },
    {
      "cell_type": "code",
      "metadata": {
        "id": "1RikSqovShcW",
        "colab_type": "code",
        "outputId": "96e91046-424b-4cde-cca2-6c1fc8558159",
        "colab": {
          "base_uri": "https://localhost:8080/",
          "height": 1000
        }
      },
      "source": [
        "print('Старт')\n",
        "\n",
        "x = []\n",
        "y = []\n",
        "\n",
        "for _id, car in enumerate(np.array(cars)):\n",
        "  y.append(prices[_id])\n",
        "  x_tr = to_ohe(car[0], marks_dict) + to_ohe(car[1], models_dict) + to_ohe(car[5], bodies_dict) + to_ohe(car[6], kpps_dict) + to_ohe(car[7], fuels_dict) + [years[_id]] + [volumes[_id]] + [powers[_id]]\n",
        "  x.append(x_tr)\n",
        "\n",
        "print('X, Y собраны')\n",
        "history7 = train(x, y)"
      ],
      "execution_count": 0,
      "outputs": [
        {
          "output_type": "stream",
          "text": [
            "Старт\n",
            "X, Y собраны\n",
            "Получены обучающая и валидационная выборки\n",
            "Обучение модели...\n",
            "Train on 56095 samples, validate on 14024 samples\n",
            "Epoch 1/50\n",
            "56095/56095 [==============================] - 4s 76us/sample - loss: 652492076784.9170 - mean_absolute_error: 524507.4375 - val_loss: 698215037662.8500 - val_mean_absolute_error: 518937.2500\n",
            "Epoch 2/50\n",
            "56095/56095 [==============================] - 4s 73us/sample - loss: 604161270734.8035 - mean_absolute_error: 486852.4062 - val_loss: 607553112763.8015 - val_mean_absolute_error: 446559.9062\n",
            "Epoch 3/50\n",
            "56095/56095 [==============================] - 4s 72us/sample - loss: 477841354887.4502 - mean_absolute_error: 380171.1250 - val_loss: 456388186140.0388 - val_mean_absolute_error: 316318.5938\n",
            "Epoch 4/50\n",
            "56095/56095 [==============================] - 4s 73us/sample - loss: 336130845176.0135 - mean_absolute_error: 262170.9375 - val_loss: 335558411012.2350 - val_mean_absolute_error: 229361.8281\n",
            "Epoch 5/50\n",
            "56095/56095 [==============================] - 4s 73us/sample - loss: 251494395021.5656 - mean_absolute_error: 214001.7656 - val_loss: 280051755984.6846 - val_mean_absolute_error: 211724.8438\n",
            "Epoch 6/50\n",
            "56095/56095 [==============================] - 4s 73us/sample - loss: 214893587497.5296 - mean_absolute_error: 200706.0938 - val_loss: 254186502943.1055 - val_mean_absolute_error: 200524.8906\n",
            "Epoch 7/50\n",
            "56095/56095 [==============================] - 4s 73us/sample - loss: 196025372262.7286 - mean_absolute_error: 189887.4844 - val_loss: 238361941293.4170 - val_mean_absolute_error: 190075.8125\n",
            "Epoch 8/50\n",
            "56095/56095 [==============================] - 4s 73us/sample - loss: 183621423782.7115 - mean_absolute_error: 181499.5156 - val_loss: 227086429540.3263 - val_mean_absolute_error: 183168.4219\n",
            "Epoch 9/50\n",
            "56095/56095 [==============================] - 4s 73us/sample - loss: 174085371697.1737 - mean_absolute_error: 175105.2656 - val_loss: 217758476547.9430 - val_mean_absolute_error: 180593.4219\n",
            "Epoch 10/50\n",
            "56095/56095 [==============================] - 4s 73us/sample - loss: 166262387684.1615 - mean_absolute_error: 172761.7344 - val_loss: 209974349034.2407 - val_mean_absolute_error: 174986.6719\n",
            "Epoch 11/50\n",
            "56095/56095 [==============================] - 4s 73us/sample - loss: 159434208018.0494 - mean_absolute_error: 167864.4531 - val_loss: 203045222492.8785 - val_mean_absolute_error: 172023.7500\n",
            "Epoch 12/50\n",
            "56095/56095 [==============================] - 4s 76us/sample - loss: 153345634394.9086 - mean_absolute_error: 165316.6875 - val_loss: 196940491159.7307 - val_mean_absolute_error: 168409.5000\n",
            "Epoch 13/50\n",
            "56095/56095 [==============================] - 4s 76us/sample - loss: 147983858221.6825 - mean_absolute_error: 162434.9688 - val_loss: 191396922637.2892 - val_mean_absolute_error: 166612.3281\n",
            "Epoch 14/50\n",
            "56095/56095 [==============================] - 4s 73us/sample - loss: 143186877509.2768 - mean_absolute_error: 159701.6562 - val_loss: 186453096888.4426 - val_mean_absolute_error: 165422.4062\n",
            "Epoch 15/50\n",
            "56095/56095 [==============================] - 4s 72us/sample - loss: 138947112299.9084 - mean_absolute_error: 158704.9375 - val_loss: 182154842645.3212 - val_mean_absolute_error: 162955.0938\n",
            "Epoch 16/50\n",
            "56095/56095 [==============================] - 4s 73us/sample - loss: 135149309066.2797 - mean_absolute_error: 156516.2188 - val_loss: 178138249856.8032 - val_mean_absolute_error: 162358.0625\n",
            "Epoch 17/50\n",
            "56095/56095 [==============================] - 4s 72us/sample - loss: 131800551187.7836 - mean_absolute_error: 156172.3125 - val_loss: 174819035784.3970 - val_mean_absolute_error: 159958.2344\n",
            "Epoch 18/50\n",
            "56095/56095 [==============================] - 4s 72us/sample - loss: 128828900100.9060 - mean_absolute_error: 154424.9531 - val_loss: 171591789876.4267 - val_mean_absolute_error: 159110.7344\n",
            "Epoch 19/50\n",
            "56095/56095 [==============================] - 4s 72us/sample - loss: 126085532809.9146 - mean_absolute_error: 152896.4688 - val_loss: 168591062520.1141 - val_mean_absolute_error: 158587.4688\n",
            "Epoch 20/50\n",
            "56095/56095 [==============================] - 4s 73us/sample - loss: 123550157319.3475 - mean_absolute_error: 152214.9062 - val_loss: 165856465634.9390 - val_mean_absolute_error: 157891.6875\n",
            "Epoch 21/50\n",
            "56095/56095 [==============================] - 4s 71us/sample - loss: 121267645435.8927 - mean_absolute_error: 151224.5781 - val_loss: 163438901529.5562 - val_mean_absolute_error: 156946.7656\n",
            "Epoch 22/50\n",
            "56095/56095 [==============================] - 4s 71us/sample - loss: 119212375174.2637 - mean_absolute_error: 150398.9062 - val_loss: 161180814152.5796 - val_mean_absolute_error: 155928.6250\n",
            "Epoch 23/50\n",
            "56095/56095 [==============================] - 4s 72us/sample - loss: 117267032997.3652 - mean_absolute_error: 149691.7344 - val_loss: 159145298948.6731 - val_mean_absolute_error: 154458.2188\n",
            "Epoch 24/50\n",
            "56095/56095 [==============================] - 4s 73us/sample - loss: 115449733326.2786 - mean_absolute_error: 148167.9219 - val_loss: 157081924171.6463 - val_mean_absolute_error: 154059.5312\n",
            "Epoch 25/50\n",
            "56095/56095 [==============================] - 4s 74us/sample - loss: 113761640948.1801 - mean_absolute_error: 147582.5312 - val_loss: 155222363668.7370 - val_mean_absolute_error: 152915.4062\n",
            "Epoch 26/50\n",
            "56095/56095 [==============================] - 4s 74us/sample - loss: 112164021172.5166 - mean_absolute_error: 146522.6406 - val_loss: 153519009782.3617 - val_mean_absolute_error: 151516.6406\n",
            "Epoch 27/50\n",
            "56095/56095 [==============================] - 4s 73us/sample - loss: 110624894700.3533 - mean_absolute_error: 145980.3906 - val_loss: 151894417957.0930 - val_mean_absolute_error: 150355.9531\n",
            "Epoch 28/50\n",
            "56095/56095 [==============================] - 4s 73us/sample - loss: 109217905283.8449 - mean_absolute_error: 144275.0312 - val_loss: 150264503764.4814 - val_mean_absolute_error: 149782.1250\n",
            "Epoch 29/50\n",
            "56095/56095 [==============================] - 4s 73us/sample - loss: 107824092144.0271 - mean_absolute_error: 143758.0625 - val_loss: 148732808709.2573 - val_mean_absolute_error: 148790.9375\n",
            "Epoch 30/50\n",
            "56095/56095 [==============================] - 4s 72us/sample - loss: 106496190451.7693 - mean_absolute_error: 142503.1719 - val_loss: 147245807298.8112 - val_mean_absolute_error: 148122.2812\n",
            "Epoch 31/50\n",
            "56095/56095 [==============================] - 4s 72us/sample - loss: 105235030733.0464 - mean_absolute_error: 142023.9844 - val_loss: 145906000880.2282 - val_mean_absolute_error: 146907.8281\n",
            "Epoch 32/50\n",
            "56095/56095 [==============================] - 4s 73us/sample - loss: 104018227649.4319 - mean_absolute_error: 140441.5469 - val_loss: 144485909935.6805 - val_mean_absolute_error: 146534.7500\n",
            "Epoch 33/50\n",
            "56095/56095 [==============================] - 4s 72us/sample - loss: 102853309453.5998 - mean_absolute_error: 139960.0781 - val_loss: 143194371205.7684 - val_mean_absolute_error: 145623.6406\n",
            "Epoch 34/50\n",
            "56095/56095 [==============================] - 4s 72us/sample - loss: 101717734774.6787 - mean_absolute_error: 138958.0156 - val_loss: 141938329544.5066 - val_mean_absolute_error: 144799.7031\n",
            "Epoch 35/50\n",
            "56095/56095 [==============================] - 4s 73us/sample - loss: 100625351018.5393 - mean_absolute_error: 138242.3750 - val_loss: 140759906792.3423 - val_mean_absolute_error: 143687.0938\n",
            "Epoch 36/50\n",
            "56095/56095 [==============================] - 4s 72us/sample - loss: 99563895503.0545 - mean_absolute_error: 137403.8750 - val_loss: 139606544696.5157 - val_mean_absolute_error: 142673.4531\n",
            "Epoch 37/50\n",
            "56095/56095 [==============================] - 4s 72us/sample - loss: 98552163203.7765 - mean_absolute_error: 136280.3750 - val_loss: 138468576711.0462 - val_mean_absolute_error: 141866.2344\n",
            "Epoch 38/50\n",
            "56095/56095 [==============================] - 4s 72us/sample - loss: 97537638818.7639 - mean_absolute_error: 135487.3125 - val_loss: 137307790249.8391 - val_mean_absolute_error: 141271.8281\n",
            "Epoch 39/50\n",
            "56095/56095 [==============================] - 4s 72us/sample - loss: 96578566343.3418 - mean_absolute_error: 134787.2500 - val_loss: 136246335634.0354 - val_mean_absolute_error: 140437.2969\n",
            "Epoch 40/50\n",
            "56095/56095 [==============================] - 4s 72us/sample - loss: 95616652322.4102 - mean_absolute_error: 134174.5000 - val_loss: 135295254662.0605 - val_mean_absolute_error: 139270.9062\n",
            "Epoch 41/50\n",
            "56095/56095 [==============================] - 4s 72us/sample - loss: 94704095480.8122 - mean_absolute_error: 133011.1094 - val_loss: 134225491147.8654 - val_mean_absolute_error: 138692.1875\n",
            "Epoch 42/50\n",
            "56095/56095 [==============================] - 4s 73us/sample - loss: 93810109476.0531 - mean_absolute_error: 132443.8125 - val_loss: 133259142524.2761 - val_mean_absolute_error: 137850.5625\n",
            "Epoch 43/50\n",
            "56095/56095 [==============================] - 4s 73us/sample - loss: 92949485556.4995 - mean_absolute_error: 131272.7812 - val_loss: 132243324581.0200 - val_mean_absolute_error: 137301.5469\n",
            "Epoch 44/50\n",
            "56095/56095 [==============================] - 4s 74us/sample - loss: 92077762791.1051 - mean_absolute_error: 130589.6328 - val_loss: 131252340315.7102 - val_mean_absolute_error: 136841.5469\n",
            "Epoch 45/50\n",
            "56095/56095 [==============================] - 4s 73us/sample - loss: 91209831800.3216 - mean_absolute_error: 130430.2812 - val_loss: 130499314023.2470 - val_mean_absolute_error: 135632.4531\n",
            "Epoch 46/50\n",
            "56095/56095 [==============================] - 4s 74us/sample - loss: 90469463257.3228 - mean_absolute_error: 129060.1172 - val_loss: 129499684901.6771 - val_mean_absolute_error: 135193.5469\n",
            "Epoch 47/50\n",
            "56095/56095 [==============================] - 4s 74us/sample - loss: 89627785904.3865 - mean_absolute_error: 128005.1484 - val_loss: 128476743679.7079 - val_mean_absolute_error: 135370.4531\n",
            "Epoch 48/50\n",
            "56095/56095 [==============================] - 4s 74us/sample - loss: 88861506975.3868 - mean_absolute_error: 128121.4922 - val_loss: 127741389847.0736 - val_mean_absolute_error: 134039.3125\n",
            "Epoch 49/50\n",
            "56095/56095 [==============================] - 4s 73us/sample - loss: 88092693728.6246 - mean_absolute_error: 127243.8984 - val_loss: 126895230496.4198 - val_mean_absolute_error: 133358.5469\n",
            "Epoch 50/50\n",
            "56095/56095 [==============================] - 4s 74us/sample - loss: 87357677159.4588 - mean_absolute_error: 126147.1953 - val_loss: 125951421248.6937 - val_mean_absolute_error: 133324.9844\n"
          ],
          "name": "stdout"
        }
      ]
    },
    {
      "cell_type": "code",
      "metadata": {
        "id": "LihEFwFUa2Uc",
        "colab_type": "code",
        "outputId": "ecab1deb-d2bd-4c2f-8659-94a573d518cf",
        "colab": {
          "base_uri": "https://localhost:8080/",
          "height": 312
        }
      },
      "source": [
        "plt.title('Без пробега')\n",
        "plt.plot(history7.history['mean_absolute_error'][visible:], label='MAE на обучающем наборе')\n",
        "plt.plot(history7.history['val_mean_absolute_error'][visible:], label='MAE на проверочном наборе')\n",
        "plt.xlabel('Эпоха обучения')\n",
        "plt.ylabel('MAE')\n",
        "plt.legend()\n",
        "plt.show()\n",
        "print('Валидационная выборка: MAE: {:.0f}'.format(history7.history['val_mean_absolute_error'][-1]))"
      ],
      "execution_count": 0,
      "outputs": [
        {
          "output_type": "display_data",
          "data": {
            "image/png": "[encoded data removed]",
            "text/plain": [
              "<Figure size 432x288 with 1 Axes>"
            ]
          },
          "metadata": {
            "tags": []
          }
        },
        {
          "output_type": "stream",
          "text": [
            "Валидационная выборка: MAE: 133325\n"
          ],
          "name": "stdout"
        }
      ]
    },
    {
      "cell_type": "markdown",
      "metadata": {
        "id": "PIGz7q6G0K-j",
        "colab_type": "text"
      },
      "source": [
        "**Без объёма движка**"
      ]
    },
    {
      "cell_type": "code",
      "metadata": {
        "id": "6ioySTvxXG_R",
        "colab_type": "code",
        "outputId": "75d74034-f210-466e-b31c-9a8b2472816e",
        "colab": {
          "base_uri": "https://localhost:8080/",
          "height": 1000
        }
      },
      "source": [
        "print('Старт')\n",
        "\n",
        "x = []\n",
        "y = []\n",
        "\n",
        "for _id, car in enumerate(np.array(cars)):\n",
        "  y.append(prices[_id])\n",
        "  x_tr = to_ohe(car[0], marks_dict) + to_ohe(car[1], models_dict) + to_ohe(car[5], bodies_dict) + to_ohe(car[6], kpps_dict) + to_ohe(car[7], fuels_dict) + [years[_id]] + [mileages[_id]] + [powers[_id]]\n",
        "  x.append(x_tr)\n",
        "\n",
        "print('X, Y собраны')\n",
        "history8 = train(x, y)"
      ],
      "execution_count": 0,
      "outputs": [
        {
          "output_type": "stream",
          "text": [
            "Старт\n",
            "X, Y собраны\n",
            "Получены обучающая и валидационная выборки\n",
            "Обучение модели...\n",
            "Train on 56095 samples, validate on 14024 samples\n",
            "Epoch 1/50\n",
            "56095/56095 [==============================] - 4s 79us/sample - loss: 650416182921.9602 - mean_absolute_error: 522757.5000 - val_loss: 688825206773.4855 - val_mean_absolute_error: 511732.2188\n",
            "Epoch 2/50\n",
            "56095/56095 [==============================] - 4s 73us/sample - loss: 573445365142.9896 - mean_absolute_error: 461914.8438 - val_loss: 551222991003.3816 - val_mean_absolute_error: 399503.1562\n",
            "Epoch 3/50\n",
            "56095/56095 [==============================] - 4s 72us/sample - loss: 405762825560.1933 - mean_absolute_error: 317175.7812 - val_loss: 376450734992.4290 - val_mean_absolute_error: 248951.0625\n",
            "Epoch 4/50\n",
            "56095/56095 [==============================] - 4s 74us/sample - loss: 272690077815.0209 - mean_absolute_error: 219025.3438 - val_loss: 284422237622.1061 - val_mean_absolute_error: 209425.0625\n",
            "Epoch 5/50\n",
            "56095/56095 [==============================] - 4s 74us/sample - loss: 213685745190.6544 - mean_absolute_error: 200558.0938 - val_loss: 243667577562.1768 - val_mean_absolute_error: 198839.6250\n",
            "Epoch 6/50\n",
            "56095/56095 [==============================] - 4s 73us/sample - loss: 184592808181.1612 - mean_absolute_error: 189623.7031 - val_loss: 219496719650.9025 - val_mean_absolute_error: 187412.9688\n",
            "Epoch 7/50\n",
            "56095/56095 [==============================] - 4s 78us/sample - loss: 166580549249.9282 - mean_absolute_error: 180635.5312 - val_loss: 203839313441.0040 - val_mean_absolute_error: 181394.5625\n",
            "Epoch 8/50\n",
            "56095/56095 [==============================] - 4s 74us/sample - loss: 154432015608.1733 - mean_absolute_error: 176402.4062 - val_loss: 192730308056.5705 - val_mean_absolute_error: 179125.9062\n",
            "Epoch 9/50\n",
            "56095/56095 [==============================] - 4s 74us/sample - loss: 145723032458.1656 - mean_absolute_error: 173845.0000 - val_loss: 184497209751.1466 - val_mean_absolute_error: 177266.7969\n",
            "Epoch 10/50\n",
            "56095/56095 [==============================] - 4s 75us/sample - loss: 138968024669.0536 - mean_absolute_error: 172247.0000 - val_loss: 178132367483.2538 - val_mean_absolute_error: 173770.4531\n",
            "Epoch 11/50\n",
            "56095/56095 [==============================] - 4s 73us/sample - loss: 133559738966.0255 - mean_absolute_error: 169191.9062 - val_loss: 172728170930.6013 - val_mean_absolute_error: 172333.9844\n",
            "Epoch 12/50\n",
            "56095/56095 [==============================] - 4s 73us/sample - loss: 129097696458.7189 - mean_absolute_error: 166686.5781 - val_loss: 168249161334.2886 - val_mean_absolute_error: 170711.9688\n",
            "Epoch 13/50\n",
            "56095/56095 [==============================] - 4s 73us/sample - loss: 125319427565.3345 - mean_absolute_error: 164720.2812 - val_loss: 164349145166.8591 - val_mean_absolute_error: 167345.6719\n",
            "Epoch 14/50\n",
            "56095/56095 [==============================] - 4s 74us/sample - loss: 121865081449.3755 - mean_absolute_error: 161483.6094 - val_loss: 160781623256.5705 - val_mean_absolute_error: 163453.1094\n",
            "Epoch 15/50\n",
            "56095/56095 [==============================] - 4s 73us/sample - loss: 118537758279.1479 - mean_absolute_error: 156849.5938 - val_loss: 157100467243.2265 - val_mean_absolute_error: 159533.8594\n",
            "Epoch 16/50\n",
            "56095/56095 [==============================] - 4s 73us/sample - loss: 115172106002.6883 - mean_absolute_error: 152052.7344 - val_loss: 153403272359.6486 - val_mean_absolute_error: 154713.9375\n",
            "Epoch 17/50\n",
            "56095/56095 [==============================] - 4s 73us/sample - loss: 111848756066.7354 - mean_absolute_error: 147232.0469 - val_loss: 149891145423.3702 - val_mean_absolute_error: 148314.7969\n",
            "Epoch 18/50\n",
            "56095/56095 [==============================] - 4s 73us/sample - loss: 108583908884.7648 - mean_absolute_error: 141100.0000 - val_loss: 146406458625.0222 - val_mean_absolute_error: 142351.4844\n",
            "Epoch 19/50\n",
            "56095/56095 [==============================] - 4s 73us/sample - loss: 105428271110.9368 - mean_absolute_error: 135463.8438 - val_loss: 143103738460.5864 - val_mean_absolute_error: 136501.9219\n",
            "Epoch 20/50\n",
            "56095/56095 [==============================] - 4s 74us/sample - loss: 102436687345.1680 - mean_absolute_error: 129836.0469 - val_loss: 139899722395.9658 - val_mean_absolute_error: 131347.6406\n",
            "Epoch 21/50\n",
            "56095/56095 [==============================] - 4s 73us/sample - loss: 99638274148.2186 - mean_absolute_error: 124569.0781 - val_loss: 136901068527.2059 - val_mean_absolute_error: 126753.7188\n",
            "Epoch 22/50\n",
            "56095/56095 [==============================] - 4s 74us/sample - loss: 97027470992.8970 - mean_absolute_error: 120019.8516 - val_loss: 133970507892.5362 - val_mean_absolute_error: 123224.6797\n",
            "Epoch 23/50\n",
            "56095/56095 [==============================] - 4s 73us/sample - loss: 94601955775.0587 - mean_absolute_error: 116284.3984 - val_loss: 131320972841.1820 - val_mean_absolute_error: 119829.2188\n",
            "Epoch 24/50\n",
            "56095/56095 [==============================] - 4s 73us/sample - loss: 92379947316.5052 - mean_absolute_error: 113371.2656 - val_loss: 128987875655.1192 - val_mean_absolute_error: 116378.9062\n",
            "Epoch 25/50\n",
            "56095/56095 [==============================] - 4s 73us/sample - loss: 90297188974.6694 - mean_absolute_error: 109804.3594 - val_loss: 126536461367.7855 - val_mean_absolute_error: 114388.7344\n",
            "Epoch 26/50\n",
            "56095/56095 [==============================] - 4s 73us/sample - loss: 88403942729.5894 - mean_absolute_error: 107952.8750 - val_loss: 124495232448.3286 - val_mean_absolute_error: 111374.3672\n",
            "Epoch 27/50\n",
            "56095/56095 [==============================] - 4s 74us/sample - loss: 86587809736.8707 - mean_absolute_error: 105315.2891 - val_loss: 122503352630.7633 - val_mean_absolute_error: 109094.2031\n",
            "Epoch 28/50\n",
            "56095/56095 [==============================] - 4s 73us/sample - loss: 84883537453.5912 - mean_absolute_error: 103133.3906 - val_loss: 120488732299.4638 - val_mean_absolute_error: 107206.4531\n",
            "Epoch 29/50\n",
            "56095/56095 [==============================] - 4s 74us/sample - loss: 83270808474.2298 - mean_absolute_error: 101072.5156 - val_loss: 118569608211.5688 - val_mean_absolute_error: 105555.6562\n",
            "Epoch 30/50\n",
            "56095/56095 [==============================] - 4s 77us/sample - loss: 81684814053.0971 - mean_absolute_error: 99793.6719 - val_loss: 117040202839.6212 - val_mean_absolute_error: 103515.1016\n",
            "Epoch 31/50\n",
            "56095/56095 [==============================] - 4s 78us/sample - loss: 80283307349.6376 - mean_absolute_error: 97695.2656 - val_loss: 115201161032.1415 - val_mean_absolute_error: 102031.0078\n",
            "Epoch 32/50\n",
            "56095/56095 [==============================] - 4s 73us/sample - loss: 78903728827.7044 - mean_absolute_error: 96089.9297 - val_loss: 113560285331.7878 - val_mean_absolute_error: 100684.8125\n",
            "Epoch 33/50\n",
            "56095/56095 [==============================] - 4s 73us/sample - loss: 77577389686.3364 - mean_absolute_error: 94700.4844 - val_loss: 112008711024.8853 - val_mean_absolute_error: 99401.1641\n",
            "Epoch 34/50\n",
            "56095/56095 [==============================] - 4s 74us/sample - loss: 76340609939.2017 - mean_absolute_error: 93568.7188 - val_loss: 110585358349.8734 - val_mean_absolute_error: 98068.5625\n",
            "Epoch 35/50\n",
            "56095/56095 [==============================] - 4s 73us/sample - loss: 75173979217.4162 - mean_absolute_error: 92396.1172 - val_loss: 109286802496.4016 - val_mean_absolute_error: 96751.1250\n",
            "Epoch 36/50\n",
            "56095/56095 [==============================] - 4s 73us/sample - loss: 74057445071.5108 - mean_absolute_error: 91127.3750 - val_loss: 107864697104.9401 - val_mean_absolute_error: 95863.5703\n",
            "Epoch 37/50\n",
            "56095/56095 [==============================] - 4s 73us/sample - loss: 73005694218.4280 - mean_absolute_error: 90121.8750 - val_loss: 106600638368.9310 - val_mean_absolute_error: 94844.8594\n",
            "Epoch 38/50\n",
            "56095/56095 [==============================] - 4s 74us/sample - loss: 71979490587.5419 - mean_absolute_error: 89270.4844 - val_loss: 105431833741.5083 - val_mean_absolute_error: 93798.2266\n",
            "Epoch 39/50\n",
            "56095/56095 [==============================] - 4s 74us/sample - loss: 71022867872.4820 - mean_absolute_error: 88441.8906 - val_loss: 104378048463.2242 - val_mean_absolute_error: 92799.2031\n",
            "Epoch 40/50\n",
            "56095/56095 [==============================] - 4s 72us/sample - loss: 70106681688.1020 - mean_absolute_error: 87343.9844 - val_loss: 103144495612.4951 - val_mean_absolute_error: 92105.4844\n",
            "Epoch 41/50\n",
            "56095/56095 [==============================] - 4s 74us/sample - loss: 69232982847.6862 - mean_absolute_error: 86862.1094 - val_loss: 102212946619.0713 - val_mean_absolute_error: 91097.7109\n",
            "Epoch 42/50\n",
            "56095/56095 [==============================] - 4s 73us/sample - loss: 68411193390.0020 - mean_absolute_error: 85873.9297 - val_loss: 101102960151.9498 - val_mean_absolute_error: 90475.7344\n",
            "Epoch 43/50\n",
            "56095/56095 [==============================] - 4s 73us/sample - loss: 67607463255.0067 - mean_absolute_error: 85129.7656 - val_loss: 100036547035.9293 - val_mean_absolute_error: 89988.2500\n",
            "Epoch 44/50\n",
            "56095/56095 [==============================] - 4s 76us/sample - loss: 66827139232.8243 - mean_absolute_error: 84603.0703 - val_loss: 99149090342.9914 - val_mean_absolute_error: 89194.7031\n",
            "Epoch 45/50\n",
            "56095/56095 [==============================] - 4s 73us/sample - loss: 66092709593.2771 - mean_absolute_error: 84184.7969 - val_loss: 98363814058.1312 - val_mean_absolute_error: 88438.4688\n",
            "Epoch 46/50\n",
            "56095/56095 [==============================] - 4s 73us/sample - loss: 65414221941.7431 - mean_absolute_error: 83372.9062 - val_loss: 97456823343.4615 - val_mean_absolute_error: 87893.0312\n",
            "Epoch 47/50\n",
            "56095/56095 [==============================] - 4s 73us/sample - loss: 64722289503.9971 - mean_absolute_error: 82788.9453 - val_loss: 96565935213.0884 - val_mean_absolute_error: 87424.8672\n",
            "Epoch 48/50\n",
            "56095/56095 [==============================] - 4s 73us/sample - loss: 64081970752.4392 - mean_absolute_error: 82438.1484 - val_loss: 95836715943.9407 - val_mean_absolute_error: 86812.6797\n",
            "Epoch 49/50\n",
            "56095/56095 [==============================] - 4s 72us/sample - loss: 63451851793.2507 - mean_absolute_error: 81675.1250 - val_loss: 95002492038.2065 - val_mean_absolute_error: 86457.4453\n",
            "Epoch 50/50\n",
            "56095/56095 [==============================] - 4s 73us/sample - loss: 62858843661.4629 - mean_absolute_error: 81439.0391 - val_loss: 94194397899.4273 - val_mean_absolute_error: 86086.7656\n"
          ],
          "name": "stdout"
        }
      ]
    },
    {
      "cell_type": "code",
      "metadata": {
        "id": "-xU9bfRGa1Po",
        "colab_type": "code",
        "outputId": "4ec9de91-2845-4219-f8ce-9a0bf204bf57",
        "colab": {
          "base_uri": "https://localhost:8080/",
          "height": 312
        }
      },
      "source": [
        "plt.title('Без объёма движка')\n",
        "plt.plot(history8.history['mean_absolute_error'][visible:], label='MAE на обучающем наборе')\n",
        "plt.plot(history8.history['val_mean_absolute_error'][visible:], label='MAE на проверочном наборе')\n",
        "plt.xlabel('Эпоха обучения')\n",
        "plt.ylabel('MAE')\n",
        "plt.legend()\n",
        "plt.show()\n",
        "print('Валидационная выборка: MAE: {:.0f}'.format(history8.history['val_mean_absolute_error'][-1]))"
      ],
      "execution_count": 0,
      "outputs": [
        {
          "output_type": "display_data",
          "data": {
            "image/png": "[encoded data removed]",
            "text/plain": [
              "<Figure size 432x288 with 1 Axes>"
            ]
          },
          "metadata": {
            "tags": []
          }
        },
        {
          "output_type": "stream",
          "text": [
            "Валидационная выборка: MAE: 86087\n"
          ],
          "name": "stdout"
        }
      ]
    },
    {
      "cell_type": "markdown",
      "metadata": {
        "id": "7duamEHD0Ppm",
        "colab_type": "text"
      },
      "source": [
        "**Без мощности движка**"
      ]
    },
    {
      "cell_type": "code",
      "metadata": {
        "id": "Fx8caQvnXI4c",
        "colab_type": "code",
        "outputId": "051b2adc-842f-4def-f27b-f9c86e21e265",
        "colab": {
          "base_uri": "https://localhost:8080/",
          "height": 1000
        }
      },
      "source": [
        "print('Старт')\n",
        "\n",
        "x = []\n",
        "y = []\n",
        "\n",
        "for _id, car in enumerate(np.array(cars)):\n",
        "  y.append(prices[_id])\n",
        "  x_tr = to_ohe(car[0], marks_dict) + to_ohe(car[1], models_dict) + to_ohe(car[5], bodies_dict) + to_ohe(car[6], kpps_dict) + to_ohe(car[7], fuels_dict) + [years[_id]] + [mileages[_id]] + [volumes[_id]]\n",
        "  x.append(x_tr)\n",
        "\n",
        "print('X, Y собраны')\n",
        "history9 = train(x, y)"
      ],
      "execution_count": 0,
      "outputs": [
        {
          "output_type": "stream",
          "text": [
            "Старт\n",
            "X, Y собраны\n",
            "Получены обучающая и валидационная выборки\n",
            "Обучение модели...\n",
            "Train on 56095 samples, validate on 14024 samples\n",
            "Epoch 1/50\n",
            "56095/56095 [==============================] - 4s 79us/sample - loss: 647880385225.3955 - mean_absolute_error: 520742.2500 - val_loss: 680046098082.6833 - val_mean_absolute_error: 504337.0938\n",
            "Epoch 2/50\n",
            "56095/56095 [==============================] - 4s 74us/sample - loss: 551187845186.0822 - mean_absolute_error: 441403.7188 - val_loss: 515719420400.5202 - val_mean_absolute_error: 365120.1250\n",
            "Epoch 3/50\n",
            "56095/56095 [==============================] - 4s 75us/sample - loss: 366423252242.0950 - mean_absolute_error: 282224.7500 - val_loss: 342331322334.1198 - val_mean_absolute_error: 227914.5469\n",
            "Epoch 4/50\n",
            "56095/56095 [==============================] - 4s 74us/sample - loss: 249038188701.3559 - mean_absolute_error: 212372.2812 - val_loss: 272680458873.7935 - val_mean_absolute_error: 208997.4062\n",
            "Epoch 5/50\n",
            "56095/56095 [==============================] - 4s 75us/sample - loss: 204246779241.9003 - mean_absolute_error: 198217.3438 - val_loss: 241227035475.6783 - val_mean_absolute_error: 195467.7344\n",
            "Epoch 6/50\n",
            "56095/56095 [==============================] - 4s 74us/sample - loss: 181413017341.5128 - mean_absolute_error: 187240.1406 - val_loss: 222959986370.2271 - val_mean_absolute_error: 187727.0781\n",
            "Epoch 7/50\n",
            "56095/56095 [==============================] - 4s 72us/sample - loss: 167643852197.9585 - mean_absolute_error: 181441.0938 - val_loss: 211166638798.4940 - val_mean_absolute_error: 186461.9844\n",
            "Epoch 8/50\n",
            "56095/56095 [==============================] - 4s 72us/sample - loss: 158418963502.6409 - mean_absolute_error: 180287.4219 - val_loss: 202952597655.8768 - val_mean_absolute_error: 182966.6406\n",
            "Epoch 9/50\n",
            "56095/56095 [==============================] - 4s 73us/sample - loss: 151571946234.1357 - mean_absolute_error: 177765.2812 - val_loss: 196391612378.0308 - val_mean_absolute_error: 182018.4062\n",
            "Epoch 10/50\n",
            "56095/56095 [==============================] - 4s 73us/sample - loss: 146034881899.7258 - mean_absolute_error: 175579.0000 - val_loss: 190914639735.8951 - val_mean_absolute_error: 181384.0469\n",
            "Epoch 11/50\n",
            "56095/56095 [==============================] - 4s 73us/sample - loss: 141423051693.9449 - mean_absolute_error: 174360.2031 - val_loss: 186308065947.6737 - val_mean_absolute_error: 179099.8750\n",
            "Epoch 12/50\n",
            "56095/56095 [==============================] - 4s 73us/sample - loss: 137410512501.8800 - mean_absolute_error: 172819.8750 - val_loss: 182411312407.2196 - val_mean_absolute_error: 175325.7969\n",
            "Epoch 13/50\n",
            "56095/56095 [==============================] - 4s 74us/sample - loss: 133772869312.5419 - mean_absolute_error: 168438.3125 - val_loss: 178164299913.2733 - val_mean_absolute_error: 174233.7812\n",
            "Epoch 14/50\n",
            "56095/56095 [==============================] - 4s 73us/sample - loss: 130129389916.8482 - mean_absolute_error: 165927.6094 - val_loss: 174388671267.7787 - val_mean_absolute_error: 169153.4844\n",
            "Epoch 15/50\n",
            "56095/56095 [==============================] - 4s 73us/sample - loss: 126489268663.2092 - mean_absolute_error: 160337.2031 - val_loss: 170277499620.6914 - val_mean_absolute_error: 165463.1406\n",
            "Epoch 16/50\n",
            "56095/56095 [==============================] - 4s 72us/sample - loss: 122835622607.2370 - mean_absolute_error: 156168.9375 - val_loss: 166343271115.5733 - val_mean_absolute_error: 159518.0156\n",
            "Epoch 17/50\n",
            "56095/56095 [==============================] - 4s 71us/sample - loss: 119208924026.8316 - mean_absolute_error: 150196.6406 - val_loss: 162490520973.5083 - val_mean_absolute_error: 153776.3750\n",
            "Epoch 18/50\n",
            "56095/56095 [==============================] - 4s 72us/sample - loss: 115681599987.8150 - mean_absolute_error: 144591.1875 - val_loss: 158660103110.7542 - val_mean_absolute_error: 148516.2656\n",
            "Epoch 19/50\n",
            "56095/56095 [==============================] - 4s 72us/sample - loss: 112260307362.0337 - mean_absolute_error: 139562.1406 - val_loss: 155034115510.3982 - val_mean_absolute_error: 143016.7031\n",
            "Epoch 20/50\n",
            "56095/56095 [==============================] - 4s 73us/sample - loss: 108979844211.8264 - mean_absolute_error: 134315.1719 - val_loss: 151469861861.7136 - val_mean_absolute_error: 138110.5312\n",
            "Epoch 21/50\n",
            "56095/56095 [==============================] - 4s 72us/sample - loss: 105762674069.3466 - mean_absolute_error: 129055.6562 - val_loss: 147903602186.2225 - val_mean_absolute_error: 134431.9375\n",
            "Epoch 22/50\n",
            "56095/56095 [==============================] - 4s 72us/sample - loss: 102754671292.4346 - mean_absolute_error: 125288.8594 - val_loss: 144766628883.8608 - val_mean_absolute_error: 129366.5000\n",
            "Epoch 23/50\n",
            "56095/56095 [==============================] - 4s 74us/sample - loss: 99910161439.1243 - mean_absolute_error: 120405.3438 - val_loss: 141538212250.3594 - val_mean_absolute_error: 126168.8828\n",
            "Epoch 24/50\n",
            "56095/56095 [==============================] - 4s 74us/sample - loss: 97241200337.8839 - mean_absolute_error: 116627.9688 - val_loss: 138644267410.1814 - val_mean_absolute_error: 122772.5703\n",
            "Epoch 25/50\n",
            "56095/56095 [==============================] - 4s 73us/sample - loss: 94803187178.6876 - mean_absolute_error: 114012.0625 - val_loss: 136096465628.2213 - val_mean_absolute_error: 118433.0234\n",
            "Epoch 26/50\n",
            "56095/56095 [==============================] - 4s 73us/sample - loss: 92544948253.0250 - mean_absolute_error: 110197.8906 - val_loss: 133489914056.2145 - val_mean_absolute_error: 115545.3516\n",
            "Epoch 27/50\n",
            "56095/56095 [==============================] - 4s 72us/sample - loss: 90375307906.1107 - mean_absolute_error: 107397.9688 - val_loss: 131069804442.9435 - val_mean_absolute_error: 112692.9219\n",
            "Epoch 28/50\n",
            "56095/56095 [==============================] - 4s 72us/sample - loss: 88330844022.1767 - mean_absolute_error: 104448.3672 - val_loss: 128673109473.9167 - val_mean_absolute_error: 110481.8672\n",
            "Epoch 29/50\n",
            "56095/56095 [==============================] - 4s 72us/sample - loss: 86390620807.4958 - mean_absolute_error: 101879.5781 - val_loss: 126403186916.6914 - val_mean_absolute_error: 108581.5547\n",
            "Epoch 30/50\n",
            "56095/56095 [==============================] - 4s 72us/sample - loss: 84609691639.4203 - mean_absolute_error: 100232.0469 - val_loss: 124481313064.7439 - val_mean_absolute_error: 105838.5781\n",
            "Epoch 31/50\n",
            "56095/56095 [==============================] - 4s 73us/sample - loss: 82959821604.6692 - mean_absolute_error: 98040.1094 - val_loss: 122682910353.8893 - val_mean_absolute_error: 103648.5938\n",
            "Epoch 32/50\n",
            "56095/56095 [==============================] - 4s 74us/sample - loss: 81433490317.7253 - mean_absolute_error: 95859.3594 - val_loss: 120699734494.1198 - val_mean_absolute_error: 102261.4375\n",
            "Epoch 33/50\n",
            "56095/56095 [==============================] - 4s 74us/sample - loss: 79937071524.9545 - mean_absolute_error: 94343.9219 - val_loss: 118884333901.3987 - val_mean_absolute_error: 101044.6328\n",
            "Epoch 34/50\n",
            "56095/56095 [==============================] - 4s 73us/sample - loss: 78572453471.2441 - mean_absolute_error: 92928.4609 - val_loss: 117209045766.4256 - val_mean_absolute_error: 99546.8438\n",
            "Epoch 35/50\n",
            "56095/56095 [==============================] - 4s 73us/sample - loss: 77252959823.7276 - mean_absolute_error: 91636.7266 - val_loss: 115663189336.7895 - val_mean_absolute_error: 97928.0938\n",
            "Epoch 36/50\n",
            "56095/56095 [==============================] - 4s 73us/sample - loss: 76023537674.7703 - mean_absolute_error: 90608.0156 - val_loss: 114236230879.5802 - val_mean_absolute_error: 96487.6250\n",
            "Epoch 37/50\n",
            "56095/56095 [==============================] - 4s 73us/sample - loss: 74834690144.0200 - mean_absolute_error: 89046.8594 - val_loss: 112669486269.2618 - val_mean_absolute_error: 95763.7500\n",
            "Epoch 38/50\n",
            "56095/56095 [==============================] - 4s 73us/sample - loss: 73726000910.4897 - mean_absolute_error: 88354.1172 - val_loss: 111334217897.4010 - val_mean_absolute_error: 94536.1797\n",
            "Epoch 39/50\n",
            "56095/56095 [==============================] - 4s 72us/sample - loss: 72684856387.9989 - mean_absolute_error: 87428.5859 - val_loss: 110105669939.9886 - val_mean_absolute_error: 93421.6562\n",
            "Epoch 40/50\n",
            "56095/56095 [==============================] - 4s 73us/sample - loss: 71666452619.8314 - mean_absolute_error: 86457.2891 - val_loss: 108869205039.7536 - val_mean_absolute_error: 92565.3359\n",
            "Epoch 41/50\n",
            "56095/56095 [==============================] - 4s 72us/sample - loss: 70711529100.2421 - mean_absolute_error: 85640.8750 - val_loss: 107612776215.5117 - val_mean_absolute_error: 91897.7812\n",
            "Epoch 42/50\n",
            "56095/56095 [==============================] - 4s 73us/sample - loss: 69776201364.2742 - mean_absolute_error: 84752.5156 - val_loss: 106386165440.4746 - val_mean_absolute_error: 91353.7734\n",
            "Epoch 43/50\n",
            "56095/56095 [==============================] - 4s 73us/sample - loss: 68898398492.6828 - mean_absolute_error: 84356.4531 - val_loss: 105340230972.0205 - val_mean_absolute_error: 90499.1953\n",
            "Epoch 44/50\n",
            "56095/56095 [==============================] - 4s 74us/sample - loss: 68046942675.1390 - mean_absolute_error: 83601.7109 - val_loss: 104316518073.1729 - val_mean_absolute_error: 89815.9375\n",
            "Epoch 45/50\n",
            "56095/56095 [==============================] - 4s 72us/sample - loss: 67215625872.1669 - mean_absolute_error: 83103.3750 - val_loss: 103293152042.7884 - val_mean_absolute_error: 89174.2031\n",
            "Epoch 46/50\n",
            "56095/56095 [==============================] - 4s 73us/sample - loss: 66430069922.1021 - mean_absolute_error: 82509.1484 - val_loss: 102307905000.3423 - val_mean_absolute_error: 88607.1094\n",
            "Epoch 47/50\n",
            "56095/56095 [==============================] - 4s 75us/sample - loss: 65676846997.6661 - mean_absolute_error: 81783.3516 - val_loss: 101204511202.9390 - val_mean_absolute_error: 88319.4219\n",
            "Epoch 48/50\n",
            "56095/56095 [==============================] - 4s 76us/sample - loss: 64929500215.2206 - mean_absolute_error: 81411.4531 - val_loss: 100328058425.2459 - val_mean_absolute_error: 87668.9375\n",
            "Epoch 49/50\n",
            "56095/56095 [==============================] - 4s 75us/sample - loss: 64212198690.4330 - mean_absolute_error: 80878.8281 - val_loss: 99381534678.8180 - val_mean_absolute_error: 87280.2031\n",
            "Epoch 50/50\n",
            "56095/56095 [==============================] - 4s 72us/sample - loss: 63516154543.6563 - mean_absolute_error: 80576.6797 - val_loss: 98525850890.0764 - val_mean_absolute_error: 86703.5625\n"
          ],
          "name": "stdout"
        }
      ]
    },
    {
      "cell_type": "code",
      "metadata": {
        "id": "-qAqh2u_az64",
        "colab_type": "code",
        "outputId": "c645bd8b-7991-4633-e571-517f33fae11f",
        "colab": {
          "base_uri": "https://localhost:8080/",
          "height": 312
        }
      },
      "source": [
        "plt.title('Без мощности движка')\n",
        "plt.plot(history9.history['mean_absolute_error'][visible:], label='MAE на обучающем наборе')\n",
        "plt.plot(history9.history['val_mean_absolute_error'][visible:], label='MAE на проверочном наборе')\n",
        "plt.xlabel('Эпоха обучения')\n",
        "plt.ylabel('MAE')\n",
        "plt.legend()\n",
        "plt.show()\n",
        "print('Валидационная выборка: MAE: {:.0f}'.format(history9.history['val_mean_absolute_error'][-1]))"
      ],
      "execution_count": 0,
      "outputs": [
        {
          "output_type": "display_data",
          "data": {
            "image/png": "[encoded data removed]",
            "text/plain": [
              "<Figure size 432x288 with 1 Axes>"
            ]
          },
          "metadata": {
            "tags": []
          }
        },
        {
          "output_type": "stream",
          "text": [
            "Валидационная выборка: MAE: 86704\n"
          ],
          "name": "stdout"
        }
      ]
    },
    {
      "cell_type": "markdown",
      "metadata": {
        "id": "FHy2oUiz0SeO",
        "colab_type": "text"
      },
      "source": [
        "**Без объёма и мощности движка**"
      ]
    },
    {
      "cell_type": "code",
      "metadata": {
        "id": "2obNBUcvF2CE",
        "colab_type": "code",
        "outputId": "35e8cf97-7f09-4801-ddea-7cf36aece30f",
        "colab": {
          "base_uri": "https://localhost:8080/",
          "height": 1000
        }
      },
      "source": [
        "print('Старт')\n",
        "\n",
        "x = []\n",
        "y = []\n",
        "\n",
        "for _id, car in enumerate(np.array(cars)):\n",
        "  y.append(prices[_id])\n",
        "  x_tr = to_ohe(car[0], marks_dict) + to_ohe(car[1], models_dict) + to_ohe(car[5], bodies_dict) + to_ohe(car[6], kpps_dict) + to_ohe(car[7], fuels_dict) + [years[_id]] + [mileages[_id]]\n",
        "  x.append(x_tr)\n",
        "\n",
        "print('X, Y собраны')\n",
        "historya = train(x, y)"
      ],
      "execution_count": 0,
      "outputs": [
        {
          "output_type": "stream",
          "text": [
            "Старт\n",
            "X, Y собраны\n",
            "Получены обучающая и валидационная выборки\n",
            "Обучение модели...\n",
            "Train on 56095 samples, validate on 14024 samples\n",
            "Epoch 1/50\n",
            "56095/56095 [==============================] - 4s 80us/sample - loss: 648716330123.1925 - mean_absolute_error: 521074.5938 - val_loss: 682712938786.9025 - val_mean_absolute_error: 504974.6875\n",
            "Epoch 2/50\n",
            "56095/56095 [==============================] - 4s 72us/sample - loss: 559107706192.5262 - mean_absolute_error: 442841.8125 - val_loss: 529963149983.7626 - val_mean_absolute_error: 369096.1562\n",
            "Epoch 3/50\n",
            "56095/56095 [==============================] - 4s 74us/sample - loss: 391510958507.1611 - mean_absolute_error: 295171.5938 - val_loss: 377234307336.0319 - val_mean_absolute_error: 251662.0625\n",
            "Epoch 4/50\n",
            "56095/56095 [==============================] - 4s 73us/sample - loss: 288024929458.6227 - mean_absolute_error: 239036.4688 - val_loss: 312069881028.8557 - val_mean_absolute_error: 234870.1406\n",
            "Epoch 5/50\n",
            "56095/56095 [==============================] - 4s 74us/sample - loss: 244025158952.3658 - mean_absolute_error: 224856.0469 - val_loss: 278237763808.3103 - val_mean_absolute_error: 219149.3594\n",
            "Epoch 6/50\n",
            "56095/56095 [==============================] - 4s 74us/sample - loss: 217236431956.7933 - mean_absolute_error: 209585.7031 - val_loss: 254661448009.4558 - val_mean_absolute_error: 204373.0312\n",
            "Epoch 7/50\n",
            "56095/56095 [==============================] - 4s 74us/sample - loss: 198099900726.8783 - mean_absolute_error: 197552.2344 - val_loss: 237819987620.4358 - val_mean_absolute_error: 195555.1875\n",
            "Epoch 8/50\n",
            "56095/56095 [==============================] - 4s 74us/sample - loss: 184301646161.7128 - mean_absolute_error: 191246.9531 - val_loss: 225689572735.1968 - val_mean_absolute_error: 191291.4531\n",
            "Epoch 9/50\n",
            "56095/56095 [==============================] - 4s 74us/sample - loss: 174102929364.9188 - mean_absolute_error: 186715.6875 - val_loss: 216496091181.5630 - val_mean_absolute_error: 190206.8906\n",
            "Epoch 10/50\n",
            "56095/56095 [==============================] - 4s 73us/sample - loss: 166112578504.4143 - mean_absolute_error: 184378.3125 - val_loss: 209095938799.2059 - val_mean_absolute_error: 187499.0312\n",
            "Epoch 11/50\n",
            "56095/56095 [==============================] - 4s 74us/sample - loss: 159582507821.7966 - mean_absolute_error: 182038.5156 - val_loss: 203095245389.9829 - val_mean_absolute_error: 182194.1562\n",
            "Epoch 12/50\n",
            "56095/56095 [==============================] - 4s 74us/sample - loss: 154024215951.1400 - mean_absolute_error: 176588.4688 - val_loss: 197608585098.5876 - val_mean_absolute_error: 178585.4219\n",
            "Epoch 13/50\n",
            "56095/56095 [==============================] - 4s 74us/sample - loss: 148790898920.5655 - mean_absolute_error: 171136.7188 - val_loss: 192325855088.8854 - val_mean_absolute_error: 175067.8438\n",
            "Epoch 14/50\n",
            "56095/56095 [==============================] - 4s 73us/sample - loss: 143731392276.1487 - mean_absolute_error: 165775.4531 - val_loss: 187130122034.3822 - val_mean_absolute_error: 167204.5938\n",
            "Epoch 15/50\n",
            "56095/56095 [==============================] - 4s 73us/sample - loss: 138676426571.6431 - mean_absolute_error: 158243.6406 - val_loss: 181923307466.8431 - val_mean_absolute_error: 159153.8594\n",
            "Epoch 16/50\n",
            "56095/56095 [==============================] - 4s 74us/sample - loss: 133713134530.7553 - mean_absolute_error: 150111.0312 - val_loss: 177012294436.3628 - val_mean_absolute_error: 150224.3750\n",
            "Epoch 17/50\n",
            "56095/56095 [==============================] - 4s 73us/sample - loss: 129085248311.5629 - mean_absolute_error: 141932.7188 - val_loss: 172286586333.2436 - val_mean_absolute_error: 143295.5938\n",
            "Epoch 18/50\n",
            "56095/56095 [==============================] - 4s 73us/sample - loss: 124833771507.4042 - mean_absolute_error: 135035.9375 - val_loss: 168140895199.2881 - val_mean_absolute_error: 136100.4688\n",
            "Epoch 19/50\n",
            "56095/56095 [==============================] - 4s 73us/sample - loss: 120998756823.3376 - mean_absolute_error: 128851.5078 - val_loss: 164193512030.0468 - val_mean_absolute_error: 131410.7969\n",
            "Epoch 20/50\n",
            "56095/56095 [==============================] - 4s 72us/sample - loss: 117550273897.5352 - mean_absolute_error: 123880.1328 - val_loss: 160646173715.8608 - val_mean_absolute_error: 127605.6406\n",
            "Epoch 21/50\n",
            "56095/56095 [==============================] - 4s 73us/sample - loss: 114388966911.4067 - mean_absolute_error: 120232.4688 - val_loss: 157415882900.6640 - val_mean_absolute_error: 123548.7344\n",
            "Epoch 22/50\n",
            "56095/56095 [==============================] - 4s 72us/sample - loss: 111506082683.7444 - mean_absolute_error: 116543.1875 - val_loss: 154403921275.1078 - val_mean_absolute_error: 120520.7188\n",
            "Epoch 23/50\n",
            "56095/56095 [==============================] - 4s 73us/sample - loss: 108836602992.3580 - mean_absolute_error: 113579.9219 - val_loss: 151660045972.3719 - val_mean_absolute_error: 117393.6719\n",
            "Epoch 24/50\n",
            "56095/56095 [==============================] - 4s 72us/sample - loss: 106345813280.1512 - mean_absolute_error: 111011.1641 - val_loss: 149028164664.6617 - val_mean_absolute_error: 114808.1250\n",
            "Epoch 25/50\n",
            "56095/56095 [==============================] - 4s 73us/sample - loss: 104046896504.1391 - mean_absolute_error: 108091.4297 - val_loss: 146496168911.8083 - val_mean_absolute_error: 113073.1406\n",
            "Epoch 26/50\n",
            "56095/56095 [==============================] - 4s 73us/sample - loss: 101843674845.0193 - mean_absolute_error: 105995.4453 - val_loss: 144162697918.7222 - val_mean_absolute_error: 110607.0312\n",
            "Epoch 27/50\n",
            "56095/56095 [==============================] - 4s 72us/sample - loss: 99791160010.8559 - mean_absolute_error: 103763.7031 - val_loss: 141958305813.7593 - val_mean_absolute_error: 108720.1094\n",
            "Epoch 28/50\n",
            "56095/56095 [==============================] - 4s 72us/sample - loss: 97841132302.3984 - mean_absolute_error: 101883.4766 - val_loss: 139827933999.4615 - val_mean_absolute_error: 107105.9609\n",
            "Epoch 29/50\n",
            "56095/56095 [==============================] - 4s 72us/sample - loss: 96009666713.7050 - mean_absolute_error: 100476.6406 - val_loss: 137932032111.2790 - val_mean_absolute_error: 105006.8438\n",
            "Epoch 30/50\n",
            "56095/56095 [==============================] - 4s 73us/sample - loss: 94270069336.2161 - mean_absolute_error: 98169.4844 - val_loss: 135889274077.9737 - val_mean_absolute_error: 104653.6250\n",
            "Epoch 31/50\n",
            "56095/56095 [==============================] - 4s 73us/sample - loss: 92655956913.0482 - mean_absolute_error: 97304.0938 - val_loss: 134118890504.4700 - val_mean_absolute_error: 102569.9766\n",
            "Epoch 32/50\n",
            "56095/56095 [==============================] - 4s 73us/sample - loss: 91108442801.8469 - mean_absolute_error: 95592.0625 - val_loss: 132383230707.8790 - val_mean_absolute_error: 101392.7266\n",
            "Epoch 33/50\n",
            "56095/56095 [==============================] - 4s 73us/sample - loss: 89619957192.4599 - mean_absolute_error: 94576.7266 - val_loss: 130755264084.5545 - val_mean_absolute_error: 100068.1328\n",
            "Epoch 34/50\n",
            "56095/56095 [==============================] - 4s 73us/sample - loss: 88208889691.1596 - mean_absolute_error: 93146.0469 - val_loss: 129115746536.0502 - val_mean_absolute_error: 99376.3828\n",
            "Epoch 35/50\n",
            "56095/56095 [==============================] - 4s 74us/sample - loss: 86865709047.4203 - mean_absolute_error: 92215.5938 - val_loss: 127647068458.3503 - val_mean_absolute_error: 97919.5469\n",
            "Epoch 36/50\n",
            "56095/56095 [==============================] - 4s 74us/sample - loss: 85542591860.1230 - mean_absolute_error: 91396.0547 - val_loss: 126297936570.9253 - val_mean_absolute_error: 96514.7500\n",
            "Epoch 37/50\n",
            "56095/56095 [==============================] - 4s 74us/sample - loss: 84338966051.1860 - mean_absolute_error: 90144.4922 - val_loss: 124810454259.8790 - val_mean_absolute_error: 95839.5234\n",
            "Epoch 38/50\n",
            "56095/56095 [==============================] - 4s 72us/sample - loss: 83139790053.3709 - mean_absolute_error: 89335.1484 - val_loss: 123463197313.0952 - val_mean_absolute_error: 94985.1094\n",
            "Epoch 39/50\n",
            "56095/56095 [==============================] - 4s 72us/sample - loss: 81990789223.8695 - mean_absolute_error: 88558.8828 - val_loss: 122187235194.3776 - val_mean_absolute_error: 94078.9688\n",
            "Epoch 40/50\n",
            "56095/56095 [==============================] - 4s 76us/sample - loss: 80903170193.2165 - mean_absolute_error: 87465.7188 - val_loss: 120802597724.2944 - val_mean_absolute_error: 94028.3438\n",
            "Epoch 41/50\n",
            "56095/56095 [==============================] - 4s 75us/sample - loss: 79830102532.7006 - mean_absolute_error: 86878.3281 - val_loss: 119586925002.8431 - val_mean_absolute_error: 93207.3984\n",
            "Epoch 42/50\n",
            "56095/56095 [==============================] - 4s 72us/sample - loss: 78805534964.2485 - mean_absolute_error: 86307.4531 - val_loss: 118453888038.6264 - val_mean_absolute_error: 92290.0234\n",
            "Epoch 43/50\n",
            "56095/56095 [==============================] - 4s 73us/sample - loss: 77827222536.8535 - mean_absolute_error: 85404.6094 - val_loss: 117316444366.9321 - val_mean_absolute_error: 91743.1953\n",
            "Epoch 44/50\n",
            "56095/56095 [==============================] - 4s 72us/sample - loss: 76843437537.1951 - mean_absolute_error: 84887.1094 - val_loss: 116133329313.0770 - val_mean_absolute_error: 91218.1719\n",
            "Epoch 45/50\n",
            "56095/56095 [==============================] - 4s 73us/sample - loss: 75896722393.4825 - mean_absolute_error: 84101.9609 - val_loss: 115008285267.3862 - val_mean_absolute_error: 91034.5781\n",
            "Epoch 46/50\n",
            "56095/56095 [==============================] - 4s 72us/sample - loss: 74979336872.1719 - mean_absolute_error: 83651.2344 - val_loss: 113961349116.4951 - val_mean_absolute_error: 90354.8281\n",
            "Epoch 47/50\n",
            "56095/56095 [==============================] - 4s 72us/sample - loss: 74092170446.5525 - mean_absolute_error: 82921.1719 - val_loss: 112849045812.8648 - val_mean_absolute_error: 90649.0234\n",
            "Epoch 48/50\n",
            "56095/56095 [==============================] - 4s 72us/sample - loss: 73223428054.2879 - mean_absolute_error: 82657.5156 - val_loss: 111901949189.8414 - val_mean_absolute_error: 89204.4688\n",
            "Epoch 49/50\n",
            "56095/56095 [==============================] - 4s 72us/sample - loss: 72380420259.0149 - mean_absolute_error: 81932.0234 - val_loss: 110877986084.0707 - val_mean_absolute_error: 88901.2266\n",
            "Epoch 50/50\n",
            "56095/56095 [==============================] - 4s 73us/sample - loss: 71573244321.7599 - mean_absolute_error: 81428.4453 - val_loss: 109898968219.5277 - val_mean_absolute_error: 88558.1875\n"
          ],
          "name": "stdout"
        }
      ]
    },
    {
      "cell_type": "code",
      "metadata": {
        "id": "uUw06Ln0aypC",
        "colab_type": "code",
        "outputId": "b9b7fc71-2635-467e-c158-3fc8acc02054",
        "colab": {
          "base_uri": "https://localhost:8080/",
          "height": 312
        }
      },
      "source": [
        "plt.title('Без объёма и мощности движка')\n",
        "plt.plot(historya.history['mean_absolute_error'][visible:], label='MAE на обучающем наборе')\n",
        "plt.plot(historya.history['val_mean_absolute_error'][visible:], label='MAE на проверочном наборе')\n",
        "plt.xlabel('Эпоха обучения')\n",
        "plt.ylabel('MAE')\n",
        "plt.legend()\n",
        "plt.show()\n",
        "print('Валидационная выборка: MAE: {:.0f}'.format(historya.history['val_mean_absolute_error'][-1]))"
      ],
      "execution_count": 0,
      "outputs": [
        {
          "output_type": "display_data",
          "data": {
            "image/png": "[encoded data removed]",
            "text/plain": [
              "<Figure size 432x288 with 1 Axes>"
            ]
          },
          "metadata": {
            "tags": []
          }
        },
        {
          "output_type": "stream",
          "text": [
            "Валидационная выборка: MAE: 88558\n"
          ],
          "name": "stdout"
        }
      ]
    },
    {
      "cell_type": "markdown",
      "metadata": {
        "id": "HsXkyNqL0V9H",
        "colab_type": "text"
      },
      "source": [
        "**Без марки**"
      ]
    },
    {
      "cell_type": "code",
      "metadata": {
        "id": "bmt5-0hvHW1O",
        "colab_type": "code",
        "outputId": "4db36c8a-8df2-458f-f578-11f6b8338102",
        "colab": {
          "base_uri": "https://localhost:8080/",
          "height": 1000
        }
      },
      "source": [
        "print('Старт')\n",
        "\n",
        "x = []\n",
        "y = []\n",
        "\n",
        "for _id, car in enumerate(np.array(cars)):\n",
        "  y.append(prices[_id])\n",
        "  x_tr = to_ohe(car[1], models_dict) + to_ohe(car[5], bodies_dict) + to_ohe(car[6], kpps_dict) + to_ohe(car[7], fuels_dict) + [years[_id]] + [mileages[_id]] + [volumes[_id]] + [powers[_id]]\n",
        "  x.append(x_tr)\n",
        "\n",
        "print('X, Y собраны')\n",
        "historyb = train(x, y)"
      ],
      "execution_count": 0,
      "outputs": [
        {
          "output_type": "stream",
          "text": [
            "Старт\n",
            "X, Y собраны\n",
            "Получены обучающая и валидационная выборки\n",
            "Обучение модели...\n",
            "Train on 56095 samples, validate on 14024 samples\n",
            "Epoch 1/50\n",
            "56095/56095 [==============================] - 4s 78us/sample - loss: 649119525417.6665 - mean_absolute_error: 522435.5312 - val_loss: 685357749184.3286 - val_mean_absolute_error: 511240.6875\n",
            "Epoch 2/50\n",
            "56095/56095 [==============================] - 4s 72us/sample - loss: 567554807885.2175 - mean_absolute_error: 463652.7812 - val_loss: 541605769952.0182 - val_mean_absolute_error: 404193.6875\n",
            "Epoch 3/50\n",
            "56095/56095 [==============================] - 4s 73us/sample - loss: 389698096886.5760 - mean_absolute_error: 319883.1875 - val_loss: 353449822932.3354 - val_mean_absolute_error: 246501.9531\n",
            "Epoch 4/50\n",
            "56095/56095 [==============================] - 4s 73us/sample - loss: 246117257074.7083 - mean_absolute_error: 209608.5781 - val_loss: 259589548284.9333 - val_mean_absolute_error: 200331.6250\n",
            "Epoch 5/50\n",
            "56095/56095 [==============================] - 4s 73us/sample - loss: 194253873714.6113 - mean_absolute_error: 194214.6250 - val_loss: 230984852322.8660 - val_mean_absolute_error: 196424.2500\n",
            "Epoch 6/50\n",
            "56095/56095 [==============================] - 4s 73us/sample - loss: 175938947980.1736 - mean_absolute_error: 190298.3594 - val_loss: 216849965785.0085 - val_mean_absolute_error: 193298.4531\n",
            "Epoch 7/50\n",
            "56095/56095 [==============================] - 4s 72us/sample - loss: 165674641849.9474 - mean_absolute_error: 187973.6719 - val_loss: 207677357119.0873 - val_mean_absolute_error: 191011.7969\n",
            "Epoch 8/50\n",
            "56095/56095 [==============================] - 4s 75us/sample - loss: 158332729383.9779 - mean_absolute_error: 185258.2500 - val_loss: 200478703836.8055 - val_mean_absolute_error: 191744.8438\n",
            "Epoch 9/50\n",
            "56095/56095 [==============================] - 4s 76us/sample - loss: 152515965467.2452 - mean_absolute_error: 185539.5781 - val_loss: 194726066420.1711 - val_mean_absolute_error: 189194.0156\n",
            "Epoch 10/50\n",
            "56095/56095 [==============================] - 4s 74us/sample - loss: 147557463345.3106 - mean_absolute_error: 182882.0781 - val_loss: 189600347994.1038 - val_mean_absolute_error: 190078.5469\n",
            "Epoch 11/50\n",
            "56095/56095 [==============================] - 4s 72us/sample - loss: 143447451357.5670 - mean_absolute_error: 183367.7656 - val_loss: 185369090286.3297 - val_mean_absolute_error: 187978.0938\n",
            "Epoch 12/50\n",
            "56095/56095 [==============================] - 4s 73us/sample - loss: 139876173450.3253 - mean_absolute_error: 182411.6250 - val_loss: 181785862780.7142 - val_mean_absolute_error: 186119.2656\n",
            "Epoch 13/50\n",
            "56095/56095 [==============================] - 4s 72us/sample - loss: 136753960740.3954 - mean_absolute_error: 179877.4531 - val_loss: 178299014243.8882 - val_mean_absolute_error: 186291.2969\n",
            "Epoch 14/50\n",
            "56095/56095 [==============================] - 4s 72us/sample - loss: 133961884136.4970 - mean_absolute_error: 179428.9531 - val_loss: 175439961325.7456 - val_mean_absolute_error: 183979.1094\n",
            "Epoch 15/50\n",
            "56095/56095 [==============================] - 4s 73us/sample - loss: 131444913518.2815 - mean_absolute_error: 177586.8281 - val_loss: 172714487339.5186 - val_mean_absolute_error: 182487.6094\n",
            "Epoch 16/50\n",
            "56095/56095 [==============================] - 4s 73us/sample - loss: 129089519333.0514 - mean_absolute_error: 175823.6094 - val_loss: 170167381001.9304 - val_mean_absolute_error: 180167.1250\n",
            "Epoch 17/50\n",
            "56095/56095 [==============================] - 4s 72us/sample - loss: 126683435193.1031 - mean_absolute_error: 173144.9531 - val_loss: 167466171062.5442 - val_mean_absolute_error: 176907.8281\n",
            "Epoch 18/50\n",
            "56095/56095 [==============================] - 4s 72us/sample - loss: 124071447763.6638 - mean_absolute_error: 169381.2344 - val_loss: 164646993264.5933 - val_mean_absolute_error: 172106.3281\n",
            "Epoch 19/50\n",
            "56095/56095 [==============================] - 4s 72us/sample - loss: 121377554506.8445 - mean_absolute_error: 164778.1250 - val_loss: 161745521253.3485 - val_mean_absolute_error: 167685.5781\n",
            "Epoch 20/50\n",
            "56095/56095 [==============================] - 4s 72us/sample - loss: 118750520567.9907 - mean_absolute_error: 159824.7656 - val_loss: 158735801664.1095 - val_mean_absolute_error: 164296.3438\n",
            "Epoch 21/50\n",
            "56095/56095 [==============================] - 4s 73us/sample - loss: 116114139304.4913 - mean_absolute_error: 156324.4844 - val_loss: 155993417619.3497 - val_mean_absolute_error: 159334.4219\n",
            "Epoch 22/50\n",
            "56095/56095 [==============================] - 4s 73us/sample - loss: 113527684104.3059 - mean_absolute_error: 151431.7500 - val_loss: 153011049131.7376 - val_mean_absolute_error: 155336.8281\n",
            "Epoch 23/50\n",
            "56095/56095 [==============================] - 4s 72us/sample - loss: 110885918888.4913 - mean_absolute_error: 146828.6562 - val_loss: 150084553271.7855 - val_mean_absolute_error: 150858.5000\n",
            "Epoch 24/50\n",
            "56095/56095 [==============================] - 4s 72us/sample - loss: 108213313799.2334 - mean_absolute_error: 142577.9844 - val_loss: 147125805630.7952 - val_mean_absolute_error: 146050.6250\n",
            "Epoch 25/50\n",
            "56095/56095 [==============================] - 4s 72us/sample - loss: 105564946648.1362 - mean_absolute_error: 137788.6094 - val_loss: 144130894504.5248 - val_mean_absolute_error: 141707.7344\n",
            "Epoch 26/50\n",
            "56095/56095 [==============================] - 4s 72us/sample - loss: 102970246776.0706 - mean_absolute_error: 133476.1094 - val_loss: 141277413854.7039 - val_mean_absolute_error: 137389.3750\n",
            "Epoch 27/50\n",
            "56095/56095 [==============================] - 4s 72us/sample - loss: 100475360738.7468 - mean_absolute_error: 129613.1250 - val_loss: 138562194601.1089 - val_mean_absolute_error: 133238.3438\n",
            "Epoch 28/50\n",
            "56095/56095 [==============================] - 4s 72us/sample - loss: 98085573165.5000 - mean_absolute_error: 126053.0547 - val_loss: 136064635470.2750 - val_mean_absolute_error: 129186.9375\n",
            "Epoch 29/50\n",
            "56095/56095 [==============================] - 4s 71us/sample - loss: 95842874406.9739 - mean_absolute_error: 122755.6875 - val_loss: 133548216681.8756 - val_mean_absolute_error: 126027.5859\n",
            "Epoch 30/50\n",
            "56095/56095 [==============================] - 4s 72us/sample - loss: 93754087864.1219 - mean_absolute_error: 119908.4531 - val_loss: 131249980061.4261 - val_mean_absolute_error: 123131.9375\n",
            "Epoch 31/50\n",
            "56095/56095 [==============================] - 4s 72us/sample - loss: 91825681667.3087 - mean_absolute_error: 116822.6172 - val_loss: 128806270115.5596 - val_mean_absolute_error: 121315.3438\n",
            "Epoch 32/50\n",
            "56095/56095 [==============================] - 4s 73us/sample - loss: 89961239582.0291 - mean_absolute_error: 114788.0703 - val_loss: 126663673354.2225 - val_mean_absolute_error: 119052.6953\n",
            "Epoch 33/50\n",
            "56095/56095 [==============================] - 4s 73us/sample - loss: 88216999912.2688 - mean_absolute_error: 112869.4609 - val_loss: 124731538088.5248 - val_mean_absolute_error: 116512.9062\n",
            "Epoch 34/50\n",
            "56095/56095 [==============================] - 4s 72us/sample - loss: 86545409835.6973 - mean_absolute_error: 110328.2500 - val_loss: 122709809891.8152 - val_mean_absolute_error: 115175.1406\n",
            "Epoch 35/50\n",
            "56095/56095 [==============================] - 4s 73us/sample - loss: 85050494209.6657 - mean_absolute_error: 109259.3750 - val_loss: 121035743689.3828 - val_mean_absolute_error: 112679.8672\n",
            "Epoch 36/50\n",
            "56095/56095 [==============================] - 4s 74us/sample - loss: 83610963358.5653 - mean_absolute_error: 107016.4766 - val_loss: 119361891609.9943 - val_mean_absolute_error: 110881.5000\n",
            "Epoch 37/50\n",
            "56095/56095 [==============================] - 4s 73us/sample - loss: 82222814816.1569 - mean_absolute_error: 105370.2969 - val_loss: 117785613182.6127 - val_mean_absolute_error: 109204.4922\n",
            "Epoch 38/50\n",
            "56095/56095 [==============================] - 4s 74us/sample - loss: 80951607869.0165 - mean_absolute_error: 103862.6797 - val_loss: 116191243566.2932 - val_mean_absolute_error: 107720.8516\n",
            "Epoch 39/50\n",
            "56095/56095 [==============================] - 4s 73us/sample - loss: 79659457475.8506 - mean_absolute_error: 102540.5859 - val_loss: 114929146735.7171 - val_mean_absolute_error: 105876.4062\n",
            "Epoch 40/50\n",
            "56095/56095 [==============================] - 4s 71us/sample - loss: 78503566839.3746 - mean_absolute_error: 100642.0859 - val_loss: 113333633894.2247 - val_mean_absolute_error: 104881.9062\n",
            "Epoch 41/50\n",
            "56095/56095 [==============================] - 4s 72us/sample - loss: 77373515098.0187 - mean_absolute_error: 99607.7188 - val_loss: 112141950871.1466 - val_mean_absolute_error: 103278.8281\n",
            "Epoch 42/50\n",
            "56095/56095 [==============================] - 4s 73us/sample - loss: 76273200244.0089 - mean_absolute_error: 98131.8750 - val_loss: 110759618578.9846 - val_mean_absolute_error: 102353.8516\n",
            "Epoch 43/50\n",
            "56095/56095 [==============================] - 4s 73us/sample - loss: 75223746162.7767 - mean_absolute_error: 97022.1641 - val_loss: 109592462157.2527 - val_mean_absolute_error: 101110.2500\n",
            "Epoch 44/50\n",
            "56095/56095 [==============================] - 4s 72us/sample - loss: 74253417111.3775 - mean_absolute_error: 95971.8750 - val_loss: 108407204235.1717 - val_mean_absolute_error: 100075.6641\n",
            "Epoch 45/50\n",
            "56095/56095 [==============================] - 4s 72us/sample - loss: 73308860455.2477 - mean_absolute_error: 94852.6875 - val_loss: 107263473863.7764 - val_mean_absolute_error: 99173.0312\n",
            "Epoch 46/50\n",
            "56095/56095 [==============================] - 4s 73us/sample - loss: 72357520692.2314 - mean_absolute_error: 93708.6016 - val_loss: 106196755662.0559 - val_mean_absolute_error: 98573.9297\n",
            "Epoch 47/50\n",
            "56095/56095 [==============================] - 4s 73us/sample - loss: 71541999344.7345 - mean_absolute_error: 93193.4688 - val_loss: 105242932673.7889 - val_mean_absolute_error: 97093.8750\n",
            "Epoch 48/50\n",
            "56095/56095 [==============================] - 4s 73us/sample - loss: 70688551895.9308 - mean_absolute_error: 92041.8438 - val_loss: 104279473871.8083 - val_mean_absolute_error: 96224.6484\n",
            "Epoch 49/50\n",
            "56095/56095 [==============================] - 4s 72us/sample - loss: 69888652747.0156 - mean_absolute_error: 91227.2500 - val_loss: 103349096006.3891 - val_mean_absolute_error: 95412.9766\n",
            "Epoch 50/50\n",
            "56095/56095 [==============================] - 4s 72us/sample - loss: 69128418666.6305 - mean_absolute_error: 90535.6797 - val_loss: 102540148930.3731 - val_mean_absolute_error: 94516.7812\n"
          ],
          "name": "stdout"
        }
      ]
    },
    {
      "cell_type": "code",
      "metadata": {
        "id": "I-w7CwwiaxB0",
        "colab_type": "code",
        "outputId": "2a87ef44-28ff-48fc-c14d-25a2818182a8",
        "colab": {
          "base_uri": "https://localhost:8080/",
          "height": 312
        }
      },
      "source": [
        "plt.title('Без марки')\n",
        "plt.plot(historyb.history['mean_absolute_error'][visible:], label='MAE на обучающем наборе')\n",
        "plt.plot(historyb.history['val_mean_absolute_error'][visible:], label='MAE на проверочном наборе')\n",
        "plt.xlabel('Эпоха обучения')\n",
        "plt.ylabel('MAE')\n",
        "plt.legend()\n",
        "plt.show()\n",
        "print('Валидационная выборка: MAE: {:.0f}'.format(historyb.history['val_mean_absolute_error'][-1]))"
      ],
      "execution_count": 0,
      "outputs": [
        {
          "output_type": "display_data",
          "data": {
            "image/png": "[encoded data removed]",
            "text/plain": [
              "<Figure size 432x288 with 1 Axes>"
            ]
          },
          "metadata": {
            "tags": []
          }
        },
        {
          "output_type": "stream",
          "text": [
            "Валидационная выборка: MAE: 94517\n"
          ],
          "name": "stdout"
        }
      ]
    },
    {
      "cell_type": "markdown",
      "metadata": {
        "id": "AdE8SM8X0YbC",
        "colab_type": "text"
      },
      "source": [
        "**Без модели**"
      ]
    },
    {
      "cell_type": "code",
      "metadata": {
        "id": "ydkg_QlALJeK",
        "colab_type": "code",
        "outputId": "31415f2b-762e-4a68-9eb8-a9c43d012a05",
        "colab": {
          "base_uri": "https://localhost:8080/",
          "height": 1000
        }
      },
      "source": [
        "print('Старт')\n",
        "\n",
        "x = []\n",
        "y = []\n",
        "\n",
        "for _id, car in enumerate(np.array(cars)):\n",
        "  y.append(prices[_id])\n",
        "  x_tr = to_ohe(car[0], marks_dict) + to_ohe(car[5], bodies_dict) + to_ohe(car[6], kpps_dict) + to_ohe(car[7], fuels_dict) + [years[_id]] + [mileages[_id]] + [volumes[_id]] + [powers[_id]]\n",
        "  x.append(x_tr)\n",
        "\n",
        "print('X, Y собраны')\n",
        "historyc = train(x, y)"
      ],
      "execution_count": 0,
      "outputs": [
        {
          "output_type": "stream",
          "text": [
            "Старт\n",
            "X, Y собраны\n",
            "Получены обучающая и валидационная выборки\n",
            "Обучение модели...\n",
            "Train on 56095 samples, validate on 14024 samples\n",
            "Epoch 1/50\n",
            "56095/56095 [==============================] - 3s 46us/sample - loss: 647517352221.8694 - mean_absolute_error: 521243.5000 - val_loss: 679126044080.8489 - val_mean_absolute_error: 506369.0312\n",
            "Epoch 2/50\n",
            "56095/56095 [==============================] - 2s 39us/sample - loss: 550530305140.0089 - mean_absolute_error: 449230.2812 - val_loss: 512782454319.0234 - val_mean_absolute_error: 377582.2500\n",
            "Epoch 3/50\n",
            "56095/56095 [==============================] - 2s 39us/sample - loss: 357215574744.5469 - mean_absolute_error: 289002.9688 - val_loss: 324310021159.1375 - val_mean_absolute_error: 221850.0000\n",
            "Epoch 4/50\n",
            "56095/56095 [==============================] - 2s 40us/sample - loss: 229365954020.5722 - mean_absolute_error: 199778.2969 - val_loss: 250772007567.9909 - val_mean_absolute_error: 198266.7031\n",
            "Epoch 5/50\n",
            "56095/56095 [==============================] - 2s 39us/sample - loss: 188804402575.3226 - mean_absolute_error: 192302.7031 - val_loss: 226432593922.3366 - val_mean_absolute_error: 192637.8125\n",
            "Epoch 6/50\n",
            "56095/56095 [==============================] - 2s 40us/sample - loss: 172542577547.0783 - mean_absolute_error: 186712.6094 - val_loss: 213080030623.9087 - val_mean_absolute_error: 189343.8281\n",
            "Epoch 7/50\n",
            "56095/56095 [==============================] - 2s 40us/sample - loss: 162872229598.8448 - mean_absolute_error: 185129.3438 - val_loss: 204238414435.0120 - val_mean_absolute_error: 187986.9375\n",
            "Epoch 8/50\n",
            "56095/56095 [==============================] - 2s 40us/sample - loss: 156035806499.8021 - mean_absolute_error: 183719.0781 - val_loss: 197500500680.0685 - val_mean_absolute_error: 188887.7344\n",
            "Epoch 9/50\n",
            "56095/56095 [==============================] - 2s 40us/sample - loss: 150714503749.5962 - mean_absolute_error: 184120.8438 - val_loss: 192173905850.4872 - val_mean_absolute_error: 189316.0938\n",
            "Epoch 10/50\n",
            "56095/56095 [==============================] - 2s 39us/sample - loss: 146459060349.7752 - mean_absolute_error: 184416.5469 - val_loss: 187718093338.5784 - val_mean_absolute_error: 190244.1250\n",
            "Epoch 11/50\n",
            "56095/56095 [==============================] - 2s 41us/sample - loss: 142935315763.5012 - mean_absolute_error: 185123.3594 - val_loss: 184002787421.4626 - val_mean_absolute_error: 189912.9062\n",
            "Epoch 12/50\n",
            "56095/56095 [==============================] - 2s 42us/sample - loss: 139895714606.5268 - mean_absolute_error: 184962.9375 - val_loss: 180666723007.8905 - val_mean_absolute_error: 188992.2969\n",
            "Epoch 13/50\n",
            "56095/56095 [==============================] - 2s 42us/sample - loss: 136979923423.0045 - mean_absolute_error: 183391.3750 - val_loss: 177152434732.1027 - val_mean_absolute_error: 188007.3750\n",
            "Epoch 14/50\n",
            "56095/56095 [==============================] - 2s 40us/sample - loss: 133974654508.6785 - mean_absolute_error: 181274.0469 - val_loss: 173715868546.9937 - val_mean_absolute_error: 183778.5781\n",
            "Epoch 15/50\n",
            "56095/56095 [==============================] - 2s 39us/sample - loss: 130741923751.6470 - mean_absolute_error: 177729.1562 - val_loss: 169847246310.5898 - val_mean_absolute_error: 179321.8125\n",
            "Epoch 16/50\n",
            "56095/56095 [==============================] - 2s 38us/sample - loss: 127301163218.1121 - mean_absolute_error: 171968.5938 - val_loss: 165921046027.3907 - val_mean_absolute_error: 173312.0312\n",
            "Epoch 17/50\n",
            "56095/56095 [==============================] - 2s 39us/sample - loss: 123785814479.6706 - mean_absolute_error: 166087.7500 - val_loss: 161981727524.3628 - val_mean_absolute_error: 166436.4375\n",
            "Epoch 18/50\n",
            "56095/56095 [==============================] - 2s 39us/sample - loss: 120280099456.5591 - mean_absolute_error: 159169.0156 - val_loss: 158120873160.9447 - val_mean_absolute_error: 159875.6562\n",
            "Epoch 19/50\n",
            "56095/56095 [==============================] - 2s 39us/sample - loss: 116960461240.6696 - mean_absolute_error: 153316.0000 - val_loss: 154581323194.7792 - val_mean_absolute_error: 153070.7031\n",
            "Epoch 20/50\n",
            "56095/56095 [==============================] - 2s 39us/sample - loss: 113847356258.1877 - mean_absolute_error: 147146.5781 - val_loss: 151073369786.9253 - val_mean_absolute_error: 147783.9688\n",
            "Epoch 21/50\n",
            "56095/56095 [==============================] - 2s 39us/sample - loss: 110948793933.3545 - mean_absolute_error: 142108.7188 - val_loss: 147854347785.6383 - val_mean_absolute_error: 143308.7500\n",
            "Epoch 22/50\n",
            "56095/56095 [==============================] - 2s 39us/sample - loss: 108279403857.0739 - mean_absolute_error: 138290.7031 - val_loss: 145088598299.8928 - val_mean_absolute_error: 138683.3594\n",
            "Epoch 23/50\n",
            "56095/56095 [==============================] - 2s 40us/sample - loss: 105826010598.3977 - mean_absolute_error: 134139.4688 - val_loss: 142211611981.5448 - val_mean_absolute_error: 135296.5312\n",
            "Epoch 24/50\n",
            "56095/56095 [==============================] - 2s 39us/sample - loss: 103455562703.3511 - mean_absolute_error: 130906.9375 - val_loss: 139402002325.3942 - val_mean_absolute_error: 132673.5469\n",
            "Epoch 25/50\n",
            "56095/56095 [==============================] - 2s 39us/sample - loss: 101266207788.9980 - mean_absolute_error: 128233.4844 - val_loss: 136890443326.2111 - val_mean_absolute_error: 129958.2578\n",
            "Epoch 26/50\n",
            "56095/56095 [==============================] - 2s 39us/sample - loss: 99236602026.4993 - mean_absolute_error: 125667.9453 - val_loss: 134546609975.9316 - val_mean_absolute_error: 127539.3828\n",
            "Epoch 27/50\n",
            "56095/56095 [==============================] - 2s 40us/sample - loss: 97335464769.5117 - mean_absolute_error: 123340.3516 - val_loss: 132272412501.7228 - val_mean_absolute_error: 125546.8984\n",
            "Epoch 28/50\n",
            "56095/56095 [==============================] - 2s 40us/sample - loss: 95510545483.6659 - mean_absolute_error: 121153.3672 - val_loss: 130104523528.6161 - val_mean_absolute_error: 124154.0469\n",
            "Epoch 29/50\n",
            "56095/56095 [==============================] - 2s 40us/sample - loss: 93912128100.8118 - mean_absolute_error: 119812.7734 - val_loss: 128222378152.8169 - val_mean_absolute_error: 121826.5078\n",
            "Epoch 30/50\n",
            "56095/56095 [==============================] - 2s 40us/sample - loss: 92349953623.5771 - mean_absolute_error: 117956.5234 - val_loss: 126552091211.6463 - val_mean_absolute_error: 119895.7344\n",
            "Epoch 31/50\n",
            "56095/56095 [==============================] - 2s 40us/sample - loss: 90879905626.9771 - mean_absolute_error: 116408.5469 - val_loss: 124695458375.2653 - val_mean_absolute_error: 118659.2344\n",
            "Epoch 32/50\n",
            "56095/56095 [==============================] - 2s 40us/sample - loss: 89510106060.9780 - mean_absolute_error: 115163.2344 - val_loss: 123110165619.3679 - val_mean_absolute_error: 117195.8125\n",
            "Epoch 33/50\n",
            "56095/56095 [==============================] - 2s 40us/sample - loss: 88220097893.8843 - mean_absolute_error: 113611.3281 - val_loss: 121350902509.1614 - val_mean_absolute_error: 116226.5547\n",
            "Epoch 34/50\n",
            "56095/56095 [==============================] - 2s 40us/sample - loss: 86982006758.1695 - mean_absolute_error: 112650.2812 - val_loss: 119881340625.7068 - val_mean_absolute_error: 115039.6953\n",
            "Epoch 35/50\n",
            "56095/56095 [==============================] - 2s 40us/sample - loss: 85820002771.6866 - mean_absolute_error: 111436.8047 - val_loss: 118343420853.5220 - val_mean_absolute_error: 114389.3828\n",
            "Epoch 36/50\n",
            "56095/56095 [==============================] - 2s 40us/sample - loss: 84715865975.6371 - mean_absolute_error: 110659.1406 - val_loss: 117007495259.1261 - val_mean_absolute_error: 113220.7500\n",
            "Epoch 37/50\n",
            "56095/56095 [==============================] - 2s 40us/sample - loss: 83658212648.1833 - mean_absolute_error: 109863.8359 - val_loss: 115781098999.5300 - val_mean_absolute_error: 112168.2812\n",
            "Epoch 38/50\n",
            "56095/56095 [==============================] - 2s 40us/sample - loss: 82695797334.2080 - mean_absolute_error: 108830.0547 - val_loss: 114501978977.1135 - val_mean_absolute_error: 111471.7500\n",
            "Epoch 39/50\n",
            "56095/56095 [==============================] - 2s 39us/sample - loss: 81770537852.6571 - mean_absolute_error: 108154.8984 - val_loss: 113310813206.6355 - val_mean_absolute_error: 110780.5391\n",
            "Epoch 40/50\n",
            "56095/56095 [==============================] - 2s 39us/sample - loss: 80916443107.3400 - mean_absolute_error: 107488.9922 - val_loss: 112184332617.1637 - val_mean_absolute_error: 110068.6016\n",
            "Epoch 41/50\n",
            "56095/56095 [==============================] - 2s 41us/sample - loss: 80093139338.3025 - mean_absolute_error: 106956.4609 - val_loss: 111078775744.6206 - val_mean_absolute_error: 109462.3984\n",
            "Epoch 42/50\n",
            "56095/56095 [==============================] - 2s 40us/sample - loss: 79303323348.9873 - mean_absolute_error: 106425.5312 - val_loss: 110187522891.7924 - val_mean_absolute_error: 108656.0938\n",
            "Epoch 43/50\n",
            "56095/56095 [==============================] - 2s 39us/sample - loss: 78576898498.1620 - mean_absolute_error: 105999.1172 - val_loss: 109249637994.3138 - val_mean_absolute_error: 108058.1562\n",
            "Epoch 44/50\n",
            "56095/56095 [==============================] - 2s 39us/sample - loss: 77888525485.8765 - mean_absolute_error: 105497.7266 - val_loss: 108366497586.3822 - val_mean_absolute_error: 107481.0234\n",
            "Epoch 45/50\n",
            "56095/56095 [==============================] - 2s 40us/sample - loss: 77262245348.5723 - mean_absolute_error: 104906.4766 - val_loss: 107355638529.0222 - val_mean_absolute_error: 107171.5859\n",
            "Epoch 46/50\n",
            "56095/56095 [==============================] - 2s 40us/sample - loss: 76654222874.4238 - mean_absolute_error: 104580.2734 - val_loss: 106503417343.7079 - val_mean_absolute_error: 106741.0469\n",
            "Epoch 47/50\n",
            "56095/56095 [==============================] - 2s 40us/sample - loss: 76051233961.5866 - mean_absolute_error: 104199.5859 - val_loss: 105741824188.0936 - val_mean_absolute_error: 106288.5781\n",
            "Epoch 48/50\n",
            "56095/56095 [==============================] - 2s 39us/sample - loss: 75492860269.6426 - mean_absolute_error: 103812.8594 - val_loss: 104904070837.3759 - val_mean_absolute_error: 105973.5391\n",
            "Epoch 49/50\n",
            "56095/56095 [==============================] - 2s 40us/sample - loss: 74947158070.7642 - mean_absolute_error: 103462.5703 - val_loss: 104101633463.4204 - val_mean_absolute_error: 105847.4141\n",
            "Epoch 50/50\n",
            "56095/56095 [==============================] - 2s 40us/sample - loss: 74422942853.1684 - mean_absolute_error: 103350.5000 - val_loss: 103481381743.1329 - val_mean_absolute_error: 105201.0078\n"
          ],
          "name": "stdout"
        }
      ]
    },
    {
      "cell_type": "code",
      "metadata": {
        "id": "klXt_FTJav4q",
        "colab_type": "code",
        "outputId": "77af32ce-c9e3-4322-d34d-98db4361409f",
        "colab": {
          "base_uri": "https://localhost:8080/",
          "height": 312
        }
      },
      "source": [
        "plt.title('Без модели')\n",
        "plt.plot(historyc.history['mean_absolute_error'][visible:], label='MAE на обучающем наборе')\n",
        "plt.plot(historyc.history['val_mean_absolute_error'][visible:], label='MAE на проверочном наборе')\n",
        "plt.xlabel('Эпоха обучения')\n",
        "plt.ylabel('MAE')\n",
        "plt.legend()\n",
        "plt.show()\n",
        "print('Валидационная выборка: MAE: {:.0f}'.format(historyc.history['val_mean_absolute_error'][-1]))"
      ],
      "execution_count": 0,
      "outputs": [
        {
          "output_type": "display_data",
          "data": {
            "image/png": "[encoded data removed]",
            "text/plain": [
              "<Figure size 432x288 with 1 Axes>"
            ]
          },
          "metadata": {
            "tags": []
          }
        },
        {
          "output_type": "stream",
          "text": [
            "Валидационная выборка: MAE: 105201\n"
          ],
          "name": "stdout"
        }
      ]
    },
    {
      "cell_type": "markdown",
      "metadata": {
        "id": "RrRPNkdw0bpL",
        "colab_type": "text"
      },
      "source": [
        "**Без нормализации**"
      ]
    },
    {
      "cell_type": "code",
      "metadata": {
        "id": "J77U3LbCZdUz",
        "colab_type": "code",
        "outputId": "f6fe4f56-fc3b-4125-e338-eb0c9b2a8c46",
        "colab": {
          "base_uri": "https://localhost:8080/",
          "height": 1000
        }
      },
      "source": [
        "print('Старт')\n",
        "\n",
        "x = []\n",
        "y = []\n",
        "\n",
        "for _id, car in enumerate(np.array(cars)):\n",
        "  y.append(prices[_id])\n",
        "  x_tr = to_ohe(car[0], marks_dict) + to_ohe(car[5], bodies_dict) + to_ohe(car[6], kpps_dict) + to_ohe(car[7], fuels_dict) + [years_raw[_id]] + [mileages_raw[_id]] + [volumes_raw[_id]] + [powers_raw[_id]]\n",
        "  x.append(x_tr)\n",
        "\n",
        "print('X, Y собраны')\n",
        "historyd = train(x, y)"
      ],
      "execution_count": 0,
      "outputs": [
        {
          "output_type": "stream",
          "text": [
            "Старт\n",
            "X, Y собраны\n",
            "Получены обучающая и валидационная выборки\n",
            "Обучение модели...\n",
            "Train on 56095 samples, validate on 14024 samples\n",
            "Epoch 1/50\n",
            "56095/56095 [==============================] - 3s 47us/sample - loss: 463631378844.0096 - mean_absolute_error: 371080.2500 - val_loss: 349879718140.3491 - val_mean_absolute_error: 282724.0312\n",
            "Epoch 2/50\n",
            "56095/56095 [==============================] - 2s 41us/sample - loss: 268521473540.7006 - mean_absolute_error: 272700.1250 - val_loss: 297294898789.9327 - val_mean_absolute_error: 269177.7812\n",
            "Epoch 3/50\n",
            "56095/56095 [==============================] - 2s 41us/sample - loss: 247036270666.2968 - mean_absolute_error: 267211.7500 - val_loss: 279282999010.9390 - val_mean_absolute_error: 268744.7812\n",
            "Epoch 4/50\n",
            "56095/56095 [==============================] - 2s 40us/sample - loss: 230685157167.3482 - mean_absolute_error: 257646.6562 - val_loss: 261720875416.8990 - val_mean_absolute_error: 247433.2188\n",
            "Epoch 5/50\n",
            "56095/56095 [==============================] - 2s 41us/sample - loss: 211287463208.5483 - mean_absolute_error: 244395.4531 - val_loss: 237732612987.3999 - val_mean_absolute_error: 248788.0781\n",
            "Epoch 6/50\n",
            "56095/56095 [==============================] - 2s 41us/sample - loss: 187935526703.5308 - mean_absolute_error: 225591.2656 - val_loss: 211927942039.4387 - val_mean_absolute_error: 224752.0156\n",
            "Epoch 7/50\n",
            "56095/56095 [==============================] - 2s 41us/sample - loss: 168853753364.9473 - mean_absolute_error: 212260.7656 - val_loss: 194767612325.7502 - val_mean_absolute_error: 213762.9531\n",
            "Epoch 8/50\n",
            "56095/56095 [==============================] - 2s 42us/sample - loss: 157270872828.8739 - mean_absolute_error: 203997.6875 - val_loss: 183971674707.8243 - val_mean_absolute_error: 204249.0938\n",
            "Epoch 9/50\n",
            "56095/56095 [==============================] - 2s 42us/sample - loss: 150602679995.2481 - mean_absolute_error: 199651.7969 - val_loss: 180921905849.4649 - val_mean_absolute_error: 202842.3594\n",
            "Epoch 10/50\n",
            "56095/56095 [==============================] - 2s 42us/sample - loss: 145978531288.7067 - mean_absolute_error: 197049.6250 - val_loss: 173437977093.5493 - val_mean_absolute_error: 195591.8125\n",
            "Epoch 11/50\n",
            "56095/56095 [==============================] - 2s 42us/sample - loss: 143590546629.7902 - mean_absolute_error: 196025.5781 - val_loss: 172193439339.7741 - val_mean_absolute_error: 208934.2188\n",
            "Epoch 12/50\n",
            "56095/56095 [==============================] - 2s 41us/sample - loss: 140235930688.5305 - mean_absolute_error: 192773.2031 - val_loss: 165369380733.1523 - val_mean_absolute_error: 195770.9375\n",
            "Epoch 13/50\n",
            "56095/56095 [==============================] - 2s 41us/sample - loss: 138107777319.7269 - mean_absolute_error: 192520.9375 - val_loss: 167822278248.2693 - val_mean_absolute_error: 192091.7500\n",
            "Epoch 14/50\n",
            "56095/56095 [==============================] - 2s 41us/sample - loss: 137196886954.1114 - mean_absolute_error: 191618.1406 - val_loss: 160834010966.5990 - val_mean_absolute_error: 193365.7812\n",
            "Epoch 15/50\n",
            "56095/56095 [==============================] - 2s 41us/sample - loss: 136167836197.6504 - mean_absolute_error: 192423.9688 - val_loss: 159679289879.6577 - val_mean_absolute_error: 190224.9219\n",
            "Epoch 16/50\n",
            "56095/56095 [==============================] - 2s 41us/sample - loss: 135314428452.0075 - mean_absolute_error: 192154.5469 - val_loss: 159311139968.5111 - val_mean_absolute_error: 197935.7500\n",
            "Epoch 17/50\n",
            "56095/56095 [==============================] - 2s 40us/sample - loss: 133423120729.3798 - mean_absolute_error: 190301.2344 - val_loss: 155613141195.8654 - val_mean_absolute_error: 193104.2656\n",
            "Epoch 18/50\n",
            "56095/56095 [==============================] - 2s 41us/sample - loss: 133087811035.8100 - mean_absolute_error: 191323.9375 - val_loss: 160703809360.7576 - val_mean_absolute_error: 198391.4219\n",
            "Epoch 19/50\n",
            "56095/56095 [==============================] - 2s 41us/sample - loss: 131428581315.0291 - mean_absolute_error: 189197.6562 - val_loss: 153103037350.6263 - val_mean_absolute_error: 192717.8750\n",
            "Epoch 20/50\n",
            "56095/56095 [==============================] - 2s 41us/sample - loss: 130111671929.7135 - mean_absolute_error: 187467.8906 - val_loss: 152251408058.6332 - val_mean_absolute_error: 187168.9531\n",
            "Epoch 21/50\n",
            "56095/56095 [==============================] - 2s 40us/sample - loss: 129360161962.7731 - mean_absolute_error: 187705.1562 - val_loss: 150796606284.6686 - val_mean_absolute_error: 187550.2969\n",
            "Epoch 22/50\n",
            "56095/56095 [==============================] - 2s 41us/sample - loss: 128793722592.3052 - mean_absolute_error: 187821.1562 - val_loss: 150336383115.6098 - val_mean_absolute_error: 186940.9531\n",
            "Epoch 23/50\n",
            "56095/56095 [==============================] - 2s 40us/sample - loss: 128510306241.0211 - mean_absolute_error: 187448.7031 - val_loss: 149768732813.9464 - val_mean_absolute_error: 186334.3594\n",
            "Epoch 24/50\n",
            "56095/56095 [==============================] - 2s 41us/sample - loss: 127193476823.1778 - mean_absolute_error: 186615.5312 - val_loss: 149581652237.8734 - val_mean_absolute_error: 189675.4062\n",
            "Epoch 25/50\n",
            "56095/56095 [==============================] - 2s 41us/sample - loss: 126897934424.3530 - mean_absolute_error: 186244.1250 - val_loss: 149100810560.1095 - val_mean_absolute_error: 189538.1562\n",
            "Epoch 26/50\n",
            "56095/56095 [==============================] - 2s 42us/sample - loss: 126924249173.9799 - mean_absolute_error: 186367.3281 - val_loss: 149047285370.9618 - val_mean_absolute_error: 186617.6094\n",
            "Epoch 27/50\n",
            "56095/56095 [==============================] - 2s 40us/sample - loss: 126333886588.1323 - mean_absolute_error: 186052.9531 - val_loss: 160972374329.0998 - val_mean_absolute_error: 205021.0625\n",
            "Epoch 28/50\n",
            "56095/56095 [==============================] - 2s 41us/sample - loss: 126057240314.4095 - mean_absolute_error: 186573.5625 - val_loss: 146221598519.0553 - val_mean_absolute_error: 184682.1875\n",
            "Epoch 29/50\n",
            "56095/56095 [==============================] - 2s 41us/sample - loss: 125014623888.1669 - mean_absolute_error: 185314.7500 - val_loss: 144537110981.2938 - val_mean_absolute_error: 186933.3594\n",
            "Epoch 30/50\n",
            "56095/56095 [==============================] - 2s 41us/sample - loss: 125574191625.9032 - mean_absolute_error: 186925.0938 - val_loss: 144035728673.7342 - val_mean_absolute_error: 183916.6875\n",
            "Epoch 31/50\n",
            "56095/56095 [==============================] - 2s 41us/sample - loss: 124505923677.4643 - mean_absolute_error: 184179.3125 - val_loss: 144087559239.2653 - val_mean_absolute_error: 183498.9531\n",
            "Epoch 32/50\n",
            "56095/56095 [==============================] - 2s 41us/sample - loss: 124260592981.6376 - mean_absolute_error: 184396.7812 - val_loss: 143410593091.0302 - val_mean_absolute_error: 182497.9062\n",
            "Epoch 33/50\n",
            "56095/56095 [==============================] - 2s 41us/sample - loss: 124325758427.0798 - mean_absolute_error: 184378.8125 - val_loss: 143610231655.5391 - val_mean_absolute_error: 182918.5469\n",
            "Epoch 34/50\n",
            "56095/56095 [==============================] - 2s 41us/sample - loss: 123553555633.8925 - mean_absolute_error: 184193.5156 - val_loss: 144572589879.6395 - val_mean_absolute_error: 191168.7500\n",
            "Epoch 35/50\n",
            "56095/56095 [==============================] - 2s 40us/sample - loss: 122385758894.9261 - mean_absolute_error: 183787.9688 - val_loss: 141453971585.0953 - val_mean_absolute_error: 183245.5938\n",
            "Epoch 36/50\n",
            "56095/56095 [==============================] - 2s 41us/sample - loss: 123112875145.3670 - mean_absolute_error: 183622.2344 - val_loss: 142483361255.7581 - val_mean_absolute_error: 185277.8750\n",
            "Epoch 37/50\n",
            "56095/56095 [==============================] - 2s 41us/sample - loss: 122557007899.9298 - mean_absolute_error: 182814.6562 - val_loss: 144003258346.3868 - val_mean_absolute_error: 184423.4219\n",
            "Epoch 38/50\n",
            "56095/56095 [==============================] - 2s 41us/sample - loss: 121994435423.6320 - mean_absolute_error: 182245.6562 - val_loss: 150337061810.3092 - val_mean_absolute_error: 214895.9375\n",
            "Epoch 39/50\n",
            "56095/56095 [==============================] - 2s 40us/sample - loss: 122548491443.7180 - mean_absolute_error: 182946.1250 - val_loss: 140836101886.3936 - val_mean_absolute_error: 181686.8438\n",
            "Epoch 40/50\n",
            "56095/56095 [==============================] - 2s 41us/sample - loss: 121877296095.2327 - mean_absolute_error: 183186.3125 - val_loss: 139983768282.7610 - val_mean_absolute_error: 183594.2188\n",
            "Epoch 41/50\n",
            "56095/56095 [==============================] - 2s 41us/sample - loss: 120989590678.1453 - mean_absolute_error: 181280.5000 - val_loss: 139604807326.0103 - val_mean_absolute_error: 182299.9531\n",
            "Epoch 42/50\n",
            "56095/56095 [==============================] - 2s 40us/sample - loss: 120903468978.0522 - mean_absolute_error: 181047.1562 - val_loss: 140314724642.3183 - val_mean_absolute_error: 181593.8125\n",
            "Epoch 43/50\n",
            "56095/56095 [==============================] - 2s 40us/sample - loss: 120594069346.0964 - mean_absolute_error: 181424.5625 - val_loss: 139384796609.2048 - val_mean_absolute_error: 183499.2031\n",
            "Epoch 44/50\n",
            "56095/56095 [==============================] - 2s 41us/sample - loss: 119798922541.1120 - mean_absolute_error: 180177.0469 - val_loss: 138508578958.5305 - val_mean_absolute_error: 181009.9844\n",
            "Epoch 45/50\n",
            "56095/56095 [==============================] - 2s 40us/sample - loss: 119637703486.4084 - mean_absolute_error: 180476.1719 - val_loss: 138470320868.1072 - val_mean_absolute_error: 179394.8906\n",
            "Epoch 46/50\n",
            "56095/56095 [==============================] - 2s 40us/sample - loss: 119317994362.6491 - mean_absolute_error: 179360.2188 - val_loss: 138485822369.3691 - val_mean_absolute_error: 179243.2969\n",
            "Epoch 47/50\n",
            "56095/56095 [==============================] - 2s 40us/sample - loss: 119380442796.8268 - mean_absolute_error: 180670.4219 - val_loss: 138052431024.9949 - val_mean_absolute_error: 184177.2500\n",
            "Epoch 48/50\n",
            "56095/56095 [==============================] - 2s 40us/sample - loss: 118820045300.9102 - mean_absolute_error: 179735.6875 - val_loss: 136605987399.5573 - val_mean_absolute_error: 178872.9688\n",
            "Epoch 49/50\n",
            "56095/56095 [==============================] - 2s 41us/sample - loss: 118526144472.9348 - mean_absolute_error: 179584.5156 - val_loss: 137527130850.9390 - val_mean_absolute_error: 185635.8906\n",
            "Epoch 50/50\n",
            "56095/56095 [==============================] - 2s 40us/sample - loss: 118032917918.4740 - mean_absolute_error: 179281.2656 - val_loss: 142007454854.3525 - val_mean_absolute_error: 199305.1250\n"
          ],
          "name": "stdout"
        }
      ]
    },
    {
      "cell_type": "code",
      "metadata": {
        "id": "KGyIn-tUathX",
        "colab_type": "code",
        "outputId": "009cb65b-0661-47c4-bef0-7f41f484f605",
        "colab": {
          "base_uri": "https://localhost:8080/",
          "height": 312
        }
      },
      "source": [
        "plt.title('Без нормализации')\n",
        "plt.plot(historyd.history['mean_absolute_error'][visible:], label='MAE на обучающем наборе')\n",
        "plt.plot(historyd.history['val_mean_absolute_error'][visible:], label='MAE на проверочном наборе')\n",
        "plt.xlabel('Эпоха обучения')\n",
        "plt.ylabel('MAE')\n",
        "plt.legend()\n",
        "plt.show()\n",
        "print('Валидационная выборка: MAE: {:.0f}'.format(historyd.history['val_mean_absolute_error'][-1]))"
      ],
      "execution_count": 0,
      "outputs": [
        {
          "output_type": "display_data",
          "data": {
            "image/png": "[encoded data removed]",
            "text/plain": [
              "<Figure size 432x288 with 1 Axes>"
            ]
          },
          "metadata": {
            "tags": []
          }
        },
        {
          "output_type": "stream",
          "text": [
            "Валидационная выборка: MAE: 199305\n"
          ],
          "name": "stdout"
        }
      ]
    }
  ]
}